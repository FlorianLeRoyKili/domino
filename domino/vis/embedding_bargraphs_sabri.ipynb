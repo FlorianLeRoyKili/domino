{
 "cells": [
  {
   "cell_type": "code",
   "execution_count": 1,
   "source": [
    "%load_ext autoreload\n",
    "%autoreload 2"
   ],
   "outputs": [],
   "metadata": {}
  },
  {
   "cell_type": "code",
   "execution_count": 2,
   "source": [
    "import os\n",
    "import terra\n",
    "import meerkat as mk\n",
    "from domino.plot import generate_group_df\n",
    "import numpy as np\n",
    "import pandas as pd\n",
    "from rich import print\n",
    "\n",
    "import sys\n",
    "import seaborn as sns\n",
    "import matplotlib.pyplot as plt\n",
    "\n",
    "sys.path.insert(1,'/pd/maya/domino/domino')"
   ],
   "outputs": [
    {
     "output_type": "stream",
     "name": "stderr",
     "text": [
      "/home/sabri/code/meerkat/meerkat/nn/__init__.py:7: ExperimentalWarning: The `meerkat.nn` module is experimental and has limited test coverage. Proceed with caution.\n",
      "  warnings.warn(\n"
     ]
    }
   ],
   "metadata": {}
  },
  {
   "cell_type": "markdown",
   "source": [
    "### Plots: Section 5.2 - Embeddings"
   ],
   "metadata": {}
  },
  {
   "cell_type": "code",
   "execution_count": 3,
   "source": [
    "# df_synthetic_corr = generate_group_df(40598, 45159, \"correlation\")\n",
    "# df_synthetic_rare = generate_group_df(57203, 58676, \"rare\")\n",
    "# df_synthetic_nl = generate_group_df(63176, 64524, \"noisy_label\")\n",
    "\n",
    "# df = pd.concat([df_synthetic_corr, df_synthetic_rare, df_synthetic_nl])\n",
    "# df.head()\n",
    "df_synthetic_rare = generate_group_df(\n",
    "    score_sdms_id=77006, slice_type=\"rare\", spec_columns=[]\n",
    ")\n",
    "df_synthetic_noisy = generate_group_df(\n",
    "    score_sdms_id=77006, slice_type=\"noisy_label\", spec_columns=[]\n",
    ")\n",
    "\n",
    "\n",
    "df = pd.concat([df_synthetic_rare, df_synthetic_noisy])  # , df_synthetic_rare, df_synthetic_nl])\n",
    "df.head()\n"
   ],
   "outputs": [
    {
     "output_type": "stream",
     "name": "stderr",
     "text": [
      "/home/sabri/code/domino/domino/plot.py:54: SettingWithCopyWarning: \n",
      "A value is trying to be set on a copy of a slice from a DataFrame.\n",
      "Try using .loc[row_indexer,col_indexer] = value instead\n",
      "\n",
      "See the caveats in the documentation: https://pandas.pydata.org/pandas-docs/stable/user_guide/indexing.html#returning-a-view-versus-a-copy\n",
      "  grouped_df[\"alpha\"] = grouped_df[\"alpha\"].round(3)\n",
      "/home/sabri/code/domino/domino/plot.py:58: SettingWithCopyWarning: \n",
      "A value is trying to be set on a copy of a slice from a DataFrame.\n",
      "Try using .loc[row_indexer,col_indexer] = value instead\n",
      "\n",
      "See the caveats in the documentation: https://pandas.pydata.org/pandas-docs/stable/user_guide/indexing.html#returning-a-view-versus-a-copy\n",
      "  grouped_df[\"success\"] = coherence_metric(grouped_df)\n",
      "/home/sabri/code/domino/domino/plot.py:59: SettingWithCopyWarning: \n",
      "A value is trying to be set on a copy of a slice from a DataFrame.\n",
      "Try using .loc[row_indexer,col_indexer] = value instead\n",
      "\n",
      "See the caveats in the documentation: https://pandas.pydata.org/pandas-docs/stable/user_guide/indexing.html#returning-a-view-versus-a-copy\n",
      "  grouped_df[\"slice_type\"] = [slice_type] * len(grouped_df)\n"
     ]
    },
    {
     "output_type": "execute_result",
     "data": {
      "text/html": [
       "<div>\n",
       "<style scoped>\n",
       "    .dataframe tbody tr th:only-of-type {\n",
       "        vertical-align: middle;\n",
       "    }\n",
       "\n",
       "    .dataframe tbody tr th {\n",
       "        vertical-align: top;\n",
       "    }\n",
       "\n",
       "    .dataframe thead th {\n",
       "        text-align: right;\n",
       "    }\n",
       "</style>\n",
       "<table border=\"1\" class=\"dataframe\">\n",
       "  <thead>\n",
       "    <tr style=\"text-align: right;\">\n",
       "      <th></th>\n",
       "      <th>pred_slice_idx</th>\n",
       "      <th>slice_idx</th>\n",
       "      <th>auroc</th>\n",
       "      <th>precision_at_10</th>\n",
       "      <th>precision_at_25</th>\n",
       "      <th>precision_at_100</th>\n",
       "      <th>recall_at_50</th>\n",
       "      <th>recall_at_100</th>\n",
       "      <th>recall_at_200</th>\n",
       "      <th>recall</th>\n",
       "      <th>...</th>\n",
       "      <th>run_sdm_run_id</th>\n",
       "      <th>score_model_run_id</th>\n",
       "      <th>emb_group</th>\n",
       "      <th>alpha</th>\n",
       "      <th>sdm_class</th>\n",
       "      <th>slice_name</th>\n",
       "      <th>index</th>\n",
       "      <th>emb_type</th>\n",
       "      <th>success</th>\n",
       "      <th>slice_type</th>\n",
       "    </tr>\n",
       "  </thead>\n",
       "  <tbody>\n",
       "    <tr>\n",
       "      <th>7612</th>\n",
       "      <td>2</td>\n",
       "      <td>0</td>\n",
       "      <td>0.890639</td>\n",
       "      <td>0.2</td>\n",
       "      <td>0.16</td>\n",
       "      <td>0.09</td>\n",
       "      <td>0.222222</td>\n",
       "      <td>0.333333</td>\n",
       "      <td>0.37037</td>\n",
       "      <td>0.592593</td>\n",
       "      <td>...</td>\n",
       "      <td>72138</td>\n",
       "      <td>71078</td>\n",
       "      <td>bit</td>\n",
       "      <td>0.01</td>\n",
       "      <td>domino.sdm.confusion.ConfusionSDM</td>\n",
       "      <td>accessory.n.01</td>\n",
       "      <td>7612</td>\n",
       "      <td>bit</td>\n",
       "      <td>False</td>\n",
       "      <td>rare</td>\n",
       "    </tr>\n",
       "    <tr>\n",
       "      <th>7632</th>\n",
       "      <td>2</td>\n",
       "      <td>0</td>\n",
       "      <td>0.890639</td>\n",
       "      <td>0.2</td>\n",
       "      <td>0.16</td>\n",
       "      <td>0.09</td>\n",
       "      <td>0.222222</td>\n",
       "      <td>0.333333</td>\n",
       "      <td>0.37037</td>\n",
       "      <td>0.592593</td>\n",
       "      <td>...</td>\n",
       "      <td>72106</td>\n",
       "      <td>71078</td>\n",
       "      <td>clip</td>\n",
       "      <td>0.01</td>\n",
       "      <td>domino.sdm.confusion.ConfusionSDM</td>\n",
       "      <td>accessory.n.01</td>\n",
       "      <td>7632</td>\n",
       "      <td>clip</td>\n",
       "      <td>False</td>\n",
       "      <td>rare</td>\n",
       "    </tr>\n",
       "    <tr>\n",
       "      <th>7592</th>\n",
       "      <td>2</td>\n",
       "      <td>0</td>\n",
       "      <td>0.890639</td>\n",
       "      <td>0.2</td>\n",
       "      <td>0.16</td>\n",
       "      <td>0.09</td>\n",
       "      <td>0.222222</td>\n",
       "      <td>0.333333</td>\n",
       "      <td>0.37037</td>\n",
       "      <td>0.592593</td>\n",
       "      <td>...</td>\n",
       "      <td>72129</td>\n",
       "      <td>71078</td>\n",
       "      <td>random</td>\n",
       "      <td>0.01</td>\n",
       "      <td>domino.sdm.confusion.ConfusionSDM</td>\n",
       "      <td>accessory.n.01</td>\n",
       "      <td>7592</td>\n",
       "      <td>random</td>\n",
       "      <td>False</td>\n",
       "      <td>rare</td>\n",
       "    </tr>\n",
       "    <tr>\n",
       "      <th>41360</th>\n",
       "      <td>0</td>\n",
       "      <td>0</td>\n",
       "      <td>0.284797</td>\n",
       "      <td>0.0</td>\n",
       "      <td>0.00</td>\n",
       "      <td>0.00</td>\n",
       "      <td>0.000000</td>\n",
       "      <td>0.000000</td>\n",
       "      <td>0.00000</td>\n",
       "      <td>0.076923</td>\n",
       "      <td>...</td>\n",
       "      <td>75795</td>\n",
       "      <td>71177</td>\n",
       "      <td>bit</td>\n",
       "      <td>0.10</td>\n",
       "      <td>domino.sdm.confusion.ConfusionSDM</td>\n",
       "      <td>accessory.n.01</td>\n",
       "      <td>41360</td>\n",
       "      <td>bit</td>\n",
       "      <td>False</td>\n",
       "      <td>rare</td>\n",
       "    </tr>\n",
       "    <tr>\n",
       "      <th>41380</th>\n",
       "      <td>0</td>\n",
       "      <td>0</td>\n",
       "      <td>0.284797</td>\n",
       "      <td>0.0</td>\n",
       "      <td>0.00</td>\n",
       "      <td>0.00</td>\n",
       "      <td>0.000000</td>\n",
       "      <td>0.000000</td>\n",
       "      <td>0.00000</td>\n",
       "      <td>0.076923</td>\n",
       "      <td>...</td>\n",
       "      <td>75796</td>\n",
       "      <td>71177</td>\n",
       "      <td>clip</td>\n",
       "      <td>0.10</td>\n",
       "      <td>domino.sdm.confusion.ConfusionSDM</td>\n",
       "      <td>accessory.n.01</td>\n",
       "      <td>41380</td>\n",
       "      <td>clip</td>\n",
       "      <td>False</td>\n",
       "      <td>rare</td>\n",
       "    </tr>\n",
       "  </tbody>\n",
       "</table>\n",
       "<p>5 rows × 22 columns</p>\n",
       "</div>"
      ],
      "text/plain": [
       "       pred_slice_idx  slice_idx     auroc  precision_at_10  precision_at_25  \\\n",
       "7612                2          0  0.890639              0.2             0.16   \n",
       "7632                2          0  0.890639              0.2             0.16   \n",
       "7592                2          0  0.890639              0.2             0.16   \n",
       "41360               0          0  0.284797              0.0             0.00   \n",
       "41380               0          0  0.284797              0.0             0.00   \n",
       "\n",
       "       precision_at_100  recall_at_50  recall_at_100  recall_at_200    recall  \\\n",
       "7612               0.09      0.222222       0.333333        0.37037  0.592593   \n",
       "7632               0.09      0.222222       0.333333        0.37037  0.592593   \n",
       "7592               0.09      0.222222       0.333333        0.37037  0.592593   \n",
       "41360              0.00      0.000000       0.000000        0.00000  0.076923   \n",
       "41380              0.00      0.000000       0.000000        0.00000  0.076923   \n",
       "\n",
       "       ...  run_sdm_run_id score_model_run_id  emb_group  alpha  \\\n",
       "7612   ...           72138              71078        bit   0.01   \n",
       "7632   ...           72106              71078       clip   0.01   \n",
       "7592   ...           72129              71078     random   0.01   \n",
       "41360  ...           75795              71177        bit   0.10   \n",
       "41380  ...           75796              71177       clip   0.10   \n",
       "\n",
       "                               sdm_class      slice_name  index emb_type  \\\n",
       "7612   domino.sdm.confusion.ConfusionSDM  accessory.n.01   7612      bit   \n",
       "7632   domino.sdm.confusion.ConfusionSDM  accessory.n.01   7632     clip   \n",
       "7592   domino.sdm.confusion.ConfusionSDM  accessory.n.01   7592   random   \n",
       "41360  domino.sdm.confusion.ConfusionSDM  accessory.n.01  41360      bit   \n",
       "41380  domino.sdm.confusion.ConfusionSDM  accessory.n.01  41380     clip   \n",
       "\n",
       "      success slice_type  \n",
       "7612    False       rare  \n",
       "7632    False       rare  \n",
       "7592    False       rare  \n",
       "41360   False       rare  \n",
       "41380   False       rare  \n",
       "\n",
       "[5 rows x 22 columns]"
      ]
     },
     "metadata": {},
     "execution_count": 3
    }
   ],
   "metadata": {}
  },
  {
   "cell_type": "code",
   "execution_count": null,
   "source": [],
   "outputs": [],
   "metadata": {}
  },
  {
   "cell_type": "code",
   "execution_count": 4,
   "source": [
    "from transformers import pipeline, set_seed\n",
    "from domino.plot import *\n",
    "# df[]\n",
    "# plot_df = []\n",
    "# for slice_type in [\"rare\", \"correlation\", \"noisy_label\"]:\n",
    "#     curr_df = df.copy()\n",
    "#     curr_df[\"slice_type\"] = slice_type\n",
    "#     plot_df.append(curr_df)\n",
    "# plot_df = pd.concat(plot_df)\n",
    "plot_df = df\n",
    "sns.set_style(\"whitegrid\")\n",
    "plt.tight_layout()\n",
    "plt.figure(figsize=(5, 3))\n",
    "\n",
    "plot_df = plot_df[plot_df[\"sdm_class\"] == \"domino.sdm.gmm.MixtureModelSDM\"]\n",
    "emb_groups = plot_df[\"emb_group\"].unique()\n",
    "pallette = {\n",
    "    group: color\n",
    "    for group, color in EMB_PALETTE.items()\n",
    "    if group in emb_groups\n",
    "}\n",
    "\n",
    "sns.barplot(\n",
    "    data=plot_df,\n",
    "    y=\"precision_at_10\",\n",
    "    x=\"slice_type\",\n",
    "    hue=\"emb_group\",\n",
    "    hue_order=pallette.keys(),\n",
    "    palette=sns.color_palette(pallette.values(), 3),\n",
    ")\n",
    "sns.despine()\n",
    "plt.legend(bbox_to_anchor=(1.05, 1), loc=\"upper left\")\n",
    "# plt.savefig(\"figures/08-01_bar.pdf\")\n"
   ],
   "outputs": [
    {
     "output_type": "execute_result",
     "data": {
      "text/plain": [
       "<matplotlib.legend.Legend at 0x7fdd4041af10>"
      ]
     },
     "metadata": {},
     "execution_count": 4
    },
    {
     "output_type": "display_data",
     "data": {
      "text/plain": [
       "<Figure size 432x288 with 0 Axes>"
      ]
     },
     "metadata": {}
    },
    {
     "output_type": "display_data",
     "data": {
      "image/png": "[encoded data removed]",
      "text/plain": [
       "<Figure size 360x216 with 1 Axes>"
      ]
     },
     "metadata": {}
    }
   ],
   "metadata": {}
  },
  {
   "cell_type": "code",
   "execution_count": 39,
   "source": [
    "plot_df[\"slice_type\"]"
   ],
   "outputs": [
    {
     "output_type": "execute_result",
     "data": {
      "text/plain": [
       "7550            rare\n",
       "7571            rare\n",
       "7533            rare\n",
       "41300           rare\n",
       "41321           rare\n",
       "            ...     \n",
       "1135     noisy_label\n",
       "1095     noisy_label\n",
       "34865    noisy_label\n",
       "34885    noisy_label\n",
       "34845    noisy_label\n",
       "Name: slice_type, Length: 4320, dtype: object"
      ]
     },
     "metadata": {},
     "execution_count": 39
    }
   ],
   "metadata": {}
  },
  {
   "cell_type": "code",
   "execution_count": null,
   "source": [],
   "outputs": [],
   "metadata": {}
  }
 ],
 "metadata": {
  "kernelspec": {
   "name": "python3",
   "display_name": "Python 3.8.10 64-bit ('domino': conda)"
  },
  "language_info": {
   "codemirror_mode": {
    "name": "ipython",
    "version": 3
   },
   "file_extension": ".py",
   "mimetype": "text/x-python",
   "name": "python",
   "nbconvert_exporter": "python",
   "pygments_lexer": "ipython3",
   "version": "3.8.10"
  },
  "interpreter": {
   "hash": "0d937a63d09daec3f9548a5c769ccb20edb9c2c1ae2375686b21850f577713d2"
  }
 },
 "nbformat": 4,
 "nbformat_minor": 5
}