{
 "cells": [
  {
   "cell_type": "code",
   "execution_count": 1,
   "metadata": {},
   "outputs": [],
   "source": [
    "%load_ext autoreload\n",
    "%autoreload 2\n"
   ]
  },
  {
   "cell_type": "code",
   "execution_count": 21,
   "metadata": {},
   "outputs": [],
   "source": [
    "from domino.evaluate import score_sdms, run_sdms, score_sdm_explanations\n",
    "import seaborn as sns\n",
    "import matplotlib.pyplot as plt\n",
    "import numpy as np"
   ]
  },
  {
   "cell_type": "code",
   "execution_count": 3,
   "metadata": {},
   "outputs": [
    {
     "data": {
      "text/html": [
       "<div>\n",
       "<style scoped>\n",
       "    .dataframe tbody tr th:only-of-type {\n",
       "        vertical-align: middle;\n",
       "    }\n",
       "\n",
       "    .dataframe tbody tr th {\n",
       "        vertical-align: top;\n",
       "    }\n",
       "\n",
       "    .dataframe thead th {\n",
       "        text-align: right;\n",
       "    }\n",
       "</style>\n",
       "<table border=\"1\" class=\"dataframe\">\n",
       "  <thead>\n",
       "    <tr style=\"text-align: right;\">\n",
       "      <th></th>\n",
       "      <th>pred_slice_idx</th>\n",
       "      <th>slice_idx</th>\n",
       "      <th>auroc</th>\n",
       "      <th>precision_at_10</th>\n",
       "      <th>precision_at_25</th>\n",
       "      <th>precision_at_100</th>\n",
       "      <th>recall_at_50</th>\n",
       "      <th>recall_at_100</th>\n",
       "      <th>recall_at_200</th>\n",
       "      <th>recall</th>\n",
       "      <th>precision</th>\n",
       "      <th>target_name</th>\n",
       "      <th>run_sdm_run_id</th>\n",
       "      <th>slice_name</th>\n",
       "    </tr>\n",
       "  </thead>\n",
       "  <tbody>\n",
       "    <tr>\n",
       "      <th>0</th>\n",
       "      <td>0</td>\n",
       "      <td>0</td>\n",
       "      <td>0.828560</td>\n",
       "      <td>0.2</td>\n",
       "      <td>0.08</td>\n",
       "      <td>0.10</td>\n",
       "      <td>0.032609</td>\n",
       "      <td>0.108696</td>\n",
       "      <td>0.195652</td>\n",
       "      <td>0.065217</td>\n",
       "      <td>0.027907</td>\n",
       "      <td>vehicle.n.01</td>\n",
       "      <td>81082</td>\n",
       "      <td>tractor.n.01</td>\n",
       "    </tr>\n",
       "    <tr>\n",
       "      <th>1</th>\n",
       "      <td>1</td>\n",
       "      <td>0</td>\n",
       "      <td>0.224984</td>\n",
       "      <td>0.0</td>\n",
       "      <td>0.00</td>\n",
       "      <td>0.00</td>\n",
       "      <td>0.000000</td>\n",
       "      <td>0.000000</td>\n",
       "      <td>0.000000</td>\n",
       "      <td>0.000000</td>\n",
       "      <td>0.000000</td>\n",
       "      <td>vehicle.n.01</td>\n",
       "      <td>81082</td>\n",
       "      <td>tractor.n.01</td>\n",
       "    </tr>\n",
       "    <tr>\n",
       "      <th>2</th>\n",
       "      <td>2</td>\n",
       "      <td>0</td>\n",
       "      <td>0.233245</td>\n",
       "      <td>0.0</td>\n",
       "      <td>0.00</td>\n",
       "      <td>0.00</td>\n",
       "      <td>0.000000</td>\n",
       "      <td>0.000000</td>\n",
       "      <td>0.000000</td>\n",
       "      <td>0.000000</td>\n",
       "      <td>0.000000</td>\n",
       "      <td>vehicle.n.01</td>\n",
       "      <td>81082</td>\n",
       "      <td>tractor.n.01</td>\n",
       "    </tr>\n",
       "    <tr>\n",
       "      <th>3</th>\n",
       "      <td>3</td>\n",
       "      <td>0</td>\n",
       "      <td>0.204484</td>\n",
       "      <td>0.0</td>\n",
       "      <td>0.00</td>\n",
       "      <td>0.00</td>\n",
       "      <td>0.000000</td>\n",
       "      <td>0.000000</td>\n",
       "      <td>0.000000</td>\n",
       "      <td>0.000000</td>\n",
       "      <td>0.000000</td>\n",
       "      <td>vehicle.n.01</td>\n",
       "      <td>81082</td>\n",
       "      <td>tractor.n.01</td>\n",
       "    </tr>\n",
       "    <tr>\n",
       "      <th>4</th>\n",
       "      <td>4</td>\n",
       "      <td>0</td>\n",
       "      <td>0.832699</td>\n",
       "      <td>0.3</td>\n",
       "      <td>0.20</td>\n",
       "      <td>0.10</td>\n",
       "      <td>0.076087</td>\n",
       "      <td>0.108696</td>\n",
       "      <td>0.206522</td>\n",
       "      <td>0.934783</td>\n",
       "      <td>0.030880</td>\n",
       "      <td>vehicle.n.01</td>\n",
       "      <td>81082</td>\n",
       "      <td>tractor.n.01</td>\n",
       "    </tr>\n",
       "    <tr>\n",
       "      <th>...</th>\n",
       "      <td>...</td>\n",
       "      <td>...</td>\n",
       "      <td>...</td>\n",
       "      <td>...</td>\n",
       "      <td>...</td>\n",
       "      <td>...</td>\n",
       "      <td>...</td>\n",
       "      <td>...</td>\n",
       "      <td>...</td>\n",
       "      <td>...</td>\n",
       "      <td>...</td>\n",
       "      <td>...</td>\n",
       "      <td>...</td>\n",
       "      <td>...</td>\n",
       "    </tr>\n",
       "    <tr>\n",
       "      <th>11815</th>\n",
       "      <td>0</td>\n",
       "      <td>0</td>\n",
       "      <td>0.115243</td>\n",
       "      <td>0.0</td>\n",
       "      <td>0.00</td>\n",
       "      <td>0.00</td>\n",
       "      <td>0.000000</td>\n",
       "      <td>0.000000</td>\n",
       "      <td>0.000000</td>\n",
       "      <td>0.000000</td>\n",
       "      <td>0.000000</td>\n",
       "      <td>timepiece.n.01</td>\n",
       "      <td>82221</td>\n",
       "      <td>watch.n.01</td>\n",
       "    </tr>\n",
       "    <tr>\n",
       "      <th>11816</th>\n",
       "      <td>1</td>\n",
       "      <td>0</td>\n",
       "      <td>0.097091</td>\n",
       "      <td>0.0</td>\n",
       "      <td>0.00</td>\n",
       "      <td>0.00</td>\n",
       "      <td>0.000000</td>\n",
       "      <td>0.000000</td>\n",
       "      <td>0.000000</td>\n",
       "      <td>0.000000</td>\n",
       "      <td>0.000000</td>\n",
       "      <td>timepiece.n.01</td>\n",
       "      <td>82221</td>\n",
       "      <td>watch.n.01</td>\n",
       "    </tr>\n",
       "    <tr>\n",
       "      <th>11817</th>\n",
       "      <td>2</td>\n",
       "      <td>0</td>\n",
       "      <td>0.838045</td>\n",
       "      <td>0.0</td>\n",
       "      <td>0.04</td>\n",
       "      <td>0.06</td>\n",
       "      <td>0.029851</td>\n",
       "      <td>0.089552</td>\n",
       "      <td>0.179104</td>\n",
       "      <td>1.000000</td>\n",
       "      <td>0.035619</td>\n",
       "      <td>timepiece.n.01</td>\n",
       "      <td>82221</td>\n",
       "      <td>watch.n.01</td>\n",
       "    </tr>\n",
       "    <tr>\n",
       "      <th>11818</th>\n",
       "      <td>3</td>\n",
       "      <td>0</td>\n",
       "      <td>0.082260</td>\n",
       "      <td>0.0</td>\n",
       "      <td>0.00</td>\n",
       "      <td>0.00</td>\n",
       "      <td>0.000000</td>\n",
       "      <td>0.000000</td>\n",
       "      <td>0.000000</td>\n",
       "      <td>0.000000</td>\n",
       "      <td>0.000000</td>\n",
       "      <td>timepiece.n.01</td>\n",
       "      <td>82221</td>\n",
       "      <td>watch.n.01</td>\n",
       "    </tr>\n",
       "    <tr>\n",
       "      <th>11819</th>\n",
       "      <td>4</td>\n",
       "      <td>0</td>\n",
       "      <td>0.169777</td>\n",
       "      <td>0.0</td>\n",
       "      <td>0.00</td>\n",
       "      <td>0.00</td>\n",
       "      <td>0.000000</td>\n",
       "      <td>0.000000</td>\n",
       "      <td>0.000000</td>\n",
       "      <td>0.000000</td>\n",
       "      <td>0.000000</td>\n",
       "      <td>timepiece.n.01</td>\n",
       "      <td>82221</td>\n",
       "      <td>watch.n.01</td>\n",
       "    </tr>\n",
       "  </tbody>\n",
       "</table>\n",
       "<p>11820 rows × 14 columns</p>\n",
       "</div>"
      ],
      "text/plain": [
       "       pred_slice_idx  slice_idx     auroc  precision_at_10  precision_at_25  \\\n",
       "0                   0          0  0.828560              0.2             0.08   \n",
       "1                   1          0  0.224984              0.0             0.00   \n",
       "2                   2          0  0.233245              0.0             0.00   \n",
       "3                   3          0  0.204484              0.0             0.00   \n",
       "4                   4          0  0.832699              0.3             0.20   \n",
       "...               ...        ...       ...              ...              ...   \n",
       "11815               0          0  0.115243              0.0             0.00   \n",
       "11816               1          0  0.097091              0.0             0.00   \n",
       "11817               2          0  0.838045              0.0             0.04   \n",
       "11818               3          0  0.082260              0.0             0.00   \n",
       "11819               4          0  0.169777              0.0             0.00   \n",
       "\n",
       "       precision_at_100  recall_at_50  recall_at_100  recall_at_200    recall  \\\n",
       "0                  0.10      0.032609       0.108696       0.195652  0.065217   \n",
       "1                  0.00      0.000000       0.000000       0.000000  0.000000   \n",
       "2                  0.00      0.000000       0.000000       0.000000  0.000000   \n",
       "3                  0.00      0.000000       0.000000       0.000000  0.000000   \n",
       "4                  0.10      0.076087       0.108696       0.206522  0.934783   \n",
       "...                 ...           ...            ...            ...       ...   \n",
       "11815              0.00      0.000000       0.000000       0.000000  0.000000   \n",
       "11816              0.00      0.000000       0.000000       0.000000  0.000000   \n",
       "11817              0.06      0.029851       0.089552       0.179104  1.000000   \n",
       "11818              0.00      0.000000       0.000000       0.000000  0.000000   \n",
       "11819              0.00      0.000000       0.000000       0.000000  0.000000   \n",
       "\n",
       "       precision     target_name  run_sdm_run_id    slice_name  \n",
       "0       0.027907    vehicle.n.01           81082  tractor.n.01  \n",
       "1       0.000000    vehicle.n.01           81082  tractor.n.01  \n",
       "2       0.000000    vehicle.n.01           81082  tractor.n.01  \n",
       "3       0.000000    vehicle.n.01           81082  tractor.n.01  \n",
       "4       0.030880    vehicle.n.01           81082  tractor.n.01  \n",
       "...          ...             ...             ...           ...  \n",
       "11815   0.000000  timepiece.n.01           82221    watch.n.01  \n",
       "11816   0.000000  timepiece.n.01           82221    watch.n.01  \n",
       "11817   0.035619  timepiece.n.01           82221    watch.n.01  \n",
       "11818   0.000000  timepiece.n.01           82221    watch.n.01  \n",
       "11819   0.000000  timepiece.n.01           82221    watch.n.01  \n",
       "\n",
       "[11820 rows x 14 columns]"
      ]
     },
     "execution_count": 3,
     "metadata": {},
     "output_type": "execute_result"
    }
   ],
   "source": [
    "out = score_sdm_explanations.out(117237)\n",
    "out.load()"
   ]
  },
  {
   "cell_type": "code",
   "execution_count": 4,
   "metadata": {},
   "outputs": [
    {
     "name": "stderr",
     "output_type": "stream",
     "text": [
      "[2021-10-03 20:30:46,044][WARNING][pip._internal.metadata.base:105] :: Ignoring invalid distribution -ay (/pd/common/envs/conda/envs/domino/lib/python3.8/site-packages)\n"
     ]
    },
    {
     "name": "stdout",
     "output_type": "stream",
     "text": [
      "task: score_sdm_explanations, run_id=118991\n"
     ]
    },
    {
     "name": "stderr",
     "output_type": "stream",
     "text": [
      "100%|████████████████████████████████████████████████████████████████████████████████████████████████████████████████████████████████████████████████████████████████████████████████████████████████████████████████████████████████████████████████████████| 2364/2364 [00:42<00:00, 55.70it/s]\n"
     ]
    }
   ],
   "source": [
    "out = score_sdm_explanations(setting_dp=run_sdms.out(81039), skip_terra_cache=True)"
   ]
  },
  {
   "cell_type": "code",
   "execution_count": 7,
   "metadata": {},
   "outputs": [
    {
     "name": "stderr",
     "output_type": "stream",
     "text": [
      "/home/sabri/code/domino/domino/plot.py:241: SettingWithCopyWarning: \n",
      "A value is trying to be set on a copy of a slice from a DataFrame.\n",
      "Try using .loc[row_indexer,col_indexer] = value instead\n",
      "\n",
      "See the caveats in the documentation: https://pandas.pydata.org/pandas-docs/stable/user_guide/indexing.html#returning-a-view-versus-a-copy\n",
      "  grouped_df[\"alpha\"] = grouped_df[\"alpha\"].round(3)\n"
     ]
    }
   ],
   "source": [
    "from domino.plot import generate_expl_group_df\n",
    "df = generate_expl_group_df(118991, metric=\"max_reciprocal_rank\")"
   ]
  },
  {
   "cell_type": "code",
   "execution_count": 15,
   "metadata": {},
   "outputs": [
    {
     "ename": "AttributeError",
     "evalue": "module 'matplotlib.pyplot' has no attribute 'xsclae'",
     "output_type": "error",
     "traceback": [
      "\u001b[0;31m---------------------------------------------------------------------------\u001b[0m",
      "\u001b[0;31mAttributeError\u001b[0m                            Traceback (most recent call last)",
      "\u001b[0;32m/tmp/ipykernel_562305/556565093.py\u001b[0m in \u001b[0;36m<module>\u001b[0;34m\u001b[0m\n\u001b[1;32m      1\u001b[0m \u001b[0msns\u001b[0m\u001b[0;34m.\u001b[0m\u001b[0mdisplot\u001b[0m\u001b[0;34m(\u001b[0m\u001b[0mdata\u001b[0m\u001b[0;34m=\u001b[0m\u001b[0mdf\u001b[0m\u001b[0;34m[\u001b[0m\u001b[0mdf\u001b[0m\u001b[0;34m[\u001b[0m\u001b[0;34m\"emb_group\"\u001b[0m\u001b[0;34m]\u001b[0m \u001b[0;34m==\u001b[0m \u001b[0;34m\"clip\"\u001b[0m\u001b[0;34m]\u001b[0m\u001b[0;34m,\u001b[0m \u001b[0mx\u001b[0m\u001b[0;34m=\u001b[0m\u001b[0;34m\"min_rank\"\u001b[0m\u001b[0;34m)\u001b[0m\u001b[0;34m\u001b[0m\u001b[0;34m\u001b[0m\u001b[0m\n\u001b[1;32m      2\u001b[0m \u001b[0mplt\u001b[0m\u001b[0;34m.\u001b[0m\u001b[0myscale\u001b[0m\u001b[0;34m(\u001b[0m\u001b[0;34m\"log\"\u001b[0m\u001b[0;34m)\u001b[0m\u001b[0;34m\u001b[0m\u001b[0;34m\u001b[0m\u001b[0m\n\u001b[0;32m----> 3\u001b[0;31m \u001b[0mplt\u001b[0m\u001b[0;34m.\u001b[0m\u001b[0mxsclae\u001b[0m\u001b[0;34m(\u001b[0m\u001b[0;34m\"log\"\u001b[0m\u001b[0;34m)\u001b[0m\u001b[0;34m\u001b[0m\u001b[0;34m\u001b[0m\u001b[0m\n\u001b[0m",
      "\u001b[0;31mAttributeError\u001b[0m: module 'matplotlib.pyplot' has no attribute 'xsclae'"
     ]
    },
    {
     "data": {
      "image/png": "[encoded data removed]",
      "text/plain": [
       "<Figure size 360x360 with 1 Axes>"
      ]
     },
     "metadata": {
      "needs_background": "light"
     },
     "output_type": "display_data"
    }
   ],
   "source": [
    "sns.displot(data=df[df[\"emb_group\"] == \"clip\"], x=\"min_rank\")\n",
    "plt.yscale(\"log\")\n",
    "plt.xsclae(\"log\")"
   ]
  },
  {
   "cell_type": "code",
   "execution_count": 34,
   "metadata": {},
   "outputs": [],
   "source": [
    "from scipy import stats\n",
    "res = stats.cumfreq(df[\"min_rank\"], numbins=100)"
   ]
  },
  {
   "cell_type": "code",
   "execution_count": 35,
   "metadata": {},
   "outputs": [
    {
     "data": {
      "text/plain": [
       "array([339., 382., 414., 431., 447., 458., 466., 470., 483., 489., 495.,\n",
       "       498., 501., 502., 506., 508., 514., 516., 520., 521., 524., 525.,\n",
       "       527., 528., 530., 531., 531., 534., 534., 534., 534., 534., 534.,\n",
       "       535., 536., 536., 536., 537., 541., 541., 542., 543., 543., 545.,\n",
       "       545., 545., 546., 546., 547., 549., 552., 553., 553., 555., 556.,\n",
       "       557., 558., 559., 559., 559., 559., 559., 560., 560., 560., 560.,\n",
       "       560., 560., 561., 562., 562., 563., 563., 563., 565., 565., 565.,\n",
       "       565., 565., 565., 566., 566., 567., 567., 567., 567., 567., 567.,\n",
       "       567., 567., 567., 567., 567., 567., 567., 567., 568., 568., 569.,\n",
       "       570.])"
      ]
     },
     "execution_count": 35,
     "metadata": {},
     "output_type": "execute_result"
    }
   ],
   "source": [
    "res.cumcount"
   ]
  },
  {
   "cell_type": "code",
   "execution_count": 36,
   "metadata": {},
   "outputs": [
    {
     "data": {
      "text/plain": [
       "[<matplotlib.lines.Line2D at 0x7f8ce3135ac0>]"
      ]
     },
     "execution_count": 36,
     "metadata": {},
     "output_type": "execute_result"
    },
    {
     "data": {
      "image/png": "[encoded data removed]",
      "text/plain": [
       "<Figure size 432x288 with 1 Axes>"
      ]
     },
     "metadata": {
      "needs_background": "light"
     },
     "output_type": "display_data"
    }
   ],
   "source": [
    "plt.plot(np.arange(len(res.cumcount)), res.cumcount)"
   ]
  },
  {
   "cell_type": "code",
   "execution_count": 32,
   "metadata": {},
   "outputs": [
    {
     "data": {
      "text/plain": [
       "570"
      ]
     },
     "execution_count": 32,
     "metadata": {},
     "output_type": "execute_result"
    }
   ],
   "source": [
    "len(df)"
   ]
  },
  {
   "cell_type": "code",
   "execution_count": 33,
   "metadata": {},
   "outputs": [
    {
     "data": {
      "text/plain": [
       "CumfreqResult(cumcount=array([458., 514., 534., 541., 549., 559., 563., 567., 567., 570.]), lowerlimit=-543.0, binsize=1088.0, extrapoints=0)"
      ]
     },
     "execution_count": 33,
     "metadata": {},
     "output_type": "execute_result"
    }
   ],
   "source": [
    "res"
   ]
  },
  {
   "cell_type": "code",
   "execution_count": 75,
   "metadata": {},
   "outputs": [],
   "source": [
    "hist = np.histogram(df[\"min_rank\"], bins=[1, 2,3,4,5,6,7,8,9,10,11, df[\"min_rank\"].max()])"
   ]
  },
  {
   "cell_type": "code",
   "execution_count": 79,
   "metadata": {},
   "outputs": [
    {
     "data": {
      "text/plain": [
       "Text(0.5, 0, 'Minimum Rank of Slice Synonym')"
      ]
     },
     "execution_count": 79,
     "metadata": {},
     "output_type": "execute_result"
    },
    {
     "data": {
      "image/png": "[encoded data removed]",
      "text/plain": [
       "<Figure size 432x288 with 1 Axes>"
      ]
     },
     "metadata": {
      "needs_background": "light"
     },
     "output_type": "display_data"
    }
   ],
   "source": [
    "\n",
    "sns.barplot(x=[fr\"$\\leq{x}$\" for x in hist[1][:-2]], y=hist[0][:-1] /len(df))\n",
    "sns.despine()\n",
    "plt.ylabel(\"Fraction of settings\")\n",
    "plt.xlabel(\"Minimum Rank of Slice Synonym\")"
   ]
  },
  {
   "cell_type": "code",
   "execution_count": 73,
   "metadata": {},
   "outputs": [
    {
     "data": {
      "text/plain": [
       "(array([152,  37,  18,  15,   6,   6,   9,   6,   6,  51, 264]),\n",
       " array([   1,    2,    3,    4,    5,    6,    7,    8,    9,   10,   25,\n",
       "        9793]))"
      ]
     },
     "execution_count": 73,
     "metadata": {},
     "output_type": "execute_result"
    }
   ],
   "source": [
    "hist"
   ]
  },
  {
   "cell_type": "code",
   "execution_count": null,
   "metadata": {},
   "outputs": [],
   "source": []
  }
 ],
 "metadata": {
  "interpreter": {
   "hash": "0d937a63d09daec3f9548a5c769ccb20edb9c2c1ae2375686b21850f577713d2"
  },
  "kernelspec": {
   "display_name": "Python 3 (ipykernel)",
   "language": "python",
   "name": "python3"
  },
  "language_info": {
   "codemirror_mode": {
    "name": "ipython",
    "version": 3
   },
   "file_extension": ".py",
   "mimetype": "text/x-python",
   "name": "python",
   "nbconvert_exporter": "python",
   "pygments_lexer": "ipython3",
   "version": "3.8.10"
  }
 },
 "nbformat": 4,
 "nbformat_minor": 4
}
