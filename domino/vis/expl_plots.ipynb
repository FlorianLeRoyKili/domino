{
 "cells": [
  {
   "cell_type": "code",
   "execution_count": 73,
   "metadata": {},
   "outputs": [
    {
     "name": "stdout",
     "output_type": "stream",
     "text": [
      "The autoreload extension is already loaded. To reload it, use:\n",
      "  %reload_ext autoreload\n"
     ]
    }
   ],
   "source": [
    "%load_ext autoreload\n",
    "%autoreload 2\n",
    "import pandas as pd"
   ]
  },
  {
   "cell_type": "code",
   "execution_count": 74,
   "metadata": {},
   "outputs": [],
   "source": [
    "from domino.evaluate import score_sdms, run_sdms, run_sdm, score_sdm_explanations, run_sdm_explanations\n",
    "import seaborn as sns\n",
    "import pandas as pd\n",
    "import matplotlib.pyplot as plt\n",
    "import numpy as np"
   ]
  },
  {
   "cell_type": "code",
   "execution_count": 75,
   "metadata": {},
   "outputs": [
    {
     "data": {
      "text/plain": [
       "{'setting_dp': Artifact(id=657722, run_id=90506, type=<class 'meerkat.datapanel.DataPanel'>),\n",
       " 'spec_columns': ['emb_group', 'alpha', 'sdm_class']}"
      ]
     },
     "execution_count": 75,
     "metadata": {},
     "output_type": "execute_result"
    }
   ],
   "source": [
    "score_sdms.inp(94854)"
   ]
  },
  {
   "cell_type": "code",
   "execution_count": 81,
   "metadata": {},
   "outputs": [
    {
     "name": "stderr",
     "output_type": "stream",
     "text": [
      "[nltk_data] Downloading package punkt to /root/nltk_data...\n",
      "[nltk_data]   Package punkt is already up-to-date!\n",
      " 41%|█████████████████████████████████████████████████████████████                                                                                        | 95/232 [05:38<06:36,  2.90s/it]/home/sabri/code/domino/domino/sdm/abstract.py:48: RuntimeWarning: invalid value encountered in true_divide\n",
      "  np.dot(data_dp[\"pred_slices\"].T, data_dp[self.config.xmodal_emb])\n",
      " 42%|██████████████████████████████████████████████████████████████▉                                                                                      | 98/232 [05:48<07:30,  3.36s/it]/home/sabri/code/domino/domino/sdm/abstract.py:48: RuntimeWarning: invalid value encountered in true_divide\n",
      "  np.dot(data_dp[\"pred_slices\"].T, data_dp[self.config.xmodal_emb])\n",
      " 46%|███████████████████████████████████████████████████████████████████▌                                                                                | 106/232 [06:16<07:24,  3.52s/it]/home/sabri/code/domino/domino/sdm/abstract.py:48: RuntimeWarning: invalid value encountered in true_divide\n",
      "  np.dot(data_dp[\"pred_slices\"].T, data_dp[self.config.xmodal_emb])\n",
      "100%|████████████████████████████████████████████████████████████████████████████████████████████████████████████████████████████████████████████████████| 232/232 [13:43<00:00,  3.55s/it]\n"
     ]
    }
   ],
   "source": [
    "run_id = 71729\n",
    "out = run_sdm_explanations(\n",
    "    setting_dp=run_sdms.out(run_id).load(), \n",
    "    xmodal_emb_dp=run_sdms.inp(run_id)[\"xmodal_emb_dp\"].load(),  \n",
    "    word_dp=run_sdms.inp(run_id)[\"word_dp\"].load(),\n",
    ")"
   ]
  },
  {
   "cell_type": "code",
   "execution_count": 53,
   "metadata": {},
   "outputs": [
    {
     "name": "stdout",
     "output_type": "stream",
     "text": [
      "task: score_sdm_explanations, run_id=122560\n"
     ]
    },
    {
     "name": "stderr",
     "output_type": "stream",
     "text": [
      "100%|████████████████████████████████████████████████████████████████████████████████████████████████████████████████████████████████████████████████████████████████████████████████████████████████████████████████████████████████████████████████████████| 3480/3480 [03:15<00:00, 17.80it/s]\n"
     ]
    }
   ],
   "source": [
    "out = score_sdm_explanations(setting_dp=run_sdms.out(71729), skip_terra_cache=True)"
   ]
  },
  {
   "cell_type": "code",
   "execution_count": 56,
   "metadata": {},
   "outputs": [
    {
     "name": "stderr",
     "output_type": "stream",
     "text": [
      "/home/sabri/code/domino/domino/plot.py:242: SettingWithCopyWarning: \n",
      "A value is trying to be set on a copy of a slice from a DataFrame.\n",
      "Try using .loc[row_indexer,col_indexer] = value instead\n",
      "\n",
      "See the caveats in the documentation: https://pandas.pydata.org/pandas-docs/stable/user_guide/indexing.html#returning-a-view-versus-a-copy\n",
      "  grouped_df[\"alpha\"] = grouped_df[\"alpha\"].round(3)\n"
     ]
    },
    {
     "data": {
      "image/png": "[encoded data removed]",
      "text/plain": [
       "<Figure size 432x288 with 1 Axes>"
      ]
     },
     "metadata": {
      "needs_background": "light"
     },
     "output_type": "display_data"
    }
   ],
   "source": [
    "from domino.plot import expl_plot\n",
    "expl_plot([121148, 122560])"
   ]
  },
  {
   "cell_type": "code",
   "execution_count": 33,
   "metadata": {},
   "outputs": [
    {
     "name": "stderr",
     "output_type": "stream",
     "text": [
      "/home/sabri/code/domino/domino/plot.py:241: SettingWithCopyWarning: \n",
      "A value is trying to be set on a copy of a slice from a DataFrame.\n",
      "Try using .loc[row_indexer,col_indexer] = value instead\n",
      "\n",
      "See the caveats in the documentation: https://pandas.pydata.org/pandas-docs/stable/user_guide/indexing.html#returning-a-view-versus-a-copy\n",
      "  grouped_df[\"alpha\"] = grouped_df[\"alpha\"].round(3)\n"
     ]
    }
   ],
   "source": [
    "from domino.plot import generate_expl_group_df\n",
    "df = generate_expl_group_df(121148, metric=\"max_reciprocal_rank\")"
   ]
  },
  {
   "cell_type": "code",
   "execution_count": 21,
   "metadata": {},
   "outputs": [],
   "source": [
    "hist = np.histogram(df[\"min_rank\"], bins=[1, 2,3,4,5,6,7,8,9,10,11, df[\"min_rank\"].max()])"
   ]
  },
  {
   "cell_type": "code",
   "execution_count": 22,
   "metadata": {},
   "outputs": [
    {
     "data": {
      "text/plain": [
       "Text(0.5, 0, 'Minimum Rank of Slice Synonym')"
      ]
     },
     "execution_count": 22,
     "metadata": {},
     "output_type": "execute_result"
    },
    {
     "data": {
      "image/png": "[encoded data removed]",
      "text/plain": [
       "<Figure size 432x288 with 1 Axes>"
      ]
     },
     "metadata": {
      "needs_background": "light"
     },
     "output_type": "display_data"
    }
   ],
   "source": [
    "\n",
    "sns.barplot(x=[fr\"$\\leq{x}$\" for x in hist[1][:-2]], y=np.cumsum(hist[0][:-1]) /len(df))\n",
    "sns.despine()\n",
    "plt.ylabel(\"Fraction of settings\")\n",
    "plt.xlabel(\"Minimum Rank of Slice Synonym\")"
   ]
  },
  {
   "cell_type": "code",
   "execution_count": 40,
   "metadata": {},
   "outputs": [],
   "source": [
    "rows = []\n",
    "for emb_group in df[\"emb_group\"].unique():\n",
    "    curr_df = df[df[\"emb_group\"] == emb_group]\n",
    "    hist = np.histogram(curr_df[\"min_rank\"], bins=[1, 2,3,4,5,6,7,8,9,10,11, curr_df[\"min_rank\"].max()])\n",
    "    fracs = np.cumsum(hist[0][:-1]) /len(curr_df)\n",
    "    bins = hist[1][:-2]\n",
    "    rows.extend([\n",
    "        {\"frac\": frac, \"bin\": bin_end, \"emb_group\": emb_group} for frac, bin_end in zip(fracs, bins)\n",
    "    ])\n",
    "plot_df = pd.DataFrame(rows)"
   ]
  },
  {
   "cell_type": "code",
   "execution_count": 41,
   "metadata": {},
   "outputs": [
    {
     "data": {
      "text/plain": [
       "<AxesSubplot:xlabel='bin', ylabel='frac'>"
      ]
     },
     "execution_count": 41,
     "metadata": {},
     "output_type": "execute_result"
    },
    {
     "data": {
      "image/png": "[encoded data removed]",
      "text/plain": [
       "<Figure size 432x288 with 1 Axes>"
      ]
     },
     "metadata": {
      "needs_background": "light"
     },
     "output_type": "display_data"
    }
   ],
   "source": [
    "sns.pointplot(data=plot_df, x=\"bin\", y=\"frac\", hue=\"emb_group\")"
   ]
  },
  {
   "cell_type": "code",
   "execution_count": 27,
   "metadata": {},
   "outputs": [
    {
     "data": {
      "text/plain": [
       "(array([66, 16,  3, 10,  4,  1,  1,  2,  3,  3, 81]),\n",
       " array([   1,    2,    3,    4,    5,    6,    7,    8,    9,   10,   11,\n",
       "        9699]))"
      ]
     },
     "execution_count": 27,
     "metadata": {},
     "output_type": "execute_result"
    }
   ],
   "source": [
    "hist"
   ]
  },
  {
   "cell_type": "code",
   "execution_count": 42,
   "metadata": {},
   "outputs": [
    {
     "data": {
      "text/html": [
       "<div>\n",
       "<style scoped>\n",
       "    .dataframe tbody tr th:only-of-type {\n",
       "        vertical-align: middle;\n",
       "    }\n",
       "\n",
       "    .dataframe tbody tr th {\n",
       "        vertical-align: top;\n",
       "    }\n",
       "\n",
       "    .dataframe thead th {\n",
       "        text-align: right;\n",
       "    }\n",
       "</style>\n",
       "<table border=\"1\" class=\"dataframe\">\n",
       "  <thead>\n",
       "    <tr style=\"text-align: right;\">\n",
       "      <th></th>\n",
       "      <th>run_sdm_run_id</th>\n",
       "      <th>pred_slice_idx</th>\n",
       "      <th>slice_idx</th>\n",
       "      <th>slice_name</th>\n",
       "      <th>slice_synset</th>\n",
       "      <th>mean_reciprocal_rank</th>\n",
       "      <th>max_reciprocal_rank</th>\n",
       "      <th>mean_rank</th>\n",
       "      <th>min_rank</th>\n",
       "      <th>min_rank_lemma</th>\n",
       "      <th>target_name</th>\n",
       "      <th>index</th>\n",
       "      <th>emb_group</th>\n",
       "      <th>alpha</th>\n",
       "      <th>sdm_class</th>\n",
       "      <th>slice_category</th>\n",
       "    </tr>\n",
       "  </thead>\n",
       "  <tbody>\n",
       "    <tr>\n",
       "      <th>7766</th>\n",
       "      <td>81434</td>\n",
       "      <td>3</td>\n",
       "      <td>0</td>\n",
       "      <td>accessory.n.01</td>\n",
       "      <td>accessory.n.01</td>\n",
       "      <td>0.018868</td>\n",
       "      <td>0.018868</td>\n",
       "      <td>53.0</td>\n",
       "      <td>53</td>\n",
       "      <td>accessory</td>\n",
       "      <td>clothing.n.01</td>\n",
       "      <td>3863</td>\n",
       "      <td>bit</td>\n",
       "      <td>0.03</td>\n",
       "      <td>domino.sdm.gmm.MixtureModelSDM</td>\n",
       "      <td>rare</td>\n",
       "    </tr>\n",
       "    <tr>\n",
       "      <th>7782</th>\n",
       "      <td>81439</td>\n",
       "      <td>1</td>\n",
       "      <td>0</td>\n",
       "      <td>accessory.n.01</td>\n",
       "      <td>accessory.n.01</td>\n",
       "      <td>0.111111</td>\n",
       "      <td>0.111111</td>\n",
       "      <td>9.0</td>\n",
       "      <td>9</td>\n",
       "      <td>accessory</td>\n",
       "      <td>clothing.n.01</td>\n",
       "      <td>3866</td>\n",
       "      <td>clip</td>\n",
       "      <td>0.03</td>\n",
       "      <td>domino.sdm.gmm.MixtureModelSDM</td>\n",
       "      <td>rare</td>\n",
       "    </tr>\n",
       "    <tr>\n",
       "      <th>7684</th>\n",
       "      <td>81368</td>\n",
       "      <td>2</td>\n",
       "      <td>0</td>\n",
       "      <td>accessory.n.01</td>\n",
       "      <td>accessory.n.01</td>\n",
       "      <td>0.000374</td>\n",
       "      <td>0.000374</td>\n",
       "      <td>2672.0</td>\n",
       "      <td>2672</td>\n",
       "      <td>accessory</td>\n",
       "      <td>clothing.n.01</td>\n",
       "      <td>3842</td>\n",
       "      <td>random</td>\n",
       "      <td>0.03</td>\n",
       "      <td>domino.sdm.gmm.MixtureModelSDM</td>\n",
       "      <td>rare</td>\n",
       "    </tr>\n",
       "    <tr>\n",
       "      <th>12086</th>\n",
       "      <td>81692</td>\n",
       "      <td>3</td>\n",
       "      <td>0</td>\n",
       "      <td>accordion.n.01</td>\n",
       "      <td>accordion.n.01</td>\n",
       "      <td>1.000000</td>\n",
       "      <td>1.000000</td>\n",
       "      <td>1.0</td>\n",
       "      <td>1</td>\n",
       "      <td>accordion</td>\n",
       "      <td>musical_instrument.n.01</td>\n",
       "      <td>6023</td>\n",
       "      <td>bit</td>\n",
       "      <td>0.03</td>\n",
       "      <td>domino.sdm.gmm.MixtureModelSDM</td>\n",
       "      <td>rare</td>\n",
       "    </tr>\n",
       "    <tr>\n",
       "      <th>12040</th>\n",
       "      <td>81619</td>\n",
       "      <td>0</td>\n",
       "      <td>0</td>\n",
       "      <td>accordion.n.01</td>\n",
       "      <td>accordion.n.01</td>\n",
       "      <td>1.000000</td>\n",
       "      <td>1.000000</td>\n",
       "      <td>1.0</td>\n",
       "      <td>1</td>\n",
       "      <td>accordion</td>\n",
       "      <td>musical_instrument.n.01</td>\n",
       "      <td>6010</td>\n",
       "      <td>clip</td>\n",
       "      <td>0.03</td>\n",
       "      <td>domino.sdm.gmm.MixtureModelSDM</td>\n",
       "      <td>rare</td>\n",
       "    </tr>\n",
       "    <tr>\n",
       "      <th>...</th>\n",
       "      <td>...</td>\n",
       "      <td>...</td>\n",
       "      <td>...</td>\n",
       "      <td>...</td>\n",
       "      <td>...</td>\n",
       "      <td>...</td>\n",
       "      <td>...</td>\n",
       "      <td>...</td>\n",
       "      <td>...</td>\n",
       "      <td>...</td>\n",
       "      <td>...</td>\n",
       "      <td>...</td>\n",
       "      <td>...</td>\n",
       "      <td>...</td>\n",
       "      <td>...</td>\n",
       "      <td>...</td>\n",
       "    </tr>\n",
       "    <tr>\n",
       "      <th>13242</th>\n",
       "      <td>81648</td>\n",
       "      <td>1</td>\n",
       "      <td>0</td>\n",
       "      <td>woodwind.n.01</td>\n",
       "      <td>woodwind.n.01</td>\n",
       "      <td>0.000204</td>\n",
       "      <td>0.000204</td>\n",
       "      <td>4900.0</td>\n",
       "      <td>4900</td>\n",
       "      <td>wood</td>\n",
       "      <td>musical_instrument.n.01</td>\n",
       "      <td>6611</td>\n",
       "      <td>clip</td>\n",
       "      <td>0.03</td>\n",
       "      <td>domino.sdm.gmm.MixtureModelSDM</td>\n",
       "      <td>rare</td>\n",
       "    </tr>\n",
       "    <tr>\n",
       "      <th>13262</th>\n",
       "      <td>81721</td>\n",
       "      <td>1</td>\n",
       "      <td>0</td>\n",
       "      <td>woodwind.n.01</td>\n",
       "      <td>woodwind.n.01</td>\n",
       "      <td>0.000136</td>\n",
       "      <td>0.000136</td>\n",
       "      <td>7334.0</td>\n",
       "      <td>7334</td>\n",
       "      <td>wood</td>\n",
       "      <td>musical_instrument.n.01</td>\n",
       "      <td>6616</td>\n",
       "      <td>random</td>\n",
       "      <td>0.03</td>\n",
       "      <td>domino.sdm.gmm.MixtureModelSDM</td>\n",
       "      <td>rare</td>\n",
       "    </tr>\n",
       "    <tr>\n",
       "      <th>1948</th>\n",
       "      <td>81093</td>\n",
       "      <td>4</td>\n",
       "      <td>0</td>\n",
       "      <td>wreck.n.04</td>\n",
       "      <td>wreck.n.04</td>\n",
       "      <td>0.500000</td>\n",
       "      <td>0.500000</td>\n",
       "      <td>2.0</td>\n",
       "      <td>2</td>\n",
       "      <td>wreck</td>\n",
       "      <td>vehicle.n.01</td>\n",
       "      <td>969</td>\n",
       "      <td>bit</td>\n",
       "      <td>0.03</td>\n",
       "      <td>domino.sdm.gmm.MixtureModelSDM</td>\n",
       "      <td>rare</td>\n",
       "    </tr>\n",
       "    <tr>\n",
       "      <th>2026</th>\n",
       "      <td>81226</td>\n",
       "      <td>3</td>\n",
       "      <td>0</td>\n",
       "      <td>wreck.n.04</td>\n",
       "      <td>wreck.n.04</td>\n",
       "      <td>0.500000</td>\n",
       "      <td>0.500000</td>\n",
       "      <td>2.0</td>\n",
       "      <td>2</td>\n",
       "      <td>wreck</td>\n",
       "      <td>vehicle.n.01</td>\n",
       "      <td>988</td>\n",
       "      <td>clip</td>\n",
       "      <td>0.03</td>\n",
       "      <td>domino.sdm.gmm.MixtureModelSDM</td>\n",
       "      <td>rare</td>\n",
       "    </tr>\n",
       "    <tr>\n",
       "      <th>1924</th>\n",
       "      <td>81088</td>\n",
       "      <td>2</td>\n",
       "      <td>0</td>\n",
       "      <td>wreck.n.04</td>\n",
       "      <td>wreck.n.04</td>\n",
       "      <td>0.500000</td>\n",
       "      <td>0.500000</td>\n",
       "      <td>2.0</td>\n",
       "      <td>2</td>\n",
       "      <td>wreck</td>\n",
       "      <td>vehicle.n.01</td>\n",
       "      <td>962</td>\n",
       "      <td>random</td>\n",
       "      <td>0.03</td>\n",
       "      <td>domino.sdm.gmm.MixtureModelSDM</td>\n",
       "      <td>rare</td>\n",
       "    </tr>\n",
       "  </tbody>\n",
       "</table>\n",
       "<p>570 rows × 16 columns</p>\n",
       "</div>"
      ],
      "text/plain": [
       "       run_sdm_run_id  pred_slice_idx  slice_idx      slice_name  \\\n",
       "7766            81434               3          0  accessory.n.01   \n",
       "7782            81439               1          0  accessory.n.01   \n",
       "7684            81368               2          0  accessory.n.01   \n",
       "12086           81692               3          0  accordion.n.01   \n",
       "12040           81619               0          0  accordion.n.01   \n",
       "...               ...             ...        ...             ...   \n",
       "13242           81648               1          0   woodwind.n.01   \n",
       "13262           81721               1          0   woodwind.n.01   \n",
       "1948            81093               4          0      wreck.n.04   \n",
       "2026            81226               3          0      wreck.n.04   \n",
       "1924            81088               2          0      wreck.n.04   \n",
       "\n",
       "         slice_synset  mean_reciprocal_rank  max_reciprocal_rank  mean_rank  \\\n",
       "7766   accessory.n.01              0.018868             0.018868       53.0   \n",
       "7782   accessory.n.01              0.111111             0.111111        9.0   \n",
       "7684   accessory.n.01              0.000374             0.000374     2672.0   \n",
       "12086  accordion.n.01              1.000000             1.000000        1.0   \n",
       "12040  accordion.n.01              1.000000             1.000000        1.0   \n",
       "...               ...                   ...                  ...        ...   \n",
       "13242   woodwind.n.01              0.000204             0.000204     4900.0   \n",
       "13262   woodwind.n.01              0.000136             0.000136     7334.0   \n",
       "1948       wreck.n.04              0.500000             0.500000        2.0   \n",
       "2026       wreck.n.04              0.500000             0.500000        2.0   \n",
       "1924       wreck.n.04              0.500000             0.500000        2.0   \n",
       "\n",
       "       min_rank min_rank_lemma              target_name index emb_group  \\\n",
       "7766         53      accessory            clothing.n.01  3863       bit   \n",
       "7782          9      accessory            clothing.n.01  3866      clip   \n",
       "7684       2672      accessory            clothing.n.01  3842    random   \n",
       "12086         1      accordion  musical_instrument.n.01  6023       bit   \n",
       "12040         1      accordion  musical_instrument.n.01  6010      clip   \n",
       "...         ...            ...                      ...   ...       ...   \n",
       "13242      4900           wood  musical_instrument.n.01  6611      clip   \n",
       "13262      7334           wood  musical_instrument.n.01  6616    random   \n",
       "1948          2          wreck             vehicle.n.01   969       bit   \n",
       "2026          2          wreck             vehicle.n.01   988      clip   \n",
       "1924          2          wreck             vehicle.n.01   962    random   \n",
       "\n",
       "       alpha                       sdm_class slice_category  \n",
       "7766    0.03  domino.sdm.gmm.MixtureModelSDM           rare  \n",
       "7782    0.03  domino.sdm.gmm.MixtureModelSDM           rare  \n",
       "7684    0.03  domino.sdm.gmm.MixtureModelSDM           rare  \n",
       "12086   0.03  domino.sdm.gmm.MixtureModelSDM           rare  \n",
       "12040   0.03  domino.sdm.gmm.MixtureModelSDM           rare  \n",
       "...      ...                             ...            ...  \n",
       "13242   0.03  domino.sdm.gmm.MixtureModelSDM           rare  \n",
       "13262   0.03  domino.sdm.gmm.MixtureModelSDM           rare  \n",
       "1948    0.03  domino.sdm.gmm.MixtureModelSDM           rare  \n",
       "2026    0.03  domino.sdm.gmm.MixtureModelSDM           rare  \n",
       "1924    0.03  domino.sdm.gmm.MixtureModelSDM           rare  \n",
       "\n",
       "[570 rows x 16 columns]"
      ]
     },
     "execution_count": 42,
     "metadata": {},
     "output_type": "execute_result"
    }
   ],
   "source": [
    "df"
   ]
  },
  {
   "cell_type": "code",
   "execution_count": null,
   "metadata": {},
   "outputs": [],
   "source": []
  }
 ],
 "metadata": {
  "interpreter": {
   "hash": "0d937a63d09daec3f9548a5c769ccb20edb9c2c1ae2375686b21850f577713d2"
  },
  "kernelspec": {
   "display_name": "Python 3 (ipykernel)",
   "language": "python",
   "name": "python3"
  },
  "language_info": {
   "codemirror_mode": {
    "name": "ipython",
    "version": 3
   },
   "file_extension": ".py",
   "mimetype": "text/x-python",
   "name": "python",
   "nbconvert_exporter": "python",
   "pygments_lexer": "ipython3",
   "version": "3.8.10"
  }
 },
 "nbformat": 4,
 "nbformat_minor": 4
}
