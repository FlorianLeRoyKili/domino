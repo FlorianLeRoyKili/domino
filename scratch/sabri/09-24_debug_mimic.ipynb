{
 "cells": [
  {
   "cell_type": "code",
   "execution_count": 1,
   "source": [
    "%load_ext autoreload\n",
    "%autoreload 2\n"
   ],
   "outputs": [],
   "metadata": {}
  },
  {
   "cell_type": "code",
   "execution_count": 43,
   "source": [
    "from domino.slices import collect_settings\n",
    "from domino.slices.celeba import CelebASliceBuilder\n",
    "from domino.evaluate import run_sdm, score_sdms, run_sdms\n",
    "from domino.train import train_settings\n",
    "import numpy as np\n",
    "import meerkat as mk\n",
    "import terra\n",
    "from domino.emb.clip import embed_phrases"
   ],
   "outputs": [],
   "metadata": {}
  },
  {
   "cell_type": "code",
   "execution_count": 27,
   "source": [
    "out = run_sdm.inp(run_id=17186)\n",
    "out"
   ],
   "outputs": [
    {
     "output_type": "execute_result",
     "data": {
      "text/plain": [
       "{'data_dp': Artifact(id=221416, run_id=17146, type=<class 'meerkat.datapanel.DataPanel'>),\n",
       " 'emb_dp': Artifact(id=221123, run_id=16963, type=<class 'meerkat.datapanel.DataPanel'>),\n",
       " 'model': None,\n",
       " 'id_column': 'dicom_id',\n",
       " 'word_dp': Artifact(id=221456, run_id=17179, type=<class 'meerkat.datapanel.DataPanel'>),\n",
       " 'sdm_class': domino.sdm.gmm.MixtureModelSDM,\n",
       " 'sdm_config': {'weight_y_log_likelihood': 1, 'n_slices': 5, 'emb': 'emb'},\n",
       " 'setting_id': 'e70fbf64-4526-4b04-978d-ac9d45e99751',\n",
       " 'build_setting_run_id': Artifact(id=221465, run_id=17186, type=<class 'numpy.int64'>),\n",
       " 'score_model_run_id': Artifact(id=221466, run_id=17186, type=<class 'numpy.int64'>),\n",
       " 'score_settings_run_id': Artifact(id=221467, run_id=17186, type=<class 'numpy.int64'>),\n",
       " 'synthetic_preds': Artifact(id=221468, run_id=17186, type=<class 'numpy.bool_'>),\n",
       " 'index': '45',\n",
       " 'alpha': 0.0,\n",
       " 'build_setting_kwargs': {'n': 30000,\n",
       "  'correlate': 'support_devices',\n",
       "  'target': 'cardiomegaly',\n",
       "  'corr': 0.0},\n",
       " 'dataset': 'mimic',\n",
       " 'slice_category': 'correlation',\n",
       " 'slice_names': ['cardiomegaly=0_support_devices=1',\n",
       "  'cardiomegaly=1_support_devices=0'],\n",
       " 'target_name': 'cardiomegaly'}"
      ]
     },
     "metadata": {},
     "execution_count": 27
    }
   ],
   "metadata": {}
  },
  {
   "cell_type": "code",
   "execution_count": 8,
   "source": [
    "from meerkat.contrib.mimic import gcs\n",
    "data_dp = out[\"data_dp\"].load()"
   ],
   "outputs": [],
   "metadata": {}
  },
  {
   "cell_type": "code",
   "execution_count": 9,
   "source": [
    "out"
   ],
   "outputs": [],
   "metadata": {}
  },
  {
   "cell_type": "code",
   "execution_count": 13,
   "source": [
    "data_dp[\"emb\"].data"
   ],
   "outputs": [
    {
     "output_type": "execute_result",
     "data": {
      "text/plain": [
       "memmap([[ 2.986e-01, -1.765e-01, -2.175e-01, ...,  5.316e-02, -3.538e-01,\n",
       "          3.516e-01],\n",
       "        [ 2.986e-01, -1.765e-01, -2.175e-01, ...,  5.316e-02, -3.538e-01,\n",
       "          3.516e-01],\n",
       "        [ 2.986e-01, -1.765e-01, -2.175e-01, ...,  5.316e-02, -3.538e-01,\n",
       "          3.516e-01],\n",
       "        ...,\n",
       "        [ 2.510e-01, -2.487e-01, -3.762e-01, ...,  2.196e-01, -3.679e-01,\n",
       "          4.238e-01],\n",
       "        [ 2.654e-01, -2.234e-02, -2.629e-01, ...,  2.308e-01, -4.268e-01,\n",
       "          2.053e-01],\n",
       "        [ 1.838e-01,  1.221e-04, -3.611e-01, ...,  2.942e-01, -5.239e-01,\n",
       "          4.797e-01]], dtype=float16)"
      ]
     },
     "metadata": {},
     "execution_count": 13
    }
   ],
   "metadata": {}
  },
  {
   "cell_type": "code",
   "execution_count": 33,
   "source": [
    "from domino.emb.clip import embed_images\n",
    "dp = embed_images.inp(16963)[\"dp\"]\n",
    "len(dp.load())a"
   ],
   "outputs": [
    {
     "output_type": "execute_result",
     "data": {
      "text/plain": [
       "377110"
      ]
     },
     "metadata": {},
     "execution_count": 33
    }
   ],
   "metadata": {}
  },
  {
   "cell_type": "code",
   "execution_count": 35,
   "source": [
    "from domino.emb.clip import embed_images\n",
    "dp = embed_images.out(16963)\n",
    "len(dp.load())"
   ],
   "outputs": [
    {
     "output_type": "execute_result",
     "data": {
      "text/plain": [
       "1914921"
      ]
     },
     "metadata": {},
     "execution_count": 35
    }
   ],
   "metadata": {}
  },
  {
   "cell_type": "code",
   "execution_count": 26,
   "source": [
    "from domino.data.mimic import get_mimic_dp, split_dp_preloaded\n",
    "\n",
    "split_dp_preloaded.out().load()"
   ],
   "outputs": [
    {
     "output_type": "execute_result",
     "data": {
      "text/html": [
       "<table border=\"1\" class=\"dataframe\">\n",
       "  <thead>\n",
       "    <tr style=\"text-align: right;\">\n",
       "      <th></th>\n",
       "      <th>split (PandasSeriesColumn)</th>\n",
       "      <th>subject_id (PandasSeriesColumn)</th>\n",
       "      <th>index (NumpyArrayColumn)</th>\n",
       "    </tr>\n",
       "  </thead>\n",
       "  <tbody>\n",
       "    <tr>\n",
       "      <th>0</th>\n",
       "      <td>train</td>\n",
       "      <td>10000935.0</td>\n",
       "      <td>0.0</td>\n",
       "    </tr>\n",
       "    <tr>\n",
       "      <th>1</th>\n",
       "      <td>train</td>\n",
       "      <td>10001176.0</td>\n",
       "      <td>1.0</td>\n",
       "    </tr>\n",
       "    <tr>\n",
       "      <th>2</th>\n",
       "      <td>train</td>\n",
       "      <td>10001176.0</td>\n",
       "      <td>2.0</td>\n",
       "    </tr>\n",
       "    <tr>\n",
       "      <th>3</th>\n",
       "      <td>train</td>\n",
       "      <td>10001401.0</td>\n",
       "      <td>3.0</td>\n",
       "    </tr>\n",
       "    <tr>\n",
       "      <th>4</th>\n",
       "      <td>train</td>\n",
       "      <td>10001401.0</td>\n",
       "      <td>4.0</td>\n",
       "    </tr>\n",
       "    <tr>\n",
       "      <th>...</th>\n",
       "      <td>...</td>\n",
       "      <td>...</td>\n",
       "      <td>...</td>\n",
       "    </tr>\n",
       "    <tr>\n",
       "      <th>377105</th>\n",
       "      <td>train</td>\n",
       "      <td>19983508.0</td>\n",
       "      <td>377105.0</td>\n",
       "    </tr>\n",
       "    <tr>\n",
       "      <th>377106</th>\n",
       "      <td>train</td>\n",
       "      <td>19984491.0</td>\n",
       "      <td>377106.0</td>\n",
       "    </tr>\n",
       "    <tr>\n",
       "      <th>377107</th>\n",
       "      <td>train</td>\n",
       "      <td>19991743.0</td>\n",
       "      <td>377107.0</td>\n",
       "    </tr>\n",
       "    <tr>\n",
       "      <th>377108</th>\n",
       "      <td>train</td>\n",
       "      <td>19992875.0</td>\n",
       "      <td>377108.0</td>\n",
       "    </tr>\n",
       "    <tr>\n",
       "      <th>377109</th>\n",
       "      <td>test</td>\n",
       "      <td>19998770.0</td>\n",
       "      <td>377109.0</td>\n",
       "    </tr>\n",
       "  </tbody>\n",
       "</table>"
      ],
      "text/plain": [
       "DataPanel(nrows: 377110, ncols: 3)"
      ]
     },
     "metadata": {},
     "execution_count": 26
    }
   ],
   "metadata": {}
  },
  {
   "cell_type": "code",
   "execution_count": 58,
   "source": [
    "from domino.utils import merge_in_split\n",
    "inp = embed_images.inp(16963)\n",
    "out = merge_in_split(dp=inp[\"dp\"].load(), split_dp=inp[\"split_dp\"].load())"
   ],
   "outputs": [],
   "metadata": {}
  },
  {
   "cell_type": "code",
   "execution_count": 59,
   "source": [
    "len(out)"
   ],
   "outputs": [
    {
     "output_type": "execute_result",
     "data": {
      "text/plain": [
       "377110"
      ]
     },
     "metadata": {},
     "execution_count": 59
    }
   ],
   "metadata": {}
  },
  {
   "cell_type": "code",
   "execution_count": 41,
   "source": [
    "inp[\"split_dp\"].load()"
   ],
   "outputs": [
    {
     "output_type": "execute_result",
     "data": {
      "text/html": [
       "<table border=\"1\" class=\"dataframe\">\n",
       "  <thead>\n",
       "    <tr style=\"text-align: right;\">\n",
       "      <th></th>\n",
       "      <th>split (PandasSeriesColumn)</th>\n",
       "      <th>subject_id (PandasSeriesColumn)</th>\n",
       "      <th>index (NumpyArrayColumn)</th>\n",
       "    </tr>\n",
       "  </thead>\n",
       "  <tbody>\n",
       "    <tr>\n",
       "      <th>0</th>\n",
       "      <td>train</td>\n",
       "      <td>10000935.0</td>\n",
       "      <td>0.0</td>\n",
       "    </tr>\n",
       "    <tr>\n",
       "      <th>1</th>\n",
       "      <td>train</td>\n",
       "      <td>10001176.0</td>\n",
       "      <td>1.0</td>\n",
       "    </tr>\n",
       "    <tr>\n",
       "      <th>2</th>\n",
       "      <td>train</td>\n",
       "      <td>10001176.0</td>\n",
       "      <td>2.0</td>\n",
       "    </tr>\n",
       "    <tr>\n",
       "      <th>3</th>\n",
       "      <td>train</td>\n",
       "      <td>10001401.0</td>\n",
       "      <td>3.0</td>\n",
       "    </tr>\n",
       "    <tr>\n",
       "      <th>4</th>\n",
       "      <td>train</td>\n",
       "      <td>10001401.0</td>\n",
       "      <td>4.0</td>\n",
       "    </tr>\n",
       "    <tr>\n",
       "      <th>...</th>\n",
       "      <td>...</td>\n",
       "      <td>...</td>\n",
       "      <td>...</td>\n",
       "    </tr>\n",
       "    <tr>\n",
       "      <th>377105</th>\n",
       "      <td>train</td>\n",
       "      <td>19983508.0</td>\n",
       "      <td>377105.0</td>\n",
       "    </tr>\n",
       "    <tr>\n",
       "      <th>377106</th>\n",
       "      <td>train</td>\n",
       "      <td>19984491.0</td>\n",
       "      <td>377106.0</td>\n",
       "    </tr>\n",
       "    <tr>\n",
       "      <th>377107</th>\n",
       "      <td>train</td>\n",
       "      <td>19991743.0</td>\n",
       "      <td>377107.0</td>\n",
       "    </tr>\n",
       "    <tr>\n",
       "      <th>377108</th>\n",
       "      <td>train</td>\n",
       "      <td>19992875.0</td>\n",
       "      <td>377108.0</td>\n",
       "    </tr>\n",
       "    <tr>\n",
       "      <th>377109</th>\n",
       "      <td>test</td>\n",
       "      <td>19998770.0</td>\n",
       "      <td>377109.0</td>\n",
       "    </tr>\n",
       "  </tbody>\n",
       "</table>"
      ],
      "text/plain": [
       "DataPanel(nrows: 377110, ncols: 3)"
      ]
     },
     "metadata": {},
     "execution_count": 41
    }
   ],
   "metadata": {}
  },
  {
   "cell_type": "code",
   "execution_count": 45,
   "source": [
    "out = mk.merge(inp[\"dp\"].load(), inp[\"split_dp\"].load(), on=\"subject_id\")"
   ],
   "outputs": [],
   "metadata": {}
  },
  {
   "cell_type": "code",
   "execution_count": 49,
   "source": [
    "split_dp = inp[\"split_dp\"].load()\n",
    "df = split_dp[[\"subject_id\", \"split\"]].to_pandas()"
   ],
   "outputs": [],
   "metadata": {}
  },
  {
   "cell_type": "code",
   "execution_count": 57,
   "source": [
    "gb = df.groupby(\"subject_id\")\n",
    "assert (gb[\"split\"].nunique() == 1).all()\n",
    "mk.DataPanel.from_pandas(gb[\"split\"].first().reset_index())"
   ],
   "outputs": [
    {
     "output_type": "execute_result",
     "data": {
      "text/html": [
       "<table border=\"1\" class=\"dataframe\">\n",
       "  <thead>\n",
       "    <tr style=\"text-align: right;\">\n",
       "      <th></th>\n",
       "      <th>subject_id (PandasSeriesColumn)</th>\n",
       "      <th>split (PandasSeriesColumn)</th>\n",
       "      <th>index (PandasSeriesColumn)</th>\n",
       "    </tr>\n",
       "  </thead>\n",
       "  <tbody>\n",
       "    <tr>\n",
       "      <th>0</th>\n",
       "      <td>10000032.0</td>\n",
       "      <td>valid</td>\n",
       "      <td>0</td>\n",
       "    </tr>\n",
       "    <tr>\n",
       "      <th>1</th>\n",
       "      <td>10000764.0</td>\n",
       "      <td>train</td>\n",
       "      <td>1</td>\n",
       "    </tr>\n",
       "    <tr>\n",
       "      <th>2</th>\n",
       "      <td>10000898.0</td>\n",
       "      <td>train</td>\n",
       "      <td>2</td>\n",
       "    </tr>\n",
       "    <tr>\n",
       "      <th>3</th>\n",
       "      <td>10000935.0</td>\n",
       "      <td>train</td>\n",
       "      <td>3</td>\n",
       "    </tr>\n",
       "    <tr>\n",
       "      <th>4</th>\n",
       "      <td>10000980.0</td>\n",
       "      <td>test</td>\n",
       "      <td>4</td>\n",
       "    </tr>\n",
       "    <tr>\n",
       "      <th>...</th>\n",
       "      <td>...</td>\n",
       "      <td>...</td>\n",
       "      <td>...</td>\n",
       "    </tr>\n",
       "    <tr>\n",
       "      <th>65374</th>\n",
       "      <td>19999287.0</td>\n",
       "      <td>train</td>\n",
       "      <td>65374</td>\n",
       "    </tr>\n",
       "    <tr>\n",
       "      <th>65375</th>\n",
       "      <td>19999376.0</td>\n",
       "      <td>train</td>\n",
       "      <td>65375</td>\n",
       "    </tr>\n",
       "    <tr>\n",
       "      <th>65376</th>\n",
       "      <td>19999442.0</td>\n",
       "      <td>test</td>\n",
       "      <td>65376</td>\n",
       "    </tr>\n",
       "    <tr>\n",
       "      <th>65377</th>\n",
       "      <td>19999733.0</td>\n",
       "      <td>train</td>\n",
       "      <td>65377</td>\n",
       "    </tr>\n",
       "    <tr>\n",
       "      <th>65378</th>\n",
       "      <td>19999987.0</td>\n",
       "      <td>train</td>\n",
       "      <td>65378</td>\n",
       "    </tr>\n",
       "  </tbody>\n",
       "</table>"
      ],
      "text/plain": [
       "DataPanel(nrows: 65379, ncols: 3)"
      ]
     },
     "metadata": {},
     "execution_count": 57
    }
   ],
   "metadata": {}
  },
  {
   "cell_type": "code",
   "execution_count": null,
   "source": [],
   "outputs": [],
   "metadata": {}
  }
 ],
 "metadata": {
  "orig_nbformat": 4,
  "language_info": {
   "name": "python",
   "version": "3.8.10",
   "mimetype": "text/x-python",
   "codemirror_mode": {
    "name": "ipython",
    "version": 3
   },
   "pygments_lexer": "ipython3",
   "nbconvert_exporter": "python",
   "file_extension": ".py"
  },
  "kernelspec": {
   "name": "python3",
   "display_name": "Python 3.8.10 64-bit ('domino': conda)"
  },
  "interpreter": {
   "hash": "0d937a63d09daec3f9548a5c769ccb20edb9c2c1ae2375686b21850f577713d2"
  }
 },
 "nbformat": 4,
 "nbformat_minor": 2
}