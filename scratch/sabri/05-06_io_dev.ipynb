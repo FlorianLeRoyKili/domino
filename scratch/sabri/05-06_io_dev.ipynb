{
 "metadata": {
  "language_info": {
   "codemirror_mode": {
    "name": "ipython",
    "version": 3
   },
   "file_extension": ".py",
   "mimetype": "text/x-python",
   "name": "python",
   "nbconvert_exporter": "python",
   "pygments_lexer": "ipython3",
   "version": "3.8.8"
  },
  "orig_nbformat": 2,
  "kernelspec": {
   "name": "python388jvsc74a57bd06d7bd4c6039f156d838f2caf01fbd8d7d51ef546e5fb1f60e559c6bdf3c7cc94",
   "display_name": "Python 3.8.8 64-bit ('rg-sabri')"
  },
  "metadata": {
   "interpreter": {
    "hash": "6d7bd4c6039f156d838f2caf01fbd8d7d51ef546e5fb1f60e559c6bdf3c7cc94"
   }
  }
 },
 "nbformat": 4,
 "nbformat_minor": 2,
 "cells": [
  {
   "cell_type": "code",
   "execution_count": 1,
   "metadata": {},
   "outputs": [],
   "source": [
    "%load_ext autoreload\n",
    "%autoreload 2\n",
    "%load_ext line_profiler\n",
    "\n",
    "import os\n",
    "os.environ[\"TERRA_CONFIG_PATH\"] = \"/home/sabri/code/spr-21/terra_config.json\""
   ]
  },
  {
   "cell_type": "code",
   "execution_count": 2,
   "metadata": {},
   "outputs": [],
   "source": [
    "from robustnessgym.mosaic.contrib.wilds import WILDSInputColumn, get_wilds_datapane\n",
    "from robustnessgym.mosaic import DataPane"
   ]
  },
  {
   "cell_type": "code",
   "execution_count": 7,
   "metadata": {},
   "outputs": [
    {
     "output_type": "stream",
     "name": "stdout",
     "text": [
      "CPU times: user 6.25 s, sys: 43.7 ms, total: 6.29 s\nWall time: 5.92 s\n"
     ]
    }
   ],
   "source": [
    "%%time\n",
    "dp = get_wilds_datapane(\n",
    "    \"fmow\", \n",
    "    root_dir=\"/home/common/datasets/\", \n",
    "    use_transform=True,\n",
    "    split=\"val\"\n",
    ")"
   ]
  },
  {
   "cell_type": "code",
   "execution_count": 4,
   "metadata": {},
   "outputs": [
    {
     "output_type": "stream",
     "name": "stdout",
     "text": [
      "CPU times: user 231 ms, sys: 3.85 ms, total: 235 ms\nWall time: 259 ms\n"
     ]
    }
   ],
   "source": [
    "%%time \n",
    "dp.write(\"test\", write_together=True)"
   ]
  },
  {
   "cell_type": "code",
   "execution_count": 6,
   "metadata": {},
   "outputs": [
    {
     "output_type": "stream",
     "name": "stdout",
     "text": [
      "CPU times: user 135 ms, sys: 19.3 ms, total: 154 ms\nWall time: 651 ms\n"
     ]
    }
   ],
   "source": [
    "%%time \n",
    "dp.write(\"test\", write_together=False)"
   ]
  },
  {
   "cell_type": "code",
   "execution_count": 6,
   "metadata": {},
   "outputs": [
    {
     "output_type": "stream",
     "name": "stdout",
     "text": [
      "CPU times: user 6.23 s, sys: 153 ms, total: 6.39 s\nWall time: 6.01 s\n"
     ]
    }
   ],
   "source": [
    "%%time\n",
    "new_dp = DataPane.read(\"test\")"
   ]
  },
  {
   "cell_type": "code",
   "execution_count": 10,
   "metadata": {},
   "outputs": [
    {
     "output_type": "execute_result",
     "data": {
      "text/plain": [
       "NumpyArrayColumn(array([ True,... True,  True]))"
      ],
      "text/html": "<div>\n<style scoped>\n    .dataframe tbody tr th:only-of-type {\n        vertical-align: middle;\n    }\n\n    .dataframe tbody tr th {\n        vertical-align: top;\n    }\n\n    .dataframe thead th {\n        text-align: right;\n    }\n</style>\n<table border=\"1\" class=\"dataframe\">\n  <thead>\n    <tr style=\"text-align: right;\">\n      <th></th>\n      <th>(NumpyArrayColumn)</th>\n    </tr>\n  </thead>\n  <tbody>\n    <tr>\n      <th>0</th>\n      <td>True</td>\n    </tr>\n    <tr>\n      <th>1</th>\n      <td>True</td>\n    </tr>\n    <tr>\n      <th>2</th>\n      <td>True</td>\n    </tr>\n    <tr>\n      <th>3</th>\n      <td>True</td>\n    </tr>\n    <tr>\n      <th>4</th>\n      <td>True</td>\n    </tr>\n    <tr>\n      <th>...</th>\n      <td>...</td>\n    </tr>\n    <tr>\n      <th>11478</th>\n      <td>True</td>\n    </tr>\n    <tr>\n      <th>11479</th>\n      <td>True</td>\n    </tr>\n    <tr>\n      <th>11480</th>\n      <td>True</td>\n    </tr>\n    <tr>\n      <th>11481</th>\n      <td>True</td>\n    </tr>\n    <tr>\n      <th>11482</th>\n      <td>True</td>\n    </tr>\n  </tbody>\n</table>\n<p>11483 rows × 1 columns</p>\n</div>"
     },
     "metadata": {},
     "execution_count": 10
    }
   ],
   "source": [
    "new_dp[\"y\"] == dp[\"y\"]"
   ]
  },
  {
   "cell_type": "code",
   "execution_count": 3,
   "metadata": {},
   "outputs": [],
   "source": [
    "import numpy as np\n",
    "batch = {\n",
    "    \"a\": np.arange(16),\n",
    "    \"b\": list(np.arange(16)),\n",
    "    \"c\": [{\"a\": 2}] * 16,\n",
    "}\n",
    "dp = DataPane.from_batch(batch)"
   ]
  },
  {
   "cell_type": "code",
   "execution_count": 4,
   "metadata": {},
   "outputs": [],
   "source": [
    "dp.visible_rows = [0,1, 4, 5]"
   ]
  },
  {
   "cell_type": "code",
   "execution_count": 5,
   "metadata": {},
   "outputs": [],
   "source": [
    "x = dp[\"a\"]"
   ]
  },
  {
   "cell_type": "code",
   "execution_count": 5,
   "metadata": {},
   "outputs": [
    {
     "output_type": "stream",
     "name": "stdout",
     "text": [
      "[array([0, 1, 2, 3])]\n",
      "{'c': ListColumn([{'a': 2}, {'a': 2}, {'a': 2}, {'a': 2}]), 'index': ListColumn(['0', '1', '4', '5'])}\n"
     ]
    }
   ],
   "source": [
    "for batch in dp.batch(batch_size=4):\n",
    "    batch"
   ]
  },
  {
   "cell_type": "code",
   "execution_count": 11,
   "metadata": {},
   "outputs": [
    {
     "output_type": "execute_result",
     "data": {
      "text/plain": [
       "DataPane(num_rows: 4)"
      ],
      "text/html": "<div>\n<style scoped>\n    .dataframe tbody tr th:only-of-type {\n        vertical-align: middle;\n    }\n\n    .dataframe tbody tr th {\n        vertical-align: top;\n    }\n\n    .dataframe thead th {\n        text-align: right;\n    }\n</style>\n<table border=\"1\" class=\"dataframe\">\n  <thead>\n    <tr style=\"text-align: right;\">\n      <th></th>\n      <th>c (ListColumn)</th>\n      <th>index (ListColumn)</th>\n      <th>a (NumpyArrayColumn)</th>\n      <th>b (NumpyArrayColumn)</th>\n    </tr>\n  </thead>\n  <tbody>\n    <tr>\n      <th>0</th>\n      <td>{'a': 2}</td>\n      <td>'0'</td>\n      <td>0</td>\n      <td>0</td>\n    </tr>\n    <tr>\n      <th>1</th>\n      <td>{'a': 2}</td>\n      <td>'1'</td>\n      <td>1</td>\n      <td>1</td>\n    </tr>\n    <tr>\n      <th>2</th>\n      <td>{'a': 2}</td>\n      <td>'2'</td>\n      <td>2</td>\n      <td>2</td>\n    </tr>\n    <tr>\n      <th>3</th>\n      <td>{'a': 2}</td>\n      <td>'3'</td>\n      <td>3</td>\n      <td>3</td>\n    </tr>\n  </tbody>\n</table>\n</div>"
     },
     "metadata": {},
     "execution_count": 11
    }
   ],
   "source": [
    "batch"
   ]
  },
  {
   "cell_type": "code",
   "execution_count": 1,
   "metadata": {},
   "outputs": [
    {
     "output_type": "execute_result",
     "data": {
      "text/plain": [
       "ListColumn([1, 2, 3, 4])"
      ],
      "text/html": "<div>\n<style scoped>\n    .dataframe tbody tr th:only-of-type {\n        vertical-align: middle;\n    }\n\n    .dataframe tbody tr th {\n        vertical-align: top;\n    }\n\n    .dataframe thead th {\n        text-align: right;\n    }\n</style>\n<table border=\"1\" class=\"dataframe\">\n  <thead>\n    <tr style=\"text-align: right;\">\n      <th></th>\n      <th>(ListColumn)</th>\n    </tr>\n  </thead>\n  <tbody>\n    <tr>\n      <th>0</th>\n      <td>1</td>\n    </tr>\n    <tr>\n      <th>1</th>\n      <td>2</td>\n    </tr>\n    <tr>\n      <th>2</th>\n      <td>3</td>\n    </tr>\n    <tr>\n      <th>3</th>\n      <td>4</td>\n    </tr>\n  </tbody>\n</table>\n</div>"
     },
     "metadata": {},
     "execution_count": 1
    }
   ],
   "source": [
    "from robustnessgym.mosaic import ListColumn\n",
    "col = ListColumn([1, 2, 3, 4])\n",
    "col.write(\"list_test\")\n",
    "col.read(\"list_test\")"
   ]
  },
  {
   "cell_type": "code",
   "execution_count": 16,
   "metadata": {},
   "outputs": [
    {
     "output_type": "stream",
     "text": [
      "Timer unit: 1e-06 s\n",
      "\n",
      "Total time: 47.3974 s\n",
      "File: /home/sabri/code/robustness-gym/robustnessgym/mosaic/mixins/storage.py\n",
      "Function: write at line 63\n",
      "\n",
      "Line #      Hits         Time  Per Hit   % Time  Line Contents\n",
      "==============================================================\n",
      "    63                                               def write(\n",
      "    64                                                   self,\n",
      "    65                                                   path: str,\n",
      "    66                                                   write_together: bool = None,\n",
      "    67                                               ) -> None:\n",
      "    68         1         52.0     52.0      0.0          assert hasattr(self, \"_data\"), f\"{self.__class__.__name__} requires `self.data`\"\n",
      "    69                                           \n",
      "    70                                                   # If unspecified, use the column's property to decide whether to write together\n",
      "    71         1          2.0      2.0      0.0          if write_together is None:\n",
      "    72                                                       write_together = self.write_together\n",
      "    73                                           \n",
      "    74                                                   # Make all the directories to the path\n",
      "    75         1        388.0    388.0      0.0          os.makedirs(path, exist_ok=True)\n",
      "    76                                           \n",
      "    77                                                   # Get the column state\n",
      "    78         1        146.0    146.0      0.0          state = self.get_state()\n",
      "    79                                           \n",
      "    80         2          3.0      1.5      0.0          metadata = {\n",
      "    81         1          2.0      2.0      0.0              \"dtype\": type(self),\n",
      "    82         1   47023835.0 47023835.0     99.2              \"data_dtypes\": list(map(type, self.data)),\n",
      "    83         1         21.0     21.0      0.0              \"len\": len(self),\n",
      "    84         1          1.0      1.0      0.0              \"write_together\": write_together,\n",
      "    85         1          3.0      3.0      0.0              **self.metadata,\n",
      "    86                                                   }\n",
      "    87                                           \n",
      "    88         1          1.0      1.0      0.0          if not write_together:\n",
      "    89                                                       # if writing separately, remove \"_data\" from the dict\n",
      "    90                                                       if \"_data\" not in state:\n",
      "    91                                                           raise ValueError(\n",
      "    92                                                               \"Column's state must include `_data` when using \" \n",
      "    93                                                               \"`write_together=False`.\"\n",
      "    94                                                           )\n",
      "    95                                                       del state[\"_data\"]\n",
      "    96                                                       state_path = os.path.join(path, \"state.dill\")\n",
      "    97                                                       dill.dump(state, open(state_path, \"wb\"))\n",
      "    98                                           \n",
      "    99                                                       # lazy import to avoid circular dependencies\n",
      "   100                                                       from robustnessgym.mosaic import AbstractCell\n",
      "   101                                           \n",
      "   102                                                       # Save all the elements of the column separately\n",
      "   103                                                       data_paths = []\n",
      "   104                                                       for index, element in enumerate(self.data):\n",
      "   105                                                           data_path = os.path.join(path, str(index))\n",
      "   106                                                           if isinstance(element, AbstractCell):\n",
      "   107                                                               # Element has its own `write` method\n",
      "   108                                                               element.write(data_path)\n",
      "   109                                                           else:\n",
      "   110                                                               # No `write` method: default to writing with dill\n",
      "   111                                                               dill.dump(element, open(data_path, \"wb\"))\n",
      "   112                                                           data_paths.append(data_path)\n",
      "   113                                           \n",
      "   114                                                       # Store all the data paths in the metadata dict\n",
      "   115                                                       metadata[\"data_paths\"] = data_paths\n",
      "   116                                                   \n",
      "   117                                                   # Write the state\n",
      "   118         1         17.0     17.0      0.0          state_path = os.path.join(path, \"state.dill\")\n",
      "   119         1       8454.0   8454.0      0.0          dill.dump(state, open(state_path, \"wb\"))\n",
      "   120                                           \n",
      "   121                                                   # Save the metadata as a yaml file\n",
      "   122         1         42.0     42.0      0.0          metadata_path = os.path.join(path, \"meta.yaml\")\n",
      "   123         1     364407.0 364407.0      0.8          yaml.dump(metadata, open(metadata_path, \"w\"))"
     ],
     "name": "stdout"
    }
   ],
   "source": [
    "%lprun -f dp.write dp.write(\"test_wilds_together\", write_together=True)"
   ]
  },
  {
   "cell_type": "code",
   "execution_count": 8,
   "metadata": {},
   "outputs": [
    {
     "output_type": "stream",
     "name": "stdout",
     "text": [
      "CPU times: user 3.58 s, sys: 35.8 ms, total: 3.62 s\nWall time: 3.45 s\n"
     ]
    }
   ],
   "source": [
    "%%time \n",
    "new_col = WILDSInputColumn.read(\n",
    "    \"/home/sabri/code/spr-21/notebooks/test_wilds/columns/input\"\n",
    ")"
   ]
  },
  {
   "cell_type": "code",
   "execution_count": 9,
   "metadata": {},
   "outputs": [
    {
     "output_type": "stream",
     "name": "stdout",
     "text": [
      "CPU times: user 3.04 s, sys: 25.7 ms, total: 3.07 s\nWall time: 2.88 s\n"
     ]
    }
   ],
   "source": [
    "%%time \n",
    "dp = WILDSInputColumn(\n",
    "    \"fmow\", \n",
    "    root_dir=\"/home/common/datasets/\", \n",
    "    use_transform=True,\n",
    "    split=\"val\"\n",
    ")"
   ]
  },
  {
   "cell_type": "code",
   "execution_count": 18,
   "metadata": {},
   "outputs": [
    {
     "output_type": "execute_result",
     "data": {
      "text/plain": [
       "<bound method ColumnStorageMixin.write of WILDSInputColumn(<wilds.datase...x7f1d4df4c640>)>"
      ]
     },
     "metadata": {},
     "execution_count": 18
    }
   ],
   "source": [
    "dp.write"
   ]
  },
  {
   "cell_type": "code",
   "execution_count": 19,
   "metadata": {},
   "outputs": [
    {
     "output_type": "execute_result",
     "data": {
      "text/plain": [
       "robustnessgym.mosaic.contrib.wilds.WILDSInputColumn"
      ]
     },
     "metadata": {},
     "execution_count": 19
    }
   ],
   "source": [
    "type(dp)"
   ]
  },
  {
   "cell_type": "code",
   "execution_count": null,
   "metadata": {},
   "outputs": [],
   "source": []
  }
 ]
}