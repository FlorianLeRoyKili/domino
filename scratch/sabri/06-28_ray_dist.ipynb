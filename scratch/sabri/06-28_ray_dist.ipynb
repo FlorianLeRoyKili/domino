{
 "cells": [
  {
   "cell_type": "code",
   "execution_count": 1,
   "metadata": {},
   "outputs": [],
   "source": [
    "%load_ext autoreload\n",
    "%autoreload 2\n",
    "\n",
    "from tqdm.auto import tqdm\n",
    "import terra\n",
    "import numpy as np\n",
    "import meerkat as mk\n",
    "import pandas as pd\n",
    "import ray"
   ]
  },
  {
   "cell_type": "code",
   "execution_count": null,
   "metadata": {},
   "outputs": [],
   "source": [
    "x = 0"
   ]
  },
  {
   "cell_type": "code",
   "execution_count": 7,
   "metadata": {},
   "outputs": [],
   "source": [
    "from domino.data.celeb import build_celeb_df, build_celeb_dp\n",
    "\n",
    "from domino.evaluate.linear import induce_correlation, CorrelationImpossibleError\n",
    "from meerkat.contrib.celeba import ATTRIBUTES"
   ]
  },
  {
   "cell_type": "code",
   "execution_count": 8,
   "metadata": {},
   "outputs": [
    {
     "name": "stdout",
     "output_type": "stream",
     "text": [
      "task: build_celeb_dp, run_id=542\n"
     ]
    }
   ],
   "source": [
    "if False:\n",
    "    df = build_celeb_df().load()\n",
    "else:\n",
    "    df = build_celeb_df.out(504, load=True)\n",
    "dp = build_celeb_dp(build_celeb_df.out(504))"
   ]
  },
  {
   "cell_type": "code",
   "execution_count": 4,
   "metadata": {},
   "outputs": [],
   "source": [
    "train_df = df[df[\"split\"] == \"train\"]"
   ]
  },
  {
   "cell_type": "code",
   "execution_count": 19,
   "metadata": {},
   "outputs": [
    {
     "name": "stdout",
     "output_type": "stream",
     "text": [
      "task: check_corr_induction, run_id=516\n"
     ]
    },
    {
     "data": {
      "application/vnd.jupyter.widget-view+json": {
       "model_id": "c387eddfa3644017b280d79fee4d0e6c",
       "version_major": 2,
       "version_minor": 0
      },
      "text/plain": [
       "HBox(children=(FloatProgress(value=0.0, max=40.0), HTML(value='')))"
      ]
     },
     "metadata": {},
     "output_type": "display_data"
    },
    {
     "name": "stdout",
     "output_type": "stream",
     "text": [
      "\n"
     ]
    }
   ],
   "source": [
    "from domino.evaluate.linear import induce_correlation, CorrelationImpossibleError, check_corr_induction\n",
    "from meerkat.contrib.celeba import ATTRIBUTES\n",
    "check_df = check_corr_induction(df, ATTRIBUTES, corr_start=0, corr_end=0.85, n=3e4, match_mu=False).load()"
   ]
  },
  {
   "cell_type": "code",
   "execution_count": 14,
   "metadata": {},
   "outputs": [
    {
     "data": {
      "text/plain": [
       "array([0. , 0.1, 0.2, 0.3, 0.4, 0.5, 0.6, 0.7, 0.8])"
      ]
     },
     "execution_count": 14,
     "metadata": {},
     "output_type": "execute_result"
    }
   ],
   "source": [
    "np.linspace(0, 0.8, 9)"
   ]
  },
  {
   "cell_type": "code",
   "execution_count": 28,
   "metadata": {},
   "outputs": [],
   "source": [
    "train_dp = dp.lz[dp[\"split\"].data == \"train\"]\n",
    "indices = induce_correlation(\n",
    "    df, \n",
    "    corr=0.85, \n",
    "    attr_a=\"eyeglasses\", \n",
    "    attr_b=\"wearing_necktie\", \n",
    "    n=25000,\n",
    ")"
   ]
  },
  {
   "cell_type": "code",
   "execution_count": 32,
   "metadata": {},
   "outputs": [
    {
     "data": {
      "text/plain": [
       "(0.8471659195374849, 0.0)"
      ]
     },
     "execution_count": 32,
     "metadata": {},
     "output_type": "execute_result"
    }
   ],
   "source": [
    "new_df = df.iloc[indices]\n",
    "_df = new_df[new_df.split == \"train\"]\n",
    "\n",
    "from scipy.stats import pearsonr\n",
    "\n",
    "pearsonr(_df[\"eyeglasses\"], _df[\"wearing_necktie\"])"
   ]
  },
  {
   "cell_type": "code",
   "execution_count": 6,
   "metadata": {},
   "outputs": [],
   "source": [
    "from domino.vision import train\n"
   ]
  },
  {
   "cell_type": "code",
   "execution_count": null,
   "metadata": {},
   "outputs": [],
   "source": [
    "train(\n",
    "    dp=dp, #mk.concat([train_dp.lz[indices], dp.lz[dp[\"split\"].data == \"valid\"]]),\n",
    "    input_column = \"input\",\n",
    "    target_column=\"smiling\",\n",
    "    id_column=\"file\",\n",
    "    batch_size=256,\n",
    "    run_dir=\"/home/sabri/data/test/1\"\n",
    ")"
   ]
  },
  {
   "cell_type": "code",
   "execution_count": 20,
   "metadata": {},
   "outputs": [
    {
     "data": {
      "text/html": [
       "<div>\n",
       "<style scoped>\n",
       "    .dataframe tbody tr th:only-of-type {\n",
       "        vertical-align: middle;\n",
       "    }\n",
       "\n",
       "    .dataframe tbody tr th {\n",
       "        vertical-align: top;\n",
       "    }\n",
       "\n",
       "    .dataframe thead th {\n",
       "        text-align: right;\n",
       "    }\n",
       "</style>\n",
       "<table border=\"1\" class=\"dataframe\">\n",
       "  <thead>\n",
       "    <tr style=\"text-align: right;\">\n",
       "      <th></th>\n",
       "      <th>file</th>\n",
       "      <th>identity</th>\n",
       "      <th>5_o_clock_shadow</th>\n",
       "      <th>arched_eyebrows</th>\n",
       "      <th>attractive</th>\n",
       "      <th>bags_under_eyes</th>\n",
       "      <th>bald</th>\n",
       "      <th>bangs</th>\n",
       "      <th>big_lips</th>\n",
       "      <th>big_nose</th>\n",
       "      <th>...</th>\n",
       "      <th>wavy_hair</th>\n",
       "      <th>wearing_earrings</th>\n",
       "      <th>wearing_hat</th>\n",
       "      <th>wearing_lipstick</th>\n",
       "      <th>wearing_necklace</th>\n",
       "      <th>wearing_necktie</th>\n",
       "      <th>young</th>\n",
       "      <th>img_path</th>\n",
       "      <th>image_id</th>\n",
       "      <th>split</th>\n",
       "    </tr>\n",
       "  </thead>\n",
       "  <tbody>\n",
       "    <tr>\n",
       "      <th>0</th>\n",
       "      <td>000001.jpg</td>\n",
       "      <td>2880</td>\n",
       "      <td>0</td>\n",
       "      <td>1</td>\n",
       "      <td>1</td>\n",
       "      <td>0</td>\n",
       "      <td>0</td>\n",
       "      <td>0</td>\n",
       "      <td>0</td>\n",
       "      <td>0</td>\n",
       "      <td>...</td>\n",
       "      <td>0</td>\n",
       "      <td>1</td>\n",
       "      <td>0</td>\n",
       "      <td>1</td>\n",
       "      <td>0</td>\n",
       "      <td>0</td>\n",
       "      <td>1</td>\n",
       "      <td>/home/common/datasets/celeba/img_align_celeba/...</td>\n",
       "      <td>000001.jpg</td>\n",
       "      <td>train</td>\n",
       "    </tr>\n",
       "    <tr>\n",
       "      <th>1</th>\n",
       "      <td>000002.jpg</td>\n",
       "      <td>2937</td>\n",
       "      <td>0</td>\n",
       "      <td>0</td>\n",
       "      <td>0</td>\n",
       "      <td>1</td>\n",
       "      <td>0</td>\n",
       "      <td>0</td>\n",
       "      <td>0</td>\n",
       "      <td>1</td>\n",
       "      <td>...</td>\n",
       "      <td>0</td>\n",
       "      <td>0</td>\n",
       "      <td>0</td>\n",
       "      <td>0</td>\n",
       "      <td>0</td>\n",
       "      <td>0</td>\n",
       "      <td>1</td>\n",
       "      <td>/home/common/datasets/celeba/img_align_celeba/...</td>\n",
       "      <td>000002.jpg</td>\n",
       "      <td>train</td>\n",
       "    </tr>\n",
       "    <tr>\n",
       "      <th>2</th>\n",
       "      <td>000003.jpg</td>\n",
       "      <td>8692</td>\n",
       "      <td>0</td>\n",
       "      <td>0</td>\n",
       "      <td>0</td>\n",
       "      <td>0</td>\n",
       "      <td>0</td>\n",
       "      <td>0</td>\n",
       "      <td>1</td>\n",
       "      <td>0</td>\n",
       "      <td>...</td>\n",
       "      <td>1</td>\n",
       "      <td>0</td>\n",
       "      <td>0</td>\n",
       "      <td>0</td>\n",
       "      <td>0</td>\n",
       "      <td>0</td>\n",
       "      <td>1</td>\n",
       "      <td>/home/common/datasets/celeba/img_align_celeba/...</td>\n",
       "      <td>000003.jpg</td>\n",
       "      <td>train</td>\n",
       "    </tr>\n",
       "    <tr>\n",
       "      <th>3</th>\n",
       "      <td>000004.jpg</td>\n",
       "      <td>5805</td>\n",
       "      <td>0</td>\n",
       "      <td>0</td>\n",
       "      <td>1</td>\n",
       "      <td>0</td>\n",
       "      <td>0</td>\n",
       "      <td>0</td>\n",
       "      <td>0</td>\n",
       "      <td>0</td>\n",
       "      <td>...</td>\n",
       "      <td>0</td>\n",
       "      <td>1</td>\n",
       "      <td>0</td>\n",
       "      <td>1</td>\n",
       "      <td>1</td>\n",
       "      <td>0</td>\n",
       "      <td>1</td>\n",
       "      <td>/home/common/datasets/celeba/img_align_celeba/...</td>\n",
       "      <td>000004.jpg</td>\n",
       "      <td>train</td>\n",
       "    </tr>\n",
       "    <tr>\n",
       "      <th>4</th>\n",
       "      <td>000005.jpg</td>\n",
       "      <td>9295</td>\n",
       "      <td>0</td>\n",
       "      <td>1</td>\n",
       "      <td>1</td>\n",
       "      <td>0</td>\n",
       "      <td>0</td>\n",
       "      <td>0</td>\n",
       "      <td>1</td>\n",
       "      <td>0</td>\n",
       "      <td>...</td>\n",
       "      <td>0</td>\n",
       "      <td>0</td>\n",
       "      <td>0</td>\n",
       "      <td>1</td>\n",
       "      <td>0</td>\n",
       "      <td>0</td>\n",
       "      <td>1</td>\n",
       "      <td>/home/common/datasets/celeba/img_align_celeba/...</td>\n",
       "      <td>000005.jpg</td>\n",
       "      <td>train</td>\n",
       "    </tr>\n",
       "    <tr>\n",
       "      <th>...</th>\n",
       "      <td>...</td>\n",
       "      <td>...</td>\n",
       "      <td>...</td>\n",
       "      <td>...</td>\n",
       "      <td>...</td>\n",
       "      <td>...</td>\n",
       "      <td>...</td>\n",
       "      <td>...</td>\n",
       "      <td>...</td>\n",
       "      <td>...</td>\n",
       "      <td>...</td>\n",
       "      <td>...</td>\n",
       "      <td>...</td>\n",
       "      <td>...</td>\n",
       "      <td>...</td>\n",
       "      <td>...</td>\n",
       "      <td>...</td>\n",
       "      <td>...</td>\n",
       "      <td>...</td>\n",
       "      <td>...</td>\n",
       "      <td>...</td>\n",
       "    </tr>\n",
       "    <tr>\n",
       "      <th>202594</th>\n",
       "      <td>202595.jpg</td>\n",
       "      <td>9761</td>\n",
       "      <td>0</td>\n",
       "      <td>0</td>\n",
       "      <td>1</td>\n",
       "      <td>0</td>\n",
       "      <td>0</td>\n",
       "      <td>0</td>\n",
       "      <td>1</td>\n",
       "      <td>0</td>\n",
       "      <td>...</td>\n",
       "      <td>0</td>\n",
       "      <td>0</td>\n",
       "      <td>0</td>\n",
       "      <td>1</td>\n",
       "      <td>0</td>\n",
       "      <td>0</td>\n",
       "      <td>1</td>\n",
       "      <td>/home/common/datasets/celeba/img_align_celeba/...</td>\n",
       "      <td>202595.jpg</td>\n",
       "      <td>test</td>\n",
       "    </tr>\n",
       "    <tr>\n",
       "      <th>202595</th>\n",
       "      <td>202596.jpg</td>\n",
       "      <td>7192</td>\n",
       "      <td>0</td>\n",
       "      <td>0</td>\n",
       "      <td>0</td>\n",
       "      <td>0</td>\n",
       "      <td>0</td>\n",
       "      <td>1</td>\n",
       "      <td>1</td>\n",
       "      <td>0</td>\n",
       "      <td>...</td>\n",
       "      <td>0</td>\n",
       "      <td>0</td>\n",
       "      <td>0</td>\n",
       "      <td>0</td>\n",
       "      <td>0</td>\n",
       "      <td>0</td>\n",
       "      <td>1</td>\n",
       "      <td>/home/common/datasets/celeba/img_align_celeba/...</td>\n",
       "      <td>202596.jpg</td>\n",
       "      <td>test</td>\n",
       "    </tr>\n",
       "    <tr>\n",
       "      <th>202596</th>\n",
       "      <td>202597.jpg</td>\n",
       "      <td>9852</td>\n",
       "      <td>0</td>\n",
       "      <td>0</td>\n",
       "      <td>0</td>\n",
       "      <td>0</td>\n",
       "      <td>0</td>\n",
       "      <td>0</td>\n",
       "      <td>0</td>\n",
       "      <td>0</td>\n",
       "      <td>...</td>\n",
       "      <td>0</td>\n",
       "      <td>0</td>\n",
       "      <td>0</td>\n",
       "      <td>0</td>\n",
       "      <td>0</td>\n",
       "      <td>0</td>\n",
       "      <td>1</td>\n",
       "      <td>/home/common/datasets/celeba/img_align_celeba/...</td>\n",
       "      <td>202597.jpg</td>\n",
       "      <td>test</td>\n",
       "    </tr>\n",
       "    <tr>\n",
       "      <th>202597</th>\n",
       "      <td>202598.jpg</td>\n",
       "      <td>5570</td>\n",
       "      <td>0</td>\n",
       "      <td>1</td>\n",
       "      <td>1</td>\n",
       "      <td>0</td>\n",
       "      <td>0</td>\n",
       "      <td>0</td>\n",
       "      <td>1</td>\n",
       "      <td>0</td>\n",
       "      <td>...</td>\n",
       "      <td>1</td>\n",
       "      <td>1</td>\n",
       "      <td>0</td>\n",
       "      <td>1</td>\n",
       "      <td>0</td>\n",
       "      <td>0</td>\n",
       "      <td>1</td>\n",
       "      <td>/home/common/datasets/celeba/img_align_celeba/...</td>\n",
       "      <td>202598.jpg</td>\n",
       "      <td>test</td>\n",
       "    </tr>\n",
       "    <tr>\n",
       "      <th>202598</th>\n",
       "      <td>202599.jpg</td>\n",
       "      <td>10101</td>\n",
       "      <td>0</td>\n",
       "      <td>1</td>\n",
       "      <td>1</td>\n",
       "      <td>0</td>\n",
       "      <td>0</td>\n",
       "      <td>0</td>\n",
       "      <td>0</td>\n",
       "      <td>0</td>\n",
       "      <td>...</td>\n",
       "      <td>1</td>\n",
       "      <td>0</td>\n",
       "      <td>0</td>\n",
       "      <td>1</td>\n",
       "      <td>0</td>\n",
       "      <td>0</td>\n",
       "      <td>1</td>\n",
       "      <td>/home/common/datasets/celeba/img_align_celeba/...</td>\n",
       "      <td>202599.jpg</td>\n",
       "      <td>test</td>\n",
       "    </tr>\n",
       "  </tbody>\n",
       "</table>\n",
       "<p>202599 rows × 45 columns</p>\n",
       "</div>"
      ],
      "text/plain": [
       "              file  identity  5_o_clock_shadow  arched_eyebrows  attractive  \\\n",
       "0       000001.jpg      2880                 0                1           1   \n",
       "1       000002.jpg      2937                 0                0           0   \n",
       "2       000003.jpg      8692                 0                0           0   \n",
       "3       000004.jpg      5805                 0                0           1   \n",
       "4       000005.jpg      9295                 0                1           1   \n",
       "...            ...       ...               ...              ...         ...   \n",
       "202594  202595.jpg      9761                 0                0           1   \n",
       "202595  202596.jpg      7192                 0                0           0   \n",
       "202596  202597.jpg      9852                 0                0           0   \n",
       "202597  202598.jpg      5570                 0                1           1   \n",
       "202598  202599.jpg     10101                 0                1           1   \n",
       "\n",
       "        bags_under_eyes  bald  bangs  big_lips  big_nose  ...  wavy_hair  \\\n",
       "0                     0     0      0         0         0  ...          0   \n",
       "1                     1     0      0         0         1  ...          0   \n",
       "2                     0     0      0         1         0  ...          1   \n",
       "3                     0     0      0         0         0  ...          0   \n",
       "4                     0     0      0         1         0  ...          0   \n",
       "...                 ...   ...    ...       ...       ...  ...        ...   \n",
       "202594                0     0      0         1         0  ...          0   \n",
       "202595                0     0      1         1         0  ...          0   \n",
       "202596                0     0      0         0         0  ...          0   \n",
       "202597                0     0      0         1         0  ...          1   \n",
       "202598                0     0      0         0         0  ...          1   \n",
       "\n",
       "        wearing_earrings  wearing_hat  wearing_lipstick  wearing_necklace  \\\n",
       "0                      1            0                 1                 0   \n",
       "1                      0            0                 0                 0   \n",
       "2                      0            0                 0                 0   \n",
       "3                      1            0                 1                 1   \n",
       "4                      0            0                 1                 0   \n",
       "...                  ...          ...               ...               ...   \n",
       "202594                 0            0                 1                 0   \n",
       "202595                 0            0                 0                 0   \n",
       "202596                 0            0                 0                 0   \n",
       "202597                 1            0                 1                 0   \n",
       "202598                 0            0                 1                 0   \n",
       "\n",
       "        wearing_necktie  young  \\\n",
       "0                     0      1   \n",
       "1                     0      1   \n",
       "2                     0      1   \n",
       "3                     0      1   \n",
       "4                     0      1   \n",
       "...                 ...    ...   \n",
       "202594                0      1   \n",
       "202595                0      1   \n",
       "202596                0      1   \n",
       "202597                0      1   \n",
       "202598                0      1   \n",
       "\n",
       "                                                 img_path    image_id  split  \n",
       "0       /home/common/datasets/celeba/img_align_celeba/...  000001.jpg  train  \n",
       "1       /home/common/datasets/celeba/img_align_celeba/...  000002.jpg  train  \n",
       "2       /home/common/datasets/celeba/img_align_celeba/...  000003.jpg  train  \n",
       "3       /home/common/datasets/celeba/img_align_celeba/...  000004.jpg  train  \n",
       "4       /home/common/datasets/celeba/img_align_celeba/...  000005.jpg  train  \n",
       "...                                                   ...         ...    ...  \n",
       "202594  /home/common/datasets/celeba/img_align_celeba/...  202595.jpg   test  \n",
       "202595  /home/common/datasets/celeba/img_align_celeba/...  202596.jpg   test  \n",
       "202596  /home/common/datasets/celeba/img_align_celeba/...  202597.jpg   test  \n",
       "202597  /home/common/datasets/celeba/img_align_celeba/...  202598.jpg   test  \n",
       "202598  /home/common/datasets/celeba/img_align_celeba/...  202599.jpg   test  \n",
       "\n",
       "[202599 rows x 45 columns]"
      ]
     },
     "execution_count": 20,
     "metadata": {},
     "output_type": "execute_result"
    }
   ],
   "source": [
    "df"
   ]
  },
  {
   "cell_type": "code",
   "execution_count": 57,
   "metadata": {},
   "outputs": [],
   "source": [
    "target, correlate = \"high_cheekbones\", \"wearing_hat\"\n",
    "indices = induce_correlation(\n",
    "    dp,\n",
    "    corr=0.85,\n",
    "    attr_a=target,\n",
    "    attr_b=correlate,\n",
    "    n=30000,\n",
    "    match_mu=True\n",
    ")"
   ]
  },
  {
   "cell_type": "code",
   "execution_count": 58,
   "metadata": {},
   "outputs": [
    {
     "name": "stderr",
     "output_type": "stream",
     "text": [
      "/home/common/envs/conda/envs/domino/lib/python3.8/site-packages/torchmetrics/utilities/prints.py:36: UserWarning: Metric `AUROC` will save all targets and predictions in buffer. For large datasets this may lead to large memory footprint.\n",
      "  warnings.warn(*args, **kwargs)\n"
     ]
    }
   ],
   "source": [
    "model = terra.get_artifacts(538, \"best_chkpt\")[\"model\"].load()"
   ]
  },
  {
   "cell_type": "code",
   "execution_count": 61,
   "metadata": {},
   "outputs": [],
   "source": [
    "valid_dp = dp.lz[indices]\n",
    "valid_dp = valid_dp.lz[valid_dp[\"split\"].data == \"valid\"]"
   ]
  },
  {
   "cell_type": "code",
   "execution_count": 62,
   "metadata": {},
   "outputs": [],
   "source": [
    "from domino.vision import predict"
   ]
  },
  {
   "cell_type": "code",
   "execution_count": 63,
   "metadata": {},
   "outputs": [
    {
     "data": {
      "application/vnd.jupyter.widget-view+json": {
       "model_id": "af31550011264b0eb8cd2b9743f2755d",
       "version_major": 2,
       "version_minor": 0
      },
      "text/plain": [
       "HBox(children=(FloatProgress(value=0.0, max=24.0), HTML(value='')))"
      ]
     },
     "metadata": {},
     "output_type": "display_data"
    },
    {
     "name": "stdout",
     "output_type": "stream",
     "text": [
      "\n"
     ]
    }
   ],
   "source": [
    "valid_dp = predict(\n",
    "    model,\n",
    "    valid_dp,\n",
    "    {\"layer4\": model.model.layer4},\n",
    "    batch_size=128\n",
    ")"
   ]
  },
  {
   "cell_type": "code",
   "execution_count": 64,
   "metadata": {},
   "outputs": [],
   "source": [
    "from sklearn.metrics import roc_auc_score\n",
    "target, correlate = \"high_cheekbones\", \"wearing_hat\""
   ]
  },
  {
   "cell_type": "code",
   "execution_count": 65,
   "metadata": {},
   "outputs": [
    {
     "data": {
      "text/plain": [
       "0.984703312607204"
      ]
     },
     "execution_count": 65,
     "metadata": {},
     "output_type": "execute_result"
    }
   ],
   "source": [
    "roc_auc_score(valid_dp[target], valid_dp[\"output\"].data[:, -1])"
   ]
  },
  {
   "cell_type": "code",
   "execution_count": 66,
   "metadata": {},
   "outputs": [
    {
     "data": {
      "text/plain": [
       "0.8628345498783454"
      ]
     },
     "execution_count": 66,
     "metadata": {},
     "output_type": "execute_result"
    }
   ],
   "source": [
    "subgroup_dp = valid_dp[valid_dp[correlate] == 1]\n",
    "roc_auc_score(subgroup_dp[target], subgroup_dp[\"output\"].data[:, -1])"
   ]
  },
  {
   "cell_type": "code",
   "execution_count": 67,
   "metadata": {},
   "outputs": [
    {
     "data": {
      "text/plain": [
       "0.9549199010158895"
      ]
     },
     "execution_count": 67,
     "metadata": {},
     "output_type": "execute_result"
    }
   ],
   "source": [
    "subgroup_dp = valid_dp[valid_dp[correlate] == 0]\n",
    "roc_auc_score(subgroup_dp[target], subgroup_dp[\"output\"].data[:, -1])"
   ]
  },
  {
   "cell_type": "code",
   "execution_count": 68,
   "metadata": {},
   "outputs": [
    {
     "ename": "ModuleNotFoundError",
     "evalue": "No module named 'ray'",
     "output_type": "error",
     "traceback": [
      "\u001b[0;31m---------------------------------------------------------------------------\u001b[0m",
      "\u001b[0;31mModuleNotFoundError\u001b[0m                       Traceback (most recent call last)",
      "\u001b[0;32m<ipython-input-68-d310bc7e5061>\u001b[0m in \u001b[0;36m<module>\u001b[0;34m\u001b[0m\n\u001b[0;32m----> 1\u001b[0;31m \u001b[0;32mimport\u001b[0m \u001b[0mray\u001b[0m\u001b[0;34m\u001b[0m\u001b[0;34m\u001b[0m\u001b[0m\n\u001b[0m",
      "\u001b[0;31mModuleNotFoundError\u001b[0m: No module named 'ray'"
     ]
    }
   ],
   "source": [
    "import ray"
   ]
  },
  {
   "cell_type": "code",
   "execution_count": 19,
   "metadata": {},
   "outputs": [
    {
     "data": {
      "text/html": [
       "<div>\n",
       "<style scoped>\n",
       "    .dataframe tbody tr th:only-of-type {\n",
       "        vertical-align: middle;\n",
       "    }\n",
       "\n",
       "    .dataframe tbody tr th {\n",
       "        vertical-align: top;\n",
       "    }\n",
       "\n",
       "    .dataframe thead th {\n",
       "        text-align: right;\n",
       "    }\n",
       "</style>\n",
       "<table border=\"1\" class=\"dataframe\">\n",
       "  <thead>\n",
       "    <tr style=\"text-align: right;\">\n",
       "      <th></th>\n",
       "      <th>(ImageColumn)</th>\n",
       "    </tr>\n",
       "  </thead>\n",
       "  <tbody>\n",
       "    <tr>\n",
       "      <th>0</th>\n",
       "      <td>ImagePathCell(/home/common/datasets/celeba/img...</td>\n",
       "    </tr>\n",
       "    <tr>\n",
       "      <th>1</th>\n",
       "      <td>ImagePathCell(/home/common/datasets/celeba/img...</td>\n",
       "    </tr>\n",
       "    <tr>\n",
       "      <th>2</th>\n",
       "      <td>ImagePathCell(/home/common/datasets/celeba/img...</td>\n",
       "    </tr>\n",
       "    <tr>\n",
       "      <th>3</th>\n",
       "      <td>ImagePathCell(/home/common/datasets/celeba/img...</td>\n",
       "    </tr>\n",
       "    <tr>\n",
       "      <th>4</th>\n",
       "      <td>ImagePathCell(/home/common/datasets/celeba/img...</td>\n",
       "    </tr>\n",
       "    <tr>\n",
       "      <th>...</th>\n",
       "      <td>...</td>\n",
       "    </tr>\n",
       "    <tr>\n",
       "      <th>202594</th>\n",
       "      <td>ImagePathCell(/home/common/datasets/celeba/img...</td>\n",
       "    </tr>\n",
       "    <tr>\n",
       "      <th>202595</th>\n",
       "      <td>ImagePathCell(/home/common/datasets/celeba/img...</td>\n",
       "    </tr>\n",
       "    <tr>\n",
       "      <th>202596</th>\n",
       "      <td>ImagePathCell(/home/common/datasets/celeba/img...</td>\n",
       "    </tr>\n",
       "    <tr>\n",
       "      <th>202597</th>\n",
       "      <td>ImagePathCell(/home/common/datasets/celeba/img...</td>\n",
       "    </tr>\n",
       "    <tr>\n",
       "      <th>202598</th>\n",
       "      <td>ImagePathCell(/home/common/datasets/celeba/img...</td>\n",
       "    </tr>\n",
       "  </tbody>\n",
       "</table>\n",
       "<p>202599 rows × 1 columns</p>\n",
       "</div>"
      ],
      "text/plain": [
       "ImageColumn(0         /ho... dtype: object)"
      ]
     },
     "execution_count": 19,
     "metadata": {},
     "output_type": "execute_result"
    }
   ],
   "source": [
    "dp[\"img\"][]"
   ]
  },
  {
   "cell_type": "code",
   "execution_count": null,
   "metadata": {},
   "outputs": [],
   "source": []
  }
 ],
 "metadata": {
  "interpreter": {
   "hash": "0d937a63d09daec3f9548a5c769ccb20edb9c2c1ae2375686b21850f577713d2"
  },
  "kernelspec": {
   "display_name": "Python 3.8.10 64-bit ('domino': conda)",
   "name": "python3"
  },
  "language_info": {
   "codemirror_mode": {
    "name": "ipython",
    "version": 3
   },
   "file_extension": ".py",
   "mimetype": "text/x-python",
   "name": "python",
   "nbconvert_exporter": "python",
   "pygments_lexer": "ipython3",
   "version": "3.8.10"
  },
  "orig_nbformat": 4
 },
 "nbformat": 4,
 "nbformat_minor": 2
}