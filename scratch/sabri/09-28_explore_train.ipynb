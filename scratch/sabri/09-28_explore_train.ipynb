{
 "cells": [
  {
   "cell_type": "code",
   "execution_count": 29,
   "source": [
    "%load_ext autoreload\n",
    "%autoreload 2"
   ],
   "outputs": [
    {
     "output_type": "stream",
     "name": "stdout",
     "text": [
      "The autoreload extension is already loaded. To reload it, use:\n",
      "  %reload_ext autoreload\n"
     ]
    }
   ],
   "metadata": {}
  },
  {
   "cell_type": "code",
   "execution_count": 33,
   "source": [
    "from domino.utils import get_wandb_runs\n",
    "df = get_wandb_runs()"
   ],
   "outputs": [],
   "metadata": {}
  },
  {
   "cell_type": "code",
   "execution_count": 36,
   "source": [
    "df[\"state\"]"
   ],
   "outputs": [],
   "metadata": {}
  },
  {
   "cell_type": "code",
   "execution_count": 6,
   "source": [
    "df = pd.DataFrame(config_list)"
   ],
   "outputs": [],
   "metadata": {}
  },
  {
   "cell_type": "code",
   "execution_count": 14,
   "source": [
    "x = df[df[\"train_settings_run_id\"].isin([41147, 41430, 41192])]"
   ],
   "outputs": [],
   "metadata": {}
  },
  {
   "cell_type": "code",
   "execution_count": 15,
   "source": [
    "x[\"setting_id\"].nunique() == len(x)"
   ],
   "outputs": [
    {
     "output_type": "execute_result",
     "data": {
      "text/plain": [
       "True"
      ]
     },
     "metadata": {},
     "execution_count": 15
    }
   ],
   "metadata": {}
  },
  {
   "cell_type": "code",
   "execution_count": 19,
   "source": [
    "from domino.slices.abstract import concat_settings"
   ],
   "outputs": [],
   "metadata": {}
  },
  {
   "cell_type": "code",
   "execution_count": 23,
   "source": [
    "df = concat_settings.out(41005).load()"
   ],
   "outputs": [],
   "metadata": {}
  },
  {
   "cell_type": "code",
   "execution_count": 28,
   "source": [
    "df[\"slice_category\"].value_counts()"
   ],
   "outputs": [
    {
     "output_type": "execute_result",
     "data": {
      "text/html": [
       "<table border=\"1\" class=\"dataframe\">\n",
       "  <thead>\n",
       "    <tr style=\"text-align: right;\">\n",
       "      <th></th>\n",
       "      <th>(PandasSeriesColumn)</th>\n",
       "    </tr>\n",
       "  </thead>\n",
       "  <tbody>\n",
       "    <tr>\n",
       "      <th>0</th>\n",
       "      <td>394</td>\n",
       "    </tr>\n",
       "    <tr>\n",
       "      <th>1</th>\n",
       "      <td>394</td>\n",
       "    </tr>\n",
       "  </tbody>\n",
       "</table>"
      ],
      "text/plain": [
       "PandasSeriesColumn(rare         ..., dtype: int64)"
      ]
     },
     "metadata": {},
     "execution_count": 28
    }
   ],
   "metadata": {}
  },
  {
   "cell_type": "code",
   "execution_count": 25,
   "source": [
    "df"
   ],
   "outputs": [
    {
     "output_type": "execute_result",
     "data": {
      "text/html": [
       "<table border=\"1\" class=\"dataframe\">\n",
       "  <thead>\n",
       "    <tr style=\"text-align: right;\">\n",
       "      <th></th>\n",
       "      <th>alpha (NumpyArrayColumn)</th>\n",
       "      <th>slice_names (ListColumn)</th>\n",
       "      <th>index (PandasSeriesColumn)</th>\n",
       "      <th>target_name (PandasSeriesColumn)</th>\n",
       "      <th>dataset (PandasSeriesColumn)</th>\n",
       "      <th>slice_category (PandasSeriesColumn)</th>\n",
       "      <th>setting_id (PandasSeriesColumn)</th>\n",
       "      <th>build_setting_kwargs (ListColumn)</th>\n",
       "    </tr>\n",
       "  </thead>\n",
       "  <tbody>\n",
       "    <tr>\n",
       "      <th>0</th>\n",
       "      <td>0.03</td>\n",
       "      <td>['tractor.n.01']</td>\n",
       "      <td>0</td>\n",
       "      <td>vehicle.n.01</td>\n",
       "      <td>imagenet</td>\n",
       "      <td>rare</td>\n",
       "      <td>70be9b69-2c4f-4444-baeb-4344db3af4bd</td>\n",
       "      <td>{'target_frac': 0.5, 'slice_frac': 0.029999999999999995, 'n': 30000, 'slice_synsets': ['tractor.n.01'], 'target_synset': 'vehicle.n.01'}</td>\n",
       "    </tr>\n",
       "    <tr>\n",
       "      <th>1</th>\n",
       "      <td>0.03</td>\n",
       "      <td>['submarine.n.01']</td>\n",
       "      <td>1</td>\n",
       "      <td>vehicle.n.01</td>\n",
       "      <td>imagenet</td>\n",
       "      <td>rare</td>\n",
       "      <td>0dc00470-fc4d-4e9c-ac70-549e6bfe1965</td>\n",
       "      <td>{'target_frac': 0.5, 'slice_frac': 0.029999999999999995, 'n': 30000, 'slice_synsets': ['submarine.n.01'], 'target_synset': 'vehicle.n.01'}</td>\n",
       "    </tr>\n",
       "    <tr>\n",
       "      <th>2</th>\n",
       "      <td>0.03</td>\n",
       "      <td>['bobsled.n.02']</td>\n",
       "      <td>2</td>\n",
       "      <td>vehicle.n.01</td>\n",
       "      <td>imagenet</td>\n",
       "      <td>rare</td>\n",
       "      <td>16acabb6-bd41-435e-8ef9-c00869c3953a</td>\n",
       "      <td>{'target_frac': 0.5, 'slice_frac': 0.029999999999999995, 'n': 30000, 'slice_synsets': ['bobsled.n.02'], 'target_synset': 'vehicle.n.01'}</td>\n",
       "    </tr>\n",
       "    <tr>\n",
       "      <th>3</th>\n",
       "      <td>0.03</td>\n",
       "      <td>['trailer_truck.n.01']</td>\n",
       "      <td>3</td>\n",
       "      <td>vehicle.n.01</td>\n",
       "      <td>imagenet</td>\n",
       "      <td>rare</td>\n",
       "      <td>f32b4337-ae3e-40d1-84fa-265726b7f84c</td>\n",
       "      <td>{'target_frac': 0.5, 'slice_frac': 0.029999999999999995, 'n': 30000, 'slice_synsets': ['trailer_truck.n.01'], 'target_synset': 'vehicle.n.01'}</td>\n",
       "    </tr>\n",
       "    <tr>\n",
       "      <th>4</th>\n",
       "      <td>0.03</td>\n",
       "      <td>['barrow.n.03']</td>\n",
       "      <td>4</td>\n",
       "      <td>vehicle.n.01</td>\n",
       "      <td>imagenet</td>\n",
       "      <td>rare</td>\n",
       "      <td>5ca59f25-fb21-4b5f-8d9a-fcdb4e2341e3</td>\n",
       "      <td>{'target_frac': 0.5, 'slice_frac': 0.029999999999999995, 'n': 30000, 'slice_synsets': ['barrow.n.03'], 'target_synset': 'vehicle.n.01'}</td>\n",
       "    </tr>\n",
       "    <tr>\n",
       "      <th>...</th>\n",
       "      <td>...</td>\n",
       "      <td>...</td>\n",
       "      <td>...</td>\n",
       "      <td>...</td>\n",
       "      <td>...</td>\n",
       "      <td>...</td>\n",
       "      <td>...</td>\n",
       "      <td>...</td>\n",
       "    </tr>\n",
       "    <tr>\n",
       "      <th>783</th>\n",
       "      <td>0.10</td>\n",
       "      <td>['jaguar.n.01']</td>\n",
       "      <td>389</td>\n",
       "      <td>big_cat.n.01</td>\n",
       "      <td>imagenet</td>\n",
       "      <td>noisy_label</td>\n",
       "      <td>ce197675-fcbc-4bd9-a787-742b288aa8a9</td>\n",
       "      <td>{'target_frac': 0.27, 'error_rate': 0.1, 'n': 30000, 'slice_synsets': ['jaguar.n.01'], 'target_synset': 'big_cat.n.01'}</td>\n",
       "    </tr>\n",
       "    <tr>\n",
       "      <th>784</th>\n",
       "      <td>0.10</td>\n",
       "      <td>['clock.n.01']</td>\n",
       "      <td>390</td>\n",
       "      <td>timepiece.n.01</td>\n",
       "      <td>imagenet</td>\n",
       "      <td>noisy_label</td>\n",
       "      <td>bdacba8c-23bb-427b-9fd3-dd9eb7cb452e</td>\n",
       "      <td>{'target_frac': 0.3388, 'error_rate': 0.1, 'n': 30000, 'slice_synsets': ['clock.n.01'], 'target_synset': 'timepiece.n.01'}</td>\n",
       "    </tr>\n",
       "    <tr>\n",
       "      <th>785</th>\n",
       "      <td>0.10</td>\n",
       "      <td>['watch.n.01']</td>\n",
       "      <td>391</td>\n",
       "      <td>timepiece.n.01</td>\n",
       "      <td>imagenet</td>\n",
       "      <td>noisy_label</td>\n",
       "      <td>abf7a49d-0b20-491e-bc4c-b2146d7f9ebe</td>\n",
       "      <td>{'target_frac': 0.3388, 'error_rate': 0.1, 'n': 30000, 'slice_synsets': ['watch.n.01'], 'target_synset': 'timepiece.n.01'}</td>\n",
       "    </tr>\n",
       "    <tr>\n",
       "      <th>786</th>\n",
       "      <td>0.10</td>\n",
       "      <td>['clock.n.01']</td>\n",
       "      <td>392</td>\n",
       "      <td>timepiece.n.01</td>\n",
       "      <td>imagenet</td>\n",
       "      <td>noisy_label</td>\n",
       "      <td>6acbebf8-3811-429d-b42b-8d58734ce37d</td>\n",
       "      <td>{'target_frac': 0.3388, 'error_rate': 0.1, 'n': 30000, 'slice_synsets': ['clock.n.01'], 'target_synset': 'timepiece.n.01'}</td>\n",
       "    </tr>\n",
       "    <tr>\n",
       "      <th>787</th>\n",
       "      <td>0.10</td>\n",
       "      <td>['watch.n.01']</td>\n",
       "      <td>393</td>\n",
       "      <td>timepiece.n.01</td>\n",
       "      <td>imagenet</td>\n",
       "      <td>noisy_label</td>\n",
       "      <td>a5d99b7d-5c60-432b-877e-25c783a26fa8</td>\n",
       "      <td>{'target_frac': 0.3388, 'error_rate': 0.1, 'n': 30000, 'slice_synsets': ['watch.n.01'], 'target_synset': 'timepiece.n.01'}</td>\n",
       "    </tr>\n",
       "  </tbody>\n",
       "</table>"
      ],
      "text/plain": [
       "DataPanel(nrows: 788, ncols: 8)"
      ]
     },
     "metadata": {},
     "execution_count": 25
    }
   ],
   "metadata": {}
  },
  {
   "cell_type": "code",
   "execution_count": null,
   "source": [],
   "outputs": [],
   "metadata": {}
  }
 ],
 "metadata": {
  "orig_nbformat": 4,
  "language_info": {
   "name": "python",
   "version": "3.8.10",
   "mimetype": "text/x-python",
   "codemirror_mode": {
    "name": "ipython",
    "version": 3
   },
   "pygments_lexer": "ipython3",
   "nbconvert_exporter": "python",
   "file_extension": ".py"
  },
  "kernelspec": {
   "name": "python3",
   "display_name": "Python 3.8.10 64-bit ('domino': conda)"
  },
  "interpreter": {
   "hash": "0d937a63d09daec3f9548a5c769ccb20edb9c2c1ae2375686b21850f577713d2"
  }
 },
 "nbformat": 4,
 "nbformat_minor": 2
}