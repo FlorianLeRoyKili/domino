{
 "cells": [
  {
   "cell_type": "code",
   "execution_count": 1,
   "source": [
    "dp = get_imagenet_dp()"
   ],
   "outputs": [],
   "metadata": {}
  },
  {
   "cell_type": "code",
   "execution_count": 5,
   "source": [
    "from domino.data.imagenet import get_imagenet_dp\n",
    "    data_dp=dp,\n",
    "    target_synset=\"vehicle.n.01\",\n",
    "    slice_synsets=[\"lifeboat.n.01\"],\n",
    "    error_rate=0.3,\n",
    "    target_frac=0.5,\n",
    "    n=20_000,\n"
   ],
   "outputs": [],
   "metadata": {}
  },
  {
   "cell_type": "code",
   "execution_count": 13,
   "source": [
    "dp = get_imagenet_dp().load()"
   ],
   "outputs": [
    {
     "output_type": "stream",
     "name": "stdout",
     "text": [
      "cache hit –> task: get_imagenet_dp, run_id=19189\n"
     ]
    }
   ],
   "metadata": {}
  },
  {
   "cell_type": "code",
   "execution_count": 7,
   "source": [
    "sb = ImageNetSliceBuilder()\n",
    "    data_dp=dp,\n",
    "    target_synset=\"vehicle.n.01\",\n",
    "    slice_synsets=[\"lifeboat.n.01\"],\n",
    "    error_rate=0.3,\n",
    "    target_frac=0.5,\n",
    "    n=20_000,\n"
   ],
   "outputs": [],
   "metadata": {}
  },
  {
   "cell_type": "code",
   "execution_count": 18,
   "source": [
    "out = sb.build_noisy_label_setting(\n",
    "    data_dp=dp,\n",
    "    target_synset=\"vehicle.n.01\",\n",
    "    slice_synsets=[\"lifeboat.n.01\"],\n",
    "    error_rate=0.3,\n",
    "    target_frac=0.5,\n",
    "    n=20_000,\n",
    ")\n"
   ],
   "outputs": [],
   "metadata": {}
  },
  {
   "cell_type": "code",
   "execution_count": 1,
   "source": [
    "from domino.slices import collect_settings"
   ],
   "outputs": [],
   "metadata": {}
  },
  {
   "cell_type": "code",
   "execution_count": 22,
   "source": [
    "import terra\n",
    "print(terra.get_log(38022))"
   ],
   "outputs": [
    {
     "output_type": "stream",
     "name": "stdout",
     "text": [
      "[2021-09-27 23:44:07.489448]: task: train_model, run_id=38022\n",
      "[2021-09-27 23:44:21.769734]: \n",
      "[2021-09-27 23:44:21.775017]: signal only works in main thread\n",
      "[2021-09-27 23:44:34.155216]: len auroc [2021-09-27 23:44:34.159737]: 2\n",
      "[2021-09-27 23:46:08.430320]: len auroc [2021-09-27 23:46:08.430400]: 12\n",
      "[2021-09-27 23:48:43.809111]: len auroc [2021-09-27 23:48:43.809179]: 12\n",
      "[2021-09-27 23:51:11.268725]: len auroc [2021-09-27 23:51:11.268805]: 12\n",
      "[2021-09-27 23:53:44.657949]: len auroc [2021-09-27 23:53:44.658041]: 12\n",
      "[2021-09-27 23:55:53.165934]: len auroc [2021-09-27 23:55:53.166016]: 12\n",
      "[2021-09-27 23:58:12.361348]: len auroc [2021-09-27 23:58:12.361439]: 12\n",
      "[2021-09-28 00:00:30.736932]: len auroc [2021-09-28 00:00:30.737015]: 12\n",
      "[2021-09-28 00:02:57.503075]: len auroc [2021-09-28 00:02:57.503150]: 12\n",
      "[2021-09-28 00:05:16.730365]: len auroc [2021-09-28 00:05:16.730432]: 12\n",
      "[2021-09-28 00:07:37.367292]: len auroc [2021-09-28 00:07:37.367367]: 12\n",
      "[2021-09-28 00:10:04.629601]: len auroc [2021-09-28 00:10:04.629703]: 12\n",
      "[2021-09-28 00:12:25.216898]: len auroc [2021-09-28 00:12:25.216996]: 12\n",
      "[2021-09-28 00:14:51.500590]: len auroc [2021-09-28 00:14:51.500658]: 12\n",
      "[2021-09-28 00:17:20.193985]: len auroc [2021-09-28 00:17:20.194060]: 12\n",
      "[2021-09-28 00:19:48.295931]: len auroc [2021-09-28 00:19:48.296017]: 12\n",
      "[2021-09-28 00:20:35.908499]: \n",
      "\n"
     ]
    }
   ],
   "metadata": {}
  },
  {
   "cell_type": "code",
   "execution_count": null,
   "source": [
    "terra"
   ],
   "outputs": [],
   "metadata": {}
  }
 ],
 "metadata": {
  "orig_nbformat": 4,
  "language_info": {
   "name": "python",
   "version": "3.8.10",
   "mimetype": "text/x-python",
   "codemirror_mode": {
    "name": "ipython",
    "version": 3
   },
   "pygments_lexer": "ipython3",
   "nbconvert_exporter": "python",
   "file_extension": ".py"
  },
  "kernelspec": {
   "name": "python3",
   "display_name": "Python 3.8.10 64-bit ('domino': conda)"
  },
  "interpreter": {
   "hash": "0d937a63d09daec3f9548a5c769ccb20edb9c2c1ae2375686b21850f577713d2"
  }
 },
 "nbformat": 4,
 "nbformat_minor": 2
}