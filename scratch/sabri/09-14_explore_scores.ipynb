{
 "cells": [
  {
   "cell_type": "code",
   "execution_count": 1,
   "source": [
    "%load_ext autoreload\n",
    "%autoreload 2\n",
    "import terra\n",
    "import numpy as np\n",
    "import seaborn as sns\n",
    "from domino.evaluate import run_sdm, score_sdms\n",
    "\n",
    "import matplotlib.pyplot as plt\n",
    "from meerkat.contrib.imagenet import *"
   ],
   "outputs": [
    {
     "output_type": "stream",
     "name": "stderr",
     "text": [
      "/home/sabri/code/meerkat/meerkat/nn/__init__.py:7: ExperimentalWarning: The `meerkat.nn` module is experimental and has limited test coverage. Proceed with caution.\n",
      "  warnings.warn(\n"
     ]
    }
   ],
   "metadata": {}
  },
  {
   "cell_type": "code",
   "execution_count": 6,
   "source": [
    "from domino.evaluate import run_sdm, score_sdms\n",
    "score_df = score_sdms.out().load()\n",
    "\n",
    "config_df = []\n",
    "for run_id in score_df[\"run_sdm_run_id\"].unique():\n",
    "    inp = run_sdm.inp(run_id)\n",
    "    config_df.append({\n",
    "        \"run_sdm_run_id\": run_id, \n",
    "        \"sdm_class\": str(inp[\"sdm_class\"]),\n",
    "        \"weight_y_log_likelihood\": inp[\"sdm_config\"].get(\"weight_y_log_likelihood\", np.nan),\n",
    "        \"learning_rate\": inp[\"sdm_config\"].get(\"learning_rate\", np.nan),\n",
    "    })\n",
    "config_df = pd.DataFrame(config_df)\n",
    "df = score_df.merge(config_df, on=\"run_sdm_run_id\")"
   ],
   "outputs": [],
   "metadata": {}
  },
  {
   "cell_type": "code",
   "execution_count": 8,
   "source": [
    "settings_df = df.iloc[df.reset_index().groupby([\"target_synset\", \"slice\", \"slice_idx\", \"sdm_class\"])['precision_at_10'].idxmax().astype(int)]\n",
    "print((settings_df[\"precision_at_10\"] > 0.5).mean())\n",
    "settings_df[[\"precision_at_10\", \"sdm_class\", \"target_synset\", \"slice\", \"run_sdm_run_id\"]]"
   ],
   "outputs": [
    {
     "output_type": "stream",
     "name": "stdout",
     "text": [
      "0.5555555555555556\n"
     ]
    },
    {
     "output_type": "execute_result",
     "data": {
      "text/html": [
       "<div>\n",
       "<style scoped>\n",
       "    .dataframe tbody tr th:only-of-type {\n",
       "        vertical-align: middle;\n",
       "    }\n",
       "\n",
       "    .dataframe tbody tr th {\n",
       "        vertical-align: top;\n",
       "    }\n",
       "\n",
       "    .dataframe thead th {\n",
       "        text-align: right;\n",
       "    }\n",
       "</style>\n",
       "<table border=\"1\" class=\"dataframe\">\n",
       "  <thead>\n",
       "    <tr style=\"text-align: right;\">\n",
       "      <th></th>\n",
       "      <th>precision_at_10</th>\n",
       "      <th>sdm_class</th>\n",
       "      <th>target_synset</th>\n",
       "      <th>slice</th>\n",
       "      <th>run_sdm_run_id</th>\n",
       "    </tr>\n",
       "  </thead>\n",
       "  <tbody>\n",
       "    <tr>\n",
       "      <th>46</th>\n",
       "      <td>0.4</td>\n",
       "      <td>&lt;class 'domino.sdm.gmm.MixtureModelSDM'&gt;</td>\n",
       "      <td>building.n.01</td>\n",
       "      <td>barn.n.01</td>\n",
       "      <td>12648</td>\n",
       "    </tr>\n",
       "    <tr>\n",
       "      <th>96</th>\n",
       "      <td>0.5</td>\n",
       "      <td>&lt;class 'domino.sdm.gmm.MixtureModelSDM'&gt;</td>\n",
       "      <td>building.n.01</td>\n",
       "      <td>mosque.n.01</td>\n",
       "      <td>12658</td>\n",
       "    </tr>\n",
       "    <tr>\n",
       "      <th>23</th>\n",
       "      <td>0.9</td>\n",
       "      <td>&lt;class 'domino.sdm.gmm.MixtureModelSDM'&gt;</td>\n",
       "      <td>dog.n.01</td>\n",
       "      <td>boxer.n.04</td>\n",
       "      <td>12643</td>\n",
       "    </tr>\n",
       "    <tr>\n",
       "      <th>87</th>\n",
       "      <td>0.6</td>\n",
       "      <td>&lt;class 'domino.sdm.gmm.MixtureModelSDM'&gt;</td>\n",
       "      <td>fish.n.01</td>\n",
       "      <td>ray.n.07</td>\n",
       "      <td>12656</td>\n",
       "    </tr>\n",
       "    <tr>\n",
       "      <th>36</th>\n",
       "      <td>0.3</td>\n",
       "      <td>&lt;class 'domino.sdm.gmm.MixtureModelSDM'&gt;</td>\n",
       "      <td>food.n.01</td>\n",
       "      <td>bread.n.01</td>\n",
       "      <td>12646</td>\n",
       "    </tr>\n",
       "    <tr>\n",
       "      <th>74</th>\n",
       "      <td>0.5</td>\n",
       "      <td>&lt;class 'domino.sdm.gmm.MixtureModelSDM'&gt;</td>\n",
       "      <td>food.n.01</td>\n",
       "      <td>course.n.07</td>\n",
       "      <td>12653</td>\n",
       "    </tr>\n",
       "    <tr>\n",
       "      <th>5</th>\n",
       "      <td>0.6</td>\n",
       "      <td>&lt;class 'domino.sdm.gmm.MixtureModelSDM'&gt;</td>\n",
       "      <td>fruit.n.01</td>\n",
       "      <td>berry.n.01</td>\n",
       "      <td>12640</td>\n",
       "    </tr>\n",
       "    <tr>\n",
       "      <th>62</th>\n",
       "      <td>0.9</td>\n",
       "      <td>&lt;class 'domino.sdm.gmm.MixtureModelSDM'&gt;</td>\n",
       "      <td>vehicle.n.01</td>\n",
       "      <td>bicycle.n.01</td>\n",
       "      <td>12651</td>\n",
       "    </tr>\n",
       "    <tr>\n",
       "      <th>50</th>\n",
       "      <td>0.7</td>\n",
       "      <td>&lt;class 'domino.sdm.gmm.MixtureModelSDM'&gt;</td>\n",
       "      <td>vehicle.n.01</td>\n",
       "      <td>truck.n.01</td>\n",
       "      <td>12649</td>\n",
       "    </tr>\n",
       "  </tbody>\n",
       "</table>\n",
       "</div>"
      ],
      "text/plain": [
       "    precision_at_10                                 sdm_class  target_synset  \\\n",
       "46              0.4  <class 'domino.sdm.gmm.MixtureModelSDM'>  building.n.01   \n",
       "96              0.5  <class 'domino.sdm.gmm.MixtureModelSDM'>  building.n.01   \n",
       "23              0.9  <class 'domino.sdm.gmm.MixtureModelSDM'>       dog.n.01   \n",
       "87              0.6  <class 'domino.sdm.gmm.MixtureModelSDM'>      fish.n.01   \n",
       "36              0.3  <class 'domino.sdm.gmm.MixtureModelSDM'>      food.n.01   \n",
       "74              0.5  <class 'domino.sdm.gmm.MixtureModelSDM'>      food.n.01   \n",
       "5               0.6  <class 'domino.sdm.gmm.MixtureModelSDM'>     fruit.n.01   \n",
       "62              0.9  <class 'domino.sdm.gmm.MixtureModelSDM'>   vehicle.n.01   \n",
       "50              0.7  <class 'domino.sdm.gmm.MixtureModelSDM'>   vehicle.n.01   \n",
       "\n",
       "           slice  run_sdm_run_id  \n",
       "46     barn.n.01           12648  \n",
       "96   mosque.n.01           12658  \n",
       "23    boxer.n.04           12643  \n",
       "87      ray.n.07           12656  \n",
       "36    bread.n.01           12646  \n",
       "74   course.n.07           12653  \n",
       "5     berry.n.01           12640  \n",
       "62  bicycle.n.01           12651  \n",
       "50    truck.n.01           12649  "
      ]
     },
     "metadata": {},
     "execution_count": 8
    }
   ],
   "metadata": {}
  },
  {
   "cell_type": "code",
   "execution_count": 3,
   "source": [
    "settings_df = df.iloc[df.reset_index().groupby([\"target_synset\", \"slice\", \"slice_idx\", \"sdm_class\"])['precision_at_10'].idxmax().astype(int)]\n",
    "print((settings_df[\"precision_at_10\"] > 0.5).mean())\n",
    "settings_df[[\"precision_at_10\", \"sdm_class\", \"target_synset\", \"slice\", \"run_sdm_run_id\"]].groupby(\"sdm_class\").mean()"
   ],
   "outputs": [
    {
     "output_type": "stream",
     "name": "stdout",
     "text": [
      "0.7222222222222222\n"
     ]
    },
    {
     "output_type": "execute_result",
     "data": {
      "text/html": [
       "<div>\n",
       "<style scoped>\n",
       "    .dataframe tbody tr th:only-of-type {\n",
       "        vertical-align: middle;\n",
       "    }\n",
       "\n",
       "    .dataframe tbody tr th {\n",
       "        vertical-align: top;\n",
       "    }\n",
       "\n",
       "    .dataframe thead th {\n",
       "        text-align: right;\n",
       "    }\n",
       "</style>\n",
       "<table border=\"1\" class=\"dataframe\">\n",
       "  <thead>\n",
       "    <tr style=\"text-align: right;\">\n",
       "      <th></th>\n",
       "      <th>precision_at_10</th>\n",
       "      <th>run_sdm_run_id</th>\n",
       "    </tr>\n",
       "    <tr>\n",
       "      <th>sdm_class</th>\n",
       "      <th></th>\n",
       "      <th></th>\n",
       "    </tr>\n",
       "  </thead>\n",
       "  <tbody>\n",
       "    <tr>\n",
       "      <th>&lt;class 'domino.sdm.gmm.MixtureModelSDM'&gt;</th>\n",
       "      <td>0.566667</td>\n",
       "      <td>12607.888889</td>\n",
       "    </tr>\n",
       "    <tr>\n",
       "      <th>&lt;class 'domino.sdm.spotlight.SpotlightSDM'&gt;</th>\n",
       "      <td>0.755556</td>\n",
       "      <td>12622.555556</td>\n",
       "    </tr>\n",
       "  </tbody>\n",
       "</table>\n",
       "</div>"
      ],
      "text/plain": [
       "                                             precision_at_10  run_sdm_run_id\n",
       "sdm_class                                                                   \n",
       "<class 'domino.sdm.gmm.MixtureModelSDM'>            0.566667    12607.888889\n",
       "<class 'domino.sdm.spotlight.SpotlightSDM'>         0.755556    12622.555556"
      ]
     },
     "metadata": {},
     "execution_count": 3
    }
   ],
   "metadata": {}
  },
  {
   "cell_type": "code",
   "execution_count": 4,
   "source": [
    "inp = run_sdm.inp(run_id=12602, load=True)\n",
    "data_dp, emb_dp = inp[\"data_dp\"], inp[\"emb_dp\"]\n",
    "\n",
    "data_dp = data_dp.lz[data_dp[\"split\"].isin([\"valid\", \"test\"])].merge(\n",
    "    emb_dp[[\"image_id\", \"emb\"]], on=\"image_id\"\n",
    ")"
   ],
   "outputs": [],
   "metadata": {}
  },
  {
   "cell_type": "code",
   "execution_count": 54,
   "source": [
    "from domino.sdm import MixtureModelSDM, SpotlightSDM\n",
    "sdm = MixtureModelSDM(\n",
    "    n_slices=5, \n",
    "    n_clusters=25, \n",
    "    weight_y_log_likelihood=10, \n",
    "    init_params=\"error\",\n",
    "    emb=\"emb\",\n",
    "    pca_components=128 \n",
    ")\n",
    "\n",
    "sdm.fit(data_dp.lz[data_dp[\"split\"] == \"valid\"])\n",
    "dp = sdm.transform(data_dp.lz[data_dp[\"split\"] == \"test\"])"
   ],
   "outputs": [
    {
     "output_type": "stream",
     "name": "stderr",
     "text": [
      " 56%|█████▌    | 56/100 [00:09<00:07,  6.15it/s]\n"
     ]
    }
   ],
   "metadata": {}
  },
  {
   "cell_type": "code",
   "execution_count": 5,
   "source": [
    "from domino.sdm import MixtureModelSDM, SpotlightSDM, GeorgeSDM\n",
    "sdm = GeorgeSDM(\n",
    "    n_slices=5, \n",
    "    #n_clusters=25, \n",
    "    emb=\"emb\",\n",
    ")\n",
    "\n",
    "sdm.fit(data_dp.lz[data_dp[\"split\"] == \"valid\"])\n",
    "dp = sdm.transform(data_dp.lz[data_dp[\"split\"] == \"test\"])"
   ],
   "outputs": [
    {
     "output_type": "stream",
     "name": "stdout",
     "text": [
      "fitting umap\n",
      "fitting umap done\n",
      "fitting umap\n",
      "fitting umap done\n"
     ]
    },
    {
     "output_type": "error",
     "ename": "KeyboardInterrupt",
     "evalue": "",
     "traceback": [
      "\u001b[0;31m---------------------------------------------------------------------------\u001b[0m",
      "\u001b[0;31mKeyboardInterrupt\u001b[0m                         Traceback (most recent call last)",
      "\u001b[0;32m/tmp/ipykernel_158198/2987515471.py\u001b[0m in \u001b[0;36m<module>\u001b[0;34m\u001b[0m\n\u001b[1;32m      7\u001b[0m \u001b[0;34m\u001b[0m\u001b[0m\n\u001b[1;32m      8\u001b[0m \u001b[0msdm\u001b[0m\u001b[0;34m.\u001b[0m\u001b[0mfit\u001b[0m\u001b[0;34m(\u001b[0m\u001b[0mdata_dp\u001b[0m\u001b[0;34m.\u001b[0m\u001b[0mlz\u001b[0m\u001b[0;34m[\u001b[0m\u001b[0mdata_dp\u001b[0m\u001b[0;34m[\u001b[0m\u001b[0;34m\"split\"\u001b[0m\u001b[0;34m]\u001b[0m \u001b[0;34m==\u001b[0m \u001b[0;34m\"valid\"\u001b[0m\u001b[0;34m]\u001b[0m\u001b[0;34m)\u001b[0m\u001b[0;34m\u001b[0m\u001b[0;34m\u001b[0m\u001b[0m\n\u001b[0;32m----> 9\u001b[0;31m \u001b[0mdp\u001b[0m \u001b[0;34m=\u001b[0m \u001b[0msdm\u001b[0m\u001b[0;34m.\u001b[0m\u001b[0mtransform\u001b[0m\u001b[0;34m(\u001b[0m\u001b[0mdata_dp\u001b[0m\u001b[0;34m.\u001b[0m\u001b[0mlz\u001b[0m\u001b[0;34m[\u001b[0m\u001b[0mdata_dp\u001b[0m\u001b[0;34m[\u001b[0m\u001b[0;34m\"split\"\u001b[0m\u001b[0;34m]\u001b[0m \u001b[0;34m==\u001b[0m \u001b[0;34m\"test\"\u001b[0m\u001b[0;34m]\u001b[0m\u001b[0;34m)\u001b[0m\u001b[0;34m\u001b[0m\u001b[0;34m\u001b[0m\u001b[0m\n\u001b[0m",
      "\u001b[0;32m/home/sabri/code/domino/domino/utils.py\u001b[0m in \u001b[0;36m_wrapper\u001b[0;34m(aliases, *args, **kwargs)\u001b[0m\n\u001b[1;32m    153\u001b[0m                 )\n\u001b[1;32m    154\u001b[0m             \u001b[0margs_dict\u001b[0m\u001b[0;34m[\u001b[0m\u001b[0mdp_arg\u001b[0m\u001b[0;34m]\u001b[0m \u001b[0;34m=\u001b[0m \u001b[0mdp\u001b[0m\u001b[0;34m\u001b[0m\u001b[0;34m\u001b[0m\u001b[0m\n\u001b[0;32m--> 155\u001b[0;31m             \u001b[0;32mreturn\u001b[0m \u001b[0mfn\u001b[0m\u001b[0;34m(\u001b[0m\u001b[0;34m**\u001b[0m\u001b[0margs_dict\u001b[0m\u001b[0;34m)\u001b[0m\u001b[0;34m\u001b[0m\u001b[0;34m\u001b[0m\u001b[0m\n\u001b[0m\u001b[1;32m    156\u001b[0m \u001b[0;34m\u001b[0m\u001b[0m\n\u001b[1;32m    157\u001b[0m         \u001b[0;32mreturn\u001b[0m \u001b[0m_wrapper\u001b[0m\u001b[0;34m\u001b[0m\u001b[0;34m\u001b[0m\u001b[0m\n",
      "\u001b[0;32m/home/sabri/code/domino/domino/sdm/george.py\u001b[0m in \u001b[0;36mtransform\u001b[0;34m(self, data_dp)\u001b[0m\n\u001b[1;32m     77\u001b[0m             \u001b[0;31m# (1) reduction phase\u001b[0m\u001b[0;34m\u001b[0m\u001b[0;34m\u001b[0m\u001b[0;34m\u001b[0m\u001b[0m\n\u001b[1;32m     78\u001b[0m             \u001b[0macts\u001b[0m \u001b[0;34m=\u001b[0m \u001b[0mcurr_dp\u001b[0m\u001b[0;34m[\u001b[0m\u001b[0mself\u001b[0m\u001b[0;34m.\u001b[0m\u001b[0mconfig\u001b[0m\u001b[0;34m.\u001b[0m\u001b[0memb\u001b[0m\u001b[0;34m]\u001b[0m\u001b[0;34m.\u001b[0m\u001b[0mdata\u001b[0m\u001b[0;34m\u001b[0m\u001b[0;34m\u001b[0m\u001b[0m\n\u001b[0;32m---> 79\u001b[0;31m             \u001b[0mumap_embs\u001b[0m \u001b[0;34m=\u001b[0m \u001b[0mself\u001b[0m\u001b[0;34m.\u001b[0m\u001b[0mclass_to_umap\u001b[0m\u001b[0;34m[\u001b[0m\u001b[0mklass\u001b[0m\u001b[0;34m]\u001b[0m\u001b[0;34m.\u001b[0m\u001b[0mtransform\u001b[0m\u001b[0;34m(\u001b[0m\u001b[0macts\u001b[0m\u001b[0;34m)\u001b[0m\u001b[0;34m\u001b[0m\u001b[0;34m\u001b[0m\u001b[0m\n\u001b[0m\u001b[1;32m     80\u001b[0m             \u001b[0;32mfor\u001b[0m \u001b[0mcomponent_idx\u001b[0m \u001b[0;32min\u001b[0m \u001b[0mrange\u001b[0m\u001b[0;34m(\u001b[0m\u001b[0mself\u001b[0m\u001b[0;34m.\u001b[0m\u001b[0mconfig\u001b[0m\u001b[0;34m.\u001b[0m\u001b[0mn_umap_components\u001b[0m\u001b[0;34m)\u001b[0m\u001b[0;34m:\u001b[0m\u001b[0;34m\u001b[0m\u001b[0;34m\u001b[0m\u001b[0m\n\u001b[1;32m     81\u001b[0m                 \u001b[0mcurr_dp\u001b[0m\u001b[0;34m[\u001b[0m\u001b[0;34mf\"umap_{component_idx}\"\u001b[0m\u001b[0;34m]\u001b[0m \u001b[0;34m=\u001b[0m \u001b[0mumap_embs\u001b[0m\u001b[0;34m[\u001b[0m\u001b[0;34m:\u001b[0m\u001b[0;34m,\u001b[0m \u001b[0mcomponent_idx\u001b[0m\u001b[0;34m]\u001b[0m\u001b[0;34m\u001b[0m\u001b[0;34m\u001b[0m\u001b[0m\n",
      "\u001b[0;32m/home/common/envs/conda/envs/domino/lib/python3.8/site-packages/umap/umap_.py\u001b[0m in \u001b[0;36mtransform\u001b[0;34m(self, X)\u001b[0m\n\u001b[1;32m   2751\u001b[0m         \u001b[0mcsr_graph\u001b[0m \u001b[0;34m=\u001b[0m \u001b[0mgraph\u001b[0m\u001b[0;34m.\u001b[0m\u001b[0mtocsr\u001b[0m\u001b[0;34m(\u001b[0m\u001b[0;34m)\u001b[0m\u001b[0;34m\u001b[0m\u001b[0;34m\u001b[0m\u001b[0m\n\u001b[1;32m   2752\u001b[0m         \u001b[0mcsr_graph\u001b[0m\u001b[0;34m.\u001b[0m\u001b[0meliminate_zeros\u001b[0m\u001b[0;34m(\u001b[0m\u001b[0;34m)\u001b[0m\u001b[0;34m\u001b[0m\u001b[0;34m\u001b[0m\u001b[0m\n\u001b[0;32m-> 2753\u001b[0;31m         \u001b[0membedding\u001b[0m \u001b[0;34m=\u001b[0m \u001b[0minit_graph_transform\u001b[0m\u001b[0;34m(\u001b[0m\u001b[0mcsr_graph\u001b[0m\u001b[0;34m,\u001b[0m \u001b[0mself\u001b[0m\u001b[0;34m.\u001b[0m\u001b[0membedding_\u001b[0m\u001b[0;34m)\u001b[0m\u001b[0;34m\u001b[0m\u001b[0;34m\u001b[0m\u001b[0m\n\u001b[0m\u001b[1;32m   2754\u001b[0m \u001b[0;34m\u001b[0m\u001b[0m\n\u001b[1;32m   2755\u001b[0m         \u001b[0;32mif\u001b[0m \u001b[0mself\u001b[0m\u001b[0;34m.\u001b[0m\u001b[0mn_epochs\u001b[0m \u001b[0;32mis\u001b[0m \u001b[0;32mNone\u001b[0m\u001b[0;34m:\u001b[0m\u001b[0;34m\u001b[0m\u001b[0;34m\u001b[0m\u001b[0m\n",
      "\u001b[0;32m/home/common/envs/conda/envs/domino/lib/python3.8/site-packages/umap/umap_.py\u001b[0m in \u001b[0;36minit_graph_transform\u001b[0;34m(graph, embedding)\u001b[0m\n\u001b[1;32m   1297\u001b[0m             \u001b[0;32mfor\u001b[0m \u001b[0md\u001b[0m \u001b[0;32min\u001b[0m \u001b[0mrange\u001b[0m\u001b[0;34m(\u001b[0m\u001b[0membedding\u001b[0m\u001b[0;34m.\u001b[0m\u001b[0mshape\u001b[0m\u001b[0;34m[\u001b[0m\u001b[0;36m1\u001b[0m\u001b[0;34m]\u001b[0m\u001b[0;34m)\u001b[0m\u001b[0;34m:\u001b[0m\u001b[0;34m\u001b[0m\u001b[0;34m\u001b[0m\u001b[0m\n\u001b[1;32m   1298\u001b[0m                 result[row_index, d] += (\n\u001b[0;32m-> 1299\u001b[0;31m                     \u001b[0mgraph\u001b[0m\u001b[0;34m[\u001b[0m\u001b[0mrow_index\u001b[0m\u001b[0;34m,\u001b[0m \u001b[0mcol_index\u001b[0m\u001b[0;34m]\u001b[0m\u001b[0;34m\u001b[0m\u001b[0;34m\u001b[0m\u001b[0m\n\u001b[0m\u001b[1;32m   1300\u001b[0m                     \u001b[0;34m/\u001b[0m \u001b[0mnum_neighbours\u001b[0m\u001b[0;34m\u001b[0m\u001b[0;34m\u001b[0m\u001b[0m\n\u001b[1;32m   1301\u001b[0m                     \u001b[0;34m*\u001b[0m \u001b[0membedding\u001b[0m\u001b[0;34m[\u001b[0m\u001b[0mcol_index\u001b[0m\u001b[0;34m,\u001b[0m \u001b[0md\u001b[0m\u001b[0;34m]\u001b[0m\u001b[0;34m\u001b[0m\u001b[0;34m\u001b[0m\u001b[0m\n",
      "\u001b[0;32m/home/common/envs/conda/envs/domino/lib/python3.8/site-packages/scipy/sparse/_index.py\u001b[0m in \u001b[0;36m__getitem__\u001b[0;34m(self, key)\u001b[0m\n\u001b[1;32m     35\u001b[0m         \u001b[0;32mif\u001b[0m \u001b[0misinstance\u001b[0m\u001b[0;34m(\u001b[0m\u001b[0mrow\u001b[0m\u001b[0;34m,\u001b[0m \u001b[0mINT_TYPES\u001b[0m\u001b[0;34m)\u001b[0m\u001b[0;34m:\u001b[0m\u001b[0;34m\u001b[0m\u001b[0;34m\u001b[0m\u001b[0m\n\u001b[1;32m     36\u001b[0m             \u001b[0;32mif\u001b[0m \u001b[0misinstance\u001b[0m\u001b[0;34m(\u001b[0m\u001b[0mcol\u001b[0m\u001b[0;34m,\u001b[0m \u001b[0mINT_TYPES\u001b[0m\u001b[0;34m)\u001b[0m\u001b[0;34m:\u001b[0m\u001b[0;34m\u001b[0m\u001b[0;34m\u001b[0m\u001b[0m\n\u001b[0;32m---> 37\u001b[0;31m                 \u001b[0;32mreturn\u001b[0m \u001b[0mself\u001b[0m\u001b[0;34m.\u001b[0m\u001b[0m_get_intXint\u001b[0m\u001b[0;34m(\u001b[0m\u001b[0mrow\u001b[0m\u001b[0;34m,\u001b[0m \u001b[0mcol\u001b[0m\u001b[0;34m)\u001b[0m\u001b[0;34m\u001b[0m\u001b[0;34m\u001b[0m\u001b[0m\n\u001b[0m\u001b[1;32m     38\u001b[0m             \u001b[0;32melif\u001b[0m \u001b[0misinstance\u001b[0m\u001b[0;34m(\u001b[0m\u001b[0mcol\u001b[0m\u001b[0;34m,\u001b[0m \u001b[0mslice\u001b[0m\u001b[0;34m)\u001b[0m\u001b[0;34m:\u001b[0m\u001b[0;34m\u001b[0m\u001b[0;34m\u001b[0m\u001b[0m\n\u001b[1;32m     39\u001b[0m                 \u001b[0;32mreturn\u001b[0m \u001b[0mself\u001b[0m\u001b[0;34m.\u001b[0m\u001b[0m_get_intXslice\u001b[0m\u001b[0;34m(\u001b[0m\u001b[0mrow\u001b[0m\u001b[0;34m,\u001b[0m \u001b[0mcol\u001b[0m\u001b[0;34m)\u001b[0m\u001b[0;34m\u001b[0m\u001b[0;34m\u001b[0m\u001b[0m\n",
      "\u001b[0;32m/home/common/envs/conda/envs/domino/lib/python3.8/site-packages/scipy/sparse/compressed.py\u001b[0m in \u001b[0;36m_get_intXint\u001b[0;34m(self, row, col)\u001b[0m\n\u001b[1;32m    644\u001b[0m         \u001b[0mM\u001b[0m\u001b[0;34m,\u001b[0m \u001b[0mN\u001b[0m \u001b[0;34m=\u001b[0m \u001b[0mself\u001b[0m\u001b[0;34m.\u001b[0m\u001b[0m_swap\u001b[0m\u001b[0;34m(\u001b[0m\u001b[0mself\u001b[0m\u001b[0;34m.\u001b[0m\u001b[0mshape\u001b[0m\u001b[0;34m)\u001b[0m\u001b[0;34m\u001b[0m\u001b[0;34m\u001b[0m\u001b[0m\n\u001b[1;32m    645\u001b[0m         \u001b[0mmajor\u001b[0m\u001b[0;34m,\u001b[0m \u001b[0mminor\u001b[0m \u001b[0;34m=\u001b[0m \u001b[0mself\u001b[0m\u001b[0;34m.\u001b[0m\u001b[0m_swap\u001b[0m\u001b[0;34m(\u001b[0m\u001b[0;34m(\u001b[0m\u001b[0mrow\u001b[0m\u001b[0;34m,\u001b[0m \u001b[0mcol\u001b[0m\u001b[0;34m)\u001b[0m\u001b[0;34m)\u001b[0m\u001b[0;34m\u001b[0m\u001b[0;34m\u001b[0m\u001b[0m\n\u001b[0;32m--> 646\u001b[0;31m         indptr, indices, data = get_csr_submatrix(\n\u001b[0m\u001b[1;32m    647\u001b[0m             \u001b[0mM\u001b[0m\u001b[0;34m,\u001b[0m \u001b[0mN\u001b[0m\u001b[0;34m,\u001b[0m \u001b[0mself\u001b[0m\u001b[0;34m.\u001b[0m\u001b[0mindptr\u001b[0m\u001b[0;34m,\u001b[0m \u001b[0mself\u001b[0m\u001b[0;34m.\u001b[0m\u001b[0mindices\u001b[0m\u001b[0;34m,\u001b[0m \u001b[0mself\u001b[0m\u001b[0;34m.\u001b[0m\u001b[0mdata\u001b[0m\u001b[0;34m,\u001b[0m\u001b[0;34m\u001b[0m\u001b[0;34m\u001b[0m\u001b[0m\n\u001b[1;32m    648\u001b[0m             major, major + 1, minor, minor + 1)\n",
      "\u001b[0;31mKeyboardInterrupt\u001b[0m: "
     ]
    }
   ],
   "metadata": {}
  },
  {
   "cell_type": "code",
   "execution_count": 10,
   "source": [
    "from domino.metrics import compute_sdm_metrics\n",
    "slice_idx = 0\n",
    "\n",
    "metrics_df = compute_sdm_metrics(dp)\n",
    "metrics_df[metrics_df[\"slice_idx\"] == slice_idx].sort_values(by=\"auroc\", ascending=False)"
   ],
   "outputs": [
    {
     "output_type": "stream",
     "name": "stderr",
     "text": [
      "/home/common/envs/conda/envs/domino/lib/python3.8/site-packages/sklearn/metrics/_classification.py:1248: UndefinedMetricWarning: Precision is ill-defined and being set to 0.0 due to no predicted samples. Use `zero_division` parameter to control this behavior.\n",
      "  _warn_prf(average, modifier, msg_start, len(result))\n"
     ]
    },
    {
     "output_type": "execute_result",
     "data": {
      "text/html": [
       "<div>\n",
       "<style scoped>\n",
       "    .dataframe tbody tr th:only-of-type {\n",
       "        vertical-align: middle;\n",
       "    }\n",
       "\n",
       "    .dataframe tbody tr th {\n",
       "        vertical-align: top;\n",
       "    }\n",
       "\n",
       "    .dataframe thead th {\n",
       "        text-align: right;\n",
       "    }\n",
       "</style>\n",
       "<table border=\"1\" class=\"dataframe\">\n",
       "  <thead>\n",
       "    <tr style=\"text-align: right;\">\n",
       "      <th></th>\n",
       "      <th>pred_slice_idx</th>\n",
       "      <th>slice_idx</th>\n",
       "      <th>auroc</th>\n",
       "      <th>precision_at_10</th>\n",
       "      <th>precision_at_25</th>\n",
       "      <th>precision_at_100</th>\n",
       "      <th>recall_at_50</th>\n",
       "      <th>recall_at_100</th>\n",
       "      <th>recall_at_200</th>\n",
       "      <th>recall</th>\n",
       "      <th>precision</th>\n",
       "    </tr>\n",
       "  </thead>\n",
       "  <tbody>\n",
       "    <tr>\n",
       "      <th>3</th>\n",
       "      <td>3</td>\n",
       "      <td>0</td>\n",
       "      <td>0.880256</td>\n",
       "      <td>0.1</td>\n",
       "      <td>0.08</td>\n",
       "      <td>0.05</td>\n",
       "      <td>0.0</td>\n",
       "      <td>0.0</td>\n",
       "      <td>0.0</td>\n",
       "      <td>1.0</td>\n",
       "      <td>0.031588</td>\n",
       "    </tr>\n",
       "    <tr>\n",
       "      <th>2</th>\n",
       "      <td>2</td>\n",
       "      <td>0</td>\n",
       "      <td>0.767497</td>\n",
       "      <td>0.0</td>\n",
       "      <td>0.00</td>\n",
       "      <td>0.00</td>\n",
       "      <td>0.0</td>\n",
       "      <td>0.0</td>\n",
       "      <td>0.0</td>\n",
       "      <td>0.0</td>\n",
       "      <td>0.000000</td>\n",
       "    </tr>\n",
       "    <tr>\n",
       "      <th>4</th>\n",
       "      <td>4</td>\n",
       "      <td>0</td>\n",
       "      <td>0.500000</td>\n",
       "      <td>0.0</td>\n",
       "      <td>0.00</td>\n",
       "      <td>0.00</td>\n",
       "      <td>0.0</td>\n",
       "      <td>0.0</td>\n",
       "      <td>0.0</td>\n",
       "      <td>0.0</td>\n",
       "      <td>0.000000</td>\n",
       "    </tr>\n",
       "    <tr>\n",
       "      <th>0</th>\n",
       "      <td>0</td>\n",
       "      <td>0</td>\n",
       "      <td>0.149812</td>\n",
       "      <td>0.0</td>\n",
       "      <td>0.00</td>\n",
       "      <td>0.00</td>\n",
       "      <td>0.0</td>\n",
       "      <td>0.0</td>\n",
       "      <td>0.0</td>\n",
       "      <td>0.0</td>\n",
       "      <td>0.000000</td>\n",
       "    </tr>\n",
       "    <tr>\n",
       "      <th>1</th>\n",
       "      <td>1</td>\n",
       "      <td>0</td>\n",
       "      <td>0.149812</td>\n",
       "      <td>0.0</td>\n",
       "      <td>0.00</td>\n",
       "      <td>0.00</td>\n",
       "      <td>0.0</td>\n",
       "      <td>0.0</td>\n",
       "      <td>0.0</td>\n",
       "      <td>0.0</td>\n",
       "      <td>0.000000</td>\n",
       "    </tr>\n",
       "  </tbody>\n",
       "</table>\n",
       "</div>"
      ],
      "text/plain": [
       "   pred_slice_idx  slice_idx     auroc  precision_at_10  precision_at_25  \\\n",
       "3               3          0  0.880256              0.1             0.08   \n",
       "2               2          0  0.767497              0.0             0.00   \n",
       "4               4          0  0.500000              0.0             0.00   \n",
       "0               0          0  0.149812              0.0             0.00   \n",
       "1               1          0  0.149812              0.0             0.00   \n",
       "\n",
       "   precision_at_100  recall_at_50  recall_at_100  recall_at_200  recall  \\\n",
       "3              0.05           0.0            0.0            0.0     1.0   \n",
       "2              0.00           0.0            0.0            0.0     0.0   \n",
       "4              0.00           0.0            0.0            0.0     0.0   \n",
       "0              0.00           0.0            0.0            0.0     0.0   \n",
       "1              0.00           0.0            0.0            0.0     0.0   \n",
       "\n",
       "   precision  \n",
       "3   0.031588  \n",
       "2   0.000000  \n",
       "4   0.000000  \n",
       "0   0.000000  \n",
       "1   0.000000  "
      ]
     },
     "metadata": {},
     "execution_count": 10
    }
   ],
   "metadata": {}
  },
  {
   "cell_type": "code",
   "execution_count": 57,
   "source": [
    "from domino.emb.clip import embed_words\n",
    "pred_slice_idx = 3\n",
    "words_dp = embed_words.out(5143).load().lz[:int(1.1e4)]\n",
    "expl_dp = sdm.explain(words_dp=words_dp, data_dp=data_dp)\n",
    "expl_dp.lz[(-expl_dp[\"pred_slices\"][:, pred_slice_idx]).argsort()[:10]]"
   ],
   "outputs": [
    {
     "output_type": "error",
     "ename": "KeyError",
     "evalue": "'Column `pred_slices` does not exist.'",
     "traceback": [
      "\u001b[0;31m---------------------------------------------------------------------------\u001b[0m",
      "\u001b[0;31mKeyError\u001b[0m                                  Traceback (most recent call last)",
      "\u001b[0;32m/tmp/ipykernel_128754/878578593.py\u001b[0m in \u001b[0;36m<module>\u001b[0;34m\u001b[0m\n\u001b[1;32m      2\u001b[0m \u001b[0mpred_slice_idx\u001b[0m \u001b[0;34m=\u001b[0m \u001b[0;36m3\u001b[0m\u001b[0;34m\u001b[0m\u001b[0;34m\u001b[0m\u001b[0m\n\u001b[1;32m      3\u001b[0m \u001b[0mwords_dp\u001b[0m \u001b[0;34m=\u001b[0m \u001b[0membed_words\u001b[0m\u001b[0;34m.\u001b[0m\u001b[0mout\u001b[0m\u001b[0;34m(\u001b[0m\u001b[0;36m5143\u001b[0m\u001b[0;34m)\u001b[0m\u001b[0;34m.\u001b[0m\u001b[0mload\u001b[0m\u001b[0;34m(\u001b[0m\u001b[0;34m)\u001b[0m\u001b[0;34m.\u001b[0m\u001b[0mlz\u001b[0m\u001b[0;34m[\u001b[0m\u001b[0;34m:\u001b[0m\u001b[0mint\u001b[0m\u001b[0;34m(\u001b[0m\u001b[0;36m1.1e4\u001b[0m\u001b[0;34m)\u001b[0m\u001b[0;34m]\u001b[0m\u001b[0;34m\u001b[0m\u001b[0;34m\u001b[0m\u001b[0m\n\u001b[0;32m----> 4\u001b[0;31m \u001b[0mexpl_dp\u001b[0m \u001b[0;34m=\u001b[0m \u001b[0msdm\u001b[0m\u001b[0;34m.\u001b[0m\u001b[0mexplain\u001b[0m\u001b[0;34m(\u001b[0m\u001b[0mwords_dp\u001b[0m\u001b[0;34m=\u001b[0m\u001b[0mwords_dp\u001b[0m\u001b[0;34m,\u001b[0m \u001b[0mdata_dp\u001b[0m\u001b[0;34m=\u001b[0m\u001b[0mdata_dp\u001b[0m\u001b[0;34m)\u001b[0m\u001b[0;34m\u001b[0m\u001b[0;34m\u001b[0m\u001b[0m\n\u001b[0m\u001b[1;32m      5\u001b[0m \u001b[0mexpl_dp\u001b[0m\u001b[0;34m.\u001b[0m\u001b[0mlz\u001b[0m\u001b[0;34m[\u001b[0m\u001b[0;34m(\u001b[0m\u001b[0;34m-\u001b[0m\u001b[0mexpl_dp\u001b[0m\u001b[0;34m[\u001b[0m\u001b[0;34m\"pred_slices\"\u001b[0m\u001b[0;34m]\u001b[0m\u001b[0;34m[\u001b[0m\u001b[0;34m:\u001b[0m\u001b[0;34m,\u001b[0m \u001b[0mpred_slice_idx\u001b[0m\u001b[0;34m]\u001b[0m\u001b[0;34m)\u001b[0m\u001b[0;34m.\u001b[0m\u001b[0margsort\u001b[0m\u001b[0;34m(\u001b[0m\u001b[0;34m)\u001b[0m\u001b[0;34m[\u001b[0m\u001b[0;34m:\u001b[0m\u001b[0;36m10\u001b[0m\u001b[0;34m]\u001b[0m\u001b[0;34m]\u001b[0m\u001b[0;34m\u001b[0m\u001b[0;34m\u001b[0m\u001b[0m\n",
      "\u001b[0;32m/home/sabri/code/domino/domino/utils.py\u001b[0m in \u001b[0;36m_wrapper\u001b[0;34m(aliases, *args, **kwargs)\u001b[0m\n\u001b[1;32m    153\u001b[0m                 )\n\u001b[1;32m    154\u001b[0m             \u001b[0margs_dict\u001b[0m\u001b[0;34m[\u001b[0m\u001b[0mdp_arg\u001b[0m\u001b[0;34m]\u001b[0m \u001b[0;34m=\u001b[0m \u001b[0mdp\u001b[0m\u001b[0;34m\u001b[0m\u001b[0;34m\u001b[0m\u001b[0m\n\u001b[0;32m--> 155\u001b[0;31m             \u001b[0;32mreturn\u001b[0m \u001b[0mfn\u001b[0m\u001b[0;34m(\u001b[0m\u001b[0;34m**\u001b[0m\u001b[0margs_dict\u001b[0m\u001b[0;34m)\u001b[0m\u001b[0;34m\u001b[0m\u001b[0;34m\u001b[0m\u001b[0m\n\u001b[0m\u001b[1;32m    156\u001b[0m \u001b[0;34m\u001b[0m\u001b[0m\n\u001b[1;32m    157\u001b[0m         \u001b[0;32mreturn\u001b[0m \u001b[0m_wrapper\u001b[0m\u001b[0;34m\u001b[0m\u001b[0;34m\u001b[0m\u001b[0m\n",
      "\u001b[0;32m/home/sabri/code/domino/domino/sdm/gmm.py\u001b[0m in \u001b[0;36mexplain\u001b[0;34m(self, words_dp, data_dp)\u001b[0m\n\u001b[1;32m     91\u001b[0m     ) -> mk.DataPanel:\n\u001b[1;32m     92\u001b[0m         \u001b[0;32mif\u001b[0m \u001b[0;32mnot\u001b[0m \u001b[0mself\u001b[0m\u001b[0;34m.\u001b[0m\u001b[0mconfig\u001b[0m\u001b[0;34m.\u001b[0m\u001b[0mexplain_w_model\u001b[0m\u001b[0;34m:\u001b[0m\u001b[0;34m\u001b[0m\u001b[0;34m\u001b[0m\u001b[0m\n\u001b[0;32m---> 93\u001b[0;31m             \u001b[0;32mreturn\u001b[0m \u001b[0msuper\u001b[0m\u001b[0;34m(\u001b[0m\u001b[0;34m)\u001b[0m\u001b[0;34m.\u001b[0m\u001b[0mexplain\u001b[0m\u001b[0;34m(\u001b[0m\u001b[0mwords_dp\u001b[0m\u001b[0;34m,\u001b[0m \u001b[0mdata_dp\u001b[0m\u001b[0;34m)\u001b[0m\u001b[0;34m\u001b[0m\u001b[0;34m\u001b[0m\u001b[0m\n\u001b[0m\u001b[1;32m     94\u001b[0m         \u001b[0mwords_dp\u001b[0m \u001b[0;34m=\u001b[0m \u001b[0mwords_dp\u001b[0m\u001b[0;34m.\u001b[0m\u001b[0mview\u001b[0m\u001b[0;34m(\u001b[0m\u001b[0;34m)\u001b[0m\u001b[0;34m\u001b[0m\u001b[0;34m\u001b[0m\u001b[0m\n\u001b[1;32m     95\u001b[0m         \u001b[0memb\u001b[0m \u001b[0;34m=\u001b[0m \u001b[0mwords_dp\u001b[0m\u001b[0;34m[\u001b[0m\u001b[0;34m\"emb\"\u001b[0m\u001b[0;34m]\u001b[0m\u001b[0;34m\u001b[0m\u001b[0;34m\u001b[0m\u001b[0m\n",
      "\u001b[0;32m/home/sabri/code/domino/domino/utils.py\u001b[0m in \u001b[0;36m_wrapper\u001b[0;34m(aliases, *args, **kwargs)\u001b[0m\n\u001b[1;32m    153\u001b[0m                 )\n\u001b[1;32m    154\u001b[0m             \u001b[0margs_dict\u001b[0m\u001b[0;34m[\u001b[0m\u001b[0mdp_arg\u001b[0m\u001b[0;34m]\u001b[0m \u001b[0;34m=\u001b[0m \u001b[0mdp\u001b[0m\u001b[0;34m\u001b[0m\u001b[0;34m\u001b[0m\u001b[0m\n\u001b[0;32m--> 155\u001b[0;31m             \u001b[0;32mreturn\u001b[0m \u001b[0mfn\u001b[0m\u001b[0;34m(\u001b[0m\u001b[0;34m**\u001b[0m\u001b[0margs_dict\u001b[0m\u001b[0;34m)\u001b[0m\u001b[0;34m\u001b[0m\u001b[0;34m\u001b[0m\u001b[0m\n\u001b[0m\u001b[1;32m    156\u001b[0m \u001b[0;34m\u001b[0m\u001b[0m\n\u001b[1;32m    157\u001b[0m         \u001b[0;32mreturn\u001b[0m \u001b[0m_wrapper\u001b[0m\u001b[0;34m\u001b[0m\u001b[0;34m\u001b[0m\u001b[0m\n",
      "\u001b[0;32m/home/sabri/code/domino/domino/sdm/abstract.py\u001b[0m in \u001b[0;36mexplain\u001b[0;34m(self, words_dp, data_dp)\u001b[0m\n\u001b[1;32m     45\u001b[0m         \u001b[0mwords_dp\u001b[0m \u001b[0;34m=\u001b[0m \u001b[0mwords_dp\u001b[0m\u001b[0;34m.\u001b[0m\u001b[0mview\u001b[0m\u001b[0;34m(\u001b[0m\u001b[0;34m)\u001b[0m\u001b[0;34m\u001b[0m\u001b[0;34m\u001b[0m\u001b[0m\n\u001b[1;32m     46\u001b[0m         slice_proto = (\n\u001b[0;32m---> 47\u001b[0;31m             \u001b[0mnp\u001b[0m\u001b[0;34m.\u001b[0m\u001b[0mdot\u001b[0m\u001b[0;34m(\u001b[0m\u001b[0mdata_dp\u001b[0m\u001b[0;34m[\u001b[0m\u001b[0;34m\"pred_slices\"\u001b[0m\u001b[0;34m]\u001b[0m\u001b[0;34m.\u001b[0m\u001b[0mT\u001b[0m\u001b[0;34m,\u001b[0m \u001b[0mdata_dp\u001b[0m\u001b[0;34m[\u001b[0m\u001b[0;34m\"emb\"\u001b[0m\u001b[0;34m]\u001b[0m\u001b[0;34m)\u001b[0m\u001b[0;34m\u001b[0m\u001b[0;34m\u001b[0m\u001b[0m\n\u001b[0m\u001b[1;32m     48\u001b[0m             \u001b[0;34m/\u001b[0m \u001b[0mdata_dp\u001b[0m\u001b[0;34m[\u001b[0m\u001b[0;34m\"pred_slices\"\u001b[0m\u001b[0;34m]\u001b[0m\u001b[0;34m.\u001b[0m\u001b[0msum\u001b[0m\u001b[0;34m(\u001b[0m\u001b[0maxis\u001b[0m\u001b[0;34m=\u001b[0m\u001b[0;36m0\u001b[0m\u001b[0;34m,\u001b[0m \u001b[0mkeepdims\u001b[0m\u001b[0;34m=\u001b[0m\u001b[0;32mTrue\u001b[0m\u001b[0;34m)\u001b[0m\u001b[0;34m.\u001b[0m\u001b[0mT\u001b[0m\u001b[0;34m\u001b[0m\u001b[0;34m\u001b[0m\u001b[0m\n\u001b[1;32m     49\u001b[0m         )\n",
      "\u001b[0;32m/home/sabri/code/meerkat/meerkat/datapanel.py\u001b[0m in \u001b[0;36m__getitem__\u001b[0;34m(self, index)\u001b[0m\n\u001b[1;32m    307\u001b[0m     \u001b[0;31m# @capture_provenance(capture_args=[])\u001b[0m\u001b[0;34m\u001b[0m\u001b[0;34m\u001b[0m\u001b[0;34m\u001b[0m\u001b[0m\n\u001b[1;32m    308\u001b[0m     \u001b[0;32mdef\u001b[0m \u001b[0m__getitem__\u001b[0m\u001b[0;34m(\u001b[0m\u001b[0mself\u001b[0m\u001b[0;34m,\u001b[0m \u001b[0mindex\u001b[0m\u001b[0;34m)\u001b[0m\u001b[0;34m:\u001b[0m\u001b[0;34m\u001b[0m\u001b[0;34m\u001b[0m\u001b[0m\n\u001b[0;32m--> 309\u001b[0;31m         \u001b[0;32mreturn\u001b[0m \u001b[0mself\u001b[0m\u001b[0;34m.\u001b[0m\u001b[0m_get\u001b[0m\u001b[0;34m(\u001b[0m\u001b[0mindex\u001b[0m\u001b[0;34m,\u001b[0m \u001b[0mmaterialize\u001b[0m\u001b[0;34m=\u001b[0m\u001b[0;32mTrue\u001b[0m\u001b[0;34m)\u001b[0m\u001b[0;34m\u001b[0m\u001b[0;34m\u001b[0m\u001b[0m\n\u001b[0m\u001b[1;32m    310\u001b[0m \u001b[0;34m\u001b[0m\u001b[0m\n\u001b[1;32m    311\u001b[0m     \u001b[0;32mdef\u001b[0m \u001b[0m__setitem__\u001b[0m\u001b[0;34m(\u001b[0m\u001b[0mself\u001b[0m\u001b[0;34m,\u001b[0m \u001b[0mindex\u001b[0m\u001b[0;34m,\u001b[0m \u001b[0mvalue\u001b[0m\u001b[0;34m)\u001b[0m\u001b[0;34m:\u001b[0m\u001b[0;34m\u001b[0m\u001b[0;34m\u001b[0m\u001b[0m\n",
      "\u001b[0;32m/home/sabri/code/meerkat/meerkat/datapanel.py\u001b[0m in \u001b[0;36m_get\u001b[0;34m(self, index, materialize)\u001b[0m\n\u001b[1;32m    245\u001b[0m             \u001b[0;32mif\u001b[0m \u001b[0mindex\u001b[0m \u001b[0;32min\u001b[0m \u001b[0mself\u001b[0m\u001b[0;34m.\u001b[0m\u001b[0mcolumns\u001b[0m\u001b[0;34m:\u001b[0m\u001b[0;34m\u001b[0m\u001b[0;34m\u001b[0m\u001b[0m\n\u001b[1;32m    246\u001b[0m                 \u001b[0;32mreturn\u001b[0m \u001b[0mself\u001b[0m\u001b[0;34m.\u001b[0m\u001b[0mdata\u001b[0m\u001b[0;34m[\u001b[0m\u001b[0mindex\u001b[0m\u001b[0;34m]\u001b[0m\u001b[0;34m\u001b[0m\u001b[0;34m\u001b[0m\u001b[0m\n\u001b[0;32m--> 247\u001b[0;31m             \u001b[0;32mraise\u001b[0m \u001b[0mKeyError\u001b[0m\u001b[0;34m(\u001b[0m\u001b[0;34mf\"Column `{index}` does not exist.\"\u001b[0m\u001b[0;34m)\u001b[0m\u001b[0;34m\u001b[0m\u001b[0;34m\u001b[0m\u001b[0m\n\u001b[0m\u001b[1;32m    248\u001b[0m \u001b[0;34m\u001b[0m\u001b[0m\n\u001b[1;32m    249\u001b[0m         \u001b[0;32melif\u001b[0m \u001b[0misinstance\u001b[0m\u001b[0;34m(\u001b[0m\u001b[0mindex\u001b[0m\u001b[0;34m,\u001b[0m \u001b[0mint\u001b[0m\u001b[0;34m)\u001b[0m\u001b[0;34m:\u001b[0m\u001b[0;34m\u001b[0m\u001b[0;34m\u001b[0m\u001b[0m\n",
      "\u001b[0;31mKeyError\u001b[0m: 'Column `pred_slices` does not exist.'"
     ]
    }
   ],
   "metadata": {}
  },
  {
   "cell_type": "code",
   "execution_count": 48,
   "source": [
    "plot_df = pd.DataFrame(\n",
    "    {\"pred\": dp[\"pred\"], \"slice\": dp[\"slices\"][:, slice_idx], \"target\": dp[\"target\"]}\n",
    ")\n",
    "sns.histplot(\n",
    "    data=plot_df[plot_df[\"target\"] == 1],\n",
    "    x=\"pred\",\n",
    "    hue=\"slice\",\n",
    "    stat=\"count\",\n",
    "    common_norm=not False,\n",
    "    binwidth=0.1,\n",
    ")\n",
    "plt.yscale(\"log\")\n"
   ],
   "outputs": [
    {
     "output_type": "display_data",
     "data": {
      "image/png": "[encoded data removed]",
      "text/plain": [
       "<Figure size 432x288 with 1 Axes>"
      ]
     },
     "metadata": {
      "needs_background": "light"
     }
    }
   ],
   "metadata": {}
  },
  {
   "cell_type": "code",
   "execution_count": 53,
   "source": [
    "plot_df[(plot_df[\"pred\"] < 0.2) & (plot_df[\"target\"] == 1)].slice.mean()"
   ],
   "outputs": [
    {
     "output_type": "execute_result",
     "data": {
      "text/plain": [
       "0.14184397163120568"
      ]
     },
     "metadata": {},
     "execution_count": 53
    }
   ],
   "metadata": {}
  },
  {
   "cell_type": "code",
   "execution_count": 59,
   "source": [
    "\n",
    "dp.lz[dp[\"pred_slices\"].data[:, pred_slice_idx].argsort()[-10:]]#[[\"object_image\", \"target\", \"slice\"]]"
   ],
   "outputs": [
    {
     "output_type": "execute_result",
     "data": {
      "text/html": [
       "<table border=\"1\" class=\"dataframe\">\n",
       "  <thead>\n",
       "    <tr style=\"text-align: right;\">\n",
       "      <th></th>\n",
       "      <th>image_id (PandasSeriesColumn)</th>\n",
       "      <th>path (PandasSeriesColumn)</th>\n",
       "      <th>index (PandasSeriesColumn)</th>\n",
       "      <th>image (ImageColumn)</th>\n",
       "      <th>name (PandasSeriesColumn)</th>\n",
       "      <th>synset_pos_offset (PandasSeriesColumn)</th>\n",
       "      <th>synset (PandasSeriesColumn)</th>\n",
       "      <th>target (NumpyArrayColumn)</th>\n",
       "      <th>slices (NumpyArrayColumn)</th>\n",
       "      <th>input (ImageColumn)</th>\n",
       "      <th>id (PandasSeriesColumn)</th>\n",
       "      <th>pred (NumpyArrayColumn)</th>\n",
       "      <th>split (PandasSeriesColumn)</th>\n",
       "      <th>emb (NumpyArrayColumn)</th>\n",
       "      <th>pred_slices (NumpyArrayColumn)</th>\n",
       "    </tr>\n",
       "  </thead>\n",
       "  <tbody>\n",
       "    <tr>\n",
       "      <th>0</th>\n",
       "      <td>n07695742_3446</td>\n",
       "      <td>/home/common/datasets/imagenet/ILSVRC/Data/CLS-LOC/train/n07695742/n07695742_3446.JPEG</td>\n",
       "      <td>1193700</td>\n",
       "      <td><img src=\"data:image/jpeg;base64,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\"></td>\n",
       "      <td>pretzel</td>\n",
       "      <td>n07695742</td>\n",
       "      <td>pretzel.n.01</td>\n",
       "      <td>1</td>\n",
       "      <td>np.ndarray(shape=(1,))</td>\n",
       "      <td><img src=\"data:image/jpeg;base64,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\"></td>\n",
       "      <td>n07695742_3446</td>\n",
       "      <td>0.322086</td>\n",
       "      <td>test</td>\n",
       "      <td>np.ndarray(shape=(512,))</td>\n",
       "      <td>np.ndarray(shape=(5,))</td>\n",
       "    </tr>\n",
       "    <tr>\n",
       "      <th>1</th>\n",
       "      <td>n07695742_1668</td>\n",
       "      <td>/home/common/datasets/imagenet/ILSVRC/Data/CLS-LOC/train/n07695742/n07695742_1668.JPEG</td>\n",
       "      <td>1193428</td>\n",
       "      <td><img src=\"data:image/jpeg;base64,/9j/4AAQSkZJRgABAQAAAQABAAD/2wBDAAgGBgcGBQgHBwcJCQgKDBQNDAsLDBkSEw8UHRofHh0aHBwgJC4nICIsIxwcKDcpLDAxNDQ0Hyc5PTgyPC4zNDL/2wBDAQkJCQwLDBgNDRgyIRwhMjIyMjIyMjIyMjIyMjIyMjIyMjIyMjIyMjIyMjIyMjIyMjIyMjIyMjIyMjIyMjIyMjL/wAARCACAAFUDASIAAhEBAxEB/8QAHwAAAQUBAQEBAQEAAAAAAAAAAAECAwQFBgcICQoL/8QAtRAAAgEDAwIEAwUFBAQAAAF9AQIDAAQRBRIhMUEGE1FhByJxFDKBkaEII0KxwRVS0fAkM2JyggkKFhcYGRolJicoKSo0NTY3ODk6Q0RFRkdISUpTVFVWV1hZWmNkZWZnaGlqc3R1dnd4eXqDhIWGh4iJipKTlJWWl5iZmqKjpKWmp6ipqrKztLW2t7i5usLDxMXGx8jJytLT1NXW19jZ2uHi4+Tl5ufo6erx8vP09fb3+Pn6/8QAHwEAAwEBAQEBAQEBAQAAAAAAAAECAwQFBgcICQoL/8QAtREAAgECBAQDBAcFBAQAAQJ3AAECAxEEBSExBhJBUQdhcRMiMoEIFEKRobHBCSMzUvAVYnLRChYkNOEl8RcYGRomJygpKjU2Nzg5OkNERUZHSElKU1RVVldYWVpjZGVmZ2hpanN0dXZ3eHl6goOEhYaHiImKkpOUlZaXmJmaoqOkpaanqKmqsrO0tba3uLm6wsPExcbHyMnK0tPU1dbX2Nna4uPk5ebn6Onq8vP09fb3+Pn6/9oADAMBAAIRAxEAPwB3ja0e48eyMq7/ACz5m0Dk7VGP1Irz/WHkktrsHtgupHI5x+ddx4o1aSy+I2oyvCVgjIQSHoxKj9BXHeKNRhvYru5t0AVtiE4xu9TWFdJyTudWGk4waa36nI3BzCuT2rc0kiOxiUcYPP41gEeYqqTgdz7VvoY/7ItnVv3itscd8HkGsp7I6KL947/wJdxC8uNNdwpuEDRHPR1/+t/KrOuabb20k080QaBlPyY6E5yMfWvNlubm0uUlR2SRCGR1P6iuzfxkNUgtRLGBMFKzqfuueMMK4atN3ujupSaloYHiS21CfRLe3t4xKjvk7MdB0/X+VYvh+1uoLr95FIgxzuUiu8a5t7uRd4bEY5TpgH3q2UsljSZpAXJBMY4GKFWlGHJY0dGEqvtb6lAwebFgsV3LjI65p0Wm2kILyoWI7uc06+uHlRY7MJ5zOOCeFFVrjTZmaX7Zq6LhVJVOMc1rSuo6nJi3zVLotyXUMTbY/LVR7UVkOfD1tI6TXhmYtnO4miru/MwUfQ63xhFbp4nv/tEbHdIH9uQB/QVx99psF2GhMeVY5G3jd9P1rvPH4STVL1m4ZQMMBzkLnFcZaXD6gqNMSSwyqnjjoP1FLEUpU5t331OnB14Vaai1tocZqOiz2YYRsWOOQRziq8OrmKzFvJEdycbu/p/9avQNUsc2MUyKC7Ha/Oa5a+0S0RhJc3Bhc5BXb1x3/Wqo1lJWkZ4nD8j5qexREs0NqjsqvBKmQDzt/wAKjiuQGBVsNmpx5bxuq58tCEVieoHtUNvpxvJ3CjlTwD3q9OpEXK6sbVhNeXIMUTBwAC2DXQW2mTFVa8YoijkE4p2g6J9nt96xFHfO5CchgO/r+FVfE2rvbrbQfOUkBYMB1xx+dcbfPPlgdyfJDmmzYjtLfcpt5FPGRv4P45rmfEHh6Q+bf2bTEH55YXbd+KnuPY9Kij1S2ijjlkEzkjKkyH1x0rQsdXilIjjLQgn5t54HuetNRqU3dESnSqqz3OIjj8wFjmiu11D+ztIeMT2UbCZfMV0wQ3PNFdKqSeqRyOnGOknqXPiVrd7B4m1mJEbyPM8sMOxKD/GsrwfbzXNiHlZjHGzlNx64AyBWr451FZ/G2oae0amM3gDcZJBAzTLRVto4bK2nGwOcDsvPf+tXi5StaX9IjAQi5Xi+mvqX9QPlaM0TBo8uCN5x3HSsLxmbb+z9PnuEyrHbkDnOPX8K19cjA09I4pPtD797c8Ywen44rnvF6XM+h2eImKxtufC/c4xzXHh7Oaa7nfib+zl6HPWbKWYZ2rj8TWroEpW8cEdDyTzWS2beWNjgbkXOO/ArQiIhK3CbtrHBwcHNdlTVWOGhpJM9RutPlh01Lu1l3Wsqbt3OVyOOPrgVz+o6Ib3TUfgXFu27G7PGOfw7/hXV+D78alostlMcspJAJ/hPUfgf51zuuw3Npeqkf/HvKRFJt7Y4/WvNi2pWPQXvXizKbw7bXGjSOkyG8t5fMt2P3XBAJVvy4NP0/T99009ysfm3GSQBwT/T61rXVxbRW6QoqrjgjIBb8adpt5vaOCG3RpOqH29c1TnOS1ZpGnTi7pHP+KbUxmzigjdgqtwMnbyP/r0V009rJPMzOzIegAorrhOCilczlgK1R88VozkNaaS58aapfzJsBnk2855HH9KzU1VLWbLZG7G/35GQK7fV9MtYNRupJnXzHnlbA54JJ/rXA3tr9p1pI4sFAw3g9hnk1TqKrN32OKEJUaa5d2d7ATcx5IKkgElVwvPIx/8AWrC8Z3VymlsDGMAbGYHqD3P+e9b1ncR+VESAI2ck4z8o/wA5qbVLSDVLWVQgMbRkFSOD6fj1rii1CopM9KTcqbit7HA3eniW3XDfOsQYfgOlZ9tPui8pjxnqR3rd1BTHI/YeUw/8drn5rd7Ty2LACQZ47H0/I5r0IPmR5DtFnZ+GNYawuoJ3LIVkBPcMOhH5V2upCG7MktsQ8cqBgNmcg9fxyK8ns7l418xcMPuv/T867rQtRMgMSbtuOOe/pXDiKbTuj0qE07SG32m2t3erLOkoUQ4KqxGGH/6/0rPuFl8O3e2N2EEmAN/B5GRn1FXUvXuPthMUrTQFiA2Rn8axtX1W8udCezukM7SEGJyvzR4I4/SlBSdkzSUqcU3bW2nqdTZzRT24fe4z33EZorJ0SGdbBDNA0khALAA/LxRWMo2bSZrCbcUw1CW4vdWuIpIvLHnON+cFuTx/9eqtvpttYzTSZ3XEnTPzYHt7ev8A9anXOqGbU5nPJViEYDgjJ/KqNxclzIQ2SVG0hOg9fb0rrcWm7HEmnZsvWs7w7o1Rsq/BPcH/ABrVtL2Nr6W3SQSDCqSBgbu4FYhvobaF7sIvmbsxhzks57Y7gdfwqLRi0kwLOQXYEs3GfeocdG2bRld2LF1plxNqV7BJj91IUCgdqD4be7slilUmFWABB6Y4H09K0bnVgl3dTZI81yxJ6gen5VWttenny0Y4bq3A3Ur1PssSjTS95I5240ebSZZJEzNCoIeN/vY/DqPek028MUizRSbIicbs/d+uK7BmFxC3mxjy+7HHBridd0yTSbvz4FzbzNggdM1rTm5+7PcxqQVP95S26o7fTNYhCkzKjLIvLEYHT+dbJSwliWVCpUA8A8n/AOvXlEV09sv79GC55D9PpXS6ddXslvJPFbEIikl9uMD6VnUoW1RdOumdptt7disbqmcEhsD+dFZCWE7IrXRdQyh0ZIDIGBGc5/KioVHyLdeK6nAXV08No13FjclyQ+OuCaf9udk3I+8MM+m4Vh3l2wt5rcfdkk3H8K09PtYpLIJswVj35B9s16MopK77nnyq807R7L7x0Uskk4LSBkXgKzYGOvHpXQWRhEKAMRI5yFHOQP8A69Ydnp01xIpRAFYcFv510lhAdNlXzGj3kcuV3HHuK560lsjqoQla/QxvFV3JHOLe1RgVj8yQAZ/yMVixaxffZ0McnlseuFGD713Menm/v2uppf3qDCSDr6VgXPhi8/tQwKCYiNyyBcAj0xRSqQUeV9DKtRqufOndMfpGq3d5mJ5WKKcuOBXQpdJqRm04xAqnzREjJJHIx6dKxLi0t9Ouo7WEqW7kfTqf0rqtIitoxE6n98D8zHj8BWNWS+JfI6qUXy8svmef+IDILWNezy7iB61q+Ere51GQsLkqVYADqx9selN17Rri4vTJbuWiadmVCeAfar3gm1aLxTLYTYWTKupHOGHOPpW053o6bnLGm4Vby2PevB9/9msZLedlDR7Rt6Y6j+lFcJq1/JFdFoGcFid3lH0x1oqaVStyLlehnVw8HNtngLp5hfcpzyQfeuo0j99pVsUGSyGNvqDj+VdF4r8HW/hTUYbKG7luY7mBnJlUAqQcdvrXI6DP5VsVJOPNJHtwP8K66t7NdjPDtOpF97nXfZWitklA2qg/KsG8v1e7bbGSW9Op9K6R3N1pjqpBaRAob/H8qy4rSOx1WKNl+eTG1h29q4YWvqejWk+mw7TJonUNLcFDnhFGdxz0rWuNZsrbT3uA5ZowfvnLMeOP1rkbwZvyvOA5HHv/APXrW1O2H/CLEpE2Q65YdTz7U5U48yv1FCrLkbXQ5u1nlvdUluJuWfBPHAr0DRoPMlhQIWkfAUDue1c1pWlG1UGZPmJyxGf++a7nQ5VtnudREaCCxhaUvjoccfqf0orSUnZbCop06blLd6mdr2zTUmgQ72gl3H2APP8AI/nXN6Tfxt4zu763PyBzt/Af/Wq1e3Ju7W5nlPMitIxHU5yefeue8OxSJD5gU9Nx+lOEbQkTKV5RTO9h1qC1DefchQ5ypJHPr1opun+FbLX9NiuNQFwNrMI/Kl2ccZzx7UUo1aMFyyeoqntnJuKVi/8AFTULG08Q2C3vm4a2YAx9R81eQaXcLFcXPl5KF8puP16/hXqPxZjgufEFmsqBittwfTLGvJSFgu5/K+6rcV6coJuXmeTCq4crXQ9E0C6RwF3c+h7+taN/bhZ0laPJTBUg9OtcNpepGFxImOOqntXWafrnmZjkTKHnI6LXl1aUoyuj3KVWFSOpzUsd1NqJRYdnzglyeMe1dXpayXlvEpY+VkAFTyPpmnTXdkFPlRfvRznjHtWfoepxxQyRTKyE5YYHTnt60pc1RbbDgo0m0nubU6iBiquHXOVZeSw+tJq062/hiHSUjkRrtw91MEJAA/g46k8cdqz5JXuvMNvL5WBtU9wKrw6trFlEsMq+fCTw2Pn49s81pToytc5cRiI35SM6fcX1vN9njYQt8oHQ4+laWl6RaSTqsx+zWyEEREHLcDgn0yKxtO8SS2MjedGXt9x+brx9a3pfEttc+XFakSsSGKkYOO4zUzVRO1ghUi9Wd4k9k8UaiMRhFCgR5AxRWHaa0vkjKgAcAMMn8+tFQ6ae9jTmfRH/2Q==\"></td>\n",
       "      <td>pretzel</td>\n",
       "      <td>n07695742</td>\n",
       "      <td>pretzel.n.01</td>\n",
       "      <td>1</td>\n",
       "      <td>np.ndarray(shape=(1,))</td>\n",
       "      <td><img src=\"data:image/jpeg;base64,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\"></td>\n",
       "      <td>n07695742_1668</td>\n",
       "      <td>0.346772</td>\n",
       "      <td>test</td>\n",
       "      <td>np.ndarray(shape=(512,))</td>\n",
       "      <td>np.ndarray(shape=(5,))</td>\n",
       "    </tr>\n",
       "    <tr>\n",
       "      <th>2</th>\n",
       "      <td>n07693725_5358</td>\n",
       "      <td>/home/common/datasets/imagenet/ILSVRC/Data/CLS-LOC/train/n07693725/n07693725_5358.JPEG</td>\n",
       "      <td>1192694</td>\n",
       "      <td><img src=\"data:image/jpeg;base64,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\"></td>\n",
       "      <td>bagel, beigel</td>\n",
       "      <td>n07693725</td>\n",
       "      <td>bagel.n.01</td>\n",
       "      <td>1</td>\n",
       "      <td>np.ndarray(shape=(1,))</td>\n",
       "      <td><img src=\"data:image/jpeg;base64,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\"></td>\n",
       "      <td>n07693725_5358</td>\n",
       "      <td>0.358830</td>\n",
       "      <td>test</td>\n",
       "      <td>np.ndarray(shape=(512,))</td>\n",
       "      <td>np.ndarray(shape=(5,))</td>\n",
       "    </tr>\n",
       "    <tr>\n",
       "      <th>3</th>\n",
       "      <td>n07695742_7737</td>\n",
       "      <td>/home/common/datasets/imagenet/ILSVRC/Data/CLS-LOC/train/n07695742/n07695742_7737.JPEG</td>\n",
       "      <td>1194107</td>\n",
       "      <td><img src=\"data:image/jpeg;base64,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\"></td>\n",
       "      <td>pretzel</td>\n",
       "      <td>n07695742</td>\n",
       "      <td>pretzel.n.01</td>\n",
       "      <td>1</td>\n",
       "      <td>np.ndarray(shape=(1,))</td>\n",
       "      <td><img src=\"data:image/jpeg;base64,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\"></td>\n",
       "      <td>n07695742_7737</td>\n",
       "      <td>0.051134</td>\n",
       "      <td>test</td>\n",
       "      <td>np.ndarray(shape=(512,))</td>\n",
       "      <td>np.ndarray(shape=(5,))</td>\n",
       "    </tr>\n",
       "    <tr>\n",
       "      <th>4</th>\n",
       "      <td>n07684084_2825</td>\n",
       "      <td>/home/common/datasets/imagenet/ILSVRC/Data/CLS-LOC/train/n07684084/n07684084_2825.JPEG</td>\n",
       "      <td>1190963</td>\n",
       "      <td><img src=\"data:image/jpeg;base64,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\"></td>\n",
       "      <td>French loaf</td>\n",
       "      <td>n07684084</td>\n",
       "      <td>french_loaf.n.01</td>\n",
       "      <td>1</td>\n",
       "      <td>np.ndarray(shape=(1,))</td>\n",
       "      <td><img src=\"data:image/jpeg;base64,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\"></td>\n",
       "      <td>n07684084_2825</td>\n",
       "      <td>0.064168</td>\n",
       "      <td>test</td>\n",
       "      <td>np.ndarray(shape=(512,))</td>\n",
       "      <td>np.ndarray(shape=(5,))</td>\n",
       "    </tr>\n",
       "    <tr>\n",
       "      <th>5</th>\n",
       "      <td>n07693725_8860</td>\n",
       "      <td>/home/common/datasets/imagenet/ILSVRC/Data/CLS-LOC/train/n07693725/n07693725_8860.JPEG</td>\n",
       "      <td>1192972</td>\n",
       "      <td><img src=\"data:image/jpeg;base64,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\"></td>\n",
       "      <td>bagel, beigel</td>\n",
       "      <td>n07693725</td>\n",
       "      <td>bagel.n.01</td>\n",
       "      <td>1</td>\n",
       "      <td>np.ndarray(shape=(1,))</td>\n",
       "      <td><img src=\"data:image/jpeg;base64,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\"></td>\n",
       "      <td>n07693725_8860</td>\n",
       "      <td>0.203652</td>\n",
       "      <td>test</td>\n",
       "      <td>np.ndarray(shape=(512,))</td>\n",
       "      <td>np.ndarray(shape=(5,))</td>\n",
       "    </tr>\n",
       "    <tr>\n",
       "      <th>6</th>\n",
       "      <td>n07693725_7582</td>\n",
       "      <td>/home/common/datasets/imagenet/ILSVRC/Data/CLS-LOC/train/n07693725/n07693725_7582.JPEG</td>\n",
       "      <td>1192847</td>\n",
       "      <td><img src=\"data:image/jpeg;base64,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\"></td>\n",
       "      <td>bagel, beigel</td>\n",
       "      <td>n07693725</td>\n",
       "      <td>bagel.n.01</td>\n",
       "      <td>1</td>\n",
       "      <td>np.ndarray(shape=(1,))</td>\n",
       "      <td><img src=\"data:image/jpeg;base64,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\"></td>\n",
       "      <td>n07693725_7582</td>\n",
       "      <td>0.000730</td>\n",
       "      <td>test</td>\n",
       "      <td>np.ndarray(shape=(512,))</td>\n",
       "      <td>np.ndarray(shape=(5,))</td>\n",
       "    </tr>\n",
       "    <tr>\n",
       "      <th>7</th>\n",
       "      <td>n07693725_13139</td>\n",
       "      <td>/home/common/datasets/imagenet/ILSVRC/Data/CLS-LOC/train/n07693725/n07693725_13139.JPEG</td>\n",
       "      <td>1192093</td>\n",
       "      <td><img src=\"data:image/jpeg;base64,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\"></td>\n",
       "      <td>bagel, beigel</td>\n",
       "      <td>n07693725</td>\n",
       "      <td>bagel.n.01</td>\n",
       "      <td>1</td>\n",
       "      <td>np.ndarray(shape=(1,))</td>\n",
       "      <td><img src=\"data:image/jpeg;base64,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\"></td>\n",
       "      <td>n07693725_13139</td>\n",
       "      <td>0.000003</td>\n",
       "      <td>test</td>\n",
       "      <td>np.ndarray(shape=(512,))</td>\n",
       "      <td>np.ndarray(shape=(5,))</td>\n",
       "    </tr>\n",
       "    <tr>\n",
       "      <th>8</th>\n",
       "      <td>n07695742_7301</td>\n",
       "      <td>/home/common/datasets/imagenet/ILSVRC/Data/CLS-LOC/train/n07695742/n07695742_7301.JPEG</td>\n",
       "      <td>1194075</td>\n",
       "      <td><img src=\"data:image/jpeg;base64,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\"></td>\n",
       "      <td>pretzel</td>\n",
       "      <td>n07695742</td>\n",
       "      <td>pretzel.n.01</td>\n",
       "      <td>1</td>\n",
       "      <td>np.ndarray(shape=(1,))</td>\n",
       "      <td><img src=\"data:image/jpeg;base64,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\"></td>\n",
       "      <td>n07695742_7301</td>\n",
       "      <td>0.269932</td>\n",
       "      <td>test</td>\n",
       "      <td>np.ndarray(shape=(512,))</td>\n",
       "      <td>np.ndarray(shape=(5,))</td>\n",
       "    </tr>\n",
       "    <tr>\n",
       "      <th>9</th>\n",
       "      <td>n07693725_9711</td>\n",
       "      <td>/home/common/datasets/imagenet/ILSVRC/Data/CLS-LOC/train/n07693725/n07693725_9711.JPEG</td>\n",
       "      <td>1193084</td>\n",
       "      <td><img src=\"data:image/jpeg;base64,/9j/4AAQSkZJRgABAQAAAQABAAD/2wBDAAgGBgcGBQgHBwcJCQgKDBQNDAsLDBkSEw8UHRofHh0aHBwgJC4nICIsIxwcKDcpLDAxNDQ0Hyc5PTgyPC4zNDL/2wBDAQkJCQwLDBgNDRgyIRwhMjIyMjIyMjIyMjIyMjIyMjIyMjIyMjIyMjIyMjIyMjIyMjIyMjIyMjIyMjIyMjIyMjL/wAARCABgAIADASIAAhEBAxEB/8QAHwAAAQUBAQEBAQEAAAAAAAAAAAECAwQFBgcICQoL/8QAtRAAAgEDAwIEAwUFBAQAAAF9AQIDAAQRBRIhMUEGE1FhByJxFDKBkaEII0KxwRVS0fAkM2JyggkKFhcYGRolJicoKSo0NTY3ODk6Q0RFRkdISUpTVFVWV1hZWmNkZWZnaGlqc3R1dnd4eXqDhIWGh4iJipKTlJWWl5iZmqKjpKWmp6ipqrKztLW2t7i5usLDxMXGx8jJytLT1NXW19jZ2uHi4+Tl5ufo6erx8vP09fb3+Pn6/8QAHwEAAwEBAQEBAQEBAQAAAAAAAAECAwQFBgcICQoL/8QAtREAAgECBAQDBAcFBAQAAQJ3AAECAxEEBSExBhJBUQdhcRMiMoEIFEKRobHBCSMzUvAVYnLRChYkNOEl8RcYGRomJygpKjU2Nzg5OkNERUZHSElKU1RVVldYWVpjZGVmZ2hpanN0dXZ3eHl6goOEhYaHiImKkpOUlZaXmJmaoqOkpaanqKmqsrO0tba3uLm6wsPExcbHyMnK0tPU1dbX2Nna4uPk5ebn6Onq8vP09fb3+Pn6/9oADAMBAAIRAxEAPwDIhjJNW0jqZLbYMUrMsY9/SmmxFO+vU0+FHZSzO21FBxk/4VQFi+ruGu5d6g/LGpwi/h3PvWX4g1SHUHSC3bf5DkMwHG70B71SttUeOdYEaTPcr0rz8Y6knyxeh3YemuXm6m7eWljaN5MYy4XNZ0URuZyc7sNg8ZAFWjbSyzFpG+U9Tmt/S9JkUJJEy+U3VVWvMnV5VpudkYuKvJi2XiU6bYp9tgneNG8sypglfTIJGfwroNP8TaTesqxahEJCR+7lPlv/AN8tg1kak0OnWchSWCKQjJMv3T7Y71xyS2+rynztOhifpGsfCA93K4wT7Ece9ehhsTejzVOh59Sk51GqaO88OTOnhezAPADgf99tUz3Tk8k1kWv9ptbLBFchIo0CoscaqBx0wBUSpqEAZpbgnHOZOaqOZ0l0YfVJ90bYuG9aguruZYXXe2xlIIzUWn3NveOInlWOQ9z0NbTaBcMMZQg1208RRqq8Wc86c6btJHLwx/a9a0i2HIQyXLf8BG0fq1d9bW5AzXNaDo0w8V6kyFNtpFFb8ngFgXIH5rXdpafuSGYAkfw1Skl1Iepzl3MWmIU/KOPrWfNdJBy8Mbj/AHcVt3elyKS0fIrGu7J2Ugrz707RkLU4S58ao2fs2nyOOxdwP0Ga5/UdevdS/cuptYWPziJiHYem4/4V0lymnRSsoiUOPaubvIZZpyI1BAPA6V58cTJnpQo0paWK6Tu6R24RVRB8mF2cfQcH9K39DNqGBn25z1qpp+lzO2XB8vHAPY1R1XRr2G6zAryxuMlVGcHuMDn8s1m6kK8+RvX8xzi6Mfd2PS7ebTxHkKj8d6S98RWemWTN8ke0HA9fpXl9lYFcsLiS1XoWUl0z6EDkH2OKtrps888Qvbcuh+7h9wX3YE8E+nOK0nQppWdkcylOT01L91ez6hI1zfRIR1gTdzGfUrj72PfipNNhxMG3FNuMtgGmf2K8UebfeV/55l8r+GelW7RZrOVPMTbxkBxwa468oW5abR3YZOMfeWp1SalNb6SRFCGmUfwry3uKyZL+4uQ6yxFF77hjNSyX0c8Kt5yg5xjGKoDyhN5hYsfQmuKm5pOJp7JN8xLG7WsSslt5n8Sn2rsbLU7t7eCS3v7VNy/Lb3aHD464dTkYzjoRXFyatBbAAsPoTnAq1HKL+yigkt1MRcspZQWz7Z+7+FXSn7GanJaa/MWIp88eVGq+t6voOuXjxafFLBdMLu4TeZAhwEysqZwDt43qMYPNdDZ+PNJmjU3nn6eW6NcLmI/SRcr+ZFYkOgLPFlslyOnXPuaqz2X2V9uCFbg7fT39q6VmaeqhocawqenNqejRTw3UIlgljmibo8bBlP4iopraObhlrziS2htFW50tmtLr/npAdmT/ALSj5W+hFdLa+NLKKCJNVLwT7BukWItGx74xkj6H9a66GNp1XaL1MamHnDV7HkzyRavOl1azY2ffGRz9R1q5BaOxyB824A1O3hS11KKO905mtJWAZJYcgH3IqIXms+GZM6tYC8tv+fmDqPcj/HH1rnlSlJfu/ue//BOqFaMN0dPp2nNBFmRgM9vb0qC9mNvMgghgmgZsOkhIYn1XgjjvVB/Fmlz2pmhvVJIJ2sMFfqKitJEaTa7O5ZifnPTv+FcypSo/vHuCk6zt0JlsJL2aSRlUSKMbh/CPQd62rbR1S2EbIN3en2c0BBKKF2jsOtXo5i1nK/OcZ/GueVRy1kzRycdIqxWS1SAGIAeWTnp3psps5ojDLFvQnAHHHv8AWuft9ZnvyXyQocqrYxkZ61qQQvKx6ELzz3rOvBQdky6d5as5XxDDNpF7tO/7M4/dXGMqfYkdDWV5l20e6NlPUqQOPzr1CC3gvIWtZkUox5T0PrXE6smkW15NAkcmnXMTlXdGBQ/XGV5/2gDXqZfUhWjytao5686lN6PQybRozgXNvM1ySP3jsCgGf4cd/rXZaZKoaEkgKq43ds1xV3cT2WxpBHco7AI8XDH8Oh/A10Gl3oij2EgrIQRnpSzCg7XRWHq30e56JaXeYnCYLEELzj6VyEmuyNcukww6DY6nqrd81pRSsuJITn5csMUrWVjq06SXFqDLwDIpIOO2cdfxryaNX2d1LY0nS6oo27yXGcIcNn8as2uPOVgWVlIwAeQRVmeBLFx5SABTxiobdgb4SBMhjkgVMn72isawu1qcp4f8Qrpzy6dCpmgZi9tk4Kg8lT/n1qXWb/W5UkuCiR2irlghwwH1PX6cVU1RoorRhqFmbDUojvhu4wWjkI7Z6j6Gi3vL6+toLrU4jNYITgQDOHB+9Ig5+mPrivtHBM8O7MK20aDWbiV42+zOPuoBh/8AeYe/tVu11HVdDYG8g+2WoOC6feH1rqjZ2Gq26TKUmUcpLG2GU+zDkGnTaesgBU5YDkHufWufGUbx2ujfDVFzWbsyDTdd0/UgVtblt7Y/dNw2a27mO4t7M7bjYXH3SM4rh7rw8t7d5WPyCPm89OD+XerKXOs6LIsV/Mt9pw6Tjkp9e/8AOvFnhYN3p79n+j6nc5Sj8W3c2oNMkkiOwfKMD2FWoXljkO7cMEHPfpTrPU4f7J+Q7hICSR6Ujz24QyZJHHQ1xzu9GtTpi38jTtZSkYlCkk9gMn/9dc7q0Ol6uzTQy7rhfvo4Mc0f1BwcfpWvFdXem+VezaZcTWZBZmiwWj9CV64xVPX7211W6hcWyOI+UZ0G4f59K7MGvq6dSfU4q160+WPQ8+OjXcszT2RJRWIj6KT6nptq7pv9oxsYrq0l8sHhgmCPyyPyro1lijjb7zFuAOnArRjIkUKkBy2NrdKutj5SVnHQ0hhOXW4/Tb5VlAkJ24wQwrq7OKFsSRMNp549+1c7NZhSIwBuIzjrTYdRudPJSEb8DgHv7e1clGdKcrTViqkJ2vF3OonsBc7dwHByfenQ6dDFIHKgBRyTXL6f40muZfLu1NmmdpeaPCg+hYEgfiRWne6jqFkN90kF7Y481prJ/mVBydyk/wAia9L6hC6scf1iSViFbMXxaG6jEqEY3EcfiD1qL+xU0+Dy7eBUizuzGO/uK348NyuMVYVa9vnsziscFcaNG8xuLWR7S6PWWLo3+8vRvxqu19c2Py6pBtTtdwAmP/gQ6p+o967yfTIpvmUbH9R0NZkunvG+2QBQejfwmrUovYVmYZYTwh18uWNhlZFOcj6jrUEixeQ8bKShGCpXIx+FaMnhCaORp9Ml+xyMclVG6KT6p/UYNV/ObTpli16zNruOFnU7oHPs38J9mxXNUoUZ7rXyN4VqkVZPQ5rw6AY57Fjny5TtVuDtNdLPoMqQx3MF6LeaP5lUxh42+o6/kaqW+kaZceLtUt5Y98UkCT28isVdDxkqw5HWor5tU00tHHIdQtR2bCzKP/QW/Q1k8PBycktR+1nblvoTPrWpakjWV5EsRUjfJE2UkHt3H0oktjJEWH3hnGKoabew3jGSIuArbHVlwVYdQRXR28KSbicZySBngivIx0bVNOh10JWiV7TSRJ5bMNwOCQfWtx7OK0RGYgFRgZqOB1j2IOMnFN8UW91eaeDp5/exHPl/319B715sXeVpG85yZQvZ0lBKH5u+D2qjG0SzoJSSD1GcVj2t3O85ieKRZVOGV1IIq/ISuGAw3YH1rWpTSehVKT2Nj+zrFd1zIjIzEfvraTZIo/kw9iDWVqmkuNkEKW7/AGydLWK4hTyJOTk7lX5WGAQT79KSOST7VlyVDHlT/npW9oFob3xDZOzAQ2QklEZ672wAa78DiJR/dSd+xhiaCtzoqab4lZMLqK4H/PzEOP8AgQ7fyrrILiOSJZFdXjYZWRDlTXkOnapJAv8ApA3R9PMUdPqO1a1jqs8N0X05wiMeY8ZR/cjt+FfRe0jJe/8A8H/gnnOi1rDT8v8AgHqagEUpRWGCAR6Vz2m+IYJisU4+y3B/hY5R/of/ANVbyzqR8wKn9D+NTKk0rx1RClraWjI/szwndbtt/wBhuVP+FIZoplaC6iC7xgpIAVYfyNTGZF65qvNcwspV4mde4xmsbN7lnBeItIGi+IdPOiiK1FwsihXyY89cAZ4B9ulY+q6/Nbwm3ntjbX8p2RM7AxEngsG9B1wa7HX9PtdWs1gWSQlG3x9Q8TeqmuBuY7zSLuSbV7c6hAyeX9pVclF9Cv8AOtoppE3NC0s0sbeOGE5AGS56uepJPua2oZnCh1zwOa5i3gHlC50G8Vos5Nu5LR/T1Q1q2WtxPILW4ja1uT/BJ0b/AHW6GvNx2FdXVHTQqqO5rrqRe+Xeu0ZAGTwPWtCfUTGSFOfeuYuvMVWbBYdQcdDVf+0nKyIoIc9c9BXh1MLK56UeWSujYuNU89sKo8zjOauRTQtYmbAYop3diK5e2n3OztyTzx/n0q15u6QIjsEIy23vT+r2dhuKtoaK3HmSsZEG3t9K3vCTedrrtG2UWI5/TFcw253Xy2PXoR1rvvCejvptq88wxNPj5cfdUV1YehaaZliKiUGu5//Z\"></td>\n",
       "      <td>bagel, beigel</td>\n",
       "      <td>n07693725</td>\n",
       "      <td>bagel.n.01</td>\n",
       "      <td>1</td>\n",
       "      <td>np.ndarray(shape=(1,))</td>\n",
       "      <td><img src=\"data:image/jpeg;base64,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\"></td>\n",
       "      <td>n07693725_9711</td>\n",
       "      <td>0.020270</td>\n",
       "      <td>test</td>\n",
       "      <td>np.ndarray(shape=(512,))</td>\n",
       "      <td>np.ndarray(shape=(5,))</td>\n",
       "    </tr>\n",
       "  </tbody>\n",
       "</table>"
      ],
      "text/plain": [
       "DataPanel(nrows: 10, ncols: 15)"
      ]
     },
     "metadata": {},
     "execution_count": 59
    }
   ],
   "metadata": {}
  },
  {
   "cell_type": "code",
   "execution_count": 1,
   "source": [
    "import ray.tune as tune"
   ],
   "outputs": [],
   "metadata": {}
  },
  {
   "cell_type": "code",
   "execution_count": 2,
   "source": [
    "tune.sample_from(lambda spec: spec)"
   ],
   "outputs": [
    {
     "output_type": "execute_result",
     "data": {
      "text/plain": [
       "<ray.tune.sample.Function at 0x7f1e38591f40>"
      ]
     },
     "metadata": {},
     "execution_count": 2
    }
   ],
   "metadata": {}
  },
  {
   "cell_type": "code",
   "execution_count": 3,
   "source": [
    "tune.grid_search([1,2,3])"
   ],
   "outputs": [
    {
     "output_type": "execute_result",
     "data": {
      "text/plain": [
       "{'grid_search': [1, 2, 3]}"
      ]
     },
     "metadata": {},
     "execution_count": 3
    }
   ],
   "metadata": {}
  },
  {
   "cell_type": "code",
   "execution_count": 19,
   "source": [
    "common_config = {\n",
    "    \"n_slices\": 5,\n",
    "    \"emb\": tune.grid_search([(\"clip\", \"emb\"), (\"bit\", \"emb\")]),\n",
    "}\n",
    "\n",
    "from ray.tune.suggest.variant_generator import _generate_variants"
   ],
   "outputs": [],
   "metadata": {}
  },
  {
   "cell_type": "code",
   "execution_count": 20,
   "source": [
    "out = list(_generate_variants(\n",
    "    {\n",
    "        \"sdm_class\": MixtureModelSDM,\n",
    "        \"sdm_config\": {\n",
    "            \"learning_rate\": tune.grid_search([1e-2, 1e-3]),\n",
    "            **common_config,\n",
    "        },\n",
    "    },\n",
    "))"
   ],
   "outputs": [],
   "metadata": {}
  },
  {
   "cell_type": "code",
   "execution_count": 24,
   "source": [
    "list(zip(*out))[1]"
   ],
   "outputs": [
    {
     "output_type": "execute_result",
     "data": {
      "text/plain": [
       "({'sdm_class': domino.sdm.gmm.MixtureModelSDM,\n",
       "  'sdm_config': {'learning_rate': 0.01,\n",
       "   'n_slices': 5,\n",
       "   'emb': ('clip', 'emb')}},\n",
       " {'sdm_class': domino.sdm.gmm.MixtureModelSDM,\n",
       "  'sdm_config': {'learning_rate': 0.01, 'n_slices': 5, 'emb': ('bit', 'emb')}},\n",
       " {'sdm_class': domino.sdm.gmm.MixtureModelSDM,\n",
       "  'sdm_config': {'learning_rate': 0.001,\n",
       "   'n_slices': 5,\n",
       "   'emb': ('clip', 'emb')}},\n",
       " {'sdm_class': domino.sdm.gmm.MixtureModelSDM,\n",
       "  'sdm_config': {'learning_rate': 0.001,\n",
       "   'n_slices': 5,\n",
       "   'emb': ('bit', 'emb')}})"
      ]
     },
     "metadata": {},
     "execution_count": 24
    }
   ],
   "metadata": {}
  },
  {
   "cell_type": "code",
   "execution_count": 1,
   "source": [
    "import ray.cloudpickle as cloudpickle"
   ],
   "outputs": [],
   "metadata": {}
  },
  {
   "cell_type": "code",
   "execution_count": null,
   "source": [
    "cloudpickle."
   ],
   "outputs": [],
   "metadata": {}
  }
 ],
 "metadata": {
  "orig_nbformat": 4,
  "language_info": {
   "name": "python",
   "version": "3.8.10",
   "mimetype": "text/x-python",
   "codemirror_mode": {
    "name": "ipython",
    "version": 3
   },
   "pygments_lexer": "ipython3",
   "nbconvert_exporter": "python",
   "file_extension": ".py"
  },
  "kernelspec": {
   "name": "python3",
   "display_name": "Python 3.8.10 64-bit ('domino': conda)"
  },
  "interpreter": {
   "hash": "0d937a63d09daec3f9548a5c769ccb20edb9c2c1ae2375686b21850f577713d2"
  }
 },
 "nbformat": 4,
 "nbformat_minor": 2
}