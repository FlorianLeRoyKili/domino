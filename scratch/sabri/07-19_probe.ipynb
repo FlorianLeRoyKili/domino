{
 "cells": [
  {
   "cell_type": "code",
   "execution_count": 220,
   "source": [
    "%load_ext autoreload\n",
    "%autoreload 2\n",
    "\n",
    "import terra\n",
    "import numpy as np\n",
    "import meerkat as mk\n",
    "import pandas as pd\n",
    "import torch\n",
    "\n",
    "import matplotlib.pyplot as plt\n",
    "import seaborn as sns\n",
    "from sklearn.metrics import roc_auc_score\n",
    "from sklearn.linear_model import LogisticRegression\n",
    "from sklearn.decomposition import PCA, FastICA\n",
    "import meerkat.contrib.mimic\n",
    "from domino.evaluate.linear import induce_correlation\n",
    "from domino.evaluate.train import train_linear_slices, train_model\n"
   ],
   "outputs": [
    {
     "output_type": "stream",
     "name": "stdout",
     "text": [
      "The autoreload extension is already loaded. To reload it, use:\n",
      "  %reload_ext autoreload\n"
     ]
    }
   ],
   "metadata": {}
  },
  {
   "cell_type": "code",
   "execution_count": 221,
   "source": [
    "partial(torch.mean(dp[\"activation_layer4\"], axis=[-1, -2])"
   ],
   "outputs": [
    {
     "output_type": "execute_result",
     "data": {
      "text/plain": [
       "TensorColumn(tensor([[0.02...921, 0.1056]]))"
      ],
      "text/html": [
       "<div>\n",
       "<style scoped>\n",
       "    .dataframe tbody tr th:only-of-type {\n",
       "        vertical-align: middle;\n",
       "    }\n",
       "\n",
       "    .dataframe tbody tr th {\n",
       "        vertical-align: top;\n",
       "    }\n",
       "\n",
       "    .dataframe thead th {\n",
       "        text-align: right;\n",
       "    }\n",
       "</style>\n",
       "<table border=\"1\" class=\"dataframe\">\n",
       "  <thead>\n",
       "    <tr style=\"text-align: right;\">\n",
       "      <th></th>\n",
       "      <th>(TensorColumn)</th>\n",
       "    </tr>\n",
       "  </thead>\n",
       "  <tbody>\n",
       "    <tr>\n",
       "      <th>0</th>\n",
       "      <td>torch.Tensor(shape=torch.Size([2048]))</td>\n",
       "    </tr>\n",
       "    <tr>\n",
       "      <th>1</th>\n",
       "      <td>torch.Tensor(shape=torch.Size([2048]))</td>\n",
       "    </tr>\n",
       "    <tr>\n",
       "      <th>2</th>\n",
       "      <td>torch.Tensor(shape=torch.Size([2048]))</td>\n",
       "    </tr>\n",
       "    <tr>\n",
       "      <th>3</th>\n",
       "      <td>torch.Tensor(shape=torch.Size([2048]))</td>\n",
       "    </tr>\n",
       "    <tr>\n",
       "      <th>4</th>\n",
       "      <td>torch.Tensor(shape=torch.Size([2048]))</td>\n",
       "    </tr>\n",
       "    <tr>\n",
       "      <th>...</th>\n",
       "      <td>...</td>\n",
       "    </tr>\n",
       "    <tr>\n",
       "      <th>5357</th>\n",
       "      <td>torch.Tensor(shape=torch.Size([2048]))</td>\n",
       "    </tr>\n",
       "    <tr>\n",
       "      <th>5358</th>\n",
       "      <td>torch.Tensor(shape=torch.Size([2048]))</td>\n",
       "    </tr>\n",
       "    <tr>\n",
       "      <th>5359</th>\n",
       "      <td>torch.Tensor(shape=torch.Size([2048]))</td>\n",
       "    </tr>\n",
       "    <tr>\n",
       "      <th>5360</th>\n",
       "      <td>torch.Tensor(shape=torch.Size([2048]))</td>\n",
       "    </tr>\n",
       "    <tr>\n",
       "      <th>5361</th>\n",
       "      <td>torch.Tensor(shape=torch.Size([2048]))</td>\n",
       "    </tr>\n",
       "  </tbody>\n",
       "</table>\n",
       "<p>5362 rows × 1 columns</p>\n",
       "</div>"
      ]
     },
     "metadata": {},
     "execution_count": 221
    }
   ],
   "metadata": {}
  },
  {
   "cell_type": "code",
   "execution_count": 201,
   "source": [
    "models_df = train_linear_slices.out(1302).load()\n",
    "inp = train_linear_slices.inp(1302)\n",
    "models_df.iloc[10:]"
   ],
   "outputs": [
    {
     "output_type": "execute_result",
     "data": {
      "text/plain": [
       "                      target    correlate  corr  num_examples  run_id\n",
       "10   Pleural_Effusion_uzeros  gender_male   0.2       30000.0    1314\n",
       "11   Pleural_Effusion_uzeros  gender_male   0.3       30000.0    1315\n",
       "12   Pleural_Effusion_uzeros  gender_male   0.4       30000.0    1316\n",
       "13   Pleural_Effusion_uzeros  gender_male   0.5       30000.0    1317\n",
       "14   Pleural_Effusion_uzeros  gender_male   0.6       30000.0    1318\n",
       "..                       ...          ...   ...           ...     ...\n",
       "98    Support_Devices_uzeros        young   0.4       30000.0    1452\n",
       "99    Support_Devices_uzeros        young   0.5       30000.0    1453\n",
       "100   Support_Devices_uzeros        young   0.6       30000.0    1454\n",
       "101   Support_Devices_uzeros        young   0.7       30000.0    1455\n",
       "102   Support_Devices_uzeros        young   0.8       30000.0    1456\n",
       "\n",
       "[93 rows x 5 columns]"
      ],
      "text/html": [
       "<div>\n",
       "<style scoped>\n",
       "    .dataframe tbody tr th:only-of-type {\n",
       "        vertical-align: middle;\n",
       "    }\n",
       "\n",
       "    .dataframe tbody tr th {\n",
       "        vertical-align: top;\n",
       "    }\n",
       "\n",
       "    .dataframe thead th {\n",
       "        text-align: right;\n",
       "    }\n",
       "</style>\n",
       "<table border=\"1\" class=\"dataframe\">\n",
       "  <thead>\n",
       "    <tr style=\"text-align: right;\">\n",
       "      <th></th>\n",
       "      <th>target</th>\n",
       "      <th>correlate</th>\n",
       "      <th>corr</th>\n",
       "      <th>num_examples</th>\n",
       "      <th>run_id</th>\n",
       "    </tr>\n",
       "  </thead>\n",
       "  <tbody>\n",
       "    <tr>\n",
       "      <th>10</th>\n",
       "      <td>Pleural_Effusion_uzeros</td>\n",
       "      <td>gender_male</td>\n",
       "      <td>0.2</td>\n",
       "      <td>30000.0</td>\n",
       "      <td>1314</td>\n",
       "    </tr>\n",
       "    <tr>\n",
       "      <th>11</th>\n",
       "      <td>Pleural_Effusion_uzeros</td>\n",
       "      <td>gender_male</td>\n",
       "      <td>0.3</td>\n",
       "      <td>30000.0</td>\n",
       "      <td>1315</td>\n",
       "    </tr>\n",
       "    <tr>\n",
       "      <th>12</th>\n",
       "      <td>Pleural_Effusion_uzeros</td>\n",
       "      <td>gender_male</td>\n",
       "      <td>0.4</td>\n",
       "      <td>30000.0</td>\n",
       "      <td>1316</td>\n",
       "    </tr>\n",
       "    <tr>\n",
       "      <th>13</th>\n",
       "      <td>Pleural_Effusion_uzeros</td>\n",
       "      <td>gender_male</td>\n",
       "      <td>0.5</td>\n",
       "      <td>30000.0</td>\n",
       "      <td>1317</td>\n",
       "    </tr>\n",
       "    <tr>\n",
       "      <th>14</th>\n",
       "      <td>Pleural_Effusion_uzeros</td>\n",
       "      <td>gender_male</td>\n",
       "      <td>0.6</td>\n",
       "      <td>30000.0</td>\n",
       "      <td>1318</td>\n",
       "    </tr>\n",
       "    <tr>\n",
       "      <th>...</th>\n",
       "      <td>...</td>\n",
       "      <td>...</td>\n",
       "      <td>...</td>\n",
       "      <td>...</td>\n",
       "      <td>...</td>\n",
       "    </tr>\n",
       "    <tr>\n",
       "      <th>98</th>\n",
       "      <td>Support_Devices_uzeros</td>\n",
       "      <td>young</td>\n",
       "      <td>0.4</td>\n",
       "      <td>30000.0</td>\n",
       "      <td>1452</td>\n",
       "    </tr>\n",
       "    <tr>\n",
       "      <th>99</th>\n",
       "      <td>Support_Devices_uzeros</td>\n",
       "      <td>young</td>\n",
       "      <td>0.5</td>\n",
       "      <td>30000.0</td>\n",
       "      <td>1453</td>\n",
       "    </tr>\n",
       "    <tr>\n",
       "      <th>100</th>\n",
       "      <td>Support_Devices_uzeros</td>\n",
       "      <td>young</td>\n",
       "      <td>0.6</td>\n",
       "      <td>30000.0</td>\n",
       "      <td>1454</td>\n",
       "    </tr>\n",
       "    <tr>\n",
       "      <th>101</th>\n",
       "      <td>Support_Devices_uzeros</td>\n",
       "      <td>young</td>\n",
       "      <td>0.7</td>\n",
       "      <td>30000.0</td>\n",
       "      <td>1455</td>\n",
       "    </tr>\n",
       "    <tr>\n",
       "      <th>102</th>\n",
       "      <td>Support_Devices_uzeros</td>\n",
       "      <td>young</td>\n",
       "      <td>0.8</td>\n",
       "      <td>30000.0</td>\n",
       "      <td>1456</td>\n",
       "    </tr>\n",
       "  </tbody>\n",
       "</table>\n",
       "<p>93 rows × 5 columns</p>\n",
       "</div>"
      ]
     },
     "metadata": {},
     "execution_count": 201
    }
   ],
   "metadata": {}
  },
  {
   "cell_type": "code",
   "execution_count": 209,
   "source": [
    "# load training \n",
    "run_id = 1314\n",
    "inp = train_model.inp(run_id)\n",
    "dp = inp[\"dp\"].load()\n",
    "target, correlate = inp[\"target_correlate\"]\n",
    "corr = inp[\"corr\"]\n",
    "model = train_model.get_artifacts(group_name=\"best_chkpt\", run_id=run_id)[\"model\"].load()"
   ],
   "outputs": [],
   "metadata": {}
  },
  {
   "cell_type": "code",
   "execution_count": 199,
   "source": [
    "from scipy.stats import pearsonr\n",
    "indices = induce_correlation(\n",
    "    dp, corr=corr, n=30000, attr_a=target, attr_b=correlate, match_mu=True\n",
    ")\n",
    "new_dp = dp.lz[indices]\n",
    "split_mask = new_dp[\"split\"].data == \"train\"\n",
    "new_dp = new_dp.lz[split_mask]\n",
    "pearsonr(new_dp[target], new_dp[correlate])"
   ],
   "outputs": [
    {
     "output_type": "execute_result",
     "data": {
      "text/plain": [
       "(0.7010561490839832, 0.0)"
      ]
     },
     "metadata": {},
     "execution_count": 199
    }
   ],
   "metadata": {}
  },
  {
   "cell_type": "code",
   "execution_count": 210,
   "source": [
    "from domino.vision import score\n",
    "model = train_model.get_artifacts(group_name=\"best_chkpt\", run_id=run_id)[\"model\"].load()\n",
    "\n",
    "dp = score(\n",
    "    model,\n",
    "    dp=dp.lz[(dp[\"split\"].data == \"validate\") | (dp[\"split\"].data == \"test\")],\n",
    "    input_column=\"input_224\",\n",
    "    id_column=\"dicom_id\",\n",
    "    target_column=target,\n",
    "    layers={\"layer4\": model.model.layer4},\n",
    "    batch_size=512\n",
    ")"
   ],
   "outputs": [
    {
     "output_type": "stream",
     "name": "stderr",
     "text": [
      "100%|██████████| 11/11 [00:39<00:00,  3.55s/it]\n"
     ]
    }
   ],
   "metadata": {}
  },
  {
   "cell_type": "code",
   "execution_count": 211,
   "source": [
    "roc_auc_score(dp[correlate], dp[\"output\"].data[:, -1])"
   ],
   "outputs": [
    {
     "output_type": "execute_result",
     "data": {
      "text/plain": [
       "0.5471191153078503"
      ]
     },
     "metadata": {},
     "execution_count": 211
    }
   ],
   "metadata": {}
  },
  {
   "cell_type": "code",
   "execution_count": 213,
   "source": [
    "def fit_probe(dp, model):\n",
    "    print(\"Fitting...\")\n",
    "    valid_dp = dp.lz[dp[\"split\"].data == \"validate\"]\n",
    "    acts = valid_dp[\"activation_layer4\"].mean(dim=[-1, -2])\n",
    "    model.fit(acts, valid_dp[correlate])\n",
    "\n",
    "    print(\"Predicting...\")\n",
    "    test_dp = dp.lz[dp[\"split\"].data == \"test\"]\n",
    "    acts = test_dp[\"activation_layer4\"].mean(dim=[-1, -2])\n",
    "    test_dp[\"pred\"] = model.predict_proba(acts)\n",
    "    return test_dp, model"
   ],
   "outputs": [],
   "metadata": {}
  },
  {
   "cell_type": "code",
   "execution_count": 214,
   "source": [
    "out_dp, model = fit_probe(dp, LogisticRegression())\n",
    "print(roc_auc_score(out_dp[correlate], out_dp[\"pred\"].data[:, 1]))\n",
    "plt.bar(x=np.arange(len(model.coef_[0])), height=model.coef_[0])"
   ],
   "outputs": [
    {
     "output_type": "stream",
     "name": "stdout",
     "text": [
      "Fitting...\n",
      "Predicting...\n",
      "0.8812217533773912\n"
     ]
    },
    {
     "output_type": "execute_result",
     "data": {
      "text/plain": [
       "<BarContainer object of 2048 artists>"
      ]
     },
     "metadata": {},
     "execution_count": 214
    },
    {
     "output_type": "display_data",
     "data": {
      "text/plain": [
       "<Figure size 432x288 with 1 Axes>"
      ],
      "image/png": "[encoded data removed]"
     },
     "metadata": {
      "needs_background": "light"
     }
    }
   ],
   "metadata": {}
  },
  {
   "cell_type": "code",
   "execution_count": 215,
   "source": [
    "def fit_pca_probe(dp, model_cls, **kwargs):\n",
    "    print(\"Fitting...\")\n",
    "    valid_dp = dp.lz[dp[\"split\"].data == \"validate\"]\n",
    "    model = model_cls(**kwargs)\n",
    "    acts = valid_dp[\"activation_layer4\"].mean(dim=[-1, -2])\n",
    "    pca = PCA().fit(acts)\n",
    "    components = pca.transform(acts)\n",
    "    model.fit(components, valid_dp[correlate])\n",
    "\n",
    "    print(\"Predicting...\")\n",
    "    test_dp = dp.lz[dp[\"split\"].data == \"test\"]\n",
    "    acts = test_dp[\"activation_layer4\"].mean(dim=[-1, -2])\n",
    "    components = pca.transform(acts)\n",
    "    test_dp[\"components\"] = components\n",
    "    test_dp[\"pred\"] = model.predict_proba(components)\n",
    "    return test_dp, model, pca "
   ],
   "outputs": [],
   "metadata": {}
  },
  {
   "cell_type": "code",
   "execution_count": 216,
   "source": [
    "out_dp, model, pca = fit_pca_probe(dp, LogisticRegression)\n",
    "print(roc_auc_score(out_dp[correlate], out_dp[\"pred\"].data[:, 1]))\n",
    "plt.bar(x=np.arange(len(model.coef_[0])), height=model.coef_[0])"
   ],
   "outputs": [
    {
     "output_type": "stream",
     "name": "stdout",
     "text": [
      "Fitting...\n",
      "Predicting...\n",
      "0.8823493519272033\n"
     ]
    },
    {
     "output_type": "execute_result",
     "data": {
      "text/plain": [
       "<BarContainer object of 1959 artists>"
      ]
     },
     "metadata": {},
     "execution_count": 216
    },
    {
     "output_type": "display_data",
     "data": {
      "text/plain": [
       "<Figure size 432x288 with 1 Axes>"
      ],
      "image/png": "[encoded data removed]"
     },
     "metadata": {
      "needs_background": "light"
     }
    }
   ],
   "metadata": {}
  },
  {
   "cell_type": "code",
   "execution_count": 139,
   "source": [
    "np.argsort(-np.abs(model.coef_))[0, :10]"
   ],
   "outputs": [
    {
     "output_type": "execute_result",
     "data": {
      "text/plain": [
       "array([ 31,  12,  16, 127,  30,  25,  46,  49, 108,  90])"
      ]
     },
     "metadata": {},
     "execution_count": 139
    }
   ],
   "metadata": {}
  },
  {
   "cell_type": "code",
   "execution_count": 151,
   "source": [
    "roc_auc_score(out_dp[correlate], out_dp[\"components\"].data[:, 108])"
   ],
   "outputs": [
    {
     "output_type": "execute_result",
     "data": {
      "text/plain": [
       "0.47420121462656406"
      ]
     },
     "metadata": {},
     "execution_count": 151
    }
   ],
   "metadata": {}
  },
  {
   "cell_type": "code",
   "execution_count": 183,
   "source": [
    "def plot_features_v_auroc(model, dp):\n",
    "    results = []\n",
    "    for num_features in np.logspace(1, np.log2(len(model.coef_[0])), num=50, base=2):\n",
    "        num_features = int(num_features)\n",
    "        mask = np.argsort(-np.abs(model.coef_))[0, :num_features]\n",
    "        preds = np.matmul(dp[\"components\"].data[:, mask], model.coef_.T[mask, :])\n",
    "        score = roc_auc_score(dp[correlate], preds)\n",
    "        results.append({\"auroc\": score, \"num_features\": num_features})\n",
    "    plot_df = pd.DataFrame(results)\n",
    "    sns.lineplot(data=plot_df, x=\"num_features\", y=\"auroc\")\n",
    "    plt.xscale(\"log\")\n",
    "    return plot_df\n",
    "plot_features_v_auroc(model, out_dp);"
   ],
   "outputs": [
    {
     "output_type": "display_data",
     "data": {
      "text/plain": [
       "<Figure size 432x288 with 1 Axes>"
      ],
      "image/png": "[encoded data removed]"
     },
     "metadata": {
      "needs_background": "light"
     }
    }
   ],
   "metadata": {}
  },
  {
   "cell_type": "code",
   "execution_count": 185,
   "source": [
    "scores = []\n",
    "for comp_idx in range(out_dp[\"components\"].data.shape[-1]):\n",
    "    scores.append(\n",
    "        roc_auc_score(out_dp[correlate], out_dp[\"components\"].data[:, comp_idx])\n",
    "    )\n",
    "np.sort(scores)"
   ],
   "outputs": [
    {
     "output_type": "execute_result",
     "data": {
      "text/plain": [
       "array([0.24111467, 0.28825554, 0.408827  , ..., 0.59450454, 0.6221593 ,\n",
       "       0.68337911])"
      ]
     },
     "metadata": {},
     "execution_count": 185
    }
   ],
   "metadata": {}
  },
  {
   "cell_type": "code",
   "execution_count": 169,
   "source": [
    "model.coef_[0]"
   ],
   "outputs": [
    {
     "output_type": "execute_result",
     "data": {
      "text/plain": [
       "array([-2.09033461e-01,  1.97195405e-01, -7.63946056e-01, ...,\n",
       "        3.14069287e-03,  3.09260859e-03,  4.65726965e-15])"
      ]
     },
     "metadata": {},
     "execution_count": 169
    }
   ],
   "metadata": {}
  },
  {
   "cell_type": "code",
   "execution_count": 225,
   "source": [
    "from functools import partial\n",
    "partial(torch.mean, dim=[-1, -2]).func.__name__"
   ],
   "outputs": [
    {
     "output_type": "execute_result",
     "data": {
      "text/plain": [
       "'mean'"
      ]
     },
     "metadata": {},
     "execution_count": 225
    }
   ],
   "metadata": {}
  },
  {
   "cell_type": "code",
   "execution_count": null,
   "source": [],
   "outputs": [],
   "metadata": {}
  }
 ],
 "metadata": {
  "orig_nbformat": 4,
  "language_info": {
   "name": "python"
  }
 },
 "nbformat": 4,
 "nbformat_minor": 2
}