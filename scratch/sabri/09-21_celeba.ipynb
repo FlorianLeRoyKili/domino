{
 "cells": [
  {
   "cell_type": "code",
   "execution_count": 61,
   "source": [
    "%load_ext autoreload\n",
    "%autoreload 2\n"
   ],
   "outputs": [],
   "metadata": {}
  },
  {
   "cell_type": "code",
   "execution_count": 62,
   "source": [
    "from domino.slices import collect_settings\n",
    "from domino.slices.celeba import CelebASliceBuilder\n",
    "from domino.evaluate import run_sdm, score_sdms, run_sdms\n",
    "from domino.train import train_settings\n",
    "import numpy as np\n",
    "import terra\n",
    "from domino.emb.clip import embed_phrases"
   ],
   "outputs": [],
   "metadata": {}
  },
  {
   "cell_type": "code",
   "execution_count": 63,
   "source": [
    "score_df = score_sdms.out().load()"
   ],
   "outputs": [],
   "metadata": {}
  },
  {
   "cell_type": "code",
   "execution_count": 64,
   "source": [
    "score_df.iloc[score_df.reset_index().groupby([\"target_name\", \"slice_name\", \"slice_idx\"])['precision_at_10'].idxmax().astype(int)]"
   ],
   "outputs": [
    {
     "output_type": "execute_result",
     "data": {
      "text/html": [
       "<div>\n",
       "<style scoped>\n",
       "    .dataframe tbody tr th:only-of-type {\n",
       "        vertical-align: middle;\n",
       "    }\n",
       "\n",
       "    .dataframe tbody tr th {\n",
       "        vertical-align: top;\n",
       "    }\n",
       "\n",
       "    .dataframe thead th {\n",
       "        text-align: right;\n",
       "    }\n",
       "</style>\n",
       "<table border=\"1\" class=\"dataframe\">\n",
       "  <thead>\n",
       "    <tr style=\"text-align: right;\">\n",
       "      <th></th>\n",
       "      <th>pred_slice_idx</th>\n",
       "      <th>slice_idx</th>\n",
       "      <th>auroc</th>\n",
       "      <th>precision_at_10</th>\n",
       "      <th>precision_at_25</th>\n",
       "      <th>precision_at_100</th>\n",
       "      <th>recall_at_50</th>\n",
       "      <th>recall_at_100</th>\n",
       "      <th>recall_at_200</th>\n",
       "      <th>recall</th>\n",
       "      <th>precision</th>\n",
       "      <th>target_name</th>\n",
       "      <th>run_sdm_run_id</th>\n",
       "      <th>slice_name</th>\n",
       "    </tr>\n",
       "  </thead>\n",
       "  <tbody>\n",
       "    <tr>\n",
       "      <th>20</th>\n",
       "      <td>0</td>\n",
       "      <td>0</td>\n",
       "      <td>0.945949</td>\n",
       "      <td>0.9</td>\n",
       "      <td>0.96</td>\n",
       "      <td>0.69</td>\n",
       "      <td>0.176471</td>\n",
       "      <td>0.289916</td>\n",
       "      <td>0.449580</td>\n",
       "      <td>0.210084</td>\n",
       "      <td>0.413223</td>\n",
       "      <td>goatee</td>\n",
       "      <td>16973</td>\n",
       "      <td>goatee=0_mustache=1</td>\n",
       "    </tr>\n",
       "    <tr>\n",
       "      <th>15</th>\n",
       "      <td>0</td>\n",
       "      <td>1</td>\n",
       "      <td>0.999246</td>\n",
       "      <td>1.0</td>\n",
       "      <td>1.00</td>\n",
       "      <td>0.99</td>\n",
       "      <td>0.000000</td>\n",
       "      <td>0.000000</td>\n",
       "      <td>0.758755</td>\n",
       "      <td>1.000000</td>\n",
       "      <td>0.969811</td>\n",
       "      <td>goatee</td>\n",
       "      <td>16972</td>\n",
       "      <td>goatee=1_mustache=0</td>\n",
       "    </tr>\n",
       "    <tr>\n",
       "      <th>121</th>\n",
       "      <td>1</td>\n",
       "      <td>0</td>\n",
       "      <td>0.867163</td>\n",
       "      <td>1.0</td>\n",
       "      <td>0.92</td>\n",
       "      <td>0.75</td>\n",
       "      <td>0.031605</td>\n",
       "      <td>0.060778</td>\n",
       "      <td>0.124797</td>\n",
       "      <td>0.100486</td>\n",
       "      <td>0.681319</td>\n",
       "      <td>smiling</td>\n",
       "      <td>16983</td>\n",
       "      <td>smiling=0_wearing_lipstick=1</td>\n",
       "    </tr>\n",
       "    <tr>\n",
       "      <th>135</th>\n",
       "      <td>0</td>\n",
       "      <td>1</td>\n",
       "      <td>0.944160</td>\n",
       "      <td>1.0</td>\n",
       "      <td>1.00</td>\n",
       "      <td>1.00</td>\n",
       "      <td>0.041288</td>\n",
       "      <td>0.082576</td>\n",
       "      <td>0.165153</td>\n",
       "      <td>0.316268</td>\n",
       "      <td>0.401047</td>\n",
       "      <td>smiling</td>\n",
       "      <td>16984</td>\n",
       "      <td>smiling=1_wearing_lipstick=0</td>\n",
       "    </tr>\n",
       "    <tr>\n",
       "      <th>61</th>\n",
       "      <td>1</td>\n",
       "      <td>0</td>\n",
       "      <td>0.816711</td>\n",
       "      <td>0.9</td>\n",
       "      <td>0.76</td>\n",
       "      <td>0.54</td>\n",
       "      <td>0.132812</td>\n",
       "      <td>0.210938</td>\n",
       "      <td>0.285156</td>\n",
       "      <td>0.996094</td>\n",
       "      <td>0.068164</td>\n",
       "      <td>wearing_hat</td>\n",
       "      <td>16977</td>\n",
       "      <td>wearing_hat=0_goatee=1</td>\n",
       "    </tr>\n",
       "    <tr>\n",
       "      <th>45</th>\n",
       "      <td>0</td>\n",
       "      <td>1</td>\n",
       "      <td>0.933487</td>\n",
       "      <td>0.6</td>\n",
       "      <td>0.68</td>\n",
       "      <td>0.66</td>\n",
       "      <td>0.136564</td>\n",
       "      <td>0.290749</td>\n",
       "      <td>0.515419</td>\n",
       "      <td>0.960352</td>\n",
       "      <td>0.071758</td>\n",
       "      <td>wearing_hat</td>\n",
       "      <td>16975</td>\n",
       "      <td>wearing_hat=1_goatee=0</td>\n",
       "    </tr>\n",
       "    <tr>\n",
       "      <th>91</th>\n",
       "      <td>1</td>\n",
       "      <td>0</td>\n",
       "      <td>0.785046</td>\n",
       "      <td>0.8</td>\n",
       "      <td>0.76</td>\n",
       "      <td>0.62</td>\n",
       "      <td>0.088095</td>\n",
       "      <td>0.147619</td>\n",
       "      <td>0.223810</td>\n",
       "      <td>0.500000</td>\n",
       "      <td>0.084712</td>\n",
       "      <td>wearing_necklace</td>\n",
       "      <td>16980</td>\n",
       "      <td>wearing_necklace=0_bangs=1</td>\n",
       "    </tr>\n",
       "    <tr>\n",
       "      <th>98</th>\n",
       "      <td>3</td>\n",
       "      <td>1</td>\n",
       "      <td>0.974338</td>\n",
       "      <td>1.0</td>\n",
       "      <td>0.80</td>\n",
       "      <td>0.68</td>\n",
       "      <td>0.085714</td>\n",
       "      <td>0.161905</td>\n",
       "      <td>0.302381</td>\n",
       "      <td>0.352381</td>\n",
       "      <td>0.471338</td>\n",
       "      <td>wearing_necklace</td>\n",
       "      <td>16980</td>\n",
       "      <td>wearing_necklace=1_bangs=0</td>\n",
       "    </tr>\n",
       "  </tbody>\n",
       "</table>\n",
       "</div>"
      ],
      "text/plain": [
       "     pred_slice_idx  slice_idx  ...  run_sdm_run_id                    slice_name\n",
       "20                0          0  ...           16973           goatee=0_mustache=1\n",
       "15                0          1  ...           16972           goatee=1_mustache=0\n",
       "121               1          0  ...           16983  smiling=0_wearing_lipstick=1\n",
       "135               0          1  ...           16984  smiling=1_wearing_lipstick=0\n",
       "61                1          0  ...           16977        wearing_hat=0_goatee=1\n",
       "45                0          1  ...           16975        wearing_hat=1_goatee=0\n",
       "91                1          0  ...           16980    wearing_necklace=0_bangs=1\n",
       "98                3          1  ...           16980    wearing_necklace=1_bangs=0\n",
       "\n",
       "[8 rows x 14 columns]"
      ]
     },
     "metadata": {},
     "execution_count": 64
    }
   ],
   "metadata": {}
  },
  {
   "cell_type": "code",
   "execution_count": 89,
   "source": [
    "inp = run_sdm.inp(run_id=16983, load=True)\n",
    "data_dp, emb_dp = inp[\"data_dp\"], inp[\"emb_dp\"]\n",
    "\n",
    "data_dp = data_dp.lz[data_dp[\"split\"].isin([\"valid\", \"test\"])].merge(\n",
    "    emb_dp[[\"image_id\", \"emb\"]], on=\"image_id\"\n",
    ")\n",
    "slice_idx = 0\n",
    "inp[\"slice_names\"][slice_idx]"
   ],
   "outputs": [
    {
     "output_type": "execute_result",
     "data": {
      "text/plain": [
       "'smiling=0_wearing_lipstick=1'"
      ]
     },
     "metadata": {},
     "execution_count": 89
    }
   ],
   "metadata": {}
  },
  {
   "cell_type": "code",
   "execution_count": 90,
   "source": [
    "from domino.metrics import compute_model_metrics\n",
    "compute_model_metrics(data_dp, num_iter=10)"
   ],
   "outputs": [
    {
     "output_type": "error",
     "ename": "ValueError",
     "evalue": "DataPanel passed to `compute_model_metrics` at argument `dp` is missing required columns `['output']`.",
     "traceback": [
      "\u001b[0;31m---------------------------------------------------------------------------\u001b[0m",
      "\u001b[0;31mValueError\u001b[0m                                Traceback (most recent call last)",
      "\u001b[0;32m/tmp/ipykernel_2285/240540638.py\u001b[0m in \u001b[0;36m<module>\u001b[0;34m\u001b[0m\n\u001b[1;32m      1\u001b[0m \u001b[0;32mfrom\u001b[0m \u001b[0mdomino\u001b[0m\u001b[0;34m.\u001b[0m\u001b[0mmetrics\u001b[0m \u001b[0;32mimport\u001b[0m \u001b[0mcompute_model_metrics\u001b[0m\u001b[0;34m\u001b[0m\u001b[0;34m\u001b[0m\u001b[0m\n\u001b[0;32m----> 2\u001b[0;31m \u001b[0mcompute_model_metrics\u001b[0m\u001b[0;34m(\u001b[0m\u001b[0mdata_dp\u001b[0m\u001b[0;34m,\u001b[0m \u001b[0mnum_iter\u001b[0m\u001b[0;34m=\u001b[0m\u001b[0;36m10\u001b[0m\u001b[0;34m)\u001b[0m\u001b[0;34m\u001b[0m\u001b[0;34m\u001b[0m\u001b[0m\n\u001b[0m",
      "\u001b[0;32m/home/sabri/code/domino/domino/utils.py\u001b[0m in \u001b[0;36m_wrapper\u001b[0;34m(aliases, *args, **kwargs)\u001b[0m\n\u001b[1;32m    148\u001b[0m             \u001b[0mmissing_cols\u001b[0m \u001b[0;34m=\u001b[0m \u001b[0;34m[\u001b[0m\u001b[0mcol\u001b[0m \u001b[0;32mfor\u001b[0m \u001b[0mcol\u001b[0m \u001b[0;32min\u001b[0m \u001b[0mresolved_cols\u001b[0m \u001b[0;32mif\u001b[0m \u001b[0mcol\u001b[0m \u001b[0;32mnot\u001b[0m \u001b[0;32min\u001b[0m \u001b[0mdp\u001b[0m\u001b[0;34m]\u001b[0m\u001b[0;34m\u001b[0m\u001b[0;34m\u001b[0m\u001b[0m\n\u001b[1;32m    149\u001b[0m             \u001b[0;32mif\u001b[0m \u001b[0mlen\u001b[0m\u001b[0;34m(\u001b[0m\u001b[0mmissing_cols\u001b[0m\u001b[0;34m)\u001b[0m \u001b[0;34m>\u001b[0m \u001b[0;36m0\u001b[0m\u001b[0;34m:\u001b[0m\u001b[0;34m\u001b[0m\u001b[0;34m\u001b[0m\u001b[0m\n\u001b[0;32m--> 150\u001b[0;31m                 raise ValueError(\n\u001b[0m\u001b[1;32m    151\u001b[0m                     \u001b[0;34mf\"DataPanel passed to `{fn.__qualname__}` at argument `{dp_arg}` \"\u001b[0m\u001b[0;34m\u001b[0m\u001b[0;34m\u001b[0m\u001b[0m\n\u001b[1;32m    152\u001b[0m                     \u001b[0;34mf\"is missing required columns `{missing_cols}`.\"\u001b[0m\u001b[0;34m\u001b[0m\u001b[0;34m\u001b[0m\u001b[0m\n",
      "\u001b[0;31mValueError\u001b[0m: DataPanel passed to `compute_model_metrics` at argument `dp` is missing required columns `['output']`."
     ]
    }
   ],
   "metadata": {}
  },
  {
   "cell_type": "code",
   "execution_count": 91,
   "source": [
    "from domino.sdm import MixtureModelSDM, SpotlightSDM\n",
    "sdm = MixtureModelSDM(\n",
    "    n_slices=5, \n",
    "    n_clusters=25, \n",
    "    weight_y_log_likelihood=10, \n",
    "    init_params=\"error\",\n",
    "    emb=\"emb\",\n",
    "    pca_components=128 \n",
    ")\n",
    "\n",
    "sdm.fit(data_dp.lz[data_dp[\"split\"] == \"valid\"])\n",
    "dp = sdm.transform(data_dp.lz[data_dp[\"split\"] == \"test\"])"
   ],
   "outputs": [
    {
     "output_type": "stream",
     "name": "stderr",
     "text": [
      " 82%|████████▏ | 82/100 [00:03<00:00, 24.15it/s]\n"
     ]
    }
   ],
   "metadata": {}
  },
  {
   "cell_type": "code",
   "execution_count": 92,
   "source": [
    "from domino.metrics import compute_sdm_metrics\n",
    "\n",
    "metrics_df = compute_sdm_metrics(dp)\n",
    "metrics_df[metrics_df[\"slice_idx\"] == slice_idx].sort_values(\n",
    "    by=\"auroc\", ascending=False\n",
    ")\n"
   ],
   "outputs": [
    {
     "output_type": "execute_result",
     "data": {
      "text/html": [
       "<div>\n",
       "<style scoped>\n",
       "    .dataframe tbody tr th:only-of-type {\n",
       "        vertical-align: middle;\n",
       "    }\n",
       "\n",
       "    .dataframe tbody tr th {\n",
       "        vertical-align: top;\n",
       "    }\n",
       "\n",
       "    .dataframe thead th {\n",
       "        text-align: right;\n",
       "    }\n",
       "</style>\n",
       "<table border=\"1\" class=\"dataframe\">\n",
       "  <thead>\n",
       "    <tr style=\"text-align: right;\">\n",
       "      <th></th>\n",
       "      <th>pred_slice_idx</th>\n",
       "      <th>slice_idx</th>\n",
       "      <th>auroc</th>\n",
       "      <th>precision_at_10</th>\n",
       "      <th>precision_at_25</th>\n",
       "      <th>precision_at_100</th>\n",
       "      <th>recall_at_50</th>\n",
       "      <th>recall_at_100</th>\n",
       "      <th>recall_at_200</th>\n",
       "      <th>recall</th>\n",
       "      <th>precision</th>\n",
       "    </tr>\n",
       "  </thead>\n",
       "  <tbody>\n",
       "    <tr>\n",
       "      <th>2</th>\n",
       "      <td>2</td>\n",
       "      <td>0</td>\n",
       "      <td>0.967964</td>\n",
       "      <td>1.0</td>\n",
       "      <td>1.00</td>\n",
       "      <td>1.00</td>\n",
       "      <td>0.040519</td>\n",
       "      <td>0.081037</td>\n",
       "      <td>0.161264</td>\n",
       "      <td>0.514587</td>\n",
       "      <td>0.913669</td>\n",
       "    </tr>\n",
       "    <tr>\n",
       "      <th>1</th>\n",
       "      <td>1</td>\n",
       "      <td>0</td>\n",
       "      <td>0.893310</td>\n",
       "      <td>0.4</td>\n",
       "      <td>0.36</td>\n",
       "      <td>0.48</td>\n",
       "      <td>0.019449</td>\n",
       "      <td>0.038898</td>\n",
       "      <td>0.080227</td>\n",
       "      <td>0.485413</td>\n",
       "      <td>0.243101</td>\n",
       "    </tr>\n",
       "    <tr>\n",
       "      <th>0</th>\n",
       "      <td>0</td>\n",
       "      <td>0</td>\n",
       "      <td>0.124913</td>\n",
       "      <td>0.0</td>\n",
       "      <td>0.00</td>\n",
       "      <td>0.00</td>\n",
       "      <td>0.000000</td>\n",
       "      <td>0.000000</td>\n",
       "      <td>0.000000</td>\n",
       "      <td>0.000000</td>\n",
       "      <td>0.000000</td>\n",
       "    </tr>\n",
       "    <tr>\n",
       "      <th>4</th>\n",
       "      <td>4</td>\n",
       "      <td>0</td>\n",
       "      <td>0.098120</td>\n",
       "      <td>0.0</td>\n",
       "      <td>0.00</td>\n",
       "      <td>0.00</td>\n",
       "      <td>0.000000</td>\n",
       "      <td>0.000000</td>\n",
       "      <td>0.000000</td>\n",
       "      <td>0.000000</td>\n",
       "      <td>0.000000</td>\n",
       "    </tr>\n",
       "    <tr>\n",
       "      <th>3</th>\n",
       "      <td>3</td>\n",
       "      <td>0</td>\n",
       "      <td>0.031820</td>\n",
       "      <td>0.0</td>\n",
       "      <td>0.00</td>\n",
       "      <td>0.00</td>\n",
       "      <td>0.000000</td>\n",
       "      <td>0.000000</td>\n",
       "      <td>0.000000</td>\n",
       "      <td>0.000000</td>\n",
       "      <td>0.000000</td>\n",
       "    </tr>\n",
       "  </tbody>\n",
       "</table>\n",
       "</div>"
      ],
      "text/plain": [
       "   pred_slice_idx  slice_idx     auroc  ...  recall_at_200    recall  precision\n",
       "2               2          0  0.967964  ...       0.161264  0.514587   0.913669\n",
       "1               1          0  0.893310  ...       0.080227  0.485413   0.243101\n",
       "0               0          0  0.124913  ...       0.000000  0.000000   0.000000\n",
       "4               4          0  0.098120  ...       0.000000  0.000000   0.000000\n",
       "3               3          0  0.031820  ...       0.000000  0.000000   0.000000\n",
       "\n",
       "[5 rows x 11 columns]"
      ]
     },
     "metadata": {},
     "execution_count": 92
    }
   ],
   "metadata": {}
  },
  {
   "cell_type": "code",
   "execution_count": 102,
   "source": [
    "words_dp = embed_phrases.out().load()\n",
    "words_dp = words_dp.lz[:10_000]\n",
    "sdm.explain(\n",
    "    words_dp=words_dp,\n",
    "    data_dp=dp\n",
    ")"
   ],
   "outputs": [
    {
     "output_type": "error",
     "ename": "KeyError",
     "evalue": "\"DataPanel does not have columns {'frequency'}\"",
     "traceback": [
      "\u001b[0;31m---------------------------------------------------------------------------\u001b[0m",
      "\u001b[0;31mKeyError\u001b[0m                                  Traceback (most recent call last)",
      "\u001b[0;32m/tmp/ipykernel_2285/267430985.py\u001b[0m in \u001b[0;36m<module>\u001b[0;34m\u001b[0m\n\u001b[1;32m      1\u001b[0m \u001b[0mwords_dp\u001b[0m \u001b[0;34m=\u001b[0m \u001b[0membed_phrases\u001b[0m\u001b[0;34m.\u001b[0m\u001b[0mout\u001b[0m\u001b[0;34m(\u001b[0m\u001b[0;34m)\u001b[0m\u001b[0;34m.\u001b[0m\u001b[0mload\u001b[0m\u001b[0;34m(\u001b[0m\u001b[0;34m)\u001b[0m\u001b[0;34m\u001b[0m\u001b[0;34m\u001b[0m\u001b[0m\n\u001b[1;32m      2\u001b[0m \u001b[0mwords_dp\u001b[0m \u001b[0;34m=\u001b[0m \u001b[0mwords_dp\u001b[0m\u001b[0;34m.\u001b[0m\u001b[0mlz\u001b[0m\u001b[0;34m[\u001b[0m\u001b[0;34m:\u001b[0m\u001b[0;36m10_000\u001b[0m\u001b[0;34m]\u001b[0m\u001b[0;34m\u001b[0m\u001b[0;34m\u001b[0m\u001b[0m\n\u001b[0;32m----> 3\u001b[0;31m sdm.explain(\n\u001b[0m\u001b[1;32m      4\u001b[0m     \u001b[0mwords_dp\u001b[0m\u001b[0;34m=\u001b[0m\u001b[0mwords_dp\u001b[0m\u001b[0;34m,\u001b[0m\u001b[0;34m\u001b[0m\u001b[0;34m\u001b[0m\u001b[0m\n\u001b[1;32m      5\u001b[0m     \u001b[0mdata_dp\u001b[0m\u001b[0;34m=\u001b[0m\u001b[0mdp\u001b[0m\u001b[0;34m\u001b[0m\u001b[0;34m\u001b[0m\u001b[0m\n",
      "\u001b[0;32m/home/sabri/code/domino/domino/sdm/gmm.py\u001b[0m in \u001b[0;36mexplain\u001b[0;34m(self, words_dp, data_dp)\u001b[0m\n\u001b[1;32m     95\u001b[0m     ) -> mk.DataPanel:\n\u001b[1;32m     96\u001b[0m         \u001b[0;32mif\u001b[0m \u001b[0;32mnot\u001b[0m \u001b[0mself\u001b[0m\u001b[0;34m.\u001b[0m\u001b[0mconfig\u001b[0m\u001b[0;34m.\u001b[0m\u001b[0mexplain_w_model\u001b[0m\u001b[0;34m:\u001b[0m\u001b[0;34m\u001b[0m\u001b[0;34m\u001b[0m\u001b[0m\n\u001b[0;32m---> 97\u001b[0;31m             \u001b[0;32mreturn\u001b[0m \u001b[0msuper\u001b[0m\u001b[0;34m(\u001b[0m\u001b[0;34m)\u001b[0m\u001b[0;34m.\u001b[0m\u001b[0mexplain\u001b[0m\u001b[0;34m(\u001b[0m\u001b[0mwords_dp\u001b[0m\u001b[0;34m,\u001b[0m \u001b[0mdata_dp\u001b[0m\u001b[0;34m)\u001b[0m\u001b[0;34m\u001b[0m\u001b[0;34m\u001b[0m\u001b[0m\n\u001b[0m\u001b[1;32m     98\u001b[0m         \u001b[0mwords_dp\u001b[0m \u001b[0;34m=\u001b[0m \u001b[0mwords_dp\u001b[0m\u001b[0;34m.\u001b[0m\u001b[0mview\u001b[0m\u001b[0;34m(\u001b[0m\u001b[0;34m)\u001b[0m\u001b[0;34m\u001b[0m\u001b[0;34m\u001b[0m\u001b[0m\n\u001b[1;32m     99\u001b[0m         \u001b[0memb\u001b[0m \u001b[0;34m=\u001b[0m \u001b[0mwords_dp\u001b[0m\u001b[0;34m[\u001b[0m\u001b[0;34m\"emb\"\u001b[0m\u001b[0;34m]\u001b[0m\u001b[0;34m\u001b[0m\u001b[0;34m\u001b[0m\u001b[0m\n",
      "\u001b[0;32m/home/sabri/code/domino/domino/sdm/abstract.py\u001b[0m in \u001b[0;36mexplain\u001b[0;34m(self, words_dp, data_dp)\u001b[0m\n\u001b[1;32m     56\u001b[0m             \u001b[0mwords_dp\u001b[0m\u001b[0;34m[\u001b[0m\u001b[0;34m\"emb\"\u001b[0m\u001b[0;34m]\u001b[0m\u001b[0;34m.\u001b[0m\u001b[0mdata\u001b[0m\u001b[0;34m,\u001b[0m \u001b[0;34m(\u001b[0m\u001b[0mslice_proto\u001b[0m \u001b[0;34m-\u001b[0m \u001b[0mref_proto\u001b[0m\u001b[0;34m)\u001b[0m\u001b[0;34m.\u001b[0m\u001b[0mT\u001b[0m\u001b[0;34m\u001b[0m\u001b[0;34m\u001b[0m\u001b[0m\n\u001b[1;32m     57\u001b[0m         )\n\u001b[0;32m---> 58\u001b[0;31m         \u001b[0;32mreturn\u001b[0m \u001b[0mwords_dp\u001b[0m\u001b[0;34m[\u001b[0m\u001b[0;34m[\u001b[0m\u001b[0;34m\"word\"\u001b[0m\u001b[0;34m,\u001b[0m \u001b[0;34m\"pred_slices\"\u001b[0m\u001b[0;34m]\u001b[0m\u001b[0;34m]\u001b[0m\u001b[0;34m\u001b[0m\u001b[0;34m\u001b[0m\u001b[0m\n\u001b[0m",
      "\u001b[0;32m/home/sabri/code/meerkat/meerkat/datapanel.py\u001b[0m in \u001b[0;36m__getitem__\u001b[0;34m(self, index)\u001b[0m\n\u001b[1;32m    307\u001b[0m     \u001b[0;31m# @capture_provenance(capture_args=[])\u001b[0m\u001b[0;34m\u001b[0m\u001b[0;34m\u001b[0m\u001b[0;34m\u001b[0m\u001b[0m\n\u001b[1;32m    308\u001b[0m     \u001b[0;32mdef\u001b[0m \u001b[0m__getitem__\u001b[0m\u001b[0;34m(\u001b[0m\u001b[0mself\u001b[0m\u001b[0;34m,\u001b[0m \u001b[0mindex\u001b[0m\u001b[0;34m)\u001b[0m\u001b[0;34m:\u001b[0m\u001b[0;34m\u001b[0m\u001b[0;34m\u001b[0m\u001b[0m\n\u001b[0;32m--> 309\u001b[0;31m         \u001b[0;32mreturn\u001b[0m \u001b[0mself\u001b[0m\u001b[0;34m.\u001b[0m\u001b[0m_get\u001b[0m\u001b[0;34m(\u001b[0m\u001b[0mindex\u001b[0m\u001b[0;34m,\u001b[0m \u001b[0mmaterialize\u001b[0m\u001b[0;34m=\u001b[0m\u001b[0;32mTrue\u001b[0m\u001b[0;34m)\u001b[0m\u001b[0;34m\u001b[0m\u001b[0;34m\u001b[0m\u001b[0m\n\u001b[0m\u001b[1;32m    310\u001b[0m \u001b[0;34m\u001b[0m\u001b[0m\n\u001b[1;32m    311\u001b[0m     \u001b[0;32mdef\u001b[0m \u001b[0m__setitem__\u001b[0m\u001b[0;34m(\u001b[0m\u001b[0mself\u001b[0m\u001b[0;34m,\u001b[0m \u001b[0mindex\u001b[0m\u001b[0;34m,\u001b[0m \u001b[0mvalue\u001b[0m\u001b[0;34m)\u001b[0m\u001b[0;34m:\u001b[0m\u001b[0;34m\u001b[0m\u001b[0;34m\u001b[0m\u001b[0m\n",
      "\u001b[0;32m/home/sabri/code/meerkat/meerkat/datapanel.py\u001b[0m in \u001b[0;36m_get\u001b[0;34m(self, index, materialize)\u001b[0m\n\u001b[1;32m    296\u001b[0m             \u001b[0;32mif\u001b[0m \u001b[0;32mnot\u001b[0m \u001b[0mset\u001b[0m\u001b[0;34m(\u001b[0m\u001b[0mindex\u001b[0m\u001b[0;34m)\u001b[0m\u001b[0;34m.\u001b[0m\u001b[0missubset\u001b[0m\u001b[0;34m(\u001b[0m\u001b[0mself\u001b[0m\u001b[0;34m.\u001b[0m\u001b[0mcolumns\u001b[0m\u001b[0;34m)\u001b[0m\u001b[0;34m:\u001b[0m\u001b[0;34m\u001b[0m\u001b[0;34m\u001b[0m\u001b[0m\n\u001b[1;32m    297\u001b[0m                 \u001b[0mmissing_cols\u001b[0m \u001b[0;34m=\u001b[0m \u001b[0mset\u001b[0m\u001b[0;34m(\u001b[0m\u001b[0mindex\u001b[0m\u001b[0;34m)\u001b[0m \u001b[0;34m-\u001b[0m \u001b[0mset\u001b[0m\u001b[0;34m(\u001b[0m\u001b[0mself\u001b[0m\u001b[0;34m.\u001b[0m\u001b[0mcolumns\u001b[0m\u001b[0;34m)\u001b[0m\u001b[0;34m\u001b[0m\u001b[0;34m\u001b[0m\u001b[0m\n\u001b[0;32m--> 298\u001b[0;31m                 \u001b[0;32mraise\u001b[0m \u001b[0mKeyError\u001b[0m\u001b[0;34m(\u001b[0m\u001b[0;34mf\"DataPanel does not have columns {missing_cols}\"\u001b[0m\u001b[0;34m)\u001b[0m\u001b[0;34m\u001b[0m\u001b[0;34m\u001b[0m\u001b[0m\n\u001b[0m\u001b[1;32m    299\u001b[0m \u001b[0;34m\u001b[0m\u001b[0m\n\u001b[1;32m    300\u001b[0m             \u001b[0mdp\u001b[0m \u001b[0;34m=\u001b[0m \u001b[0mself\u001b[0m\u001b[0;34m.\u001b[0m\u001b[0m_clone\u001b[0m\u001b[0;34m(\u001b[0m\u001b[0mdata\u001b[0m\u001b[0;34m=\u001b[0m\u001b[0mself\u001b[0m\u001b[0;34m.\u001b[0m\u001b[0mdata\u001b[0m\u001b[0;34m[\u001b[0m\u001b[0mindex\u001b[0m\u001b[0;34m]\u001b[0m\u001b[0;34m)\u001b[0m\u001b[0;34m\u001b[0m\u001b[0;34m\u001b[0m\u001b[0m\n",
      "\u001b[0;31mKeyError\u001b[0m: \"DataPanel does not have columns {'frequency'}\""
     ]
    }
   ],
   "metadata": {}
  },
  {
   "cell_type": "code",
   "execution_count": 99,
   "source": [
    "#attribute = \"mustache\"\n",
    "\n",
    "words_dp = embed_phrases.out().load()\n",
    "words_dp = words_dp.lz[:10_000]\n",
    "\n",
    "pred_slice_idx = 2\n",
    "words_dp = words_dp.view()\n",
    "slice_proto = (\n",
    "    np.dot(dp[\"pred_slices\"].T, dp[\"emb\"])\n",
    "    / dp[\"pred_slices\"].sum(axis=0, keepdims=True).T\n",
    ")\n",
    "#pred_slice = dp[\"pred_slices\"][:, pred_slice_idx]\n",
    "#slice_proto = dp.lz[pred_slice.argsort()[-40:]][\"emb\"].mean(axis=0)\n",
    "#slice_proto = dp[\"emb\"][dp[attribute] == 1].mean(axis=0)\n",
    "#slice_proto = dp.lz[dp[\"probs\"].argsort()[-25:]][\"emb\"].mean(axis=0)\n",
    "\n",
    "\n",
    "ref_proto = dp[\"emb\"][dp[\"target\"] == 0].data.mean(axis=0)\n",
    "\n",
    "words_dp[\"pred_slices\"] = np.dot(\n",
    "    words_dp[\"emb\"].data, (slice_proto - ref_proto).T\n",
    ")\n",
    "expl_dp = words_dp[[\"word\", \"pred_slices\"]]\n",
    "expl_dp.lz[(-expl_dp[\"pred_slices\"]).argsort()[0:10]]"
   ],
   "outputs": [
    {
     "output_type": "error",
     "ename": "ValueError",
     "evalue": "Buffer has wrong number of dimensions (expected 1, got 2)",
     "traceback": [
      "\u001b[0;31m---------------------------------------------------------------------------\u001b[0m",
      "\u001b[0;31mValueError\u001b[0m                                Traceback (most recent call last)",
      "\u001b[0;32m/tmp/ipykernel_2285/935496179.py\u001b[0m in \u001b[0;36m<module>\u001b[0;34m\u001b[0m\n\u001b[1;32m     22\u001b[0m )\n\u001b[1;32m     23\u001b[0m \u001b[0mexpl_dp\u001b[0m \u001b[0;34m=\u001b[0m \u001b[0mwords_dp\u001b[0m\u001b[0;34m[\u001b[0m\u001b[0;34m[\u001b[0m\u001b[0;34m\"word\"\u001b[0m\u001b[0;34m,\u001b[0m \u001b[0;34m\"pred_slices\"\u001b[0m\u001b[0;34m]\u001b[0m\u001b[0;34m]\u001b[0m\u001b[0;34m\u001b[0m\u001b[0;34m\u001b[0m\u001b[0m\n\u001b[0;32m---> 24\u001b[0;31m \u001b[0mexpl_dp\u001b[0m\u001b[0;34m.\u001b[0m\u001b[0mlz\u001b[0m\u001b[0;34m[\u001b[0m\u001b[0;34m(\u001b[0m\u001b[0;34m-\u001b[0m\u001b[0mexpl_dp\u001b[0m\u001b[0;34m[\u001b[0m\u001b[0;34m\"pred_slices\"\u001b[0m\u001b[0;34m]\u001b[0m\u001b[0;34m)\u001b[0m\u001b[0;34m.\u001b[0m\u001b[0margsort\u001b[0m\u001b[0;34m(\u001b[0m\u001b[0;34m)\u001b[0m\u001b[0;34m[\u001b[0m\u001b[0;36m0\u001b[0m\u001b[0;34m:\u001b[0m\u001b[0;36m10\u001b[0m\u001b[0;34m]\u001b[0m\u001b[0;34m]\u001b[0m\u001b[0;34m\u001b[0m\u001b[0;34m\u001b[0m\u001b[0m\n\u001b[0m",
      "\u001b[0;32m/home/sabri/code/meerkat/meerkat/mixins/materialize.py\u001b[0m in \u001b[0;36m__getitem__\u001b[0;34m(self, index)\u001b[0m\n\u001b[1;32m     13\u001b[0m \u001b[0;34m\u001b[0m\u001b[0m\n\u001b[1;32m     14\u001b[0m     \u001b[0;32mdef\u001b[0m \u001b[0m__getitem__\u001b[0m\u001b[0;34m(\u001b[0m\u001b[0mself\u001b[0m\u001b[0;34m,\u001b[0m \u001b[0mindex\u001b[0m\u001b[0;34m)\u001b[0m\u001b[0;34m:\u001b[0m\u001b[0;34m\u001b[0m\u001b[0;34m\u001b[0m\u001b[0m\n\u001b[0;32m---> 15\u001b[0;31m         \u001b[0;32mreturn\u001b[0m \u001b[0mself\u001b[0m\u001b[0;34m.\u001b[0m\u001b[0mobj\u001b[0m\u001b[0;34m.\u001b[0m\u001b[0m_get\u001b[0m\u001b[0;34m(\u001b[0m\u001b[0mindex\u001b[0m\u001b[0;34m,\u001b[0m \u001b[0mmaterialize\u001b[0m\u001b[0;34m=\u001b[0m\u001b[0;32mFalse\u001b[0m\u001b[0;34m)\u001b[0m\u001b[0;34m\u001b[0m\u001b[0;34m\u001b[0m\u001b[0m\n\u001b[0m\u001b[1;32m     16\u001b[0m \u001b[0;34m\u001b[0m\u001b[0m\n\u001b[1;32m     17\u001b[0m     \u001b[0;32mdef\u001b[0m \u001b[0m__len__\u001b[0m\u001b[0;34m(\u001b[0m\u001b[0mself\u001b[0m\u001b[0;34m)\u001b[0m\u001b[0;34m:\u001b[0m\u001b[0;34m\u001b[0m\u001b[0;34m\u001b[0m\u001b[0m\n",
      "\u001b[0;32m/home/sabri/code/meerkat/meerkat/datapanel.py\u001b[0m in \u001b[0;36m_get\u001b[0;34m(self, index, materialize)\u001b[0m\n\u001b[1;32m    302\u001b[0m         \u001b[0;32melif\u001b[0m \u001b[0mindex_type\u001b[0m \u001b[0;34m==\u001b[0m \u001b[0;34m\"row\"\u001b[0m\u001b[0;34m:\u001b[0m  \u001b[0;31m# pragma: no cover\u001b[0m\u001b[0;34m\u001b[0m\u001b[0;34m\u001b[0m\u001b[0m\n\u001b[1;32m    303\u001b[0m             return self._clone(\n\u001b[0;32m--> 304\u001b[0;31m                 \u001b[0mdata\u001b[0m\u001b[0;34m=\u001b[0m\u001b[0mself\u001b[0m\u001b[0;34m.\u001b[0m\u001b[0mdata\u001b[0m\u001b[0;34m.\u001b[0m\u001b[0mapply\u001b[0m\u001b[0;34m(\u001b[0m\u001b[0;34m\"_get\"\u001b[0m\u001b[0;34m,\u001b[0m \u001b[0mindex\u001b[0m\u001b[0;34m=\u001b[0m\u001b[0mindex\u001b[0m\u001b[0;34m,\u001b[0m \u001b[0mmaterialize\u001b[0m\u001b[0;34m=\u001b[0m\u001b[0mmaterialize\u001b[0m\u001b[0;34m)\u001b[0m\u001b[0;34m\u001b[0m\u001b[0;34m\u001b[0m\u001b[0m\n\u001b[0m\u001b[1;32m    305\u001b[0m             )\n\u001b[1;32m    306\u001b[0m \u001b[0;34m\u001b[0m\u001b[0m\n",
      "\u001b[0;32m/home/sabri/code/meerkat/meerkat/block/manager.py\u001b[0m in \u001b[0;36mapply\u001b[0;34m(self, method_name, *args, **kwargs)\u001b[0m\n\u001b[1;32m     57\u001b[0m         \u001b[0mresults\u001b[0m \u001b[0;34m=\u001b[0m \u001b[0;32mNone\u001b[0m\u001b[0;34m\u001b[0m\u001b[0;34m\u001b[0m\u001b[0m\n\u001b[1;32m     58\u001b[0m         \u001b[0;32mfor\u001b[0m \u001b[0mblock_ref\u001b[0m \u001b[0;32min\u001b[0m \u001b[0mself\u001b[0m\u001b[0;34m.\u001b[0m\u001b[0m_block_refs\u001b[0m\u001b[0;34m.\u001b[0m\u001b[0mvalues\u001b[0m\u001b[0;34m(\u001b[0m\u001b[0;34m)\u001b[0m\u001b[0;34m:\u001b[0m\u001b[0;34m\u001b[0m\u001b[0;34m\u001b[0m\u001b[0m\n\u001b[0;32m---> 59\u001b[0;31m             \u001b[0mresult\u001b[0m \u001b[0;34m=\u001b[0m \u001b[0mblock_ref\u001b[0m\u001b[0;34m.\u001b[0m\u001b[0mapply\u001b[0m\u001b[0;34m(\u001b[0m\u001b[0mmethod_name\u001b[0m\u001b[0;34m=\u001b[0m\u001b[0mmethod_name\u001b[0m\u001b[0;34m,\u001b[0m \u001b[0;34m*\u001b[0m\u001b[0margs\u001b[0m\u001b[0;34m,\u001b[0m \u001b[0;34m**\u001b[0m\u001b[0mkwargs\u001b[0m\u001b[0;34m)\u001b[0m\u001b[0;34m\u001b[0m\u001b[0;34m\u001b[0m\u001b[0m\n\u001b[0m\u001b[1;32m     60\u001b[0m             \u001b[0;32mif\u001b[0m \u001b[0mresults\u001b[0m \u001b[0;32mis\u001b[0m \u001b[0;32mNone\u001b[0m\u001b[0;34m:\u001b[0m\u001b[0;34m\u001b[0m\u001b[0;34m\u001b[0m\u001b[0m\n\u001b[1;32m     61\u001b[0m                 \u001b[0mresults\u001b[0m \u001b[0;34m=\u001b[0m \u001b[0mBlockManager\u001b[0m\u001b[0;34m(\u001b[0m\u001b[0;34m)\u001b[0m \u001b[0;32mif\u001b[0m \u001b[0misinstance\u001b[0m\u001b[0;34m(\u001b[0m\u001b[0mresult\u001b[0m\u001b[0;34m,\u001b[0m \u001b[0mBlockRef\u001b[0m\u001b[0;34m)\u001b[0m \u001b[0;32melse\u001b[0m \u001b[0;34m{\u001b[0m\u001b[0;34m}\u001b[0m\u001b[0;34m\u001b[0m\u001b[0;34m\u001b[0m\u001b[0m\n",
      "\u001b[0;32m/home/sabri/code/meerkat/meerkat/block/ref.py\u001b[0m in \u001b[0;36mapply\u001b[0;34m(self, method_name, *args, **kwargs)\u001b[0m\n\u001b[1;32m     40\u001b[0m     \u001b[0;32mdef\u001b[0m \u001b[0mapply\u001b[0m\u001b[0;34m(\u001b[0m\u001b[0mself\u001b[0m\u001b[0;34m,\u001b[0m \u001b[0mmethod_name\u001b[0m\u001b[0;34m:\u001b[0m \u001b[0mstr\u001b[0m \u001b[0;34m=\u001b[0m \u001b[0;34m\"_get\"\u001b[0m\u001b[0;34m,\u001b[0m \u001b[0;34m*\u001b[0m\u001b[0margs\u001b[0m\u001b[0;34m,\u001b[0m \u001b[0;34m**\u001b[0m\u001b[0mkwargs\u001b[0m\u001b[0;34m)\u001b[0m\u001b[0;34m:\u001b[0m\u001b[0;34m\u001b[0m\u001b[0;34m\u001b[0m\u001b[0m\n\u001b[1;32m     41\u001b[0m         \u001b[0;31m# apply method to the block\u001b[0m\u001b[0;34m\u001b[0m\u001b[0;34m\u001b[0m\u001b[0;34m\u001b[0m\u001b[0m\n\u001b[0;32m---> 42\u001b[0;31m         \u001b[0;32mreturn\u001b[0m \u001b[0mgetattr\u001b[0m\u001b[0;34m(\u001b[0m\u001b[0mself\u001b[0m\u001b[0;34m.\u001b[0m\u001b[0mblock\u001b[0m\u001b[0;34m,\u001b[0m \u001b[0mmethod_name\u001b[0m\u001b[0;34m)\u001b[0m\u001b[0;34m(\u001b[0m\u001b[0;34m*\u001b[0m\u001b[0margs\u001b[0m\u001b[0;34m,\u001b[0m \u001b[0;34m**\u001b[0m\u001b[0mkwargs\u001b[0m\u001b[0;34m,\u001b[0m \u001b[0mblock_ref\u001b[0m\u001b[0;34m=\u001b[0m\u001b[0mself\u001b[0m\u001b[0;34m)\u001b[0m\u001b[0;34m\u001b[0m\u001b[0;34m\u001b[0m\u001b[0m\n\u001b[0m\u001b[1;32m     43\u001b[0m \u001b[0;34m\u001b[0m\u001b[0m\n\u001b[1;32m     44\u001b[0m     \u001b[0;32mdef\u001b[0m \u001b[0mupdate\u001b[0m\u001b[0;34m(\u001b[0m\u001b[0mself\u001b[0m\u001b[0;34m,\u001b[0m \u001b[0mblock_ref\u001b[0m\u001b[0;34m:\u001b[0m \u001b[0mBlockRef\u001b[0m\u001b[0;34m)\u001b[0m\u001b[0;34m:\u001b[0m\u001b[0;34m\u001b[0m\u001b[0;34m\u001b[0m\u001b[0m\n",
      "\u001b[0;32m/home/sabri/code/meerkat/meerkat/block/pandas_block.py\u001b[0m in \u001b[0;36m_get\u001b[0;34m(self, index, block_ref, materialize)\u001b[0m\n\u001b[1;32m    103\u001b[0m         \u001b[0mindex\u001b[0m \u001b[0;34m=\u001b[0m \u001b[0mself\u001b[0m\u001b[0;34m.\u001b[0m\u001b[0m_convert_index\u001b[0m\u001b[0;34m(\u001b[0m\u001b[0mindex\u001b[0m\u001b[0;34m)\u001b[0m\u001b[0;34m\u001b[0m\u001b[0;34m\u001b[0m\u001b[0m\n\u001b[1;32m    104\u001b[0m         \u001b[0;31m# TODO: check if they're trying to index more than just the row dimension\u001b[0m\u001b[0;34m\u001b[0m\u001b[0;34m\u001b[0m\u001b[0;34m\u001b[0m\u001b[0m\n\u001b[0;32m--> 105\u001b[0;31m         \u001b[0mdata\u001b[0m \u001b[0;34m=\u001b[0m \u001b[0mself\u001b[0m\u001b[0;34m.\u001b[0m\u001b[0mdata\u001b[0m\u001b[0;34m.\u001b[0m\u001b[0miloc\u001b[0m\u001b[0;34m[\u001b[0m\u001b[0mindex\u001b[0m\u001b[0;34m]\u001b[0m\u001b[0;34m\u001b[0m\u001b[0;34m\u001b[0m\u001b[0m\n\u001b[0m\u001b[1;32m    106\u001b[0m         \u001b[0;32mif\u001b[0m \u001b[0misinstance\u001b[0m\u001b[0;34m(\u001b[0m\u001b[0mindex\u001b[0m\u001b[0;34m,\u001b[0m \u001b[0mint\u001b[0m\u001b[0;34m)\u001b[0m\u001b[0;34m:\u001b[0m\u001b[0;34m\u001b[0m\u001b[0;34m\u001b[0m\u001b[0m\n\u001b[1;32m    107\u001b[0m             \u001b[0;31m# if indexing a single row, we do not return a block manager, just a dict\u001b[0m\u001b[0;34m\u001b[0m\u001b[0;34m\u001b[0m\u001b[0;34m\u001b[0m\u001b[0m\n",
      "\u001b[0;32m/home/common/envs/conda/envs/domino/lib/python3.8/site-packages/pandas/core/indexing.py\u001b[0m in \u001b[0;36m__getitem__\u001b[0;34m(self, key)\u001b[0m\n\u001b[1;32m    929\u001b[0m \u001b[0;34m\u001b[0m\u001b[0m\n\u001b[1;32m    930\u001b[0m             \u001b[0mmaybe_callable\u001b[0m \u001b[0;34m=\u001b[0m \u001b[0mcom\u001b[0m\u001b[0;34m.\u001b[0m\u001b[0mapply_if_callable\u001b[0m\u001b[0;34m(\u001b[0m\u001b[0mkey\u001b[0m\u001b[0;34m,\u001b[0m \u001b[0mself\u001b[0m\u001b[0;34m.\u001b[0m\u001b[0mobj\u001b[0m\u001b[0;34m)\u001b[0m\u001b[0;34m\u001b[0m\u001b[0;34m\u001b[0m\u001b[0m\n\u001b[0;32m--> 931\u001b[0;31m             \u001b[0;32mreturn\u001b[0m \u001b[0mself\u001b[0m\u001b[0;34m.\u001b[0m\u001b[0m_getitem_axis\u001b[0m\u001b[0;34m(\u001b[0m\u001b[0mmaybe_callable\u001b[0m\u001b[0;34m,\u001b[0m \u001b[0maxis\u001b[0m\u001b[0;34m=\u001b[0m\u001b[0maxis\u001b[0m\u001b[0;34m)\u001b[0m\u001b[0;34m\u001b[0m\u001b[0;34m\u001b[0m\u001b[0m\n\u001b[0m\u001b[1;32m    932\u001b[0m \u001b[0;34m\u001b[0m\u001b[0m\n\u001b[1;32m    933\u001b[0m     \u001b[0;32mdef\u001b[0m \u001b[0m_is_scalar_access\u001b[0m\u001b[0;34m(\u001b[0m\u001b[0mself\u001b[0m\u001b[0;34m,\u001b[0m \u001b[0mkey\u001b[0m\u001b[0;34m:\u001b[0m \u001b[0mtuple\u001b[0m\u001b[0;34m)\u001b[0m\u001b[0;34m:\u001b[0m\u001b[0;34m\u001b[0m\u001b[0;34m\u001b[0m\u001b[0m\n",
      "\u001b[0;32m/home/common/envs/conda/envs/domino/lib/python3.8/site-packages/pandas/core/indexing.py\u001b[0m in \u001b[0;36m_getitem_axis\u001b[0;34m(self, key, axis)\u001b[0m\n\u001b[1;32m   1555\u001b[0m         \u001b[0;31m# a list of integers\u001b[0m\u001b[0;34m\u001b[0m\u001b[0;34m\u001b[0m\u001b[0;34m\u001b[0m\u001b[0m\n\u001b[1;32m   1556\u001b[0m         \u001b[0;32melif\u001b[0m \u001b[0mis_list_like_indexer\u001b[0m\u001b[0;34m(\u001b[0m\u001b[0mkey\u001b[0m\u001b[0;34m)\u001b[0m\u001b[0;34m:\u001b[0m\u001b[0;34m\u001b[0m\u001b[0;34m\u001b[0m\u001b[0m\n\u001b[0;32m-> 1557\u001b[0;31m             \u001b[0;32mreturn\u001b[0m \u001b[0mself\u001b[0m\u001b[0;34m.\u001b[0m\u001b[0m_get_list_axis\u001b[0m\u001b[0;34m(\u001b[0m\u001b[0mkey\u001b[0m\u001b[0;34m,\u001b[0m \u001b[0maxis\u001b[0m\u001b[0;34m=\u001b[0m\u001b[0maxis\u001b[0m\u001b[0;34m)\u001b[0m\u001b[0;34m\u001b[0m\u001b[0;34m\u001b[0m\u001b[0m\n\u001b[0m\u001b[1;32m   1558\u001b[0m \u001b[0;34m\u001b[0m\u001b[0m\n\u001b[1;32m   1559\u001b[0m         \u001b[0;31m# a single integer\u001b[0m\u001b[0;34m\u001b[0m\u001b[0;34m\u001b[0m\u001b[0;34m\u001b[0m\u001b[0m\n",
      "\u001b[0;32m/home/common/envs/conda/envs/domino/lib/python3.8/site-packages/pandas/core/indexing.py\u001b[0m in \u001b[0;36m_get_list_axis\u001b[0;34m(self, key, axis)\u001b[0m\n\u001b[1;32m   1528\u001b[0m         \"\"\"\n\u001b[1;32m   1529\u001b[0m         \u001b[0;32mtry\u001b[0m\u001b[0;34m:\u001b[0m\u001b[0;34m\u001b[0m\u001b[0;34m\u001b[0m\u001b[0m\n\u001b[0;32m-> 1530\u001b[0;31m             \u001b[0;32mreturn\u001b[0m \u001b[0mself\u001b[0m\u001b[0;34m.\u001b[0m\u001b[0mobj\u001b[0m\u001b[0;34m.\u001b[0m\u001b[0m_take_with_is_copy\u001b[0m\u001b[0;34m(\u001b[0m\u001b[0mkey\u001b[0m\u001b[0;34m,\u001b[0m \u001b[0maxis\u001b[0m\u001b[0;34m=\u001b[0m\u001b[0maxis\u001b[0m\u001b[0;34m)\u001b[0m\u001b[0;34m\u001b[0m\u001b[0;34m\u001b[0m\u001b[0m\n\u001b[0m\u001b[1;32m   1531\u001b[0m         \u001b[0;32mexcept\u001b[0m \u001b[0mIndexError\u001b[0m \u001b[0;32mas\u001b[0m \u001b[0merr\u001b[0m\u001b[0;34m:\u001b[0m\u001b[0;34m\u001b[0m\u001b[0;34m\u001b[0m\u001b[0m\n\u001b[1;32m   1532\u001b[0m             \u001b[0;31m# re-raise with different error message\u001b[0m\u001b[0;34m\u001b[0m\u001b[0;34m\u001b[0m\u001b[0;34m\u001b[0m\u001b[0m\n",
      "\u001b[0;32m/home/common/envs/conda/envs/domino/lib/python3.8/site-packages/pandas/core/generic.py\u001b[0m in \u001b[0;36m_take_with_is_copy\u001b[0;34m(self, indices, axis)\u001b[0m\n\u001b[1;32m   3626\u001b[0m         \u001b[0mSee\u001b[0m \u001b[0mthe\u001b[0m \u001b[0mdocstring\u001b[0m \u001b[0mof\u001b[0m\u001b[0;31m \u001b[0m\u001b[0;31m`\u001b[0m\u001b[0mtake\u001b[0m\u001b[0;31m`\u001b[0m \u001b[0;32mfor\u001b[0m \u001b[0mfull\u001b[0m \u001b[0mexplanation\u001b[0m \u001b[0mof\u001b[0m \u001b[0mthe\u001b[0m \u001b[0mparameters\u001b[0m\u001b[0;34m.\u001b[0m\u001b[0;34m\u001b[0m\u001b[0;34m\u001b[0m\u001b[0m\n\u001b[1;32m   3627\u001b[0m         \"\"\"\n\u001b[0;32m-> 3628\u001b[0;31m         \u001b[0mresult\u001b[0m \u001b[0;34m=\u001b[0m \u001b[0mself\u001b[0m\u001b[0;34m.\u001b[0m\u001b[0mtake\u001b[0m\u001b[0;34m(\u001b[0m\u001b[0mindices\u001b[0m\u001b[0;34m=\u001b[0m\u001b[0mindices\u001b[0m\u001b[0;34m,\u001b[0m \u001b[0maxis\u001b[0m\u001b[0;34m=\u001b[0m\u001b[0maxis\u001b[0m\u001b[0;34m)\u001b[0m\u001b[0;34m\u001b[0m\u001b[0;34m\u001b[0m\u001b[0m\n\u001b[0m\u001b[1;32m   3629\u001b[0m         \u001b[0;31m# Maybe set copy if we didn't actually change the index.\u001b[0m\u001b[0;34m\u001b[0m\u001b[0;34m\u001b[0m\u001b[0;34m\u001b[0m\u001b[0m\n\u001b[1;32m   3630\u001b[0m         \u001b[0;32mif\u001b[0m \u001b[0;32mnot\u001b[0m \u001b[0mresult\u001b[0m\u001b[0;34m.\u001b[0m\u001b[0m_get_axis\u001b[0m\u001b[0;34m(\u001b[0m\u001b[0maxis\u001b[0m\u001b[0;34m)\u001b[0m\u001b[0;34m.\u001b[0m\u001b[0mequals\u001b[0m\u001b[0;34m(\u001b[0m\u001b[0mself\u001b[0m\u001b[0;34m.\u001b[0m\u001b[0m_get_axis\u001b[0m\u001b[0;34m(\u001b[0m\u001b[0maxis\u001b[0m\u001b[0;34m)\u001b[0m\u001b[0;34m)\u001b[0m\u001b[0;34m:\u001b[0m\u001b[0;34m\u001b[0m\u001b[0;34m\u001b[0m\u001b[0m\n",
      "\u001b[0;32m/home/common/envs/conda/envs/domino/lib/python3.8/site-packages/pandas/core/generic.py\u001b[0m in \u001b[0;36mtake\u001b[0;34m(self, indices, axis, is_copy, **kwargs)\u001b[0m\n\u001b[1;32m   3613\u001b[0m         \u001b[0mself\u001b[0m\u001b[0;34m.\u001b[0m\u001b[0m_consolidate_inplace\u001b[0m\u001b[0;34m(\u001b[0m\u001b[0;34m)\u001b[0m\u001b[0;34m\u001b[0m\u001b[0;34m\u001b[0m\u001b[0m\n\u001b[1;32m   3614\u001b[0m \u001b[0;34m\u001b[0m\u001b[0m\n\u001b[0;32m-> 3615\u001b[0;31m         new_data = self._mgr.take(\n\u001b[0m\u001b[1;32m   3616\u001b[0m             \u001b[0mindices\u001b[0m\u001b[0;34m,\u001b[0m \u001b[0maxis\u001b[0m\u001b[0;34m=\u001b[0m\u001b[0mself\u001b[0m\u001b[0;34m.\u001b[0m\u001b[0m_get_block_manager_axis\u001b[0m\u001b[0;34m(\u001b[0m\u001b[0maxis\u001b[0m\u001b[0;34m)\u001b[0m\u001b[0;34m,\u001b[0m \u001b[0mverify\u001b[0m\u001b[0;34m=\u001b[0m\u001b[0;32mTrue\u001b[0m\u001b[0;34m\u001b[0m\u001b[0;34m\u001b[0m\u001b[0m\n\u001b[1;32m   3617\u001b[0m         )\n",
      "\u001b[0;32m/home/common/envs/conda/envs/domino/lib/python3.8/site-packages/pandas/core/internals/managers.py\u001b[0m in \u001b[0;36mtake\u001b[0;34m(self, indexer, axis, verify)\u001b[0m\n\u001b[1;32m    863\u001b[0m \u001b[0;34m\u001b[0m\u001b[0m\n\u001b[1;32m    864\u001b[0m         \u001b[0mnew_labels\u001b[0m \u001b[0;34m=\u001b[0m \u001b[0mself\u001b[0m\u001b[0;34m.\u001b[0m\u001b[0maxes\u001b[0m\u001b[0;34m[\u001b[0m\u001b[0maxis\u001b[0m\u001b[0;34m]\u001b[0m\u001b[0;34m.\u001b[0m\u001b[0mtake\u001b[0m\u001b[0;34m(\u001b[0m\u001b[0mindexer\u001b[0m\u001b[0;34m)\u001b[0m\u001b[0;34m\u001b[0m\u001b[0;34m\u001b[0m\u001b[0m\n\u001b[0;32m--> 865\u001b[0;31m         return self.reindex_indexer(\n\u001b[0m\u001b[1;32m    866\u001b[0m             \u001b[0mnew_axis\u001b[0m\u001b[0;34m=\u001b[0m\u001b[0mnew_labels\u001b[0m\u001b[0;34m,\u001b[0m\u001b[0;34m\u001b[0m\u001b[0;34m\u001b[0m\u001b[0m\n\u001b[1;32m    867\u001b[0m             \u001b[0mindexer\u001b[0m\u001b[0;34m=\u001b[0m\u001b[0mindexer\u001b[0m\u001b[0;34m,\u001b[0m\u001b[0;34m\u001b[0m\u001b[0;34m\u001b[0m\u001b[0m\n",
      "\u001b[0;32m/home/common/envs/conda/envs/domino/lib/python3.8/site-packages/pandas/core/internals/managers.py\u001b[0m in \u001b[0;36mreindex_indexer\u001b[0;34m(self, new_axis, indexer, axis, fill_value, allow_dups, copy, consolidate, only_slice)\u001b[0m\n\u001b[1;32m    678\u001b[0m             )\n\u001b[1;32m    679\u001b[0m         \u001b[0;32melse\u001b[0m\u001b[0;34m:\u001b[0m\u001b[0;34m\u001b[0m\u001b[0;34m\u001b[0m\u001b[0m\n\u001b[0;32m--> 680\u001b[0;31m             new_blocks = [\n\u001b[0m\u001b[1;32m    681\u001b[0m                 blk.take_nd(\n\u001b[1;32m    682\u001b[0m                     \u001b[0mindexer\u001b[0m\u001b[0;34m,\u001b[0m\u001b[0;34m\u001b[0m\u001b[0;34m\u001b[0m\u001b[0m\n",
      "\u001b[0;32m/home/common/envs/conda/envs/domino/lib/python3.8/site-packages/pandas/core/internals/managers.py\u001b[0m in \u001b[0;36m<listcomp>\u001b[0;34m(.0)\u001b[0m\n\u001b[1;32m    679\u001b[0m         \u001b[0;32melse\u001b[0m\u001b[0;34m:\u001b[0m\u001b[0;34m\u001b[0m\u001b[0;34m\u001b[0m\u001b[0m\n\u001b[1;32m    680\u001b[0m             new_blocks = [\n\u001b[0;32m--> 681\u001b[0;31m                 blk.take_nd(\n\u001b[0m\u001b[1;32m    682\u001b[0m                     \u001b[0mindexer\u001b[0m\u001b[0;34m,\u001b[0m\u001b[0;34m\u001b[0m\u001b[0;34m\u001b[0m\u001b[0m\n\u001b[1;32m    683\u001b[0m                     \u001b[0maxis\u001b[0m\u001b[0;34m=\u001b[0m\u001b[0;36m1\u001b[0m\u001b[0;34m,\u001b[0m\u001b[0;34m\u001b[0m\u001b[0;34m\u001b[0m\u001b[0m\n",
      "\u001b[0;32m/home/common/envs/conda/envs/domino/lib/python3.8/site-packages/pandas/core/internals/blocks.py\u001b[0m in \u001b[0;36mtake_nd\u001b[0;34m(self, indexer, axis, new_mgr_locs, fill_value)\u001b[0m\n\u001b[1;32m   1143\u001b[0m             \u001b[0mallow_fill\u001b[0m \u001b[0;34m=\u001b[0m \u001b[0;32mTrue\u001b[0m\u001b[0;34m\u001b[0m\u001b[0;34m\u001b[0m\u001b[0m\n\u001b[1;32m   1144\u001b[0m \u001b[0;34m\u001b[0m\u001b[0m\n\u001b[0;32m-> 1145\u001b[0;31m         new_values = algos.take_nd(\n\u001b[0m\u001b[1;32m   1146\u001b[0m             \u001b[0mvalues\u001b[0m\u001b[0;34m,\u001b[0m \u001b[0mindexer\u001b[0m\u001b[0;34m,\u001b[0m \u001b[0maxis\u001b[0m\u001b[0;34m=\u001b[0m\u001b[0maxis\u001b[0m\u001b[0;34m,\u001b[0m \u001b[0mallow_fill\u001b[0m\u001b[0;34m=\u001b[0m\u001b[0mallow_fill\u001b[0m\u001b[0;34m,\u001b[0m \u001b[0mfill_value\u001b[0m\u001b[0;34m=\u001b[0m\u001b[0mfill_value\u001b[0m\u001b[0;34m\u001b[0m\u001b[0;34m\u001b[0m\u001b[0m\n\u001b[1;32m   1147\u001b[0m         )\n",
      "\u001b[0;32m/home/common/envs/conda/envs/domino/lib/python3.8/site-packages/pandas/core/array_algos/take.py\u001b[0m in \u001b[0;36mtake_nd\u001b[0;34m(arr, indexer, axis, fill_value, allow_fill)\u001b[0m\n\u001b[1;32m    106\u001b[0m \u001b[0;34m\u001b[0m\u001b[0m\n\u001b[1;32m    107\u001b[0m     \u001b[0marr\u001b[0m \u001b[0;34m=\u001b[0m \u001b[0mnp\u001b[0m\u001b[0;34m.\u001b[0m\u001b[0masarray\u001b[0m\u001b[0;34m(\u001b[0m\u001b[0marr\u001b[0m\u001b[0;34m)\u001b[0m\u001b[0;34m\u001b[0m\u001b[0;34m\u001b[0m\u001b[0m\n\u001b[0;32m--> 108\u001b[0;31m     \u001b[0;32mreturn\u001b[0m \u001b[0m_take_nd_ndarray\u001b[0m\u001b[0;34m(\u001b[0m\u001b[0marr\u001b[0m\u001b[0;34m,\u001b[0m \u001b[0mindexer\u001b[0m\u001b[0;34m,\u001b[0m \u001b[0maxis\u001b[0m\u001b[0;34m,\u001b[0m \u001b[0mfill_value\u001b[0m\u001b[0;34m,\u001b[0m \u001b[0mallow_fill\u001b[0m\u001b[0;34m)\u001b[0m\u001b[0;34m\u001b[0m\u001b[0;34m\u001b[0m\u001b[0m\n\u001b[0m\u001b[1;32m    109\u001b[0m \u001b[0;34m\u001b[0m\u001b[0m\n\u001b[1;32m    110\u001b[0m \u001b[0;34m\u001b[0m\u001b[0m\n",
      "\u001b[0;32m/home/common/envs/conda/envs/domino/lib/python3.8/site-packages/pandas/core/array_algos/take.py\u001b[0m in \u001b[0;36m_take_nd_ndarray\u001b[0;34m(arr, indexer, axis, fill_value, allow_fill)\u001b[0m\n\u001b[1;32m    152\u001b[0m         \u001b[0marr\u001b[0m\u001b[0;34m.\u001b[0m\u001b[0mndim\u001b[0m\u001b[0;34m,\u001b[0m \u001b[0marr\u001b[0m\u001b[0;34m.\u001b[0m\u001b[0mdtype\u001b[0m\u001b[0;34m,\u001b[0m \u001b[0mout\u001b[0m\u001b[0;34m.\u001b[0m\u001b[0mdtype\u001b[0m\u001b[0;34m,\u001b[0m \u001b[0maxis\u001b[0m\u001b[0;34m=\u001b[0m\u001b[0maxis\u001b[0m\u001b[0;34m,\u001b[0m \u001b[0mmask_info\u001b[0m\u001b[0;34m=\u001b[0m\u001b[0mmask_info\u001b[0m\u001b[0;34m\u001b[0m\u001b[0;34m\u001b[0m\u001b[0m\n\u001b[1;32m    153\u001b[0m     )\n\u001b[0;32m--> 154\u001b[0;31m     \u001b[0mfunc\u001b[0m\u001b[0;34m(\u001b[0m\u001b[0marr\u001b[0m\u001b[0;34m,\u001b[0m \u001b[0mindexer\u001b[0m\u001b[0;34m,\u001b[0m \u001b[0mout\u001b[0m\u001b[0;34m,\u001b[0m \u001b[0mfill_value\u001b[0m\u001b[0;34m)\u001b[0m\u001b[0;34m\u001b[0m\u001b[0;34m\u001b[0m\u001b[0m\n\u001b[0m\u001b[1;32m    155\u001b[0m \u001b[0;34m\u001b[0m\u001b[0m\n\u001b[1;32m    156\u001b[0m     \u001b[0;32mif\u001b[0m \u001b[0mflip_order\u001b[0m\u001b[0;34m:\u001b[0m\u001b[0;34m\u001b[0m\u001b[0;34m\u001b[0m\u001b[0m\n",
      "\u001b[0;32mpandas/_libs/algos_take_helper.pxi\u001b[0m in \u001b[0;36mpandas._libs.algos.take_2d_axis1_object_object\u001b[0;34m()\u001b[0m\n",
      "\u001b[0;31mValueError\u001b[0m: Buffer has wrong number of dimensions (expected 1, got 2)"
     ]
    }
   ],
   "metadata": {}
  },
  {
   "cell_type": "code",
   "execution_count": null,
   "source": [],
   "outputs": [],
   "metadata": {}
  },
  {
   "cell_type": "code",
   "execution_count": 97,
   "source": [
    "\n",
    "dp.lz[dp[\"pred_slices\"].data[:, pred_slice_idx].argsort()[-10:]][[\"image\", \"target\", \"correlate\"]]"
   ],
   "outputs": [
    {
     "output_type": "execute_result",
     "data": {
      "text/html": [
       "<table border=\"1\" class=\"dataframe\">\n",
       "  <thead>\n",
       "    <tr style=\"text-align: right;\">\n",
       "      <th></th>\n",
       "      <th>image (ImageColumn)</th>\n",
       "      <th>target (NumpyArrayColumn)</th>\n",
       "      <th>correlate (NumpyArrayColumn)</th>\n",
       "    </tr>\n",
       "  </thead>\n",
       "  <tbody>\n",
       "    <tr>\n",
       "      <th>0</th>\n",
       "      <td><img src=\"data:image/jpeg;base64,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\"></td>\n",
       "      <td>0</td>\n",
       "      <td>1</td>\n",
       "    </tr>\n",
       "    <tr>\n",
       "      <th>1</th>\n",
       "      <td><img src=\"data:image/jpeg;base64,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\"></td>\n",
       "      <td>0</td>\n",
       "      <td>1</td>\n",
       "    </tr>\n",
       "    <tr>\n",
       "      <th>2</th>\n",
       "      <td><img src=\"data:image/jpeg;base64,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\"></td>\n",
       "      <td>0</td>\n",
       "      <td>1</td>\n",
       "    </tr>\n",
       "    <tr>\n",
       "      <th>3</th>\n",
       "      <td><img src=\"data:image/jpeg;base64,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\"></td>\n",
       "      <td>0</td>\n",
       "      <td>1</td>\n",
       "    </tr>\n",
       "    <tr>\n",
       "      <th>4</th>\n",
       "      <td><img src=\"data:image/jpeg;base64,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\"></td>\n",
       "      <td>0</td>\n",
       "      <td>1</td>\n",
       "    </tr>\n",
       "    <tr>\n",
       "      <th>5</th>\n",
       "      <td><img src=\"data:image/jpeg;base64,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\"></td>\n",
       "      <td>0</td>\n",
       "      <td>1</td>\n",
       "    </tr>\n",
       "    <tr>\n",
       "      <th>6</th>\n",
       "      <td><img src=\"data:image/jpeg;base64,/9j/4AAQSkZJRgABAQAAAQABAAD/2wBDAAgGBgcGBQgHBwcJCQgKDBQNDAsLDBkSEw8UHRofHh0aHBwgJC4nICIsIxwcKDcpLDAxNDQ0Hyc5PTgyPC4zNDL/2wBDAQkJCQwLDBgNDRgyIRwhMjIyMjIyMjIyMjIyMjIyMjIyMjIyMjIyMjIyMjIyMjIyMjIyMjIyMjIyMjIyMjIyMjL/wAARCACAAGkDASIAAhEBAxEB/8QAHwAAAQUBAQEBAQEAAAAAAAAAAAECAwQFBgcICQoL/8QAtRAAAgEDAwIEAwUFBAQAAAF9AQIDAAQRBRIhMUEGE1FhByJxFDKBkaEII0KxwRVS0fAkM2JyggkKFhcYGRolJicoKSo0NTY3ODk6Q0RFRkdISUpTVFVWV1hZWmNkZWZnaGlqc3R1dnd4eXqDhIWGh4iJipKTlJWWl5iZmqKjpKWmp6ipqrKztLW2t7i5usLDxMXGx8jJytLT1NXW19jZ2uHi4+Tl5ufo6erx8vP09fb3+Pn6/8QAHwEAAwEBAQEBAQEBAQAAAAAAAAECAwQFBgcICQoL/8QAtREAAgECBAQDBAcFBAQAAQJ3AAECAxEEBSExBhJBUQdhcRMiMoEIFEKRobHBCSMzUvAVYnLRChYkNOEl8RcYGRomJygpKjU2Nzg5OkNERUZHSElKU1RVVldYWVpjZGVmZ2hpanN0dXZ3eHl6goOEhYaHiImKkpOUlZaXmJmaoqOkpaanqKmqsrO0tba3uLm6wsPExcbHyMnK0tPU1dbX2Nna4uPk5ebn6Onq8vP09fb3+Pn6/9oADAMBAAIRAxEAPwDsyd2rSH0FZ2pnMpHqQKvwHdfztWdefNdIPVxXmz0shw3F1ri2t09SKpS8Rj6Va1w/vbdaqXJwhrJdCpbnMXJ3XT/Wuw0NcQDjtXHP81yfc12+jri3z7V30xyKOtt+9A9BWSn3R9Ca0dZbNwazhwv/AAGnPcaIs/MKeo+U89qj/i/CpAODz3GPzqUBXb5rj8aHPy0i8zZofoKaEyI9aTApTSVtEhncNcsmrTpGf3eeuatjTg00c7vlFOTXBprkU0jMZQGYk9a6DS9azD5Bl3g9M1hUw03rciM7GrqsVtNexeW2do5waxtSWVGKxgEe4roNP0wvN55YlT2NTapbQRwtcS4AQd6xVOClaOtioycnqcBDp0rXI3cHIJ4rtrC0kitctjA715/qXiZo5j5KYQHt1NW28SXsQVBdttZQQ0nQfUD+fNdEdDRmtq8b/aG4zn0qg6lAVIOcCs9Ne8+42NciGXPG/wCaNvoe1dFYypcuIb6BY5T0ZGyCPUGh6saMgKSTgGndFPHeuvbw2wTfHvZCMg4BH6Vl6npbLCJApyDg/wD16OVoLo5tPvk+gpJO1acenu/3hgUsmlxEfeIP1ppMTaMc0lWpNLuRJhSWU96l/sS6/vNWkdjNnS6Z4C0+9fc8YzinXXhyDR9RAC5j7Vu+FdbgvbISq6ggetSyNHqNy7MwIU/rRWkkuV9TGKuW9PEJsg6jCgdT2rkvFdxJLEqgMyk8KBwa6S/nW3s4raMBRKSCB/dHWuM1nWY1vdqkEQxs5IHAPQfqRXPCmoKyOmJxMtiX1dIWG5Y8sfVm4x+tYviSWVNYuI48gR7V49Rx/n612dhGtxcNdD5WhkBY47AZA/E4/OuTv4ftN/cyd2cnNaXLtcykv2aItOgfZyedrY79PSu+8NXcU9oIZZGe3wGDY+eMH+IfTjNcfHYi4ygVftCjIB6SDuPyrR8PTTWkc8UOfNtsTRDPJUH5l/L+VNNMlxaPY/D2tTWtx/Y+pgElf3U45V17VrX9ohWQEbg3Iz3rnbNotUtreWPbkIDHn+A46fQj+XtXVxn7Zpayjh0HOeox1Bq0QzlJrUE/IOKozWxJ5FdT9jD5IHHUVRns23YANAijZ2yhRu5q35Ufp+lTQWbq3Iq59kPoKAPG9BstXt7YNBcP5bdQB0r03w/bSQ28Zkcldu92P9K57wozHR1iZAW24FdcoaGEQqQOMn2rGpLmm10QRSsUtWufLilvH+UbfLRfQZ4A9yf5V5k0kl0L+dZAHd44Ax6ZJ3Z/QflXVeKL8ugSPsSsYHc9Cf6D3NZ0Vh/ZVpZQTYaRc3cyMc5c4CL+GBn8ad9Lmq3sFyzaZo/lsoWadvOcd1Toin+dcxBEWyT1NWvE2pmS7EK3GzHzO3Uk9KxV1KaBlJkSRD0JXH61KV9TZaGlLp8hKvG2GHTFRWkzWurxTXKAfNiQdnU/K36GtLTbgXpAUc1Q12ZIz5XyBx3Y9KYNJnZ6BcmwnjsS2djtFn1HVT+Wfzr0HRr0y4YkFZV3Ef7XRv1H614xpurLOtnN5itMrLFIVP8AEPun8QT+Vel+GbgtOI85UGQgexOapS1sYOJ08K7ZTHzgHj6dqe9pubNEZLSknlgf0q2M1oZlQxCNCTVX7SlW9RYrbN9K5Xz39aAMjwwipbxMTwq7iPpzW7cXUVtayTzE/N2A5JPYfWsXRSrWDHGMIB/n8q0LnZOIpH+6gJVffpWDXvNlQWxix26zag19fKFgtx5jDPAA6L9P5n6VhajetdB75snznJX/AHRwP8+1a2qzNNY+TuxBIfMdl43DoFH6n8BXO3N19oDBMCNVCooHAA9KH2NoR1OWv7SS5maTbuLdQaUWuy0WAxqCDnIrZjGWO4U262xxkjnimpNaGjgr3GaBut76Jc8FuaueIfDUrai8qKzLIc5FQaeFjuYwT855r0GWeCWzgUjJPyMSf4hTiJrQ82Xw/dWUsF1HCyRoQZFXJ3YOcmu+8H6iJtQiZT8uxlP54/pWotvGlk5YBgV6muX8FHF7JKCdu75R7Ek/1qZ3TTFZcuh67ZEN8x74/lV8qAKzNNkT7MkjN94Z5+taDSoB96uhRbRyOSM/ViVtW+lcd5ze1dtOYrhWRjxisT+zLT1P50/ZyGpIxtIgiXTRznK81HqBBsZkiyW2ELjrmmx6rpsEKwZkh/h/ecj8xTdUJsLP90d7urFWz7ZGK5nGSd2XCL6nG+LNSFra21qi4VgFcqe4AyM+lV4AGt0YdCKz9ZkTVNLhePh42KlR24qxZS+XZrE33kGMGg3h2FkO1ycVUnIkU7mAFTyOKy7u28+TduYemDig0L+lwwm9Evmq0q4A5GSPSvQIbezFsWhCqruXJU5+Y9a8307Sx5yszMQD2Y5ruLLQ4WjEkDyqw5A3kj8quPkOcYqN7m7fN5WhXGD82wgH61geFITCjOB/uj17CtfVZQulfZx98gDHueB/WnaHZLEyZGAmD+NRL3ppGTdos6mNSsEUWfurirQZgVXPaqMNzGpIf8DStep5lejFWVjz3qzRVMOfQ1Htj9qigujNlV9OtReU/wDeolKxUI3PL7rE7NBISSmZFOOeCRj8Mj9Ko3N7deREJHb5ABgmtW5jjbfLyixgAkjnkZOD+VZl9EzLKSuMAYUc9ec/0rGUTqRg2sv725GBmT5iv+0p/wAM0jXLPL5inr1FUkkKSmZDlg35j/PFWcqJMKPkYbl+lcjOnlsWFnLdalQZOcVAsWRwKuW0WXAORSA07FkhdXIHpXYw6jbW1j5hwD2Hc1h2ltbW9o9xJCHAGcsOBWTb61b3GpLGqZZicZGAKq7WxErM623SW/zLKhVQSUHfHqf0rUhUIAo6AVBYTee7lQqxwptI9SamVutbUIrdnJWkx5fB96sQ2xk5fiqyqN2TVz7QSqha6znNW0jjUEA9BUW1P71Uo5mjDtk9Ko/bW9TUTaNaaucxfo7PPL0gWFZNwYHcc5P6ADPvVSeAyaebh/vtArt+VaTRf8SmFZGUnyDG20HBOcd/xpdStzDot0FBJWAqAfZcVTW7Nr9DyyzyybiMt5mODyc1Osiqq5/1YJHB+4c/41JDCsU1uigNvw5A6gdP160l5CUuJQM4ZixAPHWvOZ6qh7upqWyK6gjBBGRWvYQI8oBXnPTFc1pLubyONN2GBDgnI9jXUwXBSY29ttN2ULKG6KPU0IwqQadkHia8wkdhFuCJh5GX17CsyyW0Nylxys8YIYY4b3FOgHl/aIp2Mjo3+sbqxPU/nULqVv43B2xsoIxxzV2UlcyqQcJWZ2WgSNHO5mP3xu24+8KualfJZEybgYz0o0eFJxZiQNuYMDg888Vyfip5bJ2sJBJviO35u/pWtJOJyVrM7Sxn8+AOTkGrgfAzXMaTdC38PCVmwQO9a9neB9NMzkHjrXScxNBfyTSzR7cKo61V8/3rJ0+8uHvJmUjy2PFWtzVjVlZnRSV0f//Z\"></td>\n",
       "      <td>0</td>\n",
       "      <td>1</td>\n",
       "    </tr>\n",
       "    <tr>\n",
       "      <th>7</th>\n",
       "      <td><img src=\"data:image/jpeg;base64,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\"></td>\n",
       "      <td>0</td>\n",
       "      <td>1</td>\n",
       "    </tr>\n",
       "    <tr>\n",
       "      <th>8</th>\n",
       "      <td><img src=\"data:image/jpeg;base64,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\"></td>\n",
       "      <td>0</td>\n",
       "      <td>1</td>\n",
       "    </tr>\n",
       "    <tr>\n",
       "      <th>9</th>\n",
       "      <td><img src=\"data:image/jpeg;base64,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\"></td>\n",
       "      <td>0</td>\n",
       "      <td>1</td>\n",
       "    </tr>\n",
       "  </tbody>\n",
       "</table>"
      ],
      "text/plain": [
       "DataPanel(nrows: 10, ncols: 3)"
      ]
     },
     "metadata": {},
     "execution_count": 97
    }
   ],
   "metadata": {}
  },
  {
   "cell_type": "code",
   "execution_count": 78,
   "source": [
    "import pandas as pd\n",
    "import seaborn as sns\n",
    "import matplotlib.pyplot as plt\n",
    "plot_df = pd.DataFrame(\n",
    "    {\"probs\": dp[\"probs\"], \"slice\": dp[\"slices\"][:, slice_idx], \"target\": dp[\"target\"]}\n",
    ")\n",
    "sns.histplot(\n",
    "    data=plot_df[plot_df[\"target\"] == 0],\n",
    "    x=\"probs\",\n",
    "    hue=\"slice\",\n",
    "    stat=\"count\",\n",
    "    common_norm=not False,\n",
    "    binwidth=0.1,\n",
    ")\n",
    "plt.yscale(\"log\")\n"
   ],
   "outputs": [
    {
     "output_type": "error",
     "ename": "ValueError",
     "evalue": "Data must be 1-dimensional",
     "traceback": [
      "\u001b[0;31m---------------------------------------------------------------------------\u001b[0m",
      "\u001b[0;31mValueError\u001b[0m                                Traceback (most recent call last)",
      "\u001b[0;32m/tmp/ipykernel_2285/2270326691.py\u001b[0m in \u001b[0;36m<module>\u001b[0;34m\u001b[0m\n\u001b[1;32m      2\u001b[0m \u001b[0;32mimport\u001b[0m \u001b[0mseaborn\u001b[0m \u001b[0;32mas\u001b[0m \u001b[0msns\u001b[0m\u001b[0;34m\u001b[0m\u001b[0;34m\u001b[0m\u001b[0m\n\u001b[1;32m      3\u001b[0m \u001b[0;32mimport\u001b[0m \u001b[0mmatplotlib\u001b[0m\u001b[0;34m.\u001b[0m\u001b[0mpyplot\u001b[0m \u001b[0;32mas\u001b[0m \u001b[0mplt\u001b[0m\u001b[0;34m\u001b[0m\u001b[0;34m\u001b[0m\u001b[0m\n\u001b[0;32m----> 4\u001b[0;31m plot_df = pd.DataFrame(\n\u001b[0m\u001b[1;32m      5\u001b[0m     \u001b[0;34m{\u001b[0m\u001b[0;34m\"probs\"\u001b[0m\u001b[0;34m:\u001b[0m \u001b[0mdp\u001b[0m\u001b[0;34m[\u001b[0m\u001b[0;34m\"probs\"\u001b[0m\u001b[0;34m]\u001b[0m\u001b[0;34m,\u001b[0m \u001b[0;34m\"slice\"\u001b[0m\u001b[0;34m:\u001b[0m \u001b[0mdp\u001b[0m\u001b[0;34m[\u001b[0m\u001b[0;34m\"slices\"\u001b[0m\u001b[0;34m]\u001b[0m\u001b[0;34m[\u001b[0m\u001b[0;34m:\u001b[0m\u001b[0;34m,\u001b[0m \u001b[0mslice_idx\u001b[0m\u001b[0;34m]\u001b[0m\u001b[0;34m,\u001b[0m \u001b[0;34m\"target\"\u001b[0m\u001b[0;34m:\u001b[0m \u001b[0mdp\u001b[0m\u001b[0;34m[\u001b[0m\u001b[0;34m\"target\"\u001b[0m\u001b[0;34m]\u001b[0m\u001b[0;34m}\u001b[0m\u001b[0;34m\u001b[0m\u001b[0;34m\u001b[0m\u001b[0m\n\u001b[1;32m      6\u001b[0m )\n",
      "\u001b[0;32m/home/common/envs/conda/envs/domino/lib/python3.8/site-packages/pandas/core/frame.py\u001b[0m in \u001b[0;36m__init__\u001b[0;34m(self, data, index, columns, dtype, copy)\u001b[0m\n\u001b[1;32m    612\u001b[0m         \u001b[0;32melif\u001b[0m \u001b[0misinstance\u001b[0m\u001b[0;34m(\u001b[0m\u001b[0mdata\u001b[0m\u001b[0;34m,\u001b[0m \u001b[0mdict\u001b[0m\u001b[0;34m)\u001b[0m\u001b[0;34m:\u001b[0m\u001b[0;34m\u001b[0m\u001b[0;34m\u001b[0m\u001b[0m\n\u001b[1;32m    613\u001b[0m             \u001b[0;31m# GH#38939 de facto copy defaults to False only in non-dict cases\u001b[0m\u001b[0;34m\u001b[0m\u001b[0;34m\u001b[0m\u001b[0;34m\u001b[0m\u001b[0m\n\u001b[0;32m--> 614\u001b[0;31m             \u001b[0mmgr\u001b[0m \u001b[0;34m=\u001b[0m \u001b[0mdict_to_mgr\u001b[0m\u001b[0;34m(\u001b[0m\u001b[0mdata\u001b[0m\u001b[0;34m,\u001b[0m \u001b[0mindex\u001b[0m\u001b[0;34m,\u001b[0m \u001b[0mcolumns\u001b[0m\u001b[0;34m,\u001b[0m \u001b[0mdtype\u001b[0m\u001b[0;34m=\u001b[0m\u001b[0mdtype\u001b[0m\u001b[0;34m,\u001b[0m \u001b[0mcopy\u001b[0m\u001b[0;34m=\u001b[0m\u001b[0mcopy\u001b[0m\u001b[0;34m,\u001b[0m \u001b[0mtyp\u001b[0m\u001b[0;34m=\u001b[0m\u001b[0mmanager\u001b[0m\u001b[0;34m)\u001b[0m\u001b[0;34m\u001b[0m\u001b[0;34m\u001b[0m\u001b[0m\n\u001b[0m\u001b[1;32m    615\u001b[0m         \u001b[0;32melif\u001b[0m \u001b[0misinstance\u001b[0m\u001b[0;34m(\u001b[0m\u001b[0mdata\u001b[0m\u001b[0;34m,\u001b[0m \u001b[0mma\u001b[0m\u001b[0;34m.\u001b[0m\u001b[0mMaskedArray\u001b[0m\u001b[0;34m)\u001b[0m\u001b[0;34m:\u001b[0m\u001b[0;34m\u001b[0m\u001b[0;34m\u001b[0m\u001b[0m\n\u001b[1;32m    616\u001b[0m             \u001b[0;32mimport\u001b[0m \u001b[0mnumpy\u001b[0m\u001b[0;34m.\u001b[0m\u001b[0mma\u001b[0m\u001b[0;34m.\u001b[0m\u001b[0mmrecords\u001b[0m \u001b[0;32mas\u001b[0m \u001b[0mmrecords\u001b[0m\u001b[0;34m\u001b[0m\u001b[0;34m\u001b[0m\u001b[0m\n",
      "\u001b[0;32m/home/common/envs/conda/envs/domino/lib/python3.8/site-packages/pandas/core/internals/construction.py\u001b[0m in \u001b[0;36mdict_to_mgr\u001b[0;34m(data, index, columns, dtype, typ, copy)\u001b[0m\n\u001b[1;32m    462\u001b[0m         \u001b[0;31m# TODO: can we get rid of the dt64tz special case above?\u001b[0m\u001b[0;34m\u001b[0m\u001b[0;34m\u001b[0m\u001b[0;34m\u001b[0m\u001b[0m\n\u001b[1;32m    463\u001b[0m \u001b[0;34m\u001b[0m\u001b[0m\n\u001b[0;32m--> 464\u001b[0;31m     return arrays_to_mgr(\n\u001b[0m\u001b[1;32m    465\u001b[0m         \u001b[0marrays\u001b[0m\u001b[0;34m,\u001b[0m \u001b[0mdata_names\u001b[0m\u001b[0;34m,\u001b[0m \u001b[0mindex\u001b[0m\u001b[0;34m,\u001b[0m \u001b[0mcolumns\u001b[0m\u001b[0;34m,\u001b[0m \u001b[0mdtype\u001b[0m\u001b[0;34m=\u001b[0m\u001b[0mdtype\u001b[0m\u001b[0;34m,\u001b[0m \u001b[0mtyp\u001b[0m\u001b[0;34m=\u001b[0m\u001b[0mtyp\u001b[0m\u001b[0;34m,\u001b[0m \u001b[0mconsolidate\u001b[0m\u001b[0;34m=\u001b[0m\u001b[0mcopy\u001b[0m\u001b[0;34m\u001b[0m\u001b[0;34m\u001b[0m\u001b[0m\n\u001b[1;32m    466\u001b[0m     )\n",
      "\u001b[0;32m/home/common/envs/conda/envs/domino/lib/python3.8/site-packages/pandas/core/internals/construction.py\u001b[0m in \u001b[0;36marrays_to_mgr\u001b[0;34m(arrays, arr_names, index, columns, dtype, verify_integrity, typ, consolidate)\u001b[0m\n\u001b[1;32m    122\u001b[0m \u001b[0;34m\u001b[0m\u001b[0m\n\u001b[1;32m    123\u001b[0m         \u001b[0;31m# don't force copy because getting jammed in an ndarray anyway\u001b[0m\u001b[0;34m\u001b[0m\u001b[0;34m\u001b[0m\u001b[0;34m\u001b[0m\u001b[0m\n\u001b[0;32m--> 124\u001b[0;31m         \u001b[0marrays\u001b[0m \u001b[0;34m=\u001b[0m \u001b[0m_homogenize\u001b[0m\u001b[0;34m(\u001b[0m\u001b[0marrays\u001b[0m\u001b[0;34m,\u001b[0m \u001b[0mindex\u001b[0m\u001b[0;34m,\u001b[0m \u001b[0mdtype\u001b[0m\u001b[0;34m)\u001b[0m\u001b[0;34m\u001b[0m\u001b[0;34m\u001b[0m\u001b[0m\n\u001b[0m\u001b[1;32m    125\u001b[0m \u001b[0;34m\u001b[0m\u001b[0m\n\u001b[1;32m    126\u001b[0m     \u001b[0;32melse\u001b[0m\u001b[0;34m:\u001b[0m\u001b[0;34m\u001b[0m\u001b[0;34m\u001b[0m\u001b[0m\n",
      "\u001b[0;32m/home/common/envs/conda/envs/domino/lib/python3.8/site-packages/pandas/core/internals/construction.py\u001b[0m in \u001b[0;36m_homogenize\u001b[0;34m(data, index, dtype)\u001b[0m\n\u001b[1;32m    587\u001b[0m                 \u001b[0mval\u001b[0m \u001b[0;34m=\u001b[0m \u001b[0mlib\u001b[0m\u001b[0;34m.\u001b[0m\u001b[0mfast_multiget\u001b[0m\u001b[0;34m(\u001b[0m\u001b[0mval\u001b[0m\u001b[0;34m,\u001b[0m \u001b[0moindex\u001b[0m\u001b[0;34m.\u001b[0m\u001b[0m_values\u001b[0m\u001b[0;34m,\u001b[0m \u001b[0mdefault\u001b[0m\u001b[0;34m=\u001b[0m\u001b[0mnp\u001b[0m\u001b[0;34m.\u001b[0m\u001b[0mnan\u001b[0m\u001b[0;34m)\u001b[0m\u001b[0;34m\u001b[0m\u001b[0;34m\u001b[0m\u001b[0m\n\u001b[1;32m    588\u001b[0m \u001b[0;34m\u001b[0m\u001b[0m\n\u001b[0;32m--> 589\u001b[0;31m             val = sanitize_array(\n\u001b[0m\u001b[1;32m    590\u001b[0m                 \u001b[0mval\u001b[0m\u001b[0;34m,\u001b[0m \u001b[0mindex\u001b[0m\u001b[0;34m,\u001b[0m \u001b[0mdtype\u001b[0m\u001b[0;34m=\u001b[0m\u001b[0mdtype\u001b[0m\u001b[0;34m,\u001b[0m \u001b[0mcopy\u001b[0m\u001b[0;34m=\u001b[0m\u001b[0;32mFalse\u001b[0m\u001b[0;34m,\u001b[0m \u001b[0mraise_cast_failure\u001b[0m\u001b[0;34m=\u001b[0m\u001b[0;32mFalse\u001b[0m\u001b[0;34m\u001b[0m\u001b[0;34m\u001b[0m\u001b[0m\n\u001b[1;32m    591\u001b[0m             )\n",
      "\u001b[0;32m/home/common/envs/conda/envs/domino/lib/python3.8/site-packages/pandas/core/construction.py\u001b[0m in \u001b[0;36msanitize_array\u001b[0;34m(data, index, dtype, copy, raise_cast_failure, allow_2d)\u001b[0m\n\u001b[1;32m    575\u001b[0m                 \u001b[0msubarr\u001b[0m \u001b[0;34m=\u001b[0m \u001b[0mmaybe_infer_to_datetimelike\u001b[0m\u001b[0;34m(\u001b[0m\u001b[0msubarr\u001b[0m\u001b[0;34m)\u001b[0m\u001b[0;34m\u001b[0m\u001b[0;34m\u001b[0m\u001b[0m\n\u001b[1;32m    576\u001b[0m \u001b[0;34m\u001b[0m\u001b[0m\n\u001b[0;32m--> 577\u001b[0;31m     \u001b[0msubarr\u001b[0m \u001b[0;34m=\u001b[0m \u001b[0m_sanitize_ndim\u001b[0m\u001b[0;34m(\u001b[0m\u001b[0msubarr\u001b[0m\u001b[0;34m,\u001b[0m \u001b[0mdata\u001b[0m\u001b[0;34m,\u001b[0m \u001b[0mdtype\u001b[0m\u001b[0;34m,\u001b[0m \u001b[0mindex\u001b[0m\u001b[0;34m,\u001b[0m \u001b[0mallow_2d\u001b[0m\u001b[0;34m=\u001b[0m\u001b[0mallow_2d\u001b[0m\u001b[0;34m)\u001b[0m\u001b[0;34m\u001b[0m\u001b[0;34m\u001b[0m\u001b[0m\n\u001b[0m\u001b[1;32m    578\u001b[0m \u001b[0;34m\u001b[0m\u001b[0m\n\u001b[1;32m    579\u001b[0m     \u001b[0;32mif\u001b[0m \u001b[0misinstance\u001b[0m\u001b[0;34m(\u001b[0m\u001b[0msubarr\u001b[0m\u001b[0;34m,\u001b[0m \u001b[0mnp\u001b[0m\u001b[0;34m.\u001b[0m\u001b[0mndarray\u001b[0m\u001b[0;34m)\u001b[0m\u001b[0;34m:\u001b[0m\u001b[0;34m\u001b[0m\u001b[0;34m\u001b[0m\u001b[0m\n",
      "\u001b[0;32m/home/common/envs/conda/envs/domino/lib/python3.8/site-packages/pandas/core/construction.py\u001b[0m in \u001b[0;36m_sanitize_ndim\u001b[0;34m(result, data, dtype, index, allow_2d)\u001b[0m\n\u001b[1;32m    626\u001b[0m             \u001b[0;32mif\u001b[0m \u001b[0mallow_2d\u001b[0m\u001b[0;34m:\u001b[0m\u001b[0;34m\u001b[0m\u001b[0;34m\u001b[0m\u001b[0m\n\u001b[1;32m    627\u001b[0m                 \u001b[0;32mreturn\u001b[0m \u001b[0mresult\u001b[0m\u001b[0;34m\u001b[0m\u001b[0;34m\u001b[0m\u001b[0m\n\u001b[0;32m--> 628\u001b[0;31m             \u001b[0;32mraise\u001b[0m \u001b[0mValueError\u001b[0m\u001b[0;34m(\u001b[0m\u001b[0;34m\"Data must be 1-dimensional\"\u001b[0m\u001b[0;34m)\u001b[0m\u001b[0;34m\u001b[0m\u001b[0;34m\u001b[0m\u001b[0m\n\u001b[0m\u001b[1;32m    629\u001b[0m         \u001b[0;32mif\u001b[0m \u001b[0mis_object_dtype\u001b[0m\u001b[0;34m(\u001b[0m\u001b[0mdtype\u001b[0m\u001b[0;34m)\u001b[0m \u001b[0;32mand\u001b[0m \u001b[0misinstance\u001b[0m\u001b[0;34m(\u001b[0m\u001b[0mdtype\u001b[0m\u001b[0;34m,\u001b[0m \u001b[0mExtensionDtype\u001b[0m\u001b[0;34m)\u001b[0m\u001b[0;34m:\u001b[0m\u001b[0;34m\u001b[0m\u001b[0;34m\u001b[0m\u001b[0m\n\u001b[1;32m    630\u001b[0m             \u001b[0;31m# i.e. PandasDtype(\"O\")\u001b[0m\u001b[0;34m\u001b[0m\u001b[0;34m\u001b[0m\u001b[0;34m\u001b[0m\u001b[0m\n",
      "\u001b[0;31mValueError\u001b[0m: Data must be 1-dimensional"
     ]
    }
   ],
   "metadata": {}
  },
  {
   "cell_type": "code",
   "execution_count": 6,
   "source": [
    "from domino.train import score_settings, train_settings, score_model, train_model"
   ],
   "outputs": [],
   "metadata": {}
  },
  {
   "cell_type": "code",
   "execution_count": 82,
   "source": [
    "attribute = \"mustache\"\n",
    "\n",
    "words_dp = embed_phrases.out().load()\n",
    "words_dp = words_dp.lz[:10_000]\n",
    "\n",
    "pred_slice_idx = 0\n",
    "words_dp = words_dp.view()\n",
    "slice_proto = (\n",
    "    np.dot(dp[\"pred_slices\"].T, dp[\"emb\"])\n",
    "    / dp[\"pred_slices\"].sum(axis=0, keepdims=True).T\n",
    ")\n",
    "slice_proto = dp[\"emb\"][dp[attribute] == 1].mean(axis=0)\n",
    "#slice_proto = dp.lz[dp[\"probs\"].argsort()[-25:]][\"emb\"].mean(axis=0)\n",
    "\n",
    "\n",
    "ref_proto = dp[\"emb\"][dp[attribute] == 0].data.mean(axis=0)\n",
    "\n",
    "words_dp[\"pred_slices\"] = np.dot(\n",
    "    words_dp[\"emb\"].data, (slice_proto - ref_proto).T\n",
    ")\n",
    "expl_dp = words_dp[[\"word\", \"pred_slices\"]]\n",
    "expl_dp.lz[(-expl_dp[\"pred_slices\"]).argsort()[0:10]]"
   ],
   "outputs": [
    {
     "output_type": "execute_result",
     "data": {
      "text/html": [
       "<table border=\"1\" class=\"dataframe\">\n",
       "  <thead>\n",
       "    <tr style=\"text-align: right;\">\n",
       "      <th></th>\n",
       "      <th>word (PandasSeriesColumn)</th>\n",
       "      <th>pred_slices (NumpyArrayColumn)</th>\n",
       "    </tr>\n",
       "  </thead>\n",
       "  <tbody>\n",
       "    <tr>\n",
       "      <th>0</th>\n",
       "      <td>a photo of a man with mustaches.</td>\n",
       "      <td>4.753906</td>\n",
       "    </tr>\n",
       "    <tr>\n",
       "      <th>1</th>\n",
       "      <td>a photo of a man with mustache.</td>\n",
       "      <td>4.718750</td>\n",
       "    </tr>\n",
       "    <tr>\n",
       "      <th>2</th>\n",
       "      <td>a photo of a man with a mustache.</td>\n",
       "      <td>4.652344</td>\n",
       "    </tr>\n",
       "    <tr>\n",
       "      <th>3</th>\n",
       "      <td>a photo of a guy with mustache.</td>\n",
       "      <td>4.445312</td>\n",
       "    </tr>\n",
       "    <tr>\n",
       "      <th>4</th>\n",
       "      <td>a photo of a guy with mustaches.</td>\n",
       "      <td>4.421875</td>\n",
       "    </tr>\n",
       "    <tr>\n",
       "      <th>5</th>\n",
       "      <td>a photo of a man in blackness.</td>\n",
       "      <td>4.371094</td>\n",
       "    </tr>\n",
       "    <tr>\n",
       "      <th>6</th>\n",
       "      <td>a photo of a man with swagger.</td>\n",
       "      <td>4.277344</td>\n",
       "    </tr>\n",
       "    <tr>\n",
       "      <th>7</th>\n",
       "      <td>a photo of a guy with facial hair.</td>\n",
       "      <td>4.207031</td>\n",
       "    </tr>\n",
       "    <tr>\n",
       "      <th>8</th>\n",
       "      <td>a photo of a man of quality.</td>\n",
       "      <td>4.183594</td>\n",
       "    </tr>\n",
       "    <tr>\n",
       "      <th>9</th>\n",
       "      <td>a photo of a man to relate to.</td>\n",
       "      <td>4.125000</td>\n",
       "    </tr>\n",
       "  </tbody>\n",
       "</table>"
      ],
      "text/plain": [
       "DataPanel(nrows: 10, ncols: 2)"
      ]
     },
     "metadata": {},
     "execution_count": 82
    }
   ],
   "metadata": {}
  },
  {
   "cell_type": "code",
   "execution_count": 5,
   "source": [
    "score_settings.out().load()[\"score_model_run_id\"]"
   ],
   "outputs": [
    {
     "output_type": "execute_result",
     "data": {
      "text/html": [
       "<table border=\"1\" class=\"dataframe\">\n",
       "  <thead>\n",
       "    <tr style=\"text-align: right;\">\n",
       "      <th></th>\n",
       "      <th>(PandasSeriesColumn)</th>\n",
       "    </tr>\n",
       "  </thead>\n",
       "  <tbody>\n",
       "    <tr>\n",
       "      <th>0</th>\n",
       "      <td>15006</td>\n",
       "    </tr>\n",
       "    <tr>\n",
       "      <th>1</th>\n",
       "      <td>15007</td>\n",
       "    </tr>\n",
       "    <tr>\n",
       "      <th>2</th>\n",
       "      <td>15008</td>\n",
       "    </tr>\n",
       "    <tr>\n",
       "      <th>3</th>\n",
       "      <td>15005</td>\n",
       "    </tr>\n",
       "    <tr>\n",
       "      <th>4</th>\n",
       "      <td>15009</td>\n",
       "    </tr>\n",
       "    <tr>\n",
       "      <th>5</th>\n",
       "      <td>15010</td>\n",
       "    </tr>\n",
       "    <tr>\n",
       "      <th>6</th>\n",
       "      <td>15011</td>\n",
       "    </tr>\n",
       "    <tr>\n",
       "      <th>7</th>\n",
       "      <td>15012</td>\n",
       "    </tr>\n",
       "    <tr>\n",
       "      <th>8</th>\n",
       "      <td>15014</td>\n",
       "    </tr>\n",
       "    <tr>\n",
       "      <th>9</th>\n",
       "      <td>15013</td>\n",
       "    </tr>\n",
       "  </tbody>\n",
       "</table>"
      ],
      "text/plain": [
       "PandasSeriesColumn(0    15006\n",
       "1 ..., dtype: int64)"
      ]
     },
     "metadata": {},
     "execution_count": 5
    }
   ],
   "metadata": {}
  },
  {
   "cell_type": "code",
   "execution_count": 8,
   "source": [
    "score_dp = score_model.out(15006).load()"
   ],
   "outputs": [],
   "metadata": {}
  },
  {
   "cell_type": "code",
   "execution_count": 18,
   "source": [
    "from sklearn.metrics import roc_auc_score\n",
    "mask = score_dp[\"target\"] != score_dp[\"correlate\"]\n",
    "roc_auc_score(score_dp.lz[mask][\"target\"], score_dp.lz[mask][\"probs\"][:, 1])"
   ],
   "outputs": [
    {
     "output_type": "execute_result",
     "data": {
      "text/plain": [
       "0.26252927075972343"
      ]
     },
     "metadata": {},
     "execution_count": 18
    }
   ],
   "metadata": {}
  },
  {
   "cell_type": "code",
   "execution_count": 13,
   "source": [
    "score_dp[\"probs\"] = score_dp[\"output\"].probabilities()"
   ],
   "outputs": [],
   "metadata": {}
  },
  {
   "cell_type": "code",
   "execution_count": 10,
   "source": [
    "from domino.train import score_settings, synthetic_score_settings, score_model"
   ],
   "outputs": [],
   "metadata": {}
  },
  {
   "cell_type": "code",
   "execution_count": 5,
   "source": [
    "type(synthetic_score_settings.out().load())"
   ],
   "outputs": [
    {
     "output_type": "execute_result",
     "data": {
      "text/plain": [
       "meerkat.datapanel.DataPanel"
      ]
     },
     "metadata": {},
     "execution_count": 5
    }
   ],
   "metadata": {}
  },
  {
   "cell_type": "code",
   "execution_count": 19,
   "source": [
    "score_settings.out()[0].load()"
   ],
   "outputs": [
    {
     "output_type": "execute_result",
     "data": {
      "text/html": [
       "<table border=\"1\" class=\"dataframe\">\n",
       "  <thead>\n",
       "    <tr style=\"text-align: right;\">\n",
       "      <th></th>\n",
       "      <th>train_model_run_id (PandasSeriesColumn)</th>\n",
       "      <th>setting_id (NumpyArrayColumn)</th>\n",
       "      <th>corr (NumpyArrayColumn)</th>\n",
       "      <th>correlate (PandasSeriesColumn)</th>\n",
       "      <th>dataset (PandasSeriesColumn)</th>\n",
       "      <th>n (NumpyArrayColumn)</th>\n",
       "      <th>slice_category (PandasSeriesColumn)</th>\n",
       "      <th>target (PandasSeriesColumn)</th>\n",
       "      <th>index (PandasSeriesColumn)</th>\n",
       "      <th>parent_run_id (PandasSeriesColumn)</th>\n",
       "      <th>build_setting_run_id (PandasSeriesColumn)</th>\n",
       "      <th>time_this_iter_s (PandasSeriesColumn)</th>\n",
       "      <th>done (PandasSeriesColumn)</th>\n",
       "      <th>timesteps_total (PandasSeriesColumn)</th>\n",
       "      <th>episodes_total (PandasSeriesColumn)</th>\n",
       "      <th>training_iteration (PandasSeriesColumn)</th>\n",
       "      <th>experiment_id (PandasSeriesColumn)</th>\n",
       "      <th>date (PandasSeriesColumn)</th>\n",
       "      <th>timestamp (PandasSeriesColumn)</th>\n",
       "      <th>time_total_s (PandasSeriesColumn)</th>\n",
       "      <th>pid (PandasSeriesColumn)</th>\n",
       "      <th>hostname (PandasSeriesColumn)</th>\n",
       "      <th>node_ip (PandasSeriesColumn)</th>\n",
       "      <th>time_since_restore (PandasSeriesColumn)</th>\n",
       "      <th>timesteps_since_restore (PandasSeriesColumn)</th>\n",
       "      <th>iterations_since_restore (PandasSeriesColumn)</th>\n",
       "      <th>trial_id (PandasSeriesColumn)</th>\n",
       "      <th>config/corr (PandasSeriesColumn)</th>\n",
       "      <th>config/correlate (PandasSeriesColumn)</th>\n",
       "      <th>config/dataset (PandasSeriesColumn)</th>\n",
       "      <th>config/index (PandasSeriesColumn)</th>\n",
       "      <th>config/n (PandasSeriesColumn)</th>\n",
       "      <th>config/setting_id (PandasSeriesColumn)</th>\n",
       "      <th>config/slice_category (PandasSeriesColumn)</th>\n",
       "      <th>config/target (PandasSeriesColumn)</th>\n",
       "      <th>logdir (PandasSeriesColumn)</th>\n",
       "      <th>score_settings_run_id (PandasSeriesColumn)</th>\n",
       "      <th>score_model_run_id (PandasSeriesColumn)</th>\n",
       "      <th>synthetic_preds (PandasSeriesColumn)</th>\n",
       "    </tr>\n",
       "  </thead>\n",
       "  <tbody>\n",
       "    <tr>\n",
       "      <th>0</th>\n",
       "      <td>14936</td>\n",
       "      <td>163</td>\n",
       "      <td>0.6</td>\n",
       "      <td>blond_hair</td>\n",
       "      <td>celeba</td>\n",
       "      <td>30000</td>\n",
       "      <td>correlation</td>\n",
       "      <td>wearing_necklace</td>\n",
       "      <td>0</td>\n",
       "      <td>14928</td>\n",
       "      <td>14930</td>\n",
       "      <td>1112.037066</td>\n",
       "      <td>False</td>\n",
       "      <td>NaN</td>\n",
       "      <td>NaN</td>\n",
       "      <td>1</td>\n",
       "      <td>8ef98aebaa294f1f8875ae337af348ea</td>\n",
       "      <td>2021-09-22_12-08-35</td>\n",
       "      <td>1632312515</td>\n",
       "      <td>1112.037066</td>\n",
       "      <td>198</td>\n",
       "      <td>run-script-nf5ts</td>\n",
       "      <td>10.92.1.25</td>\n",
       "      <td>1112.037066</td>\n",
       "      <td>0</td>\n",
       "      <td>1</td>\n",
       "      <td>36c4b_00000</td>\n",
       "      <td>0.6</td>\n",
       "      <td>blond_hair</td>\n",
       "      <td>celeba</td>\n",
       "      <td>163</td>\n",
       "      <td>30000</td>\n",
       "      <td>163</td>\n",
       "      <td>correlation</td>\n",
       "      <td>wearing_necklace</td>\n",
       "      <td>/root/ray_results/_train_model_2021-09-22_11-49-59/_train_model_36c4b_00000_0_config={'corr': 0.6000000000000001, 'correlate': 'blond_hair', 'dataset': 'celeba', 'n': 30000, 'slice__2021-09-22_11-49-59</td>\n",
       "      <td>15044</td>\n",
       "      <td>15045</td>\n",
       "      <td>False</td>\n",
       "    </tr>\n",
       "    <tr>\n",
       "      <th>1</th>\n",
       "      <td>14933</td>\n",
       "      <td>139</td>\n",
       "      <td>0.8</td>\n",
       "      <td>eyeglasses</td>\n",
       "      <td>celeba</td>\n",
       "      <td>30000</td>\n",
       "      <td>correlation</td>\n",
       "      <td>wearing_hat</td>\n",
       "      <td>1</td>\n",
       "      <td>14928</td>\n",
       "      <td>14931</td>\n",
       "      <td>1116.230135</td>\n",
       "      <td>False</td>\n",
       "      <td>NaN</td>\n",
       "      <td>NaN</td>\n",
       "      <td>1</td>\n",
       "      <td>20a0c9441e584990983fc829547b6915</td>\n",
       "      <td>2021-09-22_12-08-39</td>\n",
       "      <td>1632312519</td>\n",
       "      <td>1116.230135</td>\n",
       "      <td>196</td>\n",
       "      <td>run-script-nf5ts</td>\n",
       "      <td>10.92.1.25</td>\n",
       "      <td>1116.230135</td>\n",
       "      <td>0</td>\n",
       "      <td>1</td>\n",
       "      <td>36c4b_00001</td>\n",
       "      <td>0.8</td>\n",
       "      <td>eyeglasses</td>\n",
       "      <td>celeba</td>\n",
       "      <td>139</td>\n",
       "      <td>30000</td>\n",
       "      <td>139</td>\n",
       "      <td>correlation</td>\n",
       "      <td>wearing_hat</td>\n",
       "      <td>/root/ray_results/_train_model_2021-09-22_11-49-59/_train_model_36c4b_00001_1_config={'corr': 0.8, 'correlate': 'eyeglasses', 'dataset': 'celeba', 'n': 30000, 'slice_category': 'cor_2021-09-22_11-49-59</td>\n",
       "      <td>15044</td>\n",
       "      <td>15046</td>\n",
       "      <td>False</td>\n",
       "    </tr>\n",
       "  </tbody>\n",
       "</table>"
      ],
      "text/plain": [
       "DataPanel(nrows: 2, ncols: 39)"
      ]
     },
     "metadata": {},
     "execution_count": 19
    }
   ],
   "metadata": {}
  },
  {
   "cell_type": "code",
   "execution_count": 24,
   "source": [
    "score_model.out(15045)[0].load()[\"split\"].unique()"
   ],
   "outputs": [
    {
     "output_type": "execute_result",
     "data": {
      "text/plain": [
       "array(['train', 'valid'], dtype=object)"
      ]
     },
     "metadata": {},
     "execution_count": 24
    }
   ],
   "metadata": {}
  },
  {
   "cell_type": "code",
   "execution_count": 56,
   "source": [
    "from domino.data.celeba import get_celeba_dp"
   ],
   "outputs": [],
   "metadata": {}
  },
  {
   "cell_type": "code",
   "execution_count": 96,
   "source": [
    "sb = CelebASliceBuilder()\n",
    "out = sb.build_rare_setting(\n",
    "    data_dp=get_celeba_dp.out().load(),\n",
    "    target_attrs=[\"wearing_earrings\", \"male\", \"blond_hair\"],\n",
    "    slice_attrs=[\"blond_hair\"],\n",
    "    slice_frac=0.01,\n",
    "    target_frac=0.5,\n",
    "    n=20_000\n",
    ")"
   ],
   "outputs": [],
   "metadata": {}
  },
  {
   "cell_type": "code",
   "execution_count": 99,
   "source": [
    "out[\"wearing_earrings\"].mean()"
   ],
   "outputs": [
    {
     "output_type": "execute_result",
     "data": {
      "text/plain": [
       "0.1394"
      ]
     },
     "metadata": {},
     "execution_count": 99
    }
   ],
   "metadata": {}
  },
  {
   "cell_type": "code",
   "execution_count": 84,
   "source": [
    "np.any(out == 1, axis=0).mean()"
   ],
   "outputs": [
    {
     "output_type": "execute_result",
     "data": {
      "text/plain": [
       "0.7881282730911802"
      ]
     },
     "metadata": {},
     "execution_count": 84
    }
   ],
   "metadata": {}
  },
  {
   "cell_type": "code",
   "execution_count": 73,
   "source": [
    " data_dp=get_celeba_dp.out().load()"
   ],
   "outputs": [],
   "metadata": {}
  },
  {
   "cell_type": "code",
   "execution_count": 85,
   "source": [
    "target_attrs=[\"wearing_earrings\", \"male\", \"blond_hair\"]\n",
    "\n",
    "targets = np.array(\n",
    "            [data_dp[attr] for attr in target_attrs]\n",
    ")\n"
   ],
   "outputs": [],
   "metadata": {}
  },
  {
   "cell_type": "code",
   "execution_count": 100,
   "source": [
    "train_settings.out()"
   ],
   "outputs": [
    {
     "output_type": "error",
     "ename": "NameError",
     "evalue": "name 'train_settings' is not defined",
     "traceback": [
      "\u001b[0;31m---------------------------------------------------------------------------\u001b[0m",
      "\u001b[0;31mNameError\u001b[0m                                 Traceback (most recent call last)",
      "\u001b[0;32m/tmp/ipykernel_2982/4102485765.py\u001b[0m in \u001b[0;36m<module>\u001b[0;34m\u001b[0m\n\u001b[0;32m----> 1\u001b[0;31m \u001b[0mtrain_settings\u001b[0m\u001b[0;34m.\u001b[0m\u001b[0mout\u001b[0m\u001b[0;34m(\u001b[0m\u001b[0;34m)\u001b[0m\u001b[0;34m\u001b[0m\u001b[0;34m\u001b[0m\u001b[0m\n\u001b[0m",
      "\u001b[0;31mNameError\u001b[0m: name 'train_settings' is not defined"
     ]
    }
   ],
   "metadata": {}
  },
  {
   "cell_type": "code",
   "execution_count": 97,
   "source": [
    "from domino.emb.clip import get_wiki_words\n",
    "dp = get_wiki_words(top_k=10_000, eng_only=True).load()\n",
    "(dp[\"word\"] == \"earrings\").any()"
   ],
   "outputs": [
    {
     "output_type": "stream",
     "name": "stdout",
     "text": [
      "task: get_wiki_words, run_id=16792\n"
     ]
    },
    {
     "output_type": "stream",
     "name": "stderr",
     "text": [
      "[nltk_data] Downloading package words to /root/nltk_data...\n",
      "[nltk_data]   Unzipping corpora/words.zip.\n"
     ]
    },
    {
     "output_type": "execute_result",
     "data": {
      "text/plain": [
       "False"
      ]
     },
     "metadata": {},
     "execution_count": 97
    }
   ],
   "metadata": {}
  },
  {
   "cell_type": "code",
   "execution_count": 98,
   "source": [
    "dp"
   ],
   "outputs": [
    {
     "output_type": "execute_result",
     "data": {
      "text/html": [
       "<table border=\"1\" class=\"dataframe\">\n",
       "  <thead>\n",
       "    <tr style=\"text-align: right;\">\n",
       "      <th></th>\n",
       "      <th>word (PandasSeriesColumn)</th>\n",
       "      <th>frequency (PandasSeriesColumn)</th>\n",
       "      <th>index (PandasSeriesColumn)</th>\n",
       "    </tr>\n",
       "  </thead>\n",
       "  <tbody>\n",
       "    <tr>\n",
       "      <th>0</th>\n",
       "      <td>the</td>\n",
       "      <td>151983633.0</td>\n",
       "      <td>0</td>\n",
       "    </tr>\n",
       "    <tr>\n",
       "      <th>1</th>\n",
       "      <td>of</td>\n",
       "      <td>71874676.0</td>\n",
       "      <td>1</td>\n",
       "    </tr>\n",
       "    <tr>\n",
       "      <th>2</th>\n",
       "      <td>and</td>\n",
       "      <td>62210193.0</td>\n",
       "      <td>2</td>\n",
       "    </tr>\n",
       "    <tr>\n",
       "      <th>3</th>\n",
       "      <td>in</td>\n",
       "      <td>62004799.0</td>\n",
       "      <td>3</td>\n",
       "    </tr>\n",
       "    <tr>\n",
       "      <th>4</th>\n",
       "      <td>to</td>\n",
       "      <td>43364193.0</td>\n",
       "      <td>4</td>\n",
       "    </tr>\n",
       "    <tr>\n",
       "      <th>...</th>\n",
       "      <td>...</td>\n",
       "      <td>...</td>\n",
       "      <td>...</td>\n",
       "    </tr>\n",
       "    <tr>\n",
       "      <th>9995</th>\n",
       "      <td>het</td>\n",
       "      <td>5533.0</td>\n",
       "      <td>9995</td>\n",
       "    </tr>\n",
       "    <tr>\n",
       "      <th>9996</th>\n",
       "      <td>cleric</td>\n",
       "      <td>5531.0</td>\n",
       "      <td>9996</td>\n",
       "    </tr>\n",
       "    <tr>\n",
       "      <th>9997</th>\n",
       "      <td>unfavorable</td>\n",
       "      <td>5528.0</td>\n",
       "      <td>9997</td>\n",
       "    </tr>\n",
       "    <tr>\n",
       "      <th>9998</th>\n",
       "      <td>disperse</td>\n",
       "      <td>5528.0</td>\n",
       "      <td>9998</td>\n",
       "    </tr>\n",
       "    <tr>\n",
       "      <th>9999</th>\n",
       "      <td>recurrent</td>\n",
       "      <td>5527.0</td>\n",
       "      <td>9999</td>\n",
       "    </tr>\n",
       "  </tbody>\n",
       "</table>"
      ],
      "text/plain": [
       "DataPanel(nrows: 10000, ncols: 3)"
      ]
     },
     "metadata": {},
     "execution_count": 98
    }
   ],
   "metadata": {}
  },
  {
   "cell_type": "code",
   "execution_count": 104,
   "source": [
    "\"blond\" in dp[\"word\"]"
   ],
   "outputs": [
    {
     "output_type": "execute_result",
     "data": {
      "text/plain": [
       "False"
      ]
     },
     "metadata": {},
     "execution_count": 104
    }
   ],
   "metadata": {}
  },
  {
   "cell_type": "code",
   "execution_count": 5,
   "source": [
    "import nltk\n",
    "nltk.download(\"wordnet\")"
   ],
   "outputs": [
    {
     "output_type": "stream",
     "name": "stderr",
     "text": [
      "[nltk_data] Downloading package wordnet to /root/nltk_data...\n",
      "[nltk_data]   Unzipping corpora/wordnet.zip.\n"
     ]
    },
    {
     "output_type": "execute_result",
     "data": {
      "text/plain": [
       "True"
      ]
     },
     "metadata": {},
     "execution_count": 5
    }
   ],
   "metadata": {}
  },
  {
   "cell_type": "code",
   "execution_count": 3,
   "source": [
    "from nltk.corpus import wordnet as wn\n",
    "nl"
   ],
   "outputs": [],
   "metadata": {}
  },
  {
   "cell_type": "code",
   "execution_count": 71,
   "source": [
    "from transformers import pipeline, set_seed\n",
    "generator = pipeline('text-generation', model='gpt2')\n",
    "set_seed(42)\n",
    "generator(\"A portrait of a person\", max_length=7, num_return_sequences=5)"
   ],
   "outputs": [
    {
     "output_type": "stream",
     "name": "stderr",
     "text": [
      "Setting `pad_token_id` to `eos_token_id`:50256 for open-end generation.\n"
     ]
    },
    {
     "output_type": "execute_result",
     "data": {
      "text/plain": [
       "[{'generated_text': 'A portrait of a person who died'},\n",
       " {'generated_text': \"A portrait of a person's head\"},\n",
       " {'generated_text': 'A portrait of a person holding down'},\n",
       " {'generated_text': 'A portrait of a person who will'},\n",
       " {'generated_text': 'A portrait of a person wearing long'}]"
      ]
     },
     "metadata": {},
     "execution_count": 71
    }
   ],
   "metadata": {}
  },
  {
   "cell_type": "code",
   "execution_count": 17,
   "source": [
    "hypernyms = []\n",
    "for hypernym in synset.closure(lambda s: s.hypernyms()):\n",
    "    hypernyms.append(\n",
    "        {\n",
    "            \"synset\": synset.name(),\n",
    "            \"hypernym\": hypernym.name(),\n",
    "        }\n",
    "    )\n",
    "hypernyms"
   ],
   "outputs": [
    {
     "output_type": "execute_result",
     "data": {
      "text/plain": [
       "[{'synset': 'smile.n.01', 'hypernym': 'facial_expression.n.01'},\n",
       " {'synset': 'smile.n.01', 'hypernym': 'gesture.n.02'},\n",
       " {'synset': 'smile.n.01', 'hypernym': 'visual_communication.n.01'},\n",
       " {'synset': 'smile.n.01', 'hypernym': 'communication.n.02'},\n",
       " {'synset': 'smile.n.01', 'hypernym': 'abstraction.n.06'},\n",
       " {'synset': 'smile.n.01', 'hypernym': 'entity.n.01'}]"
      ]
     },
     "metadata": {},
     "execution_count": 17
    }
   ],
   "metadata": {}
  },
  {
   "cell_type": "code",
   "execution_count": 27,
   "source": [
    "from transformers import pipeline, set_seed"
   ],
   "outputs": [],
   "metadata": {}
  },
  {
   "cell_type": "code",
   "execution_count": 28,
   "source": [
    "unmasker = pipeline('fill-mask', model='xlm-roberta-base')"
   ],
   "outputs": [],
   "metadata": {}
  },
  {
   "cell_type": "code",
   "execution_count": 26,
   "source": [
    "unmasker = pipeline(\"\", max_length=30, num_return_sequences=5)"
   ],
   "outputs": [
    {
     "output_type": "error",
     "ename": "PipelineException",
     "evalue": "No mask_token (<mask>) found on the input",
     "traceback": [
      "\u001b[0;31m---------------------------------------------------------------------------\u001b[0m",
      "\u001b[0;31mPipelineException\u001b[0m                         Traceback (most recent call last)",
      "\u001b[0;32m/tmp/ipykernel_2627/3643021087.py\u001b[0m in \u001b[0;36m<module>\u001b[0;34m\u001b[0m\n\u001b[0;32m----> 1\u001b[0;31m \u001b[0munmasker\u001b[0m \u001b[0;34m=\u001b[0m \u001b[0mpipeline\u001b[0m\u001b[0;34m(\u001b[0m\u001b[0;34m\"\"\u001b[0m\u001b[0;34m,\u001b[0m \u001b[0mmax_length\u001b[0m\u001b[0;34m=\u001b[0m\u001b[0;36m30\u001b[0m\u001b[0;34m,\u001b[0m \u001b[0mnum_return_sequences\u001b[0m\u001b[0;34m=\u001b[0m\u001b[0;36m5\u001b[0m\u001b[0;34m)\u001b[0m\u001b[0;34m\u001b[0m\u001b[0;34m\u001b[0m\u001b[0m\n\u001b[0m",
      "\u001b[0;32m/home/common/envs/conda/envs/domino/lib/python3.8/site-packages/transformers/pipelines/fill_mask.py\u001b[0m in \u001b[0;36m__call__\u001b[0;34m(self, targets, top_k, *args, **kwargs)\u001b[0m\n\u001b[1;32m    160\u001b[0m \u001b[0;34m\u001b[0m\u001b[0m\n\u001b[1;32m    161\u001b[0m                 \u001b[0;31m# Fill mask pipeline supports only one ${mask_token} per sample\u001b[0m\u001b[0;34m\u001b[0m\u001b[0;34m\u001b[0m\u001b[0;34m\u001b[0m\u001b[0m\n\u001b[0;32m--> 162\u001b[0;31m                 \u001b[0mself\u001b[0m\u001b[0;34m.\u001b[0m\u001b[0mensure_exactly_one_mask_token\u001b[0m\u001b[0;34m(\u001b[0m\u001b[0mmasked_index\u001b[0m\u001b[0;34m.\u001b[0m\u001b[0mnumpy\u001b[0m\u001b[0;34m(\u001b[0m\u001b[0;34m)\u001b[0m\u001b[0;34m)\u001b[0m\u001b[0;34m\u001b[0m\u001b[0;34m\u001b[0m\u001b[0m\n\u001b[0m\u001b[1;32m    163\u001b[0m \u001b[0;34m\u001b[0m\u001b[0m\n\u001b[1;32m    164\u001b[0m                 \u001b[0mlogits\u001b[0m \u001b[0;34m=\u001b[0m \u001b[0moutputs\u001b[0m\u001b[0;34m[\u001b[0m\u001b[0mi\u001b[0m\u001b[0;34m,\u001b[0m \u001b[0mmasked_index\u001b[0m\u001b[0;34m.\u001b[0m\u001b[0mitem\u001b[0m\u001b[0;34m(\u001b[0m\u001b[0;34m)\u001b[0m\u001b[0;34m,\u001b[0m \u001b[0;34m:\u001b[0m\u001b[0;34m]\u001b[0m\u001b[0;34m\u001b[0m\u001b[0;34m\u001b[0m\u001b[0m\n",
      "\u001b[0;32m/home/common/envs/conda/envs/domino/lib/python3.8/site-packages/transformers/pipelines/fill_mask.py\u001b[0m in \u001b[0;36mensure_exactly_one_mask_token\u001b[0;34m(self, masked_index)\u001b[0m\n\u001b[1;32m     85\u001b[0m             )\n\u001b[1;32m     86\u001b[0m         \u001b[0;32melif\u001b[0m \u001b[0mnumel\u001b[0m \u001b[0;34m<\u001b[0m \u001b[0;36m1\u001b[0m\u001b[0;34m:\u001b[0m\u001b[0;34m\u001b[0m\u001b[0;34m\u001b[0m\u001b[0m\n\u001b[0;32m---> 87\u001b[0;31m             raise PipelineException(\n\u001b[0m\u001b[1;32m     88\u001b[0m                 \u001b[0;34m\"fill-mask\"\u001b[0m\u001b[0;34m,\u001b[0m\u001b[0;34m\u001b[0m\u001b[0;34m\u001b[0m\u001b[0m\n\u001b[1;32m     89\u001b[0m                 \u001b[0mself\u001b[0m\u001b[0;34m.\u001b[0m\u001b[0mmodel\u001b[0m\u001b[0;34m.\u001b[0m\u001b[0mbase_model_prefix\u001b[0m\u001b[0;34m,\u001b[0m\u001b[0;34m\u001b[0m\u001b[0;34m\u001b[0m\u001b[0m\n",
      "\u001b[0;31mPipelineException\u001b[0m: No mask_token (<mask>) found on the input"
     ]
    }
   ],
   "metadata": {}
  },
  {
   "cell_type": "code",
   "execution_count": null,
   "source": [],
   "outputs": [],
   "metadata": {}
  },
  {
   "cell_type": "code",
   "execution_count": 41,
   "source": [
    "unmasker(f\"A photo of a person .\")"
   ],
   "outputs": [
    {
     "output_type": "execute_result",
     "data": {
      "text/plain": [
       "[{'sequence': 'A photo of a person, smiling.',\n",
       "  'score': 0.40710172057151794,\n",
       "  'token': 4,\n",
       "  'token_str': ','},\n",
       " {'sequence': 'A photo of a person while smiling.',\n",
       "  'score': 0.08363543450832367,\n",
       "  'token': 12960,\n",
       "  'token_str': 'while'},\n",
       " {'sequence': 'A photo of a person still smiling.',\n",
       "  'score': 0.0663875937461853,\n",
       "  'token': 7464,\n",
       "  'token_str': 'still'},\n",
       " {'sequence': 'A photo of a person not smiling.',\n",
       "  'score': 0.025921307504177094,\n",
       "  'token': 959,\n",
       "  'token_str': 'not'},\n",
       " {'sequence': 'A photo of a person is smiling.',\n",
       "  'score': 0.0218026302754879,\n",
       "  'token': 83,\n",
       "  'token_str': 'is'}]"
      ]
     },
     "metadata": {},
     "execution_count": 41
    }
   ],
   "metadata": {}
  },
  {
   "cell_type": "code",
   "execution_count": 3,
   "source": [
    "templates = [\n",
    "    \"a photo of a person {}\",\n",
    "    \"a photo of a person {} [MASK]\",\n",
    "    \"a photo of a person {} [MASK] [MASK]\",\n",
    "    \"a photo of a person [MASK] {}\",\n",
    "    \"a photo of a person [MASK] {} [MASK]\",\n",
    "    \"a photo of a person [MASK] {} [MASK][MASK]\",\n",
    "    \"a photo of a person [MASK] [MASK] {}\",\n",
    "    \"a photo of a person [MASK] [MASK] {} [MASK]\",\n",
    "    \"a photo of a person [MASK] [MASK] {} [MASK] [MASK]\",\n",
    "]"
   ],
   "outputs": [],
   "metadata": {}
  },
  {
   "cell_type": "code",
   "execution_count": 68,
   "source": [
    "import torch\n",
    "from transformers import BertTokenizer, BertModel,BertForMaskedLM\n",
    " \n",
    "tokenizer = BertTokenizer.from_pretrained('bert-large-cased')\n",
    "\n",
    "word = \"smiling\"\n",
    "input_txt = [template.format(word) for template in templates]\n",
    "\n",
    "inputs = tokenizer(input_txt, return_tensors='pt', padding=True).to(0)\n",
    "\n",
    "\n",
    "model = BertForMaskedLM.from_pretrained('bert-large-cased').to(0)\n",
    "\n",
    "outputs = model(**inputs)\n",
    "predictions = outputs\n",
    "# sorted_preds, sorted_idx = predictions[0].sort(dim=-1, descending=True)\n",
    "# for k in range(10):\n",
    "#     predicted_index = [sorted_idx[i, k if inputs[\"input_ids\"][1, i] == 103 else 0].item() for i in range(0, inputs[\"input_ids\"].shape[-1])]\n",
    "#     predicted_token = [tokenizer.convert_ids_to_tokens([predicted_index[x]])[0] for x in range(1,inputs[\"input_ids\"].shape[-1])]\n",
    "#     print(predicted_token)"
   ],
   "outputs": [
    {
     "output_type": "display_data",
     "data": {
      "application/vnd.jupyter.widget-view+json": {
       "version_major": 2,
       "version_minor": 0,
       "model_id": "d54956d486e2430ab3bd2d770fe1045b"
      },
      "text/plain": [
       "HBox(children=(FloatProgress(value=0.0, description='Downloading', max=213450.0, style=ProgressStyle(descripti…"
      ]
     },
     "metadata": {}
    },
    {
     "output_type": "stream",
     "name": "stdout",
     "text": [
      "\n"
     ]
    },
    {
     "output_type": "display_data",
     "data": {
      "application/vnd.jupyter.widget-view+json": {
       "version_major": 2,
       "version_minor": 0,
       "model_id": "676b3317c3b84dd2b16070faf476bd72"
      },
      "text/plain": [
       "HBox(children=(FloatProgress(value=0.0, description='Downloading', max=29.0, style=ProgressStyle(description_w…"
      ]
     },
     "metadata": {}
    },
    {
     "output_type": "stream",
     "name": "stdout",
     "text": [
      "\n"
     ]
    },
    {
     "output_type": "display_data",
     "data": {
      "application/vnd.jupyter.widget-view+json": {
       "version_major": 2,
       "version_minor": 0,
       "model_id": "643e4de3e3104ea6b416f8a9b80bc9c6"
      },
      "text/plain": [
       "HBox(children=(FloatProgress(value=0.0, description='Downloading', max=435797.0, style=ProgressStyle(descripti…"
      ]
     },
     "metadata": {}
    },
    {
     "output_type": "stream",
     "name": "stdout",
     "text": [
      "\n"
     ]
    },
    {
     "output_type": "display_data",
     "data": {
      "application/vnd.jupyter.widget-view+json": {
       "version_major": 2,
       "version_minor": 0,
       "model_id": "e6d5f67a48744bd59bb8ff247e99c686"
      },
      "text/plain": [
       "HBox(children=(FloatProgress(value=0.0, description='Downloading', max=762.0, style=ProgressStyle(description_…"
      ]
     },
     "metadata": {}
    },
    {
     "output_type": "stream",
     "name": "stdout",
     "text": [
      "\n"
     ]
    },
    {
     "output_type": "display_data",
     "data": {
      "application/vnd.jupyter.widget-view+json": {
       "version_major": 2,
       "version_minor": 0,
       "model_id": "564419083b6143dea3ab6d78031fff75"
      },
      "text/plain": [
       "HBox(children=(FloatProgress(value=0.0, description='Downloading', max=1338740706.0, style=ProgressStyle(descr…"
      ]
     },
     "metadata": {}
    },
    {
     "output_type": "stream",
     "name": "stdout",
     "text": [
      "\n"
     ]
    },
    {
     "output_type": "stream",
     "name": "stderr",
     "text": [
      "Some weights of the model checkpoint at bert-large-cased were not used when initializing BertForMaskedLM: ['cls.seq_relationship.weight', 'cls.seq_relationship.bias']\n",
      "- This IS expected if you are initializing BertForMaskedLM from the checkpoint of a model trained on another task or with another architecture (e.g. initializing a BertForSequenceClassification model from a BertForPreTraining model).\n",
      "- This IS NOT expected if you are initializing BertForMaskedLM from the checkpoint of a model that you expect to be exactly identical (initializing a BertForSequenceClassification model from a BertForSequenceClassification model).\n"
     ]
    }
   ],
   "metadata": {}
  },
  {
   "cell_type": "code",
   "execution_count": 54,
   "source": [
    "sorted_preds, sorted_ids = predictions.logits.sort(dim=-1, descending=True)"
   ],
   "outputs": [],
   "metadata": {}
  },
  {
   "cell_type": "code",
   "execution_count": 62,
   "source": [
    "sorted_preds.shape"
   ],
   "outputs": [
    {
     "output_type": "execute_result",
     "data": {
      "text/plain": [
       "torch.Size([9, 12, 28996])"
      ]
     },
     "metadata": {},
     "execution_count": 62
    }
   ],
   "metadata": {}
  },
  {
   "cell_type": "code",
   "execution_count": 66,
   "source": [
    "input_ids = inputs[\"input_ids\"]\n",
    "for rank in range(10):\n",
    "    curr_ids = sorted_ids[:, :, rank]\n",
    "    curr_ids[input_ids != 103] = input_ids[input_ids != 103]\n",
    "    for sent_idx in range(sorted_ids.shape[0]):\n",
    "\n",
    "        candidate_df.append(\n",
    "            {\n",
    "                \"text\": tokenizer.decode(\n",
    "                    sorted_ids[sent_idx, :, rank], skip_special_tokens=True\n",
    "                ),\n",
    "                \"prob\": sorted_preds[sent_idx, :, rank].mean().cpu().detach().numpy(),\n",
    "            }\n",
    "        )\n",
    "candidate_df = pd.DataFrame(candidate_df)"
   ],
   "outputs": [],
   "metadata": {}
  },
  {
   "cell_type": "code",
   "execution_count": 67,
   "source": [
    "candidate_df.sort_values(\"prob\")"
   ],
   "outputs": [
    {
     "output_type": "execute_result",
     "data": {
      "text/html": [
       "<div>\n",
       "<style scoped>\n",
       "    .dataframe tbody tr th:only-of-type {\n",
       "        vertical-align: middle;\n",
       "    }\n",
       "\n",
       "    .dataframe tbody tr th {\n",
       "        vertical-align: top;\n",
       "    }\n",
       "\n",
       "    .dataframe thead th {\n",
       "        text-align: right;\n",
       "    }\n",
       "</style>\n",
       "<table border=\"1\" class=\"dataframe\">\n",
       "  <thead>\n",
       "    <tr style=\"text-align: right;\">\n",
       "      <th></th>\n",
       "      <th>text</th>\n",
       "      <th>prob</th>\n",
       "    </tr>\n",
       "  </thead>\n",
       "  <tbody>\n",
       "    <tr>\n",
       "      <th>89</th>\n",
       "      <td>a photo of a person - ; smiling widely and</td>\n",
       "      <td>7.0040717</td>\n",
       "    </tr>\n",
       "    <tr>\n",
       "      <th>86</th>\n",
       "      <td>a photo of a person standing smiling now and</td>\n",
       "      <td>7.0434494</td>\n",
       "    </tr>\n",
       "    <tr>\n",
       "      <th>88</th>\n",
       "      <td>a photo of a person with while smiling -</td>\n",
       "      <td>7.0881395</td>\n",
       "    </tr>\n",
       "    <tr>\n",
       "      <th>87</th>\n",
       "      <td>a photo of a person crying - smiling</td>\n",
       "      <td>7.1516395</td>\n",
       "    </tr>\n",
       "    <tr>\n",
       "      <th>80</th>\n",
       "      <td>a photo of a person'- smiling eyes \"</td>\n",
       "      <td>7.2351427</td>\n",
       "    </tr>\n",
       "    <tr>\n",
       "      <th>...</th>\n",
       "      <td>...</td>\n",
       "      <td>...</td>\n",
       "    </tr>\n",
       "    <tr>\n",
       "      <th>7</th>\n",
       "      <td>a photo of a person, and smiling.</td>\n",
       "      <td>14.271441</td>\n",
       "    </tr>\n",
       "    <tr>\n",
       "      <th>4</th>\n",
       "      <td>a photo of a person, smiling ;</td>\n",
       "      <td>14.699389</td>\n",
       "    </tr>\n",
       "    <tr>\n",
       "      <th>2</th>\n",
       "      <td>a photo of a person smiling broadly ;</td>\n",
       "      <td>14.843798</td>\n",
       "    </tr>\n",
       "    <tr>\n",
       "      <th>0</th>\n",
       "      <td>a photo of a person smiling</td>\n",
       "      <td>15.80104</td>\n",
       "    </tr>\n",
       "    <tr>\n",
       "      <th>1</th>\n",
       "      <td>a photo of a person smiling ;</td>\n",
       "      <td>16.979643</td>\n",
       "    </tr>\n",
       "  </tbody>\n",
       "</table>\n",
       "<p>90 rows × 2 columns</p>\n",
       "</div>"
      ],
      "text/plain": [
       "                                            text       prob\n",
       "89    a photo of a person - ; smiling widely and  7.0040717\n",
       "86  a photo of a person standing smiling now and  7.0434494\n",
       "88      a photo of a person with while smiling -  7.0881395\n",
       "87          a photo of a person crying - smiling  7.1516395\n",
       "80          a photo of a person'- smiling eyes \"  7.2351427\n",
       "..                                           ...        ...\n",
       "7              a photo of a person, and smiling.  14.271441\n",
       "4                 a photo of a person, smiling ;  14.699389\n",
       "2          a photo of a person smiling broadly ;  14.843798\n",
       "0                    a photo of a person smiling   15.80104\n",
       "1                  a photo of a person smiling ;  16.979643\n",
       "\n",
       "[90 rows x 2 columns]"
      ]
     },
     "metadata": {},
     "execution_count": 67
    }
   ],
   "metadata": {}
  },
  {
   "cell_type": "code",
   "execution_count": 56,
   "source": [
    "import pandas as pd\n",
    "from transformers import GPT2LMHeadModel, GPT2Tokenizer\n",
    "import numpy as np \n",
    "\n",
    "gpt_model = GPT2LMHeadModel.from_pretrained('gpt2').to(0)\n",
    "gpt_tokenizer = GPT2Tokenizer.from_pretrained('gpt2')\n",
    "\n",
    "scores = []\n",
    "for text in sents:\n",
    "    tokens_tensor = gpt_tokenizer.encode( text, add_special_tokens=False, return_tensors=\"pt\").to(0) \n",
    "    loss=gpt_model(tokens_tensor, labels=tokens_tensor)[0]\n",
    "    scores.append( \n",
    "        {\"prob\": np.exp(loss.cpu().detach().numpy()), \"text\": text}       \n",
    "    )\n",
    "dp = pd.DataFrame(scores)"
   ],
   "outputs": [],
   "metadata": {}
  },
  {
   "cell_type": "code",
   "execution_count": 57,
   "source": [
    "dp.sort_values(\"prob\")"
   ],
   "outputs": [
    {
     "output_type": "execute_result",
     "data": {
      "text/html": [
       "<div>\n",
       "<style scoped>\n",
       "    .dataframe tbody tr th:only-of-type {\n",
       "        vertical-align: middle;\n",
       "    }\n",
       "\n",
       "    .dataframe tbody tr th {\n",
       "        vertical-align: top;\n",
       "    }\n",
       "\n",
       "    .dataframe thead th {\n",
       "        text-align: right;\n",
       "    }\n",
       "</style>\n",
       "<table border=\"1\" class=\"dataframe\">\n",
       "  <thead>\n",
       "    <tr style=\"text-align: right;\">\n",
       "      <th></th>\n",
       "      <th>prob</th>\n",
       "      <th>text</th>\n",
       "    </tr>\n",
       "  </thead>\n",
       "  <tbody>\n",
       "    <tr>\n",
       "      <th>6</th>\n",
       "      <td>86.902687</td>\n",
       "      <td>a photo of a person sitting and smiling</td>\n",
       "    </tr>\n",
       "    <tr>\n",
       "      <th>10</th>\n",
       "      <td>87.852638</td>\n",
       "      <td>a photo of a person smiling.</td>\n",
       "    </tr>\n",
       "    <tr>\n",
       "      <th>55</th>\n",
       "      <td>88.414558</td>\n",
       "      <td>a photo of a person smiling and</td>\n",
       "    </tr>\n",
       "    <tr>\n",
       "      <th>15</th>\n",
       "      <td>88.646149</td>\n",
       "      <td>a photo of a person standing, smiling</td>\n",
       "    </tr>\n",
       "    <tr>\n",
       "      <th>24</th>\n",
       "      <td>92.471436</td>\n",
       "      <td>a photo of a person smiling or smiling</td>\n",
       "    </tr>\n",
       "    <tr>\n",
       "      <th>...</th>\n",
       "      <td>...</td>\n",
       "      <td>...</td>\n",
       "    </tr>\n",
       "    <tr>\n",
       "      <th>41</th>\n",
       "      <td>735.416260</td>\n",
       "      <td>a photo of a person \" smiling brightly...</td>\n",
       "    </tr>\n",
       "    <tr>\n",
       "      <th>70</th>\n",
       "      <td>774.525269</td>\n",
       "      <td>a photo of a person - / smiling :</td>\n",
       "    </tr>\n",
       "    <tr>\n",
       "      <th>69</th>\n",
       "      <td>852.903381</td>\n",
       "      <td>a photo of a person and ; smiling</td>\n",
       "    </tr>\n",
       "    <tr>\n",
       "      <th>59</th>\n",
       "      <td>915.673279</td>\n",
       "      <td>a photo of a person in smiling happily |</td>\n",
       "    </tr>\n",
       "    <tr>\n",
       "      <th>80</th>\n",
       "      <td>1379.007568</td>\n",
       "      <td>a photo of a person'- smiling eyes \"</td>\n",
       "    </tr>\n",
       "  </tbody>\n",
       "</table>\n",
       "<p>90 rows × 2 columns</p>\n",
       "</div>"
      ],
      "text/plain": [
       "           prob                                       text\n",
       "6     86.902687    a photo of a person sitting and smiling\n",
       "10    87.852638               a photo of a person smiling.\n",
       "55    88.414558            a photo of a person smiling and\n",
       "15    88.646149      a photo of a person standing, smiling\n",
       "24    92.471436     a photo of a person smiling or smiling\n",
       "..          ...                                        ...\n",
       "41   735.416260  a photo of a person \" smiling brightly...\n",
       "70   774.525269          a photo of a person - / smiling :\n",
       "69   852.903381          a photo of a person and ; smiling\n",
       "59   915.673279   a photo of a person in smiling happily |\n",
       "80  1379.007568       a photo of a person'- smiling eyes \"\n",
       "\n",
       "[90 rows x 2 columns]"
      ]
     },
     "metadata": {},
     "execution_count": 57
    }
   ],
   "metadata": {}
  },
  {
   "cell_type": "code",
   "execution_count": 3,
   "source": [
    "from domino.emb.clip import get_wiki_words\n",
    "#dp = get_wiki_words(top_k=25_000, eng_only=True).load()\n",
    "dp = get_wiki_words.out().load()"
   ],
   "outputs": [],
   "metadata": {}
  },
  {
   "cell_type": "code",
   "execution_count": 4,
   "source": [
    "from domino.emb.clip import generate_phrases\n",
    "from domino.data.celeba import PHRASE_TEMPLATES"
   ],
   "outputs": [],
   "metadata": {}
  },
  {
   "cell_type": "code",
   "execution_count": 5,
   "source": [
    "phrase_dp = generate_phrases(dp[100:300], templates=PHRASE_TEMPLATES)"
   ],
   "outputs": [
    {
     "output_type": "display_data",
     "data": {
      "application/vnd.jupyter.widget-view+json": {
       "version_major": 2,
       "version_minor": 0,
       "model_id": "b530a98b64ec4b57aaed6f84b8c58a8e"
      },
      "text/plain": [
       "HBox(children=(FloatProgress(value=0.0, description='Downloading', max=231508.0, style=ProgressStyle(descripti…"
      ]
     },
     "metadata": {}
    },
    {
     "output_type": "stream",
     "name": "stdout",
     "text": [
      "\n"
     ]
    },
    {
     "output_type": "display_data",
     "data": {
      "application/vnd.jupyter.widget-view+json": {
       "version_major": 2,
       "version_minor": 0,
       "model_id": "b552b7d31d144415808b7bc87f27a614"
      },
      "text/plain": [
       "HBox(children=(FloatProgress(value=0.0, description='Downloading', max=28.0, style=ProgressStyle(description_w…"
      ]
     },
     "metadata": {}
    },
    {
     "output_type": "stream",
     "name": "stdout",
     "text": [
      "\n"
     ]
    },
    {
     "output_type": "display_data",
     "data": {
      "application/vnd.jupyter.widget-view+json": {
       "version_major": 2,
       "version_minor": 0,
       "model_id": "396ce0cef8d9439bb4fa2ea1091aa9b5"
      },
      "text/plain": [
       "HBox(children=(FloatProgress(value=0.0, description='Downloading', max=466062.0, style=ProgressStyle(descripti…"
      ]
     },
     "metadata": {}
    },
    {
     "output_type": "stream",
     "name": "stdout",
     "text": [
      "\n"
     ]
    },
    {
     "output_type": "display_data",
     "data": {
      "application/vnd.jupyter.widget-view+json": {
       "version_major": 2,
       "version_minor": 0,
       "model_id": "cc99f9f9b5904ed8904b2a93fc2cd6fc"
      },
      "text/plain": [
       "HBox(children=(FloatProgress(value=0.0, description='Downloading', max=571.0, style=ProgressStyle(description_…"
      ]
     },
     "metadata": {}
    },
    {
     "output_type": "stream",
     "name": "stdout",
     "text": [
      "\n"
     ]
    },
    {
     "output_type": "display_data",
     "data": {
      "application/vnd.jupyter.widget-view+json": {
       "version_major": 2,
       "version_minor": 0,
       "model_id": "5595b2ed7e134cbea201d1a901c73c98"
      },
      "text/plain": [
       "HBox(children=(FloatProgress(value=0.0, description='Downloading', max=1344997306.0, style=ProgressStyle(descr…"
      ]
     },
     "metadata": {}
    },
    {
     "output_type": "stream",
     "name": "stdout",
     "text": [
      "\n"
     ]
    },
    {
     "output_type": "stream",
     "name": "stderr",
     "text": [
      "Some weights of the model checkpoint at bert-large-uncased were not used when initializing BertForMaskedLM: ['cls.seq_relationship.weight', 'cls.seq_relationship.bias']\n",
      "- This IS expected if you are initializing BertForMaskedLM from the checkpoint of a model trained on another task or with another architecture (e.g. initializing a BertForSequenceClassification model from a BertForPreTraining model).\n",
      "- This IS NOT expected if you are initializing BertForMaskedLM from the checkpoint of a model that you expect to be exactly identical (initializing a BertForSequenceClassification model from a BertForSequenceClassification model).\n"
     ]
    },
    {
     "output_type": "display_data",
     "data": {
      "application/vnd.jupyter.widget-view+json": {
       "version_major": 2,
       "version_minor": 0,
       "model_id": "c12351d397c1442b9a53873ebd340cfe"
      },
      "text/plain": [
       "HBox(children=(FloatProgress(value=0.0, max=2.0), HTML(value='')))"
      ]
     },
     "metadata": {}
    },
    {
     "output_type": "stream",
     "name": "stdout",
     "text": [
      "\n"
     ]
    },
    {
     "output_type": "error",
     "ename": "RuntimeError",
     "evalue": "CUDA out of memory. Tried to allocate 54.00 MiB (GPU 0; 14.76 GiB total capacity; 13.66 GiB already allocated; 5.75 MiB free; 13.72 GiB reserved in total by PyTorch)",
     "traceback": [
      "\u001b[0;31m---------------------------------------------------------------------------\u001b[0m",
      "\u001b[0;31mRuntimeError\u001b[0m                              Traceback (most recent call last)",
      "\u001b[0;32m/tmp/ipykernel_1969/2995374736.py\u001b[0m in \u001b[0;36m<module>\u001b[0;34m\u001b[0m\n\u001b[0;32m----> 1\u001b[0;31m \u001b[0mphrase_dp\u001b[0m \u001b[0;34m=\u001b[0m \u001b[0mgenerate_phrases\u001b[0m\u001b[0;34m(\u001b[0m\u001b[0mdp\u001b[0m\u001b[0;34m[\u001b[0m\u001b[0;36m100\u001b[0m\u001b[0;34m:\u001b[0m\u001b[0;36m300\u001b[0m\u001b[0;34m]\u001b[0m\u001b[0;34m,\u001b[0m \u001b[0mtemplates\u001b[0m\u001b[0;34m=\u001b[0m\u001b[0mPHRASE_TEMPLATES\u001b[0m\u001b[0;34m)\u001b[0m\u001b[0;34m\u001b[0m\u001b[0;34m\u001b[0m\u001b[0m\n\u001b[0m",
      "\u001b[0;32m/home/sabri/code/domino/domino/emb/clip.py\u001b[0m in \u001b[0;36mgenerate_phrases\u001b[0;34m(word_dp, templates, device)\u001b[0m\n\u001b[1;32m    190\u001b[0m         \u001b[0;32mreturn\u001b[0m \u001b[0;34m{\u001b[0m\u001b[0;34m\"prob\"\u001b[0m\u001b[0;34m:\u001b[0m \u001b[0mprobs\u001b[0m\u001b[0;34m,\u001b[0m \u001b[0;34m\"output_phrase\"\u001b[0m\u001b[0;34m:\u001b[0m \u001b[0moutput_phrases\u001b[0m\u001b[0;34m}\u001b[0m\u001b[0;34m\u001b[0m\u001b[0;34m\u001b[0m\u001b[0m\n\u001b[1;32m    191\u001b[0m \u001b[0;34m\u001b[0m\u001b[0m\n\u001b[0;32m--> 192\u001b[0;31m     \u001b[0;32mreturn\u001b[0m \u001b[0mword_dp\u001b[0m\u001b[0;34m[\u001b[0m\u001b[0;34m\"word\"\u001b[0m\u001b[0;34m]\u001b[0m\u001b[0;34m.\u001b[0m\u001b[0mmap\u001b[0m\u001b[0;34m(\u001b[0m\u001b[0m_forward\u001b[0m\u001b[0;34m,\u001b[0m \u001b[0mis_batched_fn\u001b[0m\u001b[0;34m=\u001b[0m\u001b[0;32mTrue\u001b[0m\u001b[0;34m,\u001b[0m \u001b[0mbatch_size\u001b[0m\u001b[0;34m=\u001b[0m\u001b[0;36m128\u001b[0m\u001b[0;34m,\u001b[0m \u001b[0mpbar\u001b[0m\u001b[0;34m=\u001b[0m\u001b[0;32mTrue\u001b[0m\u001b[0;34m)\u001b[0m\u001b[0;34m\u001b[0m\u001b[0;34m\u001b[0m\u001b[0m\n\u001b[0m",
      "\u001b[0;32m/home/sabri/code/meerkat/meerkat/provenance.py\u001b[0m in \u001b[0;36m_wrapper\u001b[0;34m(*args, **kwargs)\u001b[0m\n\u001b[1;32m    203\u001b[0m         \u001b[0;32mdef\u001b[0m \u001b[0m_wrapper\u001b[0m\u001b[0;34m(\u001b[0m\u001b[0;34m*\u001b[0m\u001b[0margs\u001b[0m\u001b[0;34m,\u001b[0m \u001b[0;34m**\u001b[0m\u001b[0mkwargs\u001b[0m\u001b[0;34m)\u001b[0m\u001b[0;34m:\u001b[0m\u001b[0;34m\u001b[0m\u001b[0;34m\u001b[0m\u001b[0m\n\u001b[1;32m    204\u001b[0m             \u001b[0;32mif\u001b[0m \u001b[0;32mnot\u001b[0m \u001b[0mis_provenance_enabled\u001b[0m\u001b[0;34m(\u001b[0m\u001b[0;34m)\u001b[0m\u001b[0;34m:\u001b[0m\u001b[0;34m\u001b[0m\u001b[0;34m\u001b[0m\u001b[0m\n\u001b[0;32m--> 205\u001b[0;31m                 \u001b[0;32mreturn\u001b[0m \u001b[0mfn\u001b[0m\u001b[0;34m(\u001b[0m\u001b[0;34m*\u001b[0m\u001b[0margs\u001b[0m\u001b[0;34m,\u001b[0m \u001b[0;34m**\u001b[0m\u001b[0mkwargs\u001b[0m\u001b[0;34m)\u001b[0m\u001b[0;34m\u001b[0m\u001b[0;34m\u001b[0m\u001b[0m\n\u001b[0m\u001b[1;32m    206\u001b[0m             \u001b[0margs_dict\u001b[0m \u001b[0;34m=\u001b[0m \u001b[0mgetcallargs\u001b[0m\u001b[0;34m(\u001b[0m\u001b[0mfn\u001b[0m\u001b[0;34m,\u001b[0m \u001b[0;34m*\u001b[0m\u001b[0margs\u001b[0m\u001b[0;34m,\u001b[0m \u001b[0;34m**\u001b[0m\u001b[0mkwargs\u001b[0m\u001b[0;34m)\u001b[0m\u001b[0;34m\u001b[0m\u001b[0;34m\u001b[0m\u001b[0m\n\u001b[1;32m    207\u001b[0m             \u001b[0;32mif\u001b[0m \u001b[0;34m\"kwargs\"\u001b[0m \u001b[0;32min\u001b[0m \u001b[0margs_dict\u001b[0m\u001b[0;34m:\u001b[0m\u001b[0;34m\u001b[0m\u001b[0;34m\u001b[0m\u001b[0m\n",
      "\u001b[0;32m/home/sabri/code/meerkat/meerkat/mixins/mapping.py\u001b[0m in \u001b[0;36mmap\u001b[0;34m(self, function, with_indices, is_batched_fn, batch_size, drop_last_batch, num_workers, output_type, materialize, pbar, mmap, mmap_path, flush_size, **kwargs)\u001b[0m\n\u001b[1;32m     73\u001b[0m             \u001b[0;32mif\u001b[0m \u001b[0mi\u001b[0m \u001b[0;34m==\u001b[0m \u001b[0;36m0\u001b[0m\u001b[0;34m:\u001b[0m\u001b[0;34m\u001b[0m\u001b[0;34m\u001b[0m\u001b[0m\n\u001b[1;32m     74\u001b[0m                 \u001b[0;31m# Get some information about the function\u001b[0m\u001b[0;34m\u001b[0m\u001b[0;34m\u001b[0m\u001b[0;34m\u001b[0m\u001b[0m\n\u001b[0;32m---> 75\u001b[0;31m                 function_properties = self._inspect_function(\n\u001b[0m\u001b[1;32m     76\u001b[0m                     \u001b[0mfunction\u001b[0m\u001b[0;34m,\u001b[0m\u001b[0;34m\u001b[0m\u001b[0;34m\u001b[0m\u001b[0m\n\u001b[1;32m     77\u001b[0m                     \u001b[0mwith_indices\u001b[0m\u001b[0;34m,\u001b[0m\u001b[0;34m\u001b[0m\u001b[0;34m\u001b[0m\u001b[0m\n",
      "\u001b[0;32m/home/sabri/code/meerkat/meerkat/mixins/inspect_fn.py\u001b[0m in \u001b[0;36m_inspect_function\u001b[0;34m(self, function, with_indices, is_batched_fn, data, indices, materialize, **kwargs)\u001b[0m\n\u001b[1;32m     50\u001b[0m             \u001b[0moutput\u001b[0m \u001b[0;34m=\u001b[0m \u001b[0mfunction\u001b[0m\u001b[0;34m(\u001b[0m\u001b[0mdata\u001b[0m\u001b[0;34m,\u001b[0m \u001b[0mindices\u001b[0m\u001b[0;34m,\u001b[0m \u001b[0;34m**\u001b[0m\u001b[0mkwargs\u001b[0m\u001b[0;34m)\u001b[0m\u001b[0;34m\u001b[0m\u001b[0;34m\u001b[0m\u001b[0m\n\u001b[1;32m     51\u001b[0m         \u001b[0;32melse\u001b[0m\u001b[0;34m:\u001b[0m\u001b[0;34m\u001b[0m\u001b[0;34m\u001b[0m\u001b[0m\n\u001b[0;32m---> 52\u001b[0;31m             \u001b[0moutput\u001b[0m \u001b[0;34m=\u001b[0m \u001b[0mfunction\u001b[0m\u001b[0;34m(\u001b[0m\u001b[0mdata\u001b[0m\u001b[0;34m,\u001b[0m \u001b[0;34m**\u001b[0m\u001b[0mkwargs\u001b[0m\u001b[0;34m)\u001b[0m\u001b[0;34m\u001b[0m\u001b[0;34m\u001b[0m\u001b[0m\n\u001b[0m\u001b[1;32m     53\u001b[0m \u001b[0;34m\u001b[0m\u001b[0m\n\u001b[1;32m     54\u001b[0m         \u001b[0;31m# lazy import to avoid circular dependency\u001b[0m\u001b[0;34m\u001b[0m\u001b[0;34m\u001b[0m\u001b[0;34m\u001b[0m\u001b[0m\n",
      "\u001b[0;32m/home/sabri/code/domino/domino/emb/clip.py\u001b[0m in \u001b[0;36m_forward\u001b[0;34m(words)\u001b[0m\n\u001b[1;32m    172\u001b[0m         \u001b[0minputs\u001b[0m \u001b[0;34m=\u001b[0m \u001b[0mtokenizer\u001b[0m\u001b[0;34m(\u001b[0m\u001b[0minput_phrases\u001b[0m\u001b[0;34m,\u001b[0m \u001b[0mreturn_tensors\u001b[0m\u001b[0;34m=\u001b[0m\u001b[0;34m\"pt\"\u001b[0m\u001b[0;34m,\u001b[0m \u001b[0mpadding\u001b[0m\u001b[0;34m=\u001b[0m\u001b[0;32mTrue\u001b[0m\u001b[0;34m)\u001b[0m\u001b[0;34m.\u001b[0m\u001b[0mto\u001b[0m\u001b[0;34m(\u001b[0m\u001b[0mdevice\u001b[0m\u001b[0;34m)\u001b[0m\u001b[0;34m\u001b[0m\u001b[0;34m\u001b[0m\u001b[0m\n\u001b[1;32m    173\u001b[0m         \u001b[0minput_ids\u001b[0m \u001b[0;34m=\u001b[0m \u001b[0minputs\u001b[0m\u001b[0;34m[\u001b[0m\u001b[0;34m\"input_ids\"\u001b[0m\u001b[0;34m]\u001b[0m\u001b[0;34m\u001b[0m\u001b[0;34m\u001b[0m\u001b[0m\n\u001b[0;32m--> 174\u001b[0;31m         \u001b[0moutputs\u001b[0m \u001b[0;34m=\u001b[0m \u001b[0mmodel\u001b[0m\u001b[0;34m(\u001b[0m\u001b[0;34m**\u001b[0m\u001b[0minputs\u001b[0m\u001b[0;34m)\u001b[0m\u001b[0;34m\u001b[0m\u001b[0;34m\u001b[0m\u001b[0m\n\u001b[0m\u001b[1;32m    175\u001b[0m         \u001b[0msorted_preds\u001b[0m\u001b[0;34m,\u001b[0m \u001b[0msorted_ids\u001b[0m \u001b[0;34m=\u001b[0m \u001b[0moutputs\u001b[0m\u001b[0;34m.\u001b[0m\u001b[0mlogits\u001b[0m\u001b[0;34m.\u001b[0m\u001b[0msort\u001b[0m\u001b[0;34m(\u001b[0m\u001b[0mdim\u001b[0m\u001b[0;34m=\u001b[0m\u001b[0;34m-\u001b[0m\u001b[0;36m1\u001b[0m\u001b[0;34m,\u001b[0m \u001b[0mdescending\u001b[0m\u001b[0;34m=\u001b[0m\u001b[0;32mTrue\u001b[0m\u001b[0;34m)\u001b[0m\u001b[0;34m\u001b[0m\u001b[0;34m\u001b[0m\u001b[0m\n\u001b[1;32m    176\u001b[0m \u001b[0;34m\u001b[0m\u001b[0m\n",
      "\u001b[0;32m/home/common/envs/conda/envs/domino/lib/python3.8/site-packages/torch/nn/modules/module.py\u001b[0m in \u001b[0;36m_call_impl\u001b[0;34m(self, *input, **kwargs)\u001b[0m\n\u001b[1;32m    887\u001b[0m             \u001b[0mresult\u001b[0m \u001b[0;34m=\u001b[0m \u001b[0mself\u001b[0m\u001b[0;34m.\u001b[0m\u001b[0m_slow_forward\u001b[0m\u001b[0;34m(\u001b[0m\u001b[0;34m*\u001b[0m\u001b[0minput\u001b[0m\u001b[0;34m,\u001b[0m \u001b[0;34m**\u001b[0m\u001b[0mkwargs\u001b[0m\u001b[0;34m)\u001b[0m\u001b[0;34m\u001b[0m\u001b[0;34m\u001b[0m\u001b[0m\n\u001b[1;32m    888\u001b[0m         \u001b[0;32melse\u001b[0m\u001b[0;34m:\u001b[0m\u001b[0;34m\u001b[0m\u001b[0;34m\u001b[0m\u001b[0m\n\u001b[0;32m--> 889\u001b[0;31m             \u001b[0mresult\u001b[0m \u001b[0;34m=\u001b[0m \u001b[0mself\u001b[0m\u001b[0;34m.\u001b[0m\u001b[0mforward\u001b[0m\u001b[0;34m(\u001b[0m\u001b[0;34m*\u001b[0m\u001b[0minput\u001b[0m\u001b[0;34m,\u001b[0m \u001b[0;34m**\u001b[0m\u001b[0mkwargs\u001b[0m\u001b[0;34m)\u001b[0m\u001b[0;34m\u001b[0m\u001b[0;34m\u001b[0m\u001b[0m\n\u001b[0m\u001b[1;32m    890\u001b[0m         for hook in itertools.chain(\n\u001b[1;32m    891\u001b[0m                 \u001b[0m_global_forward_hooks\u001b[0m\u001b[0;34m.\u001b[0m\u001b[0mvalues\u001b[0m\u001b[0;34m(\u001b[0m\u001b[0;34m)\u001b[0m\u001b[0;34m,\u001b[0m\u001b[0;34m\u001b[0m\u001b[0;34m\u001b[0m\u001b[0m\n",
      "\u001b[0;32m/home/common/envs/conda/envs/domino/lib/python3.8/site-packages/transformers/models/bert/modeling_bert.py\u001b[0m in \u001b[0;36mforward\u001b[0;34m(self, input_ids, attention_mask, token_type_ids, position_ids, head_mask, inputs_embeds, encoder_hidden_states, encoder_attention_mask, labels, output_attentions, output_hidden_states, return_dict)\u001b[0m\n\u001b[1;32m   1307\u001b[0m         \u001b[0mreturn_dict\u001b[0m \u001b[0;34m=\u001b[0m \u001b[0mreturn_dict\u001b[0m \u001b[0;32mif\u001b[0m \u001b[0mreturn_dict\u001b[0m \u001b[0;32mis\u001b[0m \u001b[0;32mnot\u001b[0m \u001b[0;32mNone\u001b[0m \u001b[0;32melse\u001b[0m \u001b[0mself\u001b[0m\u001b[0;34m.\u001b[0m\u001b[0mconfig\u001b[0m\u001b[0;34m.\u001b[0m\u001b[0muse_return_dict\u001b[0m\u001b[0;34m\u001b[0m\u001b[0;34m\u001b[0m\u001b[0m\n\u001b[1;32m   1308\u001b[0m \u001b[0;34m\u001b[0m\u001b[0m\n\u001b[0;32m-> 1309\u001b[0;31m         outputs = self.bert(\n\u001b[0m\u001b[1;32m   1310\u001b[0m             \u001b[0minput_ids\u001b[0m\u001b[0;34m,\u001b[0m\u001b[0;34m\u001b[0m\u001b[0;34m\u001b[0m\u001b[0m\n\u001b[1;32m   1311\u001b[0m             \u001b[0mattention_mask\u001b[0m\u001b[0;34m=\u001b[0m\u001b[0mattention_mask\u001b[0m\u001b[0;34m,\u001b[0m\u001b[0;34m\u001b[0m\u001b[0;34m\u001b[0m\u001b[0m\n",
      "\u001b[0;32m/home/common/envs/conda/envs/domino/lib/python3.8/site-packages/torch/nn/modules/module.py\u001b[0m in \u001b[0;36m_call_impl\u001b[0;34m(self, *input, **kwargs)\u001b[0m\n\u001b[1;32m    887\u001b[0m             \u001b[0mresult\u001b[0m \u001b[0;34m=\u001b[0m \u001b[0mself\u001b[0m\u001b[0;34m.\u001b[0m\u001b[0m_slow_forward\u001b[0m\u001b[0;34m(\u001b[0m\u001b[0;34m*\u001b[0m\u001b[0minput\u001b[0m\u001b[0;34m,\u001b[0m \u001b[0;34m**\u001b[0m\u001b[0mkwargs\u001b[0m\u001b[0;34m)\u001b[0m\u001b[0;34m\u001b[0m\u001b[0;34m\u001b[0m\u001b[0m\n\u001b[1;32m    888\u001b[0m         \u001b[0;32melse\u001b[0m\u001b[0;34m:\u001b[0m\u001b[0;34m\u001b[0m\u001b[0;34m\u001b[0m\u001b[0m\n\u001b[0;32m--> 889\u001b[0;31m             \u001b[0mresult\u001b[0m \u001b[0;34m=\u001b[0m \u001b[0mself\u001b[0m\u001b[0;34m.\u001b[0m\u001b[0mforward\u001b[0m\u001b[0;34m(\u001b[0m\u001b[0;34m*\u001b[0m\u001b[0minput\u001b[0m\u001b[0;34m,\u001b[0m \u001b[0;34m**\u001b[0m\u001b[0mkwargs\u001b[0m\u001b[0;34m)\u001b[0m\u001b[0;34m\u001b[0m\u001b[0;34m\u001b[0m\u001b[0m\n\u001b[0m\u001b[1;32m    890\u001b[0m         for hook in itertools.chain(\n\u001b[1;32m    891\u001b[0m                 \u001b[0m_global_forward_hooks\u001b[0m\u001b[0;34m.\u001b[0m\u001b[0mvalues\u001b[0m\u001b[0;34m(\u001b[0m\u001b[0;34m)\u001b[0m\u001b[0;34m,\u001b[0m\u001b[0;34m\u001b[0m\u001b[0;34m\u001b[0m\u001b[0m\n",
      "\u001b[0;32m/home/common/envs/conda/envs/domino/lib/python3.8/site-packages/transformers/models/bert/modeling_bert.py\u001b[0m in \u001b[0;36mforward\u001b[0;34m(self, input_ids, attention_mask, token_type_ids, position_ids, head_mask, inputs_embeds, encoder_hidden_states, encoder_attention_mask, past_key_values, use_cache, output_attentions, output_hidden_states, return_dict)\u001b[0m\n\u001b[1;32m    969\u001b[0m             \u001b[0mpast_key_values_length\u001b[0m\u001b[0;34m=\u001b[0m\u001b[0mpast_key_values_length\u001b[0m\u001b[0;34m,\u001b[0m\u001b[0;34m\u001b[0m\u001b[0;34m\u001b[0m\u001b[0m\n\u001b[1;32m    970\u001b[0m         )\n\u001b[0;32m--> 971\u001b[0;31m         encoder_outputs = self.encoder(\n\u001b[0m\u001b[1;32m    972\u001b[0m             \u001b[0membedding_output\u001b[0m\u001b[0;34m,\u001b[0m\u001b[0;34m\u001b[0m\u001b[0;34m\u001b[0m\u001b[0m\n\u001b[1;32m    973\u001b[0m             \u001b[0mattention_mask\u001b[0m\u001b[0;34m=\u001b[0m\u001b[0mextended_attention_mask\u001b[0m\u001b[0;34m,\u001b[0m\u001b[0;34m\u001b[0m\u001b[0;34m\u001b[0m\u001b[0m\n",
      "\u001b[0;32m/home/common/envs/conda/envs/domino/lib/python3.8/site-packages/torch/nn/modules/module.py\u001b[0m in \u001b[0;36m_call_impl\u001b[0;34m(self, *input, **kwargs)\u001b[0m\n\u001b[1;32m    887\u001b[0m             \u001b[0mresult\u001b[0m \u001b[0;34m=\u001b[0m \u001b[0mself\u001b[0m\u001b[0;34m.\u001b[0m\u001b[0m_slow_forward\u001b[0m\u001b[0;34m(\u001b[0m\u001b[0;34m*\u001b[0m\u001b[0minput\u001b[0m\u001b[0;34m,\u001b[0m \u001b[0;34m**\u001b[0m\u001b[0mkwargs\u001b[0m\u001b[0;34m)\u001b[0m\u001b[0;34m\u001b[0m\u001b[0;34m\u001b[0m\u001b[0m\n\u001b[1;32m    888\u001b[0m         \u001b[0;32melse\u001b[0m\u001b[0;34m:\u001b[0m\u001b[0;34m\u001b[0m\u001b[0;34m\u001b[0m\u001b[0m\n\u001b[0;32m--> 889\u001b[0;31m             \u001b[0mresult\u001b[0m \u001b[0;34m=\u001b[0m \u001b[0mself\u001b[0m\u001b[0;34m.\u001b[0m\u001b[0mforward\u001b[0m\u001b[0;34m(\u001b[0m\u001b[0;34m*\u001b[0m\u001b[0minput\u001b[0m\u001b[0;34m,\u001b[0m \u001b[0;34m**\u001b[0m\u001b[0mkwargs\u001b[0m\u001b[0;34m)\u001b[0m\u001b[0;34m\u001b[0m\u001b[0;34m\u001b[0m\u001b[0m\n\u001b[0m\u001b[1;32m    890\u001b[0m         for hook in itertools.chain(\n\u001b[1;32m    891\u001b[0m                 \u001b[0m_global_forward_hooks\u001b[0m\u001b[0;34m.\u001b[0m\u001b[0mvalues\u001b[0m\u001b[0;34m(\u001b[0m\u001b[0;34m)\u001b[0m\u001b[0;34m,\u001b[0m\u001b[0;34m\u001b[0m\u001b[0;34m\u001b[0m\u001b[0m\n",
      "\u001b[0;32m/home/common/envs/conda/envs/domino/lib/python3.8/site-packages/transformers/models/bert/modeling_bert.py\u001b[0m in \u001b[0;36mforward\u001b[0;34m(self, hidden_states, attention_mask, head_mask, encoder_hidden_states, encoder_attention_mask, past_key_values, use_cache, output_attentions, output_hidden_states, return_dict)\u001b[0m\n\u001b[1;32m    566\u001b[0m                 )\n\u001b[1;32m    567\u001b[0m             \u001b[0;32melse\u001b[0m\u001b[0;34m:\u001b[0m\u001b[0;34m\u001b[0m\u001b[0;34m\u001b[0m\u001b[0m\n\u001b[0;32m--> 568\u001b[0;31m                 layer_outputs = layer_module(\n\u001b[0m\u001b[1;32m    569\u001b[0m                     \u001b[0mhidden_states\u001b[0m\u001b[0;34m,\u001b[0m\u001b[0;34m\u001b[0m\u001b[0;34m\u001b[0m\u001b[0m\n\u001b[1;32m    570\u001b[0m                     \u001b[0mattention_mask\u001b[0m\u001b[0;34m,\u001b[0m\u001b[0;34m\u001b[0m\u001b[0;34m\u001b[0m\u001b[0m\n",
      "\u001b[0;32m/home/common/envs/conda/envs/domino/lib/python3.8/site-packages/torch/nn/modules/module.py\u001b[0m in \u001b[0;36m_call_impl\u001b[0;34m(self, *input, **kwargs)\u001b[0m\n\u001b[1;32m    887\u001b[0m             \u001b[0mresult\u001b[0m \u001b[0;34m=\u001b[0m \u001b[0mself\u001b[0m\u001b[0;34m.\u001b[0m\u001b[0m_slow_forward\u001b[0m\u001b[0;34m(\u001b[0m\u001b[0;34m*\u001b[0m\u001b[0minput\u001b[0m\u001b[0;34m,\u001b[0m \u001b[0;34m**\u001b[0m\u001b[0mkwargs\u001b[0m\u001b[0;34m)\u001b[0m\u001b[0;34m\u001b[0m\u001b[0;34m\u001b[0m\u001b[0m\n\u001b[1;32m    888\u001b[0m         \u001b[0;32melse\u001b[0m\u001b[0;34m:\u001b[0m\u001b[0;34m\u001b[0m\u001b[0;34m\u001b[0m\u001b[0m\n\u001b[0;32m--> 889\u001b[0;31m             \u001b[0mresult\u001b[0m \u001b[0;34m=\u001b[0m \u001b[0mself\u001b[0m\u001b[0;34m.\u001b[0m\u001b[0mforward\u001b[0m\u001b[0;34m(\u001b[0m\u001b[0;34m*\u001b[0m\u001b[0minput\u001b[0m\u001b[0;34m,\u001b[0m \u001b[0;34m**\u001b[0m\u001b[0mkwargs\u001b[0m\u001b[0;34m)\u001b[0m\u001b[0;34m\u001b[0m\u001b[0;34m\u001b[0m\u001b[0m\n\u001b[0m\u001b[1;32m    890\u001b[0m         for hook in itertools.chain(\n\u001b[1;32m    891\u001b[0m                 \u001b[0m_global_forward_hooks\u001b[0m\u001b[0;34m.\u001b[0m\u001b[0mvalues\u001b[0m\u001b[0;34m(\u001b[0m\u001b[0;34m)\u001b[0m\u001b[0;34m,\u001b[0m\u001b[0;34m\u001b[0m\u001b[0;34m\u001b[0m\u001b[0m\n",
      "\u001b[0;32m/home/common/envs/conda/envs/domino/lib/python3.8/site-packages/transformers/models/bert/modeling_bert.py\u001b[0m in \u001b[0;36mforward\u001b[0;34m(self, hidden_states, attention_mask, head_mask, encoder_hidden_states, encoder_attention_mask, past_key_value, output_attentions)\u001b[0m\n\u001b[1;32m    454\u001b[0m         \u001b[0;31m# decoder uni-directional self-attention cached key/values tuple is at positions 1,2\u001b[0m\u001b[0;34m\u001b[0m\u001b[0;34m\u001b[0m\u001b[0;34m\u001b[0m\u001b[0m\n\u001b[1;32m    455\u001b[0m         \u001b[0mself_attn_past_key_value\u001b[0m \u001b[0;34m=\u001b[0m \u001b[0mpast_key_value\u001b[0m\u001b[0;34m[\u001b[0m\u001b[0;34m:\u001b[0m\u001b[0;36m2\u001b[0m\u001b[0;34m]\u001b[0m \u001b[0;32mif\u001b[0m \u001b[0mpast_key_value\u001b[0m \u001b[0;32mis\u001b[0m \u001b[0;32mnot\u001b[0m \u001b[0;32mNone\u001b[0m \u001b[0;32melse\u001b[0m \u001b[0;32mNone\u001b[0m\u001b[0;34m\u001b[0m\u001b[0;34m\u001b[0m\u001b[0m\n\u001b[0;32m--> 456\u001b[0;31m         self_attention_outputs = self.attention(\n\u001b[0m\u001b[1;32m    457\u001b[0m             \u001b[0mhidden_states\u001b[0m\u001b[0;34m,\u001b[0m\u001b[0;34m\u001b[0m\u001b[0;34m\u001b[0m\u001b[0m\n\u001b[1;32m    458\u001b[0m             \u001b[0mattention_mask\u001b[0m\u001b[0;34m,\u001b[0m\u001b[0;34m\u001b[0m\u001b[0;34m\u001b[0m\u001b[0m\n",
      "\u001b[0;32m/home/common/envs/conda/envs/domino/lib/python3.8/site-packages/torch/nn/modules/module.py\u001b[0m in \u001b[0;36m_call_impl\u001b[0;34m(self, *input, **kwargs)\u001b[0m\n\u001b[1;32m    887\u001b[0m             \u001b[0mresult\u001b[0m \u001b[0;34m=\u001b[0m \u001b[0mself\u001b[0m\u001b[0;34m.\u001b[0m\u001b[0m_slow_forward\u001b[0m\u001b[0;34m(\u001b[0m\u001b[0;34m*\u001b[0m\u001b[0minput\u001b[0m\u001b[0;34m,\u001b[0m \u001b[0;34m**\u001b[0m\u001b[0mkwargs\u001b[0m\u001b[0;34m)\u001b[0m\u001b[0;34m\u001b[0m\u001b[0;34m\u001b[0m\u001b[0m\n\u001b[1;32m    888\u001b[0m         \u001b[0;32melse\u001b[0m\u001b[0;34m:\u001b[0m\u001b[0;34m\u001b[0m\u001b[0;34m\u001b[0m\u001b[0m\n\u001b[0;32m--> 889\u001b[0;31m             \u001b[0mresult\u001b[0m \u001b[0;34m=\u001b[0m \u001b[0mself\u001b[0m\u001b[0;34m.\u001b[0m\u001b[0mforward\u001b[0m\u001b[0;34m(\u001b[0m\u001b[0;34m*\u001b[0m\u001b[0minput\u001b[0m\u001b[0;34m,\u001b[0m \u001b[0;34m**\u001b[0m\u001b[0mkwargs\u001b[0m\u001b[0;34m)\u001b[0m\u001b[0;34m\u001b[0m\u001b[0;34m\u001b[0m\u001b[0m\n\u001b[0m\u001b[1;32m    890\u001b[0m         for hook in itertools.chain(\n\u001b[1;32m    891\u001b[0m                 \u001b[0m_global_forward_hooks\u001b[0m\u001b[0;34m.\u001b[0m\u001b[0mvalues\u001b[0m\u001b[0;34m(\u001b[0m\u001b[0;34m)\u001b[0m\u001b[0;34m,\u001b[0m\u001b[0;34m\u001b[0m\u001b[0;34m\u001b[0m\u001b[0m\n",
      "\u001b[0;32m/home/common/envs/conda/envs/domino/lib/python3.8/site-packages/transformers/models/bert/modeling_bert.py\u001b[0m in \u001b[0;36mforward\u001b[0;34m(self, hidden_states, attention_mask, head_mask, encoder_hidden_states, encoder_attention_mask, past_key_value, output_attentions)\u001b[0m\n\u001b[1;32m    385\u001b[0m         \u001b[0moutput_attentions\u001b[0m\u001b[0;34m=\u001b[0m\u001b[0;32mFalse\u001b[0m\u001b[0;34m,\u001b[0m\u001b[0;34m\u001b[0m\u001b[0;34m\u001b[0m\u001b[0m\n\u001b[1;32m    386\u001b[0m     ):\n\u001b[0;32m--> 387\u001b[0;31m         self_outputs = self.self(\n\u001b[0m\u001b[1;32m    388\u001b[0m             \u001b[0mhidden_states\u001b[0m\u001b[0;34m,\u001b[0m\u001b[0;34m\u001b[0m\u001b[0;34m\u001b[0m\u001b[0m\n\u001b[1;32m    389\u001b[0m             \u001b[0mattention_mask\u001b[0m\u001b[0;34m,\u001b[0m\u001b[0;34m\u001b[0m\u001b[0;34m\u001b[0m\u001b[0m\n",
      "\u001b[0;32m/home/common/envs/conda/envs/domino/lib/python3.8/site-packages/torch/nn/modules/module.py\u001b[0m in \u001b[0;36m_call_impl\u001b[0;34m(self, *input, **kwargs)\u001b[0m\n\u001b[1;32m    887\u001b[0m             \u001b[0mresult\u001b[0m \u001b[0;34m=\u001b[0m \u001b[0mself\u001b[0m\u001b[0;34m.\u001b[0m\u001b[0m_slow_forward\u001b[0m\u001b[0;34m(\u001b[0m\u001b[0;34m*\u001b[0m\u001b[0minput\u001b[0m\u001b[0;34m,\u001b[0m \u001b[0;34m**\u001b[0m\u001b[0mkwargs\u001b[0m\u001b[0;34m)\u001b[0m\u001b[0;34m\u001b[0m\u001b[0;34m\u001b[0m\u001b[0m\n\u001b[1;32m    888\u001b[0m         \u001b[0;32melse\u001b[0m\u001b[0;34m:\u001b[0m\u001b[0;34m\u001b[0m\u001b[0;34m\u001b[0m\u001b[0m\n\u001b[0;32m--> 889\u001b[0;31m             \u001b[0mresult\u001b[0m \u001b[0;34m=\u001b[0m \u001b[0mself\u001b[0m\u001b[0;34m.\u001b[0m\u001b[0mforward\u001b[0m\u001b[0;34m(\u001b[0m\u001b[0;34m*\u001b[0m\u001b[0minput\u001b[0m\u001b[0;34m,\u001b[0m \u001b[0;34m**\u001b[0m\u001b[0mkwargs\u001b[0m\u001b[0;34m)\u001b[0m\u001b[0;34m\u001b[0m\u001b[0;34m\u001b[0m\u001b[0m\n\u001b[0m\u001b[1;32m    890\u001b[0m         for hook in itertools.chain(\n\u001b[1;32m    891\u001b[0m                 \u001b[0m_global_forward_hooks\u001b[0m\u001b[0;34m.\u001b[0m\u001b[0mvalues\u001b[0m\u001b[0;34m(\u001b[0m\u001b[0;34m)\u001b[0m\u001b[0;34m,\u001b[0m\u001b[0;34m\u001b[0m\u001b[0;34m\u001b[0m\u001b[0m\n",
      "\u001b[0;32m/home/common/envs/conda/envs/domino/lib/python3.8/site-packages/transformers/models/bert/modeling_bert.py\u001b[0m in \u001b[0;36mforward\u001b[0;34m(self, hidden_states, attention_mask, head_mask, encoder_hidden_states, encoder_attention_mask, past_key_value, output_attentions)\u001b[0m\n\u001b[1;32m    289\u001b[0m \u001b[0;34m\u001b[0m\u001b[0m\n\u001b[1;32m    290\u001b[0m         \u001b[0;31m# Take the dot product between \"query\" and \"key\" to get the raw attention scores.\u001b[0m\u001b[0;34m\u001b[0m\u001b[0;34m\u001b[0m\u001b[0;34m\u001b[0m\u001b[0m\n\u001b[0;32m--> 291\u001b[0;31m         \u001b[0mattention_scores\u001b[0m \u001b[0;34m=\u001b[0m \u001b[0mtorch\u001b[0m\u001b[0;34m.\u001b[0m\u001b[0mmatmul\u001b[0m\u001b[0;34m(\u001b[0m\u001b[0mquery_layer\u001b[0m\u001b[0;34m,\u001b[0m \u001b[0mkey_layer\u001b[0m\u001b[0;34m.\u001b[0m\u001b[0mtranspose\u001b[0m\u001b[0;34m(\u001b[0m\u001b[0;34m-\u001b[0m\u001b[0;36m1\u001b[0m\u001b[0;34m,\u001b[0m \u001b[0;34m-\u001b[0m\u001b[0;36m2\u001b[0m\u001b[0;34m)\u001b[0m\u001b[0;34m)\u001b[0m\u001b[0;34m\u001b[0m\u001b[0;34m\u001b[0m\u001b[0m\n\u001b[0m\u001b[1;32m    292\u001b[0m \u001b[0;34m\u001b[0m\u001b[0m\n\u001b[1;32m    293\u001b[0m         \u001b[0;32mif\u001b[0m \u001b[0mself\u001b[0m\u001b[0;34m.\u001b[0m\u001b[0mposition_embedding_type\u001b[0m \u001b[0;34m==\u001b[0m \u001b[0;34m\"relative_key\"\u001b[0m \u001b[0;32mor\u001b[0m \u001b[0mself\u001b[0m\u001b[0;34m.\u001b[0m\u001b[0mposition_embedding_type\u001b[0m \u001b[0;34m==\u001b[0m \u001b[0;34m\"relative_key_query\"\u001b[0m\u001b[0;34m:\u001b[0m\u001b[0;34m\u001b[0m\u001b[0;34m\u001b[0m\u001b[0m\n",
      "\u001b[0;31mRuntimeError\u001b[0m: CUDA out of memory. Tried to allocate 54.00 MiB (GPU 0; 14.76 GiB total capacity; 13.66 GiB already allocated; 5.75 MiB free; 13.72 GiB reserved in total by PyTorch)"
     ]
    }
   ],
   "metadata": {}
  },
  {
   "cell_type": "code",
   "execution_count": 96,
   "source": [
    "phrase_dp.to_pandas().sort_values(\"prob\").iloc[-15:]"
   ],
   "outputs": [
    {
     "output_type": "execute_result",
     "data": {
      "text/html": [
       "<div>\n",
       "<style scoped>\n",
       "    .dataframe tbody tr th:only-of-type {\n",
       "        vertical-align: middle;\n",
       "    }\n",
       "\n",
       "    .dataframe tbody tr th {\n",
       "        vertical-align: top;\n",
       "    }\n",
       "\n",
       "    .dataframe thead th {\n",
       "        text-align: right;\n",
       "    }\n",
       "</style>\n",
       "<table border=\"1\" class=\"dataframe\">\n",
       "  <thead>\n",
       "    <tr style=\"text-align: right;\">\n",
       "      <th></th>\n",
       "      <th>prob</th>\n",
       "      <th>output_phrase</th>\n",
       "      <th>index</th>\n",
       "    </tr>\n",
       "  </thead>\n",
       "  <tbody>\n",
       "    <tr>\n",
       "      <th>49</th>\n",
       "      <td>19.365196</td>\n",
       "      <td>a photo of a person at work.</td>\n",
       "      <td>49</td>\n",
       "    </tr>\n",
       "    <tr>\n",
       "      <th>10</th>\n",
       "      <td>19.511856</td>\n",
       "      <td>a photo of a person until.</td>\n",
       "      <td>10</td>\n",
       "    </tr>\n",
       "    <tr>\n",
       "      <th>45</th>\n",
       "      <td>19.523741</td>\n",
       "      <td>a photo of a person work</td>\n",
       "      <td>45</td>\n",
       "    </tr>\n",
       "    <tr>\n",
       "      <th>64</th>\n",
       "      <td>19.532944</td>\n",
       "      <td>a photo of a person following.</td>\n",
       "      <td>64</td>\n",
       "    </tr>\n",
       "    <tr>\n",
       "      <th>85</th>\n",
       "      <td>19.544060</td>\n",
       "      <td>a photo of a person or people.</td>\n",
       "      <td>85</td>\n",
       "    </tr>\n",
       "    <tr>\n",
       "      <th>81</th>\n",
       "      <td>19.562103</td>\n",
       "      <td>a photo of a person people</td>\n",
       "      <td>81</td>\n",
       "    </tr>\n",
       "    <tr>\n",
       "      <th>63</th>\n",
       "      <td>19.627256</td>\n",
       "      <td>a photo of a person following</td>\n",
       "      <td>63</td>\n",
       "    </tr>\n",
       "    <tr>\n",
       "      <th>55</th>\n",
       "      <td>19.633055</td>\n",
       "      <td>a photo of a person life.</td>\n",
       "      <td>55</td>\n",
       "    </tr>\n",
       "    <tr>\n",
       "      <th>65</th>\n",
       "      <td>19.857872</td>\n",
       "      <td>a photo of a person following her ;</td>\n",
       "      <td>65</td>\n",
       "    </tr>\n",
       "    <tr>\n",
       "      <th>28</th>\n",
       "      <td>20.410408</td>\n",
       "      <td>a photo of a person since.</td>\n",
       "      <td>28</td>\n",
       "    </tr>\n",
       "    <tr>\n",
       "      <th>27</th>\n",
       "      <td>20.460211</td>\n",
       "      <td>a photo of a person since</td>\n",
       "      <td>27</td>\n",
       "    </tr>\n",
       "    <tr>\n",
       "      <th>4</th>\n",
       "      <td>20.644299</td>\n",
       "      <td>a photo of a person or family.</td>\n",
       "      <td>4</td>\n",
       "    </tr>\n",
       "    <tr>\n",
       "      <th>36</th>\n",
       "      <td>20.953772</td>\n",
       "      <td>a photo of a person them</td>\n",
       "      <td>36</td>\n",
       "    </tr>\n",
       "    <tr>\n",
       "      <th>18</th>\n",
       "      <td>21.343624</td>\n",
       "      <td>a photo of a person well</td>\n",
       "      <td>18</td>\n",
       "    </tr>\n",
       "    <tr>\n",
       "      <th>9</th>\n",
       "      <td>22.225666</td>\n",
       "      <td>a photo of a person until</td>\n",
       "      <td>9</td>\n",
       "    </tr>\n",
       "  </tbody>\n",
       "</table>\n",
       "</div>"
      ],
      "text/plain": [
       "         prob                        output_phrase index\n",
       "49  19.365196         a photo of a person at work.    49\n",
       "10  19.511856           a photo of a person until.    10\n",
       "45  19.523741             a photo of a person work    45\n",
       "64  19.532944       a photo of a person following.    64\n",
       "85  19.544060       a photo of a person or people.    85\n",
       "81  19.562103           a photo of a person people    81\n",
       "63  19.627256        a photo of a person following    63\n",
       "55  19.633055            a photo of a person life.    55\n",
       "65  19.857872  a photo of a person following her ;    65\n",
       "28  20.410408           a photo of a person since.    28\n",
       "27  20.460211            a photo of a person since    27\n",
       "4   20.644299       a photo of a person or family.     4\n",
       "36  20.953772             a photo of a person them    36\n",
       "18  21.343624             a photo of a person well    18\n",
       "9   22.225666            a photo of a person until     9"
      ]
     },
     "metadata": {},
     "execution_count": 96
    }
   ],
   "metadata": {}
  },
  {
   "cell_type": "code",
   "execution_count": 60,
   "source": [
    "\"hello world\".replace(\"world\", \"akjf\")"
   ],
   "outputs": [
    {
     "output_type": "execute_result",
     "data": {
      "text/plain": [
       "'hello akjf'"
      ]
     },
     "metadata": {},
     "execution_count": 60
    }
   ],
   "metadata": {}
  },
  {
   "cell_type": "code",
   "execution_count": null,
   "source": [],
   "outputs": [],
   "metadata": {}
  }
 ],
 "metadata": {
  "orig_nbformat": 4,
  "language_info": {
   "name": "python",
   "version": "3.8.10",
   "mimetype": "text/x-python",
   "codemirror_mode": {
    "name": "ipython",
    "version": 3
   },
   "pygments_lexer": "ipython3",
   "nbconvert_exporter": "python",
   "file_extension": ".py"
  },
  "kernelspec": {
   "name": "python3",
   "display_name": "Python 3.8.10 64-bit ('domino': conda)"
  },
  "interpreter": {
   "hash": "0d937a63d09daec3f9548a5c769ccb20edb9c2c1ae2375686b21850f577713d2"
  }
 },
 "nbformat": 4,
 "nbformat_minor": 2
}