{
 "cells": [
  {
   "cell_type": "code",
   "execution_count": 67,
   "source": [
    "%load_ext autoreload\n",
    "%autoreload 2\n"
   ],
   "outputs": [
    {
     "output_type": "stream",
     "name": "stdout",
     "text": [
      "The autoreload extension is already loaded. To reload it, use:\n",
      "  %reload_ext autoreload\n"
     ]
    }
   ],
   "metadata": {}
  },
  {
   "cell_type": "code",
   "execution_count": 68,
   "source": [
    "from domino.slices import collect_settings\n",
    "from domino.slices.celeba import CelebASliceBuilder\n",
    "from domino.evaluate import run_sdm, score_sdms, run_sdms\n",
    "from domino.train import train_settings\n",
    "import numpy as np\n",
    "import terra\n",
    "import seaborn as sns\n",
    "from domino.emb.clip import embed_phrases"
   ],
   "outputs": [],
   "metadata": {}
  },
  {
   "cell_type": "code",
   "execution_count": 92,
   "source": [
    "score_sdms.inp()[\"setting_dp\"].load()[\"slice\"].nunique()"
   ],
   "outputs": [
    {
     "output_type": "execute_result",
     "data": {
      "text/plain": [
       "16"
      ]
     },
     "metadata": {},
     "execution_count": 92
    }
   ],
   "metadata": {}
  },
  {
   "cell_type": "code",
   "execution_count": 69,
   "source": [
    "score_df = score_sdms.out().load()"
   ],
   "outputs": [],
   "metadata": {}
  },
  {
   "cell_type": "code",
   "execution_count": 88,
   "source": [
    "score_df.slice_name.nunique()"
   ],
   "outputs": [
    {
     "output_type": "execute_result",
     "data": {
      "text/plain": [
       "72"
      ]
     },
     "metadata": {},
     "execution_count": 88
    }
   ],
   "metadata": {}
  },
  {
   "cell_type": "code",
   "execution_count": 77,
   "source": [
    "plot_df = score_df.iloc[\n",
    "    score_df.reset_index()\n",
    "    .groupby([\"target_name\", \"slice_name\", \"slice_idx\", \"emb_group\"])[\"auroc\"]\n",
    "    .idxmax()\n",
    "    .astype(int)\n",
    "].copy()\n"
   ],
   "outputs": [],
   "metadata": {}
  },
  {
   "cell_type": "code",
   "execution_count": 87,
   "source": [
    "sns.barplot(data=plot_df, x=\"precision_at_10\", y=\"emb_group\")"
   ],
   "outputs": [
    {
     "output_type": "execute_result",
     "data": {
      "text/plain": [
       "<AxesSubplot:xlabel='precision_at_10', ylabel='emb_group'>"
      ]
     },
     "metadata": {},
     "execution_count": 87
    },
    {
     "output_type": "display_data",
     "data": {
      "image/png": "[encoded data removed]",
      "text/plain": [
       "<Figure size 432x288 with 1 Axes>"
      ]
     },
     "metadata": {
      "needs_background": "light"
     }
    }
   ],
   "metadata": {}
  },
  {
   "cell_type": "code",
   "execution_count": 86,
   "source": [
    "plot_df[\"success\"] = (plot_df[\"auroc\"] > 0.85) & (plot_df[\"precision_at_10\"] > 0.5)\n",
    "sns.barplot(data=plot_df, x=\"success\", y=\"emb_group\")"
   ],
   "outputs": [
    {
     "output_type": "execute_result",
     "data": {
      "text/plain": [
       "<AxesSubplot:xlabel='success', ylabel='emb_group'>"
      ]
     },
     "metadata": {},
     "execution_count": 86
    },
    {
     "output_type": "display_data",
     "data": {
      "image/png": "[encoded data removed]",
      "text/plain": [
       "<Figure size 432x288 with 1 Axes>"
      ]
     },
     "metadata": {
      "needs_background": "light"
     }
    }
   ],
   "metadata": {}
  },
  {
   "cell_type": "code",
   "execution_count": 56,
   "source": [
    "inp = run_sdm.inp(run_id=17412, load=True)\n",
    "data_dp, emb_dp = inp[\"data_dp\"], inp[\"emb_dp\"]\n",
    "\n",
    "data_dp = data_dp.lz[data_dp[\"split\"].isin([\"valid\", \"test\"])].merge(\n",
    "    emb_dp[[\"image_id\", \"emb\"]], on=\"image_id\"\n",
    ")\n",
    "slice_idx = 0\n",
    "inp[\"slice_names\"][slice_idx]"
   ],
   "outputs": [
    {
     "output_type": "execute_result",
     "data": {
      "text/plain": [
       "'wearing_necklace=0_blond_hair=1'"
      ]
     },
     "metadata": {},
     "execution_count": 56
    }
   ],
   "metadata": {}
  },
  {
   "cell_type": "code",
   "execution_count": 57,
   "source": [
    "from domino.sdm import MixtureModelSDM, SpotlightSDM\n",
    "sdm = MixtureModelSDM(\n",
    "    n_slices=5, \n",
    "    n_clusters=5, \n",
    "    weight_y_log_likelihood=10, \n",
    "    init_params=\"error\",\n",
    "    emb=\"emb\",\n",
    "    pca_components=128 \n",
    ")\n",
    "\n",
    "sdm.fit(data_dp.lz[data_dp[\"split\"] == \"valid\"])\n",
    "dp = sdm.transform(data_dp.lz[data_dp[\"split\"] == \"test\"])"
   ],
   "outputs": [
    {
     "output_type": "stream",
     "name": "stdout",
     "text": [
      "in fit\n"
     ]
    },
    {
     "output_type": "stream",
     "name": "stderr",
     "text": [
      "  8%|▊         | 8/100 [00:00<00:01, 86.26it/s]\n"
     ]
    }
   ],
   "metadata": {}
  },
  {
   "cell_type": "code",
   "execution_count": 58,
   "source": [
    "from domino.metrics import compute_sdm_metrics\n",
    "\n",
    "metrics_df = compute_sdm_metrics(dp)\n",
    "metrics_df[metrics_df[\"slice_idx\"] == slice_idx].sort_values(\n",
    "    by=\"auroc\", ascending=False\n",
    ")\n"
   ],
   "outputs": [
    {
     "output_type": "execute_result",
     "data": {
      "text/html": [
       "<div>\n",
       "<style scoped>\n",
       "    .dataframe tbody tr th:only-of-type {\n",
       "        vertical-align: middle;\n",
       "    }\n",
       "\n",
       "    .dataframe tbody tr th {\n",
       "        vertical-align: top;\n",
       "    }\n",
       "\n",
       "    .dataframe thead th {\n",
       "        text-align: right;\n",
       "    }\n",
       "</style>\n",
       "<table border=\"1\" class=\"dataframe\">\n",
       "  <thead>\n",
       "    <tr style=\"text-align: right;\">\n",
       "      <th></th>\n",
       "      <th>pred_slice_idx</th>\n",
       "      <th>slice_idx</th>\n",
       "      <th>auroc</th>\n",
       "      <th>precision_at_10</th>\n",
       "      <th>precision_at_25</th>\n",
       "      <th>precision_at_100</th>\n",
       "      <th>recall_at_50</th>\n",
       "      <th>recall_at_100</th>\n",
       "      <th>recall_at_200</th>\n",
       "      <th>recall</th>\n",
       "      <th>precision</th>\n",
       "    </tr>\n",
       "  </thead>\n",
       "  <tbody>\n",
       "    <tr>\n",
       "      <th>0</th>\n",
       "      <td>0</td>\n",
       "      <td>0</td>\n",
       "      <td>0.848332</td>\n",
       "      <td>0.9</td>\n",
       "      <td>0.8</td>\n",
       "      <td>0.44</td>\n",
       "      <td>0.123506</td>\n",
       "      <td>0.175299</td>\n",
       "      <td>0.235060</td>\n",
       "      <td>0.549801</td>\n",
       "      <td>0.186486</td>\n",
       "    </tr>\n",
       "    <tr>\n",
       "      <th>1</th>\n",
       "      <td>1</td>\n",
       "      <td>0</td>\n",
       "      <td>0.778580</td>\n",
       "      <td>0.0</td>\n",
       "      <td>0.0</td>\n",
       "      <td>0.00</td>\n",
       "      <td>0.000000</td>\n",
       "      <td>0.000000</td>\n",
       "      <td>0.000000</td>\n",
       "      <td>0.000000</td>\n",
       "      <td>0.000000</td>\n",
       "    </tr>\n",
       "    <tr>\n",
       "      <th>3</th>\n",
       "      <td>3</td>\n",
       "      <td>0</td>\n",
       "      <td>0.587992</td>\n",
       "      <td>0.0</td>\n",
       "      <td>0.0</td>\n",
       "      <td>0.01</td>\n",
       "      <td>0.000000</td>\n",
       "      <td>0.003984</td>\n",
       "      <td>0.015936</td>\n",
       "      <td>0.195219</td>\n",
       "      <td>0.053319</td>\n",
       "    </tr>\n",
       "    <tr>\n",
       "      <th>4</th>\n",
       "      <td>4</td>\n",
       "      <td>0</td>\n",
       "      <td>0.397326</td>\n",
       "      <td>0.0</td>\n",
       "      <td>0.0</td>\n",
       "      <td>0.01</td>\n",
       "      <td>0.000000</td>\n",
       "      <td>0.003984</td>\n",
       "      <td>0.003984</td>\n",
       "      <td>0.159363</td>\n",
       "      <td>0.017197</td>\n",
       "    </tr>\n",
       "    <tr>\n",
       "      <th>2</th>\n",
       "      <td>2</td>\n",
       "      <td>0</td>\n",
       "      <td>0.392655</td>\n",
       "      <td>0.0</td>\n",
       "      <td>0.0</td>\n",
       "      <td>0.01</td>\n",
       "      <td>0.000000</td>\n",
       "      <td>0.003984</td>\n",
       "      <td>0.011952</td>\n",
       "      <td>0.095618</td>\n",
       "      <td>0.018141</td>\n",
       "    </tr>\n",
       "  </tbody>\n",
       "</table>\n",
       "</div>"
      ],
      "text/plain": [
       "   pred_slice_idx  slice_idx     auroc  precision_at_10  precision_at_25  \\\n",
       "0               0          0  0.848332              0.9              0.8   \n",
       "1               1          0  0.778580              0.0              0.0   \n",
       "3               3          0  0.587992              0.0              0.0   \n",
       "4               4          0  0.397326              0.0              0.0   \n",
       "2               2          0  0.392655              0.0              0.0   \n",
       "\n",
       "   precision_at_100  recall_at_50  recall_at_100  recall_at_200    recall  \\\n",
       "0              0.44      0.123506       0.175299       0.235060  0.549801   \n",
       "1              0.00      0.000000       0.000000       0.000000  0.000000   \n",
       "3              0.01      0.000000       0.003984       0.015936  0.195219   \n",
       "4              0.01      0.000000       0.003984       0.003984  0.159363   \n",
       "2              0.01      0.000000       0.003984       0.011952  0.095618   \n",
       "\n",
       "   precision  \n",
       "0   0.186486  \n",
       "1   0.000000  \n",
       "3   0.053319  \n",
       "4   0.017197  \n",
       "2   0.018141  "
      ]
     },
     "metadata": {},
     "execution_count": 58
    }
   ],
   "metadata": {}
  },
  {
   "cell_type": "code",
   "execution_count": 59,
   "source": [
    "pred_slice_idx = 0\n",
    "words_dp = embed_phrases.out().load()\n",
    "words_dp = words_dp.lz[:10_000]\n",
    "expl_dp = sdm.explain(\n",
    "    words_dp=words_dp,\n",
    "    data_dp=dp\n",
    ")\n",
    "expl_dp.lz[(-expl_dp[\"pred_slices\"])[:, pred_slice_idx].argsort()[:10]]"
   ],
   "outputs": [
    {
     "output_type": "execute_result",
     "data": {
      "text/html": [
       "<table border=\"1\" class=\"dataframe\">\n",
       "  <thead>\n",
       "    <tr style=\"text-align: right;\">\n",
       "      <th></th>\n",
       "      <th>word (PandasSeriesColumn)</th>\n",
       "      <th>pred_slices (NumpyArrayColumn)</th>\n",
       "    </tr>\n",
       "  </thead>\n",
       "  <tbody>\n",
       "    <tr>\n",
       "      <th>0</th>\n",
       "      <td>a photo of a man with blackish hair.</td>\n",
       "      <td>np.ndarray(shape=(5,))</td>\n",
       "    </tr>\n",
       "    <tr>\n",
       "      <th>1</th>\n",
       "      <td>a photo of a man with brown hair.</td>\n",
       "      <td>np.ndarray(shape=(5,))</td>\n",
       "    </tr>\n",
       "    <tr>\n",
       "      <th>2</th>\n",
       "      <td>a photo of a guy with dark hair.</td>\n",
       "      <td>np.ndarray(shape=(5,))</td>\n",
       "    </tr>\n",
       "    <tr>\n",
       "      <th>3</th>\n",
       "      <td>a photo of a man looking tired.</td>\n",
       "      <td>np.ndarray(shape=(5,))</td>\n",
       "    </tr>\n",
       "    <tr>\n",
       "      <th>4</th>\n",
       "      <td>a photo of a man with brownish hair.</td>\n",
       "      <td>np.ndarray(shape=(5,))</td>\n",
       "    </tr>\n",
       "    <tr>\n",
       "      <th>5</th>\n",
       "      <td>a photo of a man looking depressed.</td>\n",
       "      <td>np.ndarray(shape=(5,))</td>\n",
       "    </tr>\n",
       "    <tr>\n",
       "      <th>6</th>\n",
       "      <td>a photo of a man with unfinished business.</td>\n",
       "      <td>np.ndarray(shape=(5,))</td>\n",
       "    </tr>\n",
       "    <tr>\n",
       "      <th>7</th>\n",
       "      <td>a photo of a guy with blackish hair.</td>\n",
       "      <td>np.ndarray(shape=(5,))</td>\n",
       "    </tr>\n",
       "    <tr>\n",
       "      <th>8</th>\n",
       "      <td>a photo of a stoic man</td>\n",
       "      <td>np.ndarray(shape=(5,))</td>\n",
       "    </tr>\n",
       "    <tr>\n",
       "      <th>9</th>\n",
       "      <td>a photo of a man pondering.</td>\n",
       "      <td>np.ndarray(shape=(5,))</td>\n",
       "    </tr>\n",
       "  </tbody>\n",
       "</table>"
      ],
      "text/plain": [
       "DataPanel(nrows: 10, ncols: 2)"
      ]
     },
     "metadata": {},
     "execution_count": 59
    }
   ],
   "metadata": {}
  },
  {
   "cell_type": "code",
   "execution_count": 63,
   "source": [
    "#attribute = \"mustache\"\n",
    "\n",
    "words_dp = embed_phrases.out().load()\n",
    "words_dp = words_dp[:10_000]\n",
    "\n",
    "pred_slice_idx = 0\n",
    "words_dp = words_dp.view()\n",
    "pred_slice = dp[\"pred_slices\"][:, pred_slice_idx]\n",
    "slice_proto = dp.lz[pred_slice.argsort()[-10:]][\"emb\"].mean(axis=0)\n",
    "#slice_proto = dp[\"emb\"][dp[attribute] == 1].mean(axis=0)\n",
    "#slice_proto = dp.lz[dp[\"probs\"].argsort()[-25:]][\"emb\"].mean(axis=0)\n",
    "\n",
    "\n",
    "ref_proto = dp[\"emb\"][dp[\"target\"] == 0].data.mean(axis=0)\n",
    "\n",
    "words_dp[\"pred_slices\"] = np.dot(\n",
    "    words_dp[\"emb\"].data, (slice_proto - ref_proto).T\n",
    ")\n",
    "expl_dp = words_dp[[\"word\", \"pred_slices\"]]\n",
    "expl_dp.lz[(-expl_dp[\"pred_slices\"]).argsort()[0:10]]"
   ],
   "outputs": [
    {
     "output_type": "execute_result",
     "data": {
      "text/html": [
       "<table border=\"1\" class=\"dataframe\">\n",
       "  <thead>\n",
       "    <tr style=\"text-align: right;\">\n",
       "      <th></th>\n",
       "      <th>word (PandasSeriesColumn)</th>\n",
       "      <th>pred_slices (NumpyArrayColumn)</th>\n",
       "    </tr>\n",
       "  </thead>\n",
       "  <tbody>\n",
       "    <tr>\n",
       "      <th>0</th>\n",
       "      <td>a photo of a woman with blonde hair.</td>\n",
       "      <td>6.089844</td>\n",
       "    </tr>\n",
       "    <tr>\n",
       "      <th>1</th>\n",
       "      <td>a photo of a girl with blonde hair.</td>\n",
       "      <td>5.761719</td>\n",
       "    </tr>\n",
       "    <tr>\n",
       "      <th>2</th>\n",
       "      <td>a photo of a blonde woman</td>\n",
       "      <td>5.574219</td>\n",
       "    </tr>\n",
       "    <tr>\n",
       "      <th>3</th>\n",
       "      <td>a photo of a blonde girl</td>\n",
       "      <td>5.449219</td>\n",
       "    </tr>\n",
       "    <tr>\n",
       "      <th>4</th>\n",
       "      <td>a photo of a woman golden haired.</td>\n",
       "      <td>4.707031</td>\n",
       "    </tr>\n",
       "    <tr>\n",
       "      <th>5</th>\n",
       "      <td>a germanic photo of a woman</td>\n",
       "      <td>4.523438</td>\n",
       "    </tr>\n",
       "    <tr>\n",
       "      <th>6</th>\n",
       "      <td>a photo of a girl with golden hair.</td>\n",
       "      <td>4.238281</td>\n",
       "    </tr>\n",
       "    <tr>\n",
       "      <th>7</th>\n",
       "      <td>a photo of a german woman</td>\n",
       "      <td>3.714844</td>\n",
       "    </tr>\n",
       "    <tr>\n",
       "      <th>8</th>\n",
       "      <td>a suzerainty photo of a woman</td>\n",
       "      <td>3.646484</td>\n",
       "    </tr>\n",
       "    <tr>\n",
       "      <th>9</th>\n",
       "      <td>a suzerainty photo of a girl</td>\n",
       "      <td>3.644531</td>\n",
       "    </tr>\n",
       "  </tbody>\n",
       "</table>"
      ],
      "text/plain": [
       "DataPanel(nrows: 10, ncols: 2)"
      ]
     },
     "metadata": {},
     "execution_count": 63
    }
   ],
   "metadata": {}
  },
  {
   "cell_type": "code",
   "execution_count": 32,
   "source": [
    "\n",
    "dp.lz[dp[\"pred_slices\"].data[:, pred_slice_idx].argsort()[-10:]][[\"image\", \"target\", \"correlate\"]]"
   ],
   "outputs": [
    {
     "output_type": "execute_result",
     "data": {
      "text/html": [
       "<table border=\"1\" class=\"dataframe\">\n",
       "  <thead>\n",
       "    <tr style=\"text-align: right;\">\n",
       "      <th></th>\n",
       "      <th>image (ImageColumn)</th>\n",
       "      <th>target (NumpyArrayColumn)</th>\n",
       "      <th>correlate (NumpyArrayColumn)</th>\n",
       "    </tr>\n",
       "  </thead>\n",
       "  <tbody>\n",
       "    <tr>\n",
       "      <th>0</th>\n",
       "      <td><img src=\"data:image/jpeg;base64,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\"></td>\n",
       "      <td>0</td>\n",
       "      <td>1</td>\n",
       "    </tr>\n",
       "    <tr>\n",
       "      <th>1</th>\n",
       "      <td><img src=\"data:image/jpeg;base64,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\"></td>\n",
       "      <td>0</td>\n",
       "      <td>1</td>\n",
       "    </tr>\n",
       "    <tr>\n",
       "      <th>2</th>\n",
       "      <td><img src=\"data:image/jpeg;base64,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\"></td>\n",
       "      <td>0</td>\n",
       "      <td>1</td>\n",
       "    </tr>\n",
       "    <tr>\n",
       "      <th>3</th>\n",
       "      <td><img src=\"data:image/jpeg;base64,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\"></td>\n",
       "      <td>0</td>\n",
       "      <td>1</td>\n",
       "    </tr>\n",
       "    <tr>\n",
       "      <th>4</th>\n",
       "      <td><img src=\"data:image/jpeg;base64,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\"></td>\n",
       "      <td>0</td>\n",
       "      <td>1</td>\n",
       "    </tr>\n",
       "    <tr>\n",
       "      <th>5</th>\n",
       "      <td><img src=\"data:image/jpeg;base64,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\"></td>\n",
       "      <td>0</td>\n",
       "      <td>1</td>\n",
       "    </tr>\n",
       "    <tr>\n",
       "      <th>6</th>\n",
       "      <td><img src=\"data:image/jpeg;base64,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\"></td>\n",
       "      <td>0</td>\n",
       "      <td>1</td>\n",
       "    </tr>\n",
       "    <tr>\n",
       "      <th>7</th>\n",
       "      <td><img src=\"data:image/jpeg;base64,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\"></td>\n",
       "      <td>0</td>\n",
       "      <td>1</td>\n",
       "    </tr>\n",
       "    <tr>\n",
       "      <th>8</th>\n",
       "      <td><img src=\"data:image/jpeg;base64,/9j/4AAQSkZJRgABAQAAAQABAAD/2wBDAAgGBgcGBQgHBwcJCQgKDBQNDAsLDBkSEw8UHRofHh0aHBwgJC4nICIsIxwcKDcpLDAxNDQ0Hyc5PTgyPC4zNDL/2wBDAQkJCQwLDBgNDRgyIRwhMjIyMjIyMjIyMjIyMjIyMjIyMjIyMjIyMjIyMjIyMjIyMjIyMjIyMjIyMjIyMjIyMjL/wAARCACAAGkDASIAAhEBAxEB/8QAHwAAAQUBAQEBAQEAAAAAAAAAAAECAwQFBgcICQoL/8QAtRAAAgEDAwIEAwUFBAQAAAF9AQIDAAQRBRIhMUEGE1FhByJxFDKBkaEII0KxwRVS0fAkM2JyggkKFhcYGRolJicoKSo0NTY3ODk6Q0RFRkdISUpTVFVWV1hZWmNkZWZnaGlqc3R1dnd4eXqDhIWGh4iJipKTlJWWl5iZmqKjpKWmp6ipqrKztLW2t7i5usLDxMXGx8jJytLT1NXW19jZ2uHi4+Tl5ufo6erx8vP09fb3+Pn6/8QAHwEAAwEBAQEBAQEBAQAAAAAAAAECAwQFBgcICQoL/8QAtREAAgECBAQDBAcFBAQAAQJ3AAECAxEEBSExBhJBUQdhcRMiMoEIFEKRobHBCSMzUvAVYnLRChYkNOEl8RcYGRomJygpKjU2Nzg5OkNERUZHSElKU1RVVldYWVpjZGVmZ2hpanN0dXZ3eHl6goOEhYaHiImKkpOUlZaXmJmaoqOkpaanqKmqsrO0tba3uLm6wsPExcbHyMnK0tPU1dbX2Nna4uPk5ebn6Onq8vP09fb3+Pn6/9oADAMBAAIRAxEAPwDrlHU0m3BzWkuiagYTJ9n49CefyqvbWdxeOUgiLkdT2FZ8oyBSQMU1snJJ496uy6RfQbt8DAKpdjkYAHXmuO8TaiwEdpE/ysu98HqOwp26Aaj65p0TlTcqSOu0Ej8xTv8AhIdNIH+lD/vk/wCFYNl4N1+/tVuYNOkMTDKl2Vdw9gTWYNMvft/2E20i3WcGJhgjv3p8iA7D+3tNx/x9r+R/wpy65ph/5fEH4H/Cuft/C95IA1zNBaqT0kbLfkK6HSfC2mW0U0moSJdKyYUsCgQ+o55NLlRXKwbWNOYfLexZ+tMbVbIgYvovf5qo3OheHIPl/tmUOegZR/hWJeafBC3+j3aSqeRyOaOVByvsdUNVsjj/AE2L/vunDVLIf8vsP/fYri7iwu7WGOae3kSKX/VyEfK30PSpoNE1W5t/tEGm3UkJ5DrESD9KfII7AajZtg/bIP8Av4Kd9vtv+fyH/v4v+NcCkMskwhSJ2lJxsVSWz6Yqx/ZWpf8AQOvP+/D/AOFHIB6poEskmtGRpGZpncuSevXA+g4/KprtpIPD5+zFkEt46zOhwQu5uM/gB+NZlhcPYOs0e1nTON3TmtGwmvLfTprhI4rmFpSZIiDwSck49OaE9CWg0ueZtJ1OJmLRJbuVz2O08Vw1tbQ3HjjS4boAwyGLIbo2BwPxIFd5BezTaRqkskMVvapbsFSJMZYg9+56V534oUWdvb36OEmhwo5wSeoIPtTvaw0ruyL3jDXb+LxfcxG8uUWBwkFvA5XjAOeOB9TUhfUdV/0y+vYlLjaQgLNj0yMVwENxJdXM15c3G6SVt8kshyzH1PpV2TVwERIUefB4LSHH14wB+tTe50KCidvbwaZYRYiUPcSZVS3LZ9eSePxrN1bXJrCAQRxwMO7b+fc1jW2pOqPPcpCsaLsUIuOe/SsO60+LU5WlguLjcT0+yvtH4rmourlWaI9T1G5fdnKA/eBwyn8e1ZC6m8LZQlOcH+79D6fyqeSG8svvkSRjglckD6j/ABFZV25T/SLYjb/EmPlI9MVorENtanoHhjX7We4tLTUi32BLgSyw5yAcEZ+nPNdTr3jbWIteuFsL3ybSBykMcagqyjueOc14pa3Qfa8LFSv8J/hPp9K9K8G69pMyuuqaWL64jXdCN20nHY84P40J20YpR5lzI9CvLeCXxd4V1ZYliuL1N8yr0JCZB/Wu+wf71eLHxjLc+LLTWbyE+TbEiO3jONq4IwM9+ea6v/haun/9Ay6/77WtDBplVmxGcVJaaldWLFoJSueoIyD+FVvO3A46Z700gt3rnvYouXup3mpKi3M2YlIIjRQqkjoT615Z411N9Q8QR6XA37uEfPj1PX/CvRWby4yzfdAya8Pub5m1PUr0N8zMSp9Mmi7ZpTS3OgOr2enOLK2t/tl3jDDOEX9Dk1PbWN9O+9oUjyc4GT/OsXwJaCe9ublxuO7g16dBbdOKznNxdkdVOPMuZmL/AGa7W6IVJYdT2/Ks3UtEvJYtsGcjpkmu9itARyKnXTwRyKy5ne5tyRseG6hFq+nMfPedSOhLHBH06VnrN5jGULyf9Ynr717brujR3Fi4eMNxxkV4rPD9h1V4j2bge1dFKfNozlqw5XdFMH7Heq/Oxj+YrWhnksLxJYnI53IwqvdWwlhxjoxA/HkU+FTPpoRjh4jkf1rVozV0ereHm0zW7ctNboLgDLgMRn3HNbX9haX/AM+o/wC+z/jXl3hvV3srmKQN90gMM16b/wAJBpno9Z3aJnHW6Jgx2HoaVZQD7VSZiV+Vzzz1qICc4/eOB9aViNB3iK++yeG76VT83kkKfc8f1rxbO551AzvXpXfeOtQeDSRZCYFp2BYE/wAIrzT7QUuVI/zxVxRa0R3vw1hDWUhPOXNeo29r8o4rx3w9qOl2WhxEyTW98GbE0ROevp3FeieE/FB1JDFNcQzuvR0GCfqK5preR2U5aKJ1sUGBnFWVi46VDLcSx2paCNXkI+UMcCuTl1p1kLa3qpgXoLe0+Ufi3U1EdSpNo6a/iDW7KRxivCfF1ibbXiwUbWJwa9ntJPD97b/6HdzbiOvnEn9a4rxr4fd4ftMeZPK5yRyRVKXLMlx54HAsVWGXvlQw/OmRHEbYPPX86duVolxwykhh7UkB5Mfcj5c/yrs8zmQKGjJZeo7etWv7Yk/56yfmaZ8vl7WI3n7pPf2qtsl/54/oaTVwTsezANgYOMdu1NZvLBOAzdsnGKQnPOf06VDPMIkeRsHYM5boKgxWrPNPFhuLjWpjKQURQFPYDGa5CXO8t+XvXTeJdakv7jGwDj0rnQOd7ZJ7AVpEuXY9Y8F+HTYaXaaksMc88kTCRH4yrDoD9KtaR4TTTJzcDcrhspwMhfTgDPXqeat/D/VEvvCtrkjfEPKYe4/+tiuqH76UIo4HJ4rllOSvFnWqcdJI1bdEmshG69Rya5PWvBdrqUV3E1tCzyspinYHdCB0GOhz36ZrsraRI4xvyB24oklRmOyphLl2HKLlo9jmdD8EWenXMN4yos8YIYQjYshP95Rxx2Fbuq2azWbpsGMYxitG3HGSKq6lLiMhetVOV1dhCNpWR8/67o72Gr3AiH7v7xHpWOc8MpHFdB4t1trbUtXVY0kCFIlOeVZgcn6Vw9hM5kA3E57HvW1K/LqYVZR57I6AkXUISTKn1H86X7DH/wA95f8Av5VTz4y7QhwGzjaeoNH2dvUfmKuxKaPYDICCB+eaq3v7y2ZRkgqRjNczd+IWi1BpNOhZrIDBilcZVvb270kXieC+l8mGxleUn+KQBENTYhRa1OQ1khJeEUAjPH9ay7JhLexK2eW2gH34rZ1/R9Q3tcywssZOAU5Uew71hSWr2oSXaysfmBNaw0aZFS7udP4K1yTRvEL2Lti2uWxgn7rdjXtNncNIAYzzkGvCNe0xktbTUrYBZDCkz7cjKk8Pz6HKn0Kj1ru/DOsTa1YwvBdiC5xsYMMpuHqPf1rnrwUp80dmdmFk2vZyPV4LlpS0ak5UDkDPNStC6/vPXrVDTn1ARCI2JMoXlvPGzPtxnFWUsb37V5l1qfmAZ/cRrhBnpyeSR0rOVOyubttMnFyVXFZmq3qWVjNdzHCopPP0rRcBeDXlnxT8QMIF0i3Y7peZCOy+lYpOclEpyUYuR5jrl4Jp5C6Dzbsmd27/ADElR+WKyrOTy5oz05q74iQpq7rjAWNAP++BVKJPuN6da9Sej5ex5EXd37l64lX+0ZGwQxGSPek+3v8A89Gqk8pe7eT+8al3f7NQWjplk+zXV0tzDklgQGUNk9KjubsjDCY7jyuxQAPbivV/iN4GitdL/tCLbHcrID5qLhGyejeleZDSLqeX7KuHEqK/mLxtOCdvt06UkrmjZWl8T3zW0cDkK8fykdmHYEfTisv+1ZAV+UAxv5iHqFI56Hiq+oqBeTbl+bOOeMEVAh8wN7U0ZPc7htVm8WWr+UVi1aEGSEA8S5GHjAOeCMHBOM8AYrJ8L67b2WtLG1stsk52y4Y7Q3bAPSszTbiTT9QjljP3CDx2rtZtA0LxVIt9b3UkU7kmT7NGG8zHXchIKvzjPIPWsp2irPZm0W9Gt0eo6TJ5ij9+4yOMGugjMUMOS2fqa8nk1R7K9tbTTpBHFFCqyKGEnIJxk+uMZrqrO7luY1MkrN9K4nJpneveVzfnn80Hb+deM+PovK8QJIR8rYAJr1gzlExXJ+J9JtdZt9sx2sOQw604S5ZJilG8Wkea+I9PeSC21Er8k6BCRz8ygAg+nGKwWEaW+4bt2AMYGCK9EvPD40/QbW6mmuZoA5SZCfllB/1Z29Ou7k+lclqVkLeW52QlRGEPlkcYYDJH4/zru9qpy0OCUOVGGkQ+8p7dKk3/AOyaaJ1JKgYx6Uv2l/VPyrQzPs/UYYLmxktrhFlhkUq6kZBFfNWtR3nhfxJc6fC2+GOXchP8SEfLn6AkV9ByylD94kV4V4iJ1r4lXcbri3gX5vcIuf58VjBuUrG7jaJwWs4uL24nUYV5C/A6Z7VXgjWKLc2Oe9bttqFra2F1Dd2G955DsmY8oPp3/wAK54tI77EjBYnq3IFbHPIcZ9oklxgEYHuagtiTOrs2MNkmkKMzbmOfc1JGhOCB8uKAW56x4MsYrmz8t0GV5UjuD/k12kOl+QPlY4zxXm3gjUpLZrV2Y7FYxMM9AcY/mK9cT5kB6159Re8z1IP3VYoSRORyTVK4sfNQrzWzIuelV5PlQ1NhtmDbhLcGyntzNEh3oD09cEdxnmsTU1Et5czzRrsmRoSg6KhGAB9Otbx3PdysPXFZ+pwYhdiOgJqoSaZDgmeJvEUlYd1OKTaP71aN2N125dMbmyVFVvJk/uD869FLQ86Ssz//2Q==\"></td>\n",
       "      <td>0</td>\n",
       "      <td>1</td>\n",
       "    </tr>\n",
       "    <tr>\n",
       "      <th>9</th>\n",
       "      <td><img src=\"data:image/jpeg;base64,/9j/4AAQSkZJRgABAQAAAQABAAD/2wBDAAgGBgcGBQgHBwcJCQgKDBQNDAsLDBkSEw8UHRofHh0aHBwgJC4nICIsIxwcKDcpLDAxNDQ0Hyc5PTgyPC4zNDL/2wBDAQkJCQwLDBgNDRgyIRwhMjIyMjIyMjIyMjIyMjIyMjIyMjIyMjIyMjIyMjIyMjIyMjIyMjIyMjIyMjIyMjIyMjL/wAARCACAAGkDASIAAhEBAxEB/8QAHwAAAQUBAQEBAQEAAAAAAAAAAAECAwQFBgcICQoL/8QAtRAAAgEDAwIEAwUFBAQAAAF9AQIDAAQRBRIhMUEGE1FhByJxFDKBkaEII0KxwRVS0fAkM2JyggkKFhcYGRolJicoKSo0NTY3ODk6Q0RFRkdISUpTVFVWV1hZWmNkZWZnaGlqc3R1dnd4eXqDhIWGh4iJipKTlJWWl5iZmqKjpKWmp6ipqrKztLW2t7i5usLDxMXGx8jJytLT1NXW19jZ2uHi4+Tl5ufo6erx8vP09fb3+Pn6/8QAHwEAAwEBAQEBAQEBAQAAAAAAAAECAwQFBgcICQoL/8QAtREAAgECBAQDBAcFBAQAAQJ3AAECAxEEBSExBhJBUQdhcRMiMoEIFEKRobHBCSMzUvAVYnLRChYkNOEl8RcYGRomJygpKjU2Nzg5OkNERUZHSElKU1RVVldYWVpjZGVmZ2hpanN0dXZ3eHl6goOEhYaHiImKkpOUlZaXmJmaoqOkpaanqKmqsrO0tba3uLm6wsPExcbHyMnK0tPU1dbX2Nna4uPk5ebn6Onq8vP09fb3+Pn6/9oADAMBAAIRAxEAPwDwJkZDh1I+oo+lbnmpPlWjWT129R+Bqu+nxSjMLFT/AHWqbjsZVHSrM1lNDy6ceoqvgjrTCwUnWj8aO9AgpKceRSUAFIKWigB8c0kLbo2Kn2NalvrZA2zrn3Wseik4qW41JrY6qO7glUMsq89s4qbzU/vj864+lyfU1n7FF+0OnUquCiqCBgcc/nTAQSeOe+RVm8srmxfy7mFo29SMg/jVUHa4xz3Kk9RT5g5XcVjhT/dqs9vBMOdo9xVGaeV3Y7u/TtUaxSTE5Jx3J6U7ASTWaxk7JAwFMlsZYo1l+VkboyMG/l0pV+T7gz/tGkWR4myuMnrxTuxctyt7UmK6jS9GtfEAMNtKkOoYO2CTCrKfRW7MfSsi60yW1mkglR4pY22ujjBB96akhOLRSijDhiTgKpb61HVmaKRd+VIAAGahZdoBPUjNMkZikpaTFABRRiimB6drfix2uIhZomy2jeIFwGDFicnH5flXDXM7PcE59yfU1f1S3lsmNvIMSqcPz0PpWWATIM85rmprQ6pvUWFBPJmQE881ZkAkAiiUiNep9abaWrzSfLnB4UevvW5Fp6IVB6d/U0pzsTGNzEWzdsBRz69hVy00K5u5PLghaRu+B0rtNF8Mm+dZJf3cOc5xyfpXe2GkW1lAI7eNUHfHU1k6kjojSvueaWXgOVCkk52kc7Q3Nb+o6Rbahp32W9XbfqubecjmUDqrHv7V2MlsBngVXl077dY3EQGXjUyxnHIYD/CoVR31LlSiloeJS2u3fHIcBjvf+g/rWTdRLJKxjAVegA9K2tTlKzSx53NyuewHf6mshox64rrhI4ZIovA6ckZHqKjrQKkdDTWjR/vL+I61opGdijRVo20fZ2H4Un2Zf+en6VVwsad1M9yvmyElicknvVRFBCe/Ga0zbNMsEMQBdztA6ZNQS2U9riKeJkcMQQfWuaMkdDTL2nv5SFlXLtwo9BXXaVopO2a6OT1C+lYfh6yE13vZchTxXcOmyEMykgdqwm7s3px0NSyngGApJxx8qkgVuWxSRMxyq2OoB5H4Vyll4ne3l+zQQvJcHhI4oy5P4CqMGvS3PiRrW7sJbe+jba+0FWH1FHK7GnPrY7yRDipNLUrqK8fKetR5P2fJPI61g6hq9vY3kUty0xiB5RH25+prNLUqTtE8s8Z6bLpXiK8tdjIiykjP8QPIP6iubJ4xnNem+KYLbVvHifYsNaT+VhVOQOBnn86u/FDw3oulaTpDWljHBfXDMJGi43AcA46V1qfQ55Ye9uXdnkRHpSBiK6ZPBt7dWaXNpIkgaJ5SrHaQqdee/Fc4UYE8dDg1aknsYSpTi7NCbj3z+Io3e36UbTRtPpTM7HSaagl1XT0IBG8cHvzV/XLSffJE8fMTfeznAzxzUdhHHbeKIlYgRQSAMSegzXZaxp0jR3UyqJIphhj3VgMgj2Irj5jujG6aOe8OBY059eTXcWeJl2kDBrh7FTAi4rrdKmPyk9aUjWnHQ0YdIjguxdQSTQy9N0Tlagg0JIdYl1MyzSXEjb3ZyDk4x6VvwOJI+g4qOd1hjeRuigk4pc72KdNXuQC5A3RydD1ArL1HRpNReK1JtFCzLIZpFOcDtkdqfDteUG4mRJH5CZyQDWw9oFto5BIrg5XGeQB0zQpW1E4pqzOUsdDWz8frFCv+jLCJxjpgjbxn/azUPxgud3iHTbL/AJ9rZS31PNeiWenIGtLxk+Ygwsf9knP868f+IF39u8eagwO5Vby1/DitYvqy6SvU06I3rVBB4VurgYDQ6U6EehYr/PdXmmmoHjYsoOSTyPevSNUU2nhTxFIRtDJbQr+ef/Za8+0pP9EBx1q4bM2w1pTbfmSNawt1iX8qZ9ig/wCeQ/Orm2jbVXO106b6ILmPzLvUJHH3ywP616Bps62qafo7W91dNLFGDdHlGDqMvu6AKSRg88VwQdrhXc9ZWJP1NTyR6jaeBzNDqKhWdZGtyxDKq5BI+vHTtWdGzumfPTbjqmXLRxLMyjBCsV49jXT2C7cVxWlTCK5Vz/q5QCD7129k6kAgispHVTZ0FrJtGKkmwyHdyCOaqQOOKNStpL21MUczRZ6le/tUGrZWN2owY4mlRD94YwCPTPWtXTJf7UR5ItylWG9CMYz3rkxpksQZZGnDg/K0fINdpoGky6bZRXUl0Skq7pkIwEAJOT74rXlT2FNqKudI2xIkT/lnBHukPYHrXzqpXVfFE9xK7CN597FVLMRnJwO5rsYPH1y8fiBCPMhvA/lDPMZPAP0xwfwrnfDcix6dezJb232nLbbiebYUGMfL+dbQjd6mVKooU5T6lzxDqK3Hg3VWEoLz6hHx0+UK2OO1cxpyBbKPnqKfr2qTXGnvbbUWHzA+EAwX6Zz344qW3hC20Y77RVONtjfAy5oj9vvRspTH6Gk8s/3qR3l20tA1s8oX5Nwx7da7vUrW0uvCElkJrfy5LYrFPKN8wk43JtxgJ83UGuZsYSmh9OHkJrtdX0+S38N2k+kRR3N0Iz5jq4LxgjPyr/P6Vz0Xq7HhVFojyjQ41ltzZyNkocBh7HFdFa/bLI7SDIg6EdcVztgZI8XhJLecwkPrk/416Dp8SzxKxGQRSm9TWnsQ2uqI5GTtYdjWxb3SSDqKrro9tcOd6YPrSnRRE37uR/zqLmt2aLCNgDxmr2l3NxJqFpYR4kimkxJkZAQAkj8cYrmbgTW+1FdmdugJxWxYa5YwtbsbpradIvMEjJlemCCByRnPPaqh3IqS0scJ4u8NDw5cz6lBIotpbpkSHb90dxn0/DpVrwdpOmail5bZb7TOhMMfbHf8R/KpPGFzHrC5WSFhuLtIhyD9fbvTfAaCza7kt51eRsR+YB9xepx7mumlNM5KjlCOnU5bxH4Y1TS9LtZrjS5beFp9rS7wwJJ+UHHTofrmqe5QcZIr1PXtck1WzGlQx+XYoRv3j5pCOh9hxXNvpULeh+opTqK+h24Ss4Q95HIiT0k/WneY39+ukfQom/gU/hUX/CPx/wBxan2h2LFR7HR3VmIbXT7PcuSqgnP3STnn9K6SfzpNDBhtnhuIJ4fJCrhywbHHqMHOfc1z3hvULe3nj1CW0aa3toyXj+9yB7+9dZaeI9OtQ76faz7kITaU4BK5yOTkc9OKVCCs2zx6sraHD+JNGit/EOq21rFshmbz4gBwdwDHHtnNSeFbky26RueRwajl1yLXfECvbqrfLzOGOJRnOcH7veqOjyNY6rNE3A3nj05qJ7mtN6I79YgG4FK4A4702GUOqkGqlzdBJGyelZ2N0UNUhLrK6FQ6p3BOB6n0HvWTcXc1xbQxPaeXNGU8uRlIOM469NuMVY1C9kuG8q33hyMFgeAPf1qa3tJJGM9x87HHXpkDHA6D8K0i0o2MpRblcyl0V70bIoQiEkFz0P4VqWdvbaLb+RCMSK37wAfez0NXJL6aKPZCgWqVnGx1AXEzZLfKT2Hp/n3qqWjM8RG8NOhSV2uJmfGATmpdhzV37H5TsvoaDDUvc0jK6TRS2tSYarhhNJ5R9KCrn//Z\"></td>\n",
       "      <td>0</td>\n",
       "      <td>1</td>\n",
       "    </tr>\n",
       "  </tbody>\n",
       "</table>"
      ],
      "text/plain": [
       "DataPanel(nrows: 10, ncols: 3)"
      ]
     },
     "metadata": {},
     "execution_count": 32
    }
   ],
   "metadata": {}
  },
  {
   "cell_type": "code",
   "execution_count": 78,
   "source": [
    "import pandas as pd\n",
    "import seaborn as sns\n",
    "import matplotlib.pyplot as plt\n",
    "plot_df = pd.DataFrame(\n",
    "    {\"probs\": dp[\"probs\"], \"slice\": dp[\"slices\"][:, slice_idx], \"target\": dp[\"target\"]}\n",
    ")\n",
    "sns.histplot(\n",
    "    data=plot_df[plot_df[\"target\"] == 0],\n",
    "    x=\"probs\",\n",
    "    hue=\"slice\",\n",
    "    stat=\"count\",\n",
    "    common_norm=not False,\n",
    "    binwidth=0.1,\n",
    ")\n",
    "plt.yscale(\"log\")\n"
   ],
   "outputs": [
    {
     "output_type": "error",
     "ename": "ValueError",
     "evalue": "Data must be 1-dimensional",
     "traceback": [
      "\u001b[0;31m---------------------------------------------------------------------------\u001b[0m",
      "\u001b[0;31mValueError\u001b[0m                                Traceback (most recent call last)",
      "\u001b[0;32m/tmp/ipykernel_2285/2270326691.py\u001b[0m in \u001b[0;36m<module>\u001b[0;34m\u001b[0m\n\u001b[1;32m      2\u001b[0m \u001b[0;32mimport\u001b[0m \u001b[0mseaborn\u001b[0m \u001b[0;32mas\u001b[0m \u001b[0msns\u001b[0m\u001b[0;34m\u001b[0m\u001b[0;34m\u001b[0m\u001b[0m\n\u001b[1;32m      3\u001b[0m \u001b[0;32mimport\u001b[0m \u001b[0mmatplotlib\u001b[0m\u001b[0;34m.\u001b[0m\u001b[0mpyplot\u001b[0m \u001b[0;32mas\u001b[0m \u001b[0mplt\u001b[0m\u001b[0;34m\u001b[0m\u001b[0;34m\u001b[0m\u001b[0m\n\u001b[0;32m----> 4\u001b[0;31m plot_df = pd.DataFrame(\n\u001b[0m\u001b[1;32m      5\u001b[0m     \u001b[0;34m{\u001b[0m\u001b[0;34m\"probs\"\u001b[0m\u001b[0;34m:\u001b[0m \u001b[0mdp\u001b[0m\u001b[0;34m[\u001b[0m\u001b[0;34m\"probs\"\u001b[0m\u001b[0;34m]\u001b[0m\u001b[0;34m,\u001b[0m \u001b[0;34m\"slice\"\u001b[0m\u001b[0;34m:\u001b[0m \u001b[0mdp\u001b[0m\u001b[0;34m[\u001b[0m\u001b[0;34m\"slices\"\u001b[0m\u001b[0;34m]\u001b[0m\u001b[0;34m[\u001b[0m\u001b[0;34m:\u001b[0m\u001b[0;34m,\u001b[0m \u001b[0mslice_idx\u001b[0m\u001b[0;34m]\u001b[0m\u001b[0;34m,\u001b[0m \u001b[0;34m\"target\"\u001b[0m\u001b[0;34m:\u001b[0m \u001b[0mdp\u001b[0m\u001b[0;34m[\u001b[0m\u001b[0;34m\"target\"\u001b[0m\u001b[0;34m]\u001b[0m\u001b[0;34m}\u001b[0m\u001b[0;34m\u001b[0m\u001b[0;34m\u001b[0m\u001b[0m\n\u001b[1;32m      6\u001b[0m )\n",
      "\u001b[0;32m/home/common/envs/conda/envs/domino/lib/python3.8/site-packages/pandas/core/frame.py\u001b[0m in \u001b[0;36m__init__\u001b[0;34m(self, data, index, columns, dtype, copy)\u001b[0m\n\u001b[1;32m    612\u001b[0m         \u001b[0;32melif\u001b[0m \u001b[0misinstance\u001b[0m\u001b[0;34m(\u001b[0m\u001b[0mdata\u001b[0m\u001b[0;34m,\u001b[0m \u001b[0mdict\u001b[0m\u001b[0;34m)\u001b[0m\u001b[0;34m:\u001b[0m\u001b[0;34m\u001b[0m\u001b[0;34m\u001b[0m\u001b[0m\n\u001b[1;32m    613\u001b[0m             \u001b[0;31m# GH#38939 de facto copy defaults to False only in non-dict cases\u001b[0m\u001b[0;34m\u001b[0m\u001b[0;34m\u001b[0m\u001b[0;34m\u001b[0m\u001b[0m\n\u001b[0;32m--> 614\u001b[0;31m             \u001b[0mmgr\u001b[0m \u001b[0;34m=\u001b[0m \u001b[0mdict_to_mgr\u001b[0m\u001b[0;34m(\u001b[0m\u001b[0mdata\u001b[0m\u001b[0;34m,\u001b[0m \u001b[0mindex\u001b[0m\u001b[0;34m,\u001b[0m \u001b[0mcolumns\u001b[0m\u001b[0;34m,\u001b[0m \u001b[0mdtype\u001b[0m\u001b[0;34m=\u001b[0m\u001b[0mdtype\u001b[0m\u001b[0;34m,\u001b[0m \u001b[0mcopy\u001b[0m\u001b[0;34m=\u001b[0m\u001b[0mcopy\u001b[0m\u001b[0;34m,\u001b[0m \u001b[0mtyp\u001b[0m\u001b[0;34m=\u001b[0m\u001b[0mmanager\u001b[0m\u001b[0;34m)\u001b[0m\u001b[0;34m\u001b[0m\u001b[0;34m\u001b[0m\u001b[0m\n\u001b[0m\u001b[1;32m    615\u001b[0m         \u001b[0;32melif\u001b[0m \u001b[0misinstance\u001b[0m\u001b[0;34m(\u001b[0m\u001b[0mdata\u001b[0m\u001b[0;34m,\u001b[0m \u001b[0mma\u001b[0m\u001b[0;34m.\u001b[0m\u001b[0mMaskedArray\u001b[0m\u001b[0;34m)\u001b[0m\u001b[0;34m:\u001b[0m\u001b[0;34m\u001b[0m\u001b[0;34m\u001b[0m\u001b[0m\n\u001b[1;32m    616\u001b[0m             \u001b[0;32mimport\u001b[0m \u001b[0mnumpy\u001b[0m\u001b[0;34m.\u001b[0m\u001b[0mma\u001b[0m\u001b[0;34m.\u001b[0m\u001b[0mmrecords\u001b[0m \u001b[0;32mas\u001b[0m \u001b[0mmrecords\u001b[0m\u001b[0;34m\u001b[0m\u001b[0;34m\u001b[0m\u001b[0m\n",
      "\u001b[0;32m/home/common/envs/conda/envs/domino/lib/python3.8/site-packages/pandas/core/internals/construction.py\u001b[0m in \u001b[0;36mdict_to_mgr\u001b[0;34m(data, index, columns, dtype, typ, copy)\u001b[0m\n\u001b[1;32m    462\u001b[0m         \u001b[0;31m# TODO: can we get rid of the dt64tz special case above?\u001b[0m\u001b[0;34m\u001b[0m\u001b[0;34m\u001b[0m\u001b[0;34m\u001b[0m\u001b[0m\n\u001b[1;32m    463\u001b[0m \u001b[0;34m\u001b[0m\u001b[0m\n\u001b[0;32m--> 464\u001b[0;31m     return arrays_to_mgr(\n\u001b[0m\u001b[1;32m    465\u001b[0m         \u001b[0marrays\u001b[0m\u001b[0;34m,\u001b[0m \u001b[0mdata_names\u001b[0m\u001b[0;34m,\u001b[0m \u001b[0mindex\u001b[0m\u001b[0;34m,\u001b[0m \u001b[0mcolumns\u001b[0m\u001b[0;34m,\u001b[0m \u001b[0mdtype\u001b[0m\u001b[0;34m=\u001b[0m\u001b[0mdtype\u001b[0m\u001b[0;34m,\u001b[0m \u001b[0mtyp\u001b[0m\u001b[0;34m=\u001b[0m\u001b[0mtyp\u001b[0m\u001b[0;34m,\u001b[0m \u001b[0mconsolidate\u001b[0m\u001b[0;34m=\u001b[0m\u001b[0mcopy\u001b[0m\u001b[0;34m\u001b[0m\u001b[0;34m\u001b[0m\u001b[0m\n\u001b[1;32m    466\u001b[0m     )\n",
      "\u001b[0;32m/home/common/envs/conda/envs/domino/lib/python3.8/site-packages/pandas/core/internals/construction.py\u001b[0m in \u001b[0;36marrays_to_mgr\u001b[0;34m(arrays, arr_names, index, columns, dtype, verify_integrity, typ, consolidate)\u001b[0m\n\u001b[1;32m    122\u001b[0m \u001b[0;34m\u001b[0m\u001b[0m\n\u001b[1;32m    123\u001b[0m         \u001b[0;31m# don't force copy because getting jammed in an ndarray anyway\u001b[0m\u001b[0;34m\u001b[0m\u001b[0;34m\u001b[0m\u001b[0;34m\u001b[0m\u001b[0m\n\u001b[0;32m--> 124\u001b[0;31m         \u001b[0marrays\u001b[0m \u001b[0;34m=\u001b[0m \u001b[0m_homogenize\u001b[0m\u001b[0;34m(\u001b[0m\u001b[0marrays\u001b[0m\u001b[0;34m,\u001b[0m \u001b[0mindex\u001b[0m\u001b[0;34m,\u001b[0m \u001b[0mdtype\u001b[0m\u001b[0;34m)\u001b[0m\u001b[0;34m\u001b[0m\u001b[0;34m\u001b[0m\u001b[0m\n\u001b[0m\u001b[1;32m    125\u001b[0m \u001b[0;34m\u001b[0m\u001b[0m\n\u001b[1;32m    126\u001b[0m     \u001b[0;32melse\u001b[0m\u001b[0;34m:\u001b[0m\u001b[0;34m\u001b[0m\u001b[0;34m\u001b[0m\u001b[0m\n",
      "\u001b[0;32m/home/common/envs/conda/envs/domino/lib/python3.8/site-packages/pandas/core/internals/construction.py\u001b[0m in \u001b[0;36m_homogenize\u001b[0;34m(data, index, dtype)\u001b[0m\n\u001b[1;32m    587\u001b[0m                 \u001b[0mval\u001b[0m \u001b[0;34m=\u001b[0m \u001b[0mlib\u001b[0m\u001b[0;34m.\u001b[0m\u001b[0mfast_multiget\u001b[0m\u001b[0;34m(\u001b[0m\u001b[0mval\u001b[0m\u001b[0;34m,\u001b[0m \u001b[0moindex\u001b[0m\u001b[0;34m.\u001b[0m\u001b[0m_values\u001b[0m\u001b[0;34m,\u001b[0m \u001b[0mdefault\u001b[0m\u001b[0;34m=\u001b[0m\u001b[0mnp\u001b[0m\u001b[0;34m.\u001b[0m\u001b[0mnan\u001b[0m\u001b[0;34m)\u001b[0m\u001b[0;34m\u001b[0m\u001b[0;34m\u001b[0m\u001b[0m\n\u001b[1;32m    588\u001b[0m \u001b[0;34m\u001b[0m\u001b[0m\n\u001b[0;32m--> 589\u001b[0;31m             val = sanitize_array(\n\u001b[0m\u001b[1;32m    590\u001b[0m                 \u001b[0mval\u001b[0m\u001b[0;34m,\u001b[0m \u001b[0mindex\u001b[0m\u001b[0;34m,\u001b[0m \u001b[0mdtype\u001b[0m\u001b[0;34m=\u001b[0m\u001b[0mdtype\u001b[0m\u001b[0;34m,\u001b[0m \u001b[0mcopy\u001b[0m\u001b[0;34m=\u001b[0m\u001b[0;32mFalse\u001b[0m\u001b[0;34m,\u001b[0m \u001b[0mraise_cast_failure\u001b[0m\u001b[0;34m=\u001b[0m\u001b[0;32mFalse\u001b[0m\u001b[0;34m\u001b[0m\u001b[0;34m\u001b[0m\u001b[0m\n\u001b[1;32m    591\u001b[0m             )\n",
      "\u001b[0;32m/home/common/envs/conda/envs/domino/lib/python3.8/site-packages/pandas/core/construction.py\u001b[0m in \u001b[0;36msanitize_array\u001b[0;34m(data, index, dtype, copy, raise_cast_failure, allow_2d)\u001b[0m\n\u001b[1;32m    575\u001b[0m                 \u001b[0msubarr\u001b[0m \u001b[0;34m=\u001b[0m \u001b[0mmaybe_infer_to_datetimelike\u001b[0m\u001b[0;34m(\u001b[0m\u001b[0msubarr\u001b[0m\u001b[0;34m)\u001b[0m\u001b[0;34m\u001b[0m\u001b[0;34m\u001b[0m\u001b[0m\n\u001b[1;32m    576\u001b[0m \u001b[0;34m\u001b[0m\u001b[0m\n\u001b[0;32m--> 577\u001b[0;31m     \u001b[0msubarr\u001b[0m \u001b[0;34m=\u001b[0m \u001b[0m_sanitize_ndim\u001b[0m\u001b[0;34m(\u001b[0m\u001b[0msubarr\u001b[0m\u001b[0;34m,\u001b[0m \u001b[0mdata\u001b[0m\u001b[0;34m,\u001b[0m \u001b[0mdtype\u001b[0m\u001b[0;34m,\u001b[0m \u001b[0mindex\u001b[0m\u001b[0;34m,\u001b[0m \u001b[0mallow_2d\u001b[0m\u001b[0;34m=\u001b[0m\u001b[0mallow_2d\u001b[0m\u001b[0;34m)\u001b[0m\u001b[0;34m\u001b[0m\u001b[0;34m\u001b[0m\u001b[0m\n\u001b[0m\u001b[1;32m    578\u001b[0m \u001b[0;34m\u001b[0m\u001b[0m\n\u001b[1;32m    579\u001b[0m     \u001b[0;32mif\u001b[0m \u001b[0misinstance\u001b[0m\u001b[0;34m(\u001b[0m\u001b[0msubarr\u001b[0m\u001b[0;34m,\u001b[0m \u001b[0mnp\u001b[0m\u001b[0;34m.\u001b[0m\u001b[0mndarray\u001b[0m\u001b[0;34m)\u001b[0m\u001b[0;34m:\u001b[0m\u001b[0;34m\u001b[0m\u001b[0;34m\u001b[0m\u001b[0m\n",
      "\u001b[0;32m/home/common/envs/conda/envs/domino/lib/python3.8/site-packages/pandas/core/construction.py\u001b[0m in \u001b[0;36m_sanitize_ndim\u001b[0;34m(result, data, dtype, index, allow_2d)\u001b[0m\n\u001b[1;32m    626\u001b[0m             \u001b[0;32mif\u001b[0m \u001b[0mallow_2d\u001b[0m\u001b[0;34m:\u001b[0m\u001b[0;34m\u001b[0m\u001b[0;34m\u001b[0m\u001b[0m\n\u001b[1;32m    627\u001b[0m                 \u001b[0;32mreturn\u001b[0m \u001b[0mresult\u001b[0m\u001b[0;34m\u001b[0m\u001b[0;34m\u001b[0m\u001b[0m\n\u001b[0;32m--> 628\u001b[0;31m             \u001b[0;32mraise\u001b[0m \u001b[0mValueError\u001b[0m\u001b[0;34m(\u001b[0m\u001b[0;34m\"Data must be 1-dimensional\"\u001b[0m\u001b[0;34m)\u001b[0m\u001b[0;34m\u001b[0m\u001b[0;34m\u001b[0m\u001b[0m\n\u001b[0m\u001b[1;32m    629\u001b[0m         \u001b[0;32mif\u001b[0m \u001b[0mis_object_dtype\u001b[0m\u001b[0;34m(\u001b[0m\u001b[0mdtype\u001b[0m\u001b[0;34m)\u001b[0m \u001b[0;32mand\u001b[0m \u001b[0misinstance\u001b[0m\u001b[0;34m(\u001b[0m\u001b[0mdtype\u001b[0m\u001b[0;34m,\u001b[0m \u001b[0mExtensionDtype\u001b[0m\u001b[0;34m)\u001b[0m\u001b[0;34m:\u001b[0m\u001b[0;34m\u001b[0m\u001b[0;34m\u001b[0m\u001b[0m\n\u001b[1;32m    630\u001b[0m             \u001b[0;31m# i.e. PandasDtype(\"O\")\u001b[0m\u001b[0;34m\u001b[0m\u001b[0;34m\u001b[0m\u001b[0;34m\u001b[0m\u001b[0m\n",
      "\u001b[0;31mValueError\u001b[0m: Data must be 1-dimensional"
     ]
    }
   ],
   "metadata": {}
  },
  {
   "cell_type": "code",
   "execution_count": 6,
   "source": [
    "from domino.train import score_settings, train_settings, score_model, train_model"
   ],
   "outputs": [],
   "metadata": {}
  },
  {
   "cell_type": "code",
   "execution_count": 82,
   "source": [
    "attribute = \"mustache\"\n",
    "\n",
    "words_dp = embed_phrases.out().load()\n",
    "words_dp = words_dp.lz[:10_000]\n",
    "\n",
    "pred_slice_idx = 0\n",
    "words_dp = words_dp.view()\n",
    "slice_proto = (\n",
    "    np.dot(dp[\"pred_slices\"].T, dp[\"emb\"])\n",
    "    / dp[\"pred_slices\"].sum(axis=0, keepdims=True).T\n",
    ")\n",
    "slice_proto = dp[\"emb\"][dp[attribute] == 1].mean(axis=0)\n",
    "#slice_proto = dp.lz[dp[\"probs\"].argsort()[-25:]][\"emb\"].mean(axis=0)\n",
    "\n",
    "\n",
    "ref_proto = dp[\"emb\"][dp[attribute] == 0].data.mean(axis=0)\n",
    "\n",
    "words_dp[\"pred_slices\"] = np.dot(\n",
    "    words_dp[\"emb\"].data, (slice_proto - ref_proto).T\n",
    ")\n",
    "expl_dp = words_dp[[\"word\", \"pred_slices\"]]\n",
    "expl_dp.lz[(-expl_dp[\"pred_slices\"]).argsort()[0:10]]"
   ],
   "outputs": [
    {
     "output_type": "execute_result",
     "data": {
      "text/html": [
       "<table border=\"1\" class=\"dataframe\">\n",
       "  <thead>\n",
       "    <tr style=\"text-align: right;\">\n",
       "      <th></th>\n",
       "      <th>word (PandasSeriesColumn)</th>\n",
       "      <th>pred_slices (NumpyArrayColumn)</th>\n",
       "    </tr>\n",
       "  </thead>\n",
       "  <tbody>\n",
       "    <tr>\n",
       "      <th>0</th>\n",
       "      <td>a photo of a man with mustaches.</td>\n",
       "      <td>4.753906</td>\n",
       "    </tr>\n",
       "    <tr>\n",
       "      <th>1</th>\n",
       "      <td>a photo of a man with mustache.</td>\n",
       "      <td>4.718750</td>\n",
       "    </tr>\n",
       "    <tr>\n",
       "      <th>2</th>\n",
       "      <td>a photo of a man with a mustache.</td>\n",
       "      <td>4.652344</td>\n",
       "    </tr>\n",
       "    <tr>\n",
       "      <th>3</th>\n",
       "      <td>a photo of a guy with mustache.</td>\n",
       "      <td>4.445312</td>\n",
       "    </tr>\n",
       "    <tr>\n",
       "      <th>4</th>\n",
       "      <td>a photo of a guy with mustaches.</td>\n",
       "      <td>4.421875</td>\n",
       "    </tr>\n",
       "    <tr>\n",
       "      <th>5</th>\n",
       "      <td>a photo of a man in blackness.</td>\n",
       "      <td>4.371094</td>\n",
       "    </tr>\n",
       "    <tr>\n",
       "      <th>6</th>\n",
       "      <td>a photo of a man with swagger.</td>\n",
       "      <td>4.277344</td>\n",
       "    </tr>\n",
       "    <tr>\n",
       "      <th>7</th>\n",
       "      <td>a photo of a guy with facial hair.</td>\n",
       "      <td>4.207031</td>\n",
       "    </tr>\n",
       "    <tr>\n",
       "      <th>8</th>\n",
       "      <td>a photo of a man of quality.</td>\n",
       "      <td>4.183594</td>\n",
       "    </tr>\n",
       "    <tr>\n",
       "      <th>9</th>\n",
       "      <td>a photo of a man to relate to.</td>\n",
       "      <td>4.125000</td>\n",
       "    </tr>\n",
       "  </tbody>\n",
       "</table>"
      ],
      "text/plain": [
       "DataPanel(nrows: 10, ncols: 2)"
      ]
     },
     "metadata": {},
     "execution_count": 82
    }
   ],
   "metadata": {}
  },
  {
   "cell_type": "code",
   "execution_count": 5,
   "source": [
    "score_settings.out().load()[\"score_model_run_id\"]"
   ],
   "outputs": [
    {
     "output_type": "execute_result",
     "data": {
      "text/html": [
       "<table border=\"1\" class=\"dataframe\">\n",
       "  <thead>\n",
       "    <tr style=\"text-align: right;\">\n",
       "      <th></th>\n",
       "      <th>(PandasSeriesColumn)</th>\n",
       "    </tr>\n",
       "  </thead>\n",
       "  <tbody>\n",
       "    <tr>\n",
       "      <th>0</th>\n",
       "      <td>15006</td>\n",
       "    </tr>\n",
       "    <tr>\n",
       "      <th>1</th>\n",
       "      <td>15007</td>\n",
       "    </tr>\n",
       "    <tr>\n",
       "      <th>2</th>\n",
       "      <td>15008</td>\n",
       "    </tr>\n",
       "    <tr>\n",
       "      <th>3</th>\n",
       "      <td>15005</td>\n",
       "    </tr>\n",
       "    <tr>\n",
       "      <th>4</th>\n",
       "      <td>15009</td>\n",
       "    </tr>\n",
       "    <tr>\n",
       "      <th>5</th>\n",
       "      <td>15010</td>\n",
       "    </tr>\n",
       "    <tr>\n",
       "      <th>6</th>\n",
       "      <td>15011</td>\n",
       "    </tr>\n",
       "    <tr>\n",
       "      <th>7</th>\n",
       "      <td>15012</td>\n",
       "    </tr>\n",
       "    <tr>\n",
       "      <th>8</th>\n",
       "      <td>15014</td>\n",
       "    </tr>\n",
       "    <tr>\n",
       "      <th>9</th>\n",
       "      <td>15013</td>\n",
       "    </tr>\n",
       "  </tbody>\n",
       "</table>"
      ],
      "text/plain": [
       "PandasSeriesColumn(0    15006\n",
       "1 ..., dtype: int64)"
      ]
     },
     "metadata": {},
     "execution_count": 5
    }
   ],
   "metadata": {}
  },
  {
   "cell_type": "code",
   "execution_count": 8,
   "source": [
    "score_dp = score_model.out(15006).load()"
   ],
   "outputs": [],
   "metadata": {}
  },
  {
   "cell_type": "code",
   "execution_count": 18,
   "source": [
    "from sklearn.metrics import roc_auc_score\n",
    "mask = score_dp[\"target\"] != score_dp[\"correlate\"]\n",
    "roc_auc_score(score_dp.lz[mask][\"target\"], score_dp.lz[mask][\"probs\"][:, 1])"
   ],
   "outputs": [
    {
     "output_type": "execute_result",
     "data": {
      "text/plain": [
       "0.26252927075972343"
      ]
     },
     "metadata": {},
     "execution_count": 18
    }
   ],
   "metadata": {}
  },
  {
   "cell_type": "code",
   "execution_count": 13,
   "source": [
    "score_dp[\"probs\"] = score_dp[\"output\"].probabilities()"
   ],
   "outputs": [],
   "metadata": {}
  },
  {
   "cell_type": "code",
   "execution_count": 10,
   "source": [
    "from domino.train import score_settings, synthetic_score_settings, score_model"
   ],
   "outputs": [],
   "metadata": {}
  },
  {
   "cell_type": "code",
   "execution_count": 5,
   "source": [
    "type(synthetic_score_settings.out().load())"
   ],
   "outputs": [
    {
     "output_type": "execute_result",
     "data": {
      "text/plain": [
       "meerkat.datapanel.DataPanel"
      ]
     },
     "metadata": {},
     "execution_count": 5
    }
   ],
   "metadata": {}
  },
  {
   "cell_type": "code",
   "execution_count": 19,
   "source": [
    "score_settings.out()[0].load()"
   ],
   "outputs": [
    {
     "output_type": "execute_result",
     "data": {
      "text/html": [
       "<table border=\"1\" class=\"dataframe\">\n",
       "  <thead>\n",
       "    <tr style=\"text-align: right;\">\n",
       "      <th></th>\n",
       "      <th>train_model_run_id (PandasSeriesColumn)</th>\n",
       "      <th>setting_id (NumpyArrayColumn)</th>\n",
       "      <th>corr (NumpyArrayColumn)</th>\n",
       "      <th>correlate (PandasSeriesColumn)</th>\n",
       "      <th>dataset (PandasSeriesColumn)</th>\n",
       "      <th>n (NumpyArrayColumn)</th>\n",
       "      <th>slice_category (PandasSeriesColumn)</th>\n",
       "      <th>target (PandasSeriesColumn)</th>\n",
       "      <th>index (PandasSeriesColumn)</th>\n",
       "      <th>parent_run_id (PandasSeriesColumn)</th>\n",
       "      <th>build_setting_run_id (PandasSeriesColumn)</th>\n",
       "      <th>time_this_iter_s (PandasSeriesColumn)</th>\n",
       "      <th>done (PandasSeriesColumn)</th>\n",
       "      <th>timesteps_total (PandasSeriesColumn)</th>\n",
       "      <th>episodes_total (PandasSeriesColumn)</th>\n",
       "      <th>training_iteration (PandasSeriesColumn)</th>\n",
       "      <th>experiment_id (PandasSeriesColumn)</th>\n",
       "      <th>date (PandasSeriesColumn)</th>\n",
       "      <th>timestamp (PandasSeriesColumn)</th>\n",
       "      <th>time_total_s (PandasSeriesColumn)</th>\n",
       "      <th>pid (PandasSeriesColumn)</th>\n",
       "      <th>hostname (PandasSeriesColumn)</th>\n",
       "      <th>node_ip (PandasSeriesColumn)</th>\n",
       "      <th>time_since_restore (PandasSeriesColumn)</th>\n",
       "      <th>timesteps_since_restore (PandasSeriesColumn)</th>\n",
       "      <th>iterations_since_restore (PandasSeriesColumn)</th>\n",
       "      <th>trial_id (PandasSeriesColumn)</th>\n",
       "      <th>config/corr (PandasSeriesColumn)</th>\n",
       "      <th>config/correlate (PandasSeriesColumn)</th>\n",
       "      <th>config/dataset (PandasSeriesColumn)</th>\n",
       "      <th>config/index (PandasSeriesColumn)</th>\n",
       "      <th>config/n (PandasSeriesColumn)</th>\n",
       "      <th>config/setting_id (PandasSeriesColumn)</th>\n",
       "      <th>config/slice_category (PandasSeriesColumn)</th>\n",
       "      <th>config/target (PandasSeriesColumn)</th>\n",
       "      <th>logdir (PandasSeriesColumn)</th>\n",
       "      <th>score_settings_run_id (PandasSeriesColumn)</th>\n",
       "      <th>score_model_run_id (PandasSeriesColumn)</th>\n",
       "      <th>synthetic_preds (PandasSeriesColumn)</th>\n",
       "    </tr>\n",
       "  </thead>\n",
       "  <tbody>\n",
       "    <tr>\n",
       "      <th>0</th>\n",
       "      <td>14936</td>\n",
       "      <td>163</td>\n",
       "      <td>0.6</td>\n",
       "      <td>blond_hair</td>\n",
       "      <td>celeba</td>\n",
       "      <td>30000</td>\n",
       "      <td>correlation</td>\n",
       "      <td>wearing_necklace</td>\n",
       "      <td>0</td>\n",
       "      <td>14928</td>\n",
       "      <td>14930</td>\n",
       "      <td>1112.037066</td>\n",
       "      <td>False</td>\n",
       "      <td>NaN</td>\n",
       "      <td>NaN</td>\n",
       "      <td>1</td>\n",
       "      <td>8ef98aebaa294f1f8875ae337af348ea</td>\n",
       "      <td>2021-09-22_12-08-35</td>\n",
       "      <td>1632312515</td>\n",
       "      <td>1112.037066</td>\n",
       "      <td>198</td>\n",
       "      <td>run-script-nf5ts</td>\n",
       "      <td>10.92.1.25</td>\n",
       "      <td>1112.037066</td>\n",
       "      <td>0</td>\n",
       "      <td>1</td>\n",
       "      <td>36c4b_00000</td>\n",
       "      <td>0.6</td>\n",
       "      <td>blond_hair</td>\n",
       "      <td>celeba</td>\n",
       "      <td>163</td>\n",
       "      <td>30000</td>\n",
       "      <td>163</td>\n",
       "      <td>correlation</td>\n",
       "      <td>wearing_necklace</td>\n",
       "      <td>/root/ray_results/_train_model_2021-09-22_11-49-59/_train_model_36c4b_00000_0_config={'corr': 0.6000000000000001, 'correlate': 'blond_hair', 'dataset': 'celeba', 'n': 30000, 'slice__2021-09-22_11-49-59</td>\n",
       "      <td>15044</td>\n",
       "      <td>15045</td>\n",
       "      <td>False</td>\n",
       "    </tr>\n",
       "    <tr>\n",
       "      <th>1</th>\n",
       "      <td>14933</td>\n",
       "      <td>139</td>\n",
       "      <td>0.8</td>\n",
       "      <td>eyeglasses</td>\n",
       "      <td>celeba</td>\n",
       "      <td>30000</td>\n",
       "      <td>correlation</td>\n",
       "      <td>wearing_hat</td>\n",
       "      <td>1</td>\n",
       "      <td>14928</td>\n",
       "      <td>14931</td>\n",
       "      <td>1116.230135</td>\n",
       "      <td>False</td>\n",
       "      <td>NaN</td>\n",
       "      <td>NaN</td>\n",
       "      <td>1</td>\n",
       "      <td>20a0c9441e584990983fc829547b6915</td>\n",
       "      <td>2021-09-22_12-08-39</td>\n",
       "      <td>1632312519</td>\n",
       "      <td>1116.230135</td>\n",
       "      <td>196</td>\n",
       "      <td>run-script-nf5ts</td>\n",
       "      <td>10.92.1.25</td>\n",
       "      <td>1116.230135</td>\n",
       "      <td>0</td>\n",
       "      <td>1</td>\n",
       "      <td>36c4b_00001</td>\n",
       "      <td>0.8</td>\n",
       "      <td>eyeglasses</td>\n",
       "      <td>celeba</td>\n",
       "      <td>139</td>\n",
       "      <td>30000</td>\n",
       "      <td>139</td>\n",
       "      <td>correlation</td>\n",
       "      <td>wearing_hat</td>\n",
       "      <td>/root/ray_results/_train_model_2021-09-22_11-49-59/_train_model_36c4b_00001_1_config={'corr': 0.8, 'correlate': 'eyeglasses', 'dataset': 'celeba', 'n': 30000, 'slice_category': 'cor_2021-09-22_11-49-59</td>\n",
       "      <td>15044</td>\n",
       "      <td>15046</td>\n",
       "      <td>False</td>\n",
       "    </tr>\n",
       "  </tbody>\n",
       "</table>"
      ],
      "text/plain": [
       "DataPanel(nrows: 2, ncols: 39)"
      ]
     },
     "metadata": {},
     "execution_count": 19
    }
   ],
   "metadata": {}
  },
  {
   "cell_type": "code",
   "execution_count": 24,
   "source": [
    "score_model.out(15045)[0].load()[\"split\"].unique()"
   ],
   "outputs": [
    {
     "output_type": "execute_result",
     "data": {
      "text/plain": [
       "array(['train', 'valid'], dtype=object)"
      ]
     },
     "metadata": {},
     "execution_count": 24
    }
   ],
   "metadata": {}
  },
  {
   "cell_type": "code",
   "execution_count": 56,
   "source": [
    "from domino.data.celeba import get_celeba_dp"
   ],
   "outputs": [],
   "metadata": {}
  },
  {
   "cell_type": "code",
   "execution_count": 96,
   "source": [
    "sb = CelebASliceBuilder()\n",
    "out = sb.build_rare_setting(\n",
    "    data_dp=get_celeba_dp.out().load(),\n",
    "    target_attrs=[\"wearing_earrings\", \"male\", \"blond_hair\"],\n",
    "    slice_attrs=[\"blond_hair\"],\n",
    "    slice_frac=0.01,\n",
    "    target_frac=0.5,\n",
    "    n=20_000\n",
    ")"
   ],
   "outputs": [],
   "metadata": {}
  },
  {
   "cell_type": "code",
   "execution_count": 99,
   "source": [
    "out[\"wearing_earrings\"].mean()"
   ],
   "outputs": [
    {
     "output_type": "execute_result",
     "data": {
      "text/plain": [
       "0.1394"
      ]
     },
     "metadata": {},
     "execution_count": 99
    }
   ],
   "metadata": {}
  },
  {
   "cell_type": "code",
   "execution_count": 84,
   "source": [
    "np.any(out == 1, axis=0).mean()"
   ],
   "outputs": [
    {
     "output_type": "execute_result",
     "data": {
      "text/plain": [
       "0.7881282730911802"
      ]
     },
     "metadata": {},
     "execution_count": 84
    }
   ],
   "metadata": {}
  },
  {
   "cell_type": "code",
   "execution_count": 73,
   "source": [
    " data_dp=get_celeba_dp.out().load()"
   ],
   "outputs": [],
   "metadata": {}
  },
  {
   "cell_type": "code",
   "execution_count": 85,
   "source": [
    "target_attrs=[\"wearing_earrings\", \"male\", \"blond_hair\"]\n",
    "\n",
    "targets = np.array(\n",
    "            [data_dp[attr] for attr in target_attrs]\n",
    ")\n"
   ],
   "outputs": [],
   "metadata": {}
  },
  {
   "cell_type": "code",
   "execution_count": 100,
   "source": [
    "train_settings.out()"
   ],
   "outputs": [
    {
     "output_type": "error",
     "ename": "NameError",
     "evalue": "name 'train_settings' is not defined",
     "traceback": [
      "\u001b[0;31m---------------------------------------------------------------------------\u001b[0m",
      "\u001b[0;31mNameError\u001b[0m                                 Traceback (most recent call last)",
      "\u001b[0;32m/tmp/ipykernel_2982/4102485765.py\u001b[0m in \u001b[0;36m<module>\u001b[0;34m\u001b[0m\n\u001b[0;32m----> 1\u001b[0;31m \u001b[0mtrain_settings\u001b[0m\u001b[0;34m.\u001b[0m\u001b[0mout\u001b[0m\u001b[0;34m(\u001b[0m\u001b[0;34m)\u001b[0m\u001b[0;34m\u001b[0m\u001b[0;34m\u001b[0m\u001b[0m\n\u001b[0m",
      "\u001b[0;31mNameError\u001b[0m: name 'train_settings' is not defined"
     ]
    }
   ],
   "metadata": {}
  },
  {
   "cell_type": "code",
   "execution_count": 97,
   "source": [
    "from domino.emb.clip import get_wiki_words\n",
    "dp = get_wiki_words(top_k=10_000, eng_only=True).load()\n",
    "(dp[\"word\"] == \"earrings\").any()"
   ],
   "outputs": [
    {
     "output_type": "stream",
     "name": "stdout",
     "text": [
      "task: get_wiki_words, run_id=16792\n"
     ]
    },
    {
     "output_type": "stream",
     "name": "stderr",
     "text": [
      "[nltk_data] Downloading package words to /root/nltk_data...\n",
      "[nltk_data]   Unzipping corpora/words.zip.\n"
     ]
    },
    {
     "output_type": "execute_result",
     "data": {
      "text/plain": [
       "False"
      ]
     },
     "metadata": {},
     "execution_count": 97
    }
   ],
   "metadata": {}
  },
  {
   "cell_type": "code",
   "execution_count": 98,
   "source": [
    "dp"
   ],
   "outputs": [
    {
     "output_type": "execute_result",
     "data": {
      "text/html": [
       "<table border=\"1\" class=\"dataframe\">\n",
       "  <thead>\n",
       "    <tr style=\"text-align: right;\">\n",
       "      <th></th>\n",
       "      <th>word (PandasSeriesColumn)</th>\n",
       "      <th>frequency (PandasSeriesColumn)</th>\n",
       "      <th>index (PandasSeriesColumn)</th>\n",
       "    </tr>\n",
       "  </thead>\n",
       "  <tbody>\n",
       "    <tr>\n",
       "      <th>0</th>\n",
       "      <td>the</td>\n",
       "      <td>151983633.0</td>\n",
       "      <td>0</td>\n",
       "    </tr>\n",
       "    <tr>\n",
       "      <th>1</th>\n",
       "      <td>of</td>\n",
       "      <td>71874676.0</td>\n",
       "      <td>1</td>\n",
       "    </tr>\n",
       "    <tr>\n",
       "      <th>2</th>\n",
       "      <td>and</td>\n",
       "      <td>62210193.0</td>\n",
       "      <td>2</td>\n",
       "    </tr>\n",
       "    <tr>\n",
       "      <th>3</th>\n",
       "      <td>in</td>\n",
       "      <td>62004799.0</td>\n",
       "      <td>3</td>\n",
       "    </tr>\n",
       "    <tr>\n",
       "      <th>4</th>\n",
       "      <td>to</td>\n",
       "      <td>43364193.0</td>\n",
       "      <td>4</td>\n",
       "    </tr>\n",
       "    <tr>\n",
       "      <th>...</th>\n",
       "      <td>...</td>\n",
       "      <td>...</td>\n",
       "      <td>...</td>\n",
       "    </tr>\n",
       "    <tr>\n",
       "      <th>9995</th>\n",
       "      <td>het</td>\n",
       "      <td>5533.0</td>\n",
       "      <td>9995</td>\n",
       "    </tr>\n",
       "    <tr>\n",
       "      <th>9996</th>\n",
       "      <td>cleric</td>\n",
       "      <td>5531.0</td>\n",
       "      <td>9996</td>\n",
       "    </tr>\n",
       "    <tr>\n",
       "      <th>9997</th>\n",
       "      <td>unfavorable</td>\n",
       "      <td>5528.0</td>\n",
       "      <td>9997</td>\n",
       "    </tr>\n",
       "    <tr>\n",
       "      <th>9998</th>\n",
       "      <td>disperse</td>\n",
       "      <td>5528.0</td>\n",
       "      <td>9998</td>\n",
       "    </tr>\n",
       "    <tr>\n",
       "      <th>9999</th>\n",
       "      <td>recurrent</td>\n",
       "      <td>5527.0</td>\n",
       "      <td>9999</td>\n",
       "    </tr>\n",
       "  </tbody>\n",
       "</table>"
      ],
      "text/plain": [
       "DataPanel(nrows: 10000, ncols: 3)"
      ]
     },
     "metadata": {},
     "execution_count": 98
    }
   ],
   "metadata": {}
  },
  {
   "cell_type": "code",
   "execution_count": 104,
   "source": [
    "\"blond\" in dp[\"word\"]"
   ],
   "outputs": [
    {
     "output_type": "execute_result",
     "data": {
      "text/plain": [
       "False"
      ]
     },
     "metadata": {},
     "execution_count": 104
    }
   ],
   "metadata": {}
  },
  {
   "cell_type": "code",
   "execution_count": 5,
   "source": [
    "import nltk\n",
    "nltk.download(\"wordnet\")"
   ],
   "outputs": [
    {
     "output_type": "stream",
     "name": "stderr",
     "text": [
      "[nltk_data] Downloading package wordnet to /root/nltk_data...\n",
      "[nltk_data]   Unzipping corpora/wordnet.zip.\n"
     ]
    },
    {
     "output_type": "execute_result",
     "data": {
      "text/plain": [
       "True"
      ]
     },
     "metadata": {},
     "execution_count": 5
    }
   ],
   "metadata": {}
  },
  {
   "cell_type": "code",
   "execution_count": 3,
   "source": [
    "from nltk.corpus import wordnet as wn\n",
    "nl"
   ],
   "outputs": [],
   "metadata": {}
  },
  {
   "cell_type": "code",
   "execution_count": 71,
   "source": [
    "from transformers import pipeline, set_seed\n",
    "generator = pipeline('text-generation', model='gpt2')\n",
    "set_seed(42)\n",
    "generator(\"A portrait of a person\", max_length=7, num_return_sequences=5)"
   ],
   "outputs": [
    {
     "output_type": "stream",
     "name": "stderr",
     "text": [
      "Setting `pad_token_id` to `eos_token_id`:50256 for open-end generation.\n"
     ]
    },
    {
     "output_type": "execute_result",
     "data": {
      "text/plain": [
       "[{'generated_text': 'A portrait of a person who died'},\n",
       " {'generated_text': \"A portrait of a person's head\"},\n",
       " {'generated_text': 'A portrait of a person holding down'},\n",
       " {'generated_text': 'A portrait of a person who will'},\n",
       " {'generated_text': 'A portrait of a person wearing long'}]"
      ]
     },
     "metadata": {},
     "execution_count": 71
    }
   ],
   "metadata": {}
  },
  {
   "cell_type": "code",
   "execution_count": 17,
   "source": [
    "hypernyms = []\n",
    "for hypernym in synset.closure(lambda s: s.hypernyms()):\n",
    "    hypernyms.append(\n",
    "        {\n",
    "            \"synset\": synset.name(),\n",
    "            \"hypernym\": hypernym.name(),\n",
    "        }\n",
    "    )\n",
    "hypernyms"
   ],
   "outputs": [
    {
     "output_type": "execute_result",
     "data": {
      "text/plain": [
       "[{'synset': 'smile.n.01', 'hypernym': 'facial_expression.n.01'},\n",
       " {'synset': 'smile.n.01', 'hypernym': 'gesture.n.02'},\n",
       " {'synset': 'smile.n.01', 'hypernym': 'visual_communication.n.01'},\n",
       " {'synset': 'smile.n.01', 'hypernym': 'communication.n.02'},\n",
       " {'synset': 'smile.n.01', 'hypernym': 'abstraction.n.06'},\n",
       " {'synset': 'smile.n.01', 'hypernym': 'entity.n.01'}]"
      ]
     },
     "metadata": {},
     "execution_count": 17
    }
   ],
   "metadata": {}
  },
  {
   "cell_type": "code",
   "execution_count": 27,
   "source": [
    "from transformers import pipeline, set_seed"
   ],
   "outputs": [],
   "metadata": {}
  },
  {
   "cell_type": "code",
   "execution_count": 28,
   "source": [
    "unmasker = pipeline('fill-mask', model='xlm-roberta-base')"
   ],
   "outputs": [],
   "metadata": {}
  },
  {
   "cell_type": "code",
   "execution_count": 26,
   "source": [
    "unmasker = pipeline(\"\", max_length=30, num_return_sequences=5)"
   ],
   "outputs": [
    {
     "output_type": "error",
     "ename": "PipelineException",
     "evalue": "No mask_token (<mask>) found on the input",
     "traceback": [
      "\u001b[0;31m---------------------------------------------------------------------------\u001b[0m",
      "\u001b[0;31mPipelineException\u001b[0m                         Traceback (most recent call last)",
      "\u001b[0;32m/tmp/ipykernel_2627/3643021087.py\u001b[0m in \u001b[0;36m<module>\u001b[0;34m\u001b[0m\n\u001b[0;32m----> 1\u001b[0;31m \u001b[0munmasker\u001b[0m \u001b[0;34m=\u001b[0m \u001b[0mpipeline\u001b[0m\u001b[0;34m(\u001b[0m\u001b[0;34m\"\"\u001b[0m\u001b[0;34m,\u001b[0m \u001b[0mmax_length\u001b[0m\u001b[0;34m=\u001b[0m\u001b[0;36m30\u001b[0m\u001b[0;34m,\u001b[0m \u001b[0mnum_return_sequences\u001b[0m\u001b[0;34m=\u001b[0m\u001b[0;36m5\u001b[0m\u001b[0;34m)\u001b[0m\u001b[0;34m\u001b[0m\u001b[0;34m\u001b[0m\u001b[0m\n\u001b[0m",
      "\u001b[0;32m/home/common/envs/conda/envs/domino/lib/python3.8/site-packages/transformers/pipelines/fill_mask.py\u001b[0m in \u001b[0;36m__call__\u001b[0;34m(self, targets, top_k, *args, **kwargs)\u001b[0m\n\u001b[1;32m    160\u001b[0m \u001b[0;34m\u001b[0m\u001b[0m\n\u001b[1;32m    161\u001b[0m                 \u001b[0;31m# Fill mask pipeline supports only one ${mask_token} per sample\u001b[0m\u001b[0;34m\u001b[0m\u001b[0;34m\u001b[0m\u001b[0;34m\u001b[0m\u001b[0m\n\u001b[0;32m--> 162\u001b[0;31m                 \u001b[0mself\u001b[0m\u001b[0;34m.\u001b[0m\u001b[0mensure_exactly_one_mask_token\u001b[0m\u001b[0;34m(\u001b[0m\u001b[0mmasked_index\u001b[0m\u001b[0;34m.\u001b[0m\u001b[0mnumpy\u001b[0m\u001b[0;34m(\u001b[0m\u001b[0;34m)\u001b[0m\u001b[0;34m)\u001b[0m\u001b[0;34m\u001b[0m\u001b[0;34m\u001b[0m\u001b[0m\n\u001b[0m\u001b[1;32m    163\u001b[0m \u001b[0;34m\u001b[0m\u001b[0m\n\u001b[1;32m    164\u001b[0m                 \u001b[0mlogits\u001b[0m \u001b[0;34m=\u001b[0m \u001b[0moutputs\u001b[0m\u001b[0;34m[\u001b[0m\u001b[0mi\u001b[0m\u001b[0;34m,\u001b[0m \u001b[0mmasked_index\u001b[0m\u001b[0;34m.\u001b[0m\u001b[0mitem\u001b[0m\u001b[0;34m(\u001b[0m\u001b[0;34m)\u001b[0m\u001b[0;34m,\u001b[0m \u001b[0;34m:\u001b[0m\u001b[0;34m]\u001b[0m\u001b[0;34m\u001b[0m\u001b[0;34m\u001b[0m\u001b[0m\n",
      "\u001b[0;32m/home/common/envs/conda/envs/domino/lib/python3.8/site-packages/transformers/pipelines/fill_mask.py\u001b[0m in \u001b[0;36mensure_exactly_one_mask_token\u001b[0;34m(self, masked_index)\u001b[0m\n\u001b[1;32m     85\u001b[0m             )\n\u001b[1;32m     86\u001b[0m         \u001b[0;32melif\u001b[0m \u001b[0mnumel\u001b[0m \u001b[0;34m<\u001b[0m \u001b[0;36m1\u001b[0m\u001b[0;34m:\u001b[0m\u001b[0;34m\u001b[0m\u001b[0;34m\u001b[0m\u001b[0m\n\u001b[0;32m---> 87\u001b[0;31m             raise PipelineException(\n\u001b[0m\u001b[1;32m     88\u001b[0m                 \u001b[0;34m\"fill-mask\"\u001b[0m\u001b[0;34m,\u001b[0m\u001b[0;34m\u001b[0m\u001b[0;34m\u001b[0m\u001b[0m\n\u001b[1;32m     89\u001b[0m                 \u001b[0mself\u001b[0m\u001b[0;34m.\u001b[0m\u001b[0mmodel\u001b[0m\u001b[0;34m.\u001b[0m\u001b[0mbase_model_prefix\u001b[0m\u001b[0;34m,\u001b[0m\u001b[0;34m\u001b[0m\u001b[0;34m\u001b[0m\u001b[0m\n",
      "\u001b[0;31mPipelineException\u001b[0m: No mask_token (<mask>) found on the input"
     ]
    }
   ],
   "metadata": {}
  },
  {
   "cell_type": "code",
   "execution_count": null,
   "source": [],
   "outputs": [],
   "metadata": {}
  },
  {
   "cell_type": "code",
   "execution_count": 41,
   "source": [
    "unmasker(f\"A photo of a person .\")"
   ],
   "outputs": [
    {
     "output_type": "execute_result",
     "data": {
      "text/plain": [
       "[{'sequence': 'A photo of a person, smiling.',\n",
       "  'score': 0.40710172057151794,\n",
       "  'token': 4,\n",
       "  'token_str': ','},\n",
       " {'sequence': 'A photo of a person while smiling.',\n",
       "  'score': 0.08363543450832367,\n",
       "  'token': 12960,\n",
       "  'token_str': 'while'},\n",
       " {'sequence': 'A photo of a person still smiling.',\n",
       "  'score': 0.0663875937461853,\n",
       "  'token': 7464,\n",
       "  'token_str': 'still'},\n",
       " {'sequence': 'A photo of a person not smiling.',\n",
       "  'score': 0.025921307504177094,\n",
       "  'token': 959,\n",
       "  'token_str': 'not'},\n",
       " {'sequence': 'A photo of a person is smiling.',\n",
       "  'score': 0.0218026302754879,\n",
       "  'token': 83,\n",
       "  'token_str': 'is'}]"
      ]
     },
     "metadata": {},
     "execution_count": 41
    }
   ],
   "metadata": {}
  },
  {
   "cell_type": "code",
   "execution_count": 3,
   "source": [
    "templates = [\n",
    "    \"a photo of a person {}\",\n",
    "    \"a photo of a person {} [MASK]\",\n",
    "    \"a photo of a person {} [MASK] [MASK]\",\n",
    "    \"a photo of a person [MASK] {}\",\n",
    "    \"a photo of a person [MASK] {} [MASK]\",\n",
    "    \"a photo of a person [MASK] {} [MASK][MASK]\",\n",
    "    \"a photo of a person [MASK] [MASK] {}\",\n",
    "    \"a photo of a person [MASK] [MASK] {} [MASK]\",\n",
    "    \"a photo of a person [MASK] [MASK] {} [MASK] [MASK]\",\n",
    "]"
   ],
   "outputs": [],
   "metadata": {}
  },
  {
   "cell_type": "code",
   "execution_count": 68,
   "source": [
    "import torch\n",
    "from transformers import BertTokenizer, BertModel,BertForMaskedLM\n",
    " \n",
    "tokenizer = BertTokenizer.from_pretrained('bert-large-cased')\n",
    "\n",
    "word = \"smiling\"\n",
    "input_txt = [template.format(word) for template in templates]\n",
    "\n",
    "inputs = tokenizer(input_txt, return_tensors='pt', padding=True).to(0)\n",
    "\n",
    "\n",
    "model = BertForMaskedLM.from_pretrained('bert-large-cased').to(0)\n",
    "\n",
    "outputs = model(**inputs)\n",
    "predictions = outputs\n",
    "# sorted_preds, sorted_idx = predictions[0].sort(dim=-1, descending=True)\n",
    "# for k in range(10):\n",
    "#     predicted_index = [sorted_idx[i, k if inputs[\"input_ids\"][1, i] == 103 else 0].item() for i in range(0, inputs[\"input_ids\"].shape[-1])]\n",
    "#     predicted_token = [tokenizer.convert_ids_to_tokens([predicted_index[x]])[0] for x in range(1,inputs[\"input_ids\"].shape[-1])]\n",
    "#     print(predicted_token)"
   ],
   "outputs": [
    {
     "output_type": "display_data",
     "data": {
      "application/vnd.jupyter.widget-view+json": {
       "version_major": 2,
       "version_minor": 0,
       "model_id": "d54956d486e2430ab3bd2d770fe1045b"
      },
      "text/plain": [
       "HBox(children=(FloatProgress(value=0.0, description='Downloading', max=213450.0, style=ProgressStyle(descripti…"
      ]
     },
     "metadata": {}
    },
    {
     "output_type": "stream",
     "name": "stdout",
     "text": [
      "\n"
     ]
    },
    {
     "output_type": "display_data",
     "data": {
      "application/vnd.jupyter.widget-view+json": {
       "version_major": 2,
       "version_minor": 0,
       "model_id": "676b3317c3b84dd2b16070faf476bd72"
      },
      "text/plain": [
       "HBox(children=(FloatProgress(value=0.0, description='Downloading', max=29.0, style=ProgressStyle(description_w…"
      ]
     },
     "metadata": {}
    },
    {
     "output_type": "stream",
     "name": "stdout",
     "text": [
      "\n"
     ]
    },
    {
     "output_type": "display_data",
     "data": {
      "application/vnd.jupyter.widget-view+json": {
       "version_major": 2,
       "version_minor": 0,
       "model_id": "643e4de3e3104ea6b416f8a9b80bc9c6"
      },
      "text/plain": [
       "HBox(children=(FloatProgress(value=0.0, description='Downloading', max=435797.0, style=ProgressStyle(descripti…"
      ]
     },
     "metadata": {}
    },
    {
     "output_type": "stream",
     "name": "stdout",
     "text": [
      "\n"
     ]
    },
    {
     "output_type": "display_data",
     "data": {
      "application/vnd.jupyter.widget-view+json": {
       "version_major": 2,
       "version_minor": 0,
       "model_id": "e6d5f67a48744bd59bb8ff247e99c686"
      },
      "text/plain": [
       "HBox(children=(FloatProgress(value=0.0, description='Downloading', max=762.0, style=ProgressStyle(description_…"
      ]
     },
     "metadata": {}
    },
    {
     "output_type": "stream",
     "name": "stdout",
     "text": [
      "\n"
     ]
    },
    {
     "output_type": "display_data",
     "data": {
      "application/vnd.jupyter.widget-view+json": {
       "version_major": 2,
       "version_minor": 0,
       "model_id": "564419083b6143dea3ab6d78031fff75"
      },
      "text/plain": [
       "HBox(children=(FloatProgress(value=0.0, description='Downloading', max=1338740706.0, style=ProgressStyle(descr…"
      ]
     },
     "metadata": {}
    },
    {
     "output_type": "stream",
     "name": "stdout",
     "text": [
      "\n"
     ]
    },
    {
     "output_type": "stream",
     "name": "stderr",
     "text": [
      "Some weights of the model checkpoint at bert-large-cased were not used when initializing BertForMaskedLM: ['cls.seq_relationship.weight', 'cls.seq_relationship.bias']\n",
      "- This IS expected if you are initializing BertForMaskedLM from the checkpoint of a model trained on another task or with another architecture (e.g. initializing a BertForSequenceClassification model from a BertForPreTraining model).\n",
      "- This IS NOT expected if you are initializing BertForMaskedLM from the checkpoint of a model that you expect to be exactly identical (initializing a BertForSequenceClassification model from a BertForSequenceClassification model).\n"
     ]
    }
   ],
   "metadata": {}
  },
  {
   "cell_type": "code",
   "execution_count": 54,
   "source": [
    "sorted_preds, sorted_ids = predictions.logits.sort(dim=-1, descending=True)"
   ],
   "outputs": [],
   "metadata": {}
  },
  {
   "cell_type": "code",
   "execution_count": 62,
   "source": [
    "sorted_preds.shape"
   ],
   "outputs": [
    {
     "output_type": "execute_result",
     "data": {
      "text/plain": [
       "torch.Size([9, 12, 28996])"
      ]
     },
     "metadata": {},
     "execution_count": 62
    }
   ],
   "metadata": {}
  },
  {
   "cell_type": "code",
   "execution_count": 66,
   "source": [
    "input_ids = inputs[\"input_ids\"]\n",
    "for rank in range(10):\n",
    "    curr_ids = sorted_ids[:, :, rank]\n",
    "    curr_ids[input_ids != 103] = input_ids[input_ids != 103]\n",
    "    for sent_idx in range(sorted_ids.shape[0]):\n",
    "\n",
    "        candidate_df.append(\n",
    "            {\n",
    "                \"text\": tokenizer.decode(\n",
    "                    sorted_ids[sent_idx, :, rank], skip_special_tokens=True\n",
    "                ),\n",
    "                \"prob\": sorted_preds[sent_idx, :, rank].mean().cpu().detach().numpy(),\n",
    "            }\n",
    "        )\n",
    "candidate_df = pd.DataFrame(candidate_df)"
   ],
   "outputs": [],
   "metadata": {}
  },
  {
   "cell_type": "code",
   "execution_count": 67,
   "source": [
    "candidate_df.sort_values(\"prob\")"
   ],
   "outputs": [
    {
     "output_type": "execute_result",
     "data": {
      "text/html": [
       "<div>\n",
       "<style scoped>\n",
       "    .dataframe tbody tr th:only-of-type {\n",
       "        vertical-align: middle;\n",
       "    }\n",
       "\n",
       "    .dataframe tbody tr th {\n",
       "        vertical-align: top;\n",
       "    }\n",
       "\n",
       "    .dataframe thead th {\n",
       "        text-align: right;\n",
       "    }\n",
       "</style>\n",
       "<table border=\"1\" class=\"dataframe\">\n",
       "  <thead>\n",
       "    <tr style=\"text-align: right;\">\n",
       "      <th></th>\n",
       "      <th>text</th>\n",
       "      <th>prob</th>\n",
       "    </tr>\n",
       "  </thead>\n",
       "  <tbody>\n",
       "    <tr>\n",
       "      <th>89</th>\n",
       "      <td>a photo of a person - ; smiling widely and</td>\n",
       "      <td>7.0040717</td>\n",
       "    </tr>\n",
       "    <tr>\n",
       "      <th>86</th>\n",
       "      <td>a photo of a person standing smiling now and</td>\n",
       "      <td>7.0434494</td>\n",
       "    </tr>\n",
       "    <tr>\n",
       "      <th>88</th>\n",
       "      <td>a photo of a person with while smiling -</td>\n",
       "      <td>7.0881395</td>\n",
       "    </tr>\n",
       "    <tr>\n",
       "      <th>87</th>\n",
       "      <td>a photo of a person crying - smiling</td>\n",
       "      <td>7.1516395</td>\n",
       "    </tr>\n",
       "    <tr>\n",
       "      <th>80</th>\n",
       "      <td>a photo of a person'- smiling eyes \"</td>\n",
       "      <td>7.2351427</td>\n",
       "    </tr>\n",
       "    <tr>\n",
       "      <th>...</th>\n",
       "      <td>...</td>\n",
       "      <td>...</td>\n",
       "    </tr>\n",
       "    <tr>\n",
       "      <th>7</th>\n",
       "      <td>a photo of a person, and smiling.</td>\n",
       "      <td>14.271441</td>\n",
       "    </tr>\n",
       "    <tr>\n",
       "      <th>4</th>\n",
       "      <td>a photo of a person, smiling ;</td>\n",
       "      <td>14.699389</td>\n",
       "    </tr>\n",
       "    <tr>\n",
       "      <th>2</th>\n",
       "      <td>a photo of a person smiling broadly ;</td>\n",
       "      <td>14.843798</td>\n",
       "    </tr>\n",
       "    <tr>\n",
       "      <th>0</th>\n",
       "      <td>a photo of a person smiling</td>\n",
       "      <td>15.80104</td>\n",
       "    </tr>\n",
       "    <tr>\n",
       "      <th>1</th>\n",
       "      <td>a photo of a person smiling ;</td>\n",
       "      <td>16.979643</td>\n",
       "    </tr>\n",
       "  </tbody>\n",
       "</table>\n",
       "<p>90 rows × 2 columns</p>\n",
       "</div>"
      ],
      "text/plain": [
       "                                            text       prob\n",
       "89    a photo of a person - ; smiling widely and  7.0040717\n",
       "86  a photo of a person standing smiling now and  7.0434494\n",
       "88      a photo of a person with while smiling -  7.0881395\n",
       "87          a photo of a person crying - smiling  7.1516395\n",
       "80          a photo of a person'- smiling eyes \"  7.2351427\n",
       "..                                           ...        ...\n",
       "7              a photo of a person, and smiling.  14.271441\n",
       "4                 a photo of a person, smiling ;  14.699389\n",
       "2          a photo of a person smiling broadly ;  14.843798\n",
       "0                    a photo of a person smiling   15.80104\n",
       "1                  a photo of a person smiling ;  16.979643\n",
       "\n",
       "[90 rows x 2 columns]"
      ]
     },
     "metadata": {},
     "execution_count": 67
    }
   ],
   "metadata": {}
  },
  {
   "cell_type": "code",
   "execution_count": 56,
   "source": [
    "import pandas as pd\n",
    "from transformers import GPT2LMHeadModel, GPT2Tokenizer\n",
    "import numpy as np \n",
    "\n",
    "gpt_model = GPT2LMHeadModel.from_pretrained('gpt2').to(0)\n",
    "gpt_tokenizer = GPT2Tokenizer.from_pretrained('gpt2')\n",
    "\n",
    "scores = []\n",
    "for text in sents:\n",
    "    tokens_tensor = gpt_tokenizer.encode( text, add_special_tokens=False, return_tensors=\"pt\").to(0) \n",
    "    loss=gpt_model(tokens_tensor, labels=tokens_tensor)[0]\n",
    "    scores.append( \n",
    "        {\"prob\": np.exp(loss.cpu().detach().numpy()), \"text\": text}       \n",
    "    )\n",
    "dp = pd.DataFrame(scores)"
   ],
   "outputs": [],
   "metadata": {}
  },
  {
   "cell_type": "code",
   "execution_count": 57,
   "source": [
    "dp.sort_values(\"prob\")"
   ],
   "outputs": [
    {
     "output_type": "execute_result",
     "data": {
      "text/html": [
       "<div>\n",
       "<style scoped>\n",
       "    .dataframe tbody tr th:only-of-type {\n",
       "        vertical-align: middle;\n",
       "    }\n",
       "\n",
       "    .dataframe tbody tr th {\n",
       "        vertical-align: top;\n",
       "    }\n",
       "\n",
       "    .dataframe thead th {\n",
       "        text-align: right;\n",
       "    }\n",
       "</style>\n",
       "<table border=\"1\" class=\"dataframe\">\n",
       "  <thead>\n",
       "    <tr style=\"text-align: right;\">\n",
       "      <th></th>\n",
       "      <th>prob</th>\n",
       "      <th>text</th>\n",
       "    </tr>\n",
       "  </thead>\n",
       "  <tbody>\n",
       "    <tr>\n",
       "      <th>6</th>\n",
       "      <td>86.902687</td>\n",
       "      <td>a photo of a person sitting and smiling</td>\n",
       "    </tr>\n",
       "    <tr>\n",
       "      <th>10</th>\n",
       "      <td>87.852638</td>\n",
       "      <td>a photo of a person smiling.</td>\n",
       "    </tr>\n",
       "    <tr>\n",
       "      <th>55</th>\n",
       "      <td>88.414558</td>\n",
       "      <td>a photo of a person smiling and</td>\n",
       "    </tr>\n",
       "    <tr>\n",
       "      <th>15</th>\n",
       "      <td>88.646149</td>\n",
       "      <td>a photo of a person standing, smiling</td>\n",
       "    </tr>\n",
       "    <tr>\n",
       "      <th>24</th>\n",
       "      <td>92.471436</td>\n",
       "      <td>a photo of a person smiling or smiling</td>\n",
       "    </tr>\n",
       "    <tr>\n",
       "      <th>...</th>\n",
       "      <td>...</td>\n",
       "      <td>...</td>\n",
       "    </tr>\n",
       "    <tr>\n",
       "      <th>41</th>\n",
       "      <td>735.416260</td>\n",
       "      <td>a photo of a person \" smiling brightly...</td>\n",
       "    </tr>\n",
       "    <tr>\n",
       "      <th>70</th>\n",
       "      <td>774.525269</td>\n",
       "      <td>a photo of a person - / smiling :</td>\n",
       "    </tr>\n",
       "    <tr>\n",
       "      <th>69</th>\n",
       "      <td>852.903381</td>\n",
       "      <td>a photo of a person and ; smiling</td>\n",
       "    </tr>\n",
       "    <tr>\n",
       "      <th>59</th>\n",
       "      <td>915.673279</td>\n",
       "      <td>a photo of a person in smiling happily |</td>\n",
       "    </tr>\n",
       "    <tr>\n",
       "      <th>80</th>\n",
       "      <td>1379.007568</td>\n",
       "      <td>a photo of a person'- smiling eyes \"</td>\n",
       "    </tr>\n",
       "  </tbody>\n",
       "</table>\n",
       "<p>90 rows × 2 columns</p>\n",
       "</div>"
      ],
      "text/plain": [
       "           prob                                       text\n",
       "6     86.902687    a photo of a person sitting and smiling\n",
       "10    87.852638               a photo of a person smiling.\n",
       "55    88.414558            a photo of a person smiling and\n",
       "15    88.646149      a photo of a person standing, smiling\n",
       "24    92.471436     a photo of a person smiling or smiling\n",
       "..          ...                                        ...\n",
       "41   735.416260  a photo of a person \" smiling brightly...\n",
       "70   774.525269          a photo of a person - / smiling :\n",
       "69   852.903381          a photo of a person and ; smiling\n",
       "59   915.673279   a photo of a person in smiling happily |\n",
       "80  1379.007568       a photo of a person'- smiling eyes \"\n",
       "\n",
       "[90 rows x 2 columns]"
      ]
     },
     "metadata": {},
     "execution_count": 57
    }
   ],
   "metadata": {}
  },
  {
   "cell_type": "code",
   "execution_count": 3,
   "source": [
    "from domino.emb.clip import get_wiki_words\n",
    "#dp = get_wiki_words(top_k=25_000, eng_only=True).load()\n",
    "dp = get_wiki_words.out().load()"
   ],
   "outputs": [],
   "metadata": {}
  },
  {
   "cell_type": "code",
   "execution_count": 4,
   "source": [
    "from domino.emb.clip import generate_phrases\n",
    "from domino.data.celeba import PHRASE_TEMPLATES"
   ],
   "outputs": [],
   "metadata": {}
  },
  {
   "cell_type": "code",
   "execution_count": 5,
   "source": [
    "phrase_dp = generate_phrases(dp[100:300], templates=PHRASE_TEMPLATES)"
   ],
   "outputs": [
    {
     "output_type": "display_data",
     "data": {
      "application/vnd.jupyter.widget-view+json": {
       "version_major": 2,
       "version_minor": 0,
       "model_id": "b530a98b64ec4b57aaed6f84b8c58a8e"
      },
      "text/plain": [
       "HBox(children=(FloatProgress(value=0.0, description='Downloading', max=231508.0, style=ProgressStyle(descripti…"
      ]
     },
     "metadata": {}
    },
    {
     "output_type": "stream",
     "name": "stdout",
     "text": [
      "\n"
     ]
    },
    {
     "output_type": "display_data",
     "data": {
      "application/vnd.jupyter.widget-view+json": {
       "version_major": 2,
       "version_minor": 0,
       "model_id": "b552b7d31d144415808b7bc87f27a614"
      },
      "text/plain": [
       "HBox(children=(FloatProgress(value=0.0, description='Downloading', max=28.0, style=ProgressStyle(description_w…"
      ]
     },
     "metadata": {}
    },
    {
     "output_type": "stream",
     "name": "stdout",
     "text": [
      "\n"
     ]
    },
    {
     "output_type": "display_data",
     "data": {
      "application/vnd.jupyter.widget-view+json": {
       "version_major": 2,
       "version_minor": 0,
       "model_id": "396ce0cef8d9439bb4fa2ea1091aa9b5"
      },
      "text/plain": [
       "HBox(children=(FloatProgress(value=0.0, description='Downloading', max=466062.0, style=ProgressStyle(descripti…"
      ]
     },
     "metadata": {}
    },
    {
     "output_type": "stream",
     "name": "stdout",
     "text": [
      "\n"
     ]
    },
    {
     "output_type": "display_data",
     "data": {
      "application/vnd.jupyter.widget-view+json": {
       "version_major": 2,
       "version_minor": 0,
       "model_id": "cc99f9f9b5904ed8904b2a93fc2cd6fc"
      },
      "text/plain": [
       "HBox(children=(FloatProgress(value=0.0, description='Downloading', max=571.0, style=ProgressStyle(description_…"
      ]
     },
     "metadata": {}
    },
    {
     "output_type": "stream",
     "name": "stdout",
     "text": [
      "\n"
     ]
    },
    {
     "output_type": "display_data",
     "data": {
      "application/vnd.jupyter.widget-view+json": {
       "version_major": 2,
       "version_minor": 0,
       "model_id": "5595b2ed7e134cbea201d1a901c73c98"
      },
      "text/plain": [
       "HBox(children=(FloatProgress(value=0.0, description='Downloading', max=1344997306.0, style=ProgressStyle(descr…"
      ]
     },
     "metadata": {}
    },
    {
     "output_type": "stream",
     "name": "stdout",
     "text": [
      "\n"
     ]
    },
    {
     "output_type": "stream",
     "name": "stderr",
     "text": [
      "Some weights of the model checkpoint at bert-large-uncased were not used when initializing BertForMaskedLM: ['cls.seq_relationship.weight', 'cls.seq_relationship.bias']\n",
      "- This IS expected if you are initializing BertForMaskedLM from the checkpoint of a model trained on another task or with another architecture (e.g. initializing a BertForSequenceClassification model from a BertForPreTraining model).\n",
      "- This IS NOT expected if you are initializing BertForMaskedLM from the checkpoint of a model that you expect to be exactly identical (initializing a BertForSequenceClassification model from a BertForSequenceClassification model).\n"
     ]
    },
    {
     "output_type": "display_data",
     "data": {
      "application/vnd.jupyter.widget-view+json": {
       "version_major": 2,
       "version_minor": 0,
       "model_id": "c12351d397c1442b9a53873ebd340cfe"
      },
      "text/plain": [
       "HBox(children=(FloatProgress(value=0.0, max=2.0), HTML(value='')))"
      ]
     },
     "metadata": {}
    },
    {
     "output_type": "stream",
     "name": "stdout",
     "text": [
      "\n"
     ]
    },
    {
     "output_type": "error",
     "ename": "RuntimeError",
     "evalue": "CUDA out of memory. Tried to allocate 54.00 MiB (GPU 0; 14.76 GiB total capacity; 13.66 GiB already allocated; 5.75 MiB free; 13.72 GiB reserved in total by PyTorch)",
     "traceback": [
      "\u001b[0;31m---------------------------------------------------------------------------\u001b[0m",
      "\u001b[0;31mRuntimeError\u001b[0m                              Traceback (most recent call last)",
      "\u001b[0;32m/tmp/ipykernel_1969/2995374736.py\u001b[0m in \u001b[0;36m<module>\u001b[0;34m\u001b[0m\n\u001b[0;32m----> 1\u001b[0;31m \u001b[0mphrase_dp\u001b[0m \u001b[0;34m=\u001b[0m \u001b[0mgenerate_phrases\u001b[0m\u001b[0;34m(\u001b[0m\u001b[0mdp\u001b[0m\u001b[0;34m[\u001b[0m\u001b[0;36m100\u001b[0m\u001b[0;34m:\u001b[0m\u001b[0;36m300\u001b[0m\u001b[0;34m]\u001b[0m\u001b[0;34m,\u001b[0m \u001b[0mtemplates\u001b[0m\u001b[0;34m=\u001b[0m\u001b[0mPHRASE_TEMPLATES\u001b[0m\u001b[0;34m)\u001b[0m\u001b[0;34m\u001b[0m\u001b[0;34m\u001b[0m\u001b[0m\n\u001b[0m",
      "\u001b[0;32m/home/sabri/code/domino/domino/emb/clip.py\u001b[0m in \u001b[0;36mgenerate_phrases\u001b[0;34m(word_dp, templates, device)\u001b[0m\n\u001b[1;32m    190\u001b[0m         \u001b[0;32mreturn\u001b[0m \u001b[0;34m{\u001b[0m\u001b[0;34m\"prob\"\u001b[0m\u001b[0;34m:\u001b[0m \u001b[0mprobs\u001b[0m\u001b[0;34m,\u001b[0m \u001b[0;34m\"output_phrase\"\u001b[0m\u001b[0;34m:\u001b[0m \u001b[0moutput_phrases\u001b[0m\u001b[0;34m}\u001b[0m\u001b[0;34m\u001b[0m\u001b[0;34m\u001b[0m\u001b[0m\n\u001b[1;32m    191\u001b[0m \u001b[0;34m\u001b[0m\u001b[0m\n\u001b[0;32m--> 192\u001b[0;31m     \u001b[0;32mreturn\u001b[0m \u001b[0mword_dp\u001b[0m\u001b[0;34m[\u001b[0m\u001b[0;34m\"word\"\u001b[0m\u001b[0;34m]\u001b[0m\u001b[0;34m.\u001b[0m\u001b[0mmap\u001b[0m\u001b[0;34m(\u001b[0m\u001b[0m_forward\u001b[0m\u001b[0;34m,\u001b[0m \u001b[0mis_batched_fn\u001b[0m\u001b[0;34m=\u001b[0m\u001b[0;32mTrue\u001b[0m\u001b[0;34m,\u001b[0m \u001b[0mbatch_size\u001b[0m\u001b[0;34m=\u001b[0m\u001b[0;36m128\u001b[0m\u001b[0;34m,\u001b[0m \u001b[0mpbar\u001b[0m\u001b[0;34m=\u001b[0m\u001b[0;32mTrue\u001b[0m\u001b[0;34m)\u001b[0m\u001b[0;34m\u001b[0m\u001b[0;34m\u001b[0m\u001b[0m\n\u001b[0m",
      "\u001b[0;32m/home/sabri/code/meerkat/meerkat/provenance.py\u001b[0m in \u001b[0;36m_wrapper\u001b[0;34m(*args, **kwargs)\u001b[0m\n\u001b[1;32m    203\u001b[0m         \u001b[0;32mdef\u001b[0m \u001b[0m_wrapper\u001b[0m\u001b[0;34m(\u001b[0m\u001b[0;34m*\u001b[0m\u001b[0margs\u001b[0m\u001b[0;34m,\u001b[0m \u001b[0;34m**\u001b[0m\u001b[0mkwargs\u001b[0m\u001b[0;34m)\u001b[0m\u001b[0;34m:\u001b[0m\u001b[0;34m\u001b[0m\u001b[0;34m\u001b[0m\u001b[0m\n\u001b[1;32m    204\u001b[0m             \u001b[0;32mif\u001b[0m \u001b[0;32mnot\u001b[0m \u001b[0mis_provenance_enabled\u001b[0m\u001b[0;34m(\u001b[0m\u001b[0;34m)\u001b[0m\u001b[0;34m:\u001b[0m\u001b[0;34m\u001b[0m\u001b[0;34m\u001b[0m\u001b[0m\n\u001b[0;32m--> 205\u001b[0;31m                 \u001b[0;32mreturn\u001b[0m \u001b[0mfn\u001b[0m\u001b[0;34m(\u001b[0m\u001b[0;34m*\u001b[0m\u001b[0margs\u001b[0m\u001b[0;34m,\u001b[0m \u001b[0;34m**\u001b[0m\u001b[0mkwargs\u001b[0m\u001b[0;34m)\u001b[0m\u001b[0;34m\u001b[0m\u001b[0;34m\u001b[0m\u001b[0m\n\u001b[0m\u001b[1;32m    206\u001b[0m             \u001b[0margs_dict\u001b[0m \u001b[0;34m=\u001b[0m \u001b[0mgetcallargs\u001b[0m\u001b[0;34m(\u001b[0m\u001b[0mfn\u001b[0m\u001b[0;34m,\u001b[0m \u001b[0;34m*\u001b[0m\u001b[0margs\u001b[0m\u001b[0;34m,\u001b[0m \u001b[0;34m**\u001b[0m\u001b[0mkwargs\u001b[0m\u001b[0;34m)\u001b[0m\u001b[0;34m\u001b[0m\u001b[0;34m\u001b[0m\u001b[0m\n\u001b[1;32m    207\u001b[0m             \u001b[0;32mif\u001b[0m \u001b[0;34m\"kwargs\"\u001b[0m \u001b[0;32min\u001b[0m \u001b[0margs_dict\u001b[0m\u001b[0;34m:\u001b[0m\u001b[0;34m\u001b[0m\u001b[0;34m\u001b[0m\u001b[0m\n",
      "\u001b[0;32m/home/sabri/code/meerkat/meerkat/mixins/mapping.py\u001b[0m in \u001b[0;36mmap\u001b[0;34m(self, function, with_indices, is_batched_fn, batch_size, drop_last_batch, num_workers, output_type, materialize, pbar, mmap, mmap_path, flush_size, **kwargs)\u001b[0m\n\u001b[1;32m     73\u001b[0m             \u001b[0;32mif\u001b[0m \u001b[0mi\u001b[0m \u001b[0;34m==\u001b[0m \u001b[0;36m0\u001b[0m\u001b[0;34m:\u001b[0m\u001b[0;34m\u001b[0m\u001b[0;34m\u001b[0m\u001b[0m\n\u001b[1;32m     74\u001b[0m                 \u001b[0;31m# Get some information about the function\u001b[0m\u001b[0;34m\u001b[0m\u001b[0;34m\u001b[0m\u001b[0;34m\u001b[0m\u001b[0m\n\u001b[0;32m---> 75\u001b[0;31m                 function_properties = self._inspect_function(\n\u001b[0m\u001b[1;32m     76\u001b[0m                     \u001b[0mfunction\u001b[0m\u001b[0;34m,\u001b[0m\u001b[0;34m\u001b[0m\u001b[0;34m\u001b[0m\u001b[0m\n\u001b[1;32m     77\u001b[0m                     \u001b[0mwith_indices\u001b[0m\u001b[0;34m,\u001b[0m\u001b[0;34m\u001b[0m\u001b[0;34m\u001b[0m\u001b[0m\n",
      "\u001b[0;32m/home/sabri/code/meerkat/meerkat/mixins/inspect_fn.py\u001b[0m in \u001b[0;36m_inspect_function\u001b[0;34m(self, function, with_indices, is_batched_fn, data, indices, materialize, **kwargs)\u001b[0m\n\u001b[1;32m     50\u001b[0m             \u001b[0moutput\u001b[0m \u001b[0;34m=\u001b[0m \u001b[0mfunction\u001b[0m\u001b[0;34m(\u001b[0m\u001b[0mdata\u001b[0m\u001b[0;34m,\u001b[0m \u001b[0mindices\u001b[0m\u001b[0;34m,\u001b[0m \u001b[0;34m**\u001b[0m\u001b[0mkwargs\u001b[0m\u001b[0;34m)\u001b[0m\u001b[0;34m\u001b[0m\u001b[0;34m\u001b[0m\u001b[0m\n\u001b[1;32m     51\u001b[0m         \u001b[0;32melse\u001b[0m\u001b[0;34m:\u001b[0m\u001b[0;34m\u001b[0m\u001b[0;34m\u001b[0m\u001b[0m\n\u001b[0;32m---> 52\u001b[0;31m             \u001b[0moutput\u001b[0m \u001b[0;34m=\u001b[0m \u001b[0mfunction\u001b[0m\u001b[0;34m(\u001b[0m\u001b[0mdata\u001b[0m\u001b[0;34m,\u001b[0m \u001b[0;34m**\u001b[0m\u001b[0mkwargs\u001b[0m\u001b[0;34m)\u001b[0m\u001b[0;34m\u001b[0m\u001b[0;34m\u001b[0m\u001b[0m\n\u001b[0m\u001b[1;32m     53\u001b[0m \u001b[0;34m\u001b[0m\u001b[0m\n\u001b[1;32m     54\u001b[0m         \u001b[0;31m# lazy import to avoid circular dependency\u001b[0m\u001b[0;34m\u001b[0m\u001b[0;34m\u001b[0m\u001b[0;34m\u001b[0m\u001b[0m\n",
      "\u001b[0;32m/home/sabri/code/domino/domino/emb/clip.py\u001b[0m in \u001b[0;36m_forward\u001b[0;34m(words)\u001b[0m\n\u001b[1;32m    172\u001b[0m         \u001b[0minputs\u001b[0m \u001b[0;34m=\u001b[0m \u001b[0mtokenizer\u001b[0m\u001b[0;34m(\u001b[0m\u001b[0minput_phrases\u001b[0m\u001b[0;34m,\u001b[0m \u001b[0mreturn_tensors\u001b[0m\u001b[0;34m=\u001b[0m\u001b[0;34m\"pt\"\u001b[0m\u001b[0;34m,\u001b[0m \u001b[0mpadding\u001b[0m\u001b[0;34m=\u001b[0m\u001b[0;32mTrue\u001b[0m\u001b[0;34m)\u001b[0m\u001b[0;34m.\u001b[0m\u001b[0mto\u001b[0m\u001b[0;34m(\u001b[0m\u001b[0mdevice\u001b[0m\u001b[0;34m)\u001b[0m\u001b[0;34m\u001b[0m\u001b[0;34m\u001b[0m\u001b[0m\n\u001b[1;32m    173\u001b[0m         \u001b[0minput_ids\u001b[0m \u001b[0;34m=\u001b[0m \u001b[0minputs\u001b[0m\u001b[0;34m[\u001b[0m\u001b[0;34m\"input_ids\"\u001b[0m\u001b[0;34m]\u001b[0m\u001b[0;34m\u001b[0m\u001b[0;34m\u001b[0m\u001b[0m\n\u001b[0;32m--> 174\u001b[0;31m         \u001b[0moutputs\u001b[0m \u001b[0;34m=\u001b[0m \u001b[0mmodel\u001b[0m\u001b[0;34m(\u001b[0m\u001b[0;34m**\u001b[0m\u001b[0minputs\u001b[0m\u001b[0;34m)\u001b[0m\u001b[0;34m\u001b[0m\u001b[0;34m\u001b[0m\u001b[0m\n\u001b[0m\u001b[1;32m    175\u001b[0m         \u001b[0msorted_preds\u001b[0m\u001b[0;34m,\u001b[0m \u001b[0msorted_ids\u001b[0m \u001b[0;34m=\u001b[0m \u001b[0moutputs\u001b[0m\u001b[0;34m.\u001b[0m\u001b[0mlogits\u001b[0m\u001b[0;34m.\u001b[0m\u001b[0msort\u001b[0m\u001b[0;34m(\u001b[0m\u001b[0mdim\u001b[0m\u001b[0;34m=\u001b[0m\u001b[0;34m-\u001b[0m\u001b[0;36m1\u001b[0m\u001b[0;34m,\u001b[0m \u001b[0mdescending\u001b[0m\u001b[0;34m=\u001b[0m\u001b[0;32mTrue\u001b[0m\u001b[0;34m)\u001b[0m\u001b[0;34m\u001b[0m\u001b[0;34m\u001b[0m\u001b[0m\n\u001b[1;32m    176\u001b[0m \u001b[0;34m\u001b[0m\u001b[0m\n",
      "\u001b[0;32m/home/common/envs/conda/envs/domino/lib/python3.8/site-packages/torch/nn/modules/module.py\u001b[0m in \u001b[0;36m_call_impl\u001b[0;34m(self, *input, **kwargs)\u001b[0m\n\u001b[1;32m    887\u001b[0m             \u001b[0mresult\u001b[0m \u001b[0;34m=\u001b[0m \u001b[0mself\u001b[0m\u001b[0;34m.\u001b[0m\u001b[0m_slow_forward\u001b[0m\u001b[0;34m(\u001b[0m\u001b[0;34m*\u001b[0m\u001b[0minput\u001b[0m\u001b[0;34m,\u001b[0m \u001b[0;34m**\u001b[0m\u001b[0mkwargs\u001b[0m\u001b[0;34m)\u001b[0m\u001b[0;34m\u001b[0m\u001b[0;34m\u001b[0m\u001b[0m\n\u001b[1;32m    888\u001b[0m         \u001b[0;32melse\u001b[0m\u001b[0;34m:\u001b[0m\u001b[0;34m\u001b[0m\u001b[0;34m\u001b[0m\u001b[0m\n\u001b[0;32m--> 889\u001b[0;31m             \u001b[0mresult\u001b[0m \u001b[0;34m=\u001b[0m \u001b[0mself\u001b[0m\u001b[0;34m.\u001b[0m\u001b[0mforward\u001b[0m\u001b[0;34m(\u001b[0m\u001b[0;34m*\u001b[0m\u001b[0minput\u001b[0m\u001b[0;34m,\u001b[0m \u001b[0;34m**\u001b[0m\u001b[0mkwargs\u001b[0m\u001b[0;34m)\u001b[0m\u001b[0;34m\u001b[0m\u001b[0;34m\u001b[0m\u001b[0m\n\u001b[0m\u001b[1;32m    890\u001b[0m         for hook in itertools.chain(\n\u001b[1;32m    891\u001b[0m                 \u001b[0m_global_forward_hooks\u001b[0m\u001b[0;34m.\u001b[0m\u001b[0mvalues\u001b[0m\u001b[0;34m(\u001b[0m\u001b[0;34m)\u001b[0m\u001b[0;34m,\u001b[0m\u001b[0;34m\u001b[0m\u001b[0;34m\u001b[0m\u001b[0m\n",
      "\u001b[0;32m/home/common/envs/conda/envs/domino/lib/python3.8/site-packages/transformers/models/bert/modeling_bert.py\u001b[0m in \u001b[0;36mforward\u001b[0;34m(self, input_ids, attention_mask, token_type_ids, position_ids, head_mask, inputs_embeds, encoder_hidden_states, encoder_attention_mask, labels, output_attentions, output_hidden_states, return_dict)\u001b[0m\n\u001b[1;32m   1307\u001b[0m         \u001b[0mreturn_dict\u001b[0m \u001b[0;34m=\u001b[0m \u001b[0mreturn_dict\u001b[0m \u001b[0;32mif\u001b[0m \u001b[0mreturn_dict\u001b[0m \u001b[0;32mis\u001b[0m \u001b[0;32mnot\u001b[0m \u001b[0;32mNone\u001b[0m \u001b[0;32melse\u001b[0m \u001b[0mself\u001b[0m\u001b[0;34m.\u001b[0m\u001b[0mconfig\u001b[0m\u001b[0;34m.\u001b[0m\u001b[0muse_return_dict\u001b[0m\u001b[0;34m\u001b[0m\u001b[0;34m\u001b[0m\u001b[0m\n\u001b[1;32m   1308\u001b[0m \u001b[0;34m\u001b[0m\u001b[0m\n\u001b[0;32m-> 1309\u001b[0;31m         outputs = self.bert(\n\u001b[0m\u001b[1;32m   1310\u001b[0m             \u001b[0minput_ids\u001b[0m\u001b[0;34m,\u001b[0m\u001b[0;34m\u001b[0m\u001b[0;34m\u001b[0m\u001b[0m\n\u001b[1;32m   1311\u001b[0m             \u001b[0mattention_mask\u001b[0m\u001b[0;34m=\u001b[0m\u001b[0mattention_mask\u001b[0m\u001b[0;34m,\u001b[0m\u001b[0;34m\u001b[0m\u001b[0;34m\u001b[0m\u001b[0m\n",
      "\u001b[0;32m/home/common/envs/conda/envs/domino/lib/python3.8/site-packages/torch/nn/modules/module.py\u001b[0m in \u001b[0;36m_call_impl\u001b[0;34m(self, *input, **kwargs)\u001b[0m\n\u001b[1;32m    887\u001b[0m             \u001b[0mresult\u001b[0m \u001b[0;34m=\u001b[0m \u001b[0mself\u001b[0m\u001b[0;34m.\u001b[0m\u001b[0m_slow_forward\u001b[0m\u001b[0;34m(\u001b[0m\u001b[0;34m*\u001b[0m\u001b[0minput\u001b[0m\u001b[0;34m,\u001b[0m \u001b[0;34m**\u001b[0m\u001b[0mkwargs\u001b[0m\u001b[0;34m)\u001b[0m\u001b[0;34m\u001b[0m\u001b[0;34m\u001b[0m\u001b[0m\n\u001b[1;32m    888\u001b[0m         \u001b[0;32melse\u001b[0m\u001b[0;34m:\u001b[0m\u001b[0;34m\u001b[0m\u001b[0;34m\u001b[0m\u001b[0m\n\u001b[0;32m--> 889\u001b[0;31m             \u001b[0mresult\u001b[0m \u001b[0;34m=\u001b[0m \u001b[0mself\u001b[0m\u001b[0;34m.\u001b[0m\u001b[0mforward\u001b[0m\u001b[0;34m(\u001b[0m\u001b[0;34m*\u001b[0m\u001b[0minput\u001b[0m\u001b[0;34m,\u001b[0m \u001b[0;34m**\u001b[0m\u001b[0mkwargs\u001b[0m\u001b[0;34m)\u001b[0m\u001b[0;34m\u001b[0m\u001b[0;34m\u001b[0m\u001b[0m\n\u001b[0m\u001b[1;32m    890\u001b[0m         for hook in itertools.chain(\n\u001b[1;32m    891\u001b[0m                 \u001b[0m_global_forward_hooks\u001b[0m\u001b[0;34m.\u001b[0m\u001b[0mvalues\u001b[0m\u001b[0;34m(\u001b[0m\u001b[0;34m)\u001b[0m\u001b[0;34m,\u001b[0m\u001b[0;34m\u001b[0m\u001b[0;34m\u001b[0m\u001b[0m\n",
      "\u001b[0;32m/home/common/envs/conda/envs/domino/lib/python3.8/site-packages/transformers/models/bert/modeling_bert.py\u001b[0m in \u001b[0;36mforward\u001b[0;34m(self, input_ids, attention_mask, token_type_ids, position_ids, head_mask, inputs_embeds, encoder_hidden_states, encoder_attention_mask, past_key_values, use_cache, output_attentions, output_hidden_states, return_dict)\u001b[0m\n\u001b[1;32m    969\u001b[0m             \u001b[0mpast_key_values_length\u001b[0m\u001b[0;34m=\u001b[0m\u001b[0mpast_key_values_length\u001b[0m\u001b[0;34m,\u001b[0m\u001b[0;34m\u001b[0m\u001b[0;34m\u001b[0m\u001b[0m\n\u001b[1;32m    970\u001b[0m         )\n\u001b[0;32m--> 971\u001b[0;31m         encoder_outputs = self.encoder(\n\u001b[0m\u001b[1;32m    972\u001b[0m             \u001b[0membedding_output\u001b[0m\u001b[0;34m,\u001b[0m\u001b[0;34m\u001b[0m\u001b[0;34m\u001b[0m\u001b[0m\n\u001b[1;32m    973\u001b[0m             \u001b[0mattention_mask\u001b[0m\u001b[0;34m=\u001b[0m\u001b[0mextended_attention_mask\u001b[0m\u001b[0;34m,\u001b[0m\u001b[0;34m\u001b[0m\u001b[0;34m\u001b[0m\u001b[0m\n",
      "\u001b[0;32m/home/common/envs/conda/envs/domino/lib/python3.8/site-packages/torch/nn/modules/module.py\u001b[0m in \u001b[0;36m_call_impl\u001b[0;34m(self, *input, **kwargs)\u001b[0m\n\u001b[1;32m    887\u001b[0m             \u001b[0mresult\u001b[0m \u001b[0;34m=\u001b[0m \u001b[0mself\u001b[0m\u001b[0;34m.\u001b[0m\u001b[0m_slow_forward\u001b[0m\u001b[0;34m(\u001b[0m\u001b[0;34m*\u001b[0m\u001b[0minput\u001b[0m\u001b[0;34m,\u001b[0m \u001b[0;34m**\u001b[0m\u001b[0mkwargs\u001b[0m\u001b[0;34m)\u001b[0m\u001b[0;34m\u001b[0m\u001b[0;34m\u001b[0m\u001b[0m\n\u001b[1;32m    888\u001b[0m         \u001b[0;32melse\u001b[0m\u001b[0;34m:\u001b[0m\u001b[0;34m\u001b[0m\u001b[0;34m\u001b[0m\u001b[0m\n\u001b[0;32m--> 889\u001b[0;31m             \u001b[0mresult\u001b[0m \u001b[0;34m=\u001b[0m \u001b[0mself\u001b[0m\u001b[0;34m.\u001b[0m\u001b[0mforward\u001b[0m\u001b[0;34m(\u001b[0m\u001b[0;34m*\u001b[0m\u001b[0minput\u001b[0m\u001b[0;34m,\u001b[0m \u001b[0;34m**\u001b[0m\u001b[0mkwargs\u001b[0m\u001b[0;34m)\u001b[0m\u001b[0;34m\u001b[0m\u001b[0;34m\u001b[0m\u001b[0m\n\u001b[0m\u001b[1;32m    890\u001b[0m         for hook in itertools.chain(\n\u001b[1;32m    891\u001b[0m                 \u001b[0m_global_forward_hooks\u001b[0m\u001b[0;34m.\u001b[0m\u001b[0mvalues\u001b[0m\u001b[0;34m(\u001b[0m\u001b[0;34m)\u001b[0m\u001b[0;34m,\u001b[0m\u001b[0;34m\u001b[0m\u001b[0;34m\u001b[0m\u001b[0m\n",
      "\u001b[0;32m/home/common/envs/conda/envs/domino/lib/python3.8/site-packages/transformers/models/bert/modeling_bert.py\u001b[0m in \u001b[0;36mforward\u001b[0;34m(self, hidden_states, attention_mask, head_mask, encoder_hidden_states, encoder_attention_mask, past_key_values, use_cache, output_attentions, output_hidden_states, return_dict)\u001b[0m\n\u001b[1;32m    566\u001b[0m                 )\n\u001b[1;32m    567\u001b[0m             \u001b[0;32melse\u001b[0m\u001b[0;34m:\u001b[0m\u001b[0;34m\u001b[0m\u001b[0;34m\u001b[0m\u001b[0m\n\u001b[0;32m--> 568\u001b[0;31m                 layer_outputs = layer_module(\n\u001b[0m\u001b[1;32m    569\u001b[0m                     \u001b[0mhidden_states\u001b[0m\u001b[0;34m,\u001b[0m\u001b[0;34m\u001b[0m\u001b[0;34m\u001b[0m\u001b[0m\n\u001b[1;32m    570\u001b[0m                     \u001b[0mattention_mask\u001b[0m\u001b[0;34m,\u001b[0m\u001b[0;34m\u001b[0m\u001b[0;34m\u001b[0m\u001b[0m\n",
      "\u001b[0;32m/home/common/envs/conda/envs/domino/lib/python3.8/site-packages/torch/nn/modules/module.py\u001b[0m in \u001b[0;36m_call_impl\u001b[0;34m(self, *input, **kwargs)\u001b[0m\n\u001b[1;32m    887\u001b[0m             \u001b[0mresult\u001b[0m \u001b[0;34m=\u001b[0m \u001b[0mself\u001b[0m\u001b[0;34m.\u001b[0m\u001b[0m_slow_forward\u001b[0m\u001b[0;34m(\u001b[0m\u001b[0;34m*\u001b[0m\u001b[0minput\u001b[0m\u001b[0;34m,\u001b[0m \u001b[0;34m**\u001b[0m\u001b[0mkwargs\u001b[0m\u001b[0;34m)\u001b[0m\u001b[0;34m\u001b[0m\u001b[0;34m\u001b[0m\u001b[0m\n\u001b[1;32m    888\u001b[0m         \u001b[0;32melse\u001b[0m\u001b[0;34m:\u001b[0m\u001b[0;34m\u001b[0m\u001b[0;34m\u001b[0m\u001b[0m\n\u001b[0;32m--> 889\u001b[0;31m             \u001b[0mresult\u001b[0m \u001b[0;34m=\u001b[0m \u001b[0mself\u001b[0m\u001b[0;34m.\u001b[0m\u001b[0mforward\u001b[0m\u001b[0;34m(\u001b[0m\u001b[0;34m*\u001b[0m\u001b[0minput\u001b[0m\u001b[0;34m,\u001b[0m \u001b[0;34m**\u001b[0m\u001b[0mkwargs\u001b[0m\u001b[0;34m)\u001b[0m\u001b[0;34m\u001b[0m\u001b[0;34m\u001b[0m\u001b[0m\n\u001b[0m\u001b[1;32m    890\u001b[0m         for hook in itertools.chain(\n\u001b[1;32m    891\u001b[0m                 \u001b[0m_global_forward_hooks\u001b[0m\u001b[0;34m.\u001b[0m\u001b[0mvalues\u001b[0m\u001b[0;34m(\u001b[0m\u001b[0;34m)\u001b[0m\u001b[0;34m,\u001b[0m\u001b[0;34m\u001b[0m\u001b[0;34m\u001b[0m\u001b[0m\n",
      "\u001b[0;32m/home/common/envs/conda/envs/domino/lib/python3.8/site-packages/transformers/models/bert/modeling_bert.py\u001b[0m in \u001b[0;36mforward\u001b[0;34m(self, hidden_states, attention_mask, head_mask, encoder_hidden_states, encoder_attention_mask, past_key_value, output_attentions)\u001b[0m\n\u001b[1;32m    454\u001b[0m         \u001b[0;31m# decoder uni-directional self-attention cached key/values tuple is at positions 1,2\u001b[0m\u001b[0;34m\u001b[0m\u001b[0;34m\u001b[0m\u001b[0;34m\u001b[0m\u001b[0m\n\u001b[1;32m    455\u001b[0m         \u001b[0mself_attn_past_key_value\u001b[0m \u001b[0;34m=\u001b[0m \u001b[0mpast_key_value\u001b[0m\u001b[0;34m[\u001b[0m\u001b[0;34m:\u001b[0m\u001b[0;36m2\u001b[0m\u001b[0;34m]\u001b[0m \u001b[0;32mif\u001b[0m \u001b[0mpast_key_value\u001b[0m \u001b[0;32mis\u001b[0m \u001b[0;32mnot\u001b[0m \u001b[0;32mNone\u001b[0m \u001b[0;32melse\u001b[0m \u001b[0;32mNone\u001b[0m\u001b[0;34m\u001b[0m\u001b[0;34m\u001b[0m\u001b[0m\n\u001b[0;32m--> 456\u001b[0;31m         self_attention_outputs = self.attention(\n\u001b[0m\u001b[1;32m    457\u001b[0m             \u001b[0mhidden_states\u001b[0m\u001b[0;34m,\u001b[0m\u001b[0;34m\u001b[0m\u001b[0;34m\u001b[0m\u001b[0m\n\u001b[1;32m    458\u001b[0m             \u001b[0mattention_mask\u001b[0m\u001b[0;34m,\u001b[0m\u001b[0;34m\u001b[0m\u001b[0;34m\u001b[0m\u001b[0m\n",
      "\u001b[0;32m/home/common/envs/conda/envs/domino/lib/python3.8/site-packages/torch/nn/modules/module.py\u001b[0m in \u001b[0;36m_call_impl\u001b[0;34m(self, *input, **kwargs)\u001b[0m\n\u001b[1;32m    887\u001b[0m             \u001b[0mresult\u001b[0m \u001b[0;34m=\u001b[0m \u001b[0mself\u001b[0m\u001b[0;34m.\u001b[0m\u001b[0m_slow_forward\u001b[0m\u001b[0;34m(\u001b[0m\u001b[0;34m*\u001b[0m\u001b[0minput\u001b[0m\u001b[0;34m,\u001b[0m \u001b[0;34m**\u001b[0m\u001b[0mkwargs\u001b[0m\u001b[0;34m)\u001b[0m\u001b[0;34m\u001b[0m\u001b[0;34m\u001b[0m\u001b[0m\n\u001b[1;32m    888\u001b[0m         \u001b[0;32melse\u001b[0m\u001b[0;34m:\u001b[0m\u001b[0;34m\u001b[0m\u001b[0;34m\u001b[0m\u001b[0m\n\u001b[0;32m--> 889\u001b[0;31m             \u001b[0mresult\u001b[0m \u001b[0;34m=\u001b[0m \u001b[0mself\u001b[0m\u001b[0;34m.\u001b[0m\u001b[0mforward\u001b[0m\u001b[0;34m(\u001b[0m\u001b[0;34m*\u001b[0m\u001b[0minput\u001b[0m\u001b[0;34m,\u001b[0m \u001b[0;34m**\u001b[0m\u001b[0mkwargs\u001b[0m\u001b[0;34m)\u001b[0m\u001b[0;34m\u001b[0m\u001b[0;34m\u001b[0m\u001b[0m\n\u001b[0m\u001b[1;32m    890\u001b[0m         for hook in itertools.chain(\n\u001b[1;32m    891\u001b[0m                 \u001b[0m_global_forward_hooks\u001b[0m\u001b[0;34m.\u001b[0m\u001b[0mvalues\u001b[0m\u001b[0;34m(\u001b[0m\u001b[0;34m)\u001b[0m\u001b[0;34m,\u001b[0m\u001b[0;34m\u001b[0m\u001b[0;34m\u001b[0m\u001b[0m\n",
      "\u001b[0;32m/home/common/envs/conda/envs/domino/lib/python3.8/site-packages/transformers/models/bert/modeling_bert.py\u001b[0m in \u001b[0;36mforward\u001b[0;34m(self, hidden_states, attention_mask, head_mask, encoder_hidden_states, encoder_attention_mask, past_key_value, output_attentions)\u001b[0m\n\u001b[1;32m    385\u001b[0m         \u001b[0moutput_attentions\u001b[0m\u001b[0;34m=\u001b[0m\u001b[0;32mFalse\u001b[0m\u001b[0;34m,\u001b[0m\u001b[0;34m\u001b[0m\u001b[0;34m\u001b[0m\u001b[0m\n\u001b[1;32m    386\u001b[0m     ):\n\u001b[0;32m--> 387\u001b[0;31m         self_outputs = self.self(\n\u001b[0m\u001b[1;32m    388\u001b[0m             \u001b[0mhidden_states\u001b[0m\u001b[0;34m,\u001b[0m\u001b[0;34m\u001b[0m\u001b[0;34m\u001b[0m\u001b[0m\n\u001b[1;32m    389\u001b[0m             \u001b[0mattention_mask\u001b[0m\u001b[0;34m,\u001b[0m\u001b[0;34m\u001b[0m\u001b[0;34m\u001b[0m\u001b[0m\n",
      "\u001b[0;32m/home/common/envs/conda/envs/domino/lib/python3.8/site-packages/torch/nn/modules/module.py\u001b[0m in \u001b[0;36m_call_impl\u001b[0;34m(self, *input, **kwargs)\u001b[0m\n\u001b[1;32m    887\u001b[0m             \u001b[0mresult\u001b[0m \u001b[0;34m=\u001b[0m \u001b[0mself\u001b[0m\u001b[0;34m.\u001b[0m\u001b[0m_slow_forward\u001b[0m\u001b[0;34m(\u001b[0m\u001b[0;34m*\u001b[0m\u001b[0minput\u001b[0m\u001b[0;34m,\u001b[0m \u001b[0;34m**\u001b[0m\u001b[0mkwargs\u001b[0m\u001b[0;34m)\u001b[0m\u001b[0;34m\u001b[0m\u001b[0;34m\u001b[0m\u001b[0m\n\u001b[1;32m    888\u001b[0m         \u001b[0;32melse\u001b[0m\u001b[0;34m:\u001b[0m\u001b[0;34m\u001b[0m\u001b[0;34m\u001b[0m\u001b[0m\n\u001b[0;32m--> 889\u001b[0;31m             \u001b[0mresult\u001b[0m \u001b[0;34m=\u001b[0m \u001b[0mself\u001b[0m\u001b[0;34m.\u001b[0m\u001b[0mforward\u001b[0m\u001b[0;34m(\u001b[0m\u001b[0;34m*\u001b[0m\u001b[0minput\u001b[0m\u001b[0;34m,\u001b[0m \u001b[0;34m**\u001b[0m\u001b[0mkwargs\u001b[0m\u001b[0;34m)\u001b[0m\u001b[0;34m\u001b[0m\u001b[0;34m\u001b[0m\u001b[0m\n\u001b[0m\u001b[1;32m    890\u001b[0m         for hook in itertools.chain(\n\u001b[1;32m    891\u001b[0m                 \u001b[0m_global_forward_hooks\u001b[0m\u001b[0;34m.\u001b[0m\u001b[0mvalues\u001b[0m\u001b[0;34m(\u001b[0m\u001b[0;34m)\u001b[0m\u001b[0;34m,\u001b[0m\u001b[0;34m\u001b[0m\u001b[0;34m\u001b[0m\u001b[0m\n",
      "\u001b[0;32m/home/common/envs/conda/envs/domino/lib/python3.8/site-packages/transformers/models/bert/modeling_bert.py\u001b[0m in \u001b[0;36mforward\u001b[0;34m(self, hidden_states, attention_mask, head_mask, encoder_hidden_states, encoder_attention_mask, past_key_value, output_attentions)\u001b[0m\n\u001b[1;32m    289\u001b[0m \u001b[0;34m\u001b[0m\u001b[0m\n\u001b[1;32m    290\u001b[0m         \u001b[0;31m# Take the dot product between \"query\" and \"key\" to get the raw attention scores.\u001b[0m\u001b[0;34m\u001b[0m\u001b[0;34m\u001b[0m\u001b[0;34m\u001b[0m\u001b[0m\n\u001b[0;32m--> 291\u001b[0;31m         \u001b[0mattention_scores\u001b[0m \u001b[0;34m=\u001b[0m \u001b[0mtorch\u001b[0m\u001b[0;34m.\u001b[0m\u001b[0mmatmul\u001b[0m\u001b[0;34m(\u001b[0m\u001b[0mquery_layer\u001b[0m\u001b[0;34m,\u001b[0m \u001b[0mkey_layer\u001b[0m\u001b[0;34m.\u001b[0m\u001b[0mtranspose\u001b[0m\u001b[0;34m(\u001b[0m\u001b[0;34m-\u001b[0m\u001b[0;36m1\u001b[0m\u001b[0;34m,\u001b[0m \u001b[0;34m-\u001b[0m\u001b[0;36m2\u001b[0m\u001b[0;34m)\u001b[0m\u001b[0;34m)\u001b[0m\u001b[0;34m\u001b[0m\u001b[0;34m\u001b[0m\u001b[0m\n\u001b[0m\u001b[1;32m    292\u001b[0m \u001b[0;34m\u001b[0m\u001b[0m\n\u001b[1;32m    293\u001b[0m         \u001b[0;32mif\u001b[0m \u001b[0mself\u001b[0m\u001b[0;34m.\u001b[0m\u001b[0mposition_embedding_type\u001b[0m \u001b[0;34m==\u001b[0m \u001b[0;34m\"relative_key\"\u001b[0m \u001b[0;32mor\u001b[0m \u001b[0mself\u001b[0m\u001b[0;34m.\u001b[0m\u001b[0mposition_embedding_type\u001b[0m \u001b[0;34m==\u001b[0m \u001b[0;34m\"relative_key_query\"\u001b[0m\u001b[0;34m:\u001b[0m\u001b[0;34m\u001b[0m\u001b[0;34m\u001b[0m\u001b[0m\n",
      "\u001b[0;31mRuntimeError\u001b[0m: CUDA out of memory. Tried to allocate 54.00 MiB (GPU 0; 14.76 GiB total capacity; 13.66 GiB already allocated; 5.75 MiB free; 13.72 GiB reserved in total by PyTorch)"
     ]
    }
   ],
   "metadata": {}
  },
  {
   "cell_type": "code",
   "execution_count": 96,
   "source": [
    "phrase_dp.to_pandas().sort_values(\"prob\").iloc[-15:]"
   ],
   "outputs": [
    {
     "output_type": "execute_result",
     "data": {
      "text/html": [
       "<div>\n",
       "<style scoped>\n",
       "    .dataframe tbody tr th:only-of-type {\n",
       "        vertical-align: middle;\n",
       "    }\n",
       "\n",
       "    .dataframe tbody tr th {\n",
       "        vertical-align: top;\n",
       "    }\n",
       "\n",
       "    .dataframe thead th {\n",
       "        text-align: right;\n",
       "    }\n",
       "</style>\n",
       "<table border=\"1\" class=\"dataframe\">\n",
       "  <thead>\n",
       "    <tr style=\"text-align: right;\">\n",
       "      <th></th>\n",
       "      <th>prob</th>\n",
       "      <th>output_phrase</th>\n",
       "      <th>index</th>\n",
       "    </tr>\n",
       "  </thead>\n",
       "  <tbody>\n",
       "    <tr>\n",
       "      <th>49</th>\n",
       "      <td>19.365196</td>\n",
       "      <td>a photo of a person at work.</td>\n",
       "      <td>49</td>\n",
       "    </tr>\n",
       "    <tr>\n",
       "      <th>10</th>\n",
       "      <td>19.511856</td>\n",
       "      <td>a photo of a person until.</td>\n",
       "      <td>10</td>\n",
       "    </tr>\n",
       "    <tr>\n",
       "      <th>45</th>\n",
       "      <td>19.523741</td>\n",
       "      <td>a photo of a person work</td>\n",
       "      <td>45</td>\n",
       "    </tr>\n",
       "    <tr>\n",
       "      <th>64</th>\n",
       "      <td>19.532944</td>\n",
       "      <td>a photo of a person following.</td>\n",
       "      <td>64</td>\n",
       "    </tr>\n",
       "    <tr>\n",
       "      <th>85</th>\n",
       "      <td>19.544060</td>\n",
       "      <td>a photo of a person or people.</td>\n",
       "      <td>85</td>\n",
       "    </tr>\n",
       "    <tr>\n",
       "      <th>81</th>\n",
       "      <td>19.562103</td>\n",
       "      <td>a photo of a person people</td>\n",
       "      <td>81</td>\n",
       "    </tr>\n",
       "    <tr>\n",
       "      <th>63</th>\n",
       "      <td>19.627256</td>\n",
       "      <td>a photo of a person following</td>\n",
       "      <td>63</td>\n",
       "    </tr>\n",
       "    <tr>\n",
       "      <th>55</th>\n",
       "      <td>19.633055</td>\n",
       "      <td>a photo of a person life.</td>\n",
       "      <td>55</td>\n",
       "    </tr>\n",
       "    <tr>\n",
       "      <th>65</th>\n",
       "      <td>19.857872</td>\n",
       "      <td>a photo of a person following her ;</td>\n",
       "      <td>65</td>\n",
       "    </tr>\n",
       "    <tr>\n",
       "      <th>28</th>\n",
       "      <td>20.410408</td>\n",
       "      <td>a photo of a person since.</td>\n",
       "      <td>28</td>\n",
       "    </tr>\n",
       "    <tr>\n",
       "      <th>27</th>\n",
       "      <td>20.460211</td>\n",
       "      <td>a photo of a person since</td>\n",
       "      <td>27</td>\n",
       "    </tr>\n",
       "    <tr>\n",
       "      <th>4</th>\n",
       "      <td>20.644299</td>\n",
       "      <td>a photo of a person or family.</td>\n",
       "      <td>4</td>\n",
       "    </tr>\n",
       "    <tr>\n",
       "      <th>36</th>\n",
       "      <td>20.953772</td>\n",
       "      <td>a photo of a person them</td>\n",
       "      <td>36</td>\n",
       "    </tr>\n",
       "    <tr>\n",
       "      <th>18</th>\n",
       "      <td>21.343624</td>\n",
       "      <td>a photo of a person well</td>\n",
       "      <td>18</td>\n",
       "    </tr>\n",
       "    <tr>\n",
       "      <th>9</th>\n",
       "      <td>22.225666</td>\n",
       "      <td>a photo of a person until</td>\n",
       "      <td>9</td>\n",
       "    </tr>\n",
       "  </tbody>\n",
       "</table>\n",
       "</div>"
      ],
      "text/plain": [
       "         prob                        output_phrase index\n",
       "49  19.365196         a photo of a person at work.    49\n",
       "10  19.511856           a photo of a person until.    10\n",
       "45  19.523741             a photo of a person work    45\n",
       "64  19.532944       a photo of a person following.    64\n",
       "85  19.544060       a photo of a person or people.    85\n",
       "81  19.562103           a photo of a person people    81\n",
       "63  19.627256        a photo of a person following    63\n",
       "55  19.633055            a photo of a person life.    55\n",
       "65  19.857872  a photo of a person following her ;    65\n",
       "28  20.410408           a photo of a person since.    28\n",
       "27  20.460211            a photo of a person since    27\n",
       "4   20.644299       a photo of a person or family.     4\n",
       "36  20.953772             a photo of a person them    36\n",
       "18  21.343624             a photo of a person well    18\n",
       "9   22.225666            a photo of a person until     9"
      ]
     },
     "metadata": {},
     "execution_count": 96
    }
   ],
   "metadata": {}
  },
  {
   "cell_type": "code",
   "execution_count": 60,
   "source": [
    "\"hello world\".replace(\"world\", \"akjf\")"
   ],
   "outputs": [
    {
     "output_type": "execute_result",
     "data": {
      "text/plain": [
       "'hello akjf'"
      ]
     },
     "metadata": {},
     "execution_count": 60
    }
   ],
   "metadata": {}
  },
  {
   "cell_type": "code",
   "execution_count": 1,
   "source": [
    "run_sdm.out(17186)"
   ],
   "outputs": [
    {
     "output_type": "error",
     "ename": "NameError",
     "evalue": "name 'run_sdm' is not defined",
     "traceback": [
      "\u001b[0;31m---------------------------------------------------------------------------\u001b[0m",
      "\u001b[0;31mNameError\u001b[0m                                 Traceback (most recent call last)",
      "\u001b[0;32m/tmp/ipykernel_170334/4150338312.py\u001b[0m in \u001b[0;36m<module>\u001b[0;34m\u001b[0m\n\u001b[0;32m----> 1\u001b[0;31m \u001b[0mrun_sdm\u001b[0m\u001b[0;34m.\u001b[0m\u001b[0mout\u001b[0m\u001b[0;34m(\u001b[0m\u001b[0;36m17186\u001b[0m\u001b[0;34m)\u001b[0m\u001b[0;34m\u001b[0m\u001b[0;34m\u001b[0m\u001b[0m\n\u001b[0m",
      "\u001b[0;31mNameError\u001b[0m: name 'run_sdm' is not defined"
     ]
    }
   ],
   "metadata": {}
  },
  {
   "cell_type": "code",
   "execution_count": 33,
   "source": [
    "from domino.emb.bit import embed_images\n",
    "embed_images.out().load()"
   ],
   "outputs": [
    {
     "output_type": "execute_result",
     "data": {
      "text/html": [
       "<table border=\"1\" class=\"dataframe\">\n",
       "  <thead>\n",
       "    <tr style=\"text-align: right;\">\n",
       "      <th></th>\n",
       "      <th>identity (PandasSeriesColumn)</th>\n",
       "      <th>file (PandasSeriesColumn)</th>\n",
       "      <th>5_o_clock_shadow (PandasSeriesColumn)</th>\n",
       "      <th>arched_eyebrows (PandasSeriesColumn)</th>\n",
       "      <th>attractive (PandasSeriesColumn)</th>\n",
       "      <th>bags_under_eyes (PandasSeriesColumn)</th>\n",
       "      <th>bald (PandasSeriesColumn)</th>\n",
       "      <th>bangs (PandasSeriesColumn)</th>\n",
       "      <th>big_lips (PandasSeriesColumn)</th>\n",
       "      <th>big_nose (PandasSeriesColumn)</th>\n",
       "      <th>black_hair (PandasSeriesColumn)</th>\n",
       "      <th>blond_hair (PandasSeriesColumn)</th>\n",
       "      <th>blurry (PandasSeriesColumn)</th>\n",
       "      <th>brown_hair (PandasSeriesColumn)</th>\n",
       "      <th>bushy_eyebrows (PandasSeriesColumn)</th>\n",
       "      <th>chubby (PandasSeriesColumn)</th>\n",
       "      <th>double_chin (PandasSeriesColumn)</th>\n",
       "      <th>eyeglasses (PandasSeriesColumn)</th>\n",
       "      <th>goatee (PandasSeriesColumn)</th>\n",
       "      <th>gray_hair (PandasSeriesColumn)</th>\n",
       "      <th>heavy_makeup (PandasSeriesColumn)</th>\n",
       "      <th>high_cheekbones (PandasSeriesColumn)</th>\n",
       "      <th>male (PandasSeriesColumn)</th>\n",
       "      <th>mouth_slightly_open (PandasSeriesColumn)</th>\n",
       "      <th>mustache (PandasSeriesColumn)</th>\n",
       "      <th>narrow_eyes (PandasSeriesColumn)</th>\n",
       "      <th>no_beard (PandasSeriesColumn)</th>\n",
       "      <th>oval_face (PandasSeriesColumn)</th>\n",
       "      <th>pale_skin (PandasSeriesColumn)</th>\n",
       "      <th>pointy_nose (PandasSeriesColumn)</th>\n",
       "      <th>receding_hairline (PandasSeriesColumn)</th>\n",
       "      <th>rosy_cheeks (PandasSeriesColumn)</th>\n",
       "      <th>sideburns (PandasSeriesColumn)</th>\n",
       "      <th>smiling (PandasSeriesColumn)</th>\n",
       "      <th>straight_hair (PandasSeriesColumn)</th>\n",
       "      <th>wavy_hair (PandasSeriesColumn)</th>\n",
       "      <th>wearing_earrings (PandasSeriesColumn)</th>\n",
       "      <th>wearing_hat (PandasSeriesColumn)</th>\n",
       "      <th>wearing_lipstick (PandasSeriesColumn)</th>\n",
       "      <th>wearing_necklace (PandasSeriesColumn)</th>\n",
       "      <th>wearing_necktie (PandasSeriesColumn)</th>\n",
       "      <th>young (PandasSeriesColumn)</th>\n",
       "      <th>img_path (PandasSeriesColumn)</th>\n",
       "      <th>image_id (PandasSeriesColumn)</th>\n",
       "      <th>index (PandasSeriesColumn)</th>\n",
       "      <th>image (ImageColumn)</th>\n",
       "      <th>split (PandasSeriesColumn)</th>\n",
       "      <th>body (NumpyArrayColumn)</th>\n",
       "    </tr>\n",
       "  </thead>\n",
       "  <tbody>\n",
       "    <tr>\n",
       "      <th>0</th>\n",
       "      <td>2937.0</td>\n",
       "      <td>000002.jpg</td>\n",
       "      <td>0.0</td>\n",
       "      <td>0.0</td>\n",
       "      <td>0.0</td>\n",
       "      <td>1.0</td>\n",
       "      <td>0.0</td>\n",
       "      <td>0.0</td>\n",
       "      <td>0.0</td>\n",
       "      <td>1.0</td>\n",
       "      <td>0.0</td>\n",
       "      <td>0.0</td>\n",
       "      <td>0.0</td>\n",
       "      <td>1.0</td>\n",
       "      <td>0.0</td>\n",
       "      <td>0.0</td>\n",
       "      <td>0.0</td>\n",
       "      <td>0.0</td>\n",
       "      <td>0.0</td>\n",
       "      <td>0.0</td>\n",
       "      <td>0.0</td>\n",
       "      <td>1.0</td>\n",
       "      <td>0.0</td>\n",
       "      <td>1.0</td>\n",
       "      <td>0.0</td>\n",
       "      <td>0.0</td>\n",
       "      <td>1.0</td>\n",
       "      <td>0.0</td>\n",
       "      <td>0.0</td>\n",
       "      <td>0.0</td>\n",
       "      <td>0.0</td>\n",
       "      <td>0.0</td>\n",
       "      <td>0.0</td>\n",
       "      <td>1.0</td>\n",
       "      <td>0.0</td>\n",
       "      <td>0.0</td>\n",
       "      <td>0.0</td>\n",
       "      <td>0.0</td>\n",
       "      <td>0.0</td>\n",
       "      <td>0.0</td>\n",
       "      <td>0.0</td>\n",
       "      <td>1.0</td>\n",
       "      <td>/home/common/datasets/celeba/img_align_celeba/000002.jpg</td>\n",
       "      <td>000002.jpg</td>\n",
       "      <td>0</td>\n",
       "      <td><img src=\"data:image/jpeg;base64,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\"></td>\n",
       "      <td>valid</td>\n",
       "      <td>np.ndarray(shape=(2048,))</td>\n",
       "    </tr>\n",
       "    <tr>\n",
       "      <th>1</th>\n",
       "      <td>2937.0</td>\n",
       "      <td>011437.jpg</td>\n",
       "      <td>0.0</td>\n",
       "      <td>1.0</td>\n",
       "      <td>0.0</td>\n",
       "      <td>0.0</td>\n",
       "      <td>0.0</td>\n",
       "      <td>0.0</td>\n",
       "      <td>0.0</td>\n",
       "      <td>1.0</td>\n",
       "      <td>0.0</td>\n",
       "      <td>0.0</td>\n",
       "      <td>0.0</td>\n",
       "      <td>1.0</td>\n",
       "      <td>0.0</td>\n",
       "      <td>0.0</td>\n",
       "      <td>0.0</td>\n",
       "      <td>0.0</td>\n",
       "      <td>0.0</td>\n",
       "      <td>0.0</td>\n",
       "      <td>0.0</td>\n",
       "      <td>1.0</td>\n",
       "      <td>0.0</td>\n",
       "      <td>1.0</td>\n",
       "      <td>0.0</td>\n",
       "      <td>0.0</td>\n",
       "      <td>1.0</td>\n",
       "      <td>0.0</td>\n",
       "      <td>0.0</td>\n",
       "      <td>1.0</td>\n",
       "      <td>1.0</td>\n",
       "      <td>0.0</td>\n",
       "      <td>0.0</td>\n",
       "      <td>1.0</td>\n",
       "      <td>0.0</td>\n",
       "      <td>1.0</td>\n",
       "      <td>0.0</td>\n",
       "      <td>0.0</td>\n",
       "      <td>1.0</td>\n",
       "      <td>1.0</td>\n",
       "      <td>0.0</td>\n",
       "      <td>1.0</td>\n",
       "      <td>/home/common/datasets/celeba/img_align_celeba/011437.jpg</td>\n",
       "      <td>011437.jpg</td>\n",
       "      <td>1</td>\n",
       "      <td><img src=\"data:image/jpeg;base64,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\"></td>\n",
       "      <td>valid</td>\n",
       "      <td>np.ndarray(shape=(2048,))</td>\n",
       "    </tr>\n",
       "    <tr>\n",
       "      <th>2</th>\n",
       "      <td>2937.0</td>\n",
       "      <td>016335.jpg</td>\n",
       "      <td>0.0</td>\n",
       "      <td>0.0</td>\n",
       "      <td>1.0</td>\n",
       "      <td>0.0</td>\n",
       "      <td>0.0</td>\n",
       "      <td>0.0</td>\n",
       "      <td>0.0</td>\n",
       "      <td>0.0</td>\n",
       "      <td>0.0</td>\n",
       "      <td>1.0</td>\n",
       "      <td>0.0</td>\n",
       "      <td>0.0</td>\n",
       "      <td>0.0</td>\n",
       "      <td>0.0</td>\n",
       "      <td>0.0</td>\n",
       "      <td>0.0</td>\n",
       "      <td>0.0</td>\n",
       "      <td>0.0</td>\n",
       "      <td>1.0</td>\n",
       "      <td>0.0</td>\n",
       "      <td>0.0</td>\n",
       "      <td>0.0</td>\n",
       "      <td>0.0</td>\n",
       "      <td>0.0</td>\n",
       "      <td>1.0</td>\n",
       "      <td>0.0</td>\n",
       "      <td>0.0</td>\n",
       "      <td>1.0</td>\n",
       "      <td>0.0</td>\n",
       "      <td>0.0</td>\n",
       "      <td>0.0</td>\n",
       "      <td>0.0</td>\n",
       "      <td>0.0</td>\n",
       "      <td>1.0</td>\n",
       "      <td>0.0</td>\n",
       "      <td>0.0</td>\n",
       "      <td>1.0</td>\n",
       "      <td>0.0</td>\n",
       "      <td>0.0</td>\n",
       "      <td>1.0</td>\n",
       "      <td>/home/common/datasets/celeba/img_align_celeba/016335.jpg</td>\n",
       "      <td>016335.jpg</td>\n",
       "      <td>2</td>\n",
       "      <td><img src=\"data:image/jpeg;base64,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\"></td>\n",
       "      <td>valid</td>\n",
       "      <td>np.ndarray(shape=(2048,))</td>\n",
       "    </tr>\n",
       "    <tr>\n",
       "      <th>3</th>\n",
       "      <td>2937.0</td>\n",
       "      <td>017121.jpg</td>\n",
       "      <td>0.0</td>\n",
       "      <td>0.0</td>\n",
       "      <td>1.0</td>\n",
       "      <td>0.0</td>\n",
       "      <td>0.0</td>\n",
       "      <td>0.0</td>\n",
       "      <td>0.0</td>\n",
       "      <td>0.0</td>\n",
       "      <td>0.0</td>\n",
       "      <td>1.0</td>\n",
       "      <td>0.0</td>\n",
       "      <td>0.0</td>\n",
       "      <td>0.0</td>\n",
       "      <td>0.0</td>\n",
       "      <td>0.0</td>\n",
       "      <td>0.0</td>\n",
       "      <td>0.0</td>\n",
       "      <td>0.0</td>\n",
       "      <td>1.0</td>\n",
       "      <td>1.0</td>\n",
       "      <td>0.0</td>\n",
       "      <td>1.0</td>\n",
       "      <td>0.0</td>\n",
       "      <td>0.0</td>\n",
       "      <td>1.0</td>\n",
       "      <td>0.0</td>\n",
       "      <td>0.0</td>\n",
       "      <td>1.0</td>\n",
       "      <td>0.0</td>\n",
       "      <td>0.0</td>\n",
       "      <td>0.0</td>\n",
       "      <td>1.0</td>\n",
       "      <td>0.0</td>\n",
       "      <td>0.0</td>\n",
       "      <td>1.0</td>\n",
       "      <td>0.0</td>\n",
       "      <td>1.0</td>\n",
       "      <td>0.0</td>\n",
       "      <td>0.0</td>\n",
       "      <td>1.0</td>\n",
       "      <td>/home/common/datasets/celeba/img_align_celeba/017121.jpg</td>\n",
       "      <td>017121.jpg</td>\n",
       "      <td>3</td>\n",
       "      <td><img src=\"data:image/jpeg;base64,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\"></td>\n",
       "      <td>valid</td>\n",
       "      <td>np.ndarray(shape=(2048,))</td>\n",
       "    </tr>\n",
       "    <tr>\n",
       "      <th>4</th>\n",
       "      <td>2937.0</td>\n",
       "      <td>024291.jpg</td>\n",
       "      <td>0.0</td>\n",
       "      <td>0.0</td>\n",
       "      <td>1.0</td>\n",
       "      <td>0.0</td>\n",
       "      <td>0.0</td>\n",
       "      <td>0.0</td>\n",
       "      <td>0.0</td>\n",
       "      <td>0.0</td>\n",
       "      <td>0.0</td>\n",
       "      <td>1.0</td>\n",
       "      <td>0.0</td>\n",
       "      <td>0.0</td>\n",
       "      <td>0.0</td>\n",
       "      <td>0.0</td>\n",
       "      <td>0.0</td>\n",
       "      <td>0.0</td>\n",
       "      <td>0.0</td>\n",
       "      <td>0.0</td>\n",
       "      <td>1.0</td>\n",
       "      <td>1.0</td>\n",
       "      <td>0.0</td>\n",
       "      <td>1.0</td>\n",
       "      <td>0.0</td>\n",
       "      <td>0.0</td>\n",
       "      <td>1.0</td>\n",
       "      <td>0.0</td>\n",
       "      <td>1.0</td>\n",
       "      <td>1.0</td>\n",
       "      <td>0.0</td>\n",
       "      <td>0.0</td>\n",
       "      <td>0.0</td>\n",
       "      <td>1.0</td>\n",
       "      <td>0.0</td>\n",
       "      <td>1.0</td>\n",
       "      <td>0.0</td>\n",
       "      <td>0.0</td>\n",
       "      <td>1.0</td>\n",
       "      <td>0.0</td>\n",
       "      <td>0.0</td>\n",
       "      <td>1.0</td>\n",
       "      <td>/home/common/datasets/celeba/img_align_celeba/024291.jpg</td>\n",
       "      <td>024291.jpg</td>\n",
       "      <td>4</td>\n",
       "      <td><img src=\"data:image/jpeg;base64,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\"></td>\n",
       "      <td>valid</td>\n",
       "      <td>np.ndarray(shape=(2048,))</td>\n",
       "    </tr>\n",
       "    <tr>\n",
       "      <th>...</th>\n",
       "      <td>...</td>\n",
       "      <td>...</td>\n",
       "      <td>...</td>\n",
       "      <td>...</td>\n",
       "      <td>...</td>\n",
       "      <td>...</td>\n",
       "      <td>...</td>\n",
       "      <td>...</td>\n",
       "      <td>...</td>\n",
       "      <td>...</td>\n",
       "      <td>...</td>\n",
       "      <td>...</td>\n",
       "      <td>...</td>\n",
       "      <td>...</td>\n",
       "      <td>...</td>\n",
       "      <td>...</td>\n",
       "      <td>...</td>\n",
       "      <td>...</td>\n",
       "      <td>...</td>\n",
       "      <td>...</td>\n",
       "      <td>...</td>\n",
       "      <td>...</td>\n",
       "      <td>...</td>\n",
       "      <td>...</td>\n",
       "      <td>...</td>\n",
       "      <td>...</td>\n",
       "      <td>...</td>\n",
       "      <td>...</td>\n",
       "      <td>...</td>\n",
       "      <td>...</td>\n",
       "      <td>...</td>\n",
       "      <td>...</td>\n",
       "      <td>...</td>\n",
       "      <td>...</td>\n",
       "      <td>...</td>\n",
       "      <td>...</td>\n",
       "      <td>...</td>\n",
       "      <td>...</td>\n",
       "      <td>...</td>\n",
       "      <td>...</td>\n",
       "      <td>...</td>\n",
       "      <td>...</td>\n",
       "      <td>...</td>\n",
       "      <td>...</td>\n",
       "      <td>...</td>\n",
       "      <td>...</td>\n",
       "      <td>...</td>\n",
       "      <td>...</td>\n",
       "    </tr>\n",
       "    <tr>\n",
       "      <th>61905</th>\n",
       "      <td>5723.0</td>\n",
       "      <td>198789.jpg</td>\n",
       "      <td>0.0</td>\n",
       "      <td>0.0</td>\n",
       "      <td>0.0</td>\n",
       "      <td>1.0</td>\n",
       "      <td>0.0</td>\n",
       "      <td>0.0</td>\n",
       "      <td>1.0</td>\n",
       "      <td>1.0</td>\n",
       "      <td>0.0</td>\n",
       "      <td>0.0</td>\n",
       "      <td>0.0</td>\n",
       "      <td>0.0</td>\n",
       "      <td>0.0</td>\n",
       "      <td>0.0</td>\n",
       "      <td>0.0</td>\n",
       "      <td>0.0</td>\n",
       "      <td>0.0</td>\n",
       "      <td>1.0</td>\n",
       "      <td>0.0</td>\n",
       "      <td>1.0</td>\n",
       "      <td>1.0</td>\n",
       "      <td>1.0</td>\n",
       "      <td>0.0</td>\n",
       "      <td>0.0</td>\n",
       "      <td>1.0</td>\n",
       "      <td>0.0</td>\n",
       "      <td>0.0</td>\n",
       "      <td>0.0</td>\n",
       "      <td>0.0</td>\n",
       "      <td>0.0</td>\n",
       "      <td>0.0</td>\n",
       "      <td>1.0</td>\n",
       "      <td>0.0</td>\n",
       "      <td>0.0</td>\n",
       "      <td>0.0</td>\n",
       "      <td>0.0</td>\n",
       "      <td>0.0</td>\n",
       "      <td>0.0</td>\n",
       "      <td>1.0</td>\n",
       "      <td>0.0</td>\n",
       "      <td>/home/common/datasets/celeba/img_align_celeba/198789.jpg</td>\n",
       "      <td>198789.jpg</td>\n",
       "      <td>61905</td>\n",
       "      <td><img src=\"data:image/jpeg;base64,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\"></td>\n",
       "      <td>valid</td>\n",
       "      <td>np.ndarray(shape=(2048,))</td>\n",
       "    </tr>\n",
       "    <tr>\n",
       "      <th>61906</th>\n",
       "      <td>5723.0</td>\n",
       "      <td>202076.jpg</td>\n",
       "      <td>0.0</td>\n",
       "      <td>0.0</td>\n",
       "      <td>0.0</td>\n",
       "      <td>1.0</td>\n",
       "      <td>0.0</td>\n",
       "      <td>0.0</td>\n",
       "      <td>1.0</td>\n",
       "      <td>1.0</td>\n",
       "      <td>0.0</td>\n",
       "      <td>0.0</td>\n",
       "      <td>0.0</td>\n",
       "      <td>0.0</td>\n",
       "      <td>0.0</td>\n",
       "      <td>1.0</td>\n",
       "      <td>1.0</td>\n",
       "      <td>0.0</td>\n",
       "      <td>0.0</td>\n",
       "      <td>0.0</td>\n",
       "      <td>0.0</td>\n",
       "      <td>1.0</td>\n",
       "      <td>1.0</td>\n",
       "      <td>1.0</td>\n",
       "      <td>0.0</td>\n",
       "      <td>0.0</td>\n",
       "      <td>1.0</td>\n",
       "      <td>0.0</td>\n",
       "      <td>0.0</td>\n",
       "      <td>0.0</td>\n",
       "      <td>1.0</td>\n",
       "      <td>0.0</td>\n",
       "      <td>0.0</td>\n",
       "      <td>1.0</td>\n",
       "      <td>0.0</td>\n",
       "      <td>0.0</td>\n",
       "      <td>0.0</td>\n",
       "      <td>0.0</td>\n",
       "      <td>0.0</td>\n",
       "      <td>0.0</td>\n",
       "      <td>1.0</td>\n",
       "      <td>0.0</td>\n",
       "      <td>/home/common/datasets/celeba/img_align_celeba/202076.jpg</td>\n",
       "      <td>202076.jpg</td>\n",
       "      <td>61906</td>\n",
       "      <td><img src=\"data:image/jpeg;base64,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\"></td>\n",
       "      <td>valid</td>\n",
       "      <td>np.ndarray(shape=(2048,))</td>\n",
       "    </tr>\n",
       "    <tr>\n",
       "      <th>61907</th>\n",
       "      <td>5335.0</td>\n",
       "      <td>198787.jpg</td>\n",
       "      <td>0.0</td>\n",
       "      <td>0.0</td>\n",
       "      <td>0.0</td>\n",
       "      <td>1.0</td>\n",
       "      <td>0.0</td>\n",
       "      <td>0.0</td>\n",
       "      <td>0.0</td>\n",
       "      <td>0.0</td>\n",
       "      <td>0.0</td>\n",
       "      <td>0.0</td>\n",
       "      <td>0.0</td>\n",
       "      <td>0.0</td>\n",
       "      <td>1.0</td>\n",
       "      <td>0.0</td>\n",
       "      <td>0.0</td>\n",
       "      <td>0.0</td>\n",
       "      <td>0.0</td>\n",
       "      <td>0.0</td>\n",
       "      <td>0.0</td>\n",
       "      <td>0.0</td>\n",
       "      <td>1.0</td>\n",
       "      <td>1.0</td>\n",
       "      <td>0.0</td>\n",
       "      <td>0.0</td>\n",
       "      <td>1.0</td>\n",
       "      <td>0.0</td>\n",
       "      <td>0.0</td>\n",
       "      <td>1.0</td>\n",
       "      <td>0.0</td>\n",
       "      <td>0.0</td>\n",
       "      <td>0.0</td>\n",
       "      <td>1.0</td>\n",
       "      <td>0.0</td>\n",
       "      <td>0.0</td>\n",
       "      <td>0.0</td>\n",
       "      <td>0.0</td>\n",
       "      <td>0.0</td>\n",
       "      <td>0.0</td>\n",
       "      <td>0.0</td>\n",
       "      <td>0.0</td>\n",
       "      <td>/home/common/datasets/celeba/img_align_celeba/198787.jpg</td>\n",
       "      <td>198787.jpg</td>\n",
       "      <td>61907</td>\n",
       "      <td><img src=\"data:image/jpeg;base64,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\"></td>\n",
       "      <td>valid</td>\n",
       "      <td>np.ndarray(shape=(2048,))</td>\n",
       "    </tr>\n",
       "    <tr>\n",
       "      <th>61908</th>\n",
       "      <td>5335.0</td>\n",
       "      <td>199613.jpg</td>\n",
       "      <td>0.0</td>\n",
       "      <td>0.0</td>\n",
       "      <td>1.0</td>\n",
       "      <td>1.0</td>\n",
       "      <td>0.0</td>\n",
       "      <td>0.0</td>\n",
       "      <td>0.0</td>\n",
       "      <td>0.0</td>\n",
       "      <td>0.0</td>\n",
       "      <td>0.0</td>\n",
       "      <td>0.0</td>\n",
       "      <td>0.0</td>\n",
       "      <td>1.0</td>\n",
       "      <td>0.0</td>\n",
       "      <td>0.0</td>\n",
       "      <td>0.0</td>\n",
       "      <td>0.0</td>\n",
       "      <td>0.0</td>\n",
       "      <td>0.0</td>\n",
       "      <td>1.0</td>\n",
       "      <td>1.0</td>\n",
       "      <td>1.0</td>\n",
       "      <td>0.0</td>\n",
       "      <td>0.0</td>\n",
       "      <td>1.0</td>\n",
       "      <td>0.0</td>\n",
       "      <td>0.0</td>\n",
       "      <td>0.0</td>\n",
       "      <td>0.0</td>\n",
       "      <td>0.0</td>\n",
       "      <td>0.0</td>\n",
       "      <td>1.0</td>\n",
       "      <td>0.0</td>\n",
       "      <td>0.0</td>\n",
       "      <td>0.0</td>\n",
       "      <td>0.0</td>\n",
       "      <td>0.0</td>\n",
       "      <td>0.0</td>\n",
       "      <td>1.0</td>\n",
       "      <td>0.0</td>\n",
       "      <td>/home/common/datasets/celeba/img_align_celeba/199613.jpg</td>\n",
       "      <td>199613.jpg</td>\n",
       "      <td>61908</td>\n",
       "      <td><img src=\"data:image/jpeg;base64,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\"></td>\n",
       "      <td>valid</td>\n",
       "      <td>np.ndarray(shape=(2048,))</td>\n",
       "    </tr>\n",
       "    <tr>\n",
       "      <th>61909</th>\n",
       "      <td>5335.0</td>\n",
       "      <td>199972.jpg</td>\n",
       "      <td>0.0</td>\n",
       "      <td>0.0</td>\n",
       "      <td>0.0</td>\n",
       "      <td>1.0</td>\n",
       "      <td>0.0</td>\n",
       "      <td>0.0</td>\n",
       "      <td>0.0</td>\n",
       "      <td>0.0</td>\n",
       "      <td>0.0</td>\n",
       "      <td>0.0</td>\n",
       "      <td>0.0</td>\n",
       "      <td>0.0</td>\n",
       "      <td>1.0</td>\n",
       "      <td>0.0</td>\n",
       "      <td>0.0</td>\n",
       "      <td>0.0</td>\n",
       "      <td>0.0</td>\n",
       "      <td>1.0</td>\n",
       "      <td>0.0</td>\n",
       "      <td>0.0</td>\n",
       "      <td>1.0</td>\n",
       "      <td>0.0</td>\n",
       "      <td>0.0</td>\n",
       "      <td>0.0</td>\n",
       "      <td>1.0</td>\n",
       "      <td>0.0</td>\n",
       "      <td>0.0</td>\n",
       "      <td>0.0</td>\n",
       "      <td>0.0</td>\n",
       "      <td>0.0</td>\n",
       "      <td>0.0</td>\n",
       "      <td>1.0</td>\n",
       "      <td>0.0</td>\n",
       "      <td>0.0</td>\n",
       "      <td>0.0</td>\n",
       "      <td>0.0</td>\n",
       "      <td>0.0</td>\n",
       "      <td>0.0</td>\n",
       "      <td>1.0</td>\n",
       "      <td>0.0</td>\n",
       "      <td>/home/common/datasets/celeba/img_align_celeba/199972.jpg</td>\n",
       "      <td>199972.jpg</td>\n",
       "      <td>61909</td>\n",
       "      <td><img src=\"data:image/jpeg;base64,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\"></td>\n",
       "      <td>valid</td>\n",
       "      <td>np.ndarray(shape=(2048,))</td>\n",
       "    </tr>\n",
       "  </tbody>\n",
       "</table>"
      ],
      "text/plain": [
       "DataPanel(nrows: 61910, ncols: 48)"
      ]
     },
     "metadata": {},
     "execution_count": 33
    }
   ],
   "metadata": {}
  },
  {
   "cell_type": "code",
   "execution_count": null,
   "source": [],
   "outputs": [],
   "metadata": {}
  }
 ],
 "metadata": {
  "orig_nbformat": 4,
  "language_info": {
   "name": "python",
   "version": "3.8.10",
   "mimetype": "text/x-python",
   "codemirror_mode": {
    "name": "ipython",
    "version": 3
   },
   "pygments_lexer": "ipython3",
   "nbconvert_exporter": "python",
   "file_extension": ".py"
  },
  "kernelspec": {
   "name": "python3",
   "display_name": "Python 3.8.10 64-bit ('domino': conda)"
  },
  "interpreter": {
   "hash": "0d937a63d09daec3f9548a5c769ccb20edb9c2c1ae2375686b21850f577713d2"
  }
 },
 "nbformat": 4,
 "nbformat_minor": 2
}