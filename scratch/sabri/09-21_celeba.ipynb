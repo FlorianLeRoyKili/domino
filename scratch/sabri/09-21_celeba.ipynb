{
 "cells": [
  {
   "cell_type": "code",
   "execution_count": 1,
   "source": [
    "%load_ext autoreload\n",
    "%autoreload 2\n"
   ],
   "outputs": [],
   "metadata": {}
  },
  {
   "cell_type": "code",
   "execution_count": 11,
   "source": [
    "from domino.slices import collect_settings\n",
    "from domino.slices.celeba import CelebASliceBuilder\n",
    "from domino.evaluate import run_sdm, score_sdms, run_sdms\n",
    "from domino.train import train_settings\n",
    "import numpy as np\n",
    "import terra\n",
    "from domino.emb.clip import embed_phrases"
   ],
   "outputs": [],
   "metadata": {}
  },
  {
   "cell_type": "code",
   "execution_count": 22,
   "source": [
    "score_df = score_sdms.out().load()"
   ],
   "outputs": [],
   "metadata": {}
  },
  {
   "cell_type": "code",
   "execution_count": 23,
   "source": [
    "score_df.iloc[score_df.reset_index().groupby([\"target_name\", \"slice_name\", \"slice_idx\"])['precision_at_10'].idxmax().astype(int)]"
   ],
   "outputs": [
    {
     "output_type": "execute_result",
     "data": {
      "text/html": [
       "<div>\n",
       "<style scoped>\n",
       "    .dataframe tbody tr th:only-of-type {\n",
       "        vertical-align: middle;\n",
       "    }\n",
       "\n",
       "    .dataframe tbody tr th {\n",
       "        vertical-align: top;\n",
       "    }\n",
       "\n",
       "    .dataframe thead th {\n",
       "        text-align: right;\n",
       "    }\n",
       "</style>\n",
       "<table border=\"1\" class=\"dataframe\">\n",
       "  <thead>\n",
       "    <tr style=\"text-align: right;\">\n",
       "      <th></th>\n",
       "      <th>pred_slice_idx</th>\n",
       "      <th>slice_idx</th>\n",
       "      <th>auroc</th>\n",
       "      <th>precision_at_10</th>\n",
       "      <th>precision_at_25</th>\n",
       "      <th>precision_at_100</th>\n",
       "      <th>recall_at_50</th>\n",
       "      <th>recall_at_100</th>\n",
       "      <th>recall_at_200</th>\n",
       "      <th>recall</th>\n",
       "      <th>precision</th>\n",
       "      <th>target_name</th>\n",
       "      <th>run_sdm_run_id</th>\n",
       "      <th>slice_name</th>\n",
       "    </tr>\n",
       "  </thead>\n",
       "  <tbody>\n",
       "    <tr>\n",
       "      <th>64</th>\n",
       "      <td>4</td>\n",
       "      <td>0</td>\n",
       "      <td>0.870886</td>\n",
       "      <td>1.0</td>\n",
       "      <td>0.72</td>\n",
       "      <td>0.62</td>\n",
       "      <td>0.066802</td>\n",
       "      <td>0.125506</td>\n",
       "      <td>0.226721</td>\n",
       "      <td>0.376518</td>\n",
       "      <td>0.189990</td>\n",
       "      <td>blond_hair</td>\n",
       "      <td>16913</td>\n",
       "      <td>blond_hair=0_wearing_earrings=1</td>\n",
       "    </tr>\n",
       "    <tr>\n",
       "      <th>67</th>\n",
       "      <td>2</td>\n",
       "      <td>1</td>\n",
       "      <td>0.983860</td>\n",
       "      <td>1.0</td>\n",
       "      <td>0.96</td>\n",
       "      <td>0.93</td>\n",
       "      <td>0.091633</td>\n",
       "      <td>0.185259</td>\n",
       "      <td>0.354582</td>\n",
       "      <td>1.000000</td>\n",
       "      <td>0.504523</td>\n",
       "      <td>blond_hair</td>\n",
       "      <td>16913</td>\n",
       "      <td>blond_hair=1_wearing_earrings=0</td>\n",
       "    </tr>\n",
       "    <tr>\n",
       "      <th>142</th>\n",
       "      <td>2</td>\n",
       "      <td>0</td>\n",
       "      <td>0.849643</td>\n",
       "      <td>0.7</td>\n",
       "      <td>0.60</td>\n",
       "      <td>0.32</td>\n",
       "      <td>0.116022</td>\n",
       "      <td>0.176796</td>\n",
       "      <td>0.270718</td>\n",
       "      <td>0.541436</td>\n",
       "      <td>0.054933</td>\n",
       "      <td>goatee</td>\n",
       "      <td>16921</td>\n",
       "      <td>goatee=0_mustache=1</td>\n",
       "    </tr>\n",
       "    <tr>\n",
       "      <th>136</th>\n",
       "      <td>1</td>\n",
       "      <td>1</td>\n",
       "      <td>0.993695</td>\n",
       "      <td>0.8</td>\n",
       "      <td>0.80</td>\n",
       "      <td>0.72</td>\n",
       "      <td>0.168317</td>\n",
       "      <td>0.356436</td>\n",
       "      <td>0.722772</td>\n",
       "      <td>0.455446</td>\n",
       "      <td>0.718750</td>\n",
       "      <td>goatee</td>\n",
       "      <td>16920</td>\n",
       "      <td>goatee=1_mustache=0</td>\n",
       "    </tr>\n",
       "    <tr>\n",
       "      <th>3</th>\n",
       "      <td>3</td>\n",
       "      <td>0</td>\n",
       "      <td>0.847643</td>\n",
       "      <td>1.0</td>\n",
       "      <td>0.92</td>\n",
       "      <td>0.86</td>\n",
       "      <td>0.040000</td>\n",
       "      <td>0.078182</td>\n",
       "      <td>0.143636</td>\n",
       "      <td>0.852727</td>\n",
       "      <td>0.400855</td>\n",
       "      <td>no_beard</td>\n",
       "      <td>16907</td>\n",
       "      <td>no_beard=0_young=1</td>\n",
       "    </tr>\n",
       "    <tr>\n",
       "      <th>5</th>\n",
       "      <td>0</td>\n",
       "      <td>1</td>\n",
       "      <td>0.824253</td>\n",
       "      <td>1.0</td>\n",
       "      <td>1.00</td>\n",
       "      <td>0.98</td>\n",
       "      <td>0.048276</td>\n",
       "      <td>0.096552</td>\n",
       "      <td>0.188177</td>\n",
       "      <td>0.172414</td>\n",
       "      <td>0.961538</td>\n",
       "      <td>no_beard</td>\n",
       "      <td>16907</td>\n",
       "      <td>no_beard=1_young=0</td>\n",
       "    </tr>\n",
       "    <tr>\n",
       "      <th>91</th>\n",
       "      <td>1</td>\n",
       "      <td>0</td>\n",
       "      <td>0.789123</td>\n",
       "      <td>0.8</td>\n",
       "      <td>0.60</td>\n",
       "      <td>0.51</td>\n",
       "      <td>0.102310</td>\n",
       "      <td>0.168317</td>\n",
       "      <td>0.264026</td>\n",
       "      <td>0.821782</td>\n",
       "      <td>0.050354</td>\n",
       "      <td>wearing_earrings</td>\n",
       "      <td>16916</td>\n",
       "      <td>wearing_earrings=0_bangs=1</td>\n",
       "    </tr>\n",
       "    <tr>\n",
       "      <th>118</th>\n",
       "      <td>3</td>\n",
       "      <td>1</td>\n",
       "      <td>0.983946</td>\n",
       "      <td>1.0</td>\n",
       "      <td>0.92</td>\n",
       "      <td>0.80</td>\n",
       "      <td>0.133540</td>\n",
       "      <td>0.248447</td>\n",
       "      <td>0.462733</td>\n",
       "      <td>1.000000</td>\n",
       "      <td>0.345123</td>\n",
       "      <td>wearing_earrings</td>\n",
       "      <td>16918</td>\n",
       "      <td>wearing_earrings=1_bangs=0</td>\n",
       "    </tr>\n",
       "  </tbody>\n",
       "</table>\n",
       "</div>"
      ],
      "text/plain": [
       "     pred_slice_idx  slice_idx  ...  run_sdm_run_id                       slice_name\n",
       "64                4          0  ...           16913  blond_hair=0_wearing_earrings=1\n",
       "67                2          1  ...           16913  blond_hair=1_wearing_earrings=0\n",
       "142               2          0  ...           16921              goatee=0_mustache=1\n",
       "136               1          1  ...           16920              goatee=1_mustache=0\n",
       "3                 3          0  ...           16907               no_beard=0_young=1\n",
       "5                 0          1  ...           16907               no_beard=1_young=0\n",
       "91                1          0  ...           16916       wearing_earrings=0_bangs=1\n",
       "118               3          1  ...           16918       wearing_earrings=1_bangs=0\n",
       "\n",
       "[8 rows x 14 columns]"
      ]
     },
     "metadata": {},
     "execution_count": 23
    }
   ],
   "metadata": {}
  },
  {
   "cell_type": "code",
   "execution_count": 24,
   "source": [
    "inp = run_sdm.inp(run_id=16913, load=True)\n",
    "data_dp, emb_dp = inp[\"data_dp\"], inp[\"emb_dp\"]\n",
    "\n",
    "data_dp = data_dp.lz[data_dp[\"split\"].isin([\"valid\", \"test\"])].merge(\n",
    "    emb_dp[[\"image_id\", \"emb\"]], on=\"image_id\"\n",
    ")\n",
    "slice_idx = 0\n",
    "inp[\"slice_names\"][slice_idx]"
   ],
   "outputs": [
    {
     "output_type": "execute_result",
     "data": {
      "text/plain": [
       "'blond_hair=0_wearing_earrings=1'"
      ]
     },
     "metadata": {},
     "execution_count": 24
    }
   ],
   "metadata": {}
  },
  {
   "cell_type": "code",
   "execution_count": 8,
   "source": [
    "from domino.metrics import compute_model_metrics\n",
    "compute_model_metrics(data_dp, num_iter=10)"
   ],
   "outputs": [
    {
     "output_type": "stream",
     "name": "stderr",
     "text": [
      "/home/sabri/code/domino/domino/metrics.py:198: RuntimeWarning: Mean of empty slice.\n",
      "  bs_sample_estimates = bs_samples.mean(axis=0)\n",
      "/home/common/envs/conda/envs/domino/lib/python3.8/site-packages/numpy/core/_methods.py:153: RuntimeWarning: invalid value encountered in true_divide\n",
      "  ret = um.true_divide(\n"
     ]
    },
    {
     "output_type": "execute_result",
     "data": {
      "text/plain": [
       "{'overall': {'auroc': {'mean': 0.9527946965416821,\n",
       "   'lower': 0.9491850151043988,\n",
       "   'upper': 0.9567422728713363},\n",
       "  'recall': {'mean': tensor(0.8679),\n",
       "   'lower': 0.8568310707807542,\n",
       "   'upper': 0.8816326379776},\n",
       "  'precision': {'mean': 0.0, 'lower': 0.0, 'upper': 0.0}},\n",
       " 'in_slice_0': {'auroc': nan,\n",
       "  'recall': {'mean': tensor(nan), 'lower': nan, 'upper': nan},\n",
       "  'precision': {'mean': 0.0, 'lower': 0.0, 'upper': 0.0}},\n",
       " 'in_slice_1': {'auroc': nan,\n",
       "  'recall': {'mean': tensor(0.8510),\n",
       "   'lower': 0.8325770378112793,\n",
       "   'upper': 0.8687072157859802},\n",
       "  'precision': {'mean': 1.0, 'lower': 1.0, 'upper': 1.0}},\n",
       " 'out_slice': {'auroc': {'mean': 0.9662526073120323,\n",
       "   'lower': 0.9634095900303388,\n",
       "   'upper': 0.9702992828367555},\n",
       "  'recall': {'mean': tensor(0.9010),\n",
       "   'lower': 0.8859060406684875,\n",
       "   'upper': 0.9250000059604644},\n",
       "  'precision': {'mean': 0.0, 'lower': 0.0, 'upper': 0.0}}}"
      ]
     },
     "metadata": {},
     "execution_count": 8
    }
   ],
   "metadata": {}
  },
  {
   "cell_type": "code",
   "execution_count": 26,
   "source": [
    "from domino.sdm import MixtureModelSDM, SpotlightSDM\n",
    "sdm = MixtureModelSDM(\n",
    "    n_slices=5, \n",
    "    n_clusters=25, \n",
    "    weight_y_log_likelihood=10, \n",
    "    init_params=\"error\",\n",
    "    emb=\"emb\",\n",
    "    pca_components=128 \n",
    ")\n",
    "\n",
    "sdm.fit(data_dp.lz[data_dp[\"split\"] == \"valid\"])\n",
    "dp = sdm.transform(data_dp.lz[data_dp[\"split\"] == \"test\"])"
   ],
   "outputs": [
    {
     "output_type": "stream",
     "name": "stderr",
     "text": [
      " 40%|████      | 40/100 [00:01<00:02, 23.42it/s]\n"
     ]
    }
   ],
   "metadata": {}
  },
  {
   "cell_type": "code",
   "execution_count": 27,
   "source": [
    "from domino.metrics import compute_sdm_metrics\n",
    "\n",
    "metrics_df = compute_sdm_metrics(dp)\n",
    "metrics_df[metrics_df[\"slice_idx\"] == slice_idx].sort_values(\n",
    "    by=\"auroc\", ascending=False\n",
    ")\n"
   ],
   "outputs": [
    {
     "output_type": "stream",
     "name": "stderr",
     "text": [
      "/home/common/envs/conda/envs/domino/lib/python3.8/site-packages/sklearn/metrics/_classification.py:1248: UndefinedMetricWarning: Precision is ill-defined and being set to 0.0 due to no predicted samples. Use `zero_division` parameter to control this behavior.\n",
      "  _warn_prf(average, modifier, msg_start, len(result))\n",
      "/home/common/envs/conda/envs/domino/lib/python3.8/site-packages/sklearn/metrics/_classification.py:1248: UndefinedMetricWarning: Precision is ill-defined and being set to 0.0 due to no predicted samples. Use `zero_division` parameter to control this behavior.\n",
      "  _warn_prf(average, modifier, msg_start, len(result))\n"
     ]
    },
    {
     "output_type": "execute_result",
     "data": {
      "text/html": [
       "<div>\n",
       "<style scoped>\n",
       "    .dataframe tbody tr th:only-of-type {\n",
       "        vertical-align: middle;\n",
       "    }\n",
       "\n",
       "    .dataframe tbody tr th {\n",
       "        vertical-align: top;\n",
       "    }\n",
       "\n",
       "    .dataframe thead th {\n",
       "        text-align: right;\n",
       "    }\n",
       "</style>\n",
       "<table border=\"1\" class=\"dataframe\">\n",
       "  <thead>\n",
       "    <tr style=\"text-align: right;\">\n",
       "      <th></th>\n",
       "      <th>pred_slice_idx</th>\n",
       "      <th>slice_idx</th>\n",
       "      <th>auroc</th>\n",
       "      <th>precision_at_10</th>\n",
       "      <th>precision_at_25</th>\n",
       "      <th>precision_at_100</th>\n",
       "      <th>recall_at_50</th>\n",
       "      <th>recall_at_100</th>\n",
       "      <th>recall_at_200</th>\n",
       "      <th>recall</th>\n",
       "      <th>precision</th>\n",
       "    </tr>\n",
       "  </thead>\n",
       "  <tbody>\n",
       "    <tr>\n",
       "      <th>3</th>\n",
       "      <td>3</td>\n",
       "      <td>0</td>\n",
       "      <td>0.853549</td>\n",
       "      <td>0.9</td>\n",
       "      <td>0.80</td>\n",
       "      <td>0.72</td>\n",
       "      <td>0.074899</td>\n",
       "      <td>0.145749</td>\n",
       "      <td>0.263158</td>\n",
       "      <td>0.451417</td>\n",
       "      <td>0.212179</td>\n",
       "    </tr>\n",
       "    <tr>\n",
       "      <th>4</th>\n",
       "      <td>4</td>\n",
       "      <td>0</td>\n",
       "      <td>0.796897</td>\n",
       "      <td>0.2</td>\n",
       "      <td>0.44</td>\n",
       "      <td>0.45</td>\n",
       "      <td>0.046559</td>\n",
       "      <td>0.091093</td>\n",
       "      <td>0.147773</td>\n",
       "      <td>0.082996</td>\n",
       "      <td>0.175966</td>\n",
       "    </tr>\n",
       "    <tr>\n",
       "      <th>2</th>\n",
       "      <td>2</td>\n",
       "      <td>0</td>\n",
       "      <td>0.768699</td>\n",
       "      <td>0.2</td>\n",
       "      <td>0.20</td>\n",
       "      <td>0.19</td>\n",
       "      <td>0.018219</td>\n",
       "      <td>0.038462</td>\n",
       "      <td>0.076923</td>\n",
       "      <td>0.465587</td>\n",
       "      <td>0.057876</td>\n",
       "    </tr>\n",
       "    <tr>\n",
       "      <th>0</th>\n",
       "      <td>0</td>\n",
       "      <td>0</td>\n",
       "      <td>0.500000</td>\n",
       "      <td>0.1</td>\n",
       "      <td>0.04</td>\n",
       "      <td>0.09</td>\n",
       "      <td>0.000000</td>\n",
       "      <td>0.000000</td>\n",
       "      <td>0.000000</td>\n",
       "      <td>0.000000</td>\n",
       "      <td>0.000000</td>\n",
       "    </tr>\n",
       "    <tr>\n",
       "      <th>1</th>\n",
       "      <td>1</td>\n",
       "      <td>0</td>\n",
       "      <td>0.411679</td>\n",
       "      <td>0.0</td>\n",
       "      <td>0.00</td>\n",
       "      <td>0.00</td>\n",
       "      <td>0.000000</td>\n",
       "      <td>0.000000</td>\n",
       "      <td>0.000000</td>\n",
       "      <td>0.000000</td>\n",
       "      <td>0.000000</td>\n",
       "    </tr>\n",
       "  </tbody>\n",
       "</table>\n",
       "</div>"
      ],
      "text/plain": [
       "   pred_slice_idx  slice_idx     auroc  ...  recall_at_200    recall  precision\n",
       "3               3          0  0.853549  ...       0.263158  0.451417   0.212179\n",
       "4               4          0  0.796897  ...       0.147773  0.082996   0.175966\n",
       "2               2          0  0.768699  ...       0.076923  0.465587   0.057876\n",
       "0               0          0  0.500000  ...       0.000000  0.000000   0.000000\n",
       "1               1          0  0.411679  ...       0.000000  0.000000   0.000000\n",
       "\n",
       "[5 rows x 11 columns]"
      ]
     },
     "metadata": {},
     "execution_count": 27
    }
   ],
   "metadata": {}
  },
  {
   "cell_type": "code",
   "execution_count": 55,
   "source": [
    "dp"
   ],
   "outputs": [
    {
     "output_type": "execute_result",
     "data": {
      "text/html": [
       "<table border=\"1\" class=\"dataframe\">\n",
       "  <thead>\n",
       "    <tr style=\"text-align: right;\">\n",
       "      <th></th>\n",
       "      <th>image_id (PandasSeriesColumn)</th>\n",
       "      <th>identity (PandasSeriesColumn)</th>\n",
       "      <th>file (PandasSeriesColumn)</th>\n",
       "      <th>5_o_clock_shadow (PandasSeriesColumn)</th>\n",
       "      <th>arched_eyebrows (PandasSeriesColumn)</th>\n",
       "      <th>attractive (PandasSeriesColumn)</th>\n",
       "      <th>bags_under_eyes (PandasSeriesColumn)</th>\n",
       "      <th>bald (PandasSeriesColumn)</th>\n",
       "      <th>bangs (PandasSeriesColumn)</th>\n",
       "      <th>big_lips (PandasSeriesColumn)</th>\n",
       "      <th>big_nose (PandasSeriesColumn)</th>\n",
       "      <th>black_hair (PandasSeriesColumn)</th>\n",
       "      <th>blond_hair (PandasSeriesColumn)</th>\n",
       "      <th>blurry (PandasSeriesColumn)</th>\n",
       "      <th>brown_hair (PandasSeriesColumn)</th>\n",
       "      <th>bushy_eyebrows (PandasSeriesColumn)</th>\n",
       "      <th>chubby (PandasSeriesColumn)</th>\n",
       "      <th>double_chin (PandasSeriesColumn)</th>\n",
       "      <th>eyeglasses (PandasSeriesColumn)</th>\n",
       "      <th>goatee (PandasSeriesColumn)</th>\n",
       "      <th>gray_hair (PandasSeriesColumn)</th>\n",
       "      <th>heavy_makeup (PandasSeriesColumn)</th>\n",
       "      <th>high_cheekbones (PandasSeriesColumn)</th>\n",
       "      <th>male (PandasSeriesColumn)</th>\n",
       "      <th>mouth_slightly_open (PandasSeriesColumn)</th>\n",
       "      <th>mustache (PandasSeriesColumn)</th>\n",
       "      <th>narrow_eyes (PandasSeriesColumn)</th>\n",
       "      <th>no_beard (PandasSeriesColumn)</th>\n",
       "      <th>oval_face (PandasSeriesColumn)</th>\n",
       "      <th>pale_skin (PandasSeriesColumn)</th>\n",
       "      <th>pointy_nose (PandasSeriesColumn)</th>\n",
       "      <th>receding_hairline (PandasSeriesColumn)</th>\n",
       "      <th>rosy_cheeks (PandasSeriesColumn)</th>\n",
       "      <th>sideburns (PandasSeriesColumn)</th>\n",
       "      <th>smiling (PandasSeriesColumn)</th>\n",
       "      <th>straight_hair (PandasSeriesColumn)</th>\n",
       "      <th>wavy_hair (PandasSeriesColumn)</th>\n",
       "      <th>wearing_earrings (PandasSeriesColumn)</th>\n",
       "      <th>wearing_hat (PandasSeriesColumn)</th>\n",
       "      <th>wearing_lipstick (PandasSeriesColumn)</th>\n",
       "      <th>wearing_necklace (PandasSeriesColumn)</th>\n",
       "      <th>wearing_necktie (PandasSeriesColumn)</th>\n",
       "      <th>young (PandasSeriesColumn)</th>\n",
       "      <th>img_path (PandasSeriesColumn)</th>\n",
       "      <th>index (PandasSeriesColumn)</th>\n",
       "      <th>image (ImageColumn)</th>\n",
       "      <th>slices (NumpyArrayColumn)</th>\n",
       "      <th>target (NumpyArrayColumn)</th>\n",
       "      <th>correlate (NumpyArrayColumn)</th>\n",
       "      <th>input (ImageColumn)</th>\n",
       "      <th>id (PandasSeriesColumn)</th>\n",
       "      <th>split (PandasSeriesColumn)</th>\n",
       "      <th>probs (TensorColumn)</th>\n",
       "      <th>emb (NumpyArrayColumn)</th>\n",
       "      <th>pred_slices (NumpyArrayColumn)</th>\n",
       "    </tr>\n",
       "  </thead>\n",
       "  <tbody>\n",
       "    <tr>\n",
       "      <th>0</th>\n",
       "      <td>024969.jpg</td>\n",
       "      <td>7259.0</td>\n",
       "      <td>024969.jpg</td>\n",
       "      <td>0.0</td>\n",
       "      <td>0.0</td>\n",
       "      <td>0.0</td>\n",
       "      <td>0.0</td>\n",
       "      <td>0.0</td>\n",
       "      <td>0.0</td>\n",
       "      <td>0.0</td>\n",
       "      <td>1.0</td>\n",
       "      <td>0.0</td>\n",
       "      <td>0.0</td>\n",
       "      <td>0.0</td>\n",
       "      <td>0.0</td>\n",
       "      <td>0.0</td>\n",
       "      <td>0.0</td>\n",
       "      <td>0.0</td>\n",
       "      <td>0.0</td>\n",
       "      <td>0.0</td>\n",
       "      <td>0.0</td>\n",
       "      <td>0.0</td>\n",
       "      <td>0.0</td>\n",
       "      <td>1.0</td>\n",
       "      <td>0.0</td>\n",
       "      <td>1.0</td>\n",
       "      <td>0.0</td>\n",
       "      <td>0.0</td>\n",
       "      <td>0.0</td>\n",
       "      <td>0.0</td>\n",
       "      <td>0.0</td>\n",
       "      <td>0.0</td>\n",
       "      <td>0.0</td>\n",
       "      <td>0.0</td>\n",
       "      <td>0.0</td>\n",
       "      <td>0.0</td>\n",
       "      <td>0.0</td>\n",
       "      <td>0.0</td>\n",
       "      <td>0.0</td>\n",
       "      <td>0.0</td>\n",
       "      <td>0.0</td>\n",
       "      <td>1.0</td>\n",
       "      <td>1.0</td>\n",
       "      <td>/home/common/datasets/celeba/img_align_celeba/024969.jpg</td>\n",
       "      <td>2107</td>\n",
       "      <td><img src=\"data:image/jpeg;base64,/9j/4AAQSkZJRgABAQAAAQABAAD/2wBDAAgGBgcGBQgHBwcJCQgKDBQNDAsLDBkSEw8UHRofHh0aHBwgJC4nICIsIxwcKDcpLDAxNDQ0Hyc5PTgyPC4zNDL/2wBDAQkJCQwLDBgNDRgyIRwhMjIyMjIyMjIyMjIyMjIyMjIyMjIyMjIyMjIyMjIyMjIyMjIyMjIyMjIyMjIyMjIyMjL/wAARCACAAGkDASIAAhEBAxEB/8QAHwAAAQUBAQEBAQEAAAAAAAAAAAECAwQFBgcICQoL/8QAtRAAAgEDAwIEAwUFBAQAAAF9AQIDAAQRBRIhMUEGE1FhByJxFDKBkaEII0KxwRVS0fAkM2JyggkKFhcYGRolJicoKSo0NTY3ODk6Q0RFRkdISUpTVFVWV1hZWmNkZWZnaGlqc3R1dnd4eXqDhIWGh4iJipKTlJWWl5iZmqKjpKWmp6ipqrKztLW2t7i5usLDxMXGx8jJytLT1NXW19jZ2uHi4+Tl5ufo6erx8vP09fb3+Pn6/8QAHwEAAwEBAQEBAQEBAQAAAAAAAAECAwQFBgcICQoL/8QAtREAAgECBAQDBAcFBAQAAQJ3AAECAxEEBSExBhJBUQdhcRMiMoEIFEKRobHBCSMzUvAVYnLRChYkNOEl8RcYGRomJygpKjU2Nzg5OkNERUZHSElKU1RVVldYWVpjZGVmZ2hpanN0dXZ3eHl6goOEhYaHiImKkpOUlZaXmJmaoqOkpaanqKmqsrO0tba3uLm6wsPExcbHyMnK0tPU1dbX2Nna4uPk5ebn6Onq8vP09fb3+Pn6/9oADAMBAAIRAxEAPwDZvm8jQZSOrED+tN0mH/ibQR9obUD8Tgf41U1PUbK7tI7S3u4pWVwZRG2doPHJ/OtbQkMmqXkpHG5UB+mT/Wh/EedDWs/I7O1XAH0qfvUcI+Qmnk4B+lSegtjKvGzcD2ryH4mSG51jT7NeScnHuWAr1m4bM7n0FeRa0P7S+KVlbdVSSNSPp8xpks7LxNiCwsrVeAuBj2Ark84SRvSL9Sc10Xi6bN8ij+CMn8TXOyD91KPWQJ+VZVHqejgY6tkAH+kwL2XJ/IVRjO+Zm9WJq7uxNK/9yI/maq2S7pkHqRUs9FhqpzcIg7cf0/pWDeNumNbF8+6+Y+nNYU5zIauJxYp+4c9qLb9RC/3RSbajlbzNRlPvipKtnnHd6Es1rppnWJwszYLgcEdMV6Z4K1WXUTPA0QSO1KovHLEjkn9K2bG00nU/DFulpEh094QYx6cfzBql4VsFsZbsLyDKOSME4GOap73PMp0JwxHO3ozsk4Wh2+Q4py/dA9qjmIWPFI9Exbh9ruO5FeVeHVN98VbmZhxE0rc+w216dqc8dskk0rhUUdWNeS+H9WGgave6i0S3VxOGCorYCZbPJ/wpXSFZtnTeIpPN1ec/wqVXP41jOT5UWR95meiLWZL68lkmiEcjsGxHklT27VFcXsMMpWQOrKu0Buc571lJ3Z6WFnGCtIikbFvdN6kIKSwX95n0B/lTWKtpyMDnzZs59qltOBM44UL/APX/AKVLO1u5lXDbp5m+v88VjTt99vqa1JnIhdiOp6/rWJO6tEy7sEjFaI4MW9kYEPzSyP6k1JmmqnkAhjk/Sm+YPWrOI9b+HHiKexuZ9Mlk/wBBl+Zcn/Vt6j2PevVtLCNLK8fIZ85HevG/A9oJv7Rl8sF4kQq/93JOa9i8NQ+VpsIxg45pvc5YuXtGnsdAcgDjIrK13V7XRdNlvbyQRxIPxY9gPetXBORzXinj7UJfEvi/+y4JWFpZnYxHQv3P9KmTsjqiruxRudY1bxzqjw28JS1U8KCQqj3PrXXaZ4FtYYgblt7Y+6owK0PDukwafYpHBGEUD06+/wBa6KP0rmcrnbCCSMy00Kwsz+6t0HuRmq+reHdP1OJkmtl3H+JRgj8a3yBmo2A9KV2XZHlF54XutLYQpL5tuGzHu4P0qsFMWl3JZcEHbgj0H/169O1SzS5tmRlzmvONe8xLeWN8nawXJ7/X8qtO5cKnK+VnK6hIUsW5GcH+grnGc1qa9P5NqMckkAZ/Ouba8c9lraKObFay9CxIATk1FtFQG5kPp+VN89/8iqscx6/8PtZttPXU7O5jY/aIgysBkAjIwfzFexaNHss4h/sivmrw9eTx+K7IRyFklkETKOmDwRX09pybYEHoKtmEb3ZPeTC1sricsFEcbOSe2ATXz54Mka+1B53JZnkLEnqcnOTXvHiYE+FNX2jLfY5cD/gBrwv4cR5t5Dn5gwrCpsddFXkeu2uFjUDoBVyP73XFc2+oTs32W1A3bcvI5wFHpWdc3eqLOBZ61Yu3Ty924k+hx0rnOs7o9eD7ZprhFHWuYspNWuNFuWkkVLtZOCAdox296wQLtbw/2n4gRAT90khfwNNMb0O/cCRe1ebeNIDb3I+bCyKVIHfHI/Wuu07zbVl2XX2m2c8HOcfjXKfEg7LSCTuJODVR3MpvQ8q1/LzIgzxmscWzE9K29QPmXOR2X0qoNw7fpW6vY1lGm3eTKi2RPUU/7BVnfIOhP5UebJ7/AKUXY0sOjpPBlgjeKtOAUcS7sfQZr6XskxGK8B+HUPneLYTjOyNm/p/WvoK1GIxWjPKic/461lNH0QK4wt4Wtt+3IUspxn615P4EjNqbiF8DbJge9ex+LrSK80KZZY1cJhwCM4I714tod3LHezMxBVmLZHGCGIx+lc9S92dlFKyZ6Lc+Hlv4wrSkQkhmRSRv9ifSmweFbDTreV4bYIGHzfMTxnPGelX9JvRIi5POB1q3rF1Bb2LPLKFB7k8CsYvQ6HHUr2KotoygAbmJI+tZ994XtdUwzwgoCThXweev4Vc0i9sJ7Del1Gwx8xz3q1Yaha3DFIplcclWU8cdRTWgSV9CtZ6HBZymSHMe4DcgPynHt61znjOxTUprO0ZSyiXeyr1IA6fjXbySgDJ6VyN/M0mpXd0pxHaW8j7v9ojAFNbkNHJW/hzTbuJblrbb5nzbA3AB6D8sVYXw3pij/j0U/WtizjUWcQ4BVApHoRUjLxXQnock1qzIGi6fGhK2UX4rUf8AZ9p/z4w/98itll/dtxVXFFyDf0jw7oGg6m13Al5ZyMu0xz/Mo57Guyi1Oz2ArcIw9VOamdVZCGAI9CM1yfiDS7B0Z/IEbj+KI7T+lJc/qP3DT1jV7b7PInmq6MCCAa81m0pNPvJI1Ksko3ow7g//AF6ypnl+1zQ2mouzRH5klG4D8asWDXcpn+0JGGRMqyHrj2omrq5VGdnynY6FvKpnOStWtel01rCS31H5o3G0qOvXt6GqXhq6jmiXJ+6TUmo6ILi+eaO5CyMd2XXcF+grmSszu5tDB07w1p8Crf211d/YOWa17EY9RzXTaTqGm3SJb2iLCyHcseAMj1HrWcdGulbYNZdAeNoIAP4YqxD4d8mVJ2vN7gj5tgB/SqYrW1N+4fEJb2riNcvobfw5dRCdftV3OqBAeSAec+nGfzrstSmSKxkbIwFrxS7nWbUxPI+Fd2bJ7elO2hdOPPI2bS5nG0xSuCx6ZzzXZSAqq7sbsDP1rkNF2z3sIjw6RnccHPSurkl3HNZ4dS1bHj3G6URHOVaq1Ss42nNZnmyf3DXWeWenz6sketQacsZd5QSWB+7gE/5+tcPq+qSz+JL/APf4traIps3cFvp+BpH8V2MGu3Gqrf2bQ+YIcmQMQncgdew5rzzXfFFk8okst8twzyNI7DC4bgY/Dms05SZrKMYorrqBtB9qZlBuZmZ2YZwg9PxzWj4L1+KfVzaSl2c7mLOeCCeg/CuEluJJVAdiQvAHpXVfDbSxq3iC5t/M8ud7ctC3oykGtZR90zptKaZ6DpFsbeS+jjfm3kOMHqvUfoa6S1VLyKOTd29a4fUotX0PVZL0RYQqI7qM/wAJHAP0I70aX4mk02d45s+QTlc/w+1ctmdvOkd8dOiJ3Evn1zUwiCLtzkCsFPGlgIQ7Tr7fNWfe+NVki22sbSE9WA4FNIJTRd8W332fQ5UVuZPkXn1rhfDVnFf6rKs8ayJFD91hnkmrWvX1xcwxpMNpyCq+gxn+tVvDV0to17KZArswUE9wBWkVoXL3KLfc7O2sLSyDfZ4I4t3XaOtSMBwKzP7U3fMXO0jgge3Srduzyxh3IIb7vGKu1jz22xt4fLt3b0UmuM/4Sa8/5+Hrs9QU/ZX9NprivJT/AJ5/pTEecwuxYkknAqfcTknmq8eNvB571MDkcmtSWKxIrrPhzqH9neN9InYgK03lN9G+X+tcg8nGB+tWLGd4mSVCVeNgyn0IORSYI+w77R7PU1CToBJghZAMnHofUe1eaeIfh1c2MjS2DbYD/AOVH0z0+n5V6RpF9/amj6fqCcrPAknHuAa2PlkjMbqGUjBBGc1lKF9jaM7bnz3B4SLTD7bcEDuETFdPZ6PAfLt7S3GOFBIySa2vEF94esdQuUOpwhrc/voyCWQ+nAre8JT6Lqemi/0q5W4z8rNjBjPdSvY1koybszSU4WujxD4jagLLx5Npsm0QwQwqrAf7Ayat+GtKjuNGW4kiDGaRmB3dRnH9K5P4qXTXXxF1eYggRzCID2VQBWh4O8bRWemjStTB8lSTb3A6xZ6qfVf5VtJcuqRnKtJw5GdxHpSoIwAwUNvJyK0CmBwDgcVmwXPnyR7f9WfusjZBFahLE4zTMitefPbqmOGcA1P/AGPp/wDz7L+dMmILQr1y9WN3+1SGf//Z\"></td>\n",
       "      <td>np.ndarray(shape=(2,))</td>\n",
       "      <td>0.0</td>\n",
       "      <td>0.0</td>\n",
       "      <td><img src=\"data:image/jpeg;base64,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\"></td>\n",
       "      <td>024969.jpg</td>\n",
       "      <td>test</td>\n",
       "      <td>torch.Tensor(shape=torch.Size([2]))</td>\n",
       "      <td>np.ndarray(shape=(512,))</td>\n",
       "      <td>np.ndarray(shape=(5,))</td>\n",
       "    </tr>\n",
       "    <tr>\n",
       "      <th>1</th>\n",
       "      <td>002512.jpg</td>\n",
       "      <td>7259.0</td>\n",
       "      <td>002512.jpg</td>\n",
       "      <td>0.0</td>\n",
       "      <td>0.0</td>\n",
       "      <td>0.0</td>\n",
       "      <td>0.0</td>\n",
       "      <td>0.0</td>\n",
       "      <td>0.0</td>\n",
       "      <td>0.0</td>\n",
       "      <td>0.0</td>\n",
       "      <td>0.0</td>\n",
       "      <td>0.0</td>\n",
       "      <td>0.0</td>\n",
       "      <td>0.0</td>\n",
       "      <td>0.0</td>\n",
       "      <td>0.0</td>\n",
       "      <td>0.0</td>\n",
       "      <td>0.0</td>\n",
       "      <td>0.0</td>\n",
       "      <td>0.0</td>\n",
       "      <td>0.0</td>\n",
       "      <td>0.0</td>\n",
       "      <td>1.0</td>\n",
       "      <td>1.0</td>\n",
       "      <td>0.0</td>\n",
       "      <td>0.0</td>\n",
       "      <td>1.0</td>\n",
       "      <td>0.0</td>\n",
       "      <td>0.0</td>\n",
       "      <td>0.0</td>\n",
       "      <td>0.0</td>\n",
       "      <td>0.0</td>\n",
       "      <td>0.0</td>\n",
       "      <td>1.0</td>\n",
       "      <td>0.0</td>\n",
       "      <td>0.0</td>\n",
       "      <td>0.0</td>\n",
       "      <td>0.0</td>\n",
       "      <td>0.0</td>\n",
       "      <td>0.0</td>\n",
       "      <td>0.0</td>\n",
       "      <td>1.0</td>\n",
       "      <td>/home/common/datasets/celeba/img_align_celeba/002512.jpg</td>\n",
       "      <td>2107</td>\n",
       "      <td><img src=\"data:image/jpeg;base64,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\"></td>\n",
       "      <td>np.ndarray(shape=(2,))</td>\n",
       "      <td>0.0</td>\n",
       "      <td>0.0</td>\n",
       "      <td><img src=\"data:image/jpeg;base64,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\"></td>\n",
       "      <td>002512.jpg</td>\n",
       "      <td>test</td>\n",
       "      <td>torch.Tensor(shape=torch.Size([2]))</td>\n",
       "      <td>np.ndarray(shape=(512,))</td>\n",
       "      <td>np.ndarray(shape=(5,))</td>\n",
       "    </tr>\n",
       "    <tr>\n",
       "      <th>2</th>\n",
       "      <td>151298.jpg</td>\n",
       "      <td>7259.0</td>\n",
       "      <td>151298.jpg</td>\n",
       "      <td>1.0</td>\n",
       "      <td>0.0</td>\n",
       "      <td>0.0</td>\n",
       "      <td>1.0</td>\n",
       "      <td>0.0</td>\n",
       "      <td>0.0</td>\n",
       "      <td>0.0</td>\n",
       "      <td>1.0</td>\n",
       "      <td>0.0</td>\n",
       "      <td>0.0</td>\n",
       "      <td>0.0</td>\n",
       "      <td>0.0</td>\n",
       "      <td>0.0</td>\n",
       "      <td>0.0</td>\n",
       "      <td>1.0</td>\n",
       "      <td>0.0</td>\n",
       "      <td>0.0</td>\n",
       "      <td>0.0</td>\n",
       "      <td>0.0</td>\n",
       "      <td>1.0</td>\n",
       "      <td>1.0</td>\n",
       "      <td>0.0</td>\n",
       "      <td>0.0</td>\n",
       "      <td>0.0</td>\n",
       "      <td>1.0</td>\n",
       "      <td>1.0</td>\n",
       "      <td>0.0</td>\n",
       "      <td>0.0</td>\n",
       "      <td>0.0</td>\n",
       "      <td>0.0</td>\n",
       "      <td>0.0</td>\n",
       "      <td>1.0</td>\n",
       "      <td>1.0</td>\n",
       "      <td>0.0</td>\n",
       "      <td>0.0</td>\n",
       "      <td>0.0</td>\n",
       "      <td>0.0</td>\n",
       "      <td>0.0</td>\n",
       "      <td>0.0</td>\n",
       "      <td>1.0</td>\n",
       "      <td>/home/common/datasets/celeba/img_align_celeba/151298.jpg</td>\n",
       "      <td>2107</td>\n",
       "      <td><img src=\"data:image/jpeg;base64,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\"></td>\n",
       "      <td>np.ndarray(shape=(2,))</td>\n",
       "      <td>0.0</td>\n",
       "      <td>0.0</td>\n",
       "      <td><img src=\"data:image/jpeg;base64,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\"></td>\n",
       "      <td>151298.jpg</td>\n",
       "      <td>test</td>\n",
       "      <td>torch.Tensor(shape=torch.Size([2]))</td>\n",
       "      <td>np.ndarray(shape=(512,))</td>\n",
       "      <td>np.ndarray(shape=(5,))</td>\n",
       "    </tr>\n",
       "    <tr>\n",
       "      <th>3</th>\n",
       "      <td>066180.jpg</td>\n",
       "      <td>8247.0</td>\n",
       "      <td>066180.jpg</td>\n",
       "      <td>0.0</td>\n",
       "      <td>0.0</td>\n",
       "      <td>0.0</td>\n",
       "      <td>0.0</td>\n",
       "      <td>0.0</td>\n",
       "      <td>0.0</td>\n",
       "      <td>1.0</td>\n",
       "      <td>1.0</td>\n",
       "      <td>0.0</td>\n",
       "      <td>0.0</td>\n",
       "      <td>0.0</td>\n",
       "      <td>0.0</td>\n",
       "      <td>0.0</td>\n",
       "      <td>0.0</td>\n",
       "      <td>0.0</td>\n",
       "      <td>1.0</td>\n",
       "      <td>0.0</td>\n",
       "      <td>0.0</td>\n",
       "      <td>0.0</td>\n",
       "      <td>0.0</td>\n",
       "      <td>1.0</td>\n",
       "      <td>1.0</td>\n",
       "      <td>0.0</td>\n",
       "      <td>1.0</td>\n",
       "      <td>1.0</td>\n",
       "      <td>0.0</td>\n",
       "      <td>0.0</td>\n",
       "      <td>0.0</td>\n",
       "      <td>0.0</td>\n",
       "      <td>0.0</td>\n",
       "      <td>0.0</td>\n",
       "      <td>0.0</td>\n",
       "      <td>0.0</td>\n",
       "      <td>1.0</td>\n",
       "      <td>0.0</td>\n",
       "      <td>0.0</td>\n",
       "      <td>0.0</td>\n",
       "      <td>0.0</td>\n",
       "      <td>0.0</td>\n",
       "      <td>0.0</td>\n",
       "      <td>/home/common/datasets/celeba/img_align_celeba/066180.jpg</td>\n",
       "      <td>1079</td>\n",
       "      <td><img src=\"data:image/jpeg;base64,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\"></td>\n",
       "      <td>np.ndarray(shape=(2,))</td>\n",
       "      <td>0.0</td>\n",
       "      <td>0.0</td>\n",
       "      <td><img src=\"data:image/jpeg;base64,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\"></td>\n",
       "      <td>066180.jpg</td>\n",
       "      <td>test</td>\n",
       "      <td>torch.Tensor(shape=torch.Size([2]))</td>\n",
       "      <td>np.ndarray(shape=(512,))</td>\n",
       "      <td>np.ndarray(shape=(5,))</td>\n",
       "    </tr>\n",
       "    <tr>\n",
       "      <th>4</th>\n",
       "      <td>112378.jpg</td>\n",
       "      <td>8247.0</td>\n",
       "      <td>112378.jpg</td>\n",
       "      <td>1.0</td>\n",
       "      <td>1.0</td>\n",
       "      <td>0.0</td>\n",
       "      <td>1.0</td>\n",
       "      <td>0.0</td>\n",
       "      <td>1.0</td>\n",
       "      <td>1.0</td>\n",
       "      <td>0.0</td>\n",
       "      <td>1.0</td>\n",
       "      <td>0.0</td>\n",
       "      <td>0.0</td>\n",
       "      <td>0.0</td>\n",
       "      <td>1.0</td>\n",
       "      <td>0.0</td>\n",
       "      <td>0.0</td>\n",
       "      <td>0.0</td>\n",
       "      <td>0.0</td>\n",
       "      <td>0.0</td>\n",
       "      <td>0.0</td>\n",
       "      <td>0.0</td>\n",
       "      <td>1.0</td>\n",
       "      <td>0.0</td>\n",
       "      <td>0.0</td>\n",
       "      <td>0.0</td>\n",
       "      <td>1.0</td>\n",
       "      <td>0.0</td>\n",
       "      <td>0.0</td>\n",
       "      <td>0.0</td>\n",
       "      <td>0.0</td>\n",
       "      <td>0.0</td>\n",
       "      <td>0.0</td>\n",
       "      <td>0.0</td>\n",
       "      <td>0.0</td>\n",
       "      <td>1.0</td>\n",
       "      <td>0.0</td>\n",
       "      <td>0.0</td>\n",
       "      <td>0.0</td>\n",
       "      <td>0.0</td>\n",
       "      <td>0.0</td>\n",
       "      <td>0.0</td>\n",
       "      <td>/home/common/datasets/celeba/img_align_celeba/112378.jpg</td>\n",
       "      <td>1079</td>\n",
       "      <td><img src=\"data:image/jpeg;base64,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\"></td>\n",
       "      <td>np.ndarray(shape=(2,))</td>\n",
       "      <td>0.0</td>\n",
       "      <td>0.0</td>\n",
       "      <td><img src=\"data:image/jpeg;base64,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\"></td>\n",
       "      <td>112378.jpg</td>\n",
       "      <td>test</td>\n",
       "      <td>torch.Tensor(shape=torch.Size([2]))</td>\n",
       "      <td>np.ndarray(shape=(512,))</td>\n",
       "      <td>np.ndarray(shape=(5,))</td>\n",
       "    </tr>\n",
       "    <tr>\n",
       "      <th>...</th>\n",
       "      <td>...</td>\n",
       "      <td>...</td>\n",
       "      <td>...</td>\n",
       "      <td>...</td>\n",
       "      <td>...</td>\n",
       "      <td>...</td>\n",
       "      <td>...</td>\n",
       "      <td>...</td>\n",
       "      <td>...</td>\n",
       "      <td>...</td>\n",
       "      <td>...</td>\n",
       "      <td>...</td>\n",
       "      <td>...</td>\n",
       "      <td>...</td>\n",
       "      <td>...</td>\n",
       "      <td>...</td>\n",
       "      <td>...</td>\n",
       "      <td>...</td>\n",
       "      <td>...</td>\n",
       "      <td>...</td>\n",
       "      <td>...</td>\n",
       "      <td>...</td>\n",
       "      <td>...</td>\n",
       "      <td>...</td>\n",
       "      <td>...</td>\n",
       "      <td>...</td>\n",
       "      <td>...</td>\n",
       "      <td>...</td>\n",
       "      <td>...</td>\n",
       "      <td>...</td>\n",
       "      <td>...</td>\n",
       "      <td>...</td>\n",
       "      <td>...</td>\n",
       "      <td>...</td>\n",
       "      <td>...</td>\n",
       "      <td>...</td>\n",
       "      <td>...</td>\n",
       "      <td>...</td>\n",
       "      <td>...</td>\n",
       "      <td>...</td>\n",
       "      <td>...</td>\n",
       "      <td>...</td>\n",
       "      <td>...</td>\n",
       "      <td>...</td>\n",
       "      <td>...</td>\n",
       "      <td>...</td>\n",
       "      <td>...</td>\n",
       "      <td>...</td>\n",
       "      <td>...</td>\n",
       "      <td>...</td>\n",
       "      <td>...</td>\n",
       "      <td>...</td>\n",
       "      <td>...</td>\n",
       "      <td>...</td>\n",
       "      <td>...</td>\n",
       "    </tr>\n",
       "    <tr>\n",
       "      <th>6248</th>\n",
       "      <td>027091.jpg</td>\n",
       "      <td>9809.0</td>\n",
       "      <td>027091.jpg</td>\n",
       "      <td>0.0</td>\n",
       "      <td>0.0</td>\n",
       "      <td>0.0</td>\n",
       "      <td>0.0</td>\n",
       "      <td>0.0</td>\n",
       "      <td>0.0</td>\n",
       "      <td>0.0</td>\n",
       "      <td>1.0</td>\n",
       "      <td>0.0</td>\n",
       "      <td>0.0</td>\n",
       "      <td>0.0</td>\n",
       "      <td>0.0</td>\n",
       "      <td>0.0</td>\n",
       "      <td>0.0</td>\n",
       "      <td>0.0</td>\n",
       "      <td>0.0</td>\n",
       "      <td>0.0</td>\n",
       "      <td>0.0</td>\n",
       "      <td>0.0</td>\n",
       "      <td>0.0</td>\n",
       "      <td>1.0</td>\n",
       "      <td>0.0</td>\n",
       "      <td>0.0</td>\n",
       "      <td>0.0</td>\n",
       "      <td>1.0</td>\n",
       "      <td>1.0</td>\n",
       "      <td>0.0</td>\n",
       "      <td>0.0</td>\n",
       "      <td>0.0</td>\n",
       "      <td>0.0</td>\n",
       "      <td>0.0</td>\n",
       "      <td>0.0</td>\n",
       "      <td>0.0</td>\n",
       "      <td>0.0</td>\n",
       "      <td>0.0</td>\n",
       "      <td>0.0</td>\n",
       "      <td>0.0</td>\n",
       "      <td>0.0</td>\n",
       "      <td>0.0</td>\n",
       "      <td>1.0</td>\n",
       "      <td>/home/common/datasets/celeba/img_align_celeba/027091.jpg</td>\n",
       "      <td>6766</td>\n",
       "      <td><img src=\"data:image/jpeg;base64,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\"></td>\n",
       "      <td>np.ndarray(shape=(2,))</td>\n",
       "      <td>0.0</td>\n",
       "      <td>0.0</td>\n",
       "      <td><img src=\"data:image/jpeg;base64,/9j/4AAQSkZJRgABAQAAAQABAAD/2wBDAAgGBgcGBQgHBwcJCQgKDBQNDAsLDBkSEw8UHRofHh0aHBwgJC4nICIsIxwcKDcpLDAxNDQ0Hyc5PTgyPC4zNDL/2wBDAQkJCQwLDBgNDRgyIRwhMjIyMjIyMjIyMjIyMjIyMjIyMjIyMjIyMjIyMjIyMjIyMjIyMjIyMjIyMjIyMjIyMjL/wAARCACAAGkDASIAAhEBAxEB/8QAHwAAAQUBAQEBAQEAAAAAAAAAAAECAwQFBgcICQoL/8QAtRAAAgEDAwIEAwUFBAQAAAF9AQIDAAQRBRIhMUEGE1FhByJxFDKBkaEII0KxwRVS0fAkM2JyggkKFhcYGRolJicoKSo0NTY3ODk6Q0RFRkdISUpTVFVWV1hZWmNkZWZnaGlqc3R1dnd4eXqDhIWGh4iJipKTlJWWl5iZmqKjpKWmp6ipqrKztLW2t7i5usLDxMXGx8jJytLT1NXW19jZ2uHi4+Tl5ufo6erx8vP09fb3+Pn6/8QAHwEAAwEBAQEBAQEBAQAAAAAAAAECAwQFBgcICQoL/8QAtREAAgECBAQDBAcFBAQAAQJ3AAECAxEEBSExBhJBUQdhcRMiMoEIFEKRobHBCSMzUvAVYnLRChYkNOEl8RcYGRomJygpKjU2Nzg5OkNERUZHSElKU1RVVldYWVpjZGVmZ2hpanN0dXZ3eHl6goOEhYaHiImKkpOUlZaXmJmaoqOkpaanqKmqsrO0tba3uLm6wsPExcbHyMnK0tPU1dbX2Nna4uPk5ebn6Onq8vP09fb3+Pn6/9oADAMBAAIRAxEAPwDwCiiigAqa1GZ1qGrViMzZoA0gMzKPQV0NiuAKwIRuuK6SyX7tQXE0D1+grMvG5rSPRj7Vk3Z+c0QWoS2MW8PLfgKoN/q6t3bZJ9yaqv8Awj3q3uQizarmeMeldnpy4XNclYLuuh7V2dgv7vNEBFuQ9Kjp8nWmUwPI80UYpMUrDF4qe2d0bMf6iq9aljbgwq2OpJoA1NOs5JSHbGT6V0traugBPSse0nEKjIqyNadXChMjoKixaaNaSNlQ8ViXeQxzxXb6J4a1PW41kkjFrE3d/vH8K62z+FmknD3l1LO390MAP0oi+iQM+fbnlgKgbmRR719OD4Z+Eym19Nic46ktn+dZuofCDwpcqfs8c1o+ODFIT+hzTv1JseE6UuZyfeuzs1xEKs6v8NNR8N77q3kF7ZDlnRcMg9x/UVXtnHlAjmqi9BND3PJpmaRpOuVpvmL6GmI8nooxRSGH416fo/gG8udFs7gbh5sSyYx6jNeYqpdgqjJY4Ar7G0pba20y0tl27YoEjHHooH9KTbA8Ll8C6mpCpgknHNdLZeHtI8PRxyTtHJeYz5kg3c/7K9vrXf8Aiq7tNP0Wa4V44iCAXx0+nvXmVvJq2qS+Zp9pHDG//LxcklnHqBXdhZ0KUPa1nY56sak5clNG02ql/uSXDAHrjFRjUZgcneMc8k0i+FNTdd11rarjn5IhR/wjFwE/c6q5btviGDXTHN8Dfl/Qz+pYi1y3beIryAhkuJNoPIY5H5Gul0/xbFOuLlQP9tP6iuDutH1q0jZmtkuk7mA/Nj6dapJcnkRuyOOGjbgiujkweMXuNGblWov3j199UiWEmORZI3HBHIrznW9Kt7e8NzaRhIpT86Dop9vY1XstVkgUI2SjffTP6j3rXBW5tiyOJEYHGeoPvXh4zB1sJNSWsT0aFanXi09Gc9Lp3mplRiqf9kTf3q6eKSN4cnio/MT1FYuqkCgz57/GijiitbCLFhE01/BGvBaRQD+Nekf8Jn4j05PKS4SRRxl05/OuB0AAazbueiEt+hrsZts5zjj0NJoC7Z65qXiuVdOvPuecrsBzkDOf6V6ClheQ2wfGEXgAdq4nwn9n027nvWUNKq4jU+p6103/AAlRc7JDhT2rycwm5SUOx34SHuuR0lnCk0YE01XF09Mfu5V49TXNPcSCFJwGEZ5z61lHxZbw3Iie5WMA45NcUJva1zqdPrc9A+zyKhOMj2rmdc0q11FDvGy4H3ZUGGH19RV218SwxhEknwGHAYEZq26w3I8xCCDzV/WZQkpU20yPYpq01dHmbNNZXRs70bZP4HH3XHrWvpl39nuQckxnhlPpW1qGl2+p25tbgAEH5XHVT6isnTvDz2FwE1KcXKBiIo4chpPY19RhM9o1KDjit/zPHr5bOFVOgZN3fyWl7cW5yArnb7jqDVX+0JP71TeMgFu4bqCKSOPb5Tq3VWHY/ga577QP71eNVanJyp7HcoyirT3OCooor0rHEbHhxN99I/8AdjP6kV0+dre1c34ecRvK3QtgV2FrZNfEIoyTTtoFgsG8+6S2X70p2r7Gp7PwxqdzfiIrLtllUM7AgKM84zW5oXhprDWLa8mPyRkk5+ldwdZtLPUYMhSw5RT0z6152Nqcs0kduGptxN3UtDtptOitVwmxQq+nAxzXmOpeADBe+fDCJULAsrE9fUV6IPFOlTzC1aZFnH8IYEk1BBdsk0oc74tx2H2rklKO8ToUZL4ippelNKFe5ht9wABITJ+ma1bixgt4MRqF9qPPCr+74Bqtc3JZcsa56kopdy4pt3MkxMLoHtnrWZqGq6lZ63KtrEktvCoLkgZUkZyO/pWvcv5UBlPRQSTUYuNFi02bU5pQvyK7T7clQOw/OsYK7sbXtqcL49uN32T+F7lfPkjA6HAH9TXFfvPQ1oatrw17xBLc4KxL8kSseQo9fc9afhfavYp0XCKTPPqS5pNo8+ooz7UZr0TiL9i5iXPTJr1DwPIswDPivLIOEUV3ngy78uRUBxzTesbCjuexX9uh0S4eMfvFTcv4Vxl7ZLqVivmXa28xfdG7egFdnZyCe12NyGUg1wVzbxWt9OmoqZIo32IPMK7ffivNxdO8lI78NK6cUaOg6Jp9zKhvrsTzKc4EhXJH867WaOMII412hRjA9K8+tv7IkZVtYijYwd1wzE/4VuWsbwSI8d5NIvQxu24D6d68+o4xVkzs5WdCCUwDz6VHI2/5ieAaYl0owMj39aZNOirk4wK45O5oohc4ezlGM7hiuJ8WA2HgyZBx5kqIB6DOf6V1f2ozNtHTNc58RYgfCykDgTqf0NdOGV60URV92mzx/eySB1JBBq1/as1VOCKTivpLI8y7MrFJUm0djVixsZtQv7eyt13zXEixRr0yxOBQcw6LoB7V1HhPzJNQSKCN5JGPCopYn8BXoOifB7SNMVZfFOrRST4z9kt3OEPuw5P4YrsrfUvDXhaFk0uzdVA/5YIsQb6tyx/E1vChUn8MWzOVRIsaRpU0MCC/litGI4SRhv8Ay7fjXO+J4NMupC3m+YB+7cgYz6Gs++8f648zvbzra2+eIYYl6e5IJJ96w7qT7aVd2bBZZDg4JweR+Wa5MzoVMPCKlbU9fK6McQpyd7rY19M0fSrbHlxZJwQ+4k108aWsEYI2ggc571w0122lxli2YVPUDkD3p8Wsi7UMkpYH8K+bqqpe7O2MYvqdTdahCh+TH4VRM73J5OBWdAHncAHr1ret7NUTk1ii3aIQLsUetZvjkhvCUuR911JPp2rY2Fe3FSeVb3SmC6QPC+AVrbDy5aiZlVXNFo+c9+HIXpR53+cV9Fw/DjQdWe9toILrT7mNFkjuI5AyODkZxjseoNYX/CrdZ/6Ddt/4DCvovaO1zzo0oy0vseA5re8HLu8W6axJxHKJP++Rn+lYNdb8PoRL4hZyOIoWP54H9audRxi5LoZ4WmqtaNN7NnrE96W5iw4PXnkVnXrGW2YFtkhHGen0oniDtuUlXHRh2qqztMPJnISX+FuzV5csyxUt5s+1hlWEh8MEUrOUGJ4Gwsvf1+tQ/OkZVuXjbDZPX3/EVWuhPDPtKbiORt/oaPt4kIMm4MBtIYYJHvWEpTnq3c3jGnT0SsWpJlmhMb8qwxz6Vm2kRt5toPGaV5OSA2VJ6j1rW0zSJ9RiMtkwuXQZkiXh199vcfSpabjY8bF4dU588dma2mzfdHcV01v0BI61y1tbz20wWaJ0b0YYNdHbSEhVGc+lcLi1LY521a5cdc/X0qNYmMoCqSxPAUda1rDQ7+9YMsJSP+/JwP8A69X7m80rwsCVIu9RI4A6J/hXXRwspe9LRHO5ucvZ01dstyXMXhjQnluWBvZhhUzyPQfh1NcT/b11/ff86oalqVxqV09zdSFnP5L7Cs/zT/tf981vVxDvaGyPdwOWRpU71dZPc//Z\"></td>\n",
       "      <td>027091.jpg</td>\n",
       "      <td>test</td>\n",
       "      <td>torch.Tensor(shape=torch.Size([2]))</td>\n",
       "      <td>np.ndarray(shape=(512,))</td>\n",
       "      <td>np.ndarray(shape=(5,))</td>\n",
       "    </tr>\n",
       "    <tr>\n",
       "      <th>6249</th>\n",
       "      <td>191318.jpg</td>\n",
       "      <td>9510.0</td>\n",
       "      <td>191318.jpg</td>\n",
       "      <td>1.0</td>\n",
       "      <td>0.0</td>\n",
       "      <td>1.0</td>\n",
       "      <td>1.0</td>\n",
       "      <td>0.0</td>\n",
       "      <td>0.0</td>\n",
       "      <td>0.0</td>\n",
       "      <td>0.0</td>\n",
       "      <td>1.0</td>\n",
       "      <td>0.0</td>\n",
       "      <td>0.0</td>\n",
       "      <td>0.0</td>\n",
       "      <td>0.0</td>\n",
       "      <td>0.0</td>\n",
       "      <td>0.0</td>\n",
       "      <td>0.0</td>\n",
       "      <td>0.0</td>\n",
       "      <td>0.0</td>\n",
       "      <td>0.0</td>\n",
       "      <td>0.0</td>\n",
       "      <td>1.0</td>\n",
       "      <td>0.0</td>\n",
       "      <td>0.0</td>\n",
       "      <td>0.0</td>\n",
       "      <td>0.0</td>\n",
       "      <td>0.0</td>\n",
       "      <td>0.0</td>\n",
       "      <td>1.0</td>\n",
       "      <td>0.0</td>\n",
       "      <td>0.0</td>\n",
       "      <td>0.0</td>\n",
       "      <td>0.0</td>\n",
       "      <td>0.0</td>\n",
       "      <td>0.0</td>\n",
       "      <td>0.0</td>\n",
       "      <td>0.0</td>\n",
       "      <td>0.0</td>\n",
       "      <td>0.0</td>\n",
       "      <td>0.0</td>\n",
       "      <td>1.0</td>\n",
       "      <td>/home/common/datasets/celeba/img_align_celeba/191318.jpg</td>\n",
       "      <td>9800</td>\n",
       "      <td><img src=\"data:image/jpeg;base64,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\"></td>\n",
       "      <td>np.ndarray(shape=(2,))</td>\n",
       "      <td>0.0</td>\n",
       "      <td>0.0</td>\n",
       "      <td><img src=\"data:image/jpeg;base64,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\"></td>\n",
       "      <td>191318.jpg</td>\n",
       "      <td>test</td>\n",
       "      <td>torch.Tensor(shape=torch.Size([2]))</td>\n",
       "      <td>np.ndarray(shape=(512,))</td>\n",
       "      <td>np.ndarray(shape=(5,))</td>\n",
       "    </tr>\n",
       "    <tr>\n",
       "      <th>6250</th>\n",
       "      <td>096427.jpg</td>\n",
       "      <td>9839.0</td>\n",
       "      <td>096427.jpg</td>\n",
       "      <td>0.0</td>\n",
       "      <td>1.0</td>\n",
       "      <td>0.0</td>\n",
       "      <td>0.0</td>\n",
       "      <td>0.0</td>\n",
       "      <td>0.0</td>\n",
       "      <td>0.0</td>\n",
       "      <td>0.0</td>\n",
       "      <td>0.0</td>\n",
       "      <td>0.0</td>\n",
       "      <td>1.0</td>\n",
       "      <td>0.0</td>\n",
       "      <td>0.0</td>\n",
       "      <td>0.0</td>\n",
       "      <td>0.0</td>\n",
       "      <td>0.0</td>\n",
       "      <td>0.0</td>\n",
       "      <td>0.0</td>\n",
       "      <td>0.0</td>\n",
       "      <td>1.0</td>\n",
       "      <td>0.0</td>\n",
       "      <td>1.0</td>\n",
       "      <td>0.0</td>\n",
       "      <td>0.0</td>\n",
       "      <td>1.0</td>\n",
       "      <td>0.0</td>\n",
       "      <td>0.0</td>\n",
       "      <td>0.0</td>\n",
       "      <td>0.0</td>\n",
       "      <td>0.0</td>\n",
       "      <td>0.0</td>\n",
       "      <td>1.0</td>\n",
       "      <td>0.0</td>\n",
       "      <td>0.0</td>\n",
       "      <td>0.0</td>\n",
       "      <td>0.0</td>\n",
       "      <td>0.0</td>\n",
       "      <td>0.0</td>\n",
       "      <td>0.0</td>\n",
       "      <td>0.0</td>\n",
       "      <td>/home/common/datasets/celeba/img_align_celeba/096427.jpg</td>\n",
       "      <td>7880</td>\n",
       "      <td><img src=\"data:image/jpeg;base64,/9j/4AAQSkZJRgABAQAAAQABAAD/2wBDAAgGBgcGBQgHBwcJCQgKDBQNDAsLDBkSEw8UHRofHh0aHBwgJC4nICIsIxwcKDcpLDAxNDQ0Hyc5PTgyPC4zNDL/2wBDAQkJCQwLDBgNDRgyIRwhMjIyMjIyMjIyMjIyMjIyMjIyMjIyMjIyMjIyMjIyMjIyMjIyMjIyMjIyMjIyMjIyMjL/wAARCACAAGkDASIAAhEBAxEB/8QAHwAAAQUBAQEBAQEAAAAAAAAAAAECAwQFBgcICQoL/8QAtRAAAgEDAwIEAwUFBAQAAAF9AQIDAAQRBRIhMUEGE1FhByJxFDKBkaEII0KxwRVS0fAkM2JyggkKFhcYGRolJicoKSo0NTY3ODk6Q0RFRkdISUpTVFVWV1hZWmNkZWZnaGlqc3R1dnd4eXqDhIWGh4iJipKTlJWWl5iZmqKjpKWmp6ipqrKztLW2t7i5usLDxMXGx8jJytLT1NXW19jZ2uHi4+Tl5ufo6erx8vP09fb3+Pn6/8QAHwEAAwEBAQEBAQEBAQAAAAAAAAECAwQFBgcICQoL/8QAtREAAgECBAQDBAcFBAQAAQJ3AAECAxEEBSExBhJBUQdhcRMiMoEIFEKRobHBCSMzUvAVYnLRChYkNOEl8RcYGRomJygpKjU2Nzg5OkNERUZHSElKU1RVVldYWVpjZGVmZ2hpanN0dXZ3eHl6goOEhYaHiImKkpOUlZaXmJmaoqOkpaanqKmqsrO0tba3uLm6wsPExcbHyMnK0tPU1dbX2Nna4uPk5ebn6Onq8vP09fb3+Pn6/9oADAMBAAIRAxEAPwDTPWilPWkr6A8kO1JS9qSgQUUUUDYlFFFAlsIaQ9aU0h6ik9hnlPxPXGv2rf3rYf8AoRriK734pL/xNLBvWAj/AMergq8bE/xZHpU/hQUUUVgWfSR60lGQaMj1r6E8oKSmtIsYLMcAdTWZca7bxHCHcRxntQ9C4UpT2Rq0ViDXJCQfKGPrUEviGaKXH2dSvfnmo9pDubPC1Ox0NFZdprUVxjepTNaYYMAQcg1SaexjOlKG6FxmkxS0U2QeZfFRf9L01vWNx+orz2vSPiouRpjf9dB/KvONteNiv4rPTopygmhKKdijFc9zXkZ7FoN9qMtwRdBgo9a6mMhxvkOE9PWsDRZpru3WSVMFuQBUuv60NPtGson23Egwz/3Fx0Huf5V6bxKhotSKOGTfNIz9W1pru4e3toyIUPOOrGqSGZwuEDAdjxWLLrMdqPLgBdu5xU9pLeXbBijovauKvi29LnfTprojozvQrKYGUDquMqw+tWQLO6GVG07eMn9Kq2Vs4IDSuM9QOa1DpsQAYMc/SuFVTp9i7EUVna+UAjgSHnBoSaW0fLE7T29aJbFW4V8ECs3UFurSEOs5ePOGyvK100cU4uyZjUw/MrM6eC4WaMMBjNTVlaa2y1UsDg81Yk1K2hBLSDA6ivbpzbjdngVqaUnynFfFJf8ARdNf/po4/QV5rmvRviTfW97pNkYXDFZznH+7XmteZi9arOrDtxppMfkUZFMorm5TfnPobTIUs7F7hx9xePYAV5nczTarfyXErEb2JxXpetk2/hy7ZeNsDfnjFec6XGWCliOnQVFSV5M7IroW9P0u3Qhym9/UitxYUVQBxUMClWABxx0qdcecEB9ySa56mrO2kkkWreJiw+8fp0rUS2ZkBPp1Bwax59Q0+FTHuaSUDkqThayF1ueFyyXHmwqemelSoFSqq9jrzEyp/rDj6c1TuLZpInUqpUjoSc0lleTXtoJ0U+WBWdLqpkmyJGjiU8sO9VCOpMpqxXk1J4bCaINhk4rmbO4lur3Y8pw/U5rsHsrO4leQSgxyrkEnvXLX2g3NvMzW3zoDkbe1e5FSlTi0eBNpTkjK8V6Y9lAjB90TPxz3xXKV0Wt3Ny1kIJyflcHBrnq5atnLsVHYSilorOyGfRPiKIyeF7sIuSICa8w06SVlXau3NexXMe+2lhPRk2H8RXksJEUrR9Gjcg8dq5JP3j04Rub1pAyLnJYkck1bj0/7SxG/aCOtUYrvbGMdKntr/EwyeKyk9TtjDQbP4Yt0maSd2dSOFGQPr71BY+HLeO5dgWkRgdy46ntXX21zFMiiQior++htImW3j82baT04FHO9jN0kpXK9ii6fbCAHCEYxWDqejCaOaNJyPMOVBOABVC88WRxAbYZpJcckjCg1c0nxOuo3K29zEmxRkkL/AFqoprUVTllojNvNFvbDTIgkjNsyeD2NVdL16bT5GWcFx6GvSZo4WtYyoVkPGKy5fD2n3LFjEMmvcw654KUHY8HFJU6jUkeY+Jr1b/dKibRkVzFep+MPD9nY+GLqeJMOrJz/AMCFeW7TXPiU1P3gpSUl7olFLto21hdGlmfTjsHPHQyfyrzi9sPslzdvJH8j5dJB0OD0+tehLMq28krHhNzVw+oarp8nhRrt7pDNIWHk4555FcUk3senCSi9SpEA0YIwQRxUaod5HPrWfpt+GjAz2rXhkR5FJ60pHZCV9izDdSJ8oydoqyL6G1y88qr/AHiT19qdFFGs2ccEA1n6x4eS9kjuYJnjdT06j8qlWbsTJy3RfTVLW8idItOkuUwckRcYqol1p0QayNi1o7D5dyYzUdnp7JF+81+9t2Ufdj2gc9cU9bJry9iWXVZby3j+YLMBuB+o7VskrGTc76ovaPeyTP5LdF4Nbo4fgVn2VpHFJM6Y5xitIDJzXsYB+4eJmN+e7Of8dIW8H3/sFP8A48K8WNe3+Mhu8IakP+mWf1FeIVnjvjXoRgvhfqFFFFcR2H0XKm6C5tgeTGf5V4RcWE9pctHJu2hiB6V7msytcCT6qwrjvEmnrb3bF4s28hyHA+6a5YVLaHTOF2ji7GYwvtPArZiuijBhzVbVdIe1jS5i+aJu4qrBPlcd6d1I2g3HRnWw6iGiVs5K89a2La6ilG4Nw3XnpXAeewztJqSC7uLdsqxwe2anlZr7U9JTTbSVCXGT1psdjbW7M0eFI5rhk167jwFc49M1uaVeT3TB7rcsOOndqpJrcUqiOmtLWRlDdyM/UVdMeI91U/Dl8FP2OU5EbfIT1KnpW9eW6IQU+6/867sDWtOx5eMpc0WzkfFaF/Cupgf8+7GvDK968RLnw7qaEf8ALs/8jXgo6CunHbxfkceD0UkFFFFcB2ntdtfrc/vUYc/eXuDWrCovY/JnQSRt0yOlcdBaqrjyJ+oyOcMK3YNTu9Ls8SlGXPRhyK5KkNdDt5tCW+0mC1tGhbPlsPuntXn+qaY9lKJIVJiPf0rq77XpLzG85XsMUsUSS6ejkZ3Zzmp1gaQj7TQ4lGwuT1xSecwOAK3NW06OKLzEUAZ6CsaKPMoJHSumDUkY1IuDtcQzsl5bwcfMctXYw3iS6bmMjfGPmA9q42KHzfE1nEx4fqa6yyto49aWHH7uYMhFTU7GcG22yzYXpF0rgnPSu/huftGnAOfmHIrgzYpbQKysSXkx9Oa6eylbaFHTpRh9KhVXWDI9dXzdHvgerW7/APoJr58HSvofURvsLhfWFx+hr54HSvVxm0TysN8UgooorhOs/9k=\"></td>\n",
       "      <td>np.ndarray(shape=(2,))</td>\n",
       "      <td>0.0</td>\n",
       "      <td>0.0</td>\n",
       "      <td><img src=\"data:image/jpeg;base64,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\"></td>\n",
       "      <td>096427.jpg</td>\n",
       "      <td>test</td>\n",
       "      <td>torch.Tensor(shape=torch.Size([2]))</td>\n",
       "      <td>np.ndarray(shape=(512,))</td>\n",
       "      <td>np.ndarray(shape=(5,))</td>\n",
       "    </tr>\n",
       "    <tr>\n",
       "      <th>6251</th>\n",
       "      <td>132142.jpg</td>\n",
       "      <td>763.0</td>\n",
       "      <td>132142.jpg</td>\n",
       "      <td>0.0</td>\n",
       "      <td>0.0</td>\n",
       "      <td>1.0</td>\n",
       "      <td>0.0</td>\n",
       "      <td>0.0</td>\n",
       "      <td>0.0</td>\n",
       "      <td>0.0</td>\n",
       "      <td>0.0</td>\n",
       "      <td>0.0</td>\n",
       "      <td>0.0</td>\n",
       "      <td>0.0</td>\n",
       "      <td>0.0</td>\n",
       "      <td>0.0</td>\n",
       "      <td>0.0</td>\n",
       "      <td>0.0</td>\n",
       "      <td>0.0</td>\n",
       "      <td>0.0</td>\n",
       "      <td>0.0</td>\n",
       "      <td>0.0</td>\n",
       "      <td>1.0</td>\n",
       "      <td>0.0</td>\n",
       "      <td>1.0</td>\n",
       "      <td>0.0</td>\n",
       "      <td>0.0</td>\n",
       "      <td>1.0</td>\n",
       "      <td>0.0</td>\n",
       "      <td>0.0</td>\n",
       "      <td>0.0</td>\n",
       "      <td>0.0</td>\n",
       "      <td>0.0</td>\n",
       "      <td>0.0</td>\n",
       "      <td>1.0</td>\n",
       "      <td>1.0</td>\n",
       "      <td>0.0</td>\n",
       "      <td>0.0</td>\n",
       "      <td>0.0</td>\n",
       "      <td>0.0</td>\n",
       "      <td>0.0</td>\n",
       "      <td>0.0</td>\n",
       "      <td>1.0</td>\n",
       "      <td>/home/common/datasets/celeba/img_align_celeba/132142.jpg</td>\n",
       "      <td>7962</td>\n",
       "      <td><img src=\"data:image/jpeg;base64,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\"></td>\n",
       "      <td>np.ndarray(shape=(2,))</td>\n",
       "      <td>0.0</td>\n",
       "      <td>0.0</td>\n",
       "      <td><img src=\"data:image/jpeg;base64,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\"></td>\n",
       "      <td>132142.jpg</td>\n",
       "      <td>test</td>\n",
       "      <td>torch.Tensor(shape=torch.Size([2]))</td>\n",
       "      <td>np.ndarray(shape=(512,))</td>\n",
       "      <td>np.ndarray(shape=(5,))</td>\n",
       "    </tr>\n",
       "    <tr>\n",
       "      <th>6252</th>\n",
       "      <td>132639.jpg</td>\n",
       "      <td>7190.0</td>\n",
       "      <td>132639.jpg</td>\n",
       "      <td>0.0</td>\n",
       "      <td>0.0</td>\n",
       "      <td>0.0</td>\n",
       "      <td>1.0</td>\n",
       "      <td>0.0</td>\n",
       "      <td>0.0</td>\n",
       "      <td>0.0</td>\n",
       "      <td>0.0</td>\n",
       "      <td>0.0</td>\n",
       "      <td>0.0</td>\n",
       "      <td>0.0</td>\n",
       "      <td>0.0</td>\n",
       "      <td>0.0</td>\n",
       "      <td>0.0</td>\n",
       "      <td>0.0</td>\n",
       "      <td>0.0</td>\n",
       "      <td>0.0</td>\n",
       "      <td>0.0</td>\n",
       "      <td>0.0</td>\n",
       "      <td>0.0</td>\n",
       "      <td>1.0</td>\n",
       "      <td>0.0</td>\n",
       "      <td>0.0</td>\n",
       "      <td>0.0</td>\n",
       "      <td>1.0</td>\n",
       "      <td>1.0</td>\n",
       "      <td>0.0</td>\n",
       "      <td>0.0</td>\n",
       "      <td>0.0</td>\n",
       "      <td>0.0</td>\n",
       "      <td>0.0</td>\n",
       "      <td>0.0</td>\n",
       "      <td>1.0</td>\n",
       "      <td>0.0</td>\n",
       "      <td>0.0</td>\n",
       "      <td>0.0</td>\n",
       "      <td>0.0</td>\n",
       "      <td>0.0</td>\n",
       "      <td>0.0</td>\n",
       "      <td>1.0</td>\n",
       "      <td>/home/common/datasets/celeba/img_align_celeba/132639.jpg</td>\n",
       "      <td>3579</td>\n",
       "      <td><img src=\"data:image/jpeg;base64,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\"></td>\n",
       "      <td>np.ndarray(shape=(2,))</td>\n",
       "      <td>0.0</td>\n",
       "      <td>0.0</td>\n",
       "      <td><img src=\"data:image/jpeg;base64,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\"></td>\n",
       "      <td>132639.jpg</td>\n",
       "      <td>test</td>\n",
       "      <td>torch.Tensor(shape=torch.Size([2]))</td>\n",
       "      <td>np.ndarray(shape=(512,))</td>\n",
       "      <td>np.ndarray(shape=(5,))</td>\n",
       "    </tr>\n",
       "  </tbody>\n",
       "</table>"
      ],
      "text/plain": [
       "DataPanel(nrows: 6253, ncols: 55)"
      ]
     },
     "metadata": {},
     "execution_count": 55
    }
   ],
   "metadata": {}
  },
  {
   "cell_type": "code",
   "execution_count": 59,
   "source": [
    "attribute = \"mustache\"\n",
    "\n",
    "words_dp = embed_phrases.out().load()\n",
    "words_dp = words_dp.lz[:10_000]\n",
    "\n",
    "pred_slice_idx = 3\n",
    "words_dp = words_dp.view()\n",
    "slice_proto = (\n",
    "    np.dot(dp[\"pred_slices\"].T, dp[\"emb\"])\n",
    "    / dp[\"pred_slices\"].sum(axis=0, keepdims=True).T\n",
    ")\n",
    "pred_slice = dp[\"pred_slices\"][:, pred_slice_idx]\n",
    "#slice_proto = dp.lz[pred_slice.argsort()[-100:]][\"emb\"].mean(axis=0)\n",
    "slice_proto = dp[\"emb\"][dp[attribute] == 1].mean(axis=0)\n",
    "#slice_proto = dp.lz[dp[\"probs\"].argsort()[-25:]][\"emb\"].mean(axis=0)\n",
    "\n",
    "\n",
    "ref_proto = dp[\"emb\"][dp[attribute] == 0].data.mean(axis=0)\n",
    "\n",
    "words_dp[\"pred_slices\"] = np.dot(\n",
    "    words_dp[\"emb\"].data, (slice_proto - ref_proto).T\n",
    ")\n",
    "expl_dp = words_dp[[\"word\", \"pred_slices\"]]\n",
    "expl_dp.lz[(-expl_dp[\"pred_slices\"]).argsort()[10:20]]"
   ],
   "outputs": [
    {
     "output_type": "stream",
     "name": "stderr",
     "text": [
      "/tmp/ipykernel_2285/586132638.py:9: RuntimeWarning: invalid value encountered in true_divide\n",
      "  np.dot(dp[\"pred_slices\"].T, dp[\"emb\"])\n"
     ]
    },
    {
     "output_type": "execute_result",
     "data": {
      "text/html": [
       "<table border=\"1\" class=\"dataframe\">\n",
       "  <thead>\n",
       "    <tr style=\"text-align: right;\">\n",
       "      <th></th>\n",
       "      <th>word (PandasSeriesColumn)</th>\n",
       "      <th>pred_slices (NumpyArrayColumn)</th>\n",
       "    </tr>\n",
       "  </thead>\n",
       "  <tbody>\n",
       "    <tr>\n",
       "      <th>0</th>\n",
       "      <td>a photo of a person with his nephews.</td>\n",
       "      <td>2.783203</td>\n",
       "    </tr>\n",
       "    <tr>\n",
       "      <th>1</th>\n",
       "      <td>a photo of a person in his thirtieth birthday birthday.</td>\n",
       "      <td>2.712891</td>\n",
       "    </tr>\n",
       "    <tr>\n",
       "      <th>2</th>\n",
       "      <td>a photo of a person on his behalf.</td>\n",
       "      <td>2.687500</td>\n",
       "    </tr>\n",
       "    <tr>\n",
       "      <th>3</th>\n",
       "      <td>a photo of a person with a bushy beard.</td>\n",
       "      <td>2.646484</td>\n",
       "    </tr>\n",
       "    <tr>\n",
       "      <th>4</th>\n",
       "      <td>a photo of a person in his thirtieth birthday.</td>\n",
       "      <td>2.630859</td>\n",
       "    </tr>\n",
       "    <tr>\n",
       "      <th>5</th>\n",
       "      <td>a photo of a person trying to depose himself.</td>\n",
       "      <td>2.628906</td>\n",
       "    </tr>\n",
       "    <tr>\n",
       "      <th>6</th>\n",
       "      <td>a photo of a person on his thirtieth birthday.</td>\n",
       "      <td>2.626953</td>\n",
       "    </tr>\n",
       "    <tr>\n",
       "      <th>7</th>\n",
       "      <td>a photo of a person with his thirtieth birthday birthday.</td>\n",
       "      <td>2.582031</td>\n",
       "    </tr>\n",
       "    <tr>\n",
       "      <th>8</th>\n",
       "      <td>a photo of a person with his whereabouts unknown.</td>\n",
       "      <td>2.582031</td>\n",
       "    </tr>\n",
       "    <tr>\n",
       "      <th>9</th>\n",
       "      <td>a photo of a person with a bushy hair beard.</td>\n",
       "      <td>2.578125</td>\n",
       "    </tr>\n",
       "  </tbody>\n",
       "</table>"
      ],
      "text/plain": [
       "DataPanel(nrows: 10, ncols: 2)"
      ]
     },
     "metadata": {},
     "execution_count": 59
    }
   ],
   "metadata": {}
  },
  {
   "cell_type": "code",
   "execution_count": 21,
   "source": [
    "\n",
    "dp.lz[dp[\"pred_slices\"].data[:, pred_slice_idx].argsort()[-10:]][[\"image\", \"target\", \"correlate\"]]"
   ],
   "outputs": [
    {
     "output_type": "execute_result",
     "data": {
      "text/html": [
       "<table border=\"1\" class=\"dataframe\">\n",
       "  <thead>\n",
       "    <tr style=\"text-align: right;\">\n",
       "      <th></th>\n",
       "      <th>image (ImageColumn)</th>\n",
       "      <th>target (NumpyArrayColumn)</th>\n",
       "      <th>correlate (NumpyArrayColumn)</th>\n",
       "    </tr>\n",
       "  </thead>\n",
       "  <tbody>\n",
       "    <tr>\n",
       "      <th>0</th>\n",
       "      <td><img src=\"data:image/jpeg;base64,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\"></td>\n",
       "      <td>0</td>\n",
       "      <td>1</td>\n",
       "    </tr>\n",
       "    <tr>\n",
       "      <th>1</th>\n",
       "      <td><img src=\"data:image/jpeg;base64,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\"></td>\n",
       "      <td>0</td>\n",
       "      <td>1</td>\n",
       "    </tr>\n",
       "    <tr>\n",
       "      <th>2</th>\n",
       "      <td><img src=\"data:image/jpeg;base64,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\"></td>\n",
       "      <td>0</td>\n",
       "      <td>1</td>\n",
       "    </tr>\n",
       "    <tr>\n",
       "      <th>3</th>\n",
       "      <td><img src=\"data:image/jpeg;base64,/9j/4AAQSkZJRgABAQAAAQABAAD/2wBDAAgGBgcGBQgHBwcJCQgKDBQNDAsLDBkSEw8UHRofHh0aHBwgJC4nICIsIxwcKDcpLDAxNDQ0Hyc5PTgyPC4zNDL/2wBDAQkJCQwLDBgNDRgyIRwhMjIyMjIyMjIyMjIyMjIyMjIyMjIyMjIyMjIyMjIyMjIyMjIyMjIyMjIyMjIyMjIyMjL/wAARCACAAGkDASIAAhEBAxEB/8QAHwAAAQUBAQEBAQEAAAAAAAAAAAECAwQFBgcICQoL/8QAtRAAAgEDAwIEAwUFBAQAAAF9AQIDAAQRBRIhMUEGE1FhByJxFDKBkaEII0KxwRVS0fAkM2JyggkKFhcYGRolJicoKSo0NTY3ODk6Q0RFRkdISUpTVFVWV1hZWmNkZWZnaGlqc3R1dnd4eXqDhIWGh4iJipKTlJWWl5iZmqKjpKWmp6ipqrKztLW2t7i5usLDxMXGx8jJytLT1NXW19jZ2uHi4+Tl5ufo6erx8vP09fb3+Pn6/8QAHwEAAwEBAQEBAQEBAQAAAAAAAAECAwQFBgcICQoL/8QAtREAAgECBAQDBAcFBAQAAQJ3AAECAxEEBSExBhJBUQdhcRMiMoEIFEKRobHBCSMzUvAVYnLRChYkNOEl8RcYGRomJygpKjU2Nzg5OkNERUZHSElKU1RVVldYWVpjZGVmZ2hpanN0dXZ3eHl6goOEhYaHiImKkpOUlZaXmJmaoqOkpaanqKmqsrO0tba3uLm6wsPExcbHyMnK0tPU1dbX2Nna4uPk5ebn6Onq8vP09fb3+Pn6/9oADAMBAAIRAxEAPwDifH1pd3NyDHEzKDziuHjsbkSophcZYdq+g57OGc/vIwaq/wBiWZYMIhke1Z3sUU/DUBh0yMMCDtFcz8QZmS32g4rv44liTYowBWXquiW+pgiYA/WpuM8IWaVD8rkH616Hoeux6TpcTXT7mYcAnrWlceA7BVaTaAAM1y2n3ekwpf3t8iSur+VbwtzhcdQKptMSuiLXvFElxMDAzID61lLr1yrLvmJB5rIupmnuGkbueB6DsKYIzxxyT0qlFBc7a38S2ghG9mL/AN0CtWz1a0vSFjcbsZKnrXmfK8U6KaSFwyMQfUGk4hzHq+KY4riLTxTcwSh5lMmE24z1966HTtctr7CmYCU/wkYqWrFJ3H3mpRWjYfAqr/b1t61j+IyWuQBnrWFg+9WkS2z1vVvHIsb1ocE49qk03x3DeXKQdGb1riNf029bVJZPIYqTwRSeHLCc61DuhcAdcipsrBdntcbiRA46EVlX+vWllLslcA/WtOFdlmvsteQeMpTJqxXJFSlcZ0vi7xVAdEeC2kPmTAplT0B615WzNJKWAxk9KtyqxZA5baalXyopVAX5wMDPbirSsJsoR27M/TOBU5iYOAFPoB/OtSK2WH5snOMjI709E+03C+Wh3AYyBwKdwsYUwVGIAAI4zUIBLZ/WtO8tiFJ24wcYqi+ANvPFO4rEJwFb1JqSzkMdwjA4INRsCVGOmaE+RsnqKAW53iWkF/GrsMgjrTv7AtvQVjaLqKRqI8k4HP8AWt7+04/Q1ndrQuyPTZLC3lPzRCmxaXaRSB1jAP0rz9/iGyXDLtbAOOldF4e8VLrDso6jqCKLEnU8FduOK5fXPDVrdJLMwXeFJBPaujkkWKNnboBXKax4og+z3MERBlZGUc8jIpDPPtM0iTVL2VEJESkqDivRNL+H+nm32yxM7EZ3Z70vhHSEtbG3RlxIwDPn1NenW1nbwxDJycVyTqSlKyeh2wpRjG7WpwSeD7VI1QqFwNpyM5FULzwnBb2EsdoQjlgSSPTgV6WLDzZPlqC/0pY4stjJHas71Ny+WnseFXnhS/iVn3xsCei5z6d652/0e6tvmZdox6ZxXt15aLuyBjHNch4mtgICGjHJyMYranXlezIqYeNro8okJDEc8VExLHGMVfu38pmWOPGT19qq44yeM9q7rnC0WdOSRJ0deW7D1rX+X+4aztPyZ4wp53cV0v2N/wC5+lZyeppFaGPPomoJIxa3Y89q7LwDp80Lu8sRXJ7ivQHsbd+sQp8VrDbqdiAGjmM0iprDbNOkx6V4jesTfysc/fr3maFbiMo44Nc9eeEbGXc2xcn2pJ2Ha5taRbkxW8ij5dimusQNsHpXlQ8VwabKYbe7nFxD8skciF0OOO3QfSu10DxTFq9uuUEcmOxyp+lee4SWrR6MZJ6HX2ZxIKi1RGdgO1ZdzrS6YgdonkY9AoqFfGEtz+7eG0tgejSSZb8q0i01Ylpp8xXvYBCCSOa5XWrT7baMpPNdRe30czFXeGQHo0Tf0rGu1AjJByprNpp3RtFpqzPINb0M2blicKT3PaucmBMiqOSfSvRPF6s1uuxCcHoO9M8GeC7nV70XS24CwjeRJxu+ldsKtoXZxVKN52Rx5tbjTpbQyLt3/OOewNdR9ui9vyqj4yynieWzz8tqqxDHr1P86p4H+1VLVJsiS5ZNI6WH4iyg/PG+K7rQNYGr2qy84I7146+gajG2Dbk/SvVvB1nJaaaiyLtYLyKtpIxV+ps6jexWEPmSEAVzs3jKxZCA6/nTvHTkaYwAJ4rxmclfako3G3Y92fRJmV7mwtrdo7232XKupBfuCGHINXdB8KLYJHOYfJlDYyrEl84xn6VueEdQgutBtHDBgYVI/KtaSbzLyFVB2oSxricnazO5QS1SIr/TEkSKNmwXXqOxrzm/8JwpFfxajYX11fTEmG6jfKxc8AKSK9Ju71VnhDDgDmtGKeC5GeM9jinCSi9AnFtaniuk/D/U2vFnhu3tEwfMMgzuz6LniutudLGn6Z5TO0jqOXbvXok8ccVqZHCDHQAVwfiC93K445oqu+5VGPY4bU4BcKoPBB6jtXU2l7caZoksjSiO3jjDMdvzFVGev9K5q45XOcH19KqeIPFh1zw9ZWqRiGJriSKcqf8AWCNUx+BJzj2ohBz0HUqKOpx9yJdTvbnUplOZ5DIfbJ4H5Ve/df8APNfyqPUJkgtoUX+Mgn6Af45qD7QPQV1HHc9mNrbOf9WtTRokQ2oMCvJ7DxzdtdRxyIcM2ODXqGnz/aLVZD1IptWMRNQsYr5NkoBFczf+DrIqWCL+VaGueJIdIfEhA7VjnxzaXC7N4yaB6GloM02klbWAllJwqZ/lXa2s0z7Z4nPmAYKNxn29q87iukmXzUOO+a39N1SW6CTxXhiZW2O3Vc9siuWrDW6OyjO65WdeY7i+lZ5zFG44AYdvwqUp9kiTy3LlRhscflWXFqWpfMTNYYAznB+b8KiR7y6lJnuAI+/lJtz+NQ42R0NNaF281hjFt37lHbPSuRvppLnLYwvvWzdQxqpCA5PAJOeKyb544IxuYBVFZt3ZpHRaHL6/O1tYShfvspArkXufK8K6OoUBmmuXL9zkoP6V1l7uvJCzoVVlOwH0x1rzy41FptPs7ExBRaNJhgTltxz09sV20NmjgxHxJl+7T9yCzbnaRcc9BipPNj/u/pVWJcsCx7Va8hvQ/lWljJvUt6f4Xv4tQiLp8qtkmvXtPjMVmqnrikRYWOQFzU4bAwKbdzI8w8eiWW7AVGYZ7VxYgkMiDy2zkdq9yu9Nt7s5kQE1mXOg2aKWEY4p82lg5epzlnmPSCTkHFVvAuupbeKbmwvGHkXYwoY8bh/iP5VryxIEaIDC1zd54dRpTMh2vnIIOMVDipJpmik4tNHtsGk6fkSKCv0PFOungt12o3brXnnhO78R3xubZbwSLAgIaTr+J71sNpF3dS7dTvZHUn/VxHaD9T1rgn7jsz0IPnVyS91uNpzbWytcXB6RRDJ/H0H1p9vpDsPtWolXlxlIF5RPr/eP6VrWen21lCIoIEiHcqMZ+p71dFvvXb2/nUplt2OB1G1c3PmkfeBIHtXlmr2bWesTRkYRz5ifQ171q9qm/gfNivNvEujm7jYRDNwmWj9/Vfx/nW2HqWnZ9TLEU+aF10OKhug0wQ84rd+1D0FczaQu04G05B5rf+zt6V3tHnXNzw14lvbvUVhk5GOoNemB9tuHPULmvOfDnhq5sb/zZfw4r0C4JFowH93FS7X0BeZympeNEsbswnJI9qLTxhb6gwiyNx9a4zXrG6fUpGETEZ6ijQNPnfVIy0Lce1OytcV3c7a+ZIk80n5TWZFNNqCObW3eVF6sBx+ddY2iG6SOOWMFR/Cf61Pc2y2KpawsFyMkKMBRXNKslsdUKLfxE3w406eCC/uJ49jSyLGqnuAMn+db17br9tCqMbeWqlaXqWFolraZ3KDukP8AePXHvVdlunYvGxDE5JY9a5akud3OmEeVWN6K3DAZ6e9SyOsCkY+hrLtxqrKBtQj15p1y13CAJfJGfUmlsPqUNT3SPvH0IFcdqvDZBGc11E80jyEb1x7DArm9USZ5D8oZPUDpSi9TS9kYN3pcBkF/GgXzT+8A7P6/j1pv2dP7orehtjJYyISrBhxg9CKzfJl/55/rXpRbaPNqRtI//9k=\"></td>\n",
       "      <td>0</td>\n",
       "      <td>1</td>\n",
       "    </tr>\n",
       "    <tr>\n",
       "      <th>4</th>\n",
       "      <td><img src=\"data:image/jpeg;base64,/9j/4AAQSkZJRgABAQAAAQABAAD/2wBDAAgGBgcGBQgHBwcJCQgKDBQNDAsLDBkSEw8UHRofHh0aHBwgJC4nICIsIxwcKDcpLDAxNDQ0Hyc5PTgyPC4zNDL/2wBDAQkJCQwLDBgNDRgyIRwhMjIyMjIyMjIyMjIyMjIyMjIyMjIyMjIyMjIyMjIyMjIyMjIyMjIyMjIyMjIyMjIyMjL/wAARCACAAGkDASIAAhEBAxEB/8QAHwAAAQUBAQEBAQEAAAAAAAAAAAECAwQFBgcICQoL/8QAtRAAAgEDAwIEAwUFBAQAAAF9AQIDAAQRBRIhMUEGE1FhByJxFDKBkaEII0KxwRVS0fAkM2JyggkKFhcYGRolJicoKSo0NTY3ODk6Q0RFRkdISUpTVFVWV1hZWmNkZWZnaGlqc3R1dnd4eXqDhIWGh4iJipKTlJWWl5iZmqKjpKWmp6ipqrKztLW2t7i5usLDxMXGx8jJytLT1NXW19jZ2uHi4+Tl5ufo6erx8vP09fb3+Pn6/8QAHwEAAwEBAQEBAQEBAQAAAAAAAAECAwQFBgcICQoL/8QAtREAAgECBAQDBAcFBAQAAQJ3AAECAxEEBSExBhJBUQdhcRMiMoEIFEKRobHBCSMzUvAVYnLRChYkNOEl8RcYGRomJygpKjU2Nzg5OkNERUZHSElKU1RVVldYWVpjZGVmZ2hpanN0dXZ3eHl6goOEhYaHiImKkpOUlZaXmJmaoqOkpaanqKmqsrO0tba3uLm6wsPExcbHyMnK0tPU1dbX2Nna4uPk5ebn6Onq8vP09fb3+Pn6/9oADAMBAAIRAxEAPwD26nD71N7UoIyKkY5qjk+4aeeelQXlzDaWktxcSrFDGpZ3Y4CgUwPkPxavl+OddX0vn/maz7j/AFZq34lvoNT8W6rf2u429xctJGWGCRnriqM0qtEQpyfSqJLVt/rG+or2Dwwc6RH/ALxrxW3vIw53ZGfWvQtF8aWGnWCwTxS7wcrgj5qBo9/0I50uH6Vq/wAJrynwn8W9Dnmh0u+hmsJHO2OWUgxsfQkdPxr1VXDLkHg0pDEHRqX+IUAdfejHzdaSEN/jNPo2YbOaMUAMXGOeDS59KawpVwO1IY7oCa+e/i98RzqU76Dpcv8AoUTYnkU/65h2/wB0frXpPxX8Wf8ACO+FZIbeTbe3mYoyDyq/xN+VfLpjkurkKgJY+tMCIs0jfOx/DqalaN1jAUbQe561aW3hSQRJMjydyDxST9DEw5B7AUcwWsLcWapYwT7sljj3pz6czxCRQzg9s4xUs06PpcUAU7kJOSe1UYdRuLQhVzsHaoTlYuSjcaWdD5bjIHQnqK9y+EPxIW4ji8O6xPiZfltJnP3x/cJ9fSvH/tljqCDzv3cx6E9/xqlJC9nMJEYhlIZXX9D9aal3E42PtjqOBS/w5HWuC+FvjFvFnhtRcyA39piOb/bHZvxrvQeMGrJsJnoc0/K0w8kUuBQmIiJFKSApJOAKTFZHifUP7M8OX11uwUibaffFSUfOfxG8Qv4i8UXVwX/0aBjDAOwRerfiea46ScQWuxMhpBlj32+lXboC4fA53sf++c8n8TmqT2zXd+kI43dT6Ck2upST6EETTz7Y7aJuOyLnNbVnod/NIALaYsRzlSM123hnSbe1VI0jAx1J6mvTtLsIRtyox9K5JYp3tFHfDArlvJnkWn+AdUmQzS2/lxsP4j1qSXwaLe3lWVQxOccdK96mWL7PsCjGK5rUrOMxsdoNZ1aklqmb0qELWaPmjU9Pksbpk2nb/KnWUxfbDJyp4UntXd+KdDMjtLBjcDytcCsbLO69CvOPQ11UqqqR8zgr0XSn5M7D4d+IpfCviqOQk/ZZSEmH+yT1/A19UW8yTxJNGwZHGQR6V8f2rpDrEAmYCKUjJPYH/wCvX0j8P76RbKbRrl90tltMTE/eib7p/DBH4VsjnkjteKXPvTcZpNh9adyCPcOmRXk/xl8RCG0t9Dt3zNcfvJAP4UHT8z/KvRZpkhWWaQgJGhJPoBXzPr+ryaz4kv8AVJDlS5WMegHApMpamLAA97KB91AFFT2KqdZVc9sU2xQI7P2Y9+9OsEY6rK6AFkxj0rOp8LNqXxI9O0e0dirBeK7vT1ZVAzXkwnurFEkGvNDK3O11Gw/h6VraV411KO7WC6NtPH3kiOCPfFebyP4keyqi+FnqpyRjNZ2oxkxlQarR6yr2nnA8YzmuJ1vxTqEt35VtdQ20RONzLuY/hSvzaDfu6kur2D/OcV5VqMSW2qXMmMDaBj3rs/Mt753M+vXM846BDtAri9bRxMzOxOcfNjGea6KC5ZNHJipc0L2Ib0ebaJMOsZwcehr2T4Wa++rXkNw4PnWdmtvcNn/WDccN+WPxrxFbr908J5DDFdn8JdQmsfF0MBYrBdZhk9z1H6/zNd6PMkfUBnAHek+0D3qmAPlycknPNOzVEHCfE/XX0jwrcRxECW4+TjsP8mvn5WYQRKT15P8AOvSfjPcXE2vWengkoIlcqO7En/61eZzZt55Uf78b7CPfuKh7mkVZDxL5dqp55fr7V0Xg2KO51mZXwcgVycku9EB6A/1rU8IamLbXCzHG+s6qbgzbDu1RXPRdR8FGa+NwiCdHjMflyDIXPcehq5Y+DRa2wi+yIkYfzDIfvk9Ovpx0rq9Fvo7hUJINbWqSRpYlk5OOgrgjOXLa56cqMVO9jHs9MjXQ5Y8c9jXLX/hNJ43VbZJlkAzu5KkHqPQ13dqrHTGJHB61DpswZZA69GxzUpuLuinFSVmecQeBwt1byPEIY7fOAowWz13HvXFePokttQESAAYFe4a1eJFG23rXgvji9E+s9cnbWtFylUuzHEU406LscuzYOa7b4b7pvFmnwqu7zLhCDjptyT+lcOeQPpXbfCm5jg8dWKysVDEqp9yMV6J5Fz6fyC4HcDJ9qdiT1qPKxrtjG9ieg/rTf9I9V/OqJPH/AIrrdWPiSz1xLffFAqnDDqcnH68/hXk+rQiz1CRBIJQwEu8dGLDJ/ma+mfGWgnxBoMq7Nskf7xB3bBzivmbX5o21B9jA7TtAAx04/pUPc0WxmyONuKS1kNrfoScEHFQnc7YHNLcbjIXbjPNO3Qm+t10PZ/C2rOYoyTnFdxJdm/sJIYZkSZgNrMMgc968V8Ga0qFbeY89ATXaTMsc6SNcXEak5Ox/lIry5w5Z2Pdo1VUgjpYbPxGlo8JvoGUk4fn+VaOnedZ2RF7cxyTE53KMVieVA8avBrpWFly6FQf6j+VZyJ5t0WivJ2jXsSNp/SicLLc2cOVXLXiG+Gx2B7V4jqTm/wBXnfOccCu78a60tnaGBGzM/C+3vXn2nOqTM8nIxzXVhYcseY8rG1eeSgRNblQASK7f4V6OdU8XQEghLYGZnHbHT9a4+Z1uJ2CDap6Yr3n4M6Ithoc+oNG2+6fA4/hWupHE1bY9PVzx5Sk/QYFG6f1T86d5kjcKmP8AeNHl3H/PQf8AfNUQcr498Rf8I34ZnneQJNKPLiA9W4z+FfMl3Yy7nnfd8+WBPfnmvYPjNeJd6npelM7ERv50gU8nnAGPoD+def8AiyQade29kVBFvbqkgH99vmb9TioZatszm4bU7jGeCT8rdj7VchtUlBjnjLDvg4ZfxqG2kVWXndE3Ab09M/yrWliJRLmM/MG2SL6H/wCvUs0ikjNeyezdXhLfKeDjmu+8J+IbS8221/gOOPm71laWkOqRNbSKBLjg1l6podxpl590juCK5JtSfLLc76ScUpLY9pj0nw68W8W8JJGc1zPifXtP0e3KW+0tjCotee/2nfxxbBczAem6s6SOa5Ys5Z2Pc8k1lGkr6m06llojJ1K/n1G9e4nbLMeB2A9KijbEZGe9SX9pJaXGxwRkZFQKcA816atbQ8Z35ncvaage6QMfkByxPpX1Z4PjjtdAt4YE/c7coSenqD75r5X0q2kvLlbW3AaaYFEBPU46V7R8H/FjXHm+H7xzHcxjdErDkkDDfjwD+dC3B6o9dxKTwVX6DNP2H/no/wCYqMxEn5nbHoOKPs8Pq351ZmeMa3oVzqeuSa5IDLcbwQmflAGMAD04rynxQ05167+0bvMZ9zbuuTXvCTPbzvH1UDj614/8S4418VyNEcl4kZ8dj/nFcGHqSlPVnqYqjGNO8UchBM0LZHI7g962YNQTysFuSNrA9x2P1FULaBUeGSQZQzKrD2ODWrr2kRWGrSR25Bh3AD8q6pNXscMLpXLnh+6MeuwZOFYgGvY5tEg1K0USoCQOuK8Q0OCSbWLaKMHduH4c17pa3sunlUnBZMdcV52I0mj1sKrwZzk/gOIsSsmF9MVmW/hyFbxwo3JHxmu8kvXvnKwDanqe9ZIsLq3d1RlIb1rBzZ0cisch4g8Kw36JwUI4Dgcg1wd/4W1Gwm2yIDEfuzD7vtn0/GvZ2tb/AAUaKNgfeoP7NuSQkhjVT2PNb0sTKGm6OWthY1NdmeI2U8um6hFKQUlhkDD1Ug5r0nxLZPYyab4/0UBI5HU3CR9FY/xfQng1rXnw3i1p94MayD+KP5TVwaJd6T4Iv/C8mJ0nB8mRzjy8kHn8q7I4iD30OGeEqR21PT9B1WHWtFtNSgb93PGHwT37j8DWt8v92vO/hmn9ieHDp2oyqJUclBuyCCe36V2v2tfWt1JPY55Qknqj/9k=\"></td>\n",
       "      <td>0</td>\n",
       "      <td>0</td>\n",
       "    </tr>\n",
       "    <tr>\n",
       "      <th>5</th>\n",
       "      <td><img src=\"data:image/jpeg;base64,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\"></td>\n",
       "      <td>0</td>\n",
       "      <td>1</td>\n",
       "    </tr>\n",
       "    <tr>\n",
       "      <th>6</th>\n",
       "      <td><img src=\"data:image/jpeg;base64,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\"></td>\n",
       "      <td>0</td>\n",
       "      <td>0</td>\n",
       "    </tr>\n",
       "    <tr>\n",
       "      <th>7</th>\n",
       "      <td><img src=\"data:image/jpeg;base64,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\"></td>\n",
       "      <td>0</td>\n",
       "      <td>1</td>\n",
       "    </tr>\n",
       "    <tr>\n",
       "      <th>8</th>\n",
       "      <td><img src=\"data:image/jpeg;base64,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\"></td>\n",
       "      <td>0</td>\n",
       "      <td>1</td>\n",
       "    </tr>\n",
       "    <tr>\n",
       "      <th>9</th>\n",
       "      <td><img src=\"data:image/jpeg;base64,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\"></td>\n",
       "      <td>0</td>\n",
       "      <td>1</td>\n",
       "    </tr>\n",
       "  </tbody>\n",
       "</table>"
      ],
      "text/plain": [
       "DataPanel(nrows: 10, ncols: 3)"
      ]
     },
     "metadata": {},
     "execution_count": 21
    }
   ],
   "metadata": {}
  },
  {
   "cell_type": "code",
   "execution_count": 106,
   "source": [
    "import pandas as pd\n",
    "import seaborn as sns\n",
    "import matplotlib.pyplot as plt\n",
    "plot_df = pd.DataFrame(\n",
    "    {\"probs\": dp[\"probs\"], \"slice\": dp[\"slices\"][:, slice_idx], \"target\": dp[\"target\"]}\n",
    ")\n",
    "sns.histplot(\n",
    "    data=plot_df[plot_df[\"target\"] == 0],\n",
    "    x=\"probs\",\n",
    "    hue=\"slice\",\n",
    "    stat=\"count\",\n",
    "    common_norm=not False,\n",
    "    binwidth=0.1,\n",
    ")\n",
    "plt.yscale(\"log\")\n"
   ],
   "outputs": [
    {
     "output_type": "display_data",
     "data": {
      "image/png": "[encoded data removed]",
      "text/plain": [
       "<Figure size 432x288 with 1 Axes>"
      ]
     },
     "metadata": {
      "needs_background": "light"
     }
    }
   ],
   "metadata": {}
  },
  {
   "cell_type": "code",
   "execution_count": 6,
   "source": [
    "from domino.train import score_settings, train_settings, score_model, train_model"
   ],
   "outputs": [],
   "metadata": {}
  },
  {
   "cell_type": "code",
   "execution_count": 5,
   "source": [
    "score_settings.out().load()[\"score_model_run_id\"]"
   ],
   "outputs": [
    {
     "output_type": "execute_result",
     "data": {
      "text/html": [
       "<table border=\"1\" class=\"dataframe\">\n",
       "  <thead>\n",
       "    <tr style=\"text-align: right;\">\n",
       "      <th></th>\n",
       "      <th>(PandasSeriesColumn)</th>\n",
       "    </tr>\n",
       "  </thead>\n",
       "  <tbody>\n",
       "    <tr>\n",
       "      <th>0</th>\n",
       "      <td>15006</td>\n",
       "    </tr>\n",
       "    <tr>\n",
       "      <th>1</th>\n",
       "      <td>15007</td>\n",
       "    </tr>\n",
       "    <tr>\n",
       "      <th>2</th>\n",
       "      <td>15008</td>\n",
       "    </tr>\n",
       "    <tr>\n",
       "      <th>3</th>\n",
       "      <td>15005</td>\n",
       "    </tr>\n",
       "    <tr>\n",
       "      <th>4</th>\n",
       "      <td>15009</td>\n",
       "    </tr>\n",
       "    <tr>\n",
       "      <th>5</th>\n",
       "      <td>15010</td>\n",
       "    </tr>\n",
       "    <tr>\n",
       "      <th>6</th>\n",
       "      <td>15011</td>\n",
       "    </tr>\n",
       "    <tr>\n",
       "      <th>7</th>\n",
       "      <td>15012</td>\n",
       "    </tr>\n",
       "    <tr>\n",
       "      <th>8</th>\n",
       "      <td>15014</td>\n",
       "    </tr>\n",
       "    <tr>\n",
       "      <th>9</th>\n",
       "      <td>15013</td>\n",
       "    </tr>\n",
       "  </tbody>\n",
       "</table>"
      ],
      "text/plain": [
       "PandasSeriesColumn(0    15006\n",
       "1 ..., dtype: int64)"
      ]
     },
     "metadata": {},
     "execution_count": 5
    }
   ],
   "metadata": {}
  },
  {
   "cell_type": "code",
   "execution_count": 8,
   "source": [
    "score_dp = score_model.out(15006).load()"
   ],
   "outputs": [],
   "metadata": {}
  },
  {
   "cell_type": "code",
   "execution_count": 18,
   "source": [
    "from sklearn.metrics import roc_auc_score\n",
    "mask = score_dp[\"target\"] != score_dp[\"correlate\"]\n",
    "roc_auc_score(score_dp.lz[mask][\"target\"], score_dp.lz[mask][\"probs\"][:, 1])"
   ],
   "outputs": [
    {
     "output_type": "execute_result",
     "data": {
      "text/plain": [
       "0.26252927075972343"
      ]
     },
     "metadata": {},
     "execution_count": 18
    }
   ],
   "metadata": {}
  },
  {
   "cell_type": "code",
   "execution_count": 13,
   "source": [
    "score_dp[\"probs\"] = score_dp[\"output\"].probabilities()"
   ],
   "outputs": [],
   "metadata": {}
  },
  {
   "cell_type": "code",
   "execution_count": 10,
   "source": [
    "from domino.train import score_settings, synthetic_score_settings, score_model"
   ],
   "outputs": [],
   "metadata": {}
  },
  {
   "cell_type": "code",
   "execution_count": 5,
   "source": [
    "type(synthetic_score_settings.out().load())"
   ],
   "outputs": [
    {
     "output_type": "execute_result",
     "data": {
      "text/plain": [
       "meerkat.datapanel.DataPanel"
      ]
     },
     "metadata": {},
     "execution_count": 5
    }
   ],
   "metadata": {}
  },
  {
   "cell_type": "code",
   "execution_count": 19,
   "source": [
    "score_settings.out()[0].load()"
   ],
   "outputs": [
    {
     "output_type": "execute_result",
     "data": {
      "text/html": [
       "<table border=\"1\" class=\"dataframe\">\n",
       "  <thead>\n",
       "    <tr style=\"text-align: right;\">\n",
       "      <th></th>\n",
       "      <th>train_model_run_id (PandasSeriesColumn)</th>\n",
       "      <th>setting_id (NumpyArrayColumn)</th>\n",
       "      <th>corr (NumpyArrayColumn)</th>\n",
       "      <th>correlate (PandasSeriesColumn)</th>\n",
       "      <th>dataset (PandasSeriesColumn)</th>\n",
       "      <th>n (NumpyArrayColumn)</th>\n",
       "      <th>slice_category (PandasSeriesColumn)</th>\n",
       "      <th>target (PandasSeriesColumn)</th>\n",
       "      <th>index (PandasSeriesColumn)</th>\n",
       "      <th>parent_run_id (PandasSeriesColumn)</th>\n",
       "      <th>build_setting_run_id (PandasSeriesColumn)</th>\n",
       "      <th>time_this_iter_s (PandasSeriesColumn)</th>\n",
       "      <th>done (PandasSeriesColumn)</th>\n",
       "      <th>timesteps_total (PandasSeriesColumn)</th>\n",
       "      <th>episodes_total (PandasSeriesColumn)</th>\n",
       "      <th>training_iteration (PandasSeriesColumn)</th>\n",
       "      <th>experiment_id (PandasSeriesColumn)</th>\n",
       "      <th>date (PandasSeriesColumn)</th>\n",
       "      <th>timestamp (PandasSeriesColumn)</th>\n",
       "      <th>time_total_s (PandasSeriesColumn)</th>\n",
       "      <th>pid (PandasSeriesColumn)</th>\n",
       "      <th>hostname (PandasSeriesColumn)</th>\n",
       "      <th>node_ip (PandasSeriesColumn)</th>\n",
       "      <th>time_since_restore (PandasSeriesColumn)</th>\n",
       "      <th>timesteps_since_restore (PandasSeriesColumn)</th>\n",
       "      <th>iterations_since_restore (PandasSeriesColumn)</th>\n",
       "      <th>trial_id (PandasSeriesColumn)</th>\n",
       "      <th>config/corr (PandasSeriesColumn)</th>\n",
       "      <th>config/correlate (PandasSeriesColumn)</th>\n",
       "      <th>config/dataset (PandasSeriesColumn)</th>\n",
       "      <th>config/index (PandasSeriesColumn)</th>\n",
       "      <th>config/n (PandasSeriesColumn)</th>\n",
       "      <th>config/setting_id (PandasSeriesColumn)</th>\n",
       "      <th>config/slice_category (PandasSeriesColumn)</th>\n",
       "      <th>config/target (PandasSeriesColumn)</th>\n",
       "      <th>logdir (PandasSeriesColumn)</th>\n",
       "      <th>score_settings_run_id (PandasSeriesColumn)</th>\n",
       "      <th>score_model_run_id (PandasSeriesColumn)</th>\n",
       "      <th>synthetic_preds (PandasSeriesColumn)</th>\n",
       "    </tr>\n",
       "  </thead>\n",
       "  <tbody>\n",
       "    <tr>\n",
       "      <th>0</th>\n",
       "      <td>14936</td>\n",
       "      <td>163</td>\n",
       "      <td>0.6</td>\n",
       "      <td>blond_hair</td>\n",
       "      <td>celeba</td>\n",
       "      <td>30000</td>\n",
       "      <td>correlation</td>\n",
       "      <td>wearing_necklace</td>\n",
       "      <td>0</td>\n",
       "      <td>14928</td>\n",
       "      <td>14930</td>\n",
       "      <td>1112.037066</td>\n",
       "      <td>False</td>\n",
       "      <td>NaN</td>\n",
       "      <td>NaN</td>\n",
       "      <td>1</td>\n",
       "      <td>8ef98aebaa294f1f8875ae337af348ea</td>\n",
       "      <td>2021-09-22_12-08-35</td>\n",
       "      <td>1632312515</td>\n",
       "      <td>1112.037066</td>\n",
       "      <td>198</td>\n",
       "      <td>run-script-nf5ts</td>\n",
       "      <td>10.92.1.25</td>\n",
       "      <td>1112.037066</td>\n",
       "      <td>0</td>\n",
       "      <td>1</td>\n",
       "      <td>36c4b_00000</td>\n",
       "      <td>0.6</td>\n",
       "      <td>blond_hair</td>\n",
       "      <td>celeba</td>\n",
       "      <td>163</td>\n",
       "      <td>30000</td>\n",
       "      <td>163</td>\n",
       "      <td>correlation</td>\n",
       "      <td>wearing_necklace</td>\n",
       "      <td>/root/ray_results/_train_model_2021-09-22_11-49-59/_train_model_36c4b_00000_0_config={'corr': 0.6000000000000001, 'correlate': 'blond_hair', 'dataset': 'celeba', 'n': 30000, 'slice__2021-09-22_11-49-59</td>\n",
       "      <td>15044</td>\n",
       "      <td>15045</td>\n",
       "      <td>False</td>\n",
       "    </tr>\n",
       "    <tr>\n",
       "      <th>1</th>\n",
       "      <td>14933</td>\n",
       "      <td>139</td>\n",
       "      <td>0.8</td>\n",
       "      <td>eyeglasses</td>\n",
       "      <td>celeba</td>\n",
       "      <td>30000</td>\n",
       "      <td>correlation</td>\n",
       "      <td>wearing_hat</td>\n",
       "      <td>1</td>\n",
       "      <td>14928</td>\n",
       "      <td>14931</td>\n",
       "      <td>1116.230135</td>\n",
       "      <td>False</td>\n",
       "      <td>NaN</td>\n",
       "      <td>NaN</td>\n",
       "      <td>1</td>\n",
       "      <td>20a0c9441e584990983fc829547b6915</td>\n",
       "      <td>2021-09-22_12-08-39</td>\n",
       "      <td>1632312519</td>\n",
       "      <td>1116.230135</td>\n",
       "      <td>196</td>\n",
       "      <td>run-script-nf5ts</td>\n",
       "      <td>10.92.1.25</td>\n",
       "      <td>1116.230135</td>\n",
       "      <td>0</td>\n",
       "      <td>1</td>\n",
       "      <td>36c4b_00001</td>\n",
       "      <td>0.8</td>\n",
       "      <td>eyeglasses</td>\n",
       "      <td>celeba</td>\n",
       "      <td>139</td>\n",
       "      <td>30000</td>\n",
       "      <td>139</td>\n",
       "      <td>correlation</td>\n",
       "      <td>wearing_hat</td>\n",
       "      <td>/root/ray_results/_train_model_2021-09-22_11-49-59/_train_model_36c4b_00001_1_config={'corr': 0.8, 'correlate': 'eyeglasses', 'dataset': 'celeba', 'n': 30000, 'slice_category': 'cor_2021-09-22_11-49-59</td>\n",
       "      <td>15044</td>\n",
       "      <td>15046</td>\n",
       "      <td>False</td>\n",
       "    </tr>\n",
       "  </tbody>\n",
       "</table>"
      ],
      "text/plain": [
       "DataPanel(nrows: 2, ncols: 39)"
      ]
     },
     "metadata": {},
     "execution_count": 19
    }
   ],
   "metadata": {}
  },
  {
   "cell_type": "code",
   "execution_count": 24,
   "source": [
    "score_model.out(15045)[0].load()[\"split\"].unique()"
   ],
   "outputs": [
    {
     "output_type": "execute_result",
     "data": {
      "text/plain": [
       "array(['train', 'valid'], dtype=object)"
      ]
     },
     "metadata": {},
     "execution_count": 24
    }
   ],
   "metadata": {}
  },
  {
   "cell_type": "code",
   "execution_count": 56,
   "source": [
    "from domino.data.celeba import get_celeba_dp"
   ],
   "outputs": [],
   "metadata": {}
  },
  {
   "cell_type": "code",
   "execution_count": 96,
   "source": [
    "sb = CelebASliceBuilder()\n",
    "out = sb.build_rare_setting(\n",
    "    data_dp=get_celeba_dp.out().load(),\n",
    "    target_attrs=[\"wearing_earrings\", \"male\", \"blond_hair\"],\n",
    "    slice_attrs=[\"blond_hair\"],\n",
    "    slice_frac=0.01,\n",
    "    target_frac=0.5,\n",
    "    n=20_000\n",
    ")"
   ],
   "outputs": [],
   "metadata": {}
  },
  {
   "cell_type": "code",
   "execution_count": 99,
   "source": [
    "out[\"wearing_earrings\"].mean()"
   ],
   "outputs": [
    {
     "output_type": "execute_result",
     "data": {
      "text/plain": [
       "0.1394"
      ]
     },
     "metadata": {},
     "execution_count": 99
    }
   ],
   "metadata": {}
  },
  {
   "cell_type": "code",
   "execution_count": 84,
   "source": [
    "np.any(out == 1, axis=0).mean()"
   ],
   "outputs": [
    {
     "output_type": "execute_result",
     "data": {
      "text/plain": [
       "0.7881282730911802"
      ]
     },
     "metadata": {},
     "execution_count": 84
    }
   ],
   "metadata": {}
  },
  {
   "cell_type": "code",
   "execution_count": 73,
   "source": [
    " data_dp=get_celeba_dp.out().load()"
   ],
   "outputs": [],
   "metadata": {}
  },
  {
   "cell_type": "code",
   "execution_count": 85,
   "source": [
    "target_attrs=[\"wearing_earrings\", \"male\", \"blond_hair\"]\n",
    "\n",
    "targets = np.array(\n",
    "            [data_dp[attr] for attr in target_attrs]\n",
    ")\n"
   ],
   "outputs": [],
   "metadata": {}
  },
  {
   "cell_type": "code",
   "execution_count": 100,
   "source": [
    "train_settings.out()"
   ],
   "outputs": [
    {
     "output_type": "error",
     "ename": "NameError",
     "evalue": "name 'train_settings' is not defined",
     "traceback": [
      "\u001b[0;31m---------------------------------------------------------------------------\u001b[0m",
      "\u001b[0;31mNameError\u001b[0m                                 Traceback (most recent call last)",
      "\u001b[0;32m/tmp/ipykernel_2982/4102485765.py\u001b[0m in \u001b[0;36m<module>\u001b[0;34m\u001b[0m\n\u001b[0;32m----> 1\u001b[0;31m \u001b[0mtrain_settings\u001b[0m\u001b[0;34m.\u001b[0m\u001b[0mout\u001b[0m\u001b[0;34m(\u001b[0m\u001b[0;34m)\u001b[0m\u001b[0;34m\u001b[0m\u001b[0;34m\u001b[0m\u001b[0m\n\u001b[0m",
      "\u001b[0;31mNameError\u001b[0m: name 'train_settings' is not defined"
     ]
    }
   ],
   "metadata": {}
  },
  {
   "cell_type": "code",
   "execution_count": 97,
   "source": [
    "from domino.emb.clip import get_wiki_words\n",
    "dp = get_wiki_words(top_k=10_000, eng_only=True).load()\n",
    "(dp[\"word\"] == \"earrings\").any()"
   ],
   "outputs": [
    {
     "output_type": "stream",
     "name": "stdout",
     "text": [
      "task: get_wiki_words, run_id=16792\n"
     ]
    },
    {
     "output_type": "stream",
     "name": "stderr",
     "text": [
      "[nltk_data] Downloading package words to /root/nltk_data...\n",
      "[nltk_data]   Unzipping corpora/words.zip.\n"
     ]
    },
    {
     "output_type": "execute_result",
     "data": {
      "text/plain": [
       "False"
      ]
     },
     "metadata": {},
     "execution_count": 97
    }
   ],
   "metadata": {}
  },
  {
   "cell_type": "code",
   "execution_count": 98,
   "source": [
    "dp"
   ],
   "outputs": [
    {
     "output_type": "execute_result",
     "data": {
      "text/html": [
       "<table border=\"1\" class=\"dataframe\">\n",
       "  <thead>\n",
       "    <tr style=\"text-align: right;\">\n",
       "      <th></th>\n",
       "      <th>word (PandasSeriesColumn)</th>\n",
       "      <th>frequency (PandasSeriesColumn)</th>\n",
       "      <th>index (PandasSeriesColumn)</th>\n",
       "    </tr>\n",
       "  </thead>\n",
       "  <tbody>\n",
       "    <tr>\n",
       "      <th>0</th>\n",
       "      <td>the</td>\n",
       "      <td>151983633.0</td>\n",
       "      <td>0</td>\n",
       "    </tr>\n",
       "    <tr>\n",
       "      <th>1</th>\n",
       "      <td>of</td>\n",
       "      <td>71874676.0</td>\n",
       "      <td>1</td>\n",
       "    </tr>\n",
       "    <tr>\n",
       "      <th>2</th>\n",
       "      <td>and</td>\n",
       "      <td>62210193.0</td>\n",
       "      <td>2</td>\n",
       "    </tr>\n",
       "    <tr>\n",
       "      <th>3</th>\n",
       "      <td>in</td>\n",
       "      <td>62004799.0</td>\n",
       "      <td>3</td>\n",
       "    </tr>\n",
       "    <tr>\n",
       "      <th>4</th>\n",
       "      <td>to</td>\n",
       "      <td>43364193.0</td>\n",
       "      <td>4</td>\n",
       "    </tr>\n",
       "    <tr>\n",
       "      <th>...</th>\n",
       "      <td>...</td>\n",
       "      <td>...</td>\n",
       "      <td>...</td>\n",
       "    </tr>\n",
       "    <tr>\n",
       "      <th>9995</th>\n",
       "      <td>het</td>\n",
       "      <td>5533.0</td>\n",
       "      <td>9995</td>\n",
       "    </tr>\n",
       "    <tr>\n",
       "      <th>9996</th>\n",
       "      <td>cleric</td>\n",
       "      <td>5531.0</td>\n",
       "      <td>9996</td>\n",
       "    </tr>\n",
       "    <tr>\n",
       "      <th>9997</th>\n",
       "      <td>unfavorable</td>\n",
       "      <td>5528.0</td>\n",
       "      <td>9997</td>\n",
       "    </tr>\n",
       "    <tr>\n",
       "      <th>9998</th>\n",
       "      <td>disperse</td>\n",
       "      <td>5528.0</td>\n",
       "      <td>9998</td>\n",
       "    </tr>\n",
       "    <tr>\n",
       "      <th>9999</th>\n",
       "      <td>recurrent</td>\n",
       "      <td>5527.0</td>\n",
       "      <td>9999</td>\n",
       "    </tr>\n",
       "  </tbody>\n",
       "</table>"
      ],
      "text/plain": [
       "DataPanel(nrows: 10000, ncols: 3)"
      ]
     },
     "metadata": {},
     "execution_count": 98
    }
   ],
   "metadata": {}
  },
  {
   "cell_type": "code",
   "execution_count": 104,
   "source": [
    "\"blond\" in dp[\"word\"]"
   ],
   "outputs": [
    {
     "output_type": "execute_result",
     "data": {
      "text/plain": [
       "False"
      ]
     },
     "metadata": {},
     "execution_count": 104
    }
   ],
   "metadata": {}
  },
  {
   "cell_type": "code",
   "execution_count": 5,
   "source": [
    "import nltk\n",
    "nltk.download(\"wordnet\")"
   ],
   "outputs": [
    {
     "output_type": "stream",
     "name": "stderr",
     "text": [
      "[nltk_data] Downloading package wordnet to /root/nltk_data...\n",
      "[nltk_data]   Unzipping corpora/wordnet.zip.\n"
     ]
    },
    {
     "output_type": "execute_result",
     "data": {
      "text/plain": [
       "True"
      ]
     },
     "metadata": {},
     "execution_count": 5
    }
   ],
   "metadata": {}
  },
  {
   "cell_type": "code",
   "execution_count": 3,
   "source": [
    "from nltk.corpus import wordnet as wn\n",
    "nl"
   ],
   "outputs": [],
   "metadata": {}
  },
  {
   "cell_type": "code",
   "execution_count": 71,
   "source": [
    "from transformers import pipeline, set_seed\n",
    "generator = pipeline('text-generation', model='gpt2')\n",
    "set_seed(42)\n",
    "generator(\"A portrait of a person\", max_length=7, num_return_sequences=5)"
   ],
   "outputs": [
    {
     "output_type": "stream",
     "name": "stderr",
     "text": [
      "Setting `pad_token_id` to `eos_token_id`:50256 for open-end generation.\n"
     ]
    },
    {
     "output_type": "execute_result",
     "data": {
      "text/plain": [
       "[{'generated_text': 'A portrait of a person who died'},\n",
       " {'generated_text': \"A portrait of a person's head\"},\n",
       " {'generated_text': 'A portrait of a person holding down'},\n",
       " {'generated_text': 'A portrait of a person who will'},\n",
       " {'generated_text': 'A portrait of a person wearing long'}]"
      ]
     },
     "metadata": {},
     "execution_count": 71
    }
   ],
   "metadata": {}
  },
  {
   "cell_type": "code",
   "execution_count": 17,
   "source": [
    "hypernyms = []\n",
    "for hypernym in synset.closure(lambda s: s.hypernyms()):\n",
    "    hypernyms.append(\n",
    "        {\n",
    "            \"synset\": synset.name(),\n",
    "            \"hypernym\": hypernym.name(),\n",
    "        }\n",
    "    )\n",
    "hypernyms"
   ],
   "outputs": [
    {
     "output_type": "execute_result",
     "data": {
      "text/plain": [
       "[{'synset': 'smile.n.01', 'hypernym': 'facial_expression.n.01'},\n",
       " {'synset': 'smile.n.01', 'hypernym': 'gesture.n.02'},\n",
       " {'synset': 'smile.n.01', 'hypernym': 'visual_communication.n.01'},\n",
       " {'synset': 'smile.n.01', 'hypernym': 'communication.n.02'},\n",
       " {'synset': 'smile.n.01', 'hypernym': 'abstraction.n.06'},\n",
       " {'synset': 'smile.n.01', 'hypernym': 'entity.n.01'}]"
      ]
     },
     "metadata": {},
     "execution_count": 17
    }
   ],
   "metadata": {}
  },
  {
   "cell_type": "code",
   "execution_count": 27,
   "source": [
    "from transformers import pipeline, set_seed"
   ],
   "outputs": [],
   "metadata": {}
  },
  {
   "cell_type": "code",
   "execution_count": 28,
   "source": [
    "unmasker = pipeline('fill-mask', model='xlm-roberta-base')"
   ],
   "outputs": [],
   "metadata": {}
  },
  {
   "cell_type": "code",
   "execution_count": 26,
   "source": [
    "unmasker = pipeline(\"\", max_length=30, num_return_sequences=5)"
   ],
   "outputs": [
    {
     "output_type": "error",
     "ename": "PipelineException",
     "evalue": "No mask_token (<mask>) found on the input",
     "traceback": [
      "\u001b[0;31m---------------------------------------------------------------------------\u001b[0m",
      "\u001b[0;31mPipelineException\u001b[0m                         Traceback (most recent call last)",
      "\u001b[0;32m/tmp/ipykernel_2627/3643021087.py\u001b[0m in \u001b[0;36m<module>\u001b[0;34m\u001b[0m\n\u001b[0;32m----> 1\u001b[0;31m \u001b[0munmasker\u001b[0m \u001b[0;34m=\u001b[0m \u001b[0mpipeline\u001b[0m\u001b[0;34m(\u001b[0m\u001b[0;34m\"\"\u001b[0m\u001b[0;34m,\u001b[0m \u001b[0mmax_length\u001b[0m\u001b[0;34m=\u001b[0m\u001b[0;36m30\u001b[0m\u001b[0;34m,\u001b[0m \u001b[0mnum_return_sequences\u001b[0m\u001b[0;34m=\u001b[0m\u001b[0;36m5\u001b[0m\u001b[0;34m)\u001b[0m\u001b[0;34m\u001b[0m\u001b[0;34m\u001b[0m\u001b[0m\n\u001b[0m",
      "\u001b[0;32m/home/common/envs/conda/envs/domino/lib/python3.8/site-packages/transformers/pipelines/fill_mask.py\u001b[0m in \u001b[0;36m__call__\u001b[0;34m(self, targets, top_k, *args, **kwargs)\u001b[0m\n\u001b[1;32m    160\u001b[0m \u001b[0;34m\u001b[0m\u001b[0m\n\u001b[1;32m    161\u001b[0m                 \u001b[0;31m# Fill mask pipeline supports only one ${mask_token} per sample\u001b[0m\u001b[0;34m\u001b[0m\u001b[0;34m\u001b[0m\u001b[0;34m\u001b[0m\u001b[0m\n\u001b[0;32m--> 162\u001b[0;31m                 \u001b[0mself\u001b[0m\u001b[0;34m.\u001b[0m\u001b[0mensure_exactly_one_mask_token\u001b[0m\u001b[0;34m(\u001b[0m\u001b[0mmasked_index\u001b[0m\u001b[0;34m.\u001b[0m\u001b[0mnumpy\u001b[0m\u001b[0;34m(\u001b[0m\u001b[0;34m)\u001b[0m\u001b[0;34m)\u001b[0m\u001b[0;34m\u001b[0m\u001b[0;34m\u001b[0m\u001b[0m\n\u001b[0m\u001b[1;32m    163\u001b[0m \u001b[0;34m\u001b[0m\u001b[0m\n\u001b[1;32m    164\u001b[0m                 \u001b[0mlogits\u001b[0m \u001b[0;34m=\u001b[0m \u001b[0moutputs\u001b[0m\u001b[0;34m[\u001b[0m\u001b[0mi\u001b[0m\u001b[0;34m,\u001b[0m \u001b[0mmasked_index\u001b[0m\u001b[0;34m.\u001b[0m\u001b[0mitem\u001b[0m\u001b[0;34m(\u001b[0m\u001b[0;34m)\u001b[0m\u001b[0;34m,\u001b[0m \u001b[0;34m:\u001b[0m\u001b[0;34m]\u001b[0m\u001b[0;34m\u001b[0m\u001b[0;34m\u001b[0m\u001b[0m\n",
      "\u001b[0;32m/home/common/envs/conda/envs/domino/lib/python3.8/site-packages/transformers/pipelines/fill_mask.py\u001b[0m in \u001b[0;36mensure_exactly_one_mask_token\u001b[0;34m(self, masked_index)\u001b[0m\n\u001b[1;32m     85\u001b[0m             )\n\u001b[1;32m     86\u001b[0m         \u001b[0;32melif\u001b[0m \u001b[0mnumel\u001b[0m \u001b[0;34m<\u001b[0m \u001b[0;36m1\u001b[0m\u001b[0;34m:\u001b[0m\u001b[0;34m\u001b[0m\u001b[0;34m\u001b[0m\u001b[0m\n\u001b[0;32m---> 87\u001b[0;31m             raise PipelineException(\n\u001b[0m\u001b[1;32m     88\u001b[0m                 \u001b[0;34m\"fill-mask\"\u001b[0m\u001b[0;34m,\u001b[0m\u001b[0;34m\u001b[0m\u001b[0;34m\u001b[0m\u001b[0m\n\u001b[1;32m     89\u001b[0m                 \u001b[0mself\u001b[0m\u001b[0;34m.\u001b[0m\u001b[0mmodel\u001b[0m\u001b[0;34m.\u001b[0m\u001b[0mbase_model_prefix\u001b[0m\u001b[0;34m,\u001b[0m\u001b[0;34m\u001b[0m\u001b[0;34m\u001b[0m\u001b[0m\n",
      "\u001b[0;31mPipelineException\u001b[0m: No mask_token (<mask>) found on the input"
     ]
    }
   ],
   "metadata": {}
  },
  {
   "cell_type": "code",
   "execution_count": null,
   "source": [],
   "outputs": [],
   "metadata": {}
  },
  {
   "cell_type": "code",
   "execution_count": 41,
   "source": [
    "unmasker(f\"A photo of a person .\")"
   ],
   "outputs": [
    {
     "output_type": "execute_result",
     "data": {
      "text/plain": [
       "[{'sequence': 'A photo of a person, smiling.',\n",
       "  'score': 0.40710172057151794,\n",
       "  'token': 4,\n",
       "  'token_str': ','},\n",
       " {'sequence': 'A photo of a person while smiling.',\n",
       "  'score': 0.08363543450832367,\n",
       "  'token': 12960,\n",
       "  'token_str': 'while'},\n",
       " {'sequence': 'A photo of a person still smiling.',\n",
       "  'score': 0.0663875937461853,\n",
       "  'token': 7464,\n",
       "  'token_str': 'still'},\n",
       " {'sequence': 'A photo of a person not smiling.',\n",
       "  'score': 0.025921307504177094,\n",
       "  'token': 959,\n",
       "  'token_str': 'not'},\n",
       " {'sequence': 'A photo of a person is smiling.',\n",
       "  'score': 0.0218026302754879,\n",
       "  'token': 83,\n",
       "  'token_str': 'is'}]"
      ]
     },
     "metadata": {},
     "execution_count": 41
    }
   ],
   "metadata": {}
  },
  {
   "cell_type": "code",
   "execution_count": 3,
   "source": [
    "templates = [\n",
    "    \"a photo of a person {}\",\n",
    "    \"a photo of a person {} [MASK]\",\n",
    "    \"a photo of a person {} [MASK] [MASK]\",\n",
    "    \"a photo of a person [MASK] {}\",\n",
    "    \"a photo of a person [MASK] {} [MASK]\",\n",
    "    \"a photo of a person [MASK] {} [MASK][MASK]\",\n",
    "    \"a photo of a person [MASK] [MASK] {}\",\n",
    "    \"a photo of a person [MASK] [MASK] {} [MASK]\",\n",
    "    \"a photo of a person [MASK] [MASK] {} [MASK] [MASK]\",\n",
    "]"
   ],
   "outputs": [],
   "metadata": {}
  },
  {
   "cell_type": "code",
   "execution_count": 68,
   "source": [
    "import torch\n",
    "from transformers import BertTokenizer, BertModel,BertForMaskedLM\n",
    " \n",
    "tokenizer = BertTokenizer.from_pretrained('bert-large-cased')\n",
    "\n",
    "word = \"smiling\"\n",
    "input_txt = [template.format(word) for template in templates]\n",
    "\n",
    "inputs = tokenizer(input_txt, return_tensors='pt', padding=True).to(0)\n",
    "\n",
    "\n",
    "model = BertForMaskedLM.from_pretrained('bert-large-cased').to(0)\n",
    "\n",
    "outputs = model(**inputs)\n",
    "predictions = outputs\n",
    "# sorted_preds, sorted_idx = predictions[0].sort(dim=-1, descending=True)\n",
    "# for k in range(10):\n",
    "#     predicted_index = [sorted_idx[i, k if inputs[\"input_ids\"][1, i] == 103 else 0].item() for i in range(0, inputs[\"input_ids\"].shape[-1])]\n",
    "#     predicted_token = [tokenizer.convert_ids_to_tokens([predicted_index[x]])[0] for x in range(1,inputs[\"input_ids\"].shape[-1])]\n",
    "#     print(predicted_token)"
   ],
   "outputs": [
    {
     "output_type": "display_data",
     "data": {
      "application/vnd.jupyter.widget-view+json": {
       "version_major": 2,
       "version_minor": 0,
       "model_id": "d54956d486e2430ab3bd2d770fe1045b"
      },
      "text/plain": [
       "HBox(children=(FloatProgress(value=0.0, description='Downloading', max=213450.0, style=ProgressStyle(descripti…"
      ]
     },
     "metadata": {}
    },
    {
     "output_type": "stream",
     "name": "stdout",
     "text": [
      "\n"
     ]
    },
    {
     "output_type": "display_data",
     "data": {
      "application/vnd.jupyter.widget-view+json": {
       "version_major": 2,
       "version_minor": 0,
       "model_id": "676b3317c3b84dd2b16070faf476bd72"
      },
      "text/plain": [
       "HBox(children=(FloatProgress(value=0.0, description='Downloading', max=29.0, style=ProgressStyle(description_w…"
      ]
     },
     "metadata": {}
    },
    {
     "output_type": "stream",
     "name": "stdout",
     "text": [
      "\n"
     ]
    },
    {
     "output_type": "display_data",
     "data": {
      "application/vnd.jupyter.widget-view+json": {
       "version_major": 2,
       "version_minor": 0,
       "model_id": "643e4de3e3104ea6b416f8a9b80bc9c6"
      },
      "text/plain": [
       "HBox(children=(FloatProgress(value=0.0, description='Downloading', max=435797.0, style=ProgressStyle(descripti…"
      ]
     },
     "metadata": {}
    },
    {
     "output_type": "stream",
     "name": "stdout",
     "text": [
      "\n"
     ]
    },
    {
     "output_type": "display_data",
     "data": {
      "application/vnd.jupyter.widget-view+json": {
       "version_major": 2,
       "version_minor": 0,
       "model_id": "e6d5f67a48744bd59bb8ff247e99c686"
      },
      "text/plain": [
       "HBox(children=(FloatProgress(value=0.0, description='Downloading', max=762.0, style=ProgressStyle(description_…"
      ]
     },
     "metadata": {}
    },
    {
     "output_type": "stream",
     "name": "stdout",
     "text": [
      "\n"
     ]
    },
    {
     "output_type": "display_data",
     "data": {
      "application/vnd.jupyter.widget-view+json": {
       "version_major": 2,
       "version_minor": 0,
       "model_id": "564419083b6143dea3ab6d78031fff75"
      },
      "text/plain": [
       "HBox(children=(FloatProgress(value=0.0, description='Downloading', max=1338740706.0, style=ProgressStyle(descr…"
      ]
     },
     "metadata": {}
    },
    {
     "output_type": "stream",
     "name": "stdout",
     "text": [
      "\n"
     ]
    },
    {
     "output_type": "stream",
     "name": "stderr",
     "text": [
      "Some weights of the model checkpoint at bert-large-cased were not used when initializing BertForMaskedLM: ['cls.seq_relationship.weight', 'cls.seq_relationship.bias']\n",
      "- This IS expected if you are initializing BertForMaskedLM from the checkpoint of a model trained on another task or with another architecture (e.g. initializing a BertForSequenceClassification model from a BertForPreTraining model).\n",
      "- This IS NOT expected if you are initializing BertForMaskedLM from the checkpoint of a model that you expect to be exactly identical (initializing a BertForSequenceClassification model from a BertForSequenceClassification model).\n"
     ]
    }
   ],
   "metadata": {}
  },
  {
   "cell_type": "code",
   "execution_count": 54,
   "source": [
    "sorted_preds, sorted_ids = predictions.logits.sort(dim=-1, descending=True)"
   ],
   "outputs": [],
   "metadata": {}
  },
  {
   "cell_type": "code",
   "execution_count": 62,
   "source": [
    "sorted_preds.shape"
   ],
   "outputs": [
    {
     "output_type": "execute_result",
     "data": {
      "text/plain": [
       "torch.Size([9, 12, 28996])"
      ]
     },
     "metadata": {},
     "execution_count": 62
    }
   ],
   "metadata": {}
  },
  {
   "cell_type": "code",
   "execution_count": 66,
   "source": [
    "input_ids = inputs[\"input_ids\"]\n",
    "for rank in range(10):\n",
    "    curr_ids = sorted_ids[:, :, rank]\n",
    "    curr_ids[input_ids != 103] = input_ids[input_ids != 103]\n",
    "    for sent_idx in range(sorted_ids.shape[0]):\n",
    "\n",
    "        candidate_df.append(\n",
    "            {\n",
    "                \"text\": tokenizer.decode(\n",
    "                    sorted_ids[sent_idx, :, rank], skip_special_tokens=True\n",
    "                ),\n",
    "                \"prob\": sorted_preds[sent_idx, :, rank].mean().cpu().detach().numpy(),\n",
    "            }\n",
    "        )\n",
    "candidate_df = pd.DataFrame(candidate_df)"
   ],
   "outputs": [],
   "metadata": {}
  },
  {
   "cell_type": "code",
   "execution_count": 67,
   "source": [
    "candidate_df.sort_values(\"prob\")"
   ],
   "outputs": [
    {
     "output_type": "execute_result",
     "data": {
      "text/html": [
       "<div>\n",
       "<style scoped>\n",
       "    .dataframe tbody tr th:only-of-type {\n",
       "        vertical-align: middle;\n",
       "    }\n",
       "\n",
       "    .dataframe tbody tr th {\n",
       "        vertical-align: top;\n",
       "    }\n",
       "\n",
       "    .dataframe thead th {\n",
       "        text-align: right;\n",
       "    }\n",
       "</style>\n",
       "<table border=\"1\" class=\"dataframe\">\n",
       "  <thead>\n",
       "    <tr style=\"text-align: right;\">\n",
       "      <th></th>\n",
       "      <th>text</th>\n",
       "      <th>prob</th>\n",
       "    </tr>\n",
       "  </thead>\n",
       "  <tbody>\n",
       "    <tr>\n",
       "      <th>89</th>\n",
       "      <td>a photo of a person - ; smiling widely and</td>\n",
       "      <td>7.0040717</td>\n",
       "    </tr>\n",
       "    <tr>\n",
       "      <th>86</th>\n",
       "      <td>a photo of a person standing smiling now and</td>\n",
       "      <td>7.0434494</td>\n",
       "    </tr>\n",
       "    <tr>\n",
       "      <th>88</th>\n",
       "      <td>a photo of a person with while smiling -</td>\n",
       "      <td>7.0881395</td>\n",
       "    </tr>\n",
       "    <tr>\n",
       "      <th>87</th>\n",
       "      <td>a photo of a person crying - smiling</td>\n",
       "      <td>7.1516395</td>\n",
       "    </tr>\n",
       "    <tr>\n",
       "      <th>80</th>\n",
       "      <td>a photo of a person'- smiling eyes \"</td>\n",
       "      <td>7.2351427</td>\n",
       "    </tr>\n",
       "    <tr>\n",
       "      <th>...</th>\n",
       "      <td>...</td>\n",
       "      <td>...</td>\n",
       "    </tr>\n",
       "    <tr>\n",
       "      <th>7</th>\n",
       "      <td>a photo of a person, and smiling.</td>\n",
       "      <td>14.271441</td>\n",
       "    </tr>\n",
       "    <tr>\n",
       "      <th>4</th>\n",
       "      <td>a photo of a person, smiling ;</td>\n",
       "      <td>14.699389</td>\n",
       "    </tr>\n",
       "    <tr>\n",
       "      <th>2</th>\n",
       "      <td>a photo of a person smiling broadly ;</td>\n",
       "      <td>14.843798</td>\n",
       "    </tr>\n",
       "    <tr>\n",
       "      <th>0</th>\n",
       "      <td>a photo of a person smiling</td>\n",
       "      <td>15.80104</td>\n",
       "    </tr>\n",
       "    <tr>\n",
       "      <th>1</th>\n",
       "      <td>a photo of a person smiling ;</td>\n",
       "      <td>16.979643</td>\n",
       "    </tr>\n",
       "  </tbody>\n",
       "</table>\n",
       "<p>90 rows × 2 columns</p>\n",
       "</div>"
      ],
      "text/plain": [
       "                                            text       prob\n",
       "89    a photo of a person - ; smiling widely and  7.0040717\n",
       "86  a photo of a person standing smiling now and  7.0434494\n",
       "88      a photo of a person with while smiling -  7.0881395\n",
       "87          a photo of a person crying - smiling  7.1516395\n",
       "80          a photo of a person'- smiling eyes \"  7.2351427\n",
       "..                                           ...        ...\n",
       "7              a photo of a person, and smiling.  14.271441\n",
       "4                 a photo of a person, smiling ;  14.699389\n",
       "2          a photo of a person smiling broadly ;  14.843798\n",
       "0                    a photo of a person smiling   15.80104\n",
       "1                  a photo of a person smiling ;  16.979643\n",
       "\n",
       "[90 rows x 2 columns]"
      ]
     },
     "metadata": {},
     "execution_count": 67
    }
   ],
   "metadata": {}
  },
  {
   "cell_type": "code",
   "execution_count": 56,
   "source": [
    "import pandas as pd\n",
    "from transformers import GPT2LMHeadModel, GPT2Tokenizer\n",
    "import numpy as np \n",
    "\n",
    "gpt_model = GPT2LMHeadModel.from_pretrained('gpt2').to(0)\n",
    "gpt_tokenizer = GPT2Tokenizer.from_pretrained('gpt2')\n",
    "\n",
    "scores = []\n",
    "for text in sents:\n",
    "    tokens_tensor = gpt_tokenizer.encode( text, add_special_tokens=False, return_tensors=\"pt\").to(0) \n",
    "    loss=gpt_model(tokens_tensor, labels=tokens_tensor)[0]\n",
    "    scores.append( \n",
    "        {\"prob\": np.exp(loss.cpu().detach().numpy()), \"text\": text}       \n",
    "    )\n",
    "dp = pd.DataFrame(scores)"
   ],
   "outputs": [],
   "metadata": {}
  },
  {
   "cell_type": "code",
   "execution_count": 57,
   "source": [
    "dp.sort_values(\"prob\")"
   ],
   "outputs": [
    {
     "output_type": "execute_result",
     "data": {
      "text/html": [
       "<div>\n",
       "<style scoped>\n",
       "    .dataframe tbody tr th:only-of-type {\n",
       "        vertical-align: middle;\n",
       "    }\n",
       "\n",
       "    .dataframe tbody tr th {\n",
       "        vertical-align: top;\n",
       "    }\n",
       "\n",
       "    .dataframe thead th {\n",
       "        text-align: right;\n",
       "    }\n",
       "</style>\n",
       "<table border=\"1\" class=\"dataframe\">\n",
       "  <thead>\n",
       "    <tr style=\"text-align: right;\">\n",
       "      <th></th>\n",
       "      <th>prob</th>\n",
       "      <th>text</th>\n",
       "    </tr>\n",
       "  </thead>\n",
       "  <tbody>\n",
       "    <tr>\n",
       "      <th>6</th>\n",
       "      <td>86.902687</td>\n",
       "      <td>a photo of a person sitting and smiling</td>\n",
       "    </tr>\n",
       "    <tr>\n",
       "      <th>10</th>\n",
       "      <td>87.852638</td>\n",
       "      <td>a photo of a person smiling.</td>\n",
       "    </tr>\n",
       "    <tr>\n",
       "      <th>55</th>\n",
       "      <td>88.414558</td>\n",
       "      <td>a photo of a person smiling and</td>\n",
       "    </tr>\n",
       "    <tr>\n",
       "      <th>15</th>\n",
       "      <td>88.646149</td>\n",
       "      <td>a photo of a person standing, smiling</td>\n",
       "    </tr>\n",
       "    <tr>\n",
       "      <th>24</th>\n",
       "      <td>92.471436</td>\n",
       "      <td>a photo of a person smiling or smiling</td>\n",
       "    </tr>\n",
       "    <tr>\n",
       "      <th>...</th>\n",
       "      <td>...</td>\n",
       "      <td>...</td>\n",
       "    </tr>\n",
       "    <tr>\n",
       "      <th>41</th>\n",
       "      <td>735.416260</td>\n",
       "      <td>a photo of a person \" smiling brightly...</td>\n",
       "    </tr>\n",
       "    <tr>\n",
       "      <th>70</th>\n",
       "      <td>774.525269</td>\n",
       "      <td>a photo of a person - / smiling :</td>\n",
       "    </tr>\n",
       "    <tr>\n",
       "      <th>69</th>\n",
       "      <td>852.903381</td>\n",
       "      <td>a photo of a person and ; smiling</td>\n",
       "    </tr>\n",
       "    <tr>\n",
       "      <th>59</th>\n",
       "      <td>915.673279</td>\n",
       "      <td>a photo of a person in smiling happily |</td>\n",
       "    </tr>\n",
       "    <tr>\n",
       "      <th>80</th>\n",
       "      <td>1379.007568</td>\n",
       "      <td>a photo of a person'- smiling eyes \"</td>\n",
       "    </tr>\n",
       "  </tbody>\n",
       "</table>\n",
       "<p>90 rows × 2 columns</p>\n",
       "</div>"
      ],
      "text/plain": [
       "           prob                                       text\n",
       "6     86.902687    a photo of a person sitting and smiling\n",
       "10    87.852638               a photo of a person smiling.\n",
       "55    88.414558            a photo of a person smiling and\n",
       "15    88.646149      a photo of a person standing, smiling\n",
       "24    92.471436     a photo of a person smiling or smiling\n",
       "..          ...                                        ...\n",
       "41   735.416260  a photo of a person \" smiling brightly...\n",
       "70   774.525269          a photo of a person - / smiling :\n",
       "69   852.903381          a photo of a person and ; smiling\n",
       "59   915.673279   a photo of a person in smiling happily |\n",
       "80  1379.007568       a photo of a person'- smiling eyes \"\n",
       "\n",
       "[90 rows x 2 columns]"
      ]
     },
     "metadata": {},
     "execution_count": 57
    }
   ],
   "metadata": {}
  },
  {
   "cell_type": "code",
   "execution_count": 3,
   "source": [
    "from domino.emb.clip import get_wiki_words\n",
    "#dp = get_wiki_words(top_k=25_000, eng_only=True).load()\n",
    "dp = get_wiki_words.out().load()"
   ],
   "outputs": [],
   "metadata": {}
  },
  {
   "cell_type": "code",
   "execution_count": 4,
   "source": [
    "from domino.emb.clip import generate_phrases\n",
    "from domino.data.celeba import PHRASE_TEMPLATES"
   ],
   "outputs": [],
   "metadata": {}
  },
  {
   "cell_type": "code",
   "execution_count": 5,
   "source": [
    "phrase_dp = generate_phrases(dp[100:300], templates=PHRASE_TEMPLATES)"
   ],
   "outputs": [
    {
     "output_type": "display_data",
     "data": {
      "application/vnd.jupyter.widget-view+json": {
       "version_major": 2,
       "version_minor": 0,
       "model_id": "b530a98b64ec4b57aaed6f84b8c58a8e"
      },
      "text/plain": [
       "HBox(children=(FloatProgress(value=0.0, description='Downloading', max=231508.0, style=ProgressStyle(descripti…"
      ]
     },
     "metadata": {}
    },
    {
     "output_type": "stream",
     "name": "stdout",
     "text": [
      "\n"
     ]
    },
    {
     "output_type": "display_data",
     "data": {
      "application/vnd.jupyter.widget-view+json": {
       "version_major": 2,
       "version_minor": 0,
       "model_id": "b552b7d31d144415808b7bc87f27a614"
      },
      "text/plain": [
       "HBox(children=(FloatProgress(value=0.0, description='Downloading', max=28.0, style=ProgressStyle(description_w…"
      ]
     },
     "metadata": {}
    },
    {
     "output_type": "stream",
     "name": "stdout",
     "text": [
      "\n"
     ]
    },
    {
     "output_type": "display_data",
     "data": {
      "application/vnd.jupyter.widget-view+json": {
       "version_major": 2,
       "version_minor": 0,
       "model_id": "396ce0cef8d9439bb4fa2ea1091aa9b5"
      },
      "text/plain": [
       "HBox(children=(FloatProgress(value=0.0, description='Downloading', max=466062.0, style=ProgressStyle(descripti…"
      ]
     },
     "metadata": {}
    },
    {
     "output_type": "stream",
     "name": "stdout",
     "text": [
      "\n"
     ]
    },
    {
     "output_type": "display_data",
     "data": {
      "application/vnd.jupyter.widget-view+json": {
       "version_major": 2,
       "version_minor": 0,
       "model_id": "cc99f9f9b5904ed8904b2a93fc2cd6fc"
      },
      "text/plain": [
       "HBox(children=(FloatProgress(value=0.0, description='Downloading', max=571.0, style=ProgressStyle(description_…"
      ]
     },
     "metadata": {}
    },
    {
     "output_type": "stream",
     "name": "stdout",
     "text": [
      "\n"
     ]
    },
    {
     "output_type": "display_data",
     "data": {
      "application/vnd.jupyter.widget-view+json": {
       "version_major": 2,
       "version_minor": 0,
       "model_id": "5595b2ed7e134cbea201d1a901c73c98"
      },
      "text/plain": [
       "HBox(children=(FloatProgress(value=0.0, description='Downloading', max=1344997306.0, style=ProgressStyle(descr…"
      ]
     },
     "metadata": {}
    },
    {
     "output_type": "stream",
     "name": "stdout",
     "text": [
      "\n"
     ]
    },
    {
     "output_type": "stream",
     "name": "stderr",
     "text": [
      "Some weights of the model checkpoint at bert-large-uncased were not used when initializing BertForMaskedLM: ['cls.seq_relationship.weight', 'cls.seq_relationship.bias']\n",
      "- This IS expected if you are initializing BertForMaskedLM from the checkpoint of a model trained on another task or with another architecture (e.g. initializing a BertForSequenceClassification model from a BertForPreTraining model).\n",
      "- This IS NOT expected if you are initializing BertForMaskedLM from the checkpoint of a model that you expect to be exactly identical (initializing a BertForSequenceClassification model from a BertForSequenceClassification model).\n"
     ]
    },
    {
     "output_type": "display_data",
     "data": {
      "application/vnd.jupyter.widget-view+json": {
       "version_major": 2,
       "version_minor": 0,
       "model_id": "c12351d397c1442b9a53873ebd340cfe"
      },
      "text/plain": [
       "HBox(children=(FloatProgress(value=0.0, max=2.0), HTML(value='')))"
      ]
     },
     "metadata": {}
    },
    {
     "output_type": "stream",
     "name": "stdout",
     "text": [
      "\n"
     ]
    },
    {
     "output_type": "error",
     "ename": "RuntimeError",
     "evalue": "CUDA out of memory. Tried to allocate 54.00 MiB (GPU 0; 14.76 GiB total capacity; 13.66 GiB already allocated; 5.75 MiB free; 13.72 GiB reserved in total by PyTorch)",
     "traceback": [
      "\u001b[0;31m---------------------------------------------------------------------------\u001b[0m",
      "\u001b[0;31mRuntimeError\u001b[0m                              Traceback (most recent call last)",
      "\u001b[0;32m/tmp/ipykernel_1969/2995374736.py\u001b[0m in \u001b[0;36m<module>\u001b[0;34m\u001b[0m\n\u001b[0;32m----> 1\u001b[0;31m \u001b[0mphrase_dp\u001b[0m \u001b[0;34m=\u001b[0m \u001b[0mgenerate_phrases\u001b[0m\u001b[0;34m(\u001b[0m\u001b[0mdp\u001b[0m\u001b[0;34m[\u001b[0m\u001b[0;36m100\u001b[0m\u001b[0;34m:\u001b[0m\u001b[0;36m300\u001b[0m\u001b[0;34m]\u001b[0m\u001b[0;34m,\u001b[0m \u001b[0mtemplates\u001b[0m\u001b[0;34m=\u001b[0m\u001b[0mPHRASE_TEMPLATES\u001b[0m\u001b[0;34m)\u001b[0m\u001b[0;34m\u001b[0m\u001b[0;34m\u001b[0m\u001b[0m\n\u001b[0m",
      "\u001b[0;32m/home/sabri/code/domino/domino/emb/clip.py\u001b[0m in \u001b[0;36mgenerate_phrases\u001b[0;34m(word_dp, templates, device)\u001b[0m\n\u001b[1;32m    190\u001b[0m         \u001b[0;32mreturn\u001b[0m \u001b[0;34m{\u001b[0m\u001b[0;34m\"prob\"\u001b[0m\u001b[0;34m:\u001b[0m \u001b[0mprobs\u001b[0m\u001b[0;34m,\u001b[0m \u001b[0;34m\"output_phrase\"\u001b[0m\u001b[0;34m:\u001b[0m \u001b[0moutput_phrases\u001b[0m\u001b[0;34m}\u001b[0m\u001b[0;34m\u001b[0m\u001b[0;34m\u001b[0m\u001b[0m\n\u001b[1;32m    191\u001b[0m \u001b[0;34m\u001b[0m\u001b[0m\n\u001b[0;32m--> 192\u001b[0;31m     \u001b[0;32mreturn\u001b[0m \u001b[0mword_dp\u001b[0m\u001b[0;34m[\u001b[0m\u001b[0;34m\"word\"\u001b[0m\u001b[0;34m]\u001b[0m\u001b[0;34m.\u001b[0m\u001b[0mmap\u001b[0m\u001b[0;34m(\u001b[0m\u001b[0m_forward\u001b[0m\u001b[0;34m,\u001b[0m \u001b[0mis_batched_fn\u001b[0m\u001b[0;34m=\u001b[0m\u001b[0;32mTrue\u001b[0m\u001b[0;34m,\u001b[0m \u001b[0mbatch_size\u001b[0m\u001b[0;34m=\u001b[0m\u001b[0;36m128\u001b[0m\u001b[0;34m,\u001b[0m \u001b[0mpbar\u001b[0m\u001b[0;34m=\u001b[0m\u001b[0;32mTrue\u001b[0m\u001b[0;34m)\u001b[0m\u001b[0;34m\u001b[0m\u001b[0;34m\u001b[0m\u001b[0m\n\u001b[0m",
      "\u001b[0;32m/home/sabri/code/meerkat/meerkat/provenance.py\u001b[0m in \u001b[0;36m_wrapper\u001b[0;34m(*args, **kwargs)\u001b[0m\n\u001b[1;32m    203\u001b[0m         \u001b[0;32mdef\u001b[0m \u001b[0m_wrapper\u001b[0m\u001b[0;34m(\u001b[0m\u001b[0;34m*\u001b[0m\u001b[0margs\u001b[0m\u001b[0;34m,\u001b[0m \u001b[0;34m**\u001b[0m\u001b[0mkwargs\u001b[0m\u001b[0;34m)\u001b[0m\u001b[0;34m:\u001b[0m\u001b[0;34m\u001b[0m\u001b[0;34m\u001b[0m\u001b[0m\n\u001b[1;32m    204\u001b[0m             \u001b[0;32mif\u001b[0m \u001b[0;32mnot\u001b[0m \u001b[0mis_provenance_enabled\u001b[0m\u001b[0;34m(\u001b[0m\u001b[0;34m)\u001b[0m\u001b[0;34m:\u001b[0m\u001b[0;34m\u001b[0m\u001b[0;34m\u001b[0m\u001b[0m\n\u001b[0;32m--> 205\u001b[0;31m                 \u001b[0;32mreturn\u001b[0m \u001b[0mfn\u001b[0m\u001b[0;34m(\u001b[0m\u001b[0;34m*\u001b[0m\u001b[0margs\u001b[0m\u001b[0;34m,\u001b[0m \u001b[0;34m**\u001b[0m\u001b[0mkwargs\u001b[0m\u001b[0;34m)\u001b[0m\u001b[0;34m\u001b[0m\u001b[0;34m\u001b[0m\u001b[0m\n\u001b[0m\u001b[1;32m    206\u001b[0m             \u001b[0margs_dict\u001b[0m \u001b[0;34m=\u001b[0m \u001b[0mgetcallargs\u001b[0m\u001b[0;34m(\u001b[0m\u001b[0mfn\u001b[0m\u001b[0;34m,\u001b[0m \u001b[0;34m*\u001b[0m\u001b[0margs\u001b[0m\u001b[0;34m,\u001b[0m \u001b[0;34m**\u001b[0m\u001b[0mkwargs\u001b[0m\u001b[0;34m)\u001b[0m\u001b[0;34m\u001b[0m\u001b[0;34m\u001b[0m\u001b[0m\n\u001b[1;32m    207\u001b[0m             \u001b[0;32mif\u001b[0m \u001b[0;34m\"kwargs\"\u001b[0m \u001b[0;32min\u001b[0m \u001b[0margs_dict\u001b[0m\u001b[0;34m:\u001b[0m\u001b[0;34m\u001b[0m\u001b[0;34m\u001b[0m\u001b[0m\n",
      "\u001b[0;32m/home/sabri/code/meerkat/meerkat/mixins/mapping.py\u001b[0m in \u001b[0;36mmap\u001b[0;34m(self, function, with_indices, is_batched_fn, batch_size, drop_last_batch, num_workers, output_type, materialize, pbar, mmap, mmap_path, flush_size, **kwargs)\u001b[0m\n\u001b[1;32m     73\u001b[0m             \u001b[0;32mif\u001b[0m \u001b[0mi\u001b[0m \u001b[0;34m==\u001b[0m \u001b[0;36m0\u001b[0m\u001b[0;34m:\u001b[0m\u001b[0;34m\u001b[0m\u001b[0;34m\u001b[0m\u001b[0m\n\u001b[1;32m     74\u001b[0m                 \u001b[0;31m# Get some information about the function\u001b[0m\u001b[0;34m\u001b[0m\u001b[0;34m\u001b[0m\u001b[0;34m\u001b[0m\u001b[0m\n\u001b[0;32m---> 75\u001b[0;31m                 function_properties = self._inspect_function(\n\u001b[0m\u001b[1;32m     76\u001b[0m                     \u001b[0mfunction\u001b[0m\u001b[0;34m,\u001b[0m\u001b[0;34m\u001b[0m\u001b[0;34m\u001b[0m\u001b[0m\n\u001b[1;32m     77\u001b[0m                     \u001b[0mwith_indices\u001b[0m\u001b[0;34m,\u001b[0m\u001b[0;34m\u001b[0m\u001b[0;34m\u001b[0m\u001b[0m\n",
      "\u001b[0;32m/home/sabri/code/meerkat/meerkat/mixins/inspect_fn.py\u001b[0m in \u001b[0;36m_inspect_function\u001b[0;34m(self, function, with_indices, is_batched_fn, data, indices, materialize, **kwargs)\u001b[0m\n\u001b[1;32m     50\u001b[0m             \u001b[0moutput\u001b[0m \u001b[0;34m=\u001b[0m \u001b[0mfunction\u001b[0m\u001b[0;34m(\u001b[0m\u001b[0mdata\u001b[0m\u001b[0;34m,\u001b[0m \u001b[0mindices\u001b[0m\u001b[0;34m,\u001b[0m \u001b[0;34m**\u001b[0m\u001b[0mkwargs\u001b[0m\u001b[0;34m)\u001b[0m\u001b[0;34m\u001b[0m\u001b[0;34m\u001b[0m\u001b[0m\n\u001b[1;32m     51\u001b[0m         \u001b[0;32melse\u001b[0m\u001b[0;34m:\u001b[0m\u001b[0;34m\u001b[0m\u001b[0;34m\u001b[0m\u001b[0m\n\u001b[0;32m---> 52\u001b[0;31m             \u001b[0moutput\u001b[0m \u001b[0;34m=\u001b[0m \u001b[0mfunction\u001b[0m\u001b[0;34m(\u001b[0m\u001b[0mdata\u001b[0m\u001b[0;34m,\u001b[0m \u001b[0;34m**\u001b[0m\u001b[0mkwargs\u001b[0m\u001b[0;34m)\u001b[0m\u001b[0;34m\u001b[0m\u001b[0;34m\u001b[0m\u001b[0m\n\u001b[0m\u001b[1;32m     53\u001b[0m \u001b[0;34m\u001b[0m\u001b[0m\n\u001b[1;32m     54\u001b[0m         \u001b[0;31m# lazy import to avoid circular dependency\u001b[0m\u001b[0;34m\u001b[0m\u001b[0;34m\u001b[0m\u001b[0;34m\u001b[0m\u001b[0m\n",
      "\u001b[0;32m/home/sabri/code/domino/domino/emb/clip.py\u001b[0m in \u001b[0;36m_forward\u001b[0;34m(words)\u001b[0m\n\u001b[1;32m    172\u001b[0m         \u001b[0minputs\u001b[0m \u001b[0;34m=\u001b[0m \u001b[0mtokenizer\u001b[0m\u001b[0;34m(\u001b[0m\u001b[0minput_phrases\u001b[0m\u001b[0;34m,\u001b[0m \u001b[0mreturn_tensors\u001b[0m\u001b[0;34m=\u001b[0m\u001b[0;34m\"pt\"\u001b[0m\u001b[0;34m,\u001b[0m \u001b[0mpadding\u001b[0m\u001b[0;34m=\u001b[0m\u001b[0;32mTrue\u001b[0m\u001b[0;34m)\u001b[0m\u001b[0;34m.\u001b[0m\u001b[0mto\u001b[0m\u001b[0;34m(\u001b[0m\u001b[0mdevice\u001b[0m\u001b[0;34m)\u001b[0m\u001b[0;34m\u001b[0m\u001b[0;34m\u001b[0m\u001b[0m\n\u001b[1;32m    173\u001b[0m         \u001b[0minput_ids\u001b[0m \u001b[0;34m=\u001b[0m \u001b[0minputs\u001b[0m\u001b[0;34m[\u001b[0m\u001b[0;34m\"input_ids\"\u001b[0m\u001b[0;34m]\u001b[0m\u001b[0;34m\u001b[0m\u001b[0;34m\u001b[0m\u001b[0m\n\u001b[0;32m--> 174\u001b[0;31m         \u001b[0moutputs\u001b[0m \u001b[0;34m=\u001b[0m \u001b[0mmodel\u001b[0m\u001b[0;34m(\u001b[0m\u001b[0;34m**\u001b[0m\u001b[0minputs\u001b[0m\u001b[0;34m)\u001b[0m\u001b[0;34m\u001b[0m\u001b[0;34m\u001b[0m\u001b[0m\n\u001b[0m\u001b[1;32m    175\u001b[0m         \u001b[0msorted_preds\u001b[0m\u001b[0;34m,\u001b[0m \u001b[0msorted_ids\u001b[0m \u001b[0;34m=\u001b[0m \u001b[0moutputs\u001b[0m\u001b[0;34m.\u001b[0m\u001b[0mlogits\u001b[0m\u001b[0;34m.\u001b[0m\u001b[0msort\u001b[0m\u001b[0;34m(\u001b[0m\u001b[0mdim\u001b[0m\u001b[0;34m=\u001b[0m\u001b[0;34m-\u001b[0m\u001b[0;36m1\u001b[0m\u001b[0;34m,\u001b[0m \u001b[0mdescending\u001b[0m\u001b[0;34m=\u001b[0m\u001b[0;32mTrue\u001b[0m\u001b[0;34m)\u001b[0m\u001b[0;34m\u001b[0m\u001b[0;34m\u001b[0m\u001b[0m\n\u001b[1;32m    176\u001b[0m \u001b[0;34m\u001b[0m\u001b[0m\n",
      "\u001b[0;32m/home/common/envs/conda/envs/domino/lib/python3.8/site-packages/torch/nn/modules/module.py\u001b[0m in \u001b[0;36m_call_impl\u001b[0;34m(self, *input, **kwargs)\u001b[0m\n\u001b[1;32m    887\u001b[0m             \u001b[0mresult\u001b[0m \u001b[0;34m=\u001b[0m \u001b[0mself\u001b[0m\u001b[0;34m.\u001b[0m\u001b[0m_slow_forward\u001b[0m\u001b[0;34m(\u001b[0m\u001b[0;34m*\u001b[0m\u001b[0minput\u001b[0m\u001b[0;34m,\u001b[0m \u001b[0;34m**\u001b[0m\u001b[0mkwargs\u001b[0m\u001b[0;34m)\u001b[0m\u001b[0;34m\u001b[0m\u001b[0;34m\u001b[0m\u001b[0m\n\u001b[1;32m    888\u001b[0m         \u001b[0;32melse\u001b[0m\u001b[0;34m:\u001b[0m\u001b[0;34m\u001b[0m\u001b[0;34m\u001b[0m\u001b[0m\n\u001b[0;32m--> 889\u001b[0;31m             \u001b[0mresult\u001b[0m \u001b[0;34m=\u001b[0m \u001b[0mself\u001b[0m\u001b[0;34m.\u001b[0m\u001b[0mforward\u001b[0m\u001b[0;34m(\u001b[0m\u001b[0;34m*\u001b[0m\u001b[0minput\u001b[0m\u001b[0;34m,\u001b[0m \u001b[0;34m**\u001b[0m\u001b[0mkwargs\u001b[0m\u001b[0;34m)\u001b[0m\u001b[0;34m\u001b[0m\u001b[0;34m\u001b[0m\u001b[0m\n\u001b[0m\u001b[1;32m    890\u001b[0m         for hook in itertools.chain(\n\u001b[1;32m    891\u001b[0m                 \u001b[0m_global_forward_hooks\u001b[0m\u001b[0;34m.\u001b[0m\u001b[0mvalues\u001b[0m\u001b[0;34m(\u001b[0m\u001b[0;34m)\u001b[0m\u001b[0;34m,\u001b[0m\u001b[0;34m\u001b[0m\u001b[0;34m\u001b[0m\u001b[0m\n",
      "\u001b[0;32m/home/common/envs/conda/envs/domino/lib/python3.8/site-packages/transformers/models/bert/modeling_bert.py\u001b[0m in \u001b[0;36mforward\u001b[0;34m(self, input_ids, attention_mask, token_type_ids, position_ids, head_mask, inputs_embeds, encoder_hidden_states, encoder_attention_mask, labels, output_attentions, output_hidden_states, return_dict)\u001b[0m\n\u001b[1;32m   1307\u001b[0m         \u001b[0mreturn_dict\u001b[0m \u001b[0;34m=\u001b[0m \u001b[0mreturn_dict\u001b[0m \u001b[0;32mif\u001b[0m \u001b[0mreturn_dict\u001b[0m \u001b[0;32mis\u001b[0m \u001b[0;32mnot\u001b[0m \u001b[0;32mNone\u001b[0m \u001b[0;32melse\u001b[0m \u001b[0mself\u001b[0m\u001b[0;34m.\u001b[0m\u001b[0mconfig\u001b[0m\u001b[0;34m.\u001b[0m\u001b[0muse_return_dict\u001b[0m\u001b[0;34m\u001b[0m\u001b[0;34m\u001b[0m\u001b[0m\n\u001b[1;32m   1308\u001b[0m \u001b[0;34m\u001b[0m\u001b[0m\n\u001b[0;32m-> 1309\u001b[0;31m         outputs = self.bert(\n\u001b[0m\u001b[1;32m   1310\u001b[0m             \u001b[0minput_ids\u001b[0m\u001b[0;34m,\u001b[0m\u001b[0;34m\u001b[0m\u001b[0;34m\u001b[0m\u001b[0m\n\u001b[1;32m   1311\u001b[0m             \u001b[0mattention_mask\u001b[0m\u001b[0;34m=\u001b[0m\u001b[0mattention_mask\u001b[0m\u001b[0;34m,\u001b[0m\u001b[0;34m\u001b[0m\u001b[0;34m\u001b[0m\u001b[0m\n",
      "\u001b[0;32m/home/common/envs/conda/envs/domino/lib/python3.8/site-packages/torch/nn/modules/module.py\u001b[0m in \u001b[0;36m_call_impl\u001b[0;34m(self, *input, **kwargs)\u001b[0m\n\u001b[1;32m    887\u001b[0m             \u001b[0mresult\u001b[0m \u001b[0;34m=\u001b[0m \u001b[0mself\u001b[0m\u001b[0;34m.\u001b[0m\u001b[0m_slow_forward\u001b[0m\u001b[0;34m(\u001b[0m\u001b[0;34m*\u001b[0m\u001b[0minput\u001b[0m\u001b[0;34m,\u001b[0m \u001b[0;34m**\u001b[0m\u001b[0mkwargs\u001b[0m\u001b[0;34m)\u001b[0m\u001b[0;34m\u001b[0m\u001b[0;34m\u001b[0m\u001b[0m\n\u001b[1;32m    888\u001b[0m         \u001b[0;32melse\u001b[0m\u001b[0;34m:\u001b[0m\u001b[0;34m\u001b[0m\u001b[0;34m\u001b[0m\u001b[0m\n\u001b[0;32m--> 889\u001b[0;31m             \u001b[0mresult\u001b[0m \u001b[0;34m=\u001b[0m \u001b[0mself\u001b[0m\u001b[0;34m.\u001b[0m\u001b[0mforward\u001b[0m\u001b[0;34m(\u001b[0m\u001b[0;34m*\u001b[0m\u001b[0minput\u001b[0m\u001b[0;34m,\u001b[0m \u001b[0;34m**\u001b[0m\u001b[0mkwargs\u001b[0m\u001b[0;34m)\u001b[0m\u001b[0;34m\u001b[0m\u001b[0;34m\u001b[0m\u001b[0m\n\u001b[0m\u001b[1;32m    890\u001b[0m         for hook in itertools.chain(\n\u001b[1;32m    891\u001b[0m                 \u001b[0m_global_forward_hooks\u001b[0m\u001b[0;34m.\u001b[0m\u001b[0mvalues\u001b[0m\u001b[0;34m(\u001b[0m\u001b[0;34m)\u001b[0m\u001b[0;34m,\u001b[0m\u001b[0;34m\u001b[0m\u001b[0;34m\u001b[0m\u001b[0m\n",
      "\u001b[0;32m/home/common/envs/conda/envs/domino/lib/python3.8/site-packages/transformers/models/bert/modeling_bert.py\u001b[0m in \u001b[0;36mforward\u001b[0;34m(self, input_ids, attention_mask, token_type_ids, position_ids, head_mask, inputs_embeds, encoder_hidden_states, encoder_attention_mask, past_key_values, use_cache, output_attentions, output_hidden_states, return_dict)\u001b[0m\n\u001b[1;32m    969\u001b[0m             \u001b[0mpast_key_values_length\u001b[0m\u001b[0;34m=\u001b[0m\u001b[0mpast_key_values_length\u001b[0m\u001b[0;34m,\u001b[0m\u001b[0;34m\u001b[0m\u001b[0;34m\u001b[0m\u001b[0m\n\u001b[1;32m    970\u001b[0m         )\n\u001b[0;32m--> 971\u001b[0;31m         encoder_outputs = self.encoder(\n\u001b[0m\u001b[1;32m    972\u001b[0m             \u001b[0membedding_output\u001b[0m\u001b[0;34m,\u001b[0m\u001b[0;34m\u001b[0m\u001b[0;34m\u001b[0m\u001b[0m\n\u001b[1;32m    973\u001b[0m             \u001b[0mattention_mask\u001b[0m\u001b[0;34m=\u001b[0m\u001b[0mextended_attention_mask\u001b[0m\u001b[0;34m,\u001b[0m\u001b[0;34m\u001b[0m\u001b[0;34m\u001b[0m\u001b[0m\n",
      "\u001b[0;32m/home/common/envs/conda/envs/domino/lib/python3.8/site-packages/torch/nn/modules/module.py\u001b[0m in \u001b[0;36m_call_impl\u001b[0;34m(self, *input, **kwargs)\u001b[0m\n\u001b[1;32m    887\u001b[0m             \u001b[0mresult\u001b[0m \u001b[0;34m=\u001b[0m \u001b[0mself\u001b[0m\u001b[0;34m.\u001b[0m\u001b[0m_slow_forward\u001b[0m\u001b[0;34m(\u001b[0m\u001b[0;34m*\u001b[0m\u001b[0minput\u001b[0m\u001b[0;34m,\u001b[0m \u001b[0;34m**\u001b[0m\u001b[0mkwargs\u001b[0m\u001b[0;34m)\u001b[0m\u001b[0;34m\u001b[0m\u001b[0;34m\u001b[0m\u001b[0m\n\u001b[1;32m    888\u001b[0m         \u001b[0;32melse\u001b[0m\u001b[0;34m:\u001b[0m\u001b[0;34m\u001b[0m\u001b[0;34m\u001b[0m\u001b[0m\n\u001b[0;32m--> 889\u001b[0;31m             \u001b[0mresult\u001b[0m \u001b[0;34m=\u001b[0m \u001b[0mself\u001b[0m\u001b[0;34m.\u001b[0m\u001b[0mforward\u001b[0m\u001b[0;34m(\u001b[0m\u001b[0;34m*\u001b[0m\u001b[0minput\u001b[0m\u001b[0;34m,\u001b[0m \u001b[0;34m**\u001b[0m\u001b[0mkwargs\u001b[0m\u001b[0;34m)\u001b[0m\u001b[0;34m\u001b[0m\u001b[0;34m\u001b[0m\u001b[0m\n\u001b[0m\u001b[1;32m    890\u001b[0m         for hook in itertools.chain(\n\u001b[1;32m    891\u001b[0m                 \u001b[0m_global_forward_hooks\u001b[0m\u001b[0;34m.\u001b[0m\u001b[0mvalues\u001b[0m\u001b[0;34m(\u001b[0m\u001b[0;34m)\u001b[0m\u001b[0;34m,\u001b[0m\u001b[0;34m\u001b[0m\u001b[0;34m\u001b[0m\u001b[0m\n",
      "\u001b[0;32m/home/common/envs/conda/envs/domino/lib/python3.8/site-packages/transformers/models/bert/modeling_bert.py\u001b[0m in \u001b[0;36mforward\u001b[0;34m(self, hidden_states, attention_mask, head_mask, encoder_hidden_states, encoder_attention_mask, past_key_values, use_cache, output_attentions, output_hidden_states, return_dict)\u001b[0m\n\u001b[1;32m    566\u001b[0m                 )\n\u001b[1;32m    567\u001b[0m             \u001b[0;32melse\u001b[0m\u001b[0;34m:\u001b[0m\u001b[0;34m\u001b[0m\u001b[0;34m\u001b[0m\u001b[0m\n\u001b[0;32m--> 568\u001b[0;31m                 layer_outputs = layer_module(\n\u001b[0m\u001b[1;32m    569\u001b[0m                     \u001b[0mhidden_states\u001b[0m\u001b[0;34m,\u001b[0m\u001b[0;34m\u001b[0m\u001b[0;34m\u001b[0m\u001b[0m\n\u001b[1;32m    570\u001b[0m                     \u001b[0mattention_mask\u001b[0m\u001b[0;34m,\u001b[0m\u001b[0;34m\u001b[0m\u001b[0;34m\u001b[0m\u001b[0m\n",
      "\u001b[0;32m/home/common/envs/conda/envs/domino/lib/python3.8/site-packages/torch/nn/modules/module.py\u001b[0m in \u001b[0;36m_call_impl\u001b[0;34m(self, *input, **kwargs)\u001b[0m\n\u001b[1;32m    887\u001b[0m             \u001b[0mresult\u001b[0m \u001b[0;34m=\u001b[0m \u001b[0mself\u001b[0m\u001b[0;34m.\u001b[0m\u001b[0m_slow_forward\u001b[0m\u001b[0;34m(\u001b[0m\u001b[0;34m*\u001b[0m\u001b[0minput\u001b[0m\u001b[0;34m,\u001b[0m \u001b[0;34m**\u001b[0m\u001b[0mkwargs\u001b[0m\u001b[0;34m)\u001b[0m\u001b[0;34m\u001b[0m\u001b[0;34m\u001b[0m\u001b[0m\n\u001b[1;32m    888\u001b[0m         \u001b[0;32melse\u001b[0m\u001b[0;34m:\u001b[0m\u001b[0;34m\u001b[0m\u001b[0;34m\u001b[0m\u001b[0m\n\u001b[0;32m--> 889\u001b[0;31m             \u001b[0mresult\u001b[0m \u001b[0;34m=\u001b[0m \u001b[0mself\u001b[0m\u001b[0;34m.\u001b[0m\u001b[0mforward\u001b[0m\u001b[0;34m(\u001b[0m\u001b[0;34m*\u001b[0m\u001b[0minput\u001b[0m\u001b[0;34m,\u001b[0m \u001b[0;34m**\u001b[0m\u001b[0mkwargs\u001b[0m\u001b[0;34m)\u001b[0m\u001b[0;34m\u001b[0m\u001b[0;34m\u001b[0m\u001b[0m\n\u001b[0m\u001b[1;32m    890\u001b[0m         for hook in itertools.chain(\n\u001b[1;32m    891\u001b[0m                 \u001b[0m_global_forward_hooks\u001b[0m\u001b[0;34m.\u001b[0m\u001b[0mvalues\u001b[0m\u001b[0;34m(\u001b[0m\u001b[0;34m)\u001b[0m\u001b[0;34m,\u001b[0m\u001b[0;34m\u001b[0m\u001b[0;34m\u001b[0m\u001b[0m\n",
      "\u001b[0;32m/home/common/envs/conda/envs/domino/lib/python3.8/site-packages/transformers/models/bert/modeling_bert.py\u001b[0m in \u001b[0;36mforward\u001b[0;34m(self, hidden_states, attention_mask, head_mask, encoder_hidden_states, encoder_attention_mask, past_key_value, output_attentions)\u001b[0m\n\u001b[1;32m    454\u001b[0m         \u001b[0;31m# decoder uni-directional self-attention cached key/values tuple is at positions 1,2\u001b[0m\u001b[0;34m\u001b[0m\u001b[0;34m\u001b[0m\u001b[0;34m\u001b[0m\u001b[0m\n\u001b[1;32m    455\u001b[0m         \u001b[0mself_attn_past_key_value\u001b[0m \u001b[0;34m=\u001b[0m \u001b[0mpast_key_value\u001b[0m\u001b[0;34m[\u001b[0m\u001b[0;34m:\u001b[0m\u001b[0;36m2\u001b[0m\u001b[0;34m]\u001b[0m \u001b[0;32mif\u001b[0m \u001b[0mpast_key_value\u001b[0m \u001b[0;32mis\u001b[0m \u001b[0;32mnot\u001b[0m \u001b[0;32mNone\u001b[0m \u001b[0;32melse\u001b[0m \u001b[0;32mNone\u001b[0m\u001b[0;34m\u001b[0m\u001b[0;34m\u001b[0m\u001b[0m\n\u001b[0;32m--> 456\u001b[0;31m         self_attention_outputs = self.attention(\n\u001b[0m\u001b[1;32m    457\u001b[0m             \u001b[0mhidden_states\u001b[0m\u001b[0;34m,\u001b[0m\u001b[0;34m\u001b[0m\u001b[0;34m\u001b[0m\u001b[0m\n\u001b[1;32m    458\u001b[0m             \u001b[0mattention_mask\u001b[0m\u001b[0;34m,\u001b[0m\u001b[0;34m\u001b[0m\u001b[0;34m\u001b[0m\u001b[0m\n",
      "\u001b[0;32m/home/common/envs/conda/envs/domino/lib/python3.8/site-packages/torch/nn/modules/module.py\u001b[0m in \u001b[0;36m_call_impl\u001b[0;34m(self, *input, **kwargs)\u001b[0m\n\u001b[1;32m    887\u001b[0m             \u001b[0mresult\u001b[0m \u001b[0;34m=\u001b[0m \u001b[0mself\u001b[0m\u001b[0;34m.\u001b[0m\u001b[0m_slow_forward\u001b[0m\u001b[0;34m(\u001b[0m\u001b[0;34m*\u001b[0m\u001b[0minput\u001b[0m\u001b[0;34m,\u001b[0m \u001b[0;34m**\u001b[0m\u001b[0mkwargs\u001b[0m\u001b[0;34m)\u001b[0m\u001b[0;34m\u001b[0m\u001b[0;34m\u001b[0m\u001b[0m\n\u001b[1;32m    888\u001b[0m         \u001b[0;32melse\u001b[0m\u001b[0;34m:\u001b[0m\u001b[0;34m\u001b[0m\u001b[0;34m\u001b[0m\u001b[0m\n\u001b[0;32m--> 889\u001b[0;31m             \u001b[0mresult\u001b[0m \u001b[0;34m=\u001b[0m \u001b[0mself\u001b[0m\u001b[0;34m.\u001b[0m\u001b[0mforward\u001b[0m\u001b[0;34m(\u001b[0m\u001b[0;34m*\u001b[0m\u001b[0minput\u001b[0m\u001b[0;34m,\u001b[0m \u001b[0;34m**\u001b[0m\u001b[0mkwargs\u001b[0m\u001b[0;34m)\u001b[0m\u001b[0;34m\u001b[0m\u001b[0;34m\u001b[0m\u001b[0m\n\u001b[0m\u001b[1;32m    890\u001b[0m         for hook in itertools.chain(\n\u001b[1;32m    891\u001b[0m                 \u001b[0m_global_forward_hooks\u001b[0m\u001b[0;34m.\u001b[0m\u001b[0mvalues\u001b[0m\u001b[0;34m(\u001b[0m\u001b[0;34m)\u001b[0m\u001b[0;34m,\u001b[0m\u001b[0;34m\u001b[0m\u001b[0;34m\u001b[0m\u001b[0m\n",
      "\u001b[0;32m/home/common/envs/conda/envs/domino/lib/python3.8/site-packages/transformers/models/bert/modeling_bert.py\u001b[0m in \u001b[0;36mforward\u001b[0;34m(self, hidden_states, attention_mask, head_mask, encoder_hidden_states, encoder_attention_mask, past_key_value, output_attentions)\u001b[0m\n\u001b[1;32m    385\u001b[0m         \u001b[0moutput_attentions\u001b[0m\u001b[0;34m=\u001b[0m\u001b[0;32mFalse\u001b[0m\u001b[0;34m,\u001b[0m\u001b[0;34m\u001b[0m\u001b[0;34m\u001b[0m\u001b[0m\n\u001b[1;32m    386\u001b[0m     ):\n\u001b[0;32m--> 387\u001b[0;31m         self_outputs = self.self(\n\u001b[0m\u001b[1;32m    388\u001b[0m             \u001b[0mhidden_states\u001b[0m\u001b[0;34m,\u001b[0m\u001b[0;34m\u001b[0m\u001b[0;34m\u001b[0m\u001b[0m\n\u001b[1;32m    389\u001b[0m             \u001b[0mattention_mask\u001b[0m\u001b[0;34m,\u001b[0m\u001b[0;34m\u001b[0m\u001b[0;34m\u001b[0m\u001b[0m\n",
      "\u001b[0;32m/home/common/envs/conda/envs/domino/lib/python3.8/site-packages/torch/nn/modules/module.py\u001b[0m in \u001b[0;36m_call_impl\u001b[0;34m(self, *input, **kwargs)\u001b[0m\n\u001b[1;32m    887\u001b[0m             \u001b[0mresult\u001b[0m \u001b[0;34m=\u001b[0m \u001b[0mself\u001b[0m\u001b[0;34m.\u001b[0m\u001b[0m_slow_forward\u001b[0m\u001b[0;34m(\u001b[0m\u001b[0;34m*\u001b[0m\u001b[0minput\u001b[0m\u001b[0;34m,\u001b[0m \u001b[0;34m**\u001b[0m\u001b[0mkwargs\u001b[0m\u001b[0;34m)\u001b[0m\u001b[0;34m\u001b[0m\u001b[0;34m\u001b[0m\u001b[0m\n\u001b[1;32m    888\u001b[0m         \u001b[0;32melse\u001b[0m\u001b[0;34m:\u001b[0m\u001b[0;34m\u001b[0m\u001b[0;34m\u001b[0m\u001b[0m\n\u001b[0;32m--> 889\u001b[0;31m             \u001b[0mresult\u001b[0m \u001b[0;34m=\u001b[0m \u001b[0mself\u001b[0m\u001b[0;34m.\u001b[0m\u001b[0mforward\u001b[0m\u001b[0;34m(\u001b[0m\u001b[0;34m*\u001b[0m\u001b[0minput\u001b[0m\u001b[0;34m,\u001b[0m \u001b[0;34m**\u001b[0m\u001b[0mkwargs\u001b[0m\u001b[0;34m)\u001b[0m\u001b[0;34m\u001b[0m\u001b[0;34m\u001b[0m\u001b[0m\n\u001b[0m\u001b[1;32m    890\u001b[0m         for hook in itertools.chain(\n\u001b[1;32m    891\u001b[0m                 \u001b[0m_global_forward_hooks\u001b[0m\u001b[0;34m.\u001b[0m\u001b[0mvalues\u001b[0m\u001b[0;34m(\u001b[0m\u001b[0;34m)\u001b[0m\u001b[0;34m,\u001b[0m\u001b[0;34m\u001b[0m\u001b[0;34m\u001b[0m\u001b[0m\n",
      "\u001b[0;32m/home/common/envs/conda/envs/domino/lib/python3.8/site-packages/transformers/models/bert/modeling_bert.py\u001b[0m in \u001b[0;36mforward\u001b[0;34m(self, hidden_states, attention_mask, head_mask, encoder_hidden_states, encoder_attention_mask, past_key_value, output_attentions)\u001b[0m\n\u001b[1;32m    289\u001b[0m \u001b[0;34m\u001b[0m\u001b[0m\n\u001b[1;32m    290\u001b[0m         \u001b[0;31m# Take the dot product between \"query\" and \"key\" to get the raw attention scores.\u001b[0m\u001b[0;34m\u001b[0m\u001b[0;34m\u001b[0m\u001b[0;34m\u001b[0m\u001b[0m\n\u001b[0;32m--> 291\u001b[0;31m         \u001b[0mattention_scores\u001b[0m \u001b[0;34m=\u001b[0m \u001b[0mtorch\u001b[0m\u001b[0;34m.\u001b[0m\u001b[0mmatmul\u001b[0m\u001b[0;34m(\u001b[0m\u001b[0mquery_layer\u001b[0m\u001b[0;34m,\u001b[0m \u001b[0mkey_layer\u001b[0m\u001b[0;34m.\u001b[0m\u001b[0mtranspose\u001b[0m\u001b[0;34m(\u001b[0m\u001b[0;34m-\u001b[0m\u001b[0;36m1\u001b[0m\u001b[0;34m,\u001b[0m \u001b[0;34m-\u001b[0m\u001b[0;36m2\u001b[0m\u001b[0;34m)\u001b[0m\u001b[0;34m)\u001b[0m\u001b[0;34m\u001b[0m\u001b[0;34m\u001b[0m\u001b[0m\n\u001b[0m\u001b[1;32m    292\u001b[0m \u001b[0;34m\u001b[0m\u001b[0m\n\u001b[1;32m    293\u001b[0m         \u001b[0;32mif\u001b[0m \u001b[0mself\u001b[0m\u001b[0;34m.\u001b[0m\u001b[0mposition_embedding_type\u001b[0m \u001b[0;34m==\u001b[0m \u001b[0;34m\"relative_key\"\u001b[0m \u001b[0;32mor\u001b[0m \u001b[0mself\u001b[0m\u001b[0;34m.\u001b[0m\u001b[0mposition_embedding_type\u001b[0m \u001b[0;34m==\u001b[0m \u001b[0;34m\"relative_key_query\"\u001b[0m\u001b[0;34m:\u001b[0m\u001b[0;34m\u001b[0m\u001b[0;34m\u001b[0m\u001b[0m\n",
      "\u001b[0;31mRuntimeError\u001b[0m: CUDA out of memory. Tried to allocate 54.00 MiB (GPU 0; 14.76 GiB total capacity; 13.66 GiB already allocated; 5.75 MiB free; 13.72 GiB reserved in total by PyTorch)"
     ]
    }
   ],
   "metadata": {}
  },
  {
   "cell_type": "code",
   "execution_count": 96,
   "source": [
    "phrase_dp.to_pandas().sort_values(\"prob\").iloc[-15:]"
   ],
   "outputs": [
    {
     "output_type": "execute_result",
     "data": {
      "text/html": [
       "<div>\n",
       "<style scoped>\n",
       "    .dataframe tbody tr th:only-of-type {\n",
       "        vertical-align: middle;\n",
       "    }\n",
       "\n",
       "    .dataframe tbody tr th {\n",
       "        vertical-align: top;\n",
       "    }\n",
       "\n",
       "    .dataframe thead th {\n",
       "        text-align: right;\n",
       "    }\n",
       "</style>\n",
       "<table border=\"1\" class=\"dataframe\">\n",
       "  <thead>\n",
       "    <tr style=\"text-align: right;\">\n",
       "      <th></th>\n",
       "      <th>prob</th>\n",
       "      <th>output_phrase</th>\n",
       "      <th>index</th>\n",
       "    </tr>\n",
       "  </thead>\n",
       "  <tbody>\n",
       "    <tr>\n",
       "      <th>49</th>\n",
       "      <td>19.365196</td>\n",
       "      <td>a photo of a person at work.</td>\n",
       "      <td>49</td>\n",
       "    </tr>\n",
       "    <tr>\n",
       "      <th>10</th>\n",
       "      <td>19.511856</td>\n",
       "      <td>a photo of a person until.</td>\n",
       "      <td>10</td>\n",
       "    </tr>\n",
       "    <tr>\n",
       "      <th>45</th>\n",
       "      <td>19.523741</td>\n",
       "      <td>a photo of a person work</td>\n",
       "      <td>45</td>\n",
       "    </tr>\n",
       "    <tr>\n",
       "      <th>64</th>\n",
       "      <td>19.532944</td>\n",
       "      <td>a photo of a person following.</td>\n",
       "      <td>64</td>\n",
       "    </tr>\n",
       "    <tr>\n",
       "      <th>85</th>\n",
       "      <td>19.544060</td>\n",
       "      <td>a photo of a person or people.</td>\n",
       "      <td>85</td>\n",
       "    </tr>\n",
       "    <tr>\n",
       "      <th>81</th>\n",
       "      <td>19.562103</td>\n",
       "      <td>a photo of a person people</td>\n",
       "      <td>81</td>\n",
       "    </tr>\n",
       "    <tr>\n",
       "      <th>63</th>\n",
       "      <td>19.627256</td>\n",
       "      <td>a photo of a person following</td>\n",
       "      <td>63</td>\n",
       "    </tr>\n",
       "    <tr>\n",
       "      <th>55</th>\n",
       "      <td>19.633055</td>\n",
       "      <td>a photo of a person life.</td>\n",
       "      <td>55</td>\n",
       "    </tr>\n",
       "    <tr>\n",
       "      <th>65</th>\n",
       "      <td>19.857872</td>\n",
       "      <td>a photo of a person following her ;</td>\n",
       "      <td>65</td>\n",
       "    </tr>\n",
       "    <tr>\n",
       "      <th>28</th>\n",
       "      <td>20.410408</td>\n",
       "      <td>a photo of a person since.</td>\n",
       "      <td>28</td>\n",
       "    </tr>\n",
       "    <tr>\n",
       "      <th>27</th>\n",
       "      <td>20.460211</td>\n",
       "      <td>a photo of a person since</td>\n",
       "      <td>27</td>\n",
       "    </tr>\n",
       "    <tr>\n",
       "      <th>4</th>\n",
       "      <td>20.644299</td>\n",
       "      <td>a photo of a person or family.</td>\n",
       "      <td>4</td>\n",
       "    </tr>\n",
       "    <tr>\n",
       "      <th>36</th>\n",
       "      <td>20.953772</td>\n",
       "      <td>a photo of a person them</td>\n",
       "      <td>36</td>\n",
       "    </tr>\n",
       "    <tr>\n",
       "      <th>18</th>\n",
       "      <td>21.343624</td>\n",
       "      <td>a photo of a person well</td>\n",
       "      <td>18</td>\n",
       "    </tr>\n",
       "    <tr>\n",
       "      <th>9</th>\n",
       "      <td>22.225666</td>\n",
       "      <td>a photo of a person until</td>\n",
       "      <td>9</td>\n",
       "    </tr>\n",
       "  </tbody>\n",
       "</table>\n",
       "</div>"
      ],
      "text/plain": [
       "         prob                        output_phrase index\n",
       "49  19.365196         a photo of a person at work.    49\n",
       "10  19.511856           a photo of a person until.    10\n",
       "45  19.523741             a photo of a person work    45\n",
       "64  19.532944       a photo of a person following.    64\n",
       "85  19.544060       a photo of a person or people.    85\n",
       "81  19.562103           a photo of a person people    81\n",
       "63  19.627256        a photo of a person following    63\n",
       "55  19.633055            a photo of a person life.    55\n",
       "65  19.857872  a photo of a person following her ;    65\n",
       "28  20.410408           a photo of a person since.    28\n",
       "27  20.460211            a photo of a person since    27\n",
       "4   20.644299       a photo of a person or family.     4\n",
       "36  20.953772             a photo of a person them    36\n",
       "18  21.343624             a photo of a person well    18\n",
       "9   22.225666            a photo of a person until     9"
      ]
     },
     "metadata": {},
     "execution_count": 96
    }
   ],
   "metadata": {}
  },
  {
   "cell_type": "code",
   "execution_count": 60,
   "source": [
    "\"hello world\".replace(\"world\", \"akjf\")"
   ],
   "outputs": [
    {
     "output_type": "execute_result",
     "data": {
      "text/plain": [
       "'hello akjf'"
      ]
     },
     "metadata": {},
     "execution_count": 60
    }
   ],
   "metadata": {}
  },
  {
   "cell_type": "code",
   "execution_count": null,
   "source": [],
   "outputs": [],
   "metadata": {}
  }
 ],
 "metadata": {
  "orig_nbformat": 4,
  "language_info": {
   "name": "python",
   "version": "3.8.10",
   "mimetype": "text/x-python",
   "codemirror_mode": {
    "name": "ipython",
    "version": 3
   },
   "pygments_lexer": "ipython3",
   "nbconvert_exporter": "python",
   "file_extension": ".py"
  },
  "kernelspec": {
   "name": "python3",
   "display_name": "Python 3.8.10 64-bit ('domino': conda)"
  },
  "interpreter": {
   "hash": "0d937a63d09daec3f9548a5c769ccb20edb9c2c1ae2375686b21850f577713d2"
  }
 },
 "nbformat": 4,
 "nbformat_minor": 2
}