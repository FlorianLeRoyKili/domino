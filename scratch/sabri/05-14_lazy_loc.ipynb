{
 "metadata": {
  "language_info": {
   "codemirror_mode": {
    "name": "ipython",
    "version": 3
   },
   "file_extension": ".py",
   "mimetype": "text/x-python",
   "name": "python",
   "nbconvert_exporter": "python",
   "pygments_lexer": "ipython3",
   "version": "3.8.8"
  },
  "orig_nbformat": 2,
  "kernelspec": {
   "name": "python388jvsc74a57bd0537ba0ffad682576d6afadc0305e2c3929b126cc8ecab491c1b8e689fbaa6d6a",
   "display_name": "Python 3.8.8 64-bit ('mosaic': conda)"
  },
  "metadata": {
   "interpreter": {
    "hash": "537ba0ffad682576d6afadc0305e2c3929b126cc8ecab491c1b8e689fbaa6d6a"
   }
  }
 },
 "nbformat": 4,
 "nbformat_minor": 2,
 "cells": [
  {
   "cell_type": "code",
   "execution_count": 31,
   "metadata": {},
   "outputs": [
    {
     "output_type": "stream",
     "name": "stdout",
     "text": [
      "The autoreload extension is already loaded. To reload it, use:\n  %reload_ext autoreload\n"
     ]
    }
   ],
   "source": [
    "%load_ext autoreload\n",
    "%autoreload 2"
   ]
  },
  {
   "cell_type": "code",
   "execution_count": 32,
   "metadata": {},
   "outputs": [],
   "source": [
    "import pandas as pd\n",
    "from spr.data.celeb import build_celeb_df\n",
    "from mosaic import ImageColumn, CellColumn, ImagePath, DataPanel"
   ]
  },
  {
   "cell_type": "code",
   "execution_count": 3,
   "metadata": {},
   "outputs": [],
   "source": [
    "df = build_celeb_df.out().load()"
   ]
  },
  {
   "cell_type": "code",
   "execution_count": 37,
   "metadata": {},
   "outputs": [
    {
     "output_type": "execute_result",
     "data": {
      "text/plain": [
       "'/Users/sabrieyuboglu/code/terra/test_storage_dir/tasks/data/celeb/build_celeb_df/_runs/7/artifacts/a349c55c2b034b80a14205a0caabfb0b'"
      ]
     },
     "metadata": {},
     "execution_count": 37
    }
   ],
   "source": [
    "build_celeb_df.out()._get_path()"
   ]
  },
  {
   "cell_type": "code",
   "execution_count": 11,
   "metadata": {},
   "outputs": [],
   "source": [
    "col = ImageColumn.from_filepaths(df[\"img_path\"].iloc[:100])"
   ]
  },
  {
   "cell_type": "code",
   "execution_count": 12,
   "metadata": {},
   "outputs": [],
   "source": [
    "dp  = DataPanel.from_pandas(df.iloc[:100])\n"
   ]
  },
  {
   "cell_type": "code",
   "execution_count": 14,
   "metadata": {},
   "outputs": [],
   "source": [
    "dp.add_column(\"img\", col)"
   ]
  },
  {
   "cell_type": "code",
   "execution_count": 17,
   "metadata": {},
   "outputs": [],
   "source": [
    "new = dp[[\"img\", \"file\", \"identity\"]].lz[0:10]"
   ]
  },
  {
   "cell_type": "code",
   "execution_count": 26,
   "metadata": {},
   "outputs": [
    {
     "output_type": "execute_result",
     "data": {
      "text/plain": [
       "'000001.jpg'"
      ]
     },
     "metadata": {},
     "execution_count": 26
    }
   ],
   "source": [
    "dp[\"img\"].lz[0].filepath.name"
   ]
  },
  {
   "cell_type": "code",
   "execution_count": 28,
   "metadata": {},
   "outputs": [],
   "source": [
    "for k, v in dp.items():\n",
    "    pass"
   ]
  },
  {
   "cell_type": "code",
   "execution_count": 30,
   "metadata": {},
   "outputs": [
    {
     "output_type": "execute_result",
     "data": {
      "text/plain": [
       "ImageColumn([Image(000001.jpg), Image(000002.jpg), Image(000003.jpg), Image(000004.jpg), Image(000005.jpg), Image(000006.jpg), ...])"
      ],
      "text/html": "<div>\n<style scoped>\n    .dataframe tbody tr th:only-of-type {\n        vertical-align: middle;\n    }\n\n    .dataframe tbody tr th {\n        vertical-align: top;\n    }\n\n    .dataframe thead th {\n        text-align: right;\n    }\n</style>\n<table border=\"1\" class=\"dataframe\">\n  <thead>\n    <tr style=\"text-align: right;\">\n      <th></th>\n      <th>(ImageColumn)</th>\n    </tr>\n  </thead>\n  <tbody>\n    <tr>\n      <th>0</th>\n      <td>Image(000001.jpg)</td>\n    </tr>\n    <tr>\n      <th>1</th>\n      <td>Image(000002.jpg)</td>\n    </tr>\n    <tr>\n      <th>2</th>\n      <td>Image(000003.jpg)</td>\n    </tr>\n    <tr>\n      <th>3</th>\n      <td>Image(000004.jpg)</td>\n    </tr>\n    <tr>\n      <th>4</th>\n      <td>Image(000005.jpg)</td>\n    </tr>\n    <tr>\n      <th>...</th>\n      <td>...</td>\n    </tr>\n    <tr>\n      <th>95</th>\n      <td>Image(000096.jpg)</td>\n    </tr>\n    <tr>\n      <th>96</th>\n      <td>Image(000097.jpg)</td>\n    </tr>\n    <tr>\n      <th>97</th>\n      <td>Image(000098.jpg)</td>\n    </tr>\n    <tr>\n      <th>98</th>\n      <td>Image(000099.jpg)</td>\n    </tr>\n    <tr>\n      <th>99</th>\n      <td>Image(000100.jpg)</td>\n    </tr>\n  </tbody>\n</table>\n<p>100 rows × 1 columns</p>\n</div>"
     },
     "metadata": {},
     "execution_count": 30
    }
   ],
   "source": [
    "v"
   ]
  },
  {
   "cell_type": "code",
   "execution_count": null,
   "metadata": {},
   "outputs": [],
   "source": []
  }
 ]
}