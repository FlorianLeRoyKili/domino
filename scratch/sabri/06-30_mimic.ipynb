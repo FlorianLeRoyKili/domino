{
 "cells": [
  {
   "cell_type": "code",
   "execution_count": 17,
   "metadata": {},
   "outputs": [],
   "source": [
    "from google.cloud import storage\n",
    "import os\n",
    "import pandas as pd\n",
    "import subprocess\n",
    "import meerkat as mk\n"
   ]
  },
  {
   "cell_type": "code",
   "execution_count": 163,
   "metadata": {},
   "outputs": [],
   "source": [
    "dataset_dir = \"/home/common/datasets/mimic-cxr\""
   ]
  },
  {
   "cell_type": "code",
   "execution_count": 97,
   "metadata": {},
   "outputs": [
    {
     "name": "stderr",
     "output_type": "stream",
     "text": [
      "[2021-06-30 22:38:55,500][WARNING][google.auth._default:475] :: No project ID could be determined. Consider running `gcloud config set project` or setting the GOOGLE_CLOUD_PROJECT environment variable\n"
     ]
    }
   ],
   "source": [
    "\n",
    "storage_client = storage.Client(project=\"hai-gcp-fine-grained\")\n",
    "bucket = storage_client.bucket(\n",
    "    \"mimic-cxr-2.0.0.physionet.org\", \n",
    "    user_project=\"hai-gcp-fine-grained\"\n",
    ")\n"
   ]
  },
  {
   "cell_type": "code",
   "execution_count": 98,
   "metadata": {},
   "outputs": [],
   "source": [
    "blob_name = \"mimic-cxr-reports.zip\"\n",
    "filepath = os.path.join(dataset_dir, blob_name)\n",
    "bucket.blob(blob_name).download_to_filename(filepath)"
   ]
  },
  {
   "cell_type": "code",
   "execution_count": 12,
   "metadata": {},
   "outputs": [],
   "source": [
    "dataset_dir = \"/home/common/datasets/mimic-cxr\"\n",
    "for blob_name in  [\"cxr-record-list.csv.gz\", \"cxr-study-list.csv.gz\"]:\n",
    "    filepath = os.path.join(dataset_dir, blob_name)\n",
    "    bucket.blob(blob_name).download_to_filename(filepath)\n",
    "    subprocess.run([\"gunzip\", filepath])\n",
    "\n",
    "bucket.blob(blob_name).download_to_filename(filepath)\n",
    "\n",
    "\n",
    "# subprocess.run([\"unzip\", filepath])\n"
   ]
  },
  {
   "cell_type": "code",
   "execution_count": 161,
   "metadata": {},
   "outputs": [
    {
     "name": "stderr",
     "output_type": "stream",
     "text": [
      "[2021-07-01 02:12:10,455][WARNING][google.auth._default:475] :: No project ID could be determined. Consider running `gcloud config set project` or setting the GOOGLE_CLOUD_PROJECT environment variable\n"
     ]
    }
   ],
   "source": [
    "# prepare jpg version\n",
    "\n",
    "storage_client = storage.Client(project=\"hai-gcp-fine-grained\")\n",
    "bucket = storage_client.bucket(\n",
    "    \"mimic-cxr-jpg-2.0.0.physionet.org\", \n",
    "    user_project=\"hai-gcp-fine-grained\"\n",
    ")\n",
    "\n",
    "for blob_name in [\n",
    "    \"mimic-cxr-2.0.0-chexpert.csv.gz\",\n",
    "    \"mimic-cxr-2.0.0-metadata.csv.gz\",\n",
    "    \"mimic-cxr-2.0.0-negbio.csv.gz\",\n",
    "    \"mimic-cxr-2.0.0-split.csv.gz\",\n",
    "]:\n",
    "    filepath = os.path.join(dataset_dir, blob_name)\n",
    "    bucket.blob(blob_name).download_to_filename(filepath)\n",
    "    subprocess.run([\"gunzip\", filepath])\n",
    "\n"
   ]
  },
  {
   "cell_type": "code",
   "execution_count": 142,
   "metadata": {},
   "outputs": [],
   "source": [
    "study_dp = mk.DataPanel.from_csv(\n",
    "    os.path.join(dataset_dir, \"cxr-study-list.csv\")\n",
    ")\n",
    "def loader(path: str):\n",
    "    with open(os.path.join(dataset_dir, path), \"r\") as f:\n",
    "        return f.read()\n",
    "\n",
    "col = mk.ImageColumn.from_filepaths(study_dp[\"path\"], loader=loader)\n",
    "study_dp[\"report\"] = col"
   ]
  },
  {
   "cell_type": "code",
   "execution_count": 151,
   "metadata": {},
   "outputs": [
    {
     "data": {
      "text/plain": [
       "'                                 FINAL REPORT\\n HISTORY:  Seizures, question interval change.\\n \\n CHEST, SINGLE AP PORTABLE VIEW.\\n \\n An ET tube is present, tip approximately 3.7 cm above the carina.  A right IJ\\n central line is present, tip near SVC/RA junction.  An NG tube is present, tip\\n extending beneath the diaphragm, off the film.  \\n \\n There is probable cardiomegaly, though the cardiomediastinal silhouette is\\n unchanged.  There is possible mild vascular plethora, but no overt CHF.  There\\n is minimal atelectasis at the left lung base.  Again seen is density seen\\n along the right sixth rib laterally, ? callus about a rib fracture.\\n \\n IMPRESSION:  Essentially unchanged compared with ___ at 9:19 a.m.\\n'"
      ]
     },
     "execution_count": 151,
     "metadata": {},
     "output_type": "execute_result"
    }
   ],
   "source": [
    "study_dp[\"report\"][400]"
   ]
  },
  {
   "cell_type": "code",
   "execution_count": 167,
   "metadata": {},
   "outputs": [],
   "source": [
    "dp = mk.DataPanel.from_csv(\n",
    "    os.path.join(dataset_dir, \"cxr-record-list.csv\")\n",
    ")\n",
    "\n",
    "paths = pd.Series(dp[\"path\"].data)\n",
    "paths.str.split"
   ]
  },
  {
   "cell_type": "code",
   "execution_count": 172,
   "metadata": {},
   "outputs": [],
   "source": [
    "dp[\"jpg_path\"] = paths.str.split(\".\").str[0] + \".jpg\""
   ]
  },
  {
   "cell_type": "code",
   "execution_count": 173,
   "metadata": {},
   "outputs": [
    {
     "name": "stderr",
     "output_type": "stream",
     "text": [
      "[2021-07-01 02:23:04,710][WARNING][google.auth._default:475] :: No project ID could be determined. Consider running `gcloud config set project` or setting the GOOGLE_CLOUD_PROJECT environment variable\n"
     ]
    }
   ],
   "source": [
    "import io\n",
    "from pydicom import dcmread\n",
    "from dosma import DicomReader\n",
    "from PIL import Image\n",
    "\n",
    "\n",
    "class GCSLoader:\n",
    "    def __init__(self, bucket_name: str, project: str, loader: callable = None):\n",
    "        storage_client = storage.Client(project=project)\n",
    "        self.bucket = storage_client.bucket(bucket_name, user_project=project)\n",
    "        self.loader = (lambda x: x) if loader is None else loader\n",
    "\n",
    "    def __call__(self, blob_name):\n",
    "        return self.loader(\n",
    "            io.BytesIO(self.bucket.blob(str(blob_name)).download_as_bytes())\n",
    "        )\n",
    "\n",
    "loader = GCSLoader(\n",
    "    bucket_name=\"mimic-cxr-jpg-2.0.0.physionet.org\",\n",
    "    project=\"hai-gcp-fine-grained\",\n",
    "    #loader=dcmread,\n",
    "    loader=Image.open\n",
    ")"
   ]
  },
  {
   "cell_type": "code",
   "execution_count": 174,
   "metadata": {},
   "outputs": [],
   "source": [
    "col = mk.ImageColumn.from_filepaths(dp[\"jpg_path\"], loader=loader)"
   ]
  },
  {
   "cell_type": "code",
   "execution_count": 183,
   "metadata": {},
   "outputs": [],
   "source": [
    "for x in col[:100].batch(num_workers=8):\n",
    "    pass"
   ]
  },
  {
   "cell_type": "code",
   "execution_count": 114,
   "metadata": {},
   "outputs": [
    {
     "name": "stderr",
     "output_type": "stream",
     "text": [
      "100%|██████████| 10/10 [00:05<00:00,  1.83it/s]\n"
     ]
    }
   ],
   "source": [
    "def get_metadata(x):\n",
    "    metadata = {}\n",
    "    for k, v in x.items():\n",
    "        if (k.group in [0x0018, 0x0008, 0x0002, 0x0020] and hasattr(v, \"name\")):\n",
    "            metadata[v.name.lower().replace(\" \", \"_\")] = v.value\n",
    "    return metadata\n",
    "\n",
    "out = col.lz[:10].map(get_metadata, pbar=True)"
   ]
  },
  {
   "cell_type": "code",
   "execution_count": 137,
   "metadata": {},
   "outputs": [
    {
     "ename": "AttributeError",
     "evalue": "'RawDataElement' object has no attribute 'name'",
     "output_type": "error",
     "traceback": [
      "\u001b[0;31m---------------------------------------------------------------------------\u001b[0m",
      "\u001b[0;31mAttributeError\u001b[0m                            Traceback (most recent call last)",
      "\u001b[0;32m<ipython-input-137-e63757c7b52d>\u001b[0m in \u001b[0;36m<module>\u001b[0;34m\u001b[0m\n\u001b[1;32m      2\u001b[0m \u001b[0;32mfor\u001b[0m \u001b[0mk\u001b[0m\u001b[0;34m,\u001b[0m \u001b[0mv\u001b[0m \u001b[0;32min\u001b[0m \u001b[0mcol\u001b[0m\u001b[0;34m[\u001b[0m\u001b[0;36m0\u001b[0m\u001b[0;34m]\u001b[0m\u001b[0;34m.\u001b[0m\u001b[0mitems\u001b[0m\u001b[0;34m(\u001b[0m\u001b[0;34m)\u001b[0m\u001b[0;34m:\u001b[0m\u001b[0;34m\u001b[0m\u001b[0;34m\u001b[0m\u001b[0m\n\u001b[1;32m      3\u001b[0m     \u001b[0;32mif\u001b[0m \u001b[0mk\u001b[0m\u001b[0;34m.\u001b[0m\u001b[0mgroup\u001b[0m \u001b[0;32min\u001b[0m \u001b[0;34m[\u001b[0m\u001b[0;36m0x0018\u001b[0m\u001b[0;34m]\u001b[0m\u001b[0;34m:\u001b[0m\u001b[0;34m\u001b[0m\u001b[0;34m\u001b[0m\u001b[0m\n\u001b[0;32m----> 4\u001b[0;31m         \u001b[0mmetadata\u001b[0m\u001b[0;34m[\u001b[0m\u001b[0mv\u001b[0m\u001b[0;34m.\u001b[0m\u001b[0mname\u001b[0m\u001b[0;34m.\u001b[0m\u001b[0mlower\u001b[0m\u001b[0;34m(\u001b[0m\u001b[0;34m)\u001b[0m\u001b[0;34m.\u001b[0m\u001b[0mreplace\u001b[0m\u001b[0;34m(\u001b[0m\u001b[0;34m\" \"\u001b[0m\u001b[0;34m,\u001b[0m \u001b[0;34m\"_\"\u001b[0m\u001b[0;34m)\u001b[0m\u001b[0;34m]\u001b[0m \u001b[0;34m=\u001b[0m \u001b[0mv\u001b[0m\u001b[0;34m.\u001b[0m\u001b[0mvalue\u001b[0m\u001b[0;34m\u001b[0m\u001b[0;34m\u001b[0m\u001b[0m\n\u001b[0m",
      "\u001b[0;31mAttributeError\u001b[0m: 'RawDataElement' object has no attribute 'name'"
     ]
    }
   ],
   "source": [
    "metadata = {}\n",
    "for k, v in col[0].items():\n",
    "    if k.group in [0x0018, 0x0008, 0x0002, 0x0020]:\n",
    "        metadata[v.name.lower().replace(\" \", \"_\")] = v.value"
   ]
  },
  {
   "cell_type": "code",
   "execution_count": 186,
   "metadata": {},
   "outputs": [],
   "source": [
    "out = col[0]"
   ]
  },
  {
   "cell_type": "code",
   "execution_count": 8,
   "metadata": {},
   "outputs": [],
   "source": [
    "import meerkat as mk\n",
    "from dosma import DicomReader\n",
    "from meerkat.contrib.siim_cxr import cxr_transform, cxr_transform_pil\n",
    "\n",
    "loader = DicomReader(group_by=None, default_ornt=(\"SI\", \"AP\"))\n",
    "cell = mk.MedicalVolumeCell(\n",
    "    \"/root/test.dcm\", loader=loader, transform=cxr_transform_pil\n",
    ")\n",
    "blob = bucket.blob(\"files/p10/p10000032/s50414267/174413ec-4ec4c1f7-34ea26b7-c5f994f8-79ef1962.dcm\")"
   ]
  },
  {
   "cell_type": "code",
   "execution_count": 17,
   "metadata": {},
   "outputs": [],
   "source": [
    "out = loader(\"/home/sabri/test.dcm\")"
   ]
  },
  {
   "cell_type": "code",
   "execution_count": 15,
   "metadata": {},
   "outputs": [
    {
     "data": {
      "text/plain": [
       "Dataset.file_meta -------------------------------\n",
       "(0002, 0000) File Meta Information Group Length  UL: 206\n",
       "(0002, 0001) File Meta Information Version       OB: b'\\x00\\x01'\n",
       "(0002, 0002) Media Storage SOP Class UID         UI: Digital X-Ray Image Storage - For Presentation\n",
       "(0002, 0003) Media Storage SOP Instance UID      UI: 2.25.30925724177439423411425919179398157560\n",
       "(0002, 0010) Transfer Syntax UID                 UI: Explicit VR Little Endian\n",
       "(0002, 0012) Implementation Class UID            UI: 2.25.55362949469033348352269585565668676650\n",
       "(0002, 0013) Implementation Version Name         SH: 'MIMIC-CXR v2.0.0'\n",
       "-------------------------------------------------\n",
       "(0008, 0005) Specific Character Set              CS: 'ISO_IR 100'\n",
       "(0008, 0008) Image Type                          CS: ['DERIVED', 'PRIMARY']\n",
       "(0008, 0016) SOP Class UID                       UI: Digital X-Ray Image Storage - For Presentation\n",
       "(0008, 0018) SOP Instance UID                    UI: 2.25.30925724177439423411425919179398157560\n",
       "(0008, 0020) Study Date                          DA: '21800506'\n",
       "(0008, 0021) Series Date                         DA: '21800506'\n",
       "(0008, 0022) Acquisition Date                    DA: '21800506'\n",
       "(0008, 0023) Content Date                        DA: '21800506'\n",
       "(0008, 0030) Study Time                          TM: '213014.531'\n",
       "(0008, 0031) Series Time                         TM: '213133.484'\n",
       "(0008, 0032) Acquisition Time                    TM: '213133.484'\n",
       "(0008, 0033) Content Time                        TM: '213133.484'\n",
       "(0008, 0050) Accession Number                    SH: '50414267'\n",
       "(0008, 0060) Modality                            CS: 'DX'\n",
       "(0008, 0068) Presentation Intent Type            CS: 'FOR PRESENTATION'\n",
       "(0008, 0070) Manufacturer                        LO: ''\n",
       "(0008, 0090) Referring Physician's Name          PN: ''\n",
       "(0008, 1032)  Procedure Code Sequence   1 item(s) ---- \n",
       "   (0008, 0100) Code Value                          SH: 'C11'\n",
       "   (0008, 0102) Coding Scheme Designator            SH: 'CLP'\n",
       "   (0008, 0104) Code Meaning                        LO: 'CHEST (PA AND LAT)'\n",
       "   ---------\n",
       "(0008, 2218)  Anatomic Region Sequence   1 item(s) ---- \n",
       "   (0008, 0100) Code Value                          SH: 'T-D3000'\n",
       "   (0008, 0102) Coding Scheme Designator            SH: 'SNM3'\n",
       "   (0008, 0104) Code Meaning                        LO: 'Chest'\n",
       "   (0008, 0105) Mapping Resource                    CS: 'DCMR'\n",
       "   (0008, 0106) Context Group Version               DT: '20020904'\n",
       "   (0008, 010f) Context Identifier                  CS: '4031'\n",
       "   ---------\n",
       "(0010, 0010) Patient's Name                      PN: ''\n",
       "(0010, 0020) Patient ID                          LO: '10000032'\n",
       "(0010, 0030) Patient's Birth Date                DA: ''\n",
       "(0010, 0040) Patient's Sex                       CS: ''\n",
       "(0012, 0062) Patient Identity Removed            CS: 'YES'\n",
       "(0012, 0063) De-identification Method            LO: 'Basic Prof. PS3.15 Table E.1-1 2017e, with options.'\n",
       "(0012, 0064)  De-identification Method Code Sequence   5 item(s) ---- \n",
       "   (0008, 0100) Code Value                          SH: '113100'\n",
       "   (0008, 0102) Coding Scheme Designator            SH: 'DCM'\n",
       "   (0008, 0103) Coding Scheme Version               SH: '20170914'\n",
       "   (0008, 0104) Code Meaning                        LO: 'Basic Application Confidentiality Profile'\n",
       "   ---------\n",
       "   (0008, 0100) Code Value                          SH: '113105'\n",
       "   (0008, 0102) Coding Scheme Designator            SH: 'DCM'\n",
       "   (0008, 0103) Coding Scheme Version               SH: '20170914'\n",
       "   (0008, 0104) Code Meaning                        LO: 'Clean Descriptors Option'\n",
       "   ---------\n",
       "   (0008, 0100) Code Value                          SH: '113107'\n",
       "   (0008, 0102) Coding Scheme Designator            SH: 'DCM'\n",
       "   (0008, 0103) Coding Scheme Version               SH: '20170914'\n",
       "   (0008, 0104) Code Meaning                        LO: 'Retain Longitudinal Temporal Information Modified Dates Option'\n",
       "   ---------\n",
       "   (0008, 0100) Code Value                          SH: '113101'\n",
       "   (0008, 0102) Coding Scheme Designator            SH: 'DCM'\n",
       "   (0008, 0103) Coding Scheme Version               SH: '20170914'\n",
       "   (0008, 0104) Code Meaning                        LO: 'Clean Pixel Data Option'\n",
       "   ---------\n",
       "   (0008, 0100) Code Value                          SH: '113103'\n",
       "   (0008, 0102) Coding Scheme Designator            SH: 'DCM'\n",
       "   (0008, 0103) Coding Scheme Version               SH: '20170914'\n",
       "   (0008, 0104) Code Meaning                        LO: 'Clean Graphics Option'\n",
       "   ---------\n",
       "(0018, 0015) Body Part Examined                  CS: 'CHEST'\n",
       "(0018, 0060) KVP                                 DS: \"120.0\"\n",
       "(0018, 1110) Distance Source to Detector         DS: \"1830.0\"\n",
       "(0018, 113a) Table Type                          CS: 'FIXED'\n",
       "(0018, 1147) Field of View Shape                 CS: 'RECTANGLE'\n",
       "(0018, 1149) Field of View Dimension(s)          IS: [424, 353]\n",
       "(0018, 1150) Exposure Time                       IS: \"4\"\n",
       "(0018, 1151) X-Ray Tube Current                  IS: \"400\"\n",
       "(0018, 1152) Exposure                            IS: \"2\"\n",
       "(0018, 1153) Exposure in uAs                     IS: \"1600\"\n",
       "(0018, 1156) Rectification Type                  CS: 'THREE PHASE'\n",
       "(0018, 1160) Filter Type                         SH: 'NONE'\n",
       "(0018, 1164) Imager Pixel Spacing                DS: [0.139, 0.139]\n",
       "(0018, 1166) Grid                                CS: ['FOCUSED', 'FIXED']\n",
       "(0018, 1191) Anode Target Material               CS: 'TUNGSTEN'\n",
       "(0018, 1405) Relative X-Ray Exposure             IS: \"1357\"\n",
       "(0018, 1411) Exposure Index                      DS: \"174.65\"\n",
       "(0018, 1412) Target Exposure Index               DS: \"249.48\"\n",
       "(0018, 1413) Deviation Index                     DS: \"-1.55\"\n",
       "(0018, 1508) Positioner Type                     CS: 'RIGID'\n",
       "(0018, 1700) Collimator Shape                    CS: 'RECTANGULAR'\n",
       "(0018, 1702) Collimator Left Vertical Edge       IS: \"220\"\n",
       "(0018, 1704) Collimator Right Vertical Edge      IS: \"2372\"\n",
       "(0018, 1706) Collimator Upper Horizontal Edge    IS: \"0\"\n",
       "(0018, 1708) Collimator Lower Horizontal Edge    IS: \"2644\"\n",
       "(0018, 5101) View Position                       CS: 'LATERAL'\n",
       "(0018, 6000) Sensitivity                         DS: \"1002.0\"\n",
       "(0018, 7001) Detector Temperature                DS: \"29.0\"\n",
       "(0018, 7004) Detector Type                       CS: 'DIRECT'\n",
       "(0018, 7005) Detector Configuration              CS: 'AREA'\n",
       "(0018, 701a) Detector Binning                    DS: [1, 1]\n",
       "(0018, 7020) Detector Element Physical Size      DS: [0.139, 0.139]\n",
       "(0018, 7022) Detector Element Spacing            DS: [0.139, 0.139]\n",
       "(0018, 7040) Grid Absorbing Material             LT: 'LEAD'\n",
       "(0018, 7041) Grid Spacing Material               LT: 'ALUMINUM'\n",
       "(0018, 7042) Grid Thickness                      DS: \"1.64\"\n",
       "(0018, 7044) Grid Pitch                          DS: \"0.25\"\n",
       "(0018, 7046) Grid Aspect Ratio                   IS: [12, 1]\n",
       "(0018, 704c) Grid Focal Distance                 DS: \"1400.0\"\n",
       "(0018, 7060) Exposure Control Mode               CS: 'AUTOMATIC'\n",
       "(0018, 7062) Exposure Control Mode Description   LT: 'C/5'\n",
       "(0020, 000d) Study Instance UID                  UI: 2.25.43425231095845589862165563720974456533\n",
       "(0020, 000e) Series Instance UID                 UI: 2.25.199312369720411327420019823503813983382\n",
       "(0020, 0010) Study ID                            SH: '50414267'\n",
       "(0020, 0011) Series Number                       IS: \"2\"\n",
       "(0020, 0012) Acquisition Number                  IS: \"1\"\n",
       "(0020, 0013) Instance Number                     IS: \"1\"\n",
       "(0020, 0020) Patient Orientation                 CS: ['A', 'F']\n",
       "(0020, 0062) Image Laterality                    CS: 'U'\n",
       "(0020, 1002) Images in Acquisition               IS: \"1\"\n",
       "(0028, 0002) Samples per Pixel                   US: 1\n",
       "(0028, 0004) Photometric Interpretation          CS: 'MONOCHROME2'\n",
       "(0028, 0010) Rows                                US: 3056\n",
       "(0028, 0011) Columns                             US: 2544\n",
       "(0028, 0030) Pixel Spacing                       DS: [0.139, 0.139]\n",
       "(0028, 0100) Bits Allocated                      US: 16\n",
       "(0028, 0101) Bits Stored                         US: 12\n",
       "(0028, 0102) High Bit                            US: 11\n",
       "(0028, 0103) Pixel Representation                US: 0\n",
       "(0028, 0106) Smallest Image Pixel Value          US: 0\n",
       "(0028, 0107) Largest Image Pixel Value           US: 4095\n",
       "(0028, 0301) Burned In Annotation                CS: 'NO'\n",
       "(0028, 1040) Pixel Intensity Relationship        CS: 'LOG'\n",
       "(0028, 1041) Pixel Intensity Relationship Sign   SS: -1\n",
       "(0028, 1050) Window Center                       DS: \"2048.0\"\n",
       "(0028, 1051) Window Width                        DS: \"4096.0\"\n",
       "(0028, 1052) Rescale Intercept                   DS: \"0.0\"\n",
       "(0028, 1053) Rescale Slope                       DS: \"1.0\"\n",
       "(0028, 1054) Rescale Type                        LO: 'US'\n",
       "(0028, 2110) Lossy Image Compression             CS: '00'\n",
       "(0032, 1033) Requesting Service                  LO: 'EU'\n",
       "(0040, 0244) Performed Procedure Step Start Date DA: '21800506'\n",
       "(0040, 0245) Performed Procedure Step Start Time TM: '213014.531'\n",
       "(0040, 0254) Performed Procedure Step Descriptio LO: 'CHEST (PA AND LAT)'\n",
       "(0040, 0303) Exposed Area                        US: [37, 30]\n",
       "(0054, 0220)  View Code Sequence   1 item(s) ---- \n",
       "   (0008, 0100) Code Value                          SH: 'R-102CD'\n",
       "   (0008, 0102) Coding Scheme Designator            SH: 'SNM3'\n",
       "   (0008, 0104) Code Meaning                        LO: 'lateral'\n",
       "   (0008, 0105) Mapping Resource                    CS: 'DCMR'\n",
       "   (0008, 0106) Context Group Version               DT: '20040302'\n",
       "   (0008, 010f) Context Identifier                  CS: '4010'\n",
       "   ---------\n",
       "(0054, 0410)  Patient Orientation Code Sequence   1 item(s) ---- \n",
       "   (0008, 0100) Code Value                          SH: 'F-10440'\n",
       "   (0008, 0102) Coding Scheme Designator            SH: 'SNM3'\n",
       "   (0008, 0104) Code Meaning                        LO: 'Erect'\n",
       "   (0008, 0105) Mapping Resource                    CS: 'DCMR'\n",
       "   (0008, 0106) Context Group Version               DT: '20020904'\n",
       "   (0008, 010f) Context Identifier                  CS: '19'\n",
       "   ---------\n",
       "(0070, 0001)  Graphic Annotation Sequence   1 item(s) ---- \n",
       "   (0008, 1140)  Referenced Image Sequence   1 item(s) ---- \n",
       "      (0008, 1150) Referenced SOP Class UID            UI: Digital X-Ray Image Storage - For Presentation\n",
       "      (0008, 1155) Referenced SOP Instance UID         UI: 2.25.30925724177439423411425919179398157560\n",
       "      ---------\n",
       "   (0070, 0009)  Graphic Object Sequence   0 item(s) ---- \n",
       "   ---------\n",
       "(2050, 0020) Presentation LUT Shape              CS: 'IDENTITY'\n",
       "(7fe0, 0010) Pixel Data                          OW: Array of 15548928 elements"
      ]
     },
     "execution_count": 15,
     "metadata": {},
     "output_type": "execute_result"
    }
   ],
   "source": [
    "from pydicom import dcmread\n",
    "dcmread(\"/home/sabri/test.dcm\")"
   ]
  },
  {
   "cell_type": "code",
   "execution_count": null,
   "metadata": {},
   "outputs": [],
   "source": []
  }
 ],
 "metadata": {
  "interpreter": {
   "hash": "0d937a63d09daec3f9548a5c769ccb20edb9c2c1ae2375686b21850f577713d2"
  },
  "kernelspec": {
   "display_name": "Python 3.8.10 64-bit ('domino': conda)",
   "name": "python3"
  },
  "language_info": {
   "codemirror_mode": {
    "name": "ipython",
    "version": 3
   },
   "file_extension": ".py",
   "mimetype": "text/x-python",
   "name": "python",
   "nbconvert_exporter": "python",
   "pygments_lexer": "ipython3",
   "version": "3.8.10"
  },
  "orig_nbformat": 4
 },
 "nbformat": 4,
 "nbformat_minor": 2
}