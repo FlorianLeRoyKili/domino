{
 "cells": [
  {
   "cell_type": "code",
   "execution_count": 2,
   "metadata": {},
   "outputs": [],
   "source": [
    "%load_ext autoreload\n",
    "%autoreload 2"
   ]
  },
  {
   "cell_type": "code",
   "execution_count": 3,
   "metadata": {},
   "outputs": [],
   "source": [
    "import terra\n",
    "import seaborn as sns"
   ]
  },
  {
   "cell_type": "code",
   "execution_count": 5,
   "metadata": {},
   "outputs": [],
   "source": [
    "from domino.evaluate import score_sdms\n",
    "df = score_sdms.out(94854).load()\n",
    "df[df[\"sdm_class\"] == \"domino.sdm.confusion.ConfusionSDM\"]"
   ]
  },
  {
   "cell_type": "code",
   "execution_count": 22,
   "metadata": {},
   "outputs": [
    {
     "name": "stdout",
     "output_type": "stream",
     "text": [
      "0.013468013468013467\n",
      "0.1853211009174312\n",
      "0.014523492828126686\n"
     ]
    }
   ],
   "source": [
    "dp = terra.out(85738).load()\n",
    "print(dp[\"slices\"][:, 1].mean())\n",
    "print(dp.lz[dp[\"target\"] == 1][\"slices\"][:, 1].mean())\n",
    "print(dp.lz[dp[\"target\"] == 0][\"slices\"][:, 0].mean())"
   ]
  },
  {
   "cell_type": "code",
   "execution_count": 49,
   "metadata": {},
   "outputs": [
    {
     "name": "stderr",
     "output_type": "stream",
     "text": [
      "[nltk_data] Downloading package punkt to /root/nltk_data...\n",
      "[nltk_data]   Unzipping tokenizers/punkt.zip.\n"
     ]
    },
    {
     "data": {
      "text/plain": [
       "True"
      ]
     },
     "execution_count": 49,
     "metadata": {},
     "output_type": "execute_result"
    }
   ],
   "source": [
    "from nltk.tokenize import word_tokenize\n",
    "nltk.download('punkt')"
   ]
  },
  {
   "cell_type": "code",
   "execution_count": 54,
   "metadata": {},
   "outputs": [
    {
     "data": {
      "text/plain": [
       "Synset('smile.n.01')"
      ]
     },
     "execution_count": 54,
     "metadata": {},
     "output_type": "execute_result"
    }
   ],
   "source": [
    "from nltk.corpus import wordnet as wn\n",
    "wn.synset(\"smile.n.01\")"
   ]
  },
  {
   "cell_type": "code",
   "execution_count": 72,
   "metadata": {},
   "outputs": [
    {
     "data": {
      "text/plain": [
       "[Synset('bald.v.01'), Synset('balding.s.01')]"
      ]
     },
     "execution_count": 72,
     "metadata": {},
     "output_type": "execute_result"
    }
   ],
   "source": [
    "wn.synsets(\"balding\")"
   ]
  },
  {
   "cell_type": "code",
   "execution_count": 88,
   "metadata": {},
   "outputs": [
    {
     "data": {
      "text/plain": [
       "'having the deep slightly brownish color of gold'"
      ]
     },
     "execution_count": 88,
     "metadata": {},
     "output_type": "execute_result"
    }
   ],
   "source": [
    "wn.synset(\"golden.a.01\").definition()"
   ]
  },
  {
   "cell_type": "code",
   "execution_count": 40,
   "metadata": {},
   "outputs": [
    {
     "data": {
      "text/plain": [
       "1.0"
      ]
     },
     "execution_count": 40,
     "metadata": {},
     "output_type": "execute_result"
    }
   ],
   "source": [
    "from scipy.stats import rankdata \n",
    "curr_dp = dp.lz[dp[\"target\"] == 1]\n",
    "curr_dp.lz[rankdata(curr_dp[\"probs\"][:, 1], method=\"ordinal\") <= 10][\"slices\"][:, 1].mean()"
   ]
  },
  {
   "cell_type": "code",
   "execution_count": 130,
   "metadata": {},
   "outputs": [
    {
     "data": {
      "text/plain": [
       "'a tight-fitting headdress'"
      ]
     },
     "execution_count": 130,
     "metadata": {},
     "output_type": "execute_result"
    }
   ],
   "source": [
    "wn.synset(\"cap.n.01\").definition()"
   ]
  },
  {
   "cell_type": "code",
   "execution_count": 143,
   "metadata": {},
   "outputs": [
    {
     "data": {
      "text/plain": [
       "'having no beard'"
      ]
     },
     "execution_count": 143,
     "metadata": {},
     "output_type": "execute_result"
    }
   ],
   "source": [
    "wn.synset(\"beardless.a.01\").definition()"
   ]
  },
  {
   "cell_type": "code",
   "execution_count": 6,
   "metadata": {},
   "outputs": [
    {
     "data": {
      "text/plain": [
       "['score_model_run_id',\n",
       " 'setting_id',\n",
       " 'build_setting_run_id',\n",
       " 'score_settings_run_id',\n",
       " 'synthetic_preds',\n",
       " 'index',\n",
       " 'alpha',\n",
       " 'build_setting_kwargs',\n",
       " 'dataset',\n",
       " 'slice_category',\n",
       " 'slice_names',\n",
       " 'target_name',\n",
       " 'run_sdm_run_id',\n",
       " 'emb_group',\n",
       " 'time_this_iter_s',\n",
       " 'done',\n",
       " 'timesteps_total',\n",
       " 'episodes_total',\n",
       " 'training_iteration',\n",
       " 'experiment_id',\n",
       " 'date',\n",
       " 'timestamp',\n",
       " 'time_total_s',\n",
       " 'pid',\n",
       " 'hostname',\n",
       " 'node_ip',\n",
       " 'time_since_restore',\n",
       " 'timesteps_since_restore',\n",
       " 'iterations_since_restore',\n",
       " 'trial_id',\n",
       " 'sdm_config/learning_rate',\n",
       " 'sdm_config/n_slices',\n",
       " 'sdm_config/emb',\n",
       " 'sdm_config/xmodal_emb',\n",
       " 'config/sdm',\n",
       " 'config/slice',\n",
       " 'logdir',\n",
       " 'sdm_config/weight_y_log_likelihood',\n",
       " 'sdm_class']"
      ]
     },
     "execution_count": 6,
     "metadata": {},
     "output_type": "execute_result"
    }
   ],
   "source": [
    "terra.out(132119).load().columns"
   ]
  },
  {
   "cell_type": "code",
   "execution_count": null,
   "metadata": {},
   "outputs": [],
   "source": []
  }
 ],
 "metadata": {
  "interpreter": {
   "hash": "0d937a63d09daec3f9548a5c769ccb20edb9c2c1ae2375686b21850f577713d2"
  },
  "kernelspec": {
   "display_name": "Python 3 (ipykernel)",
   "language": "python",
   "name": "python3"
  },
  "language_info": {
   "codemirror_mode": {
    "name": "ipython",
    "version": 3
   },
   "file_extension": ".py",
   "mimetype": "text/x-python",
   "name": "python",
   "nbconvert_exporter": "python",
   "pygments_lexer": "ipython3",
   "version": "3.8.10"
  }
 },
 "nbformat": 4,
 "nbformat_minor": 4
}
