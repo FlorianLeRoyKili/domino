{
    "cells": [
        {
            "cell_type": "code",
            "execution_count": 1,
            "source": [
                "%load_ext autoreload\n",
                "%autoreload 2\n",
                "\n",
                "import meerkat as mk\n",
                "import numpy as np\n",
                "import pandas as pd\n",
                "import os\n",
                "import pickle\n",
                "from itertools import product\n",
                "\n",
                "import numpy as np\n",
                "import numpy.testing as np_test\n",
                "import pytest\n",
                "import torch\n",
                "\n",
                "from meerkat.columns.pandas_column import PandasSeriesColumn\n",
                "\n",
                "class MockStrColumn:\n",
                "    def __init__(self, use_visible_rows: bool = False, col_type: type = None):\n",
                "        self.array = [f\"row_{idx}\" for idx in range(16)]\n",
                "        self.col = col_type(self.array)\n",
                "\n",
                "        if use_visible_rows:\n",
                "            self.visible_rows = [0, 4, 6, 11]\n",
                "            self.col.visible_rows = self.visible_rows\n",
                "        else:\n",
                "            self.visible_rows = np.arange(16)"
            ],
            "outputs": [],
            "metadata": {}
        },
        {
            "cell_type": "code",
            "execution_count": 4,
            "source": [
                "x = pd.Series([1,2,3])\n",
                "x.to_pickle(\"test.pd\")"
            ],
            "outputs": [],
            "metadata": {}
        },
        {
            "cell_type": "code",
            "execution_count": 6,
            "source": [
                "class Base:\n",
                "\n",
                "    @classmethod\n",
                "    def test(cls):\n",
                "        print(cls)\n",
                "\n",
                "class SubClass(Base):\n",
                "    pass\n",
                "\n",
                "SubClass().test()"
            ],
            "outputs": [
                {
                    "output_type": "stream",
                    "name": "stdout",
                    "text": [
                        "<class '__main__.SubClass'>\n"
                    ]
                }
            ],
            "metadata": {}
        },
        {
            "cell_type": "code",
            "execution_count": 8,
            "source": [
                "\n",
                "col = mk.NumpyArrayColumn([\"123a\", \"b\", \"c\", \"ddasdasda\"])\n",
                "col.data"
            ],
            "outputs": [
                {
                    "output_type": "execute_result",
                    "data": {
                        "text/plain": [
                            "array(['123a', 'b', 'c', 'ddasdasda'], dtype='<U9')"
                        ]
                    },
                    "metadata": {},
                    "execution_count": 8
                }
            ],
            "metadata": {}
        },
        {
            "cell_type": "code",
            "execution_count": 23,
            "source": [
                "from meerkat.columns.pandas_column import CachedAccessor, _MeerkatStringMethods, _MeerkatCombinedDatetimelikeProperties, _MeerkatCategoricalAccessor\n",
                "import numbers\n",
                "class PandasSeriesColumn(\n",
                "    mk.AbstractColumn,\n",
                "    np.lib.mixins.NDArrayOperatorsMixin,\n",
                "):\n",
                "    def __init__(\n",
                "        self,\n",
                "        data = None,\n",
                "        dtype: str = None,\n",
                "        *args,\n",
                "        **kwargs,\n",
                "    ):\n",
                "        if isinstance(data, pd.Series):\n",
                "            data = data if dtype is None else data.astype(dtype)\n",
                "        elif data is not None:\n",
                "            data = pd.Series(data, dtype=dtype)\n",
                "        super(PandasSeriesColumn, self).__init__(data=data, *args, **kwargs)\n",
                "    def _repr_pandas_(self) -> pd.Series:\n",
                "        return self.data\n",
                "\n",
                "    def to_tensor(self) -> torch.Tensor:\n",
                "        \"\"\"Use `column.to_tensor()` instead of `torch.tensor(column)`, which is\n",
                "        very slow.\"\"\"\n",
                "        # TODO (Sabri): understand why `torch.tensor(column)` is so slow\n",
                "        return torch.tensor(self.data)\n",
                "\n",
                "    def to_pandas(self) -> pd.Series:\n",
                "        return self.data\n",
                "    _HANDLED_TYPES = (np.ndarray, numbers.Number)\n",
                "\n",
                "    str = CachedAccessor(\"str\", _MeerkatStringMethods)\n",
                "    dt = CachedAccessor(\"dt\", _MeerkatCombinedDatetimelikeProperties)\n",
                "    cat = CachedAccessor(\"cat\", _MeerkatCategoricalAccessor)\n",
                "    # plot = CachedAccessor(\"plot\", pandas.plotting.PlotAccessor)\n",
                "    # sparse = CachedAccessor(\"sparse\", SparseAccessor)\n",
                "\n",
                "    def __array_ufunc__(self, ufunc, method, *inputs, **kwargs):\n",
                "        out = kwargs.get(\"out\", ())\n",
                "        for x in inputs + out:\n",
                "            # Only support operations with instances of _HANDLED_TYPES.\n",
                "            # Use ArrayLike instead of type(self) for isinstance to\n",
                "            # allow subclasses that don't override __array_ufunc__ to\n",
                "            # handle ArrayLike objects.\n",
                "            if not isinstance(x, self._HANDLED_TYPES + (PandasSeriesColumn,)):\n",
                "                return NotImplemented\n",
                "\n",
                "        # Defer to the implementation of the ufunc on unwrapped values.\n",
                "        inputs = tuple(\n",
                "            x.data if isinstance(x, PandasSeriesColumn) else x for x in inputs\n",
                "        )\n",
                "        if out:\n",
                "            kwargs[\"out\"] = tuple(\n",
                "                x.data if isinstance(x, PandasSeriesColumn) else x for x in out\n",
                "            )\n",
                "        result = getattr(ufunc, method)(*inputs, **kwargs)\n",
                "\n",
                "        if type(result) is tuple:\n",
                "            # multiple return values\n",
                "            return tuple(type(self)(x) for x in result)\n",
                "        elif method == \"at\":\n",
                "            # no return value\n",
                "            return None\n",
                "        else:\n",
                "            # one return value\n",
                "            return type(self)(result)\n",
                "\n",
                "    def __getattr__(self, name):\n",
                "        try:\n",
                "            out = getattr(object.__getattribute__(self, \"data\"), name)\n",
                "            if isinstance(out, Callable):\n",
                "                return getattr_decorator(out)\n",
                "            else:\n",
                "                return out\n",
                "        except AttributeError:\n",
                "            raise AttributeError(\n",
                "                f\"'{self.__class__.__name__}' object has no attribute '{name}'\"\n",
                "            )\n",
                "\n",
                "\n",
                "col = PandasSeriesColumn([\"a\", \"b\", \"c\", \"d\"])\n",
                "import pickle \n",
                "buf = pickle.dumps(col)\n",
                "new_col = pickle.loads(buf)\n",
                "new_col"
            ],
            "outputs": [
                {
                    "output_type": "error",
                    "ename": "AttributeError",
                    "evalue": "'NoneType' object has no attribute 'to_frame'",
                    "traceback": [
                        "\u001b[0;31m---------------------------------------------------------------------------\u001b[0m",
                        "\u001b[0;31mAttributeError\u001b[0m                            Traceback (most recent call last)",
                        "\u001b[0;32m~/miniconda3/envs/domino/lib/python3.8/site-packages/IPython/core/formatters.py\u001b[0m in \u001b[0;36m__call__\u001b[0;34m(self, obj)\u001b[0m\n\u001b[1;32m    343\u001b[0m             \u001b[0mmethod\u001b[0m \u001b[0;34m=\u001b[0m \u001b[0mget_real_method\u001b[0m\u001b[0;34m(\u001b[0m\u001b[0mobj\u001b[0m\u001b[0;34m,\u001b[0m \u001b[0mself\u001b[0m\u001b[0;34m.\u001b[0m\u001b[0mprint_method\u001b[0m\u001b[0;34m)\u001b[0m\u001b[0;34m\u001b[0m\u001b[0;34m\u001b[0m\u001b[0m\n\u001b[1;32m    344\u001b[0m             \u001b[0;32mif\u001b[0m \u001b[0mmethod\u001b[0m \u001b[0;32mis\u001b[0m \u001b[0;32mnot\u001b[0m \u001b[0;32mNone\u001b[0m\u001b[0;34m:\u001b[0m\u001b[0;34m\u001b[0m\u001b[0;34m\u001b[0m\u001b[0m\n\u001b[0;32m--> 345\u001b[0;31m                 \u001b[0;32mreturn\u001b[0m \u001b[0mmethod\u001b[0m\u001b[0;34m(\u001b[0m\u001b[0;34m)\u001b[0m\u001b[0;34m\u001b[0m\u001b[0;34m\u001b[0m\u001b[0m\n\u001b[0m\u001b[1;32m    346\u001b[0m             \u001b[0;32mreturn\u001b[0m \u001b[0;32mNone\u001b[0m\u001b[0;34m\u001b[0m\u001b[0;34m\u001b[0m\u001b[0m\n\u001b[1;32m    347\u001b[0m         \u001b[0;32melse\u001b[0m\u001b[0;34m:\u001b[0m\u001b[0;34m\u001b[0m\u001b[0;34m\u001b[0m\u001b[0m\n",
                        "\u001b[0;32m~/code/meerkat/meerkat/columns/abstract.py\u001b[0m in \u001b[0;36m_repr_html_\u001b[0;34m(self)\u001b[0m\n\u001b[1;32m    229\u001b[0m         \u001b[0;31m# pd.Series objects do not implement _repr_html_\u001b[0m\u001b[0;34m\u001b[0m\u001b[0;34m\u001b[0m\u001b[0;34m\u001b[0m\u001b[0m\n\u001b[1;32m    230\u001b[0m         return (\n\u001b[0;32m--> 231\u001b[0;31m             \u001b[0mself\u001b[0m\u001b[0;34m.\u001b[0m\u001b[0m_repr_pandas_\u001b[0m\u001b[0;34m(\u001b[0m\u001b[0;34m)\u001b[0m\u001b[0;34m\u001b[0m\u001b[0;34m\u001b[0m\u001b[0m\n\u001b[0m\u001b[1;32m    232\u001b[0m             \u001b[0;34m.\u001b[0m\u001b[0mto_frame\u001b[0m\u001b[0;34m(\u001b[0m\u001b[0mname\u001b[0m\u001b[0;34m=\u001b[0m\u001b[0;34mf\"({self.__class__.__name__})\"\u001b[0m\u001b[0;34m)\u001b[0m\u001b[0;34m\u001b[0m\u001b[0;34m\u001b[0m\u001b[0m\n\u001b[1;32m    233\u001b[0m             \u001b[0;34m.\u001b[0m\u001b[0m_repr_html_\u001b[0m\u001b[0;34m(\u001b[0m\u001b[0;34m)\u001b[0m\u001b[0;34m\u001b[0m\u001b[0;34m\u001b[0m\u001b[0m\n",
                        "\u001b[0;31mAttributeError\u001b[0m: 'NoneType' object has no attribute 'to_frame'"
                    ]
                },
                {
                    "output_type": "execute_result",
                    "data": {
                        "text/plain": [
                            "PandasSeriesColumn(None)"
                        ]
                    },
                    "metadata": {},
                    "execution_count": 23
                }
            ],
            "metadata": {}
        },
        {
            "cell_type": "code",
            "execution_count": 5,
            "source": [
                "col = mk.PandasSeriesColumn([1,2,3,4])\n",
                "def func(x):\n",
                "    out = x + 1\n",
                "    return out\n",
                "\n",
                "result = col.map(\n",
                "    func, batch_size=2, is_batched_fn=False, output_type=PandasSeriesColumn\n",
                ")\n",
                "result"
            ],
            "outputs": [
                {
                    "output_type": "execute_result",
                    "data": {
                        "text/plain": [
                            "PandasSeriesColumn(0    2\n",
                            "1    3...5\n",
                            "dtype: int64)"
                        ],
                        "text/html": [
                            "<div>\n",
                            "<style scoped>\n",
                            "    .dataframe tbody tr th:only-of-type {\n",
                            "        vertical-align: middle;\n",
                            "    }\n",
                            "\n",
                            "    .dataframe tbody tr th {\n",
                            "        vertical-align: top;\n",
                            "    }\n",
                            "\n",
                            "    .dataframe thead th {\n",
                            "        text-align: right;\n",
                            "    }\n",
                            "</style>\n",
                            "<table border=\"1\" class=\"dataframe\">\n",
                            "  <thead>\n",
                            "    <tr style=\"text-align: right;\">\n",
                            "      <th></th>\n",
                            "      <th>(PandasSeriesColumn)</th>\n",
                            "    </tr>\n",
                            "  </thead>\n",
                            "  <tbody>\n",
                            "    <tr>\n",
                            "      <th>0</th>\n",
                            "      <td>2</td>\n",
                            "    </tr>\n",
                            "    <tr>\n",
                            "      <th>1</th>\n",
                            "      <td>3</td>\n",
                            "    </tr>\n",
                            "    <tr>\n",
                            "      <th>0</th>\n",
                            "      <td>4</td>\n",
                            "    </tr>\n",
                            "    <tr>\n",
                            "      <th>1</th>\n",
                            "      <td>5</td>\n",
                            "    </tr>\n",
                            "  </tbody>\n",
                            "</table>\n",
                            "</div>"
                        ]
                    },
                    "metadata": {},
                    "execution_count": 5
                }
            ],
            "metadata": {}
        },
        {
            "cell_type": "code",
            "execution_count": 3,
            "source": [
                "testbed = MockStrColumn(\n",
                "    col_type=PandasSeriesColumn\n",
                ")\n",
                "col = testbed.col\n",
                "\n",
                "upper_col = col.str.upper()\n",
                "assert isinstance(upper_col, PandasSeriesColumn)\n",
                "assert col[0] == f\"ROW_{testbed.visible_rows[0]}\"\n"
            ],
            "outputs": [
                {
                    "output_type": "error",
                    "ename": "AssertionError",
                    "evalue": "",
                    "traceback": [
                        "\u001b[0;31m---------------------------------------------------------------------------\u001b[0m",
                        "\u001b[0;31mAssertionError\u001b[0m                            Traceback (most recent call last)",
                        "\u001b[0;32m<ipython-input-3-9b4f23aa22ab>\u001b[0m in \u001b[0;36m<module>\u001b[0;34m\u001b[0m\n\u001b[1;32m      6\u001b[0m \u001b[0mupper_col\u001b[0m \u001b[0;34m=\u001b[0m \u001b[0mcol\u001b[0m\u001b[0;34m.\u001b[0m\u001b[0mstr\u001b[0m\u001b[0;34m.\u001b[0m\u001b[0mupper\u001b[0m\u001b[0;34m(\u001b[0m\u001b[0;34m)\u001b[0m\u001b[0;34m\u001b[0m\u001b[0;34m\u001b[0m\u001b[0m\n\u001b[1;32m      7\u001b[0m \u001b[0;32massert\u001b[0m \u001b[0misinstance\u001b[0m\u001b[0;34m(\u001b[0m\u001b[0mupper_col\u001b[0m\u001b[0;34m,\u001b[0m \u001b[0mPandasSeriesColumn\u001b[0m\u001b[0;34m)\u001b[0m\u001b[0;34m\u001b[0m\u001b[0;34m\u001b[0m\u001b[0m\n\u001b[0;32m----> 8\u001b[0;31m \u001b[0;32massert\u001b[0m \u001b[0mcol\u001b[0m\u001b[0;34m[\u001b[0m\u001b[0;36m0\u001b[0m\u001b[0;34m]\u001b[0m \u001b[0;34m==\u001b[0m \u001b[0;34mf\"ROW_{testbed.visible_rows[0]}\"\u001b[0m\u001b[0;34m\u001b[0m\u001b[0;34m\u001b[0m\u001b[0m\n\u001b[0m",
                        "\u001b[0;31mAssertionError\u001b[0m: "
                    ]
                }
            ],
            "metadata": {}
        },
        {
            "cell_type": "code",
            "execution_count": 6,
            "source": [
                "col.values"
            ],
            "outputs": [
                {
                    "output_type": "execute_result",
                    "data": {
                        "text/plain": [
                            "array(['row_0', 'row_1', 'row_2', 'row_3', 'row_4', 'row_5', 'row_6',\n",
                            "       'row_7', 'row_8', 'row_9', 'row_10', 'row_11', 'row_12', 'row_13',\n",
                            "       'row_14', 'row_15'], dtype=object)"
                        ]
                    },
                    "metadata": {},
                    "execution_count": 6
                }
            ],
            "metadata": {}
        },
        {
            "cell_type": "code",
            "execution_count": 4,
            "source": [
                "col = PandasSeriesColumn([\"05/30/96\", \"10/20/23\"])\n",
                "dt_col = pd.to_datetime(col)"
            ],
            "outputs": [],
            "metadata": {}
        },
        {
            "cell_type": "code",
            "execution_count": 7,
            "source": [
                "dt_col.dt.day.values"
            ],
            "outputs": [
                {
                    "output_type": "execute_result",
                    "data": {
                        "text/plain": [
                            "array([30, 20])"
                        ]
                    },
                    "metadata": {},
                    "execution_count": 7
                }
            ],
            "metadata": {}
        },
        {
            "cell_type": "code",
            "execution_count": 9,
            "source": [
                "mk.NumpyArrayColumn.from_data(col)"
            ],
            "outputs": [
                {
                    "output_type": "execute_result",
                    "data": {
                        "text/plain": [
                            "NumpyArrayColumn(array(['a', '..., dtype='<U1'))"
                        ],
                        "text/html": [
                            "<div>\n",
                            "<style scoped>\n",
                            "    .dataframe tbody tr th:only-of-type {\n",
                            "        vertical-align: middle;\n",
                            "    }\n",
                            "\n",
                            "    .dataframe tbody tr th {\n",
                            "        vertical-align: top;\n",
                            "    }\n",
                            "\n",
                            "    .dataframe thead th {\n",
                            "        text-align: right;\n",
                            "    }\n",
                            "</style>\n",
                            "<table border=\"1\" class=\"dataframe\">\n",
                            "  <thead>\n",
                            "    <tr style=\"text-align: right;\">\n",
                            "      <th></th>\n",
                            "      <th>(NumpyArrayColumn)</th>\n",
                            "    </tr>\n",
                            "  </thead>\n",
                            "  <tbody>\n",
                            "    <tr>\n",
                            "      <th>0</th>\n",
                            "      <td>a</td>\n",
                            "    </tr>\n",
                            "    <tr>\n",
                            "      <th>1</th>\n",
                            "      <td>b</td>\n",
                            "    </tr>\n",
                            "    <tr>\n",
                            "      <th>2</th>\n",
                            "      <td>c</td>\n",
                            "    </tr>\n",
                            "  </tbody>\n",
                            "</table>\n",
                            "</div>"
                        ]
                    },
                    "metadata": {},
                    "execution_count": 9
                }
            ],
            "metadata": {}
        },
        {
            "cell_type": "code",
            "execution_count": 12,
            "source": [
                "import meerkat as mk\n",
                "mk.ListColumn.from_data(np.arange(10))"
            ],
            "outputs": [
                {
                    "output_type": "execute_result",
                    "data": {
                        "text/plain": [
                            "NumpyArrayColumn(array([0, 1, ..., 6, 7, 8, 9]))"
                        ],
                        "text/html": [
                            "<div>\n",
                            "<style scoped>\n",
                            "    .dataframe tbody tr th:only-of-type {\n",
                            "        vertical-align: middle;\n",
                            "    }\n",
                            "\n",
                            "    .dataframe tbody tr th {\n",
                            "        vertical-align: top;\n",
                            "    }\n",
                            "\n",
                            "    .dataframe thead th {\n",
                            "        text-align: right;\n",
                            "    }\n",
                            "</style>\n",
                            "<table border=\"1\" class=\"dataframe\">\n",
                            "  <thead>\n",
                            "    <tr style=\"text-align: right;\">\n",
                            "      <th></th>\n",
                            "      <th>(NumpyArrayColumn)</th>\n",
                            "    </tr>\n",
                            "  </thead>\n",
                            "  <tbody>\n",
                            "    <tr>\n",
                            "      <th>0</th>\n",
                            "      <td>0</td>\n",
                            "    </tr>\n",
                            "    <tr>\n",
                            "      <th>1</th>\n",
                            "      <td>1</td>\n",
                            "    </tr>\n",
                            "    <tr>\n",
                            "      <th>2</th>\n",
                            "      <td>2</td>\n",
                            "    </tr>\n",
                            "    <tr>\n",
                            "      <th>3</th>\n",
                            "      <td>3</td>\n",
                            "    </tr>\n",
                            "    <tr>\n",
                            "      <th>4</th>\n",
                            "      <td>4</td>\n",
                            "    </tr>\n",
                            "    <tr>\n",
                            "      <th>5</th>\n",
                            "      <td>5</td>\n",
                            "    </tr>\n",
                            "    <tr>\n",
                            "      <th>6</th>\n",
                            "      <td>6</td>\n",
                            "    </tr>\n",
                            "    <tr>\n",
                            "      <th>7</th>\n",
                            "      <td>7</td>\n",
                            "    </tr>\n",
                            "    <tr>\n",
                            "      <th>8</th>\n",
                            "      <td>8</td>\n",
                            "    </tr>\n",
                            "    <tr>\n",
                            "      <th>9</th>\n",
                            "      <td>9</td>\n",
                            "    </tr>\n",
                            "  </tbody>\n",
                            "</table>\n",
                            "</div>"
                        ]
                    },
                    "metadata": {},
                    "execution_count": 12
                }
            ],
            "metadata": {}
        },
        {
            "cell_type": "code",
            "execution_count": 13,
            "source": [
                "mk.ListColumn.from_data(range(10))"
            ],
            "outputs": [
                {
                    "output_type": "execute_result",
                    "data": {
                        "text/plain": [
                            "NumpyArrayColumn(array([0, 1, ..., 6, 7, 8, 9]))"
                        ],
                        "text/html": [
                            "<div>\n",
                            "<style scoped>\n",
                            "    .dataframe tbody tr th:only-of-type {\n",
                            "        vertical-align: middle;\n",
                            "    }\n",
                            "\n",
                            "    .dataframe tbody tr th {\n",
                            "        vertical-align: top;\n",
                            "    }\n",
                            "\n",
                            "    .dataframe thead th {\n",
                            "        text-align: right;\n",
                            "    }\n",
                            "</style>\n",
                            "<table border=\"1\" class=\"dataframe\">\n",
                            "  <thead>\n",
                            "    <tr style=\"text-align: right;\">\n",
                            "      <th></th>\n",
                            "      <th>(NumpyArrayColumn)</th>\n",
                            "    </tr>\n",
                            "  </thead>\n",
                            "  <tbody>\n",
                            "    <tr>\n",
                            "      <th>0</th>\n",
                            "      <td>0</td>\n",
                            "    </tr>\n",
                            "    <tr>\n",
                            "      <th>1</th>\n",
                            "      <td>1</td>\n",
                            "    </tr>\n",
                            "    <tr>\n",
                            "      <th>2</th>\n",
                            "      <td>2</td>\n",
                            "    </tr>\n",
                            "    <tr>\n",
                            "      <th>3</th>\n",
                            "      <td>3</td>\n",
                            "    </tr>\n",
                            "    <tr>\n",
                            "      <th>4</th>\n",
                            "      <td>4</td>\n",
                            "    </tr>\n",
                            "    <tr>\n",
                            "      <th>5</th>\n",
                            "      <td>5</td>\n",
                            "    </tr>\n",
                            "    <tr>\n",
                            "      <th>6</th>\n",
                            "      <td>6</td>\n",
                            "    </tr>\n",
                            "    <tr>\n",
                            "      <th>7</th>\n",
                            "      <td>7</td>\n",
                            "    </tr>\n",
                            "    <tr>\n",
                            "      <th>8</th>\n",
                            "      <td>8</td>\n",
                            "    </tr>\n",
                            "    <tr>\n",
                            "      <th>9</th>\n",
                            "      <td>9</td>\n",
                            "    </tr>\n",
                            "  </tbody>\n",
                            "</table>\n",
                            "</div>"
                        ]
                    },
                    "metadata": {},
                    "execution_count": 13
                }
            ],
            "metadata": {}
        },
        {
            "cell_type": "code",
            "execution_count": null,
            "source": [],
            "outputs": [],
            "metadata": {}
        }
    ],
    "metadata": {
        "orig_nbformat": 4,
        "language_info": {
            "name": "python"
        }
    },
    "nbformat": 4,
    "nbformat_minor": 2
}