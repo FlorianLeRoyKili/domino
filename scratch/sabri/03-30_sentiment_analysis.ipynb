{
 "cells": [
  {
   "cell_type": "code",
   "execution_count": 1,
   "metadata": {},
   "outputs": [
    {
     "output_type": "stream",
     "name": "stderr",
     "text": [
      "[2021-03-31 09:04:03,403][INFO][root:41] :: Logging initialized.\n"
     ]
    }
   ],
   "source": [
    "import os\n",
    "import pathlib\n",
    "# move caching off of afs\n",
    "log_dir = \"/lfs/1/sabri/data/robustnessgym/datasets/\"\n",
    "os.environ['HF_HOME'] = os.path.join(log_dir, \"hugging_face/cache/\") # source: https://github.com/huggingface/transformers/issues/8703\n",
    "os.makedirs(log_dir, exist_ok=True)\n",
    "import robustnessgym as rg\n",
    "rg.Dataset.logdir = pathlib.Path(log_dir)"
   ]
  },
  {
   "cell_type": "code",
   "execution_count": 2,
   "metadata": {},
   "outputs": [],
   "source": [
    "import cytoolz as tz\n",
    "import matplotlib.pyplot as plt\n",
    "import numpy as np\n",
    "import pandas as pd\n",
    "import scipy.stats\n",
    "import scipy.optimize\n",
    "import pickle\n",
    "\n",
    "from scipy.special import logsumexp\n",
    "from itertools import product\n",
    "from robustnessgym.core.model import Model, HuggingfaceModel\n",
    "from robustnessgym import BinarySentiment\n",
    "from tqdm.auto import tqdm\n",
    "from types import SimpleNamespace"
   ]
  },
  {
   "cell_type": "code",
   "execution_count": 3,
   "metadata": {},
   "outputs": [],
   "source": [
    "np.set_printoptions(precision=2, suppress=True)\n",
    "pd.set_option('display.max_rows', 500)\n",
    "pd.set_option('display.max_columns', 500)\n",
    "pd.set_option('display.width', 1000)\n",
    "pd.set_option('display.max_colwidth', None)"
   ]
  },
  {
   "cell_type": "code",
   "execution_count": 4,
   "metadata": {},
   "outputs": [
    {
     "output_type": "stream",
     "name": "stderr",
     "text": [
      "[2021-03-31 09:04:35,367][WARNING][datasets.builder:512] :: Reusing dataset imdb (/lfs/1/sabri/data/robustnessgym/datasets/hugging_face/cache/datasets/imdb/plain_text/1.0.0/90099cb476936b753383ba2ae6ab2eae419b2e87f71cd5189cb9c8e5814d12a3)\n",
      "[2021-03-31 09:04:35,572][INFO][robustnessgym.core.dataformats.inmemory:87] :: Created `InMemoryDataset` with 25000 rows and 2 columns.\n",
      "[2021-03-31 09:04:35,580][INFO][root:133] :: Added column `index` with length `25000`.\n",
      "[2021-03-31 09:04:35,663][INFO][robustnessgym.core.dataformats.inmemory:87] :: Created `InMemoryDataset` with 25000 rows and 2 columns.\n",
      "[2021-03-31 09:04:35,671][INFO][root:133] :: Added column `index` with length `25000`.\n",
      "[2021-03-31 09:04:35,829][INFO][robustnessgym.core.dataformats.inmemory:87] :: Created `InMemoryDataset` with 50000 rows and 2 columns.\n",
      "[2021-03-31 09:04:35,843][INFO][root:133] :: Added column `index` with length `50000`.\n"
     ]
    }
   ],
   "source": [
    "imdb = rg.Dataset.load_dataset('imdb')"
   ]
  },
  {
   "cell_type": "code",
   "execution_count": 5,
   "metadata": {},
   "outputs": [
    {
     "output_type": "stream",
     "name": "stderr",
     "text": [
      "[2021-03-31 09:04:36,692][WARNING][datasets.builder:512] :: Reusing dataset sentiment140 (/lfs/1/sabri/data/robustnessgym/datasets/hugging_face/cache/datasets/sentiment140/sentiment140/1.0.0/9fe1c0ce3319c47cc65ff7e49aac6c34d9c050ab1432988c104b3b275e360f3f)\n",
      "[2021-03-31 09:04:45,349][INFO][robustnessgym.core.dataformats.inmemory:87] :: Created `InMemoryDataset` with 1600000 rows and 5 columns.\n",
      "[2021-03-31 09:04:45,779][INFO][root:133] :: Added column `index` with length `1600000`.\n",
      "[2021-03-31 09:04:45,800][INFO][robustnessgym.core.dataformats.inmemory:87] :: Created `InMemoryDataset` with 498 rows and 5 columns.\n",
      "[2021-03-31 09:04:45,801][INFO][root:133] :: Added column `index` with length `498`.\n"
     ]
    }
   ],
   "source": [
    "sentiment140 = rg.Dataset.load_dataset(\"sentiment140\")"
   ]
  },
  {
   "cell_type": "code",
   "execution_count": 6,
   "metadata": {},
   "outputs": [],
   "source": [
    "# This is still a bit janky in RG, lmk if there's trouble here\n",
    "model = Model.huggingface(identifier='textattack/bert-base-uncased-imdb', is_classifier=True)\n",
    "model.task = BinarySentiment()"
   ]
  },
  {
   "cell_type": "code",
   "execution_count": 7,
   "metadata": {},
   "outputs": [],
   "source": [
    "def predict_dataset(model, dataset, input_columns, batch_size=10, batches=None):\n",
    "    predictions = []\n",
    "    for i, batch in tqdm(enumerate(dataset.batch(batch_size))):\n",
    "        predictions.append(model.predict_batch(batch=batch, input_columns=input_columns))\n",
    "        if i == batches:\n",
    "            break\n",
    "    return {k: list(tz.concat([p[k] for p in predictions])) for k in predictions[0].keys()}"
   ]
  },
  {
   "cell_type": "markdown",
   "metadata": {},
   "source": [
    "# Sentiment 140"
   ]
  },
  {
   "cell_type": "code",
   "execution_count": 26,
   "metadata": {},
   "outputs": [],
   "source": [
    "if os.path.exists('textattack-bert-base-uncased-imdb_sentiment140_predictions.pkl') and False:\n",
    "    sentiment140_predictions = pickle.load(\n",
    "        open('textattack-bert-base-uncased-imdb_sentiment140_predictions.pkl', 'rb')\n",
    "    )\n",
    "else:\n",
    "    sentiment140_predictions = predict_dataset(model, sentiment140['test'], ['text'], batch_size=10)\n",
    "    pickle.dump(\n",
    "        sentiment140_predictions,  \n",
    "        open('textattack-bert-base-uncased-imdb_sentiment140_predictions.pkl', 'wb')\n",
    "    )"
   ]
  },
  {
   "cell_type": "code",
   "execution_count": 11,
   "metadata": {},
   "outputs": [],
   "source": [
    "def evaluate_sentiment140(predictions, labels):\n",
    "    preds = np.array(predictions['pred'])\n",
    "    sentiment140_not_neutral_indices = np.where(labels != 2)[0]\n",
    "    correct = preds[sentiment140_not_neutral_indices] == np.array(labels[sentiment140_not_neutral_indices]/4.).astype(int)\n",
    "    return {\n",
    "        'correct': correct.astype(int), \n",
    "        'accuracy': np.mean(correct)\n",
    "    }\n",
    "    "
   ]
  },
  {
   "cell_type": "code",
   "execution_count": 28,
   "metadata": {},
   "outputs": [],
   "source": [
    "sentiment140_labels = np.array(sentiment140['test']['sentiment'])\n",
    "sentiment140_not_neutral_indices = np.where(sentiment140_labels != 2)[0]\n",
    "sentiment140_eval = evaluate_sentiment140(sentiment140_predictions, sentiment140_labels)"
   ]
  },
  {
   "cell_type": "markdown",
   "metadata": {},
   "source": [
    "# IMDB"
   ]
  },
  {
   "cell_type": "code",
   "execution_count": 21,
   "metadata": {},
   "outputs": [],
   "source": [
    "if os.path.exists('textattack-bert-base-uncased-imdb_imdb_predictions.pkl'):\n",
    "    imdb_predictions = pickle.load(\n",
    "        open('textattack-bert-base-uncased-imdb_imdb_predictions.pkl', 'rb')\n",
    "    )\n",
    "else:\n",
    "    imdb_predictions = predict_dataset(model, imdb['test'], ['text'], batch_size=10)\n",
    "    pickle.dump(\n",
    "        imdb_predictions,  \n",
    "        open('textattack-bert-base-uncased-imdb_imdb_predictions.pkl', 'wb')\n",
    "    )"
   ]
  },
  {
   "cell_type": "code",
   "execution_count": 14,
   "metadata": {},
   "outputs": [],
   "source": [
    "def evaluate_imdb(predictions, labels):\n",
    "    preds = np.array(predictions['pred'])\n",
    "    \n",
    "    correct = (preds == labels).astype(int)\n",
    "    return {\n",
    "        'correct': correct,\n",
    "        'accuracy': np.mean(correct),\n",
    "    }"
   ]
  },
  {
   "cell_type": "code",
   "execution_count": 29,
   "metadata": {},
   "outputs": [],
   "source": [
    "imdb_labels = np.array(imdb['test']['label'])\n",
    "imdb_eval = evaluate_imdb(imdb_predictions, imdb_labels)"
   ]
  },
  {
   "cell_type": "markdown",
   "metadata": {},
   "source": [
    "# Simple Slices"
   ]
  },
  {
   "cell_type": "code",
   "execution_count": 30,
   "metadata": {},
   "outputs": [],
   "source": [
    "\"\"\"Slices for entropy, prediction.\"\"\"\n",
    "\n",
    "def calc_entropy(probs):\n",
    "    return (- probs * np.log(probs)).sum(axis=1)\n",
    "\n",
    "def entropy_slice(probs):\n",
    "    entropy = calc_entropy(probs)\n",
    "    intervals = [(0, 0.1), (0.1, 0.2), (0.2, 0.3), (0.3, 0.4), (0.4, 0.5), (0.5, 0.6), (0.6, 0.7)]\n",
    "    return np.array([[t[0] <= e <= t[1] for t in intervals] for e in entropy]).astype(int)\n",
    "\n",
    "def prediction_slice(preds, n_classes=2):\n",
    "    return np.eye(n_classes)[preds].astype(int)\n",
    "\n",
    "def task_agnostic_slices(probs, preds):\n",
    "    return SimpleNamespace(\n",
    "        slices=np.concatenate([\n",
    "            entropy_slice(probs),\n",
    "            prediction_slice(preds),\n",
    "            ], axis=1\n",
    "        ),\n",
    "        n=(8, 2),\n",
    "    )\n"
   ]
  },
  {
   "cell_type": "code",
   "execution_count": 31,
   "metadata": {},
   "outputs": [],
   "source": [
    "imdb_tas = \\\n",
    "task_agnostic_slices(\n",
    "    probs=np.stack(imdb_predictions['probs']),\n",
    "    preds=imdb_predictions['pred'],\n",
    ")\n",
    "\n",
    "sentiment140_tas = \\\n",
    "task_agnostic_slices(\n",
    "    probs=np.stack(sentiment140_predictions['probs']),\n",
    "    preds=sentiment140_predictions['pred'],\n",
    ")"
   ]
  },
  {
   "cell_type": "code",
   "execution_count": 32,
   "metadata": {},
   "outputs": [
    {
     "data": {
      "text/plain": [
       "[<matplotlib.lines.Line2D at 0x7f33bce90460>]"
      ]
     },
     "execution_count": 32,
     "metadata": {},
     "output_type": "execute_result"
    },
    {
     "data": {
      "image/png": "[encoded data removed]",
      "text/plain": [
       "<Figure size 432x288 with 1 Axes>"
      ]
     },
     "metadata": {
      "needs_background": "light"
     },
     "output_type": "display_data"
    }
   ],
   "source": [
    "# Plot the distributions of the slices\n",
    "plt.plot(imdb_tas.slices.sum(axis=0)/imdb_tas.slices.sum())\n",
    "plt.plot(sentiment140_tas.slices.sum(axis=0)/sentiment140_tas.slices.sum())"
   ]
  },
  {
   "cell_type": "markdown",
   "metadata": {},
   "source": [
    "# Mandoline"
   ]
  },
  {
   "cell_type": "code",
   "execution_count": 33,
   "metadata": {},
   "outputs": [],
   "source": [
    "def Phi(D, edge_list):\n",
    "    if edge_list is not None:\n",
    "        pairwise_terms = D[np.arange(len(D)), edge_list[:, 0][:, np.newaxis]].T * D[np.arange(len(D)), edge_list[:, 1][:, np.newaxis]].T\n",
    "        return np.concatenate([D, pairwise_terms], axis=1)\n",
    "    else:\n",
    "        return D\n",
    "    \n",
    "def log_partition_ratio(x, Phi_D_src, n_src):\n",
    "    return np.log(n_src) - logsumexp(Phi_D_src.dot(x))\n",
    "\n",
    "def solver(D_src, D_tgt, edge_list):\n",
    "    D_src, D_tgt = np.copy(D_src), np.copy(D_tgt)\n",
    "    if np.min(D_src) == 0:\n",
    "        D_src[D_src == 0] = -1\n",
    "        D_tgt[D_tgt == 0] = -1\n",
    "    # Edge list encoding dependencies between gs\n",
    "    if edge_list is not None:\n",
    "        edge_list = np.array(edge_list)\n",
    "    \n",
    "    # Create the potential matrices\n",
    "    Phi_D_tgt, Phi_D_src = Phi(D_tgt, edge_list), Phi(D_src, edge_list)\n",
    "    \n",
    "    # Number of examples\n",
    "    n_src, n_tgt = Phi_D_src.shape[0], Phi_D_tgt.shape[0]\n",
    "    \n",
    "    def f(x):\n",
    "        obj = Phi_D_tgt.dot(x).sum() - n_tgt * logsumexp(Phi_D_src.dot(x))\n",
    "        return -obj\n",
    "    \n",
    "    # Solve\n",
    "    opt = scipy.optimize.minimize(f, np.random.randn(Phi_D_tgt.shape[1]), method='BFGS')\n",
    "    \n",
    "    return SimpleNamespace(\n",
    "        opt=opt, \n",
    "        Phi_D_src=Phi_D_src, \n",
    "        Phi_D_tgt=Phi_D_tgt, \n",
    "        n_src=n_src, \n",
    "        n_tgt=n_tgt, \n",
    "        edge_list=edge_list)\n",
    "\n",
    "def log_density_ratio(D, solved):\n",
    "    Phi_D = Phi(D, None)\n",
    "    return Phi_D.dot(solved.opt.x) + log_partition_ratio(solved.opt.x, solved.Phi_D_src, solved.n_src)\n",
    "\n",
    "def get_k_most_unbalanced_gs(D_src, D_tgt, k):\n",
    "    marginal_diff = np.abs(D_src.mean(axis=0) - D_tgt.mean(axis=0))\n",
    "    differences = np.sort(marginal_diff)[-k:]\n",
    "    indices = np.argsort(marginal_diff)[-k:]\n",
    "    return list(indices), list(differences)\n",
    "\n",
    "def weighted_estimator(weights, empirical_mat):\n",
    "    if weights is None:\n",
    "        return np.mean(empirical_mat, axis=0)\n",
    "    return np.sum(weights[:, np.newaxis] * empirical_mat, axis=0)\n",
    "\n",
    "def run_estimation_experiment(D_src, D_tgt, indices, edge_list, empirical_mat_list_src, empirical_mat_list_tgt):\n",
    "    \"\"\"\n",
    "    Main entry point to run an experiment with Mandoline.\n",
    "    \n",
    "    D_src: binary source matrix (n_s x d) with 0/1 entries\n",
    "    D_tgt: binary target matrix (n_t x d) with 0/1 entries\n",
    "    indices: list of integers used to restrict the procedure to some subset of the columns in D_src, D_tgt\n",
    "    edge_list: edge pairs (e.g. [(0, 1)]) that indicate correlation in the graphical model structure\n",
    "    empirical_mat_list_src: list of source matrices for which reweighted means will be computed\n",
    "    empirical_mat_list_tgt: list of target matrices for which direct means will be computed\n",
    "    \"\"\"\n",
    "    assert len(empirical_mat_list_src) == len(empirical_mat_list_tgt)\n",
    "    # Run the solver\n",
    "    solved = solver(\n",
    "        D_src[:, indices] if indices is not None else D_src, \n",
    "        D_tgt[:, indices] if indices is not None else D_tgt, \n",
    "        edge_list,\n",
    "    )\n",
    "    # Compute the weights on the source dataset\n",
    "    density_ratios = np.e ** log_density_ratio(solved.Phi_D_src, solved)\n",
    "    weights = density_ratios/np.sum(density_ratios)\n",
    "    \n",
    "    all_estimates = []\n",
    "    for mat_src, mat_tgt in zip(empirical_mat_list_src, empirical_mat_list_tgt):\n",
    "        # Estimates is a 1-D array of estimates for each mat e.g. each mat can correspond to a model's (n x 1) error matrix\n",
    "        weighted_estimates = weighted_estimator(weights, mat_src)\n",
    "        source_estimates = weighted_estimator(np.ones(solved.n_src)/solved.n_src, mat_src)\n",
    "        target_estimates = weighted_estimator(np.ones(solved.n_tgt)/solved.n_tgt, mat_tgt)\n",
    "        \n",
    "        all_estimates.append(SimpleNamespace(weighted=weighted_estimates, source=source_estimates, target=target_estimates))\n",
    "        \n",
    "    return SimpleNamespace(all_estimates=all_estimates, solved=solved, weights=weights, indices=indices)\n",
    "    \n",
    "def diagnostics(results, D_src, D_tgt):\n",
    "    print(results.all_estimates)\n",
    "    print(\"Source | Weighted Source | Target marginals for picked g_is (should match ideally)\")\n",
    "    print(weighted_estimator(None, D_src[:, results.indices]), weighted_estimator(results.weights, D_src[:, results.indices]), weighted_estimator(None, D_tgt[:, results.indices]))\n",
    "    plt.plot(np.sort(results.weights))\n",
    "    plt.show()\n",
    "    \n",
    "def effective_sample_size(weights):\n",
    "    n = weights.shape[0]\n",
    "    return n * (weights.mean())**2 / (weights**2).mean()\n",
    "\n",
    "def get_correlation_structure(m, top_k=None, thresh=None, min_thresh=0.1, lmbda=0.1):\n",
    "    # Compute the inverse covariance matrix\n",
    "    inv_cov = np.linalg.inv(np.dot(m.T, m)/m.shape[0] + np.eye(m.shape[1]) * lmbda)\n",
    "    \n",
    "    # Absolute values\n",
    "    inv_cov = np.abs(inv_cov)\n",
    "    \n",
    "    # Set diagonal values to 0.\n",
    "    inv_cov[np.arange(inv_cov.shape[0]), np.arange(inv_cov.shape[0])] = 0.\n",
    "    \n",
    "    # Create an adjacency matrix\n",
    "    inv_cov_adj = np.zeros_like(inv_cov)\n",
    "    \n",
    "    if top_k:\n",
    "        # Indices for top-k values\n",
    "        top_k_entries = np.unravel_index(np.argsort(inv_cov.ravel())[-top_k * 2:], inv_cov.shape)\n",
    "        inv_cov_adj[top_k_entries] = 1\n",
    "        inv_cov_adj[inv_cov <= min_thresh] = 0.\n",
    "    else:\n",
    "        inv_cov_adj[inv_cov > thresh] = 1\n",
    "    inv_cov_adj[np.arange(inv_cov_adj.shape[0]), np.arange(inv_cov_adj.shape[0])] = 0\n",
    "    \n",
    "    # Figure out the edges\n",
    "    edges = np.array([t for t in zip(*np.where(inv_cov_adj)) if t[0] < t[1]])\n",
    "    \n",
    "    return edges"
   ]
  },
  {
   "cell_type": "code",
   "execution_count": 34,
   "metadata": {},
   "outputs": [],
   "source": [
    "exp_imdb_to_sentiment140 = run_estimation_experiment(\n",
    "    D_src=imdb_tas.slices,\n",
    "    D_tgt=sentiment140_tas.slices[sentiment140_not_neutral_indices],\n",
    "    indices=None,\n",
    "    edge_list=None,\n",
    "    empirical_mat_list_src=[imdb_eval['correct'][:, np.newaxis]],\n",
    "    empirical_mat_list_tgt=[sentiment140_eval['correct'][:, np.newaxis]]\n",
    ")"
   ]
  },
  {
   "cell_type": "code",
   "execution_count": 35,
   "metadata": {},
   "outputs": [
    {
     "data": {
      "text/plain": [
       "[namespace(weighted=array([0.71]), source=array([0.93]), target=array([0.76]))]"
      ]
     },
     "execution_count": 35,
     "metadata": {},
     "output_type": "execute_result"
    }
   ],
   "source": [
    "exp_imdb_to_sentiment140.all_estimates"
   ]
  },
  {
   "cell_type": "code",
   "execution_count": 36,
   "metadata": {},
   "outputs": [],
   "source": [
    "weighted = np.array([\n",
    "    exp_imdb_to_sentiment140.all_estimates[0].weighted,\n",
    "])\n",
    "\n",
    "source = np.array([\n",
    "    exp_imdb_to_sentiment140.all_estimates[0].source,\n",
    "])\n",
    "\n",
    "target = np.array([\n",
    "    exp_imdb_to_sentiment140.all_estimates[0].target,\n",
    "])"
   ]
  },
  {
   "cell_type": "code",
   "execution_count": 38,
   "metadata": {},
   "outputs": [
    {
     "data": {
      "text/html": [
       "<div>\n",
       "<style scoped>\n",
       "    .dataframe tbody tr th:only-of-type {\n",
       "        vertical-align: middle;\n",
       "    }\n",
       "\n",
       "    .dataframe tbody tr th {\n",
       "        vertical-align: top;\n",
       "    }\n",
       "\n",
       "    .dataframe thead th {\n",
       "        text-align: right;\n",
       "    }\n",
       "</style>\n",
       "<table border=\"1\" class=\"dataframe\">\n",
       "  <thead>\n",
       "    <tr style=\"text-align: right;\">\n",
       "      <th></th>\n",
       "      <th>Source</th>\n",
       "      <th>Weighted</th>\n",
       "      <th>Target</th>\n",
       "      <th>Shift</th>\n",
       "    </tr>\n",
       "  </thead>\n",
       "  <tbody>\n",
       "    <tr>\n",
       "      <th>0</th>\n",
       "      <td>0.93028</td>\n",
       "      <td>0.708924</td>\n",
       "      <td>0.75766</td>\n",
       "      <td>IMDB -&gt; Sentiment 140 Test</td>\n",
       "    </tr>\n",
       "  </tbody>\n",
       "</table>\n",
       "</div>"
      ],
      "text/plain": [
       "    Source  Weighted   Target                       Shift\n",
       "0  0.93028  0.708924  0.75766  IMDB -> Sentiment 140 Test"
      ]
     },
     "execution_count": 38,
     "metadata": {},
     "output_type": "execute_result"
    }
   ],
   "source": [
    "df = pd.DataFrame(\n",
    "    np.concatenate([source, weighted, target], axis=1), \n",
    "    columns=['Source', 'Weighted', 'Target'],\n",
    ")\n",
    "df['Shift'] = [ \n",
    "    'IMDB -> Sentiment 140 Test',  \n",
    "]\n",
    "df"
   ]
  },
  {
   "cell_type": "code",
   "execution_count": null,
   "metadata": {},
   "outputs": [],
   "source": []
  }
 ],
 "metadata": {
  "language_info": {
   "codemirror_mode": {
    "name": "ipython",
    "version": 3
   },
   "file_extension": ".py",
   "mimetype": "text/x-python",
   "name": "python",
   "nbconvert_exporter": "python",
   "pygments_lexer": "ipython3",
   "version": "3.8.8-final"
  },
  "kernelspec": {
   "name": "python38864bitsprcondac021e66fc3f44e1a9f7c525f693d1254",
   "display_name": "Python 3.8.8 64-bit ('spr': conda)",
   "language": "python"
  }
 },
 "nbformat": 4,
 "nbformat_minor": 4
}