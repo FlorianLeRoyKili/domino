{
 "cells": [
  {
   "cell_type": "code",
   "execution_count": 1,
   "source": [
    "%load_ext autoreload\n",
    "%autoreload 2"
   ],
   "outputs": [],
   "metadata": {}
  },
  {
   "cell_type": "code",
   "execution_count": 2,
   "source": [
    "from meerkat.contrib.mimic import build_mimic_dp, download_mimic_dp\n",
    "dp = build_mimic_dp(dataset_dir=\"/home/common/datasets/mimic\", gcp_project=\"hai-gcp-fine-grained\")"
   ],
   "outputs": [
    {
     "output_type": "stream",
     "name": "stdout",
     "text": [
      "Querying MIMIC database: `gcp_project`=hai-gcp-fine-grained, `tables`={'labels', 'dicom_meta', 'admit', 'cxr_records', 'patients', 'cxr_studies'}.\n"
     ]
    },
    {
     "output_type": "stream",
     "name": "stderr",
     "text": [
      "Downloading: 100%|██████████| 377110/377110 [00:03<00:00, 103721.46rows/s]\n",
      "Downloading: 100%|██████████| 523740/523740 [00:02<00:00, 195756.44rows/s]\n"
     ]
    },
    {
     "output_type": "stream",
     "name": "stdout",
     "text": [
      "Preparing DataPanel...\n",
      "Downloading splits...\n"
     ]
    },
    {
     "output_type": "stream",
     "name": "stderr",
     "text": [
      "gzip: /home/common/datasets/mimic/mimic-cxr-2.0.0-split.csv already exists;\tnot overwritten\n"
     ]
    }
   ],
   "metadata": {}
  },
  {
   "cell_type": "code",
   "execution_count": 4,
   "source": [
    "from meerkat.contrib.mimic import build_mimic_dp, download_mimic_dp\n",
    "\n",
    "new_dp = download_mimic_dp(dp.lz[:4], resize=1024)"
   ],
   "outputs": [
    {
     "output_type": "display_data",
     "data": {
      "application/vnd.jupyter.widget-view+json": {
       "version_major": 2,
       "version_minor": 0,
       "model_id": "fa662d0afa41484ba4e91d66f94751f2"
      },
      "text/plain": [
       "HBox(children=(FloatProgress(value=0.0, max=4.0), HTML(value='')))"
      ]
     },
     "metadata": {}
    },
    {
     "output_type": "stream",
     "name": "stdout",
     "text": [
      "\n"
     ]
    }
   ],
   "metadata": {}
  },
  {
   "cell_type": "code",
   "execution_count": 12,
   "source": [
    "out = dp[\"cxr_jpg_1024\"].map(lambda x: str(type(x)), num_workers=6)"
   ],
   "outputs": [],
   "metadata": {}
  },
  {
   "cell_type": "code",
   "execution_count": 9,
   "source": [
    "import meerkat as mk\n",
    "dp = mk.DataPanel.read(\"/home/common/datasets/mimic/mimic.mk\")"
   ],
   "outputs": [],
   "metadata": {}
  },
  {
   "cell_type": "code",
   "execution_count": 14,
   "source": [
    "out = dp[\"cxr_jpg_1024\"].map(lambda x: str(x.size), num_workers=6, pbar=True)"
   ],
   "outputs": [
    {
     "output_type": "display_data",
     "data": {
      "application/vnd.jupyter.widget-view+json": {
       "version_major": 2,
       "version_minor": 0,
       "model_id": "60bcabb1676c4bf5abdd7a822ce806c0"
      },
      "text/plain": [
       "HBox(children=(FloatProgress(value=0.0, max=377110.0), HTML(value='')))"
      ]
     },
     "metadata": {}
    },
    {
     "output_type": "stream",
     "name": "stdout",
     "text": [
      "\n"
     ]
    }
   ],
   "metadata": {}
  },
  {
   "cell_type": "code",
   "execution_count": 18,
   "source": [
    "out.str.contains(\"1024\").mean()"
   ],
   "outputs": [
    {
     "output_type": "execute_result",
     "data": {
      "text/plain": [
       "1.0"
      ]
     },
     "metadata": {},
     "execution_count": 18
    }
   ],
   "metadata": {}
  },
  {
   "cell_type": "code",
   "execution_count": 28,
   "source": [
    "dp.lz[:4][\"cxr_jpg\"].map(\n",
    "    lambda x: x,\n",
    "    num_workers=0,\n",
    "    pbar=True,\n",
    ")"
   ],
   "outputs": [
    {
     "output_type": "display_data",
     "data": {
      "application/vnd.jupyter.widget-view+json": {
       "version_major": 2,
       "version_minor": 0,
       "model_id": "3a54241c76bd43c1bf7e89ad01e2df76"
      },
      "text/plain": [
       "HBox(children=(FloatProgress(value=0.0, max=4.0), HTML(value='')))"
      ]
     },
     "metadata": {}
    },
    {
     "output_type": "stream",
     "name": "stdout",
     "text": [
      "\n"
     ]
    },
    {
     "output_type": "execute_result",
     "data": {
      "text/html": [
       "<table border=\"1\" class=\"dataframe\">\n",
       "  <thead>\n",
       "    <tr style=\"text-align: right;\">\n",
       "      <th></th>\n",
       "      <th>(ListColumn)</th>\n",
       "    </tr>\n",
       "  </thead>\n",
       "  <tbody>\n",
       "    <tr>\n",
       "      <th>0</th>\n",
       "      <td><img src=\"data:image/jpeg;base64,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\"></td>\n",
       "    </tr>\n",
       "    <tr>\n",
       "      <th>1</th>\n",
       "      <td><img src=\"data:image/jpeg;base64,/9j/4AAQSkZJRgABAQAAAQABAAD/2wBDAAgGBgcGBQgHBwcJCQgKDBQNDAsLDBkSEw8UHRofHh0aHBwgJC4nICIsIxwcKDcpLDAxNDQ0Hyc5PTgyPC4zNDL/wAALCACAAIABAREA/8QAHwAAAQUBAQEBAQEAAAAAAAAAAAECAwQFBgcICQoL/8QAtRAAAgEDAwIEAwUFBAQAAAF9AQIDAAQRBRIhMUEGE1FhByJxFDKBkaEII0KxwRVS0fAkM2JyggkKFhcYGRolJicoKSo0NTY3ODk6Q0RFRkdISUpTVFVWV1hZWmNkZWZnaGlqc3R1dnd4eXqDhIWGh4iJipKTlJWWl5iZmqKjpKWmp6ipqrKztLW2t7i5usLDxMXGx8jJytLT1NXW19jZ2uHi4+Tl5ufo6erx8vP09fb3+Pn6/9oACAEBAAA/APBG60nPoaUKfSnBDVywZIZ1Zow4B6GvQrTW7iW3hUTzBETao4+Uf1rQttQkfbmRifUjms6e4bzvmaQknueDU1w4ktS3PHBwfasCXIQ89K5q8G6Vie9USlNKmkwfSrIsZvsEl40UiwrgK5Q7WJPY/gaq1beArKy45BxT3tJYtu+NlDDIPYj2pnlH0pwiPpUkEf7wCuo0yYRAB+h4rdtiVmDL0qSWz86bdI2V7ZqGWI28ciKwAZsge1YspG0g1zl8mJyB3qr5Z9KQx00x+1dTrNobLwsth5cpa3uEEkrxlEYkOfkJ4YdeeOgrkTHXSahpxh1idQcgOeMe9aT6fIbVA6h48ZUquKrxafbA7JNw98Zom0LAL253p147VnmzMThwM4rUtoi+MAkVuWquoAbPHSrV8C1qjrk4I3e1RSr5sIfkAr371kTRYz0rBu7fdMeKILF5CFRSx9K0ToaxQ755EBPRap/2cGfCnIHtU+pRXk9vGk0khhhGyJHkJCj0UHgVhy2rp1Wu61aw3eILgY4Lk1v6bbomnNFMMhcsCeAoqMvYrAwjgZ25yXPb2rIjaWMFI0AUnkAdRSXdlaxR+dM4Vz/B3P4f1rMXWVtjsSBMdt3ertrq6Sy4ljVAf4l6VtzjdpshPQDpVWIg2TO/Tpz0rGudRt4gVKswz16VFEbG6I+ZkB7la1IrZbNd9rtlU/xDn/8AXU9pDA9w8kyH5hj1q/baXYNMGRmO3LFSozn3rL1u0Jnwv3Ixjjoc96w3sVZgrA4Jx9K7i/gT+3ZBjc2Tn0FSzAmzWJRtDHLe+KpSRbRgDluAKivimlWgkIDTv91T2964fUr1pZS7yFmzzVMTRyqQevUZq9aMCcKefQ12kRxoqh24Y461BqQSHSlwcBvmwDXEzv5khOOPc0hu2VdqvgDvWxol9Jbt1DITyOxrsEgSSBLmEZQ9R6VJHG0M6zIM4Oceoqa+t4pA5AIBAI/GsifT+FkGCAw5FdBcwf8AE2lfHTNLIgJ4/hGKbBApMlxL/q4xkfhXDeIL1rqZ3djjJwK5aVwcj1pkPL4PArQs0zMq8hge1d5a27vbpHs6d84qbVtNa6smKEhlXpnNec3lvJBOyS+uOKoEAMQe3WtCycKwwSDXoXha48xGt5Ojjj61srb7WaI9uRUkkIaIqeuNv+FUlh8sqV4J6jsavXTAajKO5NMZSc4pmpv9l0ZgOsnGPWvNbwAuxlfnNY86quSuCPamwMN2NuTXUaZBDbxmSdASQCDXcWFvs06KRG3BlzmpnjJiZckgj0rz3WrBTqC5JAz0HNYd/bC1vDEAG7gjuPWn2qxlgGOa6vQZGiuUZG+UHOK7+4jDeXMB94A0xl4JH1qFYxJMOOh4qObLancHHQ4FWFj3ADGMmqfiYiKziGMkLnb615tdwGZizsFPYVmyQxocHkn3rX0+wsxDuZlaRnAUqeordiskkkWMx7QB6V2OnQqNPSMD5QOKeIWUnHK+hrkdWt4XuHDEqR14zgVh6ja2gtZG+d5AfkfGMj3rLtkQt6Z7AV0mlw4KmNua9Dss3GmqrDDJxTWQ7elRQx4mx7g0149l3IcZyatQx5lXjgVieKpAtxtIyFXH+Nee3QkLsVzjP1rPaAs3ygcnFdjDp1vBYQRNGGl3DawOMVvw2eyNFL7h2Of0rds4QtvgVKIjWVeWUJld5AMEdK4rUI1jkkt2i3FOenb2rP8AscCzYRmKnpjr+VbWnWhjZXUkEdjXd6FJ5itGwwWU4qxJFtZhVfaRKrjqD+dO8ndduxHerdtGPMLEcKK5TW4Wu5XPUAmuXntwj7QAv+0Rn9KT7GgwHjy7dCuAc+uK6DTLVr2VcFRHAcBgOWbH8q6dLECAA4zV62hxEBUohOelUru2UthhkH0rF1jR1njS5jTM0fI7bh3Fc4+nxhg9ucB+GEg/TParNtC6MAy8dMgk11ekMqTxN0AOcZrbu4Nk5GOD0qiYsSL9am8nEsh96sJFttpHx14rmtQhUFmJG309ayDbRyk/LgnuozUUWkz7mWCI4GRlgQfzNbmlRC2hWMn94uSSR+lbQG+MMOR/WrdshKgEVYMPOap3EZ3evrVaSEPHgZz7Vz2qaVcxzCaK3coT8wC5B96bBgfJMjRg/wCzitS0gEZ3Icg8iuokU3FjDL/Eow1U2h+deO9WXgw7jHelu4mFqkSg5PPFU00BZ133GW/2QcCpvsENuAIolH0HSo/s5kbASpoNOgZSsiZbPBpWslt0Pl5IP8J7U+Hoo9TVxojgVSmti5btg06OJUGAv6VIVDjDAVG2mQyjgfgRmojoqqP3Xyc9ulaFvbSLC8T8jGQRTBbjzIx15qy1vmdsgH5qsfZssW9AO1NKHnbUJgySSKaYARwpp6wlecVBcDkAUJGAVJHOe1W/KyOT19KY0Xlr049ajEQzkDBoMfzZKnPWpUQ59KnWLcRj8alhiJZ07Y4qCKLMkYx3q21vmZ2x0NTNCQoUd6ha2PPHWk8j1zTfJO7jNKYSOarNa7m3EEelAtRnpkmrQj4wFzih48g5GM0ww9sCmGI7xxUqW+RViOHBxUohCnpUUcGJl9M1a8v5jn1p5T2ppT2pNg9Kb5a9QKPKHpTGgBIOKUQLnkc04xAEHpQYgSf1qPyufal8oZyQMCpFQYHFOC56Cn7cjNIseGUmpvL5pdho2e1Js9qTYPSjZxwKZ5be1LsyOnNO2Z7U1ogQcDFJ5JxyaPKpVjwKcFx2pQD0xRtORX//2Q==\"></td>\n",
       "    </tr>\n",
       "    <tr>\n",
       "      <th>2</th>\n",
       "      <td><img src=\"data:image/jpeg;base64,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\"></td>\n",
       "    </tr>\n",
       "    <tr>\n",
       "      <th>3</th>\n",
       "      <td><img src=\"data:image/jpeg;base64,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\"></td>\n",
       "    </tr>\n",
       "  </tbody>\n",
       "</table>"
      ],
      "text/plain": [
       "ListColumn([<PIL.JpegImag...x7F7FF9CE8970>, <PIL.JpegImag...x7F7FF9CE4E50>, <PIL.JpegImag...x7F7FF9CE4F10>, <PIL.JpegImag...x7F7FF9CE4CA0>])"
      ]
     },
     "metadata": {},
     "execution_count": 28
    }
   ],
   "metadata": {}
  },
  {
   "cell_type": "code",
   "execution_count": 7,
   "source": [
    "dp.lz[3190]"
   ],
   "outputs": [
    {
     "output_type": "execute_result",
     "data": {
      "text/plain": [
       "{'dicom_id': 'd56e0647-c7e4205c-efc83891-5edc6449-73296d2d',\n",
       " 'atelectasis': nan,\n",
       " 'cardiomegaly': nan,\n",
       " 'consolidation': nan,\n",
       " 'edema': 0.0,\n",
       " 'enlarged_cardiomediastinum': nan,\n",
       " 'fracture': nan,\n",
       " 'lung_lesion': nan,\n",
       " 'lung_opacity': nan,\n",
       " 'no_finding': nan,\n",
       " 'pleural_effusion': 0.0,\n",
       " 'pleural_other': nan,\n",
       " 'pneumonia': 1.0,\n",
       " 'pneumothorax': nan,\n",
       " 'support_devices': nan,\n",
       " 'dicom': 'd56e0647-c7e4205c-efc83891-5edc6449-73296d2d',\n",
       " 'study_date': 21741031.0,\n",
       " 'image_type': \"['ORIGINAL', 'PRIMARY']\",\n",
       " 'table_type': None,\n",
       " 'distance_source_to_detector': 1828.0,\n",
       " 'distance_source_to_patient': 1779.0,\n",
       " 'exposure': 2.0,\n",
       " 'exposure_time': 5.0,\n",
       " 'x_ray_tube_current': 318.0,\n",
       " 'field_of_view_rotation': 0.0,\n",
       " 'field_of_view_origin': \"['117', '0']\",\n",
       " 'field_of_view_horizontal_flip': 'NO',\n",
       " 'view_position': 'PA',\n",
       " 'patient_orientation': \"['L', 'F']\",\n",
       " 'burned_in_annotation': 'NO',\n",
       " 'requesting_service': 'MED',\n",
       " 'detector_primary_angle': nan,\n",
       " 'detector_element_physical_size': \"['0.200000', '0.200000']\",\n",
       " 'study_id': 51542363,\n",
       " 'subject_id': 10912090,\n",
       " 'dicom_path': 'files/p10/p10912090/s51542363/d56e0647-c7e4205c-efc83891-5edc6449-73296d2d.dcm',\n",
       " 'gender': 'F',\n",
       " 'anchor_age': 44.0,\n",
       " 'anchor_year': 2169.0,\n",
       " 'anchor_year_group': '2008 - 2010',\n",
       " 'dod': datetime.date(2178, 5, 19),\n",
       " 'report_path': 'files/p10/p10912090/s51542363.txt',\n",
       " 'hadm_id': 28375215.0,\n",
       " 'admittime': Timestamp('2174-10-31 04:26:00'),\n",
       " 'dischtime': Timestamp('2174-11-01 16:45:00'),\n",
       " 'deathtime': NaT,\n",
       " 'admission_type': 'EW EMER.',\n",
       " 'admission_location': 'EMERGENCY ROOM',\n",
       " 'discharge_location': 'HOME',\n",
       " 'insurance': 'Other',\n",
       " 'language': '?',\n",
       " 'marital_status': 'SINGLE',\n",
       " 'ethnicity': 'HISPANIC/LATINO',\n",
       " 'edregtime': Timestamp('2174-10-30 22:00:00'),\n",
       " 'edouttime': Timestamp('2174-10-31 05:54:00'),\n",
       " 'hospital_expire_flag': 0.0,\n",
       " 'index': '3190',\n",
       " 'jpg_path': 'files/p10/p10912090/s51542363/d56e0647-c7e4205c-efc83891-5edc6449-73296d2d.jpg',\n",
       " 'cxr_jpg': LambdaCell(fn=GCSImageColumn.fn),\n",
       " 'cxr_dicom': LambdaCell(fn=GCSImageColumn.fn),\n",
       " 'split': 'train'}"
      ]
     },
     "metadata": {},
     "execution_count": 7
    }
   ],
   "metadata": {}
  },
  {
   "cell_type": "code",
   "execution_count": null,
   "source": [],
   "outputs": [],
   "metadata": {}
  }
 ],
 "metadata": {
  "orig_nbformat": 4,
  "language_info": {
   "name": "python",
   "version": "3.8.10",
   "mimetype": "text/x-python",
   "codemirror_mode": {
    "name": "ipython",
    "version": 3
   },
   "pygments_lexer": "ipython3",
   "nbconvert_exporter": "python",
   "file_extension": ".py"
  },
  "kernelspec": {
   "name": "python3",
   "display_name": "Python 3.8.10 64-bit ('domino': conda)"
  },
  "interpreter": {
   "hash": "0d937a63d09daec3f9548a5c769ccb20edb9c2c1ae2375686b21850f577713d2"
  }
 },
 "nbformat": 4,
 "nbformat_minor": 2
}