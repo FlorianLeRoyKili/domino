{
 "metadata": {
  "language_info": {
   "codemirror_mode": {
    "name": "ipython",
    "version": 3
   },
   "file_extension": ".py",
   "mimetype": "text/x-python",
   "name": "python",
   "nbconvert_exporter": "python",
   "pygments_lexer": "ipython3",
   "version": "3.8.8"
  },
  "orig_nbformat": 2,
  "kernelspec": {
   "name": "python388jvsc74a57bd0a2a98ac7812478ccca9704a5d38a7f9a9196f1ab20f7da8586eea65c44e44dd4",
   "display_name": "Python 3.8.8 64-bit ('rg': conda)",
   "language": "python"
  }
 },
 "nbformat": 4,
 "nbformat_minor": 2,
 "cells": [
  {
   "cell_type": "code",
   "execution_count": 1,
   "metadata": {},
   "outputs": [],
   "source": [
    "%load_ext autoreload\n",
    "%autoreload 2\n",
    "%load_ext line_profiler"
   ]
  },
  {
   "cell_type": "code",
   "execution_count": 5,
   "metadata": {},
   "outputs": [],
   "source": [
    "from robustnessgym.mosaic import NumpyArrayColumn, DataPane\n"
   ]
  },
  {
   "cell_type": "code",
   "execution_count": 6,
   "metadata": {},
   "outputs": [],
   "source": [
    "def test_from_batch():\n",
    "    # Build a dataset from a batch\n",
    "    datapane = DataPane.from_batch(\n",
    "        {\n",
    "            \"a\": [1, 2, 3],\n",
    "            \"b\": [True, False, True],\n",
    "            \"c\": [\"x\", \"y\", \"z\"],\n",
    "            \"d\": [{\"e\": 2}, {\"e\": 3}, {\"e\": 4}],\n",
    "            \"e\": torch.ones(3),\n",
    "            \"f\": np.ones(3),\n",
    "        },\n",
    "    )\n",
    "    assert set(datapane.column_names) == {\"a\", \"b\", \"c\", \"d\", \"e\", \"f\", \"index\"}\n",
    "    assert len(datapane) == 3"
   ]
  },
  {
   "cell_type": "code",
   "execution_count": 4,
   "metadata": {},
   "outputs": [
    {
     "output_type": "execute_result",
     "data": {
      "text/plain": [
       "              file  identity  5_o_clock_shadow  arched_eyebrows  attractive  \\\n",
       "0       000001.jpg      2880                 0                1           1   \n",
       "1       000002.jpg      2937                 0                0           0   \n",
       "2       000003.jpg      8692                 0                0           0   \n",
       "3       000004.jpg      5805                 0                0           1   \n",
       "4       000005.jpg      9295                 0                1           1   \n",
       "...            ...       ...               ...              ...         ...   \n",
       "202594  202595.jpg      9761                 0                0           1   \n",
       "202595  202596.jpg      7192                 0                0           0   \n",
       "202596  202597.jpg      9852                 0                0           0   \n",
       "202597  202598.jpg      5570                 0                1           1   \n",
       "202598  202599.jpg     10101                 0                1           1   \n",
       "\n",
       "        bags_under_eyes  bald  bangs  big_lips  big_nose  ...  wavy_hair  \\\n",
       "0                     0     0      0         0         0  ...          0   \n",
       "1                     1     0      0         0         1  ...          0   \n",
       "2                     0     0      0         1         0  ...          1   \n",
       "3                     0     0      0         0         0  ...          0   \n",
       "4                     0     0      0         1         0  ...          0   \n",
       "...                 ...   ...    ...       ...       ...  ...        ...   \n",
       "202594                0     0      0         1         0  ...          0   \n",
       "202595                0     0      1         1         0  ...          0   \n",
       "202596                0     0      0         0         0  ...          0   \n",
       "202597                0     0      0         1         0  ...          1   \n",
       "202598                0     0      0         0         0  ...          1   \n",
       "\n",
       "        wearing_earrings  wearing_hat  wearing_lipstick  wearing_necklace  \\\n",
       "0                      1            0                 1                 0   \n",
       "1                      0            0                 0                 0   \n",
       "2                      0            0                 0                 0   \n",
       "3                      1            0                 1                 1   \n",
       "4                      0            0                 1                 0   \n",
       "...                  ...          ...               ...               ...   \n",
       "202594                 0            0                 1                 0   \n",
       "202595                 0            0                 0                 0   \n",
       "202596                 0            0                 0                 0   \n",
       "202597                 1            0                 1                 0   \n",
       "202598                 0            0                 1                 0   \n",
       "\n",
       "        wearing_necktie  young  \\\n",
       "0                     0      1   \n",
       "1                     0      1   \n",
       "2                     0      1   \n",
       "3                     0      1   \n",
       "4                     0      1   \n",
       "...                 ...    ...   \n",
       "202594                0      1   \n",
       "202595                0      1   \n",
       "202596                0      1   \n",
       "202597                0      1   \n",
       "202598                0      1   \n",
       "\n",
       "                                                 img_path  example_hash  split  \n",
       "0       /Users/sabrieyuboglu/data/datasets/celeba/img_...       0.82367  train  \n",
       "1       /Users/sabrieyuboglu/data/datasets/celeba/img_...       0.65685  train  \n",
       "2       /Users/sabrieyuboglu/data/datasets/celeba/img_...       0.73356  train  \n",
       "3       /Users/sabrieyuboglu/data/datasets/celeba/img_...       0.75242  train  \n",
       "4       /Users/sabrieyuboglu/data/datasets/celeba/img_...       0.85363  train  \n",
       "...                                                   ...           ...    ...  \n",
       "202594  /Users/sabrieyuboglu/data/datasets/celeba/img_...       0.67785  train  \n",
       "202595  /Users/sabrieyuboglu/data/datasets/celeba/img_...       0.88659  train  \n",
       "202596  /Users/sabrieyuboglu/data/datasets/celeba/img_...       0.79634  train  \n",
       "202597  /Users/sabrieyuboglu/data/datasets/celeba/img_...       0.70795  train  \n",
       "202598  /Users/sabrieyuboglu/data/datasets/celeba/img_...       0.15902  train  \n",
       "\n",
       "[202599 rows x 45 columns]"
      ],
      "text/html": "<div>\n<style scoped>\n    .dataframe tbody tr th:only-of-type {\n        vertical-align: middle;\n    }\n\n    .dataframe tbody tr th {\n        vertical-align: top;\n    }\n\n    .dataframe thead th {\n        text-align: right;\n    }\n</style>\n<table border=\"1\" class=\"dataframe\">\n  <thead>\n    <tr style=\"text-align: right;\">\n      <th></th>\n      <th>file</th>\n      <th>identity</th>\n      <th>5_o_clock_shadow</th>\n      <th>arched_eyebrows</th>\n      <th>attractive</th>\n      <th>bags_under_eyes</th>\n      <th>bald</th>\n      <th>bangs</th>\n      <th>big_lips</th>\n      <th>big_nose</th>\n      <th>...</th>\n      <th>wavy_hair</th>\n      <th>wearing_earrings</th>\n      <th>wearing_hat</th>\n      <th>wearing_lipstick</th>\n      <th>wearing_necklace</th>\n      <th>wearing_necktie</th>\n      <th>young</th>\n      <th>img_path</th>\n      <th>example_hash</th>\n      <th>split</th>\n    </tr>\n  </thead>\n  <tbody>\n    <tr>\n      <th>0</th>\n      <td>000001.jpg</td>\n      <td>2880</td>\n      <td>0</td>\n      <td>1</td>\n      <td>1</td>\n      <td>0</td>\n      <td>0</td>\n      <td>0</td>\n      <td>0</td>\n      <td>0</td>\n      <td>...</td>\n      <td>0</td>\n      <td>1</td>\n      <td>0</td>\n      <td>1</td>\n      <td>0</td>\n      <td>0</td>\n      <td>1</td>\n      <td>/Users/sabrieyuboglu/data/datasets/celeba/img_...</td>\n      <td>0.82367</td>\n      <td>train</td>\n    </tr>\n    <tr>\n      <th>1</th>\n      <td>000002.jpg</td>\n      <td>2937</td>\n      <td>0</td>\n      <td>0</td>\n      <td>0</td>\n      <td>1</td>\n      <td>0</td>\n      <td>0</td>\n      <td>0</td>\n      <td>1</td>\n      <td>...</td>\n      <td>0</td>\n      <td>0</td>\n      <td>0</td>\n      <td>0</td>\n      <td>0</td>\n      <td>0</td>\n      <td>1</td>\n      <td>/Users/sabrieyuboglu/data/datasets/celeba/img_...</td>\n      <td>0.65685</td>\n      <td>train</td>\n    </tr>\n    <tr>\n      <th>2</th>\n      <td>000003.jpg</td>\n      <td>8692</td>\n      <td>0</td>\n      <td>0</td>\n      <td>0</td>\n      <td>0</td>\n      <td>0</td>\n      <td>0</td>\n      <td>1</td>\n      <td>0</td>\n      <td>...</td>\n      <td>1</td>\n      <td>0</td>\n      <td>0</td>\n      <td>0</td>\n      <td>0</td>\n      <td>0</td>\n      <td>1</td>\n      <td>/Users/sabrieyuboglu/data/datasets/celeba/img_...</td>\n      <td>0.73356</td>\n      <td>train</td>\n    </tr>\n    <tr>\n      <th>3</th>\n      <td>000004.jpg</td>\n      <td>5805</td>\n      <td>0</td>\n      <td>0</td>\n      <td>1</td>\n      <td>0</td>\n      <td>0</td>\n      <td>0</td>\n      <td>0</td>\n      <td>0</td>\n      <td>...</td>\n      <td>0</td>\n      <td>1</td>\n      <td>0</td>\n      <td>1</td>\n      <td>1</td>\n      <td>0</td>\n      <td>1</td>\n      <td>/Users/sabrieyuboglu/data/datasets/celeba/img_...</td>\n      <td>0.75242</td>\n      <td>train</td>\n    </tr>\n    <tr>\n      <th>4</th>\n      <td>000005.jpg</td>\n      <td>9295</td>\n      <td>0</td>\n      <td>1</td>\n      <td>1</td>\n      <td>0</td>\n      <td>0</td>\n      <td>0</td>\n      <td>1</td>\n      <td>0</td>\n      <td>...</td>\n      <td>0</td>\n      <td>0</td>\n      <td>0</td>\n      <td>1</td>\n      <td>0</td>\n      <td>0</td>\n      <td>1</td>\n      <td>/Users/sabrieyuboglu/data/datasets/celeba/img_...</td>\n      <td>0.85363</td>\n      <td>train</td>\n    </tr>\n    <tr>\n      <th>...</th>\n      <td>...</td>\n      <td>...</td>\n      <td>...</td>\n      <td>...</td>\n      <td>...</td>\n      <td>...</td>\n      <td>...</td>\n      <td>...</td>\n      <td>...</td>\n      <td>...</td>\n      <td>...</td>\n      <td>...</td>\n      <td>...</td>\n      <td>...</td>\n      <td>...</td>\n      <td>...</td>\n      <td>...</td>\n      <td>...</td>\n      <td>...</td>\n      <td>...</td>\n      <td>...</td>\n    </tr>\n    <tr>\n      <th>202594</th>\n      <td>202595.jpg</td>\n      <td>9761</td>\n      <td>0</td>\n      <td>0</td>\n      <td>1</td>\n      <td>0</td>\n      <td>0</td>\n      <td>0</td>\n      <td>1</td>\n      <td>0</td>\n      <td>...</td>\n      <td>0</td>\n      <td>0</td>\n      <td>0</td>\n      <td>1</td>\n      <td>0</td>\n      <td>0</td>\n      <td>1</td>\n      <td>/Users/sabrieyuboglu/data/datasets/celeba/img_...</td>\n      <td>0.67785</td>\n      <td>train</td>\n    </tr>\n    <tr>\n      <th>202595</th>\n      <td>202596.jpg</td>\n      <td>7192</td>\n      <td>0</td>\n      <td>0</td>\n      <td>0</td>\n      <td>0</td>\n      <td>0</td>\n      <td>1</td>\n      <td>1</td>\n      <td>0</td>\n      <td>...</td>\n      <td>0</td>\n      <td>0</td>\n      <td>0</td>\n      <td>0</td>\n      <td>0</td>\n      <td>0</td>\n      <td>1</td>\n      <td>/Users/sabrieyuboglu/data/datasets/celeba/img_...</td>\n      <td>0.88659</td>\n      <td>train</td>\n    </tr>\n    <tr>\n      <th>202596</th>\n      <td>202597.jpg</td>\n      <td>9852</td>\n      <td>0</td>\n      <td>0</td>\n      <td>0</td>\n      <td>0</td>\n      <td>0</td>\n      <td>0</td>\n      <td>0</td>\n      <td>0</td>\n      <td>...</td>\n      <td>0</td>\n      <td>0</td>\n      <td>0</td>\n      <td>0</td>\n      <td>0</td>\n      <td>0</td>\n      <td>1</td>\n      <td>/Users/sabrieyuboglu/data/datasets/celeba/img_...</td>\n      <td>0.79634</td>\n      <td>train</td>\n    </tr>\n    <tr>\n      <th>202597</th>\n      <td>202598.jpg</td>\n      <td>5570</td>\n      <td>0</td>\n      <td>1</td>\n      <td>1</td>\n      <td>0</td>\n      <td>0</td>\n      <td>0</td>\n      <td>1</td>\n      <td>0</td>\n      <td>...</td>\n      <td>1</td>\n      <td>1</td>\n      <td>0</td>\n      <td>1</td>\n      <td>0</td>\n      <td>0</td>\n      <td>1</td>\n      <td>/Users/sabrieyuboglu/data/datasets/celeba/img_...</td>\n      <td>0.70795</td>\n      <td>train</td>\n    </tr>\n    <tr>\n      <th>202598</th>\n      <td>202599.jpg</td>\n      <td>10101</td>\n      <td>0</td>\n      <td>1</td>\n      <td>1</td>\n      <td>0</td>\n      <td>0</td>\n      <td>0</td>\n      <td>0</td>\n      <td>0</td>\n      <td>...</td>\n      <td>1</td>\n      <td>0</td>\n      <td>0</td>\n      <td>1</td>\n      <td>0</td>\n      <td>0</td>\n      <td>1</td>\n      <td>/Users/sabrieyuboglu/data/datasets/celeba/img_...</td>\n      <td>0.15902</td>\n      <td>train</td>\n    </tr>\n  </tbody>\n</table>\n<p>202599 rows × 45 columns</p>\n</div>"
     },
     "metadata": {},
     "execution_count": 4
    }
   ],
   "source": [
    "df"
   ]
  },
  {
   "cell_type": "code",
   "execution_count": 5,
   "metadata": {},
   "outputs": [],
   "source": [
    "dp = DataPane.from_pandas(df)"
   ]
  },
  {
   "cell_type": "code",
   "execution_count": 9,
   "metadata": {},
   "outputs": [
    {
     "output_type": "execute_result",
     "data": {
      "text/plain": [
       "NumpyArrayColumn(array([ 2881,... 5571, 10102]))"
      ]
     },
     "metadata": {},
     "execution_count": 9
    }
   ],
   "source": [
    "dp[\"identity\"] "
   ]
  },
  {
   "cell_type": "code",
   "execution_count": 18,
   "metadata": {},
   "outputs": [
    {
     "output_type": "stream",
     "name": "stderr",
     "text": [
      "100%|██████████| 203/203 [00:05<00:00, 38.20it/s]\n"
     ]
    }
   ],
   "source": [
    "from functools import partial\n",
    "img_column = dp[\"img_path\"].map(function=partial(ImagePath, transform=ToTensor()), batched=False, num_workers=0)\n",
    "dp.add_column(\"img_tensor\", img_column)"
   ]
  },
  {
   "cell_type": "code",
   "execution_count": 23,
   "metadata": {},
   "outputs": [
    {
     "output_type": "stream",
     "name": "stderr",
     "text": [
      "  0%|          | 0/203 [00:00<?, ?it/s]\n"
     ]
    }
   ],
   "source": [
    "from torchvision.transforms import ToTensor\n",
    "dp[\"img_tensor\"].map(function=lambda x : x.mean())"
   ]
  },
  {
   "cell_type": "code",
   "execution_count": 21,
   "metadata": {},
   "outputs": [
    {
     "output_type": "execute_result",
     "data": {
      "text/plain": [
       "[tensor([[[0.9922, 0.9922, 0.9922,  ..., 0.9686, 0.9961, 0.9961],\n",
       "          [0.9922, 0.9922, 0.9922,  ..., 0.9765, 0.9961, 0.9961],\n",
       "          [0.9922, 0.9922, 0.9922,  ..., 0.9804, 1.0000, 1.0000],\n",
       "          ...,\n",
       "          [0.5490, 0.4549, 0.5725,  ..., 0.4784, 0.4784, 0.4784],\n",
       "          [0.5098, 0.5412, 0.6510,  ..., 0.4627, 0.4627, 0.4627],\n",
       "          [0.6588, 0.8000, 0.9608,  ..., 0.4627, 0.4706, 0.4706]],\n",
       " \n",
       "         [[0.9059, 0.9059, 0.9059,  ..., 0.8863, 0.9333, 0.9333],\n",
       "          [0.9059, 0.9059, 0.9059,  ..., 0.8941, 0.9333, 0.9333],\n",
       "          [0.9059, 0.9059, 0.9059,  ..., 0.9059, 0.9373, 0.9373],\n",
       "          ...,\n",
       "          [0.2902, 0.1882, 0.3059,  ..., 0.2157, 0.2196, 0.2196],\n",
       "          [0.2431, 0.2745, 0.3843,  ..., 0.1922, 0.2000, 0.2000],\n",
       "          [0.3922, 0.5333, 0.6941,  ..., 0.1922, 0.1961, 0.1961]],\n",
       " \n",
       "         [[0.7608, 0.7608, 0.7608,  ..., 0.8824, 0.8706, 0.8706],\n",
       "          [0.7608, 0.7608, 0.7608,  ..., 0.8824, 0.8706, 0.8706],\n",
       "          [0.7608, 0.7608, 0.7608,  ..., 0.8902, 0.8745, 0.8745],\n",
       "          ...,\n",
       "          [0.1020, 0.0039, 0.1294,  ..., 0.1098, 0.1176, 0.1176],\n",
       "          [0.0588, 0.0902, 0.2078,  ..., 0.0784, 0.0941, 0.0941],\n",
       "          [0.2078, 0.3490, 0.5176,  ..., 0.0784, 0.0941, 0.0941]]]),\n",
       " tensor([[[0.2627, 0.2549, 0.2549,  ..., 0.2980, 0.3216, 0.3294],\n",
       "          [0.2627, 0.2549, 0.2549,  ..., 0.2980, 0.3216, 0.3294],\n",
       "          [0.2627, 0.2549, 0.2549,  ..., 0.2980, 0.3216, 0.3294],\n",
       "          ...,\n",
       "          [0.8275, 0.8667, 0.8667,  ..., 0.5020, 0.5333, 0.5765],\n",
       "          [0.8902, 0.8706, 0.8431,  ..., 0.5529, 0.5412, 0.5412],\n",
       "          [0.8902, 0.8706, 0.8431,  ..., 0.5686, 0.5451, 0.5451]],\n",
       " \n",
       "         [[0.2039, 0.1961, 0.1961,  ..., 0.2824, 0.3098, 0.3176],\n",
       "          [0.2039, 0.1961, 0.1961,  ..., 0.2824, 0.3098, 0.3176],\n",
       "          [0.2039, 0.1961, 0.1961,  ..., 0.2824, 0.3098, 0.3176],\n",
       "          ...,\n",
       "          [0.8275, 0.8667, 0.8667,  ..., 0.3529, 0.4588, 0.5020],\n",
       "          [0.8824, 0.8627, 0.8392,  ..., 0.4000, 0.4667, 0.4667],\n",
       "          [0.8824, 0.8627, 0.8392,  ..., 0.4078, 0.4667, 0.4667]],\n",
       " \n",
       "         [[0.1765, 0.1686, 0.1686,  ..., 0.2706, 0.2824, 0.2902],\n",
       "          [0.1765, 0.1686, 0.1686,  ..., 0.2706, 0.2824, 0.2902],\n",
       "          [0.1843, 0.1686, 0.1686,  ..., 0.2706, 0.2824, 0.2902],\n",
       "          ...,\n",
       "          [0.8667, 0.9059, 0.8980,  ..., 0.3412, 0.4353, 0.4784],\n",
       "          [0.9255, 0.9059, 0.8706,  ..., 0.3804, 0.4392, 0.4392],\n",
       "          [0.9255, 0.9059, 0.8706,  ..., 0.3922, 0.4392, 0.4392]]]),\n",
       " tensor([[[1.0000, 1.0000, 1.0000,  ..., 1.0000, 1.0000, 1.0000],\n",
       "          [1.0000, 1.0000, 1.0000,  ..., 1.0000, 1.0000, 1.0000],\n",
       "          [1.0000, 1.0000, 1.0000,  ..., 1.0000, 1.0000, 1.0000],\n",
       "          ...,\n",
       "          [0.5725, 0.5765, 0.5882,  ..., 0.3569, 0.3608, 0.3608],\n",
       "          [0.5294, 0.5333, 0.5451,  ..., 0.3765, 0.3686, 0.3686],\n",
       "          [0.5137, 0.5176, 0.5373,  ..., 0.3765, 0.3686, 0.3686]],\n",
       " \n",
       "         [[1.0000, 1.0000, 1.0000,  ..., 1.0000, 1.0000, 1.0000],\n",
       "          [1.0000, 1.0000, 1.0000,  ..., 1.0000, 1.0000, 1.0000],\n",
       "          [1.0000, 1.0000, 1.0000,  ..., 1.0000, 1.0000, 1.0000],\n",
       "          ...,\n",
       "          [0.4314, 0.4353, 0.4471,  ..., 0.3490, 0.3608, 0.3608],\n",
       "          [0.3922, 0.4000, 0.4118,  ..., 0.3569, 0.3686, 0.3686],\n",
       "          [0.3882, 0.3922, 0.4039,  ..., 0.3569, 0.3686, 0.3686]],\n",
       " \n",
       "         [[1.0000, 1.0000, 1.0000,  ..., 1.0000, 1.0000, 1.0000],\n",
       "          [1.0000, 1.0000, 1.0000,  ..., 1.0000, 1.0000, 1.0000],\n",
       "          [1.0000, 1.0000, 1.0000,  ..., 1.0000, 1.0000, 1.0000],\n",
       "          ...,\n",
       "          [0.3373, 0.3412, 0.3451,  ..., 0.3608, 0.3686, 0.3686],\n",
       "          [0.3059, 0.3020, 0.3137,  ..., 0.3804, 0.3765, 0.3765],\n",
       "          [0.3059, 0.3020, 0.3059,  ..., 0.3804, 0.3765, 0.3765]]])]"
      ]
     },
     "metadata": {},
     "execution_count": 21
    }
   ],
   "source": [
    "dp[\"img_tensor\"][0:3]"
   ]
  },
  {
   "cell_type": "code",
   "execution_count": null,
   "metadata": {},
   "outputs": [],
   "source": [
    "img_column.write(\"test_col\")"
   ]
  },
  {
   "cell_type": "code",
   "execution_count": 14,
   "metadata": {},
   "outputs": [],
   "source": [
    "\n",
    "# spacy column \n",
    "import spacy\n",
    "data_dir = \"/Users/sabrieyuboglu/data/datasets/celeba/img_align_celeba\"\n",
    "nlp = spacy.load(\"en_core_web_sm\")\n",
    "cells = [\n",
    "    SpacyCell(\n",
    "        doc=nlp(os.path.join(data_dir, text)),\n",
    "    )\n",
    "    for text in list(os.listdir(data_dir))[:20]\n",
    "]\n",
    "spacy_col = CellColumn.from_cells(cells, materialize=False)"
   ]
  },
  {
   "cell_type": "code",
   "execution_count": null,
   "metadata": {},
   "outputs": [],
   "source": []
  }
 ]
}