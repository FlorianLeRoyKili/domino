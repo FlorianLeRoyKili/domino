{
 "metadata": {
  "language_info": {
   "codemirror_mode": {
    "name": "ipython",
    "version": 3
   },
   "file_extension": ".py",
   "mimetype": "text/x-python",
   "name": "python",
   "nbconvert_exporter": "python",
   "pygments_lexer": "ipython3",
   "version": "3.8.8"
  },
  "orig_nbformat": 2,
  "kernelspec": {
   "name": "python388jvsc74a57bd0a2a98ac7812478ccca9704a5d38a7f9a9196f1ab20f7da8586eea65c44e44dd4",
   "display_name": "Python 3.8.8 64-bit ('rg': conda)"
  }
 },
 "nbformat": 4,
 "nbformat_minor": 2,
 "cells": [
  {
   "cell_type": "code",
   "execution_count": 1,
   "metadata": {},
   "outputs": [],
   "source": [
    "%load_ext autoreload\n",
    "%autoreload 2"
   ]
  },
  {
   "cell_type": "code",
   "execution_count": 4,
   "metadata": {},
   "outputs": [],
   "source": [
    "import pyarrow as pa\n",
    "import numpy as np"
   ]
  },
  {
   "cell_type": "code",
   "execution_count": 6,
   "metadata": {},
   "outputs": [],
   "source": [
    "data = np.arange(10, dtype='int16')\n",
    "arr = pa.array(data)"
   ]
  },
  {
   "cell_type": "code",
   "execution_count": 14,
   "metadata": {},
   "outputs": [],
   "source": [
    "from pyarrow import csv\n",
    "table = csv.read_csv(\"/Users/sabrieyuboglu/code/terra/test_storage_dir/tasks/data/celeb/build_celeb_df/_runs/7/artifacts/a349c55c2b034b80a14205a0caabfb0b\")"
   ]
  },
  {
   "cell_type": "code",
   "execution_count": 15,
   "metadata": {},
   "outputs": [
    {
     "output_type": "display_data",
     "data": {
      "text/html": "\n\n\n\n\n\n  <div class=\"bk-root\" id=\"13cdf483-a6e7-4000-a783-fcbbe90e11de\" data-root-id=\"2170\"></div>\n"
     },
     "metadata": {}
    },
    {
     "output_type": "display_data",
     "data": {
      "application/javascript": "(function(root) {\n  function embed_document(root) {\n    \n  var docs_json = {\"e84ada2c-30e8-4fb6-82be-006f3bce5950\":{\"defs\":[],\"roots\":{\"references\":[{\"attributes\":{\"below\":[{\"id\":\"2181\"}],\"center\":[{\"id\":\"2184\"},{\"id\":\"2188\"}],\"height\":400,\"left\":[{\"id\":\"2185\"}],\"renderers\":[{\"id\":\"2208\"}],\"title\":{\"id\":\"2171\"},\"toolbar\":{\"id\":\"2196\"},\"width\":400,\"x_range\":{\"id\":\"2173\"},\"x_scale\":{\"id\":\"2177\"},\"y_range\":{\"id\":\"2175\"},\"y_scale\":{\"id\":\"2179\"}},\"id\":\"2170\",\"subtype\":\"Figure\",\"type\":\"Plot\"},{\"attributes\":{\"fill_alpha\":{\"value\":0.1},\"fill_color\":{\"value\":\"#1f77b4\"},\"line_alpha\":{\"value\":0.1},\"line_color\":{\"value\":\"#1f77b4\"},\"size\":{\"value\":20},\"x\":{\"field\":\"x\"},\"y\":{\"field\":\"y\"}},\"id\":\"2207\",\"type\":\"Circle\"},{\"attributes\":{\"formatter\":{\"id\":\"2293\"},\"major_label_policy\":{\"id\":\"2291\"},\"ticker\":{\"id\":\"2186\"}},\"id\":\"2185\",\"type\":\"LinearAxis\"},{\"attributes\":{\"fill_color\":{\"value\":\"#1f77b4\"},\"line_color\":{\"value\":\"#1f77b4\"},\"size\":{\"value\":20},\"x\":{\"field\":\"x\"},\"y\":{\"field\":\"y\"}},\"id\":\"2206\",\"type\":\"Circle\"},{\"attributes\":{\"formatter\":{\"id\":\"2296\"},\"major_label_policy\":{\"id\":\"2294\"},\"ticker\":{\"id\":\"2182\"}},\"id\":\"2181\",\"type\":\"LinearAxis\"},{\"attributes\":{},\"id\":\"2291\",\"type\":\"AllLabels\"},{\"attributes\":{\"source\":{\"id\":\"2169\"}},\"id\":\"2209\",\"type\":\"CDSView\"},{\"attributes\":{},\"id\":\"2194\",\"type\":\"HelpTool\"},{\"attributes\":{},\"id\":\"2296\",\"type\":\"BasicTickFormatter\"},{\"attributes\":{\"callback\":null,\"tooltips\":\"\\n            <div>\\n                <div>\\n                    <img\\n                        src=\\\"file://@imgs\\\" alt=\\\"@imgs\\\" \\n                        style=\\\"float: left; margin: 0px 15px 15px 0px;\\\"\\n                        border=\\\"2\\\"\\n                    ></img>\\n                </div>\\n                <div>\\n                    <span style=\\\"font-size: 15px;\\\">@f_count @f_interval</span>\\n                    <span style=\\\"font-size: 10px; color: #696;\\\">($x, $y)</span>\\n                </div>\\n            \"},\"id\":\"2203\",\"type\":\"HoverTool\"},{\"attributes\":{},\"id\":\"2299\",\"type\":\"UnionRenderers\"},{\"attributes\":{},\"id\":\"2179\",\"type\":\"LinearScale\"},{\"attributes\":{},\"id\":\"2298\",\"type\":\"Selection\"},{\"attributes\":{},\"id\":\"2182\",\"type\":\"BasicTicker\"},{\"attributes\":{},\"id\":\"2294\",\"type\":\"AllLabels\"},{\"attributes\":{\"axis\":{\"id\":\"2185\"},\"dimension\":1,\"ticker\":null},\"id\":\"2188\",\"type\":\"Grid\"},{\"attributes\":{},\"id\":\"2186\",\"type\":\"BasicTicker\"},{\"attributes\":{\"text\":\"Mouse over the dots\"},\"id\":\"2171\",\"type\":\"Title\"},{\"attributes\":{},\"id\":\"2190\",\"type\":\"WheelZoomTool\"},{\"attributes\":{},\"id\":\"2177\",\"type\":\"LinearScale\"},{\"attributes\":{\"data\":{\"desc\":[\"A\",\"b\",\"C\",\"d\",\"E\"],\"fonts\":[\"<i>italics</i>\",\"<pre>pre</pre>\",\"<b>bold</b>\",\"<small>small</small>\",\"<del>del</del>\"],\"imgs\":[\"Users/sabrieyuboglu/code/spr-21/notebooks/CF3C3ACB-229D-4C0F-935C-20C99BEEEFC0_1_105_c.jpeg\",\"Users/sabrieyuboglu/code/spr-21/notebooks/CF3C3ACB-229D-4C0F-935C-20C99BEEEFC0_1_105_c.jpeg\",\"Users/sabrieyuboglu/code/spr-21/notebooks/CF3C3ACB-229D-4C0F-935C-20C99BEEEFC0_1_105_c.jpeg\",\"Users/sabrieyuboglu/code/spr-21/notebooks/CF3C3ACB-229D-4C0F-935C-20C99BEEEFC0_1_105_c.jpeg\",\"Users/sabrieyuboglu/code/spr-21/notebooks/CF3C3ACB-229D-4C0F-935C-20C99BEEEFC0_1_105_c.jpeg\"],\"x\":[1,2,3,4,5],\"y\":[2,5,8,2,7]},\"selected\":{\"id\":\"2298\"},\"selection_policy\":{\"id\":\"2299\"}},\"id\":\"2169\",\"type\":\"ColumnDataSource\"},{\"attributes\":{\"active_multi\":null,\"tools\":[{\"id\":\"2189\"},{\"id\":\"2190\"},{\"id\":\"2191\"},{\"id\":\"2192\"},{\"id\":\"2193\"},{\"id\":\"2194\"},{\"id\":\"2203\"}]},\"id\":\"2196\",\"type\":\"Toolbar\"},{\"attributes\":{\"axis\":{\"id\":\"2181\"},\"ticker\":null},\"id\":\"2184\",\"type\":\"Grid\"},{\"attributes\":{},\"id\":\"2193\",\"type\":\"ResetTool\"},{\"attributes\":{},\"id\":\"2173\",\"type\":\"DataRange1d\"},{\"attributes\":{\"overlay\":{\"id\":\"2195\"}},\"id\":\"2191\",\"type\":\"BoxZoomTool\"},{\"attributes\":{\"data_source\":{\"id\":\"2169\"},\"glyph\":{\"id\":\"2206\"},\"hover_glyph\":null,\"muted_glyph\":null,\"nonselection_glyph\":{\"id\":\"2207\"},\"view\":{\"id\":\"2209\"}},\"id\":\"2208\",\"type\":\"GlyphRenderer\"},{\"attributes\":{},\"id\":\"2189\",\"type\":\"PanTool\"},{\"attributes\":{\"bottom_units\":\"screen\",\"fill_alpha\":0.5,\"fill_color\":\"lightgrey\",\"left_units\":\"screen\",\"level\":\"overlay\",\"line_alpha\":1.0,\"line_color\":\"black\",\"line_dash\":[4,4],\"line_width\":2,\"right_units\":\"screen\",\"syncable\":false,\"top_units\":\"screen\"},\"id\":\"2195\",\"type\":\"BoxAnnotation\"},{\"attributes\":{},\"id\":\"2192\",\"type\":\"SaveTool\"},{\"attributes\":{},\"id\":\"2293\",\"type\":\"BasicTickFormatter\"},{\"attributes\":{},\"id\":\"2175\",\"type\":\"DataRange1d\"}],\"root_ids\":[\"2170\"]},\"title\":\"Bokeh Application\",\"version\":\"2.3.2\"}};\n  var render_items = [{\"docid\":\"e84ada2c-30e8-4fb6-82be-006f3bce5950\",\"root_ids\":[\"2170\"],\"roots\":{\"2170\":\"13cdf483-a6e7-4000-a783-fcbbe90e11de\"}}];\n  root.Bokeh.embed.embed_items_notebook(docs_json, render_items);\n\n  }\n  if (root.Bokeh !== undefined) {\n    embed_document(root);\n  } else {\n    var attempts = 0;\n    var timer = setInterval(function(root) {\n      if (root.Bokeh !== undefined) {\n        clearInterval(timer);\n        embed_document(root);\n      } else {\n        attempts++;\n        if (attempts > 100) {\n          clearInterval(timer);\n          console.log(\"Bokeh: ERROR: Unable to run BokehJS code because BokehJS library is missing\");\n        }\n      }\n    }, 10, root)\n  }\n})(window);",
      "application/vnd.bokehjs_exec.v0+json": ""
     },
     "metadata": {
      "application/vnd.bokehjs_exec.v0+json": {
       "id": "2170"
      }
     }
    }
   ],
   "source": [
    "from bokeh.plotting import ColumnDataSource, figure, output_notebook, show\n",
    "from bokeh.models import HoverTool\n",
    "\n",
    "\n",
    "#output_notebook()\n",
    "\n",
    "source = ColumnDataSource(data=dict(\n",
    "    x=[1, 2, 3, 4, 5],\n",
    "    y=[2, 5, 8, 2, 7],\n",
    "    desc=['A', 'b', 'C', 'd', 'E'],\n",
    "    imgs=[\n",
    "        'Users/sabrieyuboglu/code/spr-21/notebooks/CF3C3ACB-229D-4C0F-935C-20C99BEEEFC0_1_105_c.jpeg',\n",
    "    ] * 5,\n",
    "    fonts=[\n",
    "        '<i>italics</i>',\n",
    "        '<pre>pre</pre>',\n",
    "        '<b>bold</b>',\n",
    "        '<small>small</small>',\n",
    "        '<del>del</del>'\n",
    "    ]\n",
    "))\n",
    "\n",
    "\n",
    "\n",
    "p = figure(plot_width=400, plot_height=400,\n",
    "           title=\"Mouse over the dots\")\n",
    "\n",
    "hover = HoverTool(tooltips =\"\"\"\n",
    "            <div>\n",
    "                <div>\n",
    "                    <img\n",
    "                        src=\"file://@imgs\" alt=\"@imgs\" \n",
    "                        style=\"float: left; margin: 0px 15px 15px 0px;\"\n",
    "                        border=\"2\"\n",
    "                    ></img>\n",
    "                </div>\n",
    "                <div>\n",
    "                    <span style=\"font-size: 15px;\">@f_count @f_interval</span>\n",
    "                    <span style=\"font-size: 10px; color: #696;\">($x, $y)</span>\n",
    "                </div>\n",
    "            \"\"\")\n",
    "\n",
    "\n",
    "# Add the hover tool to the graph\n",
    "p.add_tools(hover)\n",
    "\n",
    "p.circle('x', 'y', size=20, source=source)\n",
    "\n",
    "show(p);"
   ]
  },
  {
   "cell_type": "code",
   "execution_count": 11,
   "metadata": {},
   "outputs": [
    {
     "output_type": "stream",
     "name": "stdout",
     "text": [
      "CPU times: user 13 µs, sys: 0 ns, total: 13 µs\nWall time: 14.8 µs\n"
     ]
    },
    {
     "output_type": "execute_result",
     "data": {
      "text/plain": [
       "<pyarrow.lib.Int16Array object at 0x7fe66b270e80>\n",
       "[\n",
       "  0,\n",
       "  1,\n",
       "  2,\n",
       "  3\n",
       "]"
      ]
     },
     "metadata": {},
     "execution_count": 11
    }
   ],
   "source": [
    "%%time\n",
    "arr[0:4]"
   ]
  },
  {
   "cell_type": "code",
   "execution_count": 12,
   "metadata": {},
   "outputs": [
    {
     "output_type": "stream",
     "name": "stdout",
     "text": [
      "CPU times: user 5 µs, sys: 1 µs, total: 6 µs\nWall time: 7.87 µs\n"
     ]
    },
    {
     "output_type": "execute_result",
     "data": {
      "text/plain": [
       "array([0, 1, 2, 3], dtype=int16)"
      ]
     },
     "metadata": {},
     "execution_count": 12
    }
   ],
   "source": [
    "%%time\n",
    "data[0:4]"
   ]
  },
  {
   "cell_type": "code",
   "execution_count": null,
   "metadata": {},
   "outputs": [],
   "source": []
  }
 ]
}