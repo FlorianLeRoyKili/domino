{
 "cells": [
  {
   "cell_type": "code",
   "execution_count": 1,
   "source": [
    "%load_ext autoreload\n",
    "%autoreload 2\n",
    "!wget https://raw.githubusercontent.com/pytorch/hub/master/imagenet_classes.txt\n"
   ],
   "outputs": [],
   "metadata": {}
  },
  {
   "cell_type": "code",
   "execution_count": 44,
   "source": [
    "from domino.data.imagenet import get_imagenet_dp\n",
    "from domino.utils import split_dp\n",
    "from domino.emb import embed_images\n",
    "import numpy as np\n",
    "import torch"
   ],
   "outputs": [],
   "metadata": {}
  },
  {
   "cell_type": "code",
   "execution_count": 2,
   "source": [
    "data_dp = get_imagenet_dp.out().load()\n",
    "runs = embed_images.get_runs()\n",
    "runs[runs[\"hostname\"] == \"pod-sabri\"]"
   ],
   "outputs": [],
   "metadata": {}
  },
  {
   "cell_type": "code",
   "execution_count": 39,
   "source": [
    "data_dp = get_imagenet_dp()\n",
    "\n",
    "split = split_dp(dp=data_dp, split_on=\"image_id\")\n",
    "data_dp = data_dp.load()"
   ],
   "outputs": [
    {
     "output_type": "stream",
     "name": "stdout",
     "text": [
      "cache hit –> task: get_imagenet_dp, run_id=19189\n",
      "cache hit –> task: split_dp, run_id=19190\n"
     ]
    }
   ],
   "metadata": {}
  },
  {
   "cell_type": "code",
   "execution_count": 55,
   "source": [
    "dp = embed_images(\n",
    "    emb_type=\"imagenet\",\n",
    "    dp=data_dp,\n",
    "    split_dp=split,\n",
    "    splits=[\"valid\"],\n",
    "    model=\"resnet18\",\n",
    "    img_column=\"image\",\n",
    "    mmap=True,\n",
    "    num_workers=7,\n",
    "    layers={\"emb\": \"layer4\"},\n",
    ").load()\n"
   ],
   "outputs": [
    {
     "output_type": "stream",
     "name": "stdout",
     "text": [
      "task: embed_images, run_id=46665\n",
      "task: embed_images, run_id=46666\n"
     ]
    },
    {
     "output_type": "display_data",
     "data": {
      "application/vnd.jupyter.widget-view+json": {
       "version_major": 2,
       "version_minor": 0,
       "model_id": "641eb551af154b18b746c6818d0aaf3a"
      },
      "text/plain": [
       "HBox(children=(FloatProgress(value=0.0, max=1038.0), HTML(value='')))"
      ]
     },
     "metadata": {}
    },
    {
     "output_type": "stream",
     "name": "stdout",
     "text": [
      "\n"
     ]
    }
   ],
   "metadata": {}
  },
  {
   "cell_type": "code",
   "execution_count": 51,
   "source": [
    "dp = embed_images.out(46403).load()"
   ],
   "outputs": [],
   "metadata": {}
  },
  {
   "cell_type": "code",
   "execution_count": 56,
   "source": [
    "from torchvision import models, transforms\n",
    "import torch\n",
    "\n",
    "model = models.resnet18(pretrained=True)\n",
    "dp[\"y_hat\"] = model.fc(torch.tensor(dp[\"emb\"].data).to(torch.float))"
   ],
   "outputs": [],
   "metadata": {}
  },
  {
   "cell_type": "code",
   "execution_count": 57,
   "source": [
    "probs = dp[\"y_hat\"].data\n",
    "probs = torch.nn.functional.softmax(probs, dim=0)\n",
    "\n",
    "with open(\"imagenet_classes.txt\", \"r\") as f:\n",
    "    categories = [s.strip() for s in f.readlines()]\n",
    "\n",
    "dp[\"preds\"] = list(map(lambda x: categories[x], probs.argmax(dim=1)))"
   ],
   "outputs": [],
   "metadata": {}
  },
  {
   "cell_type": "code",
   "execution_count": 60,
   "source": [
    "dp[500:510]"
   ],
   "outputs": [
    {
     "output_type": "execute_result",
     "data": {
      "text/html": [
       "<table border=\"1\" class=\"dataframe\">\n",
       "  <thead>\n",
       "    <tr style=\"text-align: right;\">\n",
       "      <th></th>\n",
       "      <th>image_id (PandasSeriesColumn)</th>\n",
       "      <th>path (PandasSeriesColumn)</th>\n",
       "      <th>index (PandasSeriesColumn)</th>\n",
       "      <th>image (ListColumn)</th>\n",
       "      <th>name (PandasSeriesColumn)</th>\n",
       "      <th>synset_pos_offset (PandasSeriesColumn)</th>\n",
       "      <th>synset (PandasSeriesColumn)</th>\n",
       "      <th>split (PandasSeriesColumn)</th>\n",
       "      <th>emb (NumpyArrayColumn)</th>\n",
       "      <th>y_hat (TensorColumn)</th>\n",
       "      <th>preds (PandasSeriesColumn)</th>\n",
       "    </tr>\n",
       "  </thead>\n",
       "  <tbody>\n",
       "    <tr>\n",
       "      <th>0</th>\n",
       "      <td>n01491361_799</td>\n",
       "      <td>/home/common/datasets/imagenet/ILSVRC/Data/CLS-LOC/train/n01491361/n01491361_799.JPEG</td>\n",
       "      <td>500</td>\n",
       "      <td><img src=\"data:image/jpeg;base64,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\"></td>\n",
       "      <td>tiger shark, Galeocerdo cuvieri</td>\n",
       "      <td>n01491361</td>\n",
       "      <td>tiger_shark.n.01</td>\n",
       "      <td>valid</td>\n",
       "      <td>np.ndarray(shape=(512,))</td>\n",
       "      <td>torch.Tensor(shape=torch.Size([1000]))</td>\n",
       "      <td>syringe</td>\n",
       "    </tr>\n",
       "    <tr>\n",
       "      <th>1</th>\n",
       "      <td>n01491361_8188</td>\n",
       "      <td>/home/common/datasets/imagenet/ILSVRC/Data/CLS-LOC/train/n01491361/n01491361_8188.JPEG</td>\n",
       "      <td>501</td>\n",
       "      <td><img src=\"data:image/jpeg;base64,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\"></td>\n",
       "      <td>tiger shark, Galeocerdo cuvieri</td>\n",
       "      <td>n01491361</td>\n",
       "      <td>tiger_shark.n.01</td>\n",
       "      <td>valid</td>\n",
       "      <td>np.ndarray(shape=(512,))</td>\n",
       "      <td>torch.Tensor(shape=torch.Size([1000]))</td>\n",
       "      <td>Sealyham terrier</td>\n",
       "    </tr>\n",
       "    <tr>\n",
       "      <th>2</th>\n",
       "      <td>n01491361_818</td>\n",
       "      <td>/home/common/datasets/imagenet/ILSVRC/Data/CLS-LOC/train/n01491361/n01491361_818.JPEG</td>\n",
       "      <td>502</td>\n",
       "      <td><img src=\"data:image/jpeg;base64,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\"></td>\n",
       "      <td>tiger shark, Galeocerdo cuvieri</td>\n",
       "      <td>n01491361</td>\n",
       "      <td>tiger_shark.n.01</td>\n",
       "      <td>valid</td>\n",
       "      <td>np.ndarray(shape=(512,))</td>\n",
       "      <td>torch.Tensor(shape=torch.Size([1000]))</td>\n",
       "      <td>screwdriver</td>\n",
       "    </tr>\n",
       "    <tr>\n",
       "      <th>3</th>\n",
       "      <td>n01491361_8450</td>\n",
       "      <td>/home/common/datasets/imagenet/ILSVRC/Data/CLS-LOC/train/n01491361/n01491361_8450.JPEG</td>\n",
       "      <td>503</td>\n",
       "      <td><img src=\"data:image/jpeg;base64,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\"></td>\n",
       "      <td>tiger shark, Galeocerdo cuvieri</td>\n",
       "      <td>n01491361</td>\n",
       "      <td>tiger_shark.n.01</td>\n",
       "      <td>valid</td>\n",
       "      <td>np.ndarray(shape=(512,))</td>\n",
       "      <td>torch.Tensor(shape=torch.Size([1000]))</td>\n",
       "      <td>syringe</td>\n",
       "    </tr>\n",
       "    <tr>\n",
       "      <th>4</th>\n",
       "      <td>n01491361_8621</td>\n",
       "      <td>/home/common/datasets/imagenet/ILSVRC/Data/CLS-LOC/train/n01491361/n01491361_8621.JPEG</td>\n",
       "      <td>504</td>\n",
       "      <td><img src=\"data:image/jpeg;base64,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\"></td>\n",
       "      <td>tiger shark, Galeocerdo cuvieri</td>\n",
       "      <td>n01491361</td>\n",
       "      <td>tiger_shark.n.01</td>\n",
       "      <td>valid</td>\n",
       "      <td>np.ndarray(shape=(512,))</td>\n",
       "      <td>torch.Tensor(shape=torch.Size([1000]))</td>\n",
       "      <td>umbrella</td>\n",
       "    </tr>\n",
       "    <tr>\n",
       "      <th>5</th>\n",
       "      <td>n01491361_8657</td>\n",
       "      <td>/home/common/datasets/imagenet/ILSVRC/Data/CLS-LOC/train/n01491361/n01491361_8657.JPEG</td>\n",
       "      <td>505</td>\n",
       "      <td><img src=\"data:image/jpeg;base64,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\"></td>\n",
       "      <td>tiger shark, Galeocerdo cuvieri</td>\n",
       "      <td>n01491361</td>\n",
       "      <td>tiger_shark.n.01</td>\n",
       "      <td>valid</td>\n",
       "      <td>np.ndarray(shape=(512,))</td>\n",
       "      <td>torch.Tensor(shape=torch.Size([1000]))</td>\n",
       "      <td>cowboy hat</td>\n",
       "    </tr>\n",
       "    <tr>\n",
       "      <th>6</th>\n",
       "      <td>n01491361_875</td>\n",
       "      <td>/home/common/datasets/imagenet/ILSVRC/Data/CLS-LOC/train/n01491361/n01491361_875.JPEG</td>\n",
       "      <td>506</td>\n",
       "      <td><img src=\"data:image/jpeg;base64,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\"></td>\n",
       "      <td>tiger shark, Galeocerdo cuvieri</td>\n",
       "      <td>n01491361</td>\n",
       "      <td>tiger_shark.n.01</td>\n",
       "      <td>valid</td>\n",
       "      <td>np.ndarray(shape=(512,))</td>\n",
       "      <td>torch.Tensor(shape=torch.Size([1000]))</td>\n",
       "      <td>Band Aid</td>\n",
       "    </tr>\n",
       "    <tr>\n",
       "      <th>7</th>\n",
       "      <td>n01491361_8772</td>\n",
       "      <td>/home/common/datasets/imagenet/ILSVRC/Data/CLS-LOC/train/n01491361/n01491361_8772.JPEG</td>\n",
       "      <td>507</td>\n",
       "      <td><img src=\"data:image/jpeg;base64,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\"></td>\n",
       "      <td>tiger shark, Galeocerdo cuvieri</td>\n",
       "      <td>n01491361</td>\n",
       "      <td>tiger_shark.n.01</td>\n",
       "      <td>valid</td>\n",
       "      <td>np.ndarray(shape=(512,))</td>\n",
       "      <td>torch.Tensor(shape=torch.Size([1000]))</td>\n",
       "      <td>prayer rug</td>\n",
       "    </tr>\n",
       "    <tr>\n",
       "      <th>8</th>\n",
       "      <td>n01491361_8825</td>\n",
       "      <td>/home/common/datasets/imagenet/ILSVRC/Data/CLS-LOC/train/n01491361/n01491361_8825.JPEG</td>\n",
       "      <td>508</td>\n",
       "      <td><img src=\"data:image/jpeg;base64,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\"></td>\n",
       "      <td>tiger shark, Galeocerdo cuvieri</td>\n",
       "      <td>n01491361</td>\n",
       "      <td>tiger_shark.n.01</td>\n",
       "      <td>valid</td>\n",
       "      <td>np.ndarray(shape=(512,))</td>\n",
       "      <td>torch.Tensor(shape=torch.Size([1000]))</td>\n",
       "      <td>neck brace</td>\n",
       "    </tr>\n",
       "    <tr>\n",
       "      <th>9</th>\n",
       "      <td>n01491361_8839</td>\n",
       "      <td>/home/common/datasets/imagenet/ILSVRC/Data/CLS-LOC/train/n01491361/n01491361_8839.JPEG</td>\n",
       "      <td>509</td>\n",
       "      <td><img src=\"data:image/jpeg;base64,/9j/4AAQSkZJRgABAQAAAQABAAD/2wBDAAgGBgcGBQgHBwcJCQgKDBQNDAsLDBkSEw8UHRofHh0aHBwgJC4nICIsIxwcKDcpLDAxNDQ0Hyc5PTgyPC4zNDL/2wBDAQkJCQwLDBgNDRgyIRwhMjIyMjIyMjIyMjIyMjIyMjIyMjIyMjIyMjIyMjIyMjIyMjIyMjIyMjIyMjIyMjIyMjL/wAARCABUAIADASIAAhEBAxEB/8QAHwAAAQUBAQEBAQEAAAAAAAAAAAECAwQFBgcICQoL/8QAtRAAAgEDAwIEAwUFBAQAAAF9AQIDAAQRBRIhMUEGE1FhByJxFDKBkaEII0KxwRVS0fAkM2JyggkKFhcYGRolJicoKSo0NTY3ODk6Q0RFRkdISUpTVFVWV1hZWmNkZWZnaGlqc3R1dnd4eXqDhIWGh4iJipKTlJWWl5iZmqKjpKWmp6ipqrKztLW2t7i5usLDxMXGx8jJytLT1NXW19jZ2uHi4+Tl5ufo6erx8vP09fb3+Pn6/8QAHwEAAwEBAQEBAQEBAQAAAAAAAAECAwQFBgcICQoL/8QAtREAAgECBAQDBAcFBAQAAQJ3AAECAxEEBSExBhJBUQdhcRMiMoEIFEKRobHBCSMzUvAVYnLRChYkNOEl8RcYGRomJygpKjU2Nzg5OkNERUZHSElKU1RVVldYWVpjZGVmZ2hpanN0dXZ3eHl6goOEhYaHiImKkpOUlZaXmJmaoqOkpaanqKmqsrO0tba3uLm6wsPExcbHyMnK0tPU1dbX2Nna4uPk5ebn6Onq8vP09fb3+Pn6/9oADAMBAAIRAxEAPwDl7cmJc5yDU4lJOS3Toazre5yOTVtSxPB616rPJsaVvcPvUFmK98dvetB45FwwOQRkEDGR61kWiMHzzj1roLRcouSWA/hJ6fSnCq4O6MqlNTKXmOaPMbuTWpPp6OgeNgMjrVCS2kibDr9COhr0KVeM9tzz6lJw3J7LUZrGVpItu8oVywzjPce9QrN83zbsdTjrUB4NLuIrXlW6I5nZIl85+54pslwQPWmZAx1H1pCMEYYeopNsSsS+cx9KiedulRsxA5YGoWYg5IpplIlac4JzVSS4Zs8/jTHZnHJ49BULmqWpokMkkbB5OarNI2SS2P61KxzzznvVWQ4NM3iVoFZXHGeelbEILE5AB6YAxislHCsvvV4XGMEZz3rypxXQ67t7m3bZBwCK2LbAINc5ZTCVgN2G9PWtq33j2rnkgN6LBIOeD94U6S3UIwBJz2HQiorHoMt+lX44w77QcZ9ahSaY3FSWpyt3aPC+Rnyz0Pp9ahwc11DQrMHRlB7GsK+s2spQpOVYZU16uGxHtPde55teg4arYpkkrz+tIent2pWOOO1IMbTXXY5hjVG2MYp7k1G5z/WmUiu4HNV3yKsPgYPP0qtIfanY2iQOePSqchyasSOQTjFVHalY3iQgOW2rzjv6VciTAAY5+lVY3x0q0j4Gc81zQw8UtTadR9C0ICF3xnp6VPDq1xag+ZlwOeetVY5mU5H/ANY1biltmYGWN8f7LDH61E8N2IVW251Wl6vYzbN8wQkcb+Aa3DcKEPllWB5ypBrig2mPHtZpB+FOW5t4B/ozzdOhOAa5Xg5N6AsSludZh3mLqQOdxOeMVlazexXM0ccbBljBBf1JrGa+kkyNxAPYUhlI4B611UMJ7OXNJ6mFavzrlSJS2fam78UwPkHJ5BppbI967TlSJJMZ4OcioWJHFBfOKjlcZODkfSgpIikYtmqrt196lkfg1UkcGmbxRFKcE/zqs7VK8mOOtV2AbkGpZ0RQxSKmU+9VEPJ5P5VOjUkXJFxG7VMp5qqjZ5B596lViatGEkXAQMYbPrUyNVJCasRkngUzKSLYcc8U/dgA1XV1xgninhweuTSM2iZXyQCaazDdjNN3A8LGcn1NNkwMnpQCQ9X+fjpTZSMe1QFyF/lSNJuQCkWokczDpzVVgWPBA78mns67jmqrvgmmbRQxznmq7Nz6VKdzHABJ9qqyNzWcmdEUNU81MjYPaqoyME1KjCpUi5Iuo2B1FSKw55NU1bPOalVxnOM1omZOJdRwDzU8c208VRVuOlTJIQAaq5i4lrzctntUiueuPpVUMSCcgY/WnKXznnFJsnlLgeRhuBAHucUjsxQnIJX0NV1D5PpThuUHuD1FK4coxn4pIpNr8j6ZpjAjOBUDMV7cii5aiPueHJHQ1SZvmq4/72HI61RySTSuaQQyR8dKrM1OdufWomOelZSZ0RiKOakUUUUkNlhVAQGpkAz0oorRGLLCqAOO9SqoxRRVGTJgoApScYxRRQSNEre1MeRvWiigaGh2PekIDDmiihlIaFCOQOlV50C7yOuaKKhlx3M5utRNRRWUjoif/9k=\"></td>\n",
       "      <td>tiger shark, Galeocerdo cuvieri</td>\n",
       "      <td>n01491361</td>\n",
       "      <td>tiger_shark.n.01</td>\n",
       "      <td>valid</td>\n",
       "      <td>np.ndarray(shape=(512,))</td>\n",
       "      <td>torch.Tensor(shape=torch.Size([1000]))</td>\n",
       "      <td>ashcan</td>\n",
       "    </tr>\n",
       "  </tbody>\n",
       "</table>"
      ],
      "text/plain": [
       "DataPanel(nrows: 10, ncols: 11)"
      ]
     },
     "metadata": {},
     "execution_count": 60
    }
   ],
   "metadata": {}
  },
  {
   "cell_type": "code",
   "execution_count": 63,
   "source": [
    "dp[\"preds\"].data.value_counts()[:10]"
   ],
   "outputs": [
    {
     "output_type": "execute_result",
     "data": {
      "text/plain": [
       "stretcher       4083\n",
       "cowboy hat      3253\n",
       "ashcan          2757\n",
       "king penguin    2581\n",
       "book jacket     2572\n",
       "lakeside        2497\n",
       "buckle          2445\n",
       "prayer rug      2392\n",
       "bannister       2160\n",
       "sandbar         1965\n",
       "dtype: int64"
      ]
     },
     "metadata": {},
     "execution_count": 63
    }
   ],
   "metadata": {}
  },
  {
   "cell_type": "code",
   "execution_count": 64,
   "source": [
    "len(dp)"
   ],
   "outputs": [
    {
     "output_type": "execute_result",
     "data": {
      "text/plain": [
       "132825"
      ]
     },
     "metadata": {},
     "execution_count": 64
    }
   ],
   "metadata": {}
  },
  {
   "cell_type": "code",
   "execution_count": null,
   "source": [
    "psutil.numcpus()"
   ],
   "outputs": [
    {
     "output_type": "error",
     "ename": "AttributeError",
     "evalue": "module 'psutil' has no attribute 'numcpus'",
     "traceback": [
      "\u001b[0;31m---------------------------------------------------------------------------\u001b[0m",
      "\u001b[0;31mAttributeError\u001b[0m                            Traceback (most recent call last)",
      "\u001b[0;32m/tmp/ipykernel_421183/2776431040.py\u001b[0m in \u001b[0;36m<module>\u001b[0;34m\u001b[0m\n\u001b[0;32m----> 1\u001b[0;31m \u001b[0mpsutil\u001b[0m\u001b[0;34m.\u001b[0m\u001b[0mnumcpus\u001b[0m\u001b[0;34m(\u001b[0m\u001b[0;34m)\u001b[0m\u001b[0;34m\u001b[0m\u001b[0;34m\u001b[0m\u001b[0m\n\u001b[0m",
      "\u001b[0;31mAttributeError\u001b[0m: module 'psutil' has no attribute 'numcpus'"
     ]
    }
   ],
   "metadata": {}
  },
  {
   "cell_type": "code",
   "execution_count": null,
   "source": [
    "import ray\n",
    "ray.get_gpu_ids()"
   ],
   "outputs": [
    {
     "output_type": "stream",
     "name": "stderr",
     "text": [
      "2021-09-27 22:07:35,466\tINFO services.py:1250 -- View the Ray dashboard at \u001b[1m\u001b[32mhttp://127.0.0.1:8265\u001b[39m\u001b[22m\n",
      "2021-09-27 22:07:35,881\tWARNING worker.py:499 -- `ray.get_gpu_ids()` will always return the empty list when called from the driver. This is because Ray does not manage GPU allocations to the driver process.\n"
     ]
    },
    {
     "output_type": "execute_result",
     "data": {
      "text/plain": [
       "[]"
      ]
     },
     "metadata": {},
     "execution_count": 42
    }
   ],
   "metadata": {}
  },
  {
   "cell_type": "code",
   "execution_count": null,
   "source": [
    "import torch\n",
    "use_cuda = torch.cuda.is_available()\n"
   ],
   "outputs": [],
   "metadata": {}
  },
  {
   "cell_type": "code",
   "execution_count": null,
   "source": [
    "use_cuda"
   ],
   "outputs": [
    {
     "output_type": "execute_result",
     "data": {
      "text/plain": [
       "True"
      ]
     },
     "metadata": {},
     "execution_count": 44
    }
   ],
   "metadata": {}
  },
  {
   "cell_type": "code",
   "execution_count": null,
   "source": [
    "torch.cuda.device_count()"
   ],
   "outputs": [
    {
     "output_type": "execute_result",
     "data": {
      "text/plain": [
       "1"
      ]
     },
     "metadata": {},
     "execution_count": 45
    }
   ],
   "metadata": {}
  },
  {
   "cell_type": "code",
   "execution_count": null,
   "source": [
    "import psutil\n",
    "psutil.cpu_count()"
   ],
   "outputs": [
    {
     "output_type": "execute_result",
     "data": {
      "text/plain": [
       "8"
      ]
     },
     "metadata": {},
     "execution_count": 47
    }
   ],
   "metadata": {}
  },
  {
   "cell_type": "code",
   "execution_count": null,
   "source": [],
   "outputs": [],
   "metadata": {}
  }
 ],
 "metadata": {
  "orig_nbformat": 4,
  "language_info": {
   "name": "python",
   "version": "3.8.10",
   "mimetype": "text/x-python",
   "codemirror_mode": {
    "name": "ipython",
    "version": 3
   },
   "pygments_lexer": "ipython3",
   "nbconvert_exporter": "python",
   "file_extension": ".py"
  },
  "kernelspec": {
   "name": "python3",
   "display_name": "Python 3.8.10 64-bit ('domino': conda)"
  },
  "interpreter": {
   "hash": "0d937a63d09daec3f9548a5c769ccb20edb9c2c1ae2375686b21850f577713d2"
  }
 },
 "nbformat": 4,
 "nbformat_minor": 2
}