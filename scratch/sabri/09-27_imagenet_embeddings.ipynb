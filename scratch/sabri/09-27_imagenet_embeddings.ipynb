{
 "cells": [
  {
   "cell_type": "code",
   "execution_count": 1,
   "source": [
    "%load_ext autoreload\n",
    "%autoreload 2"
   ],
   "outputs": [],
   "metadata": {}
  },
  {
   "cell_type": "code",
   "execution_count": 20,
   "source": [
    "from domino.data.imagenet import get_imagenet_dp\n",
    "from domino.emb.imagenet import embed_images\n",
    "import numpy as np\n",
    "import torch"
   ],
   "outputs": [],
   "metadata": {}
  },
  {
   "cell_type": "code",
   "execution_count": 6,
   "source": [
    "data_dp = get_imagenet_dp.out().load()"
   ],
   "outputs": [],
   "metadata": {}
  },
  {
   "cell_type": "code",
   "execution_count": 17,
   "source": [
    "dp = embed_images(\n",
    "    dp=data_dp.lz[np.random.randint(0, len(data_dp), 100)],\n",
    "    img_column=\"image\",\n",
    "    layers={\"emb\": \"layer4\"},\n",
    ").load()\n"
   ],
   "outputs": [
    {
     "output_type": "stream",
     "name": "stdout",
     "text": [
      "task: embed_images, run_id=37948\n"
     ]
    },
    {
     "output_type": "display_data",
     "data": {
      "application/vnd.jupyter.widget-view+json": {
       "version_major": 2,
       "version_minor": 0,
       "model_id": "d9ccc23893c04d9dbf1dfe51dd76c70c"
      },
      "text/plain": [
       "HBox(children=(FloatProgress(value=0.0, max=1.0), HTML(value='')))"
      ]
     },
     "metadata": {}
    },
    {
     "output_type": "stream",
     "name": "stdout",
     "text": [
      "\n"
     ]
    }
   ],
   "metadata": {}
  },
  {
   "cell_type": "code",
   "execution_count": 19,
   "source": [
    "!wget https://raw.githubusercontent.com/pytorch/hub/master/imagenet_classes.txt\n"
   ],
   "outputs": [
    {
     "output_type": "stream",
     "name": "stdout",
     "text": [
      "--2021-09-27 21:07:19--  https://raw.githubusercontent.com/pytorch/hub/master/imagenet_classes.txt\n",
      "Resolving raw.githubusercontent.com (raw.githubusercontent.com)... 185.199.108.133, 185.199.109.133, 185.199.110.133, ...\n",
      "Connecting to raw.githubusercontent.com (raw.githubusercontent.com)|185.199.108.133|:443... connected.\n",
      "HTTP request sent, awaiting response... 200 OK\n",
      "Length: 10472 (10K) [text/plain]\n",
      "Saving to: ‘imagenet_classes.txt’\n",
      "\n",
      "imagenet_classes.tx 100%[===================>]  10.23K  --.-KB/s    in 0s      \n",
      "\n",
      "2021-09-27 21:07:20 (92.3 MB/s) - ‘imagenet_classes.txt’ saved [10472/10472]\n",
      "\n"
     ]
    }
   ],
   "metadata": {}
  },
  {
   "cell_type": "code",
   "execution_count": 35,
   "source": [
    "probs = dp[\"output\"].data\n",
    "probs = torch.nn.functional.softmax(probs, dim=0)\n",
    "\n",
    "with open(\"imagenet_classes.txt\", \"r\") as f:\n",
    "    categories = [s.strip() for s in f.readlines()]\n",
    "\n",
    "dp[\"preds\"] = list(map(lambda x: categories[x], probs.argmax(dim=1)))"
   ],
   "outputs": [],
   "metadata": {}
  },
  {
   "cell_type": "code",
   "execution_count": 36,
   "source": [
    "dp"
   ],
   "outputs": [
    {
     "output_type": "execute_result",
     "data": {
      "text/html": [
       "<table border=\"1\" class=\"dataframe\">\n",
       "  <thead>\n",
       "    <tr style=\"text-align: right;\">\n",
       "      <th></th>\n",
       "      <th>image_id (PandasSeriesColumn)</th>\n",
       "      <th>path (PandasSeriesColumn)</th>\n",
       "      <th>split (PandasSeriesColumn)</th>\n",
       "      <th>index (PandasSeriesColumn)</th>\n",
       "      <th>image (ImageColumn)</th>\n",
       "      <th>name (PandasSeriesColumn)</th>\n",
       "      <th>synset_pos_offset (PandasSeriesColumn)</th>\n",
       "      <th>synset (PandasSeriesColumn)</th>\n",
       "      <th>emb (NumpyArrayColumn)</th>\n",
       "      <th>output (TensorColumn)</th>\n",
       "      <th>preds (PandasSeriesColumn)</th>\n",
       "    </tr>\n",
       "  </thead>\n",
       "  <tbody>\n",
       "    <tr>\n",
       "      <th>0</th>\n",
       "      <td>n02825657_15862</td>\n",
       "      <td>/home/common/datasets/imagenet/ILSVRC/Data/CLS-LOC/train/n02825657/n02825657_15862.JPEG</td>\n",
       "      <td>train</td>\n",
       "      <td>0</td>\n",
       "      <td><img src=\"data:image/jpeg;base64,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\"></td>\n",
       "      <td>bell cote, bell cot</td>\n",
       "      <td>n02825657</td>\n",
       "      <td>bell_cote.n.01</td>\n",
       "      <td>np.ndarray(shape=(2048,))</td>\n",
       "      <td>torch.Tensor(shape=torch.Size([1000]))</td>\n",
       "      <td>bell cote</td>\n",
       "    </tr>\n",
       "    <tr>\n",
       "      <th>1</th>\n",
       "      <td>n03376595_11565</td>\n",
       "      <td>/home/common/datasets/imagenet/ILSVRC/Data/CLS-LOC/train/n03376595/n03376595_11565.JPEG</td>\n",
       "      <td>train</td>\n",
       "      <td>1</td>\n",
       "      <td><img src=\"data:image/jpeg;base64,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\"></td>\n",
       "      <td>folding chair</td>\n",
       "      <td>n03376595</td>\n",
       "      <td>folding_chair.n.01</td>\n",
       "      <td>np.ndarray(shape=(2048,))</td>\n",
       "      <td>torch.Tensor(shape=torch.Size([1000]))</td>\n",
       "      <td>patio</td>\n",
       "    </tr>\n",
       "    <tr>\n",
       "      <th>2</th>\n",
       "      <td>n09428293_10761</td>\n",
       "      <td>/home/common/datasets/imagenet/ILSVRC/Data/CLS-LOC/train/n09428293/n09428293_10761.JPEG</td>\n",
       "      <td>train</td>\n",
       "      <td>2</td>\n",
       "      <td><img src=\"data:image/jpeg;base64,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\"></td>\n",
       "      <td>seashore, coast, seacoast, sea-coast</td>\n",
       "      <td>n09428293</td>\n",
       "      <td>seashore.n.01</td>\n",
       "      <td>np.ndarray(shape=(2048,))</td>\n",
       "      <td>torch.Tensor(shape=torch.Size([1000]))</td>\n",
       "      <td>promontory</td>\n",
       "    </tr>\n",
       "    <tr>\n",
       "      <th>3</th>\n",
       "      <td>ILSVRC2012_val_00005851</td>\n",
       "      <td>/home/common/datasets/imagenet/ILSVRC/Data/CLS-LOC/val/ILSVRC2012_val_00005851.JPEG</td>\n",
       "      <td>valid</td>\n",
       "      <td>3</td>\n",
       "      <td><img src=\"data:image/jpeg;base64,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\"></td>\n",
       "      <td>television, television system</td>\n",
       "      <td>n04404412</td>\n",
       "      <td>television.n.02</td>\n",
       "      <td>np.ndarray(shape=(2048,))</td>\n",
       "      <td>torch.Tensor(shape=torch.Size([1000]))</td>\n",
       "      <td>entertainment center</td>\n",
       "    </tr>\n",
       "    <tr>\n",
       "      <th>4</th>\n",
       "      <td>n01729977_8279</td>\n",
       "      <td>/home/common/datasets/imagenet/ILSVRC/Data/CLS-LOC/train/n01729977/n01729977_8279.JPEG</td>\n",
       "      <td>train</td>\n",
       "      <td>4</td>\n",
       "      <td><img src=\"data:image/jpeg;base64,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\"></td>\n",
       "      <td>green snake, grass snake</td>\n",
       "      <td>n01729977</td>\n",
       "      <td>green_snake.n.02</td>\n",
       "      <td>np.ndarray(shape=(2048,))</td>\n",
       "      <td>torch.Tensor(shape=torch.Size([1000]))</td>\n",
       "      <td>green snake</td>\n",
       "    </tr>\n",
       "    <tr>\n",
       "      <th>...</th>\n",
       "      <td>...</td>\n",
       "      <td>...</td>\n",
       "      <td>...</td>\n",
       "      <td>...</td>\n",
       "      <td>...</td>\n",
       "      <td>...</td>\n",
       "      <td>...</td>\n",
       "      <td>...</td>\n",
       "      <td>...</td>\n",
       "      <td>...</td>\n",
       "      <td>...</td>\n",
       "    </tr>\n",
       "    <tr>\n",
       "      <th>95</th>\n",
       "      <td>n02492035_27</td>\n",
       "      <td>/home/common/datasets/imagenet/ILSVRC/Data/CLS-LOC/train/n02492035/n02492035_27.JPEG</td>\n",
       "      <td>train</td>\n",
       "      <td>95</td>\n",
       "      <td><img src=\"data:image/jpeg;base64,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\"></td>\n",
       "      <td>capuchin, ringtail, Cebus capucinus</td>\n",
       "      <td>n02492035</td>\n",
       "      <td>capuchin.n.02</td>\n",
       "      <td>np.ndarray(shape=(2048,))</td>\n",
       "      <td>torch.Tensor(shape=torch.Size([1000]))</td>\n",
       "      <td>capuchin</td>\n",
       "    </tr>\n",
       "    <tr>\n",
       "      <th>96</th>\n",
       "      <td>n02095889_2028</td>\n",
       "      <td>/home/common/datasets/imagenet/ILSVRC/Data/CLS-LOC/train/n02095889/n02095889_2028.JPEG</td>\n",
       "      <td>train</td>\n",
       "      <td>96</td>\n",
       "      <td><img src=\"data:image/jpeg;base64,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\"></td>\n",
       "      <td>Sealyham terrier, Sealyham</td>\n",
       "      <td>n02095889</td>\n",
       "      <td>sealyham_terrier.n.01</td>\n",
       "      <td>np.ndarray(shape=(2048,))</td>\n",
       "      <td>torch.Tensor(shape=torch.Size([1000]))</td>\n",
       "      <td>Sealyham terrier</td>\n",
       "    </tr>\n",
       "    <tr>\n",
       "      <th>97</th>\n",
       "      <td>n02124075_4933</td>\n",
       "      <td>/home/common/datasets/imagenet/ILSVRC/Data/CLS-LOC/train/n02124075/n02124075_4933.JPEG</td>\n",
       "      <td>train</td>\n",
       "      <td>97</td>\n",
       "      <td><img src=\"data:image/jpeg;base64,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\"></td>\n",
       "      <td>Egyptian cat</td>\n",
       "      <td>n02124075</td>\n",
       "      <td>egyptian_cat.n.01</td>\n",
       "      <td>np.ndarray(shape=(2048,))</td>\n",
       "      <td>torch.Tensor(shape=torch.Size([1000]))</td>\n",
       "      <td>Egyptian cat</td>\n",
       "    </tr>\n",
       "    <tr>\n",
       "      <th>98</th>\n",
       "      <td>n12057211_4462</td>\n",
       "      <td>/home/common/datasets/imagenet/ILSVRC/Data/CLS-LOC/train/n12057211/n12057211_4462.JPEG</td>\n",
       "      <td>train</td>\n",
       "      <td>98</td>\n",
       "      <td><img src=\"data:image/jpeg;base64,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\"></td>\n",
       "      <td>yellow lady's slipper, yellow lady-slipper, Cypripedium calceolus, Cypripedium parviflorum</td>\n",
       "      <td>n12057211</td>\n",
       "      <td>yellow_lady's_slipper.n.01</td>\n",
       "      <td>np.ndarray(shape=(2048,))</td>\n",
       "      <td>torch.Tensor(shape=torch.Size([1000]))</td>\n",
       "      <td>yellow lady's slipper</td>\n",
       "    </tr>\n",
       "    <tr>\n",
       "      <th>99</th>\n",
       "      <td>n01943899_9645</td>\n",
       "      <td>/home/common/datasets/imagenet/ILSVRC/Data/CLS-LOC/train/n01943899/n01943899_9645.JPEG</td>\n",
       "      <td>train</td>\n",
       "      <td>99</td>\n",
       "      <td><img src=\"data:image/jpeg;base64,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\"></td>\n",
       "      <td>conch</td>\n",
       "      <td>n01943899</td>\n",
       "      <td>conch.n.01</td>\n",
       "      <td>np.ndarray(shape=(2048,))</td>\n",
       "      <td>torch.Tensor(shape=torch.Size([1000]))</td>\n",
       "      <td>conch</td>\n",
       "    </tr>\n",
       "  </tbody>\n",
       "</table>"
      ],
      "text/plain": [
       "DataPanel(nrows: 100, ncols: 11)"
      ]
     },
     "metadata": {},
     "execution_count": 36
    }
   ],
   "metadata": {}
  },
  {
   "cell_type": "code",
   "execution_count": 38,
   "source": [
    "collect_settings.out().load()"
   ],
   "outputs": [
    {
     "output_type": "execute_result",
     "data": {
      "text/html": [
       "<table border=\"1\" class=\"dataframe\">\n",
       "  <thead>\n",
       "    <tr style=\"text-align: right;\">\n",
       "      <th></th>\n",
       "      <th>alpha (NumpyArrayColumn)</th>\n",
       "      <th>build_setting_kwargs (ListColumn)</th>\n",
       "      <th>dataset (PandasSeriesColumn)</th>\n",
       "      <th>slice_category (PandasSeriesColumn)</th>\n",
       "      <th>slice_names (ListColumn)</th>\n",
       "      <th>target_name (PandasSeriesColumn)</th>\n",
       "      <th>index (PandasSeriesColumn)</th>\n",
       "      <th>setting_id (PandasSeriesColumn)</th>\n",
       "    </tr>\n",
       "  </thead>\n",
       "  <tbody>\n",
       "    <tr>\n",
       "      <th>0</th>\n",
       "      <td>0.0</td>\n",
       "      <td>{'n': 30000, 'correlate': 'cardiomegaly', 'target': 'atelectasis', 'corr': 0.0}</td>\n",
       "      <td>mimic</td>\n",
       "      <td>correlation</td>\n",
       "      <td>['atelectasis=0_cardiomegaly=1', 'atelectasis=1_cardiomegaly=0']</td>\n",
       "      <td>atelectasis</td>\n",
       "      <td>0</td>\n",
       "      <td>7f631e49-ed3d-4fe5-bfd8-65828b4f2987</td>\n",
       "    </tr>\n",
       "    <tr>\n",
       "      <th>1</th>\n",
       "      <td>0.2</td>\n",
       "      <td>{'n': 30000, 'correlate': 'cardiomegaly', 'target': 'atelectasis', 'corr': 0.2}</td>\n",
       "      <td>mimic</td>\n",
       "      <td>correlation</td>\n",
       "      <td>['atelectasis=0_cardiomegaly=1', 'atelectasis=1_cardiomegaly=0']</td>\n",
       "      <td>atelectasis</td>\n",
       "      <td>1</td>\n",
       "      <td>765e0bd2-2c6e-48c2-a4ee-e04b23bd929a</td>\n",
       "    </tr>\n",
       "    <tr>\n",
       "      <th>2</th>\n",
       "      <td>0.4</td>\n",
       "      <td>{'n': 30000, 'correlate': 'cardiomegaly', 'target': 'atelectasis', 'corr': 0.4}</td>\n",
       "      <td>mimic</td>\n",
       "      <td>correlation</td>\n",
       "      <td>['atelectasis=0_cardiomegaly=1', 'atelectasis=1_cardiomegaly=0']</td>\n",
       "      <td>atelectasis</td>\n",
       "      <td>2</td>\n",
       "      <td>2b6f38ca-420d-454d-9ad3-bff22f682d52</td>\n",
       "    </tr>\n",
       "    <tr>\n",
       "      <th>3</th>\n",
       "      <td>0.6</td>\n",
       "      <td>{'n': 30000, 'correlate': 'cardiomegaly', 'target': 'atelectasis', 'corr': 0.6000000000000001}</td>\n",
       "      <td>mimic</td>\n",
       "      <td>correlation</td>\n",
       "      <td>['atelectasis=0_cardiomegaly=1', 'atelectasis=1_cardiomegaly=0']</td>\n",
       "      <td>atelectasis</td>\n",
       "      <td>3</td>\n",
       "      <td>9193d4e4-d014-4645-bc54-1fcbcad1e9fc</td>\n",
       "    </tr>\n",
       "    <tr>\n",
       "      <th>4</th>\n",
       "      <td>0.8</td>\n",
       "      <td>{'n': 30000, 'correlate': 'cardiomegaly', 'target': 'atelectasis', 'corr': 0.8}</td>\n",
       "      <td>mimic</td>\n",
       "      <td>correlation</td>\n",
       "      <td>['atelectasis=0_cardiomegaly=1', 'atelectasis=1_cardiomegaly=0']</td>\n",
       "      <td>atelectasis</td>\n",
       "      <td>4</td>\n",
       "      <td>fbde748b-2b20-4c07-891d-f7d11d222f7b</td>\n",
       "    </tr>\n",
       "    <tr>\n",
       "      <th>...</th>\n",
       "      <td>...</td>\n",
       "      <td>...</td>\n",
       "      <td>...</td>\n",
       "      <td>...</td>\n",
       "      <td>...</td>\n",
       "      <td>...</td>\n",
       "      <td>...</td>\n",
       "      <td>...</td>\n",
       "    </tr>\n",
       "    <tr>\n",
       "      <th>215</th>\n",
       "      <td>0.0</td>\n",
       "      <td>{'n': 30000, 'correlate': 'pleural_group', 'target': 'cardio_group', 'corr': 0.0}</td>\n",
       "      <td>mimic</td>\n",
       "      <td>correlation</td>\n",
       "      <td>['cardio_group=0_pleural_group=1', 'cardio_group=1_pleural_group=0']</td>\n",
       "      <td>cardio_group</td>\n",
       "      <td>215</td>\n",
       "      <td>36f32e53-453f-47e3-be49-469ddb500228</td>\n",
       "    </tr>\n",
       "    <tr>\n",
       "      <th>216</th>\n",
       "      <td>0.2</td>\n",
       "      <td>{'n': 30000, 'correlate': 'pleural_group', 'target': 'cardio_group', 'corr': 0.2}</td>\n",
       "      <td>mimic</td>\n",
       "      <td>correlation</td>\n",
       "      <td>['cardio_group=0_pleural_group=1', 'cardio_group=1_pleural_group=0']</td>\n",
       "      <td>cardio_group</td>\n",
       "      <td>216</td>\n",
       "      <td>27da6e31-c3b4-48c3-be59-8aaf5df7f578</td>\n",
       "    </tr>\n",
       "    <tr>\n",
       "      <th>217</th>\n",
       "      <td>0.4</td>\n",
       "      <td>{'n': 30000, 'correlate': 'pleural_group', 'target': 'cardio_group', 'corr': 0.4}</td>\n",
       "      <td>mimic</td>\n",
       "      <td>correlation</td>\n",
       "      <td>['cardio_group=0_pleural_group=1', 'cardio_group=1_pleural_group=0']</td>\n",
       "      <td>cardio_group</td>\n",
       "      <td>217</td>\n",
       "      <td>5f9463b3-3e53-4e3f-980b-600a0ef0a1e5</td>\n",
       "    </tr>\n",
       "    <tr>\n",
       "      <th>218</th>\n",
       "      <td>0.6</td>\n",
       "      <td>{'n': 30000, 'correlate': 'pleural_group', 'target': 'cardio_group', 'corr': 0.6000000000000001}</td>\n",
       "      <td>mimic</td>\n",
       "      <td>correlation</td>\n",
       "      <td>['cardio_group=0_pleural_group=1', 'cardio_group=1_pleural_group=0']</td>\n",
       "      <td>cardio_group</td>\n",
       "      <td>218</td>\n",
       "      <td>12b59237-eff7-4b14-925f-eb7aff8d3110</td>\n",
       "    </tr>\n",
       "    <tr>\n",
       "      <th>219</th>\n",
       "      <td>0.8</td>\n",
       "      <td>{'n': 30000, 'correlate': 'pleural_group', 'target': 'cardio_group', 'corr': 0.8}</td>\n",
       "      <td>mimic</td>\n",
       "      <td>correlation</td>\n",
       "      <td>['cardio_group=0_pleural_group=1', 'cardio_group=1_pleural_group=0']</td>\n",
       "      <td>cardio_group</td>\n",
       "      <td>219</td>\n",
       "      <td>9ca14223-5fcd-4429-bdd4-c889eef9fb1f</td>\n",
       "    </tr>\n",
       "  </tbody>\n",
       "</table>"
      ],
      "text/plain": [
       "DataPanel(nrows: 220, ncols: 8)"
      ]
     },
     "metadata": {},
     "execution_count": 38
    }
   ],
   "metadata": {}
  },
  {
   "cell_type": "code",
   "execution_count": 39,
   "source": [
    "import psutil"
   ],
   "outputs": [],
   "metadata": {}
  },
  {
   "cell_type": "code",
   "execution_count": 41,
   "source": [
    "psutil.numcpus()"
   ],
   "outputs": [
    {
     "output_type": "error",
     "ename": "AttributeError",
     "evalue": "module 'psutil' has no attribute 'numcpus'",
     "traceback": [
      "\u001b[0;31m---------------------------------------------------------------------------\u001b[0m",
      "\u001b[0;31mAttributeError\u001b[0m                            Traceback (most recent call last)",
      "\u001b[0;32m/tmp/ipykernel_421183/2776431040.py\u001b[0m in \u001b[0;36m<module>\u001b[0;34m\u001b[0m\n\u001b[0;32m----> 1\u001b[0;31m \u001b[0mpsutil\u001b[0m\u001b[0;34m.\u001b[0m\u001b[0mnumcpus\u001b[0m\u001b[0;34m(\u001b[0m\u001b[0;34m)\u001b[0m\u001b[0;34m\u001b[0m\u001b[0;34m\u001b[0m\u001b[0m\n\u001b[0m",
      "\u001b[0;31mAttributeError\u001b[0m: module 'psutil' has no attribute 'numcpus'"
     ]
    }
   ],
   "metadata": {}
  },
  {
   "cell_type": "code",
   "execution_count": 42,
   "source": [
    "import ray\n",
    "ray.get_gpu_ids()"
   ],
   "outputs": [
    {
     "output_type": "stream",
     "name": "stderr",
     "text": [
      "2021-09-27 22:07:35,466\tINFO services.py:1250 -- View the Ray dashboard at \u001b[1m\u001b[32mhttp://127.0.0.1:8265\u001b[39m\u001b[22m\n",
      "2021-09-27 22:07:35,881\tWARNING worker.py:499 -- `ray.get_gpu_ids()` will always return the empty list when called from the driver. This is because Ray does not manage GPU allocations to the driver process.\n"
     ]
    },
    {
     "output_type": "execute_result",
     "data": {
      "text/plain": [
       "[]"
      ]
     },
     "metadata": {},
     "execution_count": 42
    }
   ],
   "metadata": {}
  },
  {
   "cell_type": "code",
   "execution_count": 43,
   "source": [
    "import torch\n",
    "use_cuda = torch.cuda.is_available()\n"
   ],
   "outputs": [],
   "metadata": {}
  },
  {
   "cell_type": "code",
   "execution_count": 44,
   "source": [
    "use_cuda"
   ],
   "outputs": [
    {
     "output_type": "execute_result",
     "data": {
      "text/plain": [
       "True"
      ]
     },
     "metadata": {},
     "execution_count": 44
    }
   ],
   "metadata": {}
  },
  {
   "cell_type": "code",
   "execution_count": 45,
   "source": [
    "torch.cuda.device_count()"
   ],
   "outputs": [
    {
     "output_type": "execute_result",
     "data": {
      "text/plain": [
       "1"
      ]
     },
     "metadata": {},
     "execution_count": 45
    }
   ],
   "metadata": {}
  },
  {
   "cell_type": "code",
   "execution_count": 47,
   "source": [
    "import psutil\n",
    "psutil.cpu_count()"
   ],
   "outputs": [
    {
     "output_type": "execute_result",
     "data": {
      "text/plain": [
       "8"
      ]
     },
     "metadata": {},
     "execution_count": 47
    }
   ],
   "metadata": {}
  },
  {
   "cell_type": "code",
   "execution_count": null,
   "source": [],
   "outputs": [],
   "metadata": {}
  }
 ],
 "metadata": {
  "orig_nbformat": 4,
  "language_info": {
   "name": "python",
   "version": "3.8.10",
   "mimetype": "text/x-python",
   "codemirror_mode": {
    "name": "ipython",
    "version": 3
   },
   "pygments_lexer": "ipython3",
   "nbconvert_exporter": "python",
   "file_extension": ".py"
  },
  "kernelspec": {
   "name": "python3",
   "display_name": "Python 3.8.10 64-bit ('domino': conda)"
  },
  "interpreter": {
   "hash": "0d937a63d09daec3f9548a5c769ccb20edb9c2c1ae2375686b21850f577713d2"
  }
 },
 "nbformat": 4,
 "nbformat_minor": 2
}