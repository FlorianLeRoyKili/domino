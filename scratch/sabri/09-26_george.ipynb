{
 "cells": [
  {
   "cell_type": "code",
   "execution_count": 1,
   "source": [
    "\n",
    "%load_ext autoreload\n",
    "%autoreload 2"
   ],
   "outputs": [],
   "metadata": {}
  },
  {
   "cell_type": "code",
   "execution_count": 2,
   "source": [
    "from domino.evaluate import run_sdm\n",
    "from domino.sdm import MultiaccuracySDM, GeorgeSDM, ConfusionSDM, MixtureModelSDM\n"
   ],
   "outputs": [
    {
     "output_type": "stream",
     "name": "stderr",
     "text": [
      "/home/sabri/code/meerkat/meerkat/nn/__init__.py:7: ExperimentalWarning: The `meerkat.nn` module is experimental and has limited test coverage. Proceed with caution.\n",
      "  warnings.warn(\n"
     ]
    }
   ],
   "metadata": {}
  },
  {
   "cell_type": "code",
   "execution_count": 3,
   "source": [
    "inp = run_sdm.inp(30714)\n",
    "data_dp = inp[\"data_dp\"].load()\n",
    "emb_dp = inp[\"emb_dp\"].load()\n",
    "\n",
    "\n",
    "id_column = inp[\"id_column\"]\n",
    "data_emb_dp = data_dp.lz[data_dp[\"split\"].isin([\"valid\", \"test\"])].merge(\n",
    "    emb_dp[[id_column, \"emb\"]], on=id_column\n",
    ")"
   ],
   "outputs": [],
   "metadata": {}
  },
  {
   "cell_type": "code",
   "execution_count": 4,
   "source": [
    "# sdm = GeorgeSDM(\n",
    "#     concat_loss_component=True, \n",
    "#     n_slices=5, \n",
    "#     n_clusters=10, \n",
    "#     n_components=128, \n",
    "#     reduction_method=\"pca\"\n",
    "# )\n",
    "# sdm = MixtureModelSDM(\n",
    "#     weight_y_log_likelihood=10\n",
    "# )\n",
    "sdm = ConfusionSDM()\n"
   ],
   "outputs": [],
   "metadata": {}
  },
  {
   "cell_type": "code",
   "execution_count": 5,
   "source": [
    "out = sdm.fit(data_emb_dp)"
   ],
   "outputs": [],
   "metadata": {}
  },
  {
   "cell_type": "code",
   "execution_count": 8,
   "source": [
    "out = sdm.transform(data_emb_dp)"
   ],
   "outputs": [],
   "metadata": {}
  },
  {
   "cell_type": "code",
   "execution_count": 9,
   "source": [
    "from domino.metrics import compute_sdm_metrics\n",
    "compute_sdm_metrics(out)"
   ],
   "outputs": [
    {
     "output_type": "stream",
     "name": "stderr",
     "text": [
      "/home/common/envs/conda/envs/domino/lib/python3.8/site-packages/sklearn/metrics/_classification.py:1248: UndefinedMetricWarning: Precision is ill-defined and being set to 0.0 due to no predicted samples. Use `zero_division` parameter to control this behavior.\n",
      "  _warn_prf(average, modifier, msg_start, len(result))\n"
     ]
    },
    {
     "output_type": "execute_result",
     "data": {
      "text/html": [
       "<div>\n",
       "<style scoped>\n",
       "    .dataframe tbody tr th:only-of-type {\n",
       "        vertical-align: middle;\n",
       "    }\n",
       "\n",
       "    .dataframe tbody tr th {\n",
       "        vertical-align: top;\n",
       "    }\n",
       "\n",
       "    .dataframe thead th {\n",
       "        text-align: right;\n",
       "    }\n",
       "</style>\n",
       "<table border=\"1\" class=\"dataframe\">\n",
       "  <thead>\n",
       "    <tr style=\"text-align: right;\">\n",
       "      <th></th>\n",
       "      <th>pred_slice_idx</th>\n",
       "      <th>slice_idx</th>\n",
       "      <th>auroc</th>\n",
       "      <th>precision_at_10</th>\n",
       "      <th>precision_at_25</th>\n",
       "      <th>precision_at_100</th>\n",
       "      <th>recall_at_50</th>\n",
       "      <th>recall_at_100</th>\n",
       "      <th>recall_at_200</th>\n",
       "      <th>recall</th>\n",
       "      <th>precision</th>\n",
       "    </tr>\n",
       "  </thead>\n",
       "  <tbody>\n",
       "    <tr>\n",
       "      <th>0</th>\n",
       "      <td>0</td>\n",
       "      <td>0</td>\n",
       "      <td>0.250480</td>\n",
       "      <td>0.0</td>\n",
       "      <td>0.00</td>\n",
       "      <td>0.00</td>\n",
       "      <td>0.000000</td>\n",
       "      <td>0.000000</td>\n",
       "      <td>0.000000</td>\n",
       "      <td>0.000000</td>\n",
       "      <td>0.000000</td>\n",
       "    </tr>\n",
       "    <tr>\n",
       "      <th>1</th>\n",
       "      <td>1</td>\n",
       "      <td>0</td>\n",
       "      <td>0.250480</td>\n",
       "      <td>0.0</td>\n",
       "      <td>0.00</td>\n",
       "      <td>0.00</td>\n",
       "      <td>0.000000</td>\n",
       "      <td>0.000000</td>\n",
       "      <td>0.000000</td>\n",
       "      <td>0.000000</td>\n",
       "      <td>0.000000</td>\n",
       "    </tr>\n",
       "    <tr>\n",
       "      <th>2</th>\n",
       "      <td>2</td>\n",
       "      <td>0</td>\n",
       "      <td>0.910296</td>\n",
       "      <td>1.0</td>\n",
       "      <td>0.68</td>\n",
       "      <td>0.33</td>\n",
       "      <td>0.161972</td>\n",
       "      <td>0.232394</td>\n",
       "      <td>0.316901</td>\n",
       "      <td>0.612676</td>\n",
       "      <td>0.107011</td>\n",
       "    </tr>\n",
       "    <tr>\n",
       "      <th>3</th>\n",
       "      <td>3</td>\n",
       "      <td>0</td>\n",
       "      <td>0.588745</td>\n",
       "      <td>0.0</td>\n",
       "      <td>0.00</td>\n",
       "      <td>0.00</td>\n",
       "      <td>0.000000</td>\n",
       "      <td>0.000000</td>\n",
       "      <td>0.000000</td>\n",
       "      <td>0.387324</td>\n",
       "      <td>0.014597</td>\n",
       "    </tr>\n",
       "    <tr>\n",
       "      <th>4</th>\n",
       "      <td>4</td>\n",
       "      <td>0</td>\n",
       "      <td>0.500000</td>\n",
       "      <td>0.0</td>\n",
       "      <td>0.00</td>\n",
       "      <td>0.01</td>\n",
       "      <td>0.000000</td>\n",
       "      <td>0.000000</td>\n",
       "      <td>0.000000</td>\n",
       "      <td>0.000000</td>\n",
       "      <td>0.000000</td>\n",
       "    </tr>\n",
       "  </tbody>\n",
       "</table>\n",
       "</div>"
      ],
      "text/plain": [
       "   pred_slice_idx  slice_idx     auroc  precision_at_10  precision_at_25  \\\n",
       "0               0          0  0.250480              0.0             0.00   \n",
       "1               1          0  0.250480              0.0             0.00   \n",
       "2               2          0  0.910296              1.0             0.68   \n",
       "3               3          0  0.588745              0.0             0.00   \n",
       "4               4          0  0.500000              0.0             0.00   \n",
       "\n",
       "   precision_at_100  recall_at_50  recall_at_100  recall_at_200    recall  \\\n",
       "0              0.00      0.000000       0.000000       0.000000  0.000000   \n",
       "1              0.00      0.000000       0.000000       0.000000  0.000000   \n",
       "2              0.33      0.161972       0.232394       0.316901  0.612676   \n",
       "3              0.00      0.000000       0.000000       0.000000  0.387324   \n",
       "4              0.01      0.000000       0.000000       0.000000  0.000000   \n",
       "\n",
       "   precision  \n",
       "0   0.000000  \n",
       "1   0.000000  \n",
       "2   0.107011  \n",
       "3   0.014597  \n",
       "4   0.000000  "
      ]
     },
     "metadata": {},
     "execution_count": 9
    }
   ],
   "metadata": {}
  },
  {
   "cell_type": "code",
   "execution_count": 39,
   "source": [
    "import seaborn as sns\n",
    "dp = out\n",
    "plot_dp = dp.lz[dp[\"target\"] ==1]\n",
    "slices = plot_dp[\"slices\"].data.squeeze()\n",
    "probs = plot_dp[\"probs\"].data[:, 1]\n",
    "sns.displot({\"probs\": probs, \"slice\": slices}, x=\"probs\", hue=\"slice\")\n",
    "\n",
    "plt.yscale(\"log\")"
   ],
   "outputs": [
    {
     "output_type": "display_data",
     "data": {
      "image/png": "[encoded data removed]",
      "text/plain": [
       "<Figure size 411.875x360 with 1 Axes>"
      ]
     },
     "metadata": {
      "needs_background": "light"
     }
    }
   ],
   "metadata": {}
  },
  {
   "cell_type": "code",
   "execution_count": 26,
   "source": [
    "dp = out\n",
    "pred_slice_idx = 1\n",
    "dp.lz[(-dp[\"pred_slices\"].data[:, pred_slice_idx]).argsort()[:10]][[\"image\", \"target\", \"synset\"]]"
   ],
   "outputs": [
    {
     "output_type": "execute_result",
     "data": {
      "text/html": [
       "<table border=\"1\" class=\"dataframe\">\n",
       "  <thead>\n",
       "    <tr style=\"text-align: right;\">\n",
       "      <th></th>\n",
       "      <th>image (ImageColumn)</th>\n",
       "      <th>target (NumpyArrayColumn)</th>\n",
       "      <th>synset (PandasSeriesColumn)</th>\n",
       "    </tr>\n",
       "  </thead>\n",
       "  <tbody>\n",
       "    <tr>\n",
       "      <th>0</th>\n",
       "      <td><img src=\"data:image/jpeg;base64,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\"></td>\n",
       "      <td>1</td>\n",
       "      <td>jean.n.01</td>\n",
       "    </tr>\n",
       "    <tr>\n",
       "      <th>1</th>\n",
       "      <td><img src=\"data:image/jpeg;base64,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\"></td>\n",
       "      <td>1</td>\n",
       "      <td>jean.n.01</td>\n",
       "    </tr>\n",
       "    <tr>\n",
       "      <th>2</th>\n",
       "      <td><img src=\"data:image/jpeg;base64,/9j/4AAQSkZJRgABAQAAAQABAAD/2wBDAAgGBgcGBQgHBwcJCQgKDBQNDAsLDBkSEw8UHRofHh0aHBwgJC4nICIsIxwcKDcpLDAxNDQ0Hyc5PTgyPC4zNDL/2wBDAQkJCQwLDBgNDRgyIRwhMjIyMjIyMjIyMjIyMjIyMjIyMjIyMjIyMjIyMjIyMjIyMjIyMjIyMjIyMjIyMjIyMjL/wAARCACAAGADASIAAhEBAxEB/8QAHwAAAQUBAQEBAQEAAAAAAAAAAAECAwQFBgcICQoL/8QAtRAAAgEDAwIEAwUFBAQAAAF9AQIDAAQRBRIhMUEGE1FhByJxFDKBkaEII0KxwRVS0fAkM2JyggkKFhcYGRolJicoKSo0NTY3ODk6Q0RFRkdISUpTVFVWV1hZWmNkZWZnaGlqc3R1dnd4eXqDhIWGh4iJipKTlJWWl5iZmqKjpKWmp6ipqrKztLW2t7i5usLDxMXGx8jJytLT1NXW19jZ2uHi4+Tl5ufo6erx8vP09fb3+Pn6/8QAHwEAAwEBAQEBAQEBAQAAAAAAAAECAwQFBgcICQoL/8QAtREAAgECBAQDBAcFBAQAAQJ3AAECAxEEBSExBhJBUQdhcRMiMoEIFEKRobHBCSMzUvAVYnLRChYkNOEl8RcYGRomJygpKjU2Nzg5OkNERUZHSElKU1RVVldYWVpjZGVmZ2hpanN0dXZ3eHl6goOEhYaHiImKkpOUlZaXmJmaoqOkpaanqKmqsrO0tba3uLm6wsPExcbHyMnK0tPU1dbX2Nna4uPk5ebn6Onq8vP09fb3+Pn6/9oADAMBAAIRAxEAPwDt0bPFPQ4zTR605O9akpEoY0uTTRS9qVwM6NiNXT12y/zStpfuZxWEkirrS57Ryk/mlZc/iK9a5laPzUwyi3hWPKOvcs3b/wDVSbLULq52UbIu/em75SB7H1pvBPTiqVje/bLVZSuxiPmX0NWgwPOaadxOPK7MdgBeR1qLPzYzxUjEZHIqMAE807iAnjgUwfzpT14qMgkn0ouDtYj3Z4p68ZpgGGyKeD81JiJBR2poNGeKm4GO/Org46xy/wA0qRo1WODao+UZzTGP/E2UD+7N/wCyVoWqq9uh4I7UmbRXufMbZo0ckgzhTggY6VejPyjiowMVJEflFNEO73H9e1MUc80pYBfaoHYgZzgetO5I9vY5pu4elNSRGTKMrD1BzSBucUCKt3dpY2stxMT5cSlmI7isJvHGmx/M8F4F/vCLcP0NTeLH/wCKavFBALIFHOOpAryWHVZrOQLIokjQ8K4/katRTQmz1WLx/wCHZOt46f70Tf0q9F4u8Py/d1a2/wCBNt/nXkP26yvLl3uFDA/dXaAwPpnv+f4VPDepYRK1rp8IvC2FuJ/n2fRccH3OaHT00HGzdnoepTXttb6jFdSzxrERIEBcAvuC4xntweaqNrlvbyti8hgjznCzKST79vyrzG02Ta2LnXY572LnzCj7zn6f04rUF/okCsI7CVsdAtmnHPuah02zdVVDSJ3B+IWi20ix3F7HLk43RKTj69v1qTUPF9xBbefpOnf2lARkSxyghfqo5Feda54hS802O0i0+G0h8zd5jKok9gAvbH1rNSW50iWGaznn8yUfI+SDn0C1SpidSL+JHV3HjLxRqIYoYLGEDLOEwAPqc1z0ut3V08hvNRuJol6O7H5z6KvSknS5jg/4m1zNLI3zrab+/q57D2rMYS3L5+WTA4C8Ig/w+laWSeiMbs9L+HOptdWV3aOSPLkDqCc8H/64rukIFePeDdSGnalFJPIIhIxi2j7rg9/wOK9ejO4VlJWYHHeNtVjsdIWIsPNmcBAeehBz/KvMo40uIZJtokOSWCybW+vPGM9q7LxjI8viS2gDbUEGCT05J45+lc5JpEZdhAGU5H3TjI9s5qle2gadTJlt4nClBIM/89I9vP8AvLkfmBU1jPNbSYkjlmiHy+U/Y9Af51ck08i4HmSyLg4VSwVSR2FRSzSxmRlbymdtsqkjaRjGQP5YqXKxSV9BIsGdpkBXPIDHgjsfrToSLzUEtrifyoXBbzN+AfQAngVBHatI+6OMLAAMMO4z0pk0zRK5AWQSr8okX7gznj/69EJSlccoxjbuTxaFLqEk5gkH2WJiDO7feA7iraSRWcDnzjLdxDEbliiADoQffpx71Jol/FZzKJWE7tGwC4yqD6dBV/7Xp13cNNLCskqj5RtGBituXzMXPyONuo7yJgbhSiP8w3D5T/iaQ6kxhFrbptVsb2x8zn+g9q7O8uEuoMFST0KkAg/gahtreEuoIWNjxiOML+oqbO+jKUtNUYVzHeFYlZfLt4VwjY5OTknHXrXp/gLX31OzmtZpDJJb42O3VlPAz7jFY5023+zFHDZHZjUPhGQWPizyVUKkqsq46dM/0pON1e41JWtYzfFN3HL4hu0bG1No645wKrRas8EG9Y9yj5QxGef60viJWh8S3xisTOjsGPU5+UZ/U1krK6uHjjwpPRR15OOo9qwd0zaNmrMuX1wJ5I5ZCXIXBBUj9KZb2h1KSM7TFE3yB2HDfSrdo1s+pQves6qNqiNmBAOe4HtXUXlttkje4ZFjSdmiSLoVIGM8deKSV3qEpcuiMKz09ZoVdGTyQwaMDgnGQc1keJoViC8bT7dxzXUXN8srYj2oo9e9ch4kuTJOsQbeRwa2jtoYPV6lbSYWdoMHcZQcj0xXTWGkvIxKg4JrB0i9i05IpHhk8xfmz22Z5xXZQ6zaKT1GRwp4NO3cJPXQ0NL8MQXaMZbqVSpOVGBj8e1QTeEmieSaS4ZyDmOOMcY/rUMPiaKxa4b7O5L4xt7/AFNNlutX15kMbzWNt3A5Y++RVJtbEW7k8tlqEjCORCgPRi3GPp61UhkTTtb02FlVJFugd5cHcCCp46960rawltC4uL+V0K8h25PvWTdWXmXCNpdsGkLgmQjJ9ec9KfQpFvXfDMd1ePcwzOkzZY5PGaxX07U4ixlVZdxYkhQ3bA468cdq7+5iLAHafT7tVPs/PI/OuRyZsefyQ28jMblmifYBt+7g9zzjr/SrltPFBIN108w2jCyNxj8RXYSWUco2yKrL6EZrPn8M6ZNnNoiMf4o/kP6Ue0FynO61cubNwsEbOQRlWw2T06H9K42OU4RTuaTdn526cc810+r6BeRXwtbS5lnQjKxytk9z1rJsNCur/UnWWCSOJMiQsMYb0FaKaSuLlKgkyEYMMA/Kh6Y75PpW/ZX1lcXTXOoC6vLg/wAEAVIl/H/I+tMXwndreFBFvgUgKxYAkf4iuj0vw1HbQgXG2WQ9wMYHp71bqxtdi5GWm1PTrSBJBbrDnjExGT/j+FPTUb++2m3RkiI5Z18se2P4v5Vci021jcNHBGGHRtoyKvpCAOlZOs+hSppbmdFpoZw8rF3HOc98Y/pWnbwLGflAFPVdvH5GpVGDWfM3uVZJEh+YYPNQtD3H5U/dS7hQySHym9KesI6t+VP3UZqbBcwrqJV8TWvuD/6C1Xjb4+9jPtUFyA2vWrDnH+DVqNGWfONo/Wm1oNMoeUBUix1K6bPxpVGSAKkq43ZgjFSpGx6CplQJjjmng1VhXIxCxyDinxxFTk8gU/NKpIOatIlspZPt+dGf9oD86g3570u+kybk+R3JP6UuV7AfjzUG7NKGpDKN2x/tu1JP+cNWsDxWLdn/AInFp9f6NWqD70FD2G5cURDZ1puaUGgCYtzRuqEnml3UxEwalDc1CGpwPNNAz//Z\"></td>\n",
       "      <td>1</td>\n",
       "      <td>jean.n.01</td>\n",
       "    </tr>\n",
       "    <tr>\n",
       "      <th>3</th>\n",
       "      <td><img src=\"data:image/jpeg;base64,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\"></td>\n",
       "      <td>1</td>\n",
       "      <td>jean.n.01</td>\n",
       "    </tr>\n",
       "    <tr>\n",
       "      <th>4</th>\n",
       "      <td><img src=\"data:image/jpeg;base64,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\"></td>\n",
       "      <td>1</td>\n",
       "      <td>jean.n.01</td>\n",
       "    </tr>\n",
       "    <tr>\n",
       "      <th>5</th>\n",
       "      <td><img src=\"data:image/jpeg;base64,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\"></td>\n",
       "      <td>1</td>\n",
       "      <td>jean.n.01</td>\n",
       "    </tr>\n",
       "    <tr>\n",
       "      <th>6</th>\n",
       "      <td><img src=\"data:image/jpeg;base64,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\"></td>\n",
       "      <td>1</td>\n",
       "      <td>jean.n.01</td>\n",
       "    </tr>\n",
       "    <tr>\n",
       "      <th>7</th>\n",
       "      <td><img src=\"data:image/jpeg;base64,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\"></td>\n",
       "      <td>1</td>\n",
       "      <td>maillot.n.01</td>\n",
       "    </tr>\n",
       "    <tr>\n",
       "      <th>8</th>\n",
       "      <td><img src=\"data:image/jpeg;base64,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\"></td>\n",
       "      <td>1</td>\n",
       "      <td>jean.n.01</td>\n",
       "    </tr>\n",
       "    <tr>\n",
       "      <th>9</th>\n",
       "      <td><img src=\"data:image/jpeg;base64,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\"></td>\n",
       "      <td>1</td>\n",
       "      <td>jean.n.01</td>\n",
       "    </tr>\n",
       "  </tbody>\n",
       "</table>"
      ],
      "text/plain": [
       "DataPanel(nrows: 10, ncols: 3)"
      ]
     },
     "metadata": {},
     "execution_count": 26
    }
   ],
   "metadata": {}
  },
  {
   "cell_type": "code",
   "execution_count": 12,
   "source": [
    "dp = out \n",
    "pred_slice_idx = 0\n",
    "dp.lz[(dp[\"slices\"].data == 1).squeeze()][[\"image\", \"target\", \"synset\"]][\"synset\"].unique()"
   ],
   "outputs": [
    {
     "output_type": "execute_result",
     "data": {
      "text/plain": [
       "array(['jean.n.01'], dtype=object)"
      ]
     },
     "metadata": {},
     "execution_count": 12
    }
   ],
   "metadata": {}
  },
  {
   "cell_type": "code",
   "execution_count": 24,
   "source": [
    "import matplotlib.pyplot as plt\n",
    "import numpy as np\n",
    "def res(p, y):\n",
    "    return y * ((p>=0.1)/(p + 1e-20) + (p<0.1) * (20 - 100  * p)) +\\\n",
    "(1-y) * ((p < 0.9)/(1 - p + 1e-20) + (p>=0.9) * (100 * p - 80))\n",
    "plt.plot(np.arange(0, 1.0, 0.001), res(np.arange(0., 1, 0.001), 0))\n",
    "plt.plot(np.arange(0, 1.0, 0.001), res(np.arange(0., 1, 0.001), 1))\n",
    "plt.legend(['0', '1'])\n",
    "plt.xlabel('P')\n",
    "plt.ylabel('Residual')"
   ],
   "outputs": [
    {
     "output_type": "execute_result",
     "data": {
      "text/plain": [
       "Text(0, 0.5, 'Residual')"
      ]
     },
     "metadata": {},
     "execution_count": 24
    },
    {
     "output_type": "display_data",
     "data": {
      "image/png": "[encoded data removed]",
      "text/plain": [
       "<Figure size 432x288 with 1 Axes>"
      ]
     },
     "metadata": {
      "needs_background": "light"
     }
    }
   ],
   "metadata": {}
  },
  {
   "cell_type": "code",
   "execution_count": 16,
   "source": [
    "from domino.evaluate import score_sdms\n",
    "score_df = score_sdms.out().load()"
   ],
   "outputs": [],
   "metadata": {}
  },
  {
   "cell_type": "code",
   "execution_count": 17,
   "source": [
    "plot_df = score_df.iloc[\n",
    "    score_df.reset_index()\n",
    "    .groupby([\"target_name\", \"slice_name\", \"slice_idx\", \"sdm_class\", \"alpha\"])[\"auroc\"]\n",
    "    .idxmax()\n",
    "    .astype(int)\n",
    "].copy()\n"
   ],
   "outputs": [],
   "metadata": {}
  },
  {
   "cell_type": "code",
   "execution_count": 18,
   "source": [
    "import seaborn as sns\n",
    "sns.barplot(data=plot_df, x=\"precision_at_10\", y=\"sdm_class\")"
   ],
   "outputs": [
    {
     "output_type": "execute_result",
     "data": {
      "text/plain": [
       "<AxesSubplot:xlabel='precision_at_10', ylabel='sdm_class'>"
      ]
     },
     "metadata": {},
     "execution_count": 18
    },
    {
     "output_type": "display_data",
     "data": {
      "image/png": "[encoded data removed]",
      "text/plain": [
       "<Figure size 432x288 with 1 Axes>"
      ]
     },
     "metadata": {
      "needs_background": "light"
     }
    }
   ],
   "metadata": {}
  },
  {
   "cell_type": "code",
   "execution_count": 21,
   "source": [
    "plot_df[\n",
    "    (plot_df[\"precision_at_10\"] < 0.5)\n",
    "    & (plot_df[\"sdm_class\"] == \"domino.sdm.multiaccuracy.MultiaccuracySDM\")\n",
    "]\n"
   ],
   "outputs": [
    {
     "output_type": "execute_result",
     "data": {
      "text/html": [
       "<div>\n",
       "<style scoped>\n",
       "    .dataframe tbody tr th:only-of-type {\n",
       "        vertical-align: middle;\n",
       "    }\n",
       "\n",
       "    .dataframe tbody tr th {\n",
       "        vertical-align: top;\n",
       "    }\n",
       "\n",
       "    .dataframe thead th {\n",
       "        text-align: right;\n",
       "    }\n",
       "</style>\n",
       "<table border=\"1\" class=\"dataframe\">\n",
       "  <thead>\n",
       "    <tr style=\"text-align: right;\">\n",
       "      <th></th>\n",
       "      <th>pred_slice_idx</th>\n",
       "      <th>slice_idx</th>\n",
       "      <th>auroc</th>\n",
       "      <th>precision_at_10</th>\n",
       "      <th>precision_at_25</th>\n",
       "      <th>precision_at_100</th>\n",
       "      <th>recall_at_50</th>\n",
       "      <th>recall_at_100</th>\n",
       "      <th>recall_at_200</th>\n",
       "      <th>recall</th>\n",
       "      <th>precision</th>\n",
       "      <th>target_name</th>\n",
       "      <th>run_sdm_run_id</th>\n",
       "      <th>emb_group</th>\n",
       "      <th>alpha</th>\n",
       "      <th>sdm_class</th>\n",
       "      <th>slice_name</th>\n",
       "    </tr>\n",
       "  </thead>\n",
       "  <tbody>\n",
       "    <tr>\n",
       "      <th>7760</th>\n",
       "      <td>0</td>\n",
       "      <td>0</td>\n",
       "      <td>0.260322</td>\n",
       "      <td>0.0</td>\n",
       "      <td>0.00</td>\n",
       "      <td>0.00</td>\n",
       "      <td>0.000000</td>\n",
       "      <td>0.000000</td>\n",
       "      <td>0.000000</td>\n",
       "      <td>0.444444</td>\n",
       "      <td>0.005877</td>\n",
       "      <td>big_cat.n.01</td>\n",
       "      <td>32246</td>\n",
       "      <td>clip</td>\n",
       "      <td>0.03</td>\n",
       "      <td>domino.sdm.multiaccuracy.MultiaccuracySDM</td>\n",
       "      <td>jaguar.n.01</td>\n",
       "    </tr>\n",
       "    <tr>\n",
       "      <th>7640</th>\n",
       "      <td>0</td>\n",
       "      <td>0</td>\n",
       "      <td>0.309698</td>\n",
       "      <td>0.0</td>\n",
       "      <td>0.00</td>\n",
       "      <td>0.00</td>\n",
       "      <td>0.000000</td>\n",
       "      <td>0.000000</td>\n",
       "      <td>0.000000</td>\n",
       "      <td>0.541667</td>\n",
       "      <td>0.007905</td>\n",
       "      <td>big_cat.n.01</td>\n",
       "      <td>32244</td>\n",
       "      <td>clip</td>\n",
       "      <td>0.03</td>\n",
       "      <td>domino.sdm.multiaccuracy.MultiaccuracySDM</td>\n",
       "      <td>leopard.n.02</td>\n",
       "    </tr>\n",
       "    <tr>\n",
       "      <th>7680</th>\n",
       "      <td>0</td>\n",
       "      <td>0</td>\n",
       "      <td>0.350363</td>\n",
       "      <td>0.0</td>\n",
       "      <td>0.00</td>\n",
       "      <td>0.00</td>\n",
       "      <td>0.000000</td>\n",
       "      <td>0.000000</td>\n",
       "      <td>0.000000</td>\n",
       "      <td>0.580645</td>\n",
       "      <td>0.005581</td>\n",
       "      <td>big_cat.n.01</td>\n",
       "      <td>32243</td>\n",
       "      <td>clip</td>\n",
       "      <td>0.03</td>\n",
       "      <td>domino.sdm.multiaccuracy.MultiaccuracySDM</td>\n",
       "      <td>lion.n.01</td>\n",
       "    </tr>\n",
       "    <tr>\n",
       "      <th>7722</th>\n",
       "      <td>2</td>\n",
       "      <td>0</td>\n",
       "      <td>0.367771</td>\n",
       "      <td>0.0</td>\n",
       "      <td>0.00</td>\n",
       "      <td>0.00</td>\n",
       "      <td>0.000000</td>\n",
       "      <td>0.000000</td>\n",
       "      <td>0.000000</td>\n",
       "      <td>0.137931</td>\n",
       "      <td>0.008658</td>\n",
       "      <td>big_cat.n.01</td>\n",
       "      <td>32242</td>\n",
       "      <td>clip</td>\n",
       "      <td>0.03</td>\n",
       "      <td>domino.sdm.multiaccuracy.MultiaccuracySDM</td>\n",
       "      <td>tiger.n.02</td>\n",
       "    </tr>\n",
       "    <tr>\n",
       "      <th>4804</th>\n",
       "      <td>4</td>\n",
       "      <td>0</td>\n",
       "      <td>0.906611</td>\n",
       "      <td>0.3</td>\n",
       "      <td>0.36</td>\n",
       "      <td>0.26</td>\n",
       "      <td>0.193548</td>\n",
       "      <td>0.279570</td>\n",
       "      <td>0.376344</td>\n",
       "      <td>0.000000</td>\n",
       "      <td>0.000000</td>\n",
       "      <td>bird.n.01</td>\n",
       "      <td>31939</td>\n",
       "      <td>clip</td>\n",
       "      <td>0.03</td>\n",
       "      <td>domino.sdm.multiaccuracy.MultiaccuracySDM</td>\n",
       "      <td>crane.n.05</td>\n",
       "    </tr>\n",
       "    <tr>\n",
       "      <th>...</th>\n",
       "      <td>...</td>\n",
       "      <td>...</td>\n",
       "      <td>...</td>\n",
       "      <td>...</td>\n",
       "      <td>...</td>\n",
       "      <td>...</td>\n",
       "      <td>...</td>\n",
       "      <td>...</td>\n",
       "      <td>...</td>\n",
       "      <td>...</td>\n",
       "      <td>...</td>\n",
       "      <td>...</td>\n",
       "      <td>...</td>\n",
       "      <td>...</td>\n",
       "      <td>...</td>\n",
       "      <td>...</td>\n",
       "      <td>...</td>\n",
       "    </tr>\n",
       "    <tr>\n",
       "      <th>1401</th>\n",
       "      <td>1</td>\n",
       "      <td>0</td>\n",
       "      <td>0.836754</td>\n",
       "      <td>0.1</td>\n",
       "      <td>0.08</td>\n",
       "      <td>0.08</td>\n",
       "      <td>0.022989</td>\n",
       "      <td>0.091954</td>\n",
       "      <td>0.229885</td>\n",
       "      <td>0.850575</td>\n",
       "      <td>0.034149</td>\n",
       "      <td>vehicle.n.01</td>\n",
       "      <td>31526</td>\n",
       "      <td>clip</td>\n",
       "      <td>0.03</td>\n",
       "      <td>domino.sdm.multiaccuracy.MultiaccuracySDM</td>\n",
       "      <td>truck.n.01</td>\n",
       "    </tr>\n",
       "    <tr>\n",
       "      <th>1561</th>\n",
       "      <td>1</td>\n",
       "      <td>0</td>\n",
       "      <td>0.863707</td>\n",
       "      <td>0.1</td>\n",
       "      <td>0.20</td>\n",
       "      <td>0.16</td>\n",
       "      <td>0.105263</td>\n",
       "      <td>0.168421</td>\n",
       "      <td>0.263158</td>\n",
       "      <td>0.726316</td>\n",
       "      <td>0.040327</td>\n",
       "      <td>vehicle.n.01</td>\n",
       "      <td>31530</td>\n",
       "      <td>clip</td>\n",
       "      <td>0.03</td>\n",
       "      <td>domino.sdm.multiaccuracy.MultiaccuracySDM</td>\n",
       "      <td>van.n.05</td>\n",
       "    </tr>\n",
       "    <tr>\n",
       "      <th>1042</th>\n",
       "      <td>2</td>\n",
       "      <td>0</td>\n",
       "      <td>0.809975</td>\n",
       "      <td>0.2</td>\n",
       "      <td>0.20</td>\n",
       "      <td>0.10</td>\n",
       "      <td>0.073684</td>\n",
       "      <td>0.105263</td>\n",
       "      <td>0.189474</td>\n",
       "      <td>0.063158</td>\n",
       "      <td>0.016620</td>\n",
       "      <td>vehicle.n.01</td>\n",
       "      <td>31502</td>\n",
       "      <td>clip</td>\n",
       "      <td>0.03</td>\n",
       "      <td>domino.sdm.multiaccuracy.MultiaccuracySDM</td>\n",
       "      <td>vessel.n.02</td>\n",
       "    </tr>\n",
       "    <tr>\n",
       "      <th>1324</th>\n",
       "      <td>4</td>\n",
       "      <td>0</td>\n",
       "      <td>0.801310</td>\n",
       "      <td>0.1</td>\n",
       "      <td>0.12</td>\n",
       "      <td>0.10</td>\n",
       "      <td>0.044944</td>\n",
       "      <td>0.112360</td>\n",
       "      <td>0.157303</td>\n",
       "      <td>0.056180</td>\n",
       "      <td>0.017668</td>\n",
       "      <td>vehicle.n.01</td>\n",
       "      <td>31516</td>\n",
       "      <td>clip</td>\n",
       "      <td>0.03</td>\n",
       "      <td>domino.sdm.multiaccuracy.MultiaccuracySDM</td>\n",
       "      <td>wagon.n.01</td>\n",
       "    </tr>\n",
       "    <tr>\n",
       "      <th>644</th>\n",
       "      <td>4</td>\n",
       "      <td>0</td>\n",
       "      <td>0.807966</td>\n",
       "      <td>0.3</td>\n",
       "      <td>0.36</td>\n",
       "      <td>0.18</td>\n",
       "      <td>0.131868</td>\n",
       "      <td>0.197802</td>\n",
       "      <td>0.307692</td>\n",
       "      <td>0.043956</td>\n",
       "      <td>0.010309</td>\n",
       "      <td>vehicle.n.01</td>\n",
       "      <td>31480</td>\n",
       "      <td>clip</td>\n",
       "      <td>0.03</td>\n",
       "      <td>domino.sdm.multiaccuracy.MultiaccuracySDM</td>\n",
       "      <td>wreck.n.04</td>\n",
       "    </tr>\n",
       "  </tbody>\n",
       "</table>\n",
       "<p>142 rows × 17 columns</p>\n",
       "</div>"
      ],
      "text/plain": [
       "      pred_slice_idx  slice_idx     auroc  precision_at_10  precision_at_25  \\\n",
       "7760               0          0  0.260322              0.0             0.00   \n",
       "7640               0          0  0.309698              0.0             0.00   \n",
       "7680               0          0  0.350363              0.0             0.00   \n",
       "7722               2          0  0.367771              0.0             0.00   \n",
       "4804               4          0  0.906611              0.3             0.36   \n",
       "...              ...        ...       ...              ...              ...   \n",
       "1401               1          0  0.836754              0.1             0.08   \n",
       "1561               1          0  0.863707              0.1             0.20   \n",
       "1042               2          0  0.809975              0.2             0.20   \n",
       "1324               4          0  0.801310              0.1             0.12   \n",
       "644                4          0  0.807966              0.3             0.36   \n",
       "\n",
       "      precision_at_100  recall_at_50  recall_at_100  recall_at_200    recall  \\\n",
       "7760              0.00      0.000000       0.000000       0.000000  0.444444   \n",
       "7640              0.00      0.000000       0.000000       0.000000  0.541667   \n",
       "7680              0.00      0.000000       0.000000       0.000000  0.580645   \n",
       "7722              0.00      0.000000       0.000000       0.000000  0.137931   \n",
       "4804              0.26      0.193548       0.279570       0.376344  0.000000   \n",
       "...                ...           ...            ...            ...       ...   \n",
       "1401              0.08      0.022989       0.091954       0.229885  0.850575   \n",
       "1561              0.16      0.105263       0.168421       0.263158  0.726316   \n",
       "1042              0.10      0.073684       0.105263       0.189474  0.063158   \n",
       "1324              0.10      0.044944       0.112360       0.157303  0.056180   \n",
       "644               0.18      0.131868       0.197802       0.307692  0.043956   \n",
       "\n",
       "      precision   target_name  run_sdm_run_id emb_group  alpha  \\\n",
       "7760   0.005877  big_cat.n.01           32246      clip   0.03   \n",
       "7640   0.007905  big_cat.n.01           32244      clip   0.03   \n",
       "7680   0.005581  big_cat.n.01           32243      clip   0.03   \n",
       "7722   0.008658  big_cat.n.01           32242      clip   0.03   \n",
       "4804   0.000000     bird.n.01           31939      clip   0.03   \n",
       "...         ...           ...             ...       ...    ...   \n",
       "1401   0.034149  vehicle.n.01           31526      clip   0.03   \n",
       "1561   0.040327  vehicle.n.01           31530      clip   0.03   \n",
       "1042   0.016620  vehicle.n.01           31502      clip   0.03   \n",
       "1324   0.017668  vehicle.n.01           31516      clip   0.03   \n",
       "644    0.010309  vehicle.n.01           31480      clip   0.03   \n",
       "\n",
       "                                      sdm_class    slice_name  \n",
       "7760  domino.sdm.multiaccuracy.MultiaccuracySDM   jaguar.n.01  \n",
       "7640  domino.sdm.multiaccuracy.MultiaccuracySDM  leopard.n.02  \n",
       "7680  domino.sdm.multiaccuracy.MultiaccuracySDM     lion.n.01  \n",
       "7722  domino.sdm.multiaccuracy.MultiaccuracySDM    tiger.n.02  \n",
       "4804  domino.sdm.multiaccuracy.MultiaccuracySDM    crane.n.05  \n",
       "...                                         ...           ...  \n",
       "1401  domino.sdm.multiaccuracy.MultiaccuracySDM    truck.n.01  \n",
       "1561  domino.sdm.multiaccuracy.MultiaccuracySDM      van.n.05  \n",
       "1042  domino.sdm.multiaccuracy.MultiaccuracySDM   vessel.n.02  \n",
       "1324  domino.sdm.multiaccuracy.MultiaccuracySDM    wagon.n.01  \n",
       "644   domino.sdm.multiaccuracy.MultiaccuracySDM    wreck.n.04  \n",
       "\n",
       "[142 rows x 17 columns]"
      ]
     },
     "metadata": {},
     "execution_count": 21
    }
   ],
   "metadata": {}
  },
  {
   "cell_type": "code",
   "execution_count": 5,
   "source": [
    "import numpy as np\n",
    "x = np.zeros((10,4))"
   ],
   "outputs": [],
   "metadata": {}
  },
  {
   "cell_type": "code",
   "execution_count": 7,
   "source": [
    "x[[1,2,5,7]] = 1"
   ],
   "outputs": [],
   "metadata": {}
  },
  {
   "cell_type": "code",
   "execution_count": 8,
   "source": [
    "x"
   ],
   "outputs": [
    {
     "output_type": "execute_result",
     "data": {
      "text/plain": [
       "array([[0., 0., 0., 0.],\n",
       "       [1., 1., 1., 1.],\n",
       "       [1., 1., 1., 1.],\n",
       "       [0., 0., 0., 0.],\n",
       "       [0., 0., 0., 0.],\n",
       "       [1., 1., 1., 1.],\n",
       "       [0., 0., 0., 0.],\n",
       "       [1., 1., 1., 1.],\n",
       "       [0., 0., 0., 0.],\n",
       "       [0., 0., 0., 0.]])"
      ]
     },
     "metadata": {},
     "execution_count": 8
    }
   ],
   "metadata": {}
  },
  {
   "cell_type": "code",
   "execution_count": null,
   "source": [],
   "outputs": [],
   "metadata": {}
  }
 ],
 "metadata": {
  "orig_nbformat": 4,
  "language_info": {
   "name": "python",
   "version": "3.8.10",
   "mimetype": "text/x-python",
   "codemirror_mode": {
    "name": "ipython",
    "version": 3
   },
   "pygments_lexer": "ipython3",
   "nbconvert_exporter": "python",
   "file_extension": ".py"
  },
  "kernelspec": {
   "name": "python3",
   "display_name": "Python 3.8.10 64-bit ('domino': conda)"
  },
  "interpreter": {
   "hash": "0d937a63d09daec3f9548a5c769ccb20edb9c2c1ae2375686b21850f577713d2"
  }
 },
 "nbformat": 4,
 "nbformat_minor": 2
}