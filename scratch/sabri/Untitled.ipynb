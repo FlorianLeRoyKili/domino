{
 "cells": [
  {
   "cell_type": "code",
   "execution_count": 1,
   "id": "f3cdd30e-ceab-458c-a811-ad6ac061ded6",
   "metadata": {},
   "outputs": [
    {
     "name": "stderr",
     "output_type": "stream",
     "text": [
      "/home/sabri/code/meerkat/meerkat/nn/__init__.py:7: ExperimentalWarning: The `meerkat.nn` module is experimental and has limited test coverage. Proceed with caution.\n",
      "  warnings.warn(\n"
     ]
    }
   ],
   "source": [
    "%load_ext autoreload\n",
    "%autoreload 2\n",
    "from domino.data.gqa import split_gqa, read_gqa_dps,DATASET_DIR\n",
    "from domino.slices.gqa import collect_rare_slices, TASKS, build_rare_slice\n",
    "from domino.train import synthetic_score_slices"
   ]
  },
  {
   "cell_type": "code",
   "execution_count": 3,
   "id": "9e47600b-745c-4f94-9388-60db37e08425",
   "metadata": {},
   "outputs": [],
   "source": [
    "dps = read_gqa_dps(dataset_dir=DATASET_DIR)"
   ]
  },
  {
   "cell_type": "code",
   "execution_count": 3,
   "id": "92430e5a-93d4-4972-86ed-96d81306a90f",
   "metadata": {},
   "outputs": [
    {
     "name": "stdout",
     "output_type": "stream",
     "text": [
      "task: collect_rare_slices, run_id=5267\n"
     ]
    }
   ],
   "source": [
    "from domino.slices.gqa import collect_rare_slices, TASKS\n",
    "from domino.data.gqa import split_gqa, read_gqa_dps\n",
    "slices_dp = collect_rare_slices(TASKS, num_frac=1, min_slice_frac=0.01, max_slice_frac=0.01)"
   ]
  },
  {
   "cell_type": "code",
   "execution_count": 4,
   "id": "ed8fc4b4-a706-4ec6-b4f7-c7f014746dad",
   "metadata": {},
   "outputs": [
    {
     "name": "stdout",
     "output_type": "stream",
     "text": [
      "task: synthetic_score_slices, run_id=5350\n"
     ]
    },
    {
     "name": "stderr",
     "output_type": "stream",
     "text": [
      "  0%|          | 0/26 [00:00<?, ?it/s]"
     ]
    },
    {
     "name": "stdout",
     "output_type": "stream",
     "text": [
      "task: build_slice, run_id=5351\n"
     ]
    },
    {
     "name": "stderr",
     "output_type": "stream",
     "text": [
      "  4%|▍         | 1/26 [00:02<01:10,  2.81s/it]"
     ]
    },
    {
     "name": "stdout",
     "output_type": "stream",
     "text": [
      "task: build_slice, run_id=5352\n"
     ]
    },
    {
     "name": "stderr",
     "output_type": "stream",
     "text": [
      "  8%|▊         | 2/26 [00:05<01:09,  2.88s/it]"
     ]
    },
    {
     "name": "stdout",
     "output_type": "stream",
     "text": [
      "task: build_slice, run_id=5353\n"
     ]
    },
    {
     "name": "stderr",
     "output_type": "stream",
     "text": [
      " 12%|█▏        | 3/26 [00:08<01:05,  2.84s/it]"
     ]
    },
    {
     "name": "stdout",
     "output_type": "stream",
     "text": [
      "task: build_slice, run_id=5354\n"
     ]
    },
    {
     "name": "stderr",
     "output_type": "stream",
     "text": [
      " 15%|█▌        | 4/26 [00:11<01:01,  2.81s/it]"
     ]
    },
    {
     "name": "stdout",
     "output_type": "stream",
     "text": [
      "task: build_slice, run_id=5355\n"
     ]
    },
    {
     "name": "stderr",
     "output_type": "stream",
     "text": [
      " 19%|█▉        | 5/26 [00:14<00:58,  2.81s/it]"
     ]
    },
    {
     "name": "stdout",
     "output_type": "stream",
     "text": [
      "task: build_slice, run_id=5356\n"
     ]
    },
    {
     "name": "stderr",
     "output_type": "stream",
     "text": [
      " 23%|██▎       | 6/26 [00:16<00:55,  2.79s/it]"
     ]
    },
    {
     "name": "stdout",
     "output_type": "stream",
     "text": [
      "task: build_slice, run_id=5357\n"
     ]
    },
    {
     "name": "stderr",
     "output_type": "stream",
     "text": [
      " 27%|██▋       | 7/26 [00:19<00:52,  2.78s/it]"
     ]
    },
    {
     "name": "stdout",
     "output_type": "stream",
     "text": [
      "task: build_slice, run_id=5358\n"
     ]
    },
    {
     "name": "stderr",
     "output_type": "stream",
     "text": [
      " 31%|███       | 8/26 [00:22<00:49,  2.77s/it]"
     ]
    },
    {
     "name": "stdout",
     "output_type": "stream",
     "text": [
      "task: build_slice, run_id=5359\n"
     ]
    },
    {
     "name": "stderr",
     "output_type": "stream",
     "text": [
      " 35%|███▍      | 9/26 [00:25<00:47,  2.78s/it]"
     ]
    },
    {
     "name": "stdout",
     "output_type": "stream",
     "text": [
      "task: build_slice, run_id=5360\n"
     ]
    },
    {
     "name": "stderr",
     "output_type": "stream",
     "text": [
      " 38%|███▊      | 10/26 [00:28<00:44,  2.78s/it]"
     ]
    },
    {
     "name": "stdout",
     "output_type": "stream",
     "text": [
      "task: build_slice, run_id=5361\n"
     ]
    },
    {
     "name": "stderr",
     "output_type": "stream",
     "text": [
      " 42%|████▏     | 11/26 [00:30<00:41,  2.77s/it]"
     ]
    },
    {
     "name": "stdout",
     "output_type": "stream",
     "text": [
      "task: build_slice, run_id=5362\n"
     ]
    },
    {
     "name": "stderr",
     "output_type": "stream",
     "text": [
      " 46%|████▌     | 12/26 [00:33<00:38,  2.77s/it]"
     ]
    },
    {
     "name": "stdout",
     "output_type": "stream",
     "text": [
      "task: build_slice, run_id=5363\n"
     ]
    },
    {
     "name": "stderr",
     "output_type": "stream",
     "text": [
      " 50%|█████     | 13/26 [00:36<00:36,  2.78s/it]"
     ]
    },
    {
     "name": "stdout",
     "output_type": "stream",
     "text": [
      "task: build_slice, run_id=5364\n"
     ]
    },
    {
     "name": "stderr",
     "output_type": "stream",
     "text": [
      " 54%|█████▍    | 14/26 [00:39<00:33,  2.77s/it]"
     ]
    },
    {
     "name": "stdout",
     "output_type": "stream",
     "text": [
      "task: build_slice, run_id=5365\n"
     ]
    },
    {
     "name": "stderr",
     "output_type": "stream",
     "text": [
      " 58%|█████▊    | 15/26 [00:41<00:30,  2.78s/it]"
     ]
    },
    {
     "name": "stdout",
     "output_type": "stream",
     "text": [
      "task: build_slice, run_id=5366\n"
     ]
    },
    {
     "name": "stderr",
     "output_type": "stream",
     "text": [
      " 62%|██████▏   | 16/26 [00:44<00:28,  2.81s/it]"
     ]
    },
    {
     "name": "stdout",
     "output_type": "stream",
     "text": [
      "task: build_slice, run_id=5367\n"
     ]
    },
    {
     "name": "stderr",
     "output_type": "stream",
     "text": [
      " 65%|██████▌   | 17/26 [00:47<00:24,  2.77s/it]"
     ]
    },
    {
     "name": "stdout",
     "output_type": "stream",
     "text": [
      "task: build_slice, run_id=5368\n"
     ]
    },
    {
     "name": "stderr",
     "output_type": "stream",
     "text": [
      " 69%|██████▉   | 18/26 [00:50<00:21,  2.75s/it]"
     ]
    },
    {
     "name": "stdout",
     "output_type": "stream",
     "text": [
      "task: build_slice, run_id=5369\n"
     ]
    },
    {
     "name": "stderr",
     "output_type": "stream",
     "text": [
      " 73%|███████▎  | 19/26 [00:53<00:19,  2.80s/it]"
     ]
    },
    {
     "name": "stdout",
     "output_type": "stream",
     "text": [
      "task: build_slice, run_id=5370\n"
     ]
    },
    {
     "name": "stderr",
     "output_type": "stream",
     "text": [
      " 77%|███████▋  | 20/26 [00:55<00:16,  2.80s/it]"
     ]
    },
    {
     "name": "stdout",
     "output_type": "stream",
     "text": [
      "task: build_slice, run_id=5371\n"
     ]
    },
    {
     "name": "stderr",
     "output_type": "stream",
     "text": [
      " 81%|████████  | 21/26 [00:58<00:14,  2.83s/it]"
     ]
    },
    {
     "name": "stdout",
     "output_type": "stream",
     "text": [
      "task: build_slice, run_id=5372\n"
     ]
    },
    {
     "name": "stderr",
     "output_type": "stream",
     "text": [
      " 85%|████████▍ | 22/26 [01:01<00:11,  2.86s/it]"
     ]
    },
    {
     "name": "stdout",
     "output_type": "stream",
     "text": [
      "task: build_slice, run_id=5373\n"
     ]
    },
    {
     "name": "stderr",
     "output_type": "stream",
     "text": [
      " 88%|████████▊ | 23/26 [01:04<00:08,  2.84s/it]"
     ]
    },
    {
     "name": "stdout",
     "output_type": "stream",
     "text": [
      "task: build_slice, run_id=5374\n"
     ]
    },
    {
     "name": "stderr",
     "output_type": "stream",
     "text": [
      " 92%|█████████▏| 24/26 [01:07<00:05,  2.84s/it]"
     ]
    },
    {
     "name": "stdout",
     "output_type": "stream",
     "text": [
      "task: build_slice, run_id=5375\n"
     ]
    },
    {
     "name": "stderr",
     "output_type": "stream",
     "text": [
      " 96%|█████████▌| 25/26 [01:10<00:02,  2.85s/it]"
     ]
    },
    {
     "name": "stdout",
     "output_type": "stream",
     "text": [
      "task: build_slice, run_id=5376\n"
     ]
    },
    {
     "name": "stderr",
     "output_type": "stream",
     "text": [
      "100%|██████████| 26/26 [01:13<00:00,  2.81s/it]\n"
     ]
    },
    {
     "data": {
      "text/plain": [
       "<terra.io.Artifact at 0x7fbf5c903400>"
      ]
     },
     "execution_count": 4,
     "metadata": {},
     "output_type": "execute_result"
    }
   ],
   "source": [
    "synthetic_score_slices(\n",
    "    slices_dp=collect_rare_slices.out(5267), \n",
    "    split_dp=split_gqa.out(4681),\n",
    "    gqa_dps=dps\n",
    ")"
   ]
  },
  {
   "cell_type": "code",
   "execution_count": 8,
   "id": "338a2947-7aab-45a1-80c5-43fa40893ca1",
   "metadata": {},
   "outputs": [],
   "source": [
    "score_dp = synthetic_score_slices.out(load=True)"
   ]
  },
  {
   "cell_type": "code",
   "execution_count": 5,
   "id": "e4624d56-e007-4769-94d9-5f4f4b881f65",
   "metadata": {},
   "outputs": [],
   "source": [
    "from domino.emb.clip import embed_images"
   ]
  },
  {
   "cell_type": "code",
   "execution_count": 6,
   "id": "179981e8-46e0-4c74-b6be-34287c2bf27c",
   "metadata": {},
   "outputs": [
    {
     "data": {
      "text/html": [
       "<div>\n",
       "<style scoped>\n",
       "    .dataframe tbody tr th:only-of-type {\n",
       "        vertical-align: middle;\n",
       "    }\n",
       "\n",
       "    .dataframe tbody tr th {\n",
       "        vertical-align: top;\n",
       "    }\n",
       "\n",
       "    .dataframe thead th {\n",
       "        text-align: right;\n",
       "    }\n",
       "</style>\n",
       "<table border=\"1\" class=\"dataframe\">\n",
       "  <thead>\n",
       "    <tr style=\"text-align: right;\">\n",
       "      <th></th>\n",
       "      <th>id</th>\n",
       "      <th>module</th>\n",
       "      <th>fn</th>\n",
       "      <th>run_dir</th>\n",
       "      <th>status</th>\n",
       "      <th>notebook</th>\n",
       "      <th>start_time</th>\n",
       "      <th>end_time</th>\n",
       "      <th>hostname</th>\n",
       "      <th>python_version</th>\n",
       "      <th>platform</th>\n",
       "      <th>git_commit</th>\n",
       "      <th>git_dirty</th>\n",
       "      <th>slurm_job_id</th>\n",
       "    </tr>\n",
       "  </thead>\n",
       "  <tbody>\n",
       "    <tr>\n",
       "      <th>0</th>\n",
       "      <td>5146</td>\n",
       "      <td>domino.emb.clip</td>\n",
       "      <td>embed_images</td>\n",
       "      <td>/home/sabri/terra/slice/tasks/emb/clip/embed_i...</td>\n",
       "      <td>interrupted</td>\n",
       "      <td>False</td>\n",
       "      <td>2021-09-06 22:14:43.158569</td>\n",
       "      <td>2021-09-06 22:14:45.311081</td>\n",
       "      <td>pod-sabri</td>\n",
       "      <td>3.8.10 (default, May 19 2021, 18:05:58) \\n[GCC...</td>\n",
       "      <td>Linux-5.4.120+-x86_64-with-glibc2.10</td>\n",
       "      <td>bfb4357ce59c0a79d8e5453469e8f240d503cd83</td>\n",
       "      <td>True</td>\n",
       "      <td>None</td>\n",
       "    </tr>\n",
       "    <tr>\n",
       "      <th>1</th>\n",
       "      <td>5145</td>\n",
       "      <td>domino.emb.clip</td>\n",
       "      <td>embed_images</td>\n",
       "      <td>/home/sabri/terra/slice/tasks/emb/clip/embed_i...</td>\n",
       "      <td>success</td>\n",
       "      <td>False</td>\n",
       "      <td>2021-09-06 21:55:20.020299</td>\n",
       "      <td>2021-09-06 22:07:47.504811</td>\n",
       "      <td>pod-sabri</td>\n",
       "      <td>3.8.10 (default, May 19 2021, 18:05:58) \\n[GCC...</td>\n",
       "      <td>Linux-5.4.120+-x86_64-with-glibc2.10</td>\n",
       "      <td>bfb4357ce59c0a79d8e5453469e8f240d503cd83</td>\n",
       "      <td>True</td>\n",
       "      <td>None</td>\n",
       "    </tr>\n",
       "    <tr>\n",
       "      <th>2</th>\n",
       "      <td>5144</td>\n",
       "      <td>domino.emb.clip</td>\n",
       "      <td>embed_images</td>\n",
       "      <td>/home/sabri/terra/slice/tasks/emb/clip/embed_i...</td>\n",
       "      <td>success</td>\n",
       "      <td>False</td>\n",
       "      <td>2021-09-06 21:07:12.438991</td>\n",
       "      <td>2021-09-06 21:15:36.732723</td>\n",
       "      <td>pod-sabri</td>\n",
       "      <td>3.8.10 (default, May 19 2021, 18:05:58) \\n[GCC...</td>\n",
       "      <td>Linux-5.4.120+-x86_64-with-glibc2.10</td>\n",
       "      <td>bfb4357ce59c0a79d8e5453469e8f240d503cd83</td>\n",
       "      <td>True</td>\n",
       "      <td>None</td>\n",
       "    </tr>\n",
       "    <tr>\n",
       "      <th>3</th>\n",
       "      <td>4511</td>\n",
       "      <td>domino.clip</td>\n",
       "      <td>embed_images</td>\n",
       "      <td>/home/sabri/terra/slice/tasks/clip/embed_image...</td>\n",
       "      <td>failure</td>\n",
       "      <td>False</td>\n",
       "      <td>2021-08-20 21:20:00.977179</td>\n",
       "      <td>2021-08-20 21:20:07.608368</td>\n",
       "      <td>pod-sabri</td>\n",
       "      <td>3.8.10 (default, May 19 2021, 18:05:58) \\n[GCC...</td>\n",
       "      <td>Linux-5.4.104+-x86_64-with-glibc2.10</td>\n",
       "      <td>2814bc8b8fff7decb8748dea9612a27c5b9f30ce</td>\n",
       "      <td>True</td>\n",
       "      <td>None</td>\n",
       "    </tr>\n",
       "    <tr>\n",
       "      <th>4</th>\n",
       "      <td>4510</td>\n",
       "      <td>domino.clip</td>\n",
       "      <td>embed_images</td>\n",
       "      <td>/home/sabri/terra/slice/tasks/clip/embed_image...</td>\n",
       "      <td>success</td>\n",
       "      <td>False</td>\n",
       "      <td>2021-08-20 21:19:16.983483</td>\n",
       "      <td>2021-08-20 21:19:42.568228</td>\n",
       "      <td>pod-sabri</td>\n",
       "      <td>3.8.10 (default, May 19 2021, 18:05:58) \\n[GCC...</td>\n",
       "      <td>Linux-5.4.104+-x86_64-with-glibc2.10</td>\n",
       "      <td>2814bc8b8fff7decb8748dea9612a27c5b9f30ce</td>\n",
       "      <td>True</td>\n",
       "      <td>None</td>\n",
       "    </tr>\n",
       "    <tr>\n",
       "      <th>5</th>\n",
       "      <td>178</td>\n",
       "      <td>spr.clip</td>\n",
       "      <td>embed_images</td>\n",
       "      <td>/home/sabri/terra/slice/tasks/clip/embed_image...</td>\n",
       "      <td>success</td>\n",
       "      <td>False</td>\n",
       "      <td>2021-04-27 13:51:46.740186</td>\n",
       "      <td>2021-04-27 13:52:17.103362</td>\n",
       "      <td>pod-sabri</td>\n",
       "      <td>3.8.8 (default, Apr 13 2021, 19:58:26) \\n[GCC ...</td>\n",
       "      <td>Linux-5.4.89+-x86_64-with-glibc2.10</td>\n",
       "      <td>a6c8ad70714c8f58e5a4361d8fa4b512e27d9040</td>\n",
       "      <td>True</td>\n",
       "      <td>None</td>\n",
       "    </tr>\n",
       "    <tr>\n",
       "      <th>6</th>\n",
       "      <td>168</td>\n",
       "      <td>spr.clip</td>\n",
       "      <td>embed_images</td>\n",
       "      <td>/home/sabri/terra/slice/tasks/clip/embed_image...</td>\n",
       "      <td>success</td>\n",
       "      <td>False</td>\n",
       "      <td>2021-04-27 04:34:16.308769</td>\n",
       "      <td>2021-04-27 04:34:35.367245</td>\n",
       "      <td>pod-sabri</td>\n",
       "      <td>3.8.8 (default, Apr 13 2021, 19:58:26) \\n[GCC ...</td>\n",
       "      <td>Linux-5.4.89+-x86_64-with-glibc2.10</td>\n",
       "      <td>a6c8ad70714c8f58e5a4361d8fa4b512e27d9040</td>\n",
       "      <td>True</td>\n",
       "      <td>None</td>\n",
       "    </tr>\n",
       "    <tr>\n",
       "      <th>7</th>\n",
       "      <td>165</td>\n",
       "      <td>spr.clip</td>\n",
       "      <td>embed_images</td>\n",
       "      <td>/home/sabri/terra/slice/tasks/clip/embed_image...</td>\n",
       "      <td>success</td>\n",
       "      <td>False</td>\n",
       "      <td>2021-04-27 04:20:10.530510</td>\n",
       "      <td>2021-04-27 04:20:30.571910</td>\n",
       "      <td>pod-sabri</td>\n",
       "      <td>3.8.8 (default, Apr 13 2021, 19:58:26) \\n[GCC ...</td>\n",
       "      <td>Linux-5.4.89+-x86_64-with-glibc2.10</td>\n",
       "      <td>a6c8ad70714c8f58e5a4361d8fa4b512e27d9040</td>\n",
       "      <td>True</td>\n",
       "      <td>None</td>\n",
       "    </tr>\n",
       "  </tbody>\n",
       "</table>\n",
       "</div>"
      ],
      "text/plain": [
       "     id           module            fn  \\\n",
       "0  5146  domino.emb.clip  embed_images   \n",
       "1  5145  domino.emb.clip  embed_images   \n",
       "2  5144  domino.emb.clip  embed_images   \n",
       "3  4511      domino.clip  embed_images   \n",
       "4  4510      domino.clip  embed_images   \n",
       "5   178         spr.clip  embed_images   \n",
       "6   168         spr.clip  embed_images   \n",
       "7   165         spr.clip  embed_images   \n",
       "\n",
       "                                             run_dir       status  notebook  \\\n",
       "0  /home/sabri/terra/slice/tasks/emb/clip/embed_i...  interrupted     False   \n",
       "1  /home/sabri/terra/slice/tasks/emb/clip/embed_i...      success     False   \n",
       "2  /home/sabri/terra/slice/tasks/emb/clip/embed_i...      success     False   \n",
       "3  /home/sabri/terra/slice/tasks/clip/embed_image...      failure     False   \n",
       "4  /home/sabri/terra/slice/tasks/clip/embed_image...      success     False   \n",
       "5  /home/sabri/terra/slice/tasks/clip/embed_image...      success     False   \n",
       "6  /home/sabri/terra/slice/tasks/clip/embed_image...      success     False   \n",
       "7  /home/sabri/terra/slice/tasks/clip/embed_image...      success     False   \n",
       "\n",
       "                  start_time                   end_time   hostname  \\\n",
       "0 2021-09-06 22:14:43.158569 2021-09-06 22:14:45.311081  pod-sabri   \n",
       "1 2021-09-06 21:55:20.020299 2021-09-06 22:07:47.504811  pod-sabri   \n",
       "2 2021-09-06 21:07:12.438991 2021-09-06 21:15:36.732723  pod-sabri   \n",
       "3 2021-08-20 21:20:00.977179 2021-08-20 21:20:07.608368  pod-sabri   \n",
       "4 2021-08-20 21:19:16.983483 2021-08-20 21:19:42.568228  pod-sabri   \n",
       "5 2021-04-27 13:51:46.740186 2021-04-27 13:52:17.103362  pod-sabri   \n",
       "6 2021-04-27 04:34:16.308769 2021-04-27 04:34:35.367245  pod-sabri   \n",
       "7 2021-04-27 04:20:10.530510 2021-04-27 04:20:30.571910  pod-sabri   \n",
       "\n",
       "                                      python_version  \\\n",
       "0  3.8.10 (default, May 19 2021, 18:05:58) \\n[GCC...   \n",
       "1  3.8.10 (default, May 19 2021, 18:05:58) \\n[GCC...   \n",
       "2  3.8.10 (default, May 19 2021, 18:05:58) \\n[GCC...   \n",
       "3  3.8.10 (default, May 19 2021, 18:05:58) \\n[GCC...   \n",
       "4  3.8.10 (default, May 19 2021, 18:05:58) \\n[GCC...   \n",
       "5  3.8.8 (default, Apr 13 2021, 19:58:26) \\n[GCC ...   \n",
       "6  3.8.8 (default, Apr 13 2021, 19:58:26) \\n[GCC ...   \n",
       "7  3.8.8 (default, Apr 13 2021, 19:58:26) \\n[GCC ...   \n",
       "\n",
       "                               platform  \\\n",
       "0  Linux-5.4.120+-x86_64-with-glibc2.10   \n",
       "1  Linux-5.4.120+-x86_64-with-glibc2.10   \n",
       "2  Linux-5.4.120+-x86_64-with-glibc2.10   \n",
       "3  Linux-5.4.104+-x86_64-with-glibc2.10   \n",
       "4  Linux-5.4.104+-x86_64-with-glibc2.10   \n",
       "5   Linux-5.4.89+-x86_64-with-glibc2.10   \n",
       "6   Linux-5.4.89+-x86_64-with-glibc2.10   \n",
       "7   Linux-5.4.89+-x86_64-with-glibc2.10   \n",
       "\n",
       "                                 git_commit  git_dirty slurm_job_id  \n",
       "0  bfb4357ce59c0a79d8e5453469e8f240d503cd83       True         None  \n",
       "1  bfb4357ce59c0a79d8e5453469e8f240d503cd83       True         None  \n",
       "2  bfb4357ce59c0a79d8e5453469e8f240d503cd83       True         None  \n",
       "3  2814bc8b8fff7decb8748dea9612a27c5b9f30ce       True         None  \n",
       "4  2814bc8b8fff7decb8748dea9612a27c5b9f30ce       True         None  \n",
       "5  a6c8ad70714c8f58e5a4361d8fa4b512e27d9040       True         None  \n",
       "6  a6c8ad70714c8f58e5a4361d8fa4b512e27d9040       True         None  \n",
       "7  a6c8ad70714c8f58e5a4361d8fa4b512e27d9040       True         None  "
      ]
     },
     "execution_count": 6,
     "metadata": {},
     "output_type": "execute_result"
    }
   ],
   "source": [
    "embed_images.get_runs()"
   ]
  },
  {
   "cell_type": "code",
   "execution_count": null,
   "id": "69fe4297-2ffa-464e-8a90-cbfc0a1c2990",
   "metadata": {},
   "outputs": [],
   "source": []
  }
 ],
 "metadata": {
  "kernelspec": {
   "display_name": "Python 3",
   "language": "python",
   "name": "python3"
  },
  "language_info": {
   "codemirror_mode": {
    "name": "ipython",
    "version": 3
   },
   "file_extension": ".py",
   "mimetype": "text/x-python",
   "name": "python",
   "nbconvert_exporter": "python",
   "pygments_lexer": "ipython3",
   "version": "3.8.10"
  }
 },
 "nbformat": 4,
 "nbformat_minor": 5
}
