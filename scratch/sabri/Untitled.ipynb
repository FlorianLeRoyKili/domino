{
 "cells": [
  {
   "cell_type": "code",
   "execution_count": 91,
   "id": "f3cdd30e-ceab-458c-a811-ad6ac061ded6",
   "metadata": {},
   "outputs": [
    {
     "name": "stdout",
     "output_type": "stream",
     "text": [
      "The autoreload extension is already loaded. To reload it, use:\n",
      "  %reload_ext autoreload\n"
     ]
    }
   ],
   "source": [
    "%load_ext autoreload\n",
    "%autoreload 2\n",
    "import terra\n",
    "import numpy as np\n",
    "from domino.data.gqa import split_gqa, read_gqa_dps,DATASET_DIR\n",
    "from domino.slices.gqa import collect_rare_slices, TASKS, build_rare_slice\n",
    "from domino.train import synthetic_score_slices\n",
    "import seaborn as sns\n",
    "import matplotlib.pyplot as plt"
   ]
  },
  {
   "cell_type": "code",
   "execution_count": 2,
   "id": "9e47600b-745c-4f94-9388-60db37e08425",
   "metadata": {},
   "outputs": [],
   "source": [
    "dps = read_gqa_dps(dataset_dir=DATASET_DIR)"
   ]
  },
  {
   "cell_type": "code",
   "execution_count": 7,
   "id": "92430e5a-93d4-4972-86ed-96d81306a90f",
   "metadata": {},
   "outputs": [
    {
     "name": "stdout",
     "output_type": "stream",
     "text": [
      "task: collect_rare_slices, run_id=5641\n"
     ]
    }
   ],
   "source": [
    "from domino.slices.gqa import collect_rare_slices, TASKS\n",
    "from domino.data.gqa import split_gqa, read_gqa_dps\n",
    "slices_dp = collect_rare_slices(TASKS, num_frac=1, min_slice_frac=0.01, max_slice_frac=0.01)"
   ]
  },
  {
   "cell_type": "code",
   "execution_count": 3,
   "id": "ed8fc4b4-a706-4ec6-b4f7-c7f014746dad",
   "metadata": {},
   "outputs": [
    {
     "name": "stdout",
     "output_type": "stream",
     "text": [
      "task: synthetic_score_slices, run_id=5702\n"
     ]
    },
    {
     "name": "stderr",
     "output_type": "stream",
     "text": [
      "  0%|          | 0/26 [00:00<?, ?it/s]"
     ]
    },
    {
     "name": "stdout",
     "output_type": "stream",
     "text": [
      "task: build_slice, run_id=5703\n"
     ]
    },
    {
     "name": "stderr",
     "output_type": "stream",
     "text": [
      "  4%|▍         | 1/26 [00:02<01:14,  2.98s/it]"
     ]
    },
    {
     "name": "stdout",
     "output_type": "stream",
     "text": [
      "task: build_slice, run_id=5704\n"
     ]
    },
    {
     "name": "stderr",
     "output_type": "stream",
     "text": [
      "  8%|▊         | 2/26 [00:06<01:12,  3.01s/it]"
     ]
    },
    {
     "name": "stdout",
     "output_type": "stream",
     "text": [
      "task: build_slice, run_id=5705\n"
     ]
    },
    {
     "name": "stderr",
     "output_type": "stream",
     "text": [
      " 12%|█▏        | 3/26 [00:09<01:08,  2.99s/it]"
     ]
    },
    {
     "name": "stdout",
     "output_type": "stream",
     "text": [
      "task: build_slice, run_id=5706\n"
     ]
    },
    {
     "name": "stderr",
     "output_type": "stream",
     "text": [
      " 15%|█▌        | 4/26 [00:11<01:05,  2.98s/it]"
     ]
    },
    {
     "name": "stdout",
     "output_type": "stream",
     "text": [
      "task: build_slice, run_id=5707\n"
     ]
    },
    {
     "name": "stderr",
     "output_type": "stream",
     "text": [
      " 19%|█▉        | 5/26 [00:14<01:02,  2.97s/it]"
     ]
    },
    {
     "name": "stdout",
     "output_type": "stream",
     "text": [
      "task: build_slice, run_id=5708\n"
     ]
    },
    {
     "name": "stderr",
     "output_type": "stream",
     "text": [
      " 23%|██▎       | 6/26 [00:17<00:59,  2.97s/it]"
     ]
    },
    {
     "name": "stdout",
     "output_type": "stream",
     "text": [
      "task: build_slice, run_id=5709\n"
     ]
    },
    {
     "name": "stderr",
     "output_type": "stream",
     "text": [
      " 27%|██▋       | 7/26 [00:20<00:55,  2.95s/it]"
     ]
    },
    {
     "name": "stdout",
     "output_type": "stream",
     "text": [
      "task: build_slice, run_id=5710\n"
     ]
    },
    {
     "name": "stderr",
     "output_type": "stream",
     "text": [
      " 31%|███       | 8/26 [00:23<00:52,  2.93s/it]"
     ]
    },
    {
     "name": "stdout",
     "output_type": "stream",
     "text": [
      "task: build_slice, run_id=5711\n"
     ]
    },
    {
     "name": "stderr",
     "output_type": "stream",
     "text": [
      " 35%|███▍      | 9/26 [00:26<00:49,  2.91s/it]"
     ]
    },
    {
     "name": "stdout",
     "output_type": "stream",
     "text": [
      "task: build_slice, run_id=5712\n"
     ]
    },
    {
     "name": "stderr",
     "output_type": "stream",
     "text": [
      " 38%|███▊      | 10/26 [00:29<00:46,  2.91s/it]"
     ]
    },
    {
     "name": "stdout",
     "output_type": "stream",
     "text": [
      "task: build_slice, run_id=5713\n"
     ]
    },
    {
     "name": "stderr",
     "output_type": "stream",
     "text": [
      " 42%|████▏     | 11/26 [00:32<00:43,  2.93s/it]"
     ]
    },
    {
     "name": "stdout",
     "output_type": "stream",
     "text": [
      "task: build_slice, run_id=5714\n"
     ]
    },
    {
     "name": "stderr",
     "output_type": "stream",
     "text": [
      " 46%|████▌     | 12/26 [00:35<00:41,  2.95s/it]"
     ]
    },
    {
     "name": "stdout",
     "output_type": "stream",
     "text": [
      "task: build_slice, run_id=5715\n"
     ]
    },
    {
     "name": "stderr",
     "output_type": "stream",
     "text": [
      " 50%|█████     | 13/26 [00:38<00:38,  2.95s/it]"
     ]
    },
    {
     "name": "stdout",
     "output_type": "stream",
     "text": [
      "task: build_slice, run_id=5716\n"
     ]
    },
    {
     "name": "stderr",
     "output_type": "stream",
     "text": [
      " 54%|█████▍    | 14/26 [00:41<00:35,  2.96s/it]"
     ]
    },
    {
     "name": "stdout",
     "output_type": "stream",
     "text": [
      "task: build_slice, run_id=5717\n"
     ]
    },
    {
     "name": "stderr",
     "output_type": "stream",
     "text": [
      " 58%|█████▊    | 15/26 [00:44<00:32,  2.97s/it]"
     ]
    },
    {
     "name": "stdout",
     "output_type": "stream",
     "text": [
      "task: build_slice, run_id=5718\n"
     ]
    },
    {
     "name": "stderr",
     "output_type": "stream",
     "text": [
      " 62%|██████▏   | 16/26 [00:47<00:30,  3.00s/it]"
     ]
    },
    {
     "name": "stdout",
     "output_type": "stream",
     "text": [
      "task: build_slice, run_id=5719\n"
     ]
    },
    {
     "name": "stderr",
     "output_type": "stream",
     "text": [
      " 65%|██████▌   | 17/26 [00:50<00:26,  2.92s/it]"
     ]
    },
    {
     "name": "stdout",
     "output_type": "stream",
     "text": [
      "task: build_slice, run_id=5720\n"
     ]
    },
    {
     "name": "stderr",
     "output_type": "stream",
     "text": [
      " 69%|██████▉   | 18/26 [00:52<00:22,  2.87s/it]"
     ]
    },
    {
     "name": "stdout",
     "output_type": "stream",
     "text": [
      "task: build_slice, run_id=5721\n"
     ]
    },
    {
     "name": "stderr",
     "output_type": "stream",
     "text": [
      " 73%|███████▎  | 19/26 [00:55<00:20,  2.90s/it]"
     ]
    },
    {
     "name": "stdout",
     "output_type": "stream",
     "text": [
      "task: build_slice, run_id=5722\n"
     ]
    },
    {
     "name": "stderr",
     "output_type": "stream",
     "text": [
      " 77%|███████▋  | 20/26 [00:59<00:17,  2.99s/it]"
     ]
    },
    {
     "name": "stdout",
     "output_type": "stream",
     "text": [
      "task: build_slice, run_id=5723\n"
     ]
    },
    {
     "name": "stderr",
     "output_type": "stream",
     "text": [
      " 81%|████████  | 21/26 [01:02<00:14,  3.00s/it]"
     ]
    },
    {
     "name": "stdout",
     "output_type": "stream",
     "text": [
      "task: build_slice, run_id=5724\n"
     ]
    },
    {
     "name": "stderr",
     "output_type": "stream",
     "text": [
      " 85%|████████▍ | 22/26 [01:05<00:12,  3.00s/it]"
     ]
    },
    {
     "name": "stdout",
     "output_type": "stream",
     "text": [
      "task: build_slice, run_id=5725\n"
     ]
    },
    {
     "name": "stderr",
     "output_type": "stream",
     "text": [
      " 88%|████████▊ | 23/26 [01:08<00:09,  3.01s/it]"
     ]
    },
    {
     "name": "stdout",
     "output_type": "stream",
     "text": [
      "task: build_slice, run_id=5726\n"
     ]
    },
    {
     "name": "stderr",
     "output_type": "stream",
     "text": [
      " 92%|█████████▏| 24/26 [01:11<00:06,  3.01s/it]"
     ]
    },
    {
     "name": "stdout",
     "output_type": "stream",
     "text": [
      "task: build_slice, run_id=5727\n"
     ]
    },
    {
     "name": "stderr",
     "output_type": "stream",
     "text": [
      " 96%|█████████▌| 25/26 [01:14<00:02,  3.00s/it]"
     ]
    },
    {
     "name": "stdout",
     "output_type": "stream",
     "text": [
      "task: build_slice, run_id=5728\n"
     ]
    },
    {
     "name": "stderr",
     "output_type": "stream",
     "text": [
      "100%|██████████| 26/26 [01:17<00:00,  2.97s/it]\n"
     ]
    },
    {
     "data": {
      "text/plain": [
       "<terra.io.Artifact at 0x7f9809996f40>"
      ]
     },
     "execution_count": 3,
     "metadata": {},
     "output_type": "execute_result"
    }
   ],
   "source": [
    "synthetic_score_slices(\n",
    "    slices_dp=collect_rare_slices.out(5641), \n",
    "    split_dp=split_gqa.out(4681),\n",
    "    synthetic_kwargs={\"slice_pos_ab\": (0.5, 1.5)},\n",
    "    gqa_dps=dps\n",
    ")"
   ]
  },
  {
   "cell_type": "code",
   "execution_count": 36,
   "id": "69fe4297-2ffa-464e-8a90-cbfc0a1c2990",
   "metadata": {},
   "outputs": [],
   "source": [
    "from domino.evaluate import evaluate_sdms, run_sdm\n",
    "evaluate_dp = evaluate_sdms.out(load=True)"
   ]
  },
  {
   "cell_type": "code",
   "execution_count": 81,
   "id": "1ce57e5c-c378-4bea-9a56-0cd4a0a2c3ce",
   "metadata": {},
   "outputs": [
    {
     "name": "stderr",
     "output_type": "stream",
     "text": [
      "100%|██████████| 26/26 [00:05<00:00,  4.46it/s]\n"
     ]
    }
   ],
   "source": [
    "from domino.evaluate import score_sdms\n",
    "df = score_sdms(evaluate_dp)\n",
    "df = df.dropna()"
   ]
  },
  {
   "cell_type": "code",
   "execution_count": 62,
   "id": "42dc6a1d-b169-4fde-a125-580e0c9886b6",
   "metadata": {},
   "outputs": [
    {
     "data": {
      "text/html": [
       "<div>\n",
       "<style scoped>\n",
       "    .dataframe tbody tr th:only-of-type {\n",
       "        vertical-align: middle;\n",
       "    }\n",
       "\n",
       "    .dataframe tbody tr th {\n",
       "        vertical-align: top;\n",
       "    }\n",
       "\n",
       "    .dataframe thead th {\n",
       "        text-align: right;\n",
       "    }\n",
       "</style>\n",
       "<table border=\"1\" class=\"dataframe\">\n",
       "  <thead>\n",
       "    <tr style=\"text-align: right;\">\n",
       "      <th></th>\n",
       "      <th>slice_idx</th>\n",
       "      <th>auroc</th>\n",
       "      <th>precision_at_10</th>\n",
       "      <th>precision_at_25</th>\n",
       "      <th>precision_at_100</th>\n",
       "      <th>recall_at_50</th>\n",
       "      <th>recall_at_100</th>\n",
       "      <th>recall_at_200</th>\n",
       "      <th>target</th>\n",
       "      <th>slice</th>\n",
       "      <th>run_sdm_run_id</th>\n",
       "    </tr>\n",
       "  </thead>\n",
       "  <tbody>\n",
       "    <tr>\n",
       "      <th>0</th>\n",
       "      <td>0</td>\n",
       "      <td>0.744127</td>\n",
       "      <td>0.111111</td>\n",
       "      <td>0.333333</td>\n",
       "      <td>0.141414</td>\n",
       "      <td>0.222222</td>\n",
       "      <td>0.311111</td>\n",
       "      <td>0.466667</td>\n",
       "      <td>person</td>\n",
       "      <td>babies</td>\n",
       "      <td>5735</td>\n",
       "    </tr>\n",
       "    <tr>\n",
       "      <th>0</th>\n",
       "      <td>0</td>\n",
       "      <td>0.931940</td>\n",
       "      <td>0.111111</td>\n",
       "      <td>0.083333</td>\n",
       "      <td>0.090909</td>\n",
       "      <td>0.108696</td>\n",
       "      <td>0.195652</td>\n",
       "      <td>0.456522</td>\n",
       "      <td>vehicle</td>\n",
       "      <td>bike</td>\n",
       "      <td>5748</td>\n",
       "    </tr>\n",
       "    <tr>\n",
       "      <th>0</th>\n",
       "      <td>0</td>\n",
       "      <td>0.830436</td>\n",
       "      <td>0.111111</td>\n",
       "      <td>0.041667</td>\n",
       "      <td>0.060606</td>\n",
       "      <td>0.105263</td>\n",
       "      <td>0.157895</td>\n",
       "      <td>0.315789</td>\n",
       "      <td>vehicle</td>\n",
       "      <td>boat</td>\n",
       "      <td>5750</td>\n",
       "    </tr>\n",
       "    <tr>\n",
       "      <th>0</th>\n",
       "      <td>0</td>\n",
       "      <td>0.999344</td>\n",
       "      <td>1.000000</td>\n",
       "      <td>0.833333</td>\n",
       "      <td>0.232323</td>\n",
       "      <td>0.913043</td>\n",
       "      <td>1.000000</td>\n",
       "      <td>1.000000</td>\n",
       "      <td>farm_animal</td>\n",
       "      <td>cat</td>\n",
       "      <td>5740</td>\n",
       "    </tr>\n",
       "    <tr>\n",
       "      <th>0</th>\n",
       "      <td>0</td>\n",
       "      <td>0.973606</td>\n",
       "      <td>0.555556</td>\n",
       "      <td>0.541667</td>\n",
       "      <td>0.242424</td>\n",
       "      <td>0.545455</td>\n",
       "      <td>0.727273</td>\n",
       "      <td>0.818182</td>\n",
       "      <td>farm_animal</td>\n",
       "      <td>chicken</td>\n",
       "      <td>5745</td>\n",
       "    </tr>\n",
       "    <tr>\n",
       "      <th>0</th>\n",
       "      <td>0</td>\n",
       "      <td>0.662010</td>\n",
       "      <td>0.111111</td>\n",
       "      <td>0.041667</td>\n",
       "      <td>0.050505</td>\n",
       "      <td>0.047619</td>\n",
       "      <td>0.119048</td>\n",
       "      <td>0.119048</td>\n",
       "      <td>clothing</td>\n",
       "      <td>coat</td>\n",
       "      <td>5754</td>\n",
       "    </tr>\n",
       "    <tr>\n",
       "      <th>0</th>\n",
       "      <td>0</td>\n",
       "      <td>0.819571</td>\n",
       "      <td>0.000000</td>\n",
       "      <td>0.000000</td>\n",
       "      <td>0.000000</td>\n",
       "      <td>0.000000</td>\n",
       "      <td>0.000000</td>\n",
       "      <td>0.043478</td>\n",
       "      <td>farm_animal</td>\n",
       "      <td>cow</td>\n",
       "      <td>5742</td>\n",
       "    </tr>\n",
       "    <tr>\n",
       "      <th>0</th>\n",
       "      <td>0</td>\n",
       "      <td>0.818286</td>\n",
       "      <td>0.222222</td>\n",
       "      <td>0.125000</td>\n",
       "      <td>0.080808</td>\n",
       "      <td>0.102564</td>\n",
       "      <td>0.205128</td>\n",
       "      <td>0.256410</td>\n",
       "      <td>clothing</td>\n",
       "      <td>dress</td>\n",
       "      <td>5753</td>\n",
       "    </tr>\n",
       "    <tr>\n",
       "      <th>2</th>\n",
       "      <td>2</td>\n",
       "      <td>0.799833</td>\n",
       "      <td>0.000000</td>\n",
       "      <td>0.000000</td>\n",
       "      <td>0.000000</td>\n",
       "      <td>0.000000</td>\n",
       "      <td>0.000000</td>\n",
       "      <td>0.000000</td>\n",
       "      <td>person</td>\n",
       "      <td>drinkers</td>\n",
       "      <td>5736</td>\n",
       "    </tr>\n",
       "    <tr>\n",
       "      <th>2</th>\n",
       "      <td>2</td>\n",
       "      <td>0.826281</td>\n",
       "      <td>0.000000</td>\n",
       "      <td>0.000000</td>\n",
       "      <td>0.000000</td>\n",
       "      <td>0.000000</td>\n",
       "      <td>0.000000</td>\n",
       "      <td>0.000000</td>\n",
       "      <td>person</td>\n",
       "      <td>drivers</td>\n",
       "      <td>5737</td>\n",
       "    </tr>\n",
       "    <tr>\n",
       "      <th>2</th>\n",
       "      <td>2</td>\n",
       "      <td>0.711299</td>\n",
       "      <td>0.000000</td>\n",
       "      <td>0.041667</td>\n",
       "      <td>0.010101</td>\n",
       "      <td>0.025000</td>\n",
       "      <td>0.025000</td>\n",
       "      <td>0.075000</td>\n",
       "      <td>person</td>\n",
       "      <td>females</td>\n",
       "      <td>5734</td>\n",
       "    </tr>\n",
       "    <tr>\n",
       "      <th>4</th>\n",
       "      <td>4</td>\n",
       "      <td>0.837367</td>\n",
       "      <td>0.111111</td>\n",
       "      <td>0.083333</td>\n",
       "      <td>0.050505</td>\n",
       "      <td>0.078431</td>\n",
       "      <td>0.098039</td>\n",
       "      <td>0.117647</td>\n",
       "      <td>clothing</td>\n",
       "      <td>glove</td>\n",
       "      <td>5752</td>\n",
       "    </tr>\n",
       "    <tr>\n",
       "      <th>0</th>\n",
       "      <td>0</td>\n",
       "      <td>0.897019</td>\n",
       "      <td>0.000000</td>\n",
       "      <td>0.000000</td>\n",
       "      <td>0.080808</td>\n",
       "      <td>0.102564</td>\n",
       "      <td>0.205128</td>\n",
       "      <td>0.256410</td>\n",
       "      <td>farm_animal</td>\n",
       "      <td>goat</td>\n",
       "      <td>5744</td>\n",
       "    </tr>\n",
       "    <tr>\n",
       "      <th>0</th>\n",
       "      <td>0</td>\n",
       "      <td>0.878819</td>\n",
       "      <td>0.000000</td>\n",
       "      <td>0.166667</td>\n",
       "      <td>0.090909</td>\n",
       "      <td>0.137255</td>\n",
       "      <td>0.176471</td>\n",
       "      <td>0.294118</td>\n",
       "      <td>clothing</td>\n",
       "      <td>hat</td>\n",
       "      <td>5755</td>\n",
       "    </tr>\n",
       "    <tr>\n",
       "      <th>0</th>\n",
       "      <td>0</td>\n",
       "      <td>0.765152</td>\n",
       "      <td>0.000000</td>\n",
       "      <td>0.041667</td>\n",
       "      <td>0.020202</td>\n",
       "      <td>0.166667</td>\n",
       "      <td>0.333333</td>\n",
       "      <td>0.500000</td>\n",
       "      <td>vehicle</td>\n",
       "      <td>helicopter</td>\n",
       "      <td>5747</td>\n",
       "    </tr>\n",
       "    <tr>\n",
       "      <th>0</th>\n",
       "      <td>0</td>\n",
       "      <td>0.843514</td>\n",
       "      <td>0.333333</td>\n",
       "      <td>0.125000</td>\n",
       "      <td>0.070707</td>\n",
       "      <td>0.107143</td>\n",
       "      <td>0.250000</td>\n",
       "      <td>0.285714</td>\n",
       "      <td>farm_animal</td>\n",
       "      <td>horse</td>\n",
       "      <td>5741</td>\n",
       "    </tr>\n",
       "    <tr>\n",
       "      <th>0</th>\n",
       "      <td>0</td>\n",
       "      <td>0.939219</td>\n",
       "      <td>0.000000</td>\n",
       "      <td>0.125000</td>\n",
       "      <td>0.151515</td>\n",
       "      <td>0.214286</td>\n",
       "      <td>0.357143</td>\n",
       "      <td>0.619048</td>\n",
       "      <td>vehicle</td>\n",
       "      <td>motorcycle</td>\n",
       "      <td>5749</td>\n",
       "    </tr>\n",
       "    <tr>\n",
       "      <th>0</th>\n",
       "      <td>0</td>\n",
       "      <td>0.898052</td>\n",
       "      <td>0.333333</td>\n",
       "      <td>0.166667</td>\n",
       "      <td>0.111111</td>\n",
       "      <td>0.346154</td>\n",
       "      <td>0.423077</td>\n",
       "      <td>0.576923</td>\n",
       "      <td>farm_animal</td>\n",
       "      <td>sheep</td>\n",
       "      <td>5743</td>\n",
       "    </tr>\n",
       "    <tr>\n",
       "      <th>0</th>\n",
       "      <td>0</td>\n",
       "      <td>0.806941</td>\n",
       "      <td>0.000000</td>\n",
       "      <td>0.125000</td>\n",
       "      <td>0.090909</td>\n",
       "      <td>0.113636</td>\n",
       "      <td>0.204545</td>\n",
       "      <td>0.250000</td>\n",
       "      <td>clothing</td>\n",
       "      <td>shoe</td>\n",
       "      <td>5751</td>\n",
       "    </tr>\n",
       "    <tr>\n",
       "      <th>2</th>\n",
       "      <td>2</td>\n",
       "      <td>0.543696</td>\n",
       "      <td>0.000000</td>\n",
       "      <td>0.000000</td>\n",
       "      <td>0.000000</td>\n",
       "      <td>0.000000</td>\n",
       "      <td>0.000000</td>\n",
       "      <td>0.000000</td>\n",
       "      <td>person</td>\n",
       "      <td>sitters</td>\n",
       "      <td>5739</td>\n",
       "    </tr>\n",
       "    <tr>\n",
       "      <th>0</th>\n",
       "      <td>0</td>\n",
       "      <td>0.925041</td>\n",
       "      <td>0.111111</td>\n",
       "      <td>0.166667</td>\n",
       "      <td>0.090909</td>\n",
       "      <td>0.315789</td>\n",
       "      <td>0.473684</td>\n",
       "      <td>0.578947</td>\n",
       "      <td>person</td>\n",
       "      <td>skaters</td>\n",
       "      <td>5732</td>\n",
       "    </tr>\n",
       "    <tr>\n",
       "      <th>0</th>\n",
       "      <td>0</td>\n",
       "      <td>0.842759</td>\n",
       "      <td>0.222222</td>\n",
       "      <td>0.333333</td>\n",
       "      <td>0.212121</td>\n",
       "      <td>0.166667</td>\n",
       "      <td>0.388889</td>\n",
       "      <td>0.611111</td>\n",
       "      <td>person</td>\n",
       "      <td>skiers</td>\n",
       "      <td>5730</td>\n",
       "    </tr>\n",
       "    <tr>\n",
       "      <th>0</th>\n",
       "      <td>0</td>\n",
       "      <td>0.783335</td>\n",
       "      <td>0.000000</td>\n",
       "      <td>0.000000</td>\n",
       "      <td>0.030303</td>\n",
       "      <td>0.166667</td>\n",
       "      <td>0.250000</td>\n",
       "      <td>0.333333</td>\n",
       "      <td>person</td>\n",
       "      <td>sleepers</td>\n",
       "      <td>5738</td>\n",
       "    </tr>\n",
       "    <tr>\n",
       "      <th>0</th>\n",
       "      <td>0</td>\n",
       "      <td>0.954242</td>\n",
       "      <td>0.888889</td>\n",
       "      <td>0.500000</td>\n",
       "      <td>0.272727</td>\n",
       "      <td>0.567568</td>\n",
       "      <td>0.729730</td>\n",
       "      <td>0.810811</td>\n",
       "      <td>person</td>\n",
       "      <td>surfers</td>\n",
       "      <td>5733</td>\n",
       "    </tr>\n",
       "    <tr>\n",
       "      <th>1</th>\n",
       "      <td>1</td>\n",
       "      <td>0.849497</td>\n",
       "      <td>0.000000</td>\n",
       "      <td>0.000000</td>\n",
       "      <td>0.030303</td>\n",
       "      <td>0.045455</td>\n",
       "      <td>0.136364</td>\n",
       "      <td>0.136364</td>\n",
       "      <td>person</td>\n",
       "      <td>swimmers</td>\n",
       "      <td>5731</td>\n",
       "    </tr>\n",
       "  </tbody>\n",
       "</table>\n",
       "</div>"
      ],
      "text/plain": [
       "   slice_idx     auroc  precision_at_10  precision_at_25  precision_at_100  \\\n",
       "0          0  0.744127         0.111111         0.333333          0.141414   \n",
       "0          0  0.931940         0.111111         0.083333          0.090909   \n",
       "0          0  0.830436         0.111111         0.041667          0.060606   \n",
       "0          0  0.999344         1.000000         0.833333          0.232323   \n",
       "0          0  0.973606         0.555556         0.541667          0.242424   \n",
       "0          0  0.662010         0.111111         0.041667          0.050505   \n",
       "0          0  0.819571         0.000000         0.000000          0.000000   \n",
       "0          0  0.818286         0.222222         0.125000          0.080808   \n",
       "2          2  0.799833         0.000000         0.000000          0.000000   \n",
       "2          2  0.826281         0.000000         0.000000          0.000000   \n",
       "2          2  0.711299         0.000000         0.041667          0.010101   \n",
       "4          4  0.837367         0.111111         0.083333          0.050505   \n",
       "0          0  0.897019         0.000000         0.000000          0.080808   \n",
       "0          0  0.878819         0.000000         0.166667          0.090909   \n",
       "0          0  0.765152         0.000000         0.041667          0.020202   \n",
       "0          0  0.843514         0.333333         0.125000          0.070707   \n",
       "0          0  0.939219         0.000000         0.125000          0.151515   \n",
       "0          0  0.898052         0.333333         0.166667          0.111111   \n",
       "0          0  0.806941         0.000000         0.125000          0.090909   \n",
       "2          2  0.543696         0.000000         0.000000          0.000000   \n",
       "0          0  0.925041         0.111111         0.166667          0.090909   \n",
       "0          0  0.842759         0.222222         0.333333          0.212121   \n",
       "0          0  0.783335         0.000000         0.000000          0.030303   \n",
       "0          0  0.954242         0.888889         0.500000          0.272727   \n",
       "1          1  0.849497         0.000000         0.000000          0.030303   \n",
       "\n",
       "   recall_at_50  recall_at_100  recall_at_200       target       slice  \\\n",
       "0      0.222222       0.311111       0.466667       person      babies   \n",
       "0      0.108696       0.195652       0.456522      vehicle        bike   \n",
       "0      0.105263       0.157895       0.315789      vehicle        boat   \n",
       "0      0.913043       1.000000       1.000000  farm_animal         cat   \n",
       "0      0.545455       0.727273       0.818182  farm_animal     chicken   \n",
       "0      0.047619       0.119048       0.119048     clothing        coat   \n",
       "0      0.000000       0.000000       0.043478  farm_animal         cow   \n",
       "0      0.102564       0.205128       0.256410     clothing       dress   \n",
       "2      0.000000       0.000000       0.000000       person    drinkers   \n",
       "2      0.000000       0.000000       0.000000       person     drivers   \n",
       "2      0.025000       0.025000       0.075000       person     females   \n",
       "4      0.078431       0.098039       0.117647     clothing       glove   \n",
       "0      0.102564       0.205128       0.256410  farm_animal        goat   \n",
       "0      0.137255       0.176471       0.294118     clothing         hat   \n",
       "0      0.166667       0.333333       0.500000      vehicle  helicopter   \n",
       "0      0.107143       0.250000       0.285714  farm_animal       horse   \n",
       "0      0.214286       0.357143       0.619048      vehicle  motorcycle   \n",
       "0      0.346154       0.423077       0.576923  farm_animal       sheep   \n",
       "0      0.113636       0.204545       0.250000     clothing        shoe   \n",
       "2      0.000000       0.000000       0.000000       person     sitters   \n",
       "0      0.315789       0.473684       0.578947       person     skaters   \n",
       "0      0.166667       0.388889       0.611111       person      skiers   \n",
       "0      0.166667       0.250000       0.333333       person    sleepers   \n",
       "0      0.567568       0.729730       0.810811       person     surfers   \n",
       "1      0.045455       0.136364       0.136364       person    swimmers   \n",
       "\n",
       "   run_sdm_run_id  \n",
       "0            5735  \n",
       "0            5748  \n",
       "0            5750  \n",
       "0            5740  \n",
       "0            5745  \n",
       "0            5754  \n",
       "0            5742  \n",
       "0            5753  \n",
       "2            5736  \n",
       "2            5737  \n",
       "2            5734  \n",
       "4            5752  \n",
       "0            5744  \n",
       "0            5755  \n",
       "0            5747  \n",
       "0            5741  \n",
       "0            5749  \n",
       "0            5743  \n",
       "0            5751  \n",
       "2            5739  \n",
       "0            5732  \n",
       "0            5730  \n",
       "0            5738  \n",
       "0            5733  \n",
       "1            5731  "
      ]
     },
     "execution_count": 62,
     "metadata": {},
     "output_type": "execute_result"
    }
   ],
   "source": [
    "df.iloc[df.reset_index().groupby([\"slice\", \"target\"])['auroc'].idxmax().astype(int)]"
   ]
  },
  {
   "cell_type": "code",
   "execution_count": 119,
   "id": "68b631bb-d872-4097-973c-c2961a9691cc",
   "metadata": {},
   "outputs": [],
   "source": [
    "dp = run_sdm.out(run_id=5741, load=True)"
   ]
  },
  {
   "cell_type": "code",
   "execution_count": 120,
   "id": "35f578d7-08f7-465a-87ab-4663d707bd1f",
   "metadata": {},
   "outputs": [
    {
     "data": {
      "text/html": [
       "<div>\n",
       "<style scoped>\n",
       "    .dataframe tbody tr th:only-of-type {\n",
       "        vertical-align: middle;\n",
       "    }\n",
       "\n",
       "    .dataframe tbody tr th {\n",
       "        vertical-align: top;\n",
       "    }\n",
       "\n",
       "    .dataframe thead th {\n",
       "        text-align: right;\n",
       "    }\n",
       "</style>\n",
       "<table border=\"1\" class=\"dataframe\">\n",
       "  <thead>\n",
       "    <tr style=\"text-align: right;\">\n",
       "      <th></th>\n",
       "      <th>slice_idx</th>\n",
       "      <th>auroc</th>\n",
       "      <th>precision_at_10</th>\n",
       "      <th>precision_at_25</th>\n",
       "      <th>precision_at_100</th>\n",
       "      <th>recall_at_50</th>\n",
       "      <th>recall_at_100</th>\n",
       "      <th>recall_at_200</th>\n",
       "    </tr>\n",
       "  </thead>\n",
       "  <tbody>\n",
       "    <tr>\n",
       "      <th>0</th>\n",
       "      <td>0</td>\n",
       "      <td>0.843514</td>\n",
       "      <td>0.333333</td>\n",
       "      <td>0.125</td>\n",
       "      <td>0.070707</td>\n",
       "      <td>0.107143</td>\n",
       "      <td>0.250000</td>\n",
       "      <td>0.285714</td>\n",
       "    </tr>\n",
       "    <tr>\n",
       "      <th>1</th>\n",
       "      <td>1</td>\n",
       "      <td>0.321195</td>\n",
       "      <td>0.000000</td>\n",
       "      <td>0.000</td>\n",
       "      <td>0.000000</td>\n",
       "      <td>0.000000</td>\n",
       "      <td>0.000000</td>\n",
       "      <td>0.000000</td>\n",
       "    </tr>\n",
       "    <tr>\n",
       "      <th>2</th>\n",
       "      <td>2</td>\n",
       "      <td>0.674455</td>\n",
       "      <td>0.000000</td>\n",
       "      <td>0.000</td>\n",
       "      <td>0.000000</td>\n",
       "      <td>0.000000</td>\n",
       "      <td>0.000000</td>\n",
       "      <td>0.035714</td>\n",
       "    </tr>\n",
       "    <tr>\n",
       "      <th>3</th>\n",
       "      <td>3</td>\n",
       "      <td>0.312948</td>\n",
       "      <td>0.000000</td>\n",
       "      <td>0.000</td>\n",
       "      <td>0.000000</td>\n",
       "      <td>0.000000</td>\n",
       "      <td>0.000000</td>\n",
       "      <td>0.000000</td>\n",
       "    </tr>\n",
       "    <tr>\n",
       "      <th>4</th>\n",
       "      <td>4</td>\n",
       "      <td>0.702097</td>\n",
       "      <td>0.000000</td>\n",
       "      <td>0.000</td>\n",
       "      <td>0.010101</td>\n",
       "      <td>0.000000</td>\n",
       "      <td>0.035714</td>\n",
       "      <td>0.035714</td>\n",
       "    </tr>\n",
       "  </tbody>\n",
       "</table>\n",
       "</div>"
      ],
      "text/plain": [
       "   slice_idx     auroc  precision_at_10  precision_at_25  precision_at_100  \\\n",
       "0          0  0.843514         0.333333            0.125          0.070707   \n",
       "1          1  0.321195         0.000000            0.000          0.000000   \n",
       "2          2  0.674455         0.000000            0.000          0.000000   \n",
       "3          3  0.312948         0.000000            0.000          0.000000   \n",
       "4          4  0.702097         0.000000            0.000          0.010101   \n",
       "\n",
       "   recall_at_50  recall_at_100  recall_at_200  \n",
       "0      0.107143       0.250000       0.285714  \n",
       "1      0.000000       0.000000       0.000000  \n",
       "2      0.000000       0.000000       0.035714  \n",
       "3      0.000000       0.000000       0.000000  \n",
       "4      0.000000       0.035714       0.035714  "
      ]
     },
     "execution_count": 120,
     "metadata": {},
     "output_type": "execute_result"
    }
   ],
   "source": [
    "from domino.metrics import compute_sdm_metrics\n",
    "compute_sdm_metrics(dp)"
   ]
  },
  {
   "cell_type": "code",
   "execution_count": 123,
   "id": "b910ff64-0a12-434b-832d-12db668e137b",
   "metadata": {},
   "outputs": [
    {
     "data": {
      "text/plain": [
       "[<matplotlib.lines.Line2D at 0x7f96a0b2c2e0>]"
      ]
     },
     "execution_count": 123,
     "metadata": {},
     "output_type": "execute_result"
    },
    {
     "data": {
      "image/png": "[encoded data removed]",
      "text/plain": [
       "<Figure size 432x288 with 1 Axes>"
      ]
     },
     "metadata": {
      "needs_background": "light"
     },
     "output_type": "display_data"
    }
   ],
   "source": [
    "plt.plot(np.sort(dp[\"slices\"].data[:, slice_idx])[-50:])"
   ]
  },
  {
   "cell_type": "code",
   "execution_count": 124,
   "id": "77ebe805-594c-4484-afc3-01702c8ab067",
   "metadata": {},
   "outputs": [
    {
     "data": {
      "text/plain": [
       "28"
      ]
     },
     "execution_count": 124,
     "metadata": {},
     "output_type": "execute_result"
    }
   ],
   "source": [
    "dp[\"slice\"].sum()"
   ]
  },
  {
   "cell_type": "code",
   "execution_count": 125,
   "id": "7e9225de-6c98-4d55-8a56-52e93b741e70",
   "metadata": {},
   "outputs": [
    {
     "data": {
      "text/html": [
       "<table border=\"1\" class=\"dataframe\">\n",
       "  <thead>\n",
       "    <tr style=\"text-align: right;\">\n",
       "      <th></th>\n",
       "      <th>word (PandasSeriesColumn)</th>\n",
       "      <th>score (NumpyArrayColumn)</th>\n",
       "      <th>frequency (PandasSeriesColumn)</th>\n",
       "    </tr>\n",
       "  </thead>\n",
       "  <tbody>\n",
       "    <tr>\n",
       "      <th>0</th>\n",
       "      <td>mounted</td>\n",
       "      <td>1.580078</td>\n",
       "      <td>71219</td>\n",
       "    </tr>\n",
       "    <tr>\n",
       "      <th>1</th>\n",
       "      <td>cavalry</td>\n",
       "      <td>1.380859</td>\n",
       "      <td>77387</td>\n",
       "    </tr>\n",
       "    <tr>\n",
       "      <th>2</th>\n",
       "      <td>comply</td>\n",
       "      <td>0.958496</td>\n",
       "      <td>16897</td>\n",
       "    </tr>\n",
       "    <tr>\n",
       "      <th>3</th>\n",
       "      <td>horse</td>\n",
       "      <td>0.901855</td>\n",
       "      <td>135699</td>\n",
       "    </tr>\n",
       "    <tr>\n",
       "      <th>4</th>\n",
       "      <td>horses</td>\n",
       "      <td>0.897949</td>\n",
       "      <td>70241</td>\n",
       "    </tr>\n",
       "    <tr>\n",
       "      <th>5</th>\n",
       "      <td>enable</td>\n",
       "      <td>0.866211</td>\n",
       "      <td>35190</td>\n",
       "    </tr>\n",
       "    <tr>\n",
       "      <th>6</th>\n",
       "      <td>sovereign</td>\n",
       "      <td>0.862305</td>\n",
       "      <td>25751</td>\n",
       "    </tr>\n",
       "    <tr>\n",
       "      <th>7</th>\n",
       "      <td>schooling</td>\n",
       "      <td>0.744629</td>\n",
       "      <td>19331</td>\n",
       "    </tr>\n",
       "    <tr>\n",
       "      <th>8</th>\n",
       "      <td>jubilee</td>\n",
       "      <td>0.741699</td>\n",
       "      <td>18960</td>\n",
       "    </tr>\n",
       "    <tr>\n",
       "      <th>9</th>\n",
       "      <td>commanding</td>\n",
       "      <td>0.722168</td>\n",
       "      <td>43370</td>\n",
       "    </tr>\n",
       "  </tbody>\n",
       "</table>"
      ],
      "text/plain": [
       "DataPanel(nrows: 10, ncols: 3)"
      ]
     },
     "execution_count": 125,
     "metadata": {},
     "output_type": "execute_result"
    }
   ],
   "source": [
    "from domino.emb.clip import embed_words\n",
    "from domino.explain import explain_slice\n",
    "slice_idx= 0\n",
    "words_dp = embed_words.out(5143).load()\n",
    "expl_dp = explain_slice(slice_dp=dp, words_dp=words_dp.lz[:int(1e4)], slice_idx=slice_idx)\n",
    "expl_dp.lz[(-expl_dp[\"score\"]).argsort()[:10]]"
   ]
  },
  {
   "cell_type": "code",
   "execution_count": 118,
   "id": "50ac5c5c-faa2-4b8c-9bf4-f00e725c0b5b",
   "metadata": {},
   "outputs": [
    {
     "data": {
      "text/html": [
       "<table border=\"1\" class=\"dataframe\">\n",
       "  <thead>\n",
       "    <tr style=\"text-align: right;\">\n",
       "      <th></th>\n",
       "      <th>object_image (LambdaColumn)</th>\n",
       "      <th>target (PandasSeriesColumn)</th>\n",
       "      <th>slice (PandasSeriesColumn)</th>\n",
       "    </tr>\n",
       "  </thead>\n",
       "  <tbody>\n",
       "    <tr>\n",
       "      <th>0</th>\n",
       "      <td><img src=\"data:image/jpeg;base64,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\"></td>\n",
       "      <td>1.0</td>\n",
       "      <td>0.0</td>\n",
       "    </tr>\n",
       "    <tr>\n",
       "      <th>1</th>\n",
       "      <td><img src=\"data:image/jpeg;base64,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\"></td>\n",
       "      <td>1.0</td>\n",
       "      <td>0.0</td>\n",
       "    </tr>\n",
       "    <tr>\n",
       "      <th>2</th>\n",
       "      <td><img src=\"data:image/jpeg;base64,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\"></td>\n",
       "      <td>1.0</td>\n",
       "      <td>0.0</td>\n",
       "    </tr>\n",
       "    <tr>\n",
       "      <th>3</th>\n",
       "      <td><img src=\"data:image/jpeg;base64,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\"></td>\n",
       "      <td>1.0</td>\n",
       "      <td>0.0</td>\n",
       "    </tr>\n",
       "    <tr>\n",
       "      <th>4</th>\n",
       "      <td><img src=\"data:image/jpeg;base64,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\"></td>\n",
       "      <td>1.0</td>\n",
       "      <td>0.0</td>\n",
       "    </tr>\n",
       "    <tr>\n",
       "      <th>...</th>\n",
       "      <td>...</td>\n",
       "      <td>...</td>\n",
       "      <td>...</td>\n",
       "    </tr>\n",
       "    <tr>\n",
       "      <th>15</th>\n",
       "      <td><img src=\"data:image/jpeg;base64,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\"></td>\n",
       "      <td>0.0</td>\n",
       "      <td>0.0</td>\n",
       "    </tr>\n",
       "    <tr>\n",
       "      <th>16</th>\n",
       "      <td><img src=\"data:image/jpeg;base64,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\"></td>\n",
       "      <td>1.0</td>\n",
       "      <td>0.0</td>\n",
       "    </tr>\n",
       "    <tr>\n",
       "      <th>17</th>\n",
       "      <td><img src=\"data:image/jpeg;base64,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\"></td>\n",
       "      <td>1.0</td>\n",
       "      <td>0.0</td>\n",
       "    </tr>\n",
       "    <tr>\n",
       "      <th>18</th>\n",
       "      <td><img src=\"data:image/jpeg;base64,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\"></td>\n",
       "      <td>1.0</td>\n",
       "      <td>0.0</td>\n",
       "    </tr>\n",
       "    <tr>\n",
       "      <th>19</th>\n",
       "      <td><img src=\"data:image/jpeg;base64,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\"></td>\n",
       "      <td>0.0</td>\n",
       "      <td>0.0</td>\n",
       "    </tr>\n",
       "  </tbody>\n",
       "</table>"
      ],
      "text/plain": [
       "DataPanel(nrows: 20, ncols: 3)"
      ]
     },
     "execution_count": 118,
     "metadata": {},
     "output_type": "execute_result"
    }
   ],
   "source": [
    "dp.lz[dp[\"slices\"].data[:, slice_idx].argsort()[-20:]][[\"object_image\", \"target\", \"slice\"]]"
   ]
  },
  {
   "cell_type": "code",
   "execution_count": 67,
   "id": "ca4bea5c-6afd-43c8-a34d-a0991dafa480",
   "metadata": {},
   "outputs": [
    {
     "data": {
      "text/plain": [
       "47"
      ]
     },
     "execution_count": 67,
     "metadata": {},
     "output_type": "execute_result"
    }
   ],
   "source": [
    "dp[\"slice\"].sum()"
   ]
  },
  {
   "cell_type": "code",
   "execution_count": 59,
   "id": "3671b9df-fd64-4533-8e2e-5645e34564bc",
   "metadata": {},
   "outputs": [
    {
     "data": {
      "text/plain": [
       "array([False, False, False, ..., False, False, False])"
      ]
     },
     "execution_count": 59,
     "metadata": {},
     "output_type": "execute_result"
    }
   ],
   "source": [
    "from scipy.stats import rankdata\n",
    "\n",
    "rankdata(dp[\"slices\"].data[:, slice_idx]) < 100"
   ]
  },
  {
   "cell_type": "code",
   "execution_count": 59,
   "id": "2e95700c-6e99-468f-bd0a-f03316536228",
   "metadata": {},
   "outputs": [],
   "source": [
    "sdm = SpotlightSDM()"
   ]
  },
  {
   "cell_type": "code",
   "execution_count": 60,
   "id": "ea120c4d-6659-42b3-af3c-791da9ab9a11",
   "metadata": {},
   "outputs": [],
   "source": [
    "inp = run_sdm.inp(run_id=5539)\n",
    "data_dp = inp[\"data_dp\"].load()\n",
    "emb_dp = inp[\"emb_dp\"].load()"
   ]
  },
  {
   "cell_type": "code",
   "execution_count": 61,
   "id": "71d0bc54-f0bb-4784-81c8-a825460252d7",
   "metadata": {},
   "outputs": [],
   "source": [
    "data_dp = data_dp.lz[data_dp[\"split\"].isin([\"valid\", \"test\"])].merge(\n",
    "    emb_dp[[\"object_id\", \"emb\"]], on=\"object_id\"\n",
    ")"
   ]
  },
  {
   "cell_type": "code",
   "execution_count": 80,
   "id": "4dd326bf-04fb-4725-9b7a-af1af3ec24ce",
   "metadata": {},
   "outputs": [
    {
     "name": "stderr",
     "output_type": "stream",
     "text": [
      "100%|██████████| 1000/1000 [00:02<00:00, 362.09it/s]\n",
      "100%|██████████| 1000/1000 [00:02<00:00, 380.63it/s]\n",
      "100%|██████████| 1000/1000 [00:02<00:00, 378.02it/s]\n",
      "100%|██████████| 1000/1000 [00:02<00:00, 377.81it/s]\n",
      "100%|██████████| 1000/1000 [00:02<00:00, 376.86it/s]\n"
     ]
    },
    {
     "data": {
      "text/plain": [
       "[array([0.00025375, 0.00022889, 0.00022561, ..., 0.00026515, 0.00020688,\n",
       "        0.0002662 ], dtype=float32),\n",
       " array([0.00030053, 0.00031369, 0.000315  , ..., 0.00022544, 0.00024294,\n",
       "        0.00022153], dtype=float32),\n",
       " array([0.00016677, 0.00019903, 0.00021215, ..., 0.000272  , 0.00024099,\n",
       "        0.00032707], dtype=float32),\n",
       " array([0.00029512, 0.00026993, 0.00026774, ..., 0.00025754, 0.00023505,\n",
       "        0.00021307], dtype=float32),\n",
       " array([0.00016554, 0.00022298, 0.00022927, ..., 0.00026485, 0.00025649,\n",
       "        0.00032698], dtype=float32)]"
      ]
     },
     "execution_count": 80,
     "metadata": {},
     "output_type": "execute_result"
    }
   ],
   "source": [
    "sdm.fit(data_dp=data_dp.lz[data_dp[\"split\"] == \"valid\"])"
   ]
  },
  {
   "cell_type": "code",
   "execution_count": 85,
   "id": "d99a6ed1-a3cd-4336-8e37-2a1300015281",
   "metadata": {},
   "outputs": [],
   "source": [
    "slice_dp = sdm.transform(data_dp.lz[data_dp[\"split\"] == \"test\"])"
   ]
  },
  {
   "cell_type": "code",
   "execution_count": 72,
   "id": "dfde5319-fd8d-4dbc-94ba-c06b4e6d18dc",
   "metadata": {},
   "outputs": [
    {
     "data": {
      "text/plain": [
       "tensor([0.0859, 0.0200, 0.6701,  ..., 0.5376, 0.8819, 0.9679],\n",
       "       dtype=torch.float64)"
      ]
     },
     "execution_count": 72,
     "metadata": {},
     "output_type": "execute_result"
    }
   ],
   "source": [
    "torch.tensor(data_dp[\"pred\"])"
   ]
  },
  {
   "cell_type": "code",
   "execution_count": 74,
   "id": "69c97b3e-f97a-4755-a0a4-f091e62908b8",
   "metadata": {},
   "outputs": [
    {
     "data": {
      "text/plain": [
       "tensor([0., 0., 0.,  ..., 0., 1., 1.], dtype=torch.float64)"
      ]
     },
     "execution_count": 74,
     "metadata": {},
     "output_type": "execute_result"
    }
   ],
   "source": [
    "torch.tensor(data_dp[\"target\"]).to(float)"
   ]
  },
  {
   "cell_type": "code",
   "execution_count": null,
   "id": "b4a9b533-8584-44d9-84a3-72b1f179b212",
   "metadata": {},
   "outputs": [],
   "source": []
  }
 ],
 "metadata": {
  "kernelspec": {
   "display_name": "Python 3",
   "language": "python",
   "name": "python3"
  },
  "language_info": {
   "codemirror_mode": {
    "name": "ipython",
    "version": 3
   },
   "file_extension": ".py",
   "mimetype": "text/x-python",
   "name": "python",
   "nbconvert_exporter": "python",
   "pygments_lexer": "ipython3",
   "version": "3.8.10"
  }
 },
 "nbformat": 4,
 "nbformat_minor": 5
}
