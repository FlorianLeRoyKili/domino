{
 "cells": [
  {
   "cell_type": "code",
   "execution_count": 1,
   "metadata": {},
   "outputs": [],
   "source": [
    "%load_ext autoreload\n",
    "%autoreload 2\n",
    "import numpy as np\n",
    "import pandas as pd"
   ]
  },
  {
   "cell_type": "code",
   "execution_count": 2,
   "metadata": {},
   "outputs": [],
   "source": [
    "from meerkat.contrib.mimic import build_mimic_dp\n",
    "import os\n",
    "import meerkat as mk"
   ]
  },
  {
   "cell_type": "code",
   "execution_count": 4,
   "metadata": {},
   "outputs": [
    {
     "name": "stdout",
     "output_type": "stream",
     "text": [
      "Querying MIMIC database: `gcp_project`=hai-gcp-fine-grained, `tables`={'labels', 'cxr_records', 'admit', 'dicom_meta', 'patients', 'cxr_studies'}.\n"
     ]
    },
    {
     "name": "stderr",
     "output_type": "stream",
     "text": [
      "Downloading: 100%|██████████| 377110/377110 [00:03<00:00, 115513.88rows/s]\n",
      "Downloading: 100%|██████████| 523740/523740 [00:02<00:00, 185633.79rows/s]\n"
     ]
    },
    {
     "name": "stdout",
     "output_type": "stream",
     "text": [
      "Preparing DataPanel...\n",
      "Downloading reports...\n",
      "Downloading splits...\n"
     ]
    }
   ],
   "source": [
    "dataset_dir = \"/home/common/datasets/mimic\"\n",
    "dp = build_mimic_dp(\n",
    "    dataset_dir=dataset_dir,\n",
    "    gcp_project=\"hai-gcp-fine-grained\",\n",
    "    split=True,\n",
    "    reports=True\n",
    ")"
   ]
  },
  {
   "cell_type": "code",
   "execution_count": 3,
   "metadata": {},
   "outputs": [
    {
     "name": "stdout",
     "output_type": "stream",
     "text": [
      "task: build_dp, run_id=4368\n",
      "Querying MIMIC database: `gcp_project`=hai-gcp-fine-grained, `tables`={'admit', 'cxr_records', 'patients', 'cxr_studies', 'labels', 'dicom_meta'}.\n"
     ]
    },
    {
     "name": "stderr",
     "output_type": "stream",
     "text": [
      "Downloading: 100%|██████████| 377110/377110 [00:02<00:00, 136063.41rows/s]\n",
      "Downloading: 100%|██████████| 523740/523740 [00:02<00:00, 230247.95rows/s]\n"
     ]
    },
    {
     "name": "stdout",
     "output_type": "stream",
     "text": [
      "Preparing DataPanel...\n"
     ]
    }
   ],
   "source": [
    "from domino.data.mimic import build_dp\n",
    "dataset_dir = \"/home/common/datasets/mimic\"\n",
    "\n",
    "dp = build_dp(\n",
    "    dataset_dir=dataset_dir,\n",
    "    gcp_project=\"hai-gcp-fine-grained\",\n",
    "    resize=512,\n",
    "    split=False,\n",
    "    reports=True\n",
    ").load()"
   ]
  },
  {
   "cell_type": "code",
   "execution_count": 4,
   "metadata": {},
   "outputs": [],
   "source": [
    "dp.consolidate()"
   ]
  },
  {
   "cell_type": "code",
   "execution_count": 12,
   "metadata": {},
   "outputs": [],
   "source": [
    "from domino.data.mimic import split_dp, build_dp"
   ]
  },
  {
   "cell_type": "code",
   "execution_count": 34,
   "metadata": {},
   "outputs": [
    {
     "name": "stdout",
     "output_type": "stream",
     "text": [
      "task: split_dp, run_id=4411\n"
     ]
    }
   ],
   "source": [
    "out = split_dp(\n",
    "    build_dp.out(4368), \n",
    "    train_frac=0.6, \n",
    "    valid_frac=0.01,\n",
    "    test_frac=0.2,\n",
    "    other_splits={\n",
    "        \"valid_test\": 0.19\n",
    "    }\n",
    ")"
   ]
  },
  {
   "cell_type": "code",
   "execution_count": 14,
   "metadata": {},
   "outputs": [],
   "source": [
    "dp = out.load()"
   ]
  },
  {
   "cell_type": "code",
   "execution_count": 18,
   "metadata": {},
   "outputs": [],
   "source": [
    "k = dp.lz[dp[\"split\"] == \"train\"]"
   ]
  },
  {
   "cell_type": "code",
   "execution_count": 26,
   "metadata": {},
   "outputs": [
    {
     "data": {
      "text/plain": [
       "index (ListColumn)                                                          '4'\n",
       "cxr_jpg (GCSImageColumn)      ImageCell(files/p10/p10001401/s55350604/d9db83...\n",
       "cxr_dicom (GCSImageColumn)    ImageCell(files/p10/p10001401/s55350604/d9db83...\n",
       "report (ReportColumn)         ReportCell(/home/common/datasets/mimic/mimic-c...\n",
       "cxr_jpg_512 (ImageColumn)     ImageCell(/home/common/datasets/mimic/files/p1...\n",
       "input_224 (ImageColumn)       ImageCell(/home/common/datasets/mimic/files/p1...\n",
       "input_512 (ImageColumn)       ImageCell(/home/common/datasets/mimic/files/p1...\n",
       "Name: 1, dtype: object"
      ]
     },
     "execution_count": 26,
     "metadata": {},
     "output_type": "execute_result"
    }
   ],
   "source": [
    "a = k._repr_pandas_().iloc[1]"
   ]
  },
  {
   "cell_type": "code",
   "execution_count": 35,
   "metadata": {},
   "outputs": [
    {
     "data": {
      "text/html": [
       "<div>\n",
       "<style scoped>\n",
       "    .dataframe tbody tr th:only-of-type {\n",
       "        vertical-align: middle;\n",
       "    }\n",
       "\n",
       "    .dataframe tbody tr th {\n",
       "        vertical-align: top;\n",
       "    }\n",
       "\n",
       "    .dataframe thead th {\n",
       "        text-align: right;\n",
       "    }\n",
       "</style>\n",
       "<table border=\"1\" class=\"dataframe\">\n",
       "  <thead>\n",
       "    <tr style=\"text-align: right;\">\n",
       "      <th></th>\n",
       "      <th>study_id (PandasSeriesColumn)</th>\n",
       "      <th>subject_id (PandasSeriesColumn)</th>\n",
       "      <th>dicom_id (PandasSeriesColumn)</th>\n",
       "      <th>dicom_path (PandasSeriesColumn)</th>\n",
       "      <th>gender (PandasSeriesColumn)</th>\n",
       "      <th>anchor_age (PandasSeriesColumn)</th>\n",
       "      <th>anchor_year (PandasSeriesColumn)</th>\n",
       "      <th>anchor_year_group (PandasSeriesColumn)</th>\n",
       "      <th>dod (PandasSeriesColumn)</th>\n",
       "      <th>report_path (PandasSeriesColumn)</th>\n",
       "      <th>...</th>\n",
       "      <th>support_devices_uzeros (PandasSeriesColumn)</th>\n",
       "      <th>patient_orientation_rf (PandasSeriesColumn)</th>\n",
       "      <th>young (PandasSeriesColumn)</th>\n",
       "      <th>ethnicity_black (PandasSeriesColumn)</th>\n",
       "      <th>ethnicity_hisp (PandasSeriesColumn)</th>\n",
       "      <th>ethnicity_asian (PandasSeriesColumn)</th>\n",
       "      <th>burned_in_annotation (PandasSeriesColumn)</th>\n",
       "      <th>gender_male (PandasSeriesColumn)</th>\n",
       "      <th>subject_hash (PandasSeriesColumn)</th>\n",
       "      <th>split (PandasSeriesColumn)</th>\n",
       "    </tr>\n",
       "  </thead>\n",
       "  <tbody>\n",
       "    <tr>\n",
       "      <th>0</th>\n",
       "      <td>51178377</td>\n",
       "      <td>10000935</td>\n",
       "      <td>9b314ad7-fbcb0422-6db62dfc-732858d0-a5527d8b</td>\n",
       "      <td>files/p10/p10000935/s51178377/9b314ad7-fbcb042...</td>\n",
       "      <td>F</td>\n",
       "      <td>52.0</td>\n",
       "      <td>2182.0</td>\n",
       "      <td>2008 - 2010</td>\n",
       "      <td>None</td>\n",
       "      <td>files/p10/p10000935/s51178377.txt</td>\n",
       "      <td>...</td>\n",
       "      <td>0</td>\n",
       "      <td>0</td>\n",
       "      <td>0</td>\n",
       "      <td>1</td>\n",
       "      <td>0</td>\n",
       "      <td>0</td>\n",
       "      <td>1</td>\n",
       "      <td>0</td>\n",
       "      <td>0.07946</td>\n",
       "      <td>train</td>\n",
       "    </tr>\n",
       "    <tr>\n",
       "      <th>1</th>\n",
       "      <td>54684191</td>\n",
       "      <td>10001176</td>\n",
       "      <td>3b8b1b7d-054490d5-385641e7-ff43d2c8-9505f058</td>\n",
       "      <td>files/p10/p10001176/s54684191/3b8b1b7d-054490d...</td>\n",
       "      <td>F</td>\n",
       "      <td>64.0</td>\n",
       "      <td>2186.0</td>\n",
       "      <td>2011 - 2013</td>\n",
       "      <td>None</td>\n",
       "      <td>files/p10/p10001176/s54684191.txt</td>\n",
       "      <td>...</td>\n",
       "      <td>0</td>\n",
       "      <td>0</td>\n",
       "      <td>0</td>\n",
       "      <td>0</td>\n",
       "      <td>0</td>\n",
       "      <td>0</td>\n",
       "      <td>0</td>\n",
       "      <td>0</td>\n",
       "      <td>0.61913</td>\n",
       "      <td>valid</td>\n",
       "    </tr>\n",
       "    <tr>\n",
       "      <th>2</th>\n",
       "      <td>54684191</td>\n",
       "      <td>10001176</td>\n",
       "      <td>ed9c0dfc-ea25b576-0f8cc069-df4cdf14-0cd60eb7</td>\n",
       "      <td>files/p10/p10001176/s54684191/ed9c0dfc-ea25b57...</td>\n",
       "      <td>F</td>\n",
       "      <td>64.0</td>\n",
       "      <td>2186.0</td>\n",
       "      <td>2011 - 2013</td>\n",
       "      <td>None</td>\n",
       "      <td>files/p10/p10001176/s54684191.txt</td>\n",
       "      <td>...</td>\n",
       "      <td>0</td>\n",
       "      <td>0</td>\n",
       "      <td>0</td>\n",
       "      <td>0</td>\n",
       "      <td>0</td>\n",
       "      <td>0</td>\n",
       "      <td>0</td>\n",
       "      <td>0</td>\n",
       "      <td>0.61913</td>\n",
       "      <td>valid</td>\n",
       "    </tr>\n",
       "    <tr>\n",
       "      <th>3</th>\n",
       "      <td>55350604</td>\n",
       "      <td>10001401</td>\n",
       "      <td>d9db838d-4612fd1e-e45b40a9-3ea30033-26efd8e4</td>\n",
       "      <td>files/p10/p10001401/s55350604/d9db838d-4612fd1...</td>\n",
       "      <td>F</td>\n",
       "      <td>89.0</td>\n",
       "      <td>2131.0</td>\n",
       "      <td>2014 - 2016</td>\n",
       "      <td>None</td>\n",
       "      <td>files/p10/p10001401/s55350604.txt</td>\n",
       "      <td>...</td>\n",
       "      <td>0</td>\n",
       "      <td>0</td>\n",
       "      <td>0</td>\n",
       "      <td>0</td>\n",
       "      <td>0</td>\n",
       "      <td>0</td>\n",
       "      <td>0</td>\n",
       "      <td>0</td>\n",
       "      <td>0.21902</td>\n",
       "      <td>train</td>\n",
       "    </tr>\n",
       "    <tr>\n",
       "      <th>4</th>\n",
       "      <td>53880659</td>\n",
       "      <td>10001884</td>\n",
       "      <td>52d6c812-26dfed36-97e26b11-1fa88177-e8b8b150</td>\n",
       "      <td>files/p10/p10001884/s53880659/52d6c812-26dfed3...</td>\n",
       "      <td>F</td>\n",
       "      <td>68.0</td>\n",
       "      <td>2122.0</td>\n",
       "      <td>2008 - 2010</td>\n",
       "      <td>2131-01-20</td>\n",
       "      <td>files/p10/p10001884/s53880659.txt</td>\n",
       "      <td>...</td>\n",
       "      <td>0</td>\n",
       "      <td>0</td>\n",
       "      <td>0</td>\n",
       "      <td>1</td>\n",
       "      <td>0</td>\n",
       "      <td>0</td>\n",
       "      <td>0</td>\n",
       "      <td>0</td>\n",
       "      <td>0.08238</td>\n",
       "      <td>train</td>\n",
       "    </tr>\n",
       "    <tr>\n",
       "      <th>...</th>\n",
       "      <td>...</td>\n",
       "      <td>...</td>\n",
       "      <td>...</td>\n",
       "      <td>...</td>\n",
       "      <td>...</td>\n",
       "      <td>...</td>\n",
       "      <td>...</td>\n",
       "      <td>...</td>\n",
       "      <td>...</td>\n",
       "      <td>...</td>\n",
       "      <td>...</td>\n",
       "      <td>...</td>\n",
       "      <td>...</td>\n",
       "      <td>...</td>\n",
       "      <td>...</td>\n",
       "      <td>...</td>\n",
       "      <td>...</td>\n",
       "      <td>...</td>\n",
       "      <td>...</td>\n",
       "      <td>...</td>\n",
       "      <td>...</td>\n",
       "    </tr>\n",
       "    <tr>\n",
       "      <th>243329</th>\n",
       "      <td>57052056</td>\n",
       "      <td>19983508</td>\n",
       "      <td>c09014f4-a597350e-18af189b-348221e2-316c74ef</td>\n",
       "      <td>files/p19/p19983508/s57052056/c09014f4-a597350...</td>\n",
       "      <td>M</td>\n",
       "      <td>56.0</td>\n",
       "      <td>2172.0</td>\n",
       "      <td>2011 - 2013</td>\n",
       "      <td>None</td>\n",
       "      <td>files/p19/p19983508/s57052056.txt</td>\n",
       "      <td>...</td>\n",
       "      <td>0</td>\n",
       "      <td>0</td>\n",
       "      <td>0</td>\n",
       "      <td>0</td>\n",
       "      <td>0</td>\n",
       "      <td>0</td>\n",
       "      <td>0</td>\n",
       "      <td>1</td>\n",
       "      <td>0.34266</td>\n",
       "      <td>train</td>\n",
       "    </tr>\n",
       "    <tr>\n",
       "      <th>243330</th>\n",
       "      <td>55712435</td>\n",
       "      <td>19984491</td>\n",
       "      <td>ac0b3fbd-40e0bf99-8c7bda63-98b60f34-2f8d84bf</td>\n",
       "      <td>files/p19/p19984491/s55712435/ac0b3fbd-40e0bf9...</td>\n",
       "      <td>F</td>\n",
       "      <td>88.0</td>\n",
       "      <td>2163.0</td>\n",
       "      <td>2014 - 2016</td>\n",
       "      <td>None</td>\n",
       "      <td>files/p19/p19984491/s55712435.txt</td>\n",
       "      <td>...</td>\n",
       "      <td>0</td>\n",
       "      <td>0</td>\n",
       "      <td>0</td>\n",
       "      <td>0</td>\n",
       "      <td>0</td>\n",
       "      <td>0</td>\n",
       "      <td>0</td>\n",
       "      <td>0</td>\n",
       "      <td>0.62814</td>\n",
       "      <td>valid</td>\n",
       "    </tr>\n",
       "    <tr>\n",
       "      <th>243331</th>\n",
       "      <td>54080659</td>\n",
       "      <td>19991743</td>\n",
       "      <td>4011e4c8-32695a5c-3bf7cddd-f1602228-d0d391b5</td>\n",
       "      <td>files/p19/p19991743/s54080659/4011e4c8-32695a5...</td>\n",
       "      <td>F</td>\n",
       "      <td>80.0</td>\n",
       "      <td>2126.0</td>\n",
       "      <td>2008 - 2010</td>\n",
       "      <td>None</td>\n",
       "      <td>files/p19/p19991743/s54080659.txt</td>\n",
       "      <td>...</td>\n",
       "      <td>0</td>\n",
       "      <td>0</td>\n",
       "      <td>0</td>\n",
       "      <td>0</td>\n",
       "      <td>0</td>\n",
       "      <td>0</td>\n",
       "      <td>0</td>\n",
       "      <td>0</td>\n",
       "      <td>0.13870</td>\n",
       "      <td>train</td>\n",
       "    </tr>\n",
       "    <tr>\n",
       "      <th>243332</th>\n",
       "      <td>50634814</td>\n",
       "      <td>19992875</td>\n",
       "      <td>11f33f3e-7fdf7618-ebcbb376-cff190da-b2ff9081</td>\n",
       "      <td>files/p19/p19992875/s50634814/11f33f3e-7fdf761...</td>\n",
       "      <td>M</td>\n",
       "      <td>37.0</td>\n",
       "      <td>2160.0</td>\n",
       "      <td>2011 - 2013</td>\n",
       "      <td>None</td>\n",
       "      <td>files/p19/p19992875/s50634814.txt</td>\n",
       "      <td>...</td>\n",
       "      <td>0</td>\n",
       "      <td>0</td>\n",
       "      <td>1</td>\n",
       "      <td>0</td>\n",
       "      <td>0</td>\n",
       "      <td>0</td>\n",
       "      <td>0</td>\n",
       "      <td>1</td>\n",
       "      <td>0.20904</td>\n",
       "      <td>train</td>\n",
       "    </tr>\n",
       "    <tr>\n",
       "      <th>243333</th>\n",
       "      <td>51149538</td>\n",
       "      <td>19998770</td>\n",
       "      <td>518011e2-346dbd44-3e738335-c5006bf8-d69f6b68</td>\n",
       "      <td>files/p19/p19998770/s51149538/518011e2-346dbd4...</td>\n",
       "      <td>F</td>\n",
       "      <td>47.0</td>\n",
       "      <td>2179.0</td>\n",
       "      <td>2008 - 2010</td>\n",
       "      <td>None</td>\n",
       "      <td>files/p19/p19998770/s51149538.txt</td>\n",
       "      <td>...</td>\n",
       "      <td>0</td>\n",
       "      <td>0</td>\n",
       "      <td>0</td>\n",
       "      <td>0</td>\n",
       "      <td>0</td>\n",
       "      <td>0</td>\n",
       "      <td>0</td>\n",
       "      <td>0</td>\n",
       "      <td>0.86667</td>\n",
       "      <td>test</td>\n",
       "    </tr>\n",
       "  </tbody>\n",
       "</table>\n",
       "<p>243334 rows × 87 columns</p>\n",
       "</div>"
      ],
      "text/plain": [
       "DataPanel(num_rows: 243334)"
      ]
     },
     "execution_count": 35,
     "metadata": {},
     "output_type": "execute_result"
    }
   ],
   "source": [
    "dp"
   ]
  },
  {
   "cell_type": "code",
   "execution_count": null,
   "metadata": {},
   "outputs": [],
   "source": []
  }
 ],
 "metadata": {
  "interpreter": {
   "hash": "0d937a63d09daec3f9548a5c769ccb20edb9c2c1ae2375686b21850f577713d2"
  },
  "kernelspec": {
   "display_name": "Python 3",
   "language": "python",
   "name": "python3"
  },
  "language_info": {
   "codemirror_mode": {
    "name": "ipython",
    "version": 3
   },
   "file_extension": ".py",
   "mimetype": "text/x-python",
   "name": "python",
   "nbconvert_exporter": "python",
   "pygments_lexer": "ipython3",
   "version": "3.8.10"
  }
 },
 "nbformat": 4,
 "nbformat_minor": 4
}
