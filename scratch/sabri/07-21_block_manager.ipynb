{
 "cells": [
  {
   "cell_type": "code",
   "execution_count": 3,
   "source": [
    "%load_ext autoreload\n",
    "%autoreload 2\n",
    "\n",
    "import cProfile as cp\n",
    "import pstats\n",
    "import numpy as np\n",
    "import meerkat as mk\n",
    "import pandas as pd\n",
    "import torch\n",
    "import spacy\n",
    "\n",
    "import os\n",
    "os.environ[\"TERRA_CONFIG_PATH\"] = \"/Users/sabrieyuboglu/code/domino/terra_config.json\"\n",
    "import terra"
   ],
   "outputs": [],
   "metadata": {}
  },
  {
   "cell_type": "code",
   "execution_count": 38,
   "source": [
    "from domino.data.celeb import build_celeb_df, build_celeb_dp\n",
    "#df = build_celeb_df(\"/Users/sabrieyuboglu/data/datasets/celeba\")\n",
    "df = build_celeb_df.out().load()\n",
    "dp = build_celeb_dp(df)\n",
    "index = np.random.randint(1000)"
   ],
   "outputs": [],
   "metadata": {}
  },
  {
   "cell_type": "code",
   "execution_count": 39,
   "source": [
    "print(len(dp.data._block_refs))\n",
    "%timeit out = dp.lz[500:100000]"
   ],
   "outputs": [
    {
     "output_type": "stream",
     "name": "stdout",
     "text": [
      "45\n",
      "46.1 ms ± 613 µs per loop (mean ± std. dev. of 7 runs, 10 loops each)\n"
     ]
    }
   ],
   "metadata": {}
  },
  {
   "cell_type": "code",
   "execution_count": 40,
   "source": [
    "dp.consolidate()"
   ],
   "outputs": [],
   "metadata": {}
  },
  {
   "cell_type": "code",
   "execution_count": 41,
   "source": [
    "print(len(dp.data._block_refs))\n",
    "%timeit out = dp.lz[500:100000]"
   ],
   "outputs": [
    {
     "output_type": "stream",
     "name": "stdout",
     "text": [
      "1\n",
      "42.4 ms ± 440 µs per loop (mean ± std. dev. of 7 runs, 10 loops each)\n"
     ]
    }
   ],
   "metadata": {}
  },
  {
   "cell_type": "code",
   "execution_count": 27,
   "source": [
    "df = pd.DataFrame(\n",
    "    np.random.randn(1000000, 10)\n",
    ")"
   ],
   "outputs": [],
   "metadata": {}
  },
  {
   "cell_type": "code",
   "execution_count": 29,
   "source": [
    "df[0] is df[0]"
   ],
   "outputs": [
    {
     "output_type": "execute_result",
     "data": {
      "text/plain": [
       "True"
      ]
     },
     "metadata": {},
     "execution_count": 29
    }
   ],
   "metadata": {}
  },
  {
   "cell_type": "code",
   "execution_count": 13,
   "source": [
    "%timeit df.iloc[500:50000]"
   ],
   "outputs": [
    {
     "output_type": "stream",
     "name": "stdout",
     "text": [
      "16.5 µs ± 977 ns per loop (mean ± std. dev. of 7 runs, 100000 loops each)\n"
     ]
    }
   ],
   "metadata": {}
  },
  {
   "cell_type": "code",
   "execution_count": 15,
   "source": [
    "dp = mk.DataPanel.from_pandas(df)\n",
    "dp.remove_column(\"index\")"
   ],
   "outputs": [],
   "metadata": {}
  },
  {
   "cell_type": "code",
   "execution_count": 16,
   "source": [
    "print(len(dp.data._block_refs))\n",
    "%timeit out = dp.lz[500:50000]"
   ],
   "outputs": [
    {
     "output_type": "stream",
     "name": "stdout",
     "text": [
      "10\n",
      "1.03 ms ± 14.5 µs per loop (mean ± std. dev. of 7 runs, 1000 loops each)\n"
     ]
    }
   ],
   "metadata": {}
  },
  {
   "cell_type": "code",
   "execution_count": 18,
   "source": [
    "dp.consolidate()"
   ],
   "outputs": [],
   "metadata": {}
  },
  {
   "cell_type": "code",
   "execution_count": null,
   "source": [],
   "outputs": [],
   "metadata": {}
  },
  {
   "cell_type": "code",
   "execution_count": 22,
   "source": [
    "out = dp.lz[500:50000]"
   ],
   "outputs": [],
   "metadata": {}
  },
  {
   "cell_type": "code",
   "execution_count": 31,
   "source": [
    "data = np.zeros(10)"
   ],
   "outputs": [],
   "metadata": {}
  },
  {
   "cell_type": "code",
   "execution_count": 32,
   "source": [
    "%timeit [mk.NumpyArrayColumn(data) for i in range(100)]"
   ],
   "outputs": [
    {
     "output_type": "stream",
     "name": "stdout",
     "text": [
      "1.39 ms ± 9.95 µs per loop (mean ± std. dev. of 7 runs, 1000 loops each)\n"
     ]
    }
   ],
   "metadata": {}
  },
  {
   "cell_type": "code",
   "execution_count": 15,
   "source": [
    "import pstats\n",
    "profiler = cp.Profile()\n",
    "profiler.enable()\n",
    "dp.lz[500:50000]\n",
    "profiler.disable()\n",
    "stats = pstats.Stats(profiler).sort_stats('cumtime')\n",
    "stats"
   ],
   "outputs": [
    {
     "output_type": "execute_result",
     "data": {
      "text/plain": [
       "<pstats.Stats at 0x7ff14acbea90>"
      ]
     },
     "metadata": {},
     "execution_count": 15
    }
   ],
   "metadata": {}
  },
  {
   "cell_type": "code",
   "execution_count": 2,
   "source": [
    "dp = mk.DataPanel({\n",
    "    f\"{idx}\": mk.NumpyArrayColumn(np.arange(1000000))\n",
    "    for idx in range(100)\n",
    "})\n",
    "dp.remove_column(\"index\")"
   ],
   "outputs": [],
   "metadata": {}
  },
  {
   "cell_type": "code",
   "execution_count": 3,
   "source": [
    "%timeit dp.lz[100:50000]"
   ],
   "outputs": [
    {
     "output_type": "stream",
     "name": "stdout",
     "text": [
      "1.08 ms ± 12.8 µs per loop (mean ± std. dev. of 7 runs, 1000 loops each)\n"
     ]
    }
   ],
   "metadata": {}
  },
  {
   "cell_type": "code",
   "execution_count": 4,
   "source": [
    "dp.consolidate()"
   ],
   "outputs": [],
   "metadata": {}
  },
  {
   "cell_type": "code",
   "execution_count": 6,
   "source": [
    "%timeit dp.lz[100:50000]"
   ],
   "outputs": [
    {
     "output_type": "stream",
     "name": "stdout",
     "text": [
      "371 µs ± 989 ns per loop (mean ± std. dev. of 7 runs, 1000 loops each)\n"
     ]
    }
   ],
   "metadata": {}
  },
  {
   "cell_type": "code",
   "execution_count": 11,
   "source": [
    "import pstats\n",
    "profiler = cp.Profile(timeunit=.00001)\n",
    "profiler.enable()\n",
    "dp.lz[500:50000]\n",
    "profiler.disable()\n",
    "stats = pstats.Stats(profiler)\n",
    "stats.sort_stats('cumtime').print_stats(20)"
   ],
   "outputs": [
    {
     "output_type": "stream",
     "name": "stdout",
     "text": [
      "         6998 function calls (6897 primitive calls) in 0.004 seconds\n",
      "\n",
      "   Ordered by: cumulative time\n",
      "   List reduced from 80 to 20 due to restriction <20>\n",
      "\n",
      "   ncalls  tottime  percall  cumtime  percall filename:lineno(function)\n",
      "        2    0.000    0.000    0.004    0.002 /Users/sabrieyuboglu/miniconda3/envs/domino/lib/python3.8/site-packages/IPython/core/interactiveshell.py:3396(run_code)\n",
      "        2    0.000    0.000    0.004    0.002 {built-in method builtins.exec}\n",
      "        1    0.000    0.000    0.004    0.004 <ipython-input-11-622a4f1b2e88>:4(<module>)\n",
      "        1    0.000    0.000    0.004    0.004 /Users/sabrieyuboglu/code/meerkat/meerkat/mixins/materialize.py:14(__getitem__)\n",
      "        1    0.000    0.000    0.004    0.004 /Users/sabrieyuboglu/code/meerkat/meerkat/datapanel.py:480(_get)\n",
      "  201/101    0.000    0.000    0.003    0.000 /Users/sabrieyuboglu/code/meerkat/meerkat/mixins/cloneable.py:31(_clone)\n",
      "        1    0.000    0.000    0.003    0.003 /Users/sabrieyuboglu/code/meerkat/meerkat/datapanel.py:195(_set_data)\n",
      "        1    0.000    0.000    0.003    0.003 /Users/sabrieyuboglu/code/meerkat/meerkat/block/manager.py:171(from_dict)\n",
      "      100    0.000    0.000    0.002    0.000 /Users/sabrieyuboglu/code/meerkat/meerkat/block/manager.py:160(add_column)\n",
      "        1    0.000    0.000    0.002    0.002 /Users/sabrieyuboglu/code/meerkat/meerkat/block/manager.py:43(apply)\n",
      "        1    0.000    0.000    0.001    0.001 /Users/sabrieyuboglu/code/meerkat/meerkat/block/ref.py:40(apply)\n",
      "        1    0.000    0.000    0.001    0.001 /Users/sabrieyuboglu/code/meerkat/meerkat/block/numpy_block.py:112(_get)\n",
      "        1    0.000    0.000    0.001    0.001 /Users/sabrieyuboglu/code/meerkat/meerkat/block/numpy_block.py:123(<dictcomp>)\n",
      "      100    0.000    0.000    0.001    0.000 /Users/sabrieyuboglu/code/meerkat/meerkat/block/manager.py:25(update)\n",
      "      100    0.000    0.000    0.001    0.000 /Users/sabrieyuboglu/code/meerkat/meerkat/mixins/cloneable.py:28(view)\n",
      "      100    0.000    0.000    0.001    0.000 /Users/sabrieyuboglu/code/meerkat/meerkat/block/abstract.py:29(__getitem__)\n",
      "      100    0.000    0.000    0.000    0.000 /Users/sabrieyuboglu/code/meerkat/meerkat/block/numpy_block.py:41(_get_data)\n",
      "      201    0.000    0.000    0.000    0.000 /Users/sabrieyuboglu/code/meerkat/meerkat/mixins/cloneable.py:48(_get_state)\n",
      "      200    0.000    0.000    0.000    0.000 /Users/sabrieyuboglu/code/meerkat/meerkat/columns/abstract.py:79(_set_data)\n",
      "      100    0.000    0.000    0.000    0.000 /Users/sabrieyuboglu/code/meerkat/meerkat/block/manager.py:31(<dictcomp>)\n",
      "\n",
      "\n"
     ]
    },
    {
     "output_type": "execute_result",
     "data": {
      "text/plain": [
       "<pstats.Stats at 0x7f8f19b54dc0>"
      ]
     },
     "metadata": {},
     "execution_count": 11
    }
   ],
   "metadata": {}
  },
  {
   "cell_type": "code",
   "execution_count": 33,
   "source": [
    "x = mk.PandasSeriesColumn(np.arange(4))\n",
    "x[np.array([True, False, True, False])]"
   ],
   "outputs": [
    {
     "output_type": "error",
     "ename": "TypeError",
     "evalue": "super(type, obj): obj must be an instance or subtype of type",
     "traceback": [
      "\u001b[0;31m---------------------------------------------------------------------------\u001b[0m",
      "\u001b[0;31mTypeError\u001b[0m                                 Traceback (most recent call last)",
      "\u001b[0;32m<ipython-input-33-9ffe0d644518>\u001b[0m in \u001b[0;36m<module>\u001b[0;34m\u001b[0m\n\u001b[0;32m----> 1\u001b[0;31m \u001b[0mx\u001b[0m \u001b[0;34m=\u001b[0m \u001b[0mmk\u001b[0m\u001b[0;34m.\u001b[0m\u001b[0mPandasSeriesColumn\u001b[0m\u001b[0;34m(\u001b[0m\u001b[0mnp\u001b[0m\u001b[0;34m.\u001b[0m\u001b[0marange\u001b[0m\u001b[0;34m(\u001b[0m\u001b[0;36m4\u001b[0m\u001b[0;34m)\u001b[0m\u001b[0;34m)\u001b[0m\u001b[0;34m\u001b[0m\u001b[0;34m\u001b[0m\u001b[0m\n\u001b[0m\u001b[1;32m      2\u001b[0m \u001b[0mx\u001b[0m\u001b[0;34m[\u001b[0m\u001b[0mnp\u001b[0m\u001b[0;34m.\u001b[0m\u001b[0marray\u001b[0m\u001b[0;34m(\u001b[0m\u001b[0;34m[\u001b[0m\u001b[0;32mTrue\u001b[0m\u001b[0;34m,\u001b[0m \u001b[0;32mFalse\u001b[0m\u001b[0;34m,\u001b[0m \u001b[0;32mTrue\u001b[0m\u001b[0;34m,\u001b[0m \u001b[0;32mFalse\u001b[0m\u001b[0;34m]\u001b[0m\u001b[0;34m)\u001b[0m\u001b[0;34m]\u001b[0m\u001b[0;34m\u001b[0m\u001b[0;34m\u001b[0m\u001b[0m\n",
      "\u001b[0;32m~/code/meerkat/meerkat/columns/pandas_column.py\u001b[0m in \u001b[0;36m__init__\u001b[0;34m(self, data, dtype, *args, **kwargs)\u001b[0m\n\u001b[1;32m    146\u001b[0m         \u001b[0;32melif\u001b[0m \u001b[0mdata\u001b[0m \u001b[0;32mis\u001b[0m \u001b[0;32mnot\u001b[0m \u001b[0;32mNone\u001b[0m\u001b[0;34m:\u001b[0m\u001b[0;34m\u001b[0m\u001b[0;34m\u001b[0m\u001b[0m\n\u001b[1;32m    147\u001b[0m             \u001b[0mdata\u001b[0m \u001b[0;34m=\u001b[0m \u001b[0mpd\u001b[0m\u001b[0;34m.\u001b[0m\u001b[0mSeries\u001b[0m\u001b[0;34m(\u001b[0m\u001b[0mdata\u001b[0m\u001b[0;34m,\u001b[0m \u001b[0mdtype\u001b[0m\u001b[0;34m=\u001b[0m\u001b[0mdtype\u001b[0m\u001b[0;34m)\u001b[0m\u001b[0;34m\u001b[0m\u001b[0;34m\u001b[0m\u001b[0m\n\u001b[0;32m--> 148\u001b[0;31m         \u001b[0msuper\u001b[0m\u001b[0;34m(\u001b[0m\u001b[0mPandasSeriesColumn\u001b[0m\u001b[0;34m,\u001b[0m \u001b[0mself\u001b[0m\u001b[0;34m)\u001b[0m\u001b[0;34m.\u001b[0m\u001b[0m__init__\u001b[0m\u001b[0;34m(\u001b[0m\u001b[0mdata\u001b[0m\u001b[0;34m=\u001b[0m\u001b[0mdata\u001b[0m\u001b[0;34m,\u001b[0m \u001b[0;34m*\u001b[0m\u001b[0margs\u001b[0m\u001b[0;34m,\u001b[0m \u001b[0;34m**\u001b[0m\u001b[0mkwargs\u001b[0m\u001b[0;34m)\u001b[0m\u001b[0;34m\u001b[0m\u001b[0;34m\u001b[0m\u001b[0m\n\u001b[0m\u001b[1;32m    149\u001b[0m \u001b[0;34m\u001b[0m\u001b[0m\n\u001b[1;32m    150\u001b[0m     \u001b[0m_HANDLED_TYPES\u001b[0m \u001b[0;34m=\u001b[0m \u001b[0;34m(\u001b[0m\u001b[0mnp\u001b[0m\u001b[0;34m.\u001b[0m\u001b[0mndarray\u001b[0m\u001b[0;34m,\u001b[0m \u001b[0mnumbers\u001b[0m\u001b[0;34m.\u001b[0m\u001b[0mNumber\u001b[0m\u001b[0;34m,\u001b[0m \u001b[0mstr\u001b[0m\u001b[0;34m)\u001b[0m\u001b[0;34m\u001b[0m\u001b[0;34m\u001b[0m\u001b[0m\n",
      "\u001b[0;31mTypeError\u001b[0m: super(type, obj): obj must be an instance or subtype of type"
     ]
    }
   ],
   "metadata": {}
  },
  {
   "cell_type": "code",
   "execution_count": 40,
   "source": [
    "col = pd.Series(np.arange(10))\n",
    "index = torch.Tensor((col.values % 2).astype(bool))"
   ],
   "outputs": [],
   "metadata": {}
  },
  {
   "cell_type": "code",
   "execution_count": 46,
   "source": [
    "col.iloc[index.to(bool)]"
   ],
   "outputs": [
    {
     "output_type": "execute_result",
     "data": {
      "text/plain": [
       "0    0\n",
       "1    1\n",
       "0    0\n",
       "1    1\n",
       "0    0\n",
       "1    1\n",
       "0    0\n",
       "1    1\n",
       "0    0\n",
       "1    1\n",
       "dtype: int64"
      ]
     },
     "metadata": {},
     "execution_count": 46
    }
   ],
   "metadata": {}
  },
  {
   "cell_type": "code",
   "execution_count": 65,
   "source": [
    "x = pd.Series(np.arange(10)).to_frame()\n",
    "y = x[0].iloc[:5]\n",
    "x[0].values.base is y.values.base"
   ],
   "outputs": [
    {
     "output_type": "execute_result",
     "data": {
      "text/plain": [
       "True"
      ]
     },
     "metadata": {},
     "execution_count": 65
    }
   ],
   "metadata": {}
  },
  {
   "cell_type": "code",
   "execution_count": 64,
   "source": [
    "x = pd.Series(np.arange(10))\n",
    "y = x.iloc[:5]\n",
    "x.values is y.values.base"
   ],
   "outputs": [
    {
     "output_type": "execute_result",
     "data": {
      "text/plain": [
       "True"
      ]
     },
     "metadata": {},
     "execution_count": 64
    }
   ],
   "metadata": {}
  },
  {
   "cell_type": "code",
   "execution_count": 62,
   "source": [
    "x[0] is x[0]"
   ],
   "outputs": [
    {
     "output_type": "execute_result",
     "data": {
      "text/plain": [
       "True"
      ]
     },
     "metadata": {},
     "execution_count": 62
    }
   ],
   "metadata": {}
  },
  {
   "cell_type": "code",
   "execution_count": 7,
   "source": [
    "pd.Series([1,2,3]).reset_index(drop=True)"
   ],
   "outputs": [
    {
     "output_type": "execute_result",
     "data": {
      "text/plain": [
       "0    1\n",
       "1    2\n",
       "2    3\n",
       "dtype: int64"
      ]
     },
     "metadata": {},
     "execution_count": 7
    }
   ],
   "metadata": {}
  },
  {
   "cell_type": "code",
   "execution_count": 9,
   "source": [
    "torch.ones(10).dtype"
   ],
   "outputs": [
    {
     "output_type": "execute_result",
     "data": {
      "text/plain": [
       "torch.float32"
      ]
     },
     "metadata": {},
     "execution_count": 9
    }
   ],
   "metadata": {}
  },
  {
   "cell_type": "code",
   "execution_count": 11,
   "source": [
    "import numpy as np\n",
    "from itertools import product"
   ],
   "outputs": [],
   "metadata": {}
  },
  {
   "cell_type": "code",
   "execution_count": 28,
   "source": [
    "class NumpyArrayColumnTestBed:\n",
    "\n",
    "    config = {\n",
    "        \"num_dims\": [1,2,3],\n",
    "        \"dim_len\": [1,5],\n",
    "        \"dtype\": [\"float\", \"int\"],\n",
    "    }\n",
    "\n",
    "    def __init__(\n",
    "        self, length: int=16, num_dims: int = True, dim_length: int = 5, dtype=\"float\"\n",
    "    ):\n",
    "        np.random.seed(123)\n",
    "        array = np.random.random(length, *[dim_length for _ in range(num_dims-1)]) * 10\n",
    "        array = array.astype(dtype)\n",
    "    \n",
    "        self.column = mk.NumpyArrayColumn.from_array(array)\n",
    "        self.data = array\n",
    "\n",
    "    @classmethod\n",
    "    def parameterize(cls, params: dict = None):\n",
    "        return map(dict, product(*[[(k, v) for v in vs] for k, vs in cls.config.items()]))\n",
    "       "
   ],
   "outputs": [],
   "metadata": {}
  },
  {
   "cell_type": "code",
   "execution_count": 29,
   "source": [
    "out = NumpyArrayColumnTestBed.parameterize()"
   ],
   "outputs": [],
   "metadata": {}
  },
  {
   "cell_type": "code",
   "execution_count": 31,
   "source": [
    "list(out)"
   ],
   "outputs": [
    {
     "output_type": "execute_result",
     "data": {
      "text/plain": [
       "[{'num_dims': 1, 'dim_len': 1, 'dtype': 'float'},\n",
       " {'num_dims': 1, 'dim_len': 1, 'dtype': 'int'},\n",
       " {'num_dims': 1, 'dim_len': 5, 'dtype': 'float'},\n",
       " {'num_dims': 1, 'dim_len': 5, 'dtype': 'int'},\n",
       " {'num_dims': 2, 'dim_len': 1, 'dtype': 'float'},\n",
       " {'num_dims': 2, 'dim_len': 1, 'dtype': 'int'},\n",
       " {'num_dims': 2, 'dim_len': 5, 'dtype': 'float'},\n",
       " {'num_dims': 2, 'dim_len': 5, 'dtype': 'int'},\n",
       " {'num_dims': 3, 'dim_len': 1, 'dtype': 'float'},\n",
       " {'num_dims': 3, 'dim_len': 1, 'dtype': 'int'},\n",
       " {'num_dims': 3, 'dim_len': 5, 'dtype': 'float'},\n",
       " {'num_dims': 3, 'dim_len': 5, 'dtype': 'int'}]"
      ]
     },
     "metadata": {},
     "execution_count": 31
    }
   ],
   "metadata": {}
  },
  {
   "cell_type": "code",
   "execution_count": null,
   "source": [],
   "outputs": [],
   "metadata": {}
  }
 ],
 "metadata": {
  "orig_nbformat": 4,
  "language_info": {
   "name": "python",
   "version": "3.8.10",
   "mimetype": "text/x-python",
   "codemirror_mode": {
    "name": "ipython",
    "version": 3
   },
   "pygments_lexer": "ipython3",
   "nbconvert_exporter": "python",
   "file_extension": ".py"
  },
  "kernelspec": {
   "name": "python3",
   "display_name": "Python 3.8.10 64-bit ('domino': conda)"
  },
  "interpreter": {
   "hash": "c69732a7865039e91888aaead3ff2569340c124c546c64a2f5d6518a2cd9a0e4"
  }
 },
 "nbformat": 4,
 "nbformat_minor": 2
}