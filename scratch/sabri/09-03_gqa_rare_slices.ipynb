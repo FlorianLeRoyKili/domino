{
 "cells": [
  {
   "cell_type": "code",
   "execution_count": 1,
   "id": "a5c8d0b9-b22d-4283-899f-bd9c79c85a49",
   "metadata": {},
   "outputs": [],
   "source": [
    "%load_ext autoreload\n",
    "%autoreload 2"
   ]
  },
  {
   "cell_type": "code",
   "execution_count": 2,
   "id": "8b11cd68-1ff2-4350-acaf-e60bdc7a82dc",
   "metadata": {},
   "outputs": [],
   "source": [
    "import os\n",
    "import terra\n",
    "import seaborn as sns\n",
    "import meerkat as mk\n",
    "import numpy as np\n",
    "from meerkat.contrib.gqa import read_gqa_dps\n",
    "from domino.data.visual_genome import ATTRIBUTE_GROUPS"
   ]
  },
  {
   "cell_type": "code",
   "execution_count": 6,
   "id": "08baae08-d493-407c-9871-635be0cf83f8",
   "metadata": {},
   "outputs": [],
   "source": [
    "dps = read_gqa_dps(\"/home/common/datasets/gqa\")\n",
    "object_dp, image_dp, attr_dp = dps[\"objects\"], dps[\"images\"], dps[\"attributes\"]"
   ]
  },
  {
   "cell_type": "code",
   "execution_count": 3,
   "id": "7a789b26-8b81-4a1f-8f53-29362ce55dff",
   "metadata": {},
   "outputs": [],
   "source": [
    "from domino.slices.gqa import TASKS, collect_rare_slices, build_rare_slice"
   ]
  },
  {
   "cell_type": "code",
   "execution_count": 4,
   "id": "4c660141-8f6f-4fad-98dc-8ca97fae43c5",
   "metadata": {},
   "outputs": [
    {
     "name": "stdout",
     "output_type": "stream",
     "text": [
      "task: collect_rare_slices, run_id=5092\n"
     ]
    }
   ],
   "source": [
    "settings = collect_rare_slices(TASKS)"
   ]
  },
  {
   "cell_type": "code",
   "execution_count": 7,
   "id": "40279028-b373-49b6-8e72-63efcb667aad",
   "metadata": {},
   "outputs": [
    {
     "ename": "ValueError",
     "evalue": "Cannot take a larger sample than population when 'replace=False'",
     "output_type": "error",
     "traceback": [
      "\u001b[0;31m---------------------------------------------------------------------------\u001b[0m",
      "\u001b[0;31mValueError\u001b[0m                                Traceback (most recent call last)",
      "\u001b[0;32m<ipython-input-7-c320270d2447>\u001b[0m in \u001b[0;36m<module>\u001b[0;34m\u001b[0m\n\u001b[1;32m      1\u001b[0m \u001b[0mslices_dp\u001b[0m \u001b[0;34m=\u001b[0m \u001b[0msettings\u001b[0m\u001b[0;34m.\u001b[0m\u001b[0mload\u001b[0m\u001b[0;34m(\u001b[0m\u001b[0;34m)\u001b[0m\u001b[0;34m\u001b[0m\u001b[0;34m\u001b[0m\u001b[0m\n\u001b[1;32m      2\u001b[0m \u001b[0mslices_dp\u001b[0m \u001b[0;34m=\u001b[0m \u001b[0mslices_dp\u001b[0m\u001b[0;34m.\u001b[0m\u001b[0mlz\u001b[0m\u001b[0;34m[\u001b[0m\u001b[0mslices_dp\u001b[0m\u001b[0;34m[\u001b[0m\u001b[0;34m\"target_name\"\u001b[0m\u001b[0;34m]\u001b[0m \u001b[0;34m!=\u001b[0m \u001b[0;34m\"person\"\u001b[0m\u001b[0;34m]\u001b[0m\u001b[0;34m\u001b[0m\u001b[0;34m\u001b[0m\u001b[0m\n\u001b[0;32m----> 3\u001b[0;31m \u001b[0mout\u001b[0m \u001b[0;34m=\u001b[0m \u001b[0mbuild_rare_slice\u001b[0m\u001b[0;34m(\u001b[0m\u001b[0;34m**\u001b[0m\u001b[0mslices_dp\u001b[0m\u001b[0;34m[\u001b[0m\u001b[0;36m0\u001b[0m\u001b[0;34m]\u001b[0m\u001b[0;34m,\u001b[0m \u001b[0mgqa_dps\u001b[0m\u001b[0;34m=\u001b[0m\u001b[0mdps\u001b[0m\u001b[0;34m,\u001b[0m \u001b[0msplit_run_id\u001b[0m\u001b[0;34m=\u001b[0m\u001b[0;36m4681\u001b[0m\u001b[0;34m)\u001b[0m\u001b[0;34m\u001b[0m\u001b[0;34m\u001b[0m\u001b[0m\n\u001b[0m",
      "\u001b[0;32m/home/sabri/code/domino/domino/slices/gqa.py\u001b[0m in \u001b[0;36mbuild_rare_slice\u001b[0;34m(target_objects, objects, attributes, slice_frac, target_frac, n, min_h, min_w, split_run_id, dataset_dir, gqa_dps, **kwargs)\u001b[0m\n\u001b[1;32m    195\u001b[0m                         \u001b[0mreplace\u001b[0m\u001b[0;34m=\u001b[0m\u001b[0;32mFalse\u001b[0m\u001b[0;34m,\u001b[0m\u001b[0;34m\u001b[0m\u001b[0;34m\u001b[0m\u001b[0m\n\u001b[1;32m    196\u001b[0m                     ),\n\u001b[0;32m--> 197\u001b[0;31m                     np.random.choice(\n\u001b[0m\u001b[1;32m    198\u001b[0m                         np.where(\n\u001b[1;32m    199\u001b[0m                             \u001b[0;34m(\u001b[0m\u001b[0mobject_dp\u001b[0m\u001b[0;34m[\u001b[0m\u001b[0;34m\"target\"\u001b[0m\u001b[0;34m]\u001b[0m \u001b[0;34m==\u001b[0m \u001b[0;36m1\u001b[0m\u001b[0;34m)\u001b[0m \u001b[0;34m&\u001b[0m \u001b[0;34m(\u001b[0m\u001b[0mobject_dp\u001b[0m\u001b[0;34m[\u001b[0m\u001b[0;34m\"slice\"\u001b[0m\u001b[0;34m]\u001b[0m \u001b[0;34m==\u001b[0m \u001b[0;36m0\u001b[0m\u001b[0;34m)\u001b[0m\u001b[0;34m,\u001b[0m\u001b[0;34m\u001b[0m\u001b[0;34m\u001b[0m\u001b[0m\n",
      "\u001b[0;32mmtrand.pyx\u001b[0m in \u001b[0;36mnumpy.random.mtrand.RandomState.choice\u001b[0;34m()\u001b[0m\n",
      "\u001b[0;31mValueError\u001b[0m: Cannot take a larger sample than population when 'replace=False'"
     ]
    }
   ],
   "source": [
    "slices_dp = settings.load()\n",
    "slices_dp = slices_dp.lz[slices_dp[\"target_name\"] != \"person\"]\n",
    "out = build_rare_slice(**slices_dp[0], gqa_dps=dps, split_run_id=4681)"
   ]
  },
  {
   "cell_type": "code",
   "execution_count": 26,
   "id": "171a8952-7f99-4362-b3e0-5d4e42ac9ab8",
   "metadata": {},
   "outputs": [
    {
     "data": {
      "text/plain": [
       "15711"
      ]
     },
     "execution_count": 26,
     "metadata": {},
     "output_type": "execute_result"
    }
   ],
   "source": [
    "object_dp[\"name\"].isin(slices_dp[0][\"target_objects\"]).sum()"
   ]
  },
  {
   "cell_type": "code",
   "execution_count": 8,
   "id": "f91772cf-0c39-4b92-a0ec-eaeded762c11",
   "metadata": {},
   "outputs": [
    {
     "data": {
      "text/plain": [
       "{'attributes': [],\n",
       " 'min_h': 20,\n",
       " 'min_w': 20,\n",
       " 'n': 40000,\n",
       " 'name': 'dog',\n",
       " 'objects': ['dog'],\n",
       " 'slice_category': 'rare',\n",
       " 'slice_frac': 0.005,\n",
       " 'target_frac': 0.377975,\n",
       " 'target_name': 'farm_animal',\n",
       " 'target_objects': ['horse',\n",
       "  'dog',\n",
       "  'cat',\n",
       "  'chicken',\n",
       "  'cow',\n",
       "  'sheep',\n",
       "  'goat',\n",
       "  'bull'],\n",
       " 'index': '50'}"
      ]
     },
     "execution_count": 8,
     "metadata": {},
     "output_type": "execute_result"
    }
   ],
   "source": [
    "slices_dp[0]"
   ]
  },
  {
   "cell_type": "code",
   "execution_count": 25,
   "id": "5a6cc040-b649-4be0-a291-71936f257a3e",
   "metadata": {},
   "outputs": [
    {
     "name": "stderr",
     "output_type": "stream",
     "text": [
      "/home/common/envs/conda/envs/domino/lib/python3.8/site-packages/torchmetrics/utilities/prints.py:36: UserWarning: Metric `AUROC` will save all targets and predictions in buffer. For large datasets this may lead to large memory footprint.\n",
      "  warnings.warn(*args, **kwargs)\n"
     ]
    }
   ],
   "source": [
    "from domino.slices.train import train_model\n",
    "model = train_model.get_artifacts(\"best_chkpt\", 4926)[\"model\"].load()\n",
    "dp = train_model.inp(4926)[\"dp\"].load()"
   ]
  },
  {
   "cell_type": "code",
   "execution_count": 26,
   "id": "3ce328b6-bcc1-4426-b378-9f5ccde653ad",
   "metadata": {},
   "outputs": [
    {
     "data": {
      "text/plain": [
       "{'lr': 0.0001,\n",
       " 'model_name': 'resnet',\n",
       " 'arch': 'resnet18',\n",
       " 'pretrained': False,\n",
       " 'num_classes': 2}"
      ]
     },
     "execution_count": 26,
     "metadata": {},
     "output_type": "execute_result"
    }
   ],
   "source": [
    "model.config"
   ]
  },
  {
   "cell_type": "code",
   "execution_count": 27,
   "id": "3eea9cbc-8035-47a0-8d8b-fc50436adbe7",
   "metadata": {},
   "outputs": [
    {
     "data": {
      "application/vnd.jupyter.widget-view+json": {
       "model_id": "4e54897de5894f439b831ab24fc77600",
       "version_major": 2,
       "version_minor": 0
      },
      "text/plain": [
       "HBox(children=(FloatProgress(value=0.0, max=65.0), HTML(value='')))"
      ]
     },
     "metadata": {},
     "output_type": "display_data"
    },
    {
     "name": "stdout",
     "output_type": "stream",
     "text": [
      "\n"
     ]
    }
   ],
   "source": [
    "from domino.vision import score\n",
    "score_dp = score(\n",
    "    model=model,\n",
    "    dp=dp.lz[dp[\"split\"] == \"test\"], \n",
    "    input_column=\"input\",\n",
    "    batch_size=128\n",
    ")"
   ]
  },
  {
   "cell_type": "code",
   "execution_count": 16,
   "id": "342d1189-7f07-46ac-babc-f55c8e6950cf",
   "metadata": {},
   "outputs": [],
   "source": [
    "score_dp[\"prob\"] = score_dp[\"output\"].probabilities().data[:, -1]"
   ]
  },
  {
   "cell_type": "code",
   "execution_count": 18,
   "id": "f1741c7d-ee3e-4de5-86a9-5416961b916e",
   "metadata": {},
   "outputs": [
    {
     "name": "stdout",
     "output_type": "stream",
     "text": [
      "Overall AUROC: 0.9394859711332865\n",
      "AUROC in group: 0.9395402120662036\n",
      "AUROC where correlation does not hold: 0.9306316812439261\n"
     ]
    }
   ],
   "source": [
    "from sklearn.metrics import roc_auc_score\n",
    "print(\"Overall AUROC: {}\".format(\n",
    "    roc_auc_score(score_dp[\"target\"], score_dp[\"prob\"])\n",
    "))\n",
    "\n",
    "curr_dp = score_dp.lz[(score_dp[\"target\"] == 0) | (score_dp[\"slice\"] == 0)]\n",
    "print(\"AUROC in group: {}\".format(\n",
    "    roc_auc_score(curr_dp[\"target\"], curr_dp[\"prob\"])\n",
    "))\n",
    "\n",
    "curr_dp = score_dp.lz[(score_dp[\"target\"] == 0) | (score_dp[\"slice\"] == 1)]\n",
    "print(\"AUROC where correlation does not hold: {}\".format(\n",
    "    roc_auc_score(curr_dp[\"target\"], curr_dp[\"prob\"])\n",
    "))"
   ]
  },
  {
   "cell_type": "code",
   "execution_count": 22,
   "id": "efd6d405-d1b6-41a7-9f11-9d7ba9800969",
   "metadata": {},
   "outputs": [
    {
     "data": {
      "text/html": [
       "<table border=\"1\" class=\"dataframe\">\n",
       "  <thead>\n",
       "    <tr style=\"text-align: right;\">\n",
       "      <th></th>\n",
       "      <th>image_id (NumpyArrayColumn)</th>\n",
       "      <th>h (NumpyArrayColumn)</th>\n",
       "      <th>name (PandasSeriesColumn)</th>\n",
       "      <th>object_id (NumpyArrayColumn)</th>\n",
       "      <th>w (NumpyArrayColumn)</th>\n",
       "      <th>x (NumpyArrayColumn)</th>\n",
       "      <th>y (NumpyArrayColumn)</th>\n",
       "      <th>index (PandasSeriesColumn)</th>\n",
       "      <th>image (ImageColumn)</th>\n",
       "      <th>height (NumpyArrayColumn)</th>\n",
       "      <th>width (NumpyArrayColumn)</th>\n",
       "      <th>object_image (LambdaColumn)</th>\n",
       "      <th>target (PandasSeriesColumn)</th>\n",
       "      <th>slice (PandasSeriesColumn)</th>\n",
       "      <th>input (LambdaColumn)</th>\n",
       "      <th>id (NumpyArrayColumn)</th>\n",
       "      <th>split (PandasSeriesColumn)</th>\n",
       "      <th>output (ClassificationOutputColumn)</th>\n",
       "      <th>prob (TensorColumn)</th>\n",
       "    </tr>\n",
       "  </thead>\n",
       "  <tbody>\n",
       "    <tr>\n",
       "      <th>0</th>\n",
       "      <td>2365329.0</td>\n",
       "      <td>163.0</td>\n",
       "      <td>skier</td>\n",
       "      <td>3884800.0</td>\n",
       "      <td>77.0</td>\n",
       "      <td>136.0</td>\n",
       "      <td>125.0</td>\n",
       "      <td>100667</td>\n",
       "      <td><img src=\"data:image/jpeg;base64,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\"></td>\n",
       "      <td>334.0</td>\n",
       "      <td>500.0</td>\n",
       "      <td><img src=\"data:image/jpeg;base64,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\"></td>\n",
       "      <td>1.0</td>\n",
       "      <td>1.0</td>\n",
       "      <td>LambdaCell(fn=Compose(\n",
       "    Resize(size=256, interpolation=bilinear)\n",
       "    CenterCrop(size=(224, 224))\n",
       "    ToTensor()\n",
       "    Normalize(mean=[0.485, 0.456, 0.406], std=[0.229, 0.224, 0.225])\n",
       "))</td>\n",
       "      <td>3884800.0</td>\n",
       "      <td>test</td>\n",
       "      <td>torch.Tensor(shape=torch.Size([2]))</td>\n",
       "      <td>tensor(0.4630)</td>\n",
       "    </tr>\n",
       "    <tr>\n",
       "      <th>1</th>\n",
       "      <td>2410046.0</td>\n",
       "      <td>303.0</td>\n",
       "      <td>skier</td>\n",
       "      <td>227329.0</td>\n",
       "      <td>193.0</td>\n",
       "      <td>149.0</td>\n",
       "      <td>72.0</td>\n",
       "      <td>1231190</td>\n",
       "      <td><img src=\"data:image/jpeg;base64,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\"></td>\n",
       "      <td>375.0</td>\n",
       "      <td>500.0</td>\n",
       "      <td><img src=\"data:image/jpeg;base64,/9j/4AAQSkZJRgABAQAAAQABAAD/2wBDAAgGBgcGBQgHBwcJCQgKDBQNDAsLDBkSEw8UHRofHh0aHBwgJC4nICIsIxwcKDcpLDAxNDQ0Hyc5PTgyPC4zNDL/2wBDAQkJCQwLDBgNDRgyIRwhMjIyMjIyMjIyMjIyMjIyMjIyMjIyMjIyMjIyMjIyMjIyMjIyMjIyMjIyMjIyMjIyMjL/wAARCACAAIADASIAAhEBAxEB/8QAHwAAAQUBAQEBAQEAAAAAAAAAAAECAwQFBgcICQoL/8QAtRAAAgEDAwIEAwUFBAQAAAF9AQIDAAQRBRIhMUEGE1FhByJxFDKBkaEII0KxwRVS0fAkM2JyggkKFhcYGRolJicoKSo0NTY3ODk6Q0RFRkdISUpTVFVWV1hZWmNkZWZnaGlqc3R1dnd4eXqDhIWGh4iJipKTlJWWl5iZmqKjpKWmp6ipqrKztLW2t7i5usLDxMXGx8jJytLT1NXW19jZ2uHi4+Tl5ufo6erx8vP09fb3+Pn6/8QAHwEAAwEBAQEBAQEBAQAAAAAAAAECAwQFBgcICQoL/8QAtREAAgECBAQDBAcFBAQAAQJ3AAECAxEEBSExBhJBUQdhcRMiMoEIFEKRobHBCSMzUvAVYnLRChYkNOEl8RcYGRomJygpKjU2Nzg5OkNERUZHSElKU1RVVldYWVpjZGVmZ2hpanN0dXZ3eHl6goOEhYaHiImKkpOUlZaXmJmaoqOkpaanqKmqsrO0tba3uLm6wsPExcbHyMnK0tPU1dbX2Nna4uPk5ebn6Onq8vP09fb3+Pn6/9oADAMBAAIRAxEAPwD0xZfWpVkqis6f3h+dPEyn+IV0cpz8xeDn0/WniT2qkJB3YU4Sp/fH50co+YvCX2p4l9jVETAfxD86eJ/xpcocxeEvtXIePPGDaHYfYrCXZqNwuVcYJhX+9g9z2/E1p63rP9kaLdX4jErQplUzgEk4H6mvCr3UbvWdRkubjfLcTtkkDv6Adh2Fa0qSbu9jlxWIcFyx3Zl2+hazrN/dyxrJOwVprm5JJAXqxc9a97+F1kum+B7VVmd/PYzFGGDESBlcfhn8aZ4M0xdB0IWs7xm5lYyyrgZAPRT64H86vaRo2kaJd3MumxiF7raZEErMvGcYUk469vaonG70N6U3yJy3OqEopwlWsw3G0ZYgD1Jp32g1nyM050aQlT1pwlT1rM+0etH2hfal7Nj9ojUEi+tL5i+ormpPEenxy+WJDIw6lFyB+NVNQ8a6Tp0Ue+XzJ5fuQRkFycZwecDp3odKQe0R5tB4l09L8SC/knML7lJjbB75we1ddYa1pOsQiVb+G2LHCI+6Mv3zgjr9K8e0vVIrRm82JDuAVT5QfGDzwSMfXrXVaeml6q+5rn7RIQR5ZRgy88/KMjHOcjpmuucrvUxjGyO/uIdQSPfFbpJED/rg24n8Bg1Tjv5MMsm3fuKiP7rkgfp26+tctFpF9p1zFLDqrLajBaMzFgyZzg4bGOK6LWrq31nSILrT7nyJ7eYq8UiAh1z94Ht3wM/lSc3HR7DUE9UH2iW1DB5vOMi5BB5Uiqc95eShj5rquMkL8oFczc+J7vR9UlFqlsysoHKE5HcZJzVWXxLcmUCOG3RSvCxlgB+vatoy8jGUDc1gS3GhywqwXbh8Mc5x2riNNlFtqcEjiNYw43sVyQPUD1rsrW5N9bGd5rdX5zECA2Dx0P8AWuLvUWO4KocpkkHOeKpSUtjkxEJRab6npdvqzPGs1pOpGcKwPp6k1RPiSBLjy3voVmU8qZOc15/b3l3aKRa3EkQI+baeDWbZ2Vo17LHdl2VzuDhyCP8AGlOTWyNKdSLT5uh7JLqExj8x5pCSeA7HiprbxNfRBobYfaMjKhxnb/8AWrz+11aKC2gtFuZLqRBiNJQdwX0yOOKzdVCagLma5WdFjB3JHIQMgZHykdelZVa0YqzWp1UKLq6x2PQ9e8W3NtD5epSG2jIz5ePmf8utYtr4x0zUtkL3EySj5V84AZHtknNcSpnv/Ccn2qQltOnjEbNydr8Y/TP4UsWh214hXDMoGRJkhvyzj9K5p13bTQ6qeG95pq51tzql1Jq0VraBAVyWBP3hxyR6VktOthN5ZYXEyyl9/bpjk+mfrXGamt1pV5FB9oJaH542HUA/56Vs6XqMFyymZ1jaSQLl+c455PQZojWbtzCdG17DVnkEYVRwT0xV+xs9ReUSwA25T5hIflK4+nNas8traR+WkKK5XnylGQOO/XJqpDI8cvy3SGNTgJ5ZJJPHzEDnFb2SMiS8ea4KT6g5LHOxljCs5HHXrVfzHt1FwkjZVAQdxG1s+wGQK3JLaN45JpxLcKRgRbT1zxt9KFspltxDa2cUQViP3khYDPf9PSnbsK5QZzcuoYLdXDMNwEfB4+vTvmpTBcQsrS+RaR4y0ZYJ+AIOf89KuxaRcFCJbsRqVAEcCBVH5YzT4PD9jGweVZJZCcnzHzn64oswujOWKKaNlMc9zACSRDHhFzwMZ5JHXgVn6haQ2aqscciLtyPM6nPfoP1rrw/mMERJNnIzjaBj9a5HWbj7VfnH3c4HOeB/+qtYR1ucmLn7ij3KCnejDoduRULhFYOABgYqQHGxu3INK6x7kD/MoOSAcE+1XLY46fxW6GZDcyRTJcxOQ4PDdx7Gus06e/1OeK3nS2ePBMpY9EwcggdSR0xWNLNGYHi+zxRqe4Xkc9jUWl3j2uoxTSKZo4Ax8vGNy7T0964ayXMkz16DaTlCWh2Wh6dDYaQyvC265kLPHId3GMKD7Yz271zmqahZaLrBtw7yFIslY+iH05P+c1v6h4gtv7IbULWZCrR4SRwcIT6+/t64rySSR5WLyEszckk8n8aVZRUVFG9Kc1JyuT396+oX0l1LwznIHoOwqOKdoyCCwIIIKnBH41EB0q3psdtLfxwXbLHDKdhlYkCLPRuOuD2rBIpvqzqtb1Bo5njhRlfdlGPYbcHHqOf1rd8O3M15p0c7iJIocxvgYO4dD7cfrmsTxBsinhLIqny8AL90EE8VY8K3CCWaEKQuBIS3tkA/rXTzNVDGycTpYoblr3zbidQgJ8tRjJrRBUdxWTbMXciTerrkKXPB69PqPyqd7iGzgaZnUvtzg+wrdGZanuxbktINseQoJ7nGfy4qK31OK6iEyL+7cAofUYB/rWRbrqGqszXcAS3374gTnHHH4Y/nVTWL1LZFtrdVVQpDOF7dMA9h2pp3ZM3yxuXNX14mN7S3yrtlXfPQeg+tc7Of3mRwDwB6VHHiQZU4IPSnyqSp9etapaHm1JuctSxDC9wdkYySM4ziq7OVdH5A3EZpysW/djhsc+1PWJpx5KoznOML1FJu5CVnbqMuYg0ROcDHWsxo2hSVy/zCN8c89DWjcCWBmglUg47j2qhZWxv7xLUNhpcoCe2Qa46+sro9XBxap8r7mT9ouJbaOzEkhhUnEYPBJ749aZcWbQpnBZQOTjoa7ay8FSpK3mMsa5+9ncT9KteJNLg07wnLFAhb96hdz1PJ5/X9aj2UrNs9B+zjG17t9jzYUoBZ1C8HPFNPHrWp4bjE3iPT4nUOrzBWUjsetZLXQz9TtPEdofsazE7m3k7WHQHkD9KzvD0qXNz9nkQhWQqdvBOOf6V1WpQLNp06Yydu78ua5PRnit9TiCsOHAOfy/rXTUVpJmMNU0dDNbrBdmWVi6XLrHsOcKFU5/rUlvaK7zXLwpFEyneG5J9/px0qxLmeQAANt5Cnqrev5VV1EyPbNCJljhMbGWXPABBHH5itjML2/kXfb2gV2UYzk/KSDz+HH51keIZI9L0aOEyH7XNuypOSVOdxPt6e/wBKtHU7PSre1cAyT3Mfmhmxk5Hf8gK4jUr+fUbnzrhtzbVUfQD/AD+dZylZFxjcdpt5IlwsbtweFJ/lW983DYOCCPxrkyuPatK21aWNVguwzKpxnup9xSpVeXSRzYnDcz5oG1GGQkkjk5ro/D1pHJBLOw+YttHPtXNQSRzKCjB1PcV3mlWYtLBFHBb5j9TXQ2rHJh0/a6nKeIYUt7wbCct8uDyeg/xrG0V0ttZt55TiNHyx9BXd3Gm299cXkUq4cbGWQdVyuP8A2WuCP7mVgedoYcfQ1zVd0z0qaa5vM9QXDKGBypGQR3rm/HM7QaEkalcTTBXHfABPH4gVy2n+JtR03y1D740PMT8rt9B6H3rf8XNa3vh5buASOSyTJK3ACnAK4/4EtOU+aLsVGLTVzziXAYiuj8B2YuvEivsZvIiaQBR36D+dc1ISWPNaWha7caFcSTQQwyGQAN5gPQehB4rmi0pXZtJNrQ90Phm68v5pI8nHyqrNwfoK8rvbKTTtYlhZQskT7SG4OQcf4V9MIBbShwqwynJDJ8ufrXiPxOszaeLmmdiwu41kDdcHof1WtHPnWpmo8rJ5LbU47ETxaTcBXlPl7IWbeDyG6d85zWTa+HNXuLG5W4gulM25A8qHG3gZx26frXrvgrVYp/BunMbsxusflkFuTtYrxn6CrWs+J7DQdLudRupXk8mMsIiw3OegAIx1JA6VSqt7oHC3U8G8RWdpo9rEsshN8IgkSgYwvTcf1rjgOeOBV/X9bvPEes3Gp37hp5m52jCqBwFHsBUOm2NxqF/BZWqF5p3CIo9TScrsaVjd8I6HFqF59pujugib5I/+ejDB59hkfWsXWo9utX4/6eH/APQjX0rpfhnw7pWn29udKtneNdjzcFpGAALHnvivAPHMUMXjfWUt1Cwi6fYq9AM9KLpxsgs73MjSN7ajEq5HzfMQSMAck/lzXrVveG7aVIYWRVGEkkHBPb5euK4P4f2C6j4z0+0Yfu3Yl/oFJP8AKvoAeEdDCStHBJHLNt3OrvkkDjr/AIU4zUdGTKF3dHmwgUavOkkm4SW6PuYAAEMw49OoribqBI9alhRRvE7KEPQ/NwK9hv8Awrp7+KtMR5J0V7W4Jy2RuTZjj6Mx+teWeILRbP4g3FiTuRb1Bux1DFT/AFpTknsOKa3M/X9IsrHyM3BjupColjX5kjz71WkstUk0vUFZbhrKzQgO6HZw6ggHp2/SvcNX+Hmm6oyTl0M8bqwdwSuFJ42AjqPxrz7x9HH4T0i60gXckr3ew22FypQ/6zJzwQV/8ezUyabuEU1ZHkzHnFS21u9xMsUYBdjhR6n0qNAC4B6E817P8JfCdtIj62zLLLC5ji+XJjOAckevPFZpXNG7Hrfy3UbL5nmqp5wQSp+vavOvitpcn9n2F+8rSrFIYjuUAgNyOe/Q/nXewPBaBgjE5O4kMCTWP40jGp+EryFULNGBMV/u7efw43VUd7Ey2uYPwz1GLUNCfTJWBlguGljQNg7WCkkfiK4z4qeKlvroeH7Mn7PZylpnLlt0vTAPovP459KxLS8udKdbuxuvImhfesi54yCP61z16Gk2S4X5ySeOQfc9/WhOw3qU1Uk17P8ACTw0LGBvEV9CBJMPLst2QVGcM4+vQewNef8Agnww3iXX47SQsltH89y47IOw9z0FfS8NslvBHDEgW3RVCAY27QMAD8KbdgsZ8txLLJKogWQbv7pVsDP9a+c/GLeZ4w1c7Cn+lP8AI3Uc96+mRHCzib7OWO75XBH5/wCfSvm74iWy2vjzVo1TaDKHH/AlDf1qk9BG78JUgi8TtcBnedbZ9iqmSCSAf0zXuJlkmjwgmDqOuMD88GvEPhDCP+EhmuZ5CscUDbQTxkkDp+Ne5gRZBDgDHTJJ9+KljRhagssGtaDI8cm/7RJCWVw4IeF+PUHKjtXk3j2BbT4hXBXcxVoXG7r91f8ACvYtZto0hsJY9waO+hIkbkLubaeP+BV5P8VcReNI5CS5khi+bgYwSO30pNgegReJ7F/Cp8S3GqbLVVIdDEGYv02AcZJPSvn3xNrt34l1ufUbkuVc4iRukadlGOB/jmuhjuxqdoNIvYIoYrmN2tpWUjbIrHa3HQDaykdMVyNtI8LtFgEE7W56ds1LbGhLRYikgnyI2GA4/gPbivbPglME0HVcLIWa5UlsZXG2vH9a0y70r7GlzGEM8AmU45YHkZ9+c/iK774M6pJa6rfwfv5ENq0nkoQQSpByAe/JH40LQN9j1ueaKKNWLuzlc8gfz71Y2291pkzGdwJVZHTgEkjHPFKY4WjCuTsXnOf1pvlrIuVcbTz8y9aq4rHz3dxGMTxnIGG7dCvP9Kz7S1e/ntrSNN88sipHjuScV2HiyxjsPE17EdojLiRQDj5WAJ+vcVp/DTQklvZtXmgDJZDy4UyCfM7k+4HT6+1EtwWx3/hnwxZ+HLQpauR5+1pnY/M7AYBHt7e9bsEuC1vJuLJkxv8A3wedp9xTHkKnhN3Hy4FM815poVkWRFLYcKwzxznH4Ur3HaxPGnk7T58oV237Gx9444PH4YrwX4tWLWvjaWQszrcwxyhmOSeNp/8AQa98uHdrqKVCPLBYOowByOCfxrxj4nj+0vGUQtx5rw2qq6jkZyT29jTixNEnwbguob+9vY7dmi8kxbs4+YkED8h2r1lxc7km8pAWJAj38MOOhx1rF8GW0Fv4aTyZGlV5GWTKbChUkDA68c/Wtl7mER4eeMFiGQZzkg5BFF9QsVtTjM1tO9vM6tG0buh5HyuGG4fh1GPrXk/xdBTxPZPIoVjar93ocO35V6hqtrHrmnqoMmwEMdp2huvBxzx6V5f8XY4o9Q0gQrtRbVkA3Z6N69e/ekVZWOGtEdtUlEzuCjOQeucEnH44x+Na3hTwrqWt+IUludPuBYeYZbiUoVVlyCUUnqT0xXQ+A9GtdR164upZUlnt2EsVvJhvMGeTz1we30r1t1ef97FI1vOBt5GUf0DA/wA6FZaku7PIPiXPb6vq2o2luuH06GGeIf7GwCRR9BsOPY1l/CS7Nt4yH3dssEkTBm2ggjPX/gNL4kNzZfEP7Rd30F1cgBLsLF5SFcbWUcnPynr6msyz8PS22sSw4EkHmhEz0kQkEH/vnml1Gz//2Q==\"></td>\n",
       "      <td>1.0</td>\n",
       "      <td>1.0</td>\n",
       "      <td>LambdaCell(fn=Compose(\n",
       "    Resize(size=256, interpolation=bilinear)\n",
       "    CenterCrop(size=(224, 224))\n",
       "    ToTensor()\n",
       "    Normalize(mean=[0.485, 0.456, 0.406], std=[0.229, 0.224, 0.225])\n",
       "))</td>\n",
       "      <td>227329.0</td>\n",
       "      <td>test</td>\n",
       "      <td>torch.Tensor(shape=torch.Size([2]))</td>\n",
       "      <td>tensor(0.9760)</td>\n",
       "    </tr>\n",
       "    <tr>\n",
       "      <th>2</th>\n",
       "      <td>2387208.0</td>\n",
       "      <td>76.0</td>\n",
       "      <td>skier</td>\n",
       "      <td>1278165.0</td>\n",
       "      <td>34.0</td>\n",
       "      <td>285.0</td>\n",
       "      <td>172.0</td>\n",
       "      <td>754252</td>\n",
       "      <td><img src=\"data:image/jpeg;base64,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\"></td>\n",
       "      <td>335.0</td>\n",
       "      <td>500.0</td>\n",
       "      <td><img src=\"data:image/jpeg;base64,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\"></td>\n",
       "      <td>1.0</td>\n",
       "      <td>1.0</td>\n",
       "      <td>LambdaCell(fn=Compose(\n",
       "    Resize(size=256, interpolation=bilinear)\n",
       "    CenterCrop(size=(224, 224))\n",
       "    ToTensor()\n",
       "    Normalize(mean=[0.485, 0.456, 0.406], std=[0.229, 0.224, 0.225])\n",
       "))</td>\n",
       "      <td>1278165.0</td>\n",
       "      <td>test</td>\n",
       "      <td>torch.Tensor(shape=torch.Size([2]))</td>\n",
       "      <td>tensor(0.4285)</td>\n",
       "    </tr>\n",
       "    <tr>\n",
       "      <th>3</th>\n",
       "      <td>2407859.0</td>\n",
       "      <td>69.0</td>\n",
       "      <td>person</td>\n",
       "      <td>272343.0</td>\n",
       "      <td>23.0</td>\n",
       "      <td>167.0</td>\n",
       "      <td>225.0</td>\n",
       "      <td>484670</td>\n",
       "      <td><img src=\"data:image/jpeg;base64,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\"></td>\n",
       "      <td>375.0</td>\n",
       "      <td>500.0</td>\n",
       "      <td><img src=\"data:image/jpeg;base64,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\"></td>\n",
       "      <td>1.0</td>\n",
       "      <td>1.0</td>\n",
       "      <td>LambdaCell(fn=Compose(\n",
       "    Resize(size=256, interpolation=bilinear)\n",
       "    CenterCrop(size=(224, 224))\n",
       "    ToTensor()\n",
       "    Normalize(mean=[0.485, 0.456, 0.406], std=[0.229, 0.224, 0.225])\n",
       "))</td>\n",
       "      <td>272343.0</td>\n",
       "      <td>test</td>\n",
       "      <td>torch.Tensor(shape=torch.Size([2]))</td>\n",
       "      <td>tensor(0.9848)</td>\n",
       "    </tr>\n",
       "    <tr>\n",
       "      <th>4</th>\n",
       "      <td>2404181.0</td>\n",
       "      <td>13.0</td>\n",
       "      <td>person</td>\n",
       "      <td>1118036.0</td>\n",
       "      <td>9.0</td>\n",
       "      <td>155.0</td>\n",
       "      <td>235.0</td>\n",
       "      <td>1149398</td>\n",
       "      <td><img src=\"data:image/jpeg;base64,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\"></td>\n",
       "      <td>333.0</td>\n",
       "      <td>500.0</td>\n",
       "      <td><img src=\"data:image/jpeg;base64,/9j/4AAQSkZJRgABAQAAAQABAAD/2wBDAAgGBgcGBQgHBwcJCQgKDBQNDAsLDBkSEw8UHRofHh0aHBwgJC4nICIsIxwcKDcpLDAxNDQ0Hyc5PTgyPC4zNDL/2wBDAQkJCQwLDBgNDRgyIRwhMjIyMjIyMjIyMjIyMjIyMjIyMjIyMjIyMjIyMjIyMjIyMjIyMjIyMjIyMjIyMjIyMjL/wAARCAANAA0DASIAAhEBAxEB/8QAHwAAAQUBAQEBAQEAAAAAAAAAAAECAwQFBgcICQoL/8QAtRAAAgEDAwIEAwUFBAQAAAF9AQIDAAQRBRIhMUEGE1FhByJxFDKBkaEII0KxwRVS0fAkM2JyggkKFhcYGRolJicoKSo0NTY3ODk6Q0RFRkdISUpTVFVWV1hZWmNkZWZnaGlqc3R1dnd4eXqDhIWGh4iJipKTlJWWl5iZmqKjpKWmp6ipqrKztLW2t7i5usLDxMXGx8jJytLT1NXW19jZ2uHi4+Tl5ufo6erx8vP09fb3+Pn6/8QAHwEAAwEBAQEBAQEBAQAAAAAAAAECAwQFBgcICQoL/8QAtREAAgECBAQDBAcFBAQAAQJ3AAECAxEEBSExBhJBUQdhcRMiMoEIFEKRobHBCSMzUvAVYnLRChYkNOEl8RcYGRomJygpKjU2Nzg5OkNERUZHSElKU1RVVldYWVpjZGVmZ2hpanN0dXZ3eHl6goOEhYaHiImKkpOUlZaXmJmaoqOkpaanqKmqsrO0tba3uLm6wsPExcbHyMnK0tPU1dbX2Nna4uPk5ebn6Onq8vP09fb3+Pn6/9oADAMBAAIRAxEAPwDh5IJY0DohJRgSx6AZ4GPUn/PetO3sbmeJSltJkDnC5r1RvBGmS20UPzCLzFZ167hzxn8a07LwtZ21rHFIxmZFClyu0tjgE49q+eli5Sd1E9nkpxWrP//Z\"></td>\n",
       "      <td>1.0</td>\n",
       "      <td>1.0</td>\n",
       "      <td>LambdaCell(fn=Compose(\n",
       "    Resize(size=256, interpolation=bilinear)\n",
       "    CenterCrop(size=(224, 224))\n",
       "    ToTensor()\n",
       "    Normalize(mean=[0.485, 0.456, 0.406], std=[0.229, 0.224, 0.225])\n",
       "))</td>\n",
       "      <td>1118036.0</td>\n",
       "      <td>test</td>\n",
       "      <td>torch.Tensor(shape=torch.Size([2]))</td>\n",
       "      <td>tensor(0.5718)</td>\n",
       "    </tr>\n",
       "    <tr>\n",
       "      <th>...</th>\n",
       "      <td>...</td>\n",
       "      <td>...</td>\n",
       "      <td>...</td>\n",
       "      <td>...</td>\n",
       "      <td>...</td>\n",
       "      <td>...</td>\n",
       "      <td>...</td>\n",
       "      <td>...</td>\n",
       "      <td>...</td>\n",
       "      <td>...</td>\n",
       "      <td>...</td>\n",
       "      <td>...</td>\n",
       "      <td>...</td>\n",
       "      <td>...</td>\n",
       "      <td>...</td>\n",
       "      <td>...</td>\n",
       "      <td>...</td>\n",
       "      <td>...</td>\n",
       "      <td>...</td>\n",
       "    </tr>\n",
       "    <tr>\n",
       "      <th>20</th>\n",
       "      <td>1159576.0</td>\n",
       "      <td>350.0</td>\n",
       "      <td>skier</td>\n",
       "      <td>4063947.0</td>\n",
       "      <td>132.0</td>\n",
       "      <td>262.0</td>\n",
       "      <td>46.0</td>\n",
       "      <td>1099607</td>\n",
       "      <td><img src=\"data:image/jpeg;base64,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\"></td>\n",
       "      <td>480.0</td>\n",
       "      <td>640.0</td>\n",
       "      <td><img src=\"data:image/jpeg;base64,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\"></td>\n",
       "      <td>1.0</td>\n",
       "      <td>1.0</td>\n",
       "      <td>LambdaCell(fn=Compose(\n",
       "    Resize(size=256, interpolation=bilinear)\n",
       "    CenterCrop(size=(224, 224))\n",
       "    ToTensor()\n",
       "    Normalize(mean=[0.485, 0.456, 0.406], std=[0.229, 0.224, 0.225])\n",
       "))</td>\n",
       "      <td>4063947.0</td>\n",
       "      <td>test</td>\n",
       "      <td>torch.Tensor(shape=torch.Size([2]))</td>\n",
       "      <td>tensor(0.8326)</td>\n",
       "    </tr>\n",
       "    <tr>\n",
       "      <th>21</th>\n",
       "      <td>2335109.0</td>\n",
       "      <td>49.0</td>\n",
       "      <td>skier</td>\n",
       "      <td>3338164.0</td>\n",
       "      <td>23.0</td>\n",
       "      <td>112.0</td>\n",
       "      <td>84.0</td>\n",
       "      <td>1342097</td>\n",
       "      <td><img src=\"data:image/jpeg;base64,/9j/4AAQSkZJRgABAQAAAQABAAD/2wBDAAgGBgcGBQgHBwcJCQgKDBQNDAsLDBkSEw8UHRofHh0aHBwgJC4nICIsIxwcKDcpLDAxNDQ0Hyc5PTgyPC4zNDL/2wBDAQkJCQwLDBgNDRgyIRwhMjIyMjIyMjIyMjIyMjIyMjIyMjIyMjIyMjIyMjIyMjIyMjIyMjIyMjIyMjIyMjIyMjL/wAARCABVAIADASIAAhEBAxEB/8QAHwAAAQUBAQEBAQEAAAAAAAAAAAECAwQFBgcICQoL/8QAtRAAAgEDAwIEAwUFBAQAAAF9AQIDAAQRBRIhMUEGE1FhByJxFDKBkaEII0KxwRVS0fAkM2JyggkKFhcYGRolJicoKSo0NTY3ODk6Q0RFRkdISUpTVFVWV1hZWmNkZWZnaGlqc3R1dnd4eXqDhIWGh4iJipKTlJWWl5iZmqKjpKWmp6ipqrKztLW2t7i5usLDxMXGx8jJytLT1NXW19jZ2uHi4+Tl5ufo6erx8vP09fb3+Pn6/8QAHwEAAwEBAQEBAQEBAQAAAAAAAAECAwQFBgcICQoL/8QAtREAAgECBAQDBAcFBAQAAQJ3AAECAxEEBSExBhJBUQdhcRMiMoEIFEKRobHBCSMzUvAVYnLRChYkNOEl8RcYGRomJygpKjU2Nzg5OkNERUZHSElKU1RVVldYWVpjZGVmZ2hpanN0dXZ3eHl6goOEhYaHiImKkpOUlZaXmJmaoqOkpaanqKmqsrO0tba3uLm6wsPExcbHyMnK0tPU1dbX2Nna4uPk5ebn6Onq8vP09fb3+Pn6/9oADAMBAAIRAxEAPwDHOeo6jvVC5hjlkmdkHmqURX25wM//AF60QXPG0/lQbXMZwwUu6scnPTH+FdjOdEdvEltEIol2rnOB6/jRLEdykyuwaVPlOMLz2q0UOMghTkdRnI706SzE4UJIQA4Y5XrjtSYIdFD5aAKQiKMfhViI4IIJA6DI5oFmzgAyEHsdv6VItrtP+sH5YqbjJlkV/lYZGMEGmuikAYOOn4e9Cwd8jsRSbFmJVWz5bAHBxgjnH60gKU1gpk8zPPp70JZxRtuKcZySO1aDRORwRn3qAROpbzHXbjk56CncLEJRwcoM/SkkjkVhkfOVw5/z+FTx+WSuJsjttJqRmUD5MFv9r+tO4rGQ1tJuykbknqQOppqWjooMrBSOi1PHc388rLPE0Kc4dQCfxGaU2rk5MufwqhFSW0SZlLE4FQJplsrFixOfWtL7Jz96kNrt54/GncLFkWzfXnipBaA43BiPYc1oG1csSViCdcY6fpSBJIxlXZh0KsMgf41nzFWIPsgyNoKg+pyTSyQrBC8sjbURSzNjoB3qRpCmFC4B4xgkVg+LoXvvDs0UcrbmZcBedxyBg/UkUrjRtR4mjWRGyjoGXHoeaQjByAetZnhtZLfw7YxSncSmc+mSSB+Ga0maMHJVeB1oBiEsTx+GecUmWTIUqFz2FI0gVfljz67cUxnJODHJ+n+NMQvmyMwOcDHPODVaSWaQ7mO4DqB1PHf0qUpGyhSCpI6EZNAhRV+V8Z55FAEJuR91Qqkrj5uVJz/kVJHNIVUtC3I6gZqVcbg28Hk5OKkBQJtEmB6A8UXAh3Mf+WZJ+lSRxO5+ZdvuaRp4o3VTMgZ/uhmGT7CopJQMtuwe1AFk26qOWX65qOQwxISZFGMHJ6e9Yeo3l6MrbRKSP4yc/kK566GpSKXnEzKOTkcYq1C/UlyPTJpVclVT5R3z/nNMDl22MjAYqOXCDeTk4yxHf8BRHcvsykajjjcOfxrOxY4wxqxAU4YcjOMVFNDDtVXyEU5UBiOaabpclWVh6EnPNKtuCg/5bNjeWI5wT6jjH0oAWILGERQwAUYX2pNqtOYhhnAzt9v5VF5+zKp8rZwobIqKIOZVeUqZMcBDjA/lTsImjRjIFKqsef4jg1GZAshUqxYHgIcA+4qw0RbawUgHtjqfrUW0KxLoU9DigCMyNIf9UNw5wzc4qF5bpSNkI2np83WnzKrgEFRyADyCaiEU0WdjgqOcA/pTERfaryEkC1Bz1+eoH1O8BLHTiVz1XnH6VeYSyEq8LAHq2awp9egsb17GFJ5JEJX90h2kjtzRddQszG1g/bdbgvmR42hADIxxjnIPrz7Vt2usG6hwQpdRlwoPHPUe1Ys4vruSa7vEMZlbYiOMN06/SrdjpN1a3llewXGITv8APQkjOP4R9eOvpU3s7rqact1bsaRvJW4Xy8/7WR/SgPeuM7YCD6MTV6O5SQKrCVZQNx2kHH5dfypCZCWdLo+mClaXMjUd3859+5gSNsYXlc+uOg96nii2TlZlEeCAuCCrZ9Kal8bhNspJ7DYdv8qkVlEfyhQvYD/69QyhRHh9zEOgyAMdah3OjYXe2TjYPyz7CkkuGSXDqCRyQ3T8akiuPPiaN0Ebnjg9PqR/9agYGKByzyOGIG4hR0PvUGzy7goqscnOQeMVYa2S3G9ZAUXkrnjPqaZcOUEcioQQ2MgYFAEE1184x8qnAyDyBTvOIJG4bmIC7u1OQGRiJVRSP4hz/wDqoijiiJw/y7OMjuP4v58UCFcbo2aZArDGNoyQaoGWFZ2iBeNiRxgnk81NFcPK5NuFZUBdWk756Y7Z/wDr0yOMrcxgvlGQkoy5IbPXPpTQFoER7meZZlAzjGDn+tQtaPKA7hQRnduGR9aQLD5gLRjfk8Z5GD2PTn2qa5cy24jjYrj+E0gOZ8bW0sGiLPYSOrWzjzMcgKevP1xXKaD4k1SLVbWG4vHNpOwUqwBXBOP512+qq40W/O0kmGUnuOQeK8+tdMnufCMmow43WVwWJHBCkLkj6HBqJblx2PTp40iUyAYI4O09apfbMuVaPAU/MWGOPYiotF1KTUtGhumTdIwKuQeNw4P+NWI7eCSNpH+Vs5bd0/H0rVbGbNARIoDcluix4OGJ/nVqK1kaUSu2GyAuBnA7/So7aRGBLcFDsRSMFj3OBT5PNdSrFtvoeAaTGPmuLOEAHM8ijlmxhj71SSGCdkeKAxgnqjFQTnrUi2auVd1LDH3AP51YmZ44UG0BNm5B7ent+NACTQOh8w3kiY6Lncp/A5qkz6mykXNzCAfulY/mA/8Ar0yedWlXex2lhkt/MVffJuXGcFjkH2POaNgMydLyScR+coj67Qm36HrzSype4MIuXBI52Y4HsO3FXSqKd7HhR8xzgHNRFyGZghPAHHp2P0ouFhgjuUjIF4G4wDJGOo6dMU4vdrEroIHG7aTkryfXrj86Yk0bybBnAyQSeoI9T1qUTLHHcRBc5Xcq4wG9qAFZI5FcS2rkqNwKuDjnrwRWdcPJAOGucDr+6L1oxABEmgYvA4zjuBUjgqykrlWG5W6YFF7Acpf6qPs+x7d5ckggxsuR7HPH05rn7C7ktNOudMghdYpz83OS2eCPbivSWjSTJ/T2qjc6Zb30ZSWFX469GH0NDswWhheEbhLKzltZIfLuE5VH/wCWgPcA9+K6N5IYgpkXD7dzNnKsPas3+wbVI4c+a3ktujO87s/X/D0q4IXWH5UWSEj54zwV+n+FJIbZdjnaFgVA82Zh8+Pug9h7VpfZhEN8recykYzwB+FFFNgiKe4YReYgCs7Mhx7GsO4uHt5GC887ck8n/wCtzRRTiJk10ixYIGflDKD2zSGRoQxLF49/3T1HOODRRQgLqttlW3YBkkBz68DNQktFtiLblZu4oopDI721SPcRzsB/HioY3a28u/iZiyBTskO5eaKKFsJllJvKu2gVEWONQwCjGSR3x1rTEQwFc7g547FfpRRSY0VJ12MzA/xBf1qL7zjsQDgjtRRQgYjncQMkZ44pxUNjHBHcUUUxH//Z\"></td>\n",
       "      <td>333.0</td>\n",
       "      <td>500.0</td>\n",
       "      <td><img src=\"data:image/jpeg;base64,/9j/4AAQSkZJRgABAQAAAQABAAD/2wBDAAgGBgcGBQgHBwcJCQgKDBQNDAsLDBkSEw8UHRofHh0aHBwgJC4nICIsIxwcKDcpLDAxNDQ0Hyc5PTgyPC4zNDL/2wBDAQkJCQwLDBgNDRgyIRwhMjIyMjIyMjIyMjIyMjIyMjIyMjIyMjIyMjIyMjIyMjIyMjIyMjIyMjIyMjIyMjIyMjL/wAARCAAxADEDASIAAhEBAxEB/8QAHwAAAQUBAQEBAQEAAAAAAAAAAAECAwQFBgcICQoL/8QAtRAAAgEDAwIEAwUFBAQAAAF9AQIDAAQRBRIhMUEGE1FhByJxFDKBkaEII0KxwRVS0fAkM2JyggkKFhcYGRolJicoKSo0NTY3ODk6Q0RFRkdISUpTVFVWV1hZWmNkZWZnaGlqc3R1dnd4eXqDhIWGh4iJipKTlJWWl5iZmqKjpKWmp6ipqrKztLW2t7i5usLDxMXGx8jJytLT1NXW19jZ2uHi4+Tl5ufo6erx8vP09fb3+Pn6/8QAHwEAAwEBAQEBAQEBAQAAAAAAAAECAwQFBgcICQoL/8QAtREAAgECBAQDBAcFBAQAAQJ3AAECAxEEBSExBhJBUQdhcRMiMoEIFEKRobHBCSMzUvAVYnLRChYkNOEl8RcYGRomJygpKjU2Nzg5OkNERUZHSElKU1RVVldYWVpjZGVmZ2hpanN0dXZ3eHl6goOEhYaHiImKkpOUlZaXmJmaoqOkpaanqKmqsrO0tba3uLm6wsPExcbHyMnK0tPU1dbX2Nna4uPk5ebn6Onq8vP09fb3+Pn6/9oADAMBAAIRAxEAPwDTNqjgIkT4DbxtJJ3euTx+FAguFjRWkjjZeQzAdv8AZ6fl+lQySxpGTPNK4XG5txP1OO1OlBEQSCTBPG4ZB2kjv61uZAYDCJHkIcDLeYzYYnr9PX/GuS8F6zqWpX9zNqEMBjEWYiqZCEtkjryR/Kuc8W+Krm81K7tLG4aC0VvKYx5DSkcHk8hc5GBjPU1i6Tqt9pOJ7S5cYwGjPKuAx+Uj0/lmmoyewaW1PZgRHGWXmMs2NgC845z+Q/LFLMWfy1bEaxHKsTuI9sDGaigk+0QQTQgtDLGsi5cHaCAccDmrBEe0csQRyNuD+tIQz7RP/wA/A/78/wD16KXyx/zxb/vr/wCvRQA150C/KTGQP4uP5f1pkSss6PBKUk65VflYjoMd/wAvyqR45Ln5XRXPPz5HHPuOlMm8i3bKzu2wZd2UcY56Y9qYHhdzBcbUvJI2Ecruu8jgyA5YfUbh+dKpDWrIgbIQdvTk/wBa6vxhpdvplvpyQB0WWaWUoxztLBMge3QVjaTY3B1+2tS7xySSR7Wj6qHAYEe+DmkpyV/MqyZ6Z4WkaTwpYTGSQcFAwYEABiB19AK2Jf3cRUIJgGKmXlf0/r0rJ0ayXTNGtbO3laYQxfNIRt5zzwD6mriXLLIQUc7X5EZyxLD/ACPWnvqT5Em1P+fQ/kf8aKk33P8Az5f+OtRSAi89BtEvydCrE5yOuRjJ/l+tR3fkMhKkXEUhBYc4A7jjnBxj/gVSWcttEjE2kocqDIfJJZOnUDPGe/f9KjurhFKyCGUHYODCxPOT2yc9AR2wQaYHBeM4rq88Q2WlxoyuI1KRkYw8jY/kBzx06VPf276f8TLXyHG1vswGDnAKBMZ+inp/StWHV9ObxRi4tiLkRr5Es0W5wy7jgIRuxg8YqR7m3PinTnn0xt7xHyZWUrh1YsCMj5uuOfw5qWikzpF3rGY+cgn/AFfHGcjI/Go5jONqIu7n5iAD+Gf1pxIVpN3mpLJn93tIbgfnjr9e1K4EpwrqgbhWK4X8O5Prx9TVIki8iX+4f++6Kn/sub/n4b/wEH+NFO4rFrTf+QRD/u/0rOm/4+D9P6GiipW7GVJP+Qg/+6Ku6Z9x/wDrkn86KKrowZGP+Qi//X0P6U64/wCQ9F/14N/M0UUCHUUUVkUf/9k=\"></td>\n",
       "      <td>1.0</td>\n",
       "      <td>1.0</td>\n",
       "      <td>LambdaCell(fn=Compose(\n",
       "    Resize(size=256, interpolation=bilinear)\n",
       "    CenterCrop(size=(224, 224))\n",
       "    ToTensor()\n",
       "    Normalize(mean=[0.485, 0.456, 0.406], std=[0.229, 0.224, 0.225])\n",
       "))</td>\n",
       "      <td>3338164.0</td>\n",
       "      <td>test</td>\n",
       "      <td>torch.Tensor(shape=torch.Size([2]))</td>\n",
       "      <td>tensor(0.9994)</td>\n",
       "    </tr>\n",
       "    <tr>\n",
       "      <th>22</th>\n",
       "      <td>2345533.0</td>\n",
       "      <td>166.0</td>\n",
       "      <td>woman</td>\n",
       "      <td>907222.0</td>\n",
       "      <td>96.0</td>\n",
       "      <td>215.0</td>\n",
       "      <td>135.0</td>\n",
       "      <td>426490</td>\n",
       "      <td><img src=\"data:image/jpeg;base64,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\"></td>\n",
       "      <td>333.0</td>\n",
       "      <td>500.0</td>\n",
       "      <td><img src=\"data:image/jpeg;base64,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\"></td>\n",
       "      <td>1.0</td>\n",
       "      <td>1.0</td>\n",
       "      <td>LambdaCell(fn=Compose(\n",
       "    Resize(size=256, interpolation=bilinear)\n",
       "    CenterCrop(size=(224, 224))\n",
       "    ToTensor()\n",
       "    Normalize(mean=[0.485, 0.456, 0.406], std=[0.229, 0.224, 0.225])\n",
       "))</td>\n",
       "      <td>907222.0</td>\n",
       "      <td>test</td>\n",
       "      <td>torch.Tensor(shape=torch.Size([2]))</td>\n",
       "      <td>tensor(0.6614)</td>\n",
       "    </tr>\n",
       "    <tr>\n",
       "      <th>23</th>\n",
       "      <td>2406636.0</td>\n",
       "      <td>15.0</td>\n",
       "      <td>skier</td>\n",
       "      <td>1100936.0</td>\n",
       "      <td>7.0</td>\n",
       "      <td>239.0</td>\n",
       "      <td>257.0</td>\n",
       "      <td>1396347</td>\n",
       "      <td><img src=\"data:image/jpeg;base64,/9j/4AAQSkZJRgABAQAAAQABAAD/2wBDAAgGBgcGBQgHBwcJCQgKDBQNDAsLDBkSEw8UHRofHh0aHBwgJC4nICIsIxwcKDcpLDAxNDQ0Hyc5PTgyPC4zNDL/2wBDAQkJCQwLDBgNDRgyIRwhMjIyMjIyMjIyMjIyMjIyMjIyMjIyMjIyMjIyMjIyMjIyMjIyMjIyMjIyMjIyMjIyMjL/wAARCABgAIADASIAAhEBAxEB/8QAHwAAAQUBAQEBAQEAAAAAAAAAAAECAwQFBgcICQoL/8QAtRAAAgEDAwIEAwUFBAQAAAF9AQIDAAQRBRIhMUEGE1FhByJxFDKBkaEII0KxwRVS0fAkM2JyggkKFhcYGRolJicoKSo0NTY3ODk6Q0RFRkdISUpTVFVWV1hZWmNkZWZnaGlqc3R1dnd4eXqDhIWGh4iJipKTlJWWl5iZmqKjpKWmp6ipqrKztLW2t7i5usLDxMXGx8jJytLT1NXW19jZ2uHi4+Tl5ufo6erx8vP09fb3+Pn6/8QAHwEAAwEBAQEBAQEBAQAAAAAAAAECAwQFBgcICQoL/8QAtREAAgECBAQDBAcFBAQAAQJ3AAECAxEEBSExBhJBUQdhcRMiMoEIFEKRobHBCSMzUvAVYnLRChYkNOEl8RcYGRomJygpKjU2Nzg5OkNERUZHSElKU1RVVldYWVpjZGVmZ2hpanN0dXZ3eHl6goOEhYaHiImKkpOUlZaXmJmaoqOkpaanqKmqsrO0tba3uLm6wsPExcbHyMnK0tPU1dbX2Nna4uPk5ebn6Onq8vP09fb3+Pn6/9oADAMBAAIRAxEAPwDUSHFSiMelSBaeFqjJIiCU4JUoSnhKdylEhCU4JUwT2pwSi5SRCEp4SpQlOCVLLRDspwSptlPWPvjis27FpFfyjxxUnlpgcHNasKw+WNpye+aingIb5VryquPalytNHbDDq173M8QFjgVDLAU69a0cMj8rROgcZ24+tcc8XJyv0N40klYxHiGeaqywkcjFassXeqkicYreFXmIlCxKFp4WljKyIrowZWGQwOQRUoWvc5jybEYSnhakC08JT5h2IwtOCZ7VIEqRVxSuBEEpwSpsEjmnKtK7K0GJCWHAq1HZ7h1NMValUuOjH865q0ZyXuuxvTcVuh/2QKRhTn1qXYEHz4CiovOlxgsTULKT3Nee8FUqP95I6PbxS91E8qxqwZmBB6VWldWGFXI9aUICMHOfWrNuAgCFQc96znhKdGN3qyo1pSZkyRA9AaqSRDOMc1sXqmPkdRWTMzuSc4rCE4v4TazseWwXGqaA6y6TPI9qT89q48xR7qM8fnXR6T8RdMvbj7PdRvbS79oYj5D/AIfSsSMEcdKpajoEOqAlSIbj++o4P1Hevomjx0z1Ww1Cy1KIyWVzHOoOCUPQ+9XlWvB4dI1jTNViS1kltZynE6yEo5HPUdM+hrvNG8cXlgq2/iS2YDcFF5EAV/4Fil0uh7OzPQAlOCU2zuba9gWe1njmibkPG2QaupErRlhImR/Dnmk6iW4+VsgCU8JUgUA4yM1IqAjI5FHOg5WRqlSCOpUjyMggj2NTrDkdKzc09i0mip5dNMdXfJPpTDFU8wyKMRKvzfe6dKefKkAAOMdO1NaOo2Suaph4zd7s1jUa6CzQiQc4P41nTWceSBzVzJU560x33E/KK5HgmpaM2WI0PIQyrjgNzz7CpPvQbo0YOVyAex96jUD0qxGMete9Y81HHve+JNMkl82LzwyhEB5AwPvAVr6Prd7MFhu7Bw8jtn5DtP4V0C5PvUiIgYMI1DDuBRYpGe7PpqSXdlCbW4z1icqpPuvQiuUm13XvtxW4uJ1lZhzuOBnpiu4vIZbmIIMBc8gjrWQdDEt5IzoyR7VA+bcCec/zFRKCe6KUmtmYY8Z65ptyYEvmlWJiBvGQeffmtuz+K1/FjzbWJjnnYxXilTwppj26tPtWSQ8H7vJ7Cs268BMTm0u12k9H9Kl0INaoftaieh2elfF+2E4W503EZAyUbnPeuxsfil4Yu22O0tvj+Jhwa8Q/4Q3WLaQSQPGzLyCr4INZl3o+q2KF57aRRnqOR+YrB4RX91tFe2v8SPotviJ4WEjIdQ2/7RQ4qxF4t8O3C5j1W3PGeTivmCQ3Cn51fPuKW5njIja1SWP5Qrhnzlu+OnFHsGtLh7RPU+pP7b0uTGy+gbIyMOOlKt5bTf6qeN/91ga+UTdTjIDuPxp8ep3UTB0uJVYfxByDVewl3J9oux9VtionIr5ytfHviK0XYmpSsvH3zu6emavP8UfEZUqtxGpxjIQZ+tS6VQfOjokqZT71URvepN5Fd1jC5dQ+9TKT6/rWbvbrmpElb1osNM01ZvWnBm9qzxMT1OKf5pHeixXMST2QuLgTOx4AAA7YOc/rTLeG8t9yht6mVcZx8sYUDH6frSrOe/502e7WCF5WkAUA8/8A1qLBc0Qxx92l7cqawNDlnWydriQu0kzuMnOBnpn8K1RcepNJoaYstnaSndJbxs3rtGazp/DulTklrfBP904rQM3PWkMuaVh6GDN4M0l87DcJ9Hz/ADFZdx4FhyTDfOo9HQH/AArrzJTC4pEux59/wiFw7Mkd3FvViArqVzjvnms678O6pan5rYyL/ejO7/69emvtPYflUTBaBFJWqQNVYNTw1XcknVuKXd3qEMKNw/CncCwJOxpwlxVbd75pRJ60XGWvOxSGQN1qru96N1AFuPYgwgC57AYqTzDVAPg04Te9Idy753rSebVXzfek3+9IC2ZPeml/b8qrb6TfikFycyUheofMB600uPWkxH//2Q==\"></td>\n",
       "      <td>375.0</td>\n",
       "      <td>500.0</td>\n",
       "      <td><img src=\"data:image/jpeg;base64,/9j/4AAQSkZJRgABAQAAAQABAAD/2wBDAAgGBgcGBQgHBwcJCQgKDBQNDAsLDBkSEw8UHRofHh0aHBwgJC4nICIsIxwcKDcpLDAxNDQ0Hyc5PTgyPC4zNDL/2wBDAQkJCQwLDBgNDRgyIRwhMjIyMjIyMjIyMjIyMjIyMjIyMjIyMjIyMjIyMjIyMjIyMjIyMjIyMjIyMjIyMjIyMjL/wAARCAAPAA8DASIAAhEBAxEB/8QAHwAAAQUBAQEBAQEAAAAAAAAAAAECAwQFBgcICQoL/8QAtRAAAgEDAwIEAwUFBAQAAAF9AQIDAAQRBRIhMUEGE1FhByJxFDKBkaEII0KxwRVS0fAkM2JyggkKFhcYGRolJicoKSo0NTY3ODk6Q0RFRkdISUpTVFVWV1hZWmNkZWZnaGlqc3R1dnd4eXqDhIWGh4iJipKTlJWWl5iZmqKjpKWmp6ipqrKztLW2t7i5usLDxMXGx8jJytLT1NXW19jZ2uHi4+Tl5ufo6erx8vP09fb3+Pn6/8QAHwEAAwEBAQEBAQEBAQAAAAAAAAECAwQFBgcICQoL/8QAtREAAgECBAQDBAcFBAQAAQJ3AAECAxEEBSExBhJBUQdhcRMiMoEIFEKRobHBCSMzUvAVYnLRChYkNOEl8RcYGRomJygpKjU2Nzg5OkNERUZHSElKU1RVVldYWVpjZGVmZ2hpanN0dXZ3eHl6goOEhYaHiImKkpOUlZaXmJmaoqOkpaanqKmqsrO0tba3uLm6wsPExcbHyMnK0tPU1dbX2Nna4uPk5ebn6Onq8vP09fb3+Pn6/9oADAMBAAIRAxEAPwCnruovY6TLLBkSEFQ3XZx97Hc+g9SO2an0i4ludLt3lDCXYFkDn5tw4yfcjB/GsbxHI7aZJbJvaVyo4xkcg5ySPSte0uIyBHGzEAD7w6gAc0rF82tj/9k=\"></td>\n",
       "      <td>1.0</td>\n",
       "      <td>1.0</td>\n",
       "      <td>LambdaCell(fn=Compose(\n",
       "    Resize(size=256, interpolation=bilinear)\n",
       "    CenterCrop(size=(224, 224))\n",
       "    ToTensor()\n",
       "    Normalize(mean=[0.485, 0.456, 0.406], std=[0.229, 0.224, 0.225])\n",
       "))</td>\n",
       "      <td>1100936.0</td>\n",
       "      <td>test</td>\n",
       "      <td>torch.Tensor(shape=torch.Size([2]))</td>\n",
       "      <td>tensor(0.9888)</td>\n",
       "    </tr>\n",
       "    <tr>\n",
       "      <th>24</th>\n",
       "      <td>2316778.0</td>\n",
       "      <td>11.0</td>\n",
       "      <td>skier</td>\n",
       "      <td>3477500.0</td>\n",
       "      <td>10.0</td>\n",
       "      <td>319.0</td>\n",
       "      <td>298.0</td>\n",
       "      <td>938799</td>\n",
       "      <td><img src=\"data:image/jpeg;base64,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\"></td>\n",
       "      <td>500.0</td>\n",
       "      <td>397.0</td>\n",
       "      <td><img src=\"data:image/jpeg;base64,/9j/4AAQSkZJRgABAQAAAQABAAD/2wBDAAgGBgcGBQgHBwcJCQgKDBQNDAsLDBkSEw8UHRofHh0aHBwgJC4nICIsIxwcKDcpLDAxNDQ0Hyc5PTgyPC4zNDL/2wBDAQkJCQwLDBgNDRgyIRwhMjIyMjIyMjIyMjIyMjIyMjIyMjIyMjIyMjIyMjIyMjIyMjIyMjIyMjIyMjIyMjIyMjL/wAARCAALAAwDASIAAhEBAxEB/8QAHwAAAQUBAQEBAQEAAAAAAAAAAAECAwQFBgcICQoL/8QAtRAAAgEDAwIEAwUFBAQAAAF9AQIDAAQRBRIhMUEGE1FhByJxFDKBkaEII0KxwRVS0fAkM2JyggkKFhcYGRolJicoKSo0NTY3ODk6Q0RFRkdISUpTVFVWV1hZWmNkZWZnaGlqc3R1dnd4eXqDhIWGh4iJipKTlJWWl5iZmqKjpKWmp6ipqrKztLW2t7i5usLDxMXGx8jJytLT1NXW19jZ2uHi4+Tl5ufo6erx8vP09fb3+Pn6/8QAHwEAAwEBAQEBAQEBAQAAAAAAAAECAwQFBgcICQoL/8QAtREAAgECBAQDBAcFBAQAAQJ3AAECAxEEBSExBhJBUQdhcRMiMoEIFEKRobHBCSMzUvAVYnLRChYkNOEl8RcYGRomJygpKjU2Nzg5OkNERUZHSElKU1RVVldYWVpjZGVmZ2hpanN0dXZ3eHl6goOEhYaHiImKkpOUlZaXmJmaoqOkpaanqKmqsrO0tba3uLm6wsPExcbHyMnK0tPU1dbX2Nna4uPk5ebn6Onq8vP09fb3+Pn6/9oADAMBAAIRAxEAPwD17xDfahpyx3NgoaFFZp1IBAQdSPfmr1tqEF1bpNECVYAkPwwPoR61avIo57eSORQyMhyD3rz+aaS7laWdy79M9O3tU2K6H//Z\"></td>\n",
       "      <td>1.0</td>\n",
       "      <td>1.0</td>\n",
       "      <td>LambdaCell(fn=Compose(\n",
       "    Resize(size=256, interpolation=bilinear)\n",
       "    CenterCrop(size=(224, 224))\n",
       "    ToTensor()\n",
       "    Normalize(mean=[0.485, 0.456, 0.406], std=[0.229, 0.224, 0.225])\n",
       "))</td>\n",
       "      <td>3477500.0</td>\n",
       "      <td>test</td>\n",
       "      <td>torch.Tensor(shape=torch.Size([2]))</td>\n",
       "      <td>tensor(0.9503)</td>\n",
       "    </tr>\n",
       "  </tbody>\n",
       "</table>"
      ],
      "text/plain": [
       "DataPanel(nrows: 25, ncols: 19)"
      ]
     },
     "execution_count": 22,
     "metadata": {},
     "output_type": "execute_result"
    }
   ],
   "source": [
    "score_dp.lz[score_dp[\"slice\"] == 1]"
   ]
  },
  {
   "cell_type": "code",
   "execution_count": null,
   "id": "cec2bf92-ff1d-46cc-ac1d-5efc587f7fcd",
   "metadata": {},
   "outputs": [],
   "source": []
  }
 ],
 "metadata": {
  "kernelspec": {
   "display_name": "Python 3",
   "language": "python",
   "name": "python3"
  },
  "language_info": {
   "codemirror_mode": {
    "name": "ipython",
    "version": 3
   },
   "file_extension": ".py",
   "mimetype": "text/x-python",
   "name": "python",
   "nbconvert_exporter": "python",
   "pygments_lexer": "ipython3",
   "version": "3.8.10"
  }
 },
 "nbformat": 4,
 "nbformat_minor": 5
}
