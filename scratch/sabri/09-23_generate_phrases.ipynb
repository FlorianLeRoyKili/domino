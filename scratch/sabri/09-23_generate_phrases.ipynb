{
 "cells": [
  {
   "cell_type": "code",
   "execution_count": 1,
   "source": [
    "%load_ext autoreload\n",
    "%autoreload 2\n",
    "\n",
    "from domino.slices import collect_settings\n",
    "from domino.slices.celeba import CelebASliceBuilder\n",
    "from domino.evaluate import run_sdm, score_sdms\n",
    "from domino.train import train_settings\n",
    "import numpy as np\n",
    "import terra\n",
    "from domino.emb.clip import generate_phrases, CELEBA_PHRASE_TEMPLATES\n"
   ],
   "outputs": [
    {
     "output_type": "stream",
     "name": "stderr",
     "text": [
      "/home/sabri/code/meerkat/meerkat/nn/__init__.py:7: ExperimentalWarning: The `meerkat.nn` module is experimental and has limited test coverage. Proceed with caution.\n",
      "  warnings.warn(\n"
     ]
    }
   ],
   "metadata": {}
  },
  {
   "cell_type": "code",
   "execution_count": 19,
   "source": [
    "dp =generate_phrases.out().load()"
   ],
   "outputs": [],
   "metadata": {}
  },
  {
   "cell_type": "code",
   "execution_count": 20,
   "source": [
    "dp.lz[dp[\"loss\"].argsort()[:100]]"
   ],
   "outputs": [
    {
     "output_type": "execute_result",
     "data": {
      "text/html": [
       "<table border=\"1\" class=\"dataframe\">\n",
       "  <thead>\n",
       "    <tr style=\"text-align: right;\">\n",
       "      <th></th>\n",
       "      <th>loss (NumpyArrayColumn)</th>\n",
       "      <th>output_phrase (PandasSeriesColumn)</th>\n",
       "      <th>index (PandasSeriesColumn)</th>\n",
       "    </tr>\n",
       "  </thead>\n",
       "  <tbody>\n",
       "    <tr>\n",
       "      <th>0</th>\n",
       "      <td>17.355467</td>\n",
       "      <td>a photo of a person holding a bouquet of flowers.</td>\n",
       "      <td>14839</td>\n",
       "    </tr>\n",
       "    <tr>\n",
       "      <th>1</th>\n",
       "      <td>18.182400</td>\n",
       "      <td>a photo of a person with rheumatoid arthritis.</td>\n",
       "      <td>2549</td>\n",
       "    </tr>\n",
       "    <tr>\n",
       "      <th>2</th>\n",
       "      <td>18.708553</td>\n",
       "      <td>a photo of a person with a congenital heart defect.</td>\n",
       "      <td>22890</td>\n",
       "    </tr>\n",
       "    <tr>\n",
       "      <th>3</th>\n",
       "      <td>18.810265</td>\n",
       "      <td>a photo of a person with an umbilical cord.</td>\n",
       "      <td>11026</td>\n",
       "    </tr>\n",
       "    <tr>\n",
       "      <th>4</th>\n",
       "      <td>18.846235</td>\n",
       "      <td>a photo of a person wearing a bulletproof vest.</td>\n",
       "      <td>12324</td>\n",
       "    </tr>\n",
       "    <tr>\n",
       "      <th>...</th>\n",
       "      <td>...</td>\n",
       "      <td>...</td>\n",
       "      <td>...</td>\n",
       "    </tr>\n",
       "    <tr>\n",
       "      <th>95</th>\n",
       "      <td>25.594769</td>\n",
       "      <td>a photo of a person with a tuft of hair.</td>\n",
       "      <td>19320</td>\n",
       "    </tr>\n",
       "    <tr>\n",
       "      <th>96</th>\n",
       "      <td>25.610512</td>\n",
       "      <td>a photo of a person holding a goblet of water.</td>\n",
       "      <td>40927</td>\n",
       "    </tr>\n",
       "    <tr>\n",
       "      <th>97</th>\n",
       "      <td>25.741375</td>\n",
       "      <td>a photo of a person in a kimono.</td>\n",
       "      <td>15473</td>\n",
       "    </tr>\n",
       "    <tr>\n",
       "      <th>98</th>\n",
       "      <td>25.749462</td>\n",
       "      <td>a photo of a person wearing a blouse and skirt.</td>\n",
       "      <td>40959</td>\n",
       "    </tr>\n",
       "    <tr>\n",
       "      <th>99</th>\n",
       "      <td>25.788725</td>\n",
       "      <td>a photo of a person in a dilapidated building.</td>\n",
       "      <td>14708</td>\n",
       "    </tr>\n",
       "  </tbody>\n",
       "</table>"
      ],
      "text/plain": [
       "DataPanel(nrows: 100, ncols: 3)"
      ]
     },
     "metadata": {},
     "execution_count": 20
    }
   ],
   "metadata": {}
  },
  {
   "cell_type": "code",
   "execution_count": 16,
   "source": [
    "from domino.emb.clip import get_wiki_words\n",
    "\n",
    "dp = get_wiki_words(top_k=25_001, eng_only=True)"
   ],
   "outputs": [
    {
     "output_type": "stream",
     "name": "stdout",
     "text": [
      "task: get_wiki_words, run_id=16831\n"
     ]
    },
    {
     "output_type": "stream",
     "name": "stderr",
     "text": [
      "[nltk_data] Downloading package words to /root/nltk_data...\n",
      "[nltk_data]   Package words is already up-to-date!\n"
     ]
    }
   ],
   "metadata": {}
  },
  {
   "cell_type": "code",
   "execution_count": 10,
   "source": [
    "from domino.emb.clip import generate_phrases, CELEBA_PHRASE_TEMPLATES\n",
    "phrase_dp = generate_phrases(dp.load()[:10], templates=CELEBA_PHRASE_TEMPLATES, num_candidates=5000)"
   ],
   "outputs": [
    {
     "output_type": "stream",
     "name": "stdout",
     "text": [
      "task: generate_phrases, run_id=16829\n"
     ]
    },
    {
     "output_type": "stream",
     "name": "stderr",
     "text": [
      "Some weights of the model checkpoint at bert-base-uncased were not used when initializing BertForMaskedLM: ['cls.seq_relationship.weight', 'cls.seq_relationship.bias']\n",
      "- This IS expected if you are initializing BertForMaskedLM from the checkpoint of a model trained on another task or with another architecture (e.g. initializing a BertForSequenceClassification model from a BertForPreTraining model).\n",
      "- This IS NOT expected if you are initializing BertForMaskedLM from the checkpoint of a model that you expect to be exactly identical (initializing a BertForSequenceClassification model from a BertForSequenceClassification model).\n"
     ]
    },
    {
     "output_type": "display_data",
     "data": {
      "application/vnd.jupyter.widget-view+json": {
       "version_major": 2,
       "version_minor": 0,
       "model_id": "6628254d84e44ef8a7427e46a44d954b"
      },
      "text/plain": [
       "HBox(children=(FloatProgress(value=0.0, max=1.0), HTML(value='')))"
      ]
     },
     "metadata": {}
    },
    {
     "output_type": "stream",
     "name": "stdout",
     "text": [
      "\n"
     ]
    },
    {
     "output_type": "display_data",
     "data": {
      "application/vnd.jupyter.widget-view+json": {
       "version_major": 2,
       "version_minor": 0,
       "model_id": "de8a4a52a87d4d51b27013160c542dc3"
      },
      "text/plain": [
       "HBox(children=(FloatProgress(value=0.0, max=480.0), HTML(value='')))"
      ]
     },
     "metadata": {}
    },
    {
     "output_type": "stream",
     "name": "stdout",
     "text": [
      "\n"
     ]
    }
   ],
   "metadata": {}
  },
  {
   "cell_type": "code",
   "execution_count": 23,
   "source": [
    "collect_settings.out().load()"
   ],
   "outputs": [
    {
     "output_type": "execute_result",
     "data": {
      "text/html": [
       "<table border=\"1\" class=\"dataframe\">\n",
       "  <thead>\n",
       "    <tr style=\"text-align: right;\">\n",
       "      <th></th>\n",
       "      <th>alpha (NumpyArrayColumn)</th>\n",
       "      <th>build_setting_kwargs (ListColumn)</th>\n",
       "      <th>dataset (PandasSeriesColumn)</th>\n",
       "      <th>slice_category (PandasSeriesColumn)</th>\n",
       "      <th>slice_names (ListColumn)</th>\n",
       "      <th>target_name (PandasSeriesColumn)</th>\n",
       "      <th>index (PandasSeriesColumn)</th>\n",
       "      <th>setting_id (PandasSeriesColumn)</th>\n",
       "    </tr>\n",
       "  </thead>\n",
       "  <tbody>\n",
       "    <tr>\n",
       "      <th>0</th>\n",
       "      <td>0.0</td>\n",
       "      <td>{'n': 30000, 'correlate': 'blond_hair', 'target': 'bangs', 'corr': 0.0}</td>\n",
       "      <td>celeba</td>\n",
       "      <td>correlation</td>\n",
       "      <td>['bangs=0_blond_hair=1', 'bangs=1_blond_hair=0']</td>\n",
       "      <td>bangs</td>\n",
       "      <td>0</td>\n",
       "      <td>ff44e2cc-9087-4dec-8093-0d4e46f5fa6f</td>\n",
       "    </tr>\n",
       "    <tr>\n",
       "      <th>1</th>\n",
       "      <td>0.2</td>\n",
       "      <td>{'n': 30000, 'correlate': 'blond_hair', 'target': 'bangs', 'corr': 0.2}</td>\n",
       "      <td>celeba</td>\n",
       "      <td>correlation</td>\n",
       "      <td>['bangs=0_blond_hair=1', 'bangs=1_blond_hair=0']</td>\n",
       "      <td>bangs</td>\n",
       "      <td>1</td>\n",
       "      <td>c48ae98b-77ae-426c-a240-4a84a7808975</td>\n",
       "    </tr>\n",
       "    <tr>\n",
       "      <th>2</th>\n",
       "      <td>0.4</td>\n",
       "      <td>{'n': 30000, 'correlate': 'blond_hair', 'target': 'bangs', 'corr': 0.4}</td>\n",
       "      <td>celeba</td>\n",
       "      <td>correlation</td>\n",
       "      <td>['bangs=0_blond_hair=1', 'bangs=1_blond_hair=0']</td>\n",
       "      <td>bangs</td>\n",
       "      <td>2</td>\n",
       "      <td>6131f7d1-64d4-408a-a462-c4f725800af6</td>\n",
       "    </tr>\n",
       "    <tr>\n",
       "      <th>3</th>\n",
       "      <td>0.6</td>\n",
       "      <td>{'n': 30000, 'correlate': 'blond_hair', 'target': 'bangs', 'corr': 0.6000000000000001}</td>\n",
       "      <td>celeba</td>\n",
       "      <td>correlation</td>\n",
       "      <td>['bangs=0_blond_hair=1', 'bangs=1_blond_hair=0']</td>\n",
       "      <td>bangs</td>\n",
       "      <td>3</td>\n",
       "      <td>631eadef-9fcd-4328-b1bc-b6ce2fff65c4</td>\n",
       "    </tr>\n",
       "    <tr>\n",
       "      <th>4</th>\n",
       "      <td>0.8</td>\n",
       "      <td>{'n': 30000, 'correlate': 'blond_hair', 'target': 'bangs', 'corr': 0.8}</td>\n",
       "      <td>celeba</td>\n",
       "      <td>correlation</td>\n",
       "      <td>['bangs=0_blond_hair=1', 'bangs=1_blond_hair=0']</td>\n",
       "      <td>bangs</td>\n",
       "      <td>4</td>\n",
       "      <td>4800699b-9ff2-442d-a3f8-221b71842c17</td>\n",
       "    </tr>\n",
       "    <tr>\n",
       "      <th>...</th>\n",
       "      <td>...</td>\n",
       "      <td>...</td>\n",
       "      <td>...</td>\n",
       "      <td>...</td>\n",
       "      <td>...</td>\n",
       "      <td>...</td>\n",
       "      <td>...</td>\n",
       "      <td>...</td>\n",
       "    </tr>\n",
       "    <tr>\n",
       "      <th>175</th>\n",
       "      <td>0.0</td>\n",
       "      <td>{'n': 30000, 'correlate': 'no_beard', 'target': 'young', 'corr': 0.0}</td>\n",
       "      <td>celeba</td>\n",
       "      <td>correlation</td>\n",
       "      <td>['young=0_no_beard=1', 'young=1_no_beard=0']</td>\n",
       "      <td>young</td>\n",
       "      <td>175</td>\n",
       "      <td>9bf8fab2-26d1-452f-ac9b-f4311255b56d</td>\n",
       "    </tr>\n",
       "    <tr>\n",
       "      <th>176</th>\n",
       "      <td>0.2</td>\n",
       "      <td>{'n': 30000, 'correlate': 'no_beard', 'target': 'young', 'corr': 0.2}</td>\n",
       "      <td>celeba</td>\n",
       "      <td>correlation</td>\n",
       "      <td>['young=0_no_beard=1', 'young=1_no_beard=0']</td>\n",
       "      <td>young</td>\n",
       "      <td>176</td>\n",
       "      <td>6087f315-203e-434d-8732-91619b6dc89d</td>\n",
       "    </tr>\n",
       "    <tr>\n",
       "      <th>177</th>\n",
       "      <td>0.4</td>\n",
       "      <td>{'n': 30000, 'correlate': 'no_beard', 'target': 'young', 'corr': 0.4}</td>\n",
       "      <td>celeba</td>\n",
       "      <td>correlation</td>\n",
       "      <td>['young=0_no_beard=1', 'young=1_no_beard=0']</td>\n",
       "      <td>young</td>\n",
       "      <td>177</td>\n",
       "      <td>710acc10-9285-4753-9ece-bdc9a5f31ca3</td>\n",
       "    </tr>\n",
       "    <tr>\n",
       "      <th>178</th>\n",
       "      <td>0.6</td>\n",
       "      <td>{'n': 30000, 'correlate': 'no_beard', 'target': 'young', 'corr': 0.6000000000000001}</td>\n",
       "      <td>celeba</td>\n",
       "      <td>correlation</td>\n",
       "      <td>['young=0_no_beard=1', 'young=1_no_beard=0']</td>\n",
       "      <td>young</td>\n",
       "      <td>178</td>\n",
       "      <td>ddbd783e-5d9d-45e1-a257-566b3b9445b9</td>\n",
       "    </tr>\n",
       "    <tr>\n",
       "      <th>179</th>\n",
       "      <td>0.8</td>\n",
       "      <td>{'n': 30000, 'correlate': 'no_beard', 'target': 'young', 'corr': 0.8}</td>\n",
       "      <td>celeba</td>\n",
       "      <td>correlation</td>\n",
       "      <td>['young=0_no_beard=1', 'young=1_no_beard=0']</td>\n",
       "      <td>young</td>\n",
       "      <td>179</td>\n",
       "      <td>da56998f-3dfc-45f8-896e-341c3fa87c87</td>\n",
       "    </tr>\n",
       "  </tbody>\n",
       "</table>"
      ],
      "text/plain": [
       "DataPanel(nrows: 180, ncols: 8)"
      ]
     },
     "metadata": {},
     "execution_count": 23
    }
   ],
   "metadata": {}
  },
  {
   "cell_type": "code",
   "execution_count": 2,
   "source": [
    "from domino.emb.clip import get_wiki_words\n",
    "#dp = get_wiki_words(top_k=25_000, eng_only=True).load()\n",
    "word_dp = get_wiki_words.out().load()"
   ],
   "outputs": [],
   "metadata": {}
  },
  {
   "cell_type": "code",
   "execution_count": 52,
   "source": [
    "from domino.emb.clip import generate_phrases, CELEBA_PHRASE_TEMPLATES\n",
    "phrase_dp = generate_phrases(word_dp[:1000], templates=CELEBA_PHRASE_TEMPLATES, num_candidates=5000)"
   ],
   "outputs": [
    {
     "output_type": "stream",
     "name": "stderr",
     "text": [
      "Some weights of the model checkpoint at bert-base-uncased were not used when initializing BertForMaskedLM: ['cls.seq_relationship.weight', 'cls.seq_relationship.bias']\n",
      "- This IS expected if you are initializing BertForMaskedLM from the checkpoint of a model trained on another task or with another architecture (e.g. initializing a BertForSequenceClassification model from a BertForPreTraining model).\n",
      "- This IS NOT expected if you are initializing BertForMaskedLM from the checkpoint of a model that you expect to be exactly identical (initializing a BertForSequenceClassification model from a BertForSequenceClassification model).\n"
     ]
    },
    {
     "output_type": "display_data",
     "data": {
      "application/vnd.jupyter.widget-view+json": {
       "version_major": 2,
       "version_minor": 0,
       "model_id": "f6972fb4399047a380777747ee865c2e"
      },
      "text/plain": [
       "HBox(children=(FloatProgress(value=0.0, max=63.0), HTML(value='')))"
      ]
     },
     "metadata": {}
    },
    {
     "output_type": "stream",
     "name": "stdout",
     "text": [
      "\n"
     ]
    },
    {
     "output_type": "display_data",
     "data": {
      "application/vnd.jupyter.widget-view+json": {
       "version_major": 2,
       "version_minor": 0,
       "model_id": "125d749660a04e71ab63c04d8e0058ff"
      },
      "text/plain": [
       "HBox(children=(FloatProgress(value=0.0, max=5000.0), HTML(value='')))"
      ]
     },
     "metadata": {}
    },
    {
     "output_type": "stream",
     "name": "stdout",
     "text": [
      "\n"
     ]
    }
   ],
   "metadata": {}
  },
  {
   "cell_type": "code",
   "execution_count": 54,
   "source": [
    "phrase_dp.to_pandas().sort_values(\"loss\", ascending=True)[:10]"
   ],
   "outputs": [
    {
     "output_type": "execute_result",
     "data": {
      "text/html": [
       "<div>\n",
       "<style scoped>\n",
       "    .dataframe tbody tr th:only-of-type {\n",
       "        vertical-align: middle;\n",
       "    }\n",
       "\n",
       "    .dataframe tbody tr th {\n",
       "        vertical-align: top;\n",
       "    }\n",
       "\n",
       "    .dataframe thead th {\n",
       "        text-align: right;\n",
       "    }\n",
       "</style>\n",
       "<table border=\"1\" class=\"dataframe\">\n",
       "  <thead>\n",
       "    <tr style=\"text-align: right;\">\n",
       "      <th></th>\n",
       "      <th>loss</th>\n",
       "      <th>output_phrase</th>\n",
       "      <th>index</th>\n",
       "    </tr>\n",
       "  </thead>\n",
       "  <tbody>\n",
       "    <tr>\n",
       "      <th>2280</th>\n",
       "      <td>24.308901</td>\n",
       "      <td>a photo of a person with the same name.</td>\n",
       "      <td>2280</td>\n",
       "    </tr>\n",
       "    <tr>\n",
       "      <th>1398</th>\n",
       "      <td>24.415701</td>\n",
       "      <td>a photo of a person sitting next to him.</td>\n",
       "      <td>1398</td>\n",
       "    </tr>\n",
       "    <tr>\n",
       "      <th>1709</th>\n",
       "      <td>24.538908</td>\n",
       "      <td>a photo of a person standing next to him.</td>\n",
       "      <td>1709</td>\n",
       "    </tr>\n",
       "    <tr>\n",
       "      <th>1097</th>\n",
       "      <td>24.756279</td>\n",
       "      <td>a photo of a person wearing a baseball cap.</td>\n",
       "      <td>1097</td>\n",
       "    </tr>\n",
       "    <tr>\n",
       "      <th>731</th>\n",
       "      <td>25.882910</td>\n",
       "      <td>a photo of a person with a heart attack.</td>\n",
       "      <td>731</td>\n",
       "    </tr>\n",
       "    <tr>\n",
       "      <th>1039</th>\n",
       "      <td>26.439959</td>\n",
       "      <td>a photo of a person leaning against a wall.</td>\n",
       "      <td>1039</td>\n",
       "    </tr>\n",
       "    <tr>\n",
       "      <th>1434</th>\n",
       "      <td>26.695847</td>\n",
       "      <td>a photo of a person with a dead body.</td>\n",
       "      <td>1434</td>\n",
       "    </tr>\n",
       "    <tr>\n",
       "      <th>1906</th>\n",
       "      <td>26.843758</td>\n",
       "      <td>a photo of a person who is still alive.</td>\n",
       "      <td>1906</td>\n",
       "    </tr>\n",
       "    <tr>\n",
       "      <th>1070</th>\n",
       "      <td>28.207479</td>\n",
       "      <td>a photo of a person wearing a military uniform.</td>\n",
       "      <td>1070</td>\n",
       "    </tr>\n",
       "    <tr>\n",
       "      <th>272</th>\n",
       "      <td>28.332619</td>\n",
       "      <td>a photo of a person on the ground.</td>\n",
       "      <td>272</td>\n",
       "    </tr>\n",
       "  </tbody>\n",
       "</table>\n",
       "</div>"
      ],
      "text/plain": [
       "           loss                                    output_phrase index\n",
       "2280  24.308901          a photo of a person with the same name.  2280\n",
       "1398  24.415701         a photo of a person sitting next to him.  1398\n",
       "1709  24.538908        a photo of a person standing next to him.  1709\n",
       "1097  24.756279      a photo of a person wearing a baseball cap.  1097\n",
       "731   25.882910         a photo of a person with a heart attack.   731\n",
       "1039  26.439959      a photo of a person leaning against a wall.  1039\n",
       "1434  26.695847            a photo of a person with a dead body.  1434\n",
       "1906  26.843758          a photo of a person who is still alive.  1906\n",
       "1070  28.207479  a photo of a person wearing a military uniform.  1070\n",
       "272   28.332619               a photo of a person on the ground.   272"
      ]
     },
     "metadata": {},
     "execution_count": 54
    }
   ],
   "metadata": {}
  },
  {
   "cell_type": "code",
   "execution_count": 3,
   "source": [
    "word_dp = generate_phrases.out().load()"
   ],
   "outputs": [],
   "metadata": {}
  },
  {
   "cell_type": "code",
   "execution_count": 7,
   "source": [
    "dp = word_dp.to_pandas().sort_values(\"loss\")[:10_000]"
   ],
   "outputs": [],
   "metadata": {}
  },
  {
   "cell_type": "code",
   "execution_count": 23,
   "source": [
    "dp[dp[\"output_phrase\"].str.contains(\"necklace\")]"
   ],
   "outputs": [
    {
     "output_type": "execute_result",
     "data": {
      "text/html": [
       "<div>\n",
       "<style scoped>\n",
       "    .dataframe tbody tr th:only-of-type {\n",
       "        vertical-align: middle;\n",
       "    }\n",
       "\n",
       "    .dataframe tbody tr th {\n",
       "        vertical-align: top;\n",
       "    }\n",
       "\n",
       "    .dataframe thead th {\n",
       "        text-align: right;\n",
       "    }\n",
       "</style>\n",
       "<table border=\"1\" class=\"dataframe\">\n",
       "  <thead>\n",
       "    <tr style=\"text-align: right;\">\n",
       "      <th></th>\n",
       "      <th>loss</th>\n",
       "      <th>output_phrase</th>\n",
       "      <th>index</th>\n",
       "    </tr>\n",
       "  </thead>\n",
       "  <tbody>\n",
       "    <tr>\n",
       "      <th>16961</th>\n",
       "      <td>26.456167</td>\n",
       "      <td>a photo of a person wearing a necklaces.</td>\n",
       "      <td>16961</td>\n",
       "    </tr>\n",
       "    <tr>\n",
       "      <th>39252</th>\n",
       "      <td>28.030666</td>\n",
       "      <td>a photo of a person wearing a sapphire necklace.</td>\n",
       "      <td>39252</td>\n",
       "    </tr>\n",
       "    <tr>\n",
       "      <th>49988</th>\n",
       "      <td>31.198801</td>\n",
       "      <td>a photo of a person with a necklaces.</td>\n",
       "      <td>49988</td>\n",
       "    </tr>\n",
       "    <tr>\n",
       "      <th>12815</th>\n",
       "      <td>37.864956</td>\n",
       "      <td>a photo of a person wearing necklaces.</td>\n",
       "      <td>12815</td>\n",
       "    </tr>\n",
       "    <tr>\n",
       "      <th>5676</th>\n",
       "      <td>39.922859</td>\n",
       "      <td>a photo of a person wearing a necklace.</td>\n",
       "      <td>5676</td>\n",
       "    </tr>\n",
       "    <tr>\n",
       "      <th>29685</th>\n",
       "      <td>40.586658</td>\n",
       "      <td>a photo of a person wearing a diamond necklace.</td>\n",
       "      <td>29685</td>\n",
       "    </tr>\n",
       "    <tr>\n",
       "      <th>19476</th>\n",
       "      <td>40.828266</td>\n",
       "      <td>a photo of a person wearing an emerald necklace.</td>\n",
       "      <td>19476</td>\n",
       "    </tr>\n",
       "    <tr>\n",
       "      <th>42287</th>\n",
       "      <td>41.489494</td>\n",
       "      <td>a photo of a person wearing a sapphire and nec...</td>\n",
       "      <td>42287</td>\n",
       "    </tr>\n",
       "    <tr>\n",
       "      <th>28598</th>\n",
       "      <td>42.364773</td>\n",
       "      <td>a photo of a person wearing an emerald green n...</td>\n",
       "      <td>28598</td>\n",
       "    </tr>\n",
       "    <tr>\n",
       "      <th>48166</th>\n",
       "      <td>43.971405</td>\n",
       "      <td>a photo of a person wearing a jeweled necklace.</td>\n",
       "      <td>48166</td>\n",
       "    </tr>\n",
       "    <tr>\n",
       "      <th>41944</th>\n",
       "      <td>46.180424</td>\n",
       "      <td>a photo of a person with a diamond necklace.</td>\n",
       "      <td>41944</td>\n",
       "    </tr>\n",
       "    <tr>\n",
       "      <th>31208</th>\n",
       "      <td>47.692574</td>\n",
       "      <td>a photo of a person with necklaces.</td>\n",
       "      <td>31208</td>\n",
       "    </tr>\n",
       "    <tr>\n",
       "      <th>46608</th>\n",
       "      <td>48.698524</td>\n",
       "      <td>a photo of a person wearing a bracelet and nec...</td>\n",
       "      <td>46608</td>\n",
       "    </tr>\n",
       "    <tr>\n",
       "      <th>44315</th>\n",
       "      <td>62.111370</td>\n",
       "      <td>a photo of a person wearing a brooch necklace.</td>\n",
       "      <td>44315</td>\n",
       "    </tr>\n",
       "    <tr>\n",
       "      <th>47480</th>\n",
       "      <td>66.255608</td>\n",
       "      <td>a photo of a person wearing a diamond and neck...</td>\n",
       "      <td>47480</td>\n",
       "    </tr>\n",
       "    <tr>\n",
       "      <th>27224</th>\n",
       "      <td>68.874260</td>\n",
       "      <td>a photo of a person wearing an emerald and nec...</td>\n",
       "      <td>27224</td>\n",
       "    </tr>\n",
       "    <tr>\n",
       "      <th>25285</th>\n",
       "      <td>69.799507</td>\n",
       "      <td>a photo of a person in a necklace.</td>\n",
       "      <td>25285</td>\n",
       "    </tr>\n",
       "  </tbody>\n",
       "</table>\n",
       "</div>"
      ],
      "text/plain": [
       "            loss                                      output_phrase  index\n",
       "16961  26.456167           a photo of a person wearing a necklaces.  16961\n",
       "39252  28.030666   a photo of a person wearing a sapphire necklace.  39252\n",
       "49988  31.198801              a photo of a person with a necklaces.  49988\n",
       "12815  37.864956             a photo of a person wearing necklaces.  12815\n",
       "5676   39.922859            a photo of a person wearing a necklace.   5676\n",
       "29685  40.586658    a photo of a person wearing a diamond necklace.  29685\n",
       "19476  40.828266   a photo of a person wearing an emerald necklace.  19476\n",
       "42287  41.489494  a photo of a person wearing a sapphire and nec...  42287\n",
       "28598  42.364773  a photo of a person wearing an emerald green n...  28598\n",
       "48166  43.971405    a photo of a person wearing a jeweled necklace.  48166\n",
       "41944  46.180424       a photo of a person with a diamond necklace.  41944\n",
       "31208  47.692574                a photo of a person with necklaces.  31208\n",
       "46608  48.698524  a photo of a person wearing a bracelet and nec...  46608\n",
       "44315  62.111370     a photo of a person wearing a brooch necklace.  44315\n",
       "47480  66.255608  a photo of a person wearing a diamond and neck...  47480\n",
       "27224  68.874260  a photo of a person wearing an emerald and nec...  27224\n",
       "25285  69.799507                 a photo of a person in a necklace.  25285"
      ]
     },
     "metadata": {},
     "execution_count": 23
    }
   ],
   "metadata": {}
  },
  {
   "cell_type": "code",
   "execution_count": 31,
   "source": [
    "import pandas as pd\n",
    "from transformers import GPT2LMHeadModel, GPT2Tokenizer\n",
    "import numpy as np \n",
    "from tqdm import tqdm\n",
    "\n",
    "gpt_model = GPT2LMHeadModel.from_pretrained('gpt2').to(0)\n",
    "gpt_tokenizer = GPT2Tokenizer.from_pretrained('gpt2')\n",
    "\n",
    "scores = []\n",
    "for text in tqdm(candidate_sents[\"output_phrase\"]):\n",
    "    tokens_tensor = gpt_tokenizer.encode( text, add_special_tokens=False, return_tensors=\"pt\").to(0) \n",
    "    loss=gpt_model(tokens_tensor, labels=tokens_tensor)[0]\n",
    "    scores.append( \n",
    "        {\"prob\": np.exp(loss.cpu().detach().numpy()), \"text\": text}       \n",
    "    )\n",
    "dp = pd.DataFrame(scores)"
   ],
   "outputs": [
    {
     "output_type": "stream",
     "name": "stderr",
     "text": [
      "100%|██████████| 1000/1000 [00:14<00:00, 68.04it/s]\n"
     ]
    }
   ],
   "metadata": {}
  },
  {
   "cell_type": "code",
   "execution_count": 32,
   "source": [
    "dp.sort_values(\"prob\")"
   ],
   "outputs": [
    {
     "output_type": "execute_result",
     "data": {
      "text/html": [
       "<div>\n",
       "<style scoped>\n",
       "    .dataframe tbody tr th:only-of-type {\n",
       "        vertical-align: middle;\n",
       "    }\n",
       "\n",
       "    .dataframe tbody tr th {\n",
       "        vertical-align: top;\n",
       "    }\n",
       "\n",
       "    .dataframe thead th {\n",
       "        text-align: right;\n",
       "    }\n",
       "</style>\n",
       "<table border=\"1\" class=\"dataframe\">\n",
       "  <thead>\n",
       "    <tr style=\"text-align: right;\">\n",
       "      <th></th>\n",
       "      <th>prob</th>\n",
       "      <th>text</th>\n",
       "    </tr>\n",
       "  </thead>\n",
       "  <tbody>\n",
       "    <tr>\n",
       "      <th>439</th>\n",
       "      <td>56.578079</td>\n",
       "      <td>a photo of a person in the sea.</td>\n",
       "    </tr>\n",
       "    <tr>\n",
       "      <th>68</th>\n",
       "      <td>58.034519</td>\n",
       "      <td>a photo of a person with a guitar.</td>\n",
       "    </tr>\n",
       "    <tr>\n",
       "      <th>648</th>\n",
       "      <td>61.561375</td>\n",
       "      <td>a photo of a person walking through traffic.</td>\n",
       "    </tr>\n",
       "    <tr>\n",
       "      <th>487</th>\n",
       "      <td>61.679295</td>\n",
       "      <td>a photo of a person in another picture.</td>\n",
       "    </tr>\n",
       "    <tr>\n",
       "      <th>504</th>\n",
       "      <td>67.137917</td>\n",
       "      <td>a photo of a person with a debt.</td>\n",
       "    </tr>\n",
       "    <tr>\n",
       "      <th>...</th>\n",
       "      <td>...</td>\n",
       "      <td>...</td>\n",
       "    </tr>\n",
       "    <tr>\n",
       "      <th>376</th>\n",
       "      <td>1872.045166</td>\n",
       "      <td>a photo of a person constitution paper.</td>\n",
       "    </tr>\n",
       "    <tr>\n",
       "      <th>936</th>\n",
       "      <td>1957.345947</td>\n",
       "      <td>a photo of a person ferryeded.</td>\n",
       "    </tr>\n",
       "    <tr>\n",
       "      <th>293</th>\n",
       "      <td>2780.082520</td>\n",
       "      <td>a photo of a person cooper had from.</td>\n",
       "    </tr>\n",
       "    <tr>\n",
       "      <th>220</th>\n",
       "      <td>3535.363525</td>\n",
       "      <td>a photo of a person regional orized.</td>\n",
       "    </tr>\n",
       "    <tr>\n",
       "      <th>109</th>\n",
       "      <td>4481.204102</td>\n",
       "      <td>a photo of a person landmark orized.</td>\n",
       "    </tr>\n",
       "  </tbody>\n",
       "</table>\n",
       "<p>1000 rows × 2 columns</p>\n",
       "</div>"
      ],
      "text/plain": [
       "            prob                                          text\n",
       "439    56.578079               a photo of a person in the sea.\n",
       "68     58.034519            a photo of a person with a guitar.\n",
       "648    61.561375  a photo of a person walking through traffic.\n",
       "487    61.679295       a photo of a person in another picture.\n",
       "504    67.137917              a photo of a person with a debt.\n",
       "..           ...                                           ...\n",
       "376  1872.045166       a photo of a person constitution paper.\n",
       "936  1957.345947                a photo of a person ferryeded.\n",
       "293  2780.082520          a photo of a person cooper had from.\n",
       "220  3535.363525          a photo of a person regional orized.\n",
       "109  4481.204102          a photo of a person landmark orized.\n",
       "\n",
       "[1000 rows x 2 columns]"
      ]
     },
     "metadata": {},
     "execution_count": 32
    }
   ],
   "metadata": {}
  },
  {
   "cell_type": "code",
   "execution_count": 5,
   "source": [
    "from domino.emb.clip import CELEBA_PHRASE_TEMPLATES\n",
    "templates = CELEBA_PHRASE_TEMPLATES\n",
    "words = word_dp[\"word\"][:10]\n",
    "input_phrases = [\n",
    "    template.format(word) for word in words for template in templates\n",
    "]\n",
    "inputs = tokenizer(input_phrases, return_tensors=\"pt\", padding=True).to(device)\n",
    "input_ids = inputs[\"input_ids\"]\n",
    "\n",
    "outputs = model(**inputs) # shape=(num_sents, num_tokens_in_sent, size_vocab)"
   ],
   "outputs": [],
   "metadata": {}
  },
  {
   "cell_type": "code",
   "execution_count": 66,
   "source": [
    "probs = torch.softmax(outputs.logits, dim=-1)"
   ],
   "outputs": [],
   "metadata": {}
  },
  {
   "cell_type": "code",
   "execution_count": 74,
   "source": [
    "k = 2\n",
    "top_k_out = probs.topk(k=k, dim=-1)\n",
    "PAD_TOKEN_ID = 103\n",
    "\n",
    "output_phrases = []\n",
    "output_probs = []\n",
    "for sent_idx in range(probs.shape[0]):\n",
    "    mask_mask = input_ids[sent_idx] == PAD_TOKEN_ID\n",
    "    token_ids = top_k_out.indices[sent_idx, mask_mask]\n",
    "    token_probs = top_k_out.values[sent_idx, mask_mask]\n",
    "    for local_idxs in product(np.arange(k), repeat=mask_mask.sum()):\n",
    "        output_ids = torch.clone(input_ids[sent_idx])\n",
    "        output_ids[mask_mask] = token_ids[torch.arange(mask_mask.sum()), local_idxs] \n",
    "        output_phrases.append(tokenizer.decode(output_ids, skip_special_tokens=True))\n",
    "        output_probs.append(token_probs[torch.arange(mask_mask.sum()), local_idxs].mean().cpu().detach().numpy())\n",
    "\n"
   ],
   "outputs": [],
   "metadata": {}
  },
  {
   "cell_type": "code",
   "execution_count": 80,
   "source": [
    "import pandas as pd\n",
    "df = pd.DataFrame({\"prob\": output_probs, \"phrase\": output_phrases})\n",
    "df.sort_values(\"prob\", ascending=False)"
   ],
   "outputs": [
    {
     "output_type": "execute_result",
     "data": {
      "text/html": [
       "<div>\n",
       "<style scoped>\n",
       "    .dataframe tbody tr th:only-of-type {\n",
       "        vertical-align: middle;\n",
       "    }\n",
       "\n",
       "    .dataframe tbody tr th {\n",
       "        vertical-align: top;\n",
       "    }\n",
       "\n",
       "    .dataframe thead th {\n",
       "        text-align: right;\n",
       "    }\n",
       "</style>\n",
       "<table border=\"1\" class=\"dataframe\">\n",
       "  <thead>\n",
       "    <tr style=\"text-align: right;\">\n",
       "      <th></th>\n",
       "      <th>prob</th>\n",
       "      <th>phrase</th>\n",
       "    </tr>\n",
       "  </thead>\n",
       "  <tbody>\n",
       "    <tr>\n",
       "      <th>0</th>\n",
       "      <td>nan</td>\n",
       "      <td>a photo of a person the.</td>\n",
       "    </tr>\n",
       "    <tr>\n",
       "      <th>454</th>\n",
       "      <td>0.49835655</td>\n",
       "      <td>a photo of a person dressed as a child.</td>\n",
       "    </tr>\n",
       "    <tr>\n",
       "      <th>442</th>\n",
       "      <td>0.49652216</td>\n",
       "      <td>a photo of a person as well.</td>\n",
       "    </tr>\n",
       "    <tr>\n",
       "      <th>455</th>\n",
       "      <td>0.48906392</td>\n",
       "      <td>a photo of a person dressed as a model.</td>\n",
       "    </tr>\n",
       "    <tr>\n",
       "      <th>475</th>\n",
       "      <td>0.3766427</td>\n",
       "      <td>a photo of a person dressed dressed as a person.</td>\n",
       "    </tr>\n",
       "    <tr>\n",
       "      <th>450</th>\n",
       "      <td>0.3659794</td>\n",
       "      <td>a photo of a person dressed as well.</td>\n",
       "    </tr>\n",
       "    <tr>\n",
       "      <th>441</th>\n",
       "      <td>nan</td>\n",
       "      <td>a photo of a person as.</td>\n",
       "    </tr>\n",
       "    <tr>\n",
       "      <th>401</th>\n",
       "      <td>0.37600285</td>\n",
       "      <td>a photo of a person sitting on it.</td>\n",
       "    </tr>\n",
       "    <tr>\n",
       "      <th>425</th>\n",
       "      <td>0.3701461</td>\n",
       "      <td>a photo of a person was placed on the wall.</td>\n",
       "    </tr>\n",
       "    <tr>\n",
       "      <th>429</th>\n",
       "      <td>0.36785626</td>\n",
       "      <td>a photo of a person was sitting on the wall.</td>\n",
       "    </tr>\n",
       "    <tr>\n",
       "      <th>405</th>\n",
       "      <td>0.361984</td>\n",
       "      <td>a photo of a person sitting on the wall.</td>\n",
       "    </tr>\n",
       "    <tr>\n",
       "      <th>426</th>\n",
       "      <td>0.34724897</td>\n",
       "      <td>a photo of a person was placed on the screen.</td>\n",
       "    </tr>\n",
       "    <tr>\n",
       "      <th>392</th>\n",
       "      <td>nan</td>\n",
       "      <td>a photo of a person on.</td>\n",
       "    </tr>\n",
       "    <tr>\n",
       "      <th>474</th>\n",
       "      <td>0.3861788</td>\n",
       "      <td>a photo of a person dressed dressed as a child.</td>\n",
       "    </tr>\n",
       "    <tr>\n",
       "      <th>343</th>\n",
       "      <td>nan</td>\n",
       "      <td>a photo of a person for.</td>\n",
       "    </tr>\n",
       "    <tr>\n",
       "      <th>301</th>\n",
       "      <td>0.7142288</td>\n",
       "      <td>a photo of a person that is.</td>\n",
       "    </tr>\n",
       "    <tr>\n",
       "      <th>303</th>\n",
       "      <td>0.539133</td>\n",
       "      <td>a photo of a person who is taken.</td>\n",
       "    </tr>\n",
       "    <tr>\n",
       "      <th>315</th>\n",
       "      <td>0.44311094</td>\n",
       "      <td>a photo of a person who that is.</td>\n",
       "    </tr>\n",
       "    <tr>\n",
       "      <th>304</th>\n",
       "      <td>0.4155189</td>\n",
       "      <td>a photo of a person who is shown.</td>\n",
       "    </tr>\n",
       "    <tr>\n",
       "      <th>459</th>\n",
       "      <td>0.37254715</td>\n",
       "      <td>a photo of a person posing as a model.</td>\n",
       "    </tr>\n",
       "  </tbody>\n",
       "</table>\n",
       "</div>"
      ],
      "text/plain": [
       "           prob                                            phrase\n",
       "0           nan                          a photo of a person the.\n",
       "454  0.49835655           a photo of a person dressed as a child.\n",
       "442  0.49652216                      a photo of a person as well.\n",
       "455  0.48906392           a photo of a person dressed as a model.\n",
       "475   0.3766427  a photo of a person dressed dressed as a person.\n",
       "450   0.3659794              a photo of a person dressed as well.\n",
       "441         nan                           a photo of a person as.\n",
       "401  0.37600285                a photo of a person sitting on it.\n",
       "425   0.3701461       a photo of a person was placed on the wall.\n",
       "429  0.36785626      a photo of a person was sitting on the wall.\n",
       "405    0.361984          a photo of a person sitting on the wall.\n",
       "426  0.34724897     a photo of a person was placed on the screen.\n",
       "392         nan                           a photo of a person on.\n",
       "474   0.3861788   a photo of a person dressed dressed as a child.\n",
       "343         nan                          a photo of a person for.\n",
       "301   0.7142288                      a photo of a person that is.\n",
       "303    0.539133                 a photo of a person who is taken.\n",
       "315  0.44311094                  a photo of a person who that is.\n",
       "304   0.4155189                 a photo of a person who is shown.\n",
       "459  0.37254715            a photo of a person posing as a model."
      ]
     },
     "metadata": {},
     "execution_count": 80
    }
   ],
   "metadata": {}
  },
  {
   "cell_type": "code",
   "execution_count": null,
   "source": [
    "local_idxs"
   ],
   "outputs": [
    {
     "output_type": "execute_result",
     "data": {
      "text/plain": [
       "(1,)"
      ]
     },
     "metadata": {},
     "execution_count": 53
    }
   ],
   "metadata": {}
  },
  {
   "cell_type": "code",
   "execution_count": 49,
   "source": [
    "from itertools import product\n",
    "x[np.array(list(product(np.arange(k), repeat=4)))]"
   ],
   "outputs": [
    {
     "output_type": "error",
     "ename": "IndexError",
     "evalue": "too many indices for tensor of dimension 2",
     "traceback": [
      "\u001b[0;31m---------------------------------------------------------------------------\u001b[0m",
      "\u001b[0;31mIndexError\u001b[0m                                Traceback (most recent call last)",
      "\u001b[0;32m/tmp/ipykernel_8084/4097236563.py\u001b[0m in \u001b[0;36m<module>\u001b[0;34m\u001b[0m\n\u001b[1;32m      1\u001b[0m \u001b[0;32mfrom\u001b[0m \u001b[0mitertools\u001b[0m \u001b[0;32mimport\u001b[0m \u001b[0mproduct\u001b[0m\u001b[0;34m\u001b[0m\u001b[0;34m\u001b[0m\u001b[0m\n\u001b[0;32m----> 2\u001b[0;31m \u001b[0mx\u001b[0m\u001b[0;34m[\u001b[0m\u001b[0mnp\u001b[0m\u001b[0;34m.\u001b[0m\u001b[0marray\u001b[0m\u001b[0;34m(\u001b[0m\u001b[0mlist\u001b[0m\u001b[0;34m(\u001b[0m\u001b[0mproduct\u001b[0m\u001b[0;34m(\u001b[0m\u001b[0mnp\u001b[0m\u001b[0;34m.\u001b[0m\u001b[0marange\u001b[0m\u001b[0;34m(\u001b[0m\u001b[0mk\u001b[0m\u001b[0;34m)\u001b[0m\u001b[0;34m,\u001b[0m \u001b[0mrepeat\u001b[0m\u001b[0;34m=\u001b[0m\u001b[0;36m4\u001b[0m\u001b[0;34m)\u001b[0m\u001b[0;34m)\u001b[0m\u001b[0;34m)\u001b[0m\u001b[0;34m]\u001b[0m\u001b[0;34m\u001b[0m\u001b[0;34m\u001b[0m\u001b[0m\n\u001b[0m",
      "\u001b[0;31mIndexError\u001b[0m: too many indices for tensor of dimension 2"
     ]
    }
   ],
   "metadata": {}
  },
  {
   "cell_type": "code",
   "execution_count": 24,
   "source": [
    "import hashlib"
   ],
   "outputs": [
    {
     "output_type": "stream",
     "name": "stderr",
     "text": [
      "[autoreload of terra failed: Traceback (most recent call last):\n",
      "  File \"/home/common/envs/conda/envs/domino/lib/python3.8/site-packages/IPython/extensions/autoreload.py\", line 245, in check\n",
      "    superreload(m, reload, self.old_objects)\n",
      "  File \"/home/common/envs/conda/envs/domino/lib/python3.8/site-packages/IPython/extensions/autoreload.py\", line 394, in superreload\n",
      "    module = reload(module)\n",
      "  File \"/home/common/envs/conda/envs/domino/lib/python3.8/imp.py\", line 314, in reload\n",
      "    return importlib.reload(module)\n",
      "  File \"/home/common/envs/conda/envs/domino/lib/python3.8/importlib/__init__.py\", line 169, in reload\n",
      "    _bootstrap._exec(spec, module)\n",
      "  File \"<frozen importlib._bootstrap>\", line 604, in _exec\n",
      "  File \"<frozen importlib._bootstrap_external>\", line 844, in exec_module\n",
      "  File \"<frozen importlib._bootstrap_external>\", line 981, in get_code\n",
      "  File \"<frozen importlib._bootstrap_external>\", line 911, in source_to_code\n",
      "  File \"<frozen importlib._bootstrap>\", line 219, in _call_with_frames_removed\n",
      "  File \"/home/sabri/code/terra/terra/__init__.py\", line 217\n",
      "    \"slurm_job_id\": os.environ.get(\"SLURM_JOB_ID\", None),\n",
      "                  ^\n",
      "SyntaxError: invalid syntax\n",
      "]\n"
     ]
    }
   ],
   "metadata": {}
  },
  {
   "cell_type": "code",
   "execution_count": 31,
   "source": [
    "hashlib.sha1(\"hello\".encode('utf-8')).hexdigest()"
   ],
   "outputs": [
    {
     "output_type": "execute_result",
     "data": {
      "text/plain": [
       "'aaf4c61ddcc5e8a2dabede0f3b482cd9aea9434d'"
      ]
     },
     "metadata": {},
     "execution_count": 31
    }
   ],
   "metadata": {}
  },
  {
   "cell_type": "code",
   "execution_count": null,
   "source": [],
   "outputs": [],
   "metadata": {}
  }
 ],
 "metadata": {
  "orig_nbformat": 4,
  "language_info": {
   "name": "python",
   "version": "3.8.10",
   "mimetype": "text/x-python",
   "codemirror_mode": {
    "name": "ipython",
    "version": 3
   },
   "pygments_lexer": "ipython3",
   "nbconvert_exporter": "python",
   "file_extension": ".py"
  },
  "kernelspec": {
   "name": "python3",
   "display_name": "Python 3.8.10 64-bit ('domino': conda)"
  },
  "interpreter": {
   "hash": "0d937a63d09daec3f9548a5c769ccb20edb9c2c1ae2375686b21850f577713d2"
  }
 },
 "nbformat": 4,
 "nbformat_minor": 2
}