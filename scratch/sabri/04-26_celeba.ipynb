{
 "metadata": {
  "language_info": {
   "codemirror_mode": {
    "name": "ipython",
    "version": 3
   },
   "file_extension": ".py",
   "mimetype": "text/x-python",
   "name": "python",
   "nbconvert_exporter": "python",
   "pygments_lexer": "ipython3",
   "version": "3.8.8"
  },
  "orig_nbformat": 2,
  "kernelspec": {
   "name": "python388jvsc74a57bd06d7bd4c6039f156d838f2caf01fbd8d7d51ef546e5fb1f60e559c6bdf3c7cc94",
   "display_name": "Python 3.8.8 64-bit ('rg-sabri')"
  },
  "metadata": {
   "interpreter": {
    "hash": "6d7bd4c6039f156d838f2caf01fbd8d7d51ef546e5fb1f60e559c6bdf3c7cc94"
   }
  }
 },
 "nbformat": 4,
 "nbformat_minor": 2,
 "cells": [
  {
   "cell_type": "code",
   "execution_count": 1,
   "metadata": {},
   "outputs": [],
   "source": [
    "%load_ext autoreload\n",
    "%autoreload 2}\n",
    "import os\n",
    "os.environ[\"TERRA_CONFIG_PATH\"] = \"/home/sabri/code/spr-21/terra_config.json\""
   ]
  },
  {
   "cell_type": "code",
   "execution_count": 2,
   "metadata": {},
   "outputs": [
    {
     "output_type": "stream",
     "name": "stderr",
     "text": [
      "Could not generate requirement for distribution -illow 8.2.0 (/home/common/envs/conda/envs/rg-sabri/lib/python3.8/site-packages): Parse error at \"'-illow=='\": Expected W:(abcd...)\n",
      "task: build_celeb_df, run_id=141\n",
      "/home/sabri/code/spr-21/spr/data/celeb.py:126: SettingWithCopyWarning: \n",
      "A value is trying to be set on a copy of a slice from a DataFrame.\n",
      "Try using .loc[row_indexer,col_indexer] = value instead\n",
      "\n",
      "See the caveats in the documentation: https://pandas.pydata.org/pandas-docs/stable/user_guide/indexing.html#returning-a-view-versus-a-copy\n",
      "  df[\"split\"] = config[\"split\"]\n",
      "/home/sabri/code/spr-21/spr/data/celeb.py:126: SettingWithCopyWarning: \n",
      "A value is trying to be set on a copy of a slice from a DataFrame.\n",
      "Try using .loc[row_indexer,col_indexer] = value instead\n",
      "\n",
      "See the caveats in the documentation: https://pandas.pydata.org/pandas-docs/stable/user_guide/indexing.html#returning-a-view-versus-a-copy\n",
      "  df[\"split\"] = config[\"split\"]\n"
     ]
    },
    {
     "output_type": "execute_result",
     "data": {
      "text/plain": [
       "<terra.io.Artifact at 0x7f4c779b34f0>"
      ]
     },
     "metadata": {},
     "execution_count": 2
    }
   ],
   "source": [
    "from spr.data.celeb import build_celeb_df\n",
    "build_celeb_df(**{ \n",
    "    'split_configs': [\n",
    "        {'split': 'train', 'size': 192599},\n",
    "        {'split': 'valid', 'size': 5000},\n",
    "        {'split': 'test', 'size': 5000}\n",
    "    ],\n",
    "     'dataset_dir': '/home/common/datasets/celeba'\n",
    "})"
   ]
  },
  {
   "cell_type": "code",
   "execution_count": 4,
   "metadata": {},
   "outputs": [
    {
     "output_type": "execute_result",
     "data": {
      "text/plain": [
       "              file  identity  5_o_clock_shadow  arched_eyebrows  attractive  \\\n",
       "0       053561.jpg      4822                 1                0           1   \n",
       "1       083433.jpg      6386                 0                0           0   \n",
       "2       021345.jpg      1937                 0                0           0   \n",
       "3       047546.jpg      8391                 0                0           1   \n",
       "4       149447.jpg      8424                 0                1           1   \n",
       "...            ...       ...               ...              ...         ...   \n",
       "202386  202258.jpg      6323                 0                0           1   \n",
       "202387  202268.jpg      5253                 0                1           1   \n",
       "202388  202269.jpg      6937                 0                0           1   \n",
       "202389  202476.jpg      9128                 0                0           1   \n",
       "202390  202478.jpg      9193                 0                0           1   \n",
       "\n",
       "        bags_under_eyes  bald  bangs  big_lips  big_nose  ...  wavy_hair  \\\n",
       "0                     0     0      0         0         0  ...          0   \n",
       "1                     1     0      0         0         1  ...          1   \n",
       "2                     0     0      0         0         1  ...          0   \n",
       "3                     0     0      0         0         0  ...          0   \n",
       "4                     0     0      0         1         0  ...          0   \n",
       "...                 ...   ...    ...       ...       ...  ...        ...   \n",
       "202386                0     0      0         0         0  ...          1   \n",
       "202387                0     0      1         0         0  ...          0   \n",
       "202388                0     0      0         0         0  ...          1   \n",
       "202389                0     0      1         1         0  ...          1   \n",
       "202390                0     0      0         0         0  ...          0   \n",
       "\n",
       "        wearing_earrings  wearing_hat  wearing_lipstick  wearing_necklace  \\\n",
       "0                      0            0                 0                 0   \n",
       "1                      1            0                 1                 0   \n",
       "2                      0            0                 0                 0   \n",
       "3                      0            0                 0                 0   \n",
       "4                      0            0                 1                 1   \n",
       "...                  ...          ...               ...               ...   \n",
       "202386                 0            0                 1                 0   \n",
       "202387                 1            0                 1                 0   \n",
       "202388                 0            0                 1                 0   \n",
       "202389                 1            0                 1                 1   \n",
       "202390                 1            0                 1                 0   \n",
       "\n",
       "        wearing_necktie  young  \\\n",
       "0                     0      1   \n",
       "1                     0      0   \n",
       "2                     0      0   \n",
       "3                     0      1   \n",
       "4                     0      1   \n",
       "...                 ...    ...   \n",
       "202386                0      1   \n",
       "202387                0      1   \n",
       "202388                0      1   \n",
       "202389                0      1   \n",
       "202390                0      1   \n",
       "\n",
       "                                                 img_path  example_hash  split  \n",
       "0       /home/common/datasets/celeba/img_align_celeba/...       0.52475  train  \n",
       "1       /home/common/datasets/celeba/img_align_celeba/...       0.79049  train  \n",
       "2       /home/common/datasets/celeba/img_align_celeba/...       0.76368  train  \n",
       "3       /home/common/datasets/celeba/img_align_celeba/...       0.37704  train  \n",
       "4       /home/common/datasets/celeba/img_align_celeba/...       0.63177  train  \n",
       "...                                                   ...           ...    ...  \n",
       "202386  /home/common/datasets/celeba/img_align_celeba/...       0.99041   test  \n",
       "202387  /home/common/datasets/celeba/img_align_celeba/...       0.99390   test  \n",
       "202388  /home/common/datasets/celeba/img_align_celeba/...       0.98899   test  \n",
       "202389  /home/common/datasets/celeba/img_align_celeba/...       0.99129   test  \n",
       "202390  /home/common/datasets/celeba/img_align_celeba/...       0.99785   test  \n",
       "\n",
       "[202391 rows x 45 columns]"
      ],
      "text/html": "<div>\n<style scoped>\n    .dataframe tbody tr th:only-of-type {\n        vertical-align: middle;\n    }\n\n    .dataframe tbody tr th {\n        vertical-align: top;\n    }\n\n    .dataframe thead th {\n        text-align: right;\n    }\n</style>\n<table border=\"1\" class=\"dataframe\">\n  <thead>\n    <tr style=\"text-align: right;\">\n      <th></th>\n      <th>file</th>\n      <th>identity</th>\n      <th>5_o_clock_shadow</th>\n      <th>arched_eyebrows</th>\n      <th>attractive</th>\n      <th>bags_under_eyes</th>\n      <th>bald</th>\n      <th>bangs</th>\n      <th>big_lips</th>\n      <th>big_nose</th>\n      <th>...</th>\n      <th>wavy_hair</th>\n      <th>wearing_earrings</th>\n      <th>wearing_hat</th>\n      <th>wearing_lipstick</th>\n      <th>wearing_necklace</th>\n      <th>wearing_necktie</th>\n      <th>young</th>\n      <th>img_path</th>\n      <th>example_hash</th>\n      <th>split</th>\n    </tr>\n  </thead>\n  <tbody>\n    <tr>\n      <th>0</th>\n      <td>053561.jpg</td>\n      <td>4822</td>\n      <td>1</td>\n      <td>0</td>\n      <td>1</td>\n      <td>0</td>\n      <td>0</td>\n      <td>0</td>\n      <td>0</td>\n      <td>0</td>\n      <td>...</td>\n      <td>0</td>\n      <td>0</td>\n      <td>0</td>\n      <td>0</td>\n      <td>0</td>\n      <td>0</td>\n      <td>1</td>\n      <td>/home/common/datasets/celeba/img_align_celeba/...</td>\n      <td>0.52475</td>\n      <td>train</td>\n    </tr>\n    <tr>\n      <th>1</th>\n      <td>083433.jpg</td>\n      <td>6386</td>\n      <td>0</td>\n      <td>0</td>\n      <td>0</td>\n      <td>1</td>\n      <td>0</td>\n      <td>0</td>\n      <td>0</td>\n      <td>1</td>\n      <td>...</td>\n      <td>1</td>\n      <td>1</td>\n      <td>0</td>\n      <td>1</td>\n      <td>0</td>\n      <td>0</td>\n      <td>0</td>\n      <td>/home/common/datasets/celeba/img_align_celeba/...</td>\n      <td>0.79049</td>\n      <td>train</td>\n    </tr>\n    <tr>\n      <th>2</th>\n      <td>021345.jpg</td>\n      <td>1937</td>\n      <td>0</td>\n      <td>0</td>\n      <td>0</td>\n      <td>0</td>\n      <td>0</td>\n      <td>0</td>\n      <td>0</td>\n      <td>1</td>\n      <td>...</td>\n      <td>0</td>\n      <td>0</td>\n      <td>0</td>\n      <td>0</td>\n      <td>0</td>\n      <td>0</td>\n      <td>0</td>\n      <td>/home/common/datasets/celeba/img_align_celeba/...</td>\n      <td>0.76368</td>\n      <td>train</td>\n    </tr>\n    <tr>\n      <th>3</th>\n      <td>047546.jpg</td>\n      <td>8391</td>\n      <td>0</td>\n      <td>0</td>\n      <td>1</td>\n      <td>0</td>\n      <td>0</td>\n      <td>0</td>\n      <td>0</td>\n      <td>0</td>\n      <td>...</td>\n      <td>0</td>\n      <td>0</td>\n      <td>0</td>\n      <td>0</td>\n      <td>0</td>\n      <td>0</td>\n      <td>1</td>\n      <td>/home/common/datasets/celeba/img_align_celeba/...</td>\n      <td>0.37704</td>\n      <td>train</td>\n    </tr>\n    <tr>\n      <th>4</th>\n      <td>149447.jpg</td>\n      <td>8424</td>\n      <td>0</td>\n      <td>1</td>\n      <td>1</td>\n      <td>0</td>\n      <td>0</td>\n      <td>0</td>\n      <td>1</td>\n      <td>0</td>\n      <td>...</td>\n      <td>0</td>\n      <td>0</td>\n      <td>0</td>\n      <td>1</td>\n      <td>1</td>\n      <td>0</td>\n      <td>1</td>\n      <td>/home/common/datasets/celeba/img_align_celeba/...</td>\n      <td>0.63177</td>\n      <td>train</td>\n    </tr>\n    <tr>\n      <th>...</th>\n      <td>...</td>\n      <td>...</td>\n      <td>...</td>\n      <td>...</td>\n      <td>...</td>\n      <td>...</td>\n      <td>...</td>\n      <td>...</td>\n      <td>...</td>\n      <td>...</td>\n      <td>...</td>\n      <td>...</td>\n      <td>...</td>\n      <td>...</td>\n      <td>...</td>\n      <td>...</td>\n      <td>...</td>\n      <td>...</td>\n      <td>...</td>\n      <td>...</td>\n      <td>...</td>\n    </tr>\n    <tr>\n      <th>202386</th>\n      <td>202258.jpg</td>\n      <td>6323</td>\n      <td>0</td>\n      <td>0</td>\n      <td>1</td>\n      <td>0</td>\n      <td>0</td>\n      <td>0</td>\n      <td>0</td>\n      <td>0</td>\n      <td>...</td>\n      <td>1</td>\n      <td>0</td>\n      <td>0</td>\n      <td>1</td>\n      <td>0</td>\n      <td>0</td>\n      <td>1</td>\n      <td>/home/common/datasets/celeba/img_align_celeba/...</td>\n      <td>0.99041</td>\n      <td>test</td>\n    </tr>\n    <tr>\n      <th>202387</th>\n      <td>202268.jpg</td>\n      <td>5253</td>\n      <td>0</td>\n      <td>1</td>\n      <td>1</td>\n      <td>0</td>\n      <td>0</td>\n      <td>1</td>\n      <td>0</td>\n      <td>0</td>\n      <td>...</td>\n      <td>0</td>\n      <td>1</td>\n      <td>0</td>\n      <td>1</td>\n      <td>0</td>\n      <td>0</td>\n      <td>1</td>\n      <td>/home/common/datasets/celeba/img_align_celeba/...</td>\n      <td>0.99390</td>\n      <td>test</td>\n    </tr>\n    <tr>\n      <th>202388</th>\n      <td>202269.jpg</td>\n      <td>6937</td>\n      <td>0</td>\n      <td>0</td>\n      <td>1</td>\n      <td>0</td>\n      <td>0</td>\n      <td>0</td>\n      <td>0</td>\n      <td>0</td>\n      <td>...</td>\n      <td>1</td>\n      <td>0</td>\n      <td>0</td>\n      <td>1</td>\n      <td>0</td>\n      <td>0</td>\n      <td>1</td>\n      <td>/home/common/datasets/celeba/img_align_celeba/...</td>\n      <td>0.98899</td>\n      <td>test</td>\n    </tr>\n    <tr>\n      <th>202389</th>\n      <td>202476.jpg</td>\n      <td>9128</td>\n      <td>0</td>\n      <td>0</td>\n      <td>1</td>\n      <td>0</td>\n      <td>0</td>\n      <td>1</td>\n      <td>1</td>\n      <td>0</td>\n      <td>...</td>\n      <td>1</td>\n      <td>1</td>\n      <td>0</td>\n      <td>1</td>\n      <td>1</td>\n      <td>0</td>\n      <td>1</td>\n      <td>/home/common/datasets/celeba/img_align_celeba/...</td>\n      <td>0.99129</td>\n      <td>test</td>\n    </tr>\n    <tr>\n      <th>202390</th>\n      <td>202478.jpg</td>\n      <td>9193</td>\n      <td>0</td>\n      <td>0</td>\n      <td>1</td>\n      <td>0</td>\n      <td>0</td>\n      <td>0</td>\n      <td>0</td>\n      <td>0</td>\n      <td>...</td>\n      <td>0</td>\n      <td>1</td>\n      <td>0</td>\n      <td>1</td>\n      <td>0</td>\n      <td>0</td>\n      <td>1</td>\n      <td>/home/common/datasets/celeba/img_align_celeba/...</td>\n      <td>0.99785</td>\n      <td>test</td>\n    </tr>\n  </tbody>\n</table>\n<p>202391 rows × 45 columns</p>\n</div>"
     },
     "metadata": {},
     "execution_count": 4
    }
   ],
   "source": [
    "build_celeb_df.out(141, load=True)"
   ]
  },
  {
   "cell_type": "code",
   "execution_count": 6,
   "metadata": {},
   "outputs": [
    {
     "output_type": "error",
     "ename": "NameError",
     "evalue": "name 'spr' is not defined",
     "traceback": [
      "\u001b[0;31m---------------------------------------------------------------------------\u001b[0m",
      "\u001b[0;31mNameError\u001b[0m                                 Traceback (most recent call last)",
      "\u001b[0;32m<ipython-input-6-aef8725199b8>\u001b[0m in \u001b[0;36m<module>\u001b[0;34m\u001b[0m\n\u001b[0;32m----> 1\u001b[0;31m \u001b[0mtext_embs\u001b[0m\u001b[0;34m,\u001b[0m \u001b[0midx_to_word\u001b[0m \u001b[0;34m=\u001b[0m \u001b[0mspr\u001b[0m\u001b[0;34m.\u001b[0m\u001b[0mclip\u001b[0m\u001b[0;34m.\u001b[0m\u001b[0membed_words\u001b[0m\u001b[0;34m.\u001b[0m\u001b[0mout\u001b[0m\u001b[0;34m(\u001b[0m\u001b[0;36m189\u001b[0m\u001b[0;34m)\u001b[0m\u001b[0;34m\u001b[0m\u001b[0;34m\u001b[0m\u001b[0m\n\u001b[0m\u001b[1;32m      2\u001b[0m \u001b[0mimg_embs\u001b[0m\u001b[0;34m,\u001b[0m \u001b[0midx_to_img_id\u001b[0m \u001b[0;34m=\u001b[0m \u001b[0mspr\u001b[0m\u001b[0;34m.\u001b[0m\u001b[0mclip\u001b[0m\u001b[0;34m.\u001b[0m\u001b[0membed_images\u001b[0m\u001b[0;34m.\u001b[0m\u001b[0mout\u001b[0m\u001b[0;34m(\u001b[0m\u001b[0;36m178\u001b[0m\u001b[0;34m)\u001b[0m\u001b[0;34m\u001b[0m\u001b[0;34m\u001b[0m\u001b[0m\n\u001b[1;32m      3\u001b[0m \u001b[0;34m\u001b[0m\u001b[0m\n\u001b[1;32m      4\u001b[0m \u001b[0mimg_embs_norm\u001b[0m \u001b[0;34m=\u001b[0m \u001b[0mimg_embs\u001b[0m \u001b[0;34m/\u001b[0m \u001b[0mimg_embs\u001b[0m\u001b[0;34m.\u001b[0m\u001b[0mnorm\u001b[0m\u001b[0;34m(\u001b[0m\u001b[0mdim\u001b[0m\u001b[0;34m=\u001b[0m\u001b[0;34m-\u001b[0m\u001b[0;36m1\u001b[0m\u001b[0;34m,\u001b[0m \u001b[0mkeepdim\u001b[0m\u001b[0;34m=\u001b[0m\u001b[0;32mTrue\u001b[0m\u001b[0;34m)\u001b[0m\u001b[0;34m\u001b[0m\u001b[0;34m\u001b[0m\u001b[0m\n\u001b[1;32m      5\u001b[0m \u001b[0mtext_embs_norm\u001b[0m \u001b[0;34m=\u001b[0m \u001b[0mtext_embs\u001b[0m \u001b[0;34m/\u001b[0m \u001b[0mtext_embs\u001b[0m\u001b[0;34m.\u001b[0m\u001b[0mnorm\u001b[0m\u001b[0;34m(\u001b[0m\u001b[0mdim\u001b[0m\u001b[0;34m=\u001b[0m\u001b[0;34m-\u001b[0m\u001b[0;36m1\u001b[0m\u001b[0;34m,\u001b[0m \u001b[0mkeepdim\u001b[0m\u001b[0;34m=\u001b[0m\u001b[0;32mTrue\u001b[0m\u001b[0;34m)\u001b[0m\u001b[0;34m\u001b[0m\u001b[0;34m\u001b[0m\u001b[0m\n",
      "\u001b[0;31mNameError\u001b[0m: name 'spr' is not defined"
     ]
    }
   ],
   "source": []
  },
  {
   "cell_type": "code",
   "execution_count": null,
   "metadata": {},
   "outputs": [],
   "source": []
  }
 ]
}