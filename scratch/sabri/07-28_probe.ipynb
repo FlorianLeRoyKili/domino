{
 "cells": [
  {
   "cell_type": "code",
   "execution_count": null,
   "source": [
    "%load_ext autoreload\n",
    "%autoreload 2\n",
    "\n",
    "import terra\n",
    "import numpy as np\n",
    "import meerkat as mk\n",
    "import pandas as pd\n",
    "import torch\n",
    "\n",
    "import matplotlib.pyplot as plt\n",
    "import seaborn as sns\n",
    "from sklearn.metrics import roc_auc_score\n",
    "from sklearn.linear_model import LogisticRegression\n",
    "from sklearn.decomposition import PCA, FastICA\n",
    "from domino.sdm import GeorgeSDM\n",
    "import meerkat.contrib.mimic\n",
    "from domino.evaluate.linear import induce_correlation\n",
    "from domino.evaluate.train import train_linear_slices, train_model, score_model, score_linear_slices\n",
    "from domino.evaluate.evaluate import run_sdm\n"
   ],
   "outputs": [],
   "metadata": {}
  },
  {
   "cell_type": "code",
   "execution_count": 1,
   "source": [
    "import matplotlib.pyplot as plt\n",
    "import numpy as np"
   ],
   "outputs": [],
   "metadata": {}
  },
  {
   "cell_type": "code",
   "execution_count": 3,
   "source": [
    "plt.imshow(np.zeros((10,10)))"
   ],
   "outputs": [
    {
     "output_type": "execute_result",
     "data": {
      "text/plain": [
       "<matplotlib.image.AxesImage at 0x7fddf33f5040>"
      ]
     },
     "metadata": {},
     "execution_count": 3
    },
    {
     "output_type": "display_data",
     "data": {
      "text/plain": [
       "<Figure size 432x288 with 1 Axes>"
      ],
      "image/png": "[encoded data removed]"
     },
     "metadata": {
      "needs_background": "light"
     }
    }
   ],
   "metadata": {}
  },
  {
   "cell_type": "code",
   "execution_count": 2,
   "source": [
    "df = score_linear_slices.out(3190).load().iloc[10:]"
   ],
   "outputs": [],
   "metadata": {}
  },
  {
   "cell_type": "code",
   "execution_count": 3,
   "source": [
    "run_id = 3192\n",
    "inp = score_model.inp(run_id)\n",
    "target, correlate = inp[\"target\"], inp[\"correlate\"]\n",
    "dp = score_model.out(run_id)[0].load()"
   ],
   "outputs": [],
   "metadata": {}
  },
  {
   "cell_type": "code",
   "execution_count": 4,
   "source": [
    "sdm = GeorgeSDM(config={\"cluster_method\": \"gmm\", \"n_slices\": 6})\n",
    "sdm.fit(dp, aliases={\"target\": target, \"model.layer4\": \"layer4.0_mean\"})"
   ],
   "outputs": [
    {
     "output_type": "execute_result",
     "data": {
      "text/plain": [
       "<domino.sdm.george.GeorgeSDM at 0x7f5b900bf5b0>"
      ]
     },
     "metadata": {},
     "execution_count": 4
    }
   ],
   "metadata": {}
  },
  {
   "cell_type": "code",
   "execution_count": 8,
   "source": [],
   "outputs": [
    {
     "output_type": "execute_result",
     "data": {
      "text/plain": [
       "                     target    correlate  corr  num_examples  run_id  \\\n",
       "10  Pleural_Effusion_uzeros  gender_male   0.2       30000.0    1492   \n",
       "11  Pleural_Effusion_uzeros  gender_male   0.3       30000.0    1493   \n",
       "12  Pleural_Effusion_uzeros  gender_male   0.4       30000.0    1494   \n",
       "13  Pleural_Effusion_uzeros  gender_male   0.5       30000.0    1495   \n",
       "14  Pleural_Effusion_uzeros  gender_male   0.6       30000.0    1496   \n",
       "15  Pleural_Effusion_uzeros  gender_male   0.7       30000.0    1497   \n",
       "16  Pleural_Effusion_uzeros  gender_male   0.8       30000.0    1498   \n",
       "17             Edema_uzeros  gender_male   0.0       30000.0    1499   \n",
       "18             Edema_uzeros  gender_male   0.1       30000.0    1500   \n",
       "19             Edema_uzeros  gender_male   0.2       30000.0    1501   \n",
       "\n",
       "    time_this_iter_s   done  timesteps_total  episodes_total  \\\n",
       "10         39.819059  False              NaN             NaN   \n",
       "11         39.747640  False              NaN             NaN   \n",
       "12         39.943068  False              NaN             NaN   \n",
       "13         40.437483  False              NaN             NaN   \n",
       "14         39.840637  False              NaN             NaN   \n",
       "15         40.422139  False              NaN             NaN   \n",
       "16         39.930714  False              NaN             NaN   \n",
       "17         39.753915  False              NaN             NaN   \n",
       "18         40.207289  False              NaN             NaN   \n",
       "19         40.018706  False              NaN             NaN   \n",
       "\n",
       "    training_iteration  ... time_total_s    pid   hostname    node_ip  \\\n",
       "10                   1  ...    39.819059  13753  pod-sabri  10.92.1.3   \n",
       "11                   1  ...    39.747640  13951  pod-sabri  10.92.1.3   \n",
       "12                   1  ...    39.943068  14146  pod-sabri  10.92.1.3   \n",
       "13                   1  ...    40.437483  14347  pod-sabri  10.92.1.3   \n",
       "14                   1  ...    39.840637  14543  pod-sabri  10.92.1.3   \n",
       "15                   1  ...    40.422139  14741  pod-sabri  10.92.1.3   \n",
       "16                   1  ...    39.930714  14939  pod-sabri  10.92.1.3   \n",
       "17                   1  ...    39.753915  15135  pod-sabri  10.92.1.3   \n",
       "18                   1  ...    40.207289  15330  pod-sabri  10.92.1.3   \n",
       "19                   1  ...    40.018706  15528  pod-sabri  10.92.1.3   \n",
       "\n",
       "    time_since_restore timesteps_since_restore iterations_since_restore  \\\n",
       "10           39.819059                       0                        1   \n",
       "11           39.747640                       0                        1   \n",
       "12           39.943068                       0                        1   \n",
       "13           40.437483                       0                        1   \n",
       "14           39.840637                       0                        1   \n",
       "15           40.422139                       0                        1   \n",
       "16           39.930714                       0                        1   \n",
       "17           39.753915                       0                        1   \n",
       "18           40.207289                       0                        1   \n",
       "19           40.018706                       0                        1   \n",
       "\n",
       "       trial_id                                        config/args  \\\n",
       "10  9b209_00010  {'corr': 0.2, 'correlate': 'gender_male', 'num...   \n",
       "11  9b209_00011  {'corr': 0.3, 'correlate': 'gender_male', 'num...   \n",
       "12  9b209_00012  {'corr': 0.4, 'correlate': 'gender_male', 'num...   \n",
       "13  9b209_00013  {'corr': 0.5, 'correlate': 'gender_male', 'num...   \n",
       "14  9b209_00014  {'corr': 0.6000000000000001, 'correlate': 'gen...   \n",
       "15  9b209_00015  {'corr': 0.7000000000000001, 'correlate': 'gen...   \n",
       "16  9b209_00016  {'corr': 0.8, 'correlate': 'gender_male', 'num...   \n",
       "17  9b209_00017  {'corr': 0.0, 'correlate': 'gender_male', 'num...   \n",
       "18  9b209_00018  {'corr': 0.1, 'correlate': 'gender_male', 'num...   \n",
       "19  9b209_00019  {'corr': 0.2, 'correlate': 'gender_male', 'num...   \n",
       "\n",
       "                                               logdir  \n",
       "10  /root/ray_results/_score_model_2021-07-07_16-4...  \n",
       "11  /root/ray_results/_score_model_2021-07-07_16-4...  \n",
       "12  /root/ray_results/_score_model_2021-07-07_16-4...  \n",
       "13  /root/ray_results/_score_model_2021-07-07_16-4...  \n",
       "14  /root/ray_results/_score_model_2021-07-07_16-4...  \n",
       "15  /root/ray_results/_score_model_2021-07-07_16-4...  \n",
       "16  /root/ray_results/_score_model_2021-07-07_16-4...  \n",
       "17  /root/ray_results/_score_model_2021-07-07_16-4...  \n",
       "18  /root/ray_results/_score_model_2021-07-07_16-4...  \n",
       "19  /root/ray_results/_score_model_2021-07-07_16-4...  \n",
       "\n",
       "[10 rows x 23 columns]"
      ],
      "text/html": [
       "<div>\n",
       "<style scoped>\n",
       "    .dataframe tbody tr th:only-of-type {\n",
       "        vertical-align: middle;\n",
       "    }\n",
       "\n",
       "    .dataframe tbody tr th {\n",
       "        vertical-align: top;\n",
       "    }\n",
       "\n",
       "    .dataframe thead th {\n",
       "        text-align: right;\n",
       "    }\n",
       "</style>\n",
       "<table border=\"1\" class=\"dataframe\">\n",
       "  <thead>\n",
       "    <tr style=\"text-align: right;\">\n",
       "      <th></th>\n",
       "      <th>target</th>\n",
       "      <th>correlate</th>\n",
       "      <th>corr</th>\n",
       "      <th>num_examples</th>\n",
       "      <th>run_id</th>\n",
       "      <th>time_this_iter_s</th>\n",
       "      <th>done</th>\n",
       "      <th>timesteps_total</th>\n",
       "      <th>episodes_total</th>\n",
       "      <th>training_iteration</th>\n",
       "      <th>...</th>\n",
       "      <th>time_total_s</th>\n",
       "      <th>pid</th>\n",
       "      <th>hostname</th>\n",
       "      <th>node_ip</th>\n",
       "      <th>time_since_restore</th>\n",
       "      <th>timesteps_since_restore</th>\n",
       "      <th>iterations_since_restore</th>\n",
       "      <th>trial_id</th>\n",
       "      <th>config/args</th>\n",
       "      <th>logdir</th>\n",
       "    </tr>\n",
       "  </thead>\n",
       "  <tbody>\n",
       "    <tr>\n",
       "      <th>10</th>\n",
       "      <td>Pleural_Effusion_uzeros</td>\n",
       "      <td>gender_male</td>\n",
       "      <td>0.2</td>\n",
       "      <td>30000.0</td>\n",
       "      <td>1492</td>\n",
       "      <td>39.819059</td>\n",
       "      <td>False</td>\n",
       "      <td>NaN</td>\n",
       "      <td>NaN</td>\n",
       "      <td>1</td>\n",
       "      <td>...</td>\n",
       "      <td>39.819059</td>\n",
       "      <td>13753</td>\n",
       "      <td>pod-sabri</td>\n",
       "      <td>10.92.1.3</td>\n",
       "      <td>39.819059</td>\n",
       "      <td>0</td>\n",
       "      <td>1</td>\n",
       "      <td>9b209_00010</td>\n",
       "      <td>{'corr': 0.2, 'correlate': 'gender_male', 'num...</td>\n",
       "      <td>/root/ray_results/_score_model_2021-07-07_16-4...</td>\n",
       "    </tr>\n",
       "    <tr>\n",
       "      <th>11</th>\n",
       "      <td>Pleural_Effusion_uzeros</td>\n",
       "      <td>gender_male</td>\n",
       "      <td>0.3</td>\n",
       "      <td>30000.0</td>\n",
       "      <td>1493</td>\n",
       "      <td>39.747640</td>\n",
       "      <td>False</td>\n",
       "      <td>NaN</td>\n",
       "      <td>NaN</td>\n",
       "      <td>1</td>\n",
       "      <td>...</td>\n",
       "      <td>39.747640</td>\n",
       "      <td>13951</td>\n",
       "      <td>pod-sabri</td>\n",
       "      <td>10.92.1.3</td>\n",
       "      <td>39.747640</td>\n",
       "      <td>0</td>\n",
       "      <td>1</td>\n",
       "      <td>9b209_00011</td>\n",
       "      <td>{'corr': 0.3, 'correlate': 'gender_male', 'num...</td>\n",
       "      <td>/root/ray_results/_score_model_2021-07-07_16-4...</td>\n",
       "    </tr>\n",
       "    <tr>\n",
       "      <th>12</th>\n",
       "      <td>Pleural_Effusion_uzeros</td>\n",
       "      <td>gender_male</td>\n",
       "      <td>0.4</td>\n",
       "      <td>30000.0</td>\n",
       "      <td>1494</td>\n",
       "      <td>39.943068</td>\n",
       "      <td>False</td>\n",
       "      <td>NaN</td>\n",
       "      <td>NaN</td>\n",
       "      <td>1</td>\n",
       "      <td>...</td>\n",
       "      <td>39.943068</td>\n",
       "      <td>14146</td>\n",
       "      <td>pod-sabri</td>\n",
       "      <td>10.92.1.3</td>\n",
       "      <td>39.943068</td>\n",
       "      <td>0</td>\n",
       "      <td>1</td>\n",
       "      <td>9b209_00012</td>\n",
       "      <td>{'corr': 0.4, 'correlate': 'gender_male', 'num...</td>\n",
       "      <td>/root/ray_results/_score_model_2021-07-07_16-4...</td>\n",
       "    </tr>\n",
       "    <tr>\n",
       "      <th>13</th>\n",
       "      <td>Pleural_Effusion_uzeros</td>\n",
       "      <td>gender_male</td>\n",
       "      <td>0.5</td>\n",
       "      <td>30000.0</td>\n",
       "      <td>1495</td>\n",
       "      <td>40.437483</td>\n",
       "      <td>False</td>\n",
       "      <td>NaN</td>\n",
       "      <td>NaN</td>\n",
       "      <td>1</td>\n",
       "      <td>...</td>\n",
       "      <td>40.437483</td>\n",
       "      <td>14347</td>\n",
       "      <td>pod-sabri</td>\n",
       "      <td>10.92.1.3</td>\n",
       "      <td>40.437483</td>\n",
       "      <td>0</td>\n",
       "      <td>1</td>\n",
       "      <td>9b209_00013</td>\n",
       "      <td>{'corr': 0.5, 'correlate': 'gender_male', 'num...</td>\n",
       "      <td>/root/ray_results/_score_model_2021-07-07_16-4...</td>\n",
       "    </tr>\n",
       "    <tr>\n",
       "      <th>14</th>\n",
       "      <td>Pleural_Effusion_uzeros</td>\n",
       "      <td>gender_male</td>\n",
       "      <td>0.6</td>\n",
       "      <td>30000.0</td>\n",
       "      <td>1496</td>\n",
       "      <td>39.840637</td>\n",
       "      <td>False</td>\n",
       "      <td>NaN</td>\n",
       "      <td>NaN</td>\n",
       "      <td>1</td>\n",
       "      <td>...</td>\n",
       "      <td>39.840637</td>\n",
       "      <td>14543</td>\n",
       "      <td>pod-sabri</td>\n",
       "      <td>10.92.1.3</td>\n",
       "      <td>39.840637</td>\n",
       "      <td>0</td>\n",
       "      <td>1</td>\n",
       "      <td>9b209_00014</td>\n",
       "      <td>{'corr': 0.6000000000000001, 'correlate': 'gen...</td>\n",
       "      <td>/root/ray_results/_score_model_2021-07-07_16-4...</td>\n",
       "    </tr>\n",
       "    <tr>\n",
       "      <th>15</th>\n",
       "      <td>Pleural_Effusion_uzeros</td>\n",
       "      <td>gender_male</td>\n",
       "      <td>0.7</td>\n",
       "      <td>30000.0</td>\n",
       "      <td>1497</td>\n",
       "      <td>40.422139</td>\n",
       "      <td>False</td>\n",
       "      <td>NaN</td>\n",
       "      <td>NaN</td>\n",
       "      <td>1</td>\n",
       "      <td>...</td>\n",
       "      <td>40.422139</td>\n",
       "      <td>14741</td>\n",
       "      <td>pod-sabri</td>\n",
       "      <td>10.92.1.3</td>\n",
       "      <td>40.422139</td>\n",
       "      <td>0</td>\n",
       "      <td>1</td>\n",
       "      <td>9b209_00015</td>\n",
       "      <td>{'corr': 0.7000000000000001, 'correlate': 'gen...</td>\n",
       "      <td>/root/ray_results/_score_model_2021-07-07_16-4...</td>\n",
       "    </tr>\n",
       "    <tr>\n",
       "      <th>16</th>\n",
       "      <td>Pleural_Effusion_uzeros</td>\n",
       "      <td>gender_male</td>\n",
       "      <td>0.8</td>\n",
       "      <td>30000.0</td>\n",
       "      <td>1498</td>\n",
       "      <td>39.930714</td>\n",
       "      <td>False</td>\n",
       "      <td>NaN</td>\n",
       "      <td>NaN</td>\n",
       "      <td>1</td>\n",
       "      <td>...</td>\n",
       "      <td>39.930714</td>\n",
       "      <td>14939</td>\n",
       "      <td>pod-sabri</td>\n",
       "      <td>10.92.1.3</td>\n",
       "      <td>39.930714</td>\n",
       "      <td>0</td>\n",
       "      <td>1</td>\n",
       "      <td>9b209_00016</td>\n",
       "      <td>{'corr': 0.8, 'correlate': 'gender_male', 'num...</td>\n",
       "      <td>/root/ray_results/_score_model_2021-07-07_16-4...</td>\n",
       "    </tr>\n",
       "    <tr>\n",
       "      <th>17</th>\n",
       "      <td>Edema_uzeros</td>\n",
       "      <td>gender_male</td>\n",
       "      <td>0.0</td>\n",
       "      <td>30000.0</td>\n",
       "      <td>1499</td>\n",
       "      <td>39.753915</td>\n",
       "      <td>False</td>\n",
       "      <td>NaN</td>\n",
       "      <td>NaN</td>\n",
       "      <td>1</td>\n",
       "      <td>...</td>\n",
       "      <td>39.753915</td>\n",
       "      <td>15135</td>\n",
       "      <td>pod-sabri</td>\n",
       "      <td>10.92.1.3</td>\n",
       "      <td>39.753915</td>\n",
       "      <td>0</td>\n",
       "      <td>1</td>\n",
       "      <td>9b209_00017</td>\n",
       "      <td>{'corr': 0.0, 'correlate': 'gender_male', 'num...</td>\n",
       "      <td>/root/ray_results/_score_model_2021-07-07_16-4...</td>\n",
       "    </tr>\n",
       "    <tr>\n",
       "      <th>18</th>\n",
       "      <td>Edema_uzeros</td>\n",
       "      <td>gender_male</td>\n",
       "      <td>0.1</td>\n",
       "      <td>30000.0</td>\n",
       "      <td>1500</td>\n",
       "      <td>40.207289</td>\n",
       "      <td>False</td>\n",
       "      <td>NaN</td>\n",
       "      <td>NaN</td>\n",
       "      <td>1</td>\n",
       "      <td>...</td>\n",
       "      <td>40.207289</td>\n",
       "      <td>15330</td>\n",
       "      <td>pod-sabri</td>\n",
       "      <td>10.92.1.3</td>\n",
       "      <td>40.207289</td>\n",
       "      <td>0</td>\n",
       "      <td>1</td>\n",
       "      <td>9b209_00018</td>\n",
       "      <td>{'corr': 0.1, 'correlate': 'gender_male', 'num...</td>\n",
       "      <td>/root/ray_results/_score_model_2021-07-07_16-4...</td>\n",
       "    </tr>\n",
       "    <tr>\n",
       "      <th>19</th>\n",
       "      <td>Edema_uzeros</td>\n",
       "      <td>gender_male</td>\n",
       "      <td>0.2</td>\n",
       "      <td>30000.0</td>\n",
       "      <td>1501</td>\n",
       "      <td>40.018706</td>\n",
       "      <td>False</td>\n",
       "      <td>NaN</td>\n",
       "      <td>NaN</td>\n",
       "      <td>1</td>\n",
       "      <td>...</td>\n",
       "      <td>40.018706</td>\n",
       "      <td>15528</td>\n",
       "      <td>pod-sabri</td>\n",
       "      <td>10.92.1.3</td>\n",
       "      <td>40.018706</td>\n",
       "      <td>0</td>\n",
       "      <td>1</td>\n",
       "      <td>9b209_00019</td>\n",
       "      <td>{'corr': 0.2, 'correlate': 'gender_male', 'num...</td>\n",
       "      <td>/root/ray_results/_score_model_2021-07-07_16-4...</td>\n",
       "    </tr>\n",
       "  </tbody>\n",
       "</table>\n",
       "<p>10 rows × 23 columns</p>\n",
       "</div>"
      ]
     },
     "metadata": {},
     "execution_count": 8
    }
   ],
   "metadata": {}
  },
  {
   "cell_type": "code",
   "execution_count": 13,
   "source": [
    "inp = terra.inp(1493)\n",
    "model = inp[\"model\"].load()\n",
    "dp = inp[\"dp\"].load()"
   ],
   "outputs": [
    {
     "output_type": "stream",
     "name": "stderr",
     "text": [
      "Downloading: \"https://download.pytorch.org/models/resnet50-19c8e357.pth\" to /root/.cache/torch/hub/checkpoints/resnet50-19c8e357.pth\n"
     ]
    },
    {
     "output_type": "display_data",
     "data": {
      "text/plain": [
       "HBox(children=(FloatProgress(value=0.0, max=102502400.0), HTML(value='')))"
      ],
      "application/vnd.jupyter.widget-view+json": {
       "version_major": 2,
       "version_minor": 0,
       "model_id": "4f8fe1e2b3f146b195fc5582d9e4663e"
      }
     },
     "metadata": {}
    },
    {
     "output_type": "stream",
     "name": "stdout",
     "text": [
      "\n"
     ]
    },
    {
     "output_type": "stream",
     "name": "stderr",
     "text": [
      "/home/common/envs/conda/envs/domino/lib/python3.8/site-packages/torchmetrics/utilities/prints.py:36: UserWarning: Metric `AUROC` will save all targets and predictions in buffer. For large datasets this may lead to large memory footprint.\n",
      "  warnings.warn(*args, **kwargs)\n"
     ]
    }
   ],
   "metadata": {}
  },
  {
   "cell_type": "code",
   "execution_count": null,
   "source": [
    "dp"
   ],
   "outputs": [
    {
     "output_type": "execute_result",
     "data": {
      "text/plain": [
       "5"
      ]
     },
     "metadata": {},
     "execution_count": 7
    }
   ],
   "metadata": {}
  },
  {
   "cell_type": "code",
   "execution_count": 26,
   "source": [
    "# load training \n",
    "run_id = 3205\n",
    "inp_dp = score_model.inp(run_id)[\"dp\"].load()\n",
    "out = score_model.out(run_id=run_id, load=True)\n",
    "acts_dp = out[0]\n",
    "target, correlate, corr = out[1][\"target\"], out[1][\"correlate\"], out[1][\"corr\"]\n",
    "\n",
    "# need to get splits\n",
    "inp_dp = score_model.inp(run_id)[\"dp\"].load()\n",
    "acts_dp= acts_dp.merge(inp_dp[[\"dicom_id\", \"split\"]], how=\"left\", on=\"dicom_id\")"
   ],
   "outputs": [],
   "metadata": {}
  },
  {
   "cell_type": "code",
   "execution_count": 27,
   "source": [
    "roc_auc_score(acts_dp[correlate], acts_dp[\"output\"].data[:, -1])"
   ],
   "outputs": [
    {
     "output_type": "execute_result",
     "data": {
      "text/plain": [
       "0.7621259289119832"
      ]
     },
     "metadata": {},
     "execution_count": 27
    }
   ],
   "metadata": {}
  },
  {
   "cell_type": "code",
   "execution_count": 32,
   "source": [
    "def fit_probe(dp, model, layer: str = \"layer3_mean\"):\n",
    "    print(\"Fitting...\")\n",
    "    valid_dp = dp.lz[dp[\"split\"].data == \"validate\"]\n",
    "    acts = valid_dp[layer]\n",
    "    model.fit(acts, valid_dp[correlate])\n",
    "\n",
    "    print(\"Predicting...\")\n",
    "    test_dp = dp.lz[dp[\"split\"].data == \"test\"]\n",
    "    acts = test_dp[layer]\n",
    "    test_dp[\"pred\"] = model.predict_proba(acts)\n",
    "    return test_dp, model\n"
   ],
   "outputs": [],
   "metadata": {}
  },
  {
   "cell_type": "code",
   "execution_count": 33,
   "source": [
    "out_dp, model = fit_probe(acts_dp, LogisticRegression())\n",
    "print(roc_auc_score(out_dp[correlate], out_dp[\"pred\"].data[:, 1]))\n",
    "plt.bar(x=np.arange(len(model.coef_[0])), height=model.coef_[0])"
   ],
   "outputs": [
    {
     "output_type": "stream",
     "name": "stdout",
     "text": [
      "Fitting...\n",
      "Predicting...\n",
      "0.9156957952498602\n"
     ]
    },
    {
     "output_type": "execute_result",
     "data": {
      "text/plain": [
       "<BarContainer object of 1024 artists>"
      ]
     },
     "metadata": {},
     "execution_count": 33
    },
    {
     "output_type": "display_data",
     "data": {
      "text/plain": [
       "<Figure size 432x288 with 1 Axes>"
      ],
      "image/png": "[encoded data removed]"
     },
     "metadata": {
      "needs_background": "light"
     }
    }
   ],
   "metadata": {}
  },
  {
   "cell_type": "code",
   "execution_count": 215,
   "source": [
    "def fit_pca_probe(dp, model_cls, **kwargs):\n",
    "    print(\"Fitting...\")\n",
    "    valid_dp = dp.lz[dp[\"split\"].data == \"validate\"]\n",
    "    model = model_cls(**kwargs)\n",
    "    acts = valid_dp[\"activation_layer4\"].mean(dim=[-1, -2])\n",
    "    pca = PCA().fit(acts)\n",
    "    components = pca.transform(acts)\n",
    "    model.fit(components, valid_dp[correlate])\n",
    "\n",
    "    print(\"Predicting...\")\n",
    "    test_dp = dp.lz[dp[\"split\"].data == \"test\"]\n",
    "    acts = test_dp[\"activation_layer4\"].mean(dim=[-1, -2])\n",
    "    components = pca.transform(acts)\n",
    "    test_dp[\"components\"] = components\n",
    "    test_dp[\"pred\"] = model.predict_proba(components)\n",
    "    return test_dp, model, pca "
   ],
   "outputs": [],
   "metadata": {}
  },
  {
   "cell_type": "code",
   "execution_count": 21,
   "source": [
    "out_dp, model, pca = fit_pca_probe(act_dp, LogisticRegression)\n",
    "print(roc_auc_score(out_dp[correlate], out_dp[\"pred\"].data[:, 1]))\n",
    "plt.bar(x=np.arange(len(model.coef_[0])), height=model.coef_[0])"
   ],
   "outputs": [
    {
     "output_type": "error",
     "ename": "NameError",
     "evalue": "name 'fit_pca_probe' is not defined",
     "traceback": [
      "\u001b[0;31m---------------------------------------------------------------------------\u001b[0m",
      "\u001b[0;31mNameError\u001b[0m                                 Traceback (most recent call last)",
      "\u001b[0;32m<ipython-input-21-cdf6acccdc29>\u001b[0m in \u001b[0;36m<module>\u001b[0;34m\u001b[0m\n\u001b[0;32m----> 1\u001b[0;31m \u001b[0mout_dp\u001b[0m\u001b[0;34m,\u001b[0m \u001b[0mmodel\u001b[0m\u001b[0;34m,\u001b[0m \u001b[0mpca\u001b[0m \u001b[0;34m=\u001b[0m \u001b[0mfit_pca_probe\u001b[0m\u001b[0;34m(\u001b[0m\u001b[0mact_dp\u001b[0m\u001b[0;34m,\u001b[0m \u001b[0mLogisticRegression\u001b[0m\u001b[0;34m)\u001b[0m\u001b[0;34m\u001b[0m\u001b[0;34m\u001b[0m\u001b[0m\n\u001b[0m\u001b[1;32m      2\u001b[0m \u001b[0mprint\u001b[0m\u001b[0;34m(\u001b[0m\u001b[0mroc_auc_score\u001b[0m\u001b[0;34m(\u001b[0m\u001b[0mout_dp\u001b[0m\u001b[0;34m[\u001b[0m\u001b[0mcorrelate\u001b[0m\u001b[0;34m]\u001b[0m\u001b[0;34m,\u001b[0m \u001b[0mout_dp\u001b[0m\u001b[0;34m[\u001b[0m\u001b[0;34m\"pred\"\u001b[0m\u001b[0;34m]\u001b[0m\u001b[0;34m.\u001b[0m\u001b[0mdata\u001b[0m\u001b[0;34m[\u001b[0m\u001b[0;34m:\u001b[0m\u001b[0;34m,\u001b[0m \u001b[0;36m1\u001b[0m\u001b[0;34m]\u001b[0m\u001b[0;34m)\u001b[0m\u001b[0;34m)\u001b[0m\u001b[0;34m\u001b[0m\u001b[0;34m\u001b[0m\u001b[0m\n\u001b[1;32m      3\u001b[0m \u001b[0mplt\u001b[0m\u001b[0;34m.\u001b[0m\u001b[0mbar\u001b[0m\u001b[0;34m(\u001b[0m\u001b[0mx\u001b[0m\u001b[0;34m=\u001b[0m\u001b[0mnp\u001b[0m\u001b[0;34m.\u001b[0m\u001b[0marange\u001b[0m\u001b[0;34m(\u001b[0m\u001b[0mlen\u001b[0m\u001b[0;34m(\u001b[0m\u001b[0mmodel\u001b[0m\u001b[0;34m.\u001b[0m\u001b[0mcoef_\u001b[0m\u001b[0;34m[\u001b[0m\u001b[0;36m0\u001b[0m\u001b[0;34m]\u001b[0m\u001b[0;34m)\u001b[0m\u001b[0;34m)\u001b[0m\u001b[0;34m,\u001b[0m \u001b[0mheight\u001b[0m\u001b[0;34m=\u001b[0m\u001b[0mmodel\u001b[0m\u001b[0;34m.\u001b[0m\u001b[0mcoef_\u001b[0m\u001b[0;34m[\u001b[0m\u001b[0;36m0\u001b[0m\u001b[0;34m]\u001b[0m\u001b[0;34m)\u001b[0m\u001b[0;34m\u001b[0m\u001b[0;34m\u001b[0m\u001b[0m\n",
      "\u001b[0;31mNameError\u001b[0m: name 'fit_pca_probe' is not defined"
     ]
    }
   ],
   "metadata": {}
  },
  {
   "cell_type": "code",
   "execution_count": 139,
   "source": [
    "np.argsort(-np.abs(model.coef_))[0, :10]"
   ],
   "outputs": [
    {
     "output_type": "execute_result",
     "data": {
      "text/plain": [
       "array([ 31,  12,  16, 127,  30,  25,  46,  49, 108,  90])"
      ]
     },
     "metadata": {},
     "execution_count": 139
    }
   ],
   "metadata": {}
  },
  {
   "cell_type": "code",
   "execution_count": 151,
   "source": [
    "roc_auc_score(out_dp[correlate], out_dp[\"components\"].data[:, 108])"
   ],
   "outputs": [
    {
     "output_type": "execute_result",
     "data": {
      "text/plain": [
       "0.47420121462656406"
      ]
     },
     "metadata": {},
     "execution_count": 151
    }
   ],
   "metadata": {}
  },
  {
   "cell_type": "code",
   "execution_count": 183,
   "source": [
    "def plot_features_v_auroc(model, dp):\n",
    "    results = []\n",
    "    for num_features in np.logspace(1, np.log2(len(model.coef_[0])), num=50, base=2):\n",
    "        num_features = int(num_features)\n",
    "        mask = np.argsort(-np.abs(model.coef_))[0, :num_features]\n",
    "        preds = np.matmul(dp[\"components\"].data[:, mask], model.coef_.T[mask, :])\n",
    "        score = roc_auc_score(dp[correlate], preds)\n",
    "        results.append({\"auroc\": score, \"num_features\": num_features})\n",
    "    plot_df = pd.DataFrame(results)\n",
    "    sns.lineplot(data=plot_df, x=\"num_features\", y=\"auroc\")\n",
    "    plt.xscale(\"log\")\n",
    "    return plot_df\n",
    "plot_features_v_auroc(model, out_dp);"
   ],
   "outputs": [
    {
     "output_type": "display_data",
     "data": {
      "text/plain": [
       "<Figure size 432x288 with 1 Axes>"
      ],
      "image/png": "[encoded data removed]"
     },
     "metadata": {
      "needs_background": "light"
     }
    }
   ],
   "metadata": {}
  },
  {
   "cell_type": "code",
   "execution_count": 185,
   "source": [
    "scores = []\n",
    "for comp_idx in range(out_dp[\"components\"].data.shape[-1]):\n",
    "    scores.append(\n",
    "        roc_auc_score(out_dp[correlate], out_dp[\"components\"].data[:, comp_idx])\n",
    "    )\n",
    "np.sort(scores)"
   ],
   "outputs": [
    {
     "output_type": "execute_result",
     "data": {
      "text/plain": [
       "array([0.24111467, 0.28825554, 0.408827  , ..., 0.59450454, 0.6221593 ,\n",
       "       0.68337911])"
      ]
     },
     "metadata": {},
     "execution_count": 185
    }
   ],
   "metadata": {}
  }
 ],
 "metadata": {
  "orig_nbformat": 4,
  "language_info": {
   "name": "python",
   "version": "3.8.10",
   "mimetype": "text/x-python",
   "codemirror_mode": {
    "name": "ipython",
    "version": 3
   },
   "pygments_lexer": "ipython3",
   "nbconvert_exporter": "python",
   "file_extension": ".py"
  },
  "kernelspec": {
   "name": "python3",
   "display_name": "Python 3.8.10 64-bit ('domino': conda)"
  },
  "interpreter": {
   "hash": "0d937a63d09daec3f9548a5c769ccb20edb9c2c1ae2375686b21850f577713d2"
  }
 },
 "nbformat": 4,
 "nbformat_minor": 2
}