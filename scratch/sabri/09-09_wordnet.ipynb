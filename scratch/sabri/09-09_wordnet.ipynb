{
 "cells": [
  {
   "cell_type": "code",
   "execution_count": 1,
   "source": [
    "%load_ext autoreload\n",
    "%autoreload 2\n",
    "from domino.data.imagenet import get_imagenet_dp\n",
    "\n",
    "#data_dp = get_imagenet_dp()\n",
    "data_dp = get_imagenet_dp.out(6121).load()"
   ],
   "outputs": [],
   "metadata": {}
  },
  {
   "cell_type": "code",
   "execution_count": 5,
   "source": [
    "from nltk.corpus import wordnet as wn\n",
    "import nltk\n",
    "nltk.download('wordnet')"
   ],
   "outputs": [
    {
     "output_type": "stream",
     "name": "stderr",
     "text": [
      "[nltk_data] Downloading package wordnet to /root/nltk_data...\n",
      "[nltk_data]   Unzipping corpora/wordnet.zip.\n"
     ]
    },
    {
     "output_type": "execute_result",
     "data": {
      "text/plain": [
       "True"
      ]
     },
     "metadata": {},
     "execution_count": 5
    }
   ],
   "metadata": {}
  },
  {
   "cell_type": "code",
   "execution_count": 6,
   "source": [
    "\n",
    "list(wn.synset(\"snowmobile.n.01\").closure(lambda s: s.hypernyms()))"
   ],
   "outputs": [
    {
     "output_type": "stream",
     "name": "stderr",
     "text": [
      "/home/common/envs/conda/envs/domino/lib/python3.8/site-packages/nltk/corpus/reader/wordnet.py:580: UserWarning: Discarded redundant search for Synset('instrumentality.n.03') at depth 6\n",
      "  for synset in acyclic_breadth_first(self, rel, depth):\n"
     ]
    },
    {
     "output_type": "execute_result",
     "data": {
      "text/plain": [
       "[Synset('tracked_vehicle.n.01'),\n",
       " Synset('self-propelled_vehicle.n.01'),\n",
       " Synset('wheeled_vehicle.n.01'),\n",
       " Synset('container.n.01'),\n",
       " Synset('vehicle.n.01'),\n",
       " Synset('instrumentality.n.03'),\n",
       " Synset('conveyance.n.03'),\n",
       " Synset('artifact.n.01'),\n",
       " Synset('whole.n.02'),\n",
       " Synset('object.n.01'),\n",
       " Synset('physical_entity.n.01'),\n",
       " Synset('entity.n.01')]"
      ]
     },
     "metadata": {},
     "execution_count": 6
    }
   ],
   "metadata": {}
  },
  {
   "cell_type": "code",
   "execution_count": 16,
   "source": [
    "synsets = set(data_dp[\"synset\"].unique())"
   ],
   "outputs": [],
   "metadata": {}
  },
  {
   "cell_type": "code",
   "execution_count": 17,
   "source": [
    "hypernyms = []\n",
    "for synset in synsets:\n",
    "    synset =  wn.synset_from_pos_and_offset(\n",
    "        pos=synset[0], offset=int(synset[1:])\n",
    "    )\n",
    "    for hypernym in synset.closure(lambda s: s.hypernyms()):\n",
    "        hypernyms.append( {\"synset\": synset.name(), \"hypernym\": hypernym.name()})\n"
   ],
   "outputs": [
    {
     "output_type": "stream",
     "name": "stderr",
     "text": [
      "/home/common/envs/conda/envs/domino/lib/python3.8/site-packages/nltk/corpus/reader/wordnet.py:580: UserWarning: Discarded redundant search for Synset('animal.n.01') at depth 10\n",
      "  for synset in acyclic_breadth_first(self, rel, depth):\n",
      "/home/common/envs/conda/envs/domino/lib/python3.8/site-packages/nltk/corpus/reader/wordnet.py:580: UserWarning: Discarded redundant search for Synset('artifact.n.01') at depth 6\n",
      "  for synset in acyclic_breadth_first(self, rel, depth):\n",
      "/home/common/envs/conda/envs/domino/lib/python3.8/site-packages/nltk/corpus/reader/wordnet.py:580: UserWarning: Discarded redundant search for Synset('physical_entity.n.01') at depth 8\n",
      "  for synset in acyclic_breadth_first(self, rel, depth):\n",
      "/home/common/envs/conda/envs/domino/lib/python3.8/site-packages/nltk/corpus/reader/wordnet.py:580: UserWarning: Discarded redundant search for Synset('instrumentality.n.03') at depth 5\n",
      "  for synset in acyclic_breadth_first(self, rel, depth):\n",
      "/home/common/envs/conda/envs/domino/lib/python3.8/site-packages/nltk/corpus/reader/wordnet.py:580: UserWarning: Discarded redundant search for Synset('vehicle.n.01') at depth 4\n",
      "  for synset in acyclic_breadth_first(self, rel, depth):\n",
      "/home/common/envs/conda/envs/domino/lib/python3.8/site-packages/nltk/corpus/reader/wordnet.py:580: UserWarning: Discarded redundant search for Synset('matter.n.03') at depth 7\n",
      "  for synset in acyclic_breadth_first(self, rel, depth):\n",
      "/home/common/envs/conda/envs/domino/lib/python3.8/site-packages/nltk/corpus/reader/wordnet.py:580: UserWarning: Discarded redundant search for Synset('motor_vehicle.n.01') at depth 4\n",
      "  for synset in acyclic_breadth_first(self, rel, depth):\n",
      "/home/common/envs/conda/envs/domino/lib/python3.8/site-packages/nltk/corpus/reader/wordnet.py:580: UserWarning: Discarded redundant search for Synset('instrumentality.n.03') at depth 7\n",
      "  for synset in acyclic_breadth_first(self, rel, depth):\n",
      "/home/common/envs/conda/envs/domino/lib/python3.8/site-packages/nltk/corpus/reader/wordnet.py:580: UserWarning: Discarded redundant search for Synset('artifact.n.01') at depth 4\n",
      "  for synset in acyclic_breadth_first(self, rel, depth):\n",
      "/home/common/envs/conda/envs/domino/lib/python3.8/site-packages/nltk/corpus/reader/wordnet.py:580: UserWarning: Discarded redundant search for Synset('instrumentality.n.03') at depth 4\n",
      "  for synset in acyclic_breadth_first(self, rel, depth):\n",
      "/home/common/envs/conda/envs/domino/lib/python3.8/site-packages/nltk/corpus/reader/wordnet.py:580: UserWarning: Discarded redundant search for Synset('animal.n.01') at depth 11\n",
      "  for synset in acyclic_breadth_first(self, rel, depth):\n",
      "/home/common/envs/conda/envs/domino/lib/python3.8/site-packages/nltk/corpus/reader/wordnet.py:580: UserWarning: Discarded redundant search for Synset('instrumentality.n.03') at depth 6\n",
      "  for synset in acyclic_breadth_first(self, rel, depth):\n",
      "/home/common/envs/conda/envs/domino/lib/python3.8/site-packages/nltk/corpus/reader/wordnet.py:580: UserWarning: Discarded redundant search for Synset('ware.n.01') at depth 4\n",
      "  for synset in acyclic_breadth_first(self, rel, depth):\n",
      "/home/common/envs/conda/envs/domino/lib/python3.8/site-packages/nltk/corpus/reader/wordnet.py:580: UserWarning: Discarded redundant search for Synset('animal.n.01') at depth 9\n",
      "  for synset in acyclic_breadth_first(self, rel, depth):\n",
      "/home/common/envs/conda/envs/domino/lib/python3.8/site-packages/nltk/corpus/reader/wordnet.py:580: UserWarning: Discarded redundant search for Synset('tool.n.01') at depth 4\n",
      "  for synset in acyclic_breadth_first(self, rel, depth):\n",
      "/home/common/envs/conda/envs/domino/lib/python3.8/site-packages/nltk/corpus/reader/wordnet.py:580: UserWarning: Discarded redundant search for Synset('animal.n.01') at depth 7\n",
      "  for synset in acyclic_breadth_first(self, rel, depth):\n",
      "/home/common/envs/conda/envs/domino/lib/python3.8/site-packages/nltk/corpus/reader/wordnet.py:580: UserWarning: Discarded redundant search for Synset('physical_entity.n.01') at depth 9\n",
      "  for synset in acyclic_breadth_first(self, rel, depth):\n",
      "/home/common/envs/conda/envs/domino/lib/python3.8/site-packages/nltk/corpus/reader/wordnet.py:580: UserWarning: Discarded redundant search for Synset('animal.n.01') at depth 8\n",
      "  for synset in acyclic_breadth_first(self, rel, depth):\n",
      "/home/common/envs/conda/envs/domino/lib/python3.8/site-packages/nltk/corpus/reader/wordnet.py:580: UserWarning: Discarded redundant search for Synset('animal.n.01') at depth 12\n",
      "  for synset in acyclic_breadth_first(self, rel, depth):\n",
      "/home/common/envs/conda/envs/domino/lib/python3.8/site-packages/nltk/corpus/reader/wordnet.py:580: UserWarning: Discarded redundant search for Synset('food.n.01') at depth 5\n",
      "  for synset in acyclic_breadth_first(self, rel, depth):\n",
      "/home/common/envs/conda/envs/domino/lib/python3.8/site-packages/nltk/corpus/reader/wordnet.py:580: UserWarning: Discarded redundant search for Synset('matter.n.03') at depth 6\n",
      "  for synset in acyclic_breadth_first(self, rel, depth):\n",
      "/home/common/envs/conda/envs/domino/lib/python3.8/site-packages/nltk/corpus/reader/wordnet.py:580: UserWarning: Discarded redundant search for Synset('fish.n.01') at depth 6\n",
      "  for synset in acyclic_breadth_first(self, rel, depth):\n",
      "/home/common/envs/conda/envs/domino/lib/python3.8/site-packages/nltk/corpus/reader/wordnet.py:580: UserWarning: Discarded redundant search for Synset('substance.n.07') at depth 7\n",
      "  for synset in acyclic_breadth_first(self, rel, depth):\n",
      "/home/common/envs/conda/envs/domino/lib/python3.8/site-packages/nltk/corpus/reader/wordnet.py:580: UserWarning: Discarded redundant search for Synset('matter.n.03') at depth 8\n",
      "  for synset in acyclic_breadth_first(self, rel, depth):\n",
      "/home/common/envs/conda/envs/domino/lib/python3.8/site-packages/nltk/corpus/reader/wordnet.py:580: UserWarning: Discarded redundant search for Synset('entity.n.01') at depth 11\n",
      "  for synset in acyclic_breadth_first(self, rel, depth):\n",
      "/home/common/envs/conda/envs/domino/lib/python3.8/site-packages/nltk/corpus/reader/wordnet.py:580: UserWarning: Discarded redundant search for Synset('entity.n.01') at depth 9\n",
      "  for synset in acyclic_breadth_first(self, rel, depth):\n",
      "/home/common/envs/conda/envs/domino/lib/python3.8/site-packages/nltk/corpus/reader/wordnet.py:580: UserWarning: Discarded redundant search for Synset('covering.n.02') at depth 4\n",
      "  for synset in acyclic_breadth_first(self, rel, depth):\n",
      "/home/common/envs/conda/envs/domino/lib/python3.8/site-packages/nltk/corpus/reader/wordnet.py:580: UserWarning: Discarded redundant search for Synset('artifact.n.01') at depth 7\n",
      "  for synset in acyclic_breadth_first(self, rel, depth):\n",
      "/home/common/envs/conda/envs/domino/lib/python3.8/site-packages/nltk/corpus/reader/wordnet.py:580: UserWarning: Discarded redundant search for Synset('physical_entity.n.01') at depth 10\n",
      "  for synset in acyclic_breadth_first(self, rel, depth):\n",
      "/home/common/envs/conda/envs/domino/lib/python3.8/site-packages/nltk/corpus/reader/wordnet.py:580: UserWarning: Discarded redundant search for Synset('structure.n.01') at depth 5\n",
      "  for synset in acyclic_breadth_first(self, rel, depth):\n",
      "/home/common/envs/conda/envs/domino/lib/python3.8/site-packages/nltk/corpus/reader/wordnet.py:580: UserWarning: Discarded redundant search for Synset('structure.n.01') at depth 6\n",
      "  for synset in acyclic_breadth_first(self, rel, depth):\n",
      "/home/common/envs/conda/envs/domino/lib/python3.8/site-packages/nltk/corpus/reader/wordnet.py:580: UserWarning: Discarded redundant search for Synset('artifact.n.01') at depth 5\n",
      "  for synset in acyclic_breadth_first(self, rel, depth):\n",
      "/home/common/envs/conda/envs/domino/lib/python3.8/site-packages/nltk/corpus/reader/wordnet.py:580: UserWarning: Discarded redundant search for Synset('substance.n.07') at depth 6\n",
      "  for synset in acyclic_breadth_first(self, rel, depth):\n",
      "/home/common/envs/conda/envs/domino/lib/python3.8/site-packages/nltk/corpus/reader/wordnet.py:580: UserWarning: Discarded redundant search for Synset('entity.n.01') at depth 10\n",
      "  for synset in acyclic_breadth_first(self, rel, depth):\n",
      "/home/common/envs/conda/envs/domino/lib/python3.8/site-packages/nltk/corpus/reader/wordnet.py:580: UserWarning: Discarded redundant search for Synset('object.n.01') at depth 8\n",
      "  for synset in acyclic_breadth_first(self, rel, depth):\n",
      "/home/common/envs/conda/envs/domino/lib/python3.8/site-packages/nltk/corpus/reader/wordnet.py:580: UserWarning: Discarded redundant search for Synset('instrumentality.n.03') at depth 8\n",
      "  for synset in acyclic_breadth_first(self, rel, depth):\n",
      "/home/common/envs/conda/envs/domino/lib/python3.8/site-packages/nltk/corpus/reader/wordnet.py:580: UserWarning: Discarded redundant search for Synset('animal.n.01') at depth 6\n",
      "  for synset in acyclic_breadth_first(self, rel, depth):\n",
      "/home/common/envs/conda/envs/domino/lib/python3.8/site-packages/nltk/corpus/reader/wordnet.py:580: UserWarning: Discarded redundant search for Synset('vehicle.n.01') at depth 5\n",
      "  for synset in acyclic_breadth_first(self, rel, depth):\n",
      "/home/common/envs/conda/envs/domino/lib/python3.8/site-packages/nltk/corpus/reader/wordnet.py:580: UserWarning: Discarded redundant search for Synset('automatic_firearm.n.01') at depth 3\n",
      "  for synset in acyclic_breadth_first(self, rel, depth):\n",
      "/home/common/envs/conda/envs/domino/lib/python3.8/site-packages/nltk/corpus/reader/wordnet.py:580: UserWarning: Discarded redundant search for Synset('vehicle.n.01') at depth 6\n",
      "  for synset in acyclic_breadth_first(self, rel, depth):\n",
      "/home/common/envs/conda/envs/domino/lib/python3.8/site-packages/nltk/corpus/reader/wordnet.py:580: UserWarning: Discarded redundant search for Synset('physical_entity.n.01') at depth 7\n",
      "  for synset in acyclic_breadth_first(self, rel, depth):\n",
      "/home/common/envs/conda/envs/domino/lib/python3.8/site-packages/nltk/corpus/reader/wordnet.py:580: UserWarning: Discarded redundant search for Synset('entity.n.01') at depth 8\n",
      "  for synset in acyclic_breadth_first(self, rel, depth):\n",
      "/home/common/envs/conda/envs/domino/lib/python3.8/site-packages/nltk/corpus/reader/wordnet.py:580: UserWarning: Discarded redundant search for Synset('physical_entity.n.01') at depth 11\n",
      "  for synset in acyclic_breadth_first(self, rel, depth):\n"
     ]
    }
   ],
   "metadata": {}
  },
  {
   "cell_type": "code",
   "execution_count": 11,
   "source": [
    "import pandas as pd\n",
    "df = pd.DataFrame(hypernyms)"
   ],
   "outputs": [],
   "metadata": {}
  },
  {
   "cell_type": "code",
   "execution_count": 18,
   "source": [
    "df.hypernym.value_counts()[20:40]"
   ],
   "outputs": [
    {
     "output_type": "execute_result",
     "data": {
      "text/plain": [
       "conveyance.n.03                72\n",
       "vehicle.n.01                   67\n",
       "commodity.n.01                 65\n",
       "consumer_goods.n.01            64\n",
       "hunting_dog.n.01               63\n",
       "invertebrate.n.01              61\n",
       "structure.n.01                 59\n",
       "bird.n.01                      59\n",
       "matter.n.03                    52\n",
       "clothing.n.01                  51\n",
       "arthropod.n.01                 47\n",
       "wheeled_vehicle.n.01           45\n",
       "equipment.n.01                 43\n",
       "implement.n.01                 39\n",
       "reptile.n.01                   36\n",
       "self-propelled_vehicle.n.01    32\n",
       "musical_instrument.n.01        32\n",
       "diapsid.n.01                   31\n",
       "working_dog.n.01               30\n",
       "food.n.02                      28\n",
       "Name: hypernym, dtype: int64"
      ]
     },
     "metadata": {},
     "execution_count": 18
    }
   ],
   "metadata": {}
  },
  {
   "cell_type": "code",
   "execution_count": 38,
   "source": [
    "df[df[\"hypernym\"] == \"vehicle.n.01\"]"
   ],
   "outputs": [
    {
     "output_type": "execute_result",
     "data": {
      "text/html": [
       "<div>\n",
       "<style scoped>\n",
       "    .dataframe tbody tr th:only-of-type {\n",
       "        vertical-align: middle;\n",
       "    }\n",
       "\n",
       "    .dataframe tbody tr th {\n",
       "        vertical-align: top;\n",
       "    }\n",
       "\n",
       "    .dataframe thead th {\n",
       "        text-align: right;\n",
       "    }\n",
       "</style>\n",
       "<table border=\"1\" class=\"dataframe\">\n",
       "  <thead>\n",
       "    <tr style=\"text-align: right;\">\n",
       "      <th></th>\n",
       "      <th>synset</th>\n",
       "      <th>hypernym</th>\n",
       "    </tr>\n",
       "  </thead>\n",
       "  <tbody>\n",
       "    <tr>\n",
       "      <th>96</th>\n",
       "      <td>balloon.n.01</td>\n",
       "      <td>vehicle.n.01</td>\n",
       "    </tr>\n",
       "    <tr>\n",
       "      <th>127</th>\n",
       "      <td>shopping_cart.n.01</td>\n",
       "      <td>vehicle.n.01</td>\n",
       "    </tr>\n",
       "    <tr>\n",
       "      <th>146</th>\n",
       "      <td>warplane.n.01</td>\n",
       "      <td>vehicle.n.01</td>\n",
       "    </tr>\n",
       "    <tr>\n",
       "      <th>236</th>\n",
       "      <td>lifeboat.n.01</td>\n",
       "      <td>vehicle.n.01</td>\n",
       "    </tr>\n",
       "    <tr>\n",
       "      <th>256</th>\n",
       "      <td>freight_car.n.01</td>\n",
       "      <td>vehicle.n.01</td>\n",
       "    </tr>\n",
       "    <tr>\n",
       "      <th>...</th>\n",
       "      <td>...</td>\n",
       "      <td>...</td>\n",
       "    </tr>\n",
       "    <tr>\n",
       "      <th>11139</th>\n",
       "      <td>pickup.n.01</td>\n",
       "      <td>vehicle.n.01</td>\n",
       "    </tr>\n",
       "    <tr>\n",
       "      <th>11467</th>\n",
       "      <td>racer.n.02</td>\n",
       "      <td>vehicle.n.01</td>\n",
       "    </tr>\n",
       "    <tr>\n",
       "      <th>11606</th>\n",
       "      <td>go-kart.n.01</td>\n",
       "      <td>vehicle.n.01</td>\n",
       "    </tr>\n",
       "    <tr>\n",
       "      <th>11618</th>\n",
       "      <td>trimaran.n.01</td>\n",
       "      <td>vehicle.n.01</td>\n",
       "    </tr>\n",
       "    <tr>\n",
       "      <th>12045</th>\n",
       "      <td>moped.n.01</td>\n",
       "      <td>vehicle.n.01</td>\n",
       "    </tr>\n",
       "  </tbody>\n",
       "</table>\n",
       "<p>67 rows × 2 columns</p>\n",
       "</div>"
      ],
      "text/plain": [
       "                   synset      hypernym\n",
       "96           balloon.n.01  vehicle.n.01\n",
       "127    shopping_cart.n.01  vehicle.n.01\n",
       "146         warplane.n.01  vehicle.n.01\n",
       "236         lifeboat.n.01  vehicle.n.01\n",
       "256      freight_car.n.01  vehicle.n.01\n",
       "...                   ...           ...\n",
       "11139         pickup.n.01  vehicle.n.01\n",
       "11467          racer.n.02  vehicle.n.01\n",
       "11606        go-kart.n.01  vehicle.n.01\n",
       "11618       trimaran.n.01  vehicle.n.01\n",
       "12045          moped.n.01  vehicle.n.01\n",
       "\n",
       "[67 rows x 2 columns]"
      ]
     },
     "metadata": {},
     "execution_count": 38
    }
   ],
   "metadata": {}
  },
  {
   "cell_type": "code",
   "execution_count": null,
   "source": [
    "df[df[\"hypernym\"] == \"vehicle.n.01\"]"
   ],
   "outputs": [],
   "metadata": {}
  },
  {
   "cell_type": "code",
   "execution_count": 2,
   "source": [
    "from domino.slices.imagenet import ImageNetSliceBuilder"
   ],
   "outputs": [],
   "metadata": {}
  },
  {
   "cell_type": "code",
   "execution_count": 3,
   "source": [
    "sb = ImageNetSliceBuilder()"
   ],
   "outputs": [],
   "metadata": {}
  },
  {
   "cell_type": "code",
   "execution_count": 16,
   "source": [
    "sb.build_rare_slice(\n",
    "    data_dp, \n",
    "    target_synset=\"vehicle.n.01\", \n",
    "    slice_synsets=\"balloon.n.01\",\n",
    "    target_frac=0.5,\n",
    "    slice_frac=0.001,\n",
    "    n=40_000\n",
    ")"
   ],
   "outputs": [
    {
     "output_type": "error",
     "ename": "ValueError",
     "evalue": "'a' cannot be empty unless no samples are taken",
     "traceback": [
      "\u001b[0;31m---------------------------------------------------------------------------\u001b[0m",
      "\u001b[0;31mValueError\u001b[0m                                Traceback (most recent call last)",
      "\u001b[0;32m/tmp/ipykernel_129372/1164371182.py\u001b[0m in \u001b[0;36m<module>\u001b[0;34m\u001b[0m\n\u001b[0;32m----> 1\u001b[0;31m sb.build_rare_slice(\n\u001b[0m\u001b[1;32m      2\u001b[0m     \u001b[0mdata_dp\u001b[0m\u001b[0;34m,\u001b[0m\u001b[0;34m\u001b[0m\u001b[0;34m\u001b[0m\u001b[0m\n\u001b[1;32m      3\u001b[0m     \u001b[0mtarget_synset\u001b[0m\u001b[0;34m=\u001b[0m\u001b[0;34m\"vehicle.n.01\"\u001b[0m\u001b[0;34m,\u001b[0m\u001b[0;34m\u001b[0m\u001b[0;34m\u001b[0m\u001b[0m\n\u001b[1;32m      4\u001b[0m     \u001b[0mslice_synsets\u001b[0m\u001b[0;34m=\u001b[0m\u001b[0;34m\"balloon.n.01\"\u001b[0m\u001b[0;34m,\u001b[0m\u001b[0;34m\u001b[0m\u001b[0;34m\u001b[0m\u001b[0m\n\u001b[1;32m      5\u001b[0m     \u001b[0mtarget_frac\u001b[0m\u001b[0;34m=\u001b[0m\u001b[0;36m0.5\u001b[0m\u001b[0;34m,\u001b[0m\u001b[0;34m\u001b[0m\u001b[0;34m\u001b[0m\u001b[0m\n",
      "\u001b[0;32m/home/sabri/code/domino/domino/slices/imagenet.py\u001b[0m in \u001b[0;36mbuild_rare_slice\u001b[0;34m(self, data_dp, target_synset, slice_synsets, slice_frac, target_frac, n, **kwargs)\u001b[0m\n\u001b[1;32m     71\u001b[0m                             \u001b[0;32mfor\u001b[0m \u001b[0mslice_idx\u001b[0m \u001b[0;32min\u001b[0m \u001b[0mrange\u001b[0m\u001b[0;34m(\u001b[0m\u001b[0mn_slices\u001b[0m\u001b[0;34m)\u001b[0m\u001b[0;34m\u001b[0m\u001b[0;34m\u001b[0m\u001b[0m\n\u001b[1;32m     72\u001b[0m                         ),\n\u001b[0;32m---> 73\u001b[0;31m                         np.random.choice(\n\u001b[0m\u001b[1;32m     74\u001b[0m                             np.where(\n\u001b[1;32m     75\u001b[0m                                 \u001b[0;34m(\u001b[0m\u001b[0mdata_dp\u001b[0m\u001b[0;34m[\u001b[0m\u001b[0;34m\"target\"\u001b[0m\u001b[0;34m]\u001b[0m \u001b[0;34m==\u001b[0m \u001b[0;36m1\u001b[0m\u001b[0;34m)\u001b[0m\u001b[0;34m\u001b[0m\u001b[0;34m\u001b[0m\u001b[0m\n",
      "\u001b[0;32mmtrand.pyx\u001b[0m in \u001b[0;36mnumpy.random.mtrand.RandomState.choice\u001b[0;34m()\u001b[0m\n",
      "\u001b[0;31mValueError\u001b[0m: 'a' cannot be empty unless no samples are taken"
     ]
    }
   ],
   "metadata": {}
  },
  {
   "cell_type": "code",
   "execution_count": 25,
   "source": [
    "ImageNetSliceBuilder.build_rare_slice.__qualname__"
   ],
   "outputs": [
    {
     "output_type": "execute_result",
     "data": {
      "text/plain": [
       "'ImageNetSliceBuilder.build_rare_slice'"
      ]
     },
     "metadata": {},
     "execution_count": 25
    }
   ],
   "metadata": {}
  },
  {
   "cell_type": "code",
   "execution_count": 28,
   "source": [],
   "outputs": [
    {
     "output_type": "error",
     "ename": "NameError",
     "evalue": "name 'dp' is not defined",
     "traceback": [
      "\u001b[0;31m---------------------------------------------------------------------------\u001b[0m",
      "\u001b[0;31mNameError\u001b[0m                                 Traceback (most recent call last)",
      "\u001b[0;32m/tmp/ipykernel_15813/3325246108.py\u001b[0m in \u001b[0;36m<module>\u001b[0;34m\u001b[0m\n\u001b[0;32m----> 1\u001b[0;31m \u001b[0mdp\u001b[0m\u001b[0;34m\u001b[0m\u001b[0;34m\u001b[0m\u001b[0m\n\u001b[0m",
      "\u001b[0;31mNameError\u001b[0m: name 'dp' is not defined"
     ]
    }
   ],
   "metadata": {}
  },
  {
   "cell_type": "code",
   "execution_count": 34,
   "source": [
    "import meerkat as mk\n",
    "import numpy as np\n",
    "dp = mk.DataPanel({\n",
    "    \"a\": np.zeros((10, 100))\n",
    "})"
   ],
   "outputs": [],
   "metadata": {}
  },
  {
   "cell_type": "code",
   "execution_count": 35,
   "source": [
    "dp[\"a\"][:, 10]"
   ],
   "outputs": [
    {
     "output_type": "execute_result",
     "data": {
      "text/html": [
       "<table border=\"1\" class=\"dataframe\">\n",
       "  <thead>\n",
       "    <tr style=\"text-align: right;\">\n",
       "      <th></th>\n",
       "      <th>(NumpyArrayColumn)</th>\n",
       "    </tr>\n",
       "  </thead>\n",
       "  <tbody>\n",
       "    <tr>\n",
       "      <th>0</th>\n",
       "      <td>0.0</td>\n",
       "    </tr>\n",
       "    <tr>\n",
       "      <th>1</th>\n",
       "      <td>0.0</td>\n",
       "    </tr>\n",
       "    <tr>\n",
       "      <th>2</th>\n",
       "      <td>0.0</td>\n",
       "    </tr>\n",
       "    <tr>\n",
       "      <th>3</th>\n",
       "      <td>0.0</td>\n",
       "    </tr>\n",
       "    <tr>\n",
       "      <th>4</th>\n",
       "      <td>0.0</td>\n",
       "    </tr>\n",
       "    <tr>\n",
       "      <th>5</th>\n",
       "      <td>0.0</td>\n",
       "    </tr>\n",
       "    <tr>\n",
       "      <th>6</th>\n",
       "      <td>0.0</td>\n",
       "    </tr>\n",
       "    <tr>\n",
       "      <th>7</th>\n",
       "      <td>0.0</td>\n",
       "    </tr>\n",
       "    <tr>\n",
       "      <th>8</th>\n",
       "      <td>0.0</td>\n",
       "    </tr>\n",
       "    <tr>\n",
       "      <th>9</th>\n",
       "      <td>0.0</td>\n",
       "    </tr>\n",
       "  </tbody>\n",
       "</table>"
      ],
      "text/plain": [
       "NumpyArrayColumn(array([0., 0...., 0., 0., 0.]))"
      ]
     },
     "metadata": {},
     "execution_count": 35
    }
   ],
   "metadata": {}
  },
  {
   "cell_type": "code",
   "execution_count": null,
   "source": [],
   "outputs": [],
   "metadata": {}
  }
 ],
 "metadata": {
  "orig_nbformat": 4,
  "language_info": {
   "name": "python",
   "version": "3.8.10",
   "mimetype": "text/x-python",
   "codemirror_mode": {
    "name": "ipython",
    "version": 3
   },
   "pygments_lexer": "ipython3",
   "nbconvert_exporter": "python",
   "file_extension": ".py"
  },
  "kernelspec": {
   "name": "python3",
   "display_name": "Python 3.8.10 64-bit ('domino': conda)"
  },
  "interpreter": {
   "hash": "0d937a63d09daec3f9548a5c769ccb20edb9c2c1ae2375686b21850f577713d2"
  }
 },
 "nbformat": 4,
 "nbformat_minor": 2
}