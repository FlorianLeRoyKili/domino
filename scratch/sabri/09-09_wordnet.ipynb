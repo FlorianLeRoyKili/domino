{
 "cells": [
  {
   "cell_type": "code",
   "execution_count": 1,
   "source": [
    "from domino.data.imagenet import get_imagenet_dp\n",
    "\n",
    "#data_dp = get_imagenet_dp()\n",
    "data_dp = get_imagenet_dp.out(6121).load()"
   ],
   "outputs": [],
   "metadata": {}
  },
  {
   "cell_type": "code",
   "execution_count": 4,
   "source": [
    "from nltk.corpus import wordnet as wn\n"
   ],
   "outputs": [],
   "metadata": {}
  },
  {
   "cell_type": "code",
   "execution_count": 5,
   "source": [
    "\n",
    "list(wn.synset(\"snowmobile.n.01\").closure(lambda s: s.hypernyms()))"
   ],
   "outputs": [
    {
     "output_type": "stream",
     "name": "stderr",
     "text": [
      "/home/common/envs/conda/envs/domino/lib/python3.8/site-packages/nltk/corpus/reader/wordnet.py:580: UserWarning: Discarded redundant search for Synset('instrumentality.n.03') at depth 6\n",
      "  for synset in acyclic_breadth_first(self, rel, depth):\n"
     ]
    },
    {
     "output_type": "execute_result",
     "data": {
      "text/plain": [
       "[Synset('tracked_vehicle.n.01'),\n",
       " Synset('self-propelled_vehicle.n.01'),\n",
       " Synset('wheeled_vehicle.n.01'),\n",
       " Synset('container.n.01'),\n",
       " Synset('vehicle.n.01'),\n",
       " Synset('instrumentality.n.03'),\n",
       " Synset('conveyance.n.03'),\n",
       " Synset('artifact.n.01'),\n",
       " Synset('whole.n.02'),\n",
       " Synset('object.n.01'),\n",
       " Synset('physical_entity.n.01'),\n",
       " Synset('entity.n.01')]"
      ]
     },
     "metadata": {},
     "execution_count": 5
    }
   ],
   "metadata": {}
  },
  {
   "cell_type": "code",
   "execution_count": 8,
   "source": [
    "synsets = set(data_dp[\"synset\"].unique())"
   ],
   "outputs": [],
   "metadata": {}
  },
  {
   "cell_type": "code",
   "execution_count": 30,
   "source": [
    "hypernyms = []\n",
    "for synset in synsets:\n",
    "    synset =  wn.synset_from_pos_and_offset(\n",
    "        pos=synset[0], offset=int(synset[1:])\n",
    "    )\n",
    "    for hypernym in synset.closure(lambda s: s.hypernyms()):\n",
    "        hypernyms.append( {\"synset\": synset.name(), \"hypernym\": hypernym.name()})\n",
    "hypernyms = [\n",
    "    {\"synset\": synset, \"hypernym\": hypernym.name()}\n",
    "    for synset in synsets\n",
    "    for hypernym in wn.synset_from_pos_and_offset(\n",
    "        pos=synset[0], offset=int(synset[1:])\n",
    "    ).closure(lambda s: s.hypernyms())\n",
    "]\n"
   ],
   "outputs": [
    {
     "output_type": "stream",
     "name": "stderr",
     "text": [
      "/home/common/envs/conda/envs/domino/lib/python3.8/site-packages/nltk/corpus/reader/wordnet.py:580: UserWarning: Discarded redundant search for Synset('animal.n.01') at depth 10\n",
      "  for synset in acyclic_breadth_first(self, rel, depth):\n",
      "/home/common/envs/conda/envs/domino/lib/python3.8/site-packages/nltk/corpus/reader/wordnet.py:580: UserWarning: Discarded redundant search for Synset('animal.n.01') at depth 11\n",
      "  for synset in acyclic_breadth_first(self, rel, depth):\n",
      "/home/common/envs/conda/envs/domino/lib/python3.8/site-packages/nltk/corpus/reader/wordnet.py:580: UserWarning: Discarded redundant search for Synset('automatic_firearm.n.01') at depth 3\n",
      "  for synset in acyclic_breadth_first(self, rel, depth):\n",
      "/home/common/envs/conda/envs/domino/lib/python3.8/site-packages/nltk/corpus/reader/wordnet.py:580: UserWarning: Discarded redundant search for Synset('animal.n.01') at depth 9\n",
      "  for synset in acyclic_breadth_first(self, rel, depth):\n",
      "/home/common/envs/conda/envs/domino/lib/python3.8/site-packages/nltk/corpus/reader/wordnet.py:580: UserWarning: Discarded redundant search for Synset('artifact.n.01') at depth 6\n",
      "  for synset in acyclic_breadth_first(self, rel, depth):\n",
      "/home/common/envs/conda/envs/domino/lib/python3.8/site-packages/nltk/corpus/reader/wordnet.py:580: UserWarning: Discarded redundant search for Synset('instrumentality.n.03') at depth 6\n",
      "  for synset in acyclic_breadth_first(self, rel, depth):\n",
      "/home/common/envs/conda/envs/domino/lib/python3.8/site-packages/nltk/corpus/reader/wordnet.py:580: UserWarning: Discarded redundant search for Synset('fish.n.01') at depth 6\n",
      "  for synset in acyclic_breadth_first(self, rel, depth):\n",
      "/home/common/envs/conda/envs/domino/lib/python3.8/site-packages/nltk/corpus/reader/wordnet.py:580: UserWarning: Discarded redundant search for Synset('animal.n.01') at depth 12\n",
      "  for synset in acyclic_breadth_first(self, rel, depth):\n",
      "/home/common/envs/conda/envs/domino/lib/python3.8/site-packages/nltk/corpus/reader/wordnet.py:580: UserWarning: Discarded redundant search for Synset('animal.n.01') at depth 7\n",
      "  for synset in acyclic_breadth_first(self, rel, depth):\n",
      "/home/common/envs/conda/envs/domino/lib/python3.8/site-packages/nltk/corpus/reader/wordnet.py:580: UserWarning: Discarded redundant search for Synset('artifact.n.01') at depth 7\n",
      "  for synset in acyclic_breadth_first(self, rel, depth):\n",
      "/home/common/envs/conda/envs/domino/lib/python3.8/site-packages/nltk/corpus/reader/wordnet.py:580: UserWarning: Discarded redundant search for Synset('substance.n.07') at depth 7\n",
      "  for synset in acyclic_breadth_first(self, rel, depth):\n",
      "/home/common/envs/conda/envs/domino/lib/python3.8/site-packages/nltk/corpus/reader/wordnet.py:580: UserWarning: Discarded redundant search for Synset('matter.n.03') at depth 8\n",
      "  for synset in acyclic_breadth_first(self, rel, depth):\n",
      "/home/common/envs/conda/envs/domino/lib/python3.8/site-packages/nltk/corpus/reader/wordnet.py:580: UserWarning: Discarded redundant search for Synset('entity.n.01') at depth 11\n",
      "  for synset in acyclic_breadth_first(self, rel, depth):\n",
      "/home/common/envs/conda/envs/domino/lib/python3.8/site-packages/nltk/corpus/reader/wordnet.py:580: UserWarning: Discarded redundant search for Synset('structure.n.01') at depth 5\n",
      "  for synset in acyclic_breadth_first(self, rel, depth):\n",
      "/home/common/envs/conda/envs/domino/lib/python3.8/site-packages/nltk/corpus/reader/wordnet.py:580: UserWarning: Discarded redundant search for Synset('matter.n.03') at depth 6\n",
      "  for synset in acyclic_breadth_first(self, rel, depth):\n",
      "/home/common/envs/conda/envs/domino/lib/python3.8/site-packages/nltk/corpus/reader/wordnet.py:580: UserWarning: Discarded redundant search for Synset('entity.n.01') at depth 9\n",
      "  for synset in acyclic_breadth_first(self, rel, depth):\n",
      "/home/common/envs/conda/envs/domino/lib/python3.8/site-packages/nltk/corpus/reader/wordnet.py:580: UserWarning: Discarded redundant search for Synset('physical_entity.n.01') at depth 9\n",
      "  for synset in acyclic_breadth_first(self, rel, depth):\n",
      "/home/common/envs/conda/envs/domino/lib/python3.8/site-packages/nltk/corpus/reader/wordnet.py:580: UserWarning: Discarded redundant search for Synset('instrumentality.n.03') at depth 4\n",
      "  for synset in acyclic_breadth_first(self, rel, depth):\n",
      "/home/common/envs/conda/envs/domino/lib/python3.8/site-packages/nltk/corpus/reader/wordnet.py:580: UserWarning: Discarded redundant search for Synset('instrumentality.n.03') at depth 7\n",
      "  for synset in acyclic_breadth_first(self, rel, depth):\n",
      "/home/common/envs/conda/envs/domino/lib/python3.8/site-packages/nltk/corpus/reader/wordnet.py:580: UserWarning: Discarded redundant search for Synset('instrumentality.n.03') at depth 8\n",
      "  for synset in acyclic_breadth_first(self, rel, depth):\n",
      "/home/common/envs/conda/envs/domino/lib/python3.8/site-packages/nltk/corpus/reader/wordnet.py:580: UserWarning: Discarded redundant search for Synset('instrumentality.n.03') at depth 5\n",
      "  for synset in acyclic_breadth_first(self, rel, depth):\n",
      "/home/common/envs/conda/envs/domino/lib/python3.8/site-packages/nltk/corpus/reader/wordnet.py:580: UserWarning: Discarded redundant search for Synset('vehicle.n.01') at depth 5\n",
      "  for synset in acyclic_breadth_first(self, rel, depth):\n",
      "/home/common/envs/conda/envs/domino/lib/python3.8/site-packages/nltk/corpus/reader/wordnet.py:580: UserWarning: Discarded redundant search for Synset('substance.n.07') at depth 6\n",
      "  for synset in acyclic_breadth_first(self, rel, depth):\n",
      "/home/common/envs/conda/envs/domino/lib/python3.8/site-packages/nltk/corpus/reader/wordnet.py:580: UserWarning: Discarded redundant search for Synset('matter.n.03') at depth 7\n",
      "  for synset in acyclic_breadth_first(self, rel, depth):\n",
      "/home/common/envs/conda/envs/domino/lib/python3.8/site-packages/nltk/corpus/reader/wordnet.py:580: UserWarning: Discarded redundant search for Synset('entity.n.01') at depth 10\n",
      "  for synset in acyclic_breadth_first(self, rel, depth):\n",
      "/home/common/envs/conda/envs/domino/lib/python3.8/site-packages/nltk/corpus/reader/wordnet.py:580: UserWarning: Discarded redundant search for Synset('animal.n.01') at depth 8\n",
      "  for synset in acyclic_breadth_first(self, rel, depth):\n",
      "/home/common/envs/conda/envs/domino/lib/python3.8/site-packages/nltk/corpus/reader/wordnet.py:580: UserWarning: Discarded redundant search for Synset('food.n.01') at depth 5\n",
      "  for synset in acyclic_breadth_first(self, rel, depth):\n",
      "/home/common/envs/conda/envs/domino/lib/python3.8/site-packages/nltk/corpus/reader/wordnet.py:580: UserWarning: Discarded redundant search for Synset('vehicle.n.01') at depth 4\n",
      "  for synset in acyclic_breadth_first(self, rel, depth):\n",
      "/home/common/envs/conda/envs/domino/lib/python3.8/site-packages/nltk/corpus/reader/wordnet.py:580: UserWarning: Discarded redundant search for Synset('covering.n.02') at depth 4\n",
      "  for synset in acyclic_breadth_first(self, rel, depth):\n",
      "/home/common/envs/conda/envs/domino/lib/python3.8/site-packages/nltk/corpus/reader/wordnet.py:580: UserWarning: Discarded redundant search for Synset('physical_entity.n.01') at depth 10\n",
      "  for synset in acyclic_breadth_first(self, rel, depth):\n",
      "/home/common/envs/conda/envs/domino/lib/python3.8/site-packages/nltk/corpus/reader/wordnet.py:580: UserWarning: Discarded redundant search for Synset('artifact.n.01') at depth 4\n",
      "  for synset in acyclic_breadth_first(self, rel, depth):\n",
      "/home/common/envs/conda/envs/domino/lib/python3.8/site-packages/nltk/corpus/reader/wordnet.py:580: UserWarning: Discarded redundant search for Synset('animal.n.01') at depth 6\n",
      "  for synset in acyclic_breadth_first(self, rel, depth):\n",
      "/home/common/envs/conda/envs/domino/lib/python3.8/site-packages/nltk/corpus/reader/wordnet.py:580: UserWarning: Discarded redundant search for Synset('artifact.n.01') at depth 5\n",
      "  for synset in acyclic_breadth_first(self, rel, depth):\n",
      "/home/common/envs/conda/envs/domino/lib/python3.8/site-packages/nltk/corpus/reader/wordnet.py:580: UserWarning: Discarded redundant search for Synset('physical_entity.n.01') at depth 11\n",
      "  for synset in acyclic_breadth_first(self, rel, depth):\n",
      "/home/common/envs/conda/envs/domino/lib/python3.8/site-packages/nltk/corpus/reader/wordnet.py:580: UserWarning: Discarded redundant search for Synset('physical_entity.n.01') at depth 8\n",
      "  for synset in acyclic_breadth_first(self, rel, depth):\n",
      "/home/common/envs/conda/envs/domino/lib/python3.8/site-packages/nltk/corpus/reader/wordnet.py:580: UserWarning: Discarded redundant search for Synset('vehicle.n.01') at depth 6\n",
      "  for synset in acyclic_breadth_first(self, rel, depth):\n",
      "/home/common/envs/conda/envs/domino/lib/python3.8/site-packages/nltk/corpus/reader/wordnet.py:580: UserWarning: Discarded redundant search for Synset('entity.n.01') at depth 8\n",
      "  for synset in acyclic_breadth_first(self, rel, depth):\n",
      "/home/common/envs/conda/envs/domino/lib/python3.8/site-packages/nltk/corpus/reader/wordnet.py:580: UserWarning: Discarded redundant search for Synset('object.n.01') at depth 8\n",
      "  for synset in acyclic_breadth_first(self, rel, depth):\n",
      "/home/common/envs/conda/envs/domino/lib/python3.8/site-packages/nltk/corpus/reader/wordnet.py:580: UserWarning: Discarded redundant search for Synset('structure.n.01') at depth 6\n",
      "  for synset in acyclic_breadth_first(self, rel, depth):\n",
      "/home/common/envs/conda/envs/domino/lib/python3.8/site-packages/nltk/corpus/reader/wordnet.py:580: UserWarning: Discarded redundant search for Synset('tool.n.01') at depth 4\n",
      "  for synset in acyclic_breadth_first(self, rel, depth):\n",
      "/home/common/envs/conda/envs/domino/lib/python3.8/site-packages/nltk/corpus/reader/wordnet.py:580: UserWarning: Discarded redundant search for Synset('ware.n.01') at depth 4\n",
      "  for synset in acyclic_breadth_first(self, rel, depth):\n",
      "/home/common/envs/conda/envs/domino/lib/python3.8/site-packages/nltk/corpus/reader/wordnet.py:580: UserWarning: Discarded redundant search for Synset('motor_vehicle.n.01') at depth 4\n",
      "  for synset in acyclic_breadth_first(self, rel, depth):\n",
      "/home/common/envs/conda/envs/domino/lib/python3.8/site-packages/nltk/corpus/reader/wordnet.py:580: UserWarning: Discarded redundant search for Synset('physical_entity.n.01') at depth 7\n",
      "  for synset in acyclic_breadth_first(self, rel, depth):\n"
     ]
    }
   ],
   "metadata": {}
  },
  {
   "cell_type": "code",
   "execution_count": 35,
   "source": [
    "import pandas as pd\n",
    "df = pd.DataFrame(hypernyms)"
   ],
   "outputs": [],
   "metadata": {}
  },
  {
   "cell_type": "code",
   "execution_count": 40,
   "source": [
    "df.hypernym.value_counts()[:100]"
   ],
   "outputs": [
    {
     "output_type": "execute_result",
     "data": {
      "text/plain": [
       "entity.n.01                  1094\n",
       "physical_entity.n.01         1091\n",
       "object.n.01                  1049\n",
       "whole.n.02                   1034\n",
       "artifact.n.01                 603\n",
       "                             ... \n",
       "car.n.01                       10\n",
       "geological_formation.n.01      10\n",
       "establishment.n.04             10\n",
       "edible_fruit.n.01              10\n",
       "ball.n.01                      10\n",
       "Name: hypernym, Length: 100, dtype: int64"
      ]
     },
     "metadata": {},
     "execution_count": 40
    }
   ],
   "metadata": {}
  },
  {
   "cell_type": "code",
   "execution_count": null,
   "source": [],
   "outputs": [],
   "metadata": {}
  }
 ],
 "metadata": {
  "orig_nbformat": 4,
  "language_info": {
   "name": "python",
   "version": "3.8.10",
   "mimetype": "text/x-python",
   "codemirror_mode": {
    "name": "ipython",
    "version": 3
   },
   "pygments_lexer": "ipython3",
   "nbconvert_exporter": "python",
   "file_extension": ".py"
  },
  "kernelspec": {
   "name": "python3",
   "display_name": "Python 3.8.10 64-bit ('domino': conda)"
  },
  "interpreter": {
   "hash": "0d937a63d09daec3f9548a5c769ccb20edb9c2c1ae2375686b21850f577713d2"
  }
 },
 "nbformat": 4,
 "nbformat_minor": 2
}