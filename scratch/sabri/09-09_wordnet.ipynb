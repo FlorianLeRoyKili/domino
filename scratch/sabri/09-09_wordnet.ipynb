{
 "cells": [
  {
   "cell_type": "code",
   "execution_count": 88,
   "source": [
    "%load_ext autoreload\n",
    "%autoreload 2\n",
    "from domino.data.imagenet import get_imagenet_dp\n",
    "import pandas as pd\n",
    "\n",
    "#data_dp = get_imagenet_dp()\n",
    "data_dp = get_imagenet_dp.out(6129).load()"
   ],
   "outputs": [
    {
     "output_type": "stream",
     "name": "stdout",
     "text": [
      "The autoreload extension is already loaded. To reload it, use:\n",
      "  %reload_ext autoreload\n"
     ]
    }
   ],
   "metadata": {}
  },
  {
   "cell_type": "code",
   "execution_count": 87,
   "source": [
    "from domino.utils import split_dp\n",
    "\n",
    "split_dp(get_imagenet_dp.out(6129), split_on=\"image_id\")"
   ],
   "outputs": [
    {
     "output_type": "stream",
     "name": "stdout",
     "text": [
      "task: split_dp, run_id=6478\n"
     ]
    },
    {
     "output_type": "execute_result",
     "data": {
      "text/plain": [
       "<terra.io.Artifact at 0x7efdc4eda640>"
      ]
     },
     "metadata": {},
     "execution_count": 87
    }
   ],
   "metadata": {}
  },
  {
   "cell_type": "code",
   "execution_count": 18,
   "source": [
    "from domino.slices.imagenet import ImageNetSliceBuilder, _get_hypernyms"
   ],
   "outputs": [],
   "metadata": {}
  },
  {
   "cell_type": "code",
   "execution_count": 91,
   "source": [
    "sb = ImageNetSliceBuilder()"
   ],
   "outputs": [],
   "metadata": {}
  },
  {
   "cell_type": "code",
   "execution_count": 92,
   "source": [
    "slice_dp = sb.build_setting(\n",
    "    slice_category=\"rare\",\n",
    "    data_dp=data_dp, \n",
    "    split_dp=split_dp.out(6478).load(), \n",
    "    target_synset=\"vehicle.n.01\", \n",
    "    slice_synsets=[\"balloon.n.01\", \"snowmobile.n.01\"],\n",
    "    target_frac=0.5,\n",
    "    slice_frac=0.01,\n",
    "    n=100_000,\n",
    "    synthetic_preds=True,\n",
    "    synthetic_kwargs={\n",
    "        \"slice_sensitivities\": 0.4\n",
    "    }\n",
    ")"
   ],
   "outputs": [
    {
     "output_type": "stream",
     "name": "stdout",
     "text": [
      "building\n",
      "done.\n"
     ]
    }
   ],
   "metadata": {}
  },
  {
   "cell_type": "code",
   "execution_count": 95,
   "source": [],
   "outputs": [
    {
     "output_type": "execute_result",
     "data": {
      "text/plain": [
       "False"
      ]
     },
     "metadata": {},
     "execution_count": 95
    }
   ],
   "metadata": {}
  },
  {
   "cell_type": "code",
   "execution_count": 38,
   "source": [
    "hypernym_counts = _get_hypernyms(data_dp)[\"hypernym\"].value_counts()\n",
    "hypernym_counts[(hypernym_counts < 5) & (hypernym_counts > 3)]"
   ],
   "outputs": [
    {
     "output_type": "execute_result",
     "data": {
      "text/plain": [
       "source_of_illumination.n.01    4\n",
       "personal_computer.n.01         4\n",
       "crab.n.01                      4\n",
       "course.n.07                    4\n",
       "hat.n.01                       4\n",
       "edge_tool.n.01                 4\n",
       "skirt.n.02                     4\n",
       "fence.n.01                     4\n",
       "spitz.n.01                     4\n",
       "wheel.n.01                     4\n",
       "armor.n.01                     4\n",
       "machine.n.04                   4\n",
       "woodwind.n.01                  4\n",
       "fox.n.01                       4\n",
       "roof.n.01                      4\n",
       "squash.n.02                    4\n",
       "grouse.n.02                    4\n",
       "soft-finned_fish.n.01          4\n",
       "sennenhunde.n.01               4\n",
       "support.n.10                   4\n",
       "cutting_implement.n.01         4\n",
       "keyboard_instrument.n.01       4\n",
       "overgarment.n.01               4\n",
       "aquatic_mammal.n.01            4\n",
       "cutter.n.06                    4\n",
       "digital_computer.n.01          4\n",
       "spiny-finned_fish.n.01         4\n",
       "gun.n.01                       4\n",
       "liquid.n.01                    4\n",
       "fluid.n.01                     4\n",
       "bear.n.01                      4\n",
       "chair.n.01                     4\n",
       "person.n.01                    4\n",
       "aircraft.n.01                  4\n",
       "gastropod.n.01                 4\n",
       "beverage.n.01                  4\n",
       "parrot.n.01                    4\n",
       "article.n.02                   4\n",
       "dwelling.n.01                  4\n",
       "baked_goods.n.01               4\n",
       "ware.n.01                      4\n",
       "tableware.n.01                 4\n",
       "drug.n.01                      4\n",
       "wolf.n.01                      4\n",
       "system.n.01                    4\n",
       "bread.n.01                     4\n",
       "bird_of_prey.n.01              4\n",
       "agent.n.03                     4\n",
       "public_transport.n.01          4\n",
       "Name: hypernym, dtype: int64"
      ]
     },
     "metadata": {},
     "execution_count": 38
    }
   ],
   "metadata": {}
  },
  {
   "cell_type": "code",
   "execution_count": 40,
   "source": [
    "hypernyms = _get_hypernyms(data_dp)\n"
   ],
   "outputs": [],
   "metadata": {}
  },
  {
   "cell_type": "code",
   "execution_count": 42,
   "source": [
    "hypernyms[hypernyms[\"hypernym\"] == \"big_cat.n.01\"]"
   ],
   "outputs": [
    {
     "output_type": "execute_result",
     "data": {
      "text/html": [
       "<div>\n",
       "<style scoped>\n",
       "    .dataframe tbody tr th:only-of-type {\n",
       "        vertical-align: middle;\n",
       "    }\n",
       "\n",
       "    .dataframe tbody tr th {\n",
       "        vertical-align: top;\n",
       "    }\n",
       "\n",
       "    .dataframe thead th {\n",
       "        text-align: right;\n",
       "    }\n",
       "</style>\n",
       "<table border=\"1\" class=\"dataframe\">\n",
       "  <thead>\n",
       "    <tr style=\"text-align: right;\">\n",
       "      <th></th>\n",
       "      <th>synset</th>\n",
       "      <th>hypernym</th>\n",
       "    </tr>\n",
       "  </thead>\n",
       "  <tbody>\n",
       "    <tr>\n",
       "      <th>2114</th>\n",
       "      <td>lion.n.01</td>\n",
       "      <td>big_cat.n.01</td>\n",
       "    </tr>\n",
       "    <tr>\n",
       "      <th>4354</th>\n",
       "      <td>snow_leopard.n.01</td>\n",
       "      <td>big_cat.n.01</td>\n",
       "    </tr>\n",
       "    <tr>\n",
       "      <th>4852</th>\n",
       "      <td>leopard.n.02</td>\n",
       "      <td>big_cat.n.01</td>\n",
       "    </tr>\n",
       "    <tr>\n",
       "      <th>7516</th>\n",
       "      <td>tiger.n.02</td>\n",
       "      <td>big_cat.n.01</td>\n",
       "    </tr>\n",
       "    <tr>\n",
       "      <th>10489</th>\n",
       "      <td>jaguar.n.01</td>\n",
       "      <td>big_cat.n.01</td>\n",
       "    </tr>\n",
       "    <tr>\n",
       "      <th>11940</th>\n",
       "      <td>cheetah.n.01</td>\n",
       "      <td>big_cat.n.01</td>\n",
       "    </tr>\n",
       "  </tbody>\n",
       "</table>\n",
       "</div>"
      ],
      "text/plain": [
       "                  synset      hypernym\n",
       "2114           lion.n.01  big_cat.n.01\n",
       "4354   snow_leopard.n.01  big_cat.n.01\n",
       "4852        leopard.n.02  big_cat.n.01\n",
       "7516          tiger.n.02  big_cat.n.01\n",
       "10489        jaguar.n.01  big_cat.n.01\n",
       "11940       cheetah.n.01  big_cat.n.01"
      ]
     },
     "metadata": {},
     "execution_count": 42
    }
   ],
   "metadata": {}
  },
  {
   "cell_type": "code",
   "execution_count": 37,
   "source": [
    "preds = synthesize_preds(slice_dp, slice_sensitivity=0.6)"
   ],
   "outputs": [],
   "metadata": {}
  },
  {
   "cell_type": "code",
   "execution_count": 40,
   "source": [
    "from sklearn.metrics import confusion_matrix, roc_auc_score\n",
    "mask = (slice_dp[\"slices\"][:, 0] == 1)\n",
    "tn, fp, fn, tp = confusion_matrix(slice_dp[\"target\"][~mask], preds[~mask] > 0.5).ravel()\n",
    "print(\"Out-of-slice sensitivity\", tp / (tp + fn))\n",
    "print(\"Out-of-slice specificity\", tn / (tn + fp))\n",
    "print(\"Out-of-slice auroc\", roc_auc_score(slice_dp[\"target\"][~mask], preds[~mask]))\n",
    "tn, fp, fn, tp = confusion_matrix(slice_dp[\"target\"][mask], preds[mask] > 0.5).ravel()\n",
    "print(\"In-slice sensitivity\", tp / (tp + fn))\n",
    "print(\"In-slice specificity\", tn / (tn + fp))"
   ],
   "outputs": [
    {
     "output_type": "stream",
     "name": "stdout",
     "text": [
      "Out-of-slice sensitivity 0.831919191919192\n",
      "Out-of-slice specificity 0.82976\n",
      "Out-of-slice auroc 0.9197379337373738\n",
      "In-slice sensitivity 0.598\n",
      "In-slice specificity nan\n"
     ]
    },
    {
     "output_type": "stream",
     "name": "stderr",
     "text": [
      "/tmp/ipykernel_271326/3515381961.py:9: RuntimeWarning: invalid value encountered in long_scalars\n",
      "  print(\"In-slice specificity\", tn / (tn + fp))\n"
     ]
    }
   ],
   "metadata": {}
  },
  {
   "cell_type": "code",
   "execution_count": 54,
   "source": [
    "from domino.slices.imagenet import collect_rare_slices"
   ],
   "outputs": [],
   "metadata": {}
  },
  {
   "cell_type": "code",
   "execution_count": 62,
   "source": [
    "slices_dp = collect_rare_slices(data_dp)"
   ],
   "outputs": [
    {
     "output_type": "stream",
     "name": "stderr",
     "text": [
      "100%|██████████| 15/15 [00:09<00:00,  1.59it/s]\n"
     ]
    }
   ],
   "metadata": {}
  },
  {
   "cell_type": "code",
   "execution_count": 65,
   "source": [
    "sb = ImageNetSliceBuilder()\n",
    "dp = sb.build_slice(\n",
    "    data_dp=data_dp, \n",
    "    split_dp=split_dp.out(6135).load(), \n",
    "    **slices_dp[0]\n",
    ")"
   ],
   "outputs": [],
   "metadata": {}
  },
  {
   "cell_type": "code",
   "execution_count": 70,
   "source": [
    "slices_dp[1]"
   ],
   "outputs": [
    {
     "output_type": "execute_result",
     "data": {
      "text/plain": [
       "{'n': 100000,\n",
       " 'slice_category': 'rare',\n",
       " 'slice_frac': 0.001,\n",
       " 'slice_synsets': ['bobsled.n.02', 'pirate.n.03', 'cab.n.03'],\n",
       " 'target_frac': 0.5,\n",
       " 'target_synset': 'vehicle.n.01',\n",
       " 'index': '1'}"
      ]
     },
     "metadata": {},
     "execution_count": 70
    }
   ],
   "metadata": {}
  },
  {
   "cell_type": "code",
   "execution_count": 71,
   "source": [
    "dp.lz[dp[\"synset\"] == \"bobsled.n.02\"]"
   ],
   "outputs": [
    {
     "output_type": "execute_result",
     "data": {
      "text/html": [
       "<table border=\"1\" class=\"dataframe\">\n",
       "  <thead>\n",
       "    <tr style=\"text-align: right;\">\n",
       "      <th></th>\n",
       "      <th>image_id (PandasSeriesColumn)</th>\n",
       "      <th>path (PandasSeriesColumn)</th>\n",
       "      <th>split_x (PandasSeriesColumn)</th>\n",
       "      <th>index (PandasSeriesColumn)</th>\n",
       "      <th>image (ImageColumn)</th>\n",
       "      <th>name (PandasSeriesColumn)</th>\n",
       "      <th>synset_pos_offset (PandasSeriesColumn)</th>\n",
       "      <th>synset (PandasSeriesColumn)</th>\n",
       "      <th>target (NumpyArrayColumn)</th>\n",
       "      <th>slices (NumpyArrayColumn)</th>\n",
       "      <th>input (ImageColumn)</th>\n",
       "      <th>id (PandasSeriesColumn)</th>\n",
       "      <th>split_y (PandasSeriesColumn)</th>\n",
       "    </tr>\n",
       "  </thead>\n",
       "  <tbody>\n",
       "    <tr>\n",
       "      <th>0</th>\n",
       "      <td>n02860847_4942</td>\n",
       "      <td>/home/common/datasets/imagenet/ILSVRC/Data/CLS-LOC/train/n02860847/n02860847_4942.JPEG</td>\n",
       "      <td>train</td>\n",
       "      <td>578911</td>\n",
       "      <td><img src=\"data:image/jpeg;base64,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\"></td>\n",
       "      <td>bobsled, bobsleigh, bob</td>\n",
       "      <td>n02860847</td>\n",
       "      <td>bobsled.n.02</td>\n",
       "      <td>1.0</td>\n",
       "      <td>np.ndarray(shape=(3,))</td>\n",
       "      <td><img src=\"data:image/jpeg;base64,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\"></td>\n",
       "      <td>n02860847_4942</td>\n",
       "      <td>train</td>\n",
       "    </tr>\n",
       "    <tr>\n",
       "      <th>1</th>\n",
       "      <td>n02860847_14291</td>\n",
       "      <td>/home/common/datasets/imagenet/ILSVRC/Data/CLS-LOC/train/n02860847/n02860847_14291.JPEG</td>\n",
       "      <td>train</td>\n",
       "      <td>578085</td>\n",
       "      <td><img src=\"data:image/jpeg;base64,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\"></td>\n",
       "      <td>bobsled, bobsleigh, bob</td>\n",
       "      <td>n02860847</td>\n",
       "      <td>bobsled.n.02</td>\n",
       "      <td>1.0</td>\n",
       "      <td>np.ndarray(shape=(3,))</td>\n",
       "      <td><img src=\"data:image/jpeg;base64,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\"></td>\n",
       "      <td>n02860847_14291</td>\n",
       "      <td>test</td>\n",
       "    </tr>\n",
       "    <tr>\n",
       "      <th>2</th>\n",
       "      <td>n02860847_8951</td>\n",
       "      <td>/home/common/datasets/imagenet/ILSVRC/Data/CLS-LOC/train/n02860847/n02860847_8951.JPEG</td>\n",
       "      <td>train</td>\n",
       "      <td>579128</td>\n",
       "      <td><img src=\"data:image/jpeg;base64,/9j/4AAQSkZJRgABAQAAAQABAAD/2wBDAAgGBgcGBQgHBwcJCQgKDBQNDAsLDBkSEw8UHRofHh0aHBwgJC4nICIsIxwcKDcpLDAxNDQ0Hyc5PTgyPC4zNDL/2wBDAQkJCQwLDBgNDRgyIRwhMjIyMjIyMjIyMjIyMjIyMjIyMjIyMjIyMjIyMjIyMjIyMjIyMjIyMjIyMjIyMjIyMjL/wAARCACAAGoDASIAAhEBAxEB/8QAHwAAAQUBAQEBAQEAAAAAAAAAAAECAwQFBgcICQoL/8QAtRAAAgEDAwIEAwUFBAQAAAF9AQIDAAQRBRIhMUEGE1FhByJxFDKBkaEII0KxwRVS0fAkM2JyggkKFhcYGRolJicoKSo0NTY3ODk6Q0RFRkdISUpTVFVWV1hZWmNkZWZnaGlqc3R1dnd4eXqDhIWGh4iJipKTlJWWl5iZmqKjpKWmp6ipqrKztLW2t7i5usLDxMXGx8jJytLT1NXW19jZ2uHi4+Tl5ufo6erx8vP09fb3+Pn6/8QAHwEAAwEBAQEBAQEBAQAAAAAAAAECAwQFBgcICQoL/8QAtREAAgECBAQDBAcFBAQAAQJ3AAECAxEEBSExBhJBUQdhcRMiMoEIFEKRobHBCSMzUvAVYnLRChYkNOEl8RcYGRomJygpKjU2Nzg5OkNERUZHSElKU1RVVldYWVpjZGVmZ2hpanN0dXZ3eHl6goOEhYaHiImKkpOUlZaXmJmaoqOkpaanqKmqsrO0tba3uLm6wsPExcbHyMnK0tPU1dbX2Nna4uPk5ebn6Onq8vP09fb3+Pn6/9oADAMBAAIRAxEAPwD0w2aTXDNGyHJ5U8Yqd7GAj58s3faaqvNDBAHWNxu55rPa9JfKlxzzWxFjbW3tIV+SMl8fdJqrOlvEWaNfLkPcGs8Xf73cshJz0NTy3VqfmkmWIgZ/GgRFPbPKVIbcOzUtvFcQyiTcQo7jmpLDxNo1nOI9QvYIUIJjM3yKxHXk8UTeOdBmudseq6Y4JxgTpz+tS3Z2KsWzqrq7Hyg0Y7g81dhvYZkDB8E9jXHXV1d6peyjQmFzajALW4DBWxyN3T/9dRQ+Hdc1GaaHzl82HHmRtMNyZGRkDpkVqoxtdyRGuyR20l/aQD95cxL9WFUZfE2kRA5u1bHXYM1zF34NuLK2a51O/trSAEZdyTin+F9I0LWLuT+ztaFzLbMGeMRY4z1weoobpJb3+QKMuxk+K/izNompx2lhpKzIwDCSdiu8YycAdPxrZl+IcCWwlayaMbA7b3GF4yea4r4trYXms2lpd3TWd5bqQ5ERYEZ+UnHTIxWrpml295YRIpSU+WFfzDjfxjP41zVMXQoySqddjVUZSWhaj+Kcd6ZFs442ZM/LyWPuB3FVT8StWyf+JRP/AN+DXLyaLD4aW4+yfvFlckSqMkKP4cjrjnNcU/i/V/MbZs2ZO3jt+dR9ZqSdqcVb8zrjhqEaalUm7vokfRk2sWwkIZvMXGNq1mSXpDEwRgemeaqJES+EFXEtZZOmQO/au7lSPPuyAJe3JyzhB7sFFWYrGyU7ry+RVx/B81PTTkwd7hQBkkjNcTrD3ureJzpenIFVAqqzHAAwMs34n+lZVqzgvd3OvCYRV5PmdkupqeJdM8P+KbMaPpV9/wATJGM0ZmGFcAYKj6j+VefXPgXxDA/2b+x5ioPDo6FenXOa9zsPBnh/RrWEyQrc36/M11Jyxbvtz0FZXjNZotINzp175AiI8/KBiUPG4ehGQfpmsUpS1kKp7OMrUtvM57wReal4W06PQ7e5gV5LnzJQmGIJwMZ+gFdP4b8SaY/xU1nbMsMd/GkUXmOB5ssfB47ZGcfSvMob+6sjmaPdd2zHEm75vc8dfUGs240ebUr+GNvMR2BaIpgYbg5/HnmrX7yN4rbcmtRlRlyy67HY/ETUdUn1i6s9Yk3W9hOwgMZCgiQApkD0ANcv4O1HUbHxBIdJk8q6lheIOF3BVPJOPUYpmp/2lFeW9jrbx3MSKGKlsk8YBZsckZqlaXsKa4k1nb+XZKwDmNjl0B9+maiMlF2Y/ZuUbox/Gj6rF4juf7UlkuJywbzpgQ0q9jj6V03g7xGksCQ3k+14cGPe2A69lJ7kfyqDxXaappN1bx3TQXLSIXYfKzKAcdQPcEGsRre3t7ItNGrCRcgMOQOoPse9Y4uFPEQ5ZadvI6MLQk23F9NTsvF1pK2jiTSbMRyyTGJ0jPBDD72O3uffJrIg+HVgbeMzarMspQbwiDAOOcc9KpeHfEccN3baZPcStbzvsy4/1BJwCD3Br05bG0jUJIzb1GGx6968irXr4RKm36Pv/wAMaxp06uvY6+305YxkD6mpJ8xKBGAMdTjNbctsNp5x9KytQBgheQjOF/OvoOZs81I4Txj4pn08wafZW7T3l1xGFGec4/ofy5468mLTVNCudPN7c75r28QOiHJUZzye/IBPap9H1yPUvHs17fIIntIH+z26tu3HGOfTjJ59aoySzXUc2q3tx9mtUYb5iMsWPRUHdv8AJrncpKW12exTp050X76jFWv5s3Y/GOs3EckVwVPkT+XlsqxIxwSCPX9K5nW/HGrSW15pbqgQK+9wSzEEnjJ/D8KvP4l0rUrFbrUrCeGfzMBlYDzgP4yB+v6VWl1ewlidLlLCGOXgTxoMrz8ucDcccetW562jqcUcPaKlPRPr5GdpV/LqLackkbiWFdsrdDsB4+pxx+Va9rdlojNAVkdlDOrttb6c9ccYx71Y0pfKvbjTrwIyvCGSZTnGfusp75BNbqaFAjxPErSMvJIx1z2xW2GrunzO2rLx9K3JFO6S0fqcjq1lqN7qck0kc7LEu1Aw3EnsM1YtNLEMEkMpIC/OwHUNj+Vei/Z2K8jqRnJrN1rRZ3JMaphxyw71x1YSaST1RVCrTjJuS0Z5tNJcanNG8kjSl12ktneRjG0e3GK5rU5R52AOQeQGyPpiu28U6a2mMska+Stzl44mIyq55/DdnFcraaTLq88jLGkEYQAuFOFI9AT1OOab0ep0q0ofu1q9/kauh6bDfavAkdi91CkyGWKJcsYwB+mSM1015oOsG9nMcGpKnmNtAc4Az/vVl6JA2itHcxT4lswvmOG++zHAAHpjPHtXWnXpsnd5Ybvlec1xYqrW5l7OKa8zKjhZa3R7ZNCSelUbvTkvLeWCUHa4xx2rfMYbrTPJWvUPMPmbxZbWml6zcWempI99NP5AGPndt3Xj1OAPqara3FCLSwguZknjtTIfLX7skpOCT7cGuj+Kmmzaf4lu7uLcjlluInXgg+o/EGvOprqS9tYpgTsIAb29s/ga55Tkk2t9j2cHGFSSjJaJXt3fmVL2e41G9S3hDSTyMEREGSSeAAK9CtvgytpaRDWNZitby4jOIlt2kEZ92BAyK43wXYzzeObdEb5oi0yk9flBIx712SandS3dzJqF9dCRHKrFJKQUUex9etdVOKgkonnYqtKtVcp9OnYyPEfh7XPCb6efMjvLeCMCOeFT8wXnBB9ATx6Zrs/CGq/2nL5QVirRmRcjkdOOfr178HrmuPt/Ees6lDdx3s8k1qCywl4x8pI2jnHoT+Vd98NtEkK3GokYj2+RFnvzlsfkBWUpe/oWpt0lFnRpYnBYg/nSzW7eW2eQBx7VstblEwetUbxAVAzj3pCg7HE6tpTXLwea0Aw4SIyHld3Uj2rKk0ZobdpJJ4o0VQ5Kgk5OeAPXIA/Gum1OMzXluqwM2JN4YDPRQdv6Vj3z/aGhs0Uu0uGfCkhVBz19cgAVm4JvU9GNdxj7vU5qzt2fUooXBAiAldGA/wBZnk/0H0pG3uxbHU56VPbEQXTMcZEfQnkc1TLSKSNp4471x8y9o7+R2pcqsfTyuCOtPqgs3vVpJQV5NeofMNWPHvjhJcBIPIIRVi/eSFc7VJP+Arzvw1YRN4fYXJjdLyBmEakZUCQgHHUeor174j+FdR8T6hZR2nli0XLTsz+nCrjvnJrCuPC1jBp6W1qskVzjIaPrIw7n2BqHpra510bd7dP+Cee2ssuimy+zW8UtwJHikmIG/B6KD24NbOoWmnalcJcX+mwy3jIMn7RsZgB/FhgD+NPvfDur208rC2Vz0JVgCSB1wat2mmRz2iIYZIpM43XTDcp74Vckgn1qKbbb6HbiMPS5VJtyv2scp4m1bVr5bext9Pmt4I33AxOrlscDAU9K+ifDMFovhfTfsX+o+zrt4wc45z75zXDad4NtfssVzKjPL975C6oP++gD+oq9oviyPRL3+zL5ohYSylYLlJAxR+6yDqPrWjutzgcIt/u7/M7aWLcaxtThEUDyM2AB61ryXigdiT6Vlarpcet2TQSXUlurfxR4z+oNJkp2PNtU1GRJWMcsgKElcMeDWCLi4y7B5cbfLABPIHX9Sa1fEPws1hLrfpGuxzIwwVnmKOD65HB/SuL13wh428O2wmkkluYcY3WcpkVPqAMj8qydKT6ndTx1KGjj+RbvXmgIfncxH4Adq1kmdkUgAggEGuAs7m7uUuo7yeaQxxggSOcq2f51mm81BThbycAcAeaf8a5q2EdR2vZo0WZU9+V2PsUXHvU8V5tI5rL3nHpjgioZZiikivQZ5a1NOS8JucqMgnnPAP8A9emNKIbA3scAglY4KTYAC5zjjPHfjvXN3WrMlo8RjjbzJUTEgyCGYA/zqDWtcUan5Xmb1iwGAPC+v41MpWVyvZSk0kN8W6rDcaoDDF5bLGA5PG49c1W0G6WSR0a4kdmOFtIoDKznHLYJCj0ya5rUNQNzdSTMeWOcenpRo2svo+r29+qbhG3K5xuBGCKyVSz1PWWFbo8q3R6CBfxylDYTpFnABEAYf8BA/rXG+MdGhbZMweOeF/NZZIdrBeuTzyPxNSX/AI1N7fPdDT4UdgASGIPAYZ+uGYfjWT4n8V/2hp0CywLHsjMDY+fcpHHXuK0qSg4PU5qGGxCqK8LXOs8M+IxqkDI7Lvj6AHPHf/PuK1r7UjHCzRNg9K8d8I3s9pqyKhBjbJOD04zxXd3V4ZI8qc5OailJzjqY42j7CpyrZmrDqTvMkZwR3PetuO9jVsAbcDtzXEQTlXB98Vt20+5mYnvWktDkijUvNF0rVgxvLG2m3DkmMbj+PWsI/CzwgxJ/s5RnnHmP/wDFVuQTZwQcVc3t/epcxXKXNTgMFyWAwGrNl5XiuvvrZLmIrxk1yl3A0BZWHStTOLsctqskcJ3SyCOMMrFznAIIPb6Vi3L2Mk0k73REjfMMEHdmt7WLNb21khkyFbuvWvIdU1PTNPvXsTdShoXKv+5zj8c1hNSvoj08LUopXqSszqbhYsM4ukwOu4gf1qIzSRacyxTpLBK24ojZAYdx6H6VyM9ylyPKRZGgkGRLt25/A1YtT5UKRoTtHQmueaaV3uerRrQqStB3j+psvNuIAOD6VnXTyXziKNQdp67sU7eqjJGT6gVWuboQoGCjg8cVk7vQ77xj7xsaZYvZT+YbyxErrjyzIQR+QrqJb7S44FH9oIzKBuAHevNhf6UlwlxczXonUDcIYEZV/EuM13uheG9N1nSYdSjvbt4Zt2N8aq3BIOcZ9K64QnFe6j5+vXw1aTdV7Pp2J7a+iu18yFiUV8cjFb9nIGhLDnJrNPh7+z42Wz3yRk7jnk5qaxdowEYECtnGXL7255spQ53ybHQ27YAq6G46mqNtzjmtHYKysO53Z54yKxtXsvNjJReQM/WtFJQ+OBmnyKHXBrc5zzS7R1VlPC9DXkms+ELWXxUZ7pjHZZDzFeS/XH0zjBr6B1DTYGmIdevrWbc+FbG92CUMNpyMH/OabTauhpq+p5Nc6Rp0q5077OAP+WagAisC5s2hnwkbKO+ea9u/4VxpBOQHBPUg1FJ8M7FvuSsPY81lyX3OqNeUHeLPEQXdMBcH1qawSCK7WW7y+zlUxkA+9ew/8Kvtc8vzSf8ACr7MN1UjrQqcU7oueLqyjytnj+tz2+o7HXTwXj6NH8m4ejAda6DwJr09oE0+SWP7LGjN5ZU7gSc5z6Z/nXplt8ONPibnB/CtCDwFpMEvmrColwRux2rRNnI0uhn20sN2gaPv6Cnvp8bsS8IJPVgOa6Oz0SCyPyDK+h7VfEELfwDP0ptk8py0Glsy7oCWC9QetTeTIONjflXSiJUHyKAPpTvwrNxNU+5//9k=\"></td>\n",
       "      <td>bobsled, bobsleigh, bob</td>\n",
       "      <td>n02860847</td>\n",
       "      <td>bobsled.n.02</td>\n",
       "      <td>1.0</td>\n",
       "      <td>np.ndarray(shape=(3,))</td>\n",
       "      <td><img src=\"data:image/jpeg;base64,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\"></td>\n",
       "      <td>n02860847_8951</td>\n",
       "      <td>train</td>\n",
       "    </tr>\n",
       "    <tr>\n",
       "      <th>3</th>\n",
       "      <td>n02860847_10578</td>\n",
       "      <td>/home/common/datasets/imagenet/ILSVRC/Data/CLS-LOC/train/n02860847/n02860847_10578.JPEG</td>\n",
       "      <td>train</td>\n",
       "      <td>577902</td>\n",
       "      <td><img src=\"data:image/jpeg;base64,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\"></td>\n",
       "      <td>bobsled, bobsleigh, bob</td>\n",
       "      <td>n02860847</td>\n",
       "      <td>bobsled.n.02</td>\n",
       "      <td>1.0</td>\n",
       "      <td>np.ndarray(shape=(3,))</td>\n",
       "      <td><img src=\"data:image/jpeg;base64,/9j/4AAQSkZJRgABAQAAAQABAAD/2wBDAAgGBgcGBQgHBwcJCQgKDBQNDAsLDBkSEw8UHRofHh0aHBwgJC4nICIsIxwcKDcpLDAxNDQ0Hyc5PTgyPC4zNDL/2wBDAQkJCQwLDBgNDRgyIRwhMjIyMjIyMjIyMjIyMjIyMjIyMjIyMjIyMjIyMjIyMjIyMjIyMjIyMjIyMjIyMjIyMjL/wAARCABgAIADASIAAhEBAxEB/8QAHwAAAQUBAQEBAQEAAAAAAAAAAAECAwQFBgcICQoL/8QAtRAAAgEDAwIEAwUFBAQAAAF9AQIDAAQRBRIhMUEGE1FhByJxFDKBkaEII0KxwRVS0fAkM2JyggkKFhcYGRolJicoKSo0NTY3ODk6Q0RFRkdISUpTVFVWV1hZWmNkZWZnaGlqc3R1dnd4eXqDhIWGh4iJipKTlJWWl5iZmqKjpKWmp6ipqrKztLW2t7i5usLDxMXGx8jJytLT1NXW19jZ2uHi4+Tl5ufo6erx8vP09fb3+Pn6/8QAHwEAAwEBAQEBAQEBAQAAAAAAAAECAwQFBgcICQoL/8QAtREAAgECBAQDBAcFBAQAAQJ3AAECAxEEBSExBhJBUQdhcRMiMoEIFEKRobHBCSMzUvAVYnLRChYkNOEl8RcYGRomJygpKjU2Nzg5OkNERUZHSElKU1RVVldYWVpjZGVmZ2hpanN0dXZ3eHl6goOEhYaHiImKkpOUlZaXmJmaoqOkpaanqKmqsrO0tba3uLm6wsPExcbHyMnK0tPU1dbX2Nna4uPk5ebn6Onq8vP09fb3+Pn6/9oADAMBAAIRAxEAPwDx0XMKj75/75pfPtJDlnOf901JbaFdXNjJdxmPy0ByGJzwOe1ZyLkjOOtSxpGiDbEAgNj12mpvNiAGBLgf7B/wqXR7Nrq4SEuUV/l3D+HPesmaW6tbu4ge6mZYpGj3BzyQcUk03YbTSuX2nhVcsXH1So3ntjGHV2AJIBC96mniZ7dGc7j5CMTnOetZbZ2CPA2hy3T2A/pR1C2lzfsdcUMqzSyrIh3RTpkMhHQ5HQ+9dKfit4nbDRaytuoVVEIt1YDAAzkjPPX8a4qzhZosiLzOQPu5x1q1JFtX/j3HH/TOpStsXe++p1n/AAtbxV38QRDv/wAeic/+O05fin4nLgnxFED/ANe0eP8A0GvP7qPF0y8AA4+nNQ7eT3561Wr6ktpPY9KPxR8UMd3/AAkEAHp9mj/+JqSP4p+JlwTrdo5z/HbJ/hXmIHBp20ZGAR680WfcXNHseon4qeKC6surWBH937MmKnT4p+Jd4JutJbjvB1/WvJ8cYx+lGwdhR73cd4/ynrB+KniYsTu0oqOdvkH/AOKqQfFfxJyPsulMMdo3H/s1eU2kPnXKR4+8wX6c1qS6VDCfvSYI64FF5LqNKL6Fyw1q3sNKnspYJXeTfhlxgZGO5rlsbJFUj0roLe3he3aaYLjJHzGsYbZCx24Ck4HpSU7trsJxcUn3Oi0UKhDA9FLfkpNc7KiTtcn900s029HEi8An611Oj25Nn5pU4MTYOOOVxXNCwa3BkLIMcZBPenFWuxuzaibC2uEgiSY3LyRBFRF6Y9MdRjNYDwywXJhlieORTyrqQfyNdz4Y0m80h4/ELwxpEIiLeIyfM+Ry3+yMZ+uazfFGqTazq5vpkRpIYhEXiBxzkrnJPOM1FJ89XkX3jqWUbozdNQSTCNrkQqg3vjqR9e1WWkkaFXWV+R1DEViJaM4+RzmQjr2HWta3sGMayPdJsRh8hJy3P/661qUXBc0thU5Ob5Yq7M65ANw/PfvUWPat421jdQXDW8LCeMncjN3zV9NAsniBO8EjseM1j7RRWpfsZSd0cmFoCZweozXVt4ate0snr0NULXRY7pZRveII+3nByaaqxauS6Mk7GHjjFKOM4/GuiHhdTnF1gj2qtP4faGSJBOHaRtq7VPH1pqpFidKaKGmjbfRtjoc/kCa25HjXhoj8wzgOwz+tNtdCvLO481XikKggA5HUYrXglntgRLZxbRyWRuT781POr7l+zklqjkJbiZ7RoFgdUYcYBOc9cGq0VnOASYmAPbpXrl34D08v+5uru1XBIVH3D9eaxp/AFzAylNXfBJxvj59sDOTWnI1sZ83NuYmnSRw6bGkhCyiPYcjkVmPoF3qLolrPDcmMgyRqSh2kgE5PFdKPBd/K7RLeRvtODndkD1OBVHUfDOs+GLK41OLUbZEiGCyNyeRxg9aT57aA+U6Zop7zSpYIFNvdRDCIXDnHYjHXiuKktVudRtNHjZokmmDSkn52P8RJ9cU7w74gvLm9Y3EpLopYMoxnoOR+NdGltf6v4y0cQx24Lxu8k65AYKO/5gfjXPRpShPUctVc46/0290a4li8hzbbmWK5ZSu8BsZA/DpWMbiRLkb2ZljyAM4PX/GvoTUPB91qsDW7iIROcuGbKk+oxyD7iue1P4HTT2zvaatbrN1CPCQv/fQ5/Su+UnNWl0MleLvE8q028ljm81tzySSje2eoPUV6CIjGuV9ORisN/CGoaR4pGjLA1xOoUx/LsEuBklS3Uds98V2J0PWEjBfSro9jtw2PyNcmIpvSyOrCzWt2UVKtHuBHFUbCLfFIwwG8w4P41qTaVqVuhc6fdqMHO6I1Fp1psstzsiuW+ZXbYUJPRg2Mf/rrnUJWeh0uUbrUdEFdMsACDgj3qCWCKS5twyA4JP6Vcls50zJGiscfwMr5H4ZqtGEeaOQuAqoSWJwB04/UVPKym0SJZwvIE2gZqpNbKUcr8qqpOfer0UE9yoxG5U8javJ/+tSXiiOwmyf4CAvc0JMGzo769cIZAQNvAGcrn8OTVaGPU5V3PKHVjuIw3HHr1/Co7d8IqQEwPkDKht3p/kVGxMamKQyBCxxK0Yyx98DivTbPMsOkv4rH/XKCVG0JnI9hXA+N9WuNdvbTSIFKRKfNkLPwTjjr6DPHvXQvB5l0cCKKLvI+ck+vTP41Q1Dw4s7mRZImfrGYs5Pfn1qLsqxi+BobaPxHqVpPCj/uWSPeRkYYdM98enpXa6ZDfaZqIutPcSW5IWa2Y88HkqfX/PNcJeaVbW2su12k5M4CxclSH4+cHnPOevrXRm91Pw9cjULi2drWXH2lI1AQtwA8fOST/FwBmnZMcZuGnQ9c0LxDaaopEUuJV+9G/DL9RWxc2818Qn2tobcqQ6xqNzn3Y9B7D8682nRru1j1TQpVS7O0mRflZlx0IPfpkHtWrpnj6OOTyNRQbQ2xbqEfIxA5yvUUKpyu0jd4X2seajr3XVf5rt1Lq6Ld2+qxQ3LzXUduBNA5T92pGehJ+Vh+tdBDI0q8AKQen3s0ljc2WoRiVL2G6kJ3Z3AhfYL2/nVuSzBAczEMucE9OtU3KUuZu/3HM4qKUVGzXr+oIrEdFz07jFS+QHGGAPHIPNZb3iiYIJhsBJEq4dFx1BIPH41oRXKHAWdZGIGFAIOPWqJd1uRvo9jMCHsrZwTk7oVP9KgPhvSXlMx0yzMhwNxgXP8AKtMueGXA+oqdXyoJH50WQXZgSeGdKcMps0APZHZQPoAcCqF94Nsbu3aJbi/iDDGUumOB/wACzXVlEY52D60hQdQoB+lLlQczPH4byxhl8m2/ev0LEY49xVGUXFzk2jeQqsSreZ1z6+g9qsaZpNzEkDoZIXXnyw4y5Pc4Ga0ru1nXexhPmAYCgZJ/DIzU2KuZuptGkSCaNXDZwUXr7YrMWES25aNGRgflRIyOffnmtuOCe1V31G4itt/yRQlQzn1JbPH0GakXR7h4FVjbTID12MCfTGSRU2KvY5mWREMaTSSCQ5LR7R+eSOK2dHS3umjj1CANaHJ+ZjtyOmCec/TFaU2htPAZxFFCsJG6JEDGQ+5z+laluySQ+ZIjlQucBRgAe1NITZxfiPQdZ8O+IIdV8NmW4ivj+8iIHljAGFb9eeDVzTZ7DxTczSRRmxvRHsuLV/vbieWT+9kZB+ldSNQiu2S0gsnlhm4aKXJVh61heO9Pk0C507VILVWkYLDJcQoFYSZyC4A56ADHv60TjdGuGqOnVWtkzWsvD0LKkNnbsJNwyZXwy44O4dV9feotdsP7KmeGSZ5FZSy5UEY9OtN0f4kwp5cep2C+ejY8yMBfxrrdb0/S9biW4LZlePKPHg7h2HvWSjGUfdPUlWrUKy9t8L673+Zyfh68t7WURCBRFcMFkTPDZ9q7aLT7ZJgXnSaV/nWMpyF7c5/+sa8jluXg1EWcTkzCTZknbtbpznpiuz8Palb6/deSt1FLNYHygyORyP4sY5Ht0606Mvsk5pRgmqje/wB/kdrZ3MQQRzwfZ2QcBj8uPUGrSiKbdsUHnDKaoXdvG+mi3mU3Ea4yj9XA59qybfUxY6rwH+y3Ma+Um37jKOQfQ4AroPEOjxFCSqxhR1wKccSx/KMehpVmWVAejEZAIphfrtOQOtMR5ZJf3fh6SSFLiBVkX5WK5JP15+lSjVWjt457loWusbRJvxj0Hv8AjXNTao5kaa3it1jBwsb5d8e3YVo6PffabpnmjKAjglP5VF9TSxdOiQXEkd/flnyw2xhxhB3wO+frV+/dbaF3sIZ41LBWmJbamR0Gev4cVEt4o3Ir7Qx5Oc5PpVuHWntEW1vQJoZAcBE568Hk0WQalUNcSWYijmdlY7mdgW5pttNB56i8eJ4QBvbbg/QYPWta6a3hC7JlMD4w24AKazbuCJZhKh3MxxvByG+lDQI2baGxuWMen3ToY13YLlWA9/X6Vu6jo9rrmhyades5jkj2tIpwwPqD65rirS0vPtS3CzCJCuQpGDjNbUV/JcXSJFPIionIPR8dwKpCaPKNY+EXiewuZGsRFqNu7ZQxzBWPuVYj+ZqWL4f/ABEGlRM6TFEBWO2W8G9AfbOB09a9rsNbtpG8l2DOuMttwpJ9K2ROhX7ygHpzS5UK7PArLwV8SFtjazR7IHbDvLdJuA7/ADAk4+nNekeGfDcHhK1trWNWuZmUiR8klR7AnpyOldTeyolnM8jr5aqSST0H17VmQpbeSJreZoUZy7OpzuyPfPH0ppWFqyxq5YLEoTdnow7Gs86cbmVinn7ozuDs2AT6D179auG+tpLhPLuUkZOCAwJx61ZtYxFK8qKSHOcbuB+HamBYjY+Um5cuB8xHFRyXEMMm5nOO+DwKkGFYsDgt61UkgSQNlAGPdTimI//Z\"></td>\n",
       "      <td>n02860847_10578</td>\n",
       "      <td>train</td>\n",
       "    </tr>\n",
       "    <tr>\n",
       "      <th>4</th>\n",
       "      <td>n02860847_6525</td>\n",
       "      <td>/home/common/datasets/imagenet/ILSVRC/Data/CLS-LOC/train/n02860847/n02860847_6525.JPEG</td>\n",
       "      <td>train</td>\n",
       "      <td>578989</td>\n",
       "      <td><img src=\"data:image/jpeg;base64,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\"></td>\n",
       "      <td>bobsled, bobsleigh, bob</td>\n",
       "      <td>n02860847</td>\n",
       "      <td>bobsled.n.02</td>\n",
       "      <td>1.0</td>\n",
       "      <td>np.ndarray(shape=(3,))</td>\n",
       "      <td><img src=\"data:image/jpeg;base64,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\"></td>\n",
       "      <td>n02860847_6525</td>\n",
       "      <td>train</td>\n",
       "    </tr>\n",
       "    <tr>\n",
       "      <th>...</th>\n",
       "      <td>...</td>\n",
       "      <td>...</td>\n",
       "      <td>...</td>\n",
       "      <td>...</td>\n",
       "      <td>...</td>\n",
       "      <td>...</td>\n",
       "      <td>...</td>\n",
       "      <td>...</td>\n",
       "      <td>...</td>\n",
       "      <td>...</td>\n",
       "      <td>...</td>\n",
       "      <td>...</td>\n",
       "      <td>...</td>\n",
       "    </tr>\n",
       "    <tr>\n",
       "      <th>780</th>\n",
       "      <td>n02860847_41456</td>\n",
       "      <td>/home/common/datasets/imagenet/ILSVRC/Data/CLS-LOC/train/n02860847/n02860847_41456.JPEG</td>\n",
       "      <td>train</td>\n",
       "      <td>578857</td>\n",
       "      <td><img src=\"data:image/jpeg;base64,/9j/4AAQSkZJRgABAQAAAQABAAD/2wBDAAgGBgcGBQgHBwcJCQgKDBQNDAsLDBkSEw8UHRofHh0aHBwgJC4nICIsIxwcKDcpLDAxNDQ0Hyc5PTgyPC4zNDL/2wBDAQkJCQwLDBgNDRgyIRwhMjIyMjIyMjIyMjIyMjIyMjIyMjIyMjIyMjIyMjIyMjIyMjIyMjIyMjIyMjIyMjIyMjL/wAARCABVAIADASIAAhEBAxEB/8QAHwAAAQUBAQEBAQEAAAAAAAAAAAECAwQFBgcICQoL/8QAtRAAAgEDAwIEAwUFBAQAAAF9AQIDAAQRBRIhMUEGE1FhByJxFDKBkaEII0KxwRVS0fAkM2JyggkKFhcYGRolJicoKSo0NTY3ODk6Q0RFRkdISUpTVFVWV1hZWmNkZWZnaGlqc3R1dnd4eXqDhIWGh4iJipKTlJWWl5iZmqKjpKWmp6ipqrKztLW2t7i5usLDxMXGx8jJytLT1NXW19jZ2uHi4+Tl5ufo6erx8vP09fb3+Pn6/8QAHwEAAwEBAQEBAQEBAQAAAAAAAAECAwQFBgcICQoL/8QAtREAAgECBAQDBAcFBAQAAQJ3AAECAxEEBSExBhJBUQdhcRMiMoEIFEKRobHBCSMzUvAVYnLRChYkNOEl8RcYGRomJygpKjU2Nzg5OkNERUZHSElKU1RVVldYWVpjZGVmZ2hpanN0dXZ3eHl6goOEhYaHiImKkpOUlZaXmJmaoqOkpaanqKmqsrO0tba3uLm6wsPExcbHyMnK0tPU1dbX2Nna4uPk5ebn6Onq8vP09fb3+Pn6/9oADAMBAAIRAxEAPwDHsrFdoytXjaIAMDHNX4bcKuMVKYcleKyZSMxrQDkcUotCSMMwrV+z5HSnLB6CpsMyhbNkjd09qUQSe1aqW/zE4p/2bnOKLDMgxSL/AAgj2NL5bjJZCB61r/ZuelI9vleKVgMnBHVSPwpwIx/9atQ2/Sg24JUEd6LAZylT0IqVQKttbDAG0daGtUx93FOwivt4qQLUhs1B4BB9jS/ZipADNz15pisM2ijbTjC6kYcn6ikKTZ+8PyqrisPWMelSeXzT0X2qcR+1OwEIjHpTggqfaB2pyxgnApWHcgEQxTxHxVgRADmo7me2tFDTzKgPTNQ5Rjuyopydkrkez2oMWRTlurVrFr1Jke2VS5kU5GB1/lXPT+L4LgS21gjLdeUGBlAwrMuVGO55Un61EK1Ob5Yu7KlTnFXasdB5We1IYs4rzfTvG4EuZ9Xcv6SIduffnp+FLqfxVvNOuzB/ZVtIhUMkizNh1PccVs4tGdz0jyeelL5I9K8xPxY1T7MLgeHkEJIAk3ttJOcc49j+Rpp+L2oJjfoUQz6yMM/pSs+wXPUfJ4pDDyOK87034tG9u47abSkiLnAbzSRn8q6xfE7uF22anPpJ/wDWrGpXhTdp6FxhKWxrmHpxTTCM9KltJXuNxIUpgFWTOM91yepHqKsGOt42auiHoZ0aNliCAq8E+/pT3cqFCrkscCsOw1O4k0OQygia0kdZEj5zgnp6/X2rC/4Se+lv43RHSyP3o3iPmnHUAZ5/D8a8jFuvh6nsqTdkurv+Z3Yeiq6crG/Nrcn9qrbLKgjM6xZCk8d8njBz/k10CyRAnLivPtWuryS6Plz3TQwhLlkWNVES5yM92PWurSXeAyklWAYfQ152IrVZRi3J/eddWjCMYuKSNOC4jEtwM9JBj/vlaS5S1uiomijcDoT1HIPB6jkCs2NmE8w9dp/TH9Kl3txXG273Mldapk+qIt5o95ZxhU82FlAXjnFeLalqkul619sjZ0W8iWRWjPKsBsdfwKn9K9jDtnrXB+J/CqTmceW/2aRzNFLFHva3kP3gVHJRsA8dCK9DLq8acnGezFOMpQ93df0zjbO+0iJ3/tG2kZGUsWWIGVznpuJwO/I5rL1PU01PUvtDxssSgJHHxhIx91ffjvXQr4UEWmSRQ6jYSXEh5LsyYGfdc9qz/wDhC9UbpPZt/uyE/wAhX0Ea9J9f6+44JUqn8v4GhZaxcQeBtkP2cJHcgMDksB1H6k/nWYYnk0hruUbEa4AhU9+Pmxnt0rSsvAuoMyi6mBhBBMcSyfN+OzAq9deCdc1KYPLcRoijbHEkThY19ACBR9Zw6u3IXsqnY52zuYoZVaWFHAYHJHI9wexr17wxpv8AbFvHdIxFoRy3c+31rhYvhlfsR5l/tHtED/7NXovha1ufDemfYjJ9pQHKblCbepPTOev6VzVq2FqNOUti4wqxTsjrkhSGJY40CoowAKNm7NZ6anLI4UIq59AWP4CtK1E3kL9oULL3x+n6V10asKq9zZGM4uO5x0UVvb6jc3UUjbbkDzIgnBYfxZ9ajNtbvKkrQo0kZyjsuSv41NNHDAjO0yKqjJLHGKxh4o0JZPLOpRK/ocj+lfPV8RXxbu1t2R304xpbPc0LvTbS+dXuId7AYzkjI9DjqPrVuJSiKhJbAxmsl/EWmYTybuKUs2DhwNox1Of880DX4cuFVGIOFPm8N79K5/Y1WrNM1dRNWuay5F2w9YwfyJ/xqU1mxapA7iWQ7MArgZbjIwf51MNUt+CA7AH+7S+r1L7C5l3L4rB1bV5xM1tpsiebHnzmMbHZj3xitOTWY3DBYJOXLDOOB6D2qsdTfdlLXnsS3/1q3WGlCei5l935jp1orWSImvdSfSGuI4sysVWLEZLkZ5ZgQKW6n1WaZxAJII9q+Sx2AE9y+eR9AKgudXuSCPKhAHPPP9a5u48XzsStvHK5B48uAD9TW1PCVJPSKG8VCOtjrHs9RmS6P2yQM7AQ4kwqrxk4H44FCabcLOPNvXKJJuTEjbiv90jOPqea4G41rxDdqyx292QRj5t39MUln/wktssaxWTy7AMPICGz9Sa6FgKvLul8jL670S/A7DUNFvLu8aV9QRYwCqR+WRsU9shs/jTLHw3cvcLHFqcw9QrSY/V6ht9Q8U3aRL/ZFskoPzyGThh9M8V3Ghafdw5lvpIWZuFSKMqF/Ek5qadDGK0W1Zen+RlKdLexpaPo0WlRYEss0rfeklct+WScCtXaMUxQc5FSnFe5FJKyOJu54HeeHNW1hs3uqTOvUIF2qPwFLD8OlaIo07EE5zsGfzr1GLT0H8Iq0LVVGAB6VEYcqstBt33PMYvhpZgDdLOT9QP6Vp2HgC0tJxLG8+4DHL16ClqPSp0gUcYqnG4J2OWh8PpGoB3N9TVpNGTAAWuiMIJHFSLEBxisvYxK52YcejxgYKiphpMQH3BWwI/Y07yyafsohzsxzpUAH+qX8RSLpUPURqPwrZ8nNJ5PNXyi5jK/s6Mn7g/KgaZF/dFbIipwi74p2FczIrBEOQo/KtCOIKo46VKI6eq4GMUJCuIE9BTsDuKUDFGKoRjqgNSKozRRTAlCACnoooopAP2inBBRRQAuB1wKfjPtRRQMMZpQooooAeFo2iiigBdoxTgtFFAhcUhFFFAH/9k=\"></td>\n",
       "      <td>bobsled, bobsleigh, bob</td>\n",
       "      <td>n02860847</td>\n",
       "      <td>bobsled.n.02</td>\n",
       "      <td>1.0</td>\n",
       "      <td>np.ndarray(shape=(3,))</td>\n",
       "      <td><img src=\"data:image/jpeg;base64,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\"></td>\n",
       "      <td>n02860847_41456</td>\n",
       "      <td>train</td>\n",
       "    </tr>\n",
       "    <tr>\n",
       "      <th>781</th>\n",
       "      <td>n02860847_12452</td>\n",
       "      <td>/home/common/datasets/imagenet/ILSVRC/Data/CLS-LOC/train/n02860847/n02860847_12452.JPEG</td>\n",
       "      <td>train</td>\n",
       "      <td>577999</td>\n",
       "      <td><img src=\"data:image/jpeg;base64,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\"></td>\n",
       "      <td>bobsled, bobsleigh, bob</td>\n",
       "      <td>n02860847</td>\n",
       "      <td>bobsled.n.02</td>\n",
       "      <td>1.0</td>\n",
       "      <td>np.ndarray(shape=(3,))</td>\n",
       "      <td><img src=\"data:image/jpeg;base64,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\"></td>\n",
       "      <td>n02860847_12452</td>\n",
       "      <td>train</td>\n",
       "    </tr>\n",
       "    <tr>\n",
       "      <th>782</th>\n",
       "      <td>n02860847_13798</td>\n",
       "      <td>/home/common/datasets/imagenet/ILSVRC/Data/CLS-LOC/train/n02860847/n02860847_13798.JPEG</td>\n",
       "      <td>train</td>\n",
       "      <td>578063</td>\n",
       "      <td><img src=\"data:image/jpeg;base64,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\"></td>\n",
       "      <td>bobsled, bobsleigh, bob</td>\n",
       "      <td>n02860847</td>\n",
       "      <td>bobsled.n.02</td>\n",
       "      <td>1.0</td>\n",
       "      <td>np.ndarray(shape=(3,))</td>\n",
       "      <td><img src=\"data:image/jpeg;base64,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\"></td>\n",
       "      <td>n02860847_13798</td>\n",
       "      <td>train</td>\n",
       "    </tr>\n",
       "    <tr>\n",
       "      <th>783</th>\n",
       "      <td>n02860847_8123</td>\n",
       "      <td>/home/common/datasets/imagenet/ILSVRC/Data/CLS-LOC/train/n02860847/n02860847_8123.JPEG</td>\n",
       "      <td>train</td>\n",
       "      <td>579075</td>\n",
       "      <td><img src=\"data:image/jpeg;base64,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\"></td>\n",
       "      <td>bobsled, bobsleigh, bob</td>\n",
       "      <td>n02860847</td>\n",
       "      <td>bobsled.n.02</td>\n",
       "      <td>1.0</td>\n",
       "      <td>np.ndarray(shape=(3,))</td>\n",
       "      <td><img src=\"data:image/jpeg;base64,/9j/4AAQSkZJRgABAQAAAQABAAD/2wBDAAgGBgcGBQgHBwcJCQgKDBQNDAsLDBkSEw8UHRofHh0aHBwgJC4nICIsIxwcKDcpLDAxNDQ0Hyc5PTgyPC4zNDL/2wBDAQkJCQwLDBgNDRgyIRwhMjIyMjIyMjIyMjIyMjIyMjIyMjIyMjIyMjIyMjIyMjIyMjIyMjIyMjIyMjIyMjIyMjL/wAARCABlAIADASIAAhEBAxEB/8QAHwAAAQUBAQEBAQEAAAAAAAAAAAECAwQFBgcICQoL/8QAtRAAAgEDAwIEAwUFBAQAAAF9AQIDAAQRBRIhMUEGE1FhByJxFDKBkaEII0KxwRVS0fAkM2JyggkKFhcYGRolJicoKSo0NTY3ODk6Q0RFRkdISUpTVFVWV1hZWmNkZWZnaGlqc3R1dnd4eXqDhIWGh4iJipKTlJWWl5iZmqKjpKWmp6ipqrKztLW2t7i5usLDxMXGx8jJytLT1NXW19jZ2uHi4+Tl5ufo6erx8vP09fb3+Pn6/8QAHwEAAwEBAQEBAQEBAQAAAAAAAAECAwQFBgcICQoL/8QAtREAAgECBAQDBAcFBAQAAQJ3AAECAxEEBSExBhJBUQdhcRMiMoEIFEKRobHBCSMzUvAVYnLRChYkNOEl8RcYGRomJygpKjU2Nzg5OkNERUZHSElKU1RVVldYWVpjZGVmZ2hpanN0dXZ3eHl6goOEhYaHiImKkpOUlZaXmJmaoqOkpaanqKmqsrO0tba3uLm6wsPExcbHyMnK0tPU1dbX2Nna4uPk5ebn6Onq8vP09fb3+Pn6/9oADAMBAAIRAxEAPwDlovEPiqHJhuryPJJOyPGSep4FRXXiDxdcxmOa91F4z1VlYg/pXf8A/CG+N363kg/7b1Vv/CXi2ws5Lu6vpVhiGXIuSakcXZ3scTb6x4vjjCQXWqIAOFRWAH4AVYXVfHMhIW41s/8AfdXpYNTCl21SbAOD+9eqrRXp66jKf+2j0nJLdlRhKSdlcjkl8dzoU3a6wYYIxJyKjgtPHMMSwxQa2sa8KiCQAD2pWguv+f2U/wDA2pv2C+kXckk7jPUFjU+0h3LVKolblJJrPxsi+Y8OtKo6sXf/ABpq6R43O4tb6rkdcyEf1qF9Nvs4Pn/iGqP+yrwgHbMf+AtR7WHcFRqWa5RZNO8Syu0VzDeMGTIV5M89upqbSNM1aOW5FxDKN0e2PdIDlvTrVRtHuhyYZv8Avg03+yp85ME59hGaPax7i9hU7FtfB3iZVBFiQfe6j/8Aiqns/DPiO31CCaS1wit82bmM8Hr/ABVnDTJTwbW5/wC+Mf0qRNHlfkWc+AOrYH8xT9pETozW6LF34Z1z7ZKY7ZPK3HaftKcj/vqpIPB+uSxiQHT4ge0l/Ep/LdWb9iGcm0n+v+RUbwRIDvtpFwcct/8AWoU4sJUppXaNxfB2srndd6Qv/cSi/wAaG8G6mV+fUNEHudSj/wAa5zzLYcCAn/tpSx+TIxC2/PvLijnQvZytc+uMVieMBnwnqI7+X/UVsyTRwoZJpEjQdWdgAPxNZPisbvC2oc9YuPzFaGZzWh+C9P1TQbW5uJbndNlnVHABwxHp7VqD4deHu8NwfrMaqQeIU8OeALC78sSyvuSKMnG47mJ/AAV0mgam2s6Faag9uYGnTfsJz+I9qlxi90aKU4rR2Mf/AIV54c/59Zj9ZmrlNZ0j7D4gk0zT7m6t7aOJGjjSU4yck13lj4ks7/xBfaPGGE9ooYsTw4zg4+hrifG14tn4pmcqxJt48bV3etTKMYq6R0YaUpTs3fQyZNMu41ydQ1DGeSZTip20Auzn+0b7IgEg/fHliKy59bE0fyLL8vJ/dkUk3it4LRS7zRq+URmjxnHb9RUJnZUpySWy+7/IjTS3dTJLqN6RsMn+uIHGOP1qCLTI5YIZZLy682UEhPOPOM9vwrMg1648kHzpW6j5RxUZ1d0USlpUWL5VcjAXPv781PMN0pKN21/XyNP+xkWwjuGluSxRmcGQnPBIxVrTfDtpdxuX88sOgdzn72Oa5+41qR4HxJcZI4JzV3R9aMKyk/amyByqk0JoUqNS17ly30PTp5pUePbJGxVldjWZ4p0q10/TkMMaKS4+4TV251aCZg8S3ccw5DCFufY1keItWF5ZxwNHIsocFsjAoexUoytfocbEC3yjkk96nFtJ/dH51FGjxz7CpVlPRuMVqaDYR6je3K6rq1rp8FvC0zEkbnPZVB6knH4U7NvQ4HJJanqvxW8ZWE+j6fbWitK08Yud6vgBTkYI7nI/CqPizximj/DvQ9EErXN3PbpJPJzmMY3BTnvg/pXlGo6t/a0duVhMZt4fJILZ3fMWz+v6VTvNQlukD3DvK2MFickn1P4V1RV43fY45Ozsjevr+6l0WKZr+eZD+7gVnP7pcksAO2W/lXotl8StRs/hfYLC8b6q1w1pEzAfLGig7iPxArxeGdnURk/KV4rsvCNj9s0TU/PSQQB02vjjdg5A9+lclar7KLkd8KMakI6mv4D8S6vY/EhbGadJG1AmNyw4ycsuD168fjXZ+LBeReIT574ma3UnaeMZOK8vsodRt/F2i63FaOYRcxYYY5IfHOOnHrXp/wAQ5LoeIEMkQSY264VWzwCapNukr7jwy/2iy8zl7m/nhyrTyDAJz1GK5i8lfWY7e+i80xqSMO2A209vr/StPUo7i7t24KlkK8H1rITWY7PREtriCPfbKIVWJ8HJPJOfz/EVVNXTHjG4yXZlnT/Oltd0DMsYG8AYHXnioZ7OXXbCWRZtpt5AuG6OTnI+ox196rXUkbaNZRWbSLJOCUUtjCrwcn1zUNrd3On2s0atGm5N+1gHDEZ/WiNlqZVazk+VPQuHVSkc9nIuySDCEf3hjqK2dFv7go4iUEYHGK4q0uZ7q8lu2VSwjO844rqNPu79bZWCx4IyCTzionG2qOmhXnU91nWxSXbLucxqKw/FSY05biQLuV15AxkVLcXaCwYGZzPgNgNgfTOK5vUp7m5tSs8pZfvAE5qNepU+blb2MbU7jZfTvGw27hgqcjoKx3lLODnnrmrssE725lSNjEHxkDg8VRWNy4zG2D7V0xPMm3exYgl+zmRTyNwyPXrTZpVMflovBOc1es9EvJtRFjJC8DzHarTKQq+5OOldrbeB/D+nsDql/Petg5SEbFB+uSarmaViLXPO24hVQcjrj3r0vwVe6rb+EJbG2jwrztK/nwjZyFAOW+h6U1YdIs5B/Z+lQxlTlXkzIw+hbpUkt9cXGN7EgEmobTLimWLZ9TsPFuk3GkBJJxcIrQwqUWbP3upx0JFdJ45utQutftpLrTzazGDaY9275dx5zXJJqX9k3+n6ixOLa5SQ7TgkA8j8q9g1WWy1K6S7OwuUCqMg7R1/rSteNkbUqnsqnPueVTRyRqxfaEAz16V5dqCFbmc54Z9wx6GvedeGn21pNNLDCFjXcWKgnPYD3Jrxe/vPtl3JIyKCTn0ojFxKxNf2zWmxFHcoWtwI2MiIEZSoHHeq8uqyYZIF8tCcjnkVv+GguseIEtpoY1EikPIoweB3Pv3rmGtJSbnYC3kvhgAScZPP6VRzvbQ1dFR5LW4UAHJ+Y57EV0sAlEaRomQABxVfw1o/m3krSZitpraN0kx944GQP1rem0y7gcrZBGiH8UnFZTTZ34apCEbdSj9jmlGHIA6YHJqC50xPLzMzRx8DGPm78Y9TWpZTJaxz3F1IrToQEAPAyOoqS1geac3NwpABPlRt/CPU+5ojDuZ18Q5aIS002G1szK48tVTJU9EUDOP/AK9ecS6mJbuR0iCozkgZ6DPFepXjjyDCQGUqWk/3B1/PgfjXl1xfWks7SJZog3YwoGM1skcbZ30k7ytuY5Oe9QO2OpzSNIBULuSTWRY8zBTTBcHoKgwWbGCT6Cr9rp8kuC4wKBkRi+1L5bDd3rqrHU7m3t0V4bXgBQW3f41WtbJIgMLUl/EDYyFI2eVFLIqttJbHAqkJsyPFGqm70W/dgocTKuF6ADHT/H3rzLcZGyThe59K6i+068urRBPHd+cCSyBMJ+nOax10q8jcn7DKQD3QmquQavh+8g0e4S8SfaduGdoS45PTFa0Fs9n4tkW3ubZ4tWtJDIdhCgkdcZ45/rWBbaZqEow8EoTPC7cCtm20e7MqyspVlGAT1ApXGkdfo6T6VpFtYefay+Sm3zCpyaZquqTQWzh3g2spLGNSMD6k9+lZKQPHGxkmO1R8zZ6VmaeJNR2zXJP2dPuIf4yP4j7elG43oT6dZs17Pf3ROZG/dxnogHQ/Wt1ZRjkjA7+lVfLU8rwTWD4p1T7Dpht48rPcZXPovc/0/GmTctvr9pcQ3giuE8+YiCFN2cqD3Hue9VJvDMJgkxGqPIQxXccEj37da4e3kaCSOZGw6MCCOxr0nQ9ctdXtljYbLlfvqf4vcUMEUmcYxTo4ZJjxwtXbfTwMFuTWlFaqo6VFi7lW1s1jxxzWnEhWlRAvapVp2FckXPrT/rUYYAUjShR1piHnAGT0qMjd1HHpTN5Y5b8qo6jrEGn28jsQzqOEz1PpmgC+21FLEhQOpPas+W6EqscmKBTgseC309BWV/b0dyFkkB2YyAemfpVDNxqsm6bdFbKxwnQuff2oGXLO6N/A27mFZHCDHBGeP0q4qhQAoAAGABVQs0AASMGMDoDjFTCdVALHaD0zTSJuWAx7VwXiu7+1asMHKqgVfwJrsr27WCwlkU5YjauD3rldQtoR4XivGw1zKepXlQD2NMRzyj1q5bXDwuroSrKcgg4NUskHHB+lPV+5FSy4ux7GiipugoooBjwMUFsUUUCEZiBUSndhj1P6UUUAVr25eIKicFzjPpXC6/O630keSVwpAJ6daKKAL3h+VriyVWC4jPHHOc9a2woAFFFUiQIz+dReXtlG1sK3GPSiigDB1O4MV1bwBQYxyR6kn/CpPEKr/Z6QqoVVTAA9hRRQBxx+UAikUluTRRSA/9k=\"></td>\n",
       "      <td>n02860847_8123</td>\n",
       "      <td>train</td>\n",
       "    </tr>\n",
       "    <tr>\n",
       "      <th>784</th>\n",
       "      <td>n02860847_21668</td>\n",
       "      <td>/home/common/datasets/imagenet/ILSVRC/Data/CLS-LOC/train/n02860847/n02860847_21668.JPEG</td>\n",
       "      <td>train</td>\n",
       "      <td>578355</td>\n",
       "      <td><img src=\"data:image/jpeg;base64,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\"></td>\n",
       "      <td>bobsled, bobsleigh, bob</td>\n",
       "      <td>n02860847</td>\n",
       "      <td>bobsled.n.02</td>\n",
       "      <td>1.0</td>\n",
       "      <td>np.ndarray(shape=(3,))</td>\n",
       "      <td><img src=\"data:image/jpeg;base64,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\"></td>\n",
       "      <td>n02860847_21668</td>\n",
       "      <td>train</td>\n",
       "    </tr>\n",
       "  </tbody>\n",
       "</table>"
      ],
      "text/plain": [
       "DataPanel(nrows: 785, ncols: 13)"
      ]
     },
     "metadata": {},
     "execution_count": 71
    }
   ],
   "metadata": {}
  },
  {
   "cell_type": "code",
   "execution_count": 135,
   "source": [
    "x = np.linspace(0.01,0.99,1000)\n",
    "sns.lineplot(y=np.sin(np.pi / 2  *  (x - 0.8)) , x=x)"
   ],
   "outputs": [
    {
     "output_type": "execute_result",
     "data": {
      "text/plain": [
       "<AxesSubplot:>"
      ]
     },
     "metadata": {},
     "execution_count": 135
    },
    {
     "output_type": "display_data",
     "data": {
      "image/png": "[encoded data removed]",
      "text/plain": [
       "<Figure size 432x288 with 1 Axes>"
      ]
     },
     "metadata": {
      "needs_background": "light"
     }
    }
   ],
   "metadata": {}
  },
  {
   "cell_type": "code",
   "execution_count": 206,
   "source": [
    "a, b, c, d = 0.4, 0.1, 0.2, 0.3\n",
    "np.sin(np.pi * a) * np.sin(np.pi * d) /  (np.sin(np.pi * (a + b)) * np.sin(np.pi * (b + d)))\n",
    "(np.sin(np.pi * (a + b)) * np.sin(np.pi * (b + d)))"
   ],
   "outputs": [
    {
     "output_type": "execute_result",
     "data": {
      "text/plain": [
       "0.9510565162951535"
      ]
     },
     "metadata": {},
     "execution_count": 206
    }
   ],
   "metadata": {}
  },
  {
   "cell_type": "code",
   "execution_count": 194,
   "source": [
    "from sklearn.metrics import roc_auc_score\n",
    "n = 1000000\n",
    "y_hat = np.concatenate([np.random.beta(a, b, n), np.random.beta(c, d, n )])\n",
    "y = np.concatenate([np.ones(n), np.zeros(n)])\n",
    "\n",
    "roc_auc_score(y, y_hat)"
   ],
   "outputs": [
    {
     "output_type": "execute_result",
     "data": {
      "text/plain": [
       "0.80943104396"
      ]
     },
     "metadata": {},
     "execution_count": 194
    }
   ],
   "metadata": {}
  },
  {
   "cell_type": "code",
   "execution_count": 205,
   "source": [
    "np.arcsin(1)"
   ],
   "outputs": [
    {
     "output_type": "stream",
     "name": "stderr",
     "text": [
      "/tmp/ipykernel_132920/2157417419.py:1: RuntimeWarning: invalid value encountered in arcsin\n",
      "  np.arcsin(1.1)\n"
     ]
    },
    {
     "output_type": "execute_result",
     "data": {
      "text/plain": [
       "nan"
      ]
     },
     "metadata": {},
     "execution_count": 205
    }
   ],
   "metadata": {}
  },
  {
   "cell_type": "code",
   "execution_count": 207,
   "source": [
    "b_0 = 0.3\n",
    "a_0 = 0.5 - b_0 \n",
    "\n",
    "a_1 =  np.arcsin(0.89 * np.sin(np.pi * (b_0 + b_1)) / np.sin(np.pi * b_0)) / np.pi\n",
    "b_1 = 0.5 - a_1\n",
    "\n",
    "n = 1000000\n",
    "y_hat = np.concatenate([np.random.beta(a_1, b_1, n), np.random.beta(a_0, b_0, n )])\n",
    "y = np.concatenate([np.ones(n), np.zeros(n)])\n",
    "\n",
    "roc_auc_score(y, y_hat)"
   ],
   "outputs": [
    {
     "output_type": "error",
     "ename": "ValueError",
     "evalue": "Input contains NaN, infinity or a value too large for dtype('float64').",
     "traceback": [
      "\u001b[0;31m---------------------------------------------------------------------------\u001b[0m",
      "\u001b[0;31mValueError\u001b[0m                                Traceback (most recent call last)",
      "\u001b[0;32m/tmp/ipykernel_132920/997805422.py\u001b[0m in \u001b[0;36m<module>\u001b[0;34m\u001b[0m\n\u001b[1;32m      9\u001b[0m \u001b[0my\u001b[0m \u001b[0;34m=\u001b[0m \u001b[0mnp\u001b[0m\u001b[0;34m.\u001b[0m\u001b[0mconcatenate\u001b[0m\u001b[0;34m(\u001b[0m\u001b[0;34m[\u001b[0m\u001b[0mnp\u001b[0m\u001b[0;34m.\u001b[0m\u001b[0mones\u001b[0m\u001b[0;34m(\u001b[0m\u001b[0mn\u001b[0m\u001b[0;34m)\u001b[0m\u001b[0;34m,\u001b[0m \u001b[0mnp\u001b[0m\u001b[0;34m.\u001b[0m\u001b[0mzeros\u001b[0m\u001b[0;34m(\u001b[0m\u001b[0mn\u001b[0m\u001b[0;34m)\u001b[0m\u001b[0;34m]\u001b[0m\u001b[0;34m)\u001b[0m\u001b[0;34m\u001b[0m\u001b[0;34m\u001b[0m\u001b[0m\n\u001b[1;32m     10\u001b[0m \u001b[0;34m\u001b[0m\u001b[0m\n\u001b[0;32m---> 11\u001b[0;31m \u001b[0mroc_auc_score\u001b[0m\u001b[0;34m(\u001b[0m\u001b[0my\u001b[0m\u001b[0;34m,\u001b[0m \u001b[0my_hat\u001b[0m\u001b[0;34m)\u001b[0m\u001b[0;34m\u001b[0m\u001b[0;34m\u001b[0m\u001b[0m\n\u001b[0m",
      "\u001b[0;32m/home/common/envs/conda/envs/domino/lib/python3.8/site-packages/sklearn/utils/validation.py\u001b[0m in \u001b[0;36minner_f\u001b[0;34m(*args, **kwargs)\u001b[0m\n\u001b[1;32m     61\u001b[0m             \u001b[0mextra_args\u001b[0m \u001b[0;34m=\u001b[0m \u001b[0mlen\u001b[0m\u001b[0;34m(\u001b[0m\u001b[0margs\u001b[0m\u001b[0;34m)\u001b[0m \u001b[0;34m-\u001b[0m \u001b[0mlen\u001b[0m\u001b[0;34m(\u001b[0m\u001b[0mall_args\u001b[0m\u001b[0;34m)\u001b[0m\u001b[0;34m\u001b[0m\u001b[0;34m\u001b[0m\u001b[0m\n\u001b[1;32m     62\u001b[0m             \u001b[0;32mif\u001b[0m \u001b[0mextra_args\u001b[0m \u001b[0;34m<=\u001b[0m \u001b[0;36m0\u001b[0m\u001b[0;34m:\u001b[0m\u001b[0;34m\u001b[0m\u001b[0;34m\u001b[0m\u001b[0m\n\u001b[0;32m---> 63\u001b[0;31m                 \u001b[0;32mreturn\u001b[0m \u001b[0mf\u001b[0m\u001b[0;34m(\u001b[0m\u001b[0;34m*\u001b[0m\u001b[0margs\u001b[0m\u001b[0;34m,\u001b[0m \u001b[0;34m**\u001b[0m\u001b[0mkwargs\u001b[0m\u001b[0;34m)\u001b[0m\u001b[0;34m\u001b[0m\u001b[0;34m\u001b[0m\u001b[0m\n\u001b[0m\u001b[1;32m     64\u001b[0m \u001b[0;34m\u001b[0m\u001b[0m\n\u001b[1;32m     65\u001b[0m             \u001b[0;31m# extra_args > 0\u001b[0m\u001b[0;34m\u001b[0m\u001b[0;34m\u001b[0m\u001b[0;34m\u001b[0m\u001b[0m\n",
      "\u001b[0;32m/home/common/envs/conda/envs/domino/lib/python3.8/site-packages/sklearn/metrics/_ranking.py\u001b[0m in \u001b[0;36mroc_auc_score\u001b[0;34m(y_true, y_score, average, sample_weight, max_fpr, multi_class, labels)\u001b[0m\n\u001b[1;32m    522\u001b[0m     \u001b[0my_type\u001b[0m \u001b[0;34m=\u001b[0m \u001b[0mtype_of_target\u001b[0m\u001b[0;34m(\u001b[0m\u001b[0my_true\u001b[0m\u001b[0;34m)\u001b[0m\u001b[0;34m\u001b[0m\u001b[0;34m\u001b[0m\u001b[0m\n\u001b[1;32m    523\u001b[0m     \u001b[0my_true\u001b[0m \u001b[0;34m=\u001b[0m \u001b[0mcheck_array\u001b[0m\u001b[0;34m(\u001b[0m\u001b[0my_true\u001b[0m\u001b[0;34m,\u001b[0m \u001b[0mensure_2d\u001b[0m\u001b[0;34m=\u001b[0m\u001b[0;32mFalse\u001b[0m\u001b[0;34m,\u001b[0m \u001b[0mdtype\u001b[0m\u001b[0;34m=\u001b[0m\u001b[0;32mNone\u001b[0m\u001b[0;34m)\u001b[0m\u001b[0;34m\u001b[0m\u001b[0;34m\u001b[0m\u001b[0m\n\u001b[0;32m--> 524\u001b[0;31m     \u001b[0my_score\u001b[0m \u001b[0;34m=\u001b[0m \u001b[0mcheck_array\u001b[0m\u001b[0;34m(\u001b[0m\u001b[0my_score\u001b[0m\u001b[0;34m,\u001b[0m \u001b[0mensure_2d\u001b[0m\u001b[0;34m=\u001b[0m\u001b[0;32mFalse\u001b[0m\u001b[0;34m)\u001b[0m\u001b[0;34m\u001b[0m\u001b[0;34m\u001b[0m\u001b[0m\n\u001b[0m\u001b[1;32m    525\u001b[0m \u001b[0;34m\u001b[0m\u001b[0m\n\u001b[1;32m    526\u001b[0m     if y_type == \"multiclass\" or (y_type == \"binary\" and\n",
      "\u001b[0;32m/home/common/envs/conda/envs/domino/lib/python3.8/site-packages/sklearn/utils/validation.py\u001b[0m in \u001b[0;36minner_f\u001b[0;34m(*args, **kwargs)\u001b[0m\n\u001b[1;32m     61\u001b[0m             \u001b[0mextra_args\u001b[0m \u001b[0;34m=\u001b[0m \u001b[0mlen\u001b[0m\u001b[0;34m(\u001b[0m\u001b[0margs\u001b[0m\u001b[0;34m)\u001b[0m \u001b[0;34m-\u001b[0m \u001b[0mlen\u001b[0m\u001b[0;34m(\u001b[0m\u001b[0mall_args\u001b[0m\u001b[0;34m)\u001b[0m\u001b[0;34m\u001b[0m\u001b[0;34m\u001b[0m\u001b[0m\n\u001b[1;32m     62\u001b[0m             \u001b[0;32mif\u001b[0m \u001b[0mextra_args\u001b[0m \u001b[0;34m<=\u001b[0m \u001b[0;36m0\u001b[0m\u001b[0;34m:\u001b[0m\u001b[0;34m\u001b[0m\u001b[0;34m\u001b[0m\u001b[0m\n\u001b[0;32m---> 63\u001b[0;31m                 \u001b[0;32mreturn\u001b[0m \u001b[0mf\u001b[0m\u001b[0;34m(\u001b[0m\u001b[0;34m*\u001b[0m\u001b[0margs\u001b[0m\u001b[0;34m,\u001b[0m \u001b[0;34m**\u001b[0m\u001b[0mkwargs\u001b[0m\u001b[0;34m)\u001b[0m\u001b[0;34m\u001b[0m\u001b[0;34m\u001b[0m\u001b[0m\n\u001b[0m\u001b[1;32m     64\u001b[0m \u001b[0;34m\u001b[0m\u001b[0m\n\u001b[1;32m     65\u001b[0m             \u001b[0;31m# extra_args > 0\u001b[0m\u001b[0;34m\u001b[0m\u001b[0;34m\u001b[0m\u001b[0;34m\u001b[0m\u001b[0m\n",
      "\u001b[0;32m/home/common/envs/conda/envs/domino/lib/python3.8/site-packages/sklearn/utils/validation.py\u001b[0m in \u001b[0;36mcheck_array\u001b[0;34m(array, accept_sparse, accept_large_sparse, dtype, order, copy, force_all_finite, ensure_2d, allow_nd, ensure_min_samples, ensure_min_features, estimator)\u001b[0m\n\u001b[1;32m    718\u001b[0m \u001b[0;34m\u001b[0m\u001b[0m\n\u001b[1;32m    719\u001b[0m         \u001b[0;32mif\u001b[0m \u001b[0mforce_all_finite\u001b[0m\u001b[0;34m:\u001b[0m\u001b[0;34m\u001b[0m\u001b[0;34m\u001b[0m\u001b[0m\n\u001b[0;32m--> 720\u001b[0;31m             _assert_all_finite(array,\n\u001b[0m\u001b[1;32m    721\u001b[0m                                allow_nan=force_all_finite == 'allow-nan')\n\u001b[1;32m    722\u001b[0m \u001b[0;34m\u001b[0m\u001b[0m\n",
      "\u001b[0;32m/home/common/envs/conda/envs/domino/lib/python3.8/site-packages/sklearn/utils/validation.py\u001b[0m in \u001b[0;36m_assert_all_finite\u001b[0;34m(X, allow_nan, msg_dtype)\u001b[0m\n\u001b[1;32m    101\u001b[0m                 not allow_nan and not np.isfinite(X).all()):\n\u001b[1;32m    102\u001b[0m             \u001b[0mtype_err\u001b[0m \u001b[0;34m=\u001b[0m \u001b[0;34m'infinity'\u001b[0m \u001b[0;32mif\u001b[0m \u001b[0mallow_nan\u001b[0m \u001b[0;32melse\u001b[0m \u001b[0;34m'NaN, infinity'\u001b[0m\u001b[0;34m\u001b[0m\u001b[0;34m\u001b[0m\u001b[0m\n\u001b[0;32m--> 103\u001b[0;31m             raise ValueError(\n\u001b[0m\u001b[1;32m    104\u001b[0m                     \u001b[0mmsg_err\u001b[0m\u001b[0;34m.\u001b[0m\u001b[0mformat\u001b[0m\u001b[0;34m\u001b[0m\u001b[0;34m\u001b[0m\u001b[0m\n\u001b[1;32m    105\u001b[0m                     (type_err,\n",
      "\u001b[0;31mValueError\u001b[0m: Input contains NaN, infinity or a value too large for dtype('float64')."
     ]
    }
   ],
   "metadata": {}
  },
  {
   "cell_type": "code",
   "execution_count": 197,
   "source": [
    "a_1"
   ],
   "outputs": [
    {
     "output_type": "execute_result",
     "data": {
      "text/plain": [
       "0.4524312869031762"
      ]
     },
     "metadata": {},
     "execution_count": 197
    }
   ],
   "metadata": {}
  },
  {
   "cell_type": "code",
   "execution_count": 183,
   "source": [
    "x = 0.99\n",
    "1 / (1 - x)"
   ],
   "outputs": [
    {
     "output_type": "execute_result",
     "data": {
      "text/plain": [
       "99.99999999999991"
      ]
     },
     "metadata": {},
     "execution_count": 183
    }
   ],
   "metadata": {}
  },
  {
   "cell_type": "code",
   "execution_count": 83,
   "source": [
    "from domino.train import train_model\n",
    "train_model.get(6222, \"best_chkpt\")[\"valid\"].load()"
   ],
   "outputs": [
    {
     "output_type": "execute_result",
     "data": {
      "text/html": [
       "<table border=\"1\" class=\"dataframe\">\n",
       "  <thead>\n",
       "    <tr style=\"text-align: right;\">\n",
       "      <th></th>\n",
       "      <th>preds (TensorColumn)</th>\n",
       "      <th>targets (TensorColumn)</th>\n",
       "      <th>ids (PandasSeriesColumn)</th>\n",
       "      <th>index (PandasSeriesColumn)</th>\n",
       "    </tr>\n",
       "  </thead>\n",
       "  <tbody>\n",
       "    <tr>\n",
       "      <th>0</th>\n",
       "      <td>torch.Tensor(shape=torch.Size([2]))</td>\n",
       "      <td>tensor(1)</td>\n",
       "      <td>n04204347_3177</td>\n",
       "      <td>0</td>\n",
       "    </tr>\n",
       "    <tr>\n",
       "      <th>1</th>\n",
       "      <td>torch.Tensor(shape=torch.Size([2]))</td>\n",
       "      <td>tensor(0)</td>\n",
       "      <td>n07590611_4170</td>\n",
       "      <td>1</td>\n",
       "    </tr>\n",
       "    <tr>\n",
       "      <th>2</th>\n",
       "      <td>torch.Tensor(shape=torch.Size([2]))</td>\n",
       "      <td>tensor(0)</td>\n",
       "      <td>n02492035_8265</td>\n",
       "      <td>2</td>\n",
       "    </tr>\n",
       "    <tr>\n",
       "      <th>3</th>\n",
       "      <td>torch.Tensor(shape=torch.Size([2]))</td>\n",
       "      <td>tensor(1)</td>\n",
       "      <td>n03930630_10160</td>\n",
       "      <td>3</td>\n",
       "    </tr>\n",
       "    <tr>\n",
       "      <th>4</th>\n",
       "      <td>torch.Tensor(shape=torch.Size([2]))</td>\n",
       "      <td>tensor(0)</td>\n",
       "      <td>n02101006_1003</td>\n",
       "      <td>4</td>\n",
       "    </tr>\n",
       "    <tr>\n",
       "      <th>...</th>\n",
       "      <td>...</td>\n",
       "      <td>...</td>\n",
       "      <td>...</td>\n",
       "      <td>...</td>\n",
       "    </tr>\n",
       "    <tr>\n",
       "      <th>10152</th>\n",
       "      <td>torch.Tensor(shape=torch.Size([2]))</td>\n",
       "      <td>tensor(1)</td>\n",
       "      <td>n03776460_5917</td>\n",
       "      <td>10152</td>\n",
       "    </tr>\n",
       "    <tr>\n",
       "      <th>10153</th>\n",
       "      <td>torch.Tensor(shape=torch.Size([2]))</td>\n",
       "      <td>tensor(1)</td>\n",
       "      <td>n02835271_5868</td>\n",
       "      <td>10153</td>\n",
       "    </tr>\n",
       "    <tr>\n",
       "      <th>10154</th>\n",
       "      <td>torch.Tensor(shape=torch.Size([2]))</td>\n",
       "      <td>tensor(0)</td>\n",
       "      <td>n02841315_3026</td>\n",
       "      <td>10154</td>\n",
       "    </tr>\n",
       "    <tr>\n",
       "      <th>10155</th>\n",
       "      <td>torch.Tensor(shape=torch.Size([2]))</td>\n",
       "      <td>tensor(1)</td>\n",
       "      <td>n04552348_22386</td>\n",
       "      <td>10155</td>\n",
       "    </tr>\n",
       "    <tr>\n",
       "      <th>10156</th>\n",
       "      <td>torch.Tensor(shape=torch.Size([2]))</td>\n",
       "      <td>tensor(0)</td>\n",
       "      <td>n02769748_19957</td>\n",
       "      <td>10156</td>\n",
       "    </tr>\n",
       "  </tbody>\n",
       "</table>"
      ],
      "text/plain": [
       "DataPanel(nrows: 10157, ncols: 4)"
      ]
     },
     "metadata": {},
     "execution_count": 83
    }
   ],
   "metadata": {}
  },
  {
   "cell_type": "code",
   "execution_count": 84,
   "source": [
    "(train_model.inp(6222)[\"dp\"].load()[\"split\"] == \"valid\").sum()"
   ],
   "outputs": [
    {
     "output_type": "execute_result",
     "data": {
      "text/plain": [
       "10157"
      ]
     },
     "metadata": {},
     "execution_count": 84
    }
   ],
   "metadata": {}
  },
  {
   "cell_type": "code",
   "execution_count": 85,
   "source": [
    "import terra\n",
    "terra.out(4681).load()"
   ],
   "outputs": [
    {
     "output_type": "execute_result",
     "data": {
      "text/html": [
       "<table border=\"1\" class=\"dataframe\">\n",
       "  <thead>\n",
       "    <tr style=\"text-align: right;\">\n",
       "      <th></th>\n",
       "      <th>image_id (NumpyArrayColumn)</th>\n",
       "      <th>split (PandasSeriesColumn)</th>\n",
       "    </tr>\n",
       "  </thead>\n",
       "  <tbody>\n",
       "    <tr>\n",
       "      <th>0</th>\n",
       "      <td>2386621.0</td>\n",
       "      <td>test</td>\n",
       "    </tr>\n",
       "    <tr>\n",
       "      <th>1</th>\n",
       "      <td>2373554.0</td>\n",
       "      <td>train</td>\n",
       "    </tr>\n",
       "    <tr>\n",
       "      <th>2</th>\n",
       "      <td>2370799.0</td>\n",
       "      <td>train</td>\n",
       "    </tr>\n",
       "    <tr>\n",
       "      <th>3</th>\n",
       "      <td>2370791.0</td>\n",
       "      <td>train</td>\n",
       "    </tr>\n",
       "    <tr>\n",
       "      <th>4</th>\n",
       "      <td>2370790.0</td>\n",
       "      <td>train</td>\n",
       "    </tr>\n",
       "    <tr>\n",
       "      <th>...</th>\n",
       "      <td>...</td>\n",
       "      <td>...</td>\n",
       "    </tr>\n",
       "    <tr>\n",
       "      <th>85633</th>\n",
       "      <td>2374606.0</td>\n",
       "      <td>valid</td>\n",
       "    </tr>\n",
       "    <tr>\n",
       "      <th>85634</th>\n",
       "      <td>2360947.0</td>\n",
       "      <td>train</td>\n",
       "    </tr>\n",
       "    <tr>\n",
       "      <th>85635</th>\n",
       "      <td>2360946.0</td>\n",
       "      <td>train</td>\n",
       "    </tr>\n",
       "    <tr>\n",
       "      <th>85636</th>\n",
       "      <td>2379678.0</td>\n",
       "      <td>valid</td>\n",
       "    </tr>\n",
       "    <tr>\n",
       "      <th>85637</th>\n",
       "      <td>2379672.0</td>\n",
       "      <td>train</td>\n",
       "    </tr>\n",
       "  </tbody>\n",
       "</table>"
      ],
      "text/plain": [
       "DataPanel(nrows: 85638, ncols: 2)"
      ]
     },
     "metadata": {},
     "execution_count": 85
    }
   ],
   "metadata": {}
  },
  {
   "cell_type": "code",
   "execution_count": null,
   "source": [],
   "outputs": [],
   "metadata": {}
  }
 ],
 "metadata": {
  "orig_nbformat": 4,
  "language_info": {
   "name": "python",
   "version": "3.8.10",
   "mimetype": "text/x-python",
   "codemirror_mode": {
    "name": "ipython",
    "version": 3
   },
   "pygments_lexer": "ipython3",
   "nbconvert_exporter": "python",
   "file_extension": ".py"
  },
  "kernelspec": {
   "name": "python3",
   "display_name": "Python 3.8.10 64-bit ('domino': conda)"
  },
  "interpreter": {
   "hash": "0d937a63d09daec3f9548a5c769ccb20edb9c2c1ae2375686b21850f577713d2"
  }
 },
 "nbformat": 4,
 "nbformat_minor": 2
}