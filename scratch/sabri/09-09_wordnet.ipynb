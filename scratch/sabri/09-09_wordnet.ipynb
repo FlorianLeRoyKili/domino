{
 "cells": [
  {
   "cell_type": "code",
   "execution_count": 1,
   "source": [
    "%load_ext autoreload\n",
    "%autoreload 2\n",
    "from domino.data.imagenet import get_imagenet_dp\n",
    "import pandas as pd\n",
    "from domino.slices.imagenet import collect_rare_slices\n",
    "from domino.train import synthetic_score_slices\n",
    "from domino.emb.clip import embed_words\n",
    "from domino.utils import split_dp\n",
    "from domino.slices.imagenet import ImageNetSliceBuilder, _get_hypernyms\n",
    "\n",
    "#data_dp = get_imagenet_dp()\n",
    "data_dp = get_imagenet_dp.out(6129).load()"
   ],
   "outputs": [
    {
     "output_type": "stream",
     "name": "stderr",
     "text": [
      "/home/sabri/code/meerkat/meerkat/nn/__init__.py:7: ExperimentalWarning: The `meerkat.nn` module is experimental and has limited test coverage. Proceed with caution.\n",
      "  warnings.warn(\n"
     ]
    }
   ],
   "metadata": {}
  },
  {
   "cell_type": "code",
   "execution_count": 9,
   "source": [
    "split = split_dp.out(6478)\n",
    "word_dp = embed_words.out(5143).load()\n",
    "\n",
    "\n",
    "slices_dp = collect_rare_slices(\n",
    "    data_dp=data_dp,\n",
    "    words_dp=word_dp.lz[:10_000],\n",
    "    num_slices=1,\n",
    "    min_slice_frac=0.01,\n",
    "    max_slice_frac=0.01,\n",
    ")"
   ],
   "outputs": [
    {
     "output_type": "stream",
     "name": "stderr",
     "text": [
      "100%|██████████| 15/15 [00:12<00:00,  1.23it/s]\n"
     ]
    }
   ],
   "metadata": {}
  },
  {
   "cell_type": "code",
   "execution_count": 92,
   "source": [
    "slice_dp = sb.build_setting(\n",
    "    slice_category=\"rare\",\n",
    "    data_dp=data_dp, \n",
    "    split_dp=split_dp.out(6478).load(), \n",
    "    target_synset=\"vehicle.n.01\", \n",
    "    slice_synsets=[\"balloon.n.01\", \"snowmobile.n.01\"],\n",
    "    target_frac=0.5,\n",
    "    slice_frac=0.01,\n",
    "    n=100_000,\n",
    "    synthetic_preds=True,\n",
    "    synthetic_kwargs={\n",
    "        \"slice_sensitivities\": 0.4\n",
    "    }\n",
    ")"
   ],
   "outputs": [
    {
     "output_type": "stream",
     "name": "stdout",
     "text": [
      "building\n",
      "done.\n"
     ]
    }
   ],
   "metadata": {}
  },
  {
   "cell_type": "code",
   "execution_count": 23,
   "source": [
    "import warnings\n",
    "from nltk.corpus import wordnet as wn \n",
    "hypernym_df = _get_hypernyms(data_dp)\n",
    "\n"
   ],
   "outputs": [],
   "metadata": {}
  },
  {
   "cell_type": "code",
   "execution_count": 29,
   "source": [
    "\"physical_entity.n.01\" in set(hypernym_df[\"synset\"])"
   ],
   "outputs": [
    {
     "output_type": "execute_result",
     "data": {
      "text/plain": [
       "True"
      ]
     },
     "metadata": {},
     "execution_count": 29
    }
   ],
   "metadata": {}
  },
  {
   "cell_type": "code",
   "execution_count": 31,
   "source": [
    "hypernym_df[hypernym_df[\"synset\"] == \"person.n.01\"]"
   ],
   "outputs": [
    {
     "output_type": "execute_result",
     "data": {
      "text/html": [
       "<div>\n",
       "<style scoped>\n",
       "    .dataframe tbody tr th:only-of-type {\n",
       "        vertical-align: middle;\n",
       "    }\n",
       "\n",
       "    .dataframe tbody tr th {\n",
       "        vertical-align: top;\n",
       "    }\n",
       "\n",
       "    .dataframe thead th {\n",
       "        text-align: right;\n",
       "    }\n",
       "</style>\n",
       "<table border=\"1\" class=\"dataframe\">\n",
       "  <thead>\n",
       "    <tr style=\"text-align: right;\">\n",
       "      <th></th>\n",
       "      <th>synset</th>\n",
       "      <th>hypernym</th>\n",
       "    </tr>\n",
       "  </thead>\n",
       "  <tbody>\n",
       "    <tr>\n",
       "      <th>12105</th>\n",
       "      <td>person.n.01</td>\n",
       "      <td>causal_agent.n.01</td>\n",
       "    </tr>\n",
       "    <tr>\n",
       "      <th>12106</th>\n",
       "      <td>person.n.01</td>\n",
       "      <td>organism.n.01</td>\n",
       "    </tr>\n",
       "    <tr>\n",
       "      <th>12107</th>\n",
       "      <td>person.n.01</td>\n",
       "      <td>physical_entity.n.01</td>\n",
       "    </tr>\n",
       "    <tr>\n",
       "      <th>12108</th>\n",
       "      <td>person.n.01</td>\n",
       "      <td>living_thing.n.01</td>\n",
       "    </tr>\n",
       "    <tr>\n",
       "      <th>12109</th>\n",
       "      <td>person.n.01</td>\n",
       "      <td>entity.n.01</td>\n",
       "    </tr>\n",
       "    <tr>\n",
       "      <th>12110</th>\n",
       "      <td>person.n.01</td>\n",
       "      <td>whole.n.02</td>\n",
       "    </tr>\n",
       "    <tr>\n",
       "      <th>12111</th>\n",
       "      <td>person.n.01</td>\n",
       "      <td>object.n.01</td>\n",
       "    </tr>\n",
       "  </tbody>\n",
       "</table>\n",
       "</div>"
      ],
      "text/plain": [
       "            synset              hypernym\n",
       "12105  person.n.01     causal_agent.n.01\n",
       "12106  person.n.01         organism.n.01\n",
       "12107  person.n.01  physical_entity.n.01\n",
       "12108  person.n.01     living_thing.n.01\n",
       "12109  person.n.01           entity.n.01\n",
       "12110  person.n.01            whole.n.02\n",
       "12111  person.n.01           object.n.01"
      ]
     },
     "metadata": {},
     "execution_count": 31
    }
   ],
   "metadata": {}
  },
  {
   "cell_type": "code",
   "execution_count": 38,
   "source": [
    "wn.synset(\"tench.n.01\").lemma_names()\n"
   ],
   "outputs": [
    {
     "output_type": "execute_result",
     "data": {
      "text/plain": [
       "['tench', 'Tinca_tinca']"
      ]
     },
     "metadata": {},
     "execution_count": 38
    }
   ],
   "metadata": {}
  },
  {
   "cell_type": "code",
   "execution_count": 37,
   "source": [
    "[\"tench.n.01\", \"cat.n.01\"] + list(hypernym_df['synset'][hypernym_df[\"hypernym\"].isin([\"tench.n.01\", \"cat.n.01\"])])"
   ],
   "outputs": [
    {
     "output_type": "execute_result",
     "data": {
      "text/plain": [
       "['tench.n.01',\n",
       " 'cat.n.01',\n",
       " 'tiger_cat.n.02',\n",
       " 'lynx.n.02',\n",
       " 'cougar.n.01',\n",
       " 'tabby.n.01',\n",
       " 'siamese_cat.n.01',\n",
       " 'persian_cat.n.01',\n",
       " 'egyptian_cat.n.01',\n",
       " 'domestic_cat.n.01',\n",
       " 'wildcat.n.03']"
      ]
     },
     "metadata": {},
     "execution_count": 37
    }
   ],
   "metadata": {}
  },
  {
   "cell_type": "code",
   "execution_count": 19,
   "source": [
    "data_dp"
   ],
   "outputs": [
    {
     "output_type": "execute_result",
     "data": {
      "text/html": [
       "<table border=\"1\" class=\"dataframe\">\n",
       "  <thead>\n",
       "    <tr style=\"text-align: right;\">\n",
       "      <th></th>\n",
       "      <th>image_id (PandasSeriesColumn)</th>\n",
       "      <th>path (PandasSeriesColumn)</th>\n",
       "      <th>split (PandasSeriesColumn)</th>\n",
       "      <th>index (PandasSeriesColumn)</th>\n",
       "      <th>image (ImageColumn)</th>\n",
       "      <th>name (PandasSeriesColumn)</th>\n",
       "      <th>synset_pos_offset (PandasSeriesColumn)</th>\n",
       "      <th>synset (PandasSeriesColumn)</th>\n",
       "    </tr>\n",
       "  </thead>\n",
       "  <tbody>\n",
       "    <tr>\n",
       "      <th>0</th>\n",
       "      <td>n01440764_10026</td>\n",
       "      <td>/home/common/datasets/imagenet/ILSVRC/Data/CLS-LOC/train/n01440764/n01440764_10026.JPEG</td>\n",
       "      <td>train</td>\n",
       "      <td>0</td>\n",
       "      <td><img src=\"data:image/jpeg;base64,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\"></td>\n",
       "      <td>tench, Tinca tinca</td>\n",
       "      <td>n01440764</td>\n",
       "      <td>tench.n.01</td>\n",
       "    </tr>\n",
       "    <tr>\n",
       "      <th>1</th>\n",
       "      <td>n01440764_10027</td>\n",
       "      <td>/home/common/datasets/imagenet/ILSVRC/Data/CLS-LOC/train/n01440764/n01440764_10027.JPEG</td>\n",
       "      <td>train</td>\n",
       "      <td>0</td>\n",
       "      <td><img src=\"data:image/jpeg;base64,/9j/4AAQSkZJRgABAQAAAQABAAD/2wBDAAgGBgcGBQgHBwcJCQgKDBQNDAsLDBkSEw8UHRofHh0aHBwgJC4nICIsIxwcKDcpLDAxNDQ0Hyc5PTgyPC4zNDL/2wBDAQkJCQwLDBgNDRgyIRwhMjIyMjIyMjIyMjIyMjIyMjIyMjIyMjIyMjIyMjIyMjIyMjIyMjIyMjIyMjIyMjIyMjL/wAARCABgAIADASIAAhEBAxEB/8QAHwAAAQUBAQEBAQEAAAAAAAAAAAECAwQFBgcICQoL/8QAtRAAAgEDAwIEAwUFBAQAAAF9AQIDAAQRBRIhMUEGE1FhByJxFDKBkaEII0KxwRVS0fAkM2JyggkKFhcYGRolJicoKSo0NTY3ODk6Q0RFRkdISUpTVFVWV1hZWmNkZWZnaGlqc3R1dnd4eXqDhIWGh4iJipKTlJWWl5iZmqKjpKWmp6ipqrKztLW2t7i5usLDxMXGx8jJytLT1NXW19jZ2uHi4+Tl5ufo6erx8vP09fb3+Pn6/8QAHwEAAwEBAQEBAQEBAQAAAAAAAAECAwQFBgcICQoL/8QAtREAAgECBAQDBAcFBAQAAQJ3AAECAxEEBSExBhJBUQdhcRMiMoEIFEKRobHBCSMzUvAVYnLRChYkNOEl8RcYGRomJygpKjU2Nzg5OkNERUZHSElKU1RVVldYWVpjZGVmZ2hpanN0dXZ3eHl6goOEhYaHiImKkpOUlZaXmJmaoqOkpaanqKmqsrO0tba3uLm6wsPExcbHyMnK0tPU1dbX2Nna4uPk5ebn6Onq8vP09fb3+Pn6/9oADAMBAAIRAxEAPwDyu2hVYlLxbmIO45GMfpg9eKWAPFcxSMp2hiNp7jOCCPzroFhinjjCqjSEgyiRss5Ax2GT+OPxzUN7aJHaxpEwDJgBAS23PbIrjU9QCNLCSeZZbRoJ7lwIQmAkalvvD8OMe+c9qvPY2q2ssAmR7rcAjFRjpznnrjmiOXGnlmtZGvYHwZyFeMrweF6ls9/al+1mWFUS2jjk3fuyq7cZ9c9M/wCetTNt2sPctxQyJ5tssiOx2+Y7sEWMDIAbcQvPXv0rYtbkwRKxbULloo9sb2VtxGDycM5XOcn7v51vaZo6aYbzzgJcSBmldctkKPQV0kHkXNof3IGOMkc9M5+lVGtyx5Ukd1PBxesmcA3meLL5JbCVY/LUI8Ih2SK+TyU7dcAgnpyeadPHHZXT2syrHKyjcp4Yc5JGen59OtWNatk0zWIL+PfGrMIJyvUo52n64yGH0qTRNHtdX1W6N1eu8kWHBZhkqDjYM4O7pjjH0qZcs0mtLmFWn7OXKZaXKtFD5TPIuPmjkGc/lyO/+TWpaW+s2aHUbUyTDYGIZSwcA5wQR261cOiGzKSWKyuhYbV8tkYOQcnIB5OPoMivQdOvNLaaNTCIJypWTdHgOVxuGRwcHv0pQppaMxOH0PULxbyGSKPfI58wsd2H7H73AJrtZoZtTvoZUkkgaM7QjJ90kH51I6jB6njNSTaZpttfRXKo8ZFyGbacoxPOSPbpXRRxRpnYqgH0ropwtdXEx6jCgZJ46mloorcQUdaKKAPjqHURJcostnKIRhUZTk4OMEj9ePatdxbNcvs4HZyxDNj2x+uaytNvhHdo2fl+5wec5yMkDP8ASlkl8qSeZceZMS74zjv681yqnzSt0A1Yr+0tWkZ2YuY9oPQZA4J7nHNUrrUluLkSpGy+Xg5zw2OecVnXe3YrBun54qWz4jaUj5Qy/L245P8AOtlQgnca3PedEvi9jFPcxAPOd7EcAMeSPw/pT5Abq8EMmdr7i6cjjHHPSq2jXESymFZECyfv4Pm4bPJArM8WeJrXSZQ8sW+cKSkER2knHfsP0riUWex7SMVqZHiTUY9JvBp+0TsY/wCL+DIIHTjPesmHULi1hIjkjhO5ZFYx8lgMjB9ecd/5VzP9oT6rdfablgZJMO0nPXrj6CrcSM88e7JXPBOTg1VSnKO55dSfPK56RpPjltK8ORWf2cXN0SXLykFVU9h/kVjN4u1F7D7J8u0kuJFUKwPHAx0HHb1PrWKFkeTOACvdQB9KfFaq1q0yxsGUkbwdxLd84PHUYrFzdrX2IOr0fx3e2t063B8+GUYMbv8Adbu2eo44Nel6J4htb6KBEUI0gYou7JwD1PTk8HHvXz1Lc/ZEQKTv3ZYlck/h9a3/AA94oisby0uJo2niR/mCsd3bGM8cEVtSqTjvsI96j1KCW5WFd2WXcGKkDtxn156VcrzSy+Jelw2+64s58RtzIcEnJ4PrnHrVpfizpE10kUNrcsrOFMjYUKvTdjk/hXXGon1Eeg0U1JEkQOjBlIyCDnNOyK0A+PbDTHSaSW5TmLDpno5PQe54qvNmGSMgfJtAx+n+fpWjHY+dMkrLIjRw+dvdieOoHpzz6dDVKYLkFxlD8p9vesqLvdgVpVBt2VW3bfun1U1bsiHt0hBUOrMXDMFznGCCeO1Z0mYy204HQn0Pb8D/ADqxZlWtkzwzHr71sB3mm38smm/ZgI5kT5WG4HYfY9K5vVrpJr3Ma/uojjGcgnjPNQWf2hZ3WxMhaZdjhVyD7/WtrS9EeO7VLpXCScYzwT71i1GD5mac0pLlOZt45oJygR5NgKgKPT/Gug063vXgH2i2dmwdp4H+RXZQaZDENscSrx2H9anFgAASh9awqV4SVmX7JnJW2l3zyrE7LFET80jNuwPoK7G20fS4oCgRZy4wzO2S35cCnx2i/wBwU2a3XywBgP1zWUakL7B7M47WtFigvniQnn50Z/Q+3tUNsjWtpEW/ecZZkGSM+3tXS3Np5rK0qB2VcBu+Kz2hmglj8sI6DOQ4Ab8+hHSiak/h2M3FowrieTULcWkQ3Pu3Ic46DkHt9PWqEMN5uUpBJ+ArRN3dRSTRvH88bY6DDfpVS51G9Mo25iB6qvANVGclokQ0eh+GPH2q6TcW0OpyrLYqpUxZXeo7EH29/U10d/47un1Bv7N1Cze2Dfu1ZcFlwc5J6Yx+teJy3V2WI8rI9CelVzJMZDmVjzWilUa3BExkufsgijmd2ZVDByp4zyc4H8qrSIShRgQ39ah82G/ilmfzI41RXfavJ+mfpXb+H7CO80u2E0IVlH3ZRk4zkHn2xzTjU9mndGlGm6jsjgpVlj++VXPyEsOn+IqzosdkdTtrW+kIty2wunTcemfbNeo3vgrSNYjPnxOjnBMkTkMT7+tYFx8L4w5+z6k6x+ksYY/mMU/rNOSs3Y3+qVE7pXOkstLS0jSOFCAoKnA6fnV2XTkis95GSSMZ9c/5/OsbTLbU/D8WJNbN/Cq4WC5jyB9Gzu/nXR6VPNr6tJcxJBbqAAVPG4Hoo715z9pzvW6N/Y2WqKMDK0hVX74GelXcAkA8npwadDZhGXBHfcM455rRaO3MbGSIbgPlKnBz2z60uaLM2mivFCChYdc85qrcRYUnAIzg1qWaDa6cZYYLCq+oWziIBDliQFwCTk1MHroJroYnllmJ2j86intlIIZenTvWre2v9lieWScTpFEZAeF3Y6iuatvFEOqSxw2ljNJLIQihjgEn9f0reKm3oKceT4ipdQQrMqGNWUnG0j+VQXekxNbPPbnEiLny25BHtnvWvqWm3GnaoYryMxuq5AzkNnuPUdataNpUur3hiilKKq73OATtyBgZ4zkj8K6oxuve3MWkSeE/AQ1WOC7vwEikByoKnjHoa3pvhtp6XatHcjy1Pyo+0kDHr9a7SBYbeFFAG5RzyetK7xvy3P8AwI1apRSIseAeF/CUF5FBqLyB7Fk3CLkbznq3tjjFdRe6S9xIs1q+1sYO09aj8CWUGoaTpkMwWW3htwMBztdsD+Vd/DpVhaQPGLZIgRnCjFZyavys6KVKSXMjymfWL/RzIJop3CKWOxgTj6Gsmf4hySIZILKWVcfxMP5V1niH7OLt1Rw3l9T6exryPXrNdM1Em2mBSX59gOCmf6elVCjTluEsRVi7G5N49nmjkaWxgRQhK4JJ3dvbrVjwxrWs2UUes3duL2xjRo1ty7FuT95R0HNcTCrTSorsAGYAs3Qe9em2UtstlHDZyI6ouF2sD0rSVOCVkjNV6jd7nR6X4yt9RWKK922E+7P2d4mAGe5fH+FXP+Ens5r2W1VizRv5ZYL8uR3BHUfSsuwvrXgXcAkgP3wybsCuxht9Ke0iaG2j8pAAoCjgVw1KEW9Dtpv2iux0F5Ba2xmWKS6KjGyDBPH1IrmH8frqEky2ul3itCQYyBk7s9Gx0GBReTPpF/PPF88Eki7U3gbP72F6kcZ4/wD1SaBYTmTUI7yEwNO++EdDgjhjg8irjh4JJo5p1HGduxzl3Za94nvRG1rdx2skpOUiJOPfPbrwT3r0Lwl4JtNDEVyks3mg7v38QVjlemNx5BqxpVuNLslnu7+Tah3naSE4znOecVDqvi+MSGzgdLeaSP5JLglBluAR3610RVjGbcpc0nc2fEWk22uWmx/kuIwTDLj7p9D7GsXwnpd3pD3ct6iRu4CIFcNkAkk8duladrdTLZQi5kEkwQB3XGGPrx6/1oa6BrQLmg1yT/EKia5+lZzXI9qja4GM00I8k+HGtC2tbixOQQ/mr2yDgH+VeiS6/wCXA8pk4C9SegrwfTL+Syu1nViB0OPSusGqvdxrvm3x9R2Fc9SOtzsoVbw5X0L+szeXB9rd5mRsySxoRk56c/SuE1C8a/u2mcKM4CqOQqjoK6HUtUEdhKgOWYbcE+tcpLcJNIzsvzE1dO9jnr25tBVUbuBnA5xWhZCJblUmdUUtnevOPXkVk72ByP0qc3JdVBRVK91FaNGJ2SXUOyKxsLl3V5lKvgk5wc5OAf8AJrvNLvJLKE28vMa9GzyBXk2j6pFY6nDMULxg5Kg4Oa7F/F1m5YmGcccLtHP61hNO9kdmGkkm7mrqN3az6kvmyFVjAYjbnA5xVyDxEFtPJEBkkhIZHVioGcYHck574x9a4q1vTf6vJKAUMmcD7xJA44/Wt1pIZCiJKrNkEsDk9OR1604qyMKkuaTZvPPr1xbGzkuLaOCTsFLFF68tgEk/1qHUbEalqUakJCwVSCcHco5OBgYJJGaJL62QEO7FBHwP/rcVXaVIXs8usfz78lcY479fWrIOrS4SGFIlY7UUKM003q9/0rKN/Ftyh35HBTkH8aX7RG6g8AnqD2q0BpG7TPWopbpAp+asySVQCQazrm62g/NTQrn/2Q==\"></td>\n",
       "      <td>tench, Tinca tinca</td>\n",
       "      <td>n01440764</td>\n",
       "      <td>tench.n.01</td>\n",
       "    </tr>\n",
       "    <tr>\n",
       "      <th>2</th>\n",
       "      <td>n01440764_10029</td>\n",
       "      <td>/home/common/datasets/imagenet/ILSVRC/Data/CLS-LOC/train/n01440764/n01440764_10029.JPEG</td>\n",
       "      <td>train</td>\n",
       "      <td>0</td>\n",
       "      <td><img src=\"data:image/jpeg;base64,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\"></td>\n",
       "      <td>tench, Tinca tinca</td>\n",
       "      <td>n01440764</td>\n",
       "      <td>tench.n.01</td>\n",
       "    </tr>\n",
       "    <tr>\n",
       "      <th>3</th>\n",
       "      <td>n01440764_10040</td>\n",
       "      <td>/home/common/datasets/imagenet/ILSVRC/Data/CLS-LOC/train/n01440764/n01440764_10040.JPEG</td>\n",
       "      <td>train</td>\n",
       "      <td>0</td>\n",
       "      <td><img src=\"data:image/jpeg;base64,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\"></td>\n",
       "      <td>tench, Tinca tinca</td>\n",
       "      <td>n01440764</td>\n",
       "      <td>tench.n.01</td>\n",
       "    </tr>\n",
       "    <tr>\n",
       "      <th>4</th>\n",
       "      <td>n01440764_10042</td>\n",
       "      <td>/home/common/datasets/imagenet/ILSVRC/Data/CLS-LOC/train/n01440764/n01440764_10042.JPEG</td>\n",
       "      <td>train</td>\n",
       "      <td>0</td>\n",
       "      <td><img src=\"data:image/jpeg;base64,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\"></td>\n",
       "      <td>tench, Tinca tinca</td>\n",
       "      <td>n01440764</td>\n",
       "      <td>tench.n.01</td>\n",
       "    </tr>\n",
       "    <tr>\n",
       "      <th>...</th>\n",
       "      <td>...</td>\n",
       "      <td>...</td>\n",
       "      <td>...</td>\n",
       "      <td>...</td>\n",
       "      <td>...</td>\n",
       "      <td>...</td>\n",
       "      <td>...</td>\n",
       "      <td>...</td>\n",
       "    </tr>\n",
       "    <tr>\n",
       "      <th>1331162</th>\n",
       "      <td>ILSVRC2012_val_00005961</td>\n",
       "      <td>/home/common/datasets/imagenet/ILSVRC/Data/CLS-LOC/val/ILSVRC2012_val_00005961.JPEG</td>\n",
       "      <td>valid</td>\n",
       "      <td>562</td>\n",
       "      <td><img src=\"data:image/jpeg;base64,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\"></td>\n",
       "      <td>fountain</td>\n",
       "      <td>n03388043</td>\n",
       "      <td>fountain.n.01</td>\n",
       "    </tr>\n",
       "    <tr>\n",
       "      <th>1331163</th>\n",
       "      <td>ILSVRC2012_val_00008801</td>\n",
       "      <td>/home/common/datasets/imagenet/ILSVRC/Data/CLS-LOC/val/ILSVRC2012_val_00008801.JPEG</td>\n",
       "      <td>valid</td>\n",
       "      <td>509</td>\n",
       "      <td><img src=\"data:image/jpeg;base64,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\"></td>\n",
       "      <td>confectionery, confectionary, candy store</td>\n",
       "      <td>n03089624</td>\n",
       "      <td>confectionery.n.02</td>\n",
       "    </tr>\n",
       "    <tr>\n",
       "      <th>1331164</th>\n",
       "      <td>ILSVRC2012_val_00008176</td>\n",
       "      <td>/home/common/datasets/imagenet/ILSVRC/Data/CLS-LOC/val/ILSVRC2012_val_00008176.JPEG</td>\n",
       "      <td>valid</td>\n",
       "      <td>9</td>\n",
       "      <td><img src=\"data:image/jpeg;base64,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\"></td>\n",
       "      <td>ostrich, Struthio camelus</td>\n",
       "      <td>n01518878</td>\n",
       "      <td>ostrich.n.02</td>\n",
       "    </tr>\n",
       "    <tr>\n",
       "      <th>1331165</th>\n",
       "      <td>ILSVRC2012_val_00004764</td>\n",
       "      <td>/home/common/datasets/imagenet/ILSVRC/Data/CLS-LOC/val/ILSVRC2012_val_00004764.JPEG</td>\n",
       "      <td>valid</td>\n",
       "      <td>694</td>\n",
       "      <td><img src=\"data:image/jpeg;base64,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\"></td>\n",
       "      <td>paddlewheel, paddle wheel</td>\n",
       "      <td>n03874293</td>\n",
       "      <td>paddlewheel.n.01</td>\n",
       "    </tr>\n",
       "    <tr>\n",
       "      <th>1331166</th>\n",
       "      <td>ILSVRC2012_val_00031847</td>\n",
       "      <td>/home/common/datasets/imagenet/ILSVRC/Data/CLS-LOC/val/ILSVRC2012_val_00031847.JPEG</td>\n",
       "      <td>valid</td>\n",
       "      <td>98</td>\n",
       "      <td><img src=\"data:image/jpeg;base64,/9j/4AAQSkZJRgABAQAAAQABAAD/2wBDAAgGBgcGBQgHBwcJCQgKDBQNDAsLDBkSEw8UHRofHh0aHBwgJC4nICIsIxwcKDcpLDAxNDQ0Hyc5PTgyPC4zNDL/2wBDAQkJCQwLDBgNDRgyIRwhMjIyMjIyMjIyMjIyMjIyMjIyMjIyMjIyMjIyMjIyMjIyMjIyMjIyMjIyMjIyMjIyMjL/wAARCABaAIADASIAAhEBAxEB/8QAHwAAAQUBAQEBAQEAAAAAAAAAAAECAwQFBgcICQoL/8QAtRAAAgEDAwIEAwUFBAQAAAF9AQIDAAQRBRIhMUEGE1FhByJxFDKBkaEII0KxwRVS0fAkM2JyggkKFhcYGRolJicoKSo0NTY3ODk6Q0RFRkdISUpTVFVWV1hZWmNkZWZnaGlqc3R1dnd4eXqDhIWGh4iJipKTlJWWl5iZmqKjpKWmp6ipqrKztLW2t7i5usLDxMXGx8jJytLT1NXW19jZ2uHi4+Tl5ufo6erx8vP09fb3+Pn6/8QAHwEAAwEBAQEBAQEBAQAAAAAAAAECAwQFBgcICQoL/8QAtREAAgECBAQDBAcFBAQAAQJ3AAECAxEEBSExBhJBUQdhcRMiMoEIFEKRobHBCSMzUvAVYnLRChYkNOEl8RcYGRomJygpKjU2Nzg5OkNERUZHSElKU1RVVldYWVpjZGVmZ2hpanN0dXZ3eHl6goOEhYaHiImKkpOUlZaXmJmaoqOkpaanqKmqsrO0tba3uLm6wsPExcbHyMnK0tPU1dbX2Nna4uPk5ebn6Onq8vP09fb3+Pn6/9oADAMBAAIRAxEAPwCA2MhXCSKD6kZpBZzL/wA8yPpT1hjIwkx+u6pFhkUcTMx9c1j7NPp+JXM+5WNtJnmPI74NV5IXUn904X1HNaLLcj7rA/WmebdqvzRBj3wKl04+Y+ZmesRZwGBUEZJfoKmUDsseOn3qsm7lDBGg69+gpxdAMtEjA/3WU1PJHo/wHzPsZpUK5HnKrA9KdG21hiYA+hPJq35tlISGTBHrTPIspGJXJap9l2aHzeQ1QrN0XI9KnwC33hkeo4ojt48DLFscDcc4p7QSfKMoccA0/Zy7BzIgFuxk+Xy25ycGpBbyjJEQDE56ike3kyNi7DjGQc5pNhTIlD/UCnypbpiv2YrxTEgmHnu2OajYFXydwz3Ap6syEFJmPs1PFzIQdxGPcVNoeY/eKr/Mw5IHUnHWq83lvEdygsfugHkVeM46MVI7fLimtDbupYlN3tU2T2HcsBNwx5cLe4OKDHxzE3/AWp6rz1z/AMBpWZh3/SupwTMrsjGAMbnX6g8Ug8zdlbpcejCpFduM85pG5OSi/jQo9gbEP2oD5Xib60v77HMcbU3ahP3VB9qXyX7Ej8aqz/piuhsi7vv2in6VALZS/wAsAT3BqwRLng5puWBwVUfiRUShf+kNMRbdlXCrR5Mw+7u/OnBVBzs/Jiaz9Su54lIhUr3OWOaj2aWrKUm9EXTJcQuB2PXcasCeUDmPP0BrznUZL+6m/eykHHA3YroNB1maG2W31GUoVO2OUjIYehNXB9pMUovsdMLpW5eIqfcZpC9s/UY/CovtkbJuFxGyjqaXzldQdqsD3Apty66/ISSQ0wWrHAb8D0qKfTvMX5JSCO3BFSfuz2K/hSeWCciVh/wGs+W/Qq/mTiN05YYHs3/1qXKnHzj8qUO3Tbn60jDIzjHuK3afQzuh24AcYamFwW+6w/Wk+Yfxn8aY91bwjNxLEn++wFLVj0JsoRlcH26VGWkH/LDj2NI80CoGwzbvuhAearPqFx5gjt7Rzzj5xnP4Chpgi4hDj7uD6b6XMg+XH581USPW7+byba0G4feJQjH61UvI/EmlsPtNpwfusOQfyoCxrBWHUqPwrM1uFzHEVdQS20kVSg8UGGbyNQtjDJnBIORWpc3ltc2owy/MwwRyamduWzKjdSuc4NPFzqsdu8mUfl9owa6OHSdOhUBbaMkfxMu4n8afHpcELC6iC7wMhye9WBdFlBxjI61nTcYoupzN3I1tYE+7BHz/ALHWpPJ9IwoHoMU9WRzkMfwOKQtt/ib881rdGWozbjqSPxphYZ4P9alEqngqDTWWN+eB+lS2nsO3caZMHg8elRzXDouUj8znkZxTzG/aMCkMMv8AsitLsnQmtLy08lmuLdxJ2DHNU1TS/PHmIjbm6umcfpgfhUn2eQ8ZH5VFJYs3VsfjUu5aaNKNlyphnDRHIjDNj9M1qm4spLaNJtPDOo5aKXbmuZXS2x97PfrV6GzmigCiZAp7cVCcl0KujSMjWZV7Cd1jPIjchiDUFxqs5ibzUDO+AWYn8DjpTLe2mnO2LDOv8ROcVFqNtJbLsuHRA3Ix3NFxGLr1jZpp8QlVZ7u4kwZCoJH09h1rNsoFtYUiVskd8dRWz9neeUB4mbB4fHFSXNksduzbeR709eW4rq5Tnvbia1MCIqAjaW9B7CiBmjhWMnIUYHepY4UK4wN5rXS3RVACjp6UqUXO4TfKZ8Rkk6Lj3IqdYnAPKmrW1RmjA7c1p7KJHOysY34BU0nlyAcdPQ1OxKnkmmgq3RiPwqOSNyuZlkgCjj2p2cDNR5yfX2rpbM0GATwMn60mzkZ49hT+OeDSZGOnFKwCY54UY780Ecfd/ClDLjOaTdnoM/UUaANUbOUXYfXpUTRJI+913t6sd2KmKhskgZppJUjJK/Spa7jTHIeMBdq/lVTUpP8ARwoPVuc1aAHXDE/7VU723E2P3gUj16VM1LlaQ42vqZcMpF8gLEjPpXRq4fGM59+K537OsM6u064H+ya0Y5JBt8piVPWsqL5FZlzXNsaRXPJNRtHuXg9KiV3LZwB7E5p+cDk4rounujOzQwrIAcjIphB54qUzJjg5o3KV6c1nyroyrsXLMMkKfqacGYfw4+lRfxVITxWhIrPk+hpM5I4zVfccjk05id1TzBYn24PyjFBZgpB59x2qAjipI/uimtQG7Mkck/7y0/b6/pTWPJp38NGiACdv3uB60wuGHD8Uzr+dSYG0cUKVwsUrkoQjBSwVslWXrwR/XP4VVUSdDcSxkcjYjbfTpWsVGegqC35kbPPNJ6Be5UfK5xczDp/C2fSmyKHKOJmJRdvzRscn1raYADgUw02uoJmKobBLTygr93KMePerVqApZvMlk4AwykAfnVyQkDg4qNSSeTms3JXsVY//2Q==\"></td>\n",
       "      <td>red-breasted merganser, Mergus serrator</td>\n",
       "      <td>n01855032</td>\n",
       "      <td>red-breasted_merganser.n.01</td>\n",
       "    </tr>\n",
       "  </tbody>\n",
       "</table>"
      ],
      "text/plain": [
       "DataPanel(nrows: 1331167, ncols: 8)"
      ]
     },
     "metadata": {},
     "execution_count": 19
    }
   ],
   "metadata": {}
  },
  {
   "cell_type": "code",
   "execution_count": 40,
   "source": [
    "from sklearn.metrics import confusion_matrix, roc_auc_score\n",
    "mask = (slice_dp[\"slices\"][:, 0] == 1)\n",
    "tn, fp, fn, tp = confusion_matrix(slice_dp[\"target\"][~mask], preds[~mask] > 0.5).ravel()\n",
    "print(\"Out-of-slice sensitivity\", tp / (tp + fn))\n",
    "print(\"Out-of-slice specificity\", tn / (tn + fp))\n",
    "print(\"Out-of-slice auroc\", roc_auc_score(slice_dp[\"target\"][~mask], preds[~mask]))\n",
    "tn, fp, fn, tp = confusion_matrix(slice_dp[\"target\"][mask], preds[mask] > 0.5).ravel()\n",
    "print(\"In-slice sensitivity\", tp / (tp + fn))\n",
    "print(\"In-slice specificity\", tn / (tn + fp))"
   ],
   "outputs": [
    {
     "output_type": "stream",
     "name": "stdout",
     "text": [
      "Out-of-slice sensitivity 0.831919191919192\n",
      "Out-of-slice specificity 0.82976\n",
      "Out-of-slice auroc 0.9197379337373738\n",
      "In-slice sensitivity 0.598\n",
      "In-slice specificity nan\n"
     ]
    },
    {
     "output_type": "stream",
     "name": "stderr",
     "text": [
      "/tmp/ipykernel_271326/3515381961.py:9: RuntimeWarning: invalid value encountered in long_scalars\n",
      "  print(\"In-slice specificity\", tn / (tn + fp))\n"
     ]
    }
   ],
   "metadata": {}
  },
  {
   "cell_type": "code",
   "execution_count": 54,
   "source": [
    "from domino.slices.imagenet import collect_rare_slices"
   ],
   "outputs": [],
   "metadata": {}
  },
  {
   "cell_type": "code",
   "execution_count": 62,
   "source": [
    "slices_dp = collect_rare_slices(data_dp)"
   ],
   "outputs": [
    {
     "output_type": "stream",
     "name": "stderr",
     "text": [
      "100%|██████████| 15/15 [00:09<00:00,  1.59it/s]\n"
     ]
    }
   ],
   "metadata": {}
  },
  {
   "cell_type": "code",
   "execution_count": 65,
   "source": [
    "sb = ImageNetSliceBuilder()\n",
    "dp = sb.build_slice(\n",
    "    data_dp=data_dp, \n",
    "    split_dp=split_dp.out(6135).load(), \n",
    "    **slices_dp[0]\n",
    ")"
   ],
   "outputs": [],
   "metadata": {}
  },
  {
   "cell_type": "code",
   "execution_count": 70,
   "source": [
    "slices_dp[1]"
   ],
   "outputs": [
    {
     "output_type": "execute_result",
     "data": {
      "text/plain": [
       "{'n': 100000,\n",
       " 'slice_category': 'rare',\n",
       " 'slice_frac': 0.001,\n",
       " 'slice_synsets': ['bobsled.n.02', 'pirate.n.03', 'cab.n.03'],\n",
       " 'target_frac': 0.5,\n",
       " 'target_synset': 'vehicle.n.01',\n",
       " 'index': '1'}"
      ]
     },
     "metadata": {},
     "execution_count": 70
    }
   ],
   "metadata": {}
  },
  {
   "cell_type": "code",
   "execution_count": 71,
   "source": [
    "dp.lz[dp[\"synset\"] == \"bobsled.n.02\"]"
   ],
   "outputs": [
    {
     "output_type": "execute_result",
     "data": {
      "text/html": [
       "<table border=\"1\" class=\"dataframe\">\n",
       "  <thead>\n",
       "    <tr style=\"text-align: right;\">\n",
       "      <th></th>\n",
       "      <th>image_id (PandasSeriesColumn)</th>\n",
       "      <th>path (PandasSeriesColumn)</th>\n",
       "      <th>split_x (PandasSeriesColumn)</th>\n",
       "      <th>index (PandasSeriesColumn)</th>\n",
       "      <th>image (ImageColumn)</th>\n",
       "      <th>name (PandasSeriesColumn)</th>\n",
       "      <th>synset_pos_offset (PandasSeriesColumn)</th>\n",
       "      <th>synset (PandasSeriesColumn)</th>\n",
       "      <th>target (NumpyArrayColumn)</th>\n",
       "      <th>slices (NumpyArrayColumn)</th>\n",
       "      <th>input (ImageColumn)</th>\n",
       "      <th>id (PandasSeriesColumn)</th>\n",
       "      <th>split_y (PandasSeriesColumn)</th>\n",
       "    </tr>\n",
       "  </thead>\n",
       "  <tbody>\n",
       "    <tr>\n",
       "      <th>0</th>\n",
       "      <td>n02860847_4942</td>\n",
       "      <td>/home/common/datasets/imagenet/ILSVRC/Data/CLS-LOC/train/n02860847/n02860847_4942.JPEG</td>\n",
       "      <td>train</td>\n",
       "      <td>578911</td>\n",
       "      <td><img src=\"data:image/jpeg;base64,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\"></td>\n",
       "      <td>bobsled, bobsleigh, bob</td>\n",
       "      <td>n02860847</td>\n",
       "      <td>bobsled.n.02</td>\n",
       "      <td>1.0</td>\n",
       "      <td>np.ndarray(shape=(3,))</td>\n",
       "      <td><img src=\"data:image/jpeg;base64,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\"></td>\n",
       "      <td>n02860847_4942</td>\n",
       "      <td>train</td>\n",
       "    </tr>\n",
       "    <tr>\n",
       "      <th>1</th>\n",
       "      <td>n02860847_14291</td>\n",
       "      <td>/home/common/datasets/imagenet/ILSVRC/Data/CLS-LOC/train/n02860847/n02860847_14291.JPEG</td>\n",
       "      <td>train</td>\n",
       "      <td>578085</td>\n",
       "      <td><img src=\"data:image/jpeg;base64,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\"></td>\n",
       "      <td>bobsled, bobsleigh, bob</td>\n",
       "      <td>n02860847</td>\n",
       "      <td>bobsled.n.02</td>\n",
       "      <td>1.0</td>\n",
       "      <td>np.ndarray(shape=(3,))</td>\n",
       "      <td><img src=\"data:image/jpeg;base64,/9j/4AAQSkZJRgABAQAAAQABAAD/2wBDAAgGBgcGBQgHBwcJCQgKDBQNDAsLDBkSEw8UHRofHh0aHBwgJC4nICIsIxwcKDcpLDAxNDQ0Hyc5PTgyPC4zNDL/2wBDAQkJCQwLDBgNDRgyIRwhMjIyMjIyMjIyMjIyMjIyMjIyMjIyMjIyMjIyMjIyMjIyMjIyMjIyMjIyMjIyMjIyMjL/wAARCABKAIADASIAAhEBAxEB/8QAHwAAAQUBAQEBAQEAAAAAAAAAAAECAwQFBgcICQoL/8QAtRAAAgEDAwIEAwUFBAQAAAF9AQIDAAQRBRIhMUEGE1FhByJxFDKBkaEII0KxwRVS0fAkM2JyggkKFhcYGRolJicoKSo0NTY3ODk6Q0RFRkdISUpTVFVWV1hZWmNkZWZnaGlqc3R1dnd4eXqDhIWGh4iJipKTlJWWl5iZmqKjpKWmp6ipqrKztLW2t7i5usLDxMXGx8jJytLT1NXW19jZ2uHi4+Tl5ufo6erx8vP09fb3+Pn6/8QAHwEAAwEBAQEBAQEBAQAAAAAAAAECAwQFBgcICQoL/8QAtREAAgECBAQDBAcFBAQAAQJ3AAECAxEEBSExBhJBUQdhcRMiMoEIFEKRobHBCSMzUvAVYnLRChYkNOEl8RcYGRomJygpKjU2Nzg5OkNERUZHSElKU1RVVldYWVpjZGVmZ2hpanN0dXZ3eHl6goOEhYaHiImKkpOUlZaXmJmaoqOkpaanqKmqsrO0tba3uLm6wsPExcbHyMnK0tPU1dbX2Nna4uPk5ebn6Onq8vP09fb3+Pn6/9oADAMBAAIRAxEAPwDzbWtSubyI+VMIowzDJkODznKjrUGnX5vb+L7XK0oP32kUnCj398YrVe8N5bJbeSv2KJ38l5gMr03YHTdz39an0ixkm0+4ET+ZA4QhZIiIxg5IHuOenHJqt2SP1vWYUuHs9Nkt5YgA4JBz0BwAf88VhxSQX87yzyP8oZgIlyzEc5I7CqMepC11NvPt8yiVSAnQ4PSulTSJYyL3+zZnQl90asu5AoGMg9O5+hou29RtLuZc2rXeoarJfvqKw4t/J81Iwp2DOBgdOtY99ahmWSOR3EgJ3OSSxJ64ruvD+jHTLXVJJoILuW4sGjhMg4jkYj68gZ5p3gjXl0/xdbx3em/dViwKg7V9R1zyahqSaVr3NLRlHV2ZgeH9QtNM1K2VY7eCQFQbmTcOBzkg9898V63Z63a6lazR2OoRPGflklLMSXxnqAccAn0rtU1LQru6QK9vJIEyAYl7/hxXH+LL2yvJIp9MjXfHDMhAjCfMw2qeOvQ/hWybSsSo26nlifbWiS6N1c/Z5W8pTDcAPySOh6Z+X8qz1sLJPEiW1xqqwT+YGklmbcqEc/Mw74AHHet9/EMN4sWjTWe2eaVYpUMeVRAclwO/QcGpdQtNL8P6RbmLSLK6umJ81rsLxk8EIOcfjWcZOSu1YqrBRfuu6M2yOj67qF/d6vqlvCVm3RCOJt0qnkjaOg9+TzVDXpNLF/JJYTRx5iZTG56NkgAJnI+XA5966Sz1Sx0zw9c3Eei2739wvkiSKMLCNuSGGecnjjqay7JfDv8AY959otYzLsd5TKcSb+cYPbnp+FKcuVbXFTp87texyEcVwsQmwySZIiZWwPfHvzU4kVgnmx+WdmxljXGMcZx+VVrqOSGKAtHIiyLuV2BAYe3FQrNKFCAkjPAPrTMbnUeHdfg0U75rFLwq+5EkzheeTivQND8b20VrLeXubm+DIkXnQ7VjTOA3TCDk/pXO2mj+GI9JsGNw2oa5cXMKN5b4SMkgldo6jGQSa2/EGhaZZaLdCfVknmRw0ytIdse8khBj06gfT2rRXsUro5KGW01W/jsLSPyrF5DK0Kt9w4y5U44U4Ax1rpbe7VriW1VVCxj5VUYCr2H+fSuX0O3axu3eQfeUor7cDqDgHv6Vc0Vy+pXzTS4eZsxHvtXg/wA6cAiyxf6RZ/2vBPHbQ+a8chBYcbxtIJ/WprzVmt1SCYxeYIyWGcjnjC+9JeyqL2z+fPzOOv8AsmuU8Q2k0GpJcJudDgsScnJ/z+tDKbsjsbHWI7iUwlh5gPPvxnNOu4xbalDdQIm+aNossONw+Zc/+PVx2kxi61OaYFwYwFChip98YremuBHbqsUxzHKjbZDkj5hnrz3NFxJ3BtTY6xDIfkkxtk2NwWx0/AH+VaFprsa621hPIo4IXJ9cH/GsXUdPF5EL6wtpp54pXecKDsKbRkZ/vcE1S0OyttSNzcq7Ek9DgsMex60ILu52epWyC7tp1BTdmF3XggMOD+YH502+heSyuJIdITV7myiXJlP3FY4J2jqTgdORisafUWsbKe2upQ6RhXjcrgnByOO/SrkniiXRJo7m2JMjKJhGsm0SdVG4Y5xnIH1obG2rF+0vru4SGx1azitrmRjMV2jd90bc+hC8fQ1xuu+H4LLxJpvzNNDezrG4Y8rgjgH6HHNa0+rO81jfz/NI9yd778n5lI/Lp+VWNeIk13QASMC7J/T/AOtSewI2JNMjm0cafqEEAhZ1jiWPOFHYj0IOa89u9OWDXZLGWOKBhIVKjcVA7N9Mc13evX3kNYoJNpNypJB6Yzj9cCoNfaKM2E01vbS3M7FDPMCDjHQYI4570pK42jBTSNBsGke41iOaG2Kn/RlLeYSeQSeB9PrWZqt8s0pMUUqRSyGSFHbK7en3SPYVrXepRx7VsdJsJGQ+Zu8ksBnuFJ/WsmTUpprjzrvSrVsnBZoefx5pOxmx/wBk1WFJklhuoQqgjzEIwwI9aq3OtixvJYZ4pN6gGN0+UoThiMHtmvsZkVxhlBHuM18x/H3TjbfECO5BXZdWcbgDjBUlT/KlzPoVyW1OKufEsk19HcAkiNSMYwDn2rodNm/tfS3M6ORKCpbd931IGOteflG/un8K+r/hRLpdr8NdFja4s1mMTM4aRQwJdjzzmmm+oJXPnuK7/wCEavpLa6WTcSWVypG5SeDU93rmkXMYf7TNuLqXTYeRn8q7v9obT4ZbrRtYtpIZAyPayeW4JyDuXp9WrxDa3ofypczHa2h7d4T0CfXvD32/T/NkthMJ40Y8PJHkbX9OvQZrz3x9pt94f8XzQ3E8a3kkaTy/ZhsVGcZKjHpXtvwAuCfh9PFIQojv5AuT1BVD/OvLPjiP+LoXhHIMEJGP9wU27odtLnnxupyctK7E92Oa9DtfD2rX/hTTL6z025vpbpSpCxFwEViBtIHHT1rzgIxPCk/hX0d8PfHWleGfAthpN+Lh7i3DFjDHuBDOWGOc8A0o3FZHmt/bS2dveWE9o0N/p6CWaCUHIAG7qO+O4rkLzxFqF7NHI8u0xHMe3gr+Neo+Nbnwt4z8W/2taa9HDvsZLaaGbdBJG6o2xgSMMCcKRnoa8fayukEZe2mUSY2EoQGz0x60pS7hbsaT+JtQlgSCVo2jXH8A3HBznPXNdpp0+sfEC3NlpWkbzZMkhlMwJXqMYOOv9K3r/wCAX2PwwdQbXRHeQWzT3EckP7vIBYgHOR6ZNYnwFtLy4+IgmgkdLe3tpHuMdHU8BT/wIg/hTTewWLdz4A8UGZGtNCuYSExkup2kenzVDJ8P/Gs6BJNMuHz0BKgD9a+m9oPYUuB6U7hyI8tv/ihrVv421Pw8ml6XC1o37s314YTKnGGDEbeQc4ri/iFY6v46vLK8uToGnm2iaIn+2I3DAnOfbHNdP8cfCb3NlbeK7GENdaeQlyuwNvizkMR32nr7H2rkdH1jTtU01LuRvA1jKSQ0F1YMrqR9Dgj6VDubRUXozkh4K063P+neNNDgA6rAzzn/AMdXFXoNC8Dw487xFqt+3pZaYRn8WNdUdYggOIPE/g62I/59dILkfmDSnxDdMdv/AAsWRf8AZstHI/kBRqPlgjIt9J8FHHleGvGF977AgP5CtGDRdBOPI+FniOf3lndahk8SaZuYXXxL8SsQcMsdqyc/nUJ8ReEv+WnjbxlKfY4/rS1H7nl+BuxaNZquI/hFqy/9vzD+tUb7w7M+oW11afDfVIIl+W4hlmEyuvqpJyGH5GqkfifwSDhvFfjT/v8AVcTxR4JGCnjXxfEfUysf6VM488XF9RqUU76FKXStA1bRriTS9Ov1lVj5bJAykMOqNk4PPFci0SwTGKRJ4ZVOGRpMFT6HNdXc+ItC0q5jk0HxJc6it3OBdw6hGwZSx/1ikAAn1B61P4r0CXUZRPHeWZuUQgQhVi81evBycke9edhMU8BivZYn3qctm221/XU6p0YYinzQXvL0OauPD0p0a61YxJsttrEuyncCcHBHpkdatvoc0VrGslhfQRMFYCN2CnuDgVy8l3NZR3dosgj89RFKh6kBgf6VPd+IHvEjW8uFlkiG1ZGB349Ccc/jX0EKa9u+dwlTfqmlborvW++u2xwtRSaV0z0iC+8S6tpN1YLrFxcW8kRSa2nKszxkYI/vfrmtDwDf6T4Be9gWymMl0ymRncb0CjhQCBxyT+NeRQeIFtnLRXNxGSu1jESCQeo60XGvpczCR5bkuOA7kbiO2T3qXh6UKz99cnS17r13T/MHNOOu/wDXzPq+w8X6LqAUR3ixuf4JvlP+FbaMHUMpBU9CDxXyfB4zWXTVsbhvnXOy5KDevfHHUdfzrpvh74r1f/hKLKzsL26uYpH2yQMmUcY57/L9awiuZO+jT+9d/wDh9RS5V8LufRjhXDIyhlIwQRkEV4B8UvDltP8AFvwzYWVnbww3qxLIkMaqG/encSBx92vd3JAOCa5jU7S2k1y1unt4muEb5JmQF147HqKSVwaueR/GXRdNsfGWlWtlaQWWnm2V7lbWJVYAyEEgdzjoPauYm8Ci5MsvhfWheIjDfFdILeSPOcZycE8V9A6tp9ldyrcXNnbzTJGQsksSsyj2JGRV2206xW3QrZ243DJxEvPH0quUXKfKGp+FNcsGEl9CC0rH/VzLKzHkkkISfxNRWnhfVL/T3v7SAPbx53ZkVW4GeFJyfwFfV0+nWK3O4WVuG29REue/tWfrljaI8SLawBdg4EYxS5Rch8sNomo4ZhZXPlr1domA/UVeh8G+IZy23TJgqnBZ8Kv5k19M6PpentMu6wtTznmFevr0rqxbQJGI0hjVP7oUAflRyhynxvqHhXXNLaIXdhInmglNpD5x7qT60tj4Z13VLtba20+eSZgSNw2j16nAr7GFvAnCwxgeyilEUfTy1x9KXKg5T5AuvBniDT4GuJ7L5EO1tkiyEE+ykn8anj8A+Jr945YtMmk8/lNp3nHvzx+NfXHlR/3F/KpFRV6KB9BTsh8p8vL8G/GPmR40tGGASfMAH0OSDn6Vo2HwK8V3gaWSa0scE7Y5ZCW/8dyP1r6SwMdKUAZ6UrIOVHzNbfA7xSbjbdxLHHsJ3RSI+W9PvD869d+Hvw60fwjdy3CC6uL4KF+0XChVXPUIo/nXoIAx0qRaNhWR/9k=\"></td>\n",
       "      <td>n02860847_14291</td>\n",
       "      <td>test</td>\n",
       "    </tr>\n",
       "    <tr>\n",
       "      <th>2</th>\n",
       "      <td>n02860847_8951</td>\n",
       "      <td>/home/common/datasets/imagenet/ILSVRC/Data/CLS-LOC/train/n02860847/n02860847_8951.JPEG</td>\n",
       "      <td>train</td>\n",
       "      <td>579128</td>\n",
       "      <td><img src=\"data:image/jpeg;base64,/9j/4AAQSkZJRgABAQAAAQABAAD/2wBDAAgGBgcGBQgHBwcJCQgKDBQNDAsLDBkSEw8UHRofHh0aHBwgJC4nICIsIxwcKDcpLDAxNDQ0Hyc5PTgyPC4zNDL/2wBDAQkJCQwLDBgNDRgyIRwhMjIyMjIyMjIyMjIyMjIyMjIyMjIyMjIyMjIyMjIyMjIyMjIyMjIyMjIyMjIyMjIyMjL/wAARCACAAGoDASIAAhEBAxEB/8QAHwAAAQUBAQEBAQEAAAAAAAAAAAECAwQFBgcICQoL/8QAtRAAAgEDAwIEAwUFBAQAAAF9AQIDAAQRBRIhMUEGE1FhByJxFDKBkaEII0KxwRVS0fAkM2JyggkKFhcYGRolJicoKSo0NTY3ODk6Q0RFRkdISUpTVFVWV1hZWmNkZWZnaGlqc3R1dnd4eXqDhIWGh4iJipKTlJWWl5iZmqKjpKWmp6ipqrKztLW2t7i5usLDxMXGx8jJytLT1NXW19jZ2uHi4+Tl5ufo6erx8vP09fb3+Pn6/8QAHwEAAwEBAQEBAQEBAQAAAAAAAAECAwQFBgcICQoL/8QAtREAAgECBAQDBAcFBAQAAQJ3AAECAxEEBSExBhJBUQdhcRMiMoEIFEKRobHBCSMzUvAVYnLRChYkNOEl8RcYGRomJygpKjU2Nzg5OkNERUZHSElKU1RVVldYWVpjZGVmZ2hpanN0dXZ3eHl6goOEhYaHiImKkpOUlZaXmJmaoqOkpaanqKmqsrO0tba3uLm6wsPExcbHyMnK0tPU1dbX2Nna4uPk5ebn6Onq8vP09fb3+Pn6/9oADAMBAAIRAxEAPwD0w2aTXDNGyHJ5U8Yqd7GAj58s3faaqvNDBAHWNxu55rPa9JfKlxzzWxFjbW3tIV+SMl8fdJqrOlvEWaNfLkPcGs8Xf73cshJz0NTy3VqfmkmWIgZ/GgRFPbPKVIbcOzUtvFcQyiTcQo7jmpLDxNo1nOI9QvYIUIJjM3yKxHXk8UTeOdBmudseq6Y4JxgTpz+tS3Z2KsWzqrq7Hyg0Y7g81dhvYZkDB8E9jXHXV1d6peyjQmFzajALW4DBWxyN3T/9dRQ+Hdc1GaaHzl82HHmRtMNyZGRkDpkVqoxtdyRGuyR20l/aQD95cxL9WFUZfE2kRA5u1bHXYM1zF34NuLK2a51O/trSAEZdyTin+F9I0LWLuT+ztaFzLbMGeMRY4z1weoobpJb3+QKMuxk+K/izNompx2lhpKzIwDCSdiu8YycAdPxrZl+IcCWwlayaMbA7b3GF4yea4r4trYXms2lpd3TWd5bqQ5ERYEZ+UnHTIxWrpml295YRIpSU+WFfzDjfxjP41zVMXQoySqddjVUZSWhaj+Kcd6ZFs442ZM/LyWPuB3FVT8StWyf+JRP/AN+DXLyaLD4aW4+yfvFlckSqMkKP4cjrjnNcU/i/V/MbZs2ZO3jt+dR9ZqSdqcVb8zrjhqEaalUm7vokfRk2sWwkIZvMXGNq1mSXpDEwRgemeaqJES+EFXEtZZOmQO/au7lSPPuyAJe3JyzhB7sFFWYrGyU7ry+RVx/B81PTTkwd7hQBkkjNcTrD3ureJzpenIFVAqqzHAAwMs34n+lZVqzgvd3OvCYRV5PmdkupqeJdM8P+KbMaPpV9/wATJGM0ZmGFcAYKj6j+VefXPgXxDA/2b+x5ioPDo6FenXOa9zsPBnh/RrWEyQrc36/M11Jyxbvtz0FZXjNZotINzp175AiI8/KBiUPG4ehGQfpmsUpS1kKp7OMrUtvM57wReal4W06PQ7e5gV5LnzJQmGIJwMZ+gFdP4b8SaY/xU1nbMsMd/GkUXmOB5ssfB47ZGcfSvMob+6sjmaPdd2zHEm75vc8dfUGs240ebUr+GNvMR2BaIpgYbg5/HnmrX7yN4rbcmtRlRlyy67HY/ETUdUn1i6s9Yk3W9hOwgMZCgiQApkD0ANcv4O1HUbHxBIdJk8q6lheIOF3BVPJOPUYpmp/2lFeW9jrbx3MSKGKlsk8YBZsckZqlaXsKa4k1nb+XZKwDmNjl0B9+maiMlF2Y/ZuUbox/Gj6rF4juf7UlkuJywbzpgQ0q9jj6V03g7xGksCQ3k+14cGPe2A69lJ7kfyqDxXaappN1bx3TQXLSIXYfKzKAcdQPcEGsRre3t7ItNGrCRcgMOQOoPse9Y4uFPEQ5ZadvI6MLQk23F9NTsvF1pK2jiTSbMRyyTGJ0jPBDD72O3uffJrIg+HVgbeMzarMspQbwiDAOOcc9KpeHfEccN3baZPcStbzvsy4/1BJwCD3Br05bG0jUJIzb1GGx6968irXr4RKm36Pv/wAMaxp06uvY6+305YxkD6mpJ8xKBGAMdTjNbctsNp5x9KytQBgheQjOF/OvoOZs81I4Txj4pn08wafZW7T3l1xGFGec4/ofy5468mLTVNCudPN7c75r28QOiHJUZzye/IBPap9H1yPUvHs17fIIntIH+z26tu3HGOfTjJ59aoySzXUc2q3tx9mtUYb5iMsWPRUHdv8AJrncpKW12exTp050X76jFWv5s3Y/GOs3EckVwVPkT+XlsqxIxwSCPX9K5nW/HGrSW15pbqgQK+9wSzEEnjJ/D8KvP4l0rUrFbrUrCeGfzMBlYDzgP4yB+v6VWl1ewlidLlLCGOXgTxoMrz8ucDcccetW562jqcUcPaKlPRPr5GdpV/LqLackkbiWFdsrdDsB4+pxx+Va9rdlojNAVkdlDOrttb6c9ccYx71Y0pfKvbjTrwIyvCGSZTnGfusp75BNbqaFAjxPErSMvJIx1z2xW2GrunzO2rLx9K3JFO6S0fqcjq1lqN7qck0kc7LEu1Aw3EnsM1YtNLEMEkMpIC/OwHUNj+Vei/Z2K8jqRnJrN1rRZ3JMaphxyw71x1YSaST1RVCrTjJuS0Z5tNJcanNG8kjSl12ktneRjG0e3GK5rU5R52AOQeQGyPpiu28U6a2mMska+Stzl44mIyq55/DdnFcraaTLq88jLGkEYQAuFOFI9AT1OOab0ep0q0ofu1q9/kauh6bDfavAkdi91CkyGWKJcsYwB+mSM1015oOsG9nMcGpKnmNtAc4Az/vVl6JA2itHcxT4lswvmOG++zHAAHpjPHtXWnXpsnd5Ybvlec1xYqrW5l7OKa8zKjhZa3R7ZNCSelUbvTkvLeWCUHa4xx2rfMYbrTPJWvUPMPmbxZbWml6zcWempI99NP5AGPndt3Xj1OAPqara3FCLSwguZknjtTIfLX7skpOCT7cGuj+Kmmzaf4lu7uLcjlluInXgg+o/EGvOprqS9tYpgTsIAb29s/ga55Tkk2t9j2cHGFSSjJaJXt3fmVL2e41G9S3hDSTyMEREGSSeAAK9CtvgytpaRDWNZitby4jOIlt2kEZ92BAyK43wXYzzeObdEb5oi0yk9flBIx712SandS3dzJqF9dCRHKrFJKQUUex9etdVOKgkonnYqtKtVcp9OnYyPEfh7XPCb6efMjvLeCMCOeFT8wXnBB9ATx6Zrs/CGq/2nL5QVirRmRcjkdOOfr178HrmuPt/Ees6lDdx3s8k1qCywl4x8pI2jnHoT+Vd98NtEkK3GokYj2+RFnvzlsfkBWUpe/oWpt0lFnRpYnBYg/nSzW7eW2eQBx7VstblEwetUbxAVAzj3pCg7HE6tpTXLwea0Aw4SIyHld3Uj2rKk0ZobdpJJ4o0VQ5Kgk5OeAPXIA/Gum1OMzXluqwM2JN4YDPRQdv6Vj3z/aGhs0Uu0uGfCkhVBz19cgAVm4JvU9GNdxj7vU5qzt2fUooXBAiAldGA/wBZnk/0H0pG3uxbHU56VPbEQXTMcZEfQnkc1TLSKSNp4471x8y9o7+R2pcqsfTyuCOtPqgs3vVpJQV5NeofMNWPHvjhJcBIPIIRVi/eSFc7VJP+Arzvw1YRN4fYXJjdLyBmEakZUCQgHHUeor174j+FdR8T6hZR2nli0XLTsz+nCrjvnJrCuPC1jBp6W1qskVzjIaPrIw7n2BqHpra510bd7dP+Cee2ssuimy+zW8UtwJHikmIG/B6KD24NbOoWmnalcJcX+mwy3jIMn7RsZgB/FhgD+NPvfDur208rC2Vz0JVgCSB1wat2mmRz2iIYZIpM43XTDcp74Vckgn1qKbbb6HbiMPS5VJtyv2scp4m1bVr5bext9Pmt4I33AxOrlscDAU9K+ifDMFovhfTfsX+o+zrt4wc45z75zXDad4NtfssVzKjPL975C6oP++gD+oq9oviyPRL3+zL5ohYSylYLlJAxR+6yDqPrWjutzgcIt/u7/M7aWLcaxtThEUDyM2AB61ryXigdiT6Vlarpcet2TQSXUlurfxR4z+oNJkp2PNtU1GRJWMcsgKElcMeDWCLi4y7B5cbfLABPIHX9Sa1fEPws1hLrfpGuxzIwwVnmKOD65HB/SuL13wh428O2wmkkluYcY3WcpkVPqAMj8qydKT6ndTx1KGjj+RbvXmgIfncxH4Adq1kmdkUgAggEGuAs7m7uUuo7yeaQxxggSOcq2f51mm81BThbycAcAeaf8a5q2EdR2vZo0WZU9+V2PsUXHvU8V5tI5rL3nHpjgioZZiikivQZ5a1NOS8JucqMgnnPAP8A9emNKIbA3scAglY4KTYAC5zjjPHfjvXN3WrMlo8RjjbzJUTEgyCGYA/zqDWtcUan5Xmb1iwGAPC+v41MpWVyvZSk0kN8W6rDcaoDDF5bLGA5PG49c1W0G6WSR0a4kdmOFtIoDKznHLYJCj0ya5rUNQNzdSTMeWOcenpRo2svo+r29+qbhG3K5xuBGCKyVSz1PWWFbo8q3R6CBfxylDYTpFnABEAYf8BA/rXG+MdGhbZMweOeF/NZZIdrBeuTzyPxNSX/AI1N7fPdDT4UdgASGIPAYZ+uGYfjWT4n8V/2hp0CywLHsjMDY+fcpHHXuK0qSg4PU5qGGxCqK8LXOs8M+IxqkDI7Lvj6AHPHf/PuK1r7UjHCzRNg9K8d8I3s9pqyKhBjbJOD04zxXd3V4ZI8qc5OailJzjqY42j7CpyrZmrDqTvMkZwR3PetuO9jVsAbcDtzXEQTlXB98Vt20+5mYnvWktDkijUvNF0rVgxvLG2m3DkmMbj+PWsI/CzwgxJ/s5RnnHmP/wDFVuQTZwQcVc3t/epcxXKXNTgMFyWAwGrNl5XiuvvrZLmIrxk1yl3A0BZWHStTOLsctqskcJ3SyCOMMrFznAIIPb6Vi3L2Mk0k73REjfMMEHdmt7WLNb21khkyFbuvWvIdU1PTNPvXsTdShoXKv+5zj8c1hNSvoj08LUopXqSszqbhYsM4ukwOu4gf1qIzSRacyxTpLBK24ojZAYdx6H6VyM9ylyPKRZGgkGRLt25/A1YtT5UKRoTtHQmueaaV3uerRrQqStB3j+psvNuIAOD6VnXTyXziKNQdp67sU7eqjJGT6gVWuboQoGCjg8cVk7vQ77xj7xsaZYvZT+YbyxErrjyzIQR+QrqJb7S44FH9oIzKBuAHevNhf6UlwlxczXonUDcIYEZV/EuM13uheG9N1nSYdSjvbt4Zt2N8aq3BIOcZ9K64QnFe6j5+vXw1aTdV7Pp2J7a+iu18yFiUV8cjFb9nIGhLDnJrNPh7+z42Wz3yRk7jnk5qaxdowEYECtnGXL7255spQ53ybHQ27YAq6G46mqNtzjmtHYKysO53Z54yKxtXsvNjJReQM/WtFJQ+OBmnyKHXBrc5zzS7R1VlPC9DXkms+ELWXxUZ7pjHZZDzFeS/XH0zjBr6B1DTYGmIdevrWbc+FbG92CUMNpyMH/OabTauhpq+p5Nc6Rp0q5077OAP+WagAisC5s2hnwkbKO+ea9u/4VxpBOQHBPUg1FJ8M7FvuSsPY81lyX3OqNeUHeLPEQXdMBcH1qawSCK7WW7y+zlUxkA+9ew/8Kvtc8vzSf8ACr7MN1UjrQqcU7oueLqyjytnj+tz2+o7HXTwXj6NH8m4ejAda6DwJr09oE0+SWP7LGjN5ZU7gSc5z6Z/nXplt8ONPibnB/CtCDwFpMEvmrColwRux2rRNnI0uhn20sN2gaPv6Cnvp8bsS8IJPVgOa6Oz0SCyPyDK+h7VfEELfwDP0ptk8py0Glsy7oCWC9QetTeTIONjflXSiJUHyKAPpTvwrNxNU+5//9k=\"></td>\n",
       "      <td>bobsled, bobsleigh, bob</td>\n",
       "      <td>n02860847</td>\n",
       "      <td>bobsled.n.02</td>\n",
       "      <td>1.0</td>\n",
       "      <td>np.ndarray(shape=(3,))</td>\n",
       "      <td><img src=\"data:image/jpeg;base64,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\"></td>\n",
       "      <td>n02860847_8951</td>\n",
       "      <td>train</td>\n",
       "    </tr>\n",
       "    <tr>\n",
       "      <th>3</th>\n",
       "      <td>n02860847_10578</td>\n",
       "      <td>/home/common/datasets/imagenet/ILSVRC/Data/CLS-LOC/train/n02860847/n02860847_10578.JPEG</td>\n",
       "      <td>train</td>\n",
       "      <td>577902</td>\n",
       "      <td><img src=\"data:image/jpeg;base64,/9j/4AAQSkZJRgABAQAAAQABAAD/2wBDAAgGBgcGBQgHBwcJCQgKDBQNDAsLDBkSEw8UHRofHh0aHBwgJC4nICIsIxwcKDcpLDAxNDQ0Hyc5PTgyPC4zNDL/2wBDAQkJCQwLDBgNDRgyIRwhMjIyMjIyMjIyMjIyMjIyMjIyMjIyMjIyMjIyMjIyMjIyMjIyMjIyMjIyMjIyMjIyMjL/wAARCABgAIADASIAAhEBAxEB/8QAHwAAAQUBAQEBAQEAAAAAAAAAAAECAwQFBgcICQoL/8QAtRAAAgEDAwIEAwUFBAQAAAF9AQIDAAQRBRIhMUEGE1FhByJxFDKBkaEII0KxwRVS0fAkM2JyggkKFhcYGRolJicoKSo0NTY3ODk6Q0RFRkdISUpTVFVWV1hZWmNkZWZnaGlqc3R1dnd4eXqDhIWGh4iJipKTlJWWl5iZmqKjpKWmp6ipqrKztLW2t7i5usLDxMXGx8jJytLT1NXW19jZ2uHi4+Tl5ufo6erx8vP09fb3+Pn6/8QAHwEAAwEBAQEBAQEBAQAAAAAAAAECAwQFBgcICQoL/8QAtREAAgECBAQDBAcFBAQAAQJ3AAECAxEEBSExBhJBUQdhcRMiMoEIFEKRobHBCSMzUvAVYnLRChYkNOEl8RcYGRomJygpKjU2Nzg5OkNERUZHSElKU1RVVldYWVpjZGVmZ2hpanN0dXZ3eHl6goOEhYaHiImKkpOUlZaXmJmaoqOkpaanqKmqsrO0tba3uLm6wsPExcbHyMnK0tPU1dbX2Nna4uPk5ebn6Onq8vP09fb3+Pn6/9oADAMBAAIRAxEAPwDx0XMKj75/75pfPtJDlnOf901JbaFdXNjJdxmPy0ByGJzwOe1ZyLkjOOtSxpGiDbEAgNj12mpvNiAGBLgf7B/wqXR7Nrq4SEuUV/l3D+HPesmaW6tbu4ge6mZYpGj3BzyQcUk03YbTSuX2nhVcsXH1So3ntjGHV2AJIBC96mniZ7dGc7j5CMTnOetZbZ2CPA2hy3T2A/pR1C2lzfsdcUMqzSyrIh3RTpkMhHQ5HQ+9dKfit4nbDRaytuoVVEIt1YDAAzkjPPX8a4qzhZosiLzOQPu5x1q1JFtX/j3HH/TOpStsXe++p1n/AAtbxV38QRDv/wAeic/+O05fin4nLgnxFED/ANe0eP8A0GvP7qPF0y8AA4+nNQ7eT3561Wr6ktpPY9KPxR8UMd3/AAkEAHp9mj/+JqSP4p+JlwTrdo5z/HbJ/hXmIHBp20ZGAR680WfcXNHseon4qeKC6surWBH937MmKnT4p+Jd4JutJbjvB1/WvJ8cYx+lGwdhR73cd4/ynrB+KniYsTu0oqOdvkH/AOKqQfFfxJyPsulMMdo3H/s1eU2kPnXKR4+8wX6c1qS6VDCfvSYI64FF5LqNKL6Fyw1q3sNKnspYJXeTfhlxgZGO5rlsbJFUj0roLe3he3aaYLjJHzGsYbZCx24Ck4HpSU7trsJxcUn3Oi0UKhDA9FLfkpNc7KiTtcn900s029HEi8An611Oj25Nn5pU4MTYOOOVxXNCwa3BkLIMcZBPenFWuxuzaibC2uEgiSY3LyRBFRF6Y9MdRjNYDwywXJhlieORTyrqQfyNdz4Y0m80h4/ELwxpEIiLeIyfM+Ry3+yMZ+uazfFGqTazq5vpkRpIYhEXiBxzkrnJPOM1FJ89XkX3jqWUbozdNQSTCNrkQqg3vjqR9e1WWkkaFXWV+R1DEViJaM4+RzmQjr2HWta3sGMayPdJsRh8hJy3P/661qUXBc0thU5Ob5Yq7M65ANw/PfvUWPat421jdQXDW8LCeMncjN3zV9NAsniBO8EjseM1j7RRWpfsZSd0cmFoCZweozXVt4ate0snr0NULXRY7pZRveII+3nByaaqxauS6Mk7GHjjFKOM4/GuiHhdTnF1gj2qtP4faGSJBOHaRtq7VPH1pqpFidKaKGmjbfRtjoc/kCa25HjXhoj8wzgOwz+tNtdCvLO481XikKggA5HUYrXglntgRLZxbRyWRuT781POr7l+zklqjkJbiZ7RoFgdUYcYBOc9cGq0VnOASYmAPbpXrl34D08v+5uru1XBIVH3D9eaxp/AFzAylNXfBJxvj59sDOTWnI1sZ83NuYmnSRw6bGkhCyiPYcjkVmPoF3qLolrPDcmMgyRqSh2kgE5PFdKPBd/K7RLeRvtODndkD1OBVHUfDOs+GLK41OLUbZEiGCyNyeRxg9aT57aA+U6Zop7zSpYIFNvdRDCIXDnHYjHXiuKktVudRtNHjZokmmDSkn52P8RJ9cU7w74gvLm9Y3EpLopYMoxnoOR+NdGltf6v4y0cQx24Lxu8k65AYKO/5gfjXPRpShPUctVc46/0290a4li8hzbbmWK5ZSu8BsZA/DpWMbiRLkb2ZljyAM4PX/GvoTUPB91qsDW7iIROcuGbKk+oxyD7iue1P4HTT2zvaatbrN1CPCQv/fQ5/Su+UnNWl0MleLvE8q028ljm81tzySSje2eoPUV6CIjGuV9ORisN/CGoaR4pGjLA1xOoUx/LsEuBklS3Uds98V2J0PWEjBfSro9jtw2PyNcmIpvSyOrCzWt2UVKtHuBHFUbCLfFIwwG8w4P41qTaVqVuhc6fdqMHO6I1Fp1psstzsiuW+ZXbYUJPRg2Mf/rrnUJWeh0uUbrUdEFdMsACDgj3qCWCKS5twyA4JP6Vcls50zJGiscfwMr5H4ZqtGEeaOQuAqoSWJwB04/UVPKym0SJZwvIE2gZqpNbKUcr8qqpOfer0UE9yoxG5U8javJ/+tSXiiOwmyf4CAvc0JMGzo769cIZAQNvAGcrn8OTVaGPU5V3PKHVjuIw3HHr1/Co7d8IqQEwPkDKht3p/kVGxMamKQyBCxxK0Yyx98DivTbPMsOkv4rH/XKCVG0JnI9hXA+N9WuNdvbTSIFKRKfNkLPwTjjr6DPHvXQvB5l0cCKKLvI+ck+vTP41Q1Dw4s7mRZImfrGYs5Pfn1qLsqxi+BobaPxHqVpPCj/uWSPeRkYYdM98enpXa6ZDfaZqIutPcSW5IWa2Y88HkqfX/PNcJeaVbW2su12k5M4CxclSH4+cHnPOevrXRm91Pw9cjULi2drWXH2lI1AQtwA8fOST/FwBmnZMcZuGnQ9c0LxDaaopEUuJV+9G/DL9RWxc2818Qn2tobcqQ6xqNzn3Y9B7D8682nRru1j1TQpVS7O0mRflZlx0IPfpkHtWrpnj6OOTyNRQbQ2xbqEfIxA5yvUUKpyu0jd4X2seajr3XVf5rt1Lq6Ld2+qxQ3LzXUduBNA5T92pGehJ+Vh+tdBDI0q8AKQen3s0ljc2WoRiVL2G6kJ3Z3AhfYL2/nVuSzBAczEMucE9OtU3KUuZu/3HM4qKUVGzXr+oIrEdFz07jFS+QHGGAPHIPNZb3iiYIJhsBJEq4dFx1BIPH41oRXKHAWdZGIGFAIOPWqJd1uRvo9jMCHsrZwTk7oVP9KgPhvSXlMx0yzMhwNxgXP8AKtMueGXA+oqdXyoJH50WQXZgSeGdKcMps0APZHZQPoAcCqF94Nsbu3aJbi/iDDGUumOB/wACzXVlEY52D60hQdQoB+lLlQczPH4byxhl8m2/ev0LEY49xVGUXFzk2jeQqsSreZ1z6+g9qsaZpNzEkDoZIXXnyw4y5Pc4Ga0ru1nXexhPmAYCgZJ/DIzU2KuZuptGkSCaNXDZwUXr7YrMWES25aNGRgflRIyOffnmtuOCe1V31G4itt/yRQlQzn1JbPH0GakXR7h4FVjbTID12MCfTGSRU2KvY5mWREMaTSSCQ5LR7R+eSOK2dHS3umjj1CANaHJ+ZjtyOmCec/TFaU2htPAZxFFCsJG6JEDGQ+5z+laluySQ+ZIjlQucBRgAe1NITZxfiPQdZ8O+IIdV8NmW4ivj+8iIHljAGFb9eeDVzTZ7DxTczSRRmxvRHsuLV/vbieWT+9kZB+ldSNQiu2S0gsnlhm4aKXJVh61heO9Pk0C507VILVWkYLDJcQoFYSZyC4A56ADHv60TjdGuGqOnVWtkzWsvD0LKkNnbsJNwyZXwy44O4dV9feotdsP7KmeGSZ5FZSy5UEY9OtN0f4kwp5cep2C+ejY8yMBfxrrdb0/S9biW4LZlePKPHg7h2HvWSjGUfdPUlWrUKy9t8L673+Zyfh68t7WURCBRFcMFkTPDZ9q7aLT7ZJgXnSaV/nWMpyF7c5/+sa8jluXg1EWcTkzCTZknbtbpznpiuz8Palb6/deSt1FLNYHygyORyP4sY5Ht0606Mvsk5pRgmqje/wB/kdrZ3MQQRzwfZ2QcBj8uPUGrSiKbdsUHnDKaoXdvG+mi3mU3Ea4yj9XA59qybfUxY6rwH+y3Ma+Um37jKOQfQ4AroPEOjxFCSqxhR1wKccSx/KMehpVmWVAejEZAIphfrtOQOtMR5ZJf3fh6SSFLiBVkX5WK5JP15+lSjVWjt457loWusbRJvxj0Hv8AjXNTao5kaa3it1jBwsb5d8e3YVo6PffabpnmjKAjglP5VF9TSxdOiQXEkd/flnyw2xhxhB3wO+frV+/dbaF3sIZ41LBWmJbamR0Gev4cVEt4o3Ir7Qx5Oc5PpVuHWntEW1vQJoZAcBE568Hk0WQalUNcSWYijmdlY7mdgW5pttNB56i8eJ4QBvbbg/QYPWta6a3hC7JlMD4w24AKazbuCJZhKh3MxxvByG+lDQI2baGxuWMen3ToY13YLlWA9/X6Vu6jo9rrmhyades5jkj2tIpwwPqD65rirS0vPtS3CzCJCuQpGDjNbUV/JcXSJFPIionIPR8dwKpCaPKNY+EXiewuZGsRFqNu7ZQxzBWPuVYj+ZqWL4f/ABEGlRM6TFEBWO2W8G9AfbOB09a9rsNbtpG8l2DOuMttwpJ9K2ROhX7ygHpzS5UK7PArLwV8SFtjazR7IHbDvLdJuA7/ADAk4+nNekeGfDcHhK1trWNWuZmUiR8klR7AnpyOldTeyolnM8jr5aqSST0H17VmQpbeSJreZoUZy7OpzuyPfPH0ppWFqyxq5YLEoTdnow7Gs86cbmVinn7ozuDs2AT6D179auG+tpLhPLuUkZOCAwJx61ZtYxFK8qKSHOcbuB+HamBYjY+Um5cuB8xHFRyXEMMm5nOO+DwKkGFYsDgt61UkgSQNlAGPdTimI//Z\"></td>\n",
       "      <td>bobsled, bobsleigh, bob</td>\n",
       "      <td>n02860847</td>\n",
       "      <td>bobsled.n.02</td>\n",
       "      <td>1.0</td>\n",
       "      <td>np.ndarray(shape=(3,))</td>\n",
       "      <td><img src=\"data:image/jpeg;base64,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\"></td>\n",
       "      <td>n02860847_10578</td>\n",
       "      <td>train</td>\n",
       "    </tr>\n",
       "    <tr>\n",
       "      <th>4</th>\n",
       "      <td>n02860847_6525</td>\n",
       "      <td>/home/common/datasets/imagenet/ILSVRC/Data/CLS-LOC/train/n02860847/n02860847_6525.JPEG</td>\n",
       "      <td>train</td>\n",
       "      <td>578989</td>\n",
       "      <td><img src=\"data:image/jpeg;base64,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\"></td>\n",
       "      <td>bobsled, bobsleigh, bob</td>\n",
       "      <td>n02860847</td>\n",
       "      <td>bobsled.n.02</td>\n",
       "      <td>1.0</td>\n",
       "      <td>np.ndarray(shape=(3,))</td>\n",
       "      <td><img src=\"data:image/jpeg;base64,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\"></td>\n",
       "      <td>n02860847_6525</td>\n",
       "      <td>train</td>\n",
       "    </tr>\n",
       "    <tr>\n",
       "      <th>...</th>\n",
       "      <td>...</td>\n",
       "      <td>...</td>\n",
       "      <td>...</td>\n",
       "      <td>...</td>\n",
       "      <td>...</td>\n",
       "      <td>...</td>\n",
       "      <td>...</td>\n",
       "      <td>...</td>\n",
       "      <td>...</td>\n",
       "      <td>...</td>\n",
       "      <td>...</td>\n",
       "      <td>...</td>\n",
       "      <td>...</td>\n",
       "    </tr>\n",
       "    <tr>\n",
       "      <th>780</th>\n",
       "      <td>n02860847_41456</td>\n",
       "      <td>/home/common/datasets/imagenet/ILSVRC/Data/CLS-LOC/train/n02860847/n02860847_41456.JPEG</td>\n",
       "      <td>train</td>\n",
       "      <td>578857</td>\n",
       "      <td><img src=\"data:image/jpeg;base64,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\"></td>\n",
       "      <td>bobsled, bobsleigh, bob</td>\n",
       "      <td>n02860847</td>\n",
       "      <td>bobsled.n.02</td>\n",
       "      <td>1.0</td>\n",
       "      <td>np.ndarray(shape=(3,))</td>\n",
       "      <td><img src=\"data:image/jpeg;base64,/9j/4AAQSkZJRgABAQAAAQABAAD/2wBDAAgGBgcGBQgHBwcJCQgKDBQNDAsLDBkSEw8UHRofHh0aHBwgJC4nICIsIxwcKDcpLDAxNDQ0Hyc5PTgyPC4zNDL/2wBDAQkJCQwLDBgNDRgyIRwhMjIyMjIyMjIyMjIyMjIyMjIyMjIyMjIyMjIyMjIyMjIyMjIyMjIyMjIyMjIyMjIyMjL/wAARCABVAIADASIAAhEBAxEB/8QAHwAAAQUBAQEBAQEAAAAAAAAAAAECAwQFBgcICQoL/8QAtRAAAgEDAwIEAwUFBAQAAAF9AQIDAAQRBRIhMUEGE1FhByJxFDKBkaEII0KxwRVS0fAkM2JyggkKFhcYGRolJicoKSo0NTY3ODk6Q0RFRkdISUpTVFVWV1hZWmNkZWZnaGlqc3R1dnd4eXqDhIWGh4iJipKTlJWWl5iZmqKjpKWmp6ipqrKztLW2t7i5usLDxMXGx8jJytLT1NXW19jZ2uHi4+Tl5ufo6erx8vP09fb3+Pn6/8QAHwEAAwEBAQEBAQEBAQAAAAAAAAECAwQFBgcICQoL/8QAtREAAgECBAQDBAcFBAQAAQJ3AAECAxEEBSExBhJBUQdhcRMiMoEIFEKRobHBCSMzUvAVYnLRChYkNOEl8RcYGRomJygpKjU2Nzg5OkNERUZHSElKU1RVVldYWVpjZGVmZ2hpanN0dXZ3eHl6goOEhYaHiImKkpOUlZaXmJmaoqOkpaanqKmqsrO0tba3uLm6wsPExcbHyMnK0tPU1dbX2Nna4uPk5ebn6Onq8vP09fb3+Pn6/9oADAMBAAIRAxEAPwDHsrFdoytXjaIAMDHNX4bcKuMVKYcleKyZSMxrQDkcUotCSMMwrV+z5HSnLB6CpsMyhbNkjd09qUQSe1aqW/zE4p/2bnOKLDMgxSL/AAgj2NL5bjJZCB61r/ZuelI9vleKVgMnBHVSPwpwIx/9atQ2/Sg24JUEd6LAZylT0IqVQKttbDAG0daGtUx93FOwivt4qQLUhs1B4BB9jS/ZipADNz15pisM2ijbTjC6kYcn6ikKTZ+8PyqrisPWMelSeXzT0X2qcR+1OwEIjHpTggqfaB2pyxgnApWHcgEQxTxHxVgRADmo7me2tFDTzKgPTNQ5Rjuyopydkrkez2oMWRTlurVrFr1Jke2VS5kU5GB1/lXPT+L4LgS21gjLdeUGBlAwrMuVGO55Un61EK1Ob5Yu7KlTnFXasdB5We1IYs4rzfTvG4EuZ9Xcv6SIduffnp+FLqfxVvNOuzB/ZVtIhUMkizNh1PccVs4tGdz0jyeelL5I9K8xPxY1T7MLgeHkEJIAk3ttJOcc49j+Rpp+L2oJjfoUQz6yMM/pSs+wXPUfJ4pDDyOK87034tG9u47abSkiLnAbzSRn8q6xfE7uF22anPpJ/wDWrGpXhTdp6FxhKWxrmHpxTTCM9KltJXuNxIUpgFWTOM91yepHqKsGOt42auiHoZ0aNliCAq8E+/pT3cqFCrkscCsOw1O4k0OQygia0kdZEj5zgnp6/X2rC/4Se+lv43RHSyP3o3iPmnHUAZ5/D8a8jFuvh6nsqTdkurv+Z3Yeiq6crG/Nrcn9qrbLKgjM6xZCk8d8njBz/k10CyRAnLivPtWuryS6Plz3TQwhLlkWNVES5yM92PWurSXeAyklWAYfQ152IrVZRi3J/eddWjCMYuKSNOC4jEtwM9JBj/vlaS5S1uiomijcDoT1HIPB6jkCs2NmE8w9dp/TH9Kl3txXG273Mldapk+qIt5o95ZxhU82FlAXjnFeLalqkul619sjZ0W8iWRWjPKsBsdfwKn9K9jDtnrXB+J/CqTmceW/2aRzNFLFHva3kP3gVHJRsA8dCK9DLq8acnGezFOMpQ93df0zjbO+0iJ3/tG2kZGUsWWIGVznpuJwO/I5rL1PU01PUvtDxssSgJHHxhIx91ffjvXQr4UEWmSRQ6jYSXEh5LsyYGfdc9qz/wDhC9UbpPZt/uyE/wAhX0Ea9J9f6+44JUqn8v4GhZaxcQeBtkP2cJHcgMDksB1H6k/nWYYnk0hruUbEa4AhU9+Pmxnt0rSsvAuoMyi6mBhBBMcSyfN+OzAq9deCdc1KYPLcRoijbHEkThY19ACBR9Zw6u3IXsqnY52zuYoZVaWFHAYHJHI9wexr17wxpv8AbFvHdIxFoRy3c+31rhYvhlfsR5l/tHtED/7NXovha1ufDemfYjJ9pQHKblCbepPTOev6VzVq2FqNOUti4wqxTsjrkhSGJY40CoowAKNm7NZ6anLI4UIq59AWP4CtK1E3kL9oULL3x+n6V10asKq9zZGM4uO5x0UVvb6jc3UUjbbkDzIgnBYfxZ9ajNtbvKkrQo0kZyjsuSv41NNHDAjO0yKqjJLHGKxh4o0JZPLOpRK/ocj+lfPV8RXxbu1t2R304xpbPc0LvTbS+dXuId7AYzkjI9DjqPrVuJSiKhJbAxmsl/EWmYTybuKUs2DhwNox1Of880DX4cuFVGIOFPm8N79K5/Y1WrNM1dRNWuay5F2w9YwfyJ/xqU1mxapA7iWQ7MArgZbjIwf51MNUt+CA7AH+7S+r1L7C5l3L4rB1bV5xM1tpsiebHnzmMbHZj3xitOTWY3DBYJOXLDOOB6D2qsdTfdlLXnsS3/1q3WGlCei5l935jp1orWSImvdSfSGuI4sysVWLEZLkZ5ZgQKW6n1WaZxAJII9q+Sx2AE9y+eR9AKgudXuSCPKhAHPPP9a5u48XzsStvHK5B48uAD9TW1PCVJPSKG8VCOtjrHs9RmS6P2yQM7AQ4kwqrxk4H44FCabcLOPNvXKJJuTEjbiv90jOPqea4G41rxDdqyx292QRj5t39MUln/wktssaxWTy7AMPICGz9Sa6FgKvLul8jL670S/A7DUNFvLu8aV9QRYwCqR+WRsU9shs/jTLHw3cvcLHFqcw9QrSY/V6ht9Q8U3aRL/ZFskoPzyGThh9M8V3Ghafdw5lvpIWZuFSKMqF/Ek5qadDGK0W1Zen+RlKdLexpaPo0WlRYEss0rfeklct+WScCtXaMUxQc5FSnFe5FJKyOJu54HeeHNW1hs3uqTOvUIF2qPwFLD8OlaIo07EE5zsGfzr1GLT0H8Iq0LVVGAB6VEYcqstBt33PMYvhpZgDdLOT9QP6Vp2HgC0tJxLG8+4DHL16ClqPSp0gUcYqnG4J2OWh8PpGoB3N9TVpNGTAAWuiMIJHFSLEBxisvYxK52YcejxgYKiphpMQH3BWwI/Y07yyafsohzsxzpUAH+qX8RSLpUPURqPwrZ8nNJ5PNXyi5jK/s6Mn7g/KgaZF/dFbIipwi74p2FczIrBEOQo/KtCOIKo46VKI6eq4GMUJCuIE9BTsDuKUDFGKoRjqgNSKozRRTAlCACnoooopAP2inBBRRQAuB1wKfjPtRRQMMZpQooooAeFo2iiigBdoxTgtFFAhcUhFFFAH/9k=\"></td>\n",
       "      <td>n02860847_41456</td>\n",
       "      <td>train</td>\n",
       "    </tr>\n",
       "    <tr>\n",
       "      <th>781</th>\n",
       "      <td>n02860847_12452</td>\n",
       "      <td>/home/common/datasets/imagenet/ILSVRC/Data/CLS-LOC/train/n02860847/n02860847_12452.JPEG</td>\n",
       "      <td>train</td>\n",
       "      <td>577999</td>\n",
       "      <td><img src=\"data:image/jpeg;base64,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\"></td>\n",
       "      <td>bobsled, bobsleigh, bob</td>\n",
       "      <td>n02860847</td>\n",
       "      <td>bobsled.n.02</td>\n",
       "      <td>1.0</td>\n",
       "      <td>np.ndarray(shape=(3,))</td>\n",
       "      <td><img src=\"data:image/jpeg;base64,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\"></td>\n",
       "      <td>n02860847_12452</td>\n",
       "      <td>train</td>\n",
       "    </tr>\n",
       "    <tr>\n",
       "      <th>782</th>\n",
       "      <td>n02860847_13798</td>\n",
       "      <td>/home/common/datasets/imagenet/ILSVRC/Data/CLS-LOC/train/n02860847/n02860847_13798.JPEG</td>\n",
       "      <td>train</td>\n",
       "      <td>578063</td>\n",
       "      <td><img src=\"data:image/jpeg;base64,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\"></td>\n",
       "      <td>bobsled, bobsleigh, bob</td>\n",
       "      <td>n02860847</td>\n",
       "      <td>bobsled.n.02</td>\n",
       "      <td>1.0</td>\n",
       "      <td>np.ndarray(shape=(3,))</td>\n",
       "      <td><img src=\"data:image/jpeg;base64,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\"></td>\n",
       "      <td>n02860847_13798</td>\n",
       "      <td>train</td>\n",
       "    </tr>\n",
       "    <tr>\n",
       "      <th>783</th>\n",
       "      <td>n02860847_8123</td>\n",
       "      <td>/home/common/datasets/imagenet/ILSVRC/Data/CLS-LOC/train/n02860847/n02860847_8123.JPEG</td>\n",
       "      <td>train</td>\n",
       "      <td>579075</td>\n",
       "      <td><img src=\"data:image/jpeg;base64,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\"></td>\n",
       "      <td>bobsled, bobsleigh, bob</td>\n",
       "      <td>n02860847</td>\n",
       "      <td>bobsled.n.02</td>\n",
       "      <td>1.0</td>\n",
       "      <td>np.ndarray(shape=(3,))</td>\n",
       "      <td><img src=\"data:image/jpeg;base64,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\"></td>\n",
       "      <td>n02860847_8123</td>\n",
       "      <td>train</td>\n",
       "    </tr>\n",
       "    <tr>\n",
       "      <th>784</th>\n",
       "      <td>n02860847_21668</td>\n",
       "      <td>/home/common/datasets/imagenet/ILSVRC/Data/CLS-LOC/train/n02860847/n02860847_21668.JPEG</td>\n",
       "      <td>train</td>\n",
       "      <td>578355</td>\n",
       "      <td><img src=\"data:image/jpeg;base64,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\"></td>\n",
       "      <td>bobsled, bobsleigh, bob</td>\n",
       "      <td>n02860847</td>\n",
       "      <td>bobsled.n.02</td>\n",
       "      <td>1.0</td>\n",
       "      <td>np.ndarray(shape=(3,))</td>\n",
       "      <td><img src=\"data:image/jpeg;base64,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\"></td>\n",
       "      <td>n02860847_21668</td>\n",
       "      <td>train</td>\n",
       "    </tr>\n",
       "  </tbody>\n",
       "</table>"
      ],
      "text/plain": [
       "DataPanel(nrows: 785, ncols: 13)"
      ]
     },
     "metadata": {},
     "execution_count": 71
    }
   ],
   "metadata": {}
  },
  {
   "cell_type": "code",
   "execution_count": 135,
   "source": [
    "x = np.linspace(0.01,0.99,1000)\n",
    "sns.lineplot(y=np.sin(np.pi / 2  *  (x - 0.8)) , x=x)"
   ],
   "outputs": [
    {
     "output_type": "execute_result",
     "data": {
      "text/plain": [
       "<AxesSubplot:>"
      ]
     },
     "metadata": {},
     "execution_count": 135
    },
    {
     "output_type": "display_data",
     "data": {
      "image/png": "[encoded data removed]",
      "text/plain": [
       "<Figure size 432x288 with 1 Axes>"
      ]
     },
     "metadata": {
      "needs_background": "light"
     }
    }
   ],
   "metadata": {}
  },
  {
   "cell_type": "code",
   "execution_count": 206,
   "source": [
    "a, b, c, d = 0.4, 0.1, 0.2, 0.3\n",
    "np.sin(np.pi * a) * np.sin(np.pi * d) /  (np.sin(np.pi * (a + b)) * np.sin(np.pi * (b + d)))\n",
    "(np.sin(np.pi * (a + b)) * np.sin(np.pi * (b + d)))"
   ],
   "outputs": [
    {
     "output_type": "execute_result",
     "data": {
      "text/plain": [
       "0.9510565162951535"
      ]
     },
     "metadata": {},
     "execution_count": 206
    }
   ],
   "metadata": {}
  },
  {
   "cell_type": "code",
   "execution_count": 194,
   "source": [
    "from sklearn.metrics import roc_auc_score\n",
    "n = 1000000\n",
    "y_hat = np.concatenate([np.random.beta(a, b, n), np.random.beta(c, d, n )])\n",
    "y = np.concatenate([np.ones(n), np.zeros(n)])\n",
    "\n",
    "roc_auc_score(y, y_hat)"
   ],
   "outputs": [
    {
     "output_type": "execute_result",
     "data": {
      "text/plain": [
       "0.80943104396"
      ]
     },
     "metadata": {},
     "execution_count": 194
    }
   ],
   "metadata": {}
  },
  {
   "cell_type": "code",
   "execution_count": 205,
   "source": [
    "np.arcsin(1)"
   ],
   "outputs": [
    {
     "output_type": "stream",
     "name": "stderr",
     "text": [
      "/tmp/ipykernel_132920/2157417419.py:1: RuntimeWarning: invalid value encountered in arcsin\n",
      "  np.arcsin(1.1)\n"
     ]
    },
    {
     "output_type": "execute_result",
     "data": {
      "text/plain": [
       "nan"
      ]
     },
     "metadata": {},
     "execution_count": 205
    }
   ],
   "metadata": {}
  },
  {
   "cell_type": "code",
   "execution_count": 207,
   "source": [
    "b_0 = 0.3\n",
    "a_0 = 0.5 - b_0 \n",
    "\n",
    "a_1 =  np.arcsin(0.89 * np.sin(np.pi * (b_0 + b_1)) / np.sin(np.pi * b_0)) / np.pi\n",
    "b_1 = 0.5 - a_1\n",
    "\n",
    "n = 1000000\n",
    "y_hat = np.concatenate([np.random.beta(a_1, b_1, n), np.random.beta(a_0, b_0, n )])\n",
    "y = np.concatenate([np.ones(n), np.zeros(n)])\n",
    "\n",
    "roc_auc_score(y, y_hat)"
   ],
   "outputs": [
    {
     "output_type": "error",
     "ename": "ValueError",
     "evalue": "Input contains NaN, infinity or a value too large for dtype('float64').",
     "traceback": [
      "\u001b[0;31m---------------------------------------------------------------------------\u001b[0m",
      "\u001b[0;31mValueError\u001b[0m                                Traceback (most recent call last)",
      "\u001b[0;32m/tmp/ipykernel_132920/997805422.py\u001b[0m in \u001b[0;36m<module>\u001b[0;34m\u001b[0m\n\u001b[1;32m      9\u001b[0m \u001b[0my\u001b[0m \u001b[0;34m=\u001b[0m \u001b[0mnp\u001b[0m\u001b[0;34m.\u001b[0m\u001b[0mconcatenate\u001b[0m\u001b[0;34m(\u001b[0m\u001b[0;34m[\u001b[0m\u001b[0mnp\u001b[0m\u001b[0;34m.\u001b[0m\u001b[0mones\u001b[0m\u001b[0;34m(\u001b[0m\u001b[0mn\u001b[0m\u001b[0;34m)\u001b[0m\u001b[0;34m,\u001b[0m \u001b[0mnp\u001b[0m\u001b[0;34m.\u001b[0m\u001b[0mzeros\u001b[0m\u001b[0;34m(\u001b[0m\u001b[0mn\u001b[0m\u001b[0;34m)\u001b[0m\u001b[0;34m]\u001b[0m\u001b[0;34m)\u001b[0m\u001b[0;34m\u001b[0m\u001b[0;34m\u001b[0m\u001b[0m\n\u001b[1;32m     10\u001b[0m \u001b[0;34m\u001b[0m\u001b[0m\n\u001b[0;32m---> 11\u001b[0;31m \u001b[0mroc_auc_score\u001b[0m\u001b[0;34m(\u001b[0m\u001b[0my\u001b[0m\u001b[0;34m,\u001b[0m \u001b[0my_hat\u001b[0m\u001b[0;34m)\u001b[0m\u001b[0;34m\u001b[0m\u001b[0;34m\u001b[0m\u001b[0m\n\u001b[0m",
      "\u001b[0;32m/home/common/envs/conda/envs/domino/lib/python3.8/site-packages/sklearn/utils/validation.py\u001b[0m in \u001b[0;36minner_f\u001b[0;34m(*args, **kwargs)\u001b[0m\n\u001b[1;32m     61\u001b[0m             \u001b[0mextra_args\u001b[0m \u001b[0;34m=\u001b[0m \u001b[0mlen\u001b[0m\u001b[0;34m(\u001b[0m\u001b[0margs\u001b[0m\u001b[0;34m)\u001b[0m \u001b[0;34m-\u001b[0m \u001b[0mlen\u001b[0m\u001b[0;34m(\u001b[0m\u001b[0mall_args\u001b[0m\u001b[0;34m)\u001b[0m\u001b[0;34m\u001b[0m\u001b[0;34m\u001b[0m\u001b[0m\n\u001b[1;32m     62\u001b[0m             \u001b[0;32mif\u001b[0m \u001b[0mextra_args\u001b[0m \u001b[0;34m<=\u001b[0m \u001b[0;36m0\u001b[0m\u001b[0;34m:\u001b[0m\u001b[0;34m\u001b[0m\u001b[0;34m\u001b[0m\u001b[0m\n\u001b[0;32m---> 63\u001b[0;31m                 \u001b[0;32mreturn\u001b[0m \u001b[0mf\u001b[0m\u001b[0;34m(\u001b[0m\u001b[0;34m*\u001b[0m\u001b[0margs\u001b[0m\u001b[0;34m,\u001b[0m \u001b[0;34m**\u001b[0m\u001b[0mkwargs\u001b[0m\u001b[0;34m)\u001b[0m\u001b[0;34m\u001b[0m\u001b[0;34m\u001b[0m\u001b[0m\n\u001b[0m\u001b[1;32m     64\u001b[0m \u001b[0;34m\u001b[0m\u001b[0m\n\u001b[1;32m     65\u001b[0m             \u001b[0;31m# extra_args > 0\u001b[0m\u001b[0;34m\u001b[0m\u001b[0;34m\u001b[0m\u001b[0;34m\u001b[0m\u001b[0m\n",
      "\u001b[0;32m/home/common/envs/conda/envs/domino/lib/python3.8/site-packages/sklearn/metrics/_ranking.py\u001b[0m in \u001b[0;36mroc_auc_score\u001b[0;34m(y_true, y_score, average, sample_weight, max_fpr, multi_class, labels)\u001b[0m\n\u001b[1;32m    522\u001b[0m     \u001b[0my_type\u001b[0m \u001b[0;34m=\u001b[0m \u001b[0mtype_of_target\u001b[0m\u001b[0;34m(\u001b[0m\u001b[0my_true\u001b[0m\u001b[0;34m)\u001b[0m\u001b[0;34m\u001b[0m\u001b[0;34m\u001b[0m\u001b[0m\n\u001b[1;32m    523\u001b[0m     \u001b[0my_true\u001b[0m \u001b[0;34m=\u001b[0m \u001b[0mcheck_array\u001b[0m\u001b[0;34m(\u001b[0m\u001b[0my_true\u001b[0m\u001b[0;34m,\u001b[0m \u001b[0mensure_2d\u001b[0m\u001b[0;34m=\u001b[0m\u001b[0;32mFalse\u001b[0m\u001b[0;34m,\u001b[0m \u001b[0mdtype\u001b[0m\u001b[0;34m=\u001b[0m\u001b[0;32mNone\u001b[0m\u001b[0;34m)\u001b[0m\u001b[0;34m\u001b[0m\u001b[0;34m\u001b[0m\u001b[0m\n\u001b[0;32m--> 524\u001b[0;31m     \u001b[0my_score\u001b[0m \u001b[0;34m=\u001b[0m \u001b[0mcheck_array\u001b[0m\u001b[0;34m(\u001b[0m\u001b[0my_score\u001b[0m\u001b[0;34m,\u001b[0m \u001b[0mensure_2d\u001b[0m\u001b[0;34m=\u001b[0m\u001b[0;32mFalse\u001b[0m\u001b[0;34m)\u001b[0m\u001b[0;34m\u001b[0m\u001b[0;34m\u001b[0m\u001b[0m\n\u001b[0m\u001b[1;32m    525\u001b[0m \u001b[0;34m\u001b[0m\u001b[0m\n\u001b[1;32m    526\u001b[0m     if y_type == \"multiclass\" or (y_type == \"binary\" and\n",
      "\u001b[0;32m/home/common/envs/conda/envs/domino/lib/python3.8/site-packages/sklearn/utils/validation.py\u001b[0m in \u001b[0;36minner_f\u001b[0;34m(*args, **kwargs)\u001b[0m\n\u001b[1;32m     61\u001b[0m             \u001b[0mextra_args\u001b[0m \u001b[0;34m=\u001b[0m \u001b[0mlen\u001b[0m\u001b[0;34m(\u001b[0m\u001b[0margs\u001b[0m\u001b[0;34m)\u001b[0m \u001b[0;34m-\u001b[0m \u001b[0mlen\u001b[0m\u001b[0;34m(\u001b[0m\u001b[0mall_args\u001b[0m\u001b[0;34m)\u001b[0m\u001b[0;34m\u001b[0m\u001b[0;34m\u001b[0m\u001b[0m\n\u001b[1;32m     62\u001b[0m             \u001b[0;32mif\u001b[0m \u001b[0mextra_args\u001b[0m \u001b[0;34m<=\u001b[0m \u001b[0;36m0\u001b[0m\u001b[0;34m:\u001b[0m\u001b[0;34m\u001b[0m\u001b[0;34m\u001b[0m\u001b[0m\n\u001b[0;32m---> 63\u001b[0;31m                 \u001b[0;32mreturn\u001b[0m \u001b[0mf\u001b[0m\u001b[0;34m(\u001b[0m\u001b[0;34m*\u001b[0m\u001b[0margs\u001b[0m\u001b[0;34m,\u001b[0m \u001b[0;34m**\u001b[0m\u001b[0mkwargs\u001b[0m\u001b[0;34m)\u001b[0m\u001b[0;34m\u001b[0m\u001b[0;34m\u001b[0m\u001b[0m\n\u001b[0m\u001b[1;32m     64\u001b[0m \u001b[0;34m\u001b[0m\u001b[0m\n\u001b[1;32m     65\u001b[0m             \u001b[0;31m# extra_args > 0\u001b[0m\u001b[0;34m\u001b[0m\u001b[0;34m\u001b[0m\u001b[0;34m\u001b[0m\u001b[0m\n",
      "\u001b[0;32m/home/common/envs/conda/envs/domino/lib/python3.8/site-packages/sklearn/utils/validation.py\u001b[0m in \u001b[0;36mcheck_array\u001b[0;34m(array, accept_sparse, accept_large_sparse, dtype, order, copy, force_all_finite, ensure_2d, allow_nd, ensure_min_samples, ensure_min_features, estimator)\u001b[0m\n\u001b[1;32m    718\u001b[0m \u001b[0;34m\u001b[0m\u001b[0m\n\u001b[1;32m    719\u001b[0m         \u001b[0;32mif\u001b[0m \u001b[0mforce_all_finite\u001b[0m\u001b[0;34m:\u001b[0m\u001b[0;34m\u001b[0m\u001b[0;34m\u001b[0m\u001b[0m\n\u001b[0;32m--> 720\u001b[0;31m             _assert_all_finite(array,\n\u001b[0m\u001b[1;32m    721\u001b[0m                                allow_nan=force_all_finite == 'allow-nan')\n\u001b[1;32m    722\u001b[0m \u001b[0;34m\u001b[0m\u001b[0m\n",
      "\u001b[0;32m/home/common/envs/conda/envs/domino/lib/python3.8/site-packages/sklearn/utils/validation.py\u001b[0m in \u001b[0;36m_assert_all_finite\u001b[0;34m(X, allow_nan, msg_dtype)\u001b[0m\n\u001b[1;32m    101\u001b[0m                 not allow_nan and not np.isfinite(X).all()):\n\u001b[1;32m    102\u001b[0m             \u001b[0mtype_err\u001b[0m \u001b[0;34m=\u001b[0m \u001b[0;34m'infinity'\u001b[0m \u001b[0;32mif\u001b[0m \u001b[0mallow_nan\u001b[0m \u001b[0;32melse\u001b[0m \u001b[0;34m'NaN, infinity'\u001b[0m\u001b[0;34m\u001b[0m\u001b[0;34m\u001b[0m\u001b[0m\n\u001b[0;32m--> 103\u001b[0;31m             raise ValueError(\n\u001b[0m\u001b[1;32m    104\u001b[0m                     \u001b[0mmsg_err\u001b[0m\u001b[0;34m.\u001b[0m\u001b[0mformat\u001b[0m\u001b[0;34m\u001b[0m\u001b[0;34m\u001b[0m\u001b[0m\n\u001b[1;32m    105\u001b[0m                     (type_err,\n",
      "\u001b[0;31mValueError\u001b[0m: Input contains NaN, infinity or a value too large for dtype('float64')."
     ]
    }
   ],
   "metadata": {}
  },
  {
   "cell_type": "code",
   "execution_count": 197,
   "source": [
    "a_1"
   ],
   "outputs": [
    {
     "output_type": "execute_result",
     "data": {
      "text/plain": [
       "0.4524312869031762"
      ]
     },
     "metadata": {},
     "execution_count": 197
    }
   ],
   "metadata": {}
  },
  {
   "cell_type": "code",
   "execution_count": 183,
   "source": [
    "x = 0.99\n",
    "1 / (1 - x)"
   ],
   "outputs": [
    {
     "output_type": "execute_result",
     "data": {
      "text/plain": [
       "99.99999999999991"
      ]
     },
     "metadata": {},
     "execution_count": 183
    }
   ],
   "metadata": {}
  },
  {
   "cell_type": "code",
   "execution_count": 83,
   "source": [
    "from domino.train import train_model\n",
    "train_model.get(6222, \"best_chkpt\")[\"valid\"].load()"
   ],
   "outputs": [
    {
     "output_type": "execute_result",
     "data": {
      "text/html": [
       "<table border=\"1\" class=\"dataframe\">\n",
       "  <thead>\n",
       "    <tr style=\"text-align: right;\">\n",
       "      <th></th>\n",
       "      <th>preds (TensorColumn)</th>\n",
       "      <th>targets (TensorColumn)</th>\n",
       "      <th>ids (PandasSeriesColumn)</th>\n",
       "      <th>index (PandasSeriesColumn)</th>\n",
       "    </tr>\n",
       "  </thead>\n",
       "  <tbody>\n",
       "    <tr>\n",
       "      <th>0</th>\n",
       "      <td>torch.Tensor(shape=torch.Size([2]))</td>\n",
       "      <td>tensor(1)</td>\n",
       "      <td>n04204347_3177</td>\n",
       "      <td>0</td>\n",
       "    </tr>\n",
       "    <tr>\n",
       "      <th>1</th>\n",
       "      <td>torch.Tensor(shape=torch.Size([2]))</td>\n",
       "      <td>tensor(0)</td>\n",
       "      <td>n07590611_4170</td>\n",
       "      <td>1</td>\n",
       "    </tr>\n",
       "    <tr>\n",
       "      <th>2</th>\n",
       "      <td>torch.Tensor(shape=torch.Size([2]))</td>\n",
       "      <td>tensor(0)</td>\n",
       "      <td>n02492035_8265</td>\n",
       "      <td>2</td>\n",
       "    </tr>\n",
       "    <tr>\n",
       "      <th>3</th>\n",
       "      <td>torch.Tensor(shape=torch.Size([2]))</td>\n",
       "      <td>tensor(1)</td>\n",
       "      <td>n03930630_10160</td>\n",
       "      <td>3</td>\n",
       "    </tr>\n",
       "    <tr>\n",
       "      <th>4</th>\n",
       "      <td>torch.Tensor(shape=torch.Size([2]))</td>\n",
       "      <td>tensor(0)</td>\n",
       "      <td>n02101006_1003</td>\n",
       "      <td>4</td>\n",
       "    </tr>\n",
       "    <tr>\n",
       "      <th>...</th>\n",
       "      <td>...</td>\n",
       "      <td>...</td>\n",
       "      <td>...</td>\n",
       "      <td>...</td>\n",
       "    </tr>\n",
       "    <tr>\n",
       "      <th>10152</th>\n",
       "      <td>torch.Tensor(shape=torch.Size([2]))</td>\n",
       "      <td>tensor(1)</td>\n",
       "      <td>n03776460_5917</td>\n",
       "      <td>10152</td>\n",
       "    </tr>\n",
       "    <tr>\n",
       "      <th>10153</th>\n",
       "      <td>torch.Tensor(shape=torch.Size([2]))</td>\n",
       "      <td>tensor(1)</td>\n",
       "      <td>n02835271_5868</td>\n",
       "      <td>10153</td>\n",
       "    </tr>\n",
       "    <tr>\n",
       "      <th>10154</th>\n",
       "      <td>torch.Tensor(shape=torch.Size([2]))</td>\n",
       "      <td>tensor(0)</td>\n",
       "      <td>n02841315_3026</td>\n",
       "      <td>10154</td>\n",
       "    </tr>\n",
       "    <tr>\n",
       "      <th>10155</th>\n",
       "      <td>torch.Tensor(shape=torch.Size([2]))</td>\n",
       "      <td>tensor(1)</td>\n",
       "      <td>n04552348_22386</td>\n",
       "      <td>10155</td>\n",
       "    </tr>\n",
       "    <tr>\n",
       "      <th>10156</th>\n",
       "      <td>torch.Tensor(shape=torch.Size([2]))</td>\n",
       "      <td>tensor(0)</td>\n",
       "      <td>n02769748_19957</td>\n",
       "      <td>10156</td>\n",
       "    </tr>\n",
       "  </tbody>\n",
       "</table>"
      ],
      "text/plain": [
       "DataPanel(nrows: 10157, ncols: 4)"
      ]
     },
     "metadata": {},
     "execution_count": 83
    }
   ],
   "metadata": {}
  },
  {
   "cell_type": "code",
   "execution_count": 84,
   "source": [
    "(train_model.inp(6222)[\"dp\"].load()[\"split\"] == \"valid\").sum()"
   ],
   "outputs": [
    {
     "output_type": "execute_result",
     "data": {
      "text/plain": [
       "10157"
      ]
     },
     "metadata": {},
     "execution_count": 84
    }
   ],
   "metadata": {}
  },
  {
   "cell_type": "code",
   "execution_count": 85,
   "source": [
    "import terra\n",
    "terra.out(4681).load()"
   ],
   "outputs": [
    {
     "output_type": "execute_result",
     "data": {
      "text/html": [
       "<table border=\"1\" class=\"dataframe\">\n",
       "  <thead>\n",
       "    <tr style=\"text-align: right;\">\n",
       "      <th></th>\n",
       "      <th>image_id (NumpyArrayColumn)</th>\n",
       "      <th>split (PandasSeriesColumn)</th>\n",
       "    </tr>\n",
       "  </thead>\n",
       "  <tbody>\n",
       "    <tr>\n",
       "      <th>0</th>\n",
       "      <td>2386621.0</td>\n",
       "      <td>test</td>\n",
       "    </tr>\n",
       "    <tr>\n",
       "      <th>1</th>\n",
       "      <td>2373554.0</td>\n",
       "      <td>train</td>\n",
       "    </tr>\n",
       "    <tr>\n",
       "      <th>2</th>\n",
       "      <td>2370799.0</td>\n",
       "      <td>train</td>\n",
       "    </tr>\n",
       "    <tr>\n",
       "      <th>3</th>\n",
       "      <td>2370791.0</td>\n",
       "      <td>train</td>\n",
       "    </tr>\n",
       "    <tr>\n",
       "      <th>4</th>\n",
       "      <td>2370790.0</td>\n",
       "      <td>train</td>\n",
       "    </tr>\n",
       "    <tr>\n",
       "      <th>...</th>\n",
       "      <td>...</td>\n",
       "      <td>...</td>\n",
       "    </tr>\n",
       "    <tr>\n",
       "      <th>85633</th>\n",
       "      <td>2374606.0</td>\n",
       "      <td>valid</td>\n",
       "    </tr>\n",
       "    <tr>\n",
       "      <th>85634</th>\n",
       "      <td>2360947.0</td>\n",
       "      <td>train</td>\n",
       "    </tr>\n",
       "    <tr>\n",
       "      <th>85635</th>\n",
       "      <td>2360946.0</td>\n",
       "      <td>train</td>\n",
       "    </tr>\n",
       "    <tr>\n",
       "      <th>85636</th>\n",
       "      <td>2379678.0</td>\n",
       "      <td>valid</td>\n",
       "    </tr>\n",
       "    <tr>\n",
       "      <th>85637</th>\n",
       "      <td>2379672.0</td>\n",
       "      <td>train</td>\n",
       "    </tr>\n",
       "  </tbody>\n",
       "</table>"
      ],
      "text/plain": [
       "DataPanel(nrows: 85638, ncols: 2)"
      ]
     },
     "metadata": {},
     "execution_count": 85
    }
   ],
   "metadata": {}
  },
  {
   "cell_type": "code",
   "execution_count": null,
   "source": [],
   "outputs": [],
   "metadata": {}
  }
 ],
 "metadata": {
  "orig_nbformat": 4,
  "language_info": {
   "name": "python",
   "version": "3.8.10",
   "mimetype": "text/x-python",
   "codemirror_mode": {
    "name": "ipython",
    "version": 3
   },
   "pygments_lexer": "ipython3",
   "nbconvert_exporter": "python",
   "file_extension": ".py"
  },
  "kernelspec": {
   "name": "python3",
   "display_name": "Python 3.8.10 64-bit ('domino': conda)"
  },
  "interpreter": {
   "hash": "0d937a63d09daec3f9548a5c769ccb20edb9c2c1ae2375686b21850f577713d2"
  }
 },
 "nbformat": 4,
 "nbformat_minor": 2
}