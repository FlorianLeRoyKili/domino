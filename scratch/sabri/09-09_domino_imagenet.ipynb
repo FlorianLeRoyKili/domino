{
 "cells": [
  {
   "cell_type": "code",
   "execution_count": 1,
   "source": [
    "%load_ext autoreload\n",
    "%autoreload 2\n",
    "import meerkat as mk\n",
    "import pandas as pd"
   ],
   "outputs": [],
   "metadata": {}
  },
  {
   "cell_type": "markdown",
   "source": [
    "# `domino.data.imagenet.get_imagenet_dp()`\n",
    "\n"
   ],
   "metadata": {}
  },
  {
   "cell_type": "code",
   "execution_count": 7,
   "source": [
    "from domino.data.imagenet import get_imagenet_dp\n",
    "\n",
    "#data_dp = get_imagenet_dp()\n",
    "data_dp = get_imagenet_dp.out(6121).load()"
   ],
   "outputs": [],
   "metadata": {}
  },
  {
   "cell_type": "code",
   "execution_count": 8,
   "source": [
    "data_dp.head()"
   ],
   "outputs": [
    {
     "output_type": "execute_result",
     "data": {
      "text/html": [
       "<table border=\"1\" class=\"dataframe\">\n",
       "  <thead>\n",
       "    <tr style=\"text-align: right;\">\n",
       "      <th></th>\n",
       "      <th>synset (PandasSeriesColumn)</th>\n",
       "      <th>image_id (PandasSeriesColumn)</th>\n",
       "      <th>path (PandasSeriesColumn)</th>\n",
       "      <th>split (PandasSeriesColumn)</th>\n",
       "      <th>index (PandasSeriesColumn)</th>\n",
       "      <th>image (ImageColumn)</th>\n",
       "      <th>name (PandasSeriesColumn)</th>\n",
       "    </tr>\n",
       "  </thead>\n",
       "  <tbody>\n",
       "    <tr>\n",
       "      <th>0</th>\n",
       "      <td>n01440764</td>\n",
       "      <td>n01440764_10026</td>\n",
       "      <td>/home/common/datasets/imagenet/ILSVRC/Data/CLS-LOC/train/n01440764/n01440764_10026.JPEG</td>\n",
       "      <td>train</td>\n",
       "      <td>0</td>\n",
       "      <td><img src=\"data:image/jpeg;base64,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\"></td>\n",
       "      <td>tench, Tinca tinca</td>\n",
       "    </tr>\n",
       "    <tr>\n",
       "      <th>1</th>\n",
       "      <td>n01440764</td>\n",
       "      <td>n01440764_10027</td>\n",
       "      <td>/home/common/datasets/imagenet/ILSVRC/Data/CLS-LOC/train/n01440764/n01440764_10027.JPEG</td>\n",
       "      <td>train</td>\n",
       "      <td>0</td>\n",
       "      <td><img src=\"data:image/jpeg;base64,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\"></td>\n",
       "      <td>tench, Tinca tinca</td>\n",
       "    </tr>\n",
       "    <tr>\n",
       "      <th>2</th>\n",
       "      <td>n01440764</td>\n",
       "      <td>n01440764_10029</td>\n",
       "      <td>/home/common/datasets/imagenet/ILSVRC/Data/CLS-LOC/train/n01440764/n01440764_10029.JPEG</td>\n",
       "      <td>train</td>\n",
       "      <td>0</td>\n",
       "      <td><img src=\"data:image/jpeg;base64,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\"></td>\n",
       "      <td>tench, Tinca tinca</td>\n",
       "    </tr>\n",
       "    <tr>\n",
       "      <th>3</th>\n",
       "      <td>n01440764</td>\n",
       "      <td>n01440764_10040</td>\n",
       "      <td>/home/common/datasets/imagenet/ILSVRC/Data/CLS-LOC/train/n01440764/n01440764_10040.JPEG</td>\n",
       "      <td>train</td>\n",
       "      <td>0</td>\n",
       "      <td><img src=\"data:image/jpeg;base64,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\"></td>\n",
       "      <td>tench, Tinca tinca</td>\n",
       "    </tr>\n",
       "    <tr>\n",
       "      <th>4</th>\n",
       "      <td>n01440764</td>\n",
       "      <td>n01440764_10042</td>\n",
       "      <td>/home/common/datasets/imagenet/ILSVRC/Data/CLS-LOC/train/n01440764/n01440764_10042.JPEG</td>\n",
       "      <td>train</td>\n",
       "      <td>0</td>\n",
       "      <td><img src=\"data:image/jpeg;base64,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\"></td>\n",
       "      <td>tench, Tinca tinca</td>\n",
       "    </tr>\n",
       "  </tbody>\n",
       "</table>"
      ],
      "text/plain": [
       "DataPanel(nrows: 5, ncols: 7)"
      ]
     },
     "metadata": {},
     "execution_count": 8
    }
   ],
   "metadata": {}
  },
  {
   "cell_type": "markdown",
   "source": [
    "# `domino.utils.split_dp()`"
   ],
   "metadata": {}
  },
  {
   "cell_type": "code",
   "execution_count": 4,
   "source": [
    "from domino.utils import split_dp\n",
    "split = split_dp(dp=get_imagenet_dp.out(6121), split_on=\"image_id\")"
   ],
   "outputs": [
    {
     "output_type": "stream",
     "name": "stdout",
     "text": [
      "task: split_dp, run_id=6125\n"
     ]
    }
   ],
   "metadata": {}
  },
  {
   "cell_type": "code",
   "execution_count": 6,
   "source": [
    "split.load().head()"
   ],
   "outputs": [
    {
     "output_type": "execute_result",
     "data": {
      "text/html": [
       "<table border=\"1\" class=\"dataframe\">\n",
       "  <thead>\n",
       "    <tr style=\"text-align: right;\">\n",
       "      <th></th>\n",
       "      <th>image_id (PandasSeriesColumn)</th>\n",
       "      <th>split (PandasSeriesColumn)</th>\n",
       "      <th>index (PandasSeriesColumn)</th>\n",
       "    </tr>\n",
       "  </thead>\n",
       "  <tbody>\n",
       "    <tr>\n",
       "      <th>0</th>\n",
       "      <td>n01440764_10026</td>\n",
       "      <td>train</td>\n",
       "      <td>0</td>\n",
       "    </tr>\n",
       "    <tr>\n",
       "      <th>1</th>\n",
       "      <td>n01440764_10027</td>\n",
       "      <td>test</td>\n",
       "      <td>1</td>\n",
       "    </tr>\n",
       "    <tr>\n",
       "      <th>2</th>\n",
       "      <td>n01440764_10029</td>\n",
       "      <td>train</td>\n",
       "      <td>2</td>\n",
       "    </tr>\n",
       "    <tr>\n",
       "      <th>3</th>\n",
       "      <td>n01440764_10040</td>\n",
       "      <td>train</td>\n",
       "      <td>3</td>\n",
       "    </tr>\n",
       "    <tr>\n",
       "      <th>4</th>\n",
       "      <td>n01440764_10042</td>\n",
       "      <td>test</td>\n",
       "      <td>4</td>\n",
       "    </tr>\n",
       "  </tbody>\n",
       "</table>"
      ],
      "text/plain": [
       "DataPanel(nrows: 5, ncols: 3)"
      ]
     },
     "metadata": {},
     "execution_count": 6
    }
   ],
   "metadata": {}
  },
  {
   "cell_type": "code",
   "execution_count": 9,
   "source": [
    "from\n",
    "vehicle = wn.synset('toilet_paper.n.01')"
   ],
   "outputs": [
    {
     "output_type": "error",
     "ename": "ModuleNotFoundError",
     "evalue": "No module named 'nltyk'",
     "traceback": [
      "\u001b[0;31m---------------------------------------------------------------------------\u001b[0m",
      "\u001b[0;31mModuleNotFoundError\u001b[0m                       Traceback (most recent call last)",
      "\u001b[0;32m/tmp/ipykernel_169897/419796162.py\u001b[0m in \u001b[0;36m<module>\u001b[0;34m\u001b[0m\n\u001b[0;32m----> 1\u001b[0;31m \u001b[0;32mimport\u001b[0m \u001b[0mnltyk\u001b[0m\u001b[0;34m\u001b[0m\u001b[0;34m\u001b[0m\u001b[0m\n\u001b[0m",
      "\u001b[0;31mModuleNotFoundError\u001b[0m: No module named 'nltyk'"
     ]
    }
   ],
   "metadata": {}
  },
  {
   "cell_type": "code",
   "execution_count": null,
   "source": [],
   "outputs": [],
   "metadata": {}
  }
 ],
 "metadata": {
  "orig_nbformat": 4,
  "language_info": {
   "name": "python",
   "version": "3.8.10",
   "mimetype": "text/x-python",
   "codemirror_mode": {
    "name": "ipython",
    "version": 3
   },
   "pygments_lexer": "ipython3",
   "nbconvert_exporter": "python",
   "file_extension": ".py"
  },
  "kernelspec": {
   "name": "python3",
   "display_name": "Python 3.8.10 64-bit ('domino': conda)"
  },
  "interpreter": {
   "hash": "0d937a63d09daec3f9548a5c769ccb20edb9c2c1ae2375686b21850f577713d2"
  }
 },
 "nbformat": 4,
 "nbformat_minor": 2
}