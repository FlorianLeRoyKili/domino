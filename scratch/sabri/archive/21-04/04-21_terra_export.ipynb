{
 "metadata": {
  "language_info": {
   "codemirror_mode": {
    "name": "ipython",
    "version": 3
   },
   "file_extension": ".py",
   "mimetype": "text/x-python",
   "name": "python",
   "nbconvert_exporter": "python",
   "pygments_lexer": "ipython3",
   "version": "3.8.5"
  },
  "orig_nbformat": 2,
  "kernelspec": {
   "name": "python385jvsc74a57bd0aa1d793c209372068b4ef56f34004a4c5446be1b88b957c09099185a80351a53",
   "display_name": "Python 3.8.5 64-bit ('terra': conda)"
  }
 },
 "nbformat": 4,
 "nbformat_minor": 2,
 "cells": [
  {
   "cell_type": "code",
   "execution_count": 19,
   "metadata": {},
   "outputs": [
    {
     "output_type": "stream",
     "name": "stdout",
     "text": [
      "The autoreload extension is already loaded. To reload it, use:\n  %reload_ext autoreload\n"
     ]
    }
   ],
   "source": [
    "%load_ext autoreload\n",
    "%autoreload 2"
   ]
  },
  {
   "cell_type": "code",
   "execution_count": 20,
   "metadata": {},
   "outputs": [],
   "source": [
    "import terra\n",
    "from terra import Task"
   ]
  },
  {
   "cell_type": "code",
   "execution_count": 29,
   "metadata": {},
   "outputs": [
    {
     "output_type": "execute_result",
     "data": {
      "text/plain": [
       "   id    module             fn  \\\n",
       "0   4  __main__     split_data   \n",
       "1   3  __main__     split_data   \n",
       "2   2  __main__  download_iris   \n",
       "3   1  __main__  download_iris   \n",
       "\n",
       "                                             run_dir   status  notebook  \\\n",
       "0  /Users/sabrieyuboglu/code/terra/test_storage_d...  success     False   \n",
       "1  /Users/sabrieyuboglu/code/terra/test_storage_d...  failure     False   \n",
       "2  /Users/sabrieyuboglu/code/terra/test_storage_d...  success     False   \n",
       "3  /Users/sabrieyuboglu/code/terra/test_storage_d...  failure     False   \n",
       "\n",
       "                  start_time                   end_time  \\\n",
       "0 2021-04-21 11:53:23.670024 2021-04-21 11:53:23.829987   \n",
       "1 2021-04-21 11:53:16.861290 2021-04-21 11:53:17.036577   \n",
       "2 2021-04-21 11:51:21.394581 2021-04-21 11:51:21.887423   \n",
       "3 2021-04-21 11:51:12.422331 2021-04-21 11:51:12.925261   \n",
       "\n",
       "                  hostname                                     python_version  \\\n",
       "0  Sabris-MBP.attlocal.net  3.8.5 (default, Aug  5 2020, 03:39:04) \\n[Clan...   \n",
       "1  Sabris-MBP.attlocal.net  3.8.5 (default, Aug  5 2020, 03:39:04) \\n[Clan...   \n",
       "2  Sabris-MBP.attlocal.net  3.8.5 (default, Aug  5 2020, 03:39:04) \\n[Clan...   \n",
       "3  Sabris-MBP.attlocal.net  3.8.5 (default, Aug  5 2020, 03:39:04) \\n[Clan...   \n",
       "\n",
       "                        platform                                git_commit  \\\n",
       "0  macOS-10.16-x86_64-i386-64bit  fcd4e76a5ebcac921bfef52d328a058921940c41   \n",
       "1  macOS-10.16-x86_64-i386-64bit  fcd4e76a5ebcac921bfef52d328a058921940c41   \n",
       "2  macOS-10.16-x86_64-i386-64bit  fcd4e76a5ebcac921bfef52d328a058921940c41   \n",
       "3  macOS-10.16-x86_64-i386-64bit  fcd4e76a5ebcac921bfef52d328a058921940c41   \n",
       "\n",
       "   git_dirty slurm_job_id  \n",
       "0      False         None  \n",
       "1      False         None  \n",
       "2      False         None  \n",
       "3      False         None  "
      ],
      "text/html": "<div>\n<style scoped>\n    .dataframe tbody tr th:only-of-type {\n        vertical-align: middle;\n    }\n\n    .dataframe tbody tr th {\n        vertical-align: top;\n    }\n\n    .dataframe thead th {\n        text-align: right;\n    }\n</style>\n<table border=\"1\" class=\"dataframe\">\n  <thead>\n    <tr style=\"text-align: right;\">\n      <th></th>\n      <th>id</th>\n      <th>module</th>\n      <th>fn</th>\n      <th>run_dir</th>\n      <th>status</th>\n      <th>notebook</th>\n      <th>start_time</th>\n      <th>end_time</th>\n      <th>hostname</th>\n      <th>python_version</th>\n      <th>platform</th>\n      <th>git_commit</th>\n      <th>git_dirty</th>\n      <th>slurm_job_id</th>\n    </tr>\n  </thead>\n  <tbody>\n    <tr>\n      <th>0</th>\n      <td>4</td>\n      <td>__main__</td>\n      <td>split_data</td>\n      <td>/Users/sabrieyuboglu/code/terra/test_storage_d...</td>\n      <td>success</td>\n      <td>False</td>\n      <td>2021-04-21 11:53:23.670024</td>\n      <td>2021-04-21 11:53:23.829987</td>\n      <td>Sabris-MBP.attlocal.net</td>\n      <td>3.8.5 (default, Aug  5 2020, 03:39:04) \\n[Clan...</td>\n      <td>macOS-10.16-x86_64-i386-64bit</td>\n      <td>fcd4e76a5ebcac921bfef52d328a058921940c41</td>\n      <td>False</td>\n      <td>None</td>\n    </tr>\n    <tr>\n      <th>1</th>\n      <td>3</td>\n      <td>__main__</td>\n      <td>split_data</td>\n      <td>/Users/sabrieyuboglu/code/terra/test_storage_d...</td>\n      <td>failure</td>\n      <td>False</td>\n      <td>2021-04-21 11:53:16.861290</td>\n      <td>2021-04-21 11:53:17.036577</td>\n      <td>Sabris-MBP.attlocal.net</td>\n      <td>3.8.5 (default, Aug  5 2020, 03:39:04) \\n[Clan...</td>\n      <td>macOS-10.16-x86_64-i386-64bit</td>\n      <td>fcd4e76a5ebcac921bfef52d328a058921940c41</td>\n      <td>False</td>\n      <td>None</td>\n    </tr>\n    <tr>\n      <th>2</th>\n      <td>2</td>\n      <td>__main__</td>\n      <td>download_iris</td>\n      <td>/Users/sabrieyuboglu/code/terra/test_storage_d...</td>\n      <td>success</td>\n      <td>False</td>\n      <td>2021-04-21 11:51:21.394581</td>\n      <td>2021-04-21 11:51:21.887423</td>\n      <td>Sabris-MBP.attlocal.net</td>\n      <td>3.8.5 (default, Aug  5 2020, 03:39:04) \\n[Clan...</td>\n      <td>macOS-10.16-x86_64-i386-64bit</td>\n      <td>fcd4e76a5ebcac921bfef52d328a058921940c41</td>\n      <td>False</td>\n      <td>None</td>\n    </tr>\n    <tr>\n      <th>3</th>\n      <td>1</td>\n      <td>__main__</td>\n      <td>download_iris</td>\n      <td>/Users/sabrieyuboglu/code/terra/test_storage_d...</td>\n      <td>failure</td>\n      <td>False</td>\n      <td>2021-04-21 11:51:12.422331</td>\n      <td>2021-04-21 11:51:12.925261</td>\n      <td>Sabris-MBP.attlocal.net</td>\n      <td>3.8.5 (default, Aug  5 2020, 03:39:04) \\n[Clan...</td>\n      <td>macOS-10.16-x86_64-i386-64bit</td>\n      <td>fcd4e76a5ebcac921bfef52d328a058921940c41</td>\n      <td>False</td>\n      <td>None</td>\n    </tr>\n  </tbody>\n</table>\n</div>"
     },
     "metadata": {},
     "execution_count": 29
    }
   ],
   "source": [
    "terra.database.get_runs()"
   ]
  },
  {
   "cell_type": "code",
   "execution_count": 28,
   "metadata": {},
   "outputs": [
    {
     "output_type": "execute_result",
     "data": {
      "text/plain": [
       "   id  creating_run_id                                               path  \\\n",
       "0   3                4  /Users/sabrieyuboglu/code/terra/test_storage_d...   \n",
       "1   2                4  /Users/sabrieyuboglu/code/terra/test_storage_d...   \n",
       "2   1                2  /Users/sabrieyuboglu/code/terra/test_storage_d...   \n",
       "\n",
       "                                    type                  dump_time     rm  \n",
       "0                <class 'numpy.ndarray'> 2021-04-21 18:53:23.827193  False  \n",
       "1                <class 'numpy.ndarray'> 2021-04-21 18:53:23.821582  False  \n",
       "2  <class 'pandas.core.frame.DataFrame'> 2021-04-21 18:51:21.883674  False  "
      ],
      "text/html": "<div>\n<style scoped>\n    .dataframe tbody tr th:only-of-type {\n        vertical-align: middle;\n    }\n\n    .dataframe tbody tr th {\n        vertical-align: top;\n    }\n\n    .dataframe thead th {\n        text-align: right;\n    }\n</style>\n<table border=\"1\" class=\"dataframe\">\n  <thead>\n    <tr style=\"text-align: right;\">\n      <th></th>\n      <th>id</th>\n      <th>creating_run_id</th>\n      <th>path</th>\n      <th>type</th>\n      <th>dump_time</th>\n      <th>rm</th>\n    </tr>\n  </thead>\n  <tbody>\n    <tr>\n      <th>0</th>\n      <td>3</td>\n      <td>4</td>\n      <td>/Users/sabrieyuboglu/code/terra/test_storage_d...</td>\n      <td>&lt;class 'numpy.ndarray'&gt;</td>\n      <td>2021-04-21 18:53:23.827193</td>\n      <td>False</td>\n    </tr>\n    <tr>\n      <th>1</th>\n      <td>2</td>\n      <td>4</td>\n      <td>/Users/sabrieyuboglu/code/terra/test_storage_d...</td>\n      <td>&lt;class 'numpy.ndarray'&gt;</td>\n      <td>2021-04-21 18:53:23.821582</td>\n      <td>False</td>\n    </tr>\n    <tr>\n      <th>2</th>\n      <td>1</td>\n      <td>2</td>\n      <td>/Users/sabrieyuboglu/code/terra/test_storage_d...</td>\n      <td>&lt;class 'pandas.core.frame.DataFrame'&gt;</td>\n      <td>2021-04-21 18:51:21.883674</td>\n      <td>False</td>\n    </tr>\n  </tbody>\n</table>\n</div>"
     },
     "metadata": {},
     "execution_count": 28
    }
   ],
   "source": [
    "terra.database.get_artifact_dumps()"
   ]
  },
  {
   "cell_type": "code",
   "execution_count": 21,
   "metadata": {},
   "outputs": [],
   "source": [
    "terra.database.Session = (\n",
    "        terra.database.get_session()\n",
    ")  # need to recreate Session with new tmpdir"
   ]
  },
  {
   "cell_type": "code",
   "execution_count": 23,
   "metadata": {},
   "outputs": [
    {
     "output_type": "stream",
     "name": "stdout",
     "text": [
      "task: download_iris, run_id=2\n"
     ]
    }
   ],
   "source": [
    "import pandas as pd\n",
    "@Task.make_task\n",
    "def download_iris(url: str, run_dir: str = None):\n",
    "    return pd.read_csv(url)\n",
    "\n",
    "data_df = download_iris(url=\"https://raw.githubusercontent.com/seyuboglu/terra/master/examples/01_getting_started/iris.csv?token=AH2NL4ZO3AZS7VCYGLJIU4DAQBIDO\")"
   ]
  },
  {
   "cell_type": "code",
   "execution_count": 27,
   "metadata": {},
   "outputs": [
    {
     "output_type": "stream",
     "name": "stdout",
     "text": [
      "task: split_data, run_id=4\n"
     ]
    }
   ],
   "source": [
    "import numpy as np\n",
    "@Task.make_task\n",
    "def split_data(df: pd.DataFrame, train_frac: float=0.8, run_dir: str = None):\n",
    "    mask = np.random.rand(len(df)) < train_frac\n",
    "    return {\"train\": mask, \"test\": ~mask}\n",
    "\n",
    "splits = split_data(df=data_df, train_frac=0.7)"
   ]
  },
  {
   "cell_type": "code",
   "execution_count": null,
   "metadata": {},
   "outputs": [],
   "source": [
    "# get provenance\n"
   ]
  }
 ]
}