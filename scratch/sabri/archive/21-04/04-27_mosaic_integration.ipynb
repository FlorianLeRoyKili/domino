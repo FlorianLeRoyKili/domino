{
 "metadata": {
  "language_info": {
   "codemirror_mode": {
    "name": "ipython",
    "version": 3
   },
   "file_extension": ".py",
   "mimetype": "text/x-python",
   "name": "python",
   "nbconvert_exporter": "python",
   "pygments_lexer": "ipython3",
   "version": "3.8.8"
  },
  "orig_nbformat": 2,
  "kernelspec": {
   "name": "python388jvsc74a57bd06d7bd4c6039f156d838f2caf01fbd8d7d51ef546e5fb1f60e559c6bdf3c7cc94",
   "display_name": "Python 3.8.8 64-bit ('rg-sabri')"
  },
  "metadata": {
   "interpreter": {
    "hash": "6d7bd4c6039f156d838f2caf01fbd8d7d51ef546e5fb1f60e559c6bdf3c7cc94"
   }
  }
 },
 "nbformat": 4,
 "nbformat_minor": 2,
 "cells": [
  {
   "cell_type": "code",
   "execution_count": 1,
   "metadata": {},
   "outputs": [],
   "source": [
    "%load_ext autoreload\n",
    "%autoreload 2\n",
    "import os\n",
    "os.environ[\"TERRA_CONFIG_PATH\"] = \"/home/sabri/code/spr-21/terra_config.json\"\n",
    "from robustnessgym.mosaic.contrib.wilds import WildsInputColumn, WildsDataPane"
   ]
  },
  {
   "cell_type": "code",
   "execution_count": 2,
   "metadata": {},
   "outputs": [],
   "source": [
    "from robustnessgym.mosaic.contrib.wilds import WildsInputColumn, WildsDataPane\n",
    "from robustnessgym.mosaic import DataPane\n",
    "dp = WildsDataPane(\n",
    "    \"fmow\", \n",
    "    root_dir=\"/home/common/datasets/\", \n",
    "    use_transform=True,\n",
    "    split=\"val\"\n",
    ")\n",
    "#dp = DataPane.from_batch(dp[[\"y\", \"meta\"]][0:10000])"
   ]
  },
  {
   "cell_type": "code",
   "execution_count": 3,
   "metadata": {},
   "outputs": [
    {
     "output_type": "display_data",
     "data": {
      "text/plain": "HBox(children=(FloatProgress(value=0.0, max=12.0), HTML(value='')))",
      "application/vnd.jupyter.widget-view+json": {
       "version_major": 2,
       "version_minor": 0,
       "model_id": "20ee8be9b209440faf67a292d452a5eb"
      }
     },
     "metadata": {}
    },
    {
     "output_type": "stream",
     "name": "stdout",
     "text": [
      "\n"
     ]
    },
    {
     "output_type": "execute_result",
     "data": {
      "text/plain": [
       "{'ones': NumpyArrayColumn(array([1., 1...., 1., 1., 1.])),\n",
       " 'others': NumpyArrayColumn(array([ 5,  5..., 35, 35, 35]))}"
      ]
     },
     "metadata": {},
     "execution_count": 3
    }
   ],
   "source": [
    "import numpy as np\n",
    "def func(x):\n",
    "    return {\n",
    "        \"ones\": np.ones(len(x)),\n",
    "        \"others\": x + 1\n",
    "    }\n",
    "dp[\"y\"].map(func, batched=True)"
   ]
  },
  {
   "cell_type": "code",
   "execution_count": 5,
   "metadata": {},
   "outputs": [
    {
     "output_type": "display_data",
     "data": {
      "text/plain": "HBox(children=(FloatProgress(value=0.0, max=359.0), HTML(value='')))",
      "application/vnd.jupyter.widget-view+json": {
       "version_major": 2,
       "version_minor": 0,
       "model_id": "dd46285eee9148bfb5d049613854d5a8"
      }
     },
     "metadata": {}
    },
    {
     "output_type": "stream",
     "name": "stdout",
     "text": [
      "\n"
     ]
    },
    {
     "output_type": "execute_result",
     "data": {
      "text/plain": [
       "{'ones': NumpyArrayColumn(array([1., 1...., 1., 1., 1.])),\n",
       " 'others': NumpyArrayColumn(array([ 5,  5..., 35, 35, 35]))}"
      ]
     },
     "metadata": {},
     "execution_count": 5
    }
   ],
   "source": [
    "import numpy as np\n",
    "def func(x):\n",
    "    return {\n",
    "        \"ones\": np.ones(len(x[\"y\"])),\n",
    "        \"others\": x[\"y\"] + 1\n",
    "    }\n",
    "dp.map(function=func, batched=True)"
   ]
  },
  {
   "cell_type": "code",
   "execution_count": 7,
   "metadata": {},
   "outputs": [
    {
     "output_type": "display_data",
     "data": {
      "text/plain": "HBox(children=(FloatProgress(value=0.0, max=359.0), HTML(value='')))",
      "application/vnd.jupyter.widget-view+json": {
       "version_major": 2,
       "version_minor": 0,
       "model_id": "5ca62d64b7ec49e09f378782e81ec646"
      }
     },
     "metadata": {}
    },
    {
     "output_type": "stream",
     "name": "stdout",
     "text": [
      "\n"
     ]
    },
    {
     "output_type": "execute_result",
     "data": {
      "text/plain": [
       "NumpyArrayColumn(array([1., 1...., 1., 1., 1.]))"
      ]
     },
     "metadata": {},
     "execution_count": 7
    }
   ],
   "source": [
    "import numpy as np\n",
    "def func(x):\n",
    "    return np.ones(len(x[\"y\"]))\n",
    "dp.map(function=func, batched=True)"
   ]
  },
  {
   "cell_type": "code",
   "execution_count": 8,
   "metadata": {},
   "outputs": [],
   "source": [
    "for x in dp[[\"y\", \"meta\"]].batch():\n",
    "    print('here')"
   ]
  },
  {
   "cell_type": "code",
   "execution_count": null,
   "metadata": {},
   "outputs": [],
   "source": []
  },
  {
   "cell_type": "code",
   "execution_count": 18,
   "metadata": {},
   "outputs": [
    {
     "output_type": "execute_result",
     "data": {
      "text/plain": [
       "[array([0, 1, 2, 3]),\n",
       " array([4, 5, 6]),\n",
       " array([7, 8, 9]),\n",
       " array([10, 11, 12]),\n",
       " array([13, 14, 15]),\n",
       " array([16, 17, 18]),\n",
       " array([19, 20, 21]),\n",
       " array([22, 23, 24]),\n",
       " array([25, 26, 27]),\n",
       " array([28, 29, 30]),\n",
       " array([31, 32, 33]),\n",
       " array([34, 35, 36]),\n",
       " array([37, 38, 39]),\n",
       " array([40, 41, 42]),\n",
       " array([43, 44, 45]),\n",
       " array([46, 47, 48]),\n",
       " array([49, 50, 51]),\n",
       " array([52, 53, 54]),\n",
       " array([55, 56, 57]),\n",
       " array([58, 59, 60]),\n",
       " array([61, 62, 63]),\n",
       " array([64, 65, 66]),\n",
       " array([67, 68, 69]),\n",
       " array([70, 71, 72]),\n",
       " array([73, 74, 75]),\n",
       " array([76, 77, 78]),\n",
       " array([79, 80, 81]),\n",
       " array([82, 83, 84]),\n",
       " array([85, 86, 87]),\n",
       " array([88, 89, 90]),\n",
       " array([91, 92, 93]),\n",
       " array([94, 95, 96]),\n",
       " array([97, 98, 99])]"
      ]
     },
     "metadata": {},
     "execution_count": 18
    }
   ],
   "source": [
    "import numpy as np\n",
    "np.array_split(np.arange(100), 100 // 3)"
   ]
  },
  {
   "cell_type": "code",
   "execution_count": 3,
   "metadata": {},
   "outputs": [
    {
     "output_type": "execute_result",
     "data": {
      "text/plain": [
       "True"
      ]
     },
     "metadata": {},
     "execution_count": 3
    }
   ],
   "source": [
    "from robustnessgym.mosaic.columns.abstract import AbstractColumn\n",
    "dp[\"input\"].batch.__func__ == AbstractColumn.batch"
   ]
  },
  {
   "cell_type": "code",
   "execution_count": 66,
   "metadata": {},
   "outputs": [
    {
     "output_type": "execute_result",
     "data": {
      "text/plain": [
       "<function robustnessgym.mosaic.columns.abstract.AbstractColumn.batch(self, batch_size: 'int' = 32, drop_last_batch: 'bool' = False, collate: 'bool' = True, *args, **kwargs)>"
      ]
     },
     "metadata": {},
     "execution_count": 66
    }
   ],
   "source": [
    "AbstractColumn.batch"
   ]
  },
  {
   "cell_type": "code",
   "execution_count": 57,
   "metadata": {},
   "outputs": [
    {
     "output_type": "execute_result",
     "data": {
      "text/plain": [
       "['__call__',\n",
       " '__class__',\n",
       " '__delattr__',\n",
       " '__dir__',\n",
       " '__doc__',\n",
       " '__eq__',\n",
       " '__format__',\n",
       " '__func__',\n",
       " '__ge__',\n",
       " '__get__',\n",
       " '__getattribute__',\n",
       " '__gt__',\n",
       " '__hash__',\n",
       " '__init__',\n",
       " '__init_subclass__',\n",
       " '__le__',\n",
       " '__lt__',\n",
       " '__ne__',\n",
       " '__new__',\n",
       " '__reduce__',\n",
       " '__reduce_ex__',\n",
       " '__repr__',\n",
       " '__self__',\n",
       " '__setattr__',\n",
       " '__sizeof__',\n",
       " '__str__',\n",
       " '__subclasshook__']"
      ]
     },
     "metadata": {},
     "execution_count": 57
    }
   ],
   "source": [
    "zip()"
   ]
  },
  {
   "cell_type": "code",
   "execution_count": 41,
   "metadata": {},
   "outputs": [
    {
     "output_type": "display_data",
     "data": {
      "text/plain": "HBox(children=(FloatProgress(value=0.0, max=11.0), HTML(value='')))",
      "application/vnd.jupyter.widget-view+json": {
       "version_major": 2,
       "version_minor": 0,
       "model_id": "8f055135576d4a5b8959cd5861299bbf"
      }
     },
     "metadata": {}
    },
    {
     "output_type": "stream",
     "name": "stdout",
     "text": [
      "\nCPU times: user 65.2 ms, sys: 785 µs, total: 66 ms\nWall time: 63.4 ms\n"
     ]
    }
   ],
   "source": [
    "%%time\n",
    "with dp.format([\"y\", \"meta\"]):\n",
    "    out = dp.map(lambda x: x[\"y\"] / 2, num_workers=0, batch_size=1000)"
   ]
  },
  {
   "cell_type": "code",
   "execution_count": 10,
   "metadata": {},
   "outputs": [
    {
     "output_type": "stream",
     "name": "stdout",
     "text": [
      "here\n"
     ]
    },
    {
     "output_type": "display_data",
     "data": {
      "text/plain": "HBox(children=(FloatProgress(value=0.0, max=359.0), HTML(value='')))",
      "application/vnd.jupyter.widget-view+json": {
       "version_major": 2,
       "version_minor": 0,
       "model_id": "5ce6f93e1d814db1a66476163b4e070a"
      }
     },
     "metadata": {}
    },
    {
     "output_type": "stream",
     "name": "stdout",
     "text": [
      "\nCPU times: user 719 ms, sys: 1.25 s, total: 1.97 s\nWall time: 17.4 s\n"
     ]
    }
   ],
   "source": [
    "%%time\n",
    "with dp.format([\"y\", \"meta\"]):\n",
    "    out = dp.map(lambda x: x[\"y\"] / 2)"
   ]
  },
  {
   "cell_type": "code",
   "execution_count": 11,
   "metadata": {},
   "outputs": [
    {
     "output_type": "display_data",
     "data": {
      "text/plain": "HBox(children=(FloatProgress(value=0.0, max=359.0), HTML(value='')))",
      "application/vnd.jupyter.widget-view+json": {
       "version_major": 2,
       "version_minor": 0,
       "model_id": "816d9445409a42019e7515138036f1cc"
      }
     },
     "metadata": {}
    },
    {
     "output_type": "stream",
     "name": "stdout",
     "text": [
      "\nCPU times: user 681 ms, sys: 1.35 s, total: 2.03 s\nWall time: 17.9 s\n"
     ]
    }
   ],
   "source": [
    "%%time\n",
    "with dp.format([\"y\", \"meta\"]):\n",
    "    out = dp.map(lambda x: x[\"y\"] / 2)"
   ]
  },
  {
   "cell_type": "code",
   "execution_count": 27,
   "metadata": {},
   "outputs": [
    {
     "output_type": "stream",
     "name": "stdout",
     "text": [
      "loading weights from /home/common/datasets/fmow_v1.1/models/fmow_erm_ID_seed0/best_model.pth...\n",
      "/home/common/envs/conda/envs/rg-sabri/lib/python3.8/site-packages/torchmetrics/utilities/prints.py:36: UserWarning: Metric `AUROC` will save all targets and predictions in buffer. For large datasets this may lead to large memory footprint.\n",
      "  warnings.warn(*args, **kwargs)\n"
     ]
    }
   ],
   "source": [
    "from spr.vision import Classifier\n",
    "from spr.data.wilds import FMOW_CONFIG\n",
    "\n",
    "classifier = Classifier(FMOW_CONFIG)"
   ]
  },
  {
   "cell_type": "code",
   "execution_count": 4,
   "metadata": {},
   "outputs": [],
   "source": [
    "dp[\"input\"]._materialize = False\n",
    "small_dp = DataPane.from_batch(dp[:1000])\n",
    "small_dp[\"input\"]._materialize = True \n",
    "dp[\"input\"]._materialize = True"
   ]
  },
  {
   "cell_type": "code",
   "execution_count": 28,
   "metadata": {},
   "outputs": [],
   "source": [
    "import torch\n",
    "from robustnessgym.mosaic.contrib.wilds import WildsInputColumn, WildsDataPane\n",
    "from robustnessgym.mosaic import DataPane\n",
    "from terra import Task\n",
    "\n",
    "@Task.make_task\n",
    "def score_fmow_with_mosaic(split: str=\"val\", run_dir=None):\n",
    "\n",
    "    classifier = Classifier(FMOW_CONFIG)\n",
    "    dp = WildsDataPane(\n",
    "        \"fmow\", \n",
    "        root_dir=\"/home/common/datasets/\", \n",
    "        use_transform=True,\n",
    "        split=split\n",
    "    )\n",
    "\n",
    "    classifier.eval()\n",
    "    classifier.to(0)\n",
    "\n",
    "    @torch.no_grad()\n",
    "    def predict(batch: dict):\n",
    "        out = torch.softmax(classifier(batch[\"input\"].to(0)), axis=-1)\n",
    "        return {\"pred\": out.cpu().numpy().argmax(axis=-1)}\n",
    "\n",
    "    dp_w_preds = dp.update(\n",
    "        function=predict,\n",
    "        batch_size=128,\n",
    "        batched=True,\n",
    "        num_workers=8\n",
    "    )\n",
    "    return (dp_w_preds[\"pred\"] == dp_w_preds[\"y\"]).mean()[0]"
   ]
  },
  {
   "cell_type": "code",
   "execution_count": 29,
   "metadata": {},
   "outputs": [
    {
     "output_type": "stream",
     "name": "stderr",
     "text": [
      "[2021-04-30 00:15:34,641][WARNING][pip._internal.operations.freeze:72] :: Could not generate requirement for distribution -illow 8.2.0 (/home/common/envs/conda/envs/rg-sabri/lib/python3.8/site-packages): Parse error at \"'-illow=='\": Expected W:(abcd...)\n",
      "task: score_fmow_with_mosaic, run_id=217\n",
      "loading weights from /home/common/datasets/fmow_v1.1/models/fmow_erm_ID_seed0/best_model.pth...\n",
      "/home/common/envs/conda/envs/rg-sabri/lib/python3.8/site-packages/torchmetrics/utilities/prints.py:36: UserWarning: Metric `AUROC` will save all targets and predictions in buffer. For large datasets this may lead to large memory footprint.\n",
      "  warnings.warn(*args, **kwargs)\n"
     ]
    },
    {
     "output_type": "display_data",
     "data": {
      "text/plain": "HBox(children=(FloatProgress(value=0.0, max=90.0), HTML(value='')))",
      "application/vnd.jupyter.widget-view+json": {
       "version_major": 2,
       "version_minor": 0,
       "model_id": "9d542f89c5954e868e066f412f87c4eb"
      }
     },
     "metadata": {}
    },
    {
     "output_type": "stream",
     "name": "stdout",
     "text": [
      "\nTraceback (most recent call last):\n  File \"/home/sabri/code/terra/terra/__init__.py\", line 230, in _run\n    out = self.fn(**args_dict)\n  File \"<ipython-input-28-41cf8cb82d03>\", line 25, in score_fmow_with_mosaic\n    dp_w_preds = dp.update(\n  File \"/home/sabri/code/robustness-gym/robustnessgym/mosaic/datapane.py\", line 908, in update\n    output = new_dataset.map(\n  File \"/home/sabri/code/robustness-gym/robustnessgym/mosaic/datapane.py\", line 978, in map\n    else function(batch)\n  File \"/home/common/envs/conda/envs/rg-sabri/lib/python3.8/site-packages/torch/autograd/grad_mode.py\", line 26, in decorate_context\n    return func(*args, **kwargs)\n  File \"<ipython-input-28-41cf8cb82d03>\", line 23, in predict\n    return {\"pred\": out.cpu().numpy().argmax(axis=-1)}\nKeyboardInterrupt\n\n"
     ]
    },
    {
     "output_type": "error",
     "ename": "KeyboardInterrupt",
     "evalue": "",
     "traceback": [
      "\u001b[0;31m---------------------------------------------------------------------------\u001b[0m",
      "\u001b[0;31mKeyboardInterrupt\u001b[0m                         Traceback (most recent call last)",
      "\u001b[0;32m<ipython-input-29-7cc67c795f78>\u001b[0m in \u001b[0;36m<module>\u001b[0;34m\u001b[0m\n\u001b[0;32m----> 1\u001b[0;31m \u001b[0mscore_fmow_with_mosaic\u001b[0m\u001b[0;34m(\u001b[0m\u001b[0msplit\u001b[0m\u001b[0;34m=\u001b[0m\u001b[0;34m\"val\"\u001b[0m\u001b[0;34m)\u001b[0m\u001b[0;34m\u001b[0m\u001b[0;34m\u001b[0m\u001b[0m\n\u001b[0m",
      "\u001b[0;32m/home/sabri/code/terra/terra/__init__.py\u001b[0m in \u001b[0;36m__call__\u001b[0;34m(self, *args, **kwargs)\u001b[0m\n\u001b[1;32m    121\u001b[0m \u001b[0;34m\u001b[0m\u001b[0m\n\u001b[1;32m    122\u001b[0m     \u001b[0;32mdef\u001b[0m \u001b[0m__call__\u001b[0m\u001b[0;34m(\u001b[0m\u001b[0mself\u001b[0m\u001b[0;34m,\u001b[0m \u001b[0;34m*\u001b[0m\u001b[0margs\u001b[0m\u001b[0;34m,\u001b[0m \u001b[0;34m**\u001b[0m\u001b[0mkwargs\u001b[0m\u001b[0;34m)\u001b[0m\u001b[0;34m:\u001b[0m\u001b[0;34m\u001b[0m\u001b[0;34m\u001b[0m\u001b[0m\n\u001b[0;32m--> 123\u001b[0;31m         \u001b[0;32mreturn\u001b[0m \u001b[0mself\u001b[0m\u001b[0;34m.\u001b[0m\u001b[0m_run\u001b[0m\u001b[0;34m(\u001b[0m\u001b[0;34m*\u001b[0m\u001b[0margs\u001b[0m\u001b[0;34m,\u001b[0m \u001b[0;34m**\u001b[0m\u001b[0mkwargs\u001b[0m\u001b[0;34m)\u001b[0m\u001b[0;34m\u001b[0m\u001b[0;34m\u001b[0m\u001b[0m\n\u001b[0m\u001b[1;32m    124\u001b[0m \u001b[0;34m\u001b[0m\u001b[0m\n\u001b[1;32m    125\u001b[0m     \u001b[0;32mdef\u001b[0m \u001b[0m_run\u001b[0m\u001b[0;34m(\u001b[0m\u001b[0mself\u001b[0m\u001b[0;34m,\u001b[0m \u001b[0;34m*\u001b[0m\u001b[0margs\u001b[0m\u001b[0;34m,\u001b[0m \u001b[0;34m**\u001b[0m\u001b[0mkwargs\u001b[0m\u001b[0;34m)\u001b[0m\u001b[0;34m:\u001b[0m\u001b[0;34m\u001b[0m\u001b[0;34m\u001b[0m\u001b[0m\n",
      "\u001b[0;32m/home/sabri/code/terra/terra/__init__.py\u001b[0m in \u001b[0;36m_run\u001b[0;34m(self, *args, **kwargs)\u001b[0m\n\u001b[1;32m    253\u001b[0m             \u001b[0mprint\u001b[0m\u001b[0;34m(\u001b[0m\u001b[0mmsg\u001b[0m\u001b[0;34m)\u001b[0m\u001b[0;34m\u001b[0m\u001b[0;34m\u001b[0m\u001b[0m\n\u001b[1;32m    254\u001b[0m             \u001b[0msession\u001b[0m\u001b[0;34m.\u001b[0m\u001b[0mclose\u001b[0m\u001b[0;34m(\u001b[0m\u001b[0;34m)\u001b[0m\u001b[0;34m\u001b[0m\u001b[0;34m\u001b[0m\u001b[0m\n\u001b[0;32m--> 255\u001b[0;31m             \u001b[0;32mraise\u001b[0m \u001b[0me\u001b[0m\u001b[0;34m\u001b[0m\u001b[0;34m\u001b[0m\u001b[0m\n\u001b[0m\u001b[1;32m    256\u001b[0m \u001b[0;34m\u001b[0m\u001b[0m\n\u001b[1;32m    257\u001b[0m         \u001b[0;32mif\u001b[0m \u001b[0mreturn_run_id\u001b[0m\u001b[0;34m:\u001b[0m\u001b[0;34m\u001b[0m\u001b[0;34m\u001b[0m\u001b[0m\n",
      "\u001b[0;32m/home/sabri/code/terra/terra/__init__.py\u001b[0m in \u001b[0;36m_run\u001b[0;34m(self, *args, **kwargs)\u001b[0m\n\u001b[1;32m    228\u001b[0m \u001b[0;34m\u001b[0m\u001b[0m\n\u001b[1;32m    229\u001b[0m             \u001b[0;31m# run function\u001b[0m\u001b[0;34m\u001b[0m\u001b[0;34m\u001b[0m\u001b[0;34m\u001b[0m\u001b[0m\n\u001b[0;32m--> 230\u001b[0;31m             \u001b[0mout\u001b[0m \u001b[0;34m=\u001b[0m \u001b[0mself\u001b[0m\u001b[0;34m.\u001b[0m\u001b[0mfn\u001b[0m\u001b[0;34m(\u001b[0m\u001b[0;34m**\u001b[0m\u001b[0margs_dict\u001b[0m\u001b[0;34m)\u001b[0m\u001b[0;34m\u001b[0m\u001b[0;34m\u001b[0m\u001b[0m\n\u001b[0m\u001b[1;32m    231\u001b[0m \u001b[0;34m\u001b[0m\u001b[0m\n\u001b[1;32m    232\u001b[0m             \u001b[0;31m# write outputs\u001b[0m\u001b[0;34m\u001b[0m\u001b[0;34m\u001b[0m\u001b[0;34m\u001b[0m\u001b[0m\n",
      "\u001b[0;32m<ipython-input-28-41cf8cb82d03>\u001b[0m in \u001b[0;36mscore_fmow_with_mosaic\u001b[0;34m(split, run_dir)\u001b[0m\n\u001b[1;32m     23\u001b[0m         \u001b[0;32mreturn\u001b[0m \u001b[0;34m{\u001b[0m\u001b[0;34m\"pred\"\u001b[0m\u001b[0;34m:\u001b[0m \u001b[0mout\u001b[0m\u001b[0;34m.\u001b[0m\u001b[0mcpu\u001b[0m\u001b[0;34m(\u001b[0m\u001b[0;34m)\u001b[0m\u001b[0;34m.\u001b[0m\u001b[0mnumpy\u001b[0m\u001b[0;34m(\u001b[0m\u001b[0;34m)\u001b[0m\u001b[0;34m.\u001b[0m\u001b[0margmax\u001b[0m\u001b[0;34m(\u001b[0m\u001b[0maxis\u001b[0m\u001b[0;34m=\u001b[0m\u001b[0;34m-\u001b[0m\u001b[0;36m1\u001b[0m\u001b[0;34m)\u001b[0m\u001b[0;34m}\u001b[0m\u001b[0;34m\u001b[0m\u001b[0;34m\u001b[0m\u001b[0m\n\u001b[1;32m     24\u001b[0m \u001b[0;34m\u001b[0m\u001b[0m\n\u001b[0;32m---> 25\u001b[0;31m     dp_w_preds = dp.update(\n\u001b[0m\u001b[1;32m     26\u001b[0m         \u001b[0mfunction\u001b[0m\u001b[0;34m=\u001b[0m\u001b[0mpredict\u001b[0m\u001b[0;34m,\u001b[0m\u001b[0;34m\u001b[0m\u001b[0;34m\u001b[0m\u001b[0m\n\u001b[1;32m     27\u001b[0m         \u001b[0mbatch_size\u001b[0m\u001b[0;34m=\u001b[0m\u001b[0;36m128\u001b[0m\u001b[0;34m,\u001b[0m\u001b[0;34m\u001b[0m\u001b[0;34m\u001b[0m\u001b[0m\n",
      "\u001b[0;32m/home/sabri/code/robustness-gym/robustnessgym/mosaic/datapane.py\u001b[0m in \u001b[0;36mupdate\u001b[0;34m(self, function, with_indices, batched, batch_size, remove_columns, num_workers, **kwargs)\u001b[0m\n\u001b[1;32m    906\u001b[0m \u001b[0;34m\u001b[0m\u001b[0m\n\u001b[1;32m    907\u001b[0m                 \u001b[0;31m# Calculate the values for the new columns using a .map()\u001b[0m\u001b[0;34m\u001b[0m\u001b[0;34m\u001b[0m\u001b[0;34m\u001b[0m\u001b[0m\n\u001b[0;32m--> 908\u001b[0;31m                 output = new_dataset.map(\n\u001b[0m\u001b[1;32m    909\u001b[0m                     \u001b[0mfunction\u001b[0m\u001b[0;34m=\u001b[0m\u001b[0mfunction\u001b[0m\u001b[0;34m,\u001b[0m\u001b[0;34m\u001b[0m\u001b[0;34m\u001b[0m\u001b[0m\n\u001b[1;32m    910\u001b[0m                     \u001b[0mwith_indices\u001b[0m\u001b[0;34m=\u001b[0m\u001b[0mwith_indices\u001b[0m\u001b[0;34m,\u001b[0m\u001b[0;34m\u001b[0m\u001b[0;34m\u001b[0m\u001b[0m\n",
      "\u001b[0;32m/home/sabri/code/robustness-gym/robustnessgym/mosaic/datapane.py\u001b[0m in \u001b[0;36mmap\u001b[0;34m(self, function, with_indices, input_columns, batched, batch_size, drop_last_batch, num_workers, **kwargs)\u001b[0m\n\u001b[1;32m    976\u001b[0m                 )\n\u001b[1;32m    977\u001b[0m                 \u001b[0;32mif\u001b[0m \u001b[0mwith_indices\u001b[0m\u001b[0;34m\u001b[0m\u001b[0;34m\u001b[0m\u001b[0m\n\u001b[0;32m--> 978\u001b[0;31m                 \u001b[0;32melse\u001b[0m \u001b[0mfunction\u001b[0m\u001b[0;34m(\u001b[0m\u001b[0mbatch\u001b[0m\u001b[0;34m)\u001b[0m\u001b[0;34m\u001b[0m\u001b[0;34m\u001b[0m\u001b[0m\n\u001b[0m\u001b[1;32m    979\u001b[0m             )\n\u001b[1;32m    980\u001b[0m \u001b[0;34m\u001b[0m\u001b[0m\n",
      "\u001b[0;32m/home/common/envs/conda/envs/rg-sabri/lib/python3.8/site-packages/torch/autograd/grad_mode.py\u001b[0m in \u001b[0;36mdecorate_context\u001b[0;34m(*args, **kwargs)\u001b[0m\n\u001b[1;32m     24\u001b[0m         \u001b[0;32mdef\u001b[0m \u001b[0mdecorate_context\u001b[0m\u001b[0;34m(\u001b[0m\u001b[0;34m*\u001b[0m\u001b[0margs\u001b[0m\u001b[0;34m,\u001b[0m \u001b[0;34m**\u001b[0m\u001b[0mkwargs\u001b[0m\u001b[0;34m)\u001b[0m\u001b[0;34m:\u001b[0m\u001b[0;34m\u001b[0m\u001b[0;34m\u001b[0m\u001b[0m\n\u001b[1;32m     25\u001b[0m             \u001b[0;32mwith\u001b[0m \u001b[0mself\u001b[0m\u001b[0;34m.\u001b[0m\u001b[0m__class__\u001b[0m\u001b[0;34m(\u001b[0m\u001b[0;34m)\u001b[0m\u001b[0;34m:\u001b[0m\u001b[0;34m\u001b[0m\u001b[0;34m\u001b[0m\u001b[0m\n\u001b[0;32m---> 26\u001b[0;31m                 \u001b[0;32mreturn\u001b[0m \u001b[0mfunc\u001b[0m\u001b[0;34m(\u001b[0m\u001b[0;34m*\u001b[0m\u001b[0margs\u001b[0m\u001b[0;34m,\u001b[0m \u001b[0;34m**\u001b[0m\u001b[0mkwargs\u001b[0m\u001b[0;34m)\u001b[0m\u001b[0;34m\u001b[0m\u001b[0;34m\u001b[0m\u001b[0m\n\u001b[0m\u001b[1;32m     27\u001b[0m         \u001b[0;32mreturn\u001b[0m \u001b[0mcast\u001b[0m\u001b[0;34m(\u001b[0m\u001b[0mF\u001b[0m\u001b[0;34m,\u001b[0m \u001b[0mdecorate_context\u001b[0m\u001b[0;34m)\u001b[0m\u001b[0;34m\u001b[0m\u001b[0;34m\u001b[0m\u001b[0m\n\u001b[1;32m     28\u001b[0m \u001b[0;34m\u001b[0m\u001b[0m\n",
      "\u001b[0;32m<ipython-input-28-41cf8cb82d03>\u001b[0m in \u001b[0;36mpredict\u001b[0;34m(batch)\u001b[0m\n\u001b[1;32m     21\u001b[0m     \u001b[0;32mdef\u001b[0m \u001b[0mpredict\u001b[0m\u001b[0;34m(\u001b[0m\u001b[0mbatch\u001b[0m\u001b[0;34m:\u001b[0m \u001b[0mdict\u001b[0m\u001b[0;34m)\u001b[0m\u001b[0;34m:\u001b[0m\u001b[0;34m\u001b[0m\u001b[0;34m\u001b[0m\u001b[0m\n\u001b[1;32m     22\u001b[0m         \u001b[0mout\u001b[0m \u001b[0;34m=\u001b[0m \u001b[0mtorch\u001b[0m\u001b[0;34m.\u001b[0m\u001b[0msoftmax\u001b[0m\u001b[0;34m(\u001b[0m\u001b[0mclassifier\u001b[0m\u001b[0;34m(\u001b[0m\u001b[0mbatch\u001b[0m\u001b[0;34m[\u001b[0m\u001b[0;34m\"input\"\u001b[0m\u001b[0;34m]\u001b[0m\u001b[0;34m.\u001b[0m\u001b[0mto\u001b[0m\u001b[0;34m(\u001b[0m\u001b[0;36m0\u001b[0m\u001b[0;34m)\u001b[0m\u001b[0;34m)\u001b[0m\u001b[0;34m,\u001b[0m \u001b[0maxis\u001b[0m\u001b[0;34m=\u001b[0m\u001b[0;34m-\u001b[0m\u001b[0;36m1\u001b[0m\u001b[0;34m)\u001b[0m\u001b[0;34m\u001b[0m\u001b[0;34m\u001b[0m\u001b[0m\n\u001b[0;32m---> 23\u001b[0;31m         \u001b[0;32mreturn\u001b[0m \u001b[0;34m{\u001b[0m\u001b[0;34m\"pred\"\u001b[0m\u001b[0;34m:\u001b[0m \u001b[0mout\u001b[0m\u001b[0;34m.\u001b[0m\u001b[0mcpu\u001b[0m\u001b[0;34m(\u001b[0m\u001b[0;34m)\u001b[0m\u001b[0;34m.\u001b[0m\u001b[0mnumpy\u001b[0m\u001b[0;34m(\u001b[0m\u001b[0;34m)\u001b[0m\u001b[0;34m.\u001b[0m\u001b[0margmax\u001b[0m\u001b[0;34m(\u001b[0m\u001b[0maxis\u001b[0m\u001b[0;34m=\u001b[0m\u001b[0;34m-\u001b[0m\u001b[0;36m1\u001b[0m\u001b[0;34m)\u001b[0m\u001b[0;34m}\u001b[0m\u001b[0;34m\u001b[0m\u001b[0;34m\u001b[0m\u001b[0m\n\u001b[0m\u001b[1;32m     24\u001b[0m \u001b[0;34m\u001b[0m\u001b[0m\n\u001b[1;32m     25\u001b[0m     dp_w_preds = dp.update(\n",
      "\u001b[0;31mKeyboardInterrupt\u001b[0m: "
     ]
    }
   ],
   "source": [
    "score_fmow_with_mosaic(split=\"val\")"
   ]
  },
  {
   "cell_type": "code",
   "execution_count": 29,
   "metadata": {},
   "outputs": [
    {
     "output_type": "execute_result",
     "data": {
      "text/plain": [
       "11327"
      ]
     },
     "metadata": {},
     "execution_count": 29
    }
   ],
   "source": [
    "len(dp_w_preds)"
   ]
  },
  {
   "cell_type": "code",
   "execution_count": 49,
   "metadata": {},
   "outputs": [
    {
     "output_type": "execute_result",
     "data": {
      "text/plain": [
       "     id    module                      fn  \\\n",
       "0   215  __main__  score_fmow_with_mosaic   \n",
       "1   214  __main__  score_fmow_with_mosaic   \n",
       "2   213  __main__  score_fmow_with_mosaic   \n",
       "3   212  __main__  score_fmow_with_mosaic   \n",
       "4   211  __main__  score_fmow_with_mosaic   \n",
       "5   210  __main__  score_fmow_with_mosaic   \n",
       "6   209  __main__  score_fmow_with_mosaic   \n",
       "7   208  __main__  score_fmow_with_mosaic   \n",
       "8   207  __main__  score_fmow_with_mosaic   \n",
       "9   206  __main__  score_fmow_with_mosaic   \n",
       "10  205  __main__  score_fmow_with_mosaic   \n",
       "\n",
       "                                              run_dir       status  notebook  \\\n",
       "0   /home/sabri/terra/slice/tasks/__main__/score_f...      success     False   \n",
       "1   /home/sabri/terra/slice/tasks/__main__/score_f...      failure     False   \n",
       "2   /home/sabri/terra/slice/tasks/__main__/score_f...      success     False   \n",
       "3   /home/sabri/terra/slice/tasks/__main__/score_f...      success     False   \n",
       "4   /home/sabri/terra/slice/tasks/__main__/score_f...      success     False   \n",
       "5   /home/sabri/terra/slice/tasks/__main__/score_f...  interrupted     False   \n",
       "6   /home/sabri/terra/slice/tasks/__main__/score_f...      success     False   \n",
       "7   /home/sabri/terra/slice/tasks/__main__/score_f...      failure     False   \n",
       "8   /home/sabri/terra/slice/tasks/__main__/score_f...      success     False   \n",
       "9   /home/sabri/terra/slice/tasks/__main__/score_f...      success     False   \n",
       "10  /home/sabri/terra/slice/tasks/__main__/score_f...      success     False   \n",
       "\n",
       "                   start_time                   end_time   hostname  \\\n",
       "0  2021-04-29 21:49:15.647186 2021-04-29 21:50:28.611613  pod-sabri   \n",
       "1  2021-04-29 21:49:01.867664 2021-04-29 21:49:07.767328  pod-sabri   \n",
       "2  2021-04-29 21:46:07.806332 2021-04-29 21:46:53.003622  pod-sabri   \n",
       "3  2021-04-29 21:43:15.294843 2021-04-29 21:44:33.088492  pod-sabri   \n",
       "4  2021-04-29 21:37:07.563952 2021-04-29 21:38:31.318201  pod-sabri   \n",
       "5  2021-04-29 21:36:18.722919 2021-04-29 21:37:04.789272  pod-sabri   \n",
       "6  2021-04-29 21:29:55.705654 2021-04-29 21:31:06.848939  pod-sabri   \n",
       "7  2021-04-29 21:29:42.218594 2021-04-29 21:29:47.358688  pod-sabri   \n",
       "8  2021-04-29 21:28:20.296646 2021-04-29 21:29:03.381629  pod-sabri   \n",
       "9  2021-04-29 21:26:03.735195 2021-04-29 21:27:21.903094  pod-sabri   \n",
       "10 2021-04-29 21:24:44.069356 2021-04-29 21:25:37.871926  pod-sabri   \n",
       "\n",
       "                                       python_version  \\\n",
       "0   3.8.8 (default, Apr 13 2021, 19:58:26) \\n[GCC ...   \n",
       "1   3.8.8 (default, Apr 13 2021, 19:58:26) \\n[GCC ...   \n",
       "2   3.8.8 (default, Apr 13 2021, 19:58:26) \\n[GCC ...   \n",
       "3   3.8.8 (default, Apr 13 2021, 19:58:26) \\n[GCC ...   \n",
       "4   3.8.8 (default, Apr 13 2021, 19:58:26) \\n[GCC ...   \n",
       "5   3.8.8 (default, Apr 13 2021, 19:58:26) \\n[GCC ...   \n",
       "6   3.8.8 (default, Apr 13 2021, 19:58:26) \\n[GCC ...   \n",
       "7   3.8.8 (default, Apr 13 2021, 19:58:26) \\n[GCC ...   \n",
       "8   3.8.8 (default, Apr 13 2021, 19:58:26) \\n[GCC ...   \n",
       "9   3.8.8 (default, Apr 13 2021, 19:58:26) \\n[GCC ...   \n",
       "10  3.8.8 (default, Apr 13 2021, 19:58:26) \\n[GCC ...   \n",
       "\n",
       "                               platform  \\\n",
       "0   Linux-5.4.89+-x86_64-with-glibc2.10   \n",
       "1   Linux-5.4.89+-x86_64-with-glibc2.10   \n",
       "2   Linux-5.4.89+-x86_64-with-glibc2.10   \n",
       "3   Linux-5.4.89+-x86_64-with-glibc2.10   \n",
       "4   Linux-5.4.89+-x86_64-with-glibc2.10   \n",
       "5   Linux-5.4.89+-x86_64-with-glibc2.10   \n",
       "6   Linux-5.4.89+-x86_64-with-glibc2.10   \n",
       "7   Linux-5.4.89+-x86_64-with-glibc2.10   \n",
       "8   Linux-5.4.89+-x86_64-with-glibc2.10   \n",
       "9   Linux-5.4.89+-x86_64-with-glibc2.10   \n",
       "10  Linux-5.4.89+-x86_64-with-glibc2.10   \n",
       "\n",
       "                                  git_commit  git_dirty slurm_job_id  \n",
       "0   006ff14f76ad080cc0f7b20387b225c2f85a4feb       True         None  \n",
       "1   006ff14f76ad080cc0f7b20387b225c2f85a4feb       True         None  \n",
       "2   006ff14f76ad080cc0f7b20387b225c2f85a4feb       True         None  \n",
       "3   006ff14f76ad080cc0f7b20387b225c2f85a4feb       True         None  \n",
       "4   006ff14f76ad080cc0f7b20387b225c2f85a4feb       True         None  \n",
       "5   006ff14f76ad080cc0f7b20387b225c2f85a4feb       True         None  \n",
       "6   006ff14f76ad080cc0f7b20387b225c2f85a4feb       True         None  \n",
       "7   006ff14f76ad080cc0f7b20387b225c2f85a4feb       True         None  \n",
       "8   006ff14f76ad080cc0f7b20387b225c2f85a4feb       True         None  \n",
       "9   006ff14f76ad080cc0f7b20387b225c2f85a4feb       True         None  \n",
       "10  006ff14f76ad080cc0f7b20387b225c2f85a4feb       True         None  "
      ],
      "text/html": "<div>\n<style scoped>\n    .dataframe tbody tr th:only-of-type {\n        vertical-align: middle;\n    }\n\n    .dataframe tbody tr th {\n        vertical-align: top;\n    }\n\n    .dataframe thead th {\n        text-align: right;\n    }\n</style>\n<table border=\"1\" class=\"dataframe\">\n  <thead>\n    <tr style=\"text-align: right;\">\n      <th></th>\n      <th>id</th>\n      <th>module</th>\n      <th>fn</th>\n      <th>run_dir</th>\n      <th>status</th>\n      <th>notebook</th>\n      <th>start_time</th>\n      <th>end_time</th>\n      <th>hostname</th>\n      <th>python_version</th>\n      <th>platform</th>\n      <th>git_commit</th>\n      <th>git_dirty</th>\n      <th>slurm_job_id</th>\n    </tr>\n  </thead>\n  <tbody>\n    <tr>\n      <th>0</th>\n      <td>215</td>\n      <td>__main__</td>\n      <td>score_fmow_with_mosaic</td>\n      <td>/home/sabri/terra/slice/tasks/__main__/score_f...</td>\n      <td>success</td>\n      <td>False</td>\n      <td>2021-04-29 21:49:15.647186</td>\n      <td>2021-04-29 21:50:28.611613</td>\n      <td>pod-sabri</td>\n      <td>3.8.8 (default, Apr 13 2021, 19:58:26) \\n[GCC ...</td>\n      <td>Linux-5.4.89+-x86_64-with-glibc2.10</td>\n      <td>006ff14f76ad080cc0f7b20387b225c2f85a4feb</td>\n      <td>True</td>\n      <td>None</td>\n    </tr>\n    <tr>\n      <th>1</th>\n      <td>214</td>\n      <td>__main__</td>\n      <td>score_fmow_with_mosaic</td>\n      <td>/home/sabri/terra/slice/tasks/__main__/score_f...</td>\n      <td>failure</td>\n      <td>False</td>\n      <td>2021-04-29 21:49:01.867664</td>\n      <td>2021-04-29 21:49:07.767328</td>\n      <td>pod-sabri</td>\n      <td>3.8.8 (default, Apr 13 2021, 19:58:26) \\n[GCC ...</td>\n      <td>Linux-5.4.89+-x86_64-with-glibc2.10</td>\n      <td>006ff14f76ad080cc0f7b20387b225c2f85a4feb</td>\n      <td>True</td>\n      <td>None</td>\n    </tr>\n    <tr>\n      <th>2</th>\n      <td>213</td>\n      <td>__main__</td>\n      <td>score_fmow_with_mosaic</td>\n      <td>/home/sabri/terra/slice/tasks/__main__/score_f...</td>\n      <td>success</td>\n      <td>False</td>\n      <td>2021-04-29 21:46:07.806332</td>\n      <td>2021-04-29 21:46:53.003622</td>\n      <td>pod-sabri</td>\n      <td>3.8.8 (default, Apr 13 2021, 19:58:26) \\n[GCC ...</td>\n      <td>Linux-5.4.89+-x86_64-with-glibc2.10</td>\n      <td>006ff14f76ad080cc0f7b20387b225c2f85a4feb</td>\n      <td>True</td>\n      <td>None</td>\n    </tr>\n    <tr>\n      <th>3</th>\n      <td>212</td>\n      <td>__main__</td>\n      <td>score_fmow_with_mosaic</td>\n      <td>/home/sabri/terra/slice/tasks/__main__/score_f...</td>\n      <td>success</td>\n      <td>False</td>\n      <td>2021-04-29 21:43:15.294843</td>\n      <td>2021-04-29 21:44:33.088492</td>\n      <td>pod-sabri</td>\n      <td>3.8.8 (default, Apr 13 2021, 19:58:26) \\n[GCC ...</td>\n      <td>Linux-5.4.89+-x86_64-with-glibc2.10</td>\n      <td>006ff14f76ad080cc0f7b20387b225c2f85a4feb</td>\n      <td>True</td>\n      <td>None</td>\n    </tr>\n    <tr>\n      <th>4</th>\n      <td>211</td>\n      <td>__main__</td>\n      <td>score_fmow_with_mosaic</td>\n      <td>/home/sabri/terra/slice/tasks/__main__/score_f...</td>\n      <td>success</td>\n      <td>False</td>\n      <td>2021-04-29 21:37:07.563952</td>\n      <td>2021-04-29 21:38:31.318201</td>\n      <td>pod-sabri</td>\n      <td>3.8.8 (default, Apr 13 2021, 19:58:26) \\n[GCC ...</td>\n      <td>Linux-5.4.89+-x86_64-with-glibc2.10</td>\n      <td>006ff14f76ad080cc0f7b20387b225c2f85a4feb</td>\n      <td>True</td>\n      <td>None</td>\n    </tr>\n    <tr>\n      <th>5</th>\n      <td>210</td>\n      <td>__main__</td>\n      <td>score_fmow_with_mosaic</td>\n      <td>/home/sabri/terra/slice/tasks/__main__/score_f...</td>\n      <td>interrupted</td>\n      <td>False</td>\n      <td>2021-04-29 21:36:18.722919</td>\n      <td>2021-04-29 21:37:04.789272</td>\n      <td>pod-sabri</td>\n      <td>3.8.8 (default, Apr 13 2021, 19:58:26) \\n[GCC ...</td>\n      <td>Linux-5.4.89+-x86_64-with-glibc2.10</td>\n      <td>006ff14f76ad080cc0f7b20387b225c2f85a4feb</td>\n      <td>True</td>\n      <td>None</td>\n    </tr>\n    <tr>\n      <th>6</th>\n      <td>209</td>\n      <td>__main__</td>\n      <td>score_fmow_with_mosaic</td>\n      <td>/home/sabri/terra/slice/tasks/__main__/score_f...</td>\n      <td>success</td>\n      <td>False</td>\n      <td>2021-04-29 21:29:55.705654</td>\n      <td>2021-04-29 21:31:06.848939</td>\n      <td>pod-sabri</td>\n      <td>3.8.8 (default, Apr 13 2021, 19:58:26) \\n[GCC ...</td>\n      <td>Linux-5.4.89+-x86_64-with-glibc2.10</td>\n      <td>006ff14f76ad080cc0f7b20387b225c2f85a4feb</td>\n      <td>True</td>\n      <td>None</td>\n    </tr>\n    <tr>\n      <th>7</th>\n      <td>208</td>\n      <td>__main__</td>\n      <td>score_fmow_with_mosaic</td>\n      <td>/home/sabri/terra/slice/tasks/__main__/score_f...</td>\n      <td>failure</td>\n      <td>False</td>\n      <td>2021-04-29 21:29:42.218594</td>\n      <td>2021-04-29 21:29:47.358688</td>\n      <td>pod-sabri</td>\n      <td>3.8.8 (default, Apr 13 2021, 19:58:26) \\n[GCC ...</td>\n      <td>Linux-5.4.89+-x86_64-with-glibc2.10</td>\n      <td>006ff14f76ad080cc0f7b20387b225c2f85a4feb</td>\n      <td>True</td>\n      <td>None</td>\n    </tr>\n    <tr>\n      <th>8</th>\n      <td>207</td>\n      <td>__main__</td>\n      <td>score_fmow_with_mosaic</td>\n      <td>/home/sabri/terra/slice/tasks/__main__/score_f...</td>\n      <td>success</td>\n      <td>False</td>\n      <td>2021-04-29 21:28:20.296646</td>\n      <td>2021-04-29 21:29:03.381629</td>\n      <td>pod-sabri</td>\n      <td>3.8.8 (default, Apr 13 2021, 19:58:26) \\n[GCC ...</td>\n      <td>Linux-5.4.89+-x86_64-with-glibc2.10</td>\n      <td>006ff14f76ad080cc0f7b20387b225c2f85a4feb</td>\n      <td>True</td>\n      <td>None</td>\n    </tr>\n    <tr>\n      <th>9</th>\n      <td>206</td>\n      <td>__main__</td>\n      <td>score_fmow_with_mosaic</td>\n      <td>/home/sabri/terra/slice/tasks/__main__/score_f...</td>\n      <td>success</td>\n      <td>False</td>\n      <td>2021-04-29 21:26:03.735195</td>\n      <td>2021-04-29 21:27:21.903094</td>\n      <td>pod-sabri</td>\n      <td>3.8.8 (default, Apr 13 2021, 19:58:26) \\n[GCC ...</td>\n      <td>Linux-5.4.89+-x86_64-with-glibc2.10</td>\n      <td>006ff14f76ad080cc0f7b20387b225c2f85a4feb</td>\n      <td>True</td>\n      <td>None</td>\n    </tr>\n    <tr>\n      <th>10</th>\n      <td>205</td>\n      <td>__main__</td>\n      <td>score_fmow_with_mosaic</td>\n      <td>/home/sabri/terra/slice/tasks/__main__/score_f...</td>\n      <td>success</td>\n      <td>False</td>\n      <td>2021-04-29 21:24:44.069356</td>\n      <td>2021-04-29 21:25:37.871926</td>\n      <td>pod-sabri</td>\n      <td>3.8.8 (default, Apr 13 2021, 19:58:26) \\n[GCC ...</td>\n      <td>Linux-5.4.89+-x86_64-with-glibc2.10</td>\n      <td>006ff14f76ad080cc0f7b20387b225c2f85a4feb</td>\n      <td>True</td>\n      <td>None</td>\n    </tr>\n  </tbody>\n</table>\n</div>"
     },
     "metadata": {},
     "execution_count": 49
    }
   ],
   "source": [
    "score_fmow_with_mosaic.get_runs()"
   ]
  },
  {
   "cell_type": "code",
   "execution_count": null,
   "metadata": {},
   "outputs": [],
   "source": []
  }
 ]
}