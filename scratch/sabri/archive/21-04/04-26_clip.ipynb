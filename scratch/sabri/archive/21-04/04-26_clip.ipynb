{
 "metadata": {
  "language_info": {
   "codemirror_mode": {
    "name": "ipython",
    "version": 3
   },
   "file_extension": ".py",
   "mimetype": "text/x-python",
   "name": "python",
   "nbconvert_exporter": "python",
   "pygments_lexer": "ipython3",
   "version": "3.8.8"
  },
  "orig_nbformat": 2,
  "kernelspec": {
   "name": "python388jvsc74a57bd06d7bd4c6039f156d838f2caf01fbd8d7d51ef546e5fb1f60e559c6bdf3c7cc94",
   "display_name": "Python 3.8.8 64-bit ('rg-sabri')"
  },
  "metadata": {
   "interpreter": {
    "hash": "6d7bd4c6039f156d838f2caf01fbd8d7d51ef546e5fb1f60e559c6bdf3c7cc94"
   }
  }
 },
 "nbformat": 4,
 "nbformat_minor": 2,
 "cells": [
  {
   "cell_type": "code",
   "execution_count": 1,
   "metadata": {},
   "outputs": [],
   "source": [
    "%load_ext autoreload\n",
    "%autoreload 2}\n",
    "import os\n",
    "os.environ[\"TERRA_CONFIG_PATH\"] = \"/home/sabri/code/spr-21/terra_config.json\""
   ]
  },
  {
   "cell_type": "code",
   "execution_count": 2,
   "metadata": {},
   "outputs": [],
   "source": [
    "import pandas as pd\n",
    "import torch\n",
    "import numpy as np\n",
    "import clip\n",
    "import spr.clip\n",
    "import robustnessgym as rg\n",
    "import matplotlib.pyplot as plt"
   ]
  },
  {
   "cell_type": "code",
   "execution_count": 3,
   "metadata": {},
   "outputs": [],
   "source": [
    "from nltk.corpus import words\n",
    "eng_words = words.words()\n",
    "eng_df = pd.DataFrame({\"word\": eng_words})"
   ]
  },
  {
   "cell_type": "code",
   "execution_count": 19,
   "metadata": {},
   "outputs": [
    {
     "output_type": "execute_result",
     "data": {
      "text/plain": [
       "True"
      ]
     },
     "metadata": {},
     "execution_count": 19
    }
   ],
   "source": [
    "(eng_df.word == \"alodian\").any()"
   ]
  },
  {
   "cell_type": "code",
   "execution_count": 20,
   "metadata": {},
   "outputs": [
    {
     "output_type": "stream",
     "name": "stderr",
     "text": [
      "[2021-04-27 14:31:29,188][WARNING][pip._internal.operations.freeze:72] :: Could not generate requirement for distribution -illow 8.2.0 (/home/common/envs/conda/envs/rg-sabri/lib/python3.8/site-packages): Parse error at \"'-illow=='\": Expected W:(abcd...)\n",
      "task: get_wiki_words, run_id=188\n"
     ]
    }
   ],
   "source": [
    "from spr.clip import get_wiki_words\n",
    "words_df = get_wiki_words(top_k=1e4, eng_only=True).load()"
   ]
  },
  {
   "cell_type": "code",
   "execution_count": 23,
   "metadata": {},
   "outputs": [
    {
     "output_type": "execute_result",
     "data": {
      "text/plain": [
       "True"
      ]
     },
     "metadata": {},
     "execution_count": 23
    }
   ],
   "source": [
    "from spr.clip import get_wiki_words\n",
    "words_df = get_wiki_words.out().load()\n",
    "(words_df.word == \"\").any()"
   ]
  },
  {
   "cell_type": "code",
   "execution_count": 7,
   "metadata": {},
   "outputs": [
    {
     "output_type": "execute_result",
     "data": {
      "text/plain": [
       "    id    module           fn  \\\n",
       "0  189  spr.clip  embed_words   \n",
       "1  186  spr.clip  embed_words   \n",
       "2  184  spr.clip  embed_words   \n",
       "3  167  spr.clip  embed_words   \n",
       "4  164  spr.clip  embed_words   \n",
       "5  163  spr.clip  embed_words   \n",
       "\n",
       "                                             run_dir   status  notebook  \\\n",
       "0  /home/sabri/terra/slice/tasks/clip/embed_words...  success     False   \n",
       "1  /home/sabri/terra/slice/tasks/clip/embed_words...  success     False   \n",
       "2  /home/sabri/terra/slice/tasks/clip/embed_words...  success     False   \n",
       "3  /home/sabri/terra/slice/tasks/clip/embed_words...  success     False   \n",
       "4  /home/sabri/terra/slice/tasks/clip/embed_words...  success     False   \n",
       "5  /home/sabri/terra/slice/tasks/clip/embed_words...  failure     False   \n",
       "\n",
       "                  start_time                   end_time   hostname  \\\n",
       "0 2021-04-27 14:32:01.747755 2021-04-27 14:32:15.369195  pod-sabri   \n",
       "1 2021-04-27 14:18:42.721238 2021-04-27 14:20:14.387385  pod-sabri   \n",
       "2 2021-04-27 14:06:43.882678 2021-04-27 14:08:25.668092  pod-sabri   \n",
       "3 2021-04-27 04:32:09.149713 2021-04-27 04:33:50.672858  pod-sabri   \n",
       "4 2021-04-27 04:17:13.275109 2021-04-27 04:18:55.766138  pod-sabri   \n",
       "5 2021-04-27 04:16:59.783347 2021-04-27 04:17:00.919117  pod-sabri   \n",
       "\n",
       "                                      python_version  \\\n",
       "0  3.8.8 (default, Apr 13 2021, 19:58:26) \\n[GCC ...   \n",
       "1  3.8.8 (default, Apr 13 2021, 19:58:26) \\n[GCC ...   \n",
       "2  3.8.8 (default, Apr 13 2021, 19:58:26) \\n[GCC ...   \n",
       "3  3.8.8 (default, Apr 13 2021, 19:58:26) \\n[GCC ...   \n",
       "4  3.8.8 (default, Apr 13 2021, 19:58:26) \\n[GCC ...   \n",
       "5  3.8.8 (default, Apr 13 2021, 19:58:26) \\n[GCC ...   \n",
       "\n",
       "                              platform  \\\n",
       "0  Linux-5.4.89+-x86_64-with-glibc2.10   \n",
       "1  Linux-5.4.89+-x86_64-with-glibc2.10   \n",
       "2  Linux-5.4.89+-x86_64-with-glibc2.10   \n",
       "3  Linux-5.4.89+-x86_64-with-glibc2.10   \n",
       "4  Linux-5.4.89+-x86_64-with-glibc2.10   \n",
       "5  Linux-5.4.89+-x86_64-with-glibc2.10   \n",
       "\n",
       "                                 git_commit  git_dirty slurm_job_id  \n",
       "0  a6c8ad70714c8f58e5a4361d8fa4b512e27d9040       True         None  \n",
       "1  a6c8ad70714c8f58e5a4361d8fa4b512e27d9040       True         None  \n",
       "2  a6c8ad70714c8f58e5a4361d8fa4b512e27d9040       True         None  \n",
       "3  a6c8ad70714c8f58e5a4361d8fa4b512e27d9040       True         None  \n",
       "4  a6c8ad70714c8f58e5a4361d8fa4b512e27d9040       True         None  \n",
       "5  a6c8ad70714c8f58e5a4361d8fa4b512e27d9040       True         None  "
      ],
      "text/html": "<div>\n<style scoped>\n    .dataframe tbody tr th:only-of-type {\n        vertical-align: middle;\n    }\n\n    .dataframe tbody tr th {\n        vertical-align: top;\n    }\n\n    .dataframe thead th {\n        text-align: right;\n    }\n</style>\n<table border=\"1\" class=\"dataframe\">\n  <thead>\n    <tr style=\"text-align: right;\">\n      <th></th>\n      <th>id</th>\n      <th>module</th>\n      <th>fn</th>\n      <th>run_dir</th>\n      <th>status</th>\n      <th>notebook</th>\n      <th>start_time</th>\n      <th>end_time</th>\n      <th>hostname</th>\n      <th>python_version</th>\n      <th>platform</th>\n      <th>git_commit</th>\n      <th>git_dirty</th>\n      <th>slurm_job_id</th>\n    </tr>\n  </thead>\n  <tbody>\n    <tr>\n      <th>0</th>\n      <td>189</td>\n      <td>spr.clip</td>\n      <td>embed_words</td>\n      <td>/home/sabri/terra/slice/tasks/clip/embed_words...</td>\n      <td>success</td>\n      <td>False</td>\n      <td>2021-04-27 14:32:01.747755</td>\n      <td>2021-04-27 14:32:15.369195</td>\n      <td>pod-sabri</td>\n      <td>3.8.8 (default, Apr 13 2021, 19:58:26) \\n[GCC ...</td>\n      <td>Linux-5.4.89+-x86_64-with-glibc2.10</td>\n      <td>a6c8ad70714c8f58e5a4361d8fa4b512e27d9040</td>\n      <td>True</td>\n      <td>None</td>\n    </tr>\n    <tr>\n      <th>1</th>\n      <td>186</td>\n      <td>spr.clip</td>\n      <td>embed_words</td>\n      <td>/home/sabri/terra/slice/tasks/clip/embed_words...</td>\n      <td>success</td>\n      <td>False</td>\n      <td>2021-04-27 14:18:42.721238</td>\n      <td>2021-04-27 14:20:14.387385</td>\n      <td>pod-sabri</td>\n      <td>3.8.8 (default, Apr 13 2021, 19:58:26) \\n[GCC ...</td>\n      <td>Linux-5.4.89+-x86_64-with-glibc2.10</td>\n      <td>a6c8ad70714c8f58e5a4361d8fa4b512e27d9040</td>\n      <td>True</td>\n      <td>None</td>\n    </tr>\n    <tr>\n      <th>2</th>\n      <td>184</td>\n      <td>spr.clip</td>\n      <td>embed_words</td>\n      <td>/home/sabri/terra/slice/tasks/clip/embed_words...</td>\n      <td>success</td>\n      <td>False</td>\n      <td>2021-04-27 14:06:43.882678</td>\n      <td>2021-04-27 14:08:25.668092</td>\n      <td>pod-sabri</td>\n      <td>3.8.8 (default, Apr 13 2021, 19:58:26) \\n[GCC ...</td>\n      <td>Linux-5.4.89+-x86_64-with-glibc2.10</td>\n      <td>a6c8ad70714c8f58e5a4361d8fa4b512e27d9040</td>\n      <td>True</td>\n      <td>None</td>\n    </tr>\n    <tr>\n      <th>3</th>\n      <td>167</td>\n      <td>spr.clip</td>\n      <td>embed_words</td>\n      <td>/home/sabri/terra/slice/tasks/clip/embed_words...</td>\n      <td>success</td>\n      <td>False</td>\n      <td>2021-04-27 04:32:09.149713</td>\n      <td>2021-04-27 04:33:50.672858</td>\n      <td>pod-sabri</td>\n      <td>3.8.8 (default, Apr 13 2021, 19:58:26) \\n[GCC ...</td>\n      <td>Linux-5.4.89+-x86_64-with-glibc2.10</td>\n      <td>a6c8ad70714c8f58e5a4361d8fa4b512e27d9040</td>\n      <td>True</td>\n      <td>None</td>\n    </tr>\n    <tr>\n      <th>4</th>\n      <td>164</td>\n      <td>spr.clip</td>\n      <td>embed_words</td>\n      <td>/home/sabri/terra/slice/tasks/clip/embed_words...</td>\n      <td>success</td>\n      <td>False</td>\n      <td>2021-04-27 04:17:13.275109</td>\n      <td>2021-04-27 04:18:55.766138</td>\n      <td>pod-sabri</td>\n      <td>3.8.8 (default, Apr 13 2021, 19:58:26) \\n[GCC ...</td>\n      <td>Linux-5.4.89+-x86_64-with-glibc2.10</td>\n      <td>a6c8ad70714c8f58e5a4361d8fa4b512e27d9040</td>\n      <td>True</td>\n      <td>None</td>\n    </tr>\n    <tr>\n      <th>5</th>\n      <td>163</td>\n      <td>spr.clip</td>\n      <td>embed_words</td>\n      <td>/home/sabri/terra/slice/tasks/clip/embed_words...</td>\n      <td>failure</td>\n      <td>False</td>\n      <td>2021-04-27 04:16:59.783347</td>\n      <td>2021-04-27 04:17:00.919117</td>\n      <td>pod-sabri</td>\n      <td>3.8.8 (default, Apr 13 2021, 19:58:26) \\n[GCC ...</td>\n      <td>Linux-5.4.89+-x86_64-with-glibc2.10</td>\n      <td>a6c8ad70714c8f58e5a4361d8fa4b512e27d9040</td>\n      <td>True</td>\n      <td>None</td>\n    </tr>\n  </tbody>\n</table>\n</div>"
     },
     "metadata": {},
     "execution_count": 7
    }
   ],
   "source": [
    "spr.clip.embed_words.get_runs()"
   ]
  },
  {
   "cell_type": "code",
   "execution_count": 19,
   "metadata": {},
   "outputs": [
    {
     "output_type": "stream",
     "name": "stdout",
     "text": [
      "computing cosine similarity...\n"
     ]
    },
    {
     "output_type": "execute_result",
     "data": {
      "text/plain": [
       "          attribute  rank  descending         r        term\n",
       "0  wearing_lipstick     0        True  0.249194      accent\n",
       "1  wearing_lipstick     1        True  0.234861     actress\n",
       "2  wearing_lipstick     2        True  0.234157     popular\n",
       "3  wearing_lipstick     3        True  0.224582     variety\n",
       "4  wearing_lipstick     4        True  0.221151         did\n",
       "0  wearing_lipstick     0       False -0.329556     marking\n",
       "1  wearing_lipstick     1       False -0.322969    decisive\n",
       "2  wearing_lipstick     2       False -0.313752  divisional\n",
       "3  wearing_lipstick     3       False -0.293519   disagreed\n",
       "4  wearing_lipstick     4       False -0.293179      status"
      ],
      "text/html": "<div>\n<style scoped>\n    .dataframe tbody tr th:only-of-type {\n        vertical-align: middle;\n    }\n\n    .dataframe tbody tr th {\n        vertical-align: top;\n    }\n\n    .dataframe thead th {\n        text-align: right;\n    }\n</style>\n<table border=\"1\" class=\"dataframe\">\n  <thead>\n    <tr style=\"text-align: right;\">\n      <th></th>\n      <th>attribute</th>\n      <th>rank</th>\n      <th>descending</th>\n      <th>r</th>\n      <th>term</th>\n    </tr>\n  </thead>\n  <tbody>\n    <tr>\n      <th>0</th>\n      <td>wearing_lipstick</td>\n      <td>0</td>\n      <td>True</td>\n      <td>0.249194</td>\n      <td>accent</td>\n    </tr>\n    <tr>\n      <th>1</th>\n      <td>wearing_lipstick</td>\n      <td>1</td>\n      <td>True</td>\n      <td>0.234861</td>\n      <td>actress</td>\n    </tr>\n    <tr>\n      <th>2</th>\n      <td>wearing_lipstick</td>\n      <td>2</td>\n      <td>True</td>\n      <td>0.234157</td>\n      <td>popular</td>\n    </tr>\n    <tr>\n      <th>3</th>\n      <td>wearing_lipstick</td>\n      <td>3</td>\n      <td>True</td>\n      <td>0.224582</td>\n      <td>variety</td>\n    </tr>\n    <tr>\n      <th>4</th>\n      <td>wearing_lipstick</td>\n      <td>4</td>\n      <td>True</td>\n      <td>0.221151</td>\n      <td>did</td>\n    </tr>\n    <tr>\n      <th>0</th>\n      <td>wearing_lipstick</td>\n      <td>0</td>\n      <td>False</td>\n      <td>-0.329556</td>\n      <td>marking</td>\n    </tr>\n    <tr>\n      <th>1</th>\n      <td>wearing_lipstick</td>\n      <td>1</td>\n      <td>False</td>\n      <td>-0.322969</td>\n      <td>decisive</td>\n    </tr>\n    <tr>\n      <th>2</th>\n      <td>wearing_lipstick</td>\n      <td>2</td>\n      <td>False</td>\n      <td>-0.313752</td>\n      <td>divisional</td>\n    </tr>\n    <tr>\n      <th>3</th>\n      <td>wearing_lipstick</td>\n      <td>3</td>\n      <td>False</td>\n      <td>-0.293519</td>\n      <td>disagreed</td>\n    </tr>\n    <tr>\n      <th>4</th>\n      <td>wearing_lipstick</td>\n      <td>4</td>\n      <td>False</td>\n      <td>-0.293179</td>\n      <td>status</td>\n    </tr>\n  </tbody>\n</table>\n</div>"
     },
     "metadata": {},
     "execution_count": 19
    }
   ],
   "source": [
    "from spr.data.celeb import ATTRIBUTES, build_celeb_df\n",
    "from spr.clip import find_explanatory_words\n",
    "\n",
    "data_df = build_celeb_df.out(141).load()\n",
    "text_embs, idx_to_word = spr.clip.embed_words.out(189, load=True)\n",
    "img_embs, idx_to_img_id = spr.clip.embed_images.out(178, load=True)\n",
    "\n",
    "df = find_explanatory_words(\n",
    "    data_df=data_df,\n",
    "    target_column=\"wearing_lipstick\", \n",
    "    condition_value=0,\n",
    "    condition_column=\"male\", \n",
    "    text_embs=text_embs, \n",
    "    idx_to_word=idx_to_word, \n",
    "    img_embs=img_embs, \n",
    "    idx_to_img_id=idx_to_img_id,\n",
    "    top_k=5\n",
    ")\n",
    "df"
   ]
  },
  {
   "cell_type": "code",
   "execution_count": 24,
   "metadata": {},
   "outputs": [
    {
     "output_type": "stream",
     "name": "stderr",
     "text": [
      "[2021-04-27 14:32:02,338][WARNING][pip._internal.operations.freeze:72] :: Could not generate requirement for distribution -illow 8.2.0 (/home/common/envs/conda/envs/rg-sabri/lib/python3.8/site-packages): Parse error at \"'-illow=='\": Expected W:(abcd...)\n",
      "task: embed_words, run_id=189\n"
     ]
    },
    {
     "output_type": "display_data",
     "data": {
      "text/plain": "HBox(children=(FloatProgress(value=0.0, max=40.0), HTML(value='')))",
      "application/vnd.jupyter.widget-view+json": {
       "version_major": 2,
       "version_minor": 0,
       "model_id": "b3ef58ff08514405905e8d7a53efe475"
      }
     },
     "metadata": {}
    },
    {
     "output_type": "stream",
     "name": "stdout",
     "text": [
      "\n"
     ]
    }
   ],
   "source": [
    "embs, idx_to_word = spr.clip.embed_words(\n",
    "    df=spr.clip.get_wiki_words.out(188), \n",
    "    batch_size=256, \n",
    "    model=\"/home/common/models/clip/ViT-B-32.pt\", \n",
    "    top_k=100000\n",
    ")"
   ]
  },
  {
   "cell_type": "code",
   "execution_count": 6,
   "metadata": {},
   "outputs": [],
   "source": [
    "text_embs, idx_to_word = spr.clip.embed_words.out(167, load=True)"
   ]
  },
  {
   "cell_type": "code",
   "execution_count": 8,
   "metadata": {},
   "outputs": [],
   "source": [
    "text_embs, idx_to_word = spr.clip.embed_images.out(168, load=True)"
   ]
  },
  {
   "cell_type": "code",
   "execution_count": 4,
   "metadata": {},
   "outputs": [],
   "source": [
    "model, preprocess = clip.load(\n",
    "    \"/afs/cs.stanford.edu/u/sabrieyuboglu/data/models/clip/ViT-B-32.pt\", device=torch.device(0), jit=False\n",
    ")"
   ]
  },
  {
   "cell_type": "code",
   "execution_count": 75,
   "metadata": {},
   "outputs": [],
   "source": [
    "from spr.data.celeb import build_celeb_df, celeb_transform\n",
    "import torchvision.transforms as transforms\n",
    "\n",
    "#transform = transforms.Compose([transforms.Lambda(lambda x: x.permute(2, 0, 1)), transforms.ToPILImage(), preprocess])\n",
    "transform = transforms.Compose([celeb_transform, transforms.Lambda(lambda x: x.to(torch.uint8)), transforms.ToPILImage(), preprocess])\n",
    "#transform = lambda x: x\n",
    "df = build_celeb_df.out(29).load()\n",
    "dataset = rg.Dataset.load_image_dataset(\n",
    "    df[df.split == \"valid\"].to_dict(\"records\"), \n",
    "    img_columns=\"img_path\",\n",
    "    transform=transform\n",
    ")"
   ]
  },
  {
   "cell_type": "code",
   "execution_count": 62,
   "metadata": {},
   "outputs": [
    {
     "output_type": "stream",
     "name": "stdout",
     "text": [
      "Files already downloaded and verified\n"
     ]
    }
   ],
   "source": [
    "from torchvision.datasets import CIFAR100\n",
    "cifar100 = CIFAR100(root=os.path.expanduser(\"~/data/datasets\"), download=True, train=False)"
   ]
  },
  {
   "cell_type": "code",
   "execution_count": 76,
   "metadata": {},
   "outputs": [],
   "source": [
    "from PIL import Image\n",
    "#image = Image.open(df.iloc[250][\"img_path\"])\n",
    "#image, class_id = cifar100[3637]\n",
    "#image_input = preprocess(image).unsqueeze(0).to(0)\n",
    "image_input = dataset[0][\"img_path\"].unsqueeze(0).to(0)\n",
    "img_emb = model.encode_image(image_input)"
   ]
  },
  {
   "cell_type": "code",
   "execution_count": 77,
   "metadata": {},
   "outputs": [],
   "source": [
    "text_embs = embs.load()\n",
    "img_emb, text_embs = img_emb.to(0), text_embs[:10000].to(0)\n",
    "img_emb /= img_emb.norm(dim=-1, keepdim=True)\n",
    "text_embs /= text_embs.norm(dim=-1, keepdim=True)\n",
    "similarity = (100.0 * img_emb @ text_embs.T).softmax(dim=-1)"
   ]
  },
  {
   "cell_type": "code",
   "execution_count": 78,
   "metadata": {},
   "outputs": [
    {
     "output_type": "stream",
     "name": "stdout",
     "text": [
      "a photo of actress: 0.0183868408203125\na photo of judy: 0.015716552734375\na photo of miranda: 0.01409149169921875\na photo of karen: 0.0106353759765625\na photo of lindsay: 0.00910186767578125\na photo of di: 0.00841522216796875\na photo of shannon: 0.0082855224609375\na photo of nicole: 0.0082855224609375\na photo of parks: 0.00803375244140625\na photo of tina: 0.007781982421875\na photo of sara: 0.00708770751953125\na photo of julie: 0.006977081298828125\na photo of amanda: 0.006351470947265625\na photo of jackie: 0.006256103515625\na photo of emma: 0.00615692138671875\na photo of contestant: 0.0059661865234375\na photo of sarah: 0.005695343017578125\na photo of barbara: 0.00560760498046875\na photo of anna: 0.005268096923828125\na photo of sharon: 0.005184173583984375\n"
     ]
    }
   ],
   "source": [
    "vals, idxs = similarity[0].topk(20)\n",
    "for val, idx in zip(list(vals), list(idxs)):\n",
    "    print(f\"{idx_to_word[idx]}: {val}\")"
   ]
  },
  {
   "cell_type": "code",
   "execution_count": 3,
   "metadata": {},
   "outputs": [
    {
     "output_type": "stream",
     "name": "stderr",
     "text": [
      "[2021-04-27 13:51:48,272][WARNING][pip._internal.operations.freeze:72] :: Could not generate requirement for distribution -illow 8.2.0 (/home/common/envs/conda/envs/rg-sabri/lib/python3.8/site-packages): Parse error at \"'-illow=='\": Expected W:(abcd...)\n",
      "task: embed_images, run_id=178\n"
     ]
    },
    {
     "output_type": "display_data",
     "data": {
      "text/plain": "HBox(children=(FloatProgress(value=0.0, max=39.0), HTML(value='')))",
      "application/vnd.jupyter.widget-view+json": {
       "version_major": 2,
       "version_minor": 0,
       "model_id": "c274b4b4d5ab4d8d86843cc14cf382b0"
      }
     },
     "metadata": {}
    },
    {
     "output_type": "stream",
     "name": "stdout",
     "text": [
      "\n"
     ]
    }
   ],
   "source": [
    "from spr.data.celeb import celeb_task_config, build_celeb_df\n",
    "import imp\n",
    "imp.reload(spr.clip)\n",
    "out = spr.clip.embed_images(\n",
    "    data_df=build_celeb_df.out(141),\n",
    "    model=\"/home/common/models/clip/ViT-B-32.pt\", \n",
    "    **celeb_task_config\n",
    ")"
   ]
  },
  {
   "cell_type": "code",
   "execution_count": 15,
   "metadata": {},
   "outputs": [],
   "source": [
    "import spr.clip\n",
    "from spr.vision import compute_bss\n",
    "text_embs, idx_to_word = spr.clip.embed_words.out(164)\n",
    "img_embs, idx_to_img_id = spr.clip.embed_images.out(165)\n",
    "#components, outs, targets = compute_bss.out(run_id=271, load=True)"
   ]
  },
  {
   "cell_type": "code",
   "execution_count": 16,
   "metadata": {},
   "outputs": [
    {
     "output_type": "error",
     "ename": "RuntimeError",
     "evalue": "Overflow when unpacking long",
     "traceback": [
      "\u001b[0;31m---------------------------------------------------------------------------\u001b[0m",
      "\u001b[0;31mRuntimeError\u001b[0m                              Traceback (most recent call last)",
      "\u001b[0;32m<ipython-input-16-f3bbfc4032ce>\u001b[0m in \u001b[0;36m<module>\u001b[0;34m\u001b[0m\n\u001b[1;32m      1\u001b[0m \u001b[0;32mimport\u001b[0m \u001b[0mtorch\u001b[0m\u001b[0;34m\u001b[0m\u001b[0;34m\u001b[0m\u001b[0m\n\u001b[0;32m----> 2\u001b[0;31m \u001b[0mtorch\u001b[0m\u001b[0;34m.\u001b[0m\u001b[0mload\u001b[0m\u001b[0;34m(\u001b[0m\u001b[0mtext_embs\u001b[0m\u001b[0;34m.\u001b[0m\u001b[0m_get_path\u001b[0m\u001b[0;34m(\u001b[0m\u001b[0;34m)\u001b[0m\u001b[0;34m,\u001b[0m \u001b[0mmap_location\u001b[0m\u001b[0;34m=\u001b[0m\u001b[0;34m\"cpu\"\u001b[0m\u001b[0;34m)\u001b[0m\u001b[0;34m\u001b[0m\u001b[0;34m\u001b[0m\u001b[0m\n\u001b[0m",
      "\u001b[0;32m/home/common/envs/conda/envs/rg-sabri/lib/python3.8/site-packages/torch/serialization.py\u001b[0m in \u001b[0;36mload\u001b[0;34m(f, map_location, pickle_module, **pickle_load_args)\u001b[0m\n\u001b[1;32m    593\u001b[0m                     \u001b[0;32mreturn\u001b[0m \u001b[0mtorch\u001b[0m\u001b[0;34m.\u001b[0m\u001b[0mjit\u001b[0m\u001b[0;34m.\u001b[0m\u001b[0mload\u001b[0m\u001b[0;34m(\u001b[0m\u001b[0mopened_file\u001b[0m\u001b[0;34m)\u001b[0m\u001b[0;34m\u001b[0m\u001b[0;34m\u001b[0m\u001b[0m\n\u001b[1;32m    594\u001b[0m                 \u001b[0;32mreturn\u001b[0m \u001b[0m_load\u001b[0m\u001b[0;34m(\u001b[0m\u001b[0mopened_zipfile\u001b[0m\u001b[0;34m,\u001b[0m \u001b[0mmap_location\u001b[0m\u001b[0;34m,\u001b[0m \u001b[0mpickle_module\u001b[0m\u001b[0;34m,\u001b[0m \u001b[0;34m**\u001b[0m\u001b[0mpickle_load_args\u001b[0m\u001b[0;34m)\u001b[0m\u001b[0;34m\u001b[0m\u001b[0;34m\u001b[0m\u001b[0m\n\u001b[0;32m--> 595\u001b[0;31m         \u001b[0;32mreturn\u001b[0m \u001b[0m_legacy_load\u001b[0m\u001b[0;34m(\u001b[0m\u001b[0mopened_file\u001b[0m\u001b[0;34m,\u001b[0m \u001b[0mmap_location\u001b[0m\u001b[0;34m,\u001b[0m \u001b[0mpickle_module\u001b[0m\u001b[0;34m,\u001b[0m \u001b[0;34m**\u001b[0m\u001b[0mpickle_load_args\u001b[0m\u001b[0;34m)\u001b[0m\u001b[0;34m\u001b[0m\u001b[0;34m\u001b[0m\u001b[0m\n\u001b[0m\u001b[1;32m    596\u001b[0m \u001b[0;34m\u001b[0m\u001b[0m\n\u001b[1;32m    597\u001b[0m \u001b[0;34m\u001b[0m\u001b[0m\n",
      "\u001b[0;32m/home/common/envs/conda/envs/rg-sabri/lib/python3.8/site-packages/torch/serialization.py\u001b[0m in \u001b[0;36m_legacy_load\u001b[0;34m(f, map_location, pickle_module, **pickle_load_args)\u001b[0m\n\u001b[1;32m    763\u001b[0m \u001b[0;34m\u001b[0m\u001b[0m\n\u001b[1;32m    764\u001b[0m     \u001b[0mmagic_number\u001b[0m \u001b[0;34m=\u001b[0m \u001b[0mpickle_module\u001b[0m\u001b[0;34m.\u001b[0m\u001b[0mload\u001b[0m\u001b[0;34m(\u001b[0m\u001b[0mf\u001b[0m\u001b[0;34m,\u001b[0m \u001b[0;34m**\u001b[0m\u001b[0mpickle_load_args\u001b[0m\u001b[0;34m)\u001b[0m\u001b[0;34m\u001b[0m\u001b[0;34m\u001b[0m\u001b[0m\n\u001b[0;32m--> 765\u001b[0;31m     \u001b[0;32mif\u001b[0m \u001b[0mmagic_number\u001b[0m \u001b[0;34m!=\u001b[0m \u001b[0mMAGIC_NUMBER\u001b[0m\u001b[0;34m:\u001b[0m\u001b[0;34m\u001b[0m\u001b[0;34m\u001b[0m\u001b[0m\n\u001b[0m\u001b[1;32m    766\u001b[0m         \u001b[0;32mraise\u001b[0m \u001b[0mRuntimeError\u001b[0m\u001b[0;34m(\u001b[0m\u001b[0;34m\"Invalid magic number; corrupt file?\"\u001b[0m\u001b[0;34m)\u001b[0m\u001b[0;34m\u001b[0m\u001b[0;34m\u001b[0m\u001b[0m\n\u001b[1;32m    767\u001b[0m     \u001b[0mprotocol_version\u001b[0m \u001b[0;34m=\u001b[0m \u001b[0mpickle_module\u001b[0m\u001b[0;34m.\u001b[0m\u001b[0mload\u001b[0m\u001b[0;34m(\u001b[0m\u001b[0mf\u001b[0m\u001b[0;34m,\u001b[0m \u001b[0;34m**\u001b[0m\u001b[0mpickle_load_args\u001b[0m\u001b[0;34m)\u001b[0m\u001b[0;34m\u001b[0m\u001b[0;34m\u001b[0m\u001b[0m\n",
      "\u001b[0;32m/home/common/envs/conda/envs/rg-sabri/lib/python3.8/site-packages/torch/tensor.py\u001b[0m in \u001b[0;36mwrapped\u001b[0;34m(*args, **kwargs)\u001b[0m\n\u001b[1;32m     25\u001b[0m             \u001b[0;32mreturn\u001b[0m \u001b[0mhandle_torch_function\u001b[0m\u001b[0;34m(\u001b[0m\u001b[0mwrapped\u001b[0m\u001b[0;34m,\u001b[0m \u001b[0margs\u001b[0m\u001b[0;34m,\u001b[0m \u001b[0;34m*\u001b[0m\u001b[0margs\u001b[0m\u001b[0;34m,\u001b[0m \u001b[0;34m**\u001b[0m\u001b[0mkwargs\u001b[0m\u001b[0;34m)\u001b[0m\u001b[0;34m\u001b[0m\u001b[0;34m\u001b[0m\u001b[0m\n\u001b[1;32m     26\u001b[0m         \u001b[0;32mtry\u001b[0m\u001b[0;34m:\u001b[0m\u001b[0;34m\u001b[0m\u001b[0;34m\u001b[0m\u001b[0m\n\u001b[0;32m---> 27\u001b[0;31m             \u001b[0;32mreturn\u001b[0m \u001b[0mf\u001b[0m\u001b[0;34m(\u001b[0m\u001b[0;34m*\u001b[0m\u001b[0margs\u001b[0m\u001b[0;34m,\u001b[0m \u001b[0;34m**\u001b[0m\u001b[0mkwargs\u001b[0m\u001b[0;34m)\u001b[0m\u001b[0;34m\u001b[0m\u001b[0;34m\u001b[0m\u001b[0m\n\u001b[0m\u001b[1;32m     28\u001b[0m         \u001b[0;32mexcept\u001b[0m \u001b[0mTypeError\u001b[0m\u001b[0;34m:\u001b[0m\u001b[0;34m\u001b[0m\u001b[0;34m\u001b[0m\u001b[0m\n\u001b[1;32m     29\u001b[0m             \u001b[0;32mreturn\u001b[0m \u001b[0mNotImplemented\u001b[0m\u001b[0;34m\u001b[0m\u001b[0;34m\u001b[0m\u001b[0m\n",
      "\u001b[0;31mRuntimeError\u001b[0m: Overflow when unpacking long"
     ]
    }
   ],
   "source": [
    "import torch\n",
    "torch.load(text_embs._get_path(), map_location=\"cpu\")"
   ]
  },
  {
   "cell_type": "code",
   "execution_count": 258,
   "metadata": {},
   "outputs": [
    {
     "output_type": "stream",
     "name": "stdout",
     "text": [
      "computing...\n"
     ]
    }
   ],
   "source": [
    "img_embs_norm = img_embs / img_embs.norm(dim=-1, keepdim=True)\n",
    "text_embs_norm = text_embs / text_embs.norm(dim=-1, keepdim=True)\n",
    "print('computing...')\n",
    "similarity = (100.0 * img_embs_norm.to(0) @ text_embs_norm.T.to(0)).softmax(dim=-1).cpu()"
   ]
  },
  {
   "cell_type": "code",
   "execution_count": 262,
   "metadata": {},
   "outputs": [
    {
     "output_type": "execute_result",
     "data": {
      "text/plain": [
       "tensor([8.4639e-06, 3.6240e-05, 5.3048e-06,  ..., 2.3842e-07, 3.1590e-06,\n",
       "        5.9605e-08], dtype=torch.float16)"
      ]
     },
     "metadata": {},
     "execution_count": 262
    }
   ],
   "source": [
    "similarity[0]"
   ]
  },
  {
   "cell_type": "code",
   "execution_count": 263,
   "metadata": {},
   "outputs": [
    {
     "output_type": "stream",
     "name": "stdout",
     "text": [
      "a photo of janya: 0.05877685546875\na photo of fonteyn: 0.045074462890625\na photo of ellis-bextor: 0.0281982421875\na photo of delenn: 0.0176544189453125\na photo of urvashi: 0.0135345458984375\na photo of poehler: 0.00873565673828125\na photo of luan: 0.00701904296875\na photo of nyssa: 0.005641937255859375\na photo of emilie: 0.005466461181640625\na photo of geet: 0.004604339599609375\na photo of daya: 0.002971649169921875\na photo of debby: 0.0027065277099609375\na photo of mandrell: 0.002315521240234375\na photo of aga: 0.00217437744140625\na photo of tatjana: 0.0020751953125\na photo of cardinale: 0.001949310302734375\na photo of oksana: 0.0018892288208007812\na photo of natalie: 0.0018024444580078125\na photo of kelso: 0.001667022705078125\na photo of julianne: 0.0015659332275390625\n"
     ]
    }
   ],
   "source": [
    "vals, idxs = similarity[0].to(0).topk(20)\n",
    "for val, idx in zip(list(vals), list(idxs)):\n",
    "    print(f\"{idx_to_word[idx]}: {val}\")"
   ]
  },
  {
   "cell_type": "code",
   "execution_count": 129,
   "metadata": {},
   "outputs": [],
   "source": [
    "from spr.data.celeb import build_celeb_df, celeb_transform\n",
    "data_df = build_celeb_df.out(29).load()\n",
    "male_labels = data_df.merge(pd.DataFrame({\"file\": idx_to_img_id}), on=\"file\", how=\"right\").male"
   ]
  },
  {
   "cell_type": "code",
   "execution_count": 63,
   "metadata": {},
   "outputs": [],
   "source": [
    "y = components.max(dim=1)[0][:, 0].numpy()\n",
    "indices = np.concatenate([y.argsort()[:100], y.argsort()[-100:]])"
   ]
  },
  {
   "cell_type": "code",
   "execution_count": 264,
   "metadata": {},
   "outputs": [],
   "source": [
    "import statsmodels.api as sm\n",
    "y = male_labels #components.max(dim=1)[0][:, 0].numpy()\n",
    "x = similarity.cpu().numpy()\n",
    "mod = sm.OLS(y, sm.add_constant(x[:, [\n",
    "    word_to_idx[\"car\"], word_to_idx[\"house\"], word_to_idx[\"man\"], word_to_idx[\"woman\"]\n",
    "]], prepend=False))\n",
    "res = mod.fit()\n",
    "df = pd.DataFrame(\n",
    "    {\n",
    "        \"pvalue\": res.pvalues,\n",
    "        \"coef\": res.params,\n",
    "        \"coef_idx\": np.arange(len(res.params)),\n",
    "    }\n",
    ")"
   ]
  },
  {
   "cell_type": "code",
   "execution_count": 189,
   "metadata": {},
   "outputs": [
    {
     "output_type": "execute_result",
     "data": {
      "text/plain": [
       "         pvalue        coef  coef_idx\n",
       "x1     0.000076 -754.594721         0\n",
       "x4     0.000000 -179.909968         3\n",
       "x2     0.499644  -12.198507         1\n",
       "const  0.000000    0.406524         4\n",
       "x3     0.000000  497.059400         2"
      ],
      "text/html": "<div>\n<style scoped>\n    .dataframe tbody tr th:only-of-type {\n        vertical-align: middle;\n    }\n\n    .dataframe tbody tr th {\n        vertical-align: top;\n    }\n\n    .dataframe thead th {\n        text-align: right;\n    }\n</style>\n<table border=\"1\" class=\"dataframe\">\n  <thead>\n    <tr style=\"text-align: right;\">\n      <th></th>\n      <th>pvalue</th>\n      <th>coef</th>\n      <th>coef_idx</th>\n    </tr>\n  </thead>\n  <tbody>\n    <tr>\n      <th>x1</th>\n      <td>0.000076</td>\n      <td>-754.594721</td>\n      <td>0</td>\n    </tr>\n    <tr>\n      <th>x4</th>\n      <td>0.000000</td>\n      <td>-179.909968</td>\n      <td>3</td>\n    </tr>\n    <tr>\n      <th>x2</th>\n      <td>0.499644</td>\n      <td>-12.198507</td>\n      <td>1</td>\n    </tr>\n    <tr>\n      <th>const</th>\n      <td>0.000000</td>\n      <td>0.406524</td>\n      <td>4</td>\n    </tr>\n    <tr>\n      <th>x3</th>\n      <td>0.000000</td>\n      <td>497.059400</td>\n      <td>2</td>\n    </tr>\n  </tbody>\n</table>\n</div>"
     },
     "metadata": {},
     "execution_count": 189
    }
   ],
   "source": [
    "df.sort_values(\"coef\")"
   ]
  },
  {
   "cell_type": "code",
   "execution_count": 135,
   "metadata": {},
   "outputs": [
    {
     "output_type": "execute_result",
     "data": {
      "text/plain": [
       "            pvalue       coef  coef_idx\n",
       "x388  2.281399e-09  39.025121       387"
      ],
      "text/html": "<div>\n<style scoped>\n    .dataframe tbody tr th:only-of-type {\n        vertical-align: middle;\n    }\n\n    .dataframe tbody tr th {\n        vertical-align: top;\n    }\n\n    .dataframe thead th {\n        text-align: right;\n    }\n</style>\n<table border=\"1\" class=\"dataframe\">\n  <thead>\n    <tr style=\"text-align: right;\">\n      <th></th>\n      <th>pvalue</th>\n      <th>coef</th>\n      <th>coef_idx</th>\n    </tr>\n  </thead>\n  <tbody>\n    <tr>\n      <th>x388</th>\n      <td>2.281399e-09</td>\n      <td>39.025121</td>\n      <td>387</td>\n    </tr>\n  </tbody>\n</table>\n</div>"
     },
     "metadata": {},
     "execution_count": 135
    }
   ],
   "source": [
    "df[df.coef_idx == word_to_idx[\"man\"]]"
   ]
  },
  {
   "cell_type": "code",
   "execution_count": 136,
   "metadata": {},
   "outputs": [
    {
     "output_type": "execute_result",
     "data": {
      "text/plain": [
       "            pvalue        coef  coef_idx\n",
       "x834  2.348174e-10  148.248955       833"
      ],
      "text/html": "<div>\n<style scoped>\n    .dataframe tbody tr th:only-of-type {\n        vertical-align: middle;\n    }\n\n    .dataframe tbody tr th {\n        vertical-align: top;\n    }\n\n    .dataframe thead th {\n        text-align: right;\n    }\n</style>\n<table border=\"1\" class=\"dataframe\">\n  <thead>\n    <tr style=\"text-align: right;\">\n      <th></th>\n      <th>pvalue</th>\n      <th>coef</th>\n      <th>coef_idx</th>\n    </tr>\n  </thead>\n  <tbody>\n    <tr>\n      <th>x834</th>\n      <td>2.348174e-10</td>\n      <td>148.248955</td>\n      <td>833</td>\n    </tr>\n  </tbody>\n</table>\n</div>"
     },
     "metadata": {},
     "execution_count": 136
    }
   ],
   "source": [
    "df[df.coef_idx == word_to_idx[\"woman\"]]"
   ]
  },
  {
   "cell_type": "code",
   "execution_count": 150,
   "metadata": {},
   "outputs": [
    {
     "output_type": "execute_result",
     "data": {
      "text/plain": [
       "torch.Size([4949, 10000])"
      ]
     },
     "metadata": {},
     "execution_count": 150
    }
   ],
   "source": [
    "similarity.shape"
   ]
  },
  {
   "cell_type": "code",
   "execution_count": 172,
   "metadata": {},
   "outputs": [
    {
     "output_type": "execute_result",
     "data": {
      "text/plain": [
       "0.5595069711052738"
      ]
     },
     "metadata": {},
     "execution_count": 172
    }
   ],
   "source": [
    "(torch.argmax(similarity[:, [word_to_idx[\"arm\"], word_to_idx[\"leg\"]]], dim=-1).cpu().numpy() == y).mean()"
   ]
  },
  {
   "cell_type": "code",
   "execution_count": 171,
   "metadata": {},
   "outputs": [
    {
     "output_type": "execute_result",
     "data": {
      "text/plain": [
       "torch.Size([4949, 2])"
      ]
     },
     "metadata": {},
     "execution_count": 171
    }
   ],
   "source": [
    "similarity[:, [word_to_idx[\"arm\"], word_to_idx[\"leg\"]]].shape"
   ]
  },
  {
   "cell_type": "code",
   "execution_count": 295,
   "metadata": {},
   "outputs": [
    {
     "output_type": "stream",
     "name": "stdout",
     "text": [
      "1. village ($$r=0.21$$)\n2. sen ($$r=0.18$$)\n3. hrs ($$r=0.18$$)\n4. maya ($$r=0.177$$)\n5. stara ($$r=0.175$$)\n6. pavilions ($$r=0.174$$)\n7. townships ($$r=0.172$$)\n8. pavilion ($$r=0.171$$)\n9. website ($$r=0.168$$)\n10. showcased ($$r=0.168$$)\n11. nikita ($$r=0.168$$)\n12. ravine ($$r=0.168$$)\n13. canvas ($$r=0.167$$)\n14. popularly ($$r=0.167$$)\n15. watermill ($$r=0.167$$)\n1. corrado ($$r=-0.237$$)\n2. callus ($$r=-0.219$$)\n3. mandals ($$r=-0.211$$)\n4. trouser ($$r=-0.21$$)\n5. zoologist ($$r=-0.209$$)\n6. skid ($$r=-0.207$$)\n7. planter ($$r=-0.206$$)\n8. leiber ($$r=-0.206$$)\n9. rips ($$r=-0.204$$)\n10. guido ($$r=-0.203$$)\n11. travers ($$r=-0.202$$)\n12. casimir ($$r=-0.2$$)\n13. memo ($$r=-0.199$$)\n14. choate ($$r=-0.199$$)\n15. curt ($$r=-0.199$$)\n"
     ]
    }
   ],
   "source": [
    "y = (components).max(dim=1)[0][:, 2].to(float)\n",
    "#y = torch.tensor(male_labels.values).to(float)\n",
    "indices = torch.tensor(1 - male_labels).to(bool)\n",
    "corr = pearsonr(\n",
    "    torch.tensor(x[indices, :50000]).to(float), y[indices],\n",
    "    batch_first=False\n",
    ")\n",
    "\n",
    "for descending in [True, False]:\n",
    "    sorted_vals, sorted_idxs = corr.squeeze().sort(descending=descending)\n",
    "    top_k = 15\n",
    "    for i, (val, idx) in enumerate(zip(sorted_vals[:top_k], sorted_idxs[:top_k])):\n",
    "        print(f\"{i + 1}. {idx_to_word[idx].split(' ')[-1]} ($$r={val:.3}$$)\")\n"
   ]
  },
  {
   "cell_type": "code",
   "execution_count": 254,
   "metadata": {},
   "outputs": [
    {
     "output_type": "execute_result",
     "data": {
      "text/plain": [
       "tensor([36.3641, 16.7326, 27.8381,  ..., 20.7277, 23.2033, 20.4553])"
      ]
     },
     "metadata": {},
     "execution_count": 254
    }
   ],
   "source": [
    "y[indices]"
   ]
  },
  {
   "cell_type": "code",
   "execution_count": 197,
   "metadata": {},
   "outputs": [
    {
     "output_type": "stream",
     "name": "stdout",
     "text": [
      "(0.7805339144071342, 0.0)\n(-0.7107771793399529, 0.0)\n"
     ]
    }
   ],
   "source": [
    "from scipy.stats import pearsonr\n",
    "for word in [\"man\", \"woman\"]:\n",
    "    r = pearsonr(x[:, word_to_idx[word]], y)\n",
    "    print(r)"
   ]
  },
  {
   "cell_type": "code",
   "execution_count": 217,
   "metadata": {},
   "outputs": [],
   "source": [
    "def pearsonr(x, y, batch_first=True):\n",
    "    r\"\"\"Computes Pearson Correlation Coefficient across rows.\n",
    "    Pearson Correlation Coefficient (also known as Linear Correlation\n",
    "    Coefficient or Pearson's :math:`\\rho`) is computed as:\n",
    "    .. math::\n",
    "        \\rho = \\frac {E[(X-\\mu_X)(Y-\\mu_Y)]} {\\sigma_X\\sigma_Y}\n",
    "    If inputs are matrices, then then we assume that we are given a\n",
    "    mini-batch of sequences, and the correlation coefficient is\n",
    "    computed for each sequence independently and returned as a vector. If\n",
    "    `batch_fist` is `True`, then we assume that every row represents a\n",
    "    sequence in the mini-batch, otherwise we assume that batch information\n",
    "    is in the columns.\n",
    "    Warning:\n",
    "        We do not account for the multi-dimensional case. This function has\n",
    "        been tested only for the 2D case, either in `batch_first==True` or in\n",
    "        `batch_first==False` mode. In the multi-dimensional case,\n",
    "        it is possible that the values returned will be meaningless.\n",
    "    Args:\n",
    "        x (torch.Tensor): input tensor\n",
    "        y (torch.Tensor): target tensor\n",
    "        batch_first (bool, optional): controls if batch dimension is first.\n",
    "            Default: `True`\n",
    "    Returns:\n",
    "        torch.Tensor: correlation coefficient between `x` and `y`\n",
    "    Note:\n",
    "        :math:`\\sigma_X` is computed using **PyTorch** builtin\n",
    "        **Tensor.std()**, which by default uses Bessel correction:\n",
    "        .. math::\n",
    "            \\sigma_X=\\displaystyle\\frac{1}{N-1}\\sum_{i=1}^N({x_i}-\\bar{x})^2\n",
    "        We therefore account for this correction in the computation of the\n",
    "        covariance by multiplying it with :math:`\\frac{1}{N-1}`.\n",
    "    Shape:\n",
    "        - Input: :math:`(N, M)` for correlation between matrices,\n",
    "          or :math:`(M)` for correlation between vectors\n",
    "        - Target: :math:`(N, M)` or :math:`(M)`. Must be identical to input\n",
    "        - Output: :math:`(N, 1)` for correlation between matrices,\n",
    "          or :math:`(1)` for correlation between vectors\n",
    "    Examples:\n",
    "        >>> import torch\n",
    "        >>> _ = torch.manual_seed(0)\n",
    "        >>> input = torch.rand(3, 5)\n",
    "        >>> target = torch.rand(3, 5)\n",
    "        >>> output = pearsonr(input, target)\n",
    "        >>> print('Pearson Correlation between input and target is {0}'.format(output[:, 0]))\n",
    "        Pearson Correlation between input and target is tensor([ 0.2991, -0.8471,  0.9138])\n",
    "    \"\"\"  # noqa: E501\n",
    "\n",
    "    if len(x.shape) - len(y.shape) == 1:\n",
    "        y = y.unsqueeze(-1)\n",
    "\n",
    "    if batch_first:\n",
    "        dim = -1\n",
    "    else:\n",
    "        dim = 0\n",
    "\n",
    "    centered_x = x - x.mean(dim=dim, keepdim=True)\n",
    "    centered_y = y - y.mean(dim=dim, keepdim=True)\n",
    "\n",
    "    covariance = (centered_x * centered_y).sum(dim=dim, keepdim=True)\n",
    "\n",
    "    bessel_corrected_covariance = covariance / (x.shape[dim] - 1)\n",
    "\n",
    "    x_std = x.std(dim=dim, keepdim=True)\n",
    "    y_std = y.std(dim=dim, keepdim=True)\n",
    "\n",
    "    corr = bessel_corrected_covariance / (x_std * y_std)\n",
    "\n",
    "    return corr"
   ]
  },
  {
   "cell_type": "code",
   "execution_count": 209,
   "metadata": {},
   "outputs": [],
   "source": [
    "a, b = torch.tensor(x[:, [word_to_idx[\"man\"], word_to_idx[\"woman\"]]]).to(float), torch.tensor(y).to(float)"
   ]
  },
  {
   "cell_type": "code",
   "execution_count": 216,
   "metadata": {},
   "outputs": [
    {
     "output_type": "execute_result",
     "data": {
      "text/plain": [
       "tensor([[0.0000e+00, 0.0000e+00],\n",
       "        [0.0000e+00, 0.0000e+00],\n",
       "        [1.5564e-03, 1.0967e-05],\n",
       "        ...,\n",
       "        [0.0000e+00, 0.0000e+00],\n",
       "        [0.0000e+00, 0.0000e+00],\n",
       "        [0.0000e+00, 0.0000e+00]], dtype=torch.float64)"
      ]
     },
     "metadata": {},
     "execution_count": 216
    }
   ],
   "source": [
    "a * b.unsqueeze(-1)"
   ]
  },
  {
   "cell_type": "code",
   "execution_count": 212,
   "metadata": {},
   "outputs": [
    {
     "output_type": "execute_result",
     "data": {
      "text/plain": [
       "torch.Size([4949])"
      ]
     },
     "metadata": {},
     "execution_count": 212
    }
   ],
   "source": [
    "b.shape"
   ]
  },
  {
   "cell_type": "code",
   "execution_count": 213,
   "metadata": {},
   "outputs": [
    {
     "output_type": "execute_result",
     "data": {
      "text/plain": [
       "torch.Size([4949, 2])"
      ]
     },
     "metadata": {},
     "execution_count": 213
    }
   ],
   "source": [
    "a.shape"
   ]
  },
  {
   "cell_type": "code",
   "execution_count": 310,
   "metadata": {
    "tags": []
   },
   "outputs": [
    {
     "output_type": "error",
     "ename": "SyntaxError",
     "evalue": "closing parenthesis '}' does not match opening parenthesis '[' on line 23 (<ipython-input-310-572d9083a903>, line 24)",
     "traceback": [
      "\u001b[0;36m  File \u001b[0;32m\"<ipython-input-310-572d9083a903>\"\u001b[0;36m, line \u001b[0;32m24\u001b[0m\n\u001b[0;31m    }))\u001b[0m\n\u001b[0m    ^\u001b[0m\n\u001b[0;31mSyntaxError\u001b[0m\u001b[0;31m:\u001b[0m closing parenthesis '}' does not match opening parenthesis '[' on line 23\n"
     ]
    }
   ],
   "source": [
    "from spr.data.celeb import ATTRIBUTES\n",
    "from spr.data.celeb import build_celeb_df, celeb_transform\n",
    "data_df = build_celeb_df.out(29).load()\n",
    "top_k = 10\n",
    "\n",
    "\n",
    "for attribute in ATTRIBUTES:\n",
    "    y = torch.tensor(data_df.merge(pd.DataFrame({\"file\": idx_to_img_id}), on=\"file\", how=\"right\")[attribute]).to(float)\n",
    "    corr = pearsonr(\n",
    "        torch.tensor(x[:, :50000]).to(float), y,\n",
    "        batch_first=False\n",
    "    )\n",
    "    #print(f\"Terms describing `{attribute}`\")  \n",
    "    dfs = []\n",
    "    for descending in [True, False]:\n",
    "        #print(f\"{'Top' if descending else 'Bottom'} terms\")\n",
    "        sorted_vals, sorted_idxs = corr.squeeze().sort(descending=descending)\n",
    "        dfs.append(pd.DataFrame({\n",
    "            \"attribute\": attribute,\n",
    "            \"rank\": np.arange(top_k),\n",
    "            \"descending\": descending,\n",
    "            \"r\": sorted_vals[:top_k],\n",
    "            \"term\": [idx_to_word[idx] for idx in sorted_idxs[:top_k]]\n",
    "        }))\n",
    "        for i, (val, idx) in enumerate(zip(sorted_vals[:top_k], sorted_idxs[:top_k])):\n",
    "            #print(f\"{i + 1}. {idx_to_word[idx].split(' ')[-1]} ($$r={val:.3}$$)\")\n",
    "            pass\n",
    "    df = pd.concat(dfs)\n",
    "    #print(\"\\n\\n\")\n"
   ]
  },
  {
   "cell_type": "code",
   "execution_count": 309,
   "metadata": {},
   "outputs": [
    {
     "output_type": "execute_result",
     "data": {
      "text/plain": [
       "  attribute  rank  descending      term\n",
       "0     young     0        True  0.418772\n",
       "1     young     1        True  0.408523\n",
       "2     young     2        True  0.403880\n",
       "3     young     3        True  0.395321\n",
       "4     young     4        True  0.395139\n",
       "5     young     5        True  0.392552\n",
       "6     young     6        True  0.391520\n",
       "7     young     7        True  0.388417\n",
       "8     young     8        True  0.387592\n",
       "9     young     9        True  0.384040\n",
       "0     young     0       False -0.458999\n",
       "1     young     1       False -0.448505\n",
       "2     young     2       False -0.418431\n",
       "3     young     3       False -0.408810\n",
       "4     young     4       False -0.406604\n",
       "5     young     5       False -0.405108\n",
       "6     young     6       False -0.403072\n",
       "7     young     7       False -0.400615\n",
       "8     young     8       False -0.400377\n",
       "9     young     9       False -0.400235"
      ],
      "text/html": "<div>\n<style scoped>\n    .dataframe tbody tr th:only-of-type {\n        vertical-align: middle;\n    }\n\n    .dataframe tbody tr th {\n        vertical-align: top;\n    }\n\n    .dataframe thead th {\n        text-align: right;\n    }\n</style>\n<table border=\"1\" class=\"dataframe\">\n  <thead>\n    <tr style=\"text-align: right;\">\n      <th></th>\n      <th>attribute</th>\n      <th>rank</th>\n      <th>descending</th>\n      <th>term</th>\n    </tr>\n  </thead>\n  <tbody>\n    <tr>\n      <th>0</th>\n      <td>young</td>\n      <td>0</td>\n      <td>True</td>\n      <td>0.418772</td>\n    </tr>\n    <tr>\n      <th>1</th>\n      <td>young</td>\n      <td>1</td>\n      <td>True</td>\n      <td>0.408523</td>\n    </tr>\n    <tr>\n      <th>2</th>\n      <td>young</td>\n      <td>2</td>\n      <td>True</td>\n      <td>0.403880</td>\n    </tr>\n    <tr>\n      <th>3</th>\n      <td>young</td>\n      <td>3</td>\n      <td>True</td>\n      <td>0.395321</td>\n    </tr>\n    <tr>\n      <th>4</th>\n      <td>young</td>\n      <td>4</td>\n      <td>True</td>\n      <td>0.395139</td>\n    </tr>\n    <tr>\n      <th>5</th>\n      <td>young</td>\n      <td>5</td>\n      <td>True</td>\n      <td>0.392552</td>\n    </tr>\n    <tr>\n      <th>6</th>\n      <td>young</td>\n      <td>6</td>\n      <td>True</td>\n      <td>0.391520</td>\n    </tr>\n    <tr>\n      <th>7</th>\n      <td>young</td>\n      <td>7</td>\n      <td>True</td>\n      <td>0.388417</td>\n    </tr>\n    <tr>\n      <th>8</th>\n      <td>young</td>\n      <td>8</td>\n      <td>True</td>\n      <td>0.387592</td>\n    </tr>\n    <tr>\n      <th>9</th>\n      <td>young</td>\n      <td>9</td>\n      <td>True</td>\n      <td>0.384040</td>\n    </tr>\n    <tr>\n      <th>0</th>\n      <td>young</td>\n      <td>0</td>\n      <td>False</td>\n      <td>-0.458999</td>\n    </tr>\n    <tr>\n      <th>1</th>\n      <td>young</td>\n      <td>1</td>\n      <td>False</td>\n      <td>-0.448505</td>\n    </tr>\n    <tr>\n      <th>2</th>\n      <td>young</td>\n      <td>2</td>\n      <td>False</td>\n      <td>-0.418431</td>\n    </tr>\n    <tr>\n      <th>3</th>\n      <td>young</td>\n      <td>3</td>\n      <td>False</td>\n      <td>-0.408810</td>\n    </tr>\n    <tr>\n      <th>4</th>\n      <td>young</td>\n      <td>4</td>\n      <td>False</td>\n      <td>-0.406604</td>\n    </tr>\n    <tr>\n      <th>5</th>\n      <td>young</td>\n      <td>5</td>\n      <td>False</td>\n      <td>-0.405108</td>\n    </tr>\n    <tr>\n      <th>6</th>\n      <td>young</td>\n      <td>6</td>\n      <td>False</td>\n      <td>-0.403072</td>\n    </tr>\n    <tr>\n      <th>7</th>\n      <td>young</td>\n      <td>7</td>\n      <td>False</td>\n      <td>-0.400615</td>\n    </tr>\n    <tr>\n      <th>8</th>\n      <td>young</td>\n      <td>8</td>\n      <td>False</td>\n      <td>-0.400377</td>\n    </tr>\n    <tr>\n      <th>9</th>\n      <td>young</td>\n      <td>9</td>\n      <td>False</td>\n      <td>-0.400235</td>\n    </tr>\n  </tbody>\n</table>\n</div>"
     },
     "metadata": {},
     "execution_count": 309
    }
   ],
   "source": [
    "df"
   ]
  },
  {
   "cell_type": "code",
   "execution_count": 9,
   "metadata": {},
   "outputs": [
    {
     "output_type": "execute_result",
     "data": {
      "text/plain": [
       "            attribute  rank  descending         r      term\n",
       "0    5_o_clock_shadow     0        True  0.052942       acf\n",
       "1    5_o_clock_shadow     1        True  0.052239  purports\n",
       "2    5_o_clock_shadow     2        True  0.050676       env\n",
       "3    5_o_clock_shadow     3        True  0.050207    mapper\n",
       "4    5_o_clock_shadow     4        True  0.049232   exacted\n",
       "..                ...   ...         ...       ...       ...\n",
       "795             young     5       False -0.048642  subtribe\n",
       "796             young     6       False -0.048283    bank's\n",
       "797             young     7       False -0.048271     baiju\n",
       "798             young     8       False -0.048115    yandex\n",
       "799             young     9       False -0.047942       ivs\n",
       "\n",
       "[800 rows x 5 columns]"
      ],
      "text/html": "<div>\n<style scoped>\n    .dataframe tbody tr th:only-of-type {\n        vertical-align: middle;\n    }\n\n    .dataframe tbody tr th {\n        vertical-align: top;\n    }\n\n    .dataframe thead th {\n        text-align: right;\n    }\n</style>\n<table border=\"1\" class=\"dataframe\">\n  <thead>\n    <tr style=\"text-align: right;\">\n      <th></th>\n      <th>attribute</th>\n      <th>rank</th>\n      <th>descending</th>\n      <th>r</th>\n      <th>term</th>\n    </tr>\n  </thead>\n  <tbody>\n    <tr>\n      <th>0</th>\n      <td>5_o_clock_shadow</td>\n      <td>0</td>\n      <td>True</td>\n      <td>0.052942</td>\n      <td>acf</td>\n    </tr>\n    <tr>\n      <th>1</th>\n      <td>5_o_clock_shadow</td>\n      <td>1</td>\n      <td>True</td>\n      <td>0.052239</td>\n      <td>purports</td>\n    </tr>\n    <tr>\n      <th>2</th>\n      <td>5_o_clock_shadow</td>\n      <td>2</td>\n      <td>True</td>\n      <td>0.050676</td>\n      <td>env</td>\n    </tr>\n    <tr>\n      <th>3</th>\n      <td>5_o_clock_shadow</td>\n      <td>3</td>\n      <td>True</td>\n      <td>0.050207</td>\n      <td>mapper</td>\n    </tr>\n    <tr>\n      <th>4</th>\n      <td>5_o_clock_shadow</td>\n      <td>4</td>\n      <td>True</td>\n      <td>0.049232</td>\n      <td>exacted</td>\n    </tr>\n    <tr>\n      <th>...</th>\n      <td>...</td>\n      <td>...</td>\n      <td>...</td>\n      <td>...</td>\n      <td>...</td>\n    </tr>\n    <tr>\n      <th>795</th>\n      <td>young</td>\n      <td>5</td>\n      <td>False</td>\n      <td>-0.048642</td>\n      <td>subtribe</td>\n    </tr>\n    <tr>\n      <th>796</th>\n      <td>young</td>\n      <td>6</td>\n      <td>False</td>\n      <td>-0.048283</td>\n      <td>bank's</td>\n    </tr>\n    <tr>\n      <th>797</th>\n      <td>young</td>\n      <td>7</td>\n      <td>False</td>\n      <td>-0.048271</td>\n      <td>baiju</td>\n    </tr>\n    <tr>\n      <th>798</th>\n      <td>young</td>\n      <td>8</td>\n      <td>False</td>\n      <td>-0.048115</td>\n      <td>yandex</td>\n    </tr>\n    <tr>\n      <th>799</th>\n      <td>young</td>\n      <td>9</td>\n      <td>False</td>\n      <td>-0.047942</td>\n      <td>ivs</td>\n    </tr>\n  </tbody>\n</table>\n<p>800 rows × 5 columns</p>\n</div>"
     },
     "metadata": {},
     "execution_count": 9
    }
   ],
   "source": [
    "import terra\n",
    "terra.out(177, load=True)"
   ]
  },
  {
   "cell_type": "code",
   "execution_count": 25,
   "metadata": {},
   "outputs": [
    {
     "output_type": "execute_result",
     "data": {
      "text/plain": [
       "'/home/sabri/terra/slice/tasks/__main__/evaluate_clip_on_ground_truth_slices/_runs/190'"
      ]
     },
     "metadata": {},
     "execution_count": 25
    }
   ],
   "source": [
    "import terra\n",
    "terra.get_run_dir(190)"
   ]
  },
  {
   "cell_type": "code",
   "execution_count": null,
   "metadata": {},
   "outputs": [],
   "source": []
  }
 ]
}