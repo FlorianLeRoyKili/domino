{
 "metadata": {
  "language_info": {
   "codemirror_mode": {
    "name": "ipython",
    "version": 3
   },
   "file_extension": ".py",
   "mimetype": "text/x-python",
   "name": "python",
   "nbconvert_exporter": "python",
   "pygments_lexer": "ipython3",
   "version": "3.8.8-final"
  },
  "orig_nbformat": 2,
  "kernelspec": {
   "name": "python388jvsc74a57bd0ea2f4cd3bdc968ca1a53a83edd8f27736d1fa25788f7730deeb47c8173e8b25a",
   "display_name": "Python 3.8.8 64-bit"
  },
  "metadata": {
   "interpreter": {
    "hash": "ea2f4cd3bdc968ca1a53a83edd8f27736d1fa25788f7730deeb47c8173e8b25a"
   }
  }
 },
 "nbformat": 4,
 "nbformat_minor": 2,
 "cells": [
  {
   "cell_type": "code",
   "execution_count": 6,
   "metadata": {},
   "outputs": [],
   "source": [
    "from pathlib import Path\n",
    "import pandas as pd\n",
    "from torch\n",
    "import pydicom\n",
    "\n",
    "ROOT_DIR = Path(\"/dfs/scratch1/sabrieyuboglu/data/mimic-cxr-2.0.0.physionet.org\")"
   ]
  },
  {
   "source": [
    "# MIMIC-CXR Data Overview\n",
    "Copied from –> source: https://mimic-cxr.mit.edu/data/overview/ (may not be able to access this link without access to the dataset)\n",
    "\n",
    "A records file, cxr-record-list.csv.gz, provides a mapping between the image (dicom_id), the study (study_id), and the patient (subject_id). Another records file, cxr-study-list.csv.gz, provides a mapping between the studies (study_id) and patients (subject_id).\n",
    "\n",
    "All patient identifiers begin with the digit 1 and have a total length of 8 digits. All study identifiers begin with the digit 5 and have a total length of 8 digits. DICOM file names are unique 40 character hexadecimal strings with dashes separating groups of eight characters.\n",
    "\n",
    "Images are provided in DICOM format; see the image section for more information about the images.\n",
    "\n",
    "Reports are provided as plain text files; see the reports section for more information about the reports.\n",
    "\n",
    "## Data Organization\n",
    "Data files are made available in a hierarchical strcture. The following block lists the first patient’s records as an demonstrative example (MIMIC-CXR v2.0.0):\n",
    "```\n",
    "files/\n",
    " p10/\n",
    "   p10000032/\n",
    "    s50414267/\n",
    "      02aa804e-bde0afdd-112c0b34-7bc16630-4e384014.dcm.gz\n",
    "      174413ec-4ec4c1f7-34ea26b7-c5f994f8-79ef1962.dcm.gz\n",
    "    s53189527/\n",
    "      2a2277a9-b0ded155-c0de8eb9-c124d10e-82c5caab.dcm.gz\n",
    "      e084de3b-be89b11e-20fe3f9f-9c8d8dfe-4cfd202c.dcm.gz\n",
    "    s53911762/\n",
    "      68b5c4b1-227d0485-9cc38c3f-7b84ab51-4b472714.dcm.gz\n",
    "      fffabebf-74fd3a1f-673b6b41-96ec0ac9-2ab69818.dcm.gz\n",
    "    s56699142/\n",
    "      ea030e7a-2e3b1346-bc518786-7a8fd698-f673b44c.dcm.gz\n",
    "    s50414267.txt\n",
    "    s53189527.txt\n",
    "    s53911762.txt\n",
    "    s56699142.txt\n",
    " ...\n",
    "```\n",
    "You will notea high level folder: p10. This is done to avoid having many files in a single directory. All patient folders are stored in a higher level folder which is identical to the first 3 characters of their folder name, i.e. p10000032 will be in folder p10, p11000011 will be in p11, and so on.\n",
    "\n",
    "Above, this patient (10000032) has four studies. Most of the studies have two scans (usually a frontal and a lateral chest x-ray), but one study 56699142 has only one image. Each study is associated with a de-identified free-text radiology report (e.g. s56699142.txt). Note that the identifiers are random, and do not indicate order of the studies in any way.\n",
    "\n",
    "\n",
    "https://physionet.org/content/mimic-cxr-jpg/2.0.0/"
   ],
   "cell_type": "markdown",
   "metadata": {}
  },
  {
   "cell_type": "code",
   "execution_count": 21,
   "metadata": {},
   "outputs": [
    {
     "output_type": "execute_result",
     "data": {
      "text/plain": [
       "   subject_id  study_id                                      dicom_id  \\\n",
       "0    10000032  50414267  02aa804e-bde0afdd-112c0b34-7bc16630-4e384014   \n",
       "1    10000032  50414267  174413ec-4ec4c1f7-34ea26b7-c5f994f8-79ef1962   \n",
       "2    10000032  53189527  2a2277a9-b0ded155-c0de8eb9-c124d10e-82c5caab   \n",
       "3    10000032  53189527  e084de3b-be89b11e-20fe3f9f-9c8d8dfe-4cfd202c   \n",
       "4    10000032  53911762  68b5c4b1-227d0485-9cc38c3f-7b84ab51-4b472714   \n",
       "\n",
       "                                                path  \n",
       "0  files/p10/p10000032/s50414267/02aa804e-bde0afd...  \n",
       "1  files/p10/p10000032/s50414267/174413ec-4ec4c1f...  \n",
       "2  files/p10/p10000032/s53189527/2a2277a9-b0ded15...  \n",
       "3  files/p10/p10000032/s53189527/e084de3b-be89b11...  \n",
       "4  files/p10/p10000032/s53911762/68b5c4b1-227d048...  "
      ],
      "text/html": "<div>\n<style scoped>\n    .dataframe tbody tr th:only-of-type {\n        vertical-align: middle;\n    }\n\n    .dataframe tbody tr th {\n        vertical-align: top;\n    }\n\n    .dataframe thead th {\n        text-align: right;\n    }\n</style>\n<table border=\"1\" class=\"dataframe\">\n  <thead>\n    <tr style=\"text-align: right;\">\n      <th></th>\n      <th>subject_id</th>\n      <th>study_id</th>\n      <th>dicom_id</th>\n      <th>path</th>\n    </tr>\n  </thead>\n  <tbody>\n    <tr>\n      <th>0</th>\n      <td>10000032</td>\n      <td>50414267</td>\n      <td>02aa804e-bde0afdd-112c0b34-7bc16630-4e384014</td>\n      <td>files/p10/p10000032/s50414267/02aa804e-bde0afd...</td>\n    </tr>\n    <tr>\n      <th>1</th>\n      <td>10000032</td>\n      <td>50414267</td>\n      <td>174413ec-4ec4c1f7-34ea26b7-c5f994f8-79ef1962</td>\n      <td>files/p10/p10000032/s50414267/174413ec-4ec4c1f...</td>\n    </tr>\n    <tr>\n      <th>2</th>\n      <td>10000032</td>\n      <td>53189527</td>\n      <td>2a2277a9-b0ded155-c0de8eb9-c124d10e-82c5caab</td>\n      <td>files/p10/p10000032/s53189527/2a2277a9-b0ded15...</td>\n    </tr>\n    <tr>\n      <th>3</th>\n      <td>10000032</td>\n      <td>53189527</td>\n      <td>e084de3b-be89b11e-20fe3f9f-9c8d8dfe-4cfd202c</td>\n      <td>files/p10/p10000032/s53189527/e084de3b-be89b11...</td>\n    </tr>\n    <tr>\n      <th>4</th>\n      <td>10000032</td>\n      <td>53911762</td>\n      <td>68b5c4b1-227d0485-9cc38c3f-7b84ab51-4b472714</td>\n      <td>files/p10/p10000032/s53911762/68b5c4b1-227d048...</td>\n    </tr>\n  </tbody>\n</table>\n</div>"
     },
     "metadata": {},
     "execution_count": 21
    }
   ],
   "source": [
    "# CSV mapping each `study_id` onto the `dicom_id` and the path where the DICOM lives   \n",
    "dicom_df = pd.read_csv(ROOT_DIR / \"cxr-record-list.csv\")\n",
    "dicom_df.head()"
   ]
  },
  {
   "cell_type": "code",
   "execution_count": 22,
   "metadata": {},
   "outputs": [
    {
     "output_type": "execute_result",
     "data": {
      "text/plain": [
       "   subject_id  study_id                               path\n",
       "0    10000032  50414267  files/p10/p10000032/s50414267.txt\n",
       "1    10000032  53189527  files/p10/p10000032/s53189527.txt\n",
       "2    10000032  53911762  files/p10/p10000032/s53911762.txt\n",
       "3    10000032  56699142  files/p10/p10000032/s56699142.txt\n",
       "4    10000764  57375967  files/p10/p10000764/s57375967.txt"
      ],
      "text/html": "<div>\n<style scoped>\n    .dataframe tbody tr th:only-of-type {\n        vertical-align: middle;\n    }\n\n    .dataframe tbody tr th {\n        vertical-align: top;\n    }\n\n    .dataframe thead th {\n        text-align: right;\n    }\n</style>\n<table border=\"1\" class=\"dataframe\">\n  <thead>\n    <tr style=\"text-align: right;\">\n      <th></th>\n      <th>subject_id</th>\n      <th>study_id</th>\n      <th>path</th>\n    </tr>\n  </thead>\n  <tbody>\n    <tr>\n      <th>0</th>\n      <td>10000032</td>\n      <td>50414267</td>\n      <td>files/p10/p10000032/s50414267.txt</td>\n    </tr>\n    <tr>\n      <th>1</th>\n      <td>10000032</td>\n      <td>53189527</td>\n      <td>files/p10/p10000032/s53189527.txt</td>\n    </tr>\n    <tr>\n      <th>2</th>\n      <td>10000032</td>\n      <td>53911762</td>\n      <td>files/p10/p10000032/s53911762.txt</td>\n    </tr>\n    <tr>\n      <th>3</th>\n      <td>10000032</td>\n      <td>56699142</td>\n      <td>files/p10/p10000032/s56699142.txt</td>\n    </tr>\n    <tr>\n      <th>4</th>\n      <td>10000764</td>\n      <td>57375967</td>\n      <td>files/p10/p10000764/s57375967.txt</td>\n    </tr>\n  </tbody>\n</table>\n</div>"
     },
     "metadata": {},
     "execution_count": 22
    }
   ],
   "source": [
    "# CSV mapping each `study_id` onto the path where the study report lives   \n",
    "study_df = pd.read_csv(ROOT_DIR / \"cxr-study-list.csv\")\n",
    "study_df.head()"
   ]
  },
  {
   "source": [
    "## Structured labels\n",
    "Copied from –> source: https://mimic-cxr.mit.edu/data/overview/ (may not be able to access this link without access to the dataset)\n",
    "The mimic-cxr-2.0.0-chexpert.csv.gz and mimic-cxr-2.0.0-negbio.csv.gz files are compressed comma delimited value files. A total of 227,827 studies are assigned a label by CheXpert and NegBio. Eight studies could not be labeled due to a lack of a findings or impression section. The first three columns are:\n",
    "\n",
    "`subject_id` - An integer unique for an individual patient\n",
    "`study_id` - An integer unique for an individual study (i.e. an individual radiology report with one or more images associated with it)\n",
    "The remaining columns are labels as presented in the CheXpert article [8]:\n",
    "```\n",
    "Atelectasis\n",
    "Cardiomegaly\n",
    "Consolidation\n",
    "Edema\n",
    "Enlarged Cardiomediastinum\n",
    "Fracture\n",
    "Lung Lesion\n",
    "Lung Opacity\n",
    "Pleural Effusion\n",
    "Pneumonia\n",
    "Pneumothorax\n",
    "Pleural Other\n",
    "Support Devices\n",
    "No Finding\n",
    "```\n",
    "Note that \"No Finding\" is the absence of any of the 13 descriptive labels and a check that the text does not mention a specified set of other common findings beyond those covered by the descriptive labels. Thus, it is possible for a study in the CheXpert set to have no labels assigned. For example, study 57,321,224 has the following findings/impression text: \"Hyperinflation.  No evidence of acute disease.\". Normally this would be assigned a label of \"No Finding\", but the use of \"hyperinflation\" suppresses the labeling of no finding. For details see the CheXpert article [8], and the list of phrases are publicly available in their code repository (phrases/mention/no_finding.txt). There are 2,414 studies which do not have a label assigned by CheXpert. Conversely, all studies present in the provided files have been assigned a label by NegBio.\n",
    "\n",
    "Each label column contains one of four values: 1.0, -1.0, 0.0, or missing. These labels have the following interpretation:\n",
    "\n",
    "`1.0` - The label was positively mentioned in the associated study, and is present in one or more of the corresponding images\n",
    "e.g. \"A large pleural effusion\".  \n",
    "`0.0` - The label was negatively mentioned in the associated study, and therefore should not be present in any of the corresponding images. \n",
    "e.g. \"No pneumothorax.\"  \n",
    "`-1.0` - The label was either: (1) mentioned with uncertainty in the report, and therefore may or may not be present to some degree in the corresponding image, or (2) mentioned with ambiguous language in the report and it is unclear if the pathology exists or not. \n",
    "\n",
    "Explicit uncertainty: \"The cardiac size cannot be evaluated.\"\n",
    "Ambiguous language: \"The cardiac contours are stable.\"\n",
    "\n",
    "`Missing` (empty element) - No mention of the label was made in the report\n"
   ],
   "cell_type": "markdown",
   "metadata": {}
  },
  {
   "cell_type": "code",
   "execution_count": 16,
   "metadata": {},
   "outputs": [
    {
     "output_type": "execute_result",
     "data": {
      "text/plain": [
       "   subject_id  study_id  Atelectasis  Cardiomegaly  Consolidation  Edema  \\\n",
       "0    10000032  50414267          NaN           NaN            NaN    NaN   \n",
       "1    10000032  53189527          NaN           NaN            NaN    NaN   \n",
       "2    10000032  53911762          NaN           NaN            NaN    NaN   \n",
       "3    10000032  56699142          NaN           NaN            NaN    NaN   \n",
       "4    10000764  57375967          NaN           NaN            1.0    NaN   \n",
       "\n",
       "   Enlarged Cardiomediastinum  Fracture  Lung Lesion  Lung Opacity  \\\n",
       "0                         NaN       NaN          NaN           NaN   \n",
       "1                         NaN       NaN          NaN           NaN   \n",
       "2                         NaN       NaN          NaN           NaN   \n",
       "3                         NaN       NaN          NaN           NaN   \n",
       "4                         NaN       NaN          NaN           NaN   \n",
       "\n",
       "   No Finding  Pleural Effusion  Pleural Other  Pneumonia  Pneumothorax  \\\n",
       "0         1.0               NaN            NaN        NaN           NaN   \n",
       "1         1.0               NaN            NaN        NaN           NaN   \n",
       "2         1.0               NaN            NaN        NaN           NaN   \n",
       "3         1.0               NaN            NaN        NaN           NaN   \n",
       "4         NaN               NaN            NaN       -1.0           NaN   \n",
       "\n",
       "   Support Devices  \n",
       "0              NaN  \n",
       "1              NaN  \n",
       "2              NaN  \n",
       "3              NaN  \n",
       "4              NaN  "
      ],
      "text/html": "<div>\n<style scoped>\n    .dataframe tbody tr th:only-of-type {\n        vertical-align: middle;\n    }\n\n    .dataframe tbody tr th {\n        vertical-align: top;\n    }\n\n    .dataframe thead th {\n        text-align: right;\n    }\n</style>\n<table border=\"1\" class=\"dataframe\">\n  <thead>\n    <tr style=\"text-align: right;\">\n      <th></th>\n      <th>subject_id</th>\n      <th>study_id</th>\n      <th>Atelectasis</th>\n      <th>Cardiomegaly</th>\n      <th>Consolidation</th>\n      <th>Edema</th>\n      <th>Enlarged Cardiomediastinum</th>\n      <th>Fracture</th>\n      <th>Lung Lesion</th>\n      <th>Lung Opacity</th>\n      <th>No Finding</th>\n      <th>Pleural Effusion</th>\n      <th>Pleural Other</th>\n      <th>Pneumonia</th>\n      <th>Pneumothorax</th>\n      <th>Support Devices</th>\n    </tr>\n  </thead>\n  <tbody>\n    <tr>\n      <th>0</th>\n      <td>10000032</td>\n      <td>50414267</td>\n      <td>NaN</td>\n      <td>NaN</td>\n      <td>NaN</td>\n      <td>NaN</td>\n      <td>NaN</td>\n      <td>NaN</td>\n      <td>NaN</td>\n      <td>NaN</td>\n      <td>1.0</td>\n      <td>NaN</td>\n      <td>NaN</td>\n      <td>NaN</td>\n      <td>NaN</td>\n      <td>NaN</td>\n    </tr>\n    <tr>\n      <th>1</th>\n      <td>10000032</td>\n      <td>53189527</td>\n      <td>NaN</td>\n      <td>NaN</td>\n      <td>NaN</td>\n      <td>NaN</td>\n      <td>NaN</td>\n      <td>NaN</td>\n      <td>NaN</td>\n      <td>NaN</td>\n      <td>1.0</td>\n      <td>NaN</td>\n      <td>NaN</td>\n      <td>NaN</td>\n      <td>NaN</td>\n      <td>NaN</td>\n    </tr>\n    <tr>\n      <th>2</th>\n      <td>10000032</td>\n      <td>53911762</td>\n      <td>NaN</td>\n      <td>NaN</td>\n      <td>NaN</td>\n      <td>NaN</td>\n      <td>NaN</td>\n      <td>NaN</td>\n      <td>NaN</td>\n      <td>NaN</td>\n      <td>1.0</td>\n      <td>NaN</td>\n      <td>NaN</td>\n      <td>NaN</td>\n      <td>NaN</td>\n      <td>NaN</td>\n    </tr>\n    <tr>\n      <th>3</th>\n      <td>10000032</td>\n      <td>56699142</td>\n      <td>NaN</td>\n      <td>NaN</td>\n      <td>NaN</td>\n      <td>NaN</td>\n      <td>NaN</td>\n      <td>NaN</td>\n      <td>NaN</td>\n      <td>NaN</td>\n      <td>1.0</td>\n      <td>NaN</td>\n      <td>NaN</td>\n      <td>NaN</td>\n      <td>NaN</td>\n      <td>NaN</td>\n    </tr>\n    <tr>\n      <th>4</th>\n      <td>10000764</td>\n      <td>57375967</td>\n      <td>NaN</td>\n      <td>NaN</td>\n      <td>1.0</td>\n      <td>NaN</td>\n      <td>NaN</td>\n      <td>NaN</td>\n      <td>NaN</td>\n      <td>NaN</td>\n      <td>NaN</td>\n      <td>NaN</td>\n      <td>NaN</td>\n      <td>-1.0</td>\n      <td>NaN</td>\n      <td>NaN</td>\n    </tr>\n  </tbody>\n</table>\n</div>"
     },
     "metadata": {},
     "execution_count": 16
    }
   ],
   "source": [
    "# CSV mapping each `study_id` onto the label extracted by chexpert    \n",
    "labels_df = pd.read_csv(ROOT_DIR / \"mimic-cxr-2.0.0-chexpert.csv\")\n",
    "labels_df.head()"
   ]
  },
  {
   "cell_type": "code",
   "execution_count": 24,
   "metadata": {},
   "outputs": [
    {
     "output_type": "execute_result",
     "data": {
      "text/plain": [
       "8"
      ]
     },
     "metadata": {},
     "execution_count": 24
    }
   ],
   "source": [
    "# Do we have labels for all of the studies in MIMIC? \n",
    "(1 - study_df.study_id.isin(labels_df.study_id.unique())).sum()"
   ]
  },
  {
   "source": [
    "This checks out --> \"Eight studies could not be labeled due to a lack of a findings or impression section.\" from the MIMIC website.  "
   ],
   "cell_type": "markdown",
   "metadata": {}
  }
 ]
}