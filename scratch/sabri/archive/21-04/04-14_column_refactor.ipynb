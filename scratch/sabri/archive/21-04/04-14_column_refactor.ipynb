{
 "metadata": {
  "language_info": {
   "codemirror_mode": {
    "name": "ipython",
    "version": 3
   },
   "file_extension": ".py",
   "mimetype": "text/x-python",
   "name": "python",
   "nbconvert_exporter": "python",
   "pygments_lexer": "ipython3",
   "version": "3.8.8"
  },
  "orig_nbformat": 2,
  "kernelspec": {
   "name": "python388jvsc74a57bd0a2a98ac7812478ccca9704a5d38a7f9a9196f1ab20f7da8586eea65c44e44dd4",
   "display_name": "Python 3.8.8 64-bit ('rg': conda)",
   "language": "python"
  },
  "metadata": {
   "interpreter": {
    "hash": "6d7bd4c6039f156d838f2caf01fbd8d7d51ef546e5fb1f60e559c6bdf3c7cc94"
   }
  }
 },
 "nbformat": 4,
 "nbformat_minor": 2,
 "cells": [
  {
   "cell_type": "code",
   "execution_count": 1,
   "metadata": {},
   "outputs": [],
   "source": [
    "%load_ext autoreload\n",
    "%autoreload 2"
   ]
  },
  {
   "cell_type": "code",
   "execution_count": 2,
   "metadata": {},
   "outputs": [
    {
     "output_type": "error",
     "ename": "ModuleNotFoundError",
     "evalue": "No module named 'robustnessgym.core.cells'",
     "traceback": [
      "\u001b[0;31m---------------------------------------------------------------------------\u001b[0m",
      "\u001b[0;31mModuleNotFoundError\u001b[0m                       Traceback (most recent call last)",
      "\u001b[0;32m<ipython-input-2-40270bbcf4ff>\u001b[0m in \u001b[0;36m<module>\u001b[0;34m\u001b[0m\n\u001b[1;32m      3\u001b[0m \u001b[0;32mimport\u001b[0m \u001b[0mnumpy\u001b[0m \u001b[0;32mas\u001b[0m \u001b[0mnp\u001b[0m\u001b[0;34m\u001b[0m\u001b[0;34m\u001b[0m\u001b[0m\n\u001b[1;32m      4\u001b[0m \u001b[0;34m\u001b[0m\u001b[0m\n\u001b[0;32m----> 5\u001b[0;31m \u001b[0;32mfrom\u001b[0m \u001b[0mrobustnessgym\u001b[0m\u001b[0;34m.\u001b[0m\u001b[0mcore\u001b[0m\u001b[0;34m.\u001b[0m\u001b[0mcells\u001b[0m\u001b[0;34m.\u001b[0m\u001b[0mimagepath\u001b[0m \u001b[0;32mimport\u001b[0m \u001b[0mImagePath\u001b[0m\u001b[0;34m\u001b[0m\u001b[0;34m\u001b[0m\u001b[0m\n\u001b[0m\u001b[1;32m      6\u001b[0m \u001b[0;32mfrom\u001b[0m \u001b[0mrobustnessgym\u001b[0m\u001b[0;34m.\u001b[0m\u001b[0mcore\u001b[0m\u001b[0;34m.\u001b[0m\u001b[0mcells\u001b[0m\u001b[0;34m.\u001b[0m\u001b[0mabstract\u001b[0m \u001b[0;32mimport\u001b[0m \u001b[0mAbstractCell\u001b[0m\u001b[0;34m\u001b[0m\u001b[0;34m\u001b[0m\u001b[0m\n\u001b[1;32m      7\u001b[0m \u001b[0;32mfrom\u001b[0m \u001b[0mrobustnessgym\u001b[0m\u001b[0;34m.\u001b[0m\u001b[0mcore\u001b[0m\u001b[0;34m.\u001b[0m\u001b[0mcolumns\u001b[0m\u001b[0;34m.\u001b[0m\u001b[0mcell_column\u001b[0m \u001b[0;32mimport\u001b[0m \u001b[0mCellColumn\u001b[0m\u001b[0;34m\u001b[0m\u001b[0;34m\u001b[0m\u001b[0m\n",
      "\u001b[0;31mModuleNotFoundError\u001b[0m: No module named 'robustnessgym.core.cells'"
     ]
    }
   ],
   "source": [
    "import os\n",
    "import pandas as pd\n",
    "import numpy as np\n",
    "\n",
    "import torchvision.transforms as transforms "
   ]
  },
  {
   "cell_type": "code",
   "execution_count": 1,
   "metadata": {},
   "outputs": [],
   "source": [
    "from terra import Task"
   ]
  },
  {
   "cell_type": "code",
   "execution_count": 4,
   "metadata": {},
   "outputs": [
    {
     "output_type": "stream",
     "name": "stdout",
     "text": [
      "task: build_celeb_df, run_id=5\n"
     ]
    }
   ],
   "source": [
    "from spr.data.celeb import build_celeb_df\n",
    "df = build_celeb_df(dataset_dir=\"/Users/sabrieyuboglu/data/datasets/celeba\")"
   ]
  },
  {
   "cell_type": "code",
   "execution_count": 6,
   "metadata": {},
   "outputs": [
    {
     "output_type": "execute_result",
     "data": {
      "text/plain": [
       "{'run_dir': '/Users/sabrieyuboglu/code/terra/test_storage_dir/tasks/data/celeb/build_celeb_df/_runs/5',\n",
       " 'key': 'c1a2dccd37dc409b9947d9fe3e3b9578',\n",
       " 'id': 4,\n",
       " 'type': pandas.core.frame.DataFrame}"
      ]
     },
     "metadata": {},
     "execution_count": 6
    }
   ],
   "source": [
    "df.__dict__"
   ]
  },
  {
   "cell_type": "code",
   "execution_count": 9,
   "metadata": {},
   "outputs": [
    {
     "output_type": "error",
     "ename": "NameError",
     "evalue": "name 'DataPane' is not defined",
     "traceback": [
      "\u001b[0;31m---------------------------------------------------------------------------\u001b[0m",
      "\u001b[0;31mNameError\u001b[0m                                 Traceback (most recent call last)",
      "\u001b[0;32m<ipython-input-9-a85074d027f0>\u001b[0m in \u001b[0;36m<module>\u001b[0;34m\u001b[0m\n\u001b[1;32m      1\u001b[0m \u001b[0mcsv_path\u001b[0m \u001b[0;34m=\u001b[0m \u001b[0;34m\"/Users/sabrieyuboglu/code/terra/test_storage_dir/tasks/data/celeb/build_celeb_df/_runs/5/artifacts/c1a2dccd37dc409b9947d9fe3e3b9578\"\u001b[0m\u001b[0;34m\u001b[0m\u001b[0;34m\u001b[0m\u001b[0m\n\u001b[1;32m      2\u001b[0m \u001b[0mdf\u001b[0m \u001b[0;34m=\u001b[0m \u001b[0mpd\u001b[0m\u001b[0;34m.\u001b[0m\u001b[0mread_csv\u001b[0m\u001b[0;34m(\u001b[0m\u001b[0mcsv_path\u001b[0m\u001b[0;34m)\u001b[0m\u001b[0;34m\u001b[0m\u001b[0;34m\u001b[0m\u001b[0m\n\u001b[0;32m----> 3\u001b[0;31m \u001b[0mdp\u001b[0m \u001b[0;34m=\u001b[0m \u001b[0mDataPane\u001b[0m\u001b[0;34m.\u001b[0m\u001b[0mfrom_panas\u001b[0m\u001b[0;34m(\u001b[0m\u001b[0mdf\u001b[0m\u001b[0;34m)\u001b[0m\u001b[0;34m\u001b[0m\u001b[0;34m\u001b[0m\u001b[0m\n\u001b[0m",
      "\u001b[0;31mNameError\u001b[0m: name 'DataPane' is not defined"
     ]
    }
   ],
   "source": [
    "csv_path = \"/Users/sabrieyuboglu/code/terra/test_storage_dir/tasks/data/celeb/build_celeb_df/_runs/5/artifacts/c1a2dccd37dc409b9947d9fe3e3b9578\"\n",
    "df = pd.read_csv(csv_path)\n",
    "dp = DataPane.from_panas(df)"
   ]
  },
  {
   "cell_type": "code",
   "execution_count": 7,
   "metadata": {},
   "outputs": [],
   "source": [
    "# create cell column\n",
    "from torch.utils.data._utils.collate import default_collate \n",
    "csv_path = \"/Users/sabrieyuboglu/code/terra/test_storage_dir/tasks/data/celeb/build_celeb_df/_runs/5/artifacts/c1a2dccd37dc409b9947d9fe3e3b9578\"\n",
    "\n",
    "cols = {\n",
    "    \"name\": list(np.arange(20)),\n",
    "    \"id\": list(np.arange(20) * 10),\n",
    "}\n",
    "\n",
    "data_dir = \"/Users/sabrieyuboglu/data/datasets/celeba/img_align_celeba\"\n",
    "cells = [\n",
    "    ImagePath(\n",
    "        filepath=os.path.join(data_dir, filename),\n",
    "        transform=transforms.PILToTensor()\n",
    "    )\n",
    "    for filename in \n",
    "    list(os.listdir(data_dir))[:20]\n",
    "]\n",
    "cols[\"img\"] = CellColumn.from_cells(\n",
    "    cells, \n",
    "    collate_fn=default_collate,\n",
    "    materialize=True\n",
    ")\n",
    "\n",
    "# spacy column \n",
    "from robustnessgym.core.cells.spacy import SpacyCell\n",
    "import spacy\n",
    "nlp = spacy.load(\"en_core_web_sm\")\n",
    "cells = [\n",
    "    SpacyCell(\n",
    "        doc=nlp(os.path.join(data_dir, text)),\n",
    "    )\n",
    "    for text in list(os.listdir(data_dir))[:20]\n",
    "]\n",
    "cols[\"doc\"] = CellColumn.from_cells(cells, materialize=False)\n",
    "\n",
    "# create the dataset\n",
    "from robustnessgym.core.new_dataset import Dataset\n",
    "dataset = Dataset.from_batch(cols)"
   ]
  },
  {
   "cell_type": "code",
   "execution_count": 12,
   "metadata": {},
   "outputs": [
    {
     "output_type": "execute_result",
     "data": {
      "text/plain": [
       "tensor([[[ 77,  59,  47,  ...,  45,  43,  40],\n",
       "         [ 87,  69,  56,  ...,  47,  43,  40],\n",
       "         [102,  90,  76,  ...,  45,  42,  39],\n",
       "         ...,\n",
       "         [ 28,  23,  30,  ...,  15,  14,  14],\n",
       "         [ 26,  23,  36,  ...,  13,  17,  17],\n",
       "         [ 41,  29,  25,  ...,  13,  17,  17]],\n",
       "\n",
       "        [[ 89,  71,  59,  ...,  62,  43,  40],\n",
       "         [ 96,  81,  68,  ...,  62,  43,  40],\n",
       "         [111,  99,  85,  ...,  59,  43,  40],\n",
       "         ...,\n",
       "         [ 29,  27,  36,  ...,  16,  14,  14],\n",
       "         [ 27,  27,  42,  ...,  17,  17,  17],\n",
       "         [ 42,  33,  31,  ...,  17,  17,  17]],\n",
       "\n",
       "        [[ 43,  25,  13,  ...,  69,  51,  48],\n",
       "         [ 51,  35,  22,  ...,  69,  51,  48],\n",
       "         [ 64,  52,  40,  ...,  68,  48,  45],\n",
       "         ...,\n",
       "         [ 34,  30,  36,  ...,  18,  14,  14],\n",
       "         [ 32,  30,  42,  ...,  18,  17,  17],\n",
       "         [ 47,  36,  31,  ...,  18,  17,  17]]], dtype=torch.uint8)"
      ]
     },
     "metadata": {},
     "execution_count": 12
    }
   ],
   "source": [
    "state = cols[\"img\"].get_state()\n",
    "out = CellColumn.from_state(state)\n",
    "out[0]"
   ]
  },
  {
   "cell_type": "code",
   "execution_count": 22,
   "metadata": {},
   "outputs": [
    {
     "output_type": "execute_result",
     "data": {
      "text/plain": [
       "/Users/sabrieyuboglu/data/datasets/celeba/img_align_celeba/052628.jpg"
      ]
     },
     "metadata": {},
     "execution_count": 22
    }
   ],
   "source": [
    "state = cols[\"doc\"].get_state()\n",
    "out = CellColumn.from_state(state, nlp=nlp)\n",
    "out._cells[0]"
   ]
  },
  {
   "cell_type": "code",
   "execution_count": 30,
   "metadata": {},
   "outputs": [
    {
     "output_type": "stream",
     "name": "stderr",
     "text": [
      " 91%|█████████ | 10/11 [00:00<00:00, 187.12it/s]\n"
     ]
    }
   ],
   "source": [
    "out = dataset.filter(\n",
    "    batch_size=2, function=lambda x: (x[\"name\"] % 2) == 0, batched=False\n",
    ")\n"
   ]
  },
  {
   "cell_type": "code",
   "execution_count": 21,
   "metadata": {},
   "outputs": [
    {
     "output_type": "stream",
     "name": "stderr",
     "text": [
      " 91%|█████████ | 10/11 [00:00<00:00, 183.46it/s]\n"
     ]
    }
   ],
   "source": [
    "out = dataset.update(\n",
    "    batch_size=2, \n",
    "    function=lambda x: {\n",
    "        \"is_even\": (x[\"name\"] % 2) == 0,\n",
    "        \"is_odd\": (x[\"name\"] % 2) == 1,\n",
    "        \"image_path\": ImagePath(str(x[\"doc\"]))\n",
    "    }, \n",
    "    batched=False\n",
    ")\n"
   ]
  },
  {
   "cell_type": "code",
   "execution_count": 24,
   "metadata": {},
   "outputs": [
    {
     "output_type": "execute_result",
     "data": {
      "text/plain": [
       "<robustnessgym.core.columns.cell_column.CellColumn at 0x7f8ccf0fe9a0>"
      ]
     },
     "metadata": {},
     "execution_count": 24
    }
   ],
   "source": [
    "dataset[\"doc\"]"
   ]
  },
  {
   "cell_type": "code",
   "execution_count": 126,
   "metadata": {},
   "outputs": [],
   "source": [
    "for x in dl:\n",
    "    pass"
   ]
  },
  {
   "cell_type": "code",
   "execution_count": 74,
   "metadata": {},
   "outputs": [],
   "source": [
    "def nested_map(f, *args):\n",
    "    \"\"\" Recursively transpose a nested structure of tuples, lists, and dicts \"\"\"\n",
    "    assert len(args) > 0, 'Must have at least one argument.'\n",
    "    arg = args[0]\n",
    "    if isinstance(arg, Sequence):\n",
    "        return [nested_map(f, *a) for a in zip(*args)]\n",
    "    elif isinstance(arg, Mapping):\n",
    "        return {\n",
    "            k: nested_map(f, *[a[k] for a in args])\n",
    "            for k in arg\n",
    "        }\n",
    "    else:\n",
    "        return f(*args)"
   ]
  },
  {
   "cell_type": "code",
   "execution_count": 75,
   "metadata": {},
   "outputs": [
    {
     "output_type": "execute_result",
     "data": {
      "text/plain": [
       "{'a': [2, 3, 4], 'b': 7, 'c': [{'a': 2, 'b': 3}, {'a': 3, 'b': 4}]}"
      ]
     },
     "metadata": {},
     "execution_count": 75
    }
   ],
   "source": [
    "def f(obj):\n",
    "    if hasattr(obj, \"get_state\"):\n",
    "        return State({\n",
    "            \"class\": type(obj),\n",
    "            \"state\": obj.get_state()\n",
    "        })\n",
    "    else:\n",
    "        return obj \n",
    "\n",
    "def f_prime(obj):\n",
    "    if isinstance(obj, State):\n",
    "        return obj.class.from_state(obj.state)\n",
    "    else:\n",
    "        return obj\n",
    "nested_map(lambda x: x + 1, {\"a\": [1,2,3], \"b\": 6, \"c\": [{\"a\": 1, \"b\": 2}, {\"a\": 2, \"b\": 3}]})"
   ]
  },
  {
   "cell_type": "code",
   "execution_count": 57,
   "metadata": {},
   "outputs": [
    {
     "output_type": "stream",
     "name": "stderr",
     "text": [
      "100%|██████████| 5/5 [00:00<00:00, 54.01it/s][117.96048517334982, 133.02053052949867] 117.96048517334982\n",
      "[]\n",
      "[117.96048517334982, 133.02053052949867, 148.65947668625228, 123.81946878328695]\n",
      "[64.49006116207951, 79.93583135759201, 150.21430780331926, 170.99054221214308]\n",
      "[87.44167267979246, 71.77779782153043, 136.6673710614026, 92.9854568257568]\n",
      "[134.84880424698486, 106.93297941792942, 131.30221111225646, 101.4897948665086]\n",
      "[118.16871971961653, 168.44098546541593, 127.06906504484074, 113.39196990001031]\n",
      "\n"
     ]
    },
    {
     "output_type": "execute_result",
     "data": {
      "text/plain": [
       "[117.96048517334982,\n",
       " 133.02053052949867,\n",
       " 148.65947668625228,\n",
       " 123.81946878328695,\n",
       " 64.49006116207951,\n",
       " 79.93583135759201,\n",
       " 150.21430780331926,\n",
       " 170.99054221214308,\n",
       " 87.44167267979246,\n",
       " 71.77779782153043,\n",
       " 136.6673710614026,\n",
       " 92.9854568257568,\n",
       " 134.84880424698486,\n",
       " 106.93297941792942,\n",
       " 131.30221111225646,\n",
       " 101.4897948665086,\n",
       " 118.16871971961653,\n",
       " 168.44098546541593,\n",
       " 127.06906504484074,\n",
       " 113.39196990001031]"
      ]
     },
     "metadata": {},
     "execution_count": 57
    }
   ],
   "source": [
    "col._materialize = True\n",
    "def fn(batch):\n",
    "    batch = batch.to(float)\n",
    "    return list(map(float, batch.mean(dim=(3, 2, 1))))\n",
    "col.map(fn, batched=True, batch_size=4)"
   ]
  },
  {
   "cell_type": "code",
   "execution_count": 26,
   "metadata": {},
   "outputs": [
    {
     "output_type": "stream",
     "name": "stderr",
     "text": [
      "100%|██████████| 5/5 [00:00<00:00, 61.34it/s]\n"
     ]
    }
   ],
   "source": [
    "col._materialize = True\n",
    "def filter_fn(batch):\n",
    "    batch = batch.to(float)\n",
    "    return batch.mean(dim=(1,2,3)) > 100\n",
    "\n",
    "out = col.filter(filter_fn, batched=True, batch_size=4)"
   ]
  },
  {
   "cell_type": "code",
   "execution_count": 27,
   "metadata": {},
   "outputs": [
    {
     "output_type": "execute_result",
     "data": {
      "text/plain": [
       "15"
      ]
     },
     "metadata": {},
     "execution_count": 27
    }
   ],
   "source": [
    "len(out)"
   ]
  },
  {
   "cell_type": "code",
   "execution_count": 19,
   "metadata": {},
   "outputs": [
    {
     "output_type": "stream",
     "name": "stderr",
     "text": [
      "100%|██████████| 5/5 [00:00<00:00, 61.16it/s]\n"
     ]
    },
    {
     "output_type": "execute_result",
     "data": {
      "text/plain": [
       "[False,\n",
       " False,\n",
       " False,\n",
       " False,\n",
       " False,\n",
       " False,\n",
       " False,\n",
       " False,\n",
       " False,\n",
       " False,\n",
       " False,\n",
       " False,\n",
       " False,\n",
       " False,\n",
       " False,\n",
       " False,\n",
       " False,\n",
       " False,\n",
       " False,\n",
       " False]"
      ]
     },
     "metadata": {},
     "execution_count": 19
    }
   ],
   "source": [
    "out = col.map(filter_fn, batched=True, batch_size=4)\n",
    "out"
   ]
  },
  {
   "cell_type": "code",
   "execution_count": 31,
   "metadata": {},
   "outputs": [],
   "source": [
    "col.write(\"test_col\", write_together=True)"
   ]
  },
  {
   "cell_type": "code",
   "execution_count": 32,
   "metadata": {},
   "outputs": [],
   "source": [
    "out = CellColumn.read(\"test_col\")"
   ]
  },
  {
   "cell_type": "code",
   "execution_count": 25,
   "metadata": {},
   "outputs": [
    {
     "output_type": "execute_result",
     "data": {
      "text/plain": [
       "<function torchvision.transforms.functional.pil_to_tensor(pic)>"
      ]
     },
     "metadata": {},
     "execution_count": 25
    }
   ],
   "source": [
    "out._materialize=False\n",
    "out[0].transform"
   ]
  },
  {
   "cell_type": "code",
   "execution_count": null,
   "metadata": {},
   "outputs": [],
   "source": [
    "def __getitem__() -> VisionColumn:"
   ]
  },
  {
   "cell_type": "code",
   "execution_count": 10,
   "metadata": {},
   "outputs": [],
   "source": [
    "from torch import Tensor"
   ]
  },
  {
   "cell_type": "code",
   "execution_count": 18,
   "metadata": {},
   "outputs": [],
   "source": [
    "from yaml.representer import Representer\n",
    "from abc import ABCMeta\n",
    "Representer.add_representer(ABCMeta, Representer.represent_name)"
   ]
  },
  {
   "cell_type": "code",
   "execution_count": 59,
   "metadata": {},
   "outputs": [
    {
     "output_type": "execute_result",
     "data": {
      "text/plain": [
       "True"
      ]
     },
     "metadata": {},
     "execution_count": 59
    }
   ],
   "source": [
    "bool(15)"
   ]
  },
  {
   "cell_type": "code",
   "execution_count": 61,
   "metadata": {},
   "outputs": [],
   "source": [
    "class TestState:\n",
    "    def __init__(self):\n",
    "        self.x = np.ones(10) * 5\n",
    "        self.y = np.ones(10) * 10\n",
    "\n",
    "    \n",
    "    def __getstate__(self):\n",
    "        return self\n",
    "        \n",
    "    def __setstate__(self, state):\n",
    "        self.__dict__ = state.__dict__\n",
    "        "
   ]
  },
  {
   "cell_type": "code",
   "execution_count": 62,
   "metadata": {},
   "outputs": [],
   "source": [
    "import pickle \n",
    "import dill\n",
    "obj = TestState()\n",
    "obj.x = np.ones(10) * 50\n",
    "obj.y = np.ones(10) * 100\n",
    "\n",
    "dill.dump(obj, open(\"test.pkl\", \"wb\"))"
   ]
  },
  {
   "cell_type": "code",
   "execution_count": 63,
   "metadata": {},
   "outputs": [],
   "source": [
    "new_obj = dill.load(open(\"test.pkl\", \"rb\"))"
   ]
  },
  {
   "cell_type": "code",
   "execution_count": 64,
   "metadata": {},
   "outputs": [
    {
     "output_type": "execute_result",
     "data": {
      "text/plain": [
       "{}"
      ]
     },
     "metadata": {},
     "execution_count": 64
    }
   ],
   "source": [
    "new_obj.__dict__"
   ]
  },
  {
   "cell_type": "code",
   "execution_count": null,
   "metadata": {},
   "outputs": [],
   "source": []
  }
 ]
}