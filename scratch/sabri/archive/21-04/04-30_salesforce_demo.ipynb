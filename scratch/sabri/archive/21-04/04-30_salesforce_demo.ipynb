{
 "metadata": {
  "language_info": {
   "codemirror_mode": {
    "name": "ipython",
    "version": 3
   },
   "file_extension": ".py",
   "mimetype": "text/x-python",
   "name": "python",
   "nbconvert_exporter": "python",
   "pygments_lexer": "ipython3",
   "version": "3.8.8"
  },
  "orig_nbformat": 2,
  "kernelspec": {
   "name": "python388jvsc74a57bd06d7bd4c6039f156d838f2caf01fbd8d7d51ef546e5fb1f60e559c6bdf3c7cc94",
   "display_name": "Python 3.8.8 64-bit ('rg-sabri')"
  },
  "metadata": {
   "interpreter": {
    "hash": "6d7bd4c6039f156d838f2caf01fbd8d7d51ef546e5fb1f60e559c6bdf3c7cc94"
   }
  }
 },
 "nbformat": 4,
 "nbformat_minor": 2,
 "cells": [
  {
   "cell_type": "code",
   "execution_count": 1,
   "metadata": {},
   "outputs": [],
   "source": [
    "%load_ext autoreload\n",
    "%autoreload 2\n",
    "import os"
   ]
  },
  {
   "cell_type": "code",
   "execution_count": 21,
   "metadata": {},
   "outputs": [],
   "source": [
    "from robustnessgym.mosaic.contrib.wilds import WildsInputColumn, WildsDataPane\n",
    "from robustnessgym.mosaic import DataPane\n",
    "dp = WildsDataPane(\"fmow\", root_dir=\"/home/common/datasets/\", use_transform=True, split=\"val\")"
   ]
  },
  {
   "cell_type": "code",
   "execution_count": 9,
   "metadata": {},
   "outputs": [
    {
     "output_type": "execute_result",
     "data": {
      "text/plain": [
       "{'input': WildsInputColumn(<wilds.datase...x7f4cc12c8790>),\n",
       " 'y': NumpyArrayColumn(array([ 4,  4..., 34, 34, 34])),\n",
       " 'meta': NumpyArrayColumn(array([[ 0, 1...[ 0,  9, 34]])),\n",
       " 'index': ListColumn(['0', '1', '2', '3', '4', '5', ...])}"
      ]
     },
     "metadata": {},
     "execution_count": 9
    }
   ],
   "source": [
    "dp._data"
   ]
  },
  {
   "cell_type": "code",
   "execution_count": 14,
   "metadata": {},
   "outputs": [
    {
     "output_type": "execute_result",
     "data": {
      "text/plain": [
       "NumpyArrayColumn(array([ 4,  4..., 34, 34, 34]))"
      ]
     },
     "metadata": {},
     "execution_count": 14
    }
   ],
   "source": [
    "# Target column is a NumPy array: \n",
    "dp[\"y\"]"
   ]
  },
  {
   "cell_type": "code",
   "execution_count": 16,
   "metadata": {},
   "outputs": [
    {
     "output_type": "execute_result",
     "data": {
      "text/plain": [
       "NumpyArrayColumn(array([ 5,  5..., 35, 35, 35]))"
      ]
     },
     "metadata": {},
     "execution_count": 16
    }
   ],
   "source": [
    "dp[\"y\"]"
   ]
  },
  {
   "cell_type": "code",
   "execution_count": 23,
   "metadata": {},
   "outputs": [
    {
     "output_type": "stream",
     "name": "stdout",
     "text": [
      "loading weights from /home/common/datasets/fmow_v1.1/models/fmow_erm_ID_seed0/best_model.pth...\n",
      "/home/common/envs/conda/envs/rg-sabri/lib/python3.8/site-packages/torchmetrics/utilities/prints.py:36: UserWarning: Metric `AUROC` will save all targets and predictions in buffer. For large datasets this may lead to large memory footprint.\n",
      "  warnings.warn(*args, **kwargs)\n"
     ]
    },
    {
     "output_type": "display_data",
     "data": {
      "text/plain": "HBox(children=(FloatProgress(value=0.0, max=90.0), HTML(value='')))",
      "application/vnd.jupyter.widget-view+json": {
       "version_major": 2,
       "version_minor": 0,
       "model_id": "3c275fc4b2b946c98d0d0a2c368b1fd4"
      }
     },
     "metadata": {}
    },
    {
     "output_type": "stream",
     "name": "stdout",
     "text": [
      "\n"
     ]
    }
   ],
   "source": [
    "import torch\n",
    "from robustnessgym.mosaic.contrib.wilds import WildsInputColumn, WildsDataPane\n",
    "from spr.vision import Classifier\n",
    "from robustnessgym.mosaic import DataPane\n",
    "from spr.data.wilds import FMOW_CONFIG\n",
    "\n",
    "classifier = Classifier(FMOW_CONFIG)\n",
    "dp = WildsDataPane(\n",
    "    \"fmow\", \n",
    "    root_dir=\"/home/common/datasets/\", \n",
    "    use_transform=True,\n",
    "    split=\"val\"\n",
    ")\n",
    "\n",
    "classifier.eval()\n",
    "classifier.to(0)\n",
    "\n",
    "class ActivationExtractor:\n",
    "    \"\"\"Class for extracting activations of a targetted intermediate layer.\"\"\"\n",
    "\n",
    "    def __init__(self):\n",
    "        self.activation = None\n",
    "\n",
    "    def add_hook(self, module, input, output):\n",
    "        self.activation = output\n",
    "extractor = ActivationExtractor()\n",
    "classifier.model.features[-1].register_forward_hook(extractor.add_hook)\n",
    "\n",
    "@torch.no_grad()\n",
    "def predict(batch: dict):\n",
    "    out = torch.softmax(classifier(batch[\"input\"].to(0)), axis=-1)\n",
    "    return {\n",
    "        \"pred\": out.cpu().numpy().argmax(axis=-1),\n",
    "        \"activation\": extractor.activation.cpu().numpy()\n",
    "    }\n",
    "\n",
    "dp_w_preds = dp.update(\n",
    "    function=predict,\n",
    "    batch_size=128,\n",
    "    batched=True,\n",
    "    num_workers=8\n",
    ")"
   ]
  },
  {
   "cell_type": "code",
   "execution_count": 24,
   "metadata": {},
   "outputs": [
    {
     "output_type": "execute_result",
     "data": {
      "text/plain": [
       "{'input': WildsInputColumn(<wilds.datase...x7f4c7f739670>),\n",
       " 'y': NumpyArrayColumn(array([ 4,  4..., 34, 34, 34])),\n",
       " 'meta': NumpyArrayColumn(array([[ 0, 1...[ 0,  9, 34]])),\n",
       " 'index': ListColumn(['0', '1', '2', '3', '4', '5', ...]),\n",
       " 'pred': NumpyArrayColumn(array([ 4,  4..., 42, 61, 21])),\n",
       " 'activation': NumpyArrayColumn(array([[[[0.0...dtype=float32))}"
      ]
     },
     "metadata": {},
     "execution_count": 24
    }
   ],
   "source": [
    "dp_w_preds._data"
   ]
  },
  {
   "cell_type": "code",
   "execution_count": 27,
   "metadata": {},
   "outputs": [
    {
     "output_type": "execute_result",
     "data": {
      "text/plain": [
       "NumpyArrayColumn(array([0.6196116]))"
      ]
     },
     "metadata": {},
     "execution_count": 27
    }
   ],
   "source": [
    "# Compute accuracy\n",
    "(dp_w_preds[\"pred\"] == dp_w_preds[\"y\"]).mean()"
   ]
  },
  {
   "cell_type": "code",
   "execution_count": 29,
   "metadata": {},
   "outputs": [
    {
     "output_type": "execute_result",
     "data": {
      "text/plain": [
       "(11483, 1024, 7, 7)"
      ]
     },
     "metadata": {},
     "execution_count": 29
    }
   ],
   "source": [
    "dp_w_preds[\"activation\"].shape"
   ]
  },
  {
   "cell_type": "code",
   "execution_count": null,
   "metadata": {},
   "outputs": [],
   "source": []
  }
 ]
}