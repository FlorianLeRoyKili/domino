{
 "metadata": {
  "language_info": {
   "codemirror_mode": {
    "name": "ipython",
    "version": 3
   },
   "file_extension": ".py",
   "mimetype": "text/x-python",
   "name": "python",
   "nbconvert_exporter": "python",
   "pygments_lexer": "ipython3",
   "version": "3.8.8-final"
  },
  "orig_nbformat": 2,
  "kernelspec": {
   "name": "python38864bitrgconda76adfe5a42654dcbbc5d98a3cb1007c7",
   "display_name": "Python 3.8.8 64-bit ('rg': conda)"
  },
  "metadata": {
   "interpreter": {
    "hash": "ea2f4cd3bdc968ca1a53a83edd8f27736d1fa25788f7730deeb47c8173e8b25a"
   }
  }
 },
 "nbformat": 4,
 "nbformat_minor": 2,
 "cells": [
  {
   "cell_type": "code",
   "execution_count": 12,
   "metadata": {},
   "outputs": [
    {
     "output_type": "stream",
     "name": "stdout",
     "text": [
      "The autoreload extension is already loaded. To reload it, use:\n  %reload_ext autoreload\n"
     ]
    }
   ],
   "source": [
    "%load_ext autoreload\n",
    "%autoreload 2"
   ]
  },
  {
   "cell_type": "code",
   "execution_count": 13,
   "metadata": {},
   "outputs": [],
   "source": [
    "import robustnessgym as rg"
   ]
  },
  {
   "cell_type": "code",
   "execution_count": 3,
   "metadata": {},
   "outputs": [
    {
     "output_type": "stream",
     "name": "stderr",
     "text": [
      "[2021-04-07 19:40:42,234][INFO][robustnessgym.core.dataformats.vision:178] :: Created `VisionDataset` with 128 rows and 45 columns.\n",
      "[2021-04-07 19:40:42,237][INFO][root:237] :: Added column `index` with length `128`.\n"
     ]
    }
   ],
   "source": [
    "from spr.data.celeb import build_celeb_df\n",
    "\n",
    "df = build_celeb_df.out(29).load()\n",
    "dataset = rg.Dataset.load_image_dataset(\n",
    "    df[df.split == \"valid\"].iloc[:128].to_dict(\"records\"),    \n",
    "    img_keys=\"img_path\"\n",
    ")"
   ]
  },
  {
   "cell_type": "code",
   "execution_count": 4,
   "metadata": {},
   "outputs": [
    {
     "output_type": "stream",
     "name": "stderr",
     "text": [
      "/dfs/scratch0/sabri/miniconda3/envs/rg/lib/python3.8/site-packages/torchmetrics/utilities/prints.py:36: UserWarning: Metric `AUROC` will save all targets and predictions in buffer. For large datasets this may lead to large memory footprint.\n  warnings.warn(*args, **kwargs)\n"
     ]
    }
   ],
   "source": [
    "from spr.vision import train\n",
    "\n",
    "model = train.get_artifacts(\"best_chkpt\", run_id=201)[\"model\"].load()"
   ]
  },
  {
   "cell_type": "code",
   "execution_count": 5,
   "metadata": {
    "tags": []
   },
   "outputs": [],
   "source": [
    "from robustnessgym.slicebuilders.discovery.bss import SeparatorSubpopulation\n",
    "\n"
   ]
  },
  {
   "cell_type": "code",
   "execution_count": 60,
   "metadata": {},
   "outputs": [],
   "source": [
    "from robustnessgym.slicebuilders.discovery.bss import SeparatorSubpopulation\n",
    "\n",
    "builder = SeparatorSubpopulation(\n",
    "    model, \n",
    "    intervals=[('0%', '5%'), ('95%', '100%')],\n",
    "    config={\n",
    "        \"activation_dim\": 512,\n",
    "        \"target_module\": \"model.layer4\",\n",
    "        \"num_components\": 4,\n",
    "        \"pred_loss_weight\": 100,\n",
    "        \"cov_loss_weight\": 1e-06,\n",
    "        \"lr\": 1e-1,\n",
    "        \"mixing_dropout_prob\": 0.0,\n",
    "        \"cond_on_target\": True\n",
    "    }\n",
    ")"
   ]
  },
  {
   "cell_type": "code",
   "execution_count": 61,
   "metadata": {},
   "outputs": [
    {
     "output_type": "display_data",
     "data": {
      "text/plain": "HBox(children=(FloatProgress(value=0.0, description='cache_activations', max=8.0, style=ProgressStyle(descript…",
      "application/vnd.jupyter.widget-view+json": {
       "version_major": 2,
       "version_minor": 0,
       "model_id": "0c87dc03c14747c5841cd7e88ccb209d"
      }
     },
     "metadata": {}
    },
    {
     "output_type": "stream",
     "name": "stdout",
     "text": [
      "\n"
     ]
    },
    {
     "output_type": "display_data",
     "data": {
      "text/plain": "HBox(children=(FloatProgress(value=0.0, description='fit_source_separator', max=10.0, style=ProgressStyle(desc…",
      "application/vnd.jupyter.widget-view+json": {
       "version_major": 2,
       "version_minor": 0,
       "model_id": "8aede7575663439692c0d4fb5c2ec34c"
      }
     },
     "metadata": {}
    },
    {
     "output_type": "stream",
     "name": "stdout",
     "text": [
      "\n"
     ]
    },
    {
     "output_type": "display_data",
     "data": {
      "text/plain": "HBox(children=(FloatProgress(value=0.0, description='components', max=8.0, style=ProgressStyle(description_wid…",
      "application/vnd.jupyter.widget-view+json": {
       "version_major": 2,
       "version_minor": 0,
       "model_id": "57cb96419cf643d7b9406a37134a4e4e"
      }
     },
     "metadata": {}
    },
    {
     "output_type": "stream",
     "name": "stderr",
     "text": [
      "[2021-04-08 09:43:43,944][INFO][root:251] :: Removed column `comp_0`.\n",
      "[2021-04-08 09:43:43,946][INFO][root:237] :: Added column `comp_0` with length `128`.\n",
      "[2021-04-08 09:43:43,948][INFO][root:251] :: Removed column `comp_1`.\n",
      "[2021-04-08 09:43:43,950][INFO][root:237] :: Added column `comp_1` with length `128`.\n",
      "[2021-04-08 09:43:43,952][INFO][root:251] :: Removed column `comp_2`.\n",
      "[2021-04-08 09:43:43,954][INFO][root:237] :: Added column `comp_2` with length `128`.\n",
      "[2021-04-08 09:43:43,957][INFO][root:251] :: Removed column `comp_3`.\n",
      "[2021-04-08 09:43:43,959][INFO][root:237] :: Added column `comp_3` with length `128`.\n",
      "\n",
      "['0', '1', '2', '3', '4', '5', '6', '7', '8', '9', '10', '11', '12', '13', '14', '15', '16', '17', '18', '19', '20', '21', '22', '23', '24', '25', '26', '27', '28', '29', '30', '31']\n",
      "['32', '33', '34', '35', '36', '37', '38', '39', '40', '41', '42', '43', '44', '45', '46', '47', '48', '49', '50', '51', '52', '53', '54', '55', '56', '57', '58', '59', '60', '61', '62', '63']\n",
      "['64', '65', '66', '67', '68', '69', '70', '71', '72', '73', '74', '75', '76', '77', '78', '79', '80', '81', '82', '83', '84', '85', '86', '87', '88', '89', '90', '91', '92', '93', '94', '95']\n",
      "['96', '97', '98', '99', '100', '101', '102', '103', '104', '105', '106', '107', '108', '109', '110', '111', '112', '113', '114', '115', '116', '117', '118', '119', '120', '121', '122', '123', '124', '125', '126', '127']\n"
     ]
    }
   ],
   "source": [
    "out = builder(dataset, columns=[\"img_path\", \"male\"], batch_size=16)"
   ]
  },
  {
   "cell_type": "code",
   "execution_count": 63,
   "metadata": {},
   "outputs": [],
   "source": [
    "reduction_config = {\n",
    "    \"model\": \"none\"\n",
    "},\n",
    "cluster_config = {\n",
    "    \"model\": \"kmeans\",\n",
    "    \"metric_types\": [\n",
    "        \"mean_loss\",\n",
    "        \"composition\"\n",
    "    ],\n",
    "    \"search_k\": True,\n",
    "    \"overcluster\": True,\n",
    "    \"sil_cuda\": True\n",
    "}"
   ]
  },
  {
   "cell_type": "code",
   "execution_count": 65,
   "metadata": {},
   "outputs": [
    {
     "output_type": "error",
     "ename": "ModuleNotFoundError",
     "evalue": "No module named 'stratification'",
     "traceback": [
      "\u001b[0;31m---------------------------------------------------------------------------\u001b[0m",
      "\u001b[0;31mModuleNotFoundError\u001b[0m                       Traceback (most recent call last)",
      "\u001b[0;32m<ipython-input-65-449e799d40ae>\u001b[0m in \u001b[0;36m<module>\u001b[0;34m\u001b[0m\n\u001b[0;32m----> 1\u001b[0;31m \u001b[0;32mfrom\u001b[0m \u001b[0mrobustnessgym\u001b[0m\u001b[0;34m.\u001b[0m\u001b[0mslicebuilders\u001b[0m\u001b[0;34m.\u001b[0m\u001b[0mdiscovery\u001b[0m\u001b[0;34m.\u001b[0m\u001b[0mgeorge\u001b[0m \u001b[0;32mimport\u001b[0m \u001b[0mGeorgeReducer\u001b[0m\u001b[0;34m\u001b[0m\u001b[0;34m\u001b[0m\u001b[0m\n\u001b[0m\u001b[1;32m      2\u001b[0m \u001b[0mreducer\u001b[0m \u001b[0;34m=\u001b[0m \u001b[0mGEORGEReducer\u001b[0m\u001b[0;34m(\u001b[0m\u001b[0mreduction_config\u001b[0m\u001b[0;34m)\u001b[0m\u001b[0;34m\u001b[0m\u001b[0;34m\u001b[0m\u001b[0m\n",
      "\u001b[0;32m/dfs/scratch0/sabri/code/robustness-gym/robustnessgym/slicebuilders/discovery/george.py\u001b[0m in \u001b[0;36m<module>\u001b[0;34m\u001b[0m\n\u001b[1;32m     28\u001b[0m \u001b[0;32mimport\u001b[0m \u001b[0mnumpy\u001b[0m \u001b[0;32mas\u001b[0m \u001b[0mnp\u001b[0m\u001b[0;34m\u001b[0m\u001b[0;34m\u001b[0m\u001b[0m\n\u001b[1;32m     29\u001b[0m \u001b[0;34m\u001b[0m\u001b[0m\n\u001b[0;32m---> 30\u001b[0;31m \u001b[0;32mimport\u001b[0m \u001b[0mstratification\u001b[0m\u001b[0;34m.\u001b[0m\u001b[0mcluster\u001b[0m\u001b[0;34m.\u001b[0m\u001b[0mmodels\u001b[0m\u001b[0;34m.\u001b[0m\u001b[0mreduction\u001b[0m \u001b[0;32mas\u001b[0m \u001b[0mreduction_models\u001b[0m\u001b[0;34m\u001b[0m\u001b[0;34m\u001b[0m\u001b[0m\n\u001b[0m\u001b[1;32m     31\u001b[0m \u001b[0;34m\u001b[0m\u001b[0m\n\u001b[1;32m     32\u001b[0m \u001b[0;32mfrom\u001b[0m \u001b[0mstratification\u001b[0m\u001b[0;34m.\u001b[0m\u001b[0mutils\u001b[0m\u001b[0;34m.\u001b[0m\u001b[0mlogger\u001b[0m \u001b[0;32mimport\u001b[0m \u001b[0minit_logger\u001b[0m\u001b[0;34m\u001b[0m\u001b[0;34m\u001b[0m\u001b[0m\n",
      "\u001b[0;31mModuleNotFoundError\u001b[0m: No module named 'stratification'"
     ]
    }
   ],
   "source": [
    "from umap import UMAP\n",
    "reduction_model = UMAP(n_components=2)\n",
    "reducer = GEORGEReducer(reduction_config)\n",
    "reducer.train(reduction_model, inputs=)"
   ]
  },
  {
   "cell_type": "code",
   "execution_count": 66,
   "metadata": {},
   "outputs": [
    {
     "output_type": "stream",
     "name": "stderr",
     "text": [
      "[2021-04-08 10:42:49,264][WARNING][datasets.builder:357] :: Using custom data configuration default\n",
      "[2021-04-08 10:42:49,272][WARNING][datasets.builder:512] :: Reusing dataset boolq (/afs/cs.stanford.edu/u/sabrieyuboglu/.cache/huggingface/datasets/boolq/default/0.1.0/1fcfdc6f36dc89a2245ffbbd5248ab33890594b50396731ebc78411bdd2ca534)\n",
      "[2021-04-08 10:42:49,278][INFO][robustnessgym.core.dataformats.inmemory:87] :: Created `InMemoryDataset` with 10 rows and 3 columns.\n",
      "[2021-04-08 10:42:49,281][INFO][root:133] :: Added column `index` with length `10`.\n"
     ]
    }
   ],
   "source": [
    "import robustnessgym as rg \n",
    "\n",
    "# Load the boolq data\n",
    "dataset = rg.Dataset.load_dataset('boolq', split='train[:10]')"
   ]
  },
  {
   "cell_type": "code",
   "execution_count": 70,
   "metadata": {},
   "outputs": [
    {
     "output_type": "stream",
     "name": "stderr",
     "text": [
      "[2021-04-08 10:44:35,020][INFO][robustnessgym.core.dataformats.inmemory:281] :: Running update, a new dataset will be returned.\n",
      "[2021-04-08 10:44:35,021][INFO][robustnessgym.core.dataformats.inmemory:87] :: Created `InMemoryDataset` with 0 rows and 0 columns.\n",
      "[2021-04-08 10:44:35,022][INFO][robustnessgym.core.dataformats.inmemory:426] :: Running `map`, the dataset will be left unchanged.\n"
     ]
    },
    {
     "output_type": "display_data",
     "data": {
      "text/plain": "HBox(children=(FloatProgress(value=0.0, max=1.0), HTML(value='')))",
      "application/vnd.jupyter.widget-view+json": {
       "version_major": 2,
       "version_minor": 0,
       "model_id": "7f3cd6672659401dadfd3b2ef5176231"
      }
     },
     "metadata": {}
    },
    {
     "output_type": "stream",
     "name": "stderr",
     "text": [
      "[2021-04-08 10:44:35,067][INFO][root:133] :: Added column `Spacy(lang=en_core_web_sm, neuralcoref=False, columns=['question'])` with length `10`.\n",
      "\n"
     ]
    }
   ],
   "source": [
    "from robustnessgym import Spacy, Stanza, TextBlob\n",
    "\n",
    "# Create the Spacy CachedOperation\n",
    "spacy_op = Spacy()\n",
    "\n",
    "# Apply it on the \"text\" column of a dataset\n",
    "dataset = spacy_op(batch_or_dataset=dataset, columns=[\"question\"])\n",
    "\n",
    "# Easily retrieve whatever information you need, wherever you need it\n",
    "\n",
    "# Retrieve the tokens extracted by Spacy for the first 2 examples in the dataset\n",
    "tokens = Spacy.retrieve(batch=dataset[:2], columns=[\"question\"], proc_fns=Spacy.tokens)\n",
    "\n",
    "# Retrieve everything Spacy cached for the first 2 examples, and process it yourself\n",
    "spacy_info = Spacy.retrieve(batch=dataset[:2], columns=[\"question\"])\n",
    "\n",
    "# ...do stuff with spacy_info"
   ]
  },
  {
   "cell_type": "code",
   "execution_count": 71,
   "metadata": {},
   "outputs": [
    {
     "output_type": "execute_result",
     "data": {
      "text/plain": [
       "['answer',\n",
       " 'passage',\n",
       " 'question',\n",
       " 'index',\n",
       " \"Spacy(lang=en_core_web_sm, neuralcoref=False, columns=['question'])\"]"
      ]
     },
     "metadata": {},
     "execution_count": 71
    }
   ],
   "source": [
    "dataset.column_names"
   ]
  },
  {
   "cell_type": "code",
   "execution_count": 14,
   "metadata": {},
   "outputs": [
    {
     "output_type": "stream",
     "name": "stderr",
     "text": [
      "[2021-04-08 22:44:15,321][INFO][robustnessgym.core.dataformats.vision:247] :: Created `VisionDataset` with 128 rows and 45 columns.\n",
      "[2021-04-08 22:44:15,324][INFO][root:306] :: Added column `index` with length `128`.\n"
     ]
    }
   ],
   "source": [
    "from spr.data.celeb import build_celeb_df, celeb_transform\n",
    "\n",
    "df = build_celeb_df.out(29).load()\n",
    "dataset = rg.Dataset.load_image_dataset(\n",
    "    df[df.split == \"valid\"].iloc[:128].to_dict(\"records\"),    \n",
    "    img_columns=\"img_path\",\n",
    "    transform=celeb_transform\n",
    ")"
   ]
  },
  {
   "cell_type": "code",
   "execution_count": 15,
   "metadata": {},
   "outputs": [],
   "source": [
    "from spr.vision import train\n",
    "from robustnessgym.cachedops.activation import ActivationCachedOp\n",
    "model = train.get_artifacts(\"best_chkpt\", run_id=201)[\"model\"].load()\n",
    "act_op = ActivationCachedOp(\n",
    "    model=model, target_module=\"model.layer4\", device=0\n",
    ")"
   ]
  },
  {
   "cell_type": "code",
   "execution_count": 16,
   "metadata": {
    "tags": []
   },
   "outputs": [
    {
     "output_type": "stream",
     "name": "stderr",
     "text": [
      "[2021-04-08 22:44:16,474][INFO][robustnessgym.core.dataformats.vision:521] :: Running update, a new dataset will be returned.\n",
      "[2021-04-08 22:44:16,475][INFO][robustnessgym.core.dataformats.vision:247] :: Created `VisionDataset` with 0 rows and 0 columns.\n",
      "[2021-04-08 22:44:20,425][INFO][robustnessgym.core.dataformats.vision:721] :: Running `map`, the dataset will be left unchanged.\n"
     ]
    },
    {
     "output_type": "display_data",
     "data": {
      "text/plain": "HBox(children=(FloatProgress(value=0.0, max=32.0), HTML(value='')))",
      "application/vnd.jupyter.widget-view+json": {
       "version_major": 2,
       "version_minor": 0,
       "model_id": "9f7bbdb8ea9e491caac21b676419e025"
      }
     },
     "metadata": {}
    },
    {
     "output_type": "stream",
     "name": "stdout",
     "text": [
      "\n",
      "[2021-04-08 22:44:21,134][INFO][root:306] :: Added column `ActivationCachedOp(columns=['img_path'])` with length `128`.\n"
     ]
    }
   ],
   "source": [
    "out = act_op(dataset, columns=[\"img_path\"], batch_size=4)"
   ]
  },
  {
   "cell_type": "code",
   "execution_count": 17,
   "metadata": {},
   "outputs": [],
   "source": [
    "act = ActivationCachedOp.retrieve(out[:3], columns=[\"img_path\"])"
   ]
  },
  {
   "cell_type": "code",
   "execution_count": 22,
   "metadata": {},
   "outputs": [
    {
     "output_type": "execute_result",
     "data": {
      "text/plain": [
       "[512, 8, 8]"
      ]
     },
     "metadata": {},
     "execution_count": 22
    }
   ],
   "source": [
    "list(act[0].shape)"
   ]
  },
  {
   "cell_type": "code",
   "execution_count": 41,
   "metadata": {},
   "outputs": [],
   "source": [
    "batch = dataset[:100]"
   ]
  },
  {
   "cell_type": "code",
   "execution_count": 42,
   "metadata": {},
   "outputs": [
    {
     "output_type": "stream",
     "name": "stdout",
     "text": [
      "here\n"
     ]
    }
   ],
   "source": [
    "img = batch[\"img_path\"]"
   ]
  },
  {
   "cell_type": "code",
   "execution_count": 43,
   "metadata": {},
   "outputs": [
    {
     "output_type": "execute_result",
     "data": {
      "text/plain": [
       "torch.Size([100, 3, 256, 256])"
      ]
     },
     "metadata": {},
     "execution_count": 43
    }
   ],
   "source": [
    "img.shape"
   ]
  },
  {
   "cell_type": "code",
   "execution_count": 8,
   "metadata": {},
   "outputs": [],
   "source": [
    "from torch.nn import Linear\n",
    "lin = Linear(5,6)"
   ]
  },
  {
   "cell_type": "code",
   "execution_count": 12,
   "metadata": {},
   "outputs": [
    {
     "output_type": "execute_result",
     "data": {
      "text/plain": [
       "'Linear'"
      ]
     },
     "metadata": {},
     "execution_count": 12
    }
   ],
   "source": [
    "lin._get_name()"
   ]
  },
  {
   "cell_type": "code",
   "execution_count": 15,
   "metadata": {},
   "outputs": [
    {
     "output_type": "execute_result",
     "data": {
      "text/plain": [
       "'Sequential'"
      ]
     },
     "metadata": {},
     "execution_count": 15
    }
   ],
   "source": [
    "model.model.layer4"
   ]
  },
  {
   "cell_type": "code",
   "execution_count": null,
   "metadata": {},
   "outputs": [],
   "source": []
  }
 ]
}