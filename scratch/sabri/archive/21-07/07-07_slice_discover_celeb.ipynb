{
 "cells": [
  {
   "cell_type": "code",
   "execution_count": 1,
   "source": [
    "%load_ext autoreload\n",
    "%autoreload 2\n",
    "\n",
    "from tqdm import tqdm\n",
    "import terra\n",
    "import numpy as np\n",
    "import meerkat as mk\n",
    "import pandas as pd\n",
    "import seaborn as sns\n",
    "\n",
    "from domino.sdm.george import GeorgeSDM"
   ],
   "outputs": [],
   "metadata": {}
  },
  {
   "cell_type": "code",
   "execution_count": 2,
   "source": [
    "from domino.data.celeb import build_celeb_df, build_celeb_dp\n",
    "\n",
    "df = build_celeb_df(\"/home/common/datasets/celeba/\")"
   ],
   "outputs": [
    {
     "output_type": "stream",
     "name": "stdout",
     "text": [
      "task: build_celeb_df, run_id=1457\n"
     ]
    }
   ],
   "metadata": {}
  },
  {
   "cell_type": "code",
   "execution_count": 5,
   "source": [
    "out = build_celeb_dp(df).load()"
   ],
   "outputs": [
    {
     "output_type": "stream",
     "name": "stdout",
     "text": [
      "task: build_celeb_dp, run_id=1459\n"
     ]
    }
   ],
   "metadata": {}
  },
  {
   "cell_type": "code",
   "execution_count": 6,
   "source": [
    "out"
   ],
   "outputs": [
    {
     "output_type": "execute_result",
     "data": {
      "text/plain": [
       "DataPanel(num_rows: 202599)"
      ],
      "text/html": [
       "<div>\n",
       "<style scoped>\n",
       "    .dataframe tbody tr th:only-of-type {\n",
       "        vertical-align: middle;\n",
       "    }\n",
       "\n",
       "    .dataframe tbody tr th {\n",
       "        vertical-align: top;\n",
       "    }\n",
       "\n",
       "    .dataframe thead th {\n",
       "        text-align: right;\n",
       "    }\n",
       "</style>\n",
       "<table border=\"1\" class=\"dataframe\">\n",
       "  <thead>\n",
       "    <tr style=\"text-align: right;\">\n",
       "      <th></th>\n",
       "      <th>file (NumpyArrayColumn)</th>\n",
       "      <th>identity (NumpyArrayColumn)</th>\n",
       "      <th>5_o_clock_shadow (NumpyArrayColumn)</th>\n",
       "      <th>arched_eyebrows (NumpyArrayColumn)</th>\n",
       "      <th>attractive (NumpyArrayColumn)</th>\n",
       "      <th>bags_under_eyes (NumpyArrayColumn)</th>\n",
       "      <th>bald (NumpyArrayColumn)</th>\n",
       "      <th>bangs (NumpyArrayColumn)</th>\n",
       "      <th>big_lips (NumpyArrayColumn)</th>\n",
       "      <th>big_nose (NumpyArrayColumn)</th>\n",
       "      <th>...</th>\n",
       "      <th>wearing_lipstick (NumpyArrayColumn)</th>\n",
       "      <th>wearing_necklace (NumpyArrayColumn)</th>\n",
       "      <th>wearing_necktie (NumpyArrayColumn)</th>\n",
       "      <th>young (NumpyArrayColumn)</th>\n",
       "      <th>img_path (NumpyArrayColumn)</th>\n",
       "      <th>image_id (NumpyArrayColumn)</th>\n",
       "      <th>split (NumpyArrayColumn)</th>\n",
       "      <th>index (ListColumn)</th>\n",
       "      <th>img (ImageColumn)</th>\n",
       "      <th>input (ImageColumn)</th>\n",
       "    </tr>\n",
       "  </thead>\n",
       "  <tbody>\n",
       "    <tr>\n",
       "      <th>0</th>\n",
       "      <td>000001.jpg</td>\n",
       "      <td>2880</td>\n",
       "      <td>0</td>\n",
       "      <td>1</td>\n",
       "      <td>1</td>\n",
       "      <td>0</td>\n",
       "      <td>0</td>\n",
       "      <td>0</td>\n",
       "      <td>0</td>\n",
       "      <td>0</td>\n",
       "      <td>...</td>\n",
       "      <td>1</td>\n",
       "      <td>0</td>\n",
       "      <td>0</td>\n",
       "      <td>1</td>\n",
       "      <td>/home/common/datasets/celeba/img_align_celeba/...</td>\n",
       "      <td>000001.jpg</td>\n",
       "      <td>train</td>\n",
       "      <td>'0'</td>\n",
       "      <td>ImagePathCell(/home/common/datasets/celeba/img...</td>\n",
       "      <td>ImagePathCell(/home/common/datasets/celeba/img...</td>\n",
       "    </tr>\n",
       "    <tr>\n",
       "      <th>1</th>\n",
       "      <td>000002.jpg</td>\n",
       "      <td>2937</td>\n",
       "      <td>0</td>\n",
       "      <td>0</td>\n",
       "      <td>0</td>\n",
       "      <td>1</td>\n",
       "      <td>0</td>\n",
       "      <td>0</td>\n",
       "      <td>0</td>\n",
       "      <td>1</td>\n",
       "      <td>...</td>\n",
       "      <td>0</td>\n",
       "      <td>0</td>\n",
       "      <td>0</td>\n",
       "      <td>1</td>\n",
       "      <td>/home/common/datasets/celeba/img_align_celeba/...</td>\n",
       "      <td>000002.jpg</td>\n",
       "      <td>train</td>\n",
       "      <td>'1'</td>\n",
       "      <td>ImagePathCell(/home/common/datasets/celeba/img...</td>\n",
       "      <td>ImagePathCell(/home/common/datasets/celeba/img...</td>\n",
       "    </tr>\n",
       "    <tr>\n",
       "      <th>2</th>\n",
       "      <td>000003.jpg</td>\n",
       "      <td>8692</td>\n",
       "      <td>0</td>\n",
       "      <td>0</td>\n",
       "      <td>0</td>\n",
       "      <td>0</td>\n",
       "      <td>0</td>\n",
       "      <td>0</td>\n",
       "      <td>1</td>\n",
       "      <td>0</td>\n",
       "      <td>...</td>\n",
       "      <td>0</td>\n",
       "      <td>0</td>\n",
       "      <td>0</td>\n",
       "      <td>1</td>\n",
       "      <td>/home/common/datasets/celeba/img_align_celeba/...</td>\n",
       "      <td>000003.jpg</td>\n",
       "      <td>train</td>\n",
       "      <td>'2'</td>\n",
       "      <td>ImagePathCell(/home/common/datasets/celeba/img...</td>\n",
       "      <td>ImagePathCell(/home/common/datasets/celeba/img...</td>\n",
       "    </tr>\n",
       "    <tr>\n",
       "      <th>3</th>\n",
       "      <td>000004.jpg</td>\n",
       "      <td>5805</td>\n",
       "      <td>0</td>\n",
       "      <td>0</td>\n",
       "      <td>1</td>\n",
       "      <td>0</td>\n",
       "      <td>0</td>\n",
       "      <td>0</td>\n",
       "      <td>0</td>\n",
       "      <td>0</td>\n",
       "      <td>...</td>\n",
       "      <td>1</td>\n",
       "      <td>1</td>\n",
       "      <td>0</td>\n",
       "      <td>1</td>\n",
       "      <td>/home/common/datasets/celeba/img_align_celeba/...</td>\n",
       "      <td>000004.jpg</td>\n",
       "      <td>train</td>\n",
       "      <td>'3'</td>\n",
       "      <td>ImagePathCell(/home/common/datasets/celeba/img...</td>\n",
       "      <td>ImagePathCell(/home/common/datasets/celeba/img...</td>\n",
       "    </tr>\n",
       "    <tr>\n",
       "      <th>4</th>\n",
       "      <td>000005.jpg</td>\n",
       "      <td>9295</td>\n",
       "      <td>0</td>\n",
       "      <td>1</td>\n",
       "      <td>1</td>\n",
       "      <td>0</td>\n",
       "      <td>0</td>\n",
       "      <td>0</td>\n",
       "      <td>1</td>\n",
       "      <td>0</td>\n",
       "      <td>...</td>\n",
       "      <td>1</td>\n",
       "      <td>0</td>\n",
       "      <td>0</td>\n",
       "      <td>1</td>\n",
       "      <td>/home/common/datasets/celeba/img_align_celeba/...</td>\n",
       "      <td>000005.jpg</td>\n",
       "      <td>train</td>\n",
       "      <td>'4'</td>\n",
       "      <td>ImagePathCell(/home/common/datasets/celeba/img...</td>\n",
       "      <td>ImagePathCell(/home/common/datasets/celeba/img...</td>\n",
       "    </tr>\n",
       "    <tr>\n",
       "      <th>...</th>\n",
       "      <td>...</td>\n",
       "      <td>...</td>\n",
       "      <td>...</td>\n",
       "      <td>...</td>\n",
       "      <td>...</td>\n",
       "      <td>...</td>\n",
       "      <td>...</td>\n",
       "      <td>...</td>\n",
       "      <td>...</td>\n",
       "      <td>...</td>\n",
       "      <td>...</td>\n",
       "      <td>...</td>\n",
       "      <td>...</td>\n",
       "      <td>...</td>\n",
       "      <td>...</td>\n",
       "      <td>...</td>\n",
       "      <td>...</td>\n",
       "      <td>...</td>\n",
       "      <td>...</td>\n",
       "      <td>...</td>\n",
       "      <td>...</td>\n",
       "    </tr>\n",
       "    <tr>\n",
       "      <th>202594</th>\n",
       "      <td>202595.jpg</td>\n",
       "      <td>9761</td>\n",
       "      <td>0</td>\n",
       "      <td>0</td>\n",
       "      <td>1</td>\n",
       "      <td>0</td>\n",
       "      <td>0</td>\n",
       "      <td>0</td>\n",
       "      <td>1</td>\n",
       "      <td>0</td>\n",
       "      <td>...</td>\n",
       "      <td>1</td>\n",
       "      <td>0</td>\n",
       "      <td>0</td>\n",
       "      <td>1</td>\n",
       "      <td>/home/common/datasets/celeba/img_align_celeba/...</td>\n",
       "      <td>202595.jpg</td>\n",
       "      <td>test</td>\n",
       "      <td>'202594'</td>\n",
       "      <td>ImagePathCell(/home/common/datasets/celeba/img...</td>\n",
       "      <td>ImagePathCell(/home/common/datasets/celeba/img...</td>\n",
       "    </tr>\n",
       "    <tr>\n",
       "      <th>202595</th>\n",
       "      <td>202596.jpg</td>\n",
       "      <td>7192</td>\n",
       "      <td>0</td>\n",
       "      <td>0</td>\n",
       "      <td>0</td>\n",
       "      <td>0</td>\n",
       "      <td>0</td>\n",
       "      <td>1</td>\n",
       "      <td>1</td>\n",
       "      <td>0</td>\n",
       "      <td>...</td>\n",
       "      <td>0</td>\n",
       "      <td>0</td>\n",
       "      <td>0</td>\n",
       "      <td>1</td>\n",
       "      <td>/home/common/datasets/celeba/img_align_celeba/...</td>\n",
       "      <td>202596.jpg</td>\n",
       "      <td>test</td>\n",
       "      <td>'202595'</td>\n",
       "      <td>ImagePathCell(/home/common/datasets/celeba/img...</td>\n",
       "      <td>ImagePathCell(/home/common/datasets/celeba/img...</td>\n",
       "    </tr>\n",
       "    <tr>\n",
       "      <th>202596</th>\n",
       "      <td>202597.jpg</td>\n",
       "      <td>9852</td>\n",
       "      <td>0</td>\n",
       "      <td>0</td>\n",
       "      <td>0</td>\n",
       "      <td>0</td>\n",
       "      <td>0</td>\n",
       "      <td>0</td>\n",
       "      <td>0</td>\n",
       "      <td>0</td>\n",
       "      <td>...</td>\n",
       "      <td>0</td>\n",
       "      <td>0</td>\n",
       "      <td>0</td>\n",
       "      <td>1</td>\n",
       "      <td>/home/common/datasets/celeba/img_align_celeba/...</td>\n",
       "      <td>202597.jpg</td>\n",
       "      <td>test</td>\n",
       "      <td>'202596'</td>\n",
       "      <td>ImagePathCell(/home/common/datasets/celeba/img...</td>\n",
       "      <td>ImagePathCell(/home/common/datasets/celeba/img...</td>\n",
       "    </tr>\n",
       "    <tr>\n",
       "      <th>202597</th>\n",
       "      <td>202598.jpg</td>\n",
       "      <td>5570</td>\n",
       "      <td>0</td>\n",
       "      <td>1</td>\n",
       "      <td>1</td>\n",
       "      <td>0</td>\n",
       "      <td>0</td>\n",
       "      <td>0</td>\n",
       "      <td>1</td>\n",
       "      <td>0</td>\n",
       "      <td>...</td>\n",
       "      <td>1</td>\n",
       "      <td>0</td>\n",
       "      <td>0</td>\n",
       "      <td>1</td>\n",
       "      <td>/home/common/datasets/celeba/img_align_celeba/...</td>\n",
       "      <td>202598.jpg</td>\n",
       "      <td>test</td>\n",
       "      <td>'202597'</td>\n",
       "      <td>ImagePathCell(/home/common/datasets/celeba/img...</td>\n",
       "      <td>ImagePathCell(/home/common/datasets/celeba/img...</td>\n",
       "    </tr>\n",
       "    <tr>\n",
       "      <th>202598</th>\n",
       "      <td>202599.jpg</td>\n",
       "      <td>10101</td>\n",
       "      <td>0</td>\n",
       "      <td>1</td>\n",
       "      <td>1</td>\n",
       "      <td>0</td>\n",
       "      <td>0</td>\n",
       "      <td>0</td>\n",
       "      <td>0</td>\n",
       "      <td>0</td>\n",
       "      <td>...</td>\n",
       "      <td>1</td>\n",
       "      <td>0</td>\n",
       "      <td>0</td>\n",
       "      <td>1</td>\n",
       "      <td>/home/common/datasets/celeba/img_align_celeba/...</td>\n",
       "      <td>202599.jpg</td>\n",
       "      <td>test</td>\n",
       "      <td>'202598'</td>\n",
       "      <td>ImagePathCell(/home/common/datasets/celeba/img...</td>\n",
       "      <td>ImagePathCell(/home/common/datasets/celeba/img...</td>\n",
       "    </tr>\n",
       "  </tbody>\n",
       "</table>\n",
       "<p>202599 rows × 48 columns</p>\n",
       "</div>"
      ]
     },
     "metadata": {},
     "execution_count": 6
    }
   ],
   "metadata": {}
  },
  {
   "cell_type": "code",
   "execution_count": 2,
   "source": [
    "data_dp, _ = terra.out(1412, load=True)\n",
    "data_dp[\"activation_model.layer4\"] = data_dp[\"activation_layer4\"]"
   ],
   "outputs": [],
   "metadata": {}
  },
  {
   "cell_type": "code",
   "execution_count": 3,
   "source": [
    "sdm = GeorgeSDM(config={\"n_slices\": 5})"
   ],
   "outputs": [],
   "metadata": {}
  },
  {
   "cell_type": "code",
   "execution_count": 4,
   "source": [
    "sdm.fit(data_dp)"
   ],
   "outputs": [
    {
     "output_type": "execute_result",
     "data": {
      "text/plain": [
       "<domino.sdm.george.GeorgeSDM at 0x7ff0df50d8e0>"
      ]
     },
     "metadata": {},
     "execution_count": 4
    }
   ],
   "metadata": {}
  },
  {
   "cell_type": "code",
   "execution_count": 5,
   "source": [
    "out = sdm.transform(data_dp)"
   ],
   "outputs": [],
   "metadata": {}
  },
  {
   "cell_type": "code",
   "execution_count": 24,
   "source": [
    "df = out[[\"george_umap_0\", \"george_umap_1\", \"george_slices\", \"arched_eyebrows\", \"black_hair\"]].to_pandas()\n",
    "sns.scatterplot(\n",
    "    data=df, \n",
    "    x=\"george_umap_0\", \n",
    "    y=\"george_umap_1\",\n",
    "    alpha=0.01,\n",
    "    palette=\"Set2\",\n",
    "    hue=\"black_hair\"\n",
    ")"
   ],
   "outputs": [
    {
     "output_type": "execute_result",
     "data": {
      "text/plain": [
       "<AxesSubplot:xlabel='george_umap_0', ylabel='george_umap_1'>"
      ]
     },
     "metadata": {},
     "execution_count": 24
    },
    {
     "output_type": "display_data",
     "data": {
      "text/plain": [
       "<Figure size 432x288 with 1 Axes>"
      ],
      "image/png": "[encoded data removed]"
     },
     "metadata": {
      "needs_background": "light"
     }
    }
   ],
   "metadata": {}
  },
  {
   "cell_type": "code",
   "execution_count": 20,
   "source": [
    "from sklearn.metrics import roc_auc_score\n",
    "roc_auc_score(out[\"arched_eyebrows\"], out[\"george_slice_1\"])"
   ],
   "outputs": [
    {
     "output_type": "execute_result",
     "data": {
      "text/plain": [
       "0.6110107605304324"
      ]
     },
     "metadata": {},
     "execution_count": 20
    }
   ],
   "metadata": {}
  },
  {
   "cell_type": "code",
   "execution_count": 36,
   "source": [],
   "outputs": [
    {
     "output_type": "execute_result",
     "data": {
      "text/plain": [
       "{'dp': <terra.io.Artifact at 0x7fc146f21fd0>,\n",
       " 'split': 'test',\n",
       " 'layers': {'layer4': 'model.layer4'},\n",
       " 'target': 'arched_eyebrows',\n",
       " 'correlate': 'black_hair',\n",
       " 'corr': 0.6000000000000001,\n",
       " 'num_examples': 30000.0,\n",
       " 'model': <terra.io.Artifact at 0x7fc146f21f10>,\n",
       " 'run_dir': '/home/sabri/terra/slice/tasks/evaluate/train/score_model/_runs/1412',\n",
       " 'num_workers': 6,\n",
       " 'batch_size': 512}"
      ]
     },
     "metadata": {},
     "execution_count": 36
    }
   ],
   "metadata": {}
  },
  {
   "cell_type": "code",
   "execution_count": 1,
   "source": [
    "import ray.tune as tune"
   ],
   "outputs": [],
   "metadata": {}
  },
  {
   "cell_type": "code",
   "execution_count": null,
   "source": [],
   "outputs": [],
   "metadata": {}
  }
 ],
 "metadata": {
  "interpreter": {
   "hash": "0d937a63d09daec3f9548a5c769ccb20edb9c2c1ae2375686b21850f577713d2"
  },
  "kernelspec": {
   "display_name": "Python 3.8.10 64-bit ('domino': conda)",
   "name": "python3"
  },
  "language_info": {
   "codemirror_mode": {
    "name": "ipython",
    "version": 3
   },
   "file_extension": ".py",
   "mimetype": "text/x-python",
   "name": "python",
   "nbconvert_exporter": "python",
   "pygments_lexer": "ipython3",
   "version": "3.8.10"
  }
 },
 "nbformat": 4,
 "nbformat_minor": 2
}