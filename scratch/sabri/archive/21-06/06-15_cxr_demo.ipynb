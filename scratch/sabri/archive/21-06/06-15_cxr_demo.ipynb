{
 "metadata": {
  "language_info": {
   "codemirror_mode": {
    "name": "ipython",
    "version": 3
   },
   "file_extension": ".py",
   "mimetype": "text/x-python",
   "name": "python",
   "nbconvert_exporter": "python",
   "pygments_lexer": "ipython3",
   "version": "3.8.10"
  },
  "orig_nbformat": 2,
  "kernelspec": {
   "name": "python3",
   "display_name": "Python 3.8.10 64-bit ('domino': conda)"
  },
  "interpreter": {
   "hash": "c69732a7865039e91888aaead3ff2569340c124c546c64a2f5d6518a2cd9a0e4"
  }
 },
 "nbformat": 4,
 "nbformat_minor": 2,
 "cells": [
  {
   "cell_type": "code",
   "execution_count": 2,
   "metadata": {},
   "outputs": [
    {
     "output_type": "stream",
     "name": "stdout",
     "text": [
      "The autoreload extension is already loaded. To reload it, use:\n  %reload_ext autoreload\n"
     ]
    }
   ],
   "source": [
    "%load_ext autoreload\n",
    "%autoreload 2\n",
    "\n",
    "import mosaic as ms\n",
    "from mosaic.contrib.siim_cxr import download_siim_cxr"
   ]
  },
  {
   "cell_type": "code",
   "execution_count": 3,
   "metadata": {},
   "outputs": [],
   "source": [
    "import mosaic as ms\n",
    "from mosaic.contrib.siim_cxr import download_siim_cxr\n",
    "download_siim_cxr(\"test\", \"sabrieyuboglu\", \"8124277674a280e445d0c7c0ed769fd3\")"
   ]
  },
  {
   "cell_type": "code",
   "execution_count": 12,
   "metadata": {},
   "outputs": [
    {
     "output_type": "stream",
     "name": "stdout",
     "text": [
      "zsh:1: command not found: kaggle\n"
     ]
    }
   ],
   "source": [
    "\n",
    "import kaggle\n",
    "! kaggle --help "
   ]
  },
  {
   "cell_type": "code",
   "execution_count": 13,
   "metadata": {},
   "outputs": [],
   "source": [
    "import os\n",
    "os.environ[\"KAGGLE_USERNAME\"] = \"sabrieyuboglu\"  # add Kaggle username here\n",
    "os.environ[\"KAGGLE_KEY\"] = \"8124277674a280e445d0c7c0ed769fd3\"  # add Kaggle key here\n"
   ]
  },
  {
   "cell_type": "code",
   "execution_count": 14,
   "metadata": {},
   "outputs": [],
   "source": [
    "from mosaic.contrib.siim_cxr import GAZE_DATA_URL\n",
    "import subprocess\n",
    "dataset_dir = \"test\"\n",
    "cwd = os.getcwd()\n",
    "os.chdir(dataset_dir)\n",
    "subprocess.run([\"curl\", GAZE_DATA_URL, \"--output\", os.path.join(dataset_dir, \"gaze_data.pkl\"])\n",
    "os.chdir(cwd)"
   ]
  },
  {
   "cell_type": "code",
   "execution_count": 10,
   "metadata": {},
   "outputs": [],
   "source": [
    "os.chdir(\"/Users/sabrieyuboglu/code/domino/scratch/sabri\")"
   ]
  },
  {
   "cell_type": "code",
   "execution_count": null,
   "metadata": {},
   "outputs": [],
   "source": []
  }
 ]
}