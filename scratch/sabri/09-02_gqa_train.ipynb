{
 "cells": [
  {
   "cell_type": "code",
   "execution_count": 1,
   "id": "a5c8d0b9-b22d-4283-899f-bd9c79c85a49",
   "metadata": {},
   "outputs": [],
   "source": [
    "%load_ext autoreload\n",
    "%autoreload 2"
   ]
  },
  {
   "cell_type": "code",
   "execution_count": 2,
   "id": "8b11cd68-1ff2-4350-acaf-e60bdc7a82dc",
   "metadata": {},
   "outputs": [],
   "source": [
    "import os\n",
    "import terra\n",
    "import seaborn as sns\n",
    "import meerkat as mk\n",
    "import numpy as np\n",
    "from meerkat.contrib.gqa import read_gqa_dps\n",
    "from domino.data.visual_genome import ATTRIBUTE_GROUPS"
   ]
  },
  {
   "cell_type": "code",
   "execution_count": 3,
   "id": "08baae08-d493-407c-9871-635be0cf83f8",
   "metadata": {},
   "outputs": [],
   "source": [
    "dps = read_gqa_dps(\"/home/common/datasets/gqa\")\n",
    "object_dp, image_dp, attr_dp = dps[\"objects\"], dps[\"images\"], dps[\"attributes\"]"
   ]
  },
  {
   "cell_type": "code",
   "execution_count": 4,
   "id": "68b4053d-6291-4363-9099-53b5ac6f9c4d",
   "metadata": {},
   "outputs": [
    {
     "name": "stderr",
     "output_type": "stream",
     "text": [
      "/home/sabri/code/meerkat/meerkat/nn/__init__.py:7: ExperimentalWarning: The `meerkat.nn` module is experimental and has limited test coverage. Proceed with caution.\n",
      "  warnings.warn(\n"
     ]
    }
   ],
   "source": [
    "from domino.slices.gqa import collect_correlation_slices\n",
    "from domino.slices.train import train_slices\n",
    "\n",
    "slices_dp = collect_correlation_slices.out(4690, load=True)"
   ]
  },
  {
   "cell_type": "code",
   "execution_count": null,
   "id": "4cdff592-8899-44e6-8a59-ca0e6e4b00aa",
   "metadata": {},
   "outputs": [],
   "source": []
  },
  {
   "cell_type": "code",
   "execution_count": 32,
   "id": "b50bef39-bc96-4cc3-b5cb-203b6d02ffdf",
   "metadata": {},
   "outputs": [
    {
     "data": {
      "text/plain": [
       "head        18762\n",
       "pole        16968\n",
       "hand        16626\n",
       "grass       16194\n",
       "hair        15905\n",
       "leg         15487\n",
       "car         13074\n",
       "woman       12958\n",
       "trees       12154\n",
       "table       12154\n",
       "leaves      12144\n",
       "ear         12075\n",
       "pants       10794\n",
       "people      10676\n",
       "eye         10622\n",
       "water       10046\n",
       "door         9995\n",
       "fence        9112\n",
       "nose         8739\n",
       "wheel        8721\n",
       "chair        8455\n",
       "floor        8372\n",
       "arm          8245\n",
       "jacket       8147\n",
       "hat          8030\n",
       "shoe         8000\n",
       "tail         7453\n",
       "clouds       7316\n",
       "leaf         7280\n",
       "face         7211\n",
       "letter       7085\n",
       "plate        7006\n",
       "number       7003\n",
       "windows      6714\n",
       "shorts       6438\n",
       "road         6375\n",
       "flower       6133\n",
       "sidewalk     6112\n",
       "bag          5874\n",
       "helmet       5584\n",
       "Name: name, dtype: int64"
      ]
     },
     "execution_count": 32,
     "metadata": {},
     "output_type": "execute_result"
    }
   ],
   "source": [
    "object_dp[\"name\"].data.value_counts().iloc[10:50]"
   ]
  },
  {
   "cell_type": "code",
   "execution_count": 46,
   "id": "b71cee70-7e7f-4048-83c1-15582a870649",
   "metadata": {},
   "outputs": [
    {
     "data": {
      "text/plain": [
       "shirt         28722\n",
       "pants         10794\n",
       "jacket         8147\n",
       "hat            8030\n",
       "shoe           8000\n",
       "shorts         6438\n",
       "shoes          4305\n",
       "coat           3378\n",
       "glove          2952\n",
       "tie            2174\n",
       "dress          1707\n",
       "t-shirt        1580\n",
       "sweater        1504\n",
       "suit           1296\n",
       "boot           1283\n",
       "gloves         1155\n",
       "skirt          1102\n",
       "boots          1051\n",
       "scarf           946\n",
       "sweatshirt      348\n",
       "Name: name, dtype: int64"
      ]
     },
     "execution_count": 46,
     "metadata": {},
     "output_type": "execute_result"
    }
   ],
   "source": [
    "object_dp.lz[object_dp[\"name\"].isin([\n",
    "    \"shirt\",\n",
    "    \"t-shirt\",\n",
    "    \"skirt\",\n",
    "    \"scarf\",\n",
    "    \"tie\",\n",
    "    \"pants\",\n",
    "    \"boot\",\n",
    "    \"boots\",\n",
    "    \"shorts\",\n",
    "    \"jacket\",\n",
    "    \"coat\",\n",
    "    \"sweater\",\n",
    "    \"sweatshirt\",\n",
    "    \"dress\",\n",
    "    \"hat\",\n",
    "    \"shoe\",\n",
    "    \"shoes\",\n",
    "    \"glove\",\n",
    "    \"gloves\",\n",
    "    \"suit\",\n",
    "])]['name'].data.value_counts()"
   ]
  },
  {
   "cell_type": "code",
   "execution_count": 29,
   "id": "62fd000f-b510-4cf2-b2a9-c088d4ed6cab",
   "metadata": {},
   "outputs": [
    {
     "data": {
      "text/plain": [
       "41"
      ]
     },
     "execution_count": 29,
     "metadata": {},
     "output_type": "execute_result"
    }
   ],
   "source": [
    "object_dp[\"name\"].isin([\"turkey\"]).sum()"
   ]
  },
  {
   "cell_type": "code",
   "execution_count": 7,
   "id": "7582f720-de22-4273-bbc0-b438d31d7a0a",
   "metadata": {},
   "outputs": [],
   "source": [
    "y = dp[\"name\"].isin([\"dog\", \"cow\", \"cat\", \"bird\", \"horse\"])\n",
    "y_hat = np.zeros(len(y))\n",
    "\n",
    "PARAM_A = 1\n",
    "PARAM_B = 7\n",
    "mask = dp[\"name\"].isin([\"cat\", \"horse\"])\n",
    "y_hat[mask] = np.random.beta(PARAM_A, PARAM_B, mask.sum())\n",
    "\n",
    "mask = dp[\"name\"].isin([\"dog\", \"cow\", \"bird\"])\n",
    "y_hat[mask] = np.random.beta(PARAM_B, PARAM_A, mask.sum())\n",
    "\n",
    "mask = dp[\"name\"].isin([\"pizza\", \"tree\"])\n",
    "y_hat[mask] = np.random.beta(PARAM_A, PARAM_B, mask.sum())\n",
    "\n",
    "y_oh = np.zeros((len(y), 2))\n",
    "y_oh[y == 0, 0] = 1\n",
    "y_oh[y == 1, 1] = 1\n",
    "y = y_oh\n",
    "y_hat = np.array([1 - y_hat, y_hat]).T"
   ]
  },
  {
   "cell_type": "code",
   "execution_count": 8,
   "id": "ea2278e8-6c87-4886-868f-00a0f43903c6",
   "metadata": {},
   "outputs": [],
   "source": [
    "from sklearn.mixture import GaussianMixture\n",
    "gmm = GaussianMixture(n_components = 8, max_iter = 1000, tol = 1e-4)\n",
    "out = gmm.fit_predict(X)"
   ]
  },
  {
   "cell_type": "code",
   "execution_count": 9,
   "id": "311be595-7f9d-4ba2-8d9c-a1d7f0f23489",
   "metadata": {},
   "outputs": [
    {
     "data": {
      "text/plain": [
       "clusters  name \n",
       "0         tree     8280\n",
       "          cat         4\n",
       "          pizza       4\n",
       "          bird        3\n",
       "          cow         3\n",
       "          dog         3\n",
       "          horse       3\n",
       "1         tree     4777\n",
       "          horse    2101\n",
       "          cow       223\n",
       "          bird      211\n",
       "          dog       123\n",
       "          cat        51\n",
       "          pizza      26\n",
       "2         tree     2324\n",
       "          cow      2104\n",
       "          bird     1952\n",
       "          horse    1113\n",
       "          dog        99\n",
       "          cat        11\n",
       "          pizza       2\n",
       "3         pizza    1986\n",
       "          dog        40\n",
       "          bird        8\n",
       "          tree        8\n",
       "          cat         6\n",
       "          horse       3\n",
       "          cow         2\n",
       "4         tree     4541\n",
       "          bird        9\n",
       "          horse       5\n",
       "          cow         3\n",
       "          cat         2\n",
       "          pizza       2\n",
       "5         dog      2590\n",
       "          cat      2195\n",
       "          tree       77\n",
       "          cow        30\n",
       "          bird       14\n",
       "          pizza      11\n",
       "          horse       7\n",
       "6         tree     5488\n",
       "          cow         5\n",
       "          horse       5\n",
       "          bird        3\n",
       "          dog         3\n",
       "          pizza       3\n",
       "7         bird     1701\n",
       "          tree     1497\n",
       "          cow       473\n",
       "          horse     225\n",
       "          dog       204\n",
       "          pizza      61\n",
       "          cat        54\n",
       "Name: name, dtype: int64"
      ]
     },
     "execution_count": 9,
     "metadata": {},
     "output_type": "execute_result"
    }
   ],
   "source": [
    "dp[\"clusters\"] = out\n",
    "df = dp[[\"name\", \"clusters\"]].to_pandas()\n",
    "df.groupby(\"clusters\")[\"name\"].value_counts()"
   ]
  },
  {
   "cell_type": "code",
   "execution_count": 103,
   "id": "e81eb4cd-6972-4307-9d50-2932fb71d045",
   "metadata": {},
   "outputs": [
    {
     "data": {
      "text/html": [
       "<table border=\"1\" class=\"dataframe\">\n",
       "  <thead>\n",
       "    <tr style=\"text-align: right;\">\n",
       "      <th></th>\n",
       "      <th>object_image (LambdaColumn)</th>\n",
       "      <th>name (PandasSeriesColumn)</th>\n",
       "    </tr>\n",
       "  </thead>\n",
       "  <tbody>\n",
       "    <tr>\n",
       "      <th>0</th>\n",
       "      <td><img src=\"data:image/jpeg;base64,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\"></td>\n",
       "      <td>cat</td>\n",
       "    </tr>\n",
       "    <tr>\n",
       "      <th>1</th>\n",
       "      <td><img src=\"data:image/jpeg;base64,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\"></td>\n",
       "      <td>cat</td>\n",
       "    </tr>\n",
       "    <tr>\n",
       "      <th>2</th>\n",
       "      <td><img src=\"data:image/jpeg;base64,/9j/4AAQSkZJRgABAQAAAQABAAD/2wBDAAgGBgcGBQgHBwcJCQgKDBQNDAsLDBkSEw8UHRofHh0aHBwgJC4nICIsIxwcKDcpLDAxNDQ0Hyc5PTgyPC4zNDL/2wBDAQkJCQwLDBgNDRgyIRwhMjIyMjIyMjIyMjIyMjIyMjIyMjIyMjIyMjIyMjIyMjIyMjIyMjIyMjIyMjIyMjIyMjL/wAARCAAnACcDASIAAhEBAxEB/8QAHwAAAQUBAQEBAQEAAAAAAAAAAAECAwQFBgcICQoL/8QAtRAAAgEDAwIEAwUFBAQAAAF9AQIDAAQRBRIhMUEGE1FhByJxFDKBkaEII0KxwRVS0fAkM2JyggkKFhcYGRolJicoKSo0NTY3ODk6Q0RFRkdISUpTVFVWV1hZWmNkZWZnaGlqc3R1dnd4eXqDhIWGh4iJipKTlJWWl5iZmqKjpKWmp6ipqrKztLW2t7i5usLDxMXGx8jJytLT1NXW19jZ2uHi4+Tl5ufo6erx8vP09fb3+Pn6/8QAHwEAAwEBAQEBAQEBAQAAAAAAAAECAwQFBgcICQoL/8QAtREAAgECBAQDBAcFBAQAAQJ3AAECAxEEBSExBhJBUQdhcRMiMoEIFEKRobHBCSMzUvAVYnLRChYkNOEl8RcYGRomJygpKjU2Nzg5OkNERUZHSElKU1RVVldYWVpjZGVmZ2hpanN0dXZ3eHl6goOEhYaHiImKkpOUlZaXmJmaoqOkpaanqKmqsrO0tba3uLm6wsPExcbHyMnK0tPU1dbX2Nna4uPk5ebn6Onq8vP09fb3+Pn6/9oADAMBAAIRAxEAPwDF8caxqOpw/YraaJLCPDtaqAXZlzyW7454GMe9eeFt46cnqK9Bs7WbWLZrjToSrk7WVpEVZSOdoLEZwcVDpHwt1ie5V9SltrC1C5eVZllZfYKOM/U4Hv0pKo38RrVpxi/d6nBGMKNrlj7DtQsceDhmX/eFe5WfhPwPDa+TDp9vqBjY+ZNPIzuSPUqQBz6DFV9R8GeE9R06aCO1t9KuMZguYgw2N6MCfmH688Gp9pG9iXTna9jxpUPUFdn5k0V2Xi/wlZ+F9Nia0kuZ5gV8yV3XbJuzwqgcYxnqaK0jLmV0ZvR2Y7wi+lXetT6ck0r2McZnEjZGHDKPlwM7fmzk46Zr0y9s49S0v7C7boOrgtyfcmvHNB1G48OrI1mkNzeahbqnlyISIl3bhnpljxx0xjrV5vGviS2kLtcWUu7jAiBH04I9PespQb2ZtzdzuNTgs9J0IWdriGNfm/dnblvU46/jWf4YkW+M1nPI00DDaYpcFSvuP5HrXG33jKfUPL820VNoy6q2QzDpweQM84qTwt4kh07WIHmyVaIRN2O7JIPOPXFS07amkZJ6XOw+IVra2Xh7TraIhGguWSJc87NvP5HH50Vz/jOe61XXo5n+zw2flbLaSe6jiVlBO5sMd3LZAOOcCitqV1A5pJyk2ZGqavFqJie30u3sREhTbEdxfccnLEAnjjnJ5PNZDhnBEDFSeqE8fh6UUUkrFMZ9mlnzvU7h/uj+VWU0+CCzjluzO/nbiEg2jaisVLEt3JDYA9M57UUU+pJLfbr3WXmkgRk4WOJDtAjCgIoPbC7aKKKOZpWTNItpH//Z\"></td>\n",
       "      <td>dog</td>\n",
       "    </tr>\n",
       "    <tr>\n",
       "      <th>3</th>\n",
       "      <td><img src=\"data:image/jpeg;base64,/9j/4AAQSkZJRgABAQAAAQABAAD/2wBDAAgGBgcGBQgHBwcJCQgKDBQNDAsLDBkSEw8UHRofHh0aHBwgJC4nICIsIxwcKDcpLDAxNDQ0Hyc5PTgyPC4zNDL/2wBDAQkJCQwLDBgNDRgyIRwhMjIyMjIyMjIyMjIyMjIyMjIyMjIyMjIyMjIyMjIyMjIyMjIyMjIyMjIyMjIyMjIyMjL/wAARCABrAIADASIAAhEBAxEB/8QAHwAAAQUBAQEBAQEAAAAAAAAAAAECAwQFBgcICQoL/8QAtRAAAgEDAwIEAwUFBAQAAAF9AQIDAAQRBRIhMUEGE1FhByJxFDKBkaEII0KxwRVS0fAkM2JyggkKFhcYGRolJicoKSo0NTY3ODk6Q0RFRkdISUpTVFVWV1hZWmNkZWZnaGlqc3R1dnd4eXqDhIWGh4iJipKTlJWWl5iZmqKjpKWmp6ipqrKztLW2t7i5usLDxMXGx8jJytLT1NXW19jZ2uHi4+Tl5ufo6erx8vP09fb3+Pn6/8QAHwEAAwEBAQEBAQEBAQAAAAAAAAECAwQFBgcICQoL/8QAtREAAgECBAQDBAcFBAQAAQJ3AAECAxEEBSExBhJBUQdhcRMiMoEIFEKRobHBCSMzUvAVYnLRChYkNOEl8RcYGRomJygpKjU2Nzg5OkNERUZHSElKU1RVVldYWVpjZGVmZ2hpanN0dXZ3eHl6goOEhYaHiImKkpOUlZaXmJmaoqOkpaanqKmqsrO0tba3uLm6wsPExcbHyMnK0tPU1dbX2Nna4uPk5ebn6Onq8vP09fb3+Pn6/9oADAMBAAIRAxEAPwDgNLtNP1uB4zdXFpcqOSwDKw9f8mluvDWrWP7yFkvIv70R5x7isvTdXWwu0nSIgg8jOQR716vZ2UWo2Av7GRvLYAlFHI/+tXO2+h0uKR5ot04Uo4Kt0II5qtJOfM+Xj3r0G+06zuo2NykZkXgP0bP865W68PtNOI7Jw7MflVzg/n0NJPXUGtNDGjYPGznhB1JPFUriSRzGVGNx79/f6VbubeQRbHBjMYwQ3Tj1qnbq9zI3UCJCWbHQf5zWqMZdghbMpyeAMZqSW5Clccn37VM4RVG2PCD0/wA9ap3ZVHQbSHxkrnn61RJYtLpmceYuFbvVx78rICDwABgCs2FWHO3aD2HOMVq2GjXV9jaoRT/G3H/66mTXUuKYfbo1O6RVI9KdDeTzPm0spZU/2VJH510Nr4fsLB0N0n2iQngv90fh/jXQGzE1q7SM8FqVyqbQABjsBWd79DSxycAmkaNZEkR1H3XGKZechAeCyknntmphexf2gwQuEUEI3cgetRzEFzISME4BftUrcGZVyilHjIB2jOf8ayprcSxgluP5VqGMvG+1gVYkHjOfeqUbIJdjkshXJ7YNaozZl+TPjIViPYV1/g/xTqOkXC2jWnnxPwAcqwz6Gsx7kxglTuP+whJ/Stnw/EZZDdfMdozuZfu/n3py21BbndTaZcX8K3RhWJH/AIGOGPtx/wDXrk9XiuLIn5dpzkYfJX3rbm1i+hC3BmkMRTKp5gBz0xyOeao3qm7t1+0WssZJ+VsZGT+tYXNbHD3UzSfNube33vc0+2jX+xL0xgNKWXe2e2ef1xxV6TSQblyC3lY+9jHXP+FR6YLVGvLaK3mbI2s0nAGO3atbq2hnbUbbJBObaAbkET5kOMFh6n6msm5G3UriTG4+cwGe3pxXS6dYxSW9yWVYhsZSOSc4+99M0SaMjWcbzWwjuHQKSHGGIAAb6k0cyuHLoVdNv1gheJbeJpXBAdk3FR7elbVh5wKuMBc/MS3UVlWenxwuC7MCP7vzZ9K6W2vBaop8hpQpHO3IPtmok10NIp9TV0ufbOieVDISS26RyAfzHP6VLrWpQNDIsyeUyqRsV94bjjGOlUZfFV3HIIoYLYKowRyeT/nsKzLmOJtSeeLrIuXAOaSYdTNhjVU80rz785qG5UrFlGGT82O4q8wdoQg+8mfoB/T6VUEwyYwC5Ix070LuJmKrYjKBjkck56VSkjwyyMOc8gd6sXO6K8ctllbJwRjHNVJLrfGR1BPJrZGbPXoPhLrY4fUbRR6KG4/SpdY8IXfhjR4maWC4819rFTgjvXqZubj+/CPzNY3ii0l1XRZIftERZPnULGckjtVSV0RF2Z5vHHCtuTMFJVRtc9xxgGqN1OJIxuQ7uflVcKQe3Y8cEUaTqUx1Bba+tyiLmPcRgKSehqslnc/8JGtsk5EO5j5ZG7kc8Vz8p0JlK63RSKvLAkkDpx/njFZCXdw0V0ZnKMjbUVwRjGf1zmt3UFlbXFt2iKKo35PUmqF4YUtJgyYZLwEZ535GTn2ql2FJEGnXG3Sr4yuzxvGV5GMsR2NX7SWSa2g2pgGNch+p4H+HSqdnaLefZrBWb5pnYgdgBnArbsBFZ66iTxb1cEqCeMik7BFXJYYpQnmeWjdBtIHQe/8ASnvBGIiQpj2sGAOeMdAPc0mo3cSarPGibVXlWYYrSsIN1ubmd0Kxgt6c+ntUNGrskZFwsiXYZiDkj5T1yfQdzT7aIYdhjcvUdyD/ACpVkt5/3rPCwzxGuD7/AIVJZlrWJt6gh+PfNDZBmNsMzx8qd3JHBxVZ54YgkfChST06jtmlulWTUSDJsGOQep5rN1wKEWOHgwgs2R1HpWkUQ2UNUQy4ZX+994VnhYzC4Gdy8gVdWdpYCrqAw654rNO1XP7rYP8AZPFaozZ9ZGZewzQSXQ5XikMUvGSkY9+DTGMKH5mZz7mrMjjfEmjfZ3bULNB5mQZEHRh649appbw6oyXMNjvmTBaNCFkH+6eh/nXeGTehHlhVPbH+NcRrGhNp959tsg5R3yURyNpPpjtWU49Ua059GZ2p3IGoC6n0G/t9q7GuioYYPcjNY9/aoblkIUnGVZeAQR/gTXXX2q37eHrm2vC5LJtCuBu//VXKadaz3YCtuaWNQh79Oma5+a2p1ct0Q2unmG/t54ELyghVQYA6c1salHYWPiCKW/Vo50j+aNSWVCehOBVj7ELAJKzqGj+YAjuP/wBVM0PVXu/EVzqGowrIHHyoR8uOn+frS5ru4KNkZ7xabPeCZr5Z2YgFIwTj6+9bs6wRaGy6p8zSt+6g24O31wB3qPUdbxcf6LaQWpAJ8xYRk/j2rOFlPqUnnxvLPOeC7n5fzq1eWiJlaOrMTUdOga7aTTojDMOCinI9z9KWGOZbZfPlBcdI8ZJrpbTwpLFu33b7n6lRz+dT2fgm6e43ecoVeh7kfStOSXUx9ouhycXgfVtSR7/DtFg8K3I+grmLy2kttR8hrgsUHIbg/Q19KWEMdtaJCo5UYNc94q8EaZ4kjMrIIL1eUuEHOff1FaqOhHMfPuoR7nDoCoA7d6qqRt6fLngkVv8AiLQL7Q7z7HfowyfklHKuPUGseSPyiq54HfFIbPqJ2yC8r4H+0eP0qv5qONsSsfdRtH+NE5QOS5Lv2XsPr/hURtpZSCkqLnruOAPpVmRI2FxvlUc9EXcf8/jUiqtwu1YXkwed5yR+AohW3gVlUGVz1lPQfQf1qwjzScv8sCDjaNpP5UAjntW0uTzx5YEiyEY3dRXOaVZTWes30DZ2tLnB9DXdTrMQZGIkxyMDgelYOrxQ3s8dzHcXNndIu1iqBkcdsiuOpRZ30JOeyvYyPFLyLpksKnJYYAHU5o0+ygsrO3iuEZZXUHdtz36H86m06xR79ZtX1GSaJH3CFITh/TJPb2rqd9hJcpKj/MMKMR4Pr36dKhUpLQ0qPl1krENhobujNcQIqE/6t+vHcgVILECQrHHhQf4McfhxUxvGvIzHEpXGf3Y6MP8AGrNq8QjCSZU4xycj8jzXVThyrU4Kk+ZkCW8acIQT6Hg04blXeARjvVuSBnYBAkoxnk4/+vVZNmSA7RHuNuRWpkSpOJPvcP6+tSbz0brVKRSjZ4+q9DUsUoYBW69qCkylrui2evae9neRgg8qw+8h9RXg+t6Bc6JqklndEll5RwOHXsRX0RIOM1yfjfRF1nQ5JYkH2u2BeM45I7r+IpPUtHVWdlHzNcttQdATjcahvrkzZgUKIx8uF4xV4jKgNjGO/NZ9tCZpmXYuQeWPSmZliztQ6L8iJGvVuamaMQyt5bNtIxjPAq/5QSyABjIXqRkVlOwcfJndu9Qfx4oGO3MQQBge1ZuoWYZRMgwQPmHrWmqAoGYsCegprbgc9TSauXSqypS5oPU5ZlGQRkfhWppdn5/7xyQqn862kt1cZkUFfQilZVX5Y1CqOwGKFFLYutiKla3O9hIoooCdiAdz61Z+yW95nDrE59epqmzkEYqxbbgdygfXqaZgVI5WiuTCz5dOM460S5lB8tcv6BsZ/OptTdQI2cy7nbAJHSolBCq28f8AAx1/GmIjlHlnC8juuc1XJ2tkHFW5xzndwewFU5OxoAvxN5sf1qp/y1KHoeKlsSTuHoajkH/Ex2j1zSLRpTHYAXPTtVGeORW82LlDyQKuSqCORmmRdSn8OOlBJoWk0dxaCJXAJGCMVQmsTblg05lycj5cY9qqRM0EzNESpz2reidp7bMnzHHXFAzFzsBGDT4cHJbj0FSSookIxTmACDAoEKZVUc9KrtPvyuDk+lStyoHaoY0UyYI70ANYbQM5696uwxsq+YOR6U0xpu+7UvVKAIrzdPAIxI0eOd3XFUxIZCiB2cKMAt1NP1F2CIm47cZxmo7P/Uyt3A4NMRJOw2bc8iqMh7elWRzGSetUpSdrUCL+mr+7Zz3NEID3U9w33E71NENmmrt4+TNZuvO1v4KvJIiUfyScjr0qW7K5qj//2Q==\"></td>\n",
       "      <td>cat</td>\n",
       "    </tr>\n",
       "    <tr>\n",
       "      <th>4</th>\n",
       "      <td><img src=\"data:image/jpeg;base64,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\"></td>\n",
       "      <td>cat</td>\n",
       "    </tr>\n",
       "    <tr>\n",
       "      <th>...</th>\n",
       "      <td>...</td>\n",
       "      <td>...</td>\n",
       "    </tr>\n",
       "    <tr>\n",
       "      <th>4992</th>\n",
       "      <td><img src=\"data:image/jpeg;base64,/9j/4AAQSkZJRgABAQAAAQABAAD/2wBDAAgGBgcGBQgHBwcJCQgKDBQNDAsLDBkSEw8UHRofHh0aHBwgJC4nICIsIxwcKDcpLDAxNDQ0Hyc5PTgyPC4zNDL/2wBDAQkJCQwLDBgNDRgyIRwhMjIyMjIyMjIyMjIyMjIyMjIyMjIyMjIyMjIyMjIyMjIyMjIyMjIyMjIyMjIyMjIyMjL/wAARCABmAGUDASIAAhEBAxEB/8QAHwAAAQUBAQEBAQEAAAAAAAAAAAECAwQFBgcICQoL/8QAtRAAAgEDAwIEAwUFBAQAAAF9AQIDAAQRBRIhMUEGE1FhByJxFDKBkaEII0KxwRVS0fAkM2JyggkKFhcYGRolJicoKSo0NTY3ODk6Q0RFRkdISUpTVFVWV1hZWmNkZWZnaGlqc3R1dnd4eXqDhIWGh4iJipKTlJWWl5iZmqKjpKWmp6ipqrKztLW2t7i5usLDxMXGx8jJytLT1NXW19jZ2uHi4+Tl5ufo6erx8vP09fb3+Pn6/8QAHwEAAwEBAQEBAQEBAQAAAAAAAAECAwQFBgcICQoL/8QAtREAAgECBAQDBAcFBAQAAQJ3AAECAxEEBSExBhJBUQdhcRMiMoEIFEKRobHBCSMzUvAVYnLRChYkNOEl8RcYGRomJygpKjU2Nzg5OkNERUZHSElKU1RVVldYWVpjZGVmZ2hpanN0dXZ3eHl6goOEhYaHiImKkpOUlZaXmJmaoqOkpaanqKmqsrO0tba3uLm6wsPExcbHyMnK0tPU1dbX2Nna4uPk5ebn6Onq8vP09fb3+Pn6/9oADAMBAAIRAxEAPwCl42tV8QeEbXWIFzNAAHx1x/8AryPxFeWgB1wenrXq3g24S5gvNFuG/dyqdm7tnv8AgcGvPde8PXeh3UZljP2e43GGTtuVsOh9GVuCPTB6Gm0TF9DEYFDg/nSFNw4610+g+Er7XpAqx+XCCNztxgeteoaB8M9Hs7bF6Pt0pPJ6AfSodRI1UWeFxK+N204z1xxWjayN9w5yORX0VD4e0i0h8mDTLZI+QVaMGpRpWjWoeb+zbROMu5iHAqPb+Q/ZXPBtDv77w1rttqlikmAeVUfeU9V/TI9xX0/oetW2u6RBf2rhkkUZx2OOlcTNrXhwoyiC3mC4UhEUY9BV3wxquhpfvb6XKtvKR+8tM/Kfceh6/mapVL7omVN9DvN1JupqOsq5U07FamYZo3UYowKADNFJgUUAfLumXhsr+2ulPCttcj0P+f0r0HUTb3kUthdwRzWd+VvIyw5jmT5XKnsSNp/E15fHyrRkcdK7K2vzdeFYpSczWMoc+uPut+nNEldEx31N2zuFWQWttHtA4Cjqa6S2uorVxHOQZP7oPT61wreI7fRIGkBUsRktx0rPiu/E/iO5W5srM2lkxCCW4UrvHqB1/HpXKo9zq5j15Zluo/3YByPyrgviHql5ZG2tYIvMtifMfbIAXI6Zz2H88V0UdzHpVmkLTL8gGc8lz3PP+RXD+MdUiu2V1ZmY8DK7QPoelVCCbuyZTa2OJ08yWhurh3KmdTtUHIJznJI4q3ayyJrH26yu0gmkYHEmSd3quOo79sVRxbbXaVcNngrT7G4gCJgYfH3selb2RPPLdH0toWqR6hp0F1DLuJUCRWwDuxzW+OQCO/SvFvB3iKW3UW7tHs4AJH+H869RtNUMlqHQRsQMnDdqi/JoTrI2DxSZrPTVYSVWX92W6EniroYEZBB+lUpKWwnFrcdRSUVQj5j8Saf/AGV4ju7fbhN+5P8AdPI/nj8Ks+G7hRezWch/d3CHj3xg/wBK6L4oad81pqKL6xPj8x/WuDguDbXENwvHlsCfp3/T+VMhHYeG7Sxgnmmu4Ulu4JPLHmYO3HTAPH411V9qkgiGzAkYcYGT+Vcg7pFr0U5fbDeICx/2h/jTdX1+CJ8xkZAxgc1zzj7xvCXul27vpowzOsCHuZW3EVwmtasz3bDzfMG7lgcZ9qh1TWWuGO5sKOcf1rEwboRspJbksB1FaRVkJ6mnbrJcxnaVAx0Y9TVgaW8MYCTMyryG8oqOvP8A9aswWs6gMCyZ6HOKRY3eQbmbJbbk+vaqDQ1rbV7nSrneGYbWw3H5GvWvCfjWO6iTe+/swxjFeWRaM32CYuvzMnRhznsQawbW9uNOn3wSsjqe1S1cXXQ+g/EU00fkXdq7SWrdj1Q+hqTRvF00dzFEwJiZwjI3UD1FUvhxqjax4ZLX6CZCSrgjI4JGa1pvCFst7BcWcrJAHBdc7uK5mmpXR0KScbSO+xRUSSYQANnjrRXYctzzfxSkOq+HruBWUuE8xOe6814urAxkYztP6f8A6q7D/hOQsYyI898d64wyq107R8oxOPpnii5kjdilN54cwG/fWbcH2H/1q4W9u55LhwzEbSRXWaFcCG/a3f8A1c6lCPcdP0Nc5renSw6o6KhOTjgen/1sUmaxZlks56kk10mkWKQxiSZcsegPQ1TtdOWAB5CC+MkDtVg3HIC42g8D1qHLsaJGnLDHMWaRvlxxt6t/9anWcEHmKH4VSevfpVOORgOCRnvmnxSKTz1HXFK4cup1ln5UkRhfLKBtDexrzvVdOn06/kilVtu47WIwCPWu00m5wCrMAexrau9MtNXhjW4BBjIfK/kc+xqVO25TidF8Klax8PJG67d3zHPfOTXcSO8Tb4yDH3GelcdoG23tWiifIDDGK6KG6CcOflb1NZ3GdBaXKyw5z0orHjkjUtsmUKffFFbxnoYuOp8uhj1JqzAxCn1U5FUVbI9KsQSYkAI4PFMgvNIYZUmXqhDj8P8A6xNbOvIJYra+T7sy7Wx6isUnMAJ/hPP9f0rXsG+2+HbqzY5ktjuT8P8A61U9RowZrjYQBkjpg1V3Yw/rUk0MqnLxOowCpKkZHY/SoPQEYB7VnY2TLqMCvLdeTj0qSI9T0A596qLKUyMcnr7VZtwZAc8f1pMo0bOdldGJ68119rehVUDBUrj3riojzj3rctA8kR8pvnHUVDC52WnsXgPkyBfcGnS3VxEQNhHOCxfNc3b6hLYgJnjOT7VsLfrdwhPLG5jjOamwXOv0lxNAdzscY+6M0Vn6b4u0bw55lpqU6wblV0lcZEnUEfUY/UUVrGDsZSnqeAhgOKkDDg4xioF+bHNTheOlWQzRiYMGB6EZ/OrGiXX2bVkDH5JV2t9elUbZsKBn2pk7GKUOvBRww/H/AOuKroCL96Zba+khJYmP5AfYdP0xTBP5qgSIjseOas6ziUWt6vSeMZ/3hwf6Vkk8EmpYF20trOeUxuhDMeGU7cf41Yn05rYkQuJFHes6I4OQcHParHmyKxO48+/WoY+ZoI2dW2FMNnqa1rGfDgOdp9QKyjcOQFkG/wCvX86sW7KsgUHk9j6/WpaLjJM6CUJKcMQT13CtXTlW1geY4BVSRvPBrCt08oGWXhEGScdK53U9clvbs7JHWEcKgY4xRCN9RydtC1/wkzC5uHv7CHUQ77lWTpGehx9QF/75orCusiXeudrjPHrRXQRYqICB1zU6scD6UUVKEWbZ85+mamulyoPqCP0z/SiimhI0rQ/a/CswbrbSqyn2bg1lhQRiiipkAuCiA08Esc0UVIiztElSiIbSfzooqHuCE1rU5xoiwjALHa7DqR1rl4pCTzmiitY7GiehpwEPHhhnHSiiirM5OzP/2Q==\"></td>\n",
       "      <td>dog</td>\n",
       "    </tr>\n",
       "    <tr>\n",
       "      <th>4993</th>\n",
       "      <td><img src=\"data:image/jpeg;base64,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\"></td>\n",
       "      <td>cat</td>\n",
       "    </tr>\n",
       "    <tr>\n",
       "      <th>4994</th>\n",
       "      <td><img src=\"data:image/jpeg;base64,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\"></td>\n",
       "      <td>cat</td>\n",
       "    </tr>\n",
       "    <tr>\n",
       "      <th>4995</th>\n",
       "      <td><img src=\"data:image/jpeg;base64,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\"></td>\n",
       "      <td>dog</td>\n",
       "    </tr>\n",
       "    <tr>\n",
       "      <th>4996</th>\n",
       "      <td><img src=\"data:image/jpeg;base64,/9j/4AAQSkZJRgABAQAAAQABAAD/2wBDAAgGBgcGBQgHBwcJCQgKDBQNDAsLDBkSEw8UHRofHh0aHBwgJC4nICIsIxwcKDcpLDAxNDQ0Hyc5PTgyPC4zNDL/2wBDAQkJCQwLDBgNDRgyIRwhMjIyMjIyMjIyMjIyMjIyMjIyMjIyMjIyMjIyMjIyMjIyMjIyMjIyMjIyMjIyMjIyMjL/wAARCACAAH8DASIAAhEBAxEB/8QAHwAAAQUBAQEBAQEAAAAAAAAAAAECAwQFBgcICQoL/8QAtRAAAgEDAwIEAwUFBAQAAAF9AQIDAAQRBRIhMUEGE1FhByJxFDKBkaEII0KxwRVS0fAkM2JyggkKFhcYGRolJicoKSo0NTY3ODk6Q0RFRkdISUpTVFVWV1hZWmNkZWZnaGlqc3R1dnd4eXqDhIWGh4iJipKTlJWWl5iZmqKjpKWmp6ipqrKztLW2t7i5usLDxMXGx8jJytLT1NXW19jZ2uHi4+Tl5ufo6erx8vP09fb3+Pn6/8QAHwEAAwEBAQEBAQEBAQAAAAAAAAECAwQFBgcICQoL/8QAtREAAgECBAQDBAcFBAQAAQJ3AAECAxEEBSExBhJBUQdhcRMiMoEIFEKRobHBCSMzUvAVYnLRChYkNOEl8RcYGRomJygpKjU2Nzg5OkNERUZHSElKU1RVVldYWVpjZGVmZ2hpanN0dXZ3eHl6goOEhYaHiImKkpOUlZaXmJmaoqOkpaanqKmqsrO0tba3uLm6wsPExcbHyMnK0tPU1dbX2Nna4uPk5ebn6Onq8vP09fb3+Pn6/9oADAMBAAIRAxEAPwC3DNcMoYW8wH0q0lzPGeVkX6qa8ehiu15jvbiM/wCy5FaMFzrsZxFrV4v1fNAHrceqSL/Gw+ua1rG+a9yjkMV5AIz7V5Hbat4niZM6w7p33Rg4r1XRd9vosGoaheuWe3Dy+YFVE7kjAz+dAEqwIXf92h+c/wAIqZoYI4XkdFVEUsTnGAK8k134pai1/LHoqww2ysQJXQOz89fYVz11488TXtpLaXOpmSCUYdPKUZH1AzQB0OsfFK6Mjw6PYW1tEvyrM+ZHOO+CcVzx8eeKTN5y6zOjA5CoqhR+GK5yigDvrL4veJbeMJcLaXfHDvHsb8ccVr2vxgVkkfUNMlExxj7M6lTx3zyK8qooA9o0D4jXXiLWobCw0ZlLNmSaSXKxJ3ZgB19B613rXMgPMefcGuB+EM9nLoF7FFDsu4ZV85s/fVs7T+hrvW60AUGkmVztgZhnsaRJ5ZJ41NrIgBzlulWh1P1pZPvR/WgCVWb+4aV3IQ/I35U0dacxxGaAPAoIjg1ehhO6o7Vcg1pQR80ATW8Zx05rq/iRqh0XwNDaQyKJbsJbAYz8oXLfT/69Y9hb+ZPEuPvMB+tYXxcuw/ia2sUwI7a3DFQONzknP5AUAefkY/CkpxBBwaSgAoFFGOaACkpaAcEUAd38JpbpPGEkcIJt3tX+0c8BQRtP13cfjXtJYbuo/OvJ/gvJB/b2qxSAGaS1VkyOwf5v5ivYmij3E7BmgCgCA5GQOaVuWTmoiqmVjtHWkMaPPGCDgAng0AWRTm+50pogj/2h+NDwgLkO4/GgDxG1GEHHNatsoJrOhGcVrWSYIoA6HRId+oW3H8YNeY+N75dR8b6rcI++NJfKQ54wgA4/EGus8R+IH0TTjFa8Xc6lUfP3B3Ye9eZADHWgAPJJ9aTFKetJQAUtJS0AORBIwXcqknGWOAPrWrp3hXW9Wuvs9lYPL8wVpcgRrnuW9KyK9E+GGvXUOpvpzBJI5RlQRgqR7+lAHceB/Atv4TY3M0y3WpyqUeVAQiIcfKoPPbknr7V2Tngn2qv+9Qq5QAfWmPcOQRtHT1oAqg5Yn3p6Y89foarj7Ru+VVYfWno8q3Cq0XJHY0AXhRL/AKumKzf3DSTS7I+VagDxiAZIrcslGefSsiBSGGa1Msts+xSTt4AoA4fxXfC91pwjbo4hsH9aw6sXp/0yUkgnPOOf/wBdV6ACiil9KACiijtnvQAoOP8AGrenXtxp17FdWrhJEYEHt+PtVKnDGP50AfS+lX02oaLbXM6KksiglR0/CrDcA1x3w98QW1/oEdkyvFNbkKd7Ahvcen0NdhIy7W5zxQBDGxJp5H+kKT/dpIsBVz3FS4BlHI6UAPUUsmdgxXN+IPGVhoI2Z+0Tjny0PT61zp+KhYIDpnXkgSdKAMi3CuQDwa1hayNbFYWG4r19KyYFPFbVqxVMnnAzg0AeW6xZPZXpVySWyck8nms+um8bRCDU4ELBppIhLIc5Iz0H5VzNABmiikoAWjPFFFAC0UmaWgDofCeu/wBjatHI67oWYb1Hevoa0ltruwW5gVTHIm4fLj+dfLKEhgRwa+g/h/LLL4RiZzu4OCcdPqKANy1xJGpGCDXB+NfGSwNNp+mMNyjbNMP4T6D3rofEmqvovg27u4SBLt8tCOxY4zXgst07KyFic9SepPegC8HEsb3E7nZ7nOTTRqMEZJSHn1PNZvmMU8sn5RzioxQB6RBziteJgkLknAA5J7VlW4IIDAj61opGLpDC2fLY4bb1x7UAeYazfDUdXubpRhXc7fcDjNUK1vEGkNo+qyW/zFAchj71lUAFJS0lABRS0lABTqbTqAAAlgAMkkACvqDwpos8Phy1hkVYT5Yyq/54r5o02BrrVLOBeTJOi8/WvqW31KURIMEYAHNAHM/Ebw55Pw/vjBI7CBlmKn0Dc/zr57dSCa+q79zqmmXVhMAY7iJo2z7ivna88PTwxOrriSGRo3HuDQBzeO9Lt4yKmeAomfemqtAHpdnNJIoLIqA93PX8K2IBEYJDCy7uFZsY47iuet7UW7rOWLOhDBmPStqJwFiRkUxMhD47L/8ArNAEWp6PDrF5FZzJtaT5EJGcE8DP8/wrznxR4bu/CuuS6ZdEOQA8UoHEiHuP1Feow3sFlcQzSSL5nQEv8wHYmmfFG/0TxFoCyQSNNqlowaN44iqlSfnUk9scj3FAHjFGKPxozQAnSlpaSgAxS0lLQBveCvJ/4THTvtCkpvOMeuOK+hVG1Bg54rwb4d2JvfGtnH5kMTIGdfObaGIHQE96+hm068iTLW7sMZyvIoAhjfBqlf6LY6hbzRvEqtKdxcDkH1qyd0Zwysv+8MUb6APHPF/hGXRm8xF3Qyv8pXse4rmLTT55bvyord5WGcqor3vV7FdU0ya2bAZhlGP8LDkVjw6YllP5iSpBdFAHaFQAfrQBzV/ZS6Um+aH7RIP4S21f05NcvPqN3cSSFn2BmLGOPhRnt64/GvbbjSI7hCrfMPRua5vUPAEFyS0Q2N/s0Aeao7Fg2TnuaLlz5DBicEc11F14F1W1J8lBMv5GsO+8N66xA/sy4IA7DNAHBSDbIwHTJxTa6xvCerNw2lXP/fs03/hBNZk5TTrof8AzQBytLXXxfDTxNP8A6uwl/wCBDFWE+EfjJzhdPhHu06igDiKcCV5FdzcfB/xpbxlxp8E2MfLDcqzH88VQh+GfjOeXYugXKcZ3SFVX880AcoeRg8itDT9f1nScf2fqt9agHIWG4ZR+WcfpW7L8L/GkLhX0GXnoVlQqfxzx+OKrv8O/GUfDeGdQ/BVb+RoA3tN+NHiy02peNZ6lGOouIArH/gS4/lXoOj/FbwbrCwpqUEml3T8PvUmJW/317e5FeV2Hww8W3N3FHcaFeQQlgHkO0FR3IyefpXpFt8AtMUAz6/fOeOFgRf8AGgD0Z9Ct5FDwzuAwypyGBHr71yt/4F1lrmSa3v7aYOc4bKECu20fTINF0e00y2eV4LWMRRtK2WKjpk1doA//2Q==\"></td>\n",
       "      <td>cat</td>\n",
       "    </tr>\n",
       "  </tbody>\n",
       "</table>"
      ],
      "text/plain": [
       "DataPanel(nrows: 4997, ncols: 2)"
      ]
     },
     "execution_count": 103,
     "metadata": {},
     "output_type": "execute_result"
    }
   ],
   "source": [
    "dp[[\"object_image\", \"name\"]].lz[dp[\"clusters\"] == 6]"
   ]
  },
  {
   "cell_type": "code",
   "execution_count": 31,
   "id": "43c4dabe-837e-44a1-a984-09106cfb1444",
   "metadata": {},
   "outputs": [
    {
     "name": "stderr",
     "output_type": "stream",
     "text": [
      " 23%|██▎       | 23/100 [00:04<00:15,  4.85it/s]\n"
     ]
    }
   ],
   "source": [
    "from domino.sdm.gmm import ErrorGMM\n",
    "gmm = ErrorGMM(\n",
    "    weight_y_log_likelihood=25, \n",
    "    n_components = 8, \n",
    "    max_iter = 100, \n",
    "    tol = 1e-4, \n",
    "    covariance_type=\"diag\"\n",
    ")\n",
    "out = gmm.fit_predict(X, y, y_hat)"
   ]
  },
  {
   "cell_type": "code",
   "execution_count": 32,
   "id": "940e4fd3-6690-4b2e-9d2f-e2dcf2f3b4fe",
   "metadata": {},
   "outputs": [
    {
     "data": {
      "text/plain": [
       "clusters  name \n",
       "0         cat       2130\n",
       "          dog          1\n",
       "          horse        1\n",
       "1         tree      6350\n",
       "          pizza      162\n",
       "2         bird      3899\n",
       "          dog       3057\n",
       "          cow       2842\n",
       "          horse       17\n",
       "          cat          7\n",
       "3         tree     11549\n",
       "          pizza       79\n",
       "4         tree      4345\n",
       "          pizza       43\n",
       "5         horse     3444\n",
       "          cat        186\n",
       "          dog          4\n",
       "          bird         2\n",
       "          cow          1\n",
       "6         pizza     1807\n",
       "          tree         2\n",
       "7         tree      4746\n",
       "          pizza        4\n",
       "Name: name, dtype: int64"
      ]
     },
     "execution_count": 32,
     "metadata": {},
     "output_type": "execute_result"
    }
   ],
   "source": [
    "dp[\"clusters\"] = out\n",
    "df = dp[[\"name\", \"clusters\"]].to_pandas()\n",
    "df.groupby(\"clusters\")[\"name\"].value_counts()"
   ]
  },
  {
   "cell_type": "code",
   "execution_count": 150,
   "id": "31c852bc-b3d8-4841-8769-91707d7b24b3",
   "metadata": {},
   "outputs": [
    {
     "data": {
      "text/plain": [
       "-0.7484833457498595"
      ]
     },
     "execution_count": 150,
     "metadata": {},
     "output_type": "execute_result"
    }
   ],
   "source": [
    "mask = dp[\"clusters\"] == 6\n",
    "(gmm._estimate_y_log_prob(y[mask], y_hat[mask])[:, 6]).mean()"
   ]
  },
  {
   "cell_type": "code",
   "execution_count": 22,
   "id": "38074242-9b9f-4ccf-bfe1-d0b6e57d9b19",
   "metadata": {},
   "outputs": [
    {
     "data": {
      "text/plain": [
       "2.220446049250313e-16"
      ]
     },
     "execution_count": 22,
     "metadata": {},
     "output_type": "execute_result"
    }
   ],
   "source": [
    "np.finfo(gmm.y_hat_probs.dtype).eps"
   ]
  },
  {
   "cell_type": "code",
   "execution_count": 20,
   "id": "84f5ee0e-dd1d-4c73-8180-5926b7cece89",
   "metadata": {},
   "outputs": [
    {
     "ename": "AttributeError",
     "evalue": "'ErrorGMM' object has no attribute 'resp'",
     "output_type": "error",
     "traceback": [
      "\u001b[0;31m---------------------------------------------------------------------------\u001b[0m",
      "\u001b[0;31mAttributeError\u001b[0m                            Traceback (most recent call last)",
      "\u001b[0;32m<ipython-input-20-95a678f24467>\u001b[0m in \u001b[0;36m<module>\u001b[0;34m\u001b[0m\n\u001b[0;32m----> 1\u001b[0;31m \u001b[0mgmm\u001b[0m\u001b[0;34m.\u001b[0m\u001b[0mresp\u001b[0m\u001b[0;34m\u001b[0m\u001b[0;34m\u001b[0m\u001b[0m\n\u001b[0m",
      "\u001b[0;31mAttributeError\u001b[0m: 'ErrorGMM' object has no attribute 'resp'"
     ]
    }
   ],
   "source": [
    "gmm.resp"
   ]
  },
  {
   "cell_type": "code",
   "execution_count": null,
   "id": "5a6cc040-b649-4be0-a291-71936f257a3e",
   "metadata": {},
   "outputs": [],
   "source": []
  }
 ],
 "metadata": {
  "kernelspec": {
   "display_name": "Python 3",
   "language": "python",
   "name": "python3"
  },
  "language_info": {
   "codemirror_mode": {
    "name": "ipython",
    "version": 3
   },
   "file_extension": ".py",
   "mimetype": "text/x-python",
   "name": "python",
   "nbconvert_exporter": "python",
   "pygments_lexer": "ipython3",
   "version": "3.8.10"
  }
 },
 "nbformat": 4,
 "nbformat_minor": 5
}
