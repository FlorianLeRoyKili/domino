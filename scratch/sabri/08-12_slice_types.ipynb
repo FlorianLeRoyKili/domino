{
 "cells": [
  {
   "cell_type": "code",
   "execution_count": 3,
   "source": [
    "import pandas as pd\n",
    "import numpy as np\n",
    "from scipy.stats import pearsonr"
   ],
   "outputs": [],
   "metadata": {}
  },
  {
   "cell_type": "code",
   "execution_count": 24,
   "source": [
    "n = 10000\n",
    "x = np.zeros((n, 3)).astype(bool)\n",
    "x[:, 0] = (np.random.rand(n) < 0.2)\n",
    "\n",
    "x[x[:, 0], 1] = (np.random.rand(x[:, 0].sum()) < 0.8)\n",
    "x[~x[:, 0], 1] = (np.random.rand((~x[:, 0]).sum()) < 0.1)\n",
    "\n",
    "x[x[:, 1], 2] = (np.random.rand(x[:, 1].sum()) < 0.9)\n",
    "x[~x[:, 1], 2] = (np.random.rand((~x[:, 1]).sum()) < 0.05)"
   ],
   "outputs": [],
   "metadata": {}
  },
  {
   "cell_type": "code",
   "execution_count": 27,
   "source": [
    "pearsonr(x[:, 0], x[:, 1])\n",
    "pearsonr(x[:, 1], x[:, 0])"
   ],
   "outputs": [
    {
     "output_type": "execute_result",
     "data": {
      "text/plain": [
       "(0.6423232742057599, 0.0)"
      ]
     },
     "metadata": {},
     "execution_count": 27
    }
   ],
   "metadata": {}
  },
  {
   "cell_type": "code",
   "execution_count": 28,
   "source": [
    "df = pd.DataFrame(x)"
   ],
   "outputs": [],
   "metadata": {}
  },
  {
   "cell_type": "code",
   "execution_count": 30,
   "source": [
    "from domino.evaluate.linear import induce_correlation"
   ],
   "outputs": [],
   "metadata": {}
  },
  {
   "cell_type": "code",
   "execution_count": 44,
   "source": [
    "indices = induce_correlation(df=df, attr_a=0, attr_b=2, corr=0, n=1000)\n",
    "new_x = x[indices]\n",
    "print(\"before\", pearsonr(x[:, 2], x[:, 1]))\n",
    "print(\"after\", pearsonr(new_x[:, 2], new_x[:, 1]))"
   ],
   "outputs": [
    {
     "output_type": "stream",
     "name": "stdout",
     "text": [
      "before (0.8402797035682847, 0.0)\n",
      "after (0.7204166838865346, 1.7900866870333104e-160)\n"
     ]
    }
   ],
   "metadata": {}
  },
  {
   "cell_type": "code",
   "execution_count": null,
   "source": [
    "pearsonr(new_x[:, 0], new_x[:, 1])\n"
   ],
   "outputs": [],
   "metadata": {}
  },
  {
   "cell_type": "code",
   "execution_count": 42,
   "source": [
    "(x[:, 0] * x[:, 1]).mean()\n",
    "(x[:, 0] * x[:, 2]).mean()\n",
    "(x[:, 1] * x[:, 2]).mean()"
   ],
   "outputs": [
    {
     "output_type": "execute_result",
     "data": {
      "text/plain": [
       "0.2259"
      ]
     },
     "metadata": {},
     "execution_count": 42
    }
   ],
   "metadata": {}
  },
  {
   "cell_type": "code",
   "execution_count": null,
   "source": [],
   "outputs": [],
   "metadata": {}
  }
 ],
 "metadata": {
  "orig_nbformat": 4,
  "language_info": {
   "name": "python",
   "version": "3.8.10",
   "mimetype": "text/x-python",
   "codemirror_mode": {
    "name": "ipython",
    "version": 3
   },
   "pygments_lexer": "ipython3",
   "nbconvert_exporter": "python",
   "file_extension": ".py"
  },
  "kernelspec": {
   "name": "python3",
   "display_name": "Python 3.8.10 64-bit ('domino': conda)"
  },
  "interpreter": {
   "hash": "c69732a7865039e91888aaead3ff2569340c124c546c64a2f5d6518a2cd9a0e4"
  }
 },
 "nbformat": 4,
 "nbformat_minor": 2
}