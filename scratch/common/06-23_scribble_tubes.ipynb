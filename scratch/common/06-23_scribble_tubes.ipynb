{
 "metadata": {
  "language_info": {
   "codemirror_mode": {
    "name": "ipython",
    "version": 3
   },
   "file_extension": ".py",
   "mimetype": "text/x-python",
   "name": "python",
   "nbconvert_exporter": "python",
   "pygments_lexer": "ipython3",
   "version": "3.8.10"
  },
  "orig_nbformat": 2,
  "kernelspec": {
   "name": "python3",
   "display_name": "Python 3.8.10 64-bit ('domino': conda)"
  },
  "interpreter": {
   "hash": "b006b217e8cb0199fc13ea6a087b3b77c18ca9d2bc7dc9a8383728a63838a653"
  }
 },
 "nbformat": 4,
 "nbformat_minor": 2,
 "cells": [
  {
   "cell_type": "code",
   "execution_count": 1,
   "metadata": {},
   "outputs": [
    {
     "output_type": "error",
     "ename": "ModuleNotFoundError",
     "evalue": "No module named 'meerkat'",
     "traceback": [
      "\u001b[0;31m---------------------------------------------------------------------------\u001b[0m",
      "\u001b[0;31mModuleNotFoundError\u001b[0m                       Traceback (most recent call last)",
      "\u001b[0;32m<ipython-input-1-75825ceefb1c>\u001b[0m in \u001b[0;36m<module>\u001b[0;34m\u001b[0m\n\u001b[1;32m      6\u001b[0m \u001b[0;32mfrom\u001b[0m \u001b[0msklearn\u001b[0m\u001b[0;34m.\u001b[0m\u001b[0mmetrics\u001b[0m \u001b[0;32mimport\u001b[0m \u001b[0mroc_auc_score\u001b[0m\u001b[0;34m,\u001b[0m \u001b[0mprecision_score\u001b[0m\u001b[0;34m,\u001b[0m \u001b[0maccuracy_score\u001b[0m\u001b[0;34m,\u001b[0m \u001b[0mf1_score\u001b[0m\u001b[0;34m,\u001b[0m \u001b[0mrecall_score\u001b[0m\u001b[0;34m\u001b[0m\u001b[0;34m\u001b[0m\u001b[0m\n\u001b[1;32m      7\u001b[0m \u001b[0;32mfrom\u001b[0m \u001b[0msklearn\u001b[0m\u001b[0;34m.\u001b[0m\u001b[0mlinear_model\u001b[0m \u001b[0;32mimport\u001b[0m \u001b[0mLogisticRegression\u001b[0m\u001b[0;34m\u001b[0m\u001b[0;34m\u001b[0m\u001b[0m\n\u001b[0;32m----> 8\u001b[0;31m \u001b[0;32mfrom\u001b[0m \u001b[0mmeerkat\u001b[0m \u001b[0;32mimport\u001b[0m \u001b[0mDataPanel\u001b[0m\u001b[0;34m\u001b[0m\u001b[0;34m\u001b[0m\u001b[0m\n\u001b[0m\u001b[1;32m      9\u001b[0m \u001b[0;34m\u001b[0m\u001b[0m\n\u001b[1;32m     10\u001b[0m \u001b[0;32mfrom\u001b[0m \u001b[0mdomino\u001b[0m\u001b[0;34m.\u001b[0m\u001b[0mdata\u001b[0m\u001b[0;34m.\u001b[0m\u001b[0mcxr\u001b[0m \u001b[0;32mimport\u001b[0m \u001b[0mget_dp\u001b[0m\u001b[0;34m,\u001b[0m \u001b[0mbuild_cxr_df\u001b[0m\u001b[0;34m,\u001b[0m \u001b[0mget_cxr_activations\u001b[0m\u001b[0;34m,\u001b[0m \u001b[0mrle2mask\u001b[0m\u001b[0;34m\u001b[0m\u001b[0;34m\u001b[0m\u001b[0m\n",
      "\u001b[0;31mModuleNotFoundError\u001b[0m: No module named 'meerkat'"
     ]
    }
   ],
   "source": [
    "import numpy as np \n",
    "import matplotlib.pyplot as plt\n",
    "import csv \n",
    "import pickle\n",
    "from scipy import stats\n",
    "from sklearn.metrics import roc_auc_score, precision_score, accuracy_score, f1_score, recall_score\n",
    "from sklearn.linear_model import LogisticRegression\n",
    "from meerkat import DataPanel\n",
    "\n",
    "from domino.data.cxr import get_dp, build_cxr_df, get_cxr_activations, rle2mask\n"
   ]
  },
  {
   "source": [
    "## Extract train/test features from Image-Only model"
   ],
   "cell_type": "markdown",
   "metadata": {}
  },
  {
   "cell_type": "code",
   "execution_count": 2,
   "metadata": {},
   "outputs": [
    {
     "output_type": "execute_result",
     "data": {
      "text/plain": [
       "DataPanel(num_rows: 5)"
      ],
      "text/html": "<div>\n<style scoped>\n    .dataframe tbody tr th:only-of-type {\n        vertical-align: middle;\n    }\n\n    .dataframe tbody tr th {\n        vertical-align: top;\n    }\n\n    .dataframe thead th {\n        text-align: right;\n    }\n</style>\n<table border=\"1\" class=\"dataframe\">\n  <thead>\n    <tr style=\"text-align: right;\">\n      <th></th>\n      <th>image_id (NumpyArrayColumn)</th>\n      <th>encoded_pixels (NumpyArrayColumn)</th>\n      <th>pmx (NumpyArrayColumn)</th>\n      <th>filepath (NumpyArrayColumn)</th>\n      <th>chest_tube (NumpyArrayColumn)</th>\n      <th>split (NumpyArrayColumn)</th>\n      <th>gaze_seq (NumpyArrayColumn)</th>\n      <th>gaze_heatmap (NumpyArrayColumn)</th>\n      <th>gaze_max_visit (NumpyArrayColumn)</th>\n      <th>gaze_unique (NumpyArrayColumn)</th>\n      <th>gaze_time (NumpyArrayColumn)</th>\n      <th>gaze_diffusivity (NumpyArrayColumn)</th>\n      <th>expert_label (NumpyArrayColumn)</th>\n      <th>index (ListColumn)</th>\n      <th>input (CellColumn)</th>\n      <th>img (CellColumn)</th>\n    </tr>\n  </thead>\n  <tbody>\n    <tr>\n      <th>0</th>\n      <td>1.2.276.0.7230010.3.1.4.8323329.6904.151787520...</td>\n      <td>-1</td>\n      <td>0</td>\n      <td>/media/4tb_hdd/siim/dicom-images-train/1.2.276...</td>\n      <td>NaN</td>\n      <td>train</td>\n      <td>nan</td>\n      <td>nan</td>\n      <td>NaN</td>\n      <td>NaN</td>\n      <td>NaN</td>\n      <td>NaN</td>\n      <td>NaN</td>\n      <td>'0'</td>\n      <td>MedicalVolumeCell([PosixPath('/media/4tb_hdd/s...</td>\n      <td>MedicalVolumeCell([PosixPath('/media/4tb_hdd/s...</td>\n    </tr>\n    <tr>\n      <th>1</th>\n      <td>1.2.276.0.7230010.3.1.4.8323329.13666.15178752...</td>\n      <td>557374 2 1015 8 1009 14 1002 20 997 26 990 32 ...</td>\n      <td>1</td>\n      <td>/media/4tb_hdd/siim/dicom-images-train/1.2.276...</td>\n      <td>NaN</td>\n      <td>train</td>\n      <td>nan</td>\n      <td>nan</td>\n      <td>NaN</td>\n      <td>NaN</td>\n      <td>NaN</td>\n      <td>NaN</td>\n      <td>NaN</td>\n      <td>'1'</td>\n      <td>MedicalVolumeCell([PosixPath('/media/4tb_hdd/s...</td>\n      <td>MedicalVolumeCell([PosixPath('/media/4tb_hdd/s...</td>\n    </tr>\n    <tr>\n      <th>2</th>\n      <td>1.2.276.0.7230010.3.1.4.8323329.11028.15178752...</td>\n      <td>-1</td>\n      <td>0</td>\n      <td>/media/4tb_hdd/siim/dicom-images-train/1.2.276...</td>\n      <td>NaN</td>\n      <td>train</td>\n      <td>nan</td>\n      <td>nan</td>\n      <td>NaN</td>\n      <td>NaN</td>\n      <td>NaN</td>\n      <td>NaN</td>\n      <td>NaN</td>\n      <td>'2'</td>\n      <td>MedicalVolumeCell([PosixPath('/media/4tb_hdd/s...</td>\n      <td>MedicalVolumeCell([PosixPath('/media/4tb_hdd/s...</td>\n    </tr>\n    <tr>\n      <th>3</th>\n      <td>1.2.276.0.7230010.3.1.4.8323329.10366.15178752...</td>\n      <td>514175 10 1008 29 994 30 993 32 991 33 990 34 ...</td>\n      <td>1</td>\n      <td>/media/4tb_hdd/siim/dicom-images-train/1.2.276...</td>\n      <td>NaN</td>\n      <td>train</td>\n      <td>nan</td>\n      <td>nan</td>\n      <td>NaN</td>\n      <td>NaN</td>\n      <td>NaN</td>\n      <td>NaN</td>\n      <td>NaN</td>\n      <td>'3'</td>\n      <td>MedicalVolumeCell([PosixPath('/media/4tb_hdd/s...</td>\n      <td>MedicalVolumeCell([PosixPath('/media/4tb_hdd/s...</td>\n    </tr>\n    <tr>\n      <th>4</th>\n      <td>1.2.276.0.7230010.3.1.4.8323329.10016.15178752...</td>\n      <td>592184 33 976 58 956 73 941 88 926 102 917 109...</td>\n      <td>1</td>\n      <td>/media/4tb_hdd/siim/dicom-images-train/1.2.276...</td>\n      <td>NaN</td>\n      <td>train</td>\n      <td>nan</td>\n      <td>nan</td>\n      <td>NaN</td>\n      <td>NaN</td>\n      <td>NaN</td>\n      <td>NaN</td>\n      <td>NaN</td>\n      <td>'4'</td>\n      <td>MedicalVolumeCell([PosixPath('/media/4tb_hdd/s...</td>\n      <td>MedicalVolumeCell([PosixPath('/media/4tb_hdd/s...</td>\n    </tr>\n  </tbody>\n</table>\n</div>"
     },
     "metadata": {},
     "execution_count": 2
    }
   ],
   "source": [
    "# Get a mosaic DataPanel with the data.\n",
    "df = build_cxr_df.out(load=True)\n",
    "dp = get_dp(df)\n",
    "dp.head()"
   ]
  },
  {
   "cell_type": "code",
   "execution_count": 3,
   "metadata": {},
   "outputs": [
    {
     "output_type": "display_data",
     "data": {
      "text/plain": "HBox(children=(FloatProgress(value=0.0, max=189.0), HTML(value='')))",
      "application/vnd.jupyter.widget-view+json": {
       "version_major": 2,
       "version_minor": 0,
       "model_id": "4ba81ec062f040068dac0e38d14e0d6a"
      }
     },
     "metadata": {}
    },
    {
     "output_type": "stream",
     "name": "stdout",
     "text": [
      "\n"
     ]
    }
   ],
   "source": [
    "model_pth = \"/media/nvme_data/observational_results_10_2020/original/cxr/emmental_cam/cam_0/seed_0/best_model_target_cxr_val_accuracy.pth\"\n",
    "\n",
    "act_dp = get_cxr_activations(dp=dp, model_path=model_pth)\n"
   ]
  },
  {
   "cell_type": "code",
   "execution_count": 4,
   "metadata": {},
   "outputs": [
    {
     "output_type": "execute_result",
     "data": {
      "text/plain": [
       "DataPanel(num_rows: 5)"
      ],
      "text/html": "<div>\n<style scoped>\n    .dataframe tbody tr th:only-of-type {\n        vertical-align: middle;\n    }\n\n    .dataframe tbody tr th {\n        vertical-align: top;\n    }\n\n    .dataframe thead th {\n        text-align: right;\n    }\n</style>\n<table border=\"1\" class=\"dataframe\">\n  <thead>\n    <tr style=\"text-align: right;\">\n      <th></th>\n      <th>image_id (NumpyArrayColumn)</th>\n      <th>encoded_pixels (NumpyArrayColumn)</th>\n      <th>pmx (NumpyArrayColumn)</th>\n      <th>filepath (NumpyArrayColumn)</th>\n      <th>chest_tube (NumpyArrayColumn)</th>\n      <th>split (NumpyArrayColumn)</th>\n      <th>gaze_seq (NumpyArrayColumn)</th>\n      <th>gaze_heatmap (NumpyArrayColumn)</th>\n      <th>gaze_max_visit (NumpyArrayColumn)</th>\n      <th>gaze_unique (NumpyArrayColumn)</th>\n      <th>gaze_time (NumpyArrayColumn)</th>\n      <th>gaze_diffusivity (NumpyArrayColumn)</th>\n      <th>expert_label (NumpyArrayColumn)</th>\n      <th>index (ListColumn)</th>\n      <th>input (TensorColumn)</th>\n      <th>img (ListColumn)</th>\n      <th>pred (NumpyArrayColumn)</th>\n      <th>probs (NumpyArrayColumn)</th>\n      <th>activation_block4 (NumpyArrayColumn)</th>\n    </tr>\n  </thead>\n  <tbody>\n    <tr>\n      <th>0</th>\n      <td>1.2.276.0.7230010.3.1.4.8323329.1857.151787516...</td>\n      <td>378999 2 1018 8 1013 13 1009 15 1007 17 1006 1...</td>\n      <td>1</td>\n      <td>/media/4tb_hdd/siim/dicom-images-train/1.2.276...</td>\n      <td>1.0</td>\n      <td>train</td>\n      <td>[(0.3002531741212215, 0.9348943074817682, 2), ...</td>\n      <td>[[ 0.  0.  0. 14.  2.  2.  1.  0.]\\n [ 0.  0. ...</td>\n      <td>14.0</td>\n      <td>12.0</td>\n      <td>33.0</td>\n      <td>0.545455</td>\n      <td>1.0</td>\n      <td>'29'</td>\n      <td>np.ndarray(shape=torch.Size([3, 224, 224]))</td>\n      <td>&lt;PIL.Image.Image image mode=L size=1024x1024 a...</td>\n      <td>0</td>\n      <td>np.ndarray(shape=(2,))</td>\n      <td>np.ndarray(shape=(2048, 7, 7))</td>\n    </tr>\n    <tr>\n      <th>1</th>\n      <td>1.2.276.0.7230010.3.1.4.8323329.1219.151787516...</td>\n      <td>-1</td>\n      <td>0</td>\n      <td>/media/4tb_hdd/siim/dicom-images-train/1.2.276...</td>\n      <td>1.0</td>\n      <td>train</td>\n      <td>[(0.3135288701615107, 0.5596042556980056, 2), ...</td>\n      <td>[[0. 0. 0. 1. 3. 0. 0. 0.]\\n [0. 0. 0. 3. 3. 2...</td>\n      <td>7.0</td>\n      <td>19.0</td>\n      <td>46.0</td>\n      <td>0.369565</td>\n      <td>1.0</td>\n      <td>'39'</td>\n      <td>np.ndarray(shape=torch.Size([3, 224, 224]))</td>\n      <td>&lt;PIL.Image.Image image mode=L size=1024x1024 a...</td>\n      <td>0</td>\n      <td>np.ndarray(shape=(2,))</td>\n      <td>np.ndarray(shape=(2048, 7, 7))</td>\n    </tr>\n    <tr>\n      <th>2</th>\n      <td>1.2.276.0.7230010.3.1.4.8323329.2118.151787517...</td>\n      <td>591104 8 1011 18 1001 26 993 32 988 36 986 37 ...</td>\n      <td>1</td>\n      <td>/media/4tb_hdd/siim/dicom-images-train/1.2.276...</td>\n      <td>1.0</td>\n      <td>train</td>\n      <td>[(0.1227472372112641, 0.5808183519907184, 3), ...</td>\n      <td>[[ 0.  0.  0.  0.  4.  1.  0.  1.]\\n [ 0.  0. ...</td>\n      <td>10.0</td>\n      <td>23.0</td>\n      <td>81.0</td>\n      <td>0.395062</td>\n      <td>1.0</td>\n      <td>'43'</td>\n      <td>np.ndarray(shape=torch.Size([3, 224, 224]))</td>\n      <td>&lt;PIL.Image.Image image mode=L size=1024x1024 a...</td>\n      <td>0</td>\n      <td>np.ndarray(shape=(2,))</td>\n      <td>np.ndarray(shape=(2048, 7, 7))</td>\n    </tr>\n    <tr>\n      <th>3</th>\n      <td>1.2.276.0.7230010.3.1.4.8323329.2027.151787517...</td>\n      <td>500845 25 992 38 983 41 980 44 978 46 975 49 9...</td>\n      <td>1</td>\n      <td>/media/4tb_hdd/siim/dicom-images-train/1.2.276...</td>\n      <td>0.0</td>\n      <td>train</td>\n      <td>[(0.3294461311053661, 0.5748967530438639, 4), ...</td>\n      <td>[[ 0.  0.  4.  1. 10.  8.  0.  0.]\\n [ 0.  0. ...</td>\n      <td>11.0</td>\n      <td>21.0</td>\n      <td>78.0</td>\n      <td>0.641026</td>\n      <td>1.0</td>\n      <td>'50'</td>\n      <td>np.ndarray(shape=torch.Size([3, 224, 224]))</td>\n      <td>&lt;PIL.Image.Image image mode=L size=1024x1024 a...</td>\n      <td>0</td>\n      <td>np.ndarray(shape=(2,))</td>\n      <td>np.ndarray(shape=(2048, 7, 7))</td>\n    </tr>\n    <tr>\n      <th>4</th>\n      <td>1.2.276.0.7230010.3.1.4.8323329.1972.151787517...</td>\n      <td>-1</td>\n      <td>0</td>\n      <td>/media/4tb_hdd/siim/dicom-images-train/1.2.276...</td>\n      <td>0.0</td>\n      <td>train</td>\n      <td>[(0.25439717874245193, 0.6421419414319375, 2),...</td>\n      <td>[[ 0.  0.  5.  0.  0.  2.  0.  0.]\\n [ 0.  1. ...</td>\n      <td>10.0</td>\n      <td>22.0</td>\n      <td>75.0</td>\n      <td>0.266667</td>\n      <td>0.0</td>\n      <td>'53'</td>\n      <td>np.ndarray(shape=torch.Size([3, 224, 224]))</td>\n      <td>&lt;PIL.Image.Image image mode=L size=1024x1024 a...</td>\n      <td>0</td>\n      <td>np.ndarray(shape=(2,))</td>\n      <td>np.ndarray(shape=(2048, 7, 7))</td>\n    </tr>\n  </tbody>\n</table>\n</div>"
     },
     "metadata": {},
     "execution_count": 4
    }
   ],
   "source": [
    "# train mask are points that have gaze\n",
    "train_mask = dp[\"gaze_seq\"].data != \"nan\"\n",
    "act_dp[train_mask].head()"
   ]
  },
  {
   "cell_type": "code",
   "execution_count": 5,
   "metadata": {},
   "outputs": [
    {
     "output_type": "execute_result",
     "data": {
      "text/plain": [
       "DataPanel(num_rows: 5)"
      ],
      "text/html": "<div>\n<style scoped>\n    .dataframe tbody tr th:only-of-type {\n        vertical-align: middle;\n    }\n\n    .dataframe tbody tr th {\n        vertical-align: top;\n    }\n\n    .dataframe thead th {\n        text-align: right;\n    }\n</style>\n<table border=\"1\" class=\"dataframe\">\n  <thead>\n    <tr style=\"text-align: right;\">\n      <th></th>\n      <th>image_id (NumpyArrayColumn)</th>\n      <th>encoded_pixels (NumpyArrayColumn)</th>\n      <th>pmx (NumpyArrayColumn)</th>\n      <th>filepath (NumpyArrayColumn)</th>\n      <th>chest_tube (NumpyArrayColumn)</th>\n      <th>split (NumpyArrayColumn)</th>\n      <th>gaze_seq (NumpyArrayColumn)</th>\n      <th>gaze_heatmap (NumpyArrayColumn)</th>\n      <th>gaze_max_visit (NumpyArrayColumn)</th>\n      <th>gaze_unique (NumpyArrayColumn)</th>\n      <th>gaze_time (NumpyArrayColumn)</th>\n      <th>gaze_diffusivity (NumpyArrayColumn)</th>\n      <th>expert_label (NumpyArrayColumn)</th>\n      <th>index (ListColumn)</th>\n      <th>input (TensorColumn)</th>\n      <th>img (ListColumn)</th>\n      <th>pred (NumpyArrayColumn)</th>\n      <th>probs (NumpyArrayColumn)</th>\n      <th>activation_block4 (NumpyArrayColumn)</th>\n    </tr>\n  </thead>\n  <tbody>\n    <tr>\n      <th>0</th>\n      <td>1.2.276.0.7230010.3.1.4.8323329.32395.15178751...</td>\n      <td>-1</td>\n      <td>0</td>\n      <td>/media/4tb_hdd/siim/dicom-images-train/1.2.276...</td>\n      <td>0.0</td>\n      <td>test</td>\n      <td>nan</td>\n      <td>nan</td>\n      <td>NaN</td>\n      <td>NaN</td>\n      <td>NaN</td>\n      <td>NaN</td>\n      <td>NaN</td>\n      <td>'7'</td>\n      <td>np.ndarray(shape=torch.Size([3, 224, 224]))</td>\n      <td>&lt;PIL.Image.Image image mode=L size=1024x1024 a...</td>\n      <td>0</td>\n      <td>np.ndarray(shape=(2,))</td>\n      <td>np.ndarray(shape=(2048, 7, 7))</td>\n    </tr>\n    <tr>\n      <th>1</th>\n      <td>1.2.276.0.7230010.3.1.4.8323329.12084.15178752...</td>\n      <td>-1</td>\n      <td>0</td>\n      <td>/media/4tb_hdd/siim/dicom-images-train/1.2.276...</td>\n      <td>0.0</td>\n      <td>test</td>\n      <td>nan</td>\n      <td>nan</td>\n      <td>NaN</td>\n      <td>NaN</td>\n      <td>NaN</td>\n      <td>NaN</td>\n      <td>NaN</td>\n      <td>'26'</td>\n      <td>np.ndarray(shape=torch.Size([3, 224, 224]))</td>\n      <td>&lt;PIL.Image.Image image mode=L size=1024x1024 a...</td>\n      <td>0</td>\n      <td>np.ndarray(shape=(2,))</td>\n      <td>np.ndarray(shape=(2048, 7, 7))</td>\n    </tr>\n    <tr>\n      <th>2</th>\n      <td>1.2.276.0.7230010.3.1.4.8323329.13325.15178752...</td>\n      <td>-1</td>\n      <td>0</td>\n      <td>/media/4tb_hdd/siim/dicom-images-train/1.2.276...</td>\n      <td>0.0</td>\n      <td>test</td>\n      <td>nan</td>\n      <td>nan</td>\n      <td>NaN</td>\n      <td>NaN</td>\n      <td>NaN</td>\n      <td>NaN</td>\n      <td>NaN</td>\n      <td>'36'</td>\n      <td>np.ndarray(shape=torch.Size([3, 224, 224]))</td>\n      <td>&lt;PIL.Image.Image image mode=L size=1024x1024 a...</td>\n      <td>0</td>\n      <td>np.ndarray(shape=(2,))</td>\n      <td>np.ndarray(shape=(2048, 7, 7))</td>\n    </tr>\n    <tr>\n      <th>3</th>\n      <td>1.2.276.0.7230010.3.1.4.8323329.11640.15178752...</td>\n      <td>-1</td>\n      <td>0</td>\n      <td>/media/4tb_hdd/siim/dicom-images-train/1.2.276...</td>\n      <td>0.0</td>\n      <td>test</td>\n      <td>nan</td>\n      <td>nan</td>\n      <td>NaN</td>\n      <td>NaN</td>\n      <td>NaN</td>\n      <td>NaN</td>\n      <td>NaN</td>\n      <td>'47'</td>\n      <td>np.ndarray(shape=torch.Size([3, 224, 224]))</td>\n      <td>&lt;PIL.Image.Image image mode=L size=1024x1024 a...</td>\n      <td>0</td>\n      <td>np.ndarray(shape=(2,))</td>\n      <td>np.ndarray(shape=(2048, 7, 7))</td>\n    </tr>\n    <tr>\n      <th>4</th>\n      <td>1.2.276.0.7230010.3.1.4.8323329.14529.15178752...</td>\n      <td>-1</td>\n      <td>0</td>\n      <td>/media/4tb_hdd/siim/dicom-images-train/1.2.276...</td>\n      <td>0.0</td>\n      <td>test</td>\n      <td>nan</td>\n      <td>nan</td>\n      <td>NaN</td>\n      <td>NaN</td>\n      <td>NaN</td>\n      <td>NaN</td>\n      <td>NaN</td>\n      <td>'66'</td>\n      <td>np.ndarray(shape=torch.Size([3, 224, 224]))</td>\n      <td>&lt;PIL.Image.Image image mode=L size=1024x1024 a...</td>\n      <td>0</td>\n      <td>np.ndarray(shape=(2,))</td>\n      <td>np.ndarray(shape=(2048, 7, 7))</td>\n    </tr>\n  </tbody>\n</table>\n</div>"
     },
     "metadata": {},
     "execution_count": 5
    }
   ],
   "source": [
    "# test mask are points that do not have gaze and have chest tube labels\n",
    "test_mask = np.logical_and(~train_mask, ~np.isnan(dp[\"chest_tube\"]))\n",
    "act_dp[test_mask].head()"
   ]
  },
  {
   "cell_type": "code",
   "execution_count": 6,
   "metadata": {},
   "outputs": [],
   "source": [
    "from domino.feedback import FeedbackInterface"
   ]
  },
  {
   "cell_type": "code",
   "execution_count": 7,
   "metadata": {},
   "outputs": [],
   "source": [
    "#FeedbackInterface(act_dp[train_mask], label_column=\"pmx\", save_dir=\"/media/4tb_hdd/siim/feedback\")"
   ]
  },
  {
   "cell_type": "code",
   "execution_count": 8,
   "metadata": {},
   "outputs": [],
   "source": [
    "scribble_dp = DataPanel().read(path=\"/media/4tb_hdd/siim/feedback/fb_21-06-23_16-23_f96391.dp\")"
   ]
  },
  {
   "cell_type": "code",
   "execution_count": 9,
   "metadata": {},
   "outputs": [
    {
     "output_type": "execute_result",
     "data": {
      "text/plain": [
       "DataPanel(num_rows: 5)"
      ],
      "text/html": "<div>\n<style scoped>\n    .dataframe tbody tr th:only-of-type {\n        vertical-align: middle;\n    }\n\n    .dataframe tbody tr th {\n        vertical-align: top;\n    }\n\n    .dataframe thead th {\n        text-align: right;\n    }\n</style>\n<table border=\"1\" class=\"dataframe\">\n  <thead>\n    <tr style=\"text-align: right;\">\n      <th></th>\n      <th>image_id (NumpyArrayColumn)</th>\n      <th>index (ListColumn)</th>\n      <th>feedback_label (NumpyArrayColumn)</th>\n      <th>feedback_mask (ListColumn)</th>\n    </tr>\n  </thead>\n  <tbody>\n    <tr>\n      <th>0</th>\n      <td>1.2.276.0.7230010.3.1.4.8323329.1460.151787516...</td>\n      <td>'7109'</td>\n      <td>positive</td>\n      <td>array([[[0, 0, 0],\\n        [0, 0, 0],\\n      ...</td>\n    </tr>\n    <tr>\n      <th>1</th>\n      <td>1.2.276.0.7230010.3.1.4.8323329.2039.151787517...</td>\n      <td>'1569'</td>\n      <td>negative</td>\n      <td>array([[[0, 0, 0],\\n        [0, 0, 0],\\n      ...</td>\n    </tr>\n    <tr>\n      <th>2</th>\n      <td>1.2.276.0.7230010.3.1.4.8323329.2091.151787517...</td>\n      <td>'10175'</td>\n      <td>negative</td>\n      <td>array([[[0, 0, 0],\\n        [0, 0, 0],\\n      ...</td>\n    </tr>\n    <tr>\n      <th>3</th>\n      <td>1.2.276.0.7230010.3.1.4.8323329.2207.151787517...</td>\n      <td>'11341'</td>\n      <td>negative</td>\n      <td>array([[[0, 0, 0],\\n        [0, 0, 0],\\n      ...</td>\n    </tr>\n    <tr>\n      <th>4</th>\n      <td>1.2.276.0.7230010.3.1.4.8323329.1485.151787516...</td>\n      <td>'8490'</td>\n      <td>positive</td>\n      <td>array([[[0, 0, 0],\\n        [0, 0, 0],\\n      ...</td>\n    </tr>\n  </tbody>\n</table>\n</div>"
     },
     "metadata": {},
     "execution_count": 9
    }
   ],
   "source": [
    "scribble_dp.head()"
   ]
  },
  {
   "cell_type": "code",
   "execution_count": 10,
   "metadata": {},
   "outputs": [
    {
     "output_type": "execute_result",
     "data": {
      "text/plain": [
       "50"
      ]
     },
     "metadata": {},
     "execution_count": 10
    }
   ],
   "source": [
    "(scribble_dp['feedback_label'].data!='unlabeled').sum()"
   ]
  },
  {
   "cell_type": "code",
   "execution_count": 11,
   "metadata": {},
   "outputs": [
    {
     "output_type": "execute_result",
     "data": {
      "text/plain": [
       "DataPanel(num_rows: 5)"
      ],
      "text/html": "<div>\n<style scoped>\n    .dataframe tbody tr th:only-of-type {\n        vertical-align: middle;\n    }\n\n    .dataframe tbody tr th {\n        vertical-align: top;\n    }\n\n    .dataframe thead th {\n        text-align: right;\n    }\n</style>\n<table border=\"1\" class=\"dataframe\">\n  <thead>\n    <tr style=\"text-align: right;\">\n      <th></th>\n      <th>image_id (NumpyArrayColumn)</th>\n      <th>encoded_pixels (NumpyArrayColumn)</th>\n      <th>pmx (NumpyArrayColumn)</th>\n      <th>filepath (NumpyArrayColumn)</th>\n      <th>chest_tube (NumpyArrayColumn)</th>\n      <th>split (NumpyArrayColumn)</th>\n      <th>gaze_seq (NumpyArrayColumn)</th>\n      <th>gaze_heatmap (NumpyArrayColumn)</th>\n      <th>gaze_max_visit (NumpyArrayColumn)</th>\n      <th>gaze_unique (NumpyArrayColumn)</th>\n      <th>...</th>\n      <th>gaze_diffusivity (NumpyArrayColumn)</th>\n      <th>expert_label (NumpyArrayColumn)</th>\n      <th>input (CellColumn)</th>\n      <th>img (CellColumn)</th>\n      <th>pred (NumpyArrayColumn)</th>\n      <th>probs (NumpyArrayColumn)</th>\n      <th>activation_block4 (NumpyArrayColumn)</th>\n      <th>feedback_label (ListColumn)</th>\n      <th>feedback_mask (ListColumn)</th>\n      <th>index (ListColumn)</th>\n    </tr>\n  </thead>\n  <tbody>\n    <tr>\n      <th>0</th>\n      <td>1.2.276.0.7230010.3.1.4.8323329.6904.151787520...</td>\n      <td>-1</td>\n      <td>0</td>\n      <td>/media/4tb_hdd/siim/dicom-images-train/1.2.276...</td>\n      <td>NaN</td>\n      <td>train</td>\n      <td>nan</td>\n      <td>nan</td>\n      <td>NaN</td>\n      <td>NaN</td>\n      <td>...</td>\n      <td>NaN</td>\n      <td>NaN</td>\n      <td>MedicalVolumeCell([PosixPath('/media/4tb_hdd/s...</td>\n      <td>MedicalVolumeCell([PosixPath('/media/4tb_hdd/s...</td>\n      <td>0</td>\n      <td>np.ndarray(shape=(2,))</td>\n      <td>np.ndarray(shape=(2048, 7, 7))</td>\n      <td>None</td>\n      <td>None</td>\n      <td>'0'</td>\n    </tr>\n    <tr>\n      <th>1</th>\n      <td>1.2.276.0.7230010.3.1.4.8323329.13666.15178752...</td>\n      <td>557374 2 1015 8 1009 14 1002 20 997 26 990 32 ...</td>\n      <td>1</td>\n      <td>/media/4tb_hdd/siim/dicom-images-train/1.2.276...</td>\n      <td>NaN</td>\n      <td>train</td>\n      <td>nan</td>\n      <td>nan</td>\n      <td>NaN</td>\n      <td>NaN</td>\n      <td>...</td>\n      <td>NaN</td>\n      <td>NaN</td>\n      <td>MedicalVolumeCell([PosixPath('/media/4tb_hdd/s...</td>\n      <td>MedicalVolumeCell([PosixPath('/media/4tb_hdd/s...</td>\n      <td>0</td>\n      <td>np.ndarray(shape=(2,))</td>\n      <td>np.ndarray(shape=(2048, 7, 7))</td>\n      <td>None</td>\n      <td>None</td>\n      <td>'1'</td>\n    </tr>\n    <tr>\n      <th>2</th>\n      <td>1.2.276.0.7230010.3.1.4.8323329.11028.15178752...</td>\n      <td>-1</td>\n      <td>0</td>\n      <td>/media/4tb_hdd/siim/dicom-images-train/1.2.276...</td>\n      <td>NaN</td>\n      <td>train</td>\n      <td>nan</td>\n      <td>nan</td>\n      <td>NaN</td>\n      <td>NaN</td>\n      <td>...</td>\n      <td>NaN</td>\n      <td>NaN</td>\n      <td>MedicalVolumeCell([PosixPath('/media/4tb_hdd/s...</td>\n      <td>MedicalVolumeCell([PosixPath('/media/4tb_hdd/s...</td>\n      <td>0</td>\n      <td>np.ndarray(shape=(2,))</td>\n      <td>np.ndarray(shape=(2048, 7, 7))</td>\n      <td>None</td>\n      <td>None</td>\n      <td>'2'</td>\n    </tr>\n    <tr>\n      <th>3</th>\n      <td>1.2.276.0.7230010.3.1.4.8323329.10366.15178752...</td>\n      <td>514175 10 1008 29 994 30 993 32 991 33 990 34 ...</td>\n      <td>1</td>\n      <td>/media/4tb_hdd/siim/dicom-images-train/1.2.276...</td>\n      <td>NaN</td>\n      <td>train</td>\n      <td>nan</td>\n      <td>nan</td>\n      <td>NaN</td>\n      <td>NaN</td>\n      <td>...</td>\n      <td>NaN</td>\n      <td>NaN</td>\n      <td>MedicalVolumeCell([PosixPath('/media/4tb_hdd/s...</td>\n      <td>MedicalVolumeCell([PosixPath('/media/4tb_hdd/s...</td>\n      <td>0</td>\n      <td>np.ndarray(shape=(2,))</td>\n      <td>np.ndarray(shape=(2048, 7, 7))</td>\n      <td>None</td>\n      <td>None</td>\n      <td>'3'</td>\n    </tr>\n    <tr>\n      <th>4</th>\n      <td>1.2.276.0.7230010.3.1.4.8323329.10016.15178752...</td>\n      <td>592184 33 976 58 956 73 941 88 926 102 917 109...</td>\n      <td>1</td>\n      <td>/media/4tb_hdd/siim/dicom-images-train/1.2.276...</td>\n      <td>NaN</td>\n      <td>train</td>\n      <td>nan</td>\n      <td>nan</td>\n      <td>NaN</td>\n      <td>NaN</td>\n      <td>...</td>\n      <td>NaN</td>\n      <td>NaN</td>\n      <td>MedicalVolumeCell([PosixPath('/media/4tb_hdd/s...</td>\n      <td>MedicalVolumeCell([PosixPath('/media/4tb_hdd/s...</td>\n      <td>0</td>\n      <td>np.ndarray(shape=(2,))</td>\n      <td>np.ndarray(shape=(2048, 7, 7))</td>\n      <td>None</td>\n      <td>None</td>\n      <td>'4'</td>\n    </tr>\n  </tbody>\n</table>\n<p>5 rows × 21 columns</p>\n</div>"
     },
     "metadata": {},
     "execution_count": 11
    }
   ],
   "source": [
    "## Merge feedback cols with act_dp\n",
    "act_scribble_dp = act_dp.merge(scribble_dp, how=\"left\", on=\"image_id\")\n",
    "act_scribble_dp.head()"
   ]
  },
  {
   "cell_type": "code",
   "execution_count": 12,
   "metadata": {},
   "outputs": [
    {
     "output_type": "execute_result",
     "data": {
      "text/plain": [
       "12047"
      ]
     },
     "metadata": {},
     "execution_count": 12
    }
   ],
   "source": [
    "len(act_scribble_dp)"
   ]
  },
  {
   "cell_type": "code",
   "execution_count": 13,
   "metadata": {},
   "outputs": [],
   "source": [
    "from domino.feedback import ScribbleModel"
   ]
  },
  {
   "cell_type": "code",
   "execution_count": 14,
   "metadata": {},
   "outputs": [],
   "source": [
    "feedback_label_arr = np.array(act_scribble_dp[\"feedback_label\"].data)\n",
    "scribbled_train_mask = np.logical_or(feedback_label_arr == \"positive\",feedback_label_arr == \"negative\")\n",
    "\n",
    "scrib_model = ScribbleModel(threshold=0,strategy=\"mask_pos_v\")\n",
    "scrib_model.fit(act_scribble_dp[scribbled_train_mask],activation_col=\"activation_block4\")\n",
    "\n",
    "tubelabel_mask = ~np.isnan(act_scribble_dp[\"chest_tube\"].data)\n",
    "scribble_test_mask = np.logical_and(tubelabel_mask,~scribbled_train_mask)\n",
    "y_hat = scrib_model.predict(act_scribble_dp[scribble_test_mask],activation_col=\"activation_block4\")"
   ]
  },
  {
   "cell_type": "code",
   "execution_count": 15,
   "metadata": {},
   "outputs": [],
   "source": [
    "y = act_scribble_dp[scribble_test_mask][\"chest_tube\"]"
   ]
  },
  {
   "cell_type": "code",
   "execution_count": 16,
   "metadata": {},
   "outputs": [
    {
     "output_type": "execute_result",
     "data": {
      "text/plain": [
       "0.9012328232840243"
      ]
     },
     "metadata": {},
     "execution_count": 16
    }
   ],
   "source": [
    "roc_auc_score(y,y_hat)"
   ]
  },
  {
   "cell_type": "code",
   "execution_count": 17,
   "metadata": {},
   "outputs": [
    {
     "output_type": "execute_result",
     "data": {
      "text/plain": [
       "0.892167530566217"
      ]
     },
     "metadata": {},
     "execution_count": 17
    }
   ],
   "source": [
    "model_probs = act_scribble_dp[scribble_test_mask][\"probs\"].data[:,1]\n",
    "roc_auc_score(y,model_probs)"
   ]
  },
  {
   "cell_type": "code",
   "execution_count": 19,
   "metadata": {},
   "outputs": [
    {
     "output_type": "execute_result",
     "data": {
      "text/plain": [
       "0.9129406876904206"
      ]
     },
     "metadata": {},
     "execution_count": 19
    }
   ],
   "source": [
    "roc_auc_score(y,y_hat+model_probs)"
   ]
  },
  {
   "cell_type": "code",
   "execution_count": null,
   "metadata": {},
   "outputs": [],
   "source": []
  }
 ]
}