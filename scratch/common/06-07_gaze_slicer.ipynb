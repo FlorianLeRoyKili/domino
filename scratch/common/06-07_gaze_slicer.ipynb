{
 "cells": [
  {
   "cell_type": "code",
   "execution_count": 1,
   "metadata": {},
   "outputs": [],
   "source": [
    "import numpy as np \n",
    "import matplotlib.pyplot as plt\n",
    "import csv \n",
    "import pickle\n",
    "from scipy import stats\n",
    "from sklearn.metrics import roc_auc_score, precision_score, accuracy_score, f1_score, recall_score\n",
    "from sklearn.linear_model import LogisticRegression\n",
    "\n",
    "from domino.data.cxr import get_dp, build_cxr_df, get_cxr_activations, rle2mask"
   ]
  },
  {
   "cell_type": "markdown",
   "metadata": {},
   "source": [
    "## Extract train/test features from Image-Only model"
   ]
  },
  {
   "cell_type": "code",
   "execution_count": 2,
   "metadata": {},
   "outputs": [
    {
     "data": {
      "text/html": [
       "<div>\n",
       "<style scoped>\n",
       "    .dataframe tbody tr th:only-of-type {\n",
       "        vertical-align: middle;\n",
       "    }\n",
       "\n",
       "    .dataframe tbody tr th {\n",
       "        vertical-align: top;\n",
       "    }\n",
       "\n",
       "    .dataframe thead th {\n",
       "        text-align: right;\n",
       "    }\n",
       "</style>\n",
       "<table border=\"1\" class=\"dataframe\">\n",
       "  <thead>\n",
       "    <tr style=\"text-align: right;\">\n",
       "      <th></th>\n",
       "      <th>image_id (NumpyArrayColumn)</th>\n",
       "      <th>encoded_pixels (NumpyArrayColumn)</th>\n",
       "      <th>pmx (NumpyArrayColumn)</th>\n",
       "      <th>filepath (NumpyArrayColumn)</th>\n",
       "      <th>chest_tube (NumpyArrayColumn)</th>\n",
       "      <th>split (NumpyArrayColumn)</th>\n",
       "      <th>gaze_seq (NumpyArrayColumn)</th>\n",
       "      <th>gaze_heatmap (NumpyArrayColumn)</th>\n",
       "      <th>gaze_max_visit (NumpyArrayColumn)</th>\n",
       "      <th>gaze_unique (NumpyArrayColumn)</th>\n",
       "      <th>gaze_time (NumpyArrayColumn)</th>\n",
       "      <th>gaze_diffusivity (NumpyArrayColumn)</th>\n",
       "      <th>expert_label (NumpyArrayColumn)</th>\n",
       "      <th>index (ListColumn)</th>\n",
       "      <th>input (CellColumn)</th>\n",
       "      <th>img (CellColumn)</th>\n",
       "    </tr>\n",
       "  </thead>\n",
       "  <tbody>\n",
       "    <tr>\n",
       "      <th>0</th>\n",
       "      <td>1.2.276.0.7230010.3.1.4.8323329.6904.151787520...</td>\n",
       "      <td>-1</td>\n",
       "      <td>0</td>\n",
       "      <td>/media/4tb_hdd/siim/dicom-images-train/1.2.276...</td>\n",
       "      <td>NaN</td>\n",
       "      <td>train</td>\n",
       "      <td>nan</td>\n",
       "      <td>nan</td>\n",
       "      <td>NaN</td>\n",
       "      <td>NaN</td>\n",
       "      <td>NaN</td>\n",
       "      <td>NaN</td>\n",
       "      <td>NaN</td>\n",
       "      <td>'0'</td>\n",
       "      <td>MedicalVolumeCell([PosixPath('/media/4tb_hdd/s...</td>\n",
       "      <td>MedicalVolumeCell([PosixPath('/media/4tb_hdd/s...</td>\n",
       "    </tr>\n",
       "    <tr>\n",
       "      <th>1</th>\n",
       "      <td>1.2.276.0.7230010.3.1.4.8323329.13666.15178752...</td>\n",
       "      <td>557374 2 1015 8 1009 14 1002 20 997 26 990 32 ...</td>\n",
       "      <td>1</td>\n",
       "      <td>/media/4tb_hdd/siim/dicom-images-train/1.2.276...</td>\n",
       "      <td>NaN</td>\n",
       "      <td>train</td>\n",
       "      <td>nan</td>\n",
       "      <td>nan</td>\n",
       "      <td>NaN</td>\n",
       "      <td>NaN</td>\n",
       "      <td>NaN</td>\n",
       "      <td>NaN</td>\n",
       "      <td>NaN</td>\n",
       "      <td>'1'</td>\n",
       "      <td>MedicalVolumeCell([PosixPath('/media/4tb_hdd/s...</td>\n",
       "      <td>MedicalVolumeCell([PosixPath('/media/4tb_hdd/s...</td>\n",
       "    </tr>\n",
       "    <tr>\n",
       "      <th>2</th>\n",
       "      <td>1.2.276.0.7230010.3.1.4.8323329.11028.15178752...</td>\n",
       "      <td>-1</td>\n",
       "      <td>0</td>\n",
       "      <td>/media/4tb_hdd/siim/dicom-images-train/1.2.276...</td>\n",
       "      <td>NaN</td>\n",
       "      <td>train</td>\n",
       "      <td>nan</td>\n",
       "      <td>nan</td>\n",
       "      <td>NaN</td>\n",
       "      <td>NaN</td>\n",
       "      <td>NaN</td>\n",
       "      <td>NaN</td>\n",
       "      <td>NaN</td>\n",
       "      <td>'2'</td>\n",
       "      <td>MedicalVolumeCell([PosixPath('/media/4tb_hdd/s...</td>\n",
       "      <td>MedicalVolumeCell([PosixPath('/media/4tb_hdd/s...</td>\n",
       "    </tr>\n",
       "    <tr>\n",
       "      <th>3</th>\n",
       "      <td>1.2.276.0.7230010.3.1.4.8323329.10366.15178752...</td>\n",
       "      <td>514175 10 1008 29 994 30 993 32 991 33 990 34 ...</td>\n",
       "      <td>1</td>\n",
       "      <td>/media/4tb_hdd/siim/dicom-images-train/1.2.276...</td>\n",
       "      <td>NaN</td>\n",
       "      <td>train</td>\n",
       "      <td>nan</td>\n",
       "      <td>nan</td>\n",
       "      <td>NaN</td>\n",
       "      <td>NaN</td>\n",
       "      <td>NaN</td>\n",
       "      <td>NaN</td>\n",
       "      <td>NaN</td>\n",
       "      <td>'3'</td>\n",
       "      <td>MedicalVolumeCell([PosixPath('/media/4tb_hdd/s...</td>\n",
       "      <td>MedicalVolumeCell([PosixPath('/media/4tb_hdd/s...</td>\n",
       "    </tr>\n",
       "    <tr>\n",
       "      <th>4</th>\n",
       "      <td>1.2.276.0.7230010.3.1.4.8323329.10016.15178752...</td>\n",
       "      <td>592184 33 976 58 956 73 941 88 926 102 917 109...</td>\n",
       "      <td>1</td>\n",
       "      <td>/media/4tb_hdd/siim/dicom-images-train/1.2.276...</td>\n",
       "      <td>NaN</td>\n",
       "      <td>train</td>\n",
       "      <td>nan</td>\n",
       "      <td>nan</td>\n",
       "      <td>NaN</td>\n",
       "      <td>NaN</td>\n",
       "      <td>NaN</td>\n",
       "      <td>NaN</td>\n",
       "      <td>NaN</td>\n",
       "      <td>'4'</td>\n",
       "      <td>MedicalVolumeCell([PosixPath('/media/4tb_hdd/s...</td>\n",
       "      <td>MedicalVolumeCell([PosixPath('/media/4tb_hdd/s...</td>\n",
       "    </tr>\n",
       "  </tbody>\n",
       "</table>\n",
       "</div>"
      ],
      "text/plain": [
       "DataPanel(num_rows: 5)"
      ]
     },
     "execution_count": 2,
     "metadata": {},
     "output_type": "execute_result"
    }
   ],
   "source": [
    "# Get a mosaic DataPanel with the data.\n",
    "df = build_cxr_df.out(load=True)\n",
    "dp = get_dp(df)\n",
    "dp.head()"
   ]
  },
  {
   "cell_type": "code",
   "execution_count": 3,
   "metadata": {},
   "outputs": [
    {
     "data": {
      "application/vnd.jupyter.widget-view+json": {
       "model_id": "4bf3e1a577fb42ecb476e1285d8bce19",
       "version_major": 2,
       "version_minor": 0
      },
      "text/plain": [
       "HBox(children=(FloatProgress(value=0.0, max=189.0), HTML(value='')))"
      ]
     },
     "metadata": {},
     "output_type": "display_data"
    },
    {
     "name": "stdout",
     "output_type": "stream",
     "text": [
      "\n"
     ]
    }
   ],
   "source": [
    "model_pth = \"/media/nvme_data/observational_results_10_2020/original/cxr/emmental_cam/cam_0/seed_0/best_model_target_cxr_val_accuracy.pth\"\n",
    "\n",
    "act_dp = get_cxr_activations(dp=dp, model_path=model_pth)\n"
   ]
  },
  {
   "cell_type": "code",
   "execution_count": 4,
   "metadata": {},
   "outputs": [
    {
     "data": {
      "text/html": [
       "<div>\n",
       "<style scoped>\n",
       "    .dataframe tbody tr th:only-of-type {\n",
       "        vertical-align: middle;\n",
       "    }\n",
       "\n",
       "    .dataframe tbody tr th {\n",
       "        vertical-align: top;\n",
       "    }\n",
       "\n",
       "    .dataframe thead th {\n",
       "        text-align: right;\n",
       "    }\n",
       "</style>\n",
       "<table border=\"1\" class=\"dataframe\">\n",
       "  <thead>\n",
       "    <tr style=\"text-align: right;\">\n",
       "      <th></th>\n",
       "      <th>image_id (NumpyArrayColumn)</th>\n",
       "      <th>encoded_pixels (NumpyArrayColumn)</th>\n",
       "      <th>pmx (NumpyArrayColumn)</th>\n",
       "      <th>filepath (NumpyArrayColumn)</th>\n",
       "      <th>chest_tube (NumpyArrayColumn)</th>\n",
       "      <th>split (NumpyArrayColumn)</th>\n",
       "      <th>gaze_seq (NumpyArrayColumn)</th>\n",
       "      <th>gaze_heatmap (NumpyArrayColumn)</th>\n",
       "      <th>gaze_max_visit (NumpyArrayColumn)</th>\n",
       "      <th>gaze_unique (NumpyArrayColumn)</th>\n",
       "      <th>gaze_time (NumpyArrayColumn)</th>\n",
       "      <th>gaze_diffusivity (NumpyArrayColumn)</th>\n",
       "      <th>expert_label (NumpyArrayColumn)</th>\n",
       "      <th>index (ListColumn)</th>\n",
       "      <th>input (TensorColumn)</th>\n",
       "      <th>img (ListColumn)</th>\n",
       "      <th>pred (NumpyArrayColumn)</th>\n",
       "      <th>probs (NumpyArrayColumn)</th>\n",
       "      <th>activation_block3 (NumpyArrayColumn)</th>\n",
       "      <th>activation_block4 (NumpyArrayColumn)</th>\n",
       "    </tr>\n",
       "  </thead>\n",
       "  <tbody>\n",
       "    <tr>\n",
       "      <th>0</th>\n",
       "      <td>1.2.276.0.7230010.3.1.4.8323329.1857.151787516...</td>\n",
       "      <td>378999 2 1018 8 1013 13 1009 15 1007 17 1006 1...</td>\n",
       "      <td>1</td>\n",
       "      <td>/media/4tb_hdd/siim/dicom-images-train/1.2.276...</td>\n",
       "      <td>1.0</td>\n",
       "      <td>train</td>\n",
       "      <td>[(0.3002531741212215, 0.9348943074817682, 2), ...</td>\n",
       "      <td>[[ 0.  0.  0. 14.  2.  2.  1.  0.]\\n [ 0.  0. ...</td>\n",
       "      <td>14.0</td>\n",
       "      <td>12.0</td>\n",
       "      <td>33.0</td>\n",
       "      <td>0.545455</td>\n",
       "      <td>1.0</td>\n",
       "      <td>'29'</td>\n",
       "      <td>torch.Tensor(shape=torch.Size([3, 224, 224]))</td>\n",
       "      <td>&lt;PIL.Image.Image image mode=L size=1024x1024 a...</td>\n",
       "      <td>0</td>\n",
       "      <td>np.ndarray(shape=(2,))</td>\n",
       "      <td>np.ndarray(shape=(1024, 14, 14))</td>\n",
       "      <td>np.ndarray(shape=(2048, 7, 7))</td>\n",
       "    </tr>\n",
       "    <tr>\n",
       "      <th>1</th>\n",
       "      <td>1.2.276.0.7230010.3.1.4.8323329.1219.151787516...</td>\n",
       "      <td>-1</td>\n",
       "      <td>0</td>\n",
       "      <td>/media/4tb_hdd/siim/dicom-images-train/1.2.276...</td>\n",
       "      <td>1.0</td>\n",
       "      <td>train</td>\n",
       "      <td>[(0.3135288701615107, 0.5596042556980056, 2), ...</td>\n",
       "      <td>[[0. 0. 0. 1. 3. 0. 0. 0.]\\n [0. 0. 0. 3. 3. 2...</td>\n",
       "      <td>7.0</td>\n",
       "      <td>19.0</td>\n",
       "      <td>46.0</td>\n",
       "      <td>0.369565</td>\n",
       "      <td>1.0</td>\n",
       "      <td>'39'</td>\n",
       "      <td>torch.Tensor(shape=torch.Size([3, 224, 224]))</td>\n",
       "      <td>&lt;PIL.Image.Image image mode=L size=1024x1024 a...</td>\n",
       "      <td>0</td>\n",
       "      <td>np.ndarray(shape=(2,))</td>\n",
       "      <td>np.ndarray(shape=(1024, 14, 14))</td>\n",
       "      <td>np.ndarray(shape=(2048, 7, 7))</td>\n",
       "    </tr>\n",
       "    <tr>\n",
       "      <th>2</th>\n",
       "      <td>1.2.276.0.7230010.3.1.4.8323329.2118.151787517...</td>\n",
       "      <td>591104 8 1011 18 1001 26 993 32 988 36 986 37 ...</td>\n",
       "      <td>1</td>\n",
       "      <td>/media/4tb_hdd/siim/dicom-images-train/1.2.276...</td>\n",
       "      <td>1.0</td>\n",
       "      <td>train</td>\n",
       "      <td>[(0.1227472372112641, 0.5808183519907184, 3), ...</td>\n",
       "      <td>[[ 0.  0.  0.  0.  4.  1.  0.  1.]\\n [ 0.  0. ...</td>\n",
       "      <td>10.0</td>\n",
       "      <td>23.0</td>\n",
       "      <td>81.0</td>\n",
       "      <td>0.395062</td>\n",
       "      <td>1.0</td>\n",
       "      <td>'43'</td>\n",
       "      <td>torch.Tensor(shape=torch.Size([3, 224, 224]))</td>\n",
       "      <td>&lt;PIL.Image.Image image mode=L size=1024x1024 a...</td>\n",
       "      <td>0</td>\n",
       "      <td>np.ndarray(shape=(2,))</td>\n",
       "      <td>np.ndarray(shape=(1024, 14, 14))</td>\n",
       "      <td>np.ndarray(shape=(2048, 7, 7))</td>\n",
       "    </tr>\n",
       "    <tr>\n",
       "      <th>3</th>\n",
       "      <td>1.2.276.0.7230010.3.1.4.8323329.2027.151787517...</td>\n",
       "      <td>500845 25 992 38 983 41 980 44 978 46 975 49 9...</td>\n",
       "      <td>1</td>\n",
       "      <td>/media/4tb_hdd/siim/dicom-images-train/1.2.276...</td>\n",
       "      <td>0.0</td>\n",
       "      <td>train</td>\n",
       "      <td>[(0.3294461311053661, 0.5748967530438639, 4), ...</td>\n",
       "      <td>[[ 0.  0.  4.  1. 10.  8.  0.  0.]\\n [ 0.  0. ...</td>\n",
       "      <td>11.0</td>\n",
       "      <td>21.0</td>\n",
       "      <td>78.0</td>\n",
       "      <td>0.641026</td>\n",
       "      <td>1.0</td>\n",
       "      <td>'50'</td>\n",
       "      <td>torch.Tensor(shape=torch.Size([3, 224, 224]))</td>\n",
       "      <td>&lt;PIL.Image.Image image mode=L size=1024x1024 a...</td>\n",
       "      <td>0</td>\n",
       "      <td>np.ndarray(shape=(2,))</td>\n",
       "      <td>np.ndarray(shape=(1024, 14, 14))</td>\n",
       "      <td>np.ndarray(shape=(2048, 7, 7))</td>\n",
       "    </tr>\n",
       "    <tr>\n",
       "      <th>4</th>\n",
       "      <td>1.2.276.0.7230010.3.1.4.8323329.1972.151787517...</td>\n",
       "      <td>-1</td>\n",
       "      <td>0</td>\n",
       "      <td>/media/4tb_hdd/siim/dicom-images-train/1.2.276...</td>\n",
       "      <td>0.0</td>\n",
       "      <td>train</td>\n",
       "      <td>[(0.25439717874245193, 0.6421419414319375, 2),...</td>\n",
       "      <td>[[ 0.  0.  5.  0.  0.  2.  0.  0.]\\n [ 0.  1. ...</td>\n",
       "      <td>10.0</td>\n",
       "      <td>22.0</td>\n",
       "      <td>75.0</td>\n",
       "      <td>0.266667</td>\n",
       "      <td>0.0</td>\n",
       "      <td>'53'</td>\n",
       "      <td>torch.Tensor(shape=torch.Size([3, 224, 224]))</td>\n",
       "      <td>&lt;PIL.Image.Image image mode=L size=1024x1024 a...</td>\n",
       "      <td>0</td>\n",
       "      <td>np.ndarray(shape=(2,))</td>\n",
       "      <td>np.ndarray(shape=(1024, 14, 14))</td>\n",
       "      <td>np.ndarray(shape=(2048, 7, 7))</td>\n",
       "    </tr>\n",
       "  </tbody>\n",
       "</table>\n",
       "</div>"
      ],
      "text/plain": [
       "DataPanel(num_rows: 5)"
      ]
     },
     "execution_count": 4,
     "metadata": {},
     "output_type": "execute_result"
    }
   ],
   "source": [
    "# train mask are points that have gaze\n",
    "train_mask = dp[\"gaze_seq\"].data != \"nan\"\n",
    "act_dp[train_mask].head()"
   ]
  },
  {
   "cell_type": "code",
   "execution_count": 5,
   "metadata": {},
   "outputs": [
    {
     "data": {
      "text/html": [
       "<div>\n",
       "<style scoped>\n",
       "    .dataframe tbody tr th:only-of-type {\n",
       "        vertical-align: middle;\n",
       "    }\n",
       "\n",
       "    .dataframe tbody tr th {\n",
       "        vertical-align: top;\n",
       "    }\n",
       "\n",
       "    .dataframe thead th {\n",
       "        text-align: right;\n",
       "    }\n",
       "</style>\n",
       "<table border=\"1\" class=\"dataframe\">\n",
       "  <thead>\n",
       "    <tr style=\"text-align: right;\">\n",
       "      <th></th>\n",
       "      <th>image_id (NumpyArrayColumn)</th>\n",
       "      <th>encoded_pixels (NumpyArrayColumn)</th>\n",
       "      <th>pmx (NumpyArrayColumn)</th>\n",
       "      <th>filepath (NumpyArrayColumn)</th>\n",
       "      <th>chest_tube (NumpyArrayColumn)</th>\n",
       "      <th>split (NumpyArrayColumn)</th>\n",
       "      <th>gaze_seq (NumpyArrayColumn)</th>\n",
       "      <th>gaze_heatmap (NumpyArrayColumn)</th>\n",
       "      <th>gaze_max_visit (NumpyArrayColumn)</th>\n",
       "      <th>gaze_unique (NumpyArrayColumn)</th>\n",
       "      <th>gaze_time (NumpyArrayColumn)</th>\n",
       "      <th>gaze_diffusivity (NumpyArrayColumn)</th>\n",
       "      <th>expert_label (NumpyArrayColumn)</th>\n",
       "      <th>index (ListColumn)</th>\n",
       "      <th>input (TensorColumn)</th>\n",
       "      <th>img (ListColumn)</th>\n",
       "      <th>pred (NumpyArrayColumn)</th>\n",
       "      <th>probs (NumpyArrayColumn)</th>\n",
       "      <th>activation_block3 (NumpyArrayColumn)</th>\n",
       "      <th>activation_block4 (NumpyArrayColumn)</th>\n",
       "    </tr>\n",
       "  </thead>\n",
       "  <tbody>\n",
       "    <tr>\n",
       "      <th>0</th>\n",
       "      <td>1.2.276.0.7230010.3.1.4.8323329.32395.15178751...</td>\n",
       "      <td>-1</td>\n",
       "      <td>0</td>\n",
       "      <td>/media/4tb_hdd/siim/dicom-images-train/1.2.276...</td>\n",
       "      <td>0.0</td>\n",
       "      <td>test</td>\n",
       "      <td>nan</td>\n",
       "      <td>nan</td>\n",
       "      <td>NaN</td>\n",
       "      <td>NaN</td>\n",
       "      <td>NaN</td>\n",
       "      <td>NaN</td>\n",
       "      <td>NaN</td>\n",
       "      <td>'7'</td>\n",
       "      <td>torch.Tensor(shape=torch.Size([3, 224, 224]))</td>\n",
       "      <td>&lt;PIL.Image.Image image mode=L size=1024x1024 a...</td>\n",
       "      <td>0</td>\n",
       "      <td>np.ndarray(shape=(2,))</td>\n",
       "      <td>np.ndarray(shape=(1024, 14, 14))</td>\n",
       "      <td>np.ndarray(shape=(2048, 7, 7))</td>\n",
       "    </tr>\n",
       "    <tr>\n",
       "      <th>1</th>\n",
       "      <td>1.2.276.0.7230010.3.1.4.8323329.12084.15178752...</td>\n",
       "      <td>-1</td>\n",
       "      <td>0</td>\n",
       "      <td>/media/4tb_hdd/siim/dicom-images-train/1.2.276...</td>\n",
       "      <td>0.0</td>\n",
       "      <td>test</td>\n",
       "      <td>nan</td>\n",
       "      <td>nan</td>\n",
       "      <td>NaN</td>\n",
       "      <td>NaN</td>\n",
       "      <td>NaN</td>\n",
       "      <td>NaN</td>\n",
       "      <td>NaN</td>\n",
       "      <td>'26'</td>\n",
       "      <td>torch.Tensor(shape=torch.Size([3, 224, 224]))</td>\n",
       "      <td>&lt;PIL.Image.Image image mode=L size=1024x1024 a...</td>\n",
       "      <td>0</td>\n",
       "      <td>np.ndarray(shape=(2,))</td>\n",
       "      <td>np.ndarray(shape=(1024, 14, 14))</td>\n",
       "      <td>np.ndarray(shape=(2048, 7, 7))</td>\n",
       "    </tr>\n",
       "    <tr>\n",
       "      <th>2</th>\n",
       "      <td>1.2.276.0.7230010.3.1.4.8323329.13325.15178752...</td>\n",
       "      <td>-1</td>\n",
       "      <td>0</td>\n",
       "      <td>/media/4tb_hdd/siim/dicom-images-train/1.2.276...</td>\n",
       "      <td>0.0</td>\n",
       "      <td>test</td>\n",
       "      <td>nan</td>\n",
       "      <td>nan</td>\n",
       "      <td>NaN</td>\n",
       "      <td>NaN</td>\n",
       "      <td>NaN</td>\n",
       "      <td>NaN</td>\n",
       "      <td>NaN</td>\n",
       "      <td>'36'</td>\n",
       "      <td>torch.Tensor(shape=torch.Size([3, 224, 224]))</td>\n",
       "      <td>&lt;PIL.Image.Image image mode=L size=1024x1024 a...</td>\n",
       "      <td>0</td>\n",
       "      <td>np.ndarray(shape=(2,))</td>\n",
       "      <td>np.ndarray(shape=(1024, 14, 14))</td>\n",
       "      <td>np.ndarray(shape=(2048, 7, 7))</td>\n",
       "    </tr>\n",
       "    <tr>\n",
       "      <th>3</th>\n",
       "      <td>1.2.276.0.7230010.3.1.4.8323329.11640.15178752...</td>\n",
       "      <td>-1</td>\n",
       "      <td>0</td>\n",
       "      <td>/media/4tb_hdd/siim/dicom-images-train/1.2.276...</td>\n",
       "      <td>0.0</td>\n",
       "      <td>test</td>\n",
       "      <td>nan</td>\n",
       "      <td>nan</td>\n",
       "      <td>NaN</td>\n",
       "      <td>NaN</td>\n",
       "      <td>NaN</td>\n",
       "      <td>NaN</td>\n",
       "      <td>NaN</td>\n",
       "      <td>'47'</td>\n",
       "      <td>torch.Tensor(shape=torch.Size([3, 224, 224]))</td>\n",
       "      <td>&lt;PIL.Image.Image image mode=L size=1024x1024 a...</td>\n",
       "      <td>0</td>\n",
       "      <td>np.ndarray(shape=(2,))</td>\n",
       "      <td>np.ndarray(shape=(1024, 14, 14))</td>\n",
       "      <td>np.ndarray(shape=(2048, 7, 7))</td>\n",
       "    </tr>\n",
       "    <tr>\n",
       "      <th>4</th>\n",
       "      <td>1.2.276.0.7230010.3.1.4.8323329.14529.15178752...</td>\n",
       "      <td>-1</td>\n",
       "      <td>0</td>\n",
       "      <td>/media/4tb_hdd/siim/dicom-images-train/1.2.276...</td>\n",
       "      <td>0.0</td>\n",
       "      <td>test</td>\n",
       "      <td>nan</td>\n",
       "      <td>nan</td>\n",
       "      <td>NaN</td>\n",
       "      <td>NaN</td>\n",
       "      <td>NaN</td>\n",
       "      <td>NaN</td>\n",
       "      <td>NaN</td>\n",
       "      <td>'66'</td>\n",
       "      <td>torch.Tensor(shape=torch.Size([3, 224, 224]))</td>\n",
       "      <td>&lt;PIL.Image.Image image mode=L size=1024x1024 a...</td>\n",
       "      <td>0</td>\n",
       "      <td>np.ndarray(shape=(2,))</td>\n",
       "      <td>np.ndarray(shape=(1024, 14, 14))</td>\n",
       "      <td>np.ndarray(shape=(2048, 7, 7))</td>\n",
       "    </tr>\n",
       "  </tbody>\n",
       "</table>\n",
       "</div>"
      ],
      "text/plain": [
       "DataPanel(num_rows: 5)"
      ]
     },
     "execution_count": 5,
     "metadata": {},
     "output_type": "execute_result"
    }
   ],
   "source": [
    "# test mask are points that do not have gaze and have chest tube labels\n",
    "test_mask = np.logical_and(~train_mask, ~np.isnan(dp[\"chest_tube\"]))\n",
    "act_dp[test_mask].head()"
   ]
  },
  {
   "cell_type": "code",
   "execution_count": 6,
   "metadata": {},
   "outputs": [],
   "source": [
    "# act_dp_ = get_cxr_activations.out(run_id=35,load=True)\n",
    "# act_dp_.head()"
   ]
  },
  {
   "cell_type": "code",
   "execution_count": 46,
   "metadata": {},
   "outputs": [],
   "source": [
    "gaze_name = \"unique\"\n",
    "image_feats_train = act_dp[\"activation_block4\"][train_mask].reshape(-1,2048,49).mean(2)\n",
    "tube_labels_train = act_dp[\"chest_tube\"][train_mask]\n",
    "pmx_labels_train = act_dp[\"pmx\"][train_mask]\n",
    "probs_train = act_dp[\"probs\"][train_mask].data[:,1]\n",
    "gaze_feature = act_dp[f\"gaze_{gaze_name}\"][train_mask]\n",
    "\n",
    "image_feats_test = act_dp[test_mask][\"activation_block4\"].reshape(-1,2048,49).mean(2)\n",
    "tube_labels_test = act_dp[\"chest_tube\"][test_mask]\n",
    "pmx_labels_test = act_dp[\"pmx\"][test_mask]\n",
    "probs_test = act_dp[\"probs\"][test_mask].data[:,1]"
   ]
  },
  {
   "cell_type": "markdown",
   "metadata": {},
   "source": [
    "## train few-shot LR models with gaze features"
   ]
  },
  {
   "cell_type": "code",
   "execution_count": 47,
   "metadata": {},
   "outputs": [
    {
     "name": "stdout",
     "output_type": "stream",
     "text": [
      "(55, 2048)\n",
      "149/1000\n"
     ]
    }
   ],
   "source": [
    "k = 20\n",
    "label_mask = pmx_labels_train == 1\n",
    "label_mask_test = pmx_labels_test > -1\n",
    "\n",
    "\n",
    "thresh1 = np.sort(gaze_feature[label_mask])[-k]\n",
    "thresh2 = np.sort(gaze_feature[label_mask])[k]\n",
    "label_mask_1 = gaze_feature[label_mask] >= thresh1\n",
    "label_mask_0 = gaze_feature[label_mask] <= thresh2\n",
    "\n",
    "X_train = np.concatenate((image_feats_train[label_mask][label_mask_1],image_feats_train[label_mask][label_mask_0]))\n",
    "y_train = np.array([1]*label_mask_1.sum() + [0]*label_mask_0.sum())\n",
    "\n",
    "print(X_train.shape)\n",
    "\n",
    "clf = LogisticRegression(random_state=0).fit(X_train, y_train)\n",
    "test_slices = clf.predict(image_feats_test[label_mask_test])\n",
    "print(f\"{test_slices.sum()}/{len(test_slices)}\")\n"
   ]
  },
  {
   "cell_type": "markdown",
   "metadata": {},
   "source": [
    "## View performance gaps in test set"
   ]
  },
  {
   "cell_type": "code",
   "execution_count": 48,
   "metadata": {},
   "outputs": [
    {
     "name": "stdout",
     "output_type": "stream",
     "text": [
      "Overall AUROC: 90.86\n",
      "High unique AUROC: 80.11\n",
      "Low unique AUROC: 89.78\n"
     ]
    }
   ],
   "source": [
    "thresh = 0.3 #373 # this threshold achieves 0.55 recall for overall\n",
    "preds_test = (probs_test > thresh)\n",
    "overall_acc = (preds_test[label_mask_test] == pmx_labels_test[label_mask_test]).mean()\n",
    "#print(f\"Overall accuracy for class: {100*overall_acc:.2f}\")\n",
    "print(f\"Overall AUROC: {100*roc_auc_score(pmx_labels_test, probs_test):.2f}\")\n",
    "\n",
    "\n",
    "mask1 = test_slices.astype(bool)\n",
    "acc_0 = (preds_test[label_mask_test][mask1] == pmx_labels_test[label_mask_test][mask1]).mean()\n",
    "#print(f\"Accuracy for class on slice 0: {100*acc_0:.2f}\")\n",
    "print(f\"High {gaze_name} AUROC: {100*roc_auc_score(pmx_labels_test[mask1], probs_test[mask1]):.2f}\")\n",
    "\n",
    "\n",
    "mask2 = (1-test_slices).astype(bool)\n",
    "acc_1 = (preds_test[label_mask_test][mask2] == pmx_labels_test[label_mask_test][mask2]).mean()\n",
    "#print(f\"Accuracy for class on slice 1: {100*acc_1:.2f}\")\n",
    "print(f\"Low {gaze_name} AUROC: {100*roc_auc_score(pmx_labels_test[mask2], probs_test[mask2]):.2f}\")\n"
   ]
  },
  {
   "cell_type": "markdown",
   "metadata": {},
   "source": [
    "## Quantitative analysis with segmentation masks"
   ]
  },
  {
   "cell_type": "code",
   "execution_count": 49,
   "metadata": {},
   "outputs": [],
   "source": [
    "rle_1 = act_dp[test_mask][\"encoded_pixels\"][mask1]\n",
    "rle_2 = act_dp[test_mask][\"encoded_pixels\"][mask2]"
   ]
  },
  {
   "cell_type": "code",
   "execution_count": 50,
   "metadata": {},
   "outputs": [],
   "source": [
    "segmasks_1 = np.array([rle2mask(rle,1024,1024).T for rle in rle_1 if rle!='-1'])\n",
    "segmasks_2 = np.array([rle2mask(rle,1024,1024).T for rle in rle_2 if rle!='-1'])\n"
   ]
  },
  {
   "cell_type": "markdown",
   "metadata": {},
   "source": [
    "### Abnormal area"
   ]
  },
  {
   "cell_type": "code",
   "execution_count": 51,
   "metadata": {},
   "outputs": [
    {
     "name": "stdout",
     "output_type": "stream",
     "text": [
      "Average abnormal area for high unique: 0.0094\n",
      "Average abnormal area for low unique: 0.0128\n",
      "p-value: 0.0737\n"
     ]
    }
   ],
   "source": [
    "abn_size1 = segmasks_1.mean((1,2))\n",
    "abn_size2 = segmasks_2.mean((1,2))\n",
    "\n",
    "print(f\"Average abnormal area for high {gaze_name}: {abn_size1.mean():.4f}\")\n",
    "print(f\"Average abnormal area for low {gaze_name}: {abn_size2.mean():.4f}\")\n",
    "\n",
    "from scipy.stats import ttest_ind\n",
    "\n",
    "print(f\"p-value: {ttest_ind(abn_size1,abn_size2)[1]:.4f}\")\n"
   ]
  },
  {
   "cell_type": "markdown",
   "metadata": {},
   "source": [
    "### Abnormal location"
   ]
  },
  {
   "cell_type": "code",
   "execution_count": 52,
   "metadata": {},
   "outputs": [
    {
     "data": {
      "image/png": "[encoded data removed]",
      "text/plain": [
       "<Figure size 432x288 with 1 Axes>"
      ]
     },
     "metadata": {
      "needs_background": "light"
     },
     "output_type": "display_data"
    },
    {
     "data": {
      "image/png": "[encoded data removed]",
      "text/plain": [
       "<Figure size 432x288 with 1 Axes>"
      ]
     },
     "metadata": {
      "needs_background": "light"
     },
     "output_type": "display_data"
    }
   ],
   "source": [
    "# take average across all examples in slice and imshow the differences\n",
    "abn_locmap_1 = segmasks_1.mean(0)\n",
    "abn_locmap_2 = segmasks_2.mean(0)\n",
    "\n",
    "# min_val = min(abn_locmap_1.min(),abn_locmap_2.min())\n",
    "# max_val = max(abn_locmap_1.max(),abn_locmap_2.max())\n",
    "\n",
    "# abn_locmap_1 -= min_val\n",
    "# abn_locmap_1 /= max_val\n",
    "\n",
    "# abn_locmap_2 -= min_val\n",
    "# abn_locmap_2 /= max_val\n",
    "\n",
    "plt.title(f\"High {gaze_name}\")\n",
    "plt.imshow(abn_locmap_1)\n",
    "plt.axis(\"OFF\")\n",
    "# for i in range(abn_locmap_1.shape[0]):\n",
    "#     for j in range(abn_locmap_1.shape[1]):\n",
    "#         text = plt.text(j, i, f\"{abn_locmap_1[i, j]:.1f}\", ha=\"center\", va=\"center\", color=\"w\")\n",
    "plt.show()\n",
    "\n",
    "plt.title(f\"Low {gaze_name}\")\n",
    "plt.imshow(abn_locmap_2)\n",
    "plt.axis(\"OFF\")\n",
    "# for i in range(abn_locmap_1.shape[0]):\n",
    "#     for j in range(abn_locmap_1.shape[1]):\n",
    "#         text = plt.text(j, i, f\"{abn_locmap_2[i, j]:.1f}\", ha=\"center\", va=\"center\", color=\"w\")\n",
    "plt.show()\n",
    "\n"
   ]
  },
  {
   "cell_type": "markdown",
   "metadata": {},
   "source": [
    "## Are slices points the expert got wrong?"
   ]
  },
  {
   "cell_type": "code",
   "execution_count": 53,
   "metadata": {},
   "outputs": [
    {
     "name": "stdout",
     "output_type": "stream",
     "text": [
      "Expert recall overall: ratio: 38/55, mean: 0.69\n",
      "Expert recall on high unique: ratio: 16/29, mean: 0.55\n",
      "Expert recall on low unique: ratio: 22/26, mean: 0.85\n"
     ]
    }
   ],
   "source": [
    "# we can only check this in our train set that has gaze data\n",
    "# so as a start lets compare the top K vs. bottom K\n",
    "\n",
    "expert_labels = act_dp[\"expert_label\"][train_mask][label_mask]\n",
    "expert_labels_mask1 = expert_labels[label_mask_1] # top K feats\n",
    "expert_labels_mask0 = expert_labels[label_mask_0] # bottom K feats\n",
    "overall_mask = np.logical_or(label_mask_1,label_mask_0)\n",
    "expert_labels_ = expert_labels[overall_mask]\n",
    "# since label_mask is constrained to positive points, the average expert_labels_mask* is the recall\n",
    "print(f\"Expert recall overall: ratio: {int(expert_labels_.sum())}/{len(expert_labels_)}, mean: {expert_labels_.mean():.2f}\")\n",
    "print(f\"Expert recall on high {gaze_name}: ratio: {int(expert_labels_mask1.sum())}/{len(expert_labels_mask1)}, mean: {expert_labels_mask1.mean():.2f}\")\n",
    "print(f\"Expert recall on low {gaze_name}: ratio: {int(expert_labels_mask0.sum())}/{len(expert_labels_mask0)}, mean: {expert_labels_mask0.mean():.2f}\")\n"
   ]
  },
  {
   "cell_type": "markdown",
   "metadata": {},
   "source": [
    "## Spurious correlation analysis"
   ]
  },
  {
   "cell_type": "markdown",
   "metadata": {},
   "source": [
    "### chest tubes"
   ]
  },
  {
   "cell_type": "code",
   "execution_count": 54,
   "metadata": {},
   "outputs": [
    {
     "name": "stdout",
     "output_type": "stream",
     "text": [
      "Pneumothorax:\n",
      "\n",
      "overall tubes: ratio: 182/248, mean: 0.73, accuracy: 0.71\n",
      "tubes in high unique: ratio: 85/98, mean: 0.87, accuracy: 0.92\n",
      "tubes in low unique: ratio: 97/150, mean: 0.65, accuracy: 0.57\n",
      "\n",
      "No pneumothorax:\n",
      "\n",
      "overall tubes: ratio: 85/752, mean: 0.11, accuracy: 0.90\n",
      "tubes in high unique: ratio: 28/51, mean: 0.55, accuracy: 0.35\n",
      "tubes in low unique: ratio: 57/701, mean: 0.08, accuracy: 0.94\n",
      "\n"
     ]
    }
   ],
   "source": [
    "for class_ndx in [1,0]:\n",
    "    # print number of chest tubes in each slice\n",
    "    test_label_mask = pmx_labels_test==class_ndx\n",
    "    chest_tubes = act_dp[test_mask][\"chest_tube\"]\n",
    "    chest_tubes_1 = chest_tubes[np.logical_and(mask1,test_label_mask)]\n",
    "    chest_tubes_2 = chest_tubes[np.logical_and(mask2,test_label_mask)]\n",
    "    chest_tubes = chest_tubes[test_label_mask]\n",
    "\n",
    "    overall_acc = (preds_test[test_label_mask] == pmx_labels_test[test_label_mask]).mean()\n",
    "    acc_0 = (preds_test[np.logical_and(mask1,test_label_mask)] == pmx_labels_test[np.logical_and(mask1,test_label_mask)]).mean()\n",
    "    acc_1 = (preds_test[np.logical_and(mask2,test_label_mask)] == pmx_labels_test[np.logical_and(mask2,test_label_mask)]).mean()\n",
    "\n",
    "    if class_ndx == 0:\n",
    "        print(f\"No pneumothorax:\\n\")\n",
    "    else:\n",
    "        print(f\"Pneumothorax:\\n\")\n",
    "\n",
    "    print(f\"overall tubes: ratio: {int(chest_tubes.sum())}/{len(chest_tubes)}, mean: {chest_tubes.mean():.2f}, accuracy: {overall_acc:.2f}\")\n",
    "    print(f\"tubes in high {gaze_name}: ratio: {int(chest_tubes_1.sum())}/{len(chest_tubes_1)}, mean: {chest_tubes_1.mean():.2f}, accuracy: {acc_0:.2f}\")\n",
    "    print(f\"tubes in low {gaze_name}: ratio: {int(chest_tubes_2.sum())}/{len(chest_tubes_2)}, mean: {chest_tubes_2.mean():.2f}, accuracy: {acc_1:.2f}\\n\")\n",
    "\n",
    "\n"
   ]
  },
  {
   "cell_type": "code",
   "execution_count": null,
   "metadata": {},
   "outputs": [],
   "source": []
  }
 ],
 "metadata": {
  "interpreter": {
   "hash": "a24646a21692bffb9c7e1833721afa60c3e95143d60a72dee92a8ba34ef2437a"
  },
  "kernelspec": {
   "display_name": "Python 3.8.3 64-bit ('eegml': conda)",
   "name": "python3"
  },
  "language_info": {
   "name": "python",
   "version": ""
  },
  "orig_nbformat": 2
 },
 "nbformat": 4,
 "nbformat_minor": 2
}