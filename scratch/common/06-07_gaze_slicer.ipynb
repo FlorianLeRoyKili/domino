{
 "metadata": {
  "language_info": {
   "codemirror_mode": {
    "name": "ipython",
    "version": 3
   },
   "file_extension": ".py",
   "mimetype": "text/x-python",
   "name": "python",
   "nbconvert_exporter": "python",
   "pygments_lexer": "ipython3",
   "version": "3.8.10"
  },
  "orig_nbformat": 2,
  "kernelspec": {
   "name": "python3810jvsc74a57bd0b006b217e8cb0199fc13ea6a087b3b77c18ca9d2bc7dc9a8383728a63838a653",
   "display_name": "Python 3.8.10 64-bit ('domino': conda)"
  }
 },
 "nbformat": 4,
 "nbformat_minor": 2,
 "cells": [
  {
   "cell_type": "code",
   "execution_count": 11,
   "metadata": {},
   "outputs": [],
   "source": [
    "import numpy as np \n",
    "import matplotlib.pyplot as plt\n",
    "import csv \n",
    "import pickle\n",
    "from scipy import stats\n",
    "from sklearn.metrics import roc_auc_score, precision_score, accuracy_score, f1_score, recall_score\n",
    "from sklearn.linear_model import LogisticRegression\n",
    "\n",
    "from domino.data.cxr import get_dp, build_cxr_df, get_cxr_activations, rle2mask\n"
   ]
  },
  {
   "source": [
    "## Extract train/test features from Image-Only model"
   ],
   "cell_type": "markdown",
   "metadata": {}
  },
  {
   "cell_type": "code",
   "execution_count": 3,
   "metadata": {},
   "outputs": [
    {
     "output_type": "execute_result",
     "data": {
      "text/plain": [
       "DataPanel(num_rows: 5)"
      ],
      "text/html": "<div>\n<style scoped>\n    .dataframe tbody tr th:only-of-type {\n        vertical-align: middle;\n    }\n\n    .dataframe tbody tr th {\n        vertical-align: top;\n    }\n\n    .dataframe thead th {\n        text-align: right;\n    }\n</style>\n<table border=\"1\" class=\"dataframe\">\n  <thead>\n    <tr style=\"text-align: right;\">\n      <th></th>\n      <th>image_id (NumpyArrayColumn)</th>\n      <th>encoded_pixels (NumpyArrayColumn)</th>\n      <th>pmx (NumpyArrayColumn)</th>\n      <th>filepath (NumpyArrayColumn)</th>\n      <th>chest_tube (NumpyArrayColumn)</th>\n      <th>split (NumpyArrayColumn)</th>\n      <th>gaze_seq (NumpyArrayColumn)</th>\n      <th>gaze_heatmap (NumpyArrayColumn)</th>\n      <th>gaze_max_visit (NumpyArrayColumn)</th>\n      <th>gaze_unique (NumpyArrayColumn)</th>\n      <th>gaze_time (NumpyArrayColumn)</th>\n      <th>gaze_diffusivity (NumpyArrayColumn)</th>\n      <th>index (ListColumn)</th>\n      <th>input (CellColumn)</th>\n      <th>img (CellColumn)</th>\n    </tr>\n  </thead>\n  <tbody>\n    <tr>\n      <th>0</th>\n      <td>1.2.276.0.7230010.3.1.4.8323329.6904.151787520...</td>\n      <td>-1</td>\n      <td>0</td>\n      <td>/media/4tb_hdd/siim/dicom-images-train/1.2.276...</td>\n      <td>NaN</td>\n      <td>train</td>\n      <td>nan</td>\n      <td>nan</td>\n      <td>NaN</td>\n      <td>NaN</td>\n      <td>NaN</td>\n      <td>NaN</td>\n      <td>'0'</td>\n      <td>MedicalVolumeCell([PosixPath('/media/4tb_hdd/s...</td>\n      <td>MedicalVolumeCell([PosixPath('/media/4tb_hdd/s...</td>\n    </tr>\n    <tr>\n      <th>1</th>\n      <td>1.2.276.0.7230010.3.1.4.8323329.13666.15178752...</td>\n      <td>557374 2 1015 8 1009 14 1002 20 997 26 990 32 ...</td>\n      <td>1</td>\n      <td>/media/4tb_hdd/siim/dicom-images-train/1.2.276...</td>\n      <td>NaN</td>\n      <td>train</td>\n      <td>nan</td>\n      <td>nan</td>\n      <td>NaN</td>\n      <td>NaN</td>\n      <td>NaN</td>\n      <td>NaN</td>\n      <td>'1'</td>\n      <td>MedicalVolumeCell([PosixPath('/media/4tb_hdd/s...</td>\n      <td>MedicalVolumeCell([PosixPath('/media/4tb_hdd/s...</td>\n    </tr>\n    <tr>\n      <th>2</th>\n      <td>1.2.276.0.7230010.3.1.4.8323329.11028.15178752...</td>\n      <td>-1</td>\n      <td>0</td>\n      <td>/media/4tb_hdd/siim/dicom-images-train/1.2.276...</td>\n      <td>NaN</td>\n      <td>train</td>\n      <td>nan</td>\n      <td>nan</td>\n      <td>NaN</td>\n      <td>NaN</td>\n      <td>NaN</td>\n      <td>NaN</td>\n      <td>'2'</td>\n      <td>MedicalVolumeCell([PosixPath('/media/4tb_hdd/s...</td>\n      <td>MedicalVolumeCell([PosixPath('/media/4tb_hdd/s...</td>\n    </tr>\n    <tr>\n      <th>3</th>\n      <td>1.2.276.0.7230010.3.1.4.8323329.10366.15178752...</td>\n      <td>514175 10 1008 29 994 30 993 32 991 33 990 34 ...</td>\n      <td>1</td>\n      <td>/media/4tb_hdd/siim/dicom-images-train/1.2.276...</td>\n      <td>NaN</td>\n      <td>train</td>\n      <td>nan</td>\n      <td>nan</td>\n      <td>NaN</td>\n      <td>NaN</td>\n      <td>NaN</td>\n      <td>NaN</td>\n      <td>'3'</td>\n      <td>MedicalVolumeCell([PosixPath('/media/4tb_hdd/s...</td>\n      <td>MedicalVolumeCell([PosixPath('/media/4tb_hdd/s...</td>\n    </tr>\n    <tr>\n      <th>4</th>\n      <td>1.2.276.0.7230010.3.1.4.8323329.10016.15178752...</td>\n      <td>592184 33 976 58 956 73 941 88 926 102 917 109...</td>\n      <td>1</td>\n      <td>/media/4tb_hdd/siim/dicom-images-train/1.2.276...</td>\n      <td>NaN</td>\n      <td>train</td>\n      <td>nan</td>\n      <td>nan</td>\n      <td>NaN</td>\n      <td>NaN</td>\n      <td>NaN</td>\n      <td>NaN</td>\n      <td>'4'</td>\n      <td>MedicalVolumeCell([PosixPath('/media/4tb_hdd/s...</td>\n      <td>MedicalVolumeCell([PosixPath('/media/4tb_hdd/s...</td>\n    </tr>\n  </tbody>\n</table>\n</div>"
     },
     "metadata": {},
     "execution_count": 3
    }
   ],
   "source": [
    "# Get a mosaic DataPanel with the data.\n",
    "df = build_cxr_df.out(load=True)\n",
    "dp = get_dp(df)\n",
    "dp.head()"
   ]
  },
  {
   "cell_type": "code",
   "execution_count": 4,
   "metadata": {},
   "outputs": [
    {
     "output_type": "display_data",
     "data": {
      "text/plain": "HBox(children=(FloatProgress(value=0.0, max=95.0), HTML(value='')))",
      "application/vnd.jupyter.widget-view+json": {
       "version_major": 2,
       "version_minor": 0,
       "model_id": "ad34dfb4c2c64dd0be9904db5c7f9681"
      }
     },
     "metadata": {}
    },
    {
     "output_type": "stream",
     "name": "stdout",
     "text": [
      "\n"
     ]
    }
   ],
   "source": [
    "model_pth = \"/media/nvme_data/observational_results_10_2020/original/cxr/emmental_cam/cam_0/seed_0/best_model_target_cxr_val_accuracy.pth\"\n",
    "\n",
    "act_dp = get_cxr_activations(dp=dp, model_path=model_pth)\n"
   ]
  },
  {
   "cell_type": "code",
   "execution_count": 5,
   "metadata": {},
   "outputs": [
    {
     "output_type": "execute_result",
     "data": {
      "text/plain": [
       "DataPanel(num_rows: 5)"
      ],
      "text/html": "<div>\n<style scoped>\n    .dataframe tbody tr th:only-of-type {\n        vertical-align: middle;\n    }\n\n    .dataframe tbody tr th {\n        vertical-align: top;\n    }\n\n    .dataframe thead th {\n        text-align: right;\n    }\n</style>\n<table border=\"1\" class=\"dataframe\">\n  <thead>\n    <tr style=\"text-align: right;\">\n      <th></th>\n      <th>image_id (NumpyArrayColumn)</th>\n      <th>encoded_pixels (NumpyArrayColumn)</th>\n      <th>pmx (NumpyArrayColumn)</th>\n      <th>filepath (NumpyArrayColumn)</th>\n      <th>chest_tube (NumpyArrayColumn)</th>\n      <th>split (NumpyArrayColumn)</th>\n      <th>gaze_seq (NumpyArrayColumn)</th>\n      <th>gaze_heatmap (NumpyArrayColumn)</th>\n      <th>gaze_max_visit (NumpyArrayColumn)</th>\n      <th>gaze_unique (NumpyArrayColumn)</th>\n      <th>gaze_time (NumpyArrayColumn)</th>\n      <th>gaze_diffusivity (NumpyArrayColumn)</th>\n      <th>index (ListColumn)</th>\n      <th>input (TensorColumn)</th>\n      <th>img (ListColumn)</th>\n      <th>pred (NumpyArrayColumn)</th>\n      <th>probs (NumpyArrayColumn)</th>\n      <th>activation_block4 (NumpyArrayColumn)</th>\n    </tr>\n  </thead>\n  <tbody>\n    <tr>\n      <th>0</th>\n      <td>1.2.276.0.7230010.3.1.4.8323329.1857.151787516...</td>\n      <td>378999 2 1018 8 1013 13 1009 15 1007 17 1006 1...</td>\n      <td>1</td>\n      <td>/media/4tb_hdd/siim/dicom-images-train/1.2.276...</td>\n      <td>1.0</td>\n      <td>train</td>\n      <td>[(0.3002531741212215, 0.9348943074817682, 2), ...</td>\n      <td>[[ 0.  0.  0. 14.  2.  2.  1.  0.]\\n [ 0.  0. ...</td>\n      <td>14.0</td>\n      <td>12.0</td>\n      <td>33.0</td>\n      <td>0.545455</td>\n      <td>'29'</td>\n      <td>np.ndarray(shape=torch.Size([3, 224, 224]))</td>\n      <td>&lt;PIL.Image.Image image mode=L size=1024x1024 a...</td>\n      <td>0</td>\n      <td>np.ndarray(shape=(2,))</td>\n      <td>np.ndarray(shape=(2048, 7, 7))</td>\n    </tr>\n    <tr>\n      <th>1</th>\n      <td>1.2.276.0.7230010.3.1.4.8323329.1219.151787516...</td>\n      <td>-1</td>\n      <td>0</td>\n      <td>/media/4tb_hdd/siim/dicom-images-train/1.2.276...</td>\n      <td>1.0</td>\n      <td>train</td>\n      <td>[(0.3135288701615107, 0.5596042556980056, 2), ...</td>\n      <td>[[0. 0. 0. 1. 3. 0. 0. 0.]\\n [0. 0. 0. 3. 3. 2...</td>\n      <td>7.0</td>\n      <td>19.0</td>\n      <td>46.0</td>\n      <td>0.369565</td>\n      <td>'39'</td>\n      <td>np.ndarray(shape=torch.Size([3, 224, 224]))</td>\n      <td>&lt;PIL.Image.Image image mode=L size=1024x1024 a...</td>\n      <td>0</td>\n      <td>np.ndarray(shape=(2,))</td>\n      <td>np.ndarray(shape=(2048, 7, 7))</td>\n    </tr>\n    <tr>\n      <th>2</th>\n      <td>1.2.276.0.7230010.3.1.4.8323329.518.1517875163...</td>\n      <td>-1</td>\n      <td>0</td>\n      <td>/media/4tb_hdd/siim/dicom-images-train/1.2.276...</td>\n      <td>NaN</td>\n      <td>train</td>\n      <td>[(0.12663856335055726, 0.6144331769405472, 2),...</td>\n      <td>[[ 0.  0.  0.  0.  0.  0.  0.  0.]\\n [ 0.  0. ...</td>\n      <td>12.0</td>\n      <td>24.0</td>\n      <td>77.0</td>\n      <td>0.376623</td>\n      <td>'40'</td>\n      <td>np.ndarray(shape=torch.Size([3, 224, 224]))</td>\n      <td>&lt;PIL.Image.Image image mode=L size=1024x1024 a...</td>\n      <td>0</td>\n      <td>np.ndarray(shape=(2,))</td>\n      <td>np.ndarray(shape=(2048, 7, 7))</td>\n    </tr>\n    <tr>\n      <th>3</th>\n      <td>1.2.276.0.7230010.3.1.4.8323329.2118.151787517...</td>\n      <td>591104 8 1011 18 1001 26 993 32 988 36 986 37 ...</td>\n      <td>1</td>\n      <td>/media/4tb_hdd/siim/dicom-images-train/1.2.276...</td>\n      <td>1.0</td>\n      <td>train</td>\n      <td>[(0.1227472372112641, 0.5808183519907184, 3), ...</td>\n      <td>[[ 0.  0.  0.  0.  4.  1.  0.  1.]\\n [ 0.  0. ...</td>\n      <td>10.0</td>\n      <td>23.0</td>\n      <td>81.0</td>\n      <td>0.395062</td>\n      <td>'43'</td>\n      <td>np.ndarray(shape=torch.Size([3, 224, 224]))</td>\n      <td>&lt;PIL.Image.Image image mode=L size=1024x1024 a...</td>\n      <td>0</td>\n      <td>np.ndarray(shape=(2,))</td>\n      <td>np.ndarray(shape=(2048, 7, 7))</td>\n    </tr>\n    <tr>\n      <th>4</th>\n      <td>1.2.276.0.7230010.3.1.4.8323329.2027.151787517...</td>\n      <td>500845 25 992 38 983 41 980 44 978 46 975 49 9...</td>\n      <td>1</td>\n      <td>/media/4tb_hdd/siim/dicom-images-train/1.2.276...</td>\n      <td>0.0</td>\n      <td>train</td>\n      <td>[(0.3294461311053661, 0.5748967530438639, 4), ...</td>\n      <td>[[ 0.  0.  4.  1. 10.  8.  0.  0.]\\n [ 0.  0. ...</td>\n      <td>11.0</td>\n      <td>21.0</td>\n      <td>78.0</td>\n      <td>0.641026</td>\n      <td>'50'</td>\n      <td>np.ndarray(shape=torch.Size([3, 224, 224]))</td>\n      <td>&lt;PIL.Image.Image image mode=L size=1024x1024 a...</td>\n      <td>0</td>\n      <td>np.ndarray(shape=(2,))</td>\n      <td>np.ndarray(shape=(2048, 7, 7))</td>\n    </tr>\n  </tbody>\n</table>\n</div>"
     },
     "metadata": {},
     "execution_count": 5
    }
   ],
   "source": [
    "# train mask are points that have gaze\n",
    "train_mask = dp[\"gaze_seq\"].data != \"nan\"\n",
    "act_dp[train_mask].head()"
   ]
  },
  {
   "cell_type": "code",
   "execution_count": 6,
   "metadata": {},
   "outputs": [
    {
     "output_type": "execute_result",
     "data": {
      "text/plain": [
       "DataPanel(num_rows: 5)"
      ],
      "text/html": "<div>\n<style scoped>\n    .dataframe tbody tr th:only-of-type {\n        vertical-align: middle;\n    }\n\n    .dataframe tbody tr th {\n        vertical-align: top;\n    }\n\n    .dataframe thead th {\n        text-align: right;\n    }\n</style>\n<table border=\"1\" class=\"dataframe\">\n  <thead>\n    <tr style=\"text-align: right;\">\n      <th></th>\n      <th>image_id (NumpyArrayColumn)</th>\n      <th>encoded_pixels (NumpyArrayColumn)</th>\n      <th>pmx (NumpyArrayColumn)</th>\n      <th>filepath (NumpyArrayColumn)</th>\n      <th>chest_tube (NumpyArrayColumn)</th>\n      <th>split (NumpyArrayColumn)</th>\n      <th>gaze_seq (NumpyArrayColumn)</th>\n      <th>gaze_heatmap (NumpyArrayColumn)</th>\n      <th>gaze_max_visit (NumpyArrayColumn)</th>\n      <th>gaze_unique (NumpyArrayColumn)</th>\n      <th>gaze_time (NumpyArrayColumn)</th>\n      <th>gaze_diffusivity (NumpyArrayColumn)</th>\n      <th>index (ListColumn)</th>\n      <th>input (TensorColumn)</th>\n      <th>img (ListColumn)</th>\n      <th>pred (NumpyArrayColumn)</th>\n      <th>probs (NumpyArrayColumn)</th>\n      <th>activation_block4 (NumpyArrayColumn)</th>\n    </tr>\n  </thead>\n  <tbody>\n    <tr>\n      <th>0</th>\n      <td>1.2.276.0.7230010.3.1.4.8323329.32395.15178751...</td>\n      <td>-1</td>\n      <td>0</td>\n      <td>/media/4tb_hdd/siim/dicom-images-train/1.2.276...</td>\n      <td>0.0</td>\n      <td>test</td>\n      <td>nan</td>\n      <td>nan</td>\n      <td>NaN</td>\n      <td>NaN</td>\n      <td>NaN</td>\n      <td>NaN</td>\n      <td>'7'</td>\n      <td>np.ndarray(shape=torch.Size([3, 224, 224]))</td>\n      <td>&lt;PIL.Image.Image image mode=L size=1024x1024 a...</td>\n      <td>0</td>\n      <td>np.ndarray(shape=(2,))</td>\n      <td>np.ndarray(shape=(2048, 7, 7))</td>\n    </tr>\n    <tr>\n      <th>1</th>\n      <td>1.2.276.0.7230010.3.1.4.8323329.12084.15178752...</td>\n      <td>-1</td>\n      <td>0</td>\n      <td>/media/4tb_hdd/siim/dicom-images-train/1.2.276...</td>\n      <td>0.0</td>\n      <td>test</td>\n      <td>nan</td>\n      <td>nan</td>\n      <td>NaN</td>\n      <td>NaN</td>\n      <td>NaN</td>\n      <td>NaN</td>\n      <td>'26'</td>\n      <td>np.ndarray(shape=torch.Size([3, 224, 224]))</td>\n      <td>&lt;PIL.Image.Image image mode=L size=1024x1024 a...</td>\n      <td>0</td>\n      <td>np.ndarray(shape=(2,))</td>\n      <td>np.ndarray(shape=(2048, 7, 7))</td>\n    </tr>\n    <tr>\n      <th>2</th>\n      <td>1.2.276.0.7230010.3.1.4.8323329.13325.15178752...</td>\n      <td>-1</td>\n      <td>0</td>\n      <td>/media/4tb_hdd/siim/dicom-images-train/1.2.276...</td>\n      <td>0.0</td>\n      <td>test</td>\n      <td>nan</td>\n      <td>nan</td>\n      <td>NaN</td>\n      <td>NaN</td>\n      <td>NaN</td>\n      <td>NaN</td>\n      <td>'36'</td>\n      <td>np.ndarray(shape=torch.Size([3, 224, 224]))</td>\n      <td>&lt;PIL.Image.Image image mode=L size=1024x1024 a...</td>\n      <td>0</td>\n      <td>np.ndarray(shape=(2,))</td>\n      <td>np.ndarray(shape=(2048, 7, 7))</td>\n    </tr>\n    <tr>\n      <th>3</th>\n      <td>1.2.276.0.7230010.3.1.4.8323329.11640.15178752...</td>\n      <td>-1</td>\n      <td>0</td>\n      <td>/media/4tb_hdd/siim/dicom-images-train/1.2.276...</td>\n      <td>0.0</td>\n      <td>test</td>\n      <td>nan</td>\n      <td>nan</td>\n      <td>NaN</td>\n      <td>NaN</td>\n      <td>NaN</td>\n      <td>NaN</td>\n      <td>'47'</td>\n      <td>np.ndarray(shape=torch.Size([3, 224, 224]))</td>\n      <td>&lt;PIL.Image.Image image mode=L size=1024x1024 a...</td>\n      <td>0</td>\n      <td>np.ndarray(shape=(2,))</td>\n      <td>np.ndarray(shape=(2048, 7, 7))</td>\n    </tr>\n    <tr>\n      <th>4</th>\n      <td>1.2.276.0.7230010.3.1.4.8323329.14529.15178752...</td>\n      <td>-1</td>\n      <td>0</td>\n      <td>/media/4tb_hdd/siim/dicom-images-train/1.2.276...</td>\n      <td>0.0</td>\n      <td>test</td>\n      <td>nan</td>\n      <td>nan</td>\n      <td>NaN</td>\n      <td>NaN</td>\n      <td>NaN</td>\n      <td>NaN</td>\n      <td>'66'</td>\n      <td>np.ndarray(shape=torch.Size([3, 224, 224]))</td>\n      <td>&lt;PIL.Image.Image image mode=L size=1024x1024 a...</td>\n      <td>0</td>\n      <td>np.ndarray(shape=(2,))</td>\n      <td>np.ndarray(shape=(2048, 7, 7))</td>\n    </tr>\n  </tbody>\n</table>\n</div>"
     },
     "metadata": {},
     "execution_count": 6
    }
   ],
   "source": [
    "# test mask are points that do not have gaze and have chest tube labels\n",
    "test_mask = np.logical_and(~train_mask, ~np.isnan(dp[\"chest_tube\"]))\n",
    "act_dp[test_mask].head()"
   ]
  },
  {
   "cell_type": "code",
   "execution_count": 7,
   "metadata": {},
   "outputs": [],
   "source": [
    "# act_dp_ = get_cxr_activations.out(run_id=35,load=True)\n",
    "# act_dp_.head()"
   ]
  },
  {
   "cell_type": "code",
   "execution_count": 8,
   "metadata": {},
   "outputs": [],
   "source": [
    "image_feats_train = act_dp[\"activation_block4\"][train_mask].reshape(-1,2048,49).mean(2)\n",
    "tube_labels_train = act_dp[\"chest_tube\"][train_mask]\n",
    "pmx_labels_train = act_dp[\"pmx\"][train_mask]\n",
    "probs_train = act_dp[\"probs\"][train_mask].data[:,1]\n",
    "gaze_feature = act_dp[\"gaze_time\"][train_mask]\n",
    "\n",
    "image_feats_test = act_dp[test_mask][\"activation_block4\"].reshape(-1,2048,49).mean(2)\n",
    "tube_labels_test = act_dp[\"chest_tube\"][test_mask]\n",
    "pmx_labels_test = act_dp[\"pmx\"][test_mask]\n",
    "probs_test = act_dp[\"probs\"][test_mask].data[:,1]"
   ]
  },
  {
   "source": [
    "## train few-shot LR models with gaze features"
   ],
   "cell_type": "markdown",
   "metadata": {}
  },
  {
   "cell_type": "code",
   "execution_count": 9,
   "metadata": {},
   "outputs": [
    {
     "output_type": "stream",
     "name": "stdout",
     "text": [
      "(39, 2048)\n366/1000\n"
     ]
    }
   ],
   "source": [
    "k = 20\n",
    "label_mask = pmx_labels_train == 1\n",
    "label_mask_test = pmx_labels_test > -1\n",
    "\n",
    "\n",
    "thresh1 = np.sort(gaze_feature[label_mask])[-k]\n",
    "thresh2 = np.sort(gaze_feature[label_mask])[k]\n",
    "label_mask_1 = gaze_feature[label_mask] >= thresh1\n",
    "label_mask_0 = gaze_feature[label_mask] < thresh2\n",
    "\n",
    "X_train = np.concatenate((image_feats_train[label_mask][label_mask_1],image_feats_train[label_mask][label_mask_0]))\n",
    "y_train = np.array([1]*label_mask_1.sum() + [0]*label_mask_0.sum())\n",
    "\n",
    "print(X_train.shape)\n",
    "\n",
    "clf = LogisticRegression(random_state=0).fit(X_train, y_train)\n",
    "test_slices = clf.predict(image_feats_test[label_mask_test])\n",
    "print(f\"{test_slices.sum()}/{len(test_slices)}\")\n"
   ]
  },
  {
   "source": [
    "## View performance gaps in test set"
   ],
   "cell_type": "markdown",
   "metadata": {}
  },
  {
   "cell_type": "code",
   "execution_count": 16,
   "metadata": {},
   "outputs": [
    {
     "output_type": "stream",
     "name": "stdout",
     "text": [
      "Overall AUROC: 90.86\nMask1 AUROC: 82.88\nMask2 AUROC: 92.32\n"
     ]
    }
   ],
   "source": [
    "thresh = 0.3 #373 # this threshold achieves 0.55 recall for overall\n",
    "preds_test = (probs_test > thresh)\n",
    "overall_acc = (preds_test[label_mask_test] == pmx_labels_test[label_mask_test]).mean()\n",
    "#print(f\"Overall accuracy for class: {100*overall_acc:.2f}\")\n",
    "print(f\"Overall AUROC: {100*roc_auc_score(pmx_labels_test, probs_test):.2f}\")\n",
    "\n",
    "\n",
    "mask1 = test_slices.astype(bool)\n",
    "acc_0 = (preds_test[label_mask_test][mask1] == pmx_labels_test[label_mask_test][mask1]).mean()\n",
    "#print(f\"Accuracy for class on slice 0: {100*acc_0:.2f}\")\n",
    "print(f\"Mask1 AUROC: {100*roc_auc_score(pmx_labels_test[mask1], probs_test[mask1]):.2f}\")\n",
    "\n",
    "\n",
    "mask2 = (1-test_slices).astype(bool)\n",
    "acc_1 = (preds_test[label_mask_test][mask2] == pmx_labels_test[label_mask_test][mask2]).mean()\n",
    "#print(f\"Accuracy for class on slice 1: {100*acc_1:.2f}\")\n",
    "print(f\"Mask2 AUROC: {100*roc_auc_score(pmx_labels_test[mask2], probs_test[mask2]):.2f}\")\n"
   ]
  },
  {
   "source": [
    "## Quantitative analysis with segmentation masks"
   ],
   "cell_type": "markdown",
   "metadata": {}
  },
  {
   "cell_type": "code",
   "execution_count": 35,
   "metadata": {},
   "outputs": [],
   "source": [
    "rle_1 = act_dp[test_mask][\"encoded_pixels\"][mask1]\n",
    "rle_2 = act_dp[test_mask][\"encoded_pixels\"][mask2]"
   ]
  },
  {
   "cell_type": "code",
   "execution_count": 36,
   "metadata": {},
   "outputs": [],
   "source": [
    "segmasks_1 = np.array([rle2mask(rle,1024,1024) for rle in rle_1 if rle!='-1'])\n",
    "segmasks_2 = np.array([rle2mask(rle,1024,1024) for rle in rle_2 if rle!='-1'])\n"
   ]
  },
  {
   "cell_type": "code",
   "execution_count": 39,
   "metadata": {},
   "outputs": [
    {
     "output_type": "stream",
     "name": "stdout",
     "text": [
      "Average abnormal area for mask1: 0.0098\nAverage abnormal area for mask2: 0.0146\np-value: 0.0115\n"
     ]
    }
   ],
   "source": [
    "abn_size1 = segmasks_1.reshape(-1,1024*1024).mean(1)\n",
    "abn_size2 = segmasks_2.reshape(-1,1024*1024).mean(1)\n",
    "\n",
    "print(f\"Average abnormal area for mask1: {abn_size1.mean():.4f}\")\n",
    "print(f\"Average abnormal area for mask2: {abn_size2.mean():.4f}\")\n",
    "\n",
    "from scipy.stats import ttest_ind\n",
    "\n",
    "print(f\"p-value: {ttest_ind(abn_size1,abn_size2)[1]:.4f}\")\n"
   ]
  },
  {
   "cell_type": "code",
   "execution_count": null,
   "metadata": {},
   "outputs": [],
   "source": []
  }
 ]
}