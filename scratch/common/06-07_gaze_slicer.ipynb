{
 "metadata": {
  "language_info": {
   "codemirror_mode": {
    "name": "ipython",
    "version": 3
   },
   "file_extension": ".py",
   "mimetype": "text/x-python",
   "name": "python",
   "nbconvert_exporter": "python",
   "pygments_lexer": "ipython3",
   "version": "3.8.5"
  },
  "orig_nbformat": 2,
  "kernelspec": {
   "name": "python385jvsc74a57bd0916dbcbb3f70747c44a77c7bcd40155683ae19c65e1c03b4aa3499c5328201f1",
   "display_name": "Python 3.6.9 64-bit"
  }
 },
 "nbformat": 4,
 "nbformat_minor": 2,
 "cells": [
  {
   "cell_type": "code",
   "execution_count": 5,
   "metadata": {},
   "outputs": [],
   "source": [
    "import numpy as np \n",
    "import matplotlib.pyplot as plt\n",
    "import csv \n",
    "import pickle\n",
    "from scipy import stats\n",
    "from sklearn.metrics import roc_auc_score, precision_score, accuracy_score, f1_score, recall_score\n",
    "from sklearn.linear_model import LogisticRegression"
   ]
  },
  {
   "source": [
    "## Extract train/test features from Image-Only model"
   ],
   "cell_type": "markdown",
   "metadata": {}
  },
  {
   "cell_type": "code",
   "execution_count": 3,
   "metadata": {},
   "outputs": [],
   "source": [
    "# image_feats_train = \n",
    "# tube_labels_train = \n",
    "# pmx_labels_train = \n",
    "# probs_train = \n",
    "# time_all = \n",
    "\n",
    "\n",
    "\n",
    "# image_feats_test = \n",
    "# tube_labels_test = \n",
    "# pmx_labels_test = \n",
    "# probs_test = "
   ]
  },
  {
   "source": [
    "## train few-shot LR models with gaze features"
   ],
   "cell_type": "markdown",
   "metadata": {}
  },
  {
   "cell_type": "code",
   "execution_count": 10,
   "metadata": {},
   "outputs": [
    {
     "output_type": "stream",
     "name": "stdout",
     "text": [
      "(40, 2048)\n87/1000\n"
     ]
    }
   ],
   "source": [
    "k = 20\n",
    "gaze_feature = time_all\n",
    "label_mask = pmx_labels_train == 1\n",
    "label_mask_test = pmx_labels_test > -1\n",
    "\n",
    "\n",
    "thresh1 = np.sort(gaze_feature[label_mask])[-k]\n",
    "thresh2 = np.sort(gaze_feature[label_mask])[k]\n",
    "label_mask_1 = gaze_feature[label_mask] >= thresh1\n",
    "label_mask_0 = gaze_feature[label_mask] < thresh2\n",
    "\n",
    "X_train = np.concatenate((image_feats_train[label_mask][label_mask_1],image_feats_train[label_mask][label_mask_0]))\n",
    "y_train = np.array([1]*label_mask_1.sum() + [0]*label_mask_0.sum())\n",
    "\n",
    "print(X_train.shape)\n",
    "\n",
    "clf = LogisticRegression(random_state=0).fit(X_train, y_train)\n",
    "test_slices = clf.predict(image_feats_test[label_mask_test])\n",
    "print(f\"{test_slices.sum()}/{len(test_slices)}\")\n"
   ]
  },
  {
   "source": [
    "## View performance gaps in test set"
   ],
   "cell_type": "markdown",
   "metadata": {}
  },
  {
   "cell_type": "code",
   "execution_count": 13,
   "metadata": {},
   "outputs": [
    {
     "output_type": "stream",
     "name": "stdout",
     "text": [
      "Overall AUROC: 90.86\nMask1 AUROC: 71.22\nMask2 AUROC: 88.42\n"
     ]
    }
   ],
   "source": [
    "thresh = 0.3 #373 # this threshold achieves 0.55 recall for overall\n",
    "preds_test = (probs_test > thresh)\n",
    "overall_acc = (preds_test[label_mask_test] == pmx_labels_test[label_mask_test]).mean()\n",
    "#print(f\"Overall accuracy for class: {100*overall_acc:.2f}\")\n",
    "print(f\"Overall AUROC: {100*roc_auc_score(pmx_labels_test, probs_test):.2f}\")\n",
    "\n",
    "\n",
    "mask = test_slices.astype(bool)\n",
    "acc_0 = (preds_test[label_mask_test][mask] == pmx_labels_test[label_mask_test][mask]).mean()\n",
    "#print(f\"Accuracy for class on slice 0: {100*acc_0:.2f}\")\n",
    "print(f\"Mask1 AUROC: {100*roc_auc_score(pmx_labels_test[mask], probs_test[mask]):.2f}\")\n",
    "\n",
    "\n",
    "mask = (1-test_slices).astype(bool)\n",
    "acc_1 = (preds_test[label_mask_test][mask] == pmx_labels_test[label_mask_test][mask]).mean()\n",
    "#print(f\"Accuracy for class on slice 1: {100*acc_1:.2f}\")\n",
    "print(f\"Mask2 AUROC: {100*roc_auc_score(pmx_labels_test[mask], probs_test[mask]):.2f}\")\n"
   ]
  },
  {
   "cell_type": "code",
   "execution_count": null,
   "metadata": {},
   "outputs": [],
   "source": []
  }
 ]
}