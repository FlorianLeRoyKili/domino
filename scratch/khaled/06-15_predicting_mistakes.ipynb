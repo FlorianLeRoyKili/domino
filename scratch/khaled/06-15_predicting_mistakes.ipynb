{
 "metadata": {
  "language_info": {
   "codemirror_mode": {
    "name": "ipython",
    "version": 3
   },
   "file_extension": ".py",
   "mimetype": "text/x-python",
   "name": "python",
   "nbconvert_exporter": "python",
   "pygments_lexer": "ipython3",
   "version": "3.8.10"
  },
  "orig_nbformat": 2,
  "kernelspec": {
   "name": "python3810jvsc74a57bd0b006b217e8cb0199fc13ea6a087b3b77c18ca9d2bc7dc9a8383728a63838a653",
   "display_name": "Python 3.8.10 64-bit ('domino': conda)"
  }
 },
 "nbformat": 4,
 "nbformat_minor": 2,
 "cells": [
  {
   "cell_type": "code",
   "execution_count": 1,
   "metadata": {},
   "outputs": [],
   "source": [
    "import numpy as np \n",
    "import matplotlib.pyplot as plt\n",
    "import csv \n",
    "import pickle\n",
    "from scipy import stats\n",
    "from sklearn.metrics import roc_auc_score, precision_score, accuracy_score, f1_score, recall_score\n",
    "from sklearn.linear_model import LogisticRegression\n",
    "\n",
    "from domino.data.cxr import get_dp, build_cxr_df, get_cxr_activations, rle2mask\n"
   ]
  },
  {
   "source": [
    "## Extract train/test features from Image-Only model"
   ],
   "cell_type": "markdown",
   "metadata": {}
  },
  {
   "cell_type": "code",
   "execution_count": 2,
   "metadata": {},
   "outputs": [
    {
     "output_type": "execute_result",
     "data": {
      "text/plain": [
       "DataPanel(num_rows: 5)"
      ],
      "text/html": "<div>\n<style scoped>\n    .dataframe tbody tr th:only-of-type {\n        vertical-align: middle;\n    }\n\n    .dataframe tbody tr th {\n        vertical-align: top;\n    }\n\n    .dataframe thead th {\n        text-align: right;\n    }\n</style>\n<table border=\"1\" class=\"dataframe\">\n  <thead>\n    <tr style=\"text-align: right;\">\n      <th></th>\n      <th>image_id (NumpyArrayColumn)</th>\n      <th>encoded_pixels (NumpyArrayColumn)</th>\n      <th>pmx (NumpyArrayColumn)</th>\n      <th>filepath (NumpyArrayColumn)</th>\n      <th>chest_tube (NumpyArrayColumn)</th>\n      <th>split (NumpyArrayColumn)</th>\n      <th>gaze_seq (NumpyArrayColumn)</th>\n      <th>gaze_heatmap (NumpyArrayColumn)</th>\n      <th>gaze_max_visit (NumpyArrayColumn)</th>\n      <th>gaze_unique (NumpyArrayColumn)</th>\n      <th>gaze_time (NumpyArrayColumn)</th>\n      <th>gaze_diffusivity (NumpyArrayColumn)</th>\n      <th>expert_label (NumpyArrayColumn)</th>\n      <th>index (ListColumn)</th>\n      <th>input (CellColumn)</th>\n      <th>img (CellColumn)</th>\n    </tr>\n  </thead>\n  <tbody>\n    <tr>\n      <th>0</th>\n      <td>1.2.276.0.7230010.3.1.4.8323329.6904.151787520...</td>\n      <td>-1</td>\n      <td>0</td>\n      <td>/media/4tb_hdd/siim/dicom-images-train/1.2.276...</td>\n      <td>NaN</td>\n      <td>train</td>\n      <td>nan</td>\n      <td>nan</td>\n      <td>NaN</td>\n      <td>NaN</td>\n      <td>NaN</td>\n      <td>NaN</td>\n      <td>NaN</td>\n      <td>'0'</td>\n      <td>MedicalVolumeCell([PosixPath('/media/4tb_hdd/s...</td>\n      <td>MedicalVolumeCell([PosixPath('/media/4tb_hdd/s...</td>\n    </tr>\n    <tr>\n      <th>1</th>\n      <td>1.2.276.0.7230010.3.1.4.8323329.13666.15178752...</td>\n      <td>557374 2 1015 8 1009 14 1002 20 997 26 990 32 ...</td>\n      <td>1</td>\n      <td>/media/4tb_hdd/siim/dicom-images-train/1.2.276...</td>\n      <td>NaN</td>\n      <td>train</td>\n      <td>nan</td>\n      <td>nan</td>\n      <td>NaN</td>\n      <td>NaN</td>\n      <td>NaN</td>\n      <td>NaN</td>\n      <td>NaN</td>\n      <td>'1'</td>\n      <td>MedicalVolumeCell([PosixPath('/media/4tb_hdd/s...</td>\n      <td>MedicalVolumeCell([PosixPath('/media/4tb_hdd/s...</td>\n    </tr>\n    <tr>\n      <th>2</th>\n      <td>1.2.276.0.7230010.3.1.4.8323329.11028.15178752...</td>\n      <td>-1</td>\n      <td>0</td>\n      <td>/media/4tb_hdd/siim/dicom-images-train/1.2.276...</td>\n      <td>NaN</td>\n      <td>train</td>\n      <td>nan</td>\n      <td>nan</td>\n      <td>NaN</td>\n      <td>NaN</td>\n      <td>NaN</td>\n      <td>NaN</td>\n      <td>NaN</td>\n      <td>'2'</td>\n      <td>MedicalVolumeCell([PosixPath('/media/4tb_hdd/s...</td>\n      <td>MedicalVolumeCell([PosixPath('/media/4tb_hdd/s...</td>\n    </tr>\n    <tr>\n      <th>3</th>\n      <td>1.2.276.0.7230010.3.1.4.8323329.10366.15178752...</td>\n      <td>514175 10 1008 29 994 30 993 32 991 33 990 34 ...</td>\n      <td>1</td>\n      <td>/media/4tb_hdd/siim/dicom-images-train/1.2.276...</td>\n      <td>NaN</td>\n      <td>train</td>\n      <td>nan</td>\n      <td>nan</td>\n      <td>NaN</td>\n      <td>NaN</td>\n      <td>NaN</td>\n      <td>NaN</td>\n      <td>NaN</td>\n      <td>'3'</td>\n      <td>MedicalVolumeCell([PosixPath('/media/4tb_hdd/s...</td>\n      <td>MedicalVolumeCell([PosixPath('/media/4tb_hdd/s...</td>\n    </tr>\n    <tr>\n      <th>4</th>\n      <td>1.2.276.0.7230010.3.1.4.8323329.10016.15178752...</td>\n      <td>592184 33 976 58 956 73 941 88 926 102 917 109...</td>\n      <td>1</td>\n      <td>/media/4tb_hdd/siim/dicom-images-train/1.2.276...</td>\n      <td>NaN</td>\n      <td>train</td>\n      <td>nan</td>\n      <td>nan</td>\n      <td>NaN</td>\n      <td>NaN</td>\n      <td>NaN</td>\n      <td>NaN</td>\n      <td>NaN</td>\n      <td>'4'</td>\n      <td>MedicalVolumeCell([PosixPath('/media/4tb_hdd/s...</td>\n      <td>MedicalVolumeCell([PosixPath('/media/4tb_hdd/s...</td>\n    </tr>\n  </tbody>\n</table>\n</div>"
     },
     "metadata": {},
     "execution_count": 2
    }
   ],
   "source": [
    "# Get a mosaic DataPanel with the data.\n",
    "df = build_cxr_df.out(load=True)\n",
    "dp = get_dp(df)\n",
    "dp.head()"
   ]
  },
  {
   "cell_type": "code",
   "execution_count": 3,
   "metadata": {},
   "outputs": [
    {
     "output_type": "display_data",
     "data": {
      "text/plain": "HBox(children=(FloatProgress(value=0.0, max=95.0), HTML(value='')))",
      "application/vnd.jupyter.widget-view+json": {
       "version_major": 2,
       "version_minor": 0,
       "model_id": "f24202a28453442aa55ed3d03daf8951"
      }
     },
     "metadata": {}
    },
    {
     "output_type": "stream",
     "name": "stdout",
     "text": [
      "\n"
     ]
    }
   ],
   "source": [
    "model_pth = \"/media/nvme_data/observational_results_10_2020/original/cxr/emmental_cam/cam_0/seed_0/best_model_target_cxr_val_accuracy.pth\"\n",
    "\n",
    "act_dp = get_cxr_activations(dp=dp, model_path=model_pth)\n"
   ]
  },
  {
   "cell_type": "code",
   "execution_count": 4,
   "metadata": {},
   "outputs": [
    {
     "output_type": "execute_result",
     "data": {
      "text/plain": [
       "DataPanel(num_rows: 5)"
      ],
      "text/html": "<div>\n<style scoped>\n    .dataframe tbody tr th:only-of-type {\n        vertical-align: middle;\n    }\n\n    .dataframe tbody tr th {\n        vertical-align: top;\n    }\n\n    .dataframe thead th {\n        text-align: right;\n    }\n</style>\n<table border=\"1\" class=\"dataframe\">\n  <thead>\n    <tr style=\"text-align: right;\">\n      <th></th>\n      <th>image_id (NumpyArrayColumn)</th>\n      <th>encoded_pixels (NumpyArrayColumn)</th>\n      <th>pmx (NumpyArrayColumn)</th>\n      <th>filepath (NumpyArrayColumn)</th>\n      <th>chest_tube (NumpyArrayColumn)</th>\n      <th>split (NumpyArrayColumn)</th>\n      <th>gaze_seq (NumpyArrayColumn)</th>\n      <th>gaze_heatmap (NumpyArrayColumn)</th>\n      <th>gaze_max_visit (NumpyArrayColumn)</th>\n      <th>gaze_unique (NumpyArrayColumn)</th>\n      <th>gaze_time (NumpyArrayColumn)</th>\n      <th>gaze_diffusivity (NumpyArrayColumn)</th>\n      <th>expert_label (NumpyArrayColumn)</th>\n      <th>index (ListColumn)</th>\n      <th>input (TensorColumn)</th>\n      <th>img (ListColumn)</th>\n      <th>pred (NumpyArrayColumn)</th>\n      <th>probs (NumpyArrayColumn)</th>\n      <th>activation_block4 (NumpyArrayColumn)</th>\n    </tr>\n  </thead>\n  <tbody>\n    <tr>\n      <th>0</th>\n      <td>1.2.276.0.7230010.3.1.4.8323329.1857.151787516...</td>\n      <td>378999 2 1018 8 1013 13 1009 15 1007 17 1006 1...</td>\n      <td>1</td>\n      <td>/media/4tb_hdd/siim/dicom-images-train/1.2.276...</td>\n      <td>1.0</td>\n      <td>train</td>\n      <td>[(0.3002531741212215, 0.9348943074817682, 2), ...</td>\n      <td>[[ 0.  0.  0. 14.  2.  2.  1.  0.]\\n [ 0.  0. ...</td>\n      <td>14.0</td>\n      <td>12.0</td>\n      <td>33.0</td>\n      <td>0.545455</td>\n      <td>1.0</td>\n      <td>'29'</td>\n      <td>np.ndarray(shape=torch.Size([3, 224, 224]))</td>\n      <td>&lt;PIL.Image.Image image mode=L size=1024x1024 a...</td>\n      <td>0</td>\n      <td>np.ndarray(shape=(2,))</td>\n      <td>np.ndarray(shape=(2048, 7, 7))</td>\n    </tr>\n    <tr>\n      <th>1</th>\n      <td>1.2.276.0.7230010.3.1.4.8323329.1219.151787516...</td>\n      <td>-1</td>\n      <td>0</td>\n      <td>/media/4tb_hdd/siim/dicom-images-train/1.2.276...</td>\n      <td>1.0</td>\n      <td>train</td>\n      <td>[(0.3135288701615107, 0.5596042556980056, 2), ...</td>\n      <td>[[0. 0. 0. 1. 3. 0. 0. 0.]\\n [0. 0. 0. 3. 3. 2...</td>\n      <td>7.0</td>\n      <td>19.0</td>\n      <td>46.0</td>\n      <td>0.369565</td>\n      <td>1.0</td>\n      <td>'39'</td>\n      <td>np.ndarray(shape=torch.Size([3, 224, 224]))</td>\n      <td>&lt;PIL.Image.Image image mode=L size=1024x1024 a...</td>\n      <td>0</td>\n      <td>np.ndarray(shape=(2,))</td>\n      <td>np.ndarray(shape=(2048, 7, 7))</td>\n    </tr>\n    <tr>\n      <th>2</th>\n      <td>1.2.276.0.7230010.3.1.4.8323329.2118.151787517...</td>\n      <td>591104 8 1011 18 1001 26 993 32 988 36 986 37 ...</td>\n      <td>1</td>\n      <td>/media/4tb_hdd/siim/dicom-images-train/1.2.276...</td>\n      <td>1.0</td>\n      <td>train</td>\n      <td>[(0.1227472372112641, 0.5808183519907184, 3), ...</td>\n      <td>[[ 0.  0.  0.  0.  4.  1.  0.  1.]\\n [ 0.  0. ...</td>\n      <td>10.0</td>\n      <td>23.0</td>\n      <td>81.0</td>\n      <td>0.395062</td>\n      <td>1.0</td>\n      <td>'43'</td>\n      <td>np.ndarray(shape=torch.Size([3, 224, 224]))</td>\n      <td>&lt;PIL.Image.Image image mode=L size=1024x1024 a...</td>\n      <td>0</td>\n      <td>np.ndarray(shape=(2,))</td>\n      <td>np.ndarray(shape=(2048, 7, 7))</td>\n    </tr>\n    <tr>\n      <th>3</th>\n      <td>1.2.276.0.7230010.3.1.4.8323329.2027.151787517...</td>\n      <td>500845 25 992 38 983 41 980 44 978 46 975 49 9...</td>\n      <td>1</td>\n      <td>/media/4tb_hdd/siim/dicom-images-train/1.2.276...</td>\n      <td>0.0</td>\n      <td>train</td>\n      <td>[(0.3294461311053661, 0.5748967530438639, 4), ...</td>\n      <td>[[ 0.  0.  4.  1. 10.  8.  0.  0.]\\n [ 0.  0. ...</td>\n      <td>11.0</td>\n      <td>21.0</td>\n      <td>78.0</td>\n      <td>0.641026</td>\n      <td>1.0</td>\n      <td>'50'</td>\n      <td>np.ndarray(shape=torch.Size([3, 224, 224]))</td>\n      <td>&lt;PIL.Image.Image image mode=L size=1024x1024 a...</td>\n      <td>0</td>\n      <td>np.ndarray(shape=(2,))</td>\n      <td>np.ndarray(shape=(2048, 7, 7))</td>\n    </tr>\n    <tr>\n      <th>4</th>\n      <td>1.2.276.0.7230010.3.1.4.8323329.1972.151787517...</td>\n      <td>-1</td>\n      <td>0</td>\n      <td>/media/4tb_hdd/siim/dicom-images-train/1.2.276...</td>\n      <td>0.0</td>\n      <td>train</td>\n      <td>[(0.25439717874245193, 0.6421419414319375, 2),...</td>\n      <td>[[ 0.  0.  5.  0.  0.  2.  0.  0.]\\n [ 0.  1. ...</td>\n      <td>10.0</td>\n      <td>22.0</td>\n      <td>75.0</td>\n      <td>0.266667</td>\n      <td>0.0</td>\n      <td>'53'</td>\n      <td>np.ndarray(shape=torch.Size([3, 224, 224]))</td>\n      <td>&lt;PIL.Image.Image image mode=L size=1024x1024 a...</td>\n      <td>0</td>\n      <td>np.ndarray(shape=(2,))</td>\n      <td>np.ndarray(shape=(2048, 7, 7))</td>\n    </tr>\n  </tbody>\n</table>\n</div>"
     },
     "metadata": {},
     "execution_count": 4
    }
   ],
   "source": [
    "# train_val mask are points that have gaze\n",
    "train_val_mask = dp[\"gaze_seq\"].data != \"nan\"\n",
    "act_dp[train_val_mask].head()"
   ]
  },
  {
   "cell_type": "code",
   "execution_count": 5,
   "metadata": {},
   "outputs": [],
   "source": [
    "# act_dp_ = get_cxr_activations.out(run_id=35,load=True)\n",
    "# act_dp_.head()"
   ]
  },
  {
   "source": [
    "## Train LR model to predict mistakes from gaze feats"
   ],
   "cell_type": "markdown",
   "metadata": {}
  },
  {
   "cell_type": "code",
   "execution_count": 109,
   "metadata": {},
   "outputs": [],
   "source": [
    "def gaze_mistake_predictor(act_dp,pmx_labels_trainval,val_scale,seed,gaze_key=\"gaze_time\",verbose=False):\n",
    "    sss = StratifiedShuffleSplit(\n",
    "        n_splits=1, test_size=val_scale, random_state=seed\n",
    "    )\n",
    "\n",
    "    for train_ndx, val_ndx in sss.split(np.zeros(len(pmx_labels_trainval)), pmx_labels_trainval):\n",
    "        train_ndxs = train_ndx\n",
    "        val_ndxs = val_ndx\n",
    "\n",
    "\n",
    "    image_feats_train = act_dp[\"activation_block4\"][train_ndxs].reshape(-1,2048,49).mean(2)\n",
    "    pmx_labels_train = act_dp[\"pmx\"][train_val_mask][train_ndxs]\n",
    "    expert_labels_train = act_dp[\"expert_label\"][train_val_mask][train_ndxs]\n",
    "    incorrect_labels_train = expert_labels_train != pmx_labels_train\n",
    "    if gaze_key == \"combined\":\n",
    "        gaze_feature_train = np.stack((\n",
    "            act_dp[\"gaze_time\"][train_val_mask][train_ndxs],\n",
    "            act_dp[\"gaze_max_visit\"][train_val_mask][train_ndxs],\n",
    "            act_dp[\"gaze_unique\"][train_val_mask][train_ndxs],\n",
    "            act_dp[\"gaze_diffusivity\"][train_val_mask][train_ndxs],\n",
    "            )).T\n",
    "    else:\n",
    "        gaze_feature_train = act_dp[gaze_key][train_val_mask][train_ndxs].reshape(-1,1)\n",
    "\n",
    "    X_train = gaze_feature_train #np.concatenate((gaze_feature_train,image_feats_train),axis=1)\n",
    "\n",
    "    image_feats_val = act_dp[\"activation_block4\"][val_ndxs].reshape(-1,2048,49).mean(2)\n",
    "    pmx_labels_val = act_dp[\"pmx\"][train_val_mask][val_ndxs]\n",
    "    expert_labels_val = act_dp[\"expert_label\"][train_val_mask][val_ndxs]\n",
    "    incorrect_labels_val = expert_labels_val != pmx_labels_val\n",
    "    if gaze_key == \"combined\":\n",
    "        gaze_feature_val = np.stack((\n",
    "            act_dp[\"gaze_time\"][train_val_mask][val_ndxs],\n",
    "            act_dp[\"gaze_max_visit\"][train_val_mask][val_ndxs],\n",
    "            act_dp[\"gaze_unique\"][train_val_mask][val_ndxs],\n",
    "            act_dp[\"gaze_diffusivity\"][train_val_mask][val_ndxs],\n",
    "            )).T\n",
    "    else:\n",
    "        gaze_feature_val = act_dp[gaze_key][train_val_mask][val_ndxs].reshape(-1,1)\n",
    "\n",
    "    X_val = gaze_feature_val #np.concatenate((gaze_feature_val,image_feats_val),axis=1)\n",
    "    \n",
    "\n",
    "    clf = LogisticRegression(random_state=seed).fit(X_train, incorrect_labels_train)\n",
    "    val_probs = clf.predict_proba(X_val)\n",
    "    auroc = roc_auc_score(incorrect_labels_val,val_probs[:,1])\n",
    "\n",
    "    if verbose:\n",
    "        print(f\"Num. of incorrect points in train: {incorrect_labels_train.sum()}/{len(incorrect_labels_train)}\")\n",
    "        print(f\"Num. of incorrect points in val: {incorrect_labels_val.sum()}/{len(incorrect_labels_val)}\")\n",
    "        print(f\"AUROC: {auroc:.3f}\")\n",
    "\n",
    "    return auroc\n",
    "\n"
   ]
  },
  {
   "cell_type": "code",
   "execution_count": 111,
   "metadata": {},
   "outputs": [
    {
     "output_type": "stream",
     "name": "stdout",
     "text": [
      "gaze_time:\t\tAUROC 0.765 +- 0.0385\n",
      "gaze_max_visit:\t\tAUROC 0.752 +- 0.0386\n",
      "gaze_unique:\t\tAUROC 0.682 +- 0.0394\n",
      "gaze_diffusivity:\t\tAUROC 0.565 +- 0.0507\n",
      "combined:\t\tAUROC 0.762 +- 0.0384\n"
     ]
    }
   ],
   "source": [
    "# stratify shuffle split the train_val mask to train and val\n",
    "from sklearn.model_selection import StratifiedShuffleSplit\n",
    "\n",
    "val_scale = 0.3\n",
    "\n",
    "pmx_labels_trainval = act_dp[\"pmx\"][train_val_mask]\n",
    "\n",
    "gaze_keys = [\"gaze_time\",\"gaze_max_visit\",\"gaze_unique\",\"gaze_diffusivity\",\"combined\"]\n",
    "#gaze_keys = [\"combined\"]\n",
    "\n",
    "for gaze_key in gaze_keys:\n",
    "    auc_list = []\n",
    "    for seed in range(100):\n",
    "        auc = gaze_mistake_predictor(act_dp,pmx_labels_trainval,val_scale,seed,gaze_key=gaze_key)\n",
    "        auc_list.append(auc)\n",
    "    auc_list = np.array(auc_list)\n",
    "\n",
    "    print(f\"{gaze_key}:\\t\\tAUROC {auc_list.mean():.3f} +- {auc_list.std():.4f}\")\n"
   ]
  },
  {
   "cell_type": "code",
   "execution_count": null,
   "metadata": {},
   "outputs": [],
   "source": []
  }
 ]
}