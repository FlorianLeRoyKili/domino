{
 "cells": [
  {
   "cell_type": "code",
   "execution_count": null,
   "source": [
    "%load_ext autoreload\n",
    "%autoreload 2"
   ],
   "outputs": [],
   "metadata": {}
  },
  {
   "cell_type": "code",
   "execution_count": null,
   "source": [
    "import numpy as np\n",
    "import pdb\n",
    "\n",
    "import meerkat as mk\n",
    "from meerkat.contrib.eeg import build_stanford_eeg_dp\n",
    "from domino.utils import split_dp, balance_dp\n",
    "\n",
    "from sklearn.metrics import precision_score, recall_score, roc_auc_score\n"
   ],
   "outputs": [],
   "metadata": {}
  },
  {
   "cell_type": "markdown",
   "source": [
    "## Load EEG datapanel"
   ],
   "metadata": {}
  },
  {
   "cell_type": "code",
   "execution_count": null,
   "source": [
    "dp_art = build_stanford_eeg_dp.out(run_id=618) # with text constraint: 409\n",
    "dp=dp_art.load()\n",
    "dp.lz[0]"
   ],
   "outputs": [],
   "metadata": {}
  },
  {
   "cell_type": "code",
   "execution_count": null,
   "source": [
    "len(dp)"
   ],
   "outputs": [],
   "metadata": {}
  },
  {
   "cell_type": "code",
   "execution_count": null,
   "source": [
    "balanced_dp_art = balance_dp.out(623) # with text constraint: 622\n",
    "balanced_dp = balanced_dp_art.load()"
   ],
   "outputs": [],
   "metadata": {}
  },
  {
   "cell_type": "code",
   "execution_count": null,
   "source": [
    "len(balanced_dp)"
   ],
   "outputs": [],
   "metadata": {}
  },
  {
   "cell_type": "markdown",
   "source": [
    "## split data"
   ],
   "metadata": {}
  },
  {
   "cell_type": "code",
   "execution_count": null,
   "source": [
    "dp_splits_art = split_dp.out(625) #split_dp(balanced_dp_art, split_on=\"file_id\")\n",
    "dp_splits = dp_splits_art.load()\n",
    "print(len(dp_splits))\n",
    "dp_splits.head()"
   ],
   "outputs": [],
   "metadata": {}
  },
  {
   "cell_type": "code",
   "execution_count": null,
   "source": [
    "thresh = 1\n",
    "age_labels = balanced_dp[\"age\"] > thresh\n",
    "sz_labels = balanced_dp[\"target\"]\n",
    "np.corrcoef([age_labels,sz_labels])[1,0]"
   ],
   "outputs": [],
   "metadata": {}
  },
  {
   "cell_type": "markdown",
   "source": [
    "## Slice dp based on metadata"
   ],
   "metadata": {}
  },
  {
   "cell_type": "code",
   "execution_count": null,
   "source": [
    "from domino.slices.eeg import EegSliceBuilder\n",
    "\n",
    "dp_age = EegSliceBuilder().build_correlation_slices(balanced_dp, correlate=\"age\", corr=0.5, n=8000, correlate_threshold=thresh)"
   ],
   "outputs": [],
   "metadata": {}
  },
  {
   "cell_type": "code",
   "execution_count": null,
   "source": [
    "len(dp_age)"
   ],
   "outputs": [],
   "metadata": {}
  },
  {
   "cell_type": "code",
   "execution_count": null,
   "source": [
    "age_labels = dp_age[\"age\"] > thresh\n",
    "sz_labels = dp_age[\"target\"]\n",
    "np.corrcoef([age_labels,sz_labels])[0,1]"
   ],
   "outputs": [],
   "metadata": {}
  },
  {
   "cell_type": "markdown",
   "source": [
    "## Get multiple slices"
   ],
   "metadata": {}
  },
  {
   "cell_type": "code",
   "execution_count": null,
   "source": [
    "from domino.slices.eeg import collect_correlation_slices\n",
    "\n",
    "# correlate_list = [\"age\"]\n",
    "# corr_list = [0, 0.3, 0.5, 0.9]\n",
    "# correlate_thresholds = [10]\n",
    "# dp_slices_art = collect_correlation_slices(correlate_list, corr_list, correlate_thresholds)\n",
    "dp_slices_art = collect_correlation_slices.out(516)\n",
    "dp_slices = dp_slices_art.load()\n",
    "dp_slices.head()"
   ],
   "outputs": [],
   "metadata": {}
  },
  {
   "cell_type": "code",
   "execution_count": null,
   "source": [
    "from domino.train import score_slices, train_slices, train_model"
   ],
   "outputs": [],
   "metadata": {}
  },
  {
   "cell_type": "code",
   "execution_count": null,
   "source": [
    "import matplotlib.pyplot as plt\n",
    "\n",
    "metric = \"auroc\"\n",
    "\n",
    "scores_dp = score_slices.out(652).load() # on valid: 627, on test: 595\n",
    "plt.plot(scores_dp[\"corr\"].data, scores_dp[f\"in_slice_0_{metric}\"].data, color=\"green\")\n",
    "#plt.scatter(scores_dp[\"corr\"].data, scores_dp[f\"in_slice_0_{metric}_mean\"].data, color=\"green\")\n",
    "#plt.fill_between(scores_dp[\"corr\"].data, scores_dp[f\"in_slice_0_{metric}_lower\"].data, scores_dp[f\"in_slice_0_{metric}_upper\"].data, alpha=0.3, color=\"green\")\n",
    "\n",
    "plt.plot(scores_dp[\"corr\"].data, scores_dp[f\"out_slice_{metric}\"].data, color=\"red\")\n",
    "#plt.scatter(scores_dp[\"corr\"].data, scores_dp[f\"out_slice_{metric}_mean\"].data, color=\"red\")\n",
    "#plt.fill_between(scores_dp[\"corr\"].data, scores_dp[f\"out_slice_{metric}_lower\"].data, scores_dp[f\"out_slice_{metric}_upper\"].data, alpha=0.3, color=\"red\")\n",
    "\n",
    "plt.plot(scores_dp[\"corr\"].data, scores_dp[f\"overall_{metric}\"].data, color=\"blue\")\n",
    "#lt.scatter(scores_dp[\"corr\"].data, scores_dp[f\"overall_{metric}_mean\"].data, color=\"blue\")\n",
    "#plt.fill_between(scores_dp[\"corr\"].data, scores_dp[f\"overall_{metric}_lower\"].data, scores_dp[f\"overall_{metric}_upper\"].data, alpha=0.3, color=\"blue\")\n",
    "\n",
    "\n",
    "\n",
    "plt.legend([\"C = Y\", \"C != Y\",\"overall\"])\n",
    "plt.ylabel(f\"mean {metric}\")\n",
    "plt.xlabel(\"correlation strength\")\n",
    "plt.title(\"EEG seizure prediction, age slicing\")\n",
    "plt.show()"
   ],
   "outputs": [],
   "metadata": {}
  },
  {
   "cell_type": "code",
   "execution_count": null,
   "source": [],
   "outputs": [],
   "metadata": {}
  },
  {
   "cell_type": "code",
   "execution_count": null,
   "source": [
    "scores_dp[f\"in_slice_0_{metric}\"].data"
   ],
   "outputs": [],
   "metadata": {}
  },
  {
   "cell_type": "code",
   "execution_count": null,
   "source": [
    "scores_dp[f\"out_slice_{metric}\"].data"
   ],
   "outputs": [],
   "metadata": {}
  },
  {
   "cell_type": "code",
   "execution_count": null,
   "source": [
    "scores_dp[f\"overall_{metric}\"].data"
   ],
   "outputs": [],
   "metadata": {}
  },
  {
   "cell_type": "code",
   "execution_count": null,
   "source": [],
   "outputs": [],
   "metadata": {}
  },
  {
   "cell_type": "code",
   "execution_count": null,
   "source": [
    "dp_ = train_model.inp(578)[\"dp\"].load()\n",
    "mask = np.logical_and((dp_[\"slices\"].data[:,0]==1),dp_.lz[\"split\"]==\"valid\")\n",
    "\n",
    "dp_[\"target\",\"binarized_age\"].lz[mask][-10:]\n",
    "dp_[\"target\"].lz[mask].sum()"
   ],
   "outputs": [],
   "metadata": {}
  },
  {
   "cell_type": "code",
   "execution_count": null,
   "source": [
    "mask.sum()"
   ],
   "outputs": [],
   "metadata": {}
  },
  {
   "cell_type": "code",
   "execution_count": null,
   "source": [],
   "outputs": [],
   "metadata": {}
  }
 ],
 "metadata": {
  "orig_nbformat": 4,
  "language_info": {
   "name": "python",
   "version": "3.8.10",
   "mimetype": "text/x-python",
   "codemirror_mode": {
    "name": "ipython",
    "version": 3
   },
   "pygments_lexer": "ipython3",
   "nbconvert_exporter": "python",
   "file_extension": ".py"
  },
  "kernelspec": {
   "name": "python3",
   "display_name": "Python 3.8.10 64-bit ('domino': conda)"
  },
  "interpreter": {
   "hash": "b006b217e8cb0199fc13ea6a087b3b77c18ca9d2bc7dc9a8383728a63838a653"
  }
 },
 "nbformat": 4,
 "nbformat_minor": 2
}