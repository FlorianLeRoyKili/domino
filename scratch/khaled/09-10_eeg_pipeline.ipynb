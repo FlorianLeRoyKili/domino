{
 "cells": [
  {
   "cell_type": "code",
   "execution_count": 1,
   "source": [
    "import numpy as np\n",
    "import pdb\n",
    "\n",
    "import meerkat as mk\n",
    "from meerkat.contrib.eeg import build_stanford_eeg_dp\n",
    "from domino.utils import split_dp"
   ],
   "outputs": [],
   "metadata": {}
  },
  {
   "cell_type": "markdown",
   "source": [
    "## Load EEG datapanel"
   ],
   "metadata": {}
  },
  {
   "cell_type": "code",
   "execution_count": 2,
   "source": [
    "dp_art = build_stanford_eeg_dp.out(run_id=409)\n",
    "dp=dp_art.load()\n",
    "dp.lz[0]"
   ],
   "outputs": [
    {
     "output_type": "execute_result",
     "data": {
      "text/plain": [
       "{'file_id': 'DA0551U5_1-1+',\n",
       " 'filepath': '/media/4tb_hdd/eeg_data/lpch/lpch/DA0551U5_1-1+.eeghdf',\n",
       " 'fm_split': 'train',\n",
       " 'id': 'DA0551U5_1-1+_-1.0',\n",
       " 'sz_start_index': -1.0,\n",
       " 'target': False,\n",
       " 'index': '1869',\n",
       " 'input': LambdaCell(fn=functools.partial(<function stanford_eeg_loader at 0x7f0da6f01280>, clip_len=60)),\n",
       " 'findings': \"Baseline EEG  There is a persistent suppression-burst pattern with typical 20-60s interburst itnervals and 2-10s burst periods.    Between 04:41 and 06:19:57 on 7/30/14 push buttons events occur coinciding exactly with the patient's bursts. On video small should movements can sometimes be seen involving the patient's shoulders. The nurses appear to describe small shoulder shrugs. There are no log entries. These are likely small myoclonic jerks vs stereotyped motor patterns triggered by bursts.    Interpreting Attending: Christopher William Lee-Messer, MD, PhD 23:03 7/29/2014\",\n",
       " 'patient_id': '42132928',\n",
       " 'age': 2.0454249746321667,\n",
       " 'duration': 810.9999999999999}"
      ]
     },
     "metadata": {},
     "execution_count": 2
    }
   ],
   "metadata": {}
  },
  {
   "cell_type": "code",
   "execution_count": 3,
   "source": [
    "len(dp)"
   ],
   "outputs": [
    {
     "output_type": "execute_result",
     "data": {
      "text/plain": [
       "6254"
      ]
     },
     "metadata": {},
     "execution_count": 3
    }
   ],
   "metadata": {}
  },
  {
   "cell_type": "code",
   "execution_count": 4,
   "source": [
    "len(dp.lz[~dp[\"id\"].duplicated()])"
   ],
   "outputs": [
    {
     "output_type": "execute_result",
     "data": {
      "text/plain": [
       "6254"
      ]
     },
     "metadata": {},
     "execution_count": 4
    }
   ],
   "metadata": {}
  },
  {
   "cell_type": "markdown",
   "source": [
    "## split data"
   ],
   "metadata": {}
  },
  {
   "cell_type": "code",
   "execution_count": 17,
   "source": [
    "dp_splits_art = split_dp.out(412) #split_dp(dp_art, split_on=\"patient_id\")\n",
    "dp_splits = dp_splits_art.load()\n",
    "print(len(dp_splits))\n",
    "dp_splits.head()"
   ],
   "outputs": [
    {
     "output_type": "stream",
     "name": "stdout",
     "text": [
      "6254\n"
     ]
    },
    {
     "output_type": "execute_result",
     "data": {
      "text/html": [
       "<table border=\"1\" class=\"dataframe\">\n",
       "  <thead>\n",
       "    <tr style=\"text-align: right;\">\n",
       "      <th></th>\n",
       "      <th>patient_id (PandasSeriesColumn)</th>\n",
       "      <th>split (PandasSeriesColumn)</th>\n",
       "      <th>id (PandasSeriesColumn)</th>\n",
       "      <th>index (PandasSeriesColumn)</th>\n",
       "    </tr>\n",
       "  </thead>\n",
       "  <tbody>\n",
       "    <tr>\n",
       "      <th>0</th>\n",
       "      <td>42132928</td>\n",
       "      <td>train</td>\n",
       "      <td>DA0551U5_1-1+_-1.0</td>\n",
       "      <td>0</td>\n",
       "    </tr>\n",
       "    <tr>\n",
       "      <th>1</th>\n",
       "      <td>46946752</td>\n",
       "      <td>train</td>\n",
       "      <td>FA2730SI_1-1+_-1.0</td>\n",
       "      <td>1</td>\n",
       "    </tr>\n",
       "    <tr>\n",
       "      <th>2</th>\n",
       "      <td>43007731</td>\n",
       "      <td>train</td>\n",
       "      <td>CA0555NE_1-1+_-1.0</td>\n",
       "      <td>2</td>\n",
       "    </tr>\n",
       "    <tr>\n",
       "      <th>3</th>\n",
       "      <td>45527801</td>\n",
       "      <td>train</td>\n",
       "      <td>DA0551YY_1-1+_-1.0</td>\n",
       "      <td>3</td>\n",
       "    </tr>\n",
       "    <tr>\n",
       "      <th>4</th>\n",
       "      <td>45971843</td>\n",
       "      <td>train</td>\n",
       "      <td>FA046044_1-1+_-1.0</td>\n",
       "      <td>4</td>\n",
       "    </tr>\n",
       "  </tbody>\n",
       "</table>"
      ],
      "text/plain": [
       "DataPanel(nrows: 5, ncols: 4)"
      ]
     },
     "metadata": {},
     "execution_count": 17
    }
   ],
   "metadata": {}
  },
  {
   "cell_type": "code",
   "execution_count": 6,
   "source": [
    "dp_splits['id'].nunique()"
   ],
   "outputs": [
    {
     "output_type": "execute_result",
     "data": {
      "text/plain": [
       "6254"
      ]
     },
     "metadata": {},
     "execution_count": 6
    }
   ],
   "metadata": {}
  },
  {
   "cell_type": "code",
   "execution_count": 7,
   "source": [
    "age_labels = dp[\"age\"] > 10\n",
    "sz_labels = dp[\"target\"]\n",
    "np.corrcoef([age_labels,sz_labels])[1,0]"
   ],
   "outputs": [
    {
     "output_type": "execute_result",
     "data": {
      "text/plain": [
       "-0.014004347407745615"
      ]
     },
     "metadata": {},
     "execution_count": 7
    }
   ],
   "metadata": {}
  },
  {
   "cell_type": "markdown",
   "source": [
    "## Slice dp based on metadata"
   ],
   "metadata": {}
  },
  {
   "cell_type": "code",
   "execution_count": 8,
   "source": [
    "from domino.slices.eeg import build_slice\n",
    "\n",
    "#dp_train = dp.lz[dp[\"split\"]==\"train\"]\n",
    "dp_age_art = build_slice(\"correlation\", dp_art, dp_splits_art, correlate=\"age\", corr=0.5, n=2500, correlate_threshold=10)\n",
    "dp_age = dp_age_art.load()"
   ],
   "outputs": [
    {
     "output_type": "stream",
     "name": "stdout",
     "text": [
      "task: build_slice, run_id=413\n"
     ]
    }
   ],
   "metadata": {}
  },
  {
   "cell_type": "code",
   "execution_count": 9,
   "source": [
    "len(dp_age)"
   ],
   "outputs": [
    {
     "output_type": "execute_result",
     "data": {
      "text/plain": [
       "2498"
      ]
     },
     "metadata": {},
     "execution_count": 9
    }
   ],
   "metadata": {}
  },
  {
   "cell_type": "code",
   "execution_count": 10,
   "source": [
    "age_labels = dp_age[\"age\"] > 10\n",
    "sz_labels = dp_age[\"target\"]\n",
    "np.corrcoef([age_labels,sz_labels])[0,1]"
   ],
   "outputs": [
    {
     "output_type": "execute_result",
     "data": {
      "text/plain": [
       "0.4993963743737434"
      ]
     },
     "metadata": {},
     "execution_count": 10
    }
   ],
   "metadata": {}
  },
  {
   "cell_type": "code",
   "execution_count": 14,
   "source": [
    "(dp_age[\"split\"]==\"valid\").sum()"
   ],
   "outputs": [
    {
     "output_type": "execute_result",
     "data": {
      "text/plain": [
       "294"
      ]
     },
     "metadata": {},
     "execution_count": 14
    }
   ],
   "metadata": {}
  },
  {
   "cell_type": "markdown",
   "source": [
    "## Get multiple slices"
   ],
   "metadata": {}
  },
  {
   "cell_type": "code",
   "execution_count": 18,
   "source": [
    "from domino.slices.eeg import collect_correlation_slices\n",
    "\n",
    "# correlate_list = [\"age\"]\n",
    "# corr_list = [0, 0.3, 0.5, 0.9]\n",
    "# correlate_thresholds = [10]\n",
    "# dp_slices_art = collect_correlation_slices(dp_splits_art, correlate_list, corr_list, correlate_thresholds)\n",
    "dp_slices_art = collect_correlation_slices.out(414)\n",
    "dp_slices = dp_slices_art.load()\n",
    "dp_slices.head()"
   ],
   "outputs": [
    {
     "output_type": "execute_result",
     "data": {
      "text/html": [
       "<table border=\"1\" class=\"dataframe\">\n",
       "  <thead>\n",
       "    <tr style=\"text-align: right;\">\n",
       "      <th></th>\n",
       "      <th>corr (NumpyArrayColumn)</th>\n",
       "      <th>correlate (PandasSeriesColumn)</th>\n",
       "      <th>correlation_threshold (NumpyArrayColumn)</th>\n",
       "      <th>dp (ListColumn)</th>\n",
       "      <th>n (NumpyArrayColumn)</th>\n",
       "      <th>slice_category (PandasSeriesColumn)</th>\n",
       "      <th>index (PandasSeriesColumn)</th>\n",
       "    </tr>\n",
       "  </thead>\n",
       "  <tbody>\n",
       "    <tr>\n",
       "      <th>0</th>\n",
       "      <td>0.0</td>\n",
       "      <td>age</td>\n",
       "      <td>10</td>\n",
       "      <td>DataPanel(nrows: 6254, ncols: 4)</td>\n",
       "      <td>2500</td>\n",
       "      <td>correlation</td>\n",
       "      <td>0</td>\n",
       "    </tr>\n",
       "    <tr>\n",
       "      <th>1</th>\n",
       "      <td>0.3</td>\n",
       "      <td>age</td>\n",
       "      <td>10</td>\n",
       "      <td>DataPanel(nrows: 6254, ncols: 4)</td>\n",
       "      <td>2500</td>\n",
       "      <td>correlation</td>\n",
       "      <td>1</td>\n",
       "    </tr>\n",
       "    <tr>\n",
       "      <th>2</th>\n",
       "      <td>0.5</td>\n",
       "      <td>age</td>\n",
       "      <td>10</td>\n",
       "      <td>DataPanel(nrows: 6254, ncols: 4)</td>\n",
       "      <td>2500</td>\n",
       "      <td>correlation</td>\n",
       "      <td>2</td>\n",
       "    </tr>\n",
       "    <tr>\n",
       "      <th>3</th>\n",
       "      <td>0.9</td>\n",
       "      <td>age</td>\n",
       "      <td>10</td>\n",
       "      <td>DataPanel(nrows: 6254, ncols: 4)</td>\n",
       "      <td>2500</td>\n",
       "      <td>correlation</td>\n",
       "      <td>3</td>\n",
       "    </tr>\n",
       "  </tbody>\n",
       "</table>"
      ],
      "text/plain": [
       "DataPanel(nrows: 4, ncols: 7)"
      ]
     },
     "metadata": {},
     "execution_count": 18
    }
   ],
   "metadata": {}
  },
  {
   "cell_type": "code",
   "execution_count": null,
   "source": [],
   "outputs": [],
   "metadata": {}
  }
 ],
 "metadata": {
  "orig_nbformat": 4,
  "language_info": {
   "name": "python",
   "version": "3.8.10",
   "mimetype": "text/x-python",
   "codemirror_mode": {
    "name": "ipython",
    "version": 3
   },
   "pygments_lexer": "ipython3",
   "nbconvert_exporter": "python",
   "file_extension": ".py"
  },
  "kernelspec": {
   "name": "python3",
   "display_name": "Python 3.8.10 64-bit ('domino': conda)"
  },
  "interpreter": {
   "hash": "b006b217e8cb0199fc13ea6a087b3b77c18ca9d2bc7dc9a8383728a63838a653"
  }
 },
 "nbformat": 4,
 "nbformat_minor": 2
}