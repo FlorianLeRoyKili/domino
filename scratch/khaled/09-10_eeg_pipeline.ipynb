{
 "cells": [
  {
   "cell_type": "code",
   "execution_count": null,
   "source": [
    "import numpy as np\n",
    "import pdb\n",
    "\n",
    "import meerkat as mk\n",
    "from meerkat.contrib.eeg import build_stanford_eeg_dp\n",
    "from domino.utils import split_dp"
   ],
   "outputs": [],
   "metadata": {}
  },
  {
   "cell_type": "markdown",
   "source": [
    "## Load EEG datapanel"
   ],
   "metadata": {}
  },
  {
   "cell_type": "code",
   "execution_count": null,
   "source": [
    "dp_art = build_stanford_eeg_dp.out(run_id=409)\n",
    "dp=dp_art.load()\n",
    "dp.lz[0]"
   ],
   "outputs": [],
   "metadata": {}
  },
  {
   "cell_type": "code",
   "execution_count": null,
   "source": [
    "len(dp)"
   ],
   "outputs": [],
   "metadata": {}
  },
  {
   "cell_type": "code",
   "execution_count": null,
   "source": [
    "len(dp.lz[~dp[\"id\"].duplicated()])"
   ],
   "outputs": [],
   "metadata": {}
  },
  {
   "cell_type": "markdown",
   "source": [
    "## split data"
   ],
   "metadata": {}
  },
  {
   "cell_type": "code",
   "execution_count": null,
   "source": [
    "dp_splits_art = split_dp.out(412) #split_dp(dp_art, split_on=\"patient_id\")\n",
    "dp_splits = dp_splits_art.load()\n",
    "print(len(dp_splits))\n",
    "dp_splits.head()"
   ],
   "outputs": [],
   "metadata": {}
  },
  {
   "cell_type": "code",
   "execution_count": null,
   "source": [
    "dp_splits['id'].nunique()"
   ],
   "outputs": [],
   "metadata": {}
  },
  {
   "cell_type": "code",
   "execution_count": null,
   "source": [
    "age_labels = dp[\"age\"] > 10\n",
    "sz_labels = dp[\"target\"]\n",
    "np.corrcoef([age_labels,sz_labels])[1,0]"
   ],
   "outputs": [],
   "metadata": {}
  },
  {
   "cell_type": "markdown",
   "source": [
    "## Slice dp based on metadata"
   ],
   "metadata": {}
  },
  {
   "cell_type": "code",
   "execution_count": null,
   "source": [
    "from domino.slices.eeg import build_slice\n",
    "\n",
    "#dp_train = dp.lz[dp[\"split\"]==\"train\"]\n",
    "dp_age_art = build_slice(\"correlation\", 409, dp_splits_art, correlate=\"age\", corr=0.9, n=2500, correlate_threshold=10)\n",
    "dp_age = dp_age_art.load()"
   ],
   "outputs": [],
   "metadata": {}
  },
  {
   "cell_type": "code",
   "execution_count": null,
   "source": [
    "len(dp_age)"
   ],
   "outputs": [],
   "metadata": {}
  },
  {
   "cell_type": "code",
   "execution_count": null,
   "source": [
    "age_labels = dp_age[\"age\"] > 10\n",
    "sz_labels = dp_age[\"target\"]\n",
    "np.corrcoef([age_labels,sz_labels])[0,1]"
   ],
   "outputs": [],
   "metadata": {}
  },
  {
   "cell_type": "code",
   "execution_count": null,
   "source": [
    "(dp_age[\"split\"]==\"valid\").sum()"
   ],
   "outputs": [],
   "metadata": {}
  },
  {
   "cell_type": "markdown",
   "source": [
    "## Get multiple slices"
   ],
   "metadata": {}
  },
  {
   "cell_type": "code",
   "execution_count": null,
   "source": [
    "from domino.slices.eeg import collect_correlation_slices\n",
    "\n",
    "# correlate_list = [\"age\"]\n",
    "# corr_list = [0, 0.3, 0.5, 0.9]\n",
    "# correlate_thresholds = [10]\n",
    "# dp_run_id = 409\n",
    "# dp_slices_art = collect_correlation_slices(dp_run_id, correlate_list, corr_list, correlate_thresholds)\n",
    "dp_slices_art = collect_correlation_slices.out(439)\n",
    "dp_slices = dp_slices_art.load()\n",
    "dp_slices.head()"
   ],
   "outputs": [],
   "metadata": {}
  },
  {
   "cell_type": "code",
   "execution_count": null,
   "source": [],
   "outputs": [],
   "metadata": {}
  },
  {
   "cell_type": "code",
   "execution_count": null,
   "source": [],
   "outputs": [],
   "metadata": {}
  }
 ],
 "metadata": {
  "orig_nbformat": 4,
  "language_info": {
   "name": "python",
   "version": "3.8.10",
   "mimetype": "text/x-python",
   "codemirror_mode": {
    "name": "ipython",
    "version": 3
   },
   "pygments_lexer": "ipython3",
   "nbconvert_exporter": "python",
   "file_extension": ".py"
  },
  "kernelspec": {
   "name": "python3",
   "display_name": "Python 3.8.10 64-bit ('domino': conda)"
  },
  "interpreter": {
   "hash": "b006b217e8cb0199fc13ea6a087b3b77c18ca9d2bc7dc9a8383728a63838a653"
  }
 },
 "nbformat": 4,
 "nbformat_minor": 2
}