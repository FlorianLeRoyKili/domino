{
 "cells": [
  {
   "cell_type": "code",
   "execution_count": 19,
   "metadata": {},
   "outputs": [],
   "source": [
    "%matplotlib inline"
   ]
  },
  {
   "cell_type": "code",
   "execution_count": 28,
   "metadata": {},
   "outputs": [],
   "source": [
    "from domino.slices import collect_settings\n",
    "from domino.train import score_model, score_settings\n",
    "\n",
    "import matplotlib.pyplot as plt\n",
    "import seaborn as sns"
   ]
  },
  {
   "cell_type": "code",
   "execution_count": 8,
   "metadata": {},
   "outputs": [
    {
     "data": {
      "text/html": [
       "<table border=\"1\" class=\"dataframe\">\n",
       "  <thead>\n",
       "    <tr style=\"text-align: right;\">\n",
       "      <th></th>\n",
       "      <th>train_model_run_id (PandasSeriesColumn)</th>\n",
       "      <th>setting_id (PandasSeriesColumn)</th>\n",
       "      <th>build_setting_kwargs (ListColumn)</th>\n",
       "      <th>dataset (PandasSeriesColumn)</th>\n",
       "      <th>target_name (PandasSeriesColumn)</th>\n",
       "      <th>slice_names (ListColumn)</th>\n",
       "      <th>index (PandasSeriesColumn)</th>\n",
       "      <th>slice_category (PandasSeriesColumn)</th>\n",
       "      <th>alpha (NumpyArrayColumn)</th>\n",
       "      <th>train_settings_run_id (PandasSeriesColumn)</th>\n",
       "      <th>score_settings_run_id (PandasSeriesColumn)</th>\n",
       "      <th>score_model_run_id (PandasSeriesColumn)</th>\n",
       "      <th>synthetic_preds (PandasSeriesColumn)</th>\n",
       "    </tr>\n",
       "  </thead>\n",
       "  <tbody>\n",
       "    <tr>\n",
       "      <th>0</th>\n",
       "      <td>8155</td>\n",
       "      <td>ead6e4e7-c052-412e-a434-e2693d0dc940</td>\n",
       "      <td>{'correlate': 'chest_tube', 'corr': 0.0, 'correlate_threshold': None, 'n': 675}</td>\n",
       "      <td>cxr</td>\n",
       "      <td>pmx</td>\n",
       "      <td>['pmx=0_chest_tube', 'pmx=1_chest_tube']</td>\n",
       "      <td>0</td>\n",
       "      <td>correlation</td>\n",
       "      <td>0.0</td>\n",
       "      <td>8154</td>\n",
       "      <td>8158</td>\n",
       "      <td>8159</td>\n",
       "      <td>False</td>\n",
       "    </tr>\n",
       "    <tr>\n",
       "      <th>1</th>\n",
       "      <td>8157</td>\n",
       "      <td>46817d24-5999-41ab-9868-2245bf766743</td>\n",
       "      <td>{'correlate': 'chest_tube', 'corr': 0.8, 'correlate_threshold': None, 'n': 675}</td>\n",
       "      <td>cxr</td>\n",
       "      <td>pmx</td>\n",
       "      <td>['pmx=0_chest_tube', 'pmx=1_chest_tube']</td>\n",
       "      <td>1</td>\n",
       "      <td>correlation</td>\n",
       "      <td>0.8</td>\n",
       "      <td>8154</td>\n",
       "      <td>8158</td>\n",
       "      <td>8160</td>\n",
       "      <td>False</td>\n",
       "    </tr>\n",
       "  </tbody>\n",
       "</table>"
      ],
      "text/plain": [
       "DataPanel(nrows: 2, ncols: 13)"
      ]
     },
     "execution_count": 8,
     "metadata": {},
     "output_type": "execute_result"
    }
   ],
   "source": [
    "#setting_dp = collect_settings.out(load=True)\n",
    "setting_dp = score_settings.out(load=True)[0]\n",
    "setting_dp"
   ]
  },
  {
   "cell_type": "code",
   "execution_count": 35,
   "metadata": {},
   "outputs": [
    {
     "data": {
      "text/plain": [
       "Text(0.5, 0, 'alpha')"
      ]
     },
     "execution_count": 35,
     "metadata": {},
     "output_type": "execute_result"
    },
    {
     "data": {
      "image/png": "[encoded data removed]",
      "text/plain": [
       "<Figure size 432x288 with 1 Axes>"
      ]
     },
     "metadata": {
      "needs_background": "light"
     },
     "output_type": "display_data"
    }
   ],
   "source": [
    "slice_type = \"correlation\"\n",
    "\n",
    "setting_dp_ = setting_dp[setting_dp[\"slice_category\"] == slice_type]\n",
    "alphas = []\n",
    "\n",
    "slice0_mean = []\n",
    "slice0_upper = []\n",
    "slice0_lower = []\n",
    "\n",
    "slice1_mean = []\n",
    "slice1_upper = []\n",
    "slice1_lower = []\n",
    "\n",
    "for row in setting_dp_:\n",
    "    alphas.append(row[\"alpha\"])\n",
    "    metrics = score_model.out(row[\"score_model_run_id\"])[1]\n",
    "\n",
    "    if slice_type==\"correlation\":\n",
    "        slice0_key = \"in_slice_0_accuracy\"\n",
    "        slice1_key = \"in_slice_1_accuracy\"\n",
    "\n",
    "    slice0_mean.append(metrics[f\"{slice0_key}_mean\"])\n",
    "    slice0_upper.append(metrics[f\"{slice0_key}_upper\"])\n",
    "    slice0_lower.append(metrics[f\"{slice0_key}_lower\"])\n",
    "\n",
    "    slice1_mean.append(metrics[f\"{slice1_key}_mean\"])\n",
    "    slice1_upper.append(metrics[f\"{slice1_key}_upper\"])\n",
    "    slice1_lower.append(metrics[f\"{slice1_key}_lower\"])\n",
    "\n",
    "\n",
    "plt.plot(alphas,slice0_mean)\n",
    "plt.fill_between(alphas, slice0_upper, slice0_lower, alpha=0.3)\n",
    "\n",
    "plt.plot(alphas,slice1_mean)\n",
    "plt.fill_between(alphas, slice1_upper, slice1_lower, alpha=0.3)\n",
    "\n",
    "plt.legend([slice0_key,slice1_key])\n",
    "\n",
    "plt.xlabel(\"alpha\")"
   ]
  },
  {
   "cell_type": "code",
   "execution_count": null,
   "metadata": {},
   "outputs": [],
   "source": []
  }
 ],
 "metadata": {
  "interpreter": {
   "hash": "dbc75dceca39a6c6bc36aa1cdee1aeb9a8529361fa67d06cea4bae31894d0887"
  },
  "kernelspec": {
   "display_name": "Python 3.8.10 64-bit ('domino': conda)",
   "language": "python",
   "name": "python3"
  },
  "language_info": {
   "codemirror_mode": {
    "name": "ipython",
    "version": 3
   },
   "file_extension": ".py",
   "mimetype": "text/x-python",
   "name": "python",
   "nbconvert_exporter": "python",
   "pygments_lexer": "ipython3",
   "version": "3.8.10"
  },
  "orig_nbformat": 4
 },
 "nbformat": 4,
 "nbformat_minor": 2
}
