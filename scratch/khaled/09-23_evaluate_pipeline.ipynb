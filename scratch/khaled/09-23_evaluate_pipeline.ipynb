{
 "cells": [
  {
   "cell_type": "code",
   "execution_count": null,
   "source": [
    "import numpy as np\n",
    "import terra\n",
    "\n",
    "from meerkat.contrib.eeg import build_stanford_eeg_dp\n",
    "\n",
    "from domino.emb.eeg import generate_words_dp, embed_words, embed_eeg\n",
    "from domino.evaluate import run_sdms, score_sdm_explanations, score_sdms, run_sdm\n",
    "from domino.sdm import MixtureModelSDM, SpotlightSDM\n",
    "from domino.slices import collect_settings\n",
    "from domino.train import score_settings, synthetic_score_settings, train_settings\n",
    "from domino.utils import split_dp, balance_dp\n",
    "\n",
    "import meerkat as mk\n",
    "import seaborn as sns\n",
    "import matplotlib.pyplot as plt\n"
   ],
   "outputs": [],
   "metadata": {}
  },
  {
   "cell_type": "code",
   "execution_count": null,
   "source": [
    "setting_dp = collect_settings.out(load=True)\n",
    "setting_dp"
   ],
   "outputs": [],
   "metadata": {}
  },
  {
   "cell_type": "code",
   "execution_count": null,
   "source": [
    "run_sdms_dp = run_sdms.out(load=True)\n",
    "run_sdms_dp.head()"
   ],
   "outputs": [],
   "metadata": {}
  },
  {
   "cell_type": "code",
   "execution_count": null,
   "source": [
    "score_dp = mk.DataPanel.from_pandas(score_sdms.out(load=True))\n",
    "score_dp"
   ],
   "outputs": [],
   "metadata": {}
  },
  {
   "cell_type": "code",
   "execution_count": null,
   "source": [
    "results_dp = mk.merge(\n",
    "    score_dp,\n",
    "    run_sdms_dp[\"config/sdm\", \"alpha\",\"run_sdm_run_id\"], # include any other columns here you'd like to analyze\n",
    "    on=\"run_sdm_run_id\"\n",
    ")\n",
    "emb_col = results_dp[\"config/sdm\"].map(lambda x: x[\"sdm_config\"][\"emb\"][0])\n",
    "results_dp[\"emb_type\"] = emb_col\n",
    "\n",
    "results_df = results_dp.to_pandas()\n",
    "results_df"
   ],
   "outputs": [],
   "metadata": {}
  },
  {
   "cell_type": "code",
   "execution_count": null,
   "source": [
    "metric = \"precision_at_10\"\n",
    "grouped_df = results_df.iloc[results_df.reset_index().groupby([\"slice_name\", \"slice_idx\",\"emb_type\",\"alpha\"])[metric].idxmax().astype(int)]\n",
    "\n",
    "#ax = sns.lineplot(data=grouped_df,x=\"alpha\",y=metric, hue=\"emb_type\",style=\"slice_name\")\n",
    "ax = sns.barplot(data=grouped_df,x=metric,y=\"emb_type\")\n",
    "plt.show()"
   ],
   "outputs": [],
   "metadata": {}
  },
  {
   "cell_type": "code",
   "execution_count": null,
   "source": [
    "metric = \"auroc\"\n",
    "grouped_df = results_df.iloc[results_df.reset_index().groupby([\"slice_name\", \"slice_idx\",\"emb_type\",\"alpha\"])[metric].idxmax().astype(int)]\n",
    "\n",
    "#ax = sns.lineplot(data=grouped_df,x=\"alpha\",y=metric, hue=\"emb_type\",style=\"slice_name\")\n",
    "ax = sns.barplot(data=grouped_df,x=metric,y=\"emb_type\")\n",
    "plt.show()"
   ],
   "outputs": [],
   "metadata": {}
  },
  {
   "cell_type": "markdown",
   "source": [
    "# Explanations"
   ],
   "metadata": {}
  },
  {
   "cell_type": "code",
   "execution_count": null,
   "source": [
    "words_dp = embed_words.out(load=True)\n",
    "\n",
    "# get multimodal sdm run ids\n",
    "slice_id = 1\n",
    "alpha = 0.9\n",
    "\n",
    "specific_run = grouped_df[grouped_df[\"emb_type\"]==\"multimodal\"][grouped_df[\"slice_idx\"]==slice_id][grouped_df[\"alpha\"]==alpha]\n",
    "specific_run"
   ],
   "outputs": [],
   "metadata": {}
  },
  {
   "cell_type": "code",
   "execution_count": null,
   "source": [
    "pred_slice_idx = specific_run[\"pred_slice_idx\"].values[0]\n",
    "_, expl_dp = run_sdm.out(specific_run[\"run_sdm_run_id\"].values[0],load=True)\n",
    "expl_dp[(-expl_dp[\"pred_slices\"].data[:,pred_slice_idx]).argsort()][:10]"
   ],
   "outputs": [],
   "metadata": {}
  },
  {
   "cell_type": "code",
   "execution_count": null,
   "source": [
    "expl_dp[(-expl_dp[\"pred_slices\"].data[:,pred_slice_idx]).argsort()][10:20]"
   ],
   "outputs": [],
   "metadata": {}
  },
  {
   "cell_type": "code",
   "execution_count": null,
   "source": [],
   "outputs": [],
   "metadata": {}
  }
 ],
 "metadata": {
  "orig_nbformat": 4,
  "language_info": {
   "name": "python",
   "version": "3.8.10",
   "mimetype": "text/x-python",
   "codemirror_mode": {
    "name": "ipython",
    "version": 3
   },
   "pygments_lexer": "ipython3",
   "nbconvert_exporter": "python",
   "file_extension": ".py"
  },
  "kernelspec": {
   "name": "python3",
   "display_name": "Python 3.8.10 64-bit ('domino': conda)"
  },
  "interpreter": {
   "hash": "b006b217e8cb0199fc13ea6a087b3b77c18ca9d2bc7dc9a8383728a63838a653"
  }
 },
 "nbformat": 4,
 "nbformat_minor": 2
}