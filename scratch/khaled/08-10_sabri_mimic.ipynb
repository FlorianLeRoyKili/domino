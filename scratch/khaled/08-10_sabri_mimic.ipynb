{
 "cells": [
  {
   "cell_type": "code",
   "execution_count": 1,
   "source": [
    "%load_ext autoreload\n",
    "%autoreload 2"
   ],
   "outputs": [],
   "metadata": {}
  },
  {
   "cell_type": "code",
   "execution_count": 2,
   "source": [
    "import numpy as np\n",
    "import meerkat as mk\n",
    "import matplotlib.pyplot as plt\n",
    "from sklearn.metrics import roc_auc_score, recall_score\n",
    "\n",
    "from domino.data.cxr import get_dp, build_cxr_df, get_cxr_activations"
   ],
   "outputs": [],
   "metadata": {}
  },
  {
   "cell_type": "code",
   "execution_count": 3,
   "source": [
    "# Get a mosaic DataPanel with the data.\n",
    "df = build_cxr_df.out(load=True)\n",
    "dp = get_dp(df)\n",
    "dp.head()\n",
    "\n",
    "#dp = mk.DataPanel.read(path=\"/media/4tb_hdd/siim/balanced_dp_08-06-21.dp\")\n",
    "#dp = mk.DataPanel.read(path=\"/media/4tb_hdd/siim/pleural_effusion_tube_balanced_dp_08-06-21.dp\")"
   ],
   "outputs": [
    {
     "output_type": "execute_result",
     "data": {
      "text/plain": [
       "DataPanel(num_rows: 5)"
      ],
      "text/html": [
       "<div>\n",
       "<style scoped>\n",
       "    .dataframe tbody tr th:only-of-type {\n",
       "        vertical-align: middle;\n",
       "    }\n",
       "\n",
       "    .dataframe tbody tr th {\n",
       "        vertical-align: top;\n",
       "    }\n",
       "\n",
       "    .dataframe thead th {\n",
       "        text-align: right;\n",
       "    }\n",
       "</style>\n",
       "<table border=\"1\" class=\"dataframe\">\n",
       "  <thead>\n",
       "    <tr style=\"text-align: right;\">\n",
       "      <th></th>\n",
       "      <th>image_id (NumpyArrayColumn)</th>\n",
       "      <th>encoded_pixels (NumpyArrayColumn)</th>\n",
       "      <th>pmx (NumpyArrayColumn)</th>\n",
       "      <th>filepath (NumpyArrayColumn)</th>\n",
       "      <th>chest_tube (NumpyArrayColumn)</th>\n",
       "      <th>split (NumpyArrayColumn)</th>\n",
       "      <th>gaze_seq (NumpyArrayColumn)</th>\n",
       "      <th>gaze_heatmap (NumpyArrayColumn)</th>\n",
       "      <th>gaze_max_visit (NumpyArrayColumn)</th>\n",
       "      <th>gaze_unique (NumpyArrayColumn)</th>\n",
       "      <th>gaze_time (NumpyArrayColumn)</th>\n",
       "      <th>gaze_diffusivity (NumpyArrayColumn)</th>\n",
       "      <th>expert_label (NumpyArrayColumn)</th>\n",
       "      <th>index (ListColumn)</th>\n",
       "      <th>input (CellColumn)</th>\n",
       "      <th>img (CellColumn)</th>\n",
       "    </tr>\n",
       "  </thead>\n",
       "  <tbody>\n",
       "    <tr>\n",
       "      <th>0</th>\n",
       "      <td>1.2.276.0.7230010.3.1.4.8323329.6904.151787520...</td>\n",
       "      <td>-1</td>\n",
       "      <td>0</td>\n",
       "      <td>/media/4tb_hdd/siim/dicom-images-train/1.2.276...</td>\n",
       "      <td>NaN</td>\n",
       "      <td>train</td>\n",
       "      <td>nan</td>\n",
       "      <td>nan</td>\n",
       "      <td>NaN</td>\n",
       "      <td>NaN</td>\n",
       "      <td>NaN</td>\n",
       "      <td>NaN</td>\n",
       "      <td>NaN</td>\n",
       "      <td>'0'</td>\n",
       "      <td>MedicalVolumeCell([PosixPath('/media/4tb_hdd/s...</td>\n",
       "      <td>MedicalVolumeCell([PosixPath('/media/4tb_hdd/s...</td>\n",
       "    </tr>\n",
       "    <tr>\n",
       "      <th>1</th>\n",
       "      <td>1.2.276.0.7230010.3.1.4.8323329.13666.15178752...</td>\n",
       "      <td>557374 2 1015 8 1009 14 1002 20 997 26 990 32 ...</td>\n",
       "      <td>1</td>\n",
       "      <td>/media/4tb_hdd/siim/dicom-images-train/1.2.276...</td>\n",
       "      <td>NaN</td>\n",
       "      <td>train</td>\n",
       "      <td>nan</td>\n",
       "      <td>nan</td>\n",
       "      <td>NaN</td>\n",
       "      <td>NaN</td>\n",
       "      <td>NaN</td>\n",
       "      <td>NaN</td>\n",
       "      <td>NaN</td>\n",
       "      <td>'1'</td>\n",
       "      <td>MedicalVolumeCell([PosixPath('/media/4tb_hdd/s...</td>\n",
       "      <td>MedicalVolumeCell([PosixPath('/media/4tb_hdd/s...</td>\n",
       "    </tr>\n",
       "    <tr>\n",
       "      <th>2</th>\n",
       "      <td>1.2.276.0.7230010.3.1.4.8323329.11028.15178752...</td>\n",
       "      <td>-1</td>\n",
       "      <td>0</td>\n",
       "      <td>/media/4tb_hdd/siim/dicom-images-train/1.2.276...</td>\n",
       "      <td>NaN</td>\n",
       "      <td>train</td>\n",
       "      <td>nan</td>\n",
       "      <td>nan</td>\n",
       "      <td>NaN</td>\n",
       "      <td>NaN</td>\n",
       "      <td>NaN</td>\n",
       "      <td>NaN</td>\n",
       "      <td>NaN</td>\n",
       "      <td>'2'</td>\n",
       "      <td>MedicalVolumeCell([PosixPath('/media/4tb_hdd/s...</td>\n",
       "      <td>MedicalVolumeCell([PosixPath('/media/4tb_hdd/s...</td>\n",
       "    </tr>\n",
       "    <tr>\n",
       "      <th>3</th>\n",
       "      <td>1.2.276.0.7230010.3.1.4.8323329.10366.15178752...</td>\n",
       "      <td>514175 10 1008 29 994 30 993 32 991 33 990 34 ...</td>\n",
       "      <td>1</td>\n",
       "      <td>/media/4tb_hdd/siim/dicom-images-train/1.2.276...</td>\n",
       "      <td>NaN</td>\n",
       "      <td>train</td>\n",
       "      <td>nan</td>\n",
       "      <td>nan</td>\n",
       "      <td>NaN</td>\n",
       "      <td>NaN</td>\n",
       "      <td>NaN</td>\n",
       "      <td>NaN</td>\n",
       "      <td>NaN</td>\n",
       "      <td>'3'</td>\n",
       "      <td>MedicalVolumeCell([PosixPath('/media/4tb_hdd/s...</td>\n",
       "      <td>MedicalVolumeCell([PosixPath('/media/4tb_hdd/s...</td>\n",
       "    </tr>\n",
       "    <tr>\n",
       "      <th>4</th>\n",
       "      <td>1.2.276.0.7230010.3.1.4.8323329.10016.15178752...</td>\n",
       "      <td>592184 33 976 58 956 73 941 88 926 102 917 109...</td>\n",
       "      <td>1</td>\n",
       "      <td>/media/4tb_hdd/siim/dicom-images-train/1.2.276...</td>\n",
       "      <td>NaN</td>\n",
       "      <td>train</td>\n",
       "      <td>nan</td>\n",
       "      <td>nan</td>\n",
       "      <td>NaN</td>\n",
       "      <td>NaN</td>\n",
       "      <td>NaN</td>\n",
       "      <td>NaN</td>\n",
       "      <td>NaN</td>\n",
       "      <td>'4'</td>\n",
       "      <td>MedicalVolumeCell([PosixPath('/media/4tb_hdd/s...</td>\n",
       "      <td>MedicalVolumeCell([PosixPath('/media/4tb_hdd/s...</td>\n",
       "    </tr>\n",
       "  </tbody>\n",
       "</table>\n",
       "</div>"
      ]
     },
     "metadata": {},
     "execution_count": 3
    }
   ],
   "metadata": {}
  },
  {
   "cell_type": "code",
   "execution_count": 7,
   "source": [
    "# # get mimic activations\n",
    "# model_pth = \"/home/ksaab/Documents/domino/scratch/khaled/outputs/08-10_sabri_mimic/model_chkpt_runid4495.pt\"\n",
    "# dp_mimic = get_cxr_activations(dp=dp, model_path=model_pth, run_type=\"mimic\")"
   ],
   "outputs": [],
   "metadata": {}
  },
  {
   "cell_type": "code",
   "execution_count": 13,
   "source": [
    "#model_pth = \"/home/ksaab/Documents/domino/scratch/khaled/results/method_upsample/gaze_split_True/target_pmx/subgroup_none/lr_1e-05/wd_0.0/domino/10ecv820/checkpoints/epoch=49-step=2499.ckpt\"\n",
    "#model_pth = \"/home/ksaab/Documents/domino/scratch/khaled/results/method_erm/gaze_split_True/target_pmx/subgroup_none/lr_1e-05/wd_0.0/domino/20y9n1ad/checkpoints/epoch=49-step=1499.ckpt\"\n",
    "model_pth = \"/home/ksaab/Documents/domino/scratch/khaled/results/method_gdro/gaze_split_True/target_pmx/subgroup__chest_tube_pleural_effusion/lr_1e-05/wd_1/domino/e0t5nkvq/checkpoints/epoch=49-step=1499.ckpt\"\n",
    "\n",
    "dp_erm.head()"
   ],
   "outputs": [
    {
     "output_type": "display_data",
     "data": {
      "text/plain": [
       "HBox(children=(FloatProgress(value=0.0, max=753.0), HTML(value='')))"
      ],
      "application/vnd.jupyter.widget-view+json": {
       "version_major": 2,
       "version_minor": 0,
       "model_id": "59ade4997a634eb6b9b1f8145d46defd"
      }
     },
     "metadata": {}
    },
    {
     "output_type": "stream",
     "name": "stdout",
     "text": [
      "\n"
     ]
    },
    {
     "output_type": "execute_result",
     "data": {
      "text/plain": [
       "DataPanel(num_rows: 5)"
      ],
      "text/html": [
       "<div>\n",
       "<style scoped>\n",
       "    .dataframe tbody tr th:only-of-type {\n",
       "        vertical-align: middle;\n",
       "    }\n",
       "\n",
       "    .dataframe tbody tr th {\n",
       "        vertical-align: top;\n",
       "    }\n",
       "\n",
       "    .dataframe thead th {\n",
       "        text-align: right;\n",
       "    }\n",
       "</style>\n",
       "<table border=\"1\" class=\"dataframe\">\n",
       "  <thead>\n",
       "    <tr style=\"text-align: right;\">\n",
       "      <th></th>\n",
       "      <th>image_id (NumpyArrayColumn)</th>\n",
       "      <th>encoded_pixels (NumpyArrayColumn)</th>\n",
       "      <th>pmx (NumpyArrayColumn)</th>\n",
       "      <th>filepath (NumpyArrayColumn)</th>\n",
       "      <th>chest_tube (NumpyArrayColumn)</th>\n",
       "      <th>split (NumpyArrayColumn)</th>\n",
       "      <th>gaze_seq (NumpyArrayColumn)</th>\n",
       "      <th>gaze_heatmap (NumpyArrayColumn)</th>\n",
       "      <th>gaze_max_visit (NumpyArrayColumn)</th>\n",
       "      <th>gaze_unique (NumpyArrayColumn)</th>\n",
       "      <th>gaze_time (NumpyArrayColumn)</th>\n",
       "      <th>gaze_diffusivity (NumpyArrayColumn)</th>\n",
       "      <th>expert_label (NumpyArrayColumn)</th>\n",
       "      <th>index (ListColumn)</th>\n",
       "      <th>input (CellColumn)</th>\n",
       "      <th>img (CellColumn)</th>\n",
       "      <th>output (ClassificationOutputColumn)</th>\n",
       "      <th>activation_block3 (TensorColumn)</th>\n",
       "      <th>activation_block4 (TensorColumn)</th>\n",
       "    </tr>\n",
       "  </thead>\n",
       "  <tbody>\n",
       "    <tr>\n",
       "      <th>0</th>\n",
       "      <td>1.2.276.0.7230010.3.1.4.8323329.6904.151787520...</td>\n",
       "      <td>-1</td>\n",
       "      <td>0</td>\n",
       "      <td>/media/4tb_hdd/siim/dicom-images-train/1.2.276...</td>\n",
       "      <td>NaN</td>\n",
       "      <td>train</td>\n",
       "      <td>nan</td>\n",
       "      <td>nan</td>\n",
       "      <td>NaN</td>\n",
       "      <td>NaN</td>\n",
       "      <td>NaN</td>\n",
       "      <td>NaN</td>\n",
       "      <td>NaN</td>\n",
       "      <td>'0'</td>\n",
       "      <td>MedicalVolumeCell([PosixPath('/media/4tb_hdd/s...</td>\n",
       "      <td>MedicalVolumeCell([PosixPath('/media/4tb_hdd/s...</td>\n",
       "      <td>torch.Tensor(shape=torch.Size([2]))</td>\n",
       "      <td>torch.Tensor(shape=torch.Size([1024, 14, 14]))</td>\n",
       "      <td>torch.Tensor(shape=torch.Size([2048, 7, 7]))</td>\n",
       "    </tr>\n",
       "    <tr>\n",
       "      <th>1</th>\n",
       "      <td>1.2.276.0.7230010.3.1.4.8323329.13666.15178752...</td>\n",
       "      <td>557374 2 1015 8 1009 14 1002 20 997 26 990 32 ...</td>\n",
       "      <td>1</td>\n",
       "      <td>/media/4tb_hdd/siim/dicom-images-train/1.2.276...</td>\n",
       "      <td>NaN</td>\n",
       "      <td>train</td>\n",
       "      <td>nan</td>\n",
       "      <td>nan</td>\n",
       "      <td>NaN</td>\n",
       "      <td>NaN</td>\n",
       "      <td>NaN</td>\n",
       "      <td>NaN</td>\n",
       "      <td>NaN</td>\n",
       "      <td>'1'</td>\n",
       "      <td>MedicalVolumeCell([PosixPath('/media/4tb_hdd/s...</td>\n",
       "      <td>MedicalVolumeCell([PosixPath('/media/4tb_hdd/s...</td>\n",
       "      <td>torch.Tensor(shape=torch.Size([2]))</td>\n",
       "      <td>torch.Tensor(shape=torch.Size([1024, 14, 14]))</td>\n",
       "      <td>torch.Tensor(shape=torch.Size([2048, 7, 7]))</td>\n",
       "    </tr>\n",
       "    <tr>\n",
       "      <th>2</th>\n",
       "      <td>1.2.276.0.7230010.3.1.4.8323329.11028.15178752...</td>\n",
       "      <td>-1</td>\n",
       "      <td>0</td>\n",
       "      <td>/media/4tb_hdd/siim/dicom-images-train/1.2.276...</td>\n",
       "      <td>NaN</td>\n",
       "      <td>train</td>\n",
       "      <td>nan</td>\n",
       "      <td>nan</td>\n",
       "      <td>NaN</td>\n",
       "      <td>NaN</td>\n",
       "      <td>NaN</td>\n",
       "      <td>NaN</td>\n",
       "      <td>NaN</td>\n",
       "      <td>'2'</td>\n",
       "      <td>MedicalVolumeCell([PosixPath('/media/4tb_hdd/s...</td>\n",
       "      <td>MedicalVolumeCell([PosixPath('/media/4tb_hdd/s...</td>\n",
       "      <td>torch.Tensor(shape=torch.Size([2]))</td>\n",
       "      <td>torch.Tensor(shape=torch.Size([1024, 14, 14]))</td>\n",
       "      <td>torch.Tensor(shape=torch.Size([2048, 7, 7]))</td>\n",
       "    </tr>\n",
       "    <tr>\n",
       "      <th>3</th>\n",
       "      <td>1.2.276.0.7230010.3.1.4.8323329.10366.15178752...</td>\n",
       "      <td>514175 10 1008 29 994 30 993 32 991 33 990 34 ...</td>\n",
       "      <td>1</td>\n",
       "      <td>/media/4tb_hdd/siim/dicom-images-train/1.2.276...</td>\n",
       "      <td>NaN</td>\n",
       "      <td>train</td>\n",
       "      <td>nan</td>\n",
       "      <td>nan</td>\n",
       "      <td>NaN</td>\n",
       "      <td>NaN</td>\n",
       "      <td>NaN</td>\n",
       "      <td>NaN</td>\n",
       "      <td>NaN</td>\n",
       "      <td>'3'</td>\n",
       "      <td>MedicalVolumeCell([PosixPath('/media/4tb_hdd/s...</td>\n",
       "      <td>MedicalVolumeCell([PosixPath('/media/4tb_hdd/s...</td>\n",
       "      <td>torch.Tensor(shape=torch.Size([2]))</td>\n",
       "      <td>torch.Tensor(shape=torch.Size([1024, 14, 14]))</td>\n",
       "      <td>torch.Tensor(shape=torch.Size([2048, 7, 7]))</td>\n",
       "    </tr>\n",
       "    <tr>\n",
       "      <th>4</th>\n",
       "      <td>1.2.276.0.7230010.3.1.4.8323329.10016.15178752...</td>\n",
       "      <td>592184 33 976 58 956 73 941 88 926 102 917 109...</td>\n",
       "      <td>1</td>\n",
       "      <td>/media/4tb_hdd/siim/dicom-images-train/1.2.276...</td>\n",
       "      <td>NaN</td>\n",
       "      <td>train</td>\n",
       "      <td>nan</td>\n",
       "      <td>nan</td>\n",
       "      <td>NaN</td>\n",
       "      <td>NaN</td>\n",
       "      <td>NaN</td>\n",
       "      <td>NaN</td>\n",
       "      <td>NaN</td>\n",
       "      <td>'4'</td>\n",
       "      <td>MedicalVolumeCell([PosixPath('/media/4tb_hdd/s...</td>\n",
       "      <td>MedicalVolumeCell([PosixPath('/media/4tb_hdd/s...</td>\n",
       "      <td>torch.Tensor(shape=torch.Size([2]))</td>\n",
       "      <td>torch.Tensor(shape=torch.Size([1024, 14, 14]))</td>\n",
       "      <td>torch.Tensor(shape=torch.Size([2048, 7, 7]))</td>\n",
       "    </tr>\n",
       "  </tbody>\n",
       "</table>\n",
       "</div>"
      ]
     },
     "metadata": {},
     "execution_count": 13
    }
   ],
   "metadata": {}
  },
  {
   "cell_type": "markdown",
   "source": [
    "## save a dp with mimic prediction columns "
   ],
   "metadata": {}
  },
  {
   "cell_type": "code",
   "execution_count": 14,
   "source": [
    "# mimic_labels = [\n",
    "#     \"atelectasis\",\n",
    "#     \"cardiomegaly\",\n",
    "#     \"consolidation\",\n",
    "#     \"edema\",\n",
    "#     \"enlarged_cardio\",\n",
    "#     \"fracture\",\n",
    "#     \"lung_opacity\",\n",
    "#     \"pleural_effusion\",\n",
    "#     \"pleural_other\",\n",
    "#     \"pneumonia\",\n",
    "#     \"pneumothorax\",\n",
    "#     \"support_devices\",\n",
    "#     \"lung_lesion\",\n",
    "#     \"no_finding\",\n",
    "# ]\n",
    "\n",
    "\n",
    "# mimic_probs = dp_mimic[\"output\"].data.softmax(1)\n",
    "# mimic_probs[:,11] = 0 # remove support devices\n",
    "# mimic_probs[:,10] = 0 # remove pmx\n",
    "# mimic_preds = mimic_probs.argmax(1).numpy()\n",
    "\n",
    "# dp_withmimic = dp\n",
    "# for ndx, mimic_label in enumerate(mimic_labels):\n",
    "#     if not(mimic_label in [\"pneumothorax\", \"support_devices\"]):\n",
    "#         binary_preds = mimic_preds == ndx\n",
    "#         dp_withmimic[mimic_label] = binary_preds\n",
    "\n",
    "# mk.DataPanel.write(dp_withmimic,path=\"/media/4tb_hdd/siim/mimic_dp_08-24-21.dp\")\n",
    "# dp_withmimic.head()"
   ],
   "outputs": [],
   "metadata": {}
  },
  {
   "cell_type": "markdown",
   "source": [
    "## ERM Performance"
   ],
   "metadata": {}
  },
  {
   "cell_type": "code",
   "execution_count": 15,
   "source": [
    "dp_ = dp_erm\n",
    "\n",
    "train_mask = dp[\"gaze_seq\"].data != \"nan\"\n",
    "test_mask = np.logical_and(~train_mask, ~np.isnan(dp[\"chest_tube\"]))\n",
    "\n",
    "# overall performance\n",
    "if dp_[test_mask][\"output\"].data.shape[1] == 4:\n",
    "    # classes: 0: no tube no pmx, 1: no tube pmx, 2: tube no pmx, 3: tube pmx\n",
    "    test_probs = dp_[test_mask][\"output\"].data.softmax(1)\n",
    "    test_probs = np.max(test_probs[:,[1,3]].numpy(),axis=1)\n",
    "else:\n",
    "    test_probs = dp_[test_mask][\"output\"].data[:,1].sigmoid()\n",
    "test_labels = dp_[test_mask][\"pmx\"].data\n",
    "print(f\"Overall AUROC: {roc_auc_score(test_labels,test_probs):.3f}\")\n",
    "\n",
    "# AUROC performance on subset that has tube labels\n",
    "tubes_mask = np.array(dp_[test_mask][\"chest_tube\"] == 1)\n",
    "print(f\"With tubes AUROC: {roc_auc_score(test_labels[tubes_mask],test_probs[tubes_mask]):.3f}\")\n",
    "\n",
    "# AUROC performance on subset that has no tube labels\n",
    "notubes_mask = np.array(dp_[test_mask][\"chest_tube\"] == 0)\n",
    "print(f\"Without tubes AUROC: {roc_auc_score(test_labels[notubes_mask],test_probs[notubes_mask]):.3f}\")\n",
    "\n",
    "neg_mask = np.array(dp_[test_mask][\"pmx\"] == 0)\n",
    "pos_mask = np.array(dp_[test_mask][\"pmx\"] == 1)\n",
    "tube_in_pos_mask = np.logical_or(neg_mask,np.logical_and(pos_mask,tubes_mask))\n",
    "notube_in_pos_mask = np.logical_or(neg_mask,np.logical_and(pos_mask,notubes_mask))\n",
    "\n",
    "print(f\"All positives have tubes, AUROC: {roc_auc_score(test_labels[tube_in_pos_mask],test_probs[tube_in_pos_mask]):.3f}\")\n",
    "print(f\"All positives have no tubes, AUROC: {roc_auc_score(test_labels[notube_in_pos_mask],test_probs[notube_in_pos_mask]):.3f}\")\n",
    "\n",
    "tube_in_neg_mask = np.logical_or(pos_mask,np.logical_and(neg_mask,tubes_mask))\n",
    "notube_in_neg_mask = np.logical_or(pos_mask,np.logical_and(neg_mask,notubes_mask))\n",
    "\n",
    "print(f\"All negatives have tubes, AUROC: {roc_auc_score(test_labels[tube_in_neg_mask],test_probs[tube_in_neg_mask]):.3f}\")\n",
    "print(f\"All negatives have no tubes, AUROC: {roc_auc_score(test_labels[notube_in_neg_mask],test_probs[notube_in_neg_mask]):.3f}\")\n",
    "\n",
    "mask = np.logical_or(np.logical_and(pos_mask,notubes_mask), np.logical_and(neg_mask,tubes_mask))\n",
    "print(f\"All negatives have tubes, All positives have no tube, AUROC: {roc_auc_score(test_labels[mask],test_probs[mask]):.3f}\")"
   ],
   "outputs": [
    {
     "output_type": "stream",
     "name": "stdout",
     "text": [
      "Overall AUROC: 0.790\n",
      "With tubes AUROC: 0.667\n",
      "Without tubes AUROC: 0.743\n",
      "All positives have tubes, AUROC: 0.814\n",
      "All positives have no tubes, AUROC: 0.722\n",
      "All negatives have tubes, AUROC: 0.638\n",
      "All negatives have no tubes, AUROC: 0.809\n",
      "All negatives have tubes, All positives have no tube, AUROC: 0.557\n"
     ]
    }
   ],
   "metadata": {}
  },
  {
   "cell_type": "code",
   "execution_count": 5,
   "source": [
    "np.logical_and(neg_mask,tubes_mask).sum()"
   ],
   "outputs": [
    {
     "output_type": "execute_result",
     "data": {
      "text/plain": [
       "85"
      ]
     },
     "metadata": {},
     "execution_count": 5
    }
   ],
   "metadata": {}
  },
  {
   "cell_type": "code",
   "execution_count": 6,
   "source": [
    "np.logical_and(pos_mask,notubes_mask).sum()"
   ],
   "outputs": [
    {
     "output_type": "execute_result",
     "data": {
      "text/plain": [
       "66"
      ]
     },
     "metadata": {},
     "execution_count": 6
    }
   ],
   "metadata": {}
  },
  {
   "cell_type": "markdown",
   "source": [
    "## Analyzing correlations in the train set with mimic predictions"
   ],
   "metadata": {}
  },
  {
   "cell_type": "code",
   "execution_count": 8,
   "source": [
    "dp_ = dp_erm\n",
    "\n",
    "train_probs = dp_[train_mask][\"output\"].data[:,1].sigmoid()\n",
    "train_labels = dp_[train_mask][\"pmx\"].data\n",
    "\n",
    "train_tubes_mask = np.array(dp_[train_mask][\"chest_tube\"] == 1)\n",
    "\n",
    "train_notubes_mask = np.array(dp_[train_mask][\"chest_tube\"] == 0)\n",
    "\n",
    "train_neg_mask = np.array(dp_[train_mask][\"pmx\"] == 0)\n",
    "train_pos_mask = np.array(dp_[train_mask][\"pmx\"] == 1)"
   ],
   "outputs": [],
   "metadata": {}
  },
  {
   "cell_type": "code",
   "execution_count": 9,
   "source": [
    "\n",
    "train_mimic_probs = dp_mimic[train_mask][\"output\"].data.sigmoid()\n",
    "train_mimic_probs[:,11] = 0 # remove support devices\n",
    "train_mimic_probs[:,10] = 0 # remove pmx\n",
    "#mimic_probs[:,0] = -1e10 # remove atelectasis\n",
    "#mimic_probs[:,7] = -1e10 # remove pleural_effusion\n",
    "train_mimic_preds = train_mimic_probs.argmax(1)"
   ],
   "outputs": [],
   "metadata": {}
  },
  {
   "cell_type": "code",
   "execution_count": 10,
   "source": [
    "fig,axs = plt.subplots(2,2,sharex=True, sharey=True, figsize=(15,8))\n",
    "\n",
    "\n",
    "# negatives without tubes\n",
    "mask = np.logical_and(train_neg_mask,train_notubes_mask)\n",
    "y_hist, x_hist = np.histogram(train_mimic_preds[mask],bins=np.array(range(15))-0.1,density=True)\n",
    "axs[0,0].bar(range(14),y_hist)\n",
    "axs[0,0].set_title(f\"Negatives Without Tubes ({mask.sum()})\")\n",
    "print(np.array(100*y_hist).astype(int))\n",
    "\n",
    "# negatives with tubes\n",
    "mask = np.logical_and(train_neg_mask,train_tubes_mask)\n",
    "y_hist, x_hist = np.histogram(train_mimic_preds[mask],bins=np.array(range(15))-0.1,density=True)\n",
    "axs[0,1].bar(range(14),y_hist)\n",
    "axs[0,1].set_title(f\"Negatives With Tubes ({mask.sum()})\")\n",
    "print(np.array(100*y_hist).astype(int))\n",
    "\n",
    "# positives without tubes\n",
    "mask = np.logical_and(train_pos_mask,train_notubes_mask)\n",
    "y_hist, x_hist = np.histogram(train_mimic_preds[mask],bins=np.array(range(15))-0.1,density=True)\n",
    "axs[1,0].bar(range(14),y_hist)\n",
    "axs[1,0].set_title(f\"Positives Without Tubes ({mask.sum()})\")\n",
    "print(np.array(100*y_hist).astype(int))\n",
    "\n",
    "# positives with tubes\n",
    "mask = np.logical_and(train_pos_mask,train_tubes_mask)\n",
    "y_hist, x_hist = np.histogram(train_mimic_preds[mask],bins=np.array(range(15))-0.1,density=True)\n",
    "axs[1,1].bar(range(14),y_hist)\n",
    "axs[1,1].set_title(f\"Positives With Tubes ({mask.sum()})\")\n",
    "\n",
    "axs[1,0].set_xticks(range(14))\n",
    "axs[1,0].set_xticklabels(mimic_labels,rotation=90)\n",
    "axs[1,1].set_xticks(range(14))\n",
    "axs[1,1].set_xticklabels(mimic_labels,rotation=90)\n",
    "print(np.array(100*y_hist).astype(int))\n",
    "\n",
    "#plt.xticks(rotation='vertical')\n",
    "plt.show()"
   ],
   "outputs": [
    {
     "output_type": "stream",
     "name": "stdout",
     "text": [
      "[ 5  4  0  3  0  0 17 15  0  0  0  0  0 53]\n",
      "[11  1  0  3  0  0 34 28  0  0  0  0  0 20]\n",
      "[ 5  0  0  1  0  0 25 46  0  1  0  0  0 18]\n",
      "[12  1  0  2  0  1 37 34  0  0  0  0  0  9]\n"
     ]
    },
    {
     "output_type": "display_data",
     "data": {
      "text/plain": [
       "<Figure size 1080x576 with 4 Axes>"
      ],
      "image/png": "[encoded data removed]"
     },
     "metadata": {
      "needs_background": "light"
     }
    }
   ],
   "metadata": {}
  },
  {
   "cell_type": "markdown",
   "source": [
    "### View gap between mimic classes"
   ],
   "metadata": {}
  },
  {
   "cell_type": "code",
   "execution_count": 11,
   "source": [
    "mimic_class = \"pleural_effusion\"\n",
    "class_ndx = np.argmax(np.array(mimic_labels)==mimic_class)\n",
    "\n",
    "test_mimic_probs = dp_mimic[test_mask][\"output\"].data[:,class_ndx].sigmoid()\n",
    "test_mimic_preds = np.array(test_mimic_probs > 0.5)\n",
    "\n",
    "dp_ = dp_erm\n",
    "\n",
    "train_mask = dp[\"gaze_seq\"].data != \"nan\"\n",
    "test_mask = np.logical_and(~train_mask, ~np.isnan(dp[\"chest_tube\"]))\n",
    "\n",
    "# overall performance\n",
    "print(f\"Overall AUROC: {roc_auc_score(test_labels,test_probs):.3f}\")\n",
    "\n",
    "# AUROC performance on subset that has tube labels\n",
    "mimic_mask = np.array(test_mimic_preds == 1)\n",
    "print(f\"With {mimic_class} AUROC: {roc_auc_score(test_labels[mimic_mask],test_probs[mimic_mask]):.3f}\")\n",
    "\n",
    "# AUROC performance on subset that has no tube labels\n",
    "nomimic_mask = np.array(test_mimic_preds == 0)\n",
    "print(f\"Without {mimic_class} AUROC: {roc_auc_score(test_labels[nomimic_mask],test_probs[nomimic_mask]):.3f}\")\n",
    "\n",
    "mimic_in_pos_mask = np.logical_or(neg_mask,np.logical_and(pos_mask,mimic_mask))\n",
    "nomimic_in_pos_mask = np.logical_or(neg_mask,np.logical_and(pos_mask,nomimic_mask))\n",
    "\n",
    "print(f\"All positives have {mimic_class}, AUROC: {roc_auc_score(test_labels[mimic_in_pos_mask],test_probs[mimic_in_pos_mask]):.3f}\")\n",
    "print(f\"All positives have no {mimic_class}, AUROC: {roc_auc_score(test_labels[nomimic_in_pos_mask],test_probs[nomimic_in_pos_mask]):.3f}\")\n",
    "\n",
    "mimic_in_neg_mask = np.logical_or(pos_mask,np.logical_and(neg_mask,mimic_mask))\n",
    "nomimic_in_neg_mask = np.logical_or(pos_mask,np.logical_and(neg_mask,nomimic_mask))\n",
    "\n",
    "print(f\"All negatives have {mimic_class}, AUROC: {roc_auc_score(test_labels[mimic_in_neg_mask],test_probs[mimic_in_neg_mask]):.3f}\")\n",
    "print(f\"All negatives have no {mimic_class}, AUROC: {roc_auc_score(test_labels[nomimic_in_neg_mask],test_probs[nomimic_in_neg_mask]):.3f}\")\n",
    "\n",
    "mask = np.logical_or(np.logical_and(pos_mask,nomimic_mask), np.logical_and(neg_mask,mimic_mask))\n",
    "print(f\"All negatives have {mimic_class}, All positives have no {mimic_class}, AUROC: {roc_auc_score(test_labels[mask],test_probs[mask]):.3f}\")"
   ],
   "outputs": [
    {
     "output_type": "stream",
     "name": "stdout",
     "text": [
      "Overall AUROC: 0.853\n",
      "With pleural_effusion AUROC: 0.745\n",
      "Without pleural_effusion AUROC: 0.870\n",
      "All positives have pleural_effusion, AUROC: 0.852\n",
      "All positives have no pleural_effusion, AUROC: 0.854\n",
      "All negatives have pleural_effusion, AUROC: 0.745\n",
      "All negatives have no pleural_effusion, AUROC: 0.869\n",
      "All negatives have pleural_effusion, All positives have no pleural_effusion, AUROC: 0.745\n"
     ]
    }
   ],
   "metadata": {}
  },
  {
   "cell_type": "markdown",
   "source": [
    "## Analying errors with mimic predictions"
   ],
   "metadata": {}
  },
  {
   "cell_type": "code",
   "execution_count": 12,
   "source": [
    "mimic_probs = dp_mimic[test_mask][\"output\"].data.sigmoid()\n",
    "mimic_probs[:,11] = 0 # remove support devices\n",
    "mimic_probs[:,10] = 0 # remove pmx\n",
    "#mimic_probs[:,0] = -1e10 # remove atelectasis\n",
    "#mimic_probs[:,7] = -1e10 # remove pleural_effusion\n",
    "mimic_preds = mimic_probs.argmax(1)"
   ],
   "outputs": [],
   "metadata": {}
  },
  {
   "cell_type": "code",
   "execution_count": 13,
   "source": [
    "# find threshold that achieves XX% recall\n",
    "recall = 0.55\n",
    "best_thresh = -1\n",
    "best_recall = -1\n",
    "for thresh in np.arange(0,1,0.01):\n",
    "    test_preds_ = test_probs > thresh\n",
    "    recall_ = recall_score(test_labels,test_preds_)\n",
    "    if np.abs(recall_-recall) < np.abs(best_recall-recall):\n",
    "        best_thresh = thresh\n",
    "        best_recall = recall_\n",
    "\n",
    "print(best_recall)\n",
    "print(best_thresh)"
   ],
   "outputs": [
    {
     "output_type": "stream",
     "name": "stdout",
     "text": [
      "0.5483870967741935\n",
      "0.23\n"
     ]
    }
   ],
   "metadata": {}
  },
  {
   "cell_type": "code",
   "execution_count": 14,
   "source": [
    "thresh = best_thresh\n",
    "\n",
    "fig,axs = plt.subplots(2,2,sharex=True, sharey=True, figsize=(15,8))\n",
    "\n",
    "\n",
    "# negatives without tubes\n",
    "mask = np.logical_and(neg_mask,notubes_mask)\n",
    "error_mask = test_probs[mask] > thresh\n",
    "error_mimic_preds = mimic_preds[mask][error_mask]\n",
    "\n",
    "y_hist, x_hist = np.histogram(error_mimic_preds,bins=np.array(range(15))-0.1,density=True)\n",
    "axs[0,0].bar(range(14),y_hist)#/mask.sum())\n",
    "axs[0,0].set_title(f\"Errors in Negatives Without Tubes ({error_mask.sum()}/{mask.sum()})\")\n",
    "#axs[0,0].set_ylabel(\"Percentage in subset\")\n",
    "\n",
    "print(np.array(100*y_hist).astype(int))\n",
    "\n",
    "# negatives with tubes\n",
    "mask = np.logical_and(neg_mask,tubes_mask)\n",
    "error_mask = test_probs[mask] > thresh\n",
    "error_mimic_preds = mimic_preds[mask][error_mask]\n",
    "\n",
    "y_hist, x_hist = np.histogram(error_mimic_preds,bins=np.array(range(15))-0.1,density=True)\n",
    "axs[0,1].bar(range(14),y_hist)#/mask.sum())\n",
    "axs[0,1].set_title(f\"Errors in Negatives With Tubes ({error_mask.sum()}/{mask.sum()})\")\n",
    "print(np.array(100*y_hist).astype(int))\n",
    "\n",
    "# positives without tubes\n",
    "mask = np.logical_and(pos_mask,notubes_mask)\n",
    "error_mask = test_probs[mask] < thresh\n",
    "error_mimic_preds = mimic_preds[mask][error_mask]\n",
    "\n",
    "y_hist, x_hist = np.histogram(error_mimic_preds,bins=np.array(range(15))-0.1,density=True)\n",
    "axs[1,0].bar(range(14),y_hist)#/mask.sum())\n",
    "axs[1,0].set_title(f\"Errors in Positives Without Tubes ({error_mask.sum()}/{mask.sum()})\")\n",
    "#axs[1,0].set_ylabel(\"Percentage in subset\")\n",
    "\n",
    "print(np.array(100*y_hist).astype(int))\n",
    "\n",
    "# positives with tubes\n",
    "mask = np.logical_and(pos_mask,tubes_mask)\n",
    "error_mask = test_probs[mask] < thresh\n",
    "error_mimic_preds = mimic_preds[mask][error_mask]\n",
    "\n",
    "y_hist, x_hist = np.histogram(error_mimic_preds,bins=np.array(range(15))-0.1,density=True)\n",
    "axs[1,1].bar(range(14),y_hist)#/mask.sum())\n",
    "axs[1,1].set_title(f\"Errors in Positives With Tubes ({error_mask.sum()}/{mask.sum()})\")\n",
    "\n",
    "axs[1,0].set_xticks(range(14))\n",
    "axs[1,0].set_xticklabels(mimic_labels,rotation=90)\n",
    "axs[1,1].set_xticks(range(14))\n",
    "axs[1,1].set_xticklabels(mimic_labels,rotation=90)\n",
    "print(np.array(100*y_hist).astype(int))\n",
    "\n",
    "#plt.xticks(rotation='vertical')\n",
    "plt.show()"
   ],
   "outputs": [
    {
     "output_type": "stream",
     "name": "stdout",
     "text": [
      "[ 9  0  0  0  0  0 36 34  0  0  0  0  0 19]\n",
      "[ 4  0  0  0  0  0 41 45  0  0  0  0  0  8]\n",
      "[ 4  0  0  0  0  0 36 44  0  0  0  0  0 14]\n",
      "[15  0  0  0  0  0 35 32  0  0  0  0  0 16]\n"
     ]
    },
    {
     "output_type": "display_data",
     "data": {
      "text/plain": [
       "<Figure size 1080x576 with 4 Axes>"
      ],
      "image/png": "[encoded data removed]"
     },
     "metadata": {
      "needs_background": "light"
     }
    }
   ],
   "metadata": {}
  },
  {
   "cell_type": "code",
   "execution_count": null,
   "source": [],
   "outputs": [],
   "metadata": {}
  }
 ],
 "metadata": {
  "orig_nbformat": 4,
  "language_info": {
   "name": "python",
   "version": "3.8.10",
   "mimetype": "text/x-python",
   "codemirror_mode": {
    "name": "ipython",
    "version": 3
   },
   "pygments_lexer": "ipython3",
   "nbconvert_exporter": "python",
   "file_extension": ".py"
  },
  "kernelspec": {
   "name": "python3",
   "display_name": "Python 3.8.10 64-bit ('domino': conda)"
  },
  "interpreter": {
   "hash": "b006b217e8cb0199fc13ea6a087b3b77c18ca9d2bc7dc9a8383728a63838a653"
  }
 },
 "nbformat": 4,
 "nbformat_minor": 2
}