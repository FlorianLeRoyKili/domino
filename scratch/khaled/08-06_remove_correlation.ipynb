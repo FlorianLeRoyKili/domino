{
 "cells": [
  {
   "cell_type": "code",
   "execution_count": 34,
   "source": [
    "import numpy as np \n",
    "import meerkat as mk\n",
    "\n",
    "from domino.data.cxr import get_dp, build_cxr_df, rle2mask"
   ],
   "outputs": [],
   "metadata": {}
  },
  {
   "cell_type": "code",
   "execution_count": 2,
   "source": [
    "# Get a mosaic DataPanel with the data.\n",
    "df = build_cxr_df.out(load=True)\n",
    "dp = get_dp(df)\n",
    "dp.head()"
   ],
   "outputs": [
    {
     "output_type": "execute_result",
     "data": {
      "text/plain": [
       "DataPanel(num_rows: 5)"
      ],
      "text/html": [
       "<div>\n",
       "<style scoped>\n",
       "    .dataframe tbody tr th:only-of-type {\n",
       "        vertical-align: middle;\n",
       "    }\n",
       "\n",
       "    .dataframe tbody tr th {\n",
       "        vertical-align: top;\n",
       "    }\n",
       "\n",
       "    .dataframe thead th {\n",
       "        text-align: right;\n",
       "    }\n",
       "</style>\n",
       "<table border=\"1\" class=\"dataframe\">\n",
       "  <thead>\n",
       "    <tr style=\"text-align: right;\">\n",
       "      <th></th>\n",
       "      <th>image_id (NumpyArrayColumn)</th>\n",
       "      <th>encoded_pixels (NumpyArrayColumn)</th>\n",
       "      <th>pmx (NumpyArrayColumn)</th>\n",
       "      <th>filepath (NumpyArrayColumn)</th>\n",
       "      <th>chest_tube (NumpyArrayColumn)</th>\n",
       "      <th>split (NumpyArrayColumn)</th>\n",
       "      <th>gaze_seq (NumpyArrayColumn)</th>\n",
       "      <th>gaze_heatmap (NumpyArrayColumn)</th>\n",
       "      <th>gaze_max_visit (NumpyArrayColumn)</th>\n",
       "      <th>gaze_unique (NumpyArrayColumn)</th>\n",
       "      <th>gaze_time (NumpyArrayColumn)</th>\n",
       "      <th>gaze_diffusivity (NumpyArrayColumn)</th>\n",
       "      <th>expert_label (NumpyArrayColumn)</th>\n",
       "      <th>index (ListColumn)</th>\n",
       "      <th>input (CellColumn)</th>\n",
       "      <th>img (CellColumn)</th>\n",
       "    </tr>\n",
       "  </thead>\n",
       "  <tbody>\n",
       "    <tr>\n",
       "      <th>0</th>\n",
       "      <td>1.2.276.0.7230010.3.1.4.8323329.6904.151787520...</td>\n",
       "      <td>-1</td>\n",
       "      <td>0</td>\n",
       "      <td>/media/4tb_hdd/siim/dicom-images-train/1.2.276...</td>\n",
       "      <td>NaN</td>\n",
       "      <td>train</td>\n",
       "      <td>nan</td>\n",
       "      <td>nan</td>\n",
       "      <td>NaN</td>\n",
       "      <td>NaN</td>\n",
       "      <td>NaN</td>\n",
       "      <td>NaN</td>\n",
       "      <td>NaN</td>\n",
       "      <td>'0'</td>\n",
       "      <td>MedicalVolumeCell([PosixPath('/media/4tb_hdd/s...</td>\n",
       "      <td>MedicalVolumeCell([PosixPath('/media/4tb_hdd/s...</td>\n",
       "    </tr>\n",
       "    <tr>\n",
       "      <th>1</th>\n",
       "      <td>1.2.276.0.7230010.3.1.4.8323329.13666.15178752...</td>\n",
       "      <td>557374 2 1015 8 1009 14 1002 20 997 26 990 32 ...</td>\n",
       "      <td>1</td>\n",
       "      <td>/media/4tb_hdd/siim/dicom-images-train/1.2.276...</td>\n",
       "      <td>NaN</td>\n",
       "      <td>train</td>\n",
       "      <td>nan</td>\n",
       "      <td>nan</td>\n",
       "      <td>NaN</td>\n",
       "      <td>NaN</td>\n",
       "      <td>NaN</td>\n",
       "      <td>NaN</td>\n",
       "      <td>NaN</td>\n",
       "      <td>'1'</td>\n",
       "      <td>MedicalVolumeCell([PosixPath('/media/4tb_hdd/s...</td>\n",
       "      <td>MedicalVolumeCell([PosixPath('/media/4tb_hdd/s...</td>\n",
       "    </tr>\n",
       "    <tr>\n",
       "      <th>2</th>\n",
       "      <td>1.2.276.0.7230010.3.1.4.8323329.11028.15178752...</td>\n",
       "      <td>-1</td>\n",
       "      <td>0</td>\n",
       "      <td>/media/4tb_hdd/siim/dicom-images-train/1.2.276...</td>\n",
       "      <td>NaN</td>\n",
       "      <td>train</td>\n",
       "      <td>nan</td>\n",
       "      <td>nan</td>\n",
       "      <td>NaN</td>\n",
       "      <td>NaN</td>\n",
       "      <td>NaN</td>\n",
       "      <td>NaN</td>\n",
       "      <td>NaN</td>\n",
       "      <td>'2'</td>\n",
       "      <td>MedicalVolumeCell([PosixPath('/media/4tb_hdd/s...</td>\n",
       "      <td>MedicalVolumeCell([PosixPath('/media/4tb_hdd/s...</td>\n",
       "    </tr>\n",
       "    <tr>\n",
       "      <th>3</th>\n",
       "      <td>1.2.276.0.7230010.3.1.4.8323329.10366.15178752...</td>\n",
       "      <td>514175 10 1008 29 994 30 993 32 991 33 990 34 ...</td>\n",
       "      <td>1</td>\n",
       "      <td>/media/4tb_hdd/siim/dicom-images-train/1.2.276...</td>\n",
       "      <td>NaN</td>\n",
       "      <td>train</td>\n",
       "      <td>nan</td>\n",
       "      <td>nan</td>\n",
       "      <td>NaN</td>\n",
       "      <td>NaN</td>\n",
       "      <td>NaN</td>\n",
       "      <td>NaN</td>\n",
       "      <td>NaN</td>\n",
       "      <td>'3'</td>\n",
       "      <td>MedicalVolumeCell([PosixPath('/media/4tb_hdd/s...</td>\n",
       "      <td>MedicalVolumeCell([PosixPath('/media/4tb_hdd/s...</td>\n",
       "    </tr>\n",
       "    <tr>\n",
       "      <th>4</th>\n",
       "      <td>1.2.276.0.7230010.3.1.4.8323329.10016.15178752...</td>\n",
       "      <td>592184 33 976 58 956 73 941 88 926 102 917 109...</td>\n",
       "      <td>1</td>\n",
       "      <td>/media/4tb_hdd/siim/dicom-images-train/1.2.276...</td>\n",
       "      <td>NaN</td>\n",
       "      <td>train</td>\n",
       "      <td>nan</td>\n",
       "      <td>nan</td>\n",
       "      <td>NaN</td>\n",
       "      <td>NaN</td>\n",
       "      <td>NaN</td>\n",
       "      <td>NaN</td>\n",
       "      <td>NaN</td>\n",
       "      <td>'4'</td>\n",
       "      <td>MedicalVolumeCell([PosixPath('/media/4tb_hdd/s...</td>\n",
       "      <td>MedicalVolumeCell([PosixPath('/media/4tb_hdd/s...</td>\n",
       "    </tr>\n",
       "  </tbody>\n",
       "</table>\n",
       "</div>"
      ]
     },
     "metadata": {},
     "execution_count": 2
    }
   ],
   "metadata": {}
  },
  {
   "cell_type": "code",
   "execution_count": 8,
   "source": [
    "# consider train mask to have real tube label \n",
    "train_mask = np.logical_and(~np.isnan(dp[\"chest_tube\"].data), dp[\"split\"].data==\"train\")\n",
    "test_mask = np.logical_and(~np.isnan(dp[\"chest_tube\"].data), dp[\"split\"].data==\"test\")\n",
    "print(f\"Number in train: {train_mask.sum()}\")\n",
    "print(f\"Number in test: {test_mask.sum()}\")\n",
    "\n",
    "train_dp = dp[train_mask]\n",
    "test_dp = dp[test_mask]"
   ],
   "outputs": [
    {
     "output_type": "stream",
     "name": "stdout",
     "text": [
      "Number in train: 951\n",
      "Number in test: 1000\n"
     ]
    }
   ],
   "metadata": {}
  },
  {
   "cell_type": "code",
   "execution_count": 10,
   "source": [
    "# print number of tubes in each class in train\n",
    "\n",
    "def print_tube_subclass_count(train_dp):\n",
    "    pos_tube_mask = np.logical_and(train_dp[\"pmx\"].data==1,train_dp[\"chest_tube\"].data==1)\n",
    "    pos_notube_mask = np.logical_and(train_dp[\"pmx\"].data==1,train_dp[\"chest_tube\"].data==0)\n",
    "    neg_tube_mask = np.logical_and(train_dp[\"pmx\"].data==0,train_dp[\"chest_tube\"].data==1)\n",
    "    neg_notube_mask = np.logical_and(train_dp[\"pmx\"].data==0,train_dp[\"chest_tube\"].data==0)\n",
    "\n",
    "    print(f\"Positive, Tubes: {pos_tube_mask.sum()}\")\n",
    "    print(f\"Positive, No Tubes: {pos_notube_mask.sum()}\")\n",
    "    print(f\"Negative, Tubes: {neg_tube_mask.sum()}\")\n",
    "    print(f\"Negative, No Tubes: {neg_notube_mask.sum()}\")\n",
    "\n",
    "print_tube_subclass_count(train_dp)"
   ],
   "outputs": [
    {
     "output_type": "stream",
     "name": "stdout",
     "text": [
      "Positive, Tubes: 151\n",
      "Positive, No Tubes: 54\n",
      "Negative, Tubes: 107\n",
      "Negative, No Tubes: 639\n"
     ]
    }
   ],
   "metadata": {}
  },
  {
   "cell_type": "code",
   "execution_count": 24,
   "source": [
    "# randomly sample such that number of images is roughly the same in each subclass\n",
    "np.random.seed(0)\n",
    "retained_ndxs = []\n",
    "for ndx in range(len(train_dp)):\n",
    "    pmx = train_dp[ndx][\"pmx\"]\n",
    "    tube = train_dp[ndx][\"chest_tube\"]\n",
    "    keep = True\n",
    "    if pmx and tube and np.random.rand()>0.3:\n",
    "        keep = False\n",
    "    if not pmx and not tube and np.random.rand()>0.15:\n",
    "        keep = False\n",
    "\n",
    "    if keep:\n",
    "        retained_ndxs.append(ndx)\n",
    "\n",
    "resampled_train_dp = train_dp[retained_ndxs]\n",
    "print_tube_subclass_count(resampled_train_dp)"
   ],
   "outputs": [
    {
     "output_type": "stream",
     "name": "stdout",
     "text": [
      "Positive, Tubes: 52\n",
      "Positive, No Tubes: 54\n",
      "Negative, Tubes: 107\n",
      "Negative, No Tubes: 105\n"
     ]
    }
   ],
   "metadata": {}
  },
  {
   "cell_type": "code",
   "execution_count": 33,
   "source": [
    "# merge resampled_train and test, then save dp\n",
    "resampled_dp = resampled_train_dp.append(test_dp)\n",
    "print(f\"length of resampled_dp: {len(resampled_dp)}\")\n",
    "\n",
    "mk.DataPanel.write(resampled_dp,path=\"/media/4tb_hdd/siim/balanced_dp_08-06-21.dp\")"
   ],
   "outputs": [
    {
     "output_type": "stream",
     "name": "stdout",
     "text": [
      "length of resampled_dp: 1318\n"
     ]
    }
   ],
   "metadata": {}
  },
  {
   "cell_type": "markdown",
   "source": [
    "## Correlation between tubes and abnormal area"
   ],
   "metadata": {}
  },
  {
   "cell_type": "code",
   "execution_count": 37,
   "source": [
    "dp_ = resampled_train_dp\n",
    "pos_tube_mask = np.logical_and(dp_[\"pmx\"].data==1,dp_[\"chest_tube\"].data==1)\n",
    "pos_notube_mask = np.logical_and(dp_[\"pmx\"].data==1,dp_[\"chest_tube\"].data==0)\n",
    "rle_1 = dp_[\"encoded_pixels\"][pos_tube_mask]\n",
    "rle_2 = dp_[\"encoded_pixels\"][pos_notube_mask]\n",
    "\n",
    "segmasks_1 = np.array([rle2mask(rle,1024,1024).T for rle in rle_1 if rle!='-1'])\n",
    "segmasks_2 = np.array([rle2mask(rle,1024,1024).T for rle in rle_2 if rle!='-1'])\n",
    "\n",
    "abn_size1 = segmasks_1.mean((1,2))\n",
    "abn_size2 = segmasks_2.mean((1,2))\n",
    "\n",
    "print(f\"Average abnormal area for pos tube: {abn_size1.mean():.4f}\")\n",
    "print(f\"Average abnormal area for pos no tube: {abn_size2.mean():.4f}\")\n",
    "\n",
    "from scipy.stats import ttest_ind\n",
    "\n",
    "print(f\"p-value: {ttest_ind(abn_size1,abn_size2)[1]:.4f}\")"
   ],
   "outputs": [
    {
     "output_type": "stream",
     "name": "stdout",
     "text": [
      "Average abnormal area for pos tube: 0.0107\n",
      "Average abnormal area for pos no tube: 0.0116\n",
      "p-value: 0.7565\n"
     ]
    }
   ],
   "metadata": {}
  },
  {
   "cell_type": "code",
   "execution_count": null,
   "source": [],
   "outputs": [],
   "metadata": {}
  }
 ],
 "metadata": {
  "orig_nbformat": 4,
  "language_info": {
   "name": "python",
   "version": "3.8.10",
   "mimetype": "text/x-python",
   "codemirror_mode": {
    "name": "ipython",
    "version": 3
   },
   "pygments_lexer": "ipython3",
   "nbconvert_exporter": "python",
   "file_extension": ".py"
  },
  "kernelspec": {
   "name": "python3",
   "display_name": "Python 3.8.10 64-bit ('domino': conda)"
  },
  "interpreter": {
   "hash": "b006b217e8cb0199fc13ea6a087b3b77c18ca9d2bc7dc9a8383728a63838a653"
  }
 },
 "nbformat": 4,
 "nbformat_minor": 2
}