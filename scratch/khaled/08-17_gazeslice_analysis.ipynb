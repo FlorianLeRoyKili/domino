{
 "cells": [
  {
   "cell_type": "code",
   "execution_count": 1,
   "source": [
    "import numpy as np \n",
    "import matplotlib.pyplot as plt\n",
    "from sklearn.metrics import roc_auc_score, precision_score, accuracy_score, f1_score, recall_score\n",
    "from sklearn.linear_model import LogisticRegression, LinearRegression, Ridge\n",
    "\n",
    "from domino.data.cxr import get_dp, build_cxr_df, get_cxr_activations, rle2mask\n",
    "import meerkat as mk\n",
    "import pandas as pd\n",
    "\n",
    "from scipy.stats import ttest_ind\n",
    "\n",
    "import pydicom"
   ],
   "outputs": [],
   "metadata": {}
  },
  {
   "cell_type": "markdown",
   "source": [
    "# Load CXR-gaze data with Meerkat datapanel"
   ],
   "metadata": {}
  },
  {
   "cell_type": "code",
   "execution_count": 2,
   "source": [
    "# Get a mosaic DataPanel with the data.\n",
    "df = build_cxr_df(root_dir=\"/media/4tb_hdd/siim\").load() #.out(load=True)\n",
    "dp = get_dp(df)\n",
    "print(f\"Number of rows: {len(dp)}\")\n",
    "dp.head()\n",
    "\n",
    "# dp = mk.DataPanel.read(path=\"/media/4tb_hdd/siim/gazeslicer_dp_08-18-21.dp\")\n",
    "# print(len(dp))\n",
    "# dp.head()"
   ],
   "outputs": [
    {
     "output_type": "stream",
     "name": "stdout",
     "text": [
      "task: build_cxr_df, run_id=186\n",
      "task: create_gaze_df, run_id=187\n",
      "Number of rows: 12047\n"
     ]
    },
    {
     "output_type": "execute_result",
     "data": {
      "text/plain": [
       "DataPanel(num_rows: 5)"
      ],
      "text/html": [
       "<div>\n",
       "<style scoped>\n",
       "    .dataframe tbody tr th:only-of-type {\n",
       "        vertical-align: middle;\n",
       "    }\n",
       "\n",
       "    .dataframe tbody tr th {\n",
       "        vertical-align: top;\n",
       "    }\n",
       "\n",
       "    .dataframe thead th {\n",
       "        text-align: right;\n",
       "    }\n",
       "</style>\n",
       "<table border=\"1\" class=\"dataframe\">\n",
       "  <thead>\n",
       "    <tr style=\"text-align: right;\">\n",
       "      <th></th>\n",
       "      <th>image_id (NumpyArrayColumn)</th>\n",
       "      <th>encoded_pixels (NumpyArrayColumn)</th>\n",
       "      <th>pmx (NumpyArrayColumn)</th>\n",
       "      <th>filepath (NumpyArrayColumn)</th>\n",
       "      <th>chest_tube (NumpyArrayColumn)</th>\n",
       "      <th>split (NumpyArrayColumn)</th>\n",
       "      <th>gaze_seq (NumpyArrayColumn)</th>\n",
       "      <th>gaze_heatmap (NumpyArrayColumn)</th>\n",
       "      <th>gaze_max_visit (NumpyArrayColumn)</th>\n",
       "      <th>gaze_unique (NumpyArrayColumn)</th>\n",
       "      <th>gaze_time (NumpyArrayColumn)</th>\n",
       "      <th>gaze_diffusivity (NumpyArrayColumn)</th>\n",
       "      <th>expert_label (NumpyArrayColumn)</th>\n",
       "      <th>index (ListColumn)</th>\n",
       "      <th>input (CellColumn)</th>\n",
       "      <th>img (CellColumn)</th>\n",
       "    </tr>\n",
       "  </thead>\n",
       "  <tbody>\n",
       "    <tr>\n",
       "      <th>0</th>\n",
       "      <td>1.2.276.0.7230010.3.1.4.8323329.6904.151787520...</td>\n",
       "      <td>-1</td>\n",
       "      <td>0</td>\n",
       "      <td>/media/4tb_hdd/siim/dicom-images-train/1.2.276...</td>\n",
       "      <td>NaN</td>\n",
       "      <td>train</td>\n",
       "      <td>nan</td>\n",
       "      <td>nan</td>\n",
       "      <td>NaN</td>\n",
       "      <td>NaN</td>\n",
       "      <td>NaN</td>\n",
       "      <td>NaN</td>\n",
       "      <td>NaN</td>\n",
       "      <td>'0'</td>\n",
       "      <td>MedicalVolumeCell([PosixPath('/media/4tb_hdd/s...</td>\n",
       "      <td>MedicalVolumeCell([PosixPath('/media/4tb_hdd/s...</td>\n",
       "    </tr>\n",
       "    <tr>\n",
       "      <th>1</th>\n",
       "      <td>1.2.276.0.7230010.3.1.4.8323329.13666.15178752...</td>\n",
       "      <td>557374 2 1015 8 1009 14 1002 20 997 26 990 32 ...</td>\n",
       "      <td>1</td>\n",
       "      <td>/media/4tb_hdd/siim/dicom-images-train/1.2.276...</td>\n",
       "      <td>NaN</td>\n",
       "      <td>train</td>\n",
       "      <td>nan</td>\n",
       "      <td>nan</td>\n",
       "      <td>NaN</td>\n",
       "      <td>NaN</td>\n",
       "      <td>NaN</td>\n",
       "      <td>NaN</td>\n",
       "      <td>NaN</td>\n",
       "      <td>'1'</td>\n",
       "      <td>MedicalVolumeCell([PosixPath('/media/4tb_hdd/s...</td>\n",
       "      <td>MedicalVolumeCell([PosixPath('/media/4tb_hdd/s...</td>\n",
       "    </tr>\n",
       "    <tr>\n",
       "      <th>2</th>\n",
       "      <td>1.2.276.0.7230010.3.1.4.8323329.11028.15178752...</td>\n",
       "      <td>-1</td>\n",
       "      <td>0</td>\n",
       "      <td>/media/4tb_hdd/siim/dicom-images-train/1.2.276...</td>\n",
       "      <td>NaN</td>\n",
       "      <td>train</td>\n",
       "      <td>nan</td>\n",
       "      <td>nan</td>\n",
       "      <td>NaN</td>\n",
       "      <td>NaN</td>\n",
       "      <td>NaN</td>\n",
       "      <td>NaN</td>\n",
       "      <td>NaN</td>\n",
       "      <td>'2'</td>\n",
       "      <td>MedicalVolumeCell([PosixPath('/media/4tb_hdd/s...</td>\n",
       "      <td>MedicalVolumeCell([PosixPath('/media/4tb_hdd/s...</td>\n",
       "    </tr>\n",
       "    <tr>\n",
       "      <th>3</th>\n",
       "      <td>1.2.276.0.7230010.3.1.4.8323329.10366.15178752...</td>\n",
       "      <td>514175 10 1008 29 994 30 993 32 991 33 990 34 ...</td>\n",
       "      <td>1</td>\n",
       "      <td>/media/4tb_hdd/siim/dicom-images-train/1.2.276...</td>\n",
       "      <td>NaN</td>\n",
       "      <td>train</td>\n",
       "      <td>nan</td>\n",
       "      <td>nan</td>\n",
       "      <td>NaN</td>\n",
       "      <td>NaN</td>\n",
       "      <td>NaN</td>\n",
       "      <td>NaN</td>\n",
       "      <td>NaN</td>\n",
       "      <td>'3'</td>\n",
       "      <td>MedicalVolumeCell([PosixPath('/media/4tb_hdd/s...</td>\n",
       "      <td>MedicalVolumeCell([PosixPath('/media/4tb_hdd/s...</td>\n",
       "    </tr>\n",
       "    <tr>\n",
       "      <th>4</th>\n",
       "      <td>1.2.276.0.7230010.3.1.4.8323329.10016.15178752...</td>\n",
       "      <td>592184 33 976 58 956 73 941 88 926 102 917 109...</td>\n",
       "      <td>1</td>\n",
       "      <td>/media/4tb_hdd/siim/dicom-images-train/1.2.276...</td>\n",
       "      <td>NaN</td>\n",
       "      <td>train</td>\n",
       "      <td>nan</td>\n",
       "      <td>nan</td>\n",
       "      <td>NaN</td>\n",
       "      <td>NaN</td>\n",
       "      <td>NaN</td>\n",
       "      <td>NaN</td>\n",
       "      <td>NaN</td>\n",
       "      <td>'4'</td>\n",
       "      <td>MedicalVolumeCell([PosixPath('/media/4tb_hdd/s...</td>\n",
       "      <td>MedicalVolumeCell([PosixPath('/media/4tb_hdd/s...</td>\n",
       "    </tr>\n",
       "  </tbody>\n",
       "</table>\n",
       "</div>"
      ]
     },
     "metadata": {},
     "execution_count": 2
    }
   ],
   "metadata": {}
  },
  {
   "cell_type": "code",
   "execution_count": 3,
   "source": [
    "#dp[\"input\"].write(path=\"/media/4tb_hdd/siim/default_dp_08-19-21.dp\")\n",
    "#mk.DataPanel.write(dp,path=\"/media/4tb_hdd/siim/default_dp_08-19-21.dp\")"
   ],
   "outputs": [],
   "metadata": {}
  },
  {
   "cell_type": "code",
   "execution_count": 4,
   "source": [
    "#dp_ = mk.DataPanel.read(path=\"/media/4tb_hdd/siim/default_dp_08-19-21.dp\")"
   ],
   "outputs": [],
   "metadata": {}
  },
  {
   "cell_type": "markdown",
   "source": [
    "## Gaze analysis with pneumothorax area"
   ],
   "metadata": {}
  },
  {
   "cell_type": "code",
   "execution_count": 5,
   "source": [
    "train_mask = np.array((dp[\"gaze_seq\"].data!=\"nan\"))\n",
    "train_dp = dp[train_mask]\n",
    "train_tubes = dp[\"chest_tube\"][train_mask].data"
   ],
   "outputs": [],
   "metadata": {}
  },
  {
   "cell_type": "code",
   "execution_count": 6,
   "source": [
    "train_age = np.array([int(pydicom.dcmread(img_pth).PatientAge) for img_pth in dp[\"filepath\"][train_mask].data])\n",
    "train_female = np.array([pydicom.dcmread(img_pth).PatientSex=='F' for img_pth in dp[\"filepath\"][train_mask].data])"
   ],
   "outputs": [],
   "metadata": {}
  },
  {
   "cell_type": "code",
   "execution_count": 7,
   "source": [
    "gaze_name = \"gaze_time\"\n",
    "\n",
    "abn_size = np.array([rle2mask(rle,1024,1024).mean() if rle!='-1' else 0 for rle in train_dp[\"encoded_pixels\"]])\n",
    "abn_size -= abn_size.min()\n",
    "abn_size /= abn_size.max()\n",
    "\n",
    "\n",
    "gaze_feat = train_dp[gaze_name] \n",
    "pos_mask = train_dp[\"pmx\"].data ==1"
   ],
   "outputs": [],
   "metadata": {}
  },
  {
   "cell_type": "code",
   "execution_count": 8,
   "source": [
    "print(train_female.mean())\n",
    "print(train_female[pos_mask].mean())"
   ],
   "outputs": [
    {
     "output_type": "stream",
     "name": "stdout",
     "text": [
      "0.43007360672975814\n",
      "0.37073170731707317\n"
     ]
    }
   ],
   "metadata": {}
  },
  {
   "cell_type": "code",
   "execution_count": 9,
   "source": [
    "plt.scatter(gaze_feat[pos_mask], abn_size[pos_mask], s=10)\n",
    "plt.xlabel(gaze_name)\n",
    "plt.ylabel(\"pmx size\")\n",
    "plt.show()"
   ],
   "outputs": [
    {
     "output_type": "display_data",
     "data": {
      "text/plain": [
       "<Figure size 432x288 with 1 Axes>"
      ],
      "image/svg+xml": "<?xml version=\"1.0\" encoding=\"utf-8\" standalone=\"no\"?>\n<!DOCTYPE svg PUBLIC \"-//W3C//DTD SVG 1.1//EN\"\n  \"http://www.w3.org/Graphics/SVG/1.1/DTD/svg11.dtd\">\n<svg height=\"274.255pt\" version=\"1.1\" viewBox=\"0 0 410.119746 274.255\" width=\"410.119746pt\" xmlns=\"http://www.w3.org/2000/svg\" xmlns:xlink=\"http://www.w3.org/1999/xlink\">\n <metadata>\n  <rdf:RDF xmlns:cc=\"http://creativecommons.org/ns#\" xmlns:dc=\"http://purl.org/dc/elements/1.1/\" xmlns:rdf=\"http://www.w3.org/1999/02/22-rdf-syntax-ns#\">\n   <cc:Work>\n    <dc:type rdf:resource=\"http://purl.org/dc/dcmitype/StillImage\"/>\n    <dc:date>2021-08-27T13:58:25.644666</dc:date>\n    <dc:format>image/svg+xml</dc:format>\n    <dc:creator>\n     <cc:Agent>\n      <dc:title>Matplotlib v3.4.2, https://matplotlib.org/</dc:title>\n     </cc:Agent>\n    </dc:creator>\n   </cc:Work>\n  </rdf:RDF>\n </metadata>\n <defs>\n  <style type=\"text/css\">*{stroke-linecap:butt;stroke-linejoin:round;}</style>\n </defs>\n <g id=\"figure_1\">\n  <g id=\"patch_1\">\n   <path d=\"M 0 274.255 \nL 410.119746 274.255 \nL 410.119746 0 \nL 0 0 \nz\n\" style=\"fill:none;\"/>\n  </g>\n  <g id=\"axes_1\">\n   <g id=\"patch_2\">\n    <path d=\"M 59.13 224.64 \nL 393.93 224.64 \nL 393.93 7.2 \nL 59.13 7.2 \nz\n\" style=\"fill:#ffffff;\"/>\n   </g>\n   <g id=\"PathCollection_1\">\n    <defs>\n     <path d=\"M 0 1.581139 \nC 0.419323 1.581139 0.821528 1.41454 1.118034 1.118034 \nC 1.41454 0.821528 1.581139 0.419323 1.581139 0 \nC 1.581139 -0.419323 1.41454 -0.821528 1.118034 -1.118034 \nC 0.821528 -1.41454 0.419323 -1.581139 0 -1.581139 \nC -0.419323 -1.581139 -0.821528 -1.41454 -1.118034 -1.118034 \nC -1.41454 -0.821528 -1.581139 -0.419323 -1.581139 0 \nC -1.581139 0.419323 -1.41454 0.821528 -1.118034 1.118034 \nC -0.821528 1.41454 -0.419323 1.581139 0 1.581139 \nz\n\" id=\"mbf3fa250b1\" style=\"stroke:#1f77b4;\"/>\n    </defs>\n    <g clip-path=\"url(#p998e86141b)\">\n     <use style=\"fill:#1f77b4;stroke:#1f77b4;\" x=\"82.387976\" xlink:href=\"#mbf3fa250b1\" y=\"204.840288\"/>\n     <use style=\"fill:#1f77b4;stroke:#1f77b4;\" x=\"137.517993\" xlink:href=\"#mbf3fa250b1\" y=\"209.526279\"/>\n     <use style=\"fill:#1f77b4;stroke:#1f77b4;\" x=\"134.072366\" xlink:href=\"#mbf3fa250b1\" y=\"196.642016\"/>\n     <use style=\"fill:#1f77b4;stroke:#1f77b4;\" x=\"154.746124\" xlink:href=\"#mbf3fa250b1\" y=\"205.947645\"/>\n     <use style=\"fill:#1f77b4;stroke:#1f77b4;\" x=\"144.409245\" xlink:href=\"#mbf3fa250b1\" y=\"203.311222\"/>\n     <use style=\"fill:#1f77b4;stroke:#1f77b4;\" x=\"122.586948\" xlink:href=\"#mbf3fa250b1\" y=\"208.410075\"/>\n     <use style=\"fill:#1f77b4;stroke:#1f77b4;\" x=\"95.021938\" xlink:href=\"#mbf3fa250b1\" y=\"195.509593\"/>\n     <use style=\"fill:#1f77b4;stroke:#1f77b4;\" x=\"153.597586\" xlink:href=\"#mbf3fa250b1\" y=\"210.803204\"/>\n     <use style=\"fill:#1f77b4;stroke:#1f77b4;\" x=\"89.279229\" xlink:href=\"#mbf3fa250b1\" y=\"211.005212\"/>\n     <use style=\"fill:#1f77b4;stroke:#1f77b4;\" x=\"96.170481\" xlink:href=\"#mbf3fa250b1\" y=\"181.158193\"/>\n     <use style=\"fill:#1f77b4;stroke:#1f77b4;\" x=\"88.130687\" xlink:href=\"#mbf3fa250b1\" y=\"185.948874\"/>\n     <use style=\"fill:#1f77b4;stroke:#1f77b4;\" x=\"286.828455\" xlink:href=\"#mbf3fa250b1\" y=\"204.800476\"/>\n     <use style=\"fill:#1f77b4;stroke:#1f77b4;\" x=\"163.934465\" xlink:href=\"#mbf3fa250b1\" y=\"213.907046\"/>\n     <use style=\"fill:#1f77b4;stroke:#1f77b4;\" x=\"128.329657\" xlink:href=\"#mbf3fa250b1\" y=\"211.527188\"/>\n     <use style=\"fill:#1f77b4;stroke:#1f77b4;\" x=\"191.499476\" xlink:href=\"#mbf3fa250b1\" y=\"203.644461\"/>\n     <use style=\"fill:#1f77b4;stroke:#1f77b4;\" x=\"116.844239\" xlink:href=\"#mbf3fa250b1\" y=\"207.161166\"/>\n     <use style=\"fill:#1f77b4;stroke:#1f77b4;\" x=\"115.695696\" xlink:href=\"#mbf3fa250b1\" y=\"204.490829\"/>\n     <use style=\"fill:#1f77b4;stroke:#1f77b4;\" x=\"144.409245\" xlink:href=\"#mbf3fa250b1\" y=\"197.703663\"/>\n     <use style=\"fill:#1f77b4;stroke:#1f77b4;\" x=\"134.072366\" xlink:href=\"#mbf3fa250b1\" y=\"192.702127\"/>\n     <use style=\"fill:#1f77b4;stroke:#1f77b4;\" x=\"378.711818\" xlink:href=\"#mbf3fa250b1\" y=\"188.126724\"/>\n     <use style=\"fill:#1f77b4;stroke:#1f77b4;\" x=\"100.764646\" xlink:href=\"#mbf3fa250b1\" y=\"203.39232\"/>\n     <use style=\"fill:#1f77b4;stroke:#1f77b4;\" x=\"93.873396\" xlink:href=\"#mbf3fa250b1\" y=\"200.562736\"/>\n     <use style=\"fill:#1f77b4;stroke:#1f77b4;\" x=\"83.536517\" xlink:href=\"#mbf3fa250b1\" y=\"153.803095\"/>\n     <use style=\"fill:#1f77b4;stroke:#1f77b4;\" x=\"112.250069\" xlink:href=\"#mbf3fa250b1\" y=\"189.512763\"/>\n     <use style=\"fill:#1f77b4;stroke:#1f77b4;\" x=\"98.467564\" xlink:href=\"#mbf3fa250b1\" y=\"210.518624\"/>\n     <use style=\"fill:#1f77b4;stroke:#1f77b4;\" x=\"105.358817\" xlink:href=\"#mbf3fa250b1\" y=\"166.654919\"/>\n     <use style=\"fill:#1f77b4;stroke:#1f77b4;\" x=\"126.032575\" xlink:href=\"#mbf3fa250b1\" y=\"207.71853\"/>\n     <use style=\"fill:#1f77b4;stroke:#1f77b4;\" x=\"112.250069\" xlink:href=\"#mbf3fa250b1\" y=\"212.551972\"/>\n     <use style=\"fill:#1f77b4;stroke:#1f77b4;\" x=\"116.844239\" xlink:href=\"#mbf3fa250b1\" y=\"194.561483\"/>\n     <use style=\"fill:#1f77b4;stroke:#1f77b4;\" x=\"155.894663\" xlink:href=\"#mbf3fa250b1\" y=\"211.58027\"/>\n     <use style=\"fill:#1f77b4;stroke:#1f77b4;\" x=\"92.724855\" xlink:href=\"#mbf3fa250b1\" y=\"211.308961\"/>\n     <use style=\"fill:#1f77b4;stroke:#1f77b4;\" x=\"95.021938\" xlink:href=\"#mbf3fa250b1\" y=\"204.108931\"/>\n     <use style=\"fill:#1f77b4;stroke:#1f77b4;\" x=\"171.974256\" xlink:href=\"#mbf3fa250b1\" y=\"211.80587\"/>\n     <use style=\"fill:#1f77b4;stroke:#1f77b4;\" x=\"158.191751\" xlink:href=\"#mbf3fa250b1\" y=\"211.729196\"/>\n     <use style=\"fill:#1f77b4;stroke:#1f77b4;\" x=\"101.91319\" xlink:href=\"#mbf3fa250b1\" y=\"162.964222\"/>\n     <use style=\"fill:#1f77b4;stroke:#1f77b4;\" x=\"100.764646\" xlink:href=\"#mbf3fa250b1\" y=\"211.308961\"/>\n     <use style=\"fill:#1f77b4;stroke:#1f77b4;\" x=\"96.170481\" xlink:href=\"#mbf3fa250b1\" y=\"181.597597\"/>\n     <use style=\"fill:#1f77b4;stroke:#1f77b4;\" x=\"116.844239\" xlink:href=\"#mbf3fa250b1\" y=\"212.705321\"/>\n     <use style=\"fill:#1f77b4;stroke:#1f77b4;\" x=\"154.746124\" xlink:href=\"#mbf3fa250b1\" y=\"206.707017\"/>\n     <use style=\"fill:#1f77b4;stroke:#1f77b4;\" x=\"80.090891\" xlink:href=\"#mbf3fa250b1\" y=\"181.784859\"/>\n     <use style=\"fill:#1f77b4;stroke:#1f77b4;\" x=\"169.677169\" xlink:href=\"#mbf3fa250b1\" y=\"203.522077\"/>\n     <use style=\"fill:#1f77b4;stroke:#1f77b4;\" x=\"137.517993\" xlink:href=\"#mbf3fa250b1\" y=\"185.366443\"/>\n     <use style=\"fill:#1f77b4;stroke:#1f77b4;\" x=\"117.992778\" xlink:href=\"#mbf3fa250b1\" y=\"203.541245\"/>\n     <use style=\"fill:#1f77b4;stroke:#1f77b4;\" x=\"173.122795\" xlink:href=\"#mbf3fa250b1\" y=\"210.001071\"/>\n     <use style=\"fill:#1f77b4;stroke:#1f77b4;\" x=\"146.706333\" xlink:href=\"#mbf3fa250b1\" y=\"214.010262\"/>\n     <use style=\"fill:#1f77b4;stroke:#1f77b4;\" x=\"161.637377\" xlink:href=\"#mbf3fa250b1\" y=\"202.262846\"/>\n     <use style=\"fill:#1f77b4;stroke:#1f77b4;\" x=\"129.478201\" xlink:href=\"#mbf3fa250b1\" y=\"204.616163\"/>\n     <use style=\"fill:#1f77b4;stroke:#1f77b4;\" x=\"181.162597\" xlink:href=\"#mbf3fa250b1\" y=\"188.765187\"/>\n     <use style=\"fill:#1f77b4;stroke:#1f77b4;\" x=\"119.141322\" xlink:href=\"#mbf3fa250b1\" y=\"179.691056\"/>\n     <use style=\"fill:#1f77b4;stroke:#1f77b4;\" x=\"85.833602\" xlink:href=\"#mbf3fa250b1\" y=\"191.768762\"/>\n     <use style=\"fill:#1f77b4;stroke:#1f77b4;\" x=\"126.032575\" xlink:href=\"#mbf3fa250b1\" y=\"207.531268\"/>\n     <use style=\"fill:#1f77b4;stroke:#1f77b4;\" x=\"140.963619\" xlink:href=\"#mbf3fa250b1\" y=\"212.096349\"/>\n     <use style=\"fill:#1f77b4;stroke:#1f77b4;\" x=\"109.952987\" xlink:href=\"#mbf3fa250b1\" y=\"203.479316\"/>\n     <use style=\"fill:#1f77b4;stroke:#1f77b4;\" x=\"95.021938\" xlink:href=\"#mbf3fa250b1\" y=\"212.621274\"/>\n     <use style=\"fill:#1f77b4;stroke:#1f77b4;\" x=\"191.499476\" xlink:href=\"#mbf3fa250b1\" y=\"197.113859\"/>\n     <use style=\"fill:#1f77b4;stroke:#1f77b4;\" x=\"84.685061\" xlink:href=\"#mbf3fa250b1\" y=\"188.875775\"/>\n     <use style=\"fill:#1f77b4;stroke:#1f77b4;\" x=\"251.223663\" xlink:href=\"#mbf3fa250b1\" y=\"200.074674\"/>\n     <use style=\"fill:#1f77b4;stroke:#1f77b4;\" x=\"124.884031\" xlink:href=\"#mbf3fa250b1\" y=\"195.406377\"/>\n     <use style=\"fill:#1f77b4;stroke:#1f77b4;\" x=\"88.130687\" xlink:href=\"#mbf3fa250b1\" y=\"187.884905\"/>\n     <use style=\"fill:#1f77b4;stroke:#1f77b4;\" x=\"186.905301\" xlink:href=\"#mbf3fa250b1\" y=\"207.431001\"/>\n     <use style=\"fill:#1f77b4;stroke:#1f77b4;\" x=\"151.300498\" xlink:href=\"#mbf3fa250b1\" y=\"186.11107\"/>\n     <use style=\"fill:#1f77b4;stroke:#1f77b4;\" x=\"192.648014\" xlink:href=\"#mbf3fa250b1\" y=\"199.335945\"/>\n     <use style=\"fill:#1f77b4;stroke:#1f77b4;\" x=\"113.398613\" xlink:href=\"#mbf3fa250b1\" y=\"195.186675\"/>\n     <use style=\"fill:#1f77b4;stroke:#1f77b4;\" x=\"162.785916\" xlink:href=\"#mbf3fa250b1\" y=\"201.049324\"/>\n     <use style=\"fill:#1f77b4;stroke:#1f77b4;\" x=\"327.027443\" xlink:href=\"#mbf3fa250b1\" y=\"95.975786\"/>\n     <use style=\"fill:#1f77b4;stroke:#1f77b4;\" x=\"233.995531\" xlink:href=\"#mbf3fa250b1\" y=\"204.29472\"/>\n     <use style=\"fill:#1f77b4;stroke:#1f77b4;\" x=\"95.021938\" xlink:href=\"#mbf3fa250b1\" y=\"205.949119\"/>\n     <use style=\"fill:#1f77b4;stroke:#1f77b4;\" x=\"108.804443\" xlink:href=\"#mbf3fa250b1\" y=\"197.438251\"/>\n     <use style=\"fill:#1f77b4;stroke:#1f77b4;\" x=\"97.319023\" xlink:href=\"#mbf3fa250b1\" y=\"213.423407\"/>\n     <use style=\"fill:#1f77b4;stroke:#1f77b4;\" x=\"230.549904\" xlink:href=\"#mbf3fa250b1\" y=\"211.804396\"/>\n     <use style=\"fill:#1f77b4;stroke:#1f77b4;\" x=\"142.112158\" xlink:href=\"#mbf3fa250b1\" y=\"179.797221\"/>\n     <use style=\"fill:#1f77b4;stroke:#1f77b4;\" x=\"155.894663\" xlink:href=\"#mbf3fa250b1\" y=\"213.707987\"/>\n     <use style=\"fill:#1f77b4;stroke:#1f77b4;\" x=\"163.934465\" xlink:href=\"#mbf3fa250b1\" y=\"212.541651\"/>\n     <use style=\"fill:#1f77b4;stroke:#1f77b4;\" x=\"132.923828\" xlink:href=\"#mbf3fa250b1\" y=\"214.173932\"/>\n     <use style=\"fill:#1f77b4;stroke:#1f77b4;\" x=\"81.239435\" xlink:href=\"#mbf3fa250b1\" y=\"161.101916\"/>\n     <use style=\"fill:#1f77b4;stroke:#1f77b4;\" x=\"147.854872\" xlink:href=\"#mbf3fa250b1\" y=\"188.255007\"/>\n     <use style=\"fill:#1f77b4;stroke:#1f77b4;\" x=\"175.419883\" xlink:href=\"#mbf3fa250b1\" y=\"208.240507\"/>\n     <use style=\"fill:#1f77b4;stroke:#1f77b4;\" x=\"150.151959\" xlink:href=\"#mbf3fa250b1\" y=\"205.421245\"/>\n     <use style=\"fill:#1f77b4;stroke:#1f77b4;\" x=\"119.141322\" xlink:href=\"#mbf3fa250b1\" y=\"203.053183\"/>\n     <use style=\"fill:#1f77b4;stroke:#1f77b4;\" x=\"106.50736\" xlink:href=\"#mbf3fa250b1\" y=\"188.353799\"/>\n     <use style=\"fill:#1f77b4;stroke:#1f77b4;\" x=\"145.557784\" xlink:href=\"#mbf3fa250b1\" y=\"201.808697\"/>\n     <use style=\"fill:#1f77b4;stroke:#1f77b4;\" x=\"123.735492\" xlink:href=\"#mbf3fa250b1\" y=\"207.14937\"/>\n     <use style=\"fill:#1f77b4;stroke:#1f77b4;\" x=\"91.576311\" xlink:href=\"#mbf3fa250b1\" y=\"212.846874\"/>\n     <use style=\"fill:#1f77b4;stroke:#1f77b4;\" x=\"208.727598\" xlink:href=\"#mbf3fa250b1\" y=\"205.845903\"/>\n     <use style=\"fill:#1f77b4;stroke:#1f77b4;\" x=\"85.833602\" xlink:href=\"#mbf3fa250b1\" y=\"137.786974\"/>\n     <use style=\"fill:#1f77b4;stroke:#1f77b4;\" x=\"114.547152\" xlink:href=\"#mbf3fa250b1\" y=\"203.8273\"/>\n     <use style=\"fill:#1f77b4;stroke:#1f77b4;\" x=\"142.112158\" xlink:href=\"#mbf3fa250b1\" y=\"203.044336\"/>\n     <use style=\"fill:#1f77b4;stroke:#1f77b4;\" x=\"81.239435\" xlink:href=\"#mbf3fa250b1\" y=\"157.723815\"/>\n     <use style=\"fill:#1f77b4;stroke:#1f77b4;\" x=\"174.271344\" xlink:href=\"#mbf3fa250b1\" y=\"213.821525\"/>\n     <use style=\"fill:#1f77b4;stroke:#1f77b4;\" x=\"127.181114\" xlink:href=\"#mbf3fa250b1\" y=\"203.865637\"/>\n     <use style=\"fill:#1f77b4;stroke:#1f77b4;\" x=\"107.655899\" xlink:href=\"#mbf3fa250b1\" y=\"209.886059\"/>\n     <use style=\"fill:#1f77b4;stroke:#1f77b4;\" x=\"92.724855\" xlink:href=\"#mbf3fa250b1\" y=\"210.71031\"/>\n     <use style=\"fill:#1f77b4;stroke:#1f77b4;\" x=\"154.746124\" xlink:href=\"#mbf3fa250b1\" y=\"209.37293\"/>\n     <use style=\"fill:#1f77b4;stroke:#1f77b4;\" x=\"90.42777\" xlink:href=\"#mbf3fa250b1\" y=\"207.321887\"/>\n     <use style=\"fill:#1f77b4;stroke:#1f77b4;\" x=\"159.34029\" xlink:href=\"#mbf3fa250b1\" y=\"206.959158\"/>\n     <use style=\"fill:#1f77b4;stroke:#1f77b4;\" x=\"86.982143\" xlink:href=\"#mbf3fa250b1\" y=\"203.115112\"/>\n     <use style=\"fill:#1f77b4;stroke:#1f77b4;\" x=\"137.517993\" xlink:href=\"#mbf3fa250b1\" y=\"210.2134\"/>\n     <use style=\"fill:#1f77b4;stroke:#1f77b4;\" x=\"129.478201\" xlink:href=\"#mbf3fa250b1\" y=\"208.277369\"/>\n     <use style=\"fill:#1f77b4;stroke:#1f77b4;\" x=\"101.91319\" xlink:href=\"#mbf3fa250b1\" y=\"190.777892\"/>\n     <use style=\"fill:#1f77b4;stroke:#1f77b4;\" x=\"106.50736\" xlink:href=\"#mbf3fa250b1\" y=\"212.056537\"/>\n     <use style=\"fill:#1f77b4;stroke:#1f77b4;\" x=\"92.724855\" xlink:href=\"#mbf3fa250b1\" y=\"175.824893\"/>\n     <use style=\"fill:#1f77b4;stroke:#1f77b4;\" x=\"177.71697\" xlink:href=\"#mbf3fa250b1\" y=\"209.639816\"/>\n     <use style=\"fill:#1f77b4;stroke:#1f77b4;\" x=\"78.942349\" xlink:href=\"#mbf3fa250b1\" y=\"207.585825\"/>\n     <use style=\"fill:#1f77b4;stroke:#1f77b4;\" x=\"135.22091\" xlink:href=\"#mbf3fa250b1\" y=\"212.229055\"/>\n     <use style=\"fill:#1f77b4;stroke:#1f77b4;\" x=\"89.279229\" xlink:href=\"#mbf3fa250b1\" y=\"197.631412\"/>\n     <use style=\"fill:#1f77b4;stroke:#1f77b4;\" x=\"116.844239\" xlink:href=\"#mbf3fa250b1\" y=\"213.028239\"/>\n     <use style=\"fill:#1f77b4;stroke:#1f77b4;\" x=\"97.319023\" xlink:href=\"#mbf3fa250b1\" y=\"184.12638\"/>\n     <use style=\"fill:#1f77b4;stroke:#1f77b4;\" x=\"88.130687\" xlink:href=\"#mbf3fa250b1\" y=\"205.499394\"/>\n     <use style=\"fill:#1f77b4;stroke:#1f77b4;\" x=\"101.91319\" xlink:href=\"#mbf3fa250b1\" y=\"208.690232\"/>\n     <use style=\"fill:#1f77b4;stroke:#1f77b4;\" x=\"117.992778\" xlink:href=\"#mbf3fa250b1\" y=\"189.117595\"/>\n     <use style=\"fill:#1f77b4;stroke:#1f77b4;\" x=\"90.42777\" xlink:href=\"#mbf3fa250b1\" y=\"200.015693\"/>\n     <use style=\"fill:#1f77b4;stroke:#1f77b4;\" x=\"85.833602\" xlink:href=\"#mbf3fa250b1\" y=\"192.217013\"/>\n     <use style=\"fill:#1f77b4;stroke:#1f77b4;\" x=\"93.873396\" xlink:href=\"#mbf3fa250b1\" y=\"204.613214\"/>\n     <use style=\"fill:#1f77b4;stroke:#1f77b4;\" x=\"127.181114\" xlink:href=\"#mbf3fa250b1\" y=\"210.837118\"/>\n     <use style=\"fill:#1f77b4;stroke:#1f77b4;\" x=\"149.003411\" xlink:href=\"#mbf3fa250b1\" y=\"208.60766\"/>\n     <use style=\"fill:#1f77b4;stroke:#1f77b4;\" x=\"96.170481\" xlink:href=\"#mbf3fa250b1\" y=\"144.009404\"/>\n     <use style=\"fill:#1f77b4;stroke:#1f77b4;\" x=\"100.764646\" xlink:href=\"#mbf3fa250b1\" y=\"207.453119\"/>\n     <use style=\"fill:#1f77b4;stroke:#1f77b4;\" x=\"107.655899\" xlink:href=\"#mbf3fa250b1\" y=\"208.772805\"/>\n     <use style=\"fill:#1f77b4;stroke:#1f77b4;\" x=\"95.021938\" xlink:href=\"#mbf3fa250b1\" y=\"212.866043\"/>\n     <use style=\"fill:#1f77b4;stroke:#1f77b4;\" x=\"131.775284\" xlink:href=\"#mbf3fa250b1\" y=\"211.817666\"/>\n     <use style=\"fill:#1f77b4;stroke:#1f77b4;\" x=\"159.34029\" xlink:href=\"#mbf3fa250b1\" y=\"210.72653\"/>\n     <use style=\"fill:#1f77b4;stroke:#1f77b4;\" x=\"88.130687\" xlink:href=\"#mbf3fa250b1\" y=\"208.641573\"/>\n     <use style=\"fill:#1f77b4;stroke:#1f77b4;\" x=\"108.804443\" xlink:href=\"#mbf3fa250b1\" y=\"212.25707\"/>\n     <use style=\"fill:#1f77b4;stroke:#1f77b4;\" x=\"219.064477\" xlink:href=\"#mbf3fa250b1\" y=\"214.756364\"/>\n     <use style=\"fill:#1f77b4;stroke:#1f77b4;\" x=\"113.398613\" xlink:href=\"#mbf3fa250b1\" y=\"203.660681\"/>\n     <use style=\"fill:#1f77b4;stroke:#1f77b4;\" x=\"89.279229\" xlink:href=\"#mbf3fa250b1\" y=\"209.496789\"/>\n     <use style=\"fill:#1f77b4;stroke:#1f77b4;\" x=\"95.021938\" xlink:href=\"#mbf3fa250b1\" y=\"196.031569\"/>\n     <use style=\"fill:#1f77b4;stroke:#1f77b4;\" x=\"126.032575\" xlink:href=\"#mbf3fa250b1\" y=\"200.633513\"/>\n     <use style=\"fill:#1f77b4;stroke:#1f77b4;\" x=\"142.112158\" xlink:href=\"#mbf3fa250b1\" y=\"203.208006\"/>\n     <use style=\"fill:#1f77b4;stroke:#1f77b4;\" x=\"114.547152\" xlink:href=\"#mbf3fa250b1\" y=\"174.468344\"/>\n     <use style=\"fill:#1f77b4;stroke:#1f77b4;\" x=\"157.043212\" xlink:href=\"#mbf3fa250b1\" y=\"210.626263\"/>\n     <use style=\"fill:#1f77b4;stroke:#1f77b4;\" x=\"95.021938\" xlink:href=\"#mbf3fa250b1\" y=\"207.574028\"/>\n     <use style=\"fill:#1f77b4;stroke:#1f77b4;\" x=\"208.727598\" xlink:href=\"#mbf3fa250b1\" y=\"169.918008\"/>\n     <use style=\"fill:#1f77b4;stroke:#1f77b4;\" x=\"85.833602\" xlink:href=\"#mbf3fa250b1\" y=\"209.505636\"/>\n     <use style=\"fill:#1f77b4;stroke:#1f77b4;\" x=\"89.279229\" xlink:href=\"#mbf3fa250b1\" y=\"205.729417\"/>\n     <use style=\"fill:#1f77b4;stroke:#1f77b4;\" x=\"142.112158\" xlink:href=\"#mbf3fa250b1\" y=\"210.410984\"/>\n     <use style=\"fill:#1f77b4;stroke:#1f77b4;\" x=\"115.695696\" xlink:href=\"#mbf3fa250b1\" y=\"206.373778\"/>\n     <use style=\"fill:#1f77b4;stroke:#1f77b4;\" x=\"117.992778\" xlink:href=\"#mbf3fa250b1\" y=\"212.871941\"/>\n     <use style=\"fill:#1f77b4;stroke:#1f77b4;\" x=\"180.014048\" xlink:href=\"#mbf3fa250b1\" y=\"213.679972\"/>\n     <use style=\"fill:#1f77b4;stroke:#1f77b4;\" x=\"97.319023\" xlink:href=\"#mbf3fa250b1\" y=\"206.634766\"/>\n     <use style=\"fill:#1f77b4;stroke:#1f77b4;\" x=\"209.876146\" xlink:href=\"#mbf3fa250b1\" y=\"176.525284\"/>\n     <use style=\"fill:#1f77b4;stroke:#1f77b4;\" x=\"93.873396\" xlink:href=\"#mbf3fa250b1\" y=\"158.626215\"/>\n     <use style=\"fill:#1f77b4;stroke:#1f77b4;\" x=\"83.536517\" xlink:href=\"#mbf3fa250b1\" y=\"170.730463\"/>\n     <use style=\"fill:#1f77b4;stroke:#1f77b4;\" x=\"81.239435\" xlink:href=\"#mbf3fa250b1\" y=\"206.708491\"/>\n     <use style=\"fill:#1f77b4;stroke:#1f77b4;\" x=\"139.81508\" xlink:href=\"#mbf3fa250b1\" y=\"196.531428\"/>\n     <use style=\"fill:#1f77b4;stroke:#1f77b4;\" x=\"152.449037\" xlink:href=\"#mbf3fa250b1\" y=\"138.698221\"/>\n     <use style=\"fill:#1f77b4;stroke:#1f77b4;\" x=\"92.724855\" xlink:href=\"#mbf3fa250b1\" y=\"207.621213\"/>\n     <use style=\"fill:#1f77b4;stroke:#1f77b4;\" x=\"88.130687\" xlink:href=\"#mbf3fa250b1\" y=\"213.124082\"/>\n     <use style=\"fill:#1f77b4;stroke:#1f77b4;\" x=\"112.250069\" xlink:href=\"#mbf3fa250b1\" y=\"204.210673\"/>\n     <use style=\"fill:#1f77b4;stroke:#1f77b4;\" x=\"93.873396\" xlink:href=\"#mbf3fa250b1\" y=\"205.764805\"/>\n     <use style=\"fill:#1f77b4;stroke:#1f77b4;\" x=\"146.706333\" xlink:href=\"#mbf3fa250b1\" y=\"189.393328\"/>\n     <use style=\"fill:#1f77b4;stroke:#1f77b4;\" x=\"98.467564\" xlink:href=\"#mbf3fa250b1\" y=\"208.715299\"/>\n     <use style=\"fill:#1f77b4;stroke:#1f77b4;\" x=\"98.467564\" xlink:href=\"#mbf3fa250b1\" y=\"17.083636\"/>\n     <use style=\"fill:#1f77b4;stroke:#1f77b4;\" x=\"142.112158\" xlink:href=\"#mbf3fa250b1\" y=\"190.252967\"/>\n     <use style=\"fill:#1f77b4;stroke:#1f77b4;\" x=\"126.032575\" xlink:href=\"#mbf3fa250b1\" y=\"211.98871\"/>\n     <use style=\"fill:#1f77b4;stroke:#1f77b4;\" x=\"119.141322\" xlink:href=\"#mbf3fa250b1\" y=\"171.553239\"/>\n     <use style=\"fill:#1f77b4;stroke:#1f77b4;\" x=\"145.557784\" xlink:href=\"#mbf3fa250b1\" y=\"185.093658\"/>\n     <use style=\"fill:#1f77b4;stroke:#1f77b4;\" x=\"113.398613\" xlink:href=\"#mbf3fa250b1\" y=\"207.152319\"/>\n     <use style=\"fill:#1f77b4;stroke:#1f77b4;\" x=\"97.319023\" xlink:href=\"#mbf3fa250b1\" y=\"213.531046\"/>\n     <use style=\"fill:#1f77b4;stroke:#1f77b4;\" x=\"92.724855\" xlink:href=\"#mbf3fa250b1\" y=\"206.106892\"/>\n     <use style=\"fill:#1f77b4;stroke:#1f77b4;\" x=\"96.170481\" xlink:href=\"#mbf3fa250b1\" y=\"210.980145\"/>\n     <use style=\"fill:#1f77b4;stroke:#1f77b4;\" x=\"97.319023\" xlink:href=\"#mbf3fa250b1\" y=\"202.464853\"/>\n     <use style=\"fill:#1f77b4;stroke:#1f77b4;\" x=\"113.398613\" xlink:href=\"#mbf3fa250b1\" y=\"210.872506\"/>\n     <use style=\"fill:#1f77b4;stroke:#1f77b4;\" x=\"124.884031\" xlink:href=\"#mbf3fa250b1\" y=\"194.297546\"/>\n     <use style=\"fill:#1f77b4;stroke:#1f77b4;\" x=\"255.817818\" xlink:href=\"#mbf3fa250b1\" y=\"166.736017\"/>\n     <use style=\"fill:#1f77b4;stroke:#1f77b4;\" x=\"83.536517\" xlink:href=\"#mbf3fa250b1\" y=\"187.059179\"/>\n     <use style=\"fill:#1f77b4;stroke:#1f77b4;\" x=\"82.387976\" xlink:href=\"#mbf3fa250b1\" y=\"172.312611\"/>\n     <use style=\"fill:#1f77b4;stroke:#1f77b4;\" x=\"106.50736\" xlink:href=\"#mbf3fa250b1\" y=\"207.715581\"/>\n     <use style=\"fill:#1f77b4;stroke:#1f77b4;\" x=\"82.387976\" xlink:href=\"#mbf3fa250b1\" y=\"206.05086\"/>\n     <use style=\"fill:#1f77b4;stroke:#1f77b4;\" x=\"97.319023\" xlink:href=\"#mbf3fa250b1\" y=\"207.622687\"/>\n     <use style=\"fill:#1f77b4;stroke:#1f77b4;\" x=\"120.289866\" xlink:href=\"#mbf3fa250b1\" y=\"208.56195\"/>\n     <use style=\"fill:#1f77b4;stroke:#1f77b4;\" x=\"84.685061\" xlink:href=\"#mbf3fa250b1\" y=\"197.874706\"/>\n     <use style=\"fill:#1f77b4;stroke:#1f77b4;\" x=\"98.467564\" xlink:href=\"#mbf3fa250b1\" y=\"189.108748\"/>\n     <use style=\"fill:#1f77b4;stroke:#1f77b4;\" x=\"101.91319\" xlink:href=\"#mbf3fa250b1\" y=\"209.325746\"/>\n     <use style=\"fill:#1f77b4;stroke:#1f77b4;\" x=\"109.952987\" xlink:href=\"#mbf3fa250b1\" y=\"188.225516\"/>\n     <use style=\"fill:#1f77b4;stroke:#1f77b4;\" x=\"84.685061\" xlink:href=\"#mbf3fa250b1\" y=\"193.227052\"/>\n     <use style=\"fill:#1f77b4;stroke:#1f77b4;\" x=\"74.348182\" xlink:href=\"#mbf3fa250b1\" y=\"211.645149\"/>\n     <use style=\"fill:#1f77b4;stroke:#1f77b4;\" x=\"128.329657\" xlink:href=\"#mbf3fa250b1\" y=\"187.968952\"/>\n     <use style=\"fill:#1f77b4;stroke:#1f77b4;\" x=\"128.329657\" xlink:href=\"#mbf3fa250b1\" y=\"209.110467\"/>\n     <use style=\"fill:#1f77b4;stroke:#1f77b4;\" x=\"266.154697\" xlink:href=\"#mbf3fa250b1\" y=\"210.456694\"/>\n     <use style=\"fill:#1f77b4;stroke:#1f77b4;\" x=\"223.658652\" xlink:href=\"#mbf3fa250b1\" y=\"205.052617\"/>\n     <use style=\"fill:#1f77b4;stroke:#1f77b4;\" x=\"96.170481\" xlink:href=\"#mbf3fa250b1\" y=\"209.002828\"/>\n     <use style=\"fill:#1f77b4;stroke:#1f77b4;\" x=\"111.101526\" xlink:href=\"#mbf3fa250b1\" y=\"197.230345\"/>\n     <use style=\"fill:#1f77b4;stroke:#1f77b4;\" x=\"99.616108\" xlink:href=\"#mbf3fa250b1\" y=\"209.946514\"/>\n     <use style=\"fill:#1f77b4;stroke:#1f77b4;\" x=\"121.438405\" xlink:href=\"#mbf3fa250b1\" y=\"204.226892\"/>\n     <use style=\"fill:#1f77b4;stroke:#1f77b4;\" x=\"89.279229\" xlink:href=\"#mbf3fa250b1\" y=\"190.997594\"/>\n     <use style=\"fill:#1f77b4;stroke:#1f77b4;\" x=\"204.133432\" xlink:href=\"#mbf3fa250b1\" y=\"213.539893\"/>\n     <use style=\"fill:#1f77b4;stroke:#1f77b4;\" x=\"109.952987\" xlink:href=\"#mbf3fa250b1\" y=\"205.590813\"/>\n     <use style=\"fill:#1f77b4;stroke:#1f77b4;\" x=\"101.91319\" xlink:href=\"#mbf3fa250b1\" y=\"148.375426\"/>\n     <use style=\"fill:#1f77b4;stroke:#1f77b4;\" x=\"95.021938\" xlink:href=\"#mbf3fa250b1\" y=\"207.112507\"/>\n     <use style=\"fill:#1f77b4;stroke:#1f77b4;\" x=\"103.061734\" xlink:href=\"#mbf3fa250b1\" y=\"191.805625\"/>\n     <use style=\"fill:#1f77b4;stroke:#1f77b4;\" x=\"120.289866\" xlink:href=\"#mbf3fa250b1\" y=\"205.391755\"/>\n     <use style=\"fill:#1f77b4;stroke:#1f77b4;\" x=\"245.480939\" xlink:href=\"#mbf3fa250b1\" y=\"181.345456\"/>\n     <use style=\"fill:#1f77b4;stroke:#1f77b4;\" x=\"128.329657\" xlink:href=\"#mbf3fa250b1\" y=\"206.704068\"/>\n     <use style=\"fill:#1f77b4;stroke:#1f77b4;\" x=\"77.793808\" xlink:href=\"#mbf3fa250b1\" y=\"205.186798\"/>\n     <use style=\"fill:#1f77b4;stroke:#1f77b4;\" x=\"161.637377\" xlink:href=\"#mbf3fa250b1\" y=\"211.518341\"/>\n     <use style=\"fill:#1f77b4;stroke:#1f77b4;\" x=\"83.536517\" xlink:href=\"#mbf3fa250b1\" y=\"168.644032\"/>\n     <use style=\"fill:#1f77b4;stroke:#1f77b4;\" x=\"117.992778\" xlink:href=\"#mbf3fa250b1\" y=\"189.841579\"/>\n     <use style=\"fill:#1f77b4;stroke:#1f77b4;\" x=\"95.021938\" xlink:href=\"#mbf3fa250b1\" y=\"210.511251\"/>\n     <use style=\"fill:#1f77b4;stroke:#1f77b4;\" x=\"147.854872\" xlink:href=\"#mbf3fa250b1\" y=\"190.861939\"/>\n     <use style=\"fill:#1f77b4;stroke:#1f77b4;\" x=\"75.496723\" xlink:href=\"#mbf3fa250b1\" y=\"159.552207\"/>\n     <use style=\"fill:#1f77b4;stroke:#1f77b4;\" x=\"103.061734\" xlink:href=\"#mbf3fa250b1\" y=\"203.629716\"/>\n     <use style=\"fill:#1f77b4;stroke:#1f77b4;\" x=\"86.982143\" xlink:href=\"#mbf3fa250b1\" y=\"206.044962\"/>\n     <use style=\"fill:#1f77b4;stroke:#1f77b4;\" x=\"107.655899\" xlink:href=\"#mbf3fa250b1\" y=\"202.550375\"/>\n     <use style=\"fill:#1f77b4;stroke:#1f77b4;\" x=\"78.942349\" xlink:href=\"#mbf3fa250b1\" y=\"207.596146\"/>\n    </g>\n   </g>\n   <g id=\"matplotlib.axis_1\">\n    <g id=\"xtick_1\">\n     <g id=\"line2d_1\">\n      <defs>\n       <path d=\"M 0 0 \nL 0 3.5 \n\" id=\"m11a52ec2be\" style=\"stroke:#000000;stroke-width:0.8;\"/>\n      </defs>\n      <g>\n       <use style=\"stroke:#000000;stroke-width:0.8;\" x=\"122.816656\" xlink:href=\"#m11a52ec2be\" y=\"224.64\"/>\n      </g>\n     </g>\n     <g id=\"text_1\">\n      <!-- 0.2 -->\n      <g transform=\"translate(110.094156 243.7975)scale(0.16 -0.16)\">\n       <defs>\n        <path d=\"M 2034 4250 \nQ 1547 4250 1301 3770 \nQ 1056 3291 1056 2328 \nQ 1056 1369 1301 889 \nQ 1547 409 2034 409 \nQ 2525 409 2770 889 \nQ 3016 1369 3016 2328 \nQ 3016 3291 2770 3770 \nQ 2525 4250 2034 4250 \nz\nM 2034 4750 \nQ 2819 4750 3233 4129 \nQ 3647 3509 3647 2328 \nQ 3647 1150 3233 529 \nQ 2819 -91 2034 -91 \nQ 1250 -91 836 529 \nQ 422 1150 422 2328 \nQ 422 3509 836 4129 \nQ 1250 4750 2034 4750 \nz\n\" id=\"DejaVuSans-30\" transform=\"scale(0.015625)\"/>\n        <path d=\"M 684 794 \nL 1344 794 \nL 1344 0 \nL 684 0 \nL 684 794 \nz\n\" id=\"DejaVuSans-2e\" transform=\"scale(0.015625)\"/>\n        <path d=\"M 1228 531 \nL 3431 531 \nL 3431 0 \nL 469 0 \nL 469 531 \nQ 828 903 1448 1529 \nQ 2069 2156 2228 2338 \nQ 2531 2678 2651 2914 \nQ 2772 3150 2772 3378 \nQ 2772 3750 2511 3984 \nQ 2250 4219 1831 4219 \nQ 1534 4219 1204 4116 \nQ 875 4013 500 3803 \nL 500 4441 \nQ 881 4594 1212 4672 \nQ 1544 4750 1819 4750 \nQ 2544 4750 2975 4387 \nQ 3406 4025 3406 3419 \nQ 3406 3131 3298 2873 \nQ 3191 2616 2906 2266 \nQ 2828 2175 2409 1742 \nQ 1991 1309 1228 531 \nz\n\" id=\"DejaVuSans-32\" transform=\"scale(0.015625)\"/>\n       </defs>\n       <use xlink:href=\"#DejaVuSans-30\"/>\n       <use x=\"63.623047\" xlink:href=\"#DejaVuSans-2e\"/>\n       <use x=\"95.410156\" xlink:href=\"#DejaVuSans-32\"/>\n      </g>\n     </g>\n    </g>\n    <g id=\"xtick_2\">\n     <g id=\"line2d_2\">\n      <g>\n       <use style=\"stroke:#000000;stroke-width:0.8;\" x=\"189.661804\" xlink:href=\"#m11a52ec2be\" y=\"224.64\"/>\n      </g>\n     </g>\n     <g id=\"text_2\">\n      <!-- 0.4 -->\n      <g transform=\"translate(176.939304 243.7975)scale(0.16 -0.16)\">\n       <defs>\n        <path d=\"M 2419 4116 \nL 825 1625 \nL 2419 1625 \nL 2419 4116 \nz\nM 2253 4666 \nL 3047 4666 \nL 3047 1625 \nL 3713 1625 \nL 3713 1100 \nL 3047 1100 \nL 3047 0 \nL 2419 0 \nL 2419 1100 \nL 313 1100 \nL 313 1709 \nL 2253 4666 \nz\n\" id=\"DejaVuSans-34\" transform=\"scale(0.015625)\"/>\n       </defs>\n       <use xlink:href=\"#DejaVuSans-30\"/>\n       <use x=\"63.623047\" xlink:href=\"#DejaVuSans-2e\"/>\n       <use x=\"95.410156\" xlink:href=\"#DejaVuSans-34\"/>\n      </g>\n     </g>\n    </g>\n    <g id=\"xtick_3\">\n     <g id=\"line2d_3\">\n      <g>\n       <use style=\"stroke:#000000;stroke-width:0.8;\" x=\"256.506951\" xlink:href=\"#m11a52ec2be\" y=\"224.64\"/>\n      </g>\n     </g>\n     <g id=\"text_3\">\n      <!-- 0.6 -->\n      <g transform=\"translate(243.784451 243.7975)scale(0.16 -0.16)\">\n       <defs>\n        <path d=\"M 2113 2584 \nQ 1688 2584 1439 2293 \nQ 1191 2003 1191 1497 \nQ 1191 994 1439 701 \nQ 1688 409 2113 409 \nQ 2538 409 2786 701 \nQ 3034 994 3034 1497 \nQ 3034 2003 2786 2293 \nQ 2538 2584 2113 2584 \nz\nM 3366 4563 \nL 3366 3988 \nQ 3128 4100 2886 4159 \nQ 2644 4219 2406 4219 \nQ 1781 4219 1451 3797 \nQ 1122 3375 1075 2522 \nQ 1259 2794 1537 2939 \nQ 1816 3084 2150 3084 \nQ 2853 3084 3261 2657 \nQ 3669 2231 3669 1497 \nQ 3669 778 3244 343 \nQ 2819 -91 2113 -91 \nQ 1303 -91 875 529 \nQ 447 1150 447 2328 \nQ 447 3434 972 4092 \nQ 1497 4750 2381 4750 \nQ 2619 4750 2861 4703 \nQ 3103 4656 3366 4563 \nz\n\" id=\"DejaVuSans-36\" transform=\"scale(0.015625)\"/>\n       </defs>\n       <use xlink:href=\"#DejaVuSans-30\"/>\n       <use x=\"63.623047\" xlink:href=\"#DejaVuSans-2e\"/>\n       <use x=\"95.410156\" xlink:href=\"#DejaVuSans-36\"/>\n      </g>\n     </g>\n    </g>\n    <g id=\"xtick_4\">\n     <g id=\"line2d_4\">\n      <g>\n       <use style=\"stroke:#000000;stroke-width:0.8;\" x=\"323.352099\" xlink:href=\"#m11a52ec2be\" y=\"224.64\"/>\n      </g>\n     </g>\n     <g id=\"text_4\">\n      <!-- 0.8 -->\n      <g transform=\"translate(310.629599 243.7975)scale(0.16 -0.16)\">\n       <defs>\n        <path d=\"M 2034 2216 \nQ 1584 2216 1326 1975 \nQ 1069 1734 1069 1313 \nQ 1069 891 1326 650 \nQ 1584 409 2034 409 \nQ 2484 409 2743 651 \nQ 3003 894 3003 1313 \nQ 3003 1734 2745 1975 \nQ 2488 2216 2034 2216 \nz\nM 1403 2484 \nQ 997 2584 770 2862 \nQ 544 3141 544 3541 \nQ 544 4100 942 4425 \nQ 1341 4750 2034 4750 \nQ 2731 4750 3128 4425 \nQ 3525 4100 3525 3541 \nQ 3525 3141 3298 2862 \nQ 3072 2584 2669 2484 \nQ 3125 2378 3379 2068 \nQ 3634 1759 3634 1313 \nQ 3634 634 3220 271 \nQ 2806 -91 2034 -91 \nQ 1263 -91 848 271 \nQ 434 634 434 1313 \nQ 434 1759 690 2068 \nQ 947 2378 1403 2484 \nz\nM 1172 3481 \nQ 1172 3119 1398 2916 \nQ 1625 2713 2034 2713 \nQ 2441 2713 2670 2916 \nQ 2900 3119 2900 3481 \nQ 2900 3844 2670 4047 \nQ 2441 4250 2034 4250 \nQ 1625 4250 1398 4047 \nQ 1172 3844 1172 3481 \nz\n\" id=\"DejaVuSans-38\" transform=\"scale(0.015625)\"/>\n       </defs>\n       <use xlink:href=\"#DejaVuSans-30\"/>\n       <use x=\"63.623047\" xlink:href=\"#DejaVuSans-2e\"/>\n       <use x=\"95.410156\" xlink:href=\"#DejaVuSans-38\"/>\n      </g>\n     </g>\n    </g>\n    <g id=\"xtick_5\">\n     <g id=\"line2d_5\">\n      <g>\n       <use style=\"stroke:#000000;stroke-width:0.8;\" x=\"390.197246\" xlink:href=\"#m11a52ec2be\" y=\"224.64\"/>\n      </g>\n     </g>\n     <g id=\"text_5\">\n      <!-- 1.0 -->\n      <g transform=\"translate(377.474746 243.7975)scale(0.16 -0.16)\">\n       <defs>\n        <path d=\"M 794 531 \nL 1825 531 \nL 1825 4091 \nL 703 3866 \nL 703 4441 \nL 1819 4666 \nL 2450 4666 \nL 2450 531 \nL 3481 531 \nL 3481 0 \nL 794 0 \nL 794 531 \nz\n\" id=\"DejaVuSans-31\" transform=\"scale(0.015625)\"/>\n       </defs>\n       <use xlink:href=\"#DejaVuSans-31\"/>\n       <use x=\"63.623047\" xlink:href=\"#DejaVuSans-2e\"/>\n       <use x=\"95.410156\" xlink:href=\"#DejaVuSans-30\"/>\n      </g>\n     </g>\n    </g>\n    <g id=\"text_6\">\n     <!-- gaze_time -->\n     <g transform=\"translate(185.35375 263.2825)scale(0.16 -0.16)\">\n      <defs>\n       <path d=\"M 2906 1791 \nQ 2906 2416 2648 2759 \nQ 2391 3103 1925 3103 \nQ 1463 3103 1205 2759 \nQ 947 2416 947 1791 \nQ 947 1169 1205 825 \nQ 1463 481 1925 481 \nQ 2391 481 2648 825 \nQ 2906 1169 2906 1791 \nz\nM 3481 434 \nQ 3481 -459 3084 -895 \nQ 2688 -1331 1869 -1331 \nQ 1566 -1331 1297 -1286 \nQ 1028 -1241 775 -1147 \nL 775 -588 \nQ 1028 -725 1275 -790 \nQ 1522 -856 1778 -856 \nQ 2344 -856 2625 -561 \nQ 2906 -266 2906 331 \nL 2906 616 \nQ 2728 306 2450 153 \nQ 2172 0 1784 0 \nQ 1141 0 747 490 \nQ 353 981 353 1791 \nQ 353 2603 747 3093 \nQ 1141 3584 1784 3584 \nQ 2172 3584 2450 3431 \nQ 2728 3278 2906 2969 \nL 2906 3500 \nL 3481 3500 \nL 3481 434 \nz\n\" id=\"DejaVuSans-67\" transform=\"scale(0.015625)\"/>\n       <path d=\"M 2194 1759 \nQ 1497 1759 1228 1600 \nQ 959 1441 959 1056 \nQ 959 750 1161 570 \nQ 1363 391 1709 391 \nQ 2188 391 2477 730 \nQ 2766 1069 2766 1631 \nL 2766 1759 \nL 2194 1759 \nz\nM 3341 1997 \nL 3341 0 \nL 2766 0 \nL 2766 531 \nQ 2569 213 2275 61 \nQ 1981 -91 1556 -91 \nQ 1019 -91 701 211 \nQ 384 513 384 1019 \nQ 384 1609 779 1909 \nQ 1175 2209 1959 2209 \nL 2766 2209 \nL 2766 2266 \nQ 2766 2663 2505 2880 \nQ 2244 3097 1772 3097 \nQ 1472 3097 1187 3025 \nQ 903 2953 641 2809 \nL 641 3341 \nQ 956 3463 1253 3523 \nQ 1550 3584 1831 3584 \nQ 2591 3584 2966 3190 \nQ 3341 2797 3341 1997 \nz\n\" id=\"DejaVuSans-61\" transform=\"scale(0.015625)\"/>\n       <path d=\"M 353 3500 \nL 3084 3500 \nL 3084 2975 \nL 922 459 \nL 3084 459 \nL 3084 0 \nL 275 0 \nL 275 525 \nL 2438 3041 \nL 353 3041 \nL 353 3500 \nz\n\" id=\"DejaVuSans-7a\" transform=\"scale(0.015625)\"/>\n       <path d=\"M 3597 1894 \nL 3597 1613 \nL 953 1613 \nQ 991 1019 1311 708 \nQ 1631 397 2203 397 \nQ 2534 397 2845 478 \nQ 3156 559 3463 722 \nL 3463 178 \nQ 3153 47 2828 -22 \nQ 2503 -91 2169 -91 \nQ 1331 -91 842 396 \nQ 353 884 353 1716 \nQ 353 2575 817 3079 \nQ 1281 3584 2069 3584 \nQ 2775 3584 3186 3129 \nQ 3597 2675 3597 1894 \nz\nM 3022 2063 \nQ 3016 2534 2758 2815 \nQ 2500 3097 2075 3097 \nQ 1594 3097 1305 2825 \nQ 1016 2553 972 2059 \nL 3022 2063 \nz\n\" id=\"DejaVuSans-65\" transform=\"scale(0.015625)\"/>\n       <path d=\"M 3263 -1063 \nL 3263 -1509 \nL -63 -1509 \nL -63 -1063 \nL 3263 -1063 \nz\n\" id=\"DejaVuSans-5f\" transform=\"scale(0.015625)\"/>\n       <path d=\"M 1172 4494 \nL 1172 3500 \nL 2356 3500 \nL 2356 3053 \nL 1172 3053 \nL 1172 1153 \nQ 1172 725 1289 603 \nQ 1406 481 1766 481 \nL 2356 481 \nL 2356 0 \nL 1766 0 \nQ 1100 0 847 248 \nQ 594 497 594 1153 \nL 594 3053 \nL 172 3053 \nL 172 3500 \nL 594 3500 \nL 594 4494 \nL 1172 4494 \nz\n\" id=\"DejaVuSans-74\" transform=\"scale(0.015625)\"/>\n       <path d=\"M 603 3500 \nL 1178 3500 \nL 1178 0 \nL 603 0 \nL 603 3500 \nz\nM 603 4863 \nL 1178 4863 \nL 1178 4134 \nL 603 4134 \nL 603 4863 \nz\n\" id=\"DejaVuSans-69\" transform=\"scale(0.015625)\"/>\n       <path d=\"M 3328 2828 \nQ 3544 3216 3844 3400 \nQ 4144 3584 4550 3584 \nQ 5097 3584 5394 3201 \nQ 5691 2819 5691 2113 \nL 5691 0 \nL 5113 0 \nL 5113 2094 \nQ 5113 2597 4934 2840 \nQ 4756 3084 4391 3084 \nQ 3944 3084 3684 2787 \nQ 3425 2491 3425 1978 \nL 3425 0 \nL 2847 0 \nL 2847 2094 \nQ 2847 2600 2669 2842 \nQ 2491 3084 2119 3084 \nQ 1678 3084 1418 2786 \nQ 1159 2488 1159 1978 \nL 1159 0 \nL 581 0 \nL 581 3500 \nL 1159 3500 \nL 1159 2956 \nQ 1356 3278 1631 3431 \nQ 1906 3584 2284 3584 \nQ 2666 3584 2933 3390 \nQ 3200 3197 3328 2828 \nz\n\" id=\"DejaVuSans-6d\" transform=\"scale(0.015625)\"/>\n      </defs>\n      <use xlink:href=\"#DejaVuSans-67\"/>\n      <use x=\"63.476562\" xlink:href=\"#DejaVuSans-61\"/>\n      <use x=\"124.755859\" xlink:href=\"#DejaVuSans-7a\"/>\n      <use x=\"177.246094\" xlink:href=\"#DejaVuSans-65\"/>\n      <use x=\"238.769531\" xlink:href=\"#DejaVuSans-5f\"/>\n      <use x=\"288.769531\" xlink:href=\"#DejaVuSans-74\"/>\n      <use x=\"327.978516\" xlink:href=\"#DejaVuSans-69\"/>\n      <use x=\"355.761719\" xlink:href=\"#DejaVuSans-6d\"/>\n      <use x=\"453.173828\" xlink:href=\"#DejaVuSans-65\"/>\n     </g>\n    </g>\n   </g>\n   <g id=\"matplotlib.axis_2\">\n    <g id=\"ytick_1\">\n     <g id=\"line2d_6\">\n      <defs>\n       <path d=\"M 0 0 \nL -3.5 0 \n\" id=\"m247dd5096d\" style=\"stroke:#000000;stroke-width:0.8;\"/>\n      </defs>\n      <g>\n       <use style=\"stroke:#000000;stroke-width:0.8;\" x=\"59.13\" xlink:href=\"#m247dd5096d\" y=\"215.189869\"/>\n      </g>\n     </g>\n     <g id=\"text_7\">\n      <!-- 0.0 -->\n      <g transform=\"translate(26.685 221.268619)scale(0.16 -0.16)\">\n       <use xlink:href=\"#DejaVuSans-30\"/>\n       <use x=\"63.623047\" xlink:href=\"#DejaVuSans-2e\"/>\n       <use x=\"95.410156\" xlink:href=\"#DejaVuSans-30\"/>\n      </g>\n     </g>\n    </g>\n    <g id=\"ytick_2\">\n     <g id=\"line2d_7\">\n      <g>\n       <use style=\"stroke:#000000;stroke-width:0.8;\" x=\"59.13\" xlink:href=\"#m247dd5096d\" y=\"175.568623\"/>\n      </g>\n     </g>\n     <g id=\"text_8\">\n      <!-- 0.2 -->\n      <g transform=\"translate(26.685 181.647373)scale(0.16 -0.16)\">\n       <use xlink:href=\"#DejaVuSans-30\"/>\n       <use x=\"63.623047\" xlink:href=\"#DejaVuSans-2e\"/>\n       <use x=\"95.410156\" xlink:href=\"#DejaVuSans-32\"/>\n      </g>\n     </g>\n    </g>\n    <g id=\"ytick_3\">\n     <g id=\"line2d_8\">\n      <g>\n       <use style=\"stroke:#000000;stroke-width:0.8;\" x=\"59.13\" xlink:href=\"#m247dd5096d\" y=\"135.947376\"/>\n      </g>\n     </g>\n     <g id=\"text_9\">\n      <!-- 0.4 -->\n      <g transform=\"translate(26.685 142.026126)scale(0.16 -0.16)\">\n       <use xlink:href=\"#DejaVuSans-30\"/>\n       <use x=\"63.623047\" xlink:href=\"#DejaVuSans-2e\"/>\n       <use x=\"95.410156\" xlink:href=\"#DejaVuSans-34\"/>\n      </g>\n     </g>\n    </g>\n    <g id=\"ytick_4\">\n     <g id=\"line2d_9\">\n      <g>\n       <use style=\"stroke:#000000;stroke-width:0.8;\" x=\"59.13\" xlink:href=\"#m247dd5096d\" y=\"96.32613\"/>\n      </g>\n     </g>\n     <g id=\"text_10\">\n      <!-- 0.6 -->\n      <g transform=\"translate(26.685 102.40488)scale(0.16 -0.16)\">\n       <use xlink:href=\"#DejaVuSans-30\"/>\n       <use x=\"63.623047\" xlink:href=\"#DejaVuSans-2e\"/>\n       <use x=\"95.410156\" xlink:href=\"#DejaVuSans-36\"/>\n      </g>\n     </g>\n    </g>\n    <g id=\"ytick_5\">\n     <g id=\"line2d_10\">\n      <g>\n       <use style=\"stroke:#000000;stroke-width:0.8;\" x=\"59.13\" xlink:href=\"#m247dd5096d\" y=\"56.704883\"/>\n      </g>\n     </g>\n     <g id=\"text_11\">\n      <!-- 0.8 -->\n      <g transform=\"translate(26.685 62.783633)scale(0.16 -0.16)\">\n       <use xlink:href=\"#DejaVuSans-30\"/>\n       <use x=\"63.623047\" xlink:href=\"#DejaVuSans-2e\"/>\n       <use x=\"95.410156\" xlink:href=\"#DejaVuSans-38\"/>\n      </g>\n     </g>\n    </g>\n    <g id=\"ytick_6\">\n     <g id=\"line2d_11\">\n      <g>\n       <use style=\"stroke:#000000;stroke-width:0.8;\" x=\"59.13\" xlink:href=\"#m247dd5096d\" y=\"17.083636\"/>\n      </g>\n     </g>\n     <g id=\"text_12\">\n      <!-- 1.0 -->\n      <g transform=\"translate(26.685 23.162386)scale(0.16 -0.16)\">\n       <use xlink:href=\"#DejaVuSans-31\"/>\n       <use x=\"63.623047\" xlink:href=\"#DejaVuSans-2e\"/>\n       <use x=\"95.410156\" xlink:href=\"#DejaVuSans-30\"/>\n      </g>\n     </g>\n    </g>\n    <g id=\"text_13\">\n     <!-- pmx size -->\n     <g transform=\"translate(19.3575 151.58)rotate(-90)scale(0.16 -0.16)\">\n      <defs>\n       <path d=\"M 1159 525 \nL 1159 -1331 \nL 581 -1331 \nL 581 3500 \nL 1159 3500 \nL 1159 2969 \nQ 1341 3281 1617 3432 \nQ 1894 3584 2278 3584 \nQ 2916 3584 3314 3078 \nQ 3713 2572 3713 1747 \nQ 3713 922 3314 415 \nQ 2916 -91 2278 -91 \nQ 1894 -91 1617 61 \nQ 1341 213 1159 525 \nz\nM 3116 1747 \nQ 3116 2381 2855 2742 \nQ 2594 3103 2138 3103 \nQ 1681 3103 1420 2742 \nQ 1159 2381 1159 1747 \nQ 1159 1113 1420 752 \nQ 1681 391 2138 391 \nQ 2594 391 2855 752 \nQ 3116 1113 3116 1747 \nz\n\" id=\"DejaVuSans-70\" transform=\"scale(0.015625)\"/>\n       <path d=\"M 3513 3500 \nL 2247 1797 \nL 3578 0 \nL 2900 0 \nL 1881 1375 \nL 863 0 \nL 184 0 \nL 1544 1831 \nL 300 3500 \nL 978 3500 \nL 1906 2253 \nL 2834 3500 \nL 3513 3500 \nz\n\" id=\"DejaVuSans-78\" transform=\"scale(0.015625)\"/>\n       <path id=\"DejaVuSans-20\" transform=\"scale(0.015625)\"/>\n       <path d=\"M 2834 3397 \nL 2834 2853 \nQ 2591 2978 2328 3040 \nQ 2066 3103 1784 3103 \nQ 1356 3103 1142 2972 \nQ 928 2841 928 2578 \nQ 928 2378 1081 2264 \nQ 1234 2150 1697 2047 \nL 1894 2003 \nQ 2506 1872 2764 1633 \nQ 3022 1394 3022 966 \nQ 3022 478 2636 193 \nQ 2250 -91 1575 -91 \nQ 1294 -91 989 -36 \nQ 684 19 347 128 \nL 347 722 \nQ 666 556 975 473 \nQ 1284 391 1588 391 \nQ 1994 391 2212 530 \nQ 2431 669 2431 922 \nQ 2431 1156 2273 1281 \nQ 2116 1406 1581 1522 \nL 1381 1569 \nQ 847 1681 609 1914 \nQ 372 2147 372 2553 \nQ 372 3047 722 3315 \nQ 1072 3584 1716 3584 \nQ 2034 3584 2315 3537 \nQ 2597 3491 2834 3397 \nz\n\" id=\"DejaVuSans-73\" transform=\"scale(0.015625)\"/>\n      </defs>\n      <use xlink:href=\"#DejaVuSans-70\"/>\n      <use x=\"63.476562\" xlink:href=\"#DejaVuSans-6d\"/>\n      <use x=\"160.888672\" xlink:href=\"#DejaVuSans-78\"/>\n      <use x=\"220.068359\" xlink:href=\"#DejaVuSans-20\"/>\n      <use x=\"251.855469\" xlink:href=\"#DejaVuSans-73\"/>\n      <use x=\"303.955078\" xlink:href=\"#DejaVuSans-69\"/>\n      <use x=\"331.738281\" xlink:href=\"#DejaVuSans-7a\"/>\n      <use x=\"384.228516\" xlink:href=\"#DejaVuSans-65\"/>\n     </g>\n    </g>\n   </g>\n   <g id=\"patch_3\">\n    <path d=\"M 59.13 224.64 \nL 59.13 7.2 \n\" style=\"fill:none;stroke:#000000;stroke-linecap:square;stroke-linejoin:miter;stroke-width:0.8;\"/>\n   </g>\n   <g id=\"patch_4\">\n    <path d=\"M 393.93 224.64 \nL 393.93 7.2 \n\" style=\"fill:none;stroke:#000000;stroke-linecap:square;stroke-linejoin:miter;stroke-width:0.8;\"/>\n   </g>\n   <g id=\"patch_5\">\n    <path d=\"M 59.13 224.64 \nL 393.93 224.64 \n\" style=\"fill:none;stroke:#000000;stroke-linecap:square;stroke-linejoin:miter;stroke-width:0.8;\"/>\n   </g>\n   <g id=\"patch_6\">\n    <path d=\"M 59.13 7.2 \nL 393.93 7.2 \n\" style=\"fill:none;stroke:#000000;stroke-linecap:square;stroke-linejoin:miter;stroke-width:0.8;\"/>\n   </g>\n  </g>\n </g>\n <defs>\n  <clipPath id=\"p998e86141b\">\n   <rect height=\"217.44\" width=\"334.8\" x=\"59.13\" y=\"7.2\"/>\n  </clipPath>\n </defs>\n</svg>\n",
      "image/png": "[encoded data removed]"
     },
     "metadata": {
      "needs_background": "light"
     }
    }
   ],
   "metadata": {}
  },
  {
   "cell_type": "code",
   "execution_count": 10,
   "source": [
    "x=gaze_feat[pos_mask]\n",
    "y=abn_size[pos_mask]\n",
    "\n",
    "# filter outliers\n",
    "filtering_mask = x<0.4 #np.logical_and(train_tubes[pos_mask]==0,x<0.4)\n",
    "\n",
    "x_ = x[filtering_mask]\n",
    "y_ = y[filtering_mask]\n",
    "\n",
    "#exponential fit\n",
    "# coeffs = np.polyfit(x_,np.log(y_),1)#,w=1/(x_))\n",
    "# abnsize_fit = np.exp(coeffs[1])*np.exp(coeffs[0]*x_)\n",
    "coeffs = np.polyfit(x_,y_,1)\n",
    "abnsize_fit = coeffs[1] + coeffs[0]*x_\n",
    "\n",
    "plt.scatter(x_,y_,s=10)\n",
    "plt.scatter(x_,abnsize_fit,s=10)\n",
    "plt.xlabel(gaze_name)\n",
    "plt.ylabel(\"pmx size\")\n",
    "#plt.legend([\"raw\",f\"y={np.exp(coeffs[1]):.1f}*exp({coeffs[0]:.1f}x)\"])\n",
    "plt.legend([\"raw\",f\"y={coeffs[0]:.1f}x + {coeffs[1]:.1f}\"])\n",
    "\n",
    "plt.show()\n",
    "\n",
    "print(f\"MAE: {np.abs(y_-abnsize_fit).mean():.3f}\")\n",
    "r = np.corrcoef(x_, y_)\n",
    "print(f\"Correlation: {r[0,1]:.2f}\")"
   ],
   "outputs": [
    {
     "output_type": "display_data",
     "data": {
      "text/plain": [
       "<Figure size 432x288 with 1 Axes>"
      ],
      "image/svg+xml": "<?xml version=\"1.0\" encoding=\"utf-8\" standalone=\"no\"?>\n<!DOCTYPE svg PUBLIC \"-//W3C//DTD SVG 1.1//EN\"\n  \"http://www.w3.org/Graphics/SVG/1.1/DTD/svg11.dtd\">\n<svg height=\"274.255pt\" version=\"1.1\" viewBox=\"0 0 406.088128 274.255\" width=\"406.088128pt\" xmlns=\"http://www.w3.org/2000/svg\" xmlns:xlink=\"http://www.w3.org/1999/xlink\">\n <metadata>\n  <rdf:RDF xmlns:cc=\"http://creativecommons.org/ns#\" xmlns:dc=\"http://purl.org/dc/elements/1.1/\" xmlns:rdf=\"http://www.w3.org/1999/02/22-rdf-syntax-ns#\">\n   <cc:Work>\n    <dc:type rdf:resource=\"http://purl.org/dc/dcmitype/StillImage\"/>\n    <dc:date>2021-08-27T13:58:26.094537</dc:date>\n    <dc:format>image/svg+xml</dc:format>\n    <dc:creator>\n     <cc:Agent>\n      <dc:title>Matplotlib v3.4.2, https://matplotlib.org/</dc:title>\n     </cc:Agent>\n    </dc:creator>\n   </cc:Work>\n  </rdf:RDF>\n </metadata>\n <defs>\n  <style type=\"text/css\">*{stroke-linecap:butt;stroke-linejoin:round;}</style>\n </defs>\n <g id=\"figure_1\">\n  <g id=\"patch_1\">\n   <path d=\"M 0 274.255 \nL 406.088128 274.255 \nL 406.088128 0 \nL 0 0 \nz\n\" style=\"fill:none;\"/>\n  </g>\n  <g id=\"axes_1\">\n   <g id=\"patch_2\">\n    <path d=\"M 59.13 224.64 \nL 393.93 224.64 \nL 393.93 7.2 \nL 59.13 7.2 \nz\n\" style=\"fill:#ffffff;\"/>\n   </g>\n   <g id=\"PathCollection_1\">\n    <defs>\n     <path d=\"M 0 1.581139 \nC 0.419323 1.581139 0.821528 1.41454 1.118034 1.118034 \nC 1.41454 0.821528 1.581139 0.419323 1.581139 0 \nC 1.581139 -0.419323 1.41454 -0.821528 1.118034 -1.118034 \nC 0.821528 -1.41454 0.419323 -1.581139 0 -1.581139 \nC -0.419323 -1.581139 -0.821528 -1.41454 -1.118034 -1.118034 \nC -1.41454 -0.821528 -1.581139 -0.419323 -1.581139 0 \nC -1.581139 0.419323 -1.41454 0.821528 -1.118034 1.118034 \nC -0.821528 1.41454 -0.419323 1.581139 0 1.581139 \nz\n\" id=\"m819f3e575c\" style=\"stroke:#1f77b4;\"/>\n    </defs>\n    <g clip-path=\"url(#p995d29733a)\">\n     <use style=\"fill:#1f77b4;stroke:#1f77b4;\" x=\"96.088441\" xlink:href=\"#m819f3e575c\" y=\"205.395137\"/>\n     <use style=\"fill:#1f77b4;stroke:#1f77b4;\" x=\"245.164506\" xlink:href=\"#m819f3e575c\" y=\"210.094976\"/>\n     <use style=\"fill:#1f77b4;stroke:#1f77b4;\" x=\"235.847252\" xlink:href=\"#m819f3e575c\" y=\"197.172638\"/>\n     <use style=\"fill:#1f77b4;stroke:#1f77b4;\" x=\"291.750781\" xlink:href=\"#m819f3e575c\" y=\"206.505766\"/>\n     <use style=\"fill:#1f77b4;stroke:#1f77b4;\" x=\"263.799016\" xlink:href=\"#m819f3e575c\" y=\"203.861552\"/>\n     <use style=\"fill:#1f77b4;stroke:#1f77b4;\" x=\"204.789744\" xlink:href=\"#m819f3e575c\" y=\"208.975473\"/>\n     <use style=\"fill:#1f77b4;stroke:#1f77b4;\" x=\"130.251705\" xlink:href=\"#m819f3e575c\" y=\"196.036868\"/>\n     <use style=\"fill:#1f77b4;stroke:#1f77b4;\" x=\"288.645038\" xlink:href=\"#m819f3e575c\" y=\"211.375674\"/>\n     <use style=\"fill:#1f77b4;stroke:#1f77b4;\" x=\"114.722951\" xlink:href=\"#m819f3e575c\" y=\"211.578279\"/>\n     <use style=\"fill:#1f77b4;stroke:#1f77b4;\" x=\"133.357461\" xlink:href=\"#m819f3e575c\" y=\"181.643058\"/>\n     <use style=\"fill:#1f77b4;stroke:#1f77b4;\" x=\"111.617202\" xlink:href=\"#m819f3e575c\" y=\"186.447896\"/>\n     <use style=\"fill:#1f77b4;stroke:#1f77b4;\" x=\"316.596803\" xlink:href=\"#m819f3e575c\" y=\"214.488689\"/>\n     <use style=\"fill:#1f77b4;stroke:#1f77b4;\" x=\"220.318498\" xlink:href=\"#m819f3e575c\" y=\"212.101798\"/>\n     <use style=\"fill:#1f77b4;stroke:#1f77b4;\" x=\"189.26099\" xlink:href=\"#m819f3e575c\" y=\"207.722873\"/>\n     <use style=\"fill:#1f77b4;stroke:#1f77b4;\" x=\"186.155234\" xlink:href=\"#m819f3e575c\" y=\"205.044646\"/>\n     <use style=\"fill:#1f77b4;stroke:#1f77b4;\" x=\"263.799016\" xlink:href=\"#m819f3e575c\" y=\"198.237422\"/>\n     <use style=\"fill:#1f77b4;stroke:#1f77b4;\" x=\"235.847252\" xlink:href=\"#m819f3e575c\" y=\"193.221106\"/>\n     <use style=\"fill:#1f77b4;stroke:#1f77b4;\" x=\"145.780458\" xlink:href=\"#m819f3e575c\" y=\"203.94289\"/>\n     <use style=\"fill:#1f77b4;stroke:#1f77b4;\" x=\"127.145955\" xlink:href=\"#m819f3e575c\" y=\"201.104944\"/>\n     <use style=\"fill:#1f77b4;stroke:#1f77b4;\" x=\"99.19419\" xlink:href=\"#m819f3e575c\" y=\"154.207121\"/>\n     <use style=\"fill:#1f77b4;stroke:#1f77b4;\" x=\"176.837979\" xlink:href=\"#m819f3e575c\" y=\"190.022317\"/>\n     <use style=\"fill:#1f77b4;stroke:#1f77b4;\" x=\"139.56896\" xlink:href=\"#m819f3e575c\" y=\"211.090253\"/>\n     <use style=\"fill:#1f77b4;stroke:#1f77b4;\" x=\"158.203469\" xlink:href=\"#m819f3e575c\" y=\"167.096924\"/>\n     <use style=\"fill:#1f77b4;stroke:#1f77b4;\" x=\"214.106999\" xlink:href=\"#m819f3e575c\" y=\"208.281885\"/>\n     <use style=\"fill:#1f77b4;stroke:#1f77b4;\" x=\"176.837979\" xlink:href=\"#m819f3e575c\" y=\"213.12961\"/>\n     <use style=\"fill:#1f77b4;stroke:#1f77b4;\" x=\"189.26099\" xlink:href=\"#m819f3e575c\" y=\"195.085957\"/>\n     <use style=\"fill:#1f77b4;stroke:#1f77b4;\" x=\"294.856524\" xlink:href=\"#m819f3e575c\" y=\"212.155037\"/>\n     <use style=\"fill:#1f77b4;stroke:#1f77b4;\" x=\"124.040206\" xlink:href=\"#m819f3e575c\" y=\"211.882925\"/>\n     <use style=\"fill:#1f77b4;stroke:#1f77b4;\" x=\"130.251705\" xlink:href=\"#m819f3e575c\" y=\"204.661619\"/>\n     <use style=\"fill:#1f77b4;stroke:#1f77b4;\" x=\"338.337056\" xlink:href=\"#m819f3e575c\" y=\"212.381304\"/>\n     <use style=\"fill:#1f77b4;stroke:#1f77b4;\" x=\"301.068036\" xlink:href=\"#m819f3e575c\" y=\"212.304403\"/>\n     <use style=\"fill:#1f77b4;stroke:#1f77b4;\" x=\"148.886215\" xlink:href=\"#m819f3e575c\" y=\"163.395321\"/>\n     <use style=\"fill:#1f77b4;stroke:#1f77b4;\" x=\"145.780458\" xlink:href=\"#m819f3e575c\" y=\"211.882925\"/>\n     <use style=\"fill:#1f77b4;stroke:#1f77b4;\" x=\"133.357461\" xlink:href=\"#m819f3e575c\" y=\"182.08376\"/>\n     <use style=\"fill:#1f77b4;stroke:#1f77b4;\" x=\"189.26099\" xlink:href=\"#m819f3e575c\" y=\"213.283412\"/>\n     <use style=\"fill:#1f77b4;stroke:#1f77b4;\" x=\"291.750781\" xlink:href=\"#m819f3e575c\" y=\"207.267382\"/>\n     <use style=\"fill:#1f77b4;stroke:#1f77b4;\" x=\"89.876936\" xlink:href=\"#m819f3e575c\" y=\"182.271576\"/>\n     <use style=\"fill:#1f77b4;stroke:#1f77b4;\" x=\"332.125544\" xlink:href=\"#m819f3e575c\" y=\"204.07303\"/>\n     <use style=\"fill:#1f77b4;stroke:#1f77b4;\" x=\"245.164506\" xlink:href=\"#m819f3e575c\" y=\"185.863743\"/>\n     <use style=\"fill:#1f77b4;stroke:#1f77b4;\" x=\"192.366733\" xlink:href=\"#m819f3e575c\" y=\"204.092255\"/>\n     <use style=\"fill:#1f77b4;stroke:#1f77b4;\" x=\"341.442798\" xlink:href=\"#m819f3e575c\" y=\"210.571171\"/>\n     <use style=\"fill:#1f77b4;stroke:#1f77b4;\" x=\"270.010529\" xlink:href=\"#m819f3e575c\" y=\"214.592209\"/>\n     <use style=\"fill:#1f77b4;stroke:#1f77b4;\" x=\"310.385291\" xlink:href=\"#m819f3e575c\" y=\"202.810078\"/>\n     <use style=\"fill:#1f77b4;stroke:#1f77b4;\" x=\"223.424254\" xlink:href=\"#m819f3e575c\" y=\"205.170349\"/>\n     <use style=\"fill:#1f77b4;stroke:#1f77b4;\" x=\"363.183078\" xlink:href=\"#m819f3e575c\" y=\"189.272531\"/>\n     <use style=\"fill:#1f77b4;stroke:#1f77b4;\" x=\"195.472489\" xlink:href=\"#m819f3e575c\" y=\"180.171585\"/>\n     <use style=\"fill:#1f77b4;stroke:#1f77b4;\" x=\"105.405696\" xlink:href=\"#m819f3e575c\" y=\"192.284983\"/>\n     <use style=\"fill:#1f77b4;stroke:#1f77b4;\" x=\"214.106999\" xlink:href=\"#m819f3e575c\" y=\"208.094069\"/>\n     <use style=\"fill:#1f77b4;stroke:#1f77b4;\" x=\"254.481761\" xlink:href=\"#m819f3e575c\" y=\"212.67264\"/>\n     <use style=\"fill:#1f77b4;stroke:#1f77b4;\" x=\"170.626481\" xlink:href=\"#m819f3e575c\" y=\"204.030143\"/>\n     <use style=\"fill:#1f77b4;stroke:#1f77b4;\" x=\"130.251705\" xlink:href=\"#m819f3e575c\" y=\"213.199117\"/>\n     <use style=\"fill:#1f77b4;stroke:#1f77b4;\" x=\"102.299947\" xlink:href=\"#m819f3e575c\" y=\"189.383446\"/>\n     <use style=\"fill:#1f77b4;stroke:#1f77b4;\" x=\"211.001243\" xlink:href=\"#m819f3e575c\" y=\"195.933347\"/>\n     <use style=\"fill:#1f77b4;stroke:#1f77b4;\" x=\"111.617202\" xlink:href=\"#m819f3e575c\" y=\"188.389648\"/>\n     <use style=\"fill:#1f77b4;stroke:#1f77b4;\" x=\"378.711818\" xlink:href=\"#m819f3e575c\" y=\"207.993506\"/>\n     <use style=\"fill:#1f77b4;stroke:#1f77b4;\" x=\"282.433526\" xlink:href=\"#m819f3e575c\" y=\"186.610571\"/>\n     <use style=\"fill:#1f77b4;stroke:#1f77b4;\" x=\"179.943735\" xlink:href=\"#m819f3e575c\" y=\"195.712996\"/>\n     <use style=\"fill:#1f77b4;stroke:#1f77b4;\" x=\"313.491034\" xlink:href=\"#m819f3e575c\" y=\"201.59297\"/>\n     <use style=\"fill:#1f77b4;stroke:#1f77b4;\" x=\"130.251705\" xlink:href=\"#m819f3e575c\" y=\"206.507245\"/>\n     <use style=\"fill:#1f77b4;stroke:#1f77b4;\" x=\"167.520724\" xlink:href=\"#m819f3e575c\" y=\"197.971226\"/>\n     <use style=\"fill:#1f77b4;stroke:#1f77b4;\" x=\"136.46321\" xlink:href=\"#m819f3e575c\" y=\"214.00362\"/>\n     <use style=\"fill:#1f77b4;stroke:#1f77b4;\" x=\"257.587504\" xlink:href=\"#m819f3e575c\" y=\"180.278064\"/>\n     <use style=\"fill:#1f77b4;stroke:#1f77b4;\" x=\"294.856524\" xlink:href=\"#m819f3e575c\" y=\"214.289042\"/>\n     <use style=\"fill:#1f77b4;stroke:#1f77b4;\" x=\"316.596803\" xlink:href=\"#m819f3e575c\" y=\"213.119258\"/>\n     <use style=\"fill:#1f77b4;stroke:#1f77b4;\" x=\"232.741509\" xlink:href=\"#m819f3e575c\" y=\"214.756364\"/>\n     <use style=\"fill:#1f77b4;stroke:#1f77b4;\" x=\"92.982692\" xlink:href=\"#m819f3e575c\" y=\"161.527512\"/>\n     <use style=\"fill:#1f77b4;stroke:#1f77b4;\" x=\"273.116271\" xlink:href=\"#m819f3e575c\" y=\"188.760843\"/>\n     <use style=\"fill:#1f77b4;stroke:#1f77b4;\" x=\"347.654311\" xlink:href=\"#m819f3e575c\" y=\"208.805404\"/>\n     <use style=\"fill:#1f77b4;stroke:#1f77b4;\" x=\"279.327784\" xlink:href=\"#m819f3e575c\" y=\"205.97781\"/>\n     <use style=\"fill:#1f77b4;stroke:#1f77b4;\" x=\"195.472489\" xlink:href=\"#m819f3e575c\" y=\"203.60275\"/>\n     <use style=\"fill:#1f77b4;stroke:#1f77b4;\" x=\"161.309226\" xlink:href=\"#m819f3e575c\" y=\"188.859928\"/>\n     <use style=\"fill:#1f77b4;stroke:#1f77b4;\" x=\"266.904759\" xlink:href=\"#m819f3e575c\" y=\"202.354587\"/>\n     <use style=\"fill:#1f77b4;stroke:#1f77b4;\" x=\"207.8955\" xlink:href=\"#m819f3e575c\" y=\"207.711042\"/>\n     <use style=\"fill:#1f77b4;stroke:#1f77b4;\" x=\"120.93445\" xlink:href=\"#m819f3e575c\" y=\"213.425384\"/>\n     <use style=\"fill:#1f77b4;stroke:#1f77b4;\" x=\"105.405696\" xlink:href=\"#m819f3e575c\" y=\"138.14367\"/>\n     <use style=\"fill:#1f77b4;stroke:#1f77b4;\" x=\"183.049478\" xlink:href=\"#m819f3e575c\" y=\"204.379155\"/>\n     <use style=\"fill:#1f77b4;stroke:#1f77b4;\" x=\"257.587504\" xlink:href=\"#m819f3e575c\" y=\"203.593877\"/>\n     <use style=\"fill:#1f77b4;stroke:#1f77b4;\" x=\"92.982692\" xlink:href=\"#m819f3e575c\" y=\"158.139428\"/>\n     <use style=\"fill:#1f77b4;stroke:#1f77b4;\" x=\"344.548568\" xlink:href=\"#m819f3e575c\" y=\"214.402914\"/>\n     <use style=\"fill:#1f77b4;stroke:#1f77b4;\" x=\"217.212742\" xlink:href=\"#m819f3e575c\" y=\"204.417606\"/>\n     <use style=\"fill:#1f77b4;stroke:#1f77b4;\" x=\"164.414968\" xlink:href=\"#m819f3e575c\" y=\"210.455819\"/>\n     <use style=\"fill:#1f77b4;stroke:#1f77b4;\" x=\"124.040206\" xlink:href=\"#m819f3e575c\" y=\"211.282506\"/>\n     <use style=\"fill:#1f77b4;stroke:#1f77b4;\" x=\"291.750781\" xlink:href=\"#m819f3e575c\" y=\"209.941173\"/>\n     <use style=\"fill:#1f77b4;stroke:#1f77b4;\" x=\"117.8287\" xlink:href=\"#m819f3e575c\" y=\"207.88407\"/>\n     <use style=\"fill:#1f77b4;stroke:#1f77b4;\" x=\"304.173779\" xlink:href=\"#m819f3e575c\" y=\"207.520269\"/>\n     <use style=\"fill:#1f77b4;stroke:#1f77b4;\" x=\"108.511445\" xlink:href=\"#m819f3e575c\" y=\"203.664863\"/>\n     <use style=\"fill:#1f77b4;stroke:#1f77b4;\" x=\"245.164506\" xlink:href=\"#m819f3e575c\" y=\"210.784127\"/>\n     <use style=\"fill:#1f77b4;stroke:#1f77b4;\" x=\"223.424254\" xlink:href=\"#m819f3e575c\" y=\"208.842375\"/>\n     <use style=\"fill:#1f77b4;stroke:#1f77b4;\" x=\"148.886215\" xlink:href=\"#m819f3e575c\" y=\"191.291185\"/>\n     <use style=\"fill:#1f77b4;stroke:#1f77b4;\" x=\"161.309226\" xlink:href=\"#m819f3e575c\" y=\"212.632711\"/>\n     <use style=\"fill:#1f77b4;stroke:#1f77b4;\" x=\"124.040206\" xlink:href=\"#m819f3e575c\" y=\"176.293997\"/>\n     <use style=\"fill:#1f77b4;stroke:#1f77b4;\" x=\"353.865823\" xlink:href=\"#m819f3e575c\" y=\"210.208848\"/>\n     <use style=\"fill:#1f77b4;stroke:#1f77b4;\" x=\"86.771186\" xlink:href=\"#m819f3e575c\" y=\"208.148787\"/>\n     <use style=\"fill:#1f77b4;stroke:#1f77b4;\" x=\"238.953008\" xlink:href=\"#m819f3e575c\" y=\"212.805738\"/>\n     <use style=\"fill:#1f77b4;stroke:#1f77b4;\" x=\"114.722951\" xlink:href=\"#m819f3e575c\" y=\"198.164957\"/>\n     <use style=\"fill:#1f77b4;stroke:#1f77b4;\" x=\"189.26099\" xlink:href=\"#m819f3e575c\" y=\"213.607284\"/>\n     <use style=\"fill:#1f77b4;stroke:#1f77b4;\" x=\"136.46321\" xlink:href=\"#m819f3e575c\" y=\"184.620017\"/>\n     <use style=\"fill:#1f77b4;stroke:#1f77b4;\" x=\"111.617202\" xlink:href=\"#m819f3e575c\" y=\"206.05619\"/>\n     <use style=\"fill:#1f77b4;stroke:#1f77b4;\" x=\"148.886215\" xlink:href=\"#m819f3e575c\" y=\"209.256458\"/>\n     <use style=\"fill:#1f77b4;stroke:#1f77b4;\" x=\"192.366733\" xlink:href=\"#m819f3e575c\" y=\"189.625981\"/>\n     <use style=\"fill:#1f77b4;stroke:#1f77b4;\" x=\"117.8287\" xlink:href=\"#m819f3e575c\" y=\"200.556285\"/>\n     <use style=\"fill:#1f77b4;stroke:#1f77b4;\" x=\"105.405696\" xlink:href=\"#m819f3e575c\" y=\"192.734559\"/>\n     <use style=\"fill:#1f77b4;stroke:#1f77b4;\" x=\"127.145955\" xlink:href=\"#m819f3e575c\" y=\"205.167391\"/>\n     <use style=\"fill:#1f77b4;stroke:#1f77b4;\" x=\"217.212742\" xlink:href=\"#m819f3e575c\" y=\"211.409688\"/>\n     <use style=\"fill:#1f77b4;stroke:#1f77b4;\" x=\"276.222014\" xlink:href=\"#m819f3e575c\" y=\"209.173642\"/>\n     <use style=\"fill:#1f77b4;stroke:#1f77b4;\" x=\"133.357461\" xlink:href=\"#m819f3e575c\" y=\"144.384488\"/>\n     <use style=\"fill:#1f77b4;stroke:#1f77b4;\" x=\"145.780458\" xlink:href=\"#m819f3e575c\" y=\"208.015689\"/>\n     <use style=\"fill:#1f77b4;stroke:#1f77b4;\" x=\"164.414968\" xlink:href=\"#m819f3e575c\" y=\"209.339275\"/>\n     <use style=\"fill:#1f77b4;stroke:#1f77b4;\" x=\"130.251705\" xlink:href=\"#m819f3e575c\" y=\"213.444609\"/>\n     <use style=\"fill:#1f77b4;stroke:#1f77b4;\" x=\"229.635753\" xlink:href=\"#m819f3e575c\" y=\"212.393135\"/>\n     <use style=\"fill:#1f77b4;stroke:#1f77b4;\" x=\"304.173779\" xlink:href=\"#m819f3e575c\" y=\"211.298773\"/>\n     <use style=\"fill:#1f77b4;stroke:#1f77b4;\" x=\"111.617202\" xlink:href=\"#m819f3e575c\" y=\"209.207656\"/>\n     <use style=\"fill:#1f77b4;stroke:#1f77b4;\" x=\"167.520724\" xlink:href=\"#m819f3e575c\" y=\"212.833837\"/>\n     <use style=\"fill:#1f77b4;stroke:#1f77b4;\" x=\"179.943735\" xlink:href=\"#m819f3e575c\" y=\"204.212044\"/>\n     <use style=\"fill:#1f77b4;stroke:#1f77b4;\" x=\"114.722951\" xlink:href=\"#m819f3e575c\" y=\"210.065398\"/>\n     <use style=\"fill:#1f77b4;stroke:#1f77b4;\" x=\"130.251705\" xlink:href=\"#m819f3e575c\" y=\"196.560387\"/>\n     <use style=\"fill:#1f77b4;stroke:#1f77b4;\" x=\"214.106999\" xlink:href=\"#m819f3e575c\" y=\"201.17593\"/>\n     <use style=\"fill:#1f77b4;stroke:#1f77b4;\" x=\"257.587504\" xlink:href=\"#m819f3e575c\" y=\"203.758031\"/>\n     <use style=\"fill:#1f77b4;stroke:#1f77b4;\" x=\"183.049478\" xlink:href=\"#m819f3e575c\" y=\"174.933439\"/>\n     <use style=\"fill:#1f77b4;stroke:#1f77b4;\" x=\"297.962293\" xlink:href=\"#m819f3e575c\" y=\"211.19821\"/>\n     <use style=\"fill:#1f77b4;stroke:#1f77b4;\" x=\"130.251705\" xlink:href=\"#m819f3e575c\" y=\"208.136956\"/>\n     <use style=\"fill:#1f77b4;stroke:#1f77b4;\" x=\"105.405696\" xlink:href=\"#m819f3e575c\" y=\"210.074271\"/>\n     <use style=\"fill:#1f77b4;stroke:#1f77b4;\" x=\"114.722951\" xlink:href=\"#m819f3e575c\" y=\"206.286894\"/>\n     <use style=\"fill:#1f77b4;stroke:#1f77b4;\" x=\"257.587504\" xlink:href=\"#m819f3e575c\" y=\"210.982296\"/>\n     <use style=\"fill:#1f77b4;stroke:#1f77b4;\" x=\"186.155234\" xlink:href=\"#m819f3e575c\" y=\"206.933158\"/>\n     <use style=\"fill:#1f77b4;stroke:#1f77b4;\" x=\"192.366733\" xlink:href=\"#m819f3e575c\" y=\"213.450524\"/>\n     <use style=\"fill:#1f77b4;stroke:#1f77b4;\" x=\"360.077308\" xlink:href=\"#m819f3e575c\" y=\"214.260943\"/>\n     <use style=\"fill:#1f77b4;stroke:#1f77b4;\" x=\"136.46321\" xlink:href=\"#m819f3e575c\" y=\"207.194918\"/>\n     <use style=\"fill:#1f77b4;stroke:#1f77b4;\" x=\"127.145955\" xlink:href=\"#m819f3e575c\" y=\"159.044495\"/>\n     <use style=\"fill:#1f77b4;stroke:#1f77b4;\" x=\"99.19419\" xlink:href=\"#m819f3e575c\" y=\"171.184512\"/>\n     <use style=\"fill:#1f77b4;stroke:#1f77b4;\" x=\"92.982692\" xlink:href=\"#m819f3e575c\" y=\"207.268861\"/>\n     <use style=\"fill:#1f77b4;stroke:#1f77b4;\" x=\"251.376019\" xlink:href=\"#m819f3e575c\" y=\"197.061723\"/>\n     <use style=\"fill:#1f77b4;stroke:#1f77b4;\" x=\"285.539269\" xlink:href=\"#m819f3e575c\" y=\"139.05761\"/>\n     <use style=\"fill:#1f77b4;stroke:#1f77b4;\" x=\"124.040206\" xlink:href=\"#m819f3e575c\" y=\"208.18428\"/>\n     <use style=\"fill:#1f77b4;stroke:#1f77b4;\" x=\"111.617202\" xlink:href=\"#m819f3e575c\" y=\"213.70341\"/>\n     <use style=\"fill:#1f77b4;stroke:#1f77b4;\" x=\"176.837979\" xlink:href=\"#m819f3e575c\" y=\"204.763661\"/>\n     <use style=\"fill:#1f77b4;stroke:#1f77b4;\" x=\"127.145955\" xlink:href=\"#m819f3e575c\" y=\"206.322386\"/>\n     <use style=\"fill:#1f77b4;stroke:#1f77b4;\" x=\"270.010529\" xlink:href=\"#m819f3e575c\" y=\"189.902529\"/>\n     <use style=\"fill:#1f77b4;stroke:#1f77b4;\" x=\"139.56896\" xlink:href=\"#m819f3e575c\" y=\"209.281599\"/>\n     <use style=\"fill:#1f77b4;stroke:#1f77b4;\" x=\"139.56896\" xlink:href=\"#m819f3e575c\" y=\"17.083636\"/>\n     <use style=\"fill:#1f77b4;stroke:#1f77b4;\" x=\"257.587504\" xlink:href=\"#m819f3e575c\" y=\"190.764708\"/>\n     <use style=\"fill:#1f77b4;stroke:#1f77b4;\" x=\"214.106999\" xlink:href=\"#m819f3e575c\" y=\"212.564683\"/>\n     <use style=\"fill:#1f77b4;stroke:#1f77b4;\" x=\"195.472489\" xlink:href=\"#m819f3e575c\" y=\"172.00972\"/>\n     <use style=\"fill:#1f77b4;stroke:#1f77b4;\" x=\"266.904759\" xlink:href=\"#m819f3e575c\" y=\"185.590153\"/>\n     <use style=\"fill:#1f77b4;stroke:#1f77b4;\" x=\"179.943735\" xlink:href=\"#m819f3e575c\" y=\"207.714\"/>\n     <use style=\"fill:#1f77b4;stroke:#1f77b4;\" x=\"136.46321\" xlink:href=\"#m819f3e575c\" y=\"214.111578\"/>\n     <use style=\"fill:#1f77b4;stroke:#1f77b4;\" x=\"124.040206\" xlink:href=\"#m819f3e575c\" y=\"206.665484\"/>\n     <use style=\"fill:#1f77b4;stroke:#1f77b4;\" x=\"133.357461\" xlink:href=\"#m819f3e575c\" y=\"211.553138\"/>\n     <use style=\"fill:#1f77b4;stroke:#1f77b4;\" x=\"136.46321\" xlink:href=\"#m819f3e575c\" y=\"203.012683\"/>\n     <use style=\"fill:#1f77b4;stroke:#1f77b4;\" x=\"179.943735\" xlink:href=\"#m819f3e575c\" y=\"211.445181\"/>\n     <use style=\"fill:#1f77b4;stroke:#1f77b4;\" x=\"211.001243\" xlink:href=\"#m819f3e575c\" y=\"194.82124\"/>\n     <use style=\"fill:#1f77b4;stroke:#1f77b4;\" x=\"99.19419\" xlink:href=\"#m819f3e575c\" y=\"187.561483\"/>\n     <use style=\"fill:#1f77b4;stroke:#1f77b4;\" x=\"96.088441\" xlink:href=\"#m819f3e575c\" y=\"172.771336\"/>\n     <use style=\"fill:#1f77b4;stroke:#1f77b4;\" x=\"161.309226\" xlink:href=\"#m819f3e575c\" y=\"208.278927\"/>\n     <use style=\"fill:#1f77b4;stroke:#1f77b4;\" x=\"96.088441\" xlink:href=\"#m819f3e575c\" y=\"206.609287\"/>\n     <use style=\"fill:#1f77b4;stroke:#1f77b4;\" x=\"136.46321\" xlink:href=\"#m819f3e575c\" y=\"208.185759\"/>\n     <use style=\"fill:#1f77b4;stroke:#1f77b4;\" x=\"198.578245\" xlink:href=\"#m819f3e575c\" y=\"209.127797\"/>\n     <use style=\"fill:#1f77b4;stroke:#1f77b4;\" x=\"102.299947\" xlink:href=\"#m819f3e575c\" y=\"198.40897\"/>\n     <use style=\"fill:#1f77b4;stroke:#1f77b4;\" x=\"139.56896\" xlink:href=\"#m819f3e575c\" y=\"189.617107\"/>\n     <use style=\"fill:#1f77b4;stroke:#1f77b4;\" x=\"148.886215\" xlink:href=\"#m819f3e575c\" y=\"209.89385\"/>\n     <use style=\"fill:#1f77b4;stroke:#1f77b4;\" x=\"170.626481\" xlink:href=\"#m819f3e575c\" y=\"188.731266\"/>\n     <use style=\"fill:#1f77b4;stroke:#1f77b4;\" x=\"102.299947\" xlink:href=\"#m819f3e575c\" y=\"193.747582\"/>\n     <use style=\"fill:#1f77b4;stroke:#1f77b4;\" x=\"74.348182\" xlink:href=\"#m819f3e575c\" y=\"212.220107\"/>\n     <use style=\"fill:#1f77b4;stroke:#1f77b4;\" x=\"220.318498\" xlink:href=\"#m819f3e575c\" y=\"188.473943\"/>\n     <use style=\"fill:#1f77b4;stroke:#1f77b4;\" x=\"220.318498\" xlink:href=\"#m819f3e575c\" y=\"209.677935\"/>\n     <use style=\"fill:#1f77b4;stroke:#1f77b4;\" x=\"133.357461\" xlink:href=\"#m819f3e575c\" y=\"209.569978\"/>\n     <use style=\"fill:#1f77b4;stroke:#1f77b4;\" x=\"173.732223\" xlink:href=\"#m819f3e575c\" y=\"197.762706\"/>\n     <use style=\"fill:#1f77b4;stroke:#1f77b4;\" x=\"142.674716\" xlink:href=\"#m819f3e575c\" y=\"210.516453\"/>\n     <use style=\"fill:#1f77b4;stroke:#1f77b4;\" x=\"201.683988\" xlink:href=\"#m819f3e575c\" y=\"204.779928\"/>\n     <use style=\"fill:#1f77b4;stroke:#1f77b4;\" x=\"114.722951\" xlink:href=\"#m819f3e575c\" y=\"191.511536\"/>\n     <use style=\"fill:#1f77b4;stroke:#1f77b4;\" x=\"170.626481\" xlink:href=\"#m819f3e575c\" y=\"206.14788\"/>\n     <use style=\"fill:#1f77b4;stroke:#1f77b4;\" x=\"148.886215\" xlink:href=\"#m819f3e575c\" y=\"148.763413\"/>\n     <use style=\"fill:#1f77b4;stroke:#1f77b4;\" x=\"130.251705\" xlink:href=\"#m819f3e575c\" y=\"207.674071\"/>\n     <use style=\"fill:#1f77b4;stroke:#1f77b4;\" x=\"151.991971\" xlink:href=\"#m819f3e575c\" y=\"192.321955\"/>\n     <use style=\"fill:#1f77b4;stroke:#1f77b4;\" x=\"198.578245\" xlink:href=\"#m819f3e575c\" y=\"205.948233\"/>\n     <use style=\"fill:#1f77b4;stroke:#1f77b4;\" x=\"220.318498\" xlink:href=\"#m819f3e575c\" y=\"207.264425\"/>\n     <use style=\"fill:#1f77b4;stroke:#1f77b4;\" x=\"83.665437\" xlink:href=\"#m819f3e575c\" y=\"205.742671\"/>\n     <use style=\"fill:#1f77b4;stroke:#1f77b4;\" x=\"310.385291\" xlink:href=\"#m819f3e575c\" y=\"212.092925\"/>\n     <use style=\"fill:#1f77b4;stroke:#1f77b4;\" x=\"99.19419\" xlink:href=\"#m819f3e575c\" y=\"169.091915\"/>\n     <use style=\"fill:#1f77b4;stroke:#1f77b4;\" x=\"192.366733\" xlink:href=\"#m819f3e575c\" y=\"190.352104\"/>\n     <use style=\"fill:#1f77b4;stroke:#1f77b4;\" x=\"130.251705\" xlink:href=\"#m819f3e575c\" y=\"211.082859\"/>\n     <use style=\"fill:#1f77b4;stroke:#1f77b4;\" x=\"273.116271\" xlink:href=\"#m819f3e575c\" y=\"191.37548\"/>\n     <use style=\"fill:#1f77b4;stroke:#1f77b4;\" x=\"77.453931\" xlink:href=\"#m819f3e575c\" y=\"159.973223\"/>\n     <use style=\"fill:#1f77b4;stroke:#1f77b4;\" x=\"151.991971\" xlink:href=\"#m819f3e575c\" y=\"204.180987\"/>\n     <use style=\"fill:#1f77b4;stroke:#1f77b4;\" x=\"108.511445\" xlink:href=\"#m819f3e575c\" y=\"206.603371\"/>\n     <use style=\"fill:#1f77b4;stroke:#1f77b4;\" x=\"164.414968\" xlink:href=\"#m819f3e575c\" y=\"203.098457\"/>\n     <use style=\"fill:#1f77b4;stroke:#1f77b4;\" x=\"86.771186\" xlink:href=\"#m819f3e575c\" y=\"208.159139\"/>\n    </g>\n   </g>\n   <g id=\"PathCollection_2\">\n    <defs>\n     <path d=\"M 0 1.581139 \nC 0.419323 1.581139 0.821528 1.41454 1.118034 1.118034 \nC 1.41454 0.821528 1.581139 0.419323 1.581139 0 \nC 1.581139 -0.419323 1.41454 -0.821528 1.118034 -1.118034 \nC 0.821528 -1.41454 0.419323 -1.581139 0 -1.581139 \nC -0.419323 -1.581139 -0.821528 -1.41454 -1.118034 -1.118034 \nC -1.41454 -0.821528 -1.581139 -0.419323 -1.581139 0 \nC -1.581139 0.419323 -1.41454 0.821528 -1.118034 1.118034 \nC -0.821528 1.41454 -0.419323 1.581139 0 1.581139 \nz\n\" id=\"m86b13ac7b4\" style=\"stroke:#ff7f0e;\"/>\n    </defs>\n    <g clip-path=\"url(#p995d29733a)\">\n     <use style=\"fill:#ff7f0e;stroke:#ff7f0e;\" x=\"96.088441\" xlink:href=\"#m86b13ac7b4\" y=\"193.730042\"/>\n     <use style=\"fill:#ff7f0e;stroke:#ff7f0e;\" x=\"245.164506\" xlink:href=\"#m86b13ac7b4\" y=\"202.389644\"/>\n     <use style=\"fill:#ff7f0e;stroke:#ff7f0e;\" x=\"235.847252\" xlink:href=\"#m86b13ac7b4\" y=\"201.848419\"/>\n     <use style=\"fill:#ff7f0e;stroke:#ff7f0e;\" x=\"291.750781\" xlink:href=\"#m86b13ac7b4\" y=\"205.09577\"/>\n     <use style=\"fill:#ff7f0e;stroke:#ff7f0e;\" x=\"263.799016\" xlink:href=\"#m86b13ac7b4\" y=\"203.472095\"/>\n     <use style=\"fill:#ff7f0e;stroke:#ff7f0e;\" x=\"204.789744\" xlink:href=\"#m86b13ac7b4\" y=\"200.044336\"/>\n     <use style=\"fill:#ff7f0e;stroke:#ff7f0e;\" x=\"130.251705\" xlink:href=\"#m86b13ac7b4\" y=\"195.714534\"/>\n     <use style=\"fill:#ff7f0e;stroke:#ff7f0e;\" x=\"288.645038\" xlink:href=\"#m86b13ac7b4\" y=\"204.915362\"/>\n     <use style=\"fill:#ff7f0e;stroke:#ff7f0e;\" x=\"114.722951\" xlink:href=\"#m86b13ac7b4\" y=\"194.812493\"/>\n     <use style=\"fill:#ff7f0e;stroke:#ff7f0e;\" x=\"133.357461\" xlink:href=\"#m86b13ac7b4\" y=\"195.894943\"/>\n     <use style=\"fill:#ff7f0e;stroke:#ff7f0e;\" x=\"111.617202\" xlink:href=\"#m86b13ac7b4\" y=\"194.632084\"/>\n     <use style=\"fill:#ff7f0e;stroke:#ff7f0e;\" x=\"316.596803\" xlink:href=\"#m86b13ac7b4\" y=\"206.539038\"/>\n     <use style=\"fill:#ff7f0e;stroke:#ff7f0e;\" x=\"220.318498\" xlink:href=\"#m86b13ac7b4\" y=\"200.946377\"/>\n     <use style=\"fill:#ff7f0e;stroke:#ff7f0e;\" x=\"189.26099\" xlink:href=\"#m86b13ac7b4\" y=\"199.142294\"/>\n     <use style=\"fill:#ff7f0e;stroke:#ff7f0e;\" x=\"186.155234\" xlink:href=\"#m86b13ac7b4\" y=\"198.961885\"/>\n     <use style=\"fill:#ff7f0e;stroke:#ff7f0e;\" x=\"263.799016\" xlink:href=\"#m86b13ac7b4\" y=\"203.472095\"/>\n     <use style=\"fill:#ff7f0e;stroke:#ff7f0e;\" x=\"235.847252\" xlink:href=\"#m86b13ac7b4\" y=\"201.848419\"/>\n     <use style=\"fill:#ff7f0e;stroke:#ff7f0e;\" x=\"145.780458\" xlink:href=\"#m86b13ac7b4\" y=\"196.616576\"/>\n     <use style=\"fill:#ff7f0e;stroke:#ff7f0e;\" x=\"127.145955\" xlink:href=\"#m86b13ac7b4\" y=\"195.534126\"/>\n     <use style=\"fill:#ff7f0e;stroke:#ff7f0e;\" x=\"99.19419\" xlink:href=\"#m86b13ac7b4\" y=\"193.91045\"/>\n     <use style=\"fill:#ff7f0e;stroke:#ff7f0e;\" x=\"176.837979\" xlink:href=\"#m86b13ac7b4\" y=\"198.42066\"/>\n     <use style=\"fill:#ff7f0e;stroke:#ff7f0e;\" x=\"139.56896\" xlink:href=\"#m86b13ac7b4\" y=\"196.255759\"/>\n     <use style=\"fill:#ff7f0e;stroke:#ff7f0e;\" x=\"158.203469\" xlink:href=\"#m86b13ac7b4\" y=\"197.33821\"/>\n     <use style=\"fill:#ff7f0e;stroke:#ff7f0e;\" x=\"214.106999\" xlink:href=\"#m86b13ac7b4\" y=\"200.585561\"/>\n     <use style=\"fill:#ff7f0e;stroke:#ff7f0e;\" x=\"176.837979\" xlink:href=\"#m86b13ac7b4\" y=\"198.42066\"/>\n     <use style=\"fill:#ff7f0e;stroke:#ff7f0e;\" x=\"189.26099\" xlink:href=\"#m86b13ac7b4\" y=\"199.142294\"/>\n     <use style=\"fill:#ff7f0e;stroke:#ff7f0e;\" x=\"294.856524\" xlink:href=\"#m86b13ac7b4\" y=\"205.276178\"/>\n     <use style=\"fill:#ff7f0e;stroke:#ff7f0e;\" x=\"124.040206\" xlink:href=\"#m86b13ac7b4\" y=\"195.353718\"/>\n     <use style=\"fill:#ff7f0e;stroke:#ff7f0e;\" x=\"130.251705\" xlink:href=\"#m86b13ac7b4\" y=\"195.714534\"/>\n     <use style=\"fill:#ff7f0e;stroke:#ff7f0e;\" x=\"338.337056\" xlink:href=\"#m86b13ac7b4\" y=\"207.801896\"/>\n     <use style=\"fill:#ff7f0e;stroke:#ff7f0e;\" x=\"301.068036\" xlink:href=\"#m86b13ac7b4\" y=\"205.636996\"/>\n     <use style=\"fill:#ff7f0e;stroke:#ff7f0e;\" x=\"148.886215\" xlink:href=\"#m86b13ac7b4\" y=\"196.796985\"/>\n     <use style=\"fill:#ff7f0e;stroke:#ff7f0e;\" x=\"145.780458\" xlink:href=\"#m86b13ac7b4\" y=\"196.616576\"/>\n     <use style=\"fill:#ff7f0e;stroke:#ff7f0e;\" x=\"133.357461\" xlink:href=\"#m86b13ac7b4\" y=\"195.894943\"/>\n     <use style=\"fill:#ff7f0e;stroke:#ff7f0e;\" x=\"189.26099\" xlink:href=\"#m86b13ac7b4\" y=\"199.142294\"/>\n     <use style=\"fill:#ff7f0e;stroke:#ff7f0e;\" x=\"291.750781\" xlink:href=\"#m86b13ac7b4\" y=\"205.09577\"/>\n     <use style=\"fill:#ff7f0e;stroke:#ff7f0e;\" x=\"89.876936\" xlink:href=\"#m86b13ac7b4\" y=\"193.369225\"/>\n     <use style=\"fill:#ff7f0e;stroke:#ff7f0e;\" x=\"332.125544\" xlink:href=\"#m86b13ac7b4\" y=\"207.441079\"/>\n     <use style=\"fill:#ff7f0e;stroke:#ff7f0e;\" x=\"245.164506\" xlink:href=\"#m86b13ac7b4\" y=\"202.389644\"/>\n     <use style=\"fill:#ff7f0e;stroke:#ff7f0e;\" x=\"192.366733\" xlink:href=\"#m86b13ac7b4\" y=\"199.322702\"/>\n     <use style=\"fill:#ff7f0e;stroke:#ff7f0e;\" x=\"341.442798\" xlink:href=\"#m86b13ac7b4\" y=\"207.982304\"/>\n     <use style=\"fill:#ff7f0e;stroke:#ff7f0e;\" x=\"270.010529\" xlink:href=\"#m86b13ac7b4\" y=\"203.832912\"/>\n     <use style=\"fill:#ff7f0e;stroke:#ff7f0e;\" x=\"310.385291\" xlink:href=\"#m86b13ac7b4\" y=\"206.178221\"/>\n     <use style=\"fill:#ff7f0e;stroke:#ff7f0e;\" x=\"223.424254\" xlink:href=\"#m86b13ac7b4\" y=\"201.126786\"/>\n     <use style=\"fill:#ff7f0e;stroke:#ff7f0e;\" x=\"363.183078\" xlink:href=\"#m86b13ac7b4\" y=\"209.245164\"/>\n     <use style=\"fill:#ff7f0e;stroke:#ff7f0e;\" x=\"195.472489\" xlink:href=\"#m86b13ac7b4\" y=\"199.503111\"/>\n     <use style=\"fill:#ff7f0e;stroke:#ff7f0e;\" x=\"105.405696\" xlink:href=\"#m86b13ac7b4\" y=\"194.271267\"/>\n     <use style=\"fill:#ff7f0e;stroke:#ff7f0e;\" x=\"214.106999\" xlink:href=\"#m86b13ac7b4\" y=\"200.585561\"/>\n     <use style=\"fill:#ff7f0e;stroke:#ff7f0e;\" x=\"254.481761\" xlink:href=\"#m86b13ac7b4\" y=\"202.93087\"/>\n     <use style=\"fill:#ff7f0e;stroke:#ff7f0e;\" x=\"170.626481\" xlink:href=\"#m86b13ac7b4\" y=\"198.059844\"/>\n     <use style=\"fill:#ff7f0e;stroke:#ff7f0e;\" x=\"130.251705\" xlink:href=\"#m86b13ac7b4\" y=\"195.714534\"/>\n     <use style=\"fill:#ff7f0e;stroke:#ff7f0e;\" x=\"102.299947\" xlink:href=\"#m86b13ac7b4\" y=\"194.090859\"/>\n     <use style=\"fill:#ff7f0e;stroke:#ff7f0e;\" x=\"211.001243\" xlink:href=\"#m86b13ac7b4\" y=\"200.405152\"/>\n     <use style=\"fill:#ff7f0e;stroke:#ff7f0e;\" x=\"111.617202\" xlink:href=\"#m86b13ac7b4\" y=\"194.632084\"/>\n     <use style=\"fill:#ff7f0e;stroke:#ff7f0e;\" x=\"378.711818\" xlink:href=\"#m86b13ac7b4\" y=\"210.147205\"/>\n     <use style=\"fill:#ff7f0e;stroke:#ff7f0e;\" x=\"282.433526\" xlink:href=\"#m86b13ac7b4\" y=\"204.554545\"/>\n     <use style=\"fill:#ff7f0e;stroke:#ff7f0e;\" x=\"179.943735\" xlink:href=\"#m86b13ac7b4\" y=\"198.601069\"/>\n     <use style=\"fill:#ff7f0e;stroke:#ff7f0e;\" x=\"313.491034\" xlink:href=\"#m86b13ac7b4\" y=\"206.358629\"/>\n     <use style=\"fill:#ff7f0e;stroke:#ff7f0e;\" x=\"130.251705\" xlink:href=\"#m86b13ac7b4\" y=\"195.714534\"/>\n     <use style=\"fill:#ff7f0e;stroke:#ff7f0e;\" x=\"167.520724\" xlink:href=\"#m86b13ac7b4\" y=\"197.879435\"/>\n     <use style=\"fill:#ff7f0e;stroke:#ff7f0e;\" x=\"136.46321\" xlink:href=\"#m86b13ac7b4\" y=\"196.075351\"/>\n     <use style=\"fill:#ff7f0e;stroke:#ff7f0e;\" x=\"257.587504\" xlink:href=\"#m86b13ac7b4\" y=\"203.111277\"/>\n     <use style=\"fill:#ff7f0e;stroke:#ff7f0e;\" x=\"294.856524\" xlink:href=\"#m86b13ac7b4\" y=\"205.276178\"/>\n     <use style=\"fill:#ff7f0e;stroke:#ff7f0e;\" x=\"316.596803\" xlink:href=\"#m86b13ac7b4\" y=\"206.539038\"/>\n     <use style=\"fill:#ff7f0e;stroke:#ff7f0e;\" x=\"232.741509\" xlink:href=\"#m86b13ac7b4\" y=\"201.668011\"/>\n     <use style=\"fill:#ff7f0e;stroke:#ff7f0e;\" x=\"92.982692\" xlink:href=\"#m86b13ac7b4\" y=\"193.549634\"/>\n     <use style=\"fill:#ff7f0e;stroke:#ff7f0e;\" x=\"273.116271\" xlink:href=\"#m86b13ac7b4\" y=\"204.01332\"/>\n     <use style=\"fill:#ff7f0e;stroke:#ff7f0e;\" x=\"347.654311\" xlink:href=\"#m86b13ac7b4\" y=\"208.343121\"/>\n     <use style=\"fill:#ff7f0e;stroke:#ff7f0e;\" x=\"279.327784\" xlink:href=\"#m86b13ac7b4\" y=\"204.374137\"/>\n     <use style=\"fill:#ff7f0e;stroke:#ff7f0e;\" x=\"195.472489\" xlink:href=\"#m86b13ac7b4\" y=\"199.503111\"/>\n     <use style=\"fill:#ff7f0e;stroke:#ff7f0e;\" x=\"161.309226\" xlink:href=\"#m86b13ac7b4\" y=\"197.518618\"/>\n     <use style=\"fill:#ff7f0e;stroke:#ff7f0e;\" x=\"266.904759\" xlink:href=\"#m86b13ac7b4\" y=\"203.652503\"/>\n     <use style=\"fill:#ff7f0e;stroke:#ff7f0e;\" x=\"207.8955\" xlink:href=\"#m86b13ac7b4\" y=\"200.224744\"/>\n     <use style=\"fill:#ff7f0e;stroke:#ff7f0e;\" x=\"120.93445\" xlink:href=\"#m86b13ac7b4\" y=\"195.173309\"/>\n     <use style=\"fill:#ff7f0e;stroke:#ff7f0e;\" x=\"105.405696\" xlink:href=\"#m86b13ac7b4\" y=\"194.271267\"/>\n     <use style=\"fill:#ff7f0e;stroke:#ff7f0e;\" x=\"183.049478\" xlink:href=\"#m86b13ac7b4\" y=\"198.781477\"/>\n     <use style=\"fill:#ff7f0e;stroke:#ff7f0e;\" x=\"257.587504\" xlink:href=\"#m86b13ac7b4\" y=\"203.111277\"/>\n     <use style=\"fill:#ff7f0e;stroke:#ff7f0e;\" x=\"92.982692\" xlink:href=\"#m86b13ac7b4\" y=\"193.549634\"/>\n     <use style=\"fill:#ff7f0e;stroke:#ff7f0e;\" x=\"344.548568\" xlink:href=\"#m86b13ac7b4\" y=\"208.162714\"/>\n     <use style=\"fill:#ff7f0e;stroke:#ff7f0e;\" x=\"217.212742\" xlink:href=\"#m86b13ac7b4\" y=\"200.765969\"/>\n     <use style=\"fill:#ff7f0e;stroke:#ff7f0e;\" x=\"164.414968\" xlink:href=\"#m86b13ac7b4\" y=\"197.699026\"/>\n     <use style=\"fill:#ff7f0e;stroke:#ff7f0e;\" x=\"124.040206\" xlink:href=\"#m86b13ac7b4\" y=\"195.353718\"/>\n     <use style=\"fill:#ff7f0e;stroke:#ff7f0e;\" x=\"291.750781\" xlink:href=\"#m86b13ac7b4\" y=\"205.09577\"/>\n     <use style=\"fill:#ff7f0e;stroke:#ff7f0e;\" x=\"117.8287\" xlink:href=\"#m86b13ac7b4\" y=\"194.992901\"/>\n     <use style=\"fill:#ff7f0e;stroke:#ff7f0e;\" x=\"304.173779\" xlink:href=\"#m86b13ac7b4\" y=\"205.817403\"/>\n     <use style=\"fill:#ff7f0e;stroke:#ff7f0e;\" x=\"108.511445\" xlink:href=\"#m86b13ac7b4\" y=\"194.451676\"/>\n     <use style=\"fill:#ff7f0e;stroke:#ff7f0e;\" x=\"245.164506\" xlink:href=\"#m86b13ac7b4\" y=\"202.389644\"/>\n     <use style=\"fill:#ff7f0e;stroke:#ff7f0e;\" x=\"223.424254\" xlink:href=\"#m86b13ac7b4\" y=\"201.126786\"/>\n     <use style=\"fill:#ff7f0e;stroke:#ff7f0e;\" x=\"148.886215\" xlink:href=\"#m86b13ac7b4\" y=\"196.796985\"/>\n     <use style=\"fill:#ff7f0e;stroke:#ff7f0e;\" x=\"161.309226\" xlink:href=\"#m86b13ac7b4\" y=\"197.518618\"/>\n     <use style=\"fill:#ff7f0e;stroke:#ff7f0e;\" x=\"124.040206\" xlink:href=\"#m86b13ac7b4\" y=\"195.353718\"/>\n     <use style=\"fill:#ff7f0e;stroke:#ff7f0e;\" x=\"353.865823\" xlink:href=\"#m86b13ac7b4\" y=\"208.703939\"/>\n     <use style=\"fill:#ff7f0e;stroke:#ff7f0e;\" x=\"86.771186\" xlink:href=\"#m86b13ac7b4\" y=\"193.188817\"/>\n     <use style=\"fill:#ff7f0e;stroke:#ff7f0e;\" x=\"238.953008\" xlink:href=\"#m86b13ac7b4\" y=\"202.028828\"/>\n     <use style=\"fill:#ff7f0e;stroke:#ff7f0e;\" x=\"114.722951\" xlink:href=\"#m86b13ac7b4\" y=\"194.812493\"/>\n     <use style=\"fill:#ff7f0e;stroke:#ff7f0e;\" x=\"189.26099\" xlink:href=\"#m86b13ac7b4\" y=\"199.142294\"/>\n     <use style=\"fill:#ff7f0e;stroke:#ff7f0e;\" x=\"136.46321\" xlink:href=\"#m86b13ac7b4\" y=\"196.075351\"/>\n     <use style=\"fill:#ff7f0e;stroke:#ff7f0e;\" x=\"111.617202\" xlink:href=\"#m86b13ac7b4\" y=\"194.632084\"/>\n     <use style=\"fill:#ff7f0e;stroke:#ff7f0e;\" x=\"148.886215\" xlink:href=\"#m86b13ac7b4\" y=\"196.796985\"/>\n     <use style=\"fill:#ff7f0e;stroke:#ff7f0e;\" x=\"192.366733\" xlink:href=\"#m86b13ac7b4\" y=\"199.322702\"/>\n     <use style=\"fill:#ff7f0e;stroke:#ff7f0e;\" x=\"117.8287\" xlink:href=\"#m86b13ac7b4\" y=\"194.992901\"/>\n     <use style=\"fill:#ff7f0e;stroke:#ff7f0e;\" x=\"105.405696\" xlink:href=\"#m86b13ac7b4\" y=\"194.271267\"/>\n     <use style=\"fill:#ff7f0e;stroke:#ff7f0e;\" x=\"127.145955\" xlink:href=\"#m86b13ac7b4\" y=\"195.534126\"/>\n     <use style=\"fill:#ff7f0e;stroke:#ff7f0e;\" x=\"217.212742\" xlink:href=\"#m86b13ac7b4\" y=\"200.765969\"/>\n     <use style=\"fill:#ff7f0e;stroke:#ff7f0e;\" x=\"276.222014\" xlink:href=\"#m86b13ac7b4\" y=\"204.193728\"/>\n     <use style=\"fill:#ff7f0e;stroke:#ff7f0e;\" x=\"133.357461\" xlink:href=\"#m86b13ac7b4\" y=\"195.894943\"/>\n     <use style=\"fill:#ff7f0e;stroke:#ff7f0e;\" x=\"145.780458\" xlink:href=\"#m86b13ac7b4\" y=\"196.616576\"/>\n     <use style=\"fill:#ff7f0e;stroke:#ff7f0e;\" x=\"164.414968\" xlink:href=\"#m86b13ac7b4\" y=\"197.699026\"/>\n     <use style=\"fill:#ff7f0e;stroke:#ff7f0e;\" x=\"130.251705\" xlink:href=\"#m86b13ac7b4\" y=\"195.714534\"/>\n     <use style=\"fill:#ff7f0e;stroke:#ff7f0e;\" x=\"229.635753\" xlink:href=\"#m86b13ac7b4\" y=\"201.487603\"/>\n     <use style=\"fill:#ff7f0e;stroke:#ff7f0e;\" x=\"304.173779\" xlink:href=\"#m86b13ac7b4\" y=\"205.817403\"/>\n     <use style=\"fill:#ff7f0e;stroke:#ff7f0e;\" x=\"111.617202\" xlink:href=\"#m86b13ac7b4\" y=\"194.632084\"/>\n     <use style=\"fill:#ff7f0e;stroke:#ff7f0e;\" x=\"167.520724\" xlink:href=\"#m86b13ac7b4\" y=\"197.879435\"/>\n     <use style=\"fill:#ff7f0e;stroke:#ff7f0e;\" x=\"179.943735\" xlink:href=\"#m86b13ac7b4\" y=\"198.601069\"/>\n     <use style=\"fill:#ff7f0e;stroke:#ff7f0e;\" x=\"114.722951\" xlink:href=\"#m86b13ac7b4\" y=\"194.812493\"/>\n     <use style=\"fill:#ff7f0e;stroke:#ff7f0e;\" x=\"130.251705\" xlink:href=\"#m86b13ac7b4\" y=\"195.714534\"/>\n     <use style=\"fill:#ff7f0e;stroke:#ff7f0e;\" x=\"214.106999\" xlink:href=\"#m86b13ac7b4\" y=\"200.585561\"/>\n     <use style=\"fill:#ff7f0e;stroke:#ff7f0e;\" x=\"257.587504\" xlink:href=\"#m86b13ac7b4\" y=\"203.111277\"/>\n     <use style=\"fill:#ff7f0e;stroke:#ff7f0e;\" x=\"183.049478\" xlink:href=\"#m86b13ac7b4\" y=\"198.781477\"/>\n     <use style=\"fill:#ff7f0e;stroke:#ff7f0e;\" x=\"297.962293\" xlink:href=\"#m86b13ac7b4\" y=\"205.456588\"/>\n     <use style=\"fill:#ff7f0e;stroke:#ff7f0e;\" x=\"130.251705\" xlink:href=\"#m86b13ac7b4\" y=\"195.714534\"/>\n     <use style=\"fill:#ff7f0e;stroke:#ff7f0e;\" x=\"105.405696\" xlink:href=\"#m86b13ac7b4\" y=\"194.271267\"/>\n     <use style=\"fill:#ff7f0e;stroke:#ff7f0e;\" x=\"114.722951\" xlink:href=\"#m86b13ac7b4\" y=\"194.812493\"/>\n     <use style=\"fill:#ff7f0e;stroke:#ff7f0e;\" x=\"257.587504\" xlink:href=\"#m86b13ac7b4\" y=\"203.111277\"/>\n     <use style=\"fill:#ff7f0e;stroke:#ff7f0e;\" x=\"186.155234\" xlink:href=\"#m86b13ac7b4\" y=\"198.961885\"/>\n     <use style=\"fill:#ff7f0e;stroke:#ff7f0e;\" x=\"192.366733\" xlink:href=\"#m86b13ac7b4\" y=\"199.322702\"/>\n     <use style=\"fill:#ff7f0e;stroke:#ff7f0e;\" x=\"360.077308\" xlink:href=\"#m86b13ac7b4\" y=\"209.064755\"/>\n     <use style=\"fill:#ff7f0e;stroke:#ff7f0e;\" x=\"136.46321\" xlink:href=\"#m86b13ac7b4\" y=\"196.075351\"/>\n     <use style=\"fill:#ff7f0e;stroke:#ff7f0e;\" x=\"127.145955\" xlink:href=\"#m86b13ac7b4\" y=\"195.534126\"/>\n     <use style=\"fill:#ff7f0e;stroke:#ff7f0e;\" x=\"99.19419\" xlink:href=\"#m86b13ac7b4\" y=\"193.91045\"/>\n     <use style=\"fill:#ff7f0e;stroke:#ff7f0e;\" x=\"92.982692\" xlink:href=\"#m86b13ac7b4\" y=\"193.549634\"/>\n     <use style=\"fill:#ff7f0e;stroke:#ff7f0e;\" x=\"251.376019\" xlink:href=\"#m86b13ac7b4\" y=\"202.750462\"/>\n     <use style=\"fill:#ff7f0e;stroke:#ff7f0e;\" x=\"285.539269\" xlink:href=\"#m86b13ac7b4\" y=\"204.734953\"/>\n     <use style=\"fill:#ff7f0e;stroke:#ff7f0e;\" x=\"124.040206\" xlink:href=\"#m86b13ac7b4\" y=\"195.353718\"/>\n     <use style=\"fill:#ff7f0e;stroke:#ff7f0e;\" x=\"111.617202\" xlink:href=\"#m86b13ac7b4\" y=\"194.632084\"/>\n     <use style=\"fill:#ff7f0e;stroke:#ff7f0e;\" x=\"176.837979\" xlink:href=\"#m86b13ac7b4\" y=\"198.42066\"/>\n     <use style=\"fill:#ff7f0e;stroke:#ff7f0e;\" x=\"127.145955\" xlink:href=\"#m86b13ac7b4\" y=\"195.534126\"/>\n     <use style=\"fill:#ff7f0e;stroke:#ff7f0e;\" x=\"270.010529\" xlink:href=\"#m86b13ac7b4\" y=\"203.832912\"/>\n     <use style=\"fill:#ff7f0e;stroke:#ff7f0e;\" x=\"139.56896\" xlink:href=\"#m86b13ac7b4\" y=\"196.255759\"/>\n     <use style=\"fill:#ff7f0e;stroke:#ff7f0e;\" x=\"139.56896\" xlink:href=\"#m86b13ac7b4\" y=\"196.255759\"/>\n     <use style=\"fill:#ff7f0e;stroke:#ff7f0e;\" x=\"257.587504\" xlink:href=\"#m86b13ac7b4\" y=\"203.111277\"/>\n     <use style=\"fill:#ff7f0e;stroke:#ff7f0e;\" x=\"214.106999\" xlink:href=\"#m86b13ac7b4\" y=\"200.585561\"/>\n     <use style=\"fill:#ff7f0e;stroke:#ff7f0e;\" x=\"195.472489\" xlink:href=\"#m86b13ac7b4\" y=\"199.503111\"/>\n     <use style=\"fill:#ff7f0e;stroke:#ff7f0e;\" x=\"266.904759\" xlink:href=\"#m86b13ac7b4\" y=\"203.652503\"/>\n     <use style=\"fill:#ff7f0e;stroke:#ff7f0e;\" x=\"179.943735\" xlink:href=\"#m86b13ac7b4\" y=\"198.601069\"/>\n     <use style=\"fill:#ff7f0e;stroke:#ff7f0e;\" x=\"136.46321\" xlink:href=\"#m86b13ac7b4\" y=\"196.075351\"/>\n     <use style=\"fill:#ff7f0e;stroke:#ff7f0e;\" x=\"124.040206\" xlink:href=\"#m86b13ac7b4\" y=\"195.353718\"/>\n     <use style=\"fill:#ff7f0e;stroke:#ff7f0e;\" x=\"133.357461\" xlink:href=\"#m86b13ac7b4\" y=\"195.894943\"/>\n     <use style=\"fill:#ff7f0e;stroke:#ff7f0e;\" x=\"136.46321\" xlink:href=\"#m86b13ac7b4\" y=\"196.075351\"/>\n     <use style=\"fill:#ff7f0e;stroke:#ff7f0e;\" x=\"179.943735\" xlink:href=\"#m86b13ac7b4\" y=\"198.601069\"/>\n     <use style=\"fill:#ff7f0e;stroke:#ff7f0e;\" x=\"211.001243\" xlink:href=\"#m86b13ac7b4\" y=\"200.405152\"/>\n     <use style=\"fill:#ff7f0e;stroke:#ff7f0e;\" x=\"99.19419\" xlink:href=\"#m86b13ac7b4\" y=\"193.91045\"/>\n     <use style=\"fill:#ff7f0e;stroke:#ff7f0e;\" x=\"96.088441\" xlink:href=\"#m86b13ac7b4\" y=\"193.730042\"/>\n     <use style=\"fill:#ff7f0e;stroke:#ff7f0e;\" x=\"161.309226\" xlink:href=\"#m86b13ac7b4\" y=\"197.518618\"/>\n     <use style=\"fill:#ff7f0e;stroke:#ff7f0e;\" x=\"96.088441\" xlink:href=\"#m86b13ac7b4\" y=\"193.730042\"/>\n     <use style=\"fill:#ff7f0e;stroke:#ff7f0e;\" x=\"136.46321\" xlink:href=\"#m86b13ac7b4\" y=\"196.075351\"/>\n     <use style=\"fill:#ff7f0e;stroke:#ff7f0e;\" x=\"198.578245\" xlink:href=\"#m86b13ac7b4\" y=\"199.683519\"/>\n     <use style=\"fill:#ff7f0e;stroke:#ff7f0e;\" x=\"102.299947\" xlink:href=\"#m86b13ac7b4\" y=\"194.090859\"/>\n     <use style=\"fill:#ff7f0e;stroke:#ff7f0e;\" x=\"139.56896\" xlink:href=\"#m86b13ac7b4\" y=\"196.255759\"/>\n     <use style=\"fill:#ff7f0e;stroke:#ff7f0e;\" x=\"148.886215\" xlink:href=\"#m86b13ac7b4\" y=\"196.796985\"/>\n     <use style=\"fill:#ff7f0e;stroke:#ff7f0e;\" x=\"170.626481\" xlink:href=\"#m86b13ac7b4\" y=\"198.059844\"/>\n     <use style=\"fill:#ff7f0e;stroke:#ff7f0e;\" x=\"102.299947\" xlink:href=\"#m86b13ac7b4\" y=\"194.090859\"/>\n     <use style=\"fill:#ff7f0e;stroke:#ff7f0e;\" x=\"74.348182\" xlink:href=\"#m86b13ac7b4\" y=\"192.467184\"/>\n     <use style=\"fill:#ff7f0e;stroke:#ff7f0e;\" x=\"220.318498\" xlink:href=\"#m86b13ac7b4\" y=\"200.946377\"/>\n     <use style=\"fill:#ff7f0e;stroke:#ff7f0e;\" x=\"220.318498\" xlink:href=\"#m86b13ac7b4\" y=\"200.946377\"/>\n     <use style=\"fill:#ff7f0e;stroke:#ff7f0e;\" x=\"133.357461\" xlink:href=\"#m86b13ac7b4\" y=\"195.894943\"/>\n     <use style=\"fill:#ff7f0e;stroke:#ff7f0e;\" x=\"173.732223\" xlink:href=\"#m86b13ac7b4\" y=\"198.240252\"/>\n     <use style=\"fill:#ff7f0e;stroke:#ff7f0e;\" x=\"142.674716\" xlink:href=\"#m86b13ac7b4\" y=\"196.436168\"/>\n     <use style=\"fill:#ff7f0e;stroke:#ff7f0e;\" x=\"201.683988\" xlink:href=\"#m86b13ac7b4\" y=\"199.863927\"/>\n     <use style=\"fill:#ff7f0e;stroke:#ff7f0e;\" x=\"114.722951\" xlink:href=\"#m86b13ac7b4\" y=\"194.812493\"/>\n     <use style=\"fill:#ff7f0e;stroke:#ff7f0e;\" x=\"170.626481\" xlink:href=\"#m86b13ac7b4\" y=\"198.059844\"/>\n     <use style=\"fill:#ff7f0e;stroke:#ff7f0e;\" x=\"148.886215\" xlink:href=\"#m86b13ac7b4\" y=\"196.796985\"/>\n     <use style=\"fill:#ff7f0e;stroke:#ff7f0e;\" x=\"130.251705\" xlink:href=\"#m86b13ac7b4\" y=\"195.714534\"/>\n     <use style=\"fill:#ff7f0e;stroke:#ff7f0e;\" x=\"151.991971\" xlink:href=\"#m86b13ac7b4\" y=\"196.977393\"/>\n     <use style=\"fill:#ff7f0e;stroke:#ff7f0e;\" x=\"198.578245\" xlink:href=\"#m86b13ac7b4\" y=\"199.683519\"/>\n     <use style=\"fill:#ff7f0e;stroke:#ff7f0e;\" x=\"220.318498\" xlink:href=\"#m86b13ac7b4\" y=\"200.946377\"/>\n     <use style=\"fill:#ff7f0e;stroke:#ff7f0e;\" x=\"83.665437\" xlink:href=\"#m86b13ac7b4\" y=\"193.008409\"/>\n     <use style=\"fill:#ff7f0e;stroke:#ff7f0e;\" x=\"310.385291\" xlink:href=\"#m86b13ac7b4\" y=\"206.178221\"/>\n     <use style=\"fill:#ff7f0e;stroke:#ff7f0e;\" x=\"99.19419\" xlink:href=\"#m86b13ac7b4\" y=\"193.91045\"/>\n     <use style=\"fill:#ff7f0e;stroke:#ff7f0e;\" x=\"192.366733\" xlink:href=\"#m86b13ac7b4\" y=\"199.322702\"/>\n     <use style=\"fill:#ff7f0e;stroke:#ff7f0e;\" x=\"130.251705\" xlink:href=\"#m86b13ac7b4\" y=\"195.714534\"/>\n     <use style=\"fill:#ff7f0e;stroke:#ff7f0e;\" x=\"273.116271\" xlink:href=\"#m86b13ac7b4\" y=\"204.01332\"/>\n     <use style=\"fill:#ff7f0e;stroke:#ff7f0e;\" x=\"77.453931\" xlink:href=\"#m86b13ac7b4\" y=\"192.647592\"/>\n     <use style=\"fill:#ff7f0e;stroke:#ff7f0e;\" x=\"151.991971\" xlink:href=\"#m86b13ac7b4\" y=\"196.977393\"/>\n     <use style=\"fill:#ff7f0e;stroke:#ff7f0e;\" x=\"108.511445\" xlink:href=\"#m86b13ac7b4\" y=\"194.451676\"/>\n     <use style=\"fill:#ff7f0e;stroke:#ff7f0e;\" x=\"164.414968\" xlink:href=\"#m86b13ac7b4\" y=\"197.699026\"/>\n     <use style=\"fill:#ff7f0e;stroke:#ff7f0e;\" x=\"86.771186\" xlink:href=\"#m86b13ac7b4\" y=\"193.188817\"/>\n    </g>\n   </g>\n   <g id=\"matplotlib.axis_1\">\n    <g id=\"xtick_1\">\n     <g id=\"line2d_1\">\n      <defs>\n       <path d=\"M 0 0 \nL 0 3.5 \n\" id=\"mf2c1db873f\" style=\"stroke:#000000;stroke-width:0.8;\"/>\n      </defs>\n      <g>\n       <use style=\"stroke:#000000;stroke-width:0.8;\" x=\"115.033525\" xlink:href=\"#mf2c1db873f\" y=\"224.64\"/>\n      </g>\n     </g>\n     <g id=\"text_1\">\n      <!-- 0.1 -->\n      <g transform=\"translate(102.311025 243.7975)scale(0.16 -0.16)\">\n       <defs>\n        <path d=\"M 2034 4250 \nQ 1547 4250 1301 3770 \nQ 1056 3291 1056 2328 \nQ 1056 1369 1301 889 \nQ 1547 409 2034 409 \nQ 2525 409 2770 889 \nQ 3016 1369 3016 2328 \nQ 3016 3291 2770 3770 \nQ 2525 4250 2034 4250 \nz\nM 2034 4750 \nQ 2819 4750 3233 4129 \nQ 3647 3509 3647 2328 \nQ 3647 1150 3233 529 \nQ 2819 -91 2034 -91 \nQ 1250 -91 836 529 \nQ 422 1150 422 2328 \nQ 422 3509 836 4129 \nQ 1250 4750 2034 4750 \nz\n\" id=\"DejaVuSans-30\" transform=\"scale(0.015625)\"/>\n        <path d=\"M 684 794 \nL 1344 794 \nL 1344 0 \nL 684 0 \nL 684 794 \nz\n\" id=\"DejaVuSans-2e\" transform=\"scale(0.015625)\"/>\n        <path d=\"M 794 531 \nL 1825 531 \nL 1825 4091 \nL 703 3866 \nL 703 4441 \nL 1819 4666 \nL 2450 4666 \nL 2450 531 \nL 3481 531 \nL 3481 0 \nL 794 0 \nL 794 531 \nz\n\" id=\"DejaVuSans-31\" transform=\"scale(0.015625)\"/>\n       </defs>\n       <use xlink:href=\"#DejaVuSans-30\"/>\n       <use x=\"63.623047\" xlink:href=\"#DejaVuSans-2e\"/>\n       <use x=\"95.410156\" xlink:href=\"#DejaVuSans-31\"/>\n      </g>\n     </g>\n    </g>\n    <g id=\"xtick_2\">\n     <g id=\"line2d_2\">\n      <g>\n       <use style=\"stroke:#000000;stroke-width:0.8;\" x=\"205.410893\" xlink:href=\"#mf2c1db873f\" y=\"224.64\"/>\n      </g>\n     </g>\n     <g id=\"text_2\">\n      <!-- 0.2 -->\n      <g transform=\"translate(192.688393 243.7975)scale(0.16 -0.16)\">\n       <defs>\n        <path d=\"M 1228 531 \nL 3431 531 \nL 3431 0 \nL 469 0 \nL 469 531 \nQ 828 903 1448 1529 \nQ 2069 2156 2228 2338 \nQ 2531 2678 2651 2914 \nQ 2772 3150 2772 3378 \nQ 2772 3750 2511 3984 \nQ 2250 4219 1831 4219 \nQ 1534 4219 1204 4116 \nQ 875 4013 500 3803 \nL 500 4441 \nQ 881 4594 1212 4672 \nQ 1544 4750 1819 4750 \nQ 2544 4750 2975 4387 \nQ 3406 4025 3406 3419 \nQ 3406 3131 3298 2873 \nQ 3191 2616 2906 2266 \nQ 2828 2175 2409 1742 \nQ 1991 1309 1228 531 \nz\n\" id=\"DejaVuSans-32\" transform=\"scale(0.015625)\"/>\n       </defs>\n       <use xlink:href=\"#DejaVuSans-30\"/>\n       <use x=\"63.623047\" xlink:href=\"#DejaVuSans-2e\"/>\n       <use x=\"95.410156\" xlink:href=\"#DejaVuSans-32\"/>\n      </g>\n     </g>\n    </g>\n    <g id=\"xtick_3\">\n     <g id=\"line2d_3\">\n      <g>\n       <use style=\"stroke:#000000;stroke-width:0.8;\" x=\"295.78826\" xlink:href=\"#mf2c1db873f\" y=\"224.64\"/>\n      </g>\n     </g>\n     <g id=\"text_3\">\n      <!-- 0.3 -->\n      <g transform=\"translate(283.06576 243.7975)scale(0.16 -0.16)\">\n       <defs>\n        <path d=\"M 2597 2516 \nQ 3050 2419 3304 2112 \nQ 3559 1806 3559 1356 \nQ 3559 666 3084 287 \nQ 2609 -91 1734 -91 \nQ 1441 -91 1130 -33 \nQ 819 25 488 141 \nL 488 750 \nQ 750 597 1062 519 \nQ 1375 441 1716 441 \nQ 2309 441 2620 675 \nQ 2931 909 2931 1356 \nQ 2931 1769 2642 2001 \nQ 2353 2234 1838 2234 \nL 1294 2234 \nL 1294 2753 \nL 1863 2753 \nQ 2328 2753 2575 2939 \nQ 2822 3125 2822 3475 \nQ 2822 3834 2567 4026 \nQ 2313 4219 1838 4219 \nQ 1578 4219 1281 4162 \nQ 984 4106 628 3988 \nL 628 4550 \nQ 988 4650 1302 4700 \nQ 1616 4750 1894 4750 \nQ 2613 4750 3031 4423 \nQ 3450 4097 3450 3541 \nQ 3450 3153 3228 2886 \nQ 3006 2619 2597 2516 \nz\n\" id=\"DejaVuSans-33\" transform=\"scale(0.015625)\"/>\n       </defs>\n       <use xlink:href=\"#DejaVuSans-30\"/>\n       <use x=\"63.623047\" xlink:href=\"#DejaVuSans-2e\"/>\n       <use x=\"95.410156\" xlink:href=\"#DejaVuSans-33\"/>\n      </g>\n     </g>\n    </g>\n    <g id=\"xtick_4\">\n     <g id=\"line2d_4\">\n      <g>\n       <use style=\"stroke:#000000;stroke-width:0.8;\" x=\"386.165628\" xlink:href=\"#mf2c1db873f\" y=\"224.64\"/>\n      </g>\n     </g>\n     <g id=\"text_4\">\n      <!-- 0.4 -->\n      <g transform=\"translate(373.443128 243.7975)scale(0.16 -0.16)\">\n       <defs>\n        <path d=\"M 2419 4116 \nL 825 1625 \nL 2419 1625 \nL 2419 4116 \nz\nM 2253 4666 \nL 3047 4666 \nL 3047 1625 \nL 3713 1625 \nL 3713 1100 \nL 3047 1100 \nL 3047 0 \nL 2419 0 \nL 2419 1100 \nL 313 1100 \nL 313 1709 \nL 2253 4666 \nz\n\" id=\"DejaVuSans-34\" transform=\"scale(0.015625)\"/>\n       </defs>\n       <use xlink:href=\"#DejaVuSans-30\"/>\n       <use x=\"63.623047\" xlink:href=\"#DejaVuSans-2e\"/>\n       <use x=\"95.410156\" xlink:href=\"#DejaVuSans-34\"/>\n      </g>\n     </g>\n    </g>\n    <g id=\"text_5\">\n     <!-- gaze_time -->\n     <g transform=\"translate(185.35375 263.2825)scale(0.16 -0.16)\">\n      <defs>\n       <path d=\"M 2906 1791 \nQ 2906 2416 2648 2759 \nQ 2391 3103 1925 3103 \nQ 1463 3103 1205 2759 \nQ 947 2416 947 1791 \nQ 947 1169 1205 825 \nQ 1463 481 1925 481 \nQ 2391 481 2648 825 \nQ 2906 1169 2906 1791 \nz\nM 3481 434 \nQ 3481 -459 3084 -895 \nQ 2688 -1331 1869 -1331 \nQ 1566 -1331 1297 -1286 \nQ 1028 -1241 775 -1147 \nL 775 -588 \nQ 1028 -725 1275 -790 \nQ 1522 -856 1778 -856 \nQ 2344 -856 2625 -561 \nQ 2906 -266 2906 331 \nL 2906 616 \nQ 2728 306 2450 153 \nQ 2172 0 1784 0 \nQ 1141 0 747 490 \nQ 353 981 353 1791 \nQ 353 2603 747 3093 \nQ 1141 3584 1784 3584 \nQ 2172 3584 2450 3431 \nQ 2728 3278 2906 2969 \nL 2906 3500 \nL 3481 3500 \nL 3481 434 \nz\n\" id=\"DejaVuSans-67\" transform=\"scale(0.015625)\"/>\n       <path d=\"M 2194 1759 \nQ 1497 1759 1228 1600 \nQ 959 1441 959 1056 \nQ 959 750 1161 570 \nQ 1363 391 1709 391 \nQ 2188 391 2477 730 \nQ 2766 1069 2766 1631 \nL 2766 1759 \nL 2194 1759 \nz\nM 3341 1997 \nL 3341 0 \nL 2766 0 \nL 2766 531 \nQ 2569 213 2275 61 \nQ 1981 -91 1556 -91 \nQ 1019 -91 701 211 \nQ 384 513 384 1019 \nQ 384 1609 779 1909 \nQ 1175 2209 1959 2209 \nL 2766 2209 \nL 2766 2266 \nQ 2766 2663 2505 2880 \nQ 2244 3097 1772 3097 \nQ 1472 3097 1187 3025 \nQ 903 2953 641 2809 \nL 641 3341 \nQ 956 3463 1253 3523 \nQ 1550 3584 1831 3584 \nQ 2591 3584 2966 3190 \nQ 3341 2797 3341 1997 \nz\n\" id=\"DejaVuSans-61\" transform=\"scale(0.015625)\"/>\n       <path d=\"M 353 3500 \nL 3084 3500 \nL 3084 2975 \nL 922 459 \nL 3084 459 \nL 3084 0 \nL 275 0 \nL 275 525 \nL 2438 3041 \nL 353 3041 \nL 353 3500 \nz\n\" id=\"DejaVuSans-7a\" transform=\"scale(0.015625)\"/>\n       <path d=\"M 3597 1894 \nL 3597 1613 \nL 953 1613 \nQ 991 1019 1311 708 \nQ 1631 397 2203 397 \nQ 2534 397 2845 478 \nQ 3156 559 3463 722 \nL 3463 178 \nQ 3153 47 2828 -22 \nQ 2503 -91 2169 -91 \nQ 1331 -91 842 396 \nQ 353 884 353 1716 \nQ 353 2575 817 3079 \nQ 1281 3584 2069 3584 \nQ 2775 3584 3186 3129 \nQ 3597 2675 3597 1894 \nz\nM 3022 2063 \nQ 3016 2534 2758 2815 \nQ 2500 3097 2075 3097 \nQ 1594 3097 1305 2825 \nQ 1016 2553 972 2059 \nL 3022 2063 \nz\n\" id=\"DejaVuSans-65\" transform=\"scale(0.015625)\"/>\n       <path d=\"M 3263 -1063 \nL 3263 -1509 \nL -63 -1509 \nL -63 -1063 \nL 3263 -1063 \nz\n\" id=\"DejaVuSans-5f\" transform=\"scale(0.015625)\"/>\n       <path d=\"M 1172 4494 \nL 1172 3500 \nL 2356 3500 \nL 2356 3053 \nL 1172 3053 \nL 1172 1153 \nQ 1172 725 1289 603 \nQ 1406 481 1766 481 \nL 2356 481 \nL 2356 0 \nL 1766 0 \nQ 1100 0 847 248 \nQ 594 497 594 1153 \nL 594 3053 \nL 172 3053 \nL 172 3500 \nL 594 3500 \nL 594 4494 \nL 1172 4494 \nz\n\" id=\"DejaVuSans-74\" transform=\"scale(0.015625)\"/>\n       <path d=\"M 603 3500 \nL 1178 3500 \nL 1178 0 \nL 603 0 \nL 603 3500 \nz\nM 603 4863 \nL 1178 4863 \nL 1178 4134 \nL 603 4134 \nL 603 4863 \nz\n\" id=\"DejaVuSans-69\" transform=\"scale(0.015625)\"/>\n       <path d=\"M 3328 2828 \nQ 3544 3216 3844 3400 \nQ 4144 3584 4550 3584 \nQ 5097 3584 5394 3201 \nQ 5691 2819 5691 2113 \nL 5691 0 \nL 5113 0 \nL 5113 2094 \nQ 5113 2597 4934 2840 \nQ 4756 3084 4391 3084 \nQ 3944 3084 3684 2787 \nQ 3425 2491 3425 1978 \nL 3425 0 \nL 2847 0 \nL 2847 2094 \nQ 2847 2600 2669 2842 \nQ 2491 3084 2119 3084 \nQ 1678 3084 1418 2786 \nQ 1159 2488 1159 1978 \nL 1159 0 \nL 581 0 \nL 581 3500 \nL 1159 3500 \nL 1159 2956 \nQ 1356 3278 1631 3431 \nQ 1906 3584 2284 3584 \nQ 2666 3584 2933 3390 \nQ 3200 3197 3328 2828 \nz\n\" id=\"DejaVuSans-6d\" transform=\"scale(0.015625)\"/>\n      </defs>\n      <use xlink:href=\"#DejaVuSans-67\"/>\n      <use x=\"63.476562\" xlink:href=\"#DejaVuSans-61\"/>\n      <use x=\"124.755859\" xlink:href=\"#DejaVuSans-7a\"/>\n      <use x=\"177.246094\" xlink:href=\"#DejaVuSans-65\"/>\n      <use x=\"238.769531\" xlink:href=\"#DejaVuSans-5f\"/>\n      <use x=\"288.769531\" xlink:href=\"#DejaVuSans-74\"/>\n      <use x=\"327.978516\" xlink:href=\"#DejaVuSans-69\"/>\n      <use x=\"355.761719\" xlink:href=\"#DejaVuSans-6d\"/>\n      <use x=\"453.173828\" xlink:href=\"#DejaVuSans-65\"/>\n     </g>\n    </g>\n   </g>\n   <g id=\"matplotlib.axis_2\">\n    <g id=\"ytick_1\">\n     <g id=\"line2d_5\">\n      <defs>\n       <path d=\"M 0 0 \nL -3.5 0 \n\" id=\"m3380abbbe4\" style=\"stroke:#000000;stroke-width:0.8;\"/>\n      </defs>\n      <g>\n       <use style=\"stroke:#000000;stroke-width:0.8;\" x=\"59.13\" xlink:href=\"#m3380abbbe4\" y=\"215.775303\"/>\n      </g>\n     </g>\n     <g id=\"text_6\">\n      <!-- 0.0 -->\n      <g transform=\"translate(26.685 221.854053)scale(0.16 -0.16)\">\n       <use xlink:href=\"#DejaVuSans-30\"/>\n       <use x=\"63.623047\" xlink:href=\"#DejaVuSans-2e\"/>\n       <use x=\"95.410156\" xlink:href=\"#DejaVuSans-30\"/>\n      </g>\n     </g>\n    </g>\n    <g id=\"ytick_2\">\n     <g id=\"line2d_6\">\n      <g>\n       <use style=\"stroke:#000000;stroke-width:0.8;\" x=\"59.13\" xlink:href=\"#m3380abbbe4\" y=\"176.03697\"/>\n      </g>\n     </g>\n     <g id=\"text_7\">\n      <!-- 0.2 -->\n      <g transform=\"translate(26.685 182.11572)scale(0.16 -0.16)\">\n       <use xlink:href=\"#DejaVuSans-30\"/>\n       <use x=\"63.623047\" xlink:href=\"#DejaVuSans-2e\"/>\n       <use x=\"95.410156\" xlink:href=\"#DejaVuSans-32\"/>\n      </g>\n     </g>\n    </g>\n    <g id=\"ytick_3\">\n     <g id=\"line2d_7\">\n      <g>\n       <use style=\"stroke:#000000;stroke-width:0.8;\" x=\"59.13\" xlink:href=\"#m3380abbbe4\" y=\"136.298636\"/>\n      </g>\n     </g>\n     <g id=\"text_8\">\n      <!-- 0.4 -->\n      <g transform=\"translate(26.685 142.377386)scale(0.16 -0.16)\">\n       <use xlink:href=\"#DejaVuSans-30\"/>\n       <use x=\"63.623047\" xlink:href=\"#DejaVuSans-2e\"/>\n       <use x=\"95.410156\" xlink:href=\"#DejaVuSans-34\"/>\n      </g>\n     </g>\n    </g>\n    <g id=\"ytick_4\">\n     <g id=\"line2d_8\">\n      <g>\n       <use style=\"stroke:#000000;stroke-width:0.8;\" x=\"59.13\" xlink:href=\"#m3380abbbe4\" y=\"96.560303\"/>\n      </g>\n     </g>\n     <g id=\"text_9\">\n      <!-- 0.6 -->\n      <g transform=\"translate(26.685 102.639053)scale(0.16 -0.16)\">\n       <defs>\n        <path d=\"M 2113 2584 \nQ 1688 2584 1439 2293 \nQ 1191 2003 1191 1497 \nQ 1191 994 1439 701 \nQ 1688 409 2113 409 \nQ 2538 409 2786 701 \nQ 3034 994 3034 1497 \nQ 3034 2003 2786 2293 \nQ 2538 2584 2113 2584 \nz\nM 3366 4563 \nL 3366 3988 \nQ 3128 4100 2886 4159 \nQ 2644 4219 2406 4219 \nQ 1781 4219 1451 3797 \nQ 1122 3375 1075 2522 \nQ 1259 2794 1537 2939 \nQ 1816 3084 2150 3084 \nQ 2853 3084 3261 2657 \nQ 3669 2231 3669 1497 \nQ 3669 778 3244 343 \nQ 2819 -91 2113 -91 \nQ 1303 -91 875 529 \nQ 447 1150 447 2328 \nQ 447 3434 972 4092 \nQ 1497 4750 2381 4750 \nQ 2619 4750 2861 4703 \nQ 3103 4656 3366 4563 \nz\n\" id=\"DejaVuSans-36\" transform=\"scale(0.015625)\"/>\n       </defs>\n       <use xlink:href=\"#DejaVuSans-30\"/>\n       <use x=\"63.623047\" xlink:href=\"#DejaVuSans-2e\"/>\n       <use x=\"95.410156\" xlink:href=\"#DejaVuSans-36\"/>\n      </g>\n     </g>\n    </g>\n    <g id=\"ytick_5\">\n     <g id=\"line2d_9\">\n      <g>\n       <use style=\"stroke:#000000;stroke-width:0.8;\" x=\"59.13\" xlink:href=\"#m3380abbbe4\" y=\"56.82197\"/>\n      </g>\n     </g>\n     <g id=\"text_10\">\n      <!-- 0.8 -->\n      <g transform=\"translate(26.685 62.90072)scale(0.16 -0.16)\">\n       <defs>\n        <path d=\"M 2034 2216 \nQ 1584 2216 1326 1975 \nQ 1069 1734 1069 1313 \nQ 1069 891 1326 650 \nQ 1584 409 2034 409 \nQ 2484 409 2743 651 \nQ 3003 894 3003 1313 \nQ 3003 1734 2745 1975 \nQ 2488 2216 2034 2216 \nz\nM 1403 2484 \nQ 997 2584 770 2862 \nQ 544 3141 544 3541 \nQ 544 4100 942 4425 \nQ 1341 4750 2034 4750 \nQ 2731 4750 3128 4425 \nQ 3525 4100 3525 3541 \nQ 3525 3141 3298 2862 \nQ 3072 2584 2669 2484 \nQ 3125 2378 3379 2068 \nQ 3634 1759 3634 1313 \nQ 3634 634 3220 271 \nQ 2806 -91 2034 -91 \nQ 1263 -91 848 271 \nQ 434 634 434 1313 \nQ 434 1759 690 2068 \nQ 947 2378 1403 2484 \nz\nM 1172 3481 \nQ 1172 3119 1398 2916 \nQ 1625 2713 2034 2713 \nQ 2441 2713 2670 2916 \nQ 2900 3119 2900 3481 \nQ 2900 3844 2670 4047 \nQ 2441 4250 2034 4250 \nQ 1625 4250 1398 4047 \nQ 1172 3844 1172 3481 \nz\n\" id=\"DejaVuSans-38\" transform=\"scale(0.015625)\"/>\n       </defs>\n       <use xlink:href=\"#DejaVuSans-30\"/>\n       <use x=\"63.623047\" xlink:href=\"#DejaVuSans-2e\"/>\n       <use x=\"95.410156\" xlink:href=\"#DejaVuSans-38\"/>\n      </g>\n     </g>\n    </g>\n    <g id=\"ytick_6\">\n     <g id=\"line2d_10\">\n      <g>\n       <use style=\"stroke:#000000;stroke-width:0.8;\" x=\"59.13\" xlink:href=\"#m3380abbbe4\" y=\"17.083636\"/>\n      </g>\n     </g>\n     <g id=\"text_11\">\n      <!-- 1.0 -->\n      <g transform=\"translate(26.685 23.162386)scale(0.16 -0.16)\">\n       <use xlink:href=\"#DejaVuSans-31\"/>\n       <use x=\"63.623047\" xlink:href=\"#DejaVuSans-2e\"/>\n       <use x=\"95.410156\" xlink:href=\"#DejaVuSans-30\"/>\n      </g>\n     </g>\n    </g>\n    <g id=\"text_12\">\n     <!-- pmx size -->\n     <g transform=\"translate(19.3575 151.58)rotate(-90)scale(0.16 -0.16)\">\n      <defs>\n       <path d=\"M 1159 525 \nL 1159 -1331 \nL 581 -1331 \nL 581 3500 \nL 1159 3500 \nL 1159 2969 \nQ 1341 3281 1617 3432 \nQ 1894 3584 2278 3584 \nQ 2916 3584 3314 3078 \nQ 3713 2572 3713 1747 \nQ 3713 922 3314 415 \nQ 2916 -91 2278 -91 \nQ 1894 -91 1617 61 \nQ 1341 213 1159 525 \nz\nM 3116 1747 \nQ 3116 2381 2855 2742 \nQ 2594 3103 2138 3103 \nQ 1681 3103 1420 2742 \nQ 1159 2381 1159 1747 \nQ 1159 1113 1420 752 \nQ 1681 391 2138 391 \nQ 2594 391 2855 752 \nQ 3116 1113 3116 1747 \nz\n\" id=\"DejaVuSans-70\" transform=\"scale(0.015625)\"/>\n       <path d=\"M 3513 3500 \nL 2247 1797 \nL 3578 0 \nL 2900 0 \nL 1881 1375 \nL 863 0 \nL 184 0 \nL 1544 1831 \nL 300 3500 \nL 978 3500 \nL 1906 2253 \nL 2834 3500 \nL 3513 3500 \nz\n\" id=\"DejaVuSans-78\" transform=\"scale(0.015625)\"/>\n       <path id=\"DejaVuSans-20\" transform=\"scale(0.015625)\"/>\n       <path d=\"M 2834 3397 \nL 2834 2853 \nQ 2591 2978 2328 3040 \nQ 2066 3103 1784 3103 \nQ 1356 3103 1142 2972 \nQ 928 2841 928 2578 \nQ 928 2378 1081 2264 \nQ 1234 2150 1697 2047 \nL 1894 2003 \nQ 2506 1872 2764 1633 \nQ 3022 1394 3022 966 \nQ 3022 478 2636 193 \nQ 2250 -91 1575 -91 \nQ 1294 -91 989 -36 \nQ 684 19 347 128 \nL 347 722 \nQ 666 556 975 473 \nQ 1284 391 1588 391 \nQ 1994 391 2212 530 \nQ 2431 669 2431 922 \nQ 2431 1156 2273 1281 \nQ 2116 1406 1581 1522 \nL 1381 1569 \nQ 847 1681 609 1914 \nQ 372 2147 372 2553 \nQ 372 3047 722 3315 \nQ 1072 3584 1716 3584 \nQ 2034 3584 2315 3537 \nQ 2597 3491 2834 3397 \nz\n\" id=\"DejaVuSans-73\" transform=\"scale(0.015625)\"/>\n      </defs>\n      <use xlink:href=\"#DejaVuSans-70\"/>\n      <use x=\"63.476562\" xlink:href=\"#DejaVuSans-6d\"/>\n      <use x=\"160.888672\" xlink:href=\"#DejaVuSans-78\"/>\n      <use x=\"220.068359\" xlink:href=\"#DejaVuSans-20\"/>\n      <use x=\"251.855469\" xlink:href=\"#DejaVuSans-73\"/>\n      <use x=\"303.955078\" xlink:href=\"#DejaVuSans-69\"/>\n      <use x=\"331.738281\" xlink:href=\"#DejaVuSans-7a\"/>\n      <use x=\"384.228516\" xlink:href=\"#DejaVuSans-65\"/>\n     </g>\n    </g>\n   </g>\n   <g id=\"patch_3\">\n    <path d=\"M 59.13 224.64 \nL 59.13 7.2 \n\" style=\"fill:none;stroke:#000000;stroke-linecap:square;stroke-linejoin:miter;stroke-width:0.8;\"/>\n   </g>\n   <g id=\"patch_4\">\n    <path d=\"M 393.93 224.64 \nL 393.93 7.2 \n\" style=\"fill:none;stroke:#000000;stroke-linecap:square;stroke-linejoin:miter;stroke-width:0.8;\"/>\n   </g>\n   <g id=\"patch_5\">\n    <path d=\"M 59.13 224.64 \nL 393.93 224.64 \n\" style=\"fill:none;stroke:#000000;stroke-linecap:square;stroke-linejoin:miter;stroke-width:0.8;\"/>\n   </g>\n   <g id=\"patch_6\">\n    <path d=\"M 59.13 7.2 \nL 393.93 7.2 \n\" style=\"fill:none;stroke:#000000;stroke-linecap:square;stroke-linejoin:miter;stroke-width:0.8;\"/>\n   </g>\n   <g id=\"legend_1\">\n    <g id=\"patch_7\">\n     <path d=\"M 218.9425 66.97 \nL 382.73 66.97 \nQ 385.93 66.97 385.93 63.77 \nL 385.93 18.4 \nQ 385.93 15.2 382.73 15.2 \nL 218.9425 15.2 \nQ 215.7425 15.2 215.7425 18.4 \nL 215.7425 63.77 \nQ 215.7425 66.97 218.9425 66.97 \nz\n\" style=\"fill:#ffffff;opacity:0.8;stroke:#cccccc;stroke-linejoin:miter;\"/>\n    </g>\n    <g id=\"PathCollection_3\">\n     <g>\n      <use style=\"fill:#1f77b4;stroke:#1f77b4;\" x=\"238.1425\" xlink:href=\"#m819f3e575c\" y=\"29.5575\"/>\n     </g>\n    </g>\n    <g id=\"text_13\">\n     <!-- raw -->\n     <g transform=\"translate(266.9425 33.7575)scale(0.16 -0.16)\">\n      <defs>\n       <path d=\"M 2631 2963 \nQ 2534 3019 2420 3045 \nQ 2306 3072 2169 3072 \nQ 1681 3072 1420 2755 \nQ 1159 2438 1159 1844 \nL 1159 0 \nL 581 0 \nL 581 3500 \nL 1159 3500 \nL 1159 2956 \nQ 1341 3275 1631 3429 \nQ 1922 3584 2338 3584 \nQ 2397 3584 2469 3576 \nQ 2541 3569 2628 3553 \nL 2631 2963 \nz\n\" id=\"DejaVuSans-72\" transform=\"scale(0.015625)\"/>\n       <path d=\"M 269 3500 \nL 844 3500 \nL 1563 769 \nL 2278 3500 \nL 2956 3500 \nL 3675 769 \nL 4391 3500 \nL 4966 3500 \nL 4050 0 \nL 3372 0 \nL 2619 2869 \nL 1863 0 \nL 1184 0 \nL 269 3500 \nz\n\" id=\"DejaVuSans-77\" transform=\"scale(0.015625)\"/>\n      </defs>\n      <use xlink:href=\"#DejaVuSans-72\"/>\n      <use x=\"41.113281\" xlink:href=\"#DejaVuSans-61\"/>\n      <use x=\"102.392578\" xlink:href=\"#DejaVuSans-77\"/>\n     </g>\n    </g>\n    <g id=\"PathCollection_4\">\n     <g>\n      <use style=\"fill:#ff7f0e;stroke:#ff7f0e;\" x=\"238.1425\" xlink:href=\"#m86b13ac7b4\" y=\"53.0425\"/>\n     </g>\n    </g>\n    <g id=\"text_14\">\n     <!-- y=-0.3x + 0.1 -->\n     <g transform=\"translate(266.9425 57.2425)scale(0.16 -0.16)\">\n      <defs>\n       <path d=\"M 2059 -325 \nQ 1816 -950 1584 -1140 \nQ 1353 -1331 966 -1331 \nL 506 -1331 \nL 506 -850 \nL 844 -850 \nQ 1081 -850 1212 -737 \nQ 1344 -625 1503 -206 \nL 1606 56 \nL 191 3500 \nL 800 3500 \nL 1894 763 \nL 2988 3500 \nL 3597 3500 \nL 2059 -325 \nz\n\" id=\"DejaVuSans-79\" transform=\"scale(0.015625)\"/>\n       <path d=\"M 678 2906 \nL 4684 2906 \nL 4684 2381 \nL 678 2381 \nL 678 2906 \nz\nM 678 1631 \nL 4684 1631 \nL 4684 1100 \nL 678 1100 \nL 678 1631 \nz\n\" id=\"DejaVuSans-3d\" transform=\"scale(0.015625)\"/>\n       <path d=\"M 313 2009 \nL 1997 2009 \nL 1997 1497 \nL 313 1497 \nL 313 2009 \nz\n\" id=\"DejaVuSans-2d\" transform=\"scale(0.015625)\"/>\n       <path d=\"M 2944 4013 \nL 2944 2272 \nL 4684 2272 \nL 4684 1741 \nL 2944 1741 \nL 2944 0 \nL 2419 0 \nL 2419 1741 \nL 678 1741 \nL 678 2272 \nL 2419 2272 \nL 2419 4013 \nL 2944 4013 \nz\n\" id=\"DejaVuSans-2b\" transform=\"scale(0.015625)\"/>\n      </defs>\n      <use xlink:href=\"#DejaVuSans-79\"/>\n      <use x=\"59.179688\" xlink:href=\"#DejaVuSans-3d\"/>\n      <use x=\"142.96875\" xlink:href=\"#DejaVuSans-2d\"/>\n      <use x=\"179.052734\" xlink:href=\"#DejaVuSans-30\"/>\n      <use x=\"242.675781\" xlink:href=\"#DejaVuSans-2e\"/>\n      <use x=\"274.462891\" xlink:href=\"#DejaVuSans-33\"/>\n      <use x=\"338.085938\" xlink:href=\"#DejaVuSans-78\"/>\n      <use x=\"397.265625\" xlink:href=\"#DejaVuSans-20\"/>\n      <use x=\"429.052734\" xlink:href=\"#DejaVuSans-2b\"/>\n      <use x=\"512.841797\" xlink:href=\"#DejaVuSans-20\"/>\n      <use x=\"544.628906\" xlink:href=\"#DejaVuSans-30\"/>\n      <use x=\"608.251953\" xlink:href=\"#DejaVuSans-2e\"/>\n      <use x=\"640.039062\" xlink:href=\"#DejaVuSans-31\"/>\n     </g>\n    </g>\n   </g>\n  </g>\n </g>\n <defs>\n  <clipPath id=\"p995d29733a\">\n   <rect height=\"217.44\" width=\"334.8\" x=\"59.13\" y=\"7.2\"/>\n  </clipPath>\n </defs>\n</svg>\n",
      "image/png": "[encoded data removed]"
     },
     "metadata": {
      "needs_background": "light"
     }
    },
    {
     "output_type": "stream",
     "name": "stdout",
     "text": [
      "MAE: 0.063\n",
      "Correlation: -0.21\n"
     ]
    }
   ],
   "metadata": {}
  },
  {
   "cell_type": "code",
   "execution_count": 11,
   "source": [
    "k = 50\n",
    "\n",
    "thresh1=np.sort(x_)[k]\n",
    "thresh2=np.sort(x_)[-k]\n",
    "slice_mask1 = x_ < thresh1\n",
    "slice_mask2 = x_ >= thresh2\n",
    "print(f\"Slice with time < {thresh1:.2f}, has {slice_mask1.sum()} points and an average pmx area of {y_[slice_mask1].mean():.3f}, {train_tubes[pos_mask][filtering_mask][slice_mask1].sum()} chest tubes, {train_female[pos_mask][filtering_mask][slice_mask1].sum()} females, {train_age[pos_mask][filtering_mask][slice_mask1].mean():.1f} average age, average female abn size: {y_[np.logical_and(slice_mask1,train_female[pos_mask][filtering_mask])].mean():.3f}\")\n",
    "print(f\"Slice with time > {thresh2:.2f}, has {slice_mask2.sum()} points and an average pmx area of {y_[slice_mask2].mean():.3f}, {train_tubes[pos_mask][filtering_mask][slice_mask2].sum()} chest tubes, {train_female[pos_mask][filtering_mask][slice_mask2].sum()} females, {train_age[pos_mask][filtering_mask][slice_mask2].mean():.1f} average age, average female abn size: {y_[np.logical_and(slice_mask2,train_female[pos_mask][filtering_mask])].mean():.3f}\")\n"
   ],
   "outputs": [
    {
     "output_type": "stream",
     "name": "stdout",
     "text": [
      "Slice with time < 0.12, has 47 points and an average pmx area of 0.109, 37.0 chest tubes, 19 females, 43.3 average age, average female abn size: 0.102\n",
      "Slice with time > 0.23, has 50 points and an average pmx area of 0.063, 34.0 chest tubes, 17 females, 49.7 average age, average female abn size: 0.046\n"
     ]
    }
   ],
   "metadata": {}
  },
  {
   "cell_type": "code",
   "execution_count": 12,
   "source": [
    "# what is the correlation between chest tubes and abnormal area?\n",
    "roc_auc_score(train_tubes[pos_mask][filtering_mask],y_)"
   ],
   "outputs": [
    {
     "output_type": "execute_result",
     "data": {
      "text/plain": [
       "0.48889850057670126"
      ]
     },
     "metadata": {},
     "execution_count": 12
    }
   ],
   "metadata": {}
  },
  {
   "cell_type": "markdown",
   "source": [
    "# Train Gaze Slicing functions\n",
    "\n",
    "We do this by extracting the ERM image features and training a logistic regression function to differentiate between the top 2 slices"
   ],
   "metadata": {}
  },
  {
   "cell_type": "code",
   "execution_count": 13,
   "source": [
    "# get erm activations\n",
    "model_pth=\"/home/ksaab/Documents/domino/scratch/khaled/results/method_erm/gaze_split_False/target_pmx/subgroup_none/lr_1e-05/wd_0.0/dropout_0/domino/pfr5uyh2/checkpoints/epoch=49-step=4349.ckpt\"\n",
    "\n",
    "dp_erm = get_cxr_activations(dp=dp, model_path=model_pth, run_type=\"domino\")\n",
    "\n",
    "dp_erm.head()"
   ],
   "outputs": [
    {
     "output_type": "display_data",
     "data": {
      "text/plain": [
       "HBox(children=(FloatProgress(value=0.0, max=753.0), HTML(value='')))"
      ],
      "application/vnd.jupyter.widget-view+json": {
       "version_major": 2,
       "version_minor": 0,
       "model_id": "baa4053d395d4b75a58479ca38a954cb"
      }
     },
     "metadata": {}
    },
    {
     "output_type": "stream",
     "name": "stdout",
     "text": [
      "\n"
     ]
    },
    {
     "output_type": "execute_result",
     "data": {
      "text/plain": [
       "DataPanel(num_rows: 5)"
      ],
      "text/html": [
       "<div>\n",
       "<style scoped>\n",
       "    .dataframe tbody tr th:only-of-type {\n",
       "        vertical-align: middle;\n",
       "    }\n",
       "\n",
       "    .dataframe tbody tr th {\n",
       "        vertical-align: top;\n",
       "    }\n",
       "\n",
       "    .dataframe thead th {\n",
       "        text-align: right;\n",
       "    }\n",
       "</style>\n",
       "<table border=\"1\" class=\"dataframe\">\n",
       "  <thead>\n",
       "    <tr style=\"text-align: right;\">\n",
       "      <th></th>\n",
       "      <th>image_id (NumpyArrayColumn)</th>\n",
       "      <th>encoded_pixels (NumpyArrayColumn)</th>\n",
       "      <th>pmx (NumpyArrayColumn)</th>\n",
       "      <th>filepath (NumpyArrayColumn)</th>\n",
       "      <th>chest_tube (NumpyArrayColumn)</th>\n",
       "      <th>split (NumpyArrayColumn)</th>\n",
       "      <th>gaze_seq (NumpyArrayColumn)</th>\n",
       "      <th>gaze_heatmap (NumpyArrayColumn)</th>\n",
       "      <th>gaze_max_visit (NumpyArrayColumn)</th>\n",
       "      <th>gaze_unique (NumpyArrayColumn)</th>\n",
       "      <th>gaze_time (NumpyArrayColumn)</th>\n",
       "      <th>gaze_diffusivity (NumpyArrayColumn)</th>\n",
       "      <th>expert_label (NumpyArrayColumn)</th>\n",
       "      <th>index (ListColumn)</th>\n",
       "      <th>input (CellColumn)</th>\n",
       "      <th>img (CellColumn)</th>\n",
       "      <th>output (ClassificationOutputColumn)</th>\n",
       "      <th>activation_block3 (TensorColumn)</th>\n",
       "      <th>activation_block4 (TensorColumn)</th>\n",
       "    </tr>\n",
       "  </thead>\n",
       "  <tbody>\n",
       "    <tr>\n",
       "      <th>0</th>\n",
       "      <td>1.2.276.0.7230010.3.1.4.8323329.6904.151787520...</td>\n",
       "      <td>-1</td>\n",
       "      <td>0</td>\n",
       "      <td>/media/4tb_hdd/siim/dicom-images-train/1.2.276...</td>\n",
       "      <td>NaN</td>\n",
       "      <td>train</td>\n",
       "      <td>nan</td>\n",
       "      <td>nan</td>\n",
       "      <td>NaN</td>\n",
       "      <td>NaN</td>\n",
       "      <td>NaN</td>\n",
       "      <td>NaN</td>\n",
       "      <td>NaN</td>\n",
       "      <td>'0'</td>\n",
       "      <td>MedicalVolumeCell([PosixPath('/media/4tb_hdd/s...</td>\n",
       "      <td>MedicalVolumeCell([PosixPath('/media/4tb_hdd/s...</td>\n",
       "      <td>torch.Tensor(shape=torch.Size([2]))</td>\n",
       "      <td>torch.Tensor(shape=torch.Size([1024, 14, 14]))</td>\n",
       "      <td>torch.Tensor(shape=torch.Size([2048, 7, 7]))</td>\n",
       "    </tr>\n",
       "    <tr>\n",
       "      <th>1</th>\n",
       "      <td>1.2.276.0.7230010.3.1.4.8323329.13666.15178752...</td>\n",
       "      <td>557374 2 1015 8 1009 14 1002 20 997 26 990 32 ...</td>\n",
       "      <td>1</td>\n",
       "      <td>/media/4tb_hdd/siim/dicom-images-train/1.2.276...</td>\n",
       "      <td>NaN</td>\n",
       "      <td>train</td>\n",
       "      <td>nan</td>\n",
       "      <td>nan</td>\n",
       "      <td>NaN</td>\n",
       "      <td>NaN</td>\n",
       "      <td>NaN</td>\n",
       "      <td>NaN</td>\n",
       "      <td>NaN</td>\n",
       "      <td>'1'</td>\n",
       "      <td>MedicalVolumeCell([PosixPath('/media/4tb_hdd/s...</td>\n",
       "      <td>MedicalVolumeCell([PosixPath('/media/4tb_hdd/s...</td>\n",
       "      <td>torch.Tensor(shape=torch.Size([2]))</td>\n",
       "      <td>torch.Tensor(shape=torch.Size([1024, 14, 14]))</td>\n",
       "      <td>torch.Tensor(shape=torch.Size([2048, 7, 7]))</td>\n",
       "    </tr>\n",
       "    <tr>\n",
       "      <th>2</th>\n",
       "      <td>1.2.276.0.7230010.3.1.4.8323329.11028.15178752...</td>\n",
       "      <td>-1</td>\n",
       "      <td>0</td>\n",
       "      <td>/media/4tb_hdd/siim/dicom-images-train/1.2.276...</td>\n",
       "      <td>NaN</td>\n",
       "      <td>train</td>\n",
       "      <td>nan</td>\n",
       "      <td>nan</td>\n",
       "      <td>NaN</td>\n",
       "      <td>NaN</td>\n",
       "      <td>NaN</td>\n",
       "      <td>NaN</td>\n",
       "      <td>NaN</td>\n",
       "      <td>'2'</td>\n",
       "      <td>MedicalVolumeCell([PosixPath('/media/4tb_hdd/s...</td>\n",
       "      <td>MedicalVolumeCell([PosixPath('/media/4tb_hdd/s...</td>\n",
       "      <td>torch.Tensor(shape=torch.Size([2]))</td>\n",
       "      <td>torch.Tensor(shape=torch.Size([1024, 14, 14]))</td>\n",
       "      <td>torch.Tensor(shape=torch.Size([2048, 7, 7]))</td>\n",
       "    </tr>\n",
       "    <tr>\n",
       "      <th>3</th>\n",
       "      <td>1.2.276.0.7230010.3.1.4.8323329.10366.15178752...</td>\n",
       "      <td>514175 10 1008 29 994 30 993 32 991 33 990 34 ...</td>\n",
       "      <td>1</td>\n",
       "      <td>/media/4tb_hdd/siim/dicom-images-train/1.2.276...</td>\n",
       "      <td>NaN</td>\n",
       "      <td>train</td>\n",
       "      <td>nan</td>\n",
       "      <td>nan</td>\n",
       "      <td>NaN</td>\n",
       "      <td>NaN</td>\n",
       "      <td>NaN</td>\n",
       "      <td>NaN</td>\n",
       "      <td>NaN</td>\n",
       "      <td>'3'</td>\n",
       "      <td>MedicalVolumeCell([PosixPath('/media/4tb_hdd/s...</td>\n",
       "      <td>MedicalVolumeCell([PosixPath('/media/4tb_hdd/s...</td>\n",
       "      <td>torch.Tensor(shape=torch.Size([2]))</td>\n",
       "      <td>torch.Tensor(shape=torch.Size([1024, 14, 14]))</td>\n",
       "      <td>torch.Tensor(shape=torch.Size([2048, 7, 7]))</td>\n",
       "    </tr>\n",
       "    <tr>\n",
       "      <th>4</th>\n",
       "      <td>1.2.276.0.7230010.3.1.4.8323329.10016.15178752...</td>\n",
       "      <td>592184 33 976 58 956 73 941 88 926 102 917 109...</td>\n",
       "      <td>1</td>\n",
       "      <td>/media/4tb_hdd/siim/dicom-images-train/1.2.276...</td>\n",
       "      <td>NaN</td>\n",
       "      <td>train</td>\n",
       "      <td>nan</td>\n",
       "      <td>nan</td>\n",
       "      <td>NaN</td>\n",
       "      <td>NaN</td>\n",
       "      <td>NaN</td>\n",
       "      <td>NaN</td>\n",
       "      <td>NaN</td>\n",
       "      <td>'4'</td>\n",
       "      <td>MedicalVolumeCell([PosixPath('/media/4tb_hdd/s...</td>\n",
       "      <td>MedicalVolumeCell([PosixPath('/media/4tb_hdd/s...</td>\n",
       "      <td>torch.Tensor(shape=torch.Size([2]))</td>\n",
       "      <td>torch.Tensor(shape=torch.Size([1024, 14, 14]))</td>\n",
       "      <td>torch.Tensor(shape=torch.Size([2048, 7, 7]))</td>\n",
       "    </tr>\n",
       "  </tbody>\n",
       "</table>\n",
       "</div>"
      ]
     },
     "metadata": {},
     "execution_count": 13
    }
   ],
   "metadata": {}
  },
  {
   "cell_type": "code",
   "execution_count": 14,
   "source": [
    "erm_features_slicer = dp_erm[\"activation_block4\"][train_mask][pos_mask][filtering_mask].data.reshape(-1,2048,7*7).mean(2).numpy()\n",
    "X_train = np.concatenate((erm_features_slicer[slice_mask2],erm_features_slicer[slice_mask1]))\n",
    "Y_train = np.array([1]*slice_mask2.sum() + [0]*slice_mask1.sum())\n",
    "\n",
    "print(X_train.shape)\n",
    "print(Y_train.shape)\n",
    "\n",
    "clf = LogisticRegression(random_state=0).fit(X_train, Y_train)"
   ],
   "outputs": [
    {
     "output_type": "stream",
     "name": "stdout",
     "text": [
      "(97, 2048)\n",
      "(97,)\n"
     ]
    }
   ],
   "metadata": {}
  },
  {
   "cell_type": "code",
   "execution_count": 15,
   "source": [
    "test_mask = np.logical_and(~train_mask, ~np.isnan(dp_erm[\"chest_tube\"]))\n",
    "test_tubes = dp_erm[\"chest_tube\"][test_mask].data\n",
    "\n",
    "test_age = np.array([int(pydicom.dcmread(img_pth).PatientAge) for img_pth in dp[\"filepath\"][test_mask].data])\n",
    "test_female = np.array([pydicom.dcmread(img_pth).PatientSex=='F' for img_pth in dp[\"filepath\"][test_mask].data])\n",
    "\n",
    "pos_mask_test = dp_erm[\"pmx\"][test_mask].data==1\n",
    "erm_features_test = dp_erm[\"activation_block4\"][test_mask].data.reshape(-1,2048,7*7).mean(2).numpy()\n",
    "\n",
    "print(erm_features_test.shape)\n",
    "\n",
    "\n",
    "slice_probs = clf.predict_proba(erm_features_test)[:,1]\n",
    "test_slice_mask1 = slice_probs > 0.77 #0.98 #0.17 #0.11\n",
    "test_slice_mask2 = slice_probs <= 0.77 #0.98 #0.17 #0.11\n",
    "\n",
    "print(f\"Predicted high time: {test_slice_mask1.sum()}/{len(erm_features_test)}\")\n",
    "print(f\"Predicted low time: {test_slice_mask2.sum()}/{len(erm_features_test)}\")\n"
   ],
   "outputs": [
    {
     "output_type": "stream",
     "name": "stdout",
     "text": [
      "(1000, 2048)\n",
      "Predicted high time: 352/1000\n",
      "Predicted low time: 648/1000\n"
     ]
    }
   ],
   "metadata": {}
  },
  {
   "cell_type": "code",
   "execution_count": 16,
   "source": [
    "abn_size_test = np.array([rle2mask(rle,1024,1024).mean() if rle!='-1' else 0 for rle in dp_erm[test_mask][\"encoded_pixels\"]])\n",
    "abn_size_test -= abn_size_test.min()\n",
    "abn_size_test /= abn_size_test.max()"
   ],
   "outputs": [],
   "metadata": {}
  },
  {
   "cell_type": "code",
   "execution_count": 41,
   "source": [
    "# plt.hist(abn_size_test[test_slice_mask1],bins=100,alpha=0.5)\n",
    "# plt.hist(abn_size_test[test_slice_mask2],bins=100,alpha=0.5)\n",
    "# plt.show()\n",
    "pos_slice_mask1 = np.logical_and(test_slice_mask1,pos_mask_test)\n",
    "pos_slice_mask2 = np.logical_and(test_slice_mask2,pos_mask_test)\n",
    "\n",
    "print(f\"Predicted low time in positives: {pos_slice_mask2.sum()}/{(pos_mask_test.sum())}\")\n",
    "print(f\"Predicted high time in positives: {pos_slice_mask1.sum()}/{(pos_mask_test.sum())}\")\n",
    "\n",
    "print(f\"\\nSlice with predicted low {gaze_name}, avg abn size: {abn_size_test[pos_slice_mask2].mean():.3f}, has {test_tubes[pos_slice_mask2].sum()} chest tubes, {test_female[pos_slice_mask2].sum()} females, {test_age[pos_slice_mask2].mean():.1f} average age\")#, average female abn size: {abn_size_test[np.logical_and(pos_slice_mask2,test_female)].mean():.3f}\")\n",
    "print(f\"Slice with predicted high {gaze_name}, avg abn size: {abn_size_test[pos_slice_mask1].mean():.3f}, has {test_tubes[pos_slice_mask1].sum()} chest tubes, {test_female[pos_slice_mask1].sum()} females, {test_age[pos_slice_mask1].mean():.1f} average age\")#, average female abn size: {abn_size_test[np.logical_and(pos_slice_mask1,test_female)].mean():.3f}\")\n",
    "print(f\"p-value on area: {ttest_ind(abn_size_test[pos_slice_mask1],abn_size_test[pos_slice_mask2])[1]:.4f}\")"
   ],
   "outputs": [
    {
     "output_type": "stream",
     "name": "stdout",
     "text": [
      "Predicted low time in positives: 125/248\n",
      "Predicted high time in positives: 123/248\n",
      "\n",
      "Slice with predicted low gaze_time, avg abn size: 0.131, has 84.0 chest tubes, 69 females, 43.8 average age\n",
      "Slice with predicted high gaze_time, avg abn size: 0.098, has 98.0 chest tubes, 48 females, 48.5 average age\n",
      "p-value on area: 0.0692\n"
     ]
    }
   ],
   "metadata": {}
  },
  {
   "cell_type": "markdown",
   "source": [
    "## Performance gaps on z and z-hat"
   ],
   "metadata": {}
  },
  {
   "cell_type": "code",
   "execution_count": 36,
   "source": [
    "def split_gaps(test_labels, test_probs, attribute, pos_low_slice,pos_high_slice, abn_size_test,neg_mask_test,pos_mask_test,gaze_name, att_name):\n",
    "\n",
    "\n",
    "    print(\"\\n\"+\"=\"*20+f\" {att_name} analysis \" + \"=\"*20)\n",
    "    ## remove attribute\n",
    "    pos_noatt_mask = np.logical_and(pos_mask_test,np.logical_not(attribute))\n",
    "\n",
    "    with_noatt_mask = np.logical_or(neg_mask_test,pos_noatt_mask)\n",
    "    print(f\"\\nAll positives have NO {att_name} (# positives: {pos_noatt_mask.sum()}), AUROC: {roc_auc_score(test_labels[with_noatt_mask],test_probs[with_noatt_mask]):.2f}\")\n",
    "\n",
    "\n",
    "\n",
    "    pos_lowslice_noatt = np.logical_and(pos_low_slice,pos_noatt_mask)\n",
    "    pos_highslice_noatt = np.logical_and(pos_high_slice,pos_noatt_mask)\n",
    "\n",
    "    with_lowslice_mask = np.logical_or(neg_mask_test,pos_lowslice_noatt)\n",
    "    with_highslice_mask = np.logical_or(neg_mask_test,pos_highslice_noatt)\n",
    "\n",
    "    print(f\"All positives have low {gaze_name} -- NO {att_name} (# positives: {pos_lowslice_noatt.sum()}), AUROC: {roc_auc_score(test_labels[with_lowslice_mask],test_probs[with_lowslice_mask]):.2f},    area: {abn_size_test[pos_lowslice_noatt].mean():.3f}\")\n",
    "    print(f\"All positives have high {gaze_name} -- NO {att_name} (# positives: {pos_highslice_noatt.sum()}), AUROC: {roc_auc_score(test_labels[with_highslice_mask],test_probs[with_highslice_mask]):.2f},    area: {abn_size_test[pos_highslice_noatt].mean():.3f}\")\n",
    "\n",
    "\n",
    "    ## keep attribute\n",
    "    pos_att_mask = np.logical_and(pos_mask_test,attribute)\n",
    "\n",
    "    with_att_mask = np.logical_or(neg_mask_test,pos_att_mask)\n",
    "    print(f\"\\nAll positives have {att_name} (# positives: {pos_att_mask.sum()}), AUROC: {roc_auc_score(test_labels[with_att_mask],test_probs[with_att_mask]):.2f}\")\n",
    "\n",
    "\n",
    "    pos_lowslice_att = np.logical_and(pos_low_slice,pos_att_mask)\n",
    "    pos_highslice_att = np.logical_and(pos_high_slice,pos_att_mask)\n",
    "\n",
    "    with_lowslice_mask = np.logical_or(neg_mask_test,pos_lowslice_att)\n",
    "    with_highslice_mask = np.logical_or(neg_mask_test,pos_highslice_att)\n",
    "\n",
    "    print(f\"All positives have low {gaze_name} -- {att_name} (# positives: {pos_lowslice_att.sum()}), AUROC: {roc_auc_score(test_labels[with_lowslice_mask],test_probs[with_lowslice_mask]):.2f},    area: {abn_size_test[pos_lowslice_att].mean():.3f}\")\n",
    "    print(f\"All positives have high {gaze_name} -- {att_name} (# positives: {pos_highslice_att.sum()}), AUROC: {roc_auc_score(test_labels[with_highslice_mask],test_probs[with_highslice_mask]):.2f},    area: {abn_size_test[pos_highslice_att].mean():.3f}\")\n"
   ],
   "outputs": [],
   "metadata": {}
  },
  {
   "cell_type": "code",
   "execution_count": 39,
   "source": [
    "\n",
    "test_probs = dp_erm[\"output\"][test_mask].data[:,1].sigmoid().numpy()\n",
    "test_labels = dp_erm[\"pmx\"][test_mask].data\n",
    "\n",
    "slice_preds = slice_probs\n",
    "#abn_size_test_ = abn_size_test\n",
    "\n",
    "\n",
    "print(f\"Overall AUROC: {roc_auc_score(test_labels,test_probs):.2f}\")\n",
    "\n",
    "thresh = 0.77 #chosen such that we take bottom/top 50\n",
    "pos_low_slice = np.logical_and(slice_preds<thresh,pos_mask_test)\n",
    "pos_high_slice = np.logical_and(slice_preds>=thresh,pos_mask_test)\n",
    "\n",
    "neg_mask_test = np.array(test_labels==0)\n",
    "\n",
    "with_low_slice_mask = np.logical_or(neg_mask_test,pos_low_slice)\n",
    "with_high_slice_mask = np.logical_or(neg_mask_test,pos_high_slice)\n",
    "\n",
    "print(f\"All positives have low {gaze_name} (# positives: {pos_low_slice.sum()}), AUROC: {roc_auc_score(test_labels[with_low_slice_mask],test_probs[with_low_slice_mask]):.2f},    area: {abn_size_test[pos_low_slice].mean():.3f}\")\n",
    "print(f\"All positives have high {gaze_name} (# positives: {pos_high_slice.sum()}), AUROC: {roc_auc_score(test_labels[with_high_slice_mask],test_probs[with_high_slice_mask]):.2f},    area: {abn_size_test[pos_high_slice].mean():.3f}\")\n",
    "\n",
    "\n",
    "split_gaps(test_labels,test_probs,test_tubes,pos_low_slice,pos_high_slice,abn_size_test,neg_mask_test,pos_mask_test,gaze_name,att_name=\"Tubes\")\n",
    "\n",
    "\n",
    "split_gaps(test_labels,test_probs,test_female,pos_low_slice,pos_high_slice,abn_size_test,neg_mask_test,pos_mask_test,gaze_name,att_name=\"Females\")\n",
    "\n",
    "test_old = test_age > test_age.mean()\n",
    "split_gaps(test_labels,test_probs,test_old,pos_low_slice,pos_high_slice,abn_size_test,neg_mask_test,pos_mask_test,gaze_name,att_name=\"Old\")\n",
    "\n",
    "combined_att = np.logical_and(np.logical_not(test_tubes),test_female)\n",
    "\n",
    "\n"
   ],
   "outputs": [
    {
     "output_type": "stream",
     "name": "stdout",
     "text": [
      "Overall AUROC: 0.87\n",
      "All positives have low gaze_time (# positives: 125), AUROC: 0.85,    area: 0.131\n",
      "All positives have high gaze_time (# positives: 123), AUROC: 0.90,    area: 0.098\n",
      "\n",
      "==================== Tubes analysis ====================\n",
      "\n",
      "All positives have NO Tubes (# positives: 66), AUROC: 0.75\n",
      "All positives have low gaze_time -- NO Tubes (# positives: 41), AUROC: 0.70,    area: 0.170\n",
      "All positives have high gaze_time -- NO Tubes (# positives: 25), AUROC: 0.83,    area: 0.121\n",
      "\n",
      "All positives have Tubes (# positives: 182), AUROC: 0.92\n",
      "All positives have low gaze_time -- Tubes (# positives: 84), AUROC: 0.92,    area: 0.113\n",
      "All positives have high gaze_time -- Tubes (# positives: 98), AUROC: 0.91,    area: 0.093\n",
      "\n",
      "==================== Females analysis ====================\n",
      "\n",
      "All positives have NO Females (# positives: 131), AUROC: 0.87\n",
      "All positives have low gaze_time -- NO Females (# positives: 56), AUROC: 0.85,    area: 0.188\n",
      "All positives have high gaze_time -- NO Females (# positives: 75), AUROC: 0.88,    area: 0.105\n",
      "\n",
      "All positives have Females (# positives: 117), AUROC: 0.87\n",
      "All positives have low gaze_time -- Females (# positives: 69), AUROC: 0.84,    area: 0.085\n",
      "All positives have high gaze_time -- Females (# positives: 48), AUROC: 0.91,    area: 0.088\n",
      "\n",
      "==================== Old analysis ====================\n",
      "\n",
      "All positives have NO Old (# positives: 108), AUROC: 0.88\n",
      "All positives have low gaze_time -- NO Old (# positives: 61), AUROC: 0.84,    area: 0.107\n",
      "All positives have high gaze_time -- NO Old (# positives: 47), AUROC: 0.93,    area: 0.089\n",
      "\n",
      "All positives have Old (# positives: 140), AUROC: 0.87\n",
      "All positives have low gaze_time -- Old (# positives: 64), AUROC: 0.85,    area: 0.154\n",
      "All positives have high gaze_time -- Old (# positives: 76), AUROC: 0.88,    area: 0.104\n"
     ]
    }
   ],
   "metadata": {}
  },
  {
   "cell_type": "code",
   "execution_count": 21,
   "source": [
    "best_thresh = 1\n",
    "best_f1=0\n",
    "for thresh in np.arange(0,1,0.05):\n",
    "    f1 = f1_score(test_labels,test_probs>thresh)\n",
    "    if f1 > best_f1:\n",
    "        best_f1=f1\n",
    "        best_thresh=thresh\n",
    "\n",
    "print(best_f1)\n",
    "print(best_thresh)\n",
    "    "
   ],
   "outputs": [
    {
     "output_type": "stream",
     "name": "stdout",
     "text": [
      "0.7300970873786407\n",
      "0.1\n"
     ]
    }
   ],
   "metadata": {}
  },
  {
   "cell_type": "code",
   "execution_count": 22,
   "source": [
    "mask_ = pos_large_area_notubes\n",
    "imgs = dp_erm[test_mask][mask_][\"img\"]\n",
    "segmasks = np.array([rle2mask(rle,1024,1024) for rle in dp_erm[test_mask][mask_][\"encoded_pixels\"]])\n",
    "outputs_ = dp_erm[test_mask][mask_][\"output\"].data[:,1].sigmoid().numpy()\n",
    "female = np.array([0,0,1,0,0,1,0,0,0,1,1,0,0,1,0,1,1,1,0,0,0,1,0,0,1,1,1,1,1,1,0,1,0]) #pos_large_area_notubes\n",
    "#female = np.array([0,0,0,1,1,0,1,0,0,1,1,0,1,0,0,0,0,0,0,1,0,1,0,0,0,1,1,0,1,0,0,0,0]) #pos_small_area_notubes\n",
    "\n",
    "print(segmasks.shape)"
   ],
   "outputs": [
    {
     "output_type": "stream",
     "name": "stdout",
     "text": [
      "(87, 1024, 1024)\n"
     ]
    }
   ],
   "metadata": {}
  },
  {
   "cell_type": "code",
   "execution_count": 23,
   "source": [
    "ab_mask = np.logical_and(female,outputs_<best_thresh)\n",
    "ab_mask2 = np.logical_and(female2,outputs_2>best_thresh)\n",
    "print(abn_size_test[mask_][female].mean())\n",
    "print(abn_size_test[mask_2][female2].mean())\n",
    "print(f\"p-value: {ttest_ind(abn_size_test[mask_2][female2],abn_size_test[mask_][female])[1]:.4f}\")"
   ],
   "outputs": [
    {
     "output_type": "error",
     "ename": "ValueError",
     "evalue": "operands could not be broadcast together with shapes (33,) (87,) ",
     "traceback": [
      "\u001b[0;31m---------------------------------------------------------------------------\u001b[0m",
      "\u001b[0;31mValueError\u001b[0m                                Traceback (most recent call last)",
      "\u001b[0;32m<ipython-input-23-5449cc5ac2ba>\u001b[0m in \u001b[0;36m<module>\u001b[0;34m\u001b[0m\n\u001b[0;32m----> 1\u001b[0;31m \u001b[0mab_mask\u001b[0m \u001b[0;34m=\u001b[0m \u001b[0mnp\u001b[0m\u001b[0;34m.\u001b[0m\u001b[0mlogical_and\u001b[0m\u001b[0;34m(\u001b[0m\u001b[0mfemale\u001b[0m\u001b[0;34m,\u001b[0m\u001b[0moutputs_\u001b[0m\u001b[0;34m<\u001b[0m\u001b[0mbest_thresh\u001b[0m\u001b[0;34m)\u001b[0m\u001b[0;34m\u001b[0m\u001b[0;34m\u001b[0m\u001b[0m\n\u001b[0m\u001b[1;32m      2\u001b[0m \u001b[0mab_mask2\u001b[0m \u001b[0;34m=\u001b[0m \u001b[0mnp\u001b[0m\u001b[0;34m.\u001b[0m\u001b[0mlogical_and\u001b[0m\u001b[0;34m(\u001b[0m\u001b[0mfemale2\u001b[0m\u001b[0;34m,\u001b[0m\u001b[0moutputs_2\u001b[0m\u001b[0;34m>\u001b[0m\u001b[0mbest_thresh\u001b[0m\u001b[0;34m)\u001b[0m\u001b[0;34m\u001b[0m\u001b[0;34m\u001b[0m\u001b[0m\n\u001b[1;32m      3\u001b[0m \u001b[0mprint\u001b[0m\u001b[0;34m(\u001b[0m\u001b[0mabn_size_test\u001b[0m\u001b[0;34m[\u001b[0m\u001b[0mmask_\u001b[0m\u001b[0;34m]\u001b[0m\u001b[0;34m[\u001b[0m\u001b[0mfemale\u001b[0m\u001b[0;34m]\u001b[0m\u001b[0;34m.\u001b[0m\u001b[0mmean\u001b[0m\u001b[0;34m(\u001b[0m\u001b[0;34m)\u001b[0m\u001b[0;34m)\u001b[0m\u001b[0;34m\u001b[0m\u001b[0;34m\u001b[0m\u001b[0m\n\u001b[1;32m      4\u001b[0m \u001b[0mprint\u001b[0m\u001b[0;34m(\u001b[0m\u001b[0mabn_size_test\u001b[0m\u001b[0;34m[\u001b[0m\u001b[0mmask_2\u001b[0m\u001b[0;34m]\u001b[0m\u001b[0;34m[\u001b[0m\u001b[0mfemale2\u001b[0m\u001b[0;34m]\u001b[0m\u001b[0;34m.\u001b[0m\u001b[0mmean\u001b[0m\u001b[0;34m(\u001b[0m\u001b[0;34m)\u001b[0m\u001b[0;34m)\u001b[0m\u001b[0;34m\u001b[0m\u001b[0;34m\u001b[0m\u001b[0m\n\u001b[1;32m      5\u001b[0m \u001b[0mprint\u001b[0m\u001b[0;34m(\u001b[0m\u001b[0;34mf\"p-value: {ttest_ind(abn_size_test[mask_2][female2],abn_size_test[mask_][female])[1]:.4f}\"\u001b[0m\u001b[0;34m)\u001b[0m\u001b[0;34m\u001b[0m\u001b[0;34m\u001b[0m\u001b[0m\n",
      "\u001b[0;31mValueError\u001b[0m: operands could not be broadcast together with shapes (33,) (87,) "
     ]
    }
   ],
   "metadata": {}
  },
  {
   "cell_type": "code",
   "execution_count": null,
   "source": [
    "# for ndx, (img, segmask, out) in enumerate(zip(imgs,segmasks, outputs_)):\n",
    "#     if female[ndx] and out < best_thresh:\n",
    "#         plt.imshow(img,cmap=\"gray\")\n",
    "#         plt.imshow(segmask.T,alpha=0.3)\n",
    "#         plt.axis(\"OFF\")\n",
    "#         plt.title(out)\n",
    "#         plt.show()"
   ],
   "outputs": [],
   "metadata": {}
  },
  {
   "cell_type": "code",
   "execution_count": null,
   "source": [
    "mask_2 = pos_small_area_notubes\n",
    "imgs2 = dp_erm[test_mask][mask_2][\"img\"]\n",
    "segmasks2 = np.array([rle2mask(rle,1024,1024) for rle in dp_erm[test_mask][mask_2][\"encoded_pixels\"]])\n",
    "outputs_2 = dp_erm[test_mask][mask_2][\"output\"].data[:,1].sigmoid().numpy()\n",
    "female2 = np.array([0,0,0,1,1,0,1,0,0,1,1,0,1,0,0,0,0,0,0,1,0,1,0,0,0,1,1,0,1,0,0,0,0]) #pos_small_area_notubes\n",
    "\n",
    "print(segmasks.shape)"
   ],
   "outputs": [],
   "metadata": {}
  },
  {
   "cell_type": "code",
   "execution_count": null,
   "source": [
    "# for ndx, (img, segmask, out) in enumerate(zip(imgs2,segmasks2, outputs_2)):\n",
    "#     if female2[ndx] and out > best_thresh:\n",
    "#         plt.imshow(img,cmap=\"gray\")\n",
    "#         plt.imshow(segmask.T,alpha=0.3)\n",
    "#         plt.axis(\"OFF\")\n",
    "#         plt.title(out)\n",
    "#         plt.show()"
   ],
   "outputs": [],
   "metadata": {}
  },
  {
   "cell_type": "code",
   "execution_count": null,
   "source": [],
   "outputs": [],
   "metadata": {}
  },
  {
   "cell_type": "markdown",
   "source": [
    "## Mimic"
   ],
   "metadata": {}
  },
  {
   "cell_type": "code",
   "execution_count": 32,
   "source": [
    "# get mimic activations\n",
    "model_pth = \"/home/ksaab/Documents/domino/scratch/khaled/outputs/08-10_sabri_mimic/model_chkpt_runid4495.pt\"\n",
    "dp_mimic = get_cxr_activations(dp=dp, model_path=model_pth, run_type=\"mimic\")\n"
   ],
   "outputs": [
    {
     "output_type": "display_data",
     "data": {
      "text/plain": [
       "HBox(children=(FloatProgress(value=0.0, max=753.0), HTML(value='')))"
      ],
      "application/vnd.jupyter.widget-view+json": {
       "version_major": 2,
       "version_minor": 0,
       "model_id": "659a39b4c36047c0a40da8440cac899a"
      }
     },
     "metadata": {}
    },
    {
     "output_type": "stream",
     "name": "stdout",
     "text": [
      "\n"
     ]
    }
   ],
   "metadata": {}
  },
  {
   "cell_type": "code",
   "execution_count": 33,
   "source": [
    "mimic_labels = [\n",
    "    \"atelectasis\",\n",
    "    \"cardiomegaly\",\n",
    "    \"consolidation\",\n",
    "    \"edema\",\n",
    "    \"enlarged_cardio\",\n",
    "    \"fracture\",\n",
    "    \"lung_opacity\",\n",
    "    \"pleural_effusion\",\n",
    "    \"pleural_other\",\n",
    "    \"pneumonia\",\n",
    "    \"pneumothorax\",\n",
    "    \"support_devices\",\n",
    "    \"lung_lesion\",\n",
    "    \"no_finding\",\n",
    "]\n",
    "\n",
    "test_mimic_probs = dp_mimic[test_mask][\"output\"].data.softmax(1)\n",
    "test_mimic_probs[:,11] = 0 # remove support devices\n",
    "test_mimic_probs[:,10] = 0 # remove pmx\n",
    "test_mimic_probs[:,-1] = 0 # remove no finding\n",
    "\n",
    "test_mimic_preds = test_mimic_probs.argmax(1)"
   ],
   "outputs": [],
   "metadata": {}
  },
  {
   "cell_type": "code",
   "execution_count": null,
   "source": [
    "# label_mask = np.array(dp_[test_mask][\"pmx\"] == 0)\n",
    "# slicing_pred = dp_mimic[test_mask][gaze_name]"
   ],
   "outputs": [],
   "metadata": {}
  },
  {
   "cell_type": "code",
   "execution_count": null,
   "source": [
    "# for ndx in range(len(mimic_labels)):\n",
    "#     if (test_mimic_preds[label_mask]==ndx).sum() > 50:\n",
    "#         print(f\"{mimic_labels[ndx]} Count: {(test_mimic_preds[label_mask]==ndx).sum()}, AUROC: {roc_auc_score(slicing_pred[label_mask],test_mimic_probs[label_mask,ndx]):.3f}\")"
   ],
   "outputs": [],
   "metadata": {}
  },
  {
   "cell_type": "code",
   "execution_count": null,
   "source": [
    "# slice_mask = np.array(slicing_pred == 1)\n",
    "# mask = np.logical_and(label_mask,slice_mask)\n",
    "# print(f\"Overall {gaze_name} count: {slicing_pred.sum()}\\n\")\n",
    "# for ndx in range(len(mimic_labels)):\n",
    "#     print(f\"{mimic_labels[ndx]} Count %: {(test_mimic_preds[mask]==ndx).sum()/mask.sum():.2f}\")"
   ],
   "outputs": [],
   "metadata": {}
  },
  {
   "cell_type": "markdown",
   "source": [
    "## Mimic performance gaps"
   ],
   "metadata": {}
  },
  {
   "cell_type": "code",
   "execution_count": 51,
   "source": [
    "\n",
    "mimic_abn = np.array(test_mimic_preds==1)\n",
    "#abn_size_test_ = abn_size_test\n",
    "\n",
    "\n",
    "print(f\"Overall AUROC: {roc_auc_score(test_labels,test_probs):.2f}\")\n",
    "\n",
    "neg_mask_test = np.array(test_labels==0)\n",
    "pos_mask_test = np.array(test_labels==1)\n",
    "\n",
    "neg_with_abn = np.logical_and(mimic_abn,neg_mask_test)\n",
    "neg_without_abn = np.logical_and(np.logical_not(mimic_abn),neg_mask_test)\n",
    "\n",
    "\n",
    "\n",
    "with_negabn = np.logical_or(pos_mask_test,neg_with_abn)\n",
    "without_negabn = np.logical_or(pos_mask_test,neg_without_abn)\n",
    "\n",
    "print(f\"All negatives have mimic abn (# negatives: {neg_with_abn.sum()}), AUROC: {roc_auc_score(test_labels[with_negabn],test_probs[with_negabn]):.2f}\")\n",
    "print(f\"All negatives dont have mimic abn(# negatives: {neg_without_abn.sum()}), AUROC: {roc_auc_score(test_labels[without_negabn],test_probs[without_negabn]):.2f}\")"
   ],
   "outputs": [
    {
     "output_type": "stream",
     "name": "stdout",
     "text": [
      "Overall AUROC: 0.90\n",
      "All negatives have mimic abn (# negatives: 184), AUROC: 0.95\n",
      "All negatives dont have mimic abn(# negatives: 568), AUROC: 0.88\n"
     ]
    }
   ],
   "metadata": {}
  },
  {
   "cell_type": "code",
   "execution_count": null,
   "source": [],
   "outputs": [],
   "metadata": {}
  }
 ],
 "metadata": {
  "orig_nbformat": 4,
  "language_info": {
   "name": "python",
   "version": "3.8.10",
   "mimetype": "text/x-python",
   "codemirror_mode": {
    "name": "ipython",
    "version": 3
   },
   "pygments_lexer": "ipython3",
   "nbconvert_exporter": "python",
   "file_extension": ".py"
  },
  "kernelspec": {
   "name": "python3",
   "display_name": "Python 3.8.10 64-bit ('domino': conda)"
  },
  "interpreter": {
   "hash": "b006b217e8cb0199fc13ea6a087b3b77c18ca9d2bc7dc9a8383728a63838a653"
  }
 },
 "nbformat": 4,
 "nbformat_minor": 2
}