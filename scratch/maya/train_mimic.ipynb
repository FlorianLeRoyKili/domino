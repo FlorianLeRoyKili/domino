{
 "cells": [
  {
   "cell_type": "code",
   "execution_count": 5,
   "id": "752a7cfd-cf8b-4a6d-ab45-764d5eb318f6",
   "metadata": {},
   "outputs": [
    {
     "name": "stdout",
     "output_type": "stream",
     "text": [
      "The autoreload extension is already loaded. To reload it, use:\n",
      "  %reload_ext autoreload\n"
     ]
    }
   ],
   "source": [
    "%load_ext autoreload\n",
    "%autoreload 2"
   ]
  },
  {
   "cell_type": "code",
   "execution_count": 6,
   "id": "febb53a2-b31c-47f8-a115-578106ddb7df",
   "metadata": {},
   "outputs": [],
   "source": [
    "import os\n",
    "import terra\n",
    "import meerkat as mk\n",
    "from domino.data.visual_genome import read_vg, ATTRIBUTE_GROUPS\n",
    "import numpy as np\n",
    "import pandas as pd\n",
    "from rich import print\n",
    "import sys\n",
    "sys.path.insert(1,'/pd/maya/domino/domino')"
   ]
  },
  {
   "cell_type": "code",
   "execution_count": 7,
   "id": "e9d901db-7495-4645-b80e-a01a0cd52539",
   "metadata": {},
   "outputs": [],
   "source": [
    "#for p in sys.path:\n",
    "#    print(p)"
   ]
  },
  {
   "cell_type": "markdown",
   "id": "30cec2ac-310b-474e-a556-8ccd8bb8739f",
   "metadata": {},
   "source": [
    "## MIMIC Slice Experiments"
   ]
  },
  {
   "cell_type": "markdown",
   "id": "9a2708d6-56a6-4aa2-a9b2-cc76fc1a2303",
   "metadata": {},
   "source": [
    "### Generate Slices"
   ]
  },
  {
   "cell_type": "code",
   "execution_count": 4,
   "id": "c3213982-9c3f-4f44-b00a-edd79db6ec2e",
   "metadata": {},
   "outputs": [],
   "source": [
    "import slices.mimic"
   ]
  },
  {
   "cell_type": "code",
   "execution_count": 8,
   "id": "5017b3c3-d142-4275-ab45-e1b479b9b06a",
   "metadata": {},
   "outputs": [],
   "source": [
    "dataset_dir = '/pd/maya/mimic_dp_adjusted_diagnoses.mk'"
   ]
  },
  {
   "cell_type": "code",
   "execution_count": 135,
   "id": "38828f30-ba41-467e-b706-c7972fa5b709",
   "metadata": {},
   "outputs": [],
   "source": [
    "target = 'lung_group'\n",
    "correlate = 'pleural_group'"
   ]
  },
  {
   "cell_type": "code",
   "execution_count": 136,
   "id": "4bf7cdac-8e8c-4a49-ac47-c1109fafbec8",
   "metadata": {},
   "outputs": [
    {
     "data": {
      "text/plain": [
       "(9998, 67)"
      ]
     },
     "execution_count": 136,
     "metadata": {},
     "output_type": "execute_result"
    }
   ],
   "source": [
    "dp = slices.mimic.build_correlation_slice(target, correlate, 0.8, 1e4, dataset_dir)\n",
    "dp.shape"
   ]
  },
  {
   "cell_type": "code",
   "execution_count": 137,
   "id": "d811ed99-3133-46cb-968a-0167b8d2f960",
   "metadata": {},
   "outputs": [
    {
     "data": {
      "text/html": [
       "<pre style=\"white-space:pre;overflow-x:auto;line-height:normal;font-family:Menlo,'DejaVu Sans Mono',consolas,'Courier New',monospace\">target: <span style=\"color: #808000; text-decoration-color: #808000\">lung_group</span>==<span style=\"color: #008080; text-decoration-color: #008080; font-weight: bold\">1</span>: <span style=\"color: #008080; text-decoration-color: #008080; font-weight: bold\">2359</span>\n",
       "</pre>\n"
      ],
      "text/plain": [
       "target: \u001b[33mlung_group\u001b[0m==\u001b[1;36m1\u001b[0m: \u001b[1;36m2359\u001b[0m\n"
      ]
     },
     "metadata": {},
     "output_type": "display_data"
    },
    {
     "data": {
      "text/html": [
       "<pre style=\"white-space:pre;overflow-x:auto;line-height:normal;font-family:Menlo,'DejaVu Sans Mono',consolas,'Courier New',monospace\">correlate: <span style=\"color: #808000; text-decoration-color: #808000\">pleural_group</span>==<span style=\"color: #008080; text-decoration-color: #008080; font-weight: bold\">1</span>: <span style=\"color: #008080; text-decoration-color: #008080; font-weight: bold\">2359</span>\n",
       "</pre>\n"
      ],
      "text/plain": [
       "correlate: \u001b[33mpleural_group\u001b[0m==\u001b[1;36m1\u001b[0m: \u001b[1;36m2359\u001b[0m\n"
      ]
     },
     "metadata": {},
     "output_type": "display_data"
    },
    {
     "data": {
      "text/html": [
       "<pre style=\"white-space:pre;overflow-x:auto;line-height:normal;font-family:Menlo,'DejaVu Sans Mono',consolas,'Courier New',monospace\"><span style=\"color: #808000; text-decoration-color: #808000\">lung_group</span>==<span style=\"color: #008080; text-decoration-color: #008080; font-weight: bold\">1</span> and <span style=\"color: #808000; text-decoration-color: #808000\">pleural_group</span>==<span style=\"color: #008080; text-decoration-color: #008080; font-weight: bold\">1</span>: <span style=\"color: #008080; text-decoration-color: #008080; font-weight: bold\">1999</span>\n",
       "</pre>\n"
      ],
      "text/plain": [
       "\u001b[33mlung_group\u001b[0m==\u001b[1;36m1\u001b[0m and \u001b[33mpleural_group\u001b[0m==\u001b[1;36m1\u001b[0m: \u001b[1;36m1999\u001b[0m\n"
      ]
     },
     "metadata": {},
     "output_type": "display_data"
    },
    {
     "data": {
      "text/html": [
       "<pre style=\"white-space:pre;overflow-x:auto;line-height:normal;font-family:Menlo,'DejaVu Sans Mono',consolas,'Courier New',monospace\"><span style=\"color: #808000; text-decoration-color: #808000\">lung_group</span>==<span style=\"color: #008080; text-decoration-color: #008080; font-weight: bold\">0</span> and <span style=\"color: #808000; text-decoration-color: #808000\">pleural_group</span>==<span style=\"color: #008080; text-decoration-color: #008080; font-weight: bold\">0</span>: <span style=\"color: #008080; text-decoration-color: #008080; font-weight: bold\">7279</span>\n",
       "</pre>\n"
      ],
      "text/plain": [
       "\u001b[33mlung_group\u001b[0m==\u001b[1;36m0\u001b[0m and \u001b[33mpleural_group\u001b[0m==\u001b[1;36m0\u001b[0m: \u001b[1;36m7279\u001b[0m\n"
      ]
     },
     "metadata": {},
     "output_type": "display_data"
    },
    {
     "data": {
      "text/html": [
       "<pre style=\"white-space:pre;overflow-x:auto;line-height:normal;font-family:Menlo,'DejaVu Sans Mono',consolas,'Courier New',monospace\"><span style=\"color: #808000; text-decoration-color: #808000\">lung_group</span>==<span style=\"color: #008080; text-decoration-color: #008080; font-weight: bold\">1</span> and <span style=\"color: #808000; text-decoration-color: #808000\">pleural_group</span>==<span style=\"color: #008080; text-decoration-color: #008080; font-weight: bold\">0</span>: <span style=\"color: #008080; text-decoration-color: #008080; font-weight: bold\">360</span>\n",
       "</pre>\n"
      ],
      "text/plain": [
       "\u001b[33mlung_group\u001b[0m==\u001b[1;36m1\u001b[0m and \u001b[33mpleural_group\u001b[0m==\u001b[1;36m0\u001b[0m: \u001b[1;36m360\u001b[0m\n"
      ]
     },
     "metadata": {},
     "output_type": "display_data"
    },
    {
     "data": {
      "text/html": [
       "<pre style=\"white-space:pre;overflow-x:auto;line-height:normal;font-family:Menlo,'DejaVu Sans Mono',consolas,'Courier New',monospace\"><span style=\"color: #808000; text-decoration-color: #808000\">lung_group</span>==<span style=\"color: #008080; text-decoration-color: #008080; font-weight: bold\">0</span> and <span style=\"color: #808000; text-decoration-color: #808000\">pleural_group</span>==<span style=\"color: #008080; text-decoration-color: #008080; font-weight: bold\">1</span>: <span style=\"color: #008080; text-decoration-color: #008080; font-weight: bold\">360</span>\n",
       "</pre>\n"
      ],
      "text/plain": [
       "\u001b[33mlung_group\u001b[0m==\u001b[1;36m0\u001b[0m and \u001b[33mpleural_group\u001b[0m==\u001b[1;36m1\u001b[0m: \u001b[1;36m360\u001b[0m\n"
      ]
     },
     "metadata": {},
     "output_type": "display_data"
    }
   ],
   "source": [
    "print('target: ' + target + f'==1: {np.sum(dp[target]==1)}')\n",
    "print('correlate: ' + correlate + f'==1: {np.sum(dp[correlate]==1)}')\n",
    "print(f'{target}==1 and {correlate}==1: {np.sum((dp[correlate]==1) & (dp[target]==1))}')\n",
    "print(f'{target}==0 and {correlate}==0: {np.sum((dp[correlate]==0) & (dp[target]==0))}')\n",
    "print(f'{target}==1 and {correlate}==0: {np.sum((dp[correlate]==0) & (dp[target]==1))}')\n",
    "print(f'{target}==0 and {correlate}==1: {np.sum((dp[correlate]==1) & (dp[target]==0))}')"
   ]
  },
  {
   "cell_type": "code",
   "execution_count": 25,
   "id": "250fa524-1f1b-4e6c-8952-8a81afb2f029",
   "metadata": {},
   "outputs": [],
   "source": [
    "#import utils"
   ]
  },
  {
   "cell_type": "code",
   "execution_count": 26,
   "id": "80ef7f1d-4d85-428a-a944-c5d210553908",
   "metadata": {},
   "outputs": [],
   "source": [
    "#splits = utils.split_dp(dp, split_on=\"dicom_id\")"
   ]
  },
  {
   "cell_type": "code",
   "execution_count": 72,
   "id": "60dcb7db-f13b-4ee8-92a7-b3b4bf1dc024",
   "metadata": {},
   "outputs": [
    {
     "data": {
      "text/html": [
       "<table border=\"1\" class=\"dataframe\">\n",
       "  <thead>\n",
       "    <tr style=\"text-align: right;\">\n",
       "      <th></th>\n",
       "      <th>dicom_id (PandasSeriesColumn)</th>\n",
       "      <th>study_id (PandasSeriesColumn)</th>\n",
       "      <th>subject_id (PandasSeriesColumn)</th>\n",
       "      <th>dicom_path (PandasSeriesColumn)</th>\n",
       "      <th>gender (PandasSeriesColumn)</th>\n",
       "      <th>anchor_age (PandasSeriesColumn)</th>\n",
       "      <th>anchor_year (PandasSeriesColumn)</th>\n",
       "      <th>anchor_year_group (PandasSeriesColumn)</th>\n",
       "      <th>dod (PandasSeriesColumn)</th>\n",
       "      <th>dicom (PandasSeriesColumn)</th>\n",
       "      <th>study_date (PandasSeriesColumn)</th>\n",
       "      <th>image_type (PandasSeriesColumn)</th>\n",
       "      <th>table_type (PandasSeriesColumn)</th>\n",
       "      <th>distance_source_to_detector (PandasSeriesColumn)</th>\n",
       "      <th>distance_source_to_patient (PandasSeriesColumn)</th>\n",
       "      <th>exposure (PandasSeriesColumn)</th>\n",
       "      <th>exposure_time (PandasSeriesColumn)</th>\n",
       "      <th>x_ray_tube_current (PandasSeriesColumn)</th>\n",
       "      <th>field_of_view_rotation (PandasSeriesColumn)</th>\n",
       "      <th>field_of_view_origin (PandasSeriesColumn)</th>\n",
       "      <th>field_of_view_horizontal_flip (PandasSeriesColumn)</th>\n",
       "      <th>view_position (PandasSeriesColumn)</th>\n",
       "      <th>patient_orientation (PandasSeriesColumn)</th>\n",
       "      <th>burned_in_annotation (PandasSeriesColumn)</th>\n",
       "      <th>requesting_service (PandasSeriesColumn)</th>\n",
       "      <th>detector_primary_angle (PandasSeriesColumn)</th>\n",
       "      <th>detector_element_physical_size (PandasSeriesColumn)</th>\n",
       "      <th>report_path (PandasSeriesColumn)</th>\n",
       "      <th>hadm_id (PandasSeriesColumn)</th>\n",
       "      <th>admittime (PandasSeriesColumn)</th>\n",
       "      <th>dischtime (PandasSeriesColumn)</th>\n",
       "      <th>deathtime (PandasSeriesColumn)</th>\n",
       "      <th>admission_type (PandasSeriesColumn)</th>\n",
       "      <th>admission_location (PandasSeriesColumn)</th>\n",
       "      <th>discharge_location (PandasSeriesColumn)</th>\n",
       "      <th>insurance (PandasSeriesColumn)</th>\n",
       "      <th>language (PandasSeriesColumn)</th>\n",
       "      <th>marital_status (PandasSeriesColumn)</th>\n",
       "      <th>ethnicity (PandasSeriesColumn)</th>\n",
       "      <th>edregtime (PandasSeriesColumn)</th>\n",
       "      <th>edouttime (PandasSeriesColumn)</th>\n",
       "      <th>hospital_expire_flag (PandasSeriesColumn)</th>\n",
       "      <th>index (PandasSeriesColumn)</th>\n",
       "      <th>jpg_path (PandasSeriesColumn)</th>\n",
       "      <th>cxr_jpg (GCSImageColumn)</th>\n",
       "      <th>cxr_dicom (GCSImageColumn)</th>\n",
       "      <th>cxr_jpg_1024 (ImageColumn)</th>\n",
       "      <th>atelectasis (PandasSeriesColumn)</th>\n",
       "      <th>cardiomegaly (PandasSeriesColumn)</th>\n",
       "      <th>consolidation (PandasSeriesColumn)</th>\n",
       "      <th>edema (PandasSeriesColumn)</th>\n",
       "      <th>enlarged_cardiomediastinum (PandasSeriesColumn)</th>\n",
       "      <th>fracture (PandasSeriesColumn)</th>\n",
       "      <th>lung_lesion (PandasSeriesColumn)</th>\n",
       "      <th>lung_opacity (PandasSeriesColumn)</th>\n",
       "      <th>no_finding (PandasSeriesColumn)</th>\n",
       "      <th>pleural_effusion (PandasSeriesColumn)</th>\n",
       "      <th>pleural_other (PandasSeriesColumn)</th>\n",
       "      <th>pneumonia (PandasSeriesColumn)</th>\n",
       "      <th>pneumothorax (PandasSeriesColumn)</th>\n",
       "      <th>support_devices (PandasSeriesColumn)</th>\n",
       "      <th>finding_group (PandasSeriesColumn)</th>\n",
       "      <th>lung_group (PandasSeriesColumn)</th>\n",
       "      <th>pleural_group (PandasSeriesColumn)</th>\n",
       "      <th>cardio_group (PandasSeriesColumn)</th>\n",
       "      <th>slice_assigned_split (PandasSeriesColumn)</th>\n",
       "      <th>split (PandasSeriesColumn)</th>\n",
       "    </tr>\n",
       "  </thead>\n",
       "  <tbody>\n",
       "    <tr>\n",
       "      <th>0</th>\n",
       "      <td>2c64dabf-1427e606-c0245464-d8991c10-3d44ad63</td>\n",
       "      <td>53745904</td>\n",
       "      <td>10504635</td>\n",
       "      <td>files/p10/p10504635/s53745904/2c64dabf-1427e606-c0245464-d8991c10-3d44ad63.dcm</td>\n",
       "      <td>M</td>\n",
       "      <td>54.0</td>\n",
       "      <td>2148.0</td>\n",
       "      <td>2011 - 2013</td>\n",
       "      <td>2150-06-15</td>\n",
       "      <td>2c64dabf-1427e606-c0245464-d8991c10-3d44ad63</td>\n",
       "      <td>21481020.0</td>\n",
       "      <td>['ORIGINAL', 'PRIMARY']</td>\n",
       "      <td>None</td>\n",
       "      <td>1828.0</td>\n",
       "      <td>1779.0</td>\n",
       "      <td>1.0</td>\n",
       "      <td>4.0</td>\n",
       "      <td>309.0</td>\n",
       "      <td>0.0</td>\n",
       "      <td>['119', '0']</td>\n",
       "      <td>NO</td>\n",
       "      <td>PA</td>\n",
       "      <td>['L', 'F']</td>\n",
       "      <td>NO</td>\n",
       "      <td>OPT</td>\n",
       "      <td>NaN</td>\n",
       "      <td>['0.200000', '0.200000']</td>\n",
       "      <td>files/p10/p10504635/s53745904.txt</td>\n",
       "      <td>NaN</td>\n",
       "      <td>NaT</td>\n",
       "      <td>NaT</td>\n",
       "      <td>NaT</td>\n",
       "      <td>None</td>\n",
       "      <td>None</td>\n",
       "      <td>None</td>\n",
       "      <td>None</td>\n",
       "      <td>None</td>\n",
       "      <td>None</td>\n",
       "      <td>None</td>\n",
       "      <td>NaT</td>\n",
       "      <td>NaT</td>\n",
       "      <td>NaN</td>\n",
       "      <td>1761</td>\n",
       "      <td>files/p10/p10504635/s53745904/2c64dabf-1427e606-c0245464-d8991c10-3d44ad63.jpg</td>\n",
       "      <td>LambdaCell</td>\n",
       "      <td>LambdaCell</td>\n",
       "      <td><img src=\"data:image/jpeg;base64,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\"></td>\n",
       "      <td>0</td>\n",
       "      <td>0</td>\n",
       "      <td>0</td>\n",
       "      <td>0</td>\n",
       "      <td>0</td>\n",
       "      <td>0</td>\n",
       "      <td>0</td>\n",
       "      <td>0</td>\n",
       "      <td>1</td>\n",
       "      <td>0</td>\n",
       "      <td>0</td>\n",
       "      <td>0</td>\n",
       "      <td>0</td>\n",
       "      <td>1</td>\n",
       "      <td>True</td>\n",
       "      <td>False</td>\n",
       "      <td>False</td>\n",
       "      <td>False</td>\n",
       "      <td>train</td>\n",
       "      <td>train</td>\n",
       "    </tr>\n",
       "    <tr>\n",
       "      <th>1</th>\n",
       "      <td>ba4c0715-13083f0a-4af3a93e-32dde058-1c60c711</td>\n",
       "      <td>55849361</td>\n",
       "      <td>11308618</td>\n",
       "      <td>files/p11/p11308618/s55849361/ba4c0715-13083f0a-4af3a93e-32dde058-1c60c711.dcm</td>\n",
       "      <td>F</td>\n",
       "      <td>20.0</td>\n",
       "      <td>2121.0</td>\n",
       "      <td>2014 - 2016</td>\n",
       "      <td>None</td>\n",
       "      <td>ba4c0715-13083f0a-4af3a93e-32dde058-1c60c711</td>\n",
       "      <td>21211224.0</td>\n",
       "      <td>['DERIVED', 'PRIMARY']</td>\n",
       "      <td>FIXED</td>\n",
       "      <td>1817.0</td>\n",
       "      <td>NaN</td>\n",
       "      <td>6.0</td>\n",
       "      <td>15.0</td>\n",
       "      <td>400.0</td>\n",
       "      <td>NaN</td>\n",
       "      <td>None</td>\n",
       "      <td>None</td>\n",
       "      <td>LATERAL</td>\n",
       "      <td>['A', 'F']</td>\n",
       "      <td>NO</td>\n",
       "      <td>EU</td>\n",
       "      <td>NaN</td>\n",
       "      <td>['0.139', '0.139']</td>\n",
       "      <td>files/p11/p11308618/s55849361.txt</td>\n",
       "      <td>NaN</td>\n",
       "      <td>NaT</td>\n",
       "      <td>NaT</td>\n",
       "      <td>NaT</td>\n",
       "      <td>None</td>\n",
       "      <td>None</td>\n",
       "      <td>None</td>\n",
       "      <td>None</td>\n",
       "      <td>None</td>\n",
       "      <td>None</td>\n",
       "      <td>None</td>\n",
       "      <td>NaT</td>\n",
       "      <td>NaT</td>\n",
       "      <td>NaN</td>\n",
       "      <td>271845</td>\n",
       "      <td>files/p11/p11308618/s55849361/ba4c0715-13083f0a-4af3a93e-32dde058-1c60c711.jpg</td>\n",
       "      <td>LambdaCell</td>\n",
       "      <td>LambdaCell</td>\n",
       "      <td><img src=\"data:image/jpeg;base64,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\"></td>\n",
       "      <td>0</td>\n",
       "      <td>0</td>\n",
       "      <td>0</td>\n",
       "      <td>0</td>\n",
       "      <td>0</td>\n",
       "      <td>0</td>\n",
       "      <td>0</td>\n",
       "      <td>0</td>\n",
       "      <td>1</td>\n",
       "      <td>0</td>\n",
       "      <td>0</td>\n",
       "      <td>0</td>\n",
       "      <td>0</td>\n",
       "      <td>0</td>\n",
       "      <td>False</td>\n",
       "      <td>False</td>\n",
       "      <td>False</td>\n",
       "      <td>False</td>\n",
       "      <td>test</td>\n",
       "      <td>test</td>\n",
       "    </tr>\n",
       "    <tr>\n",
       "      <th>2</th>\n",
       "      <td>f546d1da-5a4b35d0-6a2b4ab6-af484a97-23ccb395</td>\n",
       "      <td>56799857</td>\n",
       "      <td>15255487</td>\n",
       "      <td>files/p15/p15255487/s56799857/f546d1da-5a4b35d0-6a2b4ab6-af484a97-23ccb395.dcm</td>\n",
       "      <td>F</td>\n",
       "      <td>62.0</td>\n",
       "      <td>2136.0</td>\n",
       "      <td>2014 - 2016</td>\n",
       "      <td>None</td>\n",
       "      <td>f546d1da-5a4b35d0-6a2b4ab6-af484a97-23ccb395</td>\n",
       "      <td>21361102.0</td>\n",
       "      <td>['DERIVED', 'PRIMARY']</td>\n",
       "      <td>TILTING</td>\n",
       "      <td>NaN</td>\n",
       "      <td>NaN</td>\n",
       "      <td>4.0</td>\n",
       "      <td>14.0</td>\n",
       "      <td>320.0</td>\n",
       "      <td>NaN</td>\n",
       "      <td>None</td>\n",
       "      <td>None</td>\n",
       "      <td>AP</td>\n",
       "      <td>['L', 'F']</td>\n",
       "      <td>YES</td>\n",
       "      <td>MED</td>\n",
       "      <td>NaN</td>\n",
       "      <td>['0.139', '0.139']</td>\n",
       "      <td>files/p15/p15255487/s56799857.txt</td>\n",
       "      <td>20798335.0</td>\n",
       "      <td>2136-10-28 18:56:00</td>\n",
       "      <td>2136-11-02 19:01:00</td>\n",
       "      <td>NaT</td>\n",
       "      <td>EW EMER.</td>\n",
       "      <td>EMERGENCY ROOM</td>\n",
       "      <td>HOME HEALTH CARE</td>\n",
       "      <td>Medicaid</td>\n",
       "      <td>ENGLISH</td>\n",
       "      <td>DIVORCED</td>\n",
       "      <td>WHITE</td>\n",
       "      <td>2136-10-28 12:33:00</td>\n",
       "      <td>2136-10-28 20:41:00</td>\n",
       "      <td>0.0</td>\n",
       "      <td>218228</td>\n",
       "      <td>files/p15/p15255487/s56799857/f546d1da-5a4b35d0-6a2b4ab6-af484a97-23ccb395.jpg</td>\n",
       "      <td>LambdaCell</td>\n",
       "      <td>LambdaCell</td>\n",
       "      <td><img src=\"data:image/jpeg;base64,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\"></td>\n",
       "      <td>0</td>\n",
       "      <td>0</td>\n",
       "      <td>0</td>\n",
       "      <td>0</td>\n",
       "      <td>0</td>\n",
       "      <td>0</td>\n",
       "      <td>0</td>\n",
       "      <td>0</td>\n",
       "      <td>1</td>\n",
       "      <td>0</td>\n",
       "      <td>0</td>\n",
       "      <td>0</td>\n",
       "      <td>0</td>\n",
       "      <td>0</td>\n",
       "      <td>False</td>\n",
       "      <td>False</td>\n",
       "      <td>False</td>\n",
       "      <td>False</td>\n",
       "      <td>train</td>\n",
       "      <td>train</td>\n",
       "    </tr>\n",
       "    <tr>\n",
       "      <th>3</th>\n",
       "      <td>a61fc561-f8c016b1-c0911d5d-349816c6-28d0363b</td>\n",
       "      <td>59575108</td>\n",
       "      <td>13092065</td>\n",
       "      <td>files/p13/p13092065/s59575108/a61fc561-f8c016b1-c0911d5d-349816c6-28d0363b.dcm</td>\n",
       "      <td>F</td>\n",
       "      <td>74.0</td>\n",
       "      <td>2171.0</td>\n",
       "      <td>2014 - 2016</td>\n",
       "      <td>None</td>\n",
       "      <td>a61fc561-f8c016b1-c0911d5d-349816c6-28d0363b</td>\n",
       "      <td>21710712.0</td>\n",
       "      <td>['DERIVED', 'PRIMARY']</td>\n",
       "      <td>FIXED</td>\n",
       "      <td>1829.0</td>\n",
       "      <td>NaN</td>\n",
       "      <td>4.0</td>\n",
       "      <td>10.0</td>\n",
       "      <td>400.0</td>\n",
       "      <td>NaN</td>\n",
       "      <td>None</td>\n",
       "      <td>None</td>\n",
       "      <td>LATERAL</td>\n",
       "      <td>['A', 'F']</td>\n",
       "      <td>NO</td>\n",
       "      <td>EU</td>\n",
       "      <td>NaN</td>\n",
       "      <td>['0.139', '0.139']</td>\n",
       "      <td>files/p13/p13092065/s59575108.txt</td>\n",
       "      <td>25762960.0</td>\n",
       "      <td>2171-07-12 22:20:00</td>\n",
       "      <td>2171-07-13 17:46:00</td>\n",
       "      <td>NaT</td>\n",
       "      <td>EU OBSERVATION</td>\n",
       "      <td>EMERGENCY ROOM</td>\n",
       "      <td>None</td>\n",
       "      <td>Medicare</td>\n",
       "      <td>ENGLISH</td>\n",
       "      <td>WIDOWED</td>\n",
       "      <td>WHITE</td>\n",
       "      <td>2171-07-12 15:15:00</td>\n",
       "      <td>2171-07-13 17:46:00</td>\n",
       "      <td>0.0</td>\n",
       "      <td>289281</td>\n",
       "      <td>files/p13/p13092065/s59575108/a61fc561-f8c016b1-c0911d5d-349816c6-28d0363b.jpg</td>\n",
       "      <td>LambdaCell</td>\n",
       "      <td>LambdaCell</td>\n",
       "      <td><img src=\"data:image/jpeg;base64,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\"></td>\n",
       "      <td>0</td>\n",
       "      <td>0</td>\n",
       "      <td>0</td>\n",
       "      <td>0</td>\n",
       "      <td>0</td>\n",
       "      <td>0</td>\n",
       "      <td>0</td>\n",
       "      <td>0</td>\n",
       "      <td>1</td>\n",
       "      <td>0</td>\n",
       "      <td>0</td>\n",
       "      <td>0</td>\n",
       "      <td>0</td>\n",
       "      <td>0</td>\n",
       "      <td>False</td>\n",
       "      <td>False</td>\n",
       "      <td>False</td>\n",
       "      <td>False</td>\n",
       "      <td>valid</td>\n",
       "      <td>valid</td>\n",
       "    </tr>\n",
       "    <tr>\n",
       "      <th>4</th>\n",
       "      <td>03db2542-54a5bb86-6dc84b29-af1b8996-56b435a7</td>\n",
       "      <td>57200244</td>\n",
       "      <td>13293341</td>\n",
       "      <td>files/p13/p13293341/s57200244/03db2542-54a5bb86-6dc84b29-af1b8996-56b435a7.dcm</td>\n",
       "      <td>M</td>\n",
       "      <td>74.0</td>\n",
       "      <td>2159.0</td>\n",
       "      <td>2014 - 2016</td>\n",
       "      <td>None</td>\n",
       "      <td>03db2542-54a5bb86-6dc84b29-af1b8996-56b435a7</td>\n",
       "      <td>21590721.0</td>\n",
       "      <td>['ORIGINAL', 'PRIMARY']</td>\n",
       "      <td>None</td>\n",
       "      <td>1837.0</td>\n",
       "      <td>1788.0</td>\n",
       "      <td>26.0</td>\n",
       "      <td>67.0</td>\n",
       "      <td>394.0</td>\n",
       "      <td>0.0</td>\n",
       "      <td>['13.000000', '13.000000']</td>\n",
       "      <td>NO</td>\n",
       "      <td>LL</td>\n",
       "      <td>['P', 'F']</td>\n",
       "      <td>NO</td>\n",
       "      <td>SURG</td>\n",
       "      <td>NaN</td>\n",
       "      <td>['0.200000', '0.200000']</td>\n",
       "      <td>files/p13/p13293341/s57200244.txt</td>\n",
       "      <td>21837443.0</td>\n",
       "      <td>2159-07-14 00:33:00</td>\n",
       "      <td>2159-07-22 13:00:00</td>\n",
       "      <td>NaT</td>\n",
       "      <td>EW EMER.</td>\n",
       "      <td>EMERGENCY ROOM</td>\n",
       "      <td>HOME HEALTH CARE</td>\n",
       "      <td>Medicare</td>\n",
       "      <td>ENGLISH</td>\n",
       "      <td>MARRIED</td>\n",
       "      <td>WHITE</td>\n",
       "      <td>2159-07-13 19:59:00</td>\n",
       "      <td>2159-07-14 01:35:00</td>\n",
       "      <td>0.0</td>\n",
       "      <td>11693</td>\n",
       "      <td>files/p13/p13293341/s57200244/03db2542-54a5bb86-6dc84b29-af1b8996-56b435a7.jpg</td>\n",
       "      <td>LambdaCell</td>\n",
       "      <td>LambdaCell</td>\n",
       "      <td><img src=\"data:image/jpeg;base64,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\"></td>\n",
       "      <td>1</td>\n",
       "      <td>1</td>\n",
       "      <td>0</td>\n",
       "      <td>0</td>\n",
       "      <td>1</td>\n",
       "      <td>0</td>\n",
       "      <td>0</td>\n",
       "      <td>0</td>\n",
       "      <td>0</td>\n",
       "      <td>0</td>\n",
       "      <td>0</td>\n",
       "      <td>0</td>\n",
       "      <td>0</td>\n",
       "      <td>0</td>\n",
       "      <td>True</td>\n",
       "      <td>True</td>\n",
       "      <td>False</td>\n",
       "      <td>True</td>\n",
       "      <td>train</td>\n",
       "      <td>train</td>\n",
       "    </tr>\n",
       "  </tbody>\n",
       "</table>"
      ],
      "text/plain": [
       "DataPanel(nrows: 5, ncols: 67)"
      ]
     },
     "execution_count": 72,
     "metadata": {},
     "output_type": "execute_result"
    }
   ],
   "source": [
    "#splits = splits.load()\n",
    "dp['split'] = dp['slice_assigned_split']\n",
    "dp.head()"
   ]
  },
  {
   "cell_type": "code",
   "execution_count": 73,
   "id": "13631f0f-e0b3-41ba-8421-188bd77f638e",
   "metadata": {},
   "outputs": [
    {
     "data": {
      "text/html": [
       "<pre style=\"white-space:pre;overflow-x:auto;line-height:normal;font-family:Menlo,'DejaVu Sans Mono',consolas,'Courier New',monospace\"><span style=\"color: #800080; text-decoration-color: #800080; font-weight: bold\">Counter</span><span style=\"font-weight: bold\">({</span><span style=\"color: #008000; text-decoration-color: #008000\">'train'</span>: <span style=\"color: #008080; text-decoration-color: #008080; font-weight: bold\">7037</span>, <span style=\"color: #008000; text-decoration-color: #008000\">'test'</span>: <span style=\"color: #008080; text-decoration-color: #008080; font-weight: bold\">1926</span>, <span style=\"color: #008000; text-decoration-color: #008000\">'valid'</span>: <span style=\"color: #008080; text-decoration-color: #008080; font-weight: bold\">1036</span><span style=\"font-weight: bold\">})</span>\n",
       "</pre>\n"
      ],
      "text/plain": [
       "\u001b[1;35mCounter\u001b[0m\u001b[1m(\u001b[0m\u001b[1m{\u001b[0m\u001b[32m'train'\u001b[0m: \u001b[1;36m7037\u001b[0m, \u001b[32m'test'\u001b[0m: \u001b[1;36m1926\u001b[0m, \u001b[32m'valid'\u001b[0m: \u001b[1;36m1036\u001b[0m\u001b[1m}\u001b[0m\u001b[1m)\u001b[0m\n"
      ]
     },
     "metadata": {},
     "output_type": "display_data"
    }
   ],
   "source": [
    "from collections import Counter\n",
    "print(Counter(list(dp['split'])))"
   ]
  },
  {
   "cell_type": "markdown",
   "id": "348100a8-610e-424b-ba75-a853e49f4fef",
   "metadata": {},
   "source": [
    "### Train Model"
   ]
  },
  {
   "cell_type": "code",
   "execution_count": 74,
   "id": "98b7f5e7-2280-46a0-b214-8c7aeca19833",
   "metadata": {},
   "outputs": [
    {
     "name": "stdout",
     "output_type": "stream",
     "text": [
      "task: train_vg, run_id=16798\n"
     ]
    },
    {
     "name": "stderr",
     "output_type": "stream",
     "text": [
      "[2021-09-23 20:43:52,940][INFO][pytorch_lightning.utilities.seed:65] :: Global seed set to 123\n",
      "/home/common/envs/conda/envs/domino/lib/python3.8/site-packages/torchmetrics/utilities/prints.py:36: UserWarning: Metric `AUROC` will save all targets and predictions in buffer. For large datasets this may lead to large memory footprint.\n",
      "  warnings.warn(*args, **kwargs)\n",
      "/home/common/envs/conda/envs/domino/lib/python3.8/site-packages/pytorch_lightning/utilities/distributed.py:69: UserWarning: Checkpoint directory /home/sabri/terra/slice/tasks/__main__/train_vg/_runs/16798 exists and is not empty.\n",
      "  warnings.warn(*args, **kwargs)\n",
      "[2021-09-23 20:43:53,203][INFO][pytorch_lightning.utilities.distributed:73] :: GPU available: True, used: True\n",
      "[2021-09-23 20:43:53,204][INFO][pytorch_lightning.utilities.distributed:73] :: TPU available: False, using: 0 TPU cores\n",
      "[2021-09-23 20:43:53,224][INFO][pytorch_lightning.accelerators.gpu:63] :: LOCAL_RANK: 0 - CUDA_VISIBLE_DEVICES: [0]\n",
      "\u001b[34m\u001b[1mwandb\u001b[0m: Currently logged in as: \u001b[33mmaya124\u001b[0m (use `wandb login --relogin` to force relogin)\n",
      "\u001b[34m\u001b[1mwandb\u001b[0m: wandb version 0.12.2 is available!  To upgrade, please run:\n",
      "\u001b[34m\u001b[1mwandb\u001b[0m:  $ pip install wandb --upgrade\n"
     ]
    },
    {
     "data": {
      "text/html": [
       "\n",
       "                Tracking run with wandb version 0.11.0<br/>\n",
       "                Syncing run <strong style=\"color:#cdcd00\">train_vg-run_id=16798</strong> to <a href=\"https://wandb.ai\" target=\"_blank\">Weights & Biases</a> <a href=\"https://docs.wandb.com/integrations/jupyter.html\" target=\"_blank\">(Documentation)</a>.<br/>\n",
       "                Project page: <a href=\"https://wandb.ai/maya124/domino\" target=\"_blank\">https://wandb.ai/maya124/domino</a><br/>\n",
       "                Run page: <a href=\"https://wandb.ai/maya124/domino/runs/1rci45b2\" target=\"_blank\">https://wandb.ai/maya124/domino/runs/1rci45b2</a><br/>\n",
       "                Run data is saved locally in <code>/home/sabri/terra/slice/tasks/__main__/train_vg/_runs/16798/wandb/run-20210923_204353-1rci45b2</code><br/><br/>\n",
       "            "
      ],
      "text/plain": [
       "<IPython.core.display.HTML object>"
      ]
     },
     "metadata": {},
     "output_type": "display_data"
    },
    {
     "name": "stderr",
     "output_type": "stream",
     "text": [
      "[2021-09-23 20:44:00,197][INFO][pytorch_lightning.core.lightning:1496] :: \n",
      "  | Name        | Type       | Params\n",
      "-------------------------------------------\n",
      "0 | model       | ResNet     | 11.2 M\n",
      "1 | metrics     | ModuleDict | 0     \n",
      "2 | valid_preds | PredLogger | 0     \n",
      "-------------------------------------------\n",
      "11.2 M    Trainable params\n",
      "0         Non-trainable params\n",
      "11.2 M    Total params\n",
      "44.710    Total estimated model params size (MB)\n"
     ]
    },
    {
     "data": {
      "application/vnd.jupyter.widget-view+json": {
       "model_id": "1262ab398c324887a6c0551a2d9d5241",
       "version_major": 2,
       "version_minor": 0
      },
      "text/plain": [
       "HBox(children=(FloatProgress(value=1.0, bar_style='info', description='Validation sanity check', layout=Layout…"
      ]
     },
     "metadata": {},
     "output_type": "display_data"
    },
    {
     "name": "stderr",
     "output_type": "stream",
     "text": [
      "/home/common/envs/conda/envs/domino/lib/python3.8/site-packages/pytorch_lightning/utilities/distributed.py:69: UserWarning: Your val_dataloader has `shuffle=True`, it is best practice to turn this off for val/test/predict dataloaders.\n",
      "  warnings.warn(*args, **kwargs)\n",
      "\n",
      "InvalidVersionSpec: Invalid version '0.70.11Cython>=0.29.21': invalid character(s)\n",
      "\n"
     ]
    },
    {
     "name": "stdout",
     "output_type": "stream",
     "text": [
      "len auroc 2\n"
     ]
    },
    {
     "name": "stderr",
     "output_type": "stream",
     "text": [
      "[2021-09-23 20:44:05,612][INFO][pytorch_lightning.utilities.seed:65] :: Global seed set to 123\n"
     ]
    },
    {
     "data": {
      "application/vnd.jupyter.widget-view+json": {
       "model_id": "dce5e3f43f0e49caafafebba11ac6d6b",
       "version_major": 2,
       "version_minor": 0
      },
      "text/plain": [
       "HBox(children=(FloatProgress(value=1.0, bar_style='info', description='Training', layout=Layout(flex='2'), max…"
      ]
     },
     "metadata": {},
     "output_type": "display_data"
    },
    {
     "data": {
      "application/vnd.jupyter.widget-view+json": {
       "model_id": "4d2b86cd8f4447b4b6614bb6dd0d8c3c",
       "version_major": 2,
       "version_minor": 0
      },
      "text/plain": [
       "HBox(children=(FloatProgress(value=1.0, bar_style='info', description='Validating', layout=Layout(flex='2'), m…"
      ]
     },
     "metadata": {},
     "output_type": "display_data"
    },
    {
     "name": "stdout",
     "output_type": "stream",
     "text": [
      "len auroc 9\n"
     ]
    },
    {
     "data": {
      "application/vnd.jupyter.widget-view+json": {
       "model_id": "2e10b8bbdd9745efaa2c5e91937fe55f",
       "version_major": 2,
       "version_minor": 0
      },
      "text/plain": [
       "HBox(children=(FloatProgress(value=1.0, bar_style='info', description='Validating', layout=Layout(flex='2'), m…"
      ]
     },
     "metadata": {},
     "output_type": "display_data"
    },
    {
     "name": "stdout",
     "output_type": "stream",
     "text": [
      "len auroc 9\n"
     ]
    },
    {
     "data": {
      "application/vnd.jupyter.widget-view+json": {
       "model_id": "4318c24a9229489dadb5505609bc91ec",
       "version_major": 2,
       "version_minor": 0
      },
      "text/plain": [
       "HBox(children=(FloatProgress(value=1.0, bar_style='info', description='Validating', layout=Layout(flex='2'), m…"
      ]
     },
     "metadata": {},
     "output_type": "display_data"
    },
    {
     "name": "stdout",
     "output_type": "stream",
     "text": [
      "len auroc 9\n"
     ]
    },
    {
     "data": {
      "application/vnd.jupyter.widget-view+json": {
       "model_id": "d961445bde9344fe8a8cf0678bea1165",
       "version_major": 2,
       "version_minor": 0
      },
      "text/plain": [
       "HBox(children=(FloatProgress(value=1.0, bar_style='info', description='Validating', layout=Layout(flex='2'), m…"
      ]
     },
     "metadata": {},
     "output_type": "display_data"
    },
    {
     "name": "stdout",
     "output_type": "stream",
     "text": [
      "len auroc 9\n"
     ]
    },
    {
     "data": {
      "application/vnd.jupyter.widget-view+json": {
       "model_id": "e296dbb315454f6981894f2624148c48",
       "version_major": 2,
       "version_minor": 0
      },
      "text/plain": [
       "HBox(children=(FloatProgress(value=1.0, bar_style='info', description='Validating', layout=Layout(flex='2'), m…"
      ]
     },
     "metadata": {},
     "output_type": "display_data"
    },
    {
     "name": "stdout",
     "output_type": "stream",
     "text": [
      "len auroc 9\n"
     ]
    },
    {
     "data": {
      "application/vnd.jupyter.widget-view+json": {
       "model_id": "2e9bbe6793194d2d9bc9ef60c7d7b2d0",
       "version_major": 2,
       "version_minor": 0
      },
      "text/plain": [
       "HBox(children=(FloatProgress(value=1.0, bar_style='info', description='Validating', layout=Layout(flex='2'), m…"
      ]
     },
     "metadata": {},
     "output_type": "display_data"
    },
    {
     "name": "stdout",
     "output_type": "stream",
     "text": [
      "len auroc 9\n"
     ]
    },
    {
     "data": {
      "application/vnd.jupyter.widget-view+json": {
       "model_id": "f51712bd1ebe4031870ccca8ff49803e",
       "version_major": 2,
       "version_minor": 0
      },
      "text/plain": [
       "HBox(children=(FloatProgress(value=1.0, bar_style='info', description='Validating', layout=Layout(flex='2'), m…"
      ]
     },
     "metadata": {},
     "output_type": "display_data"
    },
    {
     "name": "stdout",
     "output_type": "stream",
     "text": [
      "len auroc 9\n"
     ]
    },
    {
     "data": {
      "application/vnd.jupyter.widget-view+json": {
       "model_id": "a78eb4f69e8c4d7cb86556ebe9dfc261",
       "version_major": 2,
       "version_minor": 0
      },
      "text/plain": [
       "HBox(children=(FloatProgress(value=1.0, bar_style='info', description='Validating', layout=Layout(flex='2'), m…"
      ]
     },
     "metadata": {},
     "output_type": "display_data"
    },
    {
     "name": "stdout",
     "output_type": "stream",
     "text": [
      "len auroc 9\n"
     ]
    },
    {
     "data": {
      "application/vnd.jupyter.widget-view+json": {
       "model_id": "450c2bdd726341e38e6cd56b72ca382e",
       "version_major": 2,
       "version_minor": 0
      },
      "text/plain": [
       "HBox(children=(FloatProgress(value=1.0, bar_style='info', description='Validating', layout=Layout(flex='2'), m…"
      ]
     },
     "metadata": {},
     "output_type": "display_data"
    },
    {
     "name": "stdout",
     "output_type": "stream",
     "text": [
      "len auroc 9\n"
     ]
    },
    {
     "data": {
      "application/vnd.jupyter.widget-view+json": {
       "model_id": "aa23dfa7a4b0442da8bfe97581cc95fd",
       "version_major": 2,
       "version_minor": 0
      },
      "text/plain": [
       "HBox(children=(FloatProgress(value=1.0, bar_style='info', description='Validating', layout=Layout(flex='2'), m…"
      ]
     },
     "metadata": {},
     "output_type": "display_data"
    },
    {
     "name": "stdout",
     "output_type": "stream",
     "text": [
      "len auroc 9\n"
     ]
    },
    {
     "data": {
      "application/vnd.jupyter.widget-view+json": {
       "model_id": "aa5e36df12844a2b8296025708eb8705",
       "version_major": 2,
       "version_minor": 0
      },
      "text/plain": [
       "HBox(children=(FloatProgress(value=1.0, bar_style='info', description='Validating', layout=Layout(flex='2'), m…"
      ]
     },
     "metadata": {},
     "output_type": "display_data"
    },
    {
     "name": "stdout",
     "output_type": "stream",
     "text": [
      "len auroc 9\n"
     ]
    },
    {
     "data": {
      "application/vnd.jupyter.widget-view+json": {
       "model_id": "72fc9017cb5646b7827f1430fa83efbf",
       "version_major": 2,
       "version_minor": 0
      },
      "text/plain": [
       "HBox(children=(FloatProgress(value=1.0, bar_style='info', description='Validating', layout=Layout(flex='2'), m…"
      ]
     },
     "metadata": {},
     "output_type": "display_data"
    },
    {
     "name": "stdout",
     "output_type": "stream",
     "text": [
      "len auroc 9\n"
     ]
    },
    {
     "data": {
      "application/vnd.jupyter.widget-view+json": {
       "model_id": "7584709791dd4ffe96bc655807d587f9",
       "version_major": 2,
       "version_minor": 0
      },
      "text/plain": [
       "HBox(children=(FloatProgress(value=1.0, bar_style='info', description='Validating', layout=Layout(flex='2'), m…"
      ]
     },
     "metadata": {},
     "output_type": "display_data"
    },
    {
     "name": "stdout",
     "output_type": "stream",
     "text": [
      "len auroc 9\n"
     ]
    },
    {
     "data": {
      "application/vnd.jupyter.widget-view+json": {
       "model_id": "f58b6b3d3d5642099aaa47bff01aa07d",
       "version_major": 2,
       "version_minor": 0
      },
      "text/plain": [
       "HBox(children=(FloatProgress(value=1.0, bar_style='info', description='Validating', layout=Layout(flex='2'), m…"
      ]
     },
     "metadata": {},
     "output_type": "display_data"
    },
    {
     "name": "stdout",
     "output_type": "stream",
     "text": [
      "len auroc 9\n"
     ]
    },
    {
     "data": {
      "application/vnd.jupyter.widget-view+json": {
       "model_id": "a071be4a5ee54b41b8be6a6425cb1a61",
       "version_major": 2,
       "version_minor": 0
      },
      "text/plain": [
       "HBox(children=(FloatProgress(value=1.0, bar_style='info', description='Validating', layout=Layout(flex='2'), m…"
      ]
     },
     "metadata": {},
     "output_type": "display_data"
    },
    {
     "name": "stdout",
     "output_type": "stream",
     "text": [
      "len auroc 9\n"
     ]
    },
    {
     "data": {
      "application/vnd.jupyter.widget-view+json": {
       "model_id": "d31c36cd7aff462080c53bcf76dab059",
       "version_major": 2,
       "version_minor": 0
      },
      "text/plain": [
       "HBox(children=(FloatProgress(value=1.0, bar_style='info', description='Validating', layout=Layout(flex='2'), m…"
      ]
     },
     "metadata": {},
     "output_type": "display_data"
    },
    {
     "name": "stdout",
     "output_type": "stream",
     "text": [
      "len auroc 9\n"
     ]
    },
    {
     "data": {
      "application/vnd.jupyter.widget-view+json": {
       "model_id": "73cb2316860c43a698155f43451e5f1d",
       "version_major": 2,
       "version_minor": 0
      },
      "text/plain": [
       "HBox(children=(FloatProgress(value=1.0, bar_style='info', description='Validating', layout=Layout(flex='2'), m…"
      ]
     },
     "metadata": {},
     "output_type": "display_data"
    },
    {
     "name": "stdout",
     "output_type": "stream",
     "text": [
      "len auroc 9\n"
     ]
    },
    {
     "data": {
      "application/vnd.jupyter.widget-view+json": {
       "model_id": "c4482d7469594d838a181f739f1b8db4",
       "version_major": 2,
       "version_minor": 0
      },
      "text/plain": [
       "HBox(children=(FloatProgress(value=1.0, bar_style='info', description='Validating', layout=Layout(flex='2'), m…"
      ]
     },
     "metadata": {},
     "output_type": "display_data"
    },
    {
     "name": "stdout",
     "output_type": "stream",
     "text": [
      "len auroc 9\n"
     ]
    },
    {
     "data": {
      "application/vnd.jupyter.widget-view+json": {
       "model_id": "c3f9377e1ce442ae87a54c511ec76c09",
       "version_major": 2,
       "version_minor": 0
      },
      "text/plain": [
       "HBox(children=(FloatProgress(value=1.0, bar_style='info', description='Validating', layout=Layout(flex='2'), m…"
      ]
     },
     "metadata": {},
     "output_type": "display_data"
    },
    {
     "name": "stdout",
     "output_type": "stream",
     "text": [
      "len auroc 9\n"
     ]
    },
    {
     "data": {
      "application/vnd.jupyter.widget-view+json": {
       "model_id": "6e0e2cdcd5a34493988039a269780b32",
       "version_major": 2,
       "version_minor": 0
      },
      "text/plain": [
       "HBox(children=(FloatProgress(value=1.0, bar_style='info', description='Validating', layout=Layout(flex='2'), m…"
      ]
     },
     "metadata": {},
     "output_type": "display_data"
    },
    {
     "name": "stdout",
     "output_type": "stream",
     "text": [
      "len auroc 9\n"
     ]
    },
    {
     "data": {
      "application/vnd.jupyter.widget-view+json": {
       "model_id": "2af96d9fb8c7471c879ad8bb97d4c99a",
       "version_major": 2,
       "version_minor": 0
      },
      "text/plain": [
       "HBox(children=(FloatProgress(value=1.0, bar_style='info', description='Validating', layout=Layout(flex='2'), m…"
      ]
     },
     "metadata": {},
     "output_type": "display_data"
    },
    {
     "name": "stdout",
     "output_type": "stream",
     "text": [
      "len auroc 9\n"
     ]
    },
    {
     "data": {
      "application/vnd.jupyter.widget-view+json": {
       "model_id": "ae32266e55d148d19ad0a1008b6b4582",
       "version_major": 2,
       "version_minor": 0
      },
      "text/plain": [
       "HBox(children=(FloatProgress(value=1.0, bar_style='info', description='Validating', layout=Layout(flex='2'), m…"
      ]
     },
     "metadata": {},
     "output_type": "display_data"
    },
    {
     "name": "stdout",
     "output_type": "stream",
     "text": [
      "len auroc 9\n"
     ]
    },
    {
     "data": {
      "application/vnd.jupyter.widget-view+json": {
       "model_id": "a5a4f5885e894014ab3a68943f52bdc1",
       "version_major": 2,
       "version_minor": 0
      },
      "text/plain": [
       "HBox(children=(FloatProgress(value=1.0, bar_style='info', description='Validating', layout=Layout(flex='2'), m…"
      ]
     },
     "metadata": {},
     "output_type": "display_data"
    },
    {
     "name": "stdout",
     "output_type": "stream",
     "text": [
      "len auroc 9\n"
     ]
    },
    {
     "data": {
      "application/vnd.jupyter.widget-view+json": {
       "model_id": "fdfa7af0cdc941a591605c1af191775e",
       "version_major": 2,
       "version_minor": 0
      },
      "text/plain": [
       "HBox(children=(FloatProgress(value=1.0, bar_style='info', description='Validating', layout=Layout(flex='2'), m…"
      ]
     },
     "metadata": {},
     "output_type": "display_data"
    },
    {
     "name": "stdout",
     "output_type": "stream",
     "text": [
      "len auroc 9\n"
     ]
    },
    {
     "data": {
      "application/vnd.jupyter.widget-view+json": {
       "model_id": "14cbeb500916428b91d1c9148f6adc17",
       "version_major": 2,
       "version_minor": 0
      },
      "text/plain": [
       "HBox(children=(FloatProgress(value=1.0, bar_style='info', description='Validating', layout=Layout(flex='2'), m…"
      ]
     },
     "metadata": {},
     "output_type": "display_data"
    },
    {
     "name": "stdout",
     "output_type": "stream",
     "text": [
      "len auroc 9\n",
      "\n"
     ]
    },
    {
     "data": {
      "text/html": [
       "<br/>Waiting for W&B process to finish, PID 3854<br/>Program ended successfully."
      ],
      "text/plain": [
       "<IPython.core.display.HTML object>"
      ]
     },
     "metadata": {},
     "output_type": "display_data"
    },
    {
     "data": {
      "application/vnd.jupyter.widget-view+json": {
       "model_id": "0dd0e125582e4f4aa07ec7074faefe92",
       "version_major": 2,
       "version_minor": 0
      },
      "text/plain": [
       "VBox(children=(Label(value=' 0.00MB of 0.00MB uploaded (0.00MB deduped)\\r'), FloatProgress(value=1.0, max=1.0)…"
      ]
     },
     "metadata": {},
     "output_type": "display_data"
    },
    {
     "data": {
      "text/html": [
       "Find user logs for this run at: <code>/home/sabri/terra/slice/tasks/__main__/train_vg/_runs/16798/wandb/run-20210923_204353-1rci45b2/logs/debug.log</code>"
      ],
      "text/plain": [
       "<IPython.core.display.HTML object>"
      ]
     },
     "metadata": {},
     "output_type": "display_data"
    },
    {
     "data": {
      "text/html": [
       "Find internal logs for this run at: <code>/home/sabri/terra/slice/tasks/__main__/train_vg/_runs/16798/wandb/run-20210923_204353-1rci45b2/logs/debug-internal.log</code>"
      ],
      "text/plain": [
       "<IPython.core.display.HTML object>"
      ]
     },
     "metadata": {},
     "output_type": "display_data"
    },
    {
     "data": {
      "text/html": [
       "<h3>Run summary:</h3><br/><style>\n",
       "    table.wandb td:nth-child(1) { padding: 0 10px; text-align: right }\n",
       "    </style><table class=\"wandb\">\n",
       "<tr><td>train_loss</td><td>0.00321</td></tr><tr><td>epoch</td><td>4</td></tr><tr><td>trainer/global_step</td><td>274</td></tr><tr><td>_runtime</td><td>260</td></tr><tr><td>_timestamp</td><td>1632430093</td></tr><tr><td>_step</td><td>299</td></tr><tr><td>valid_loss</td><td>0.56626</td></tr><tr><td>valid_accuracy</td><td>0.83494</td></tr><tr><td>valid_auroc</td><td>0.841</td></tr></table>"
      ],
      "text/plain": [
       "<IPython.core.display.HTML object>"
      ]
     },
     "metadata": {},
     "output_type": "display_data"
    },
    {
     "data": {
      "text/html": [
       "<h3>Run history:</h3><br/><style>\n",
       "    table.wandb td:nth-child(1) { padding: 0 10px; text-align: right }\n",
       "    </style><table class=\"wandb\">\n",
       "<tr><td>train_loss</td><td>█▇▅▅▆▅▅▆▃▃▃▃▃▄▃▄▂▂▂▂▂▂▂▁▁▁▁▁▁▁▁▁▁▁▁▁▁▁▁▁</td></tr><tr><td>epoch</td><td>▁▁▁▁▁▁▁▁▃▃▃▃▃▃▃▃▅▅▅▅▅▅▅▅▆▆▆▆▆▆▆▆████████</td></tr><tr><td>trainer/global_step</td><td>▁▁▁▁▂▂▂▂▂▃▃▃▃▃▃▄▄▄▄▄▅▅▅▅▅▅▆▆▆▆▆▆▇▇▇▇▇███</td></tr><tr><td>_runtime</td><td>▁▁▁▂▂▂▂▂▂▃▃▃▃▃▃▄▄▄▄▄▄▅▅▅▅▆▆▆▆▆▆▇▇▇▇▇▇███</td></tr><tr><td>_timestamp</td><td>▁▁▁▂▂▂▂▂▂▃▃▃▃▃▃▄▄▄▄▄▄▅▅▅▅▆▆▆▆▆▆▇▇▇▇▇▇███</td></tr><tr><td>_step</td><td>▁▁▁▁▂▂▂▂▂▃▃▃▃▃▃▄▄▄▄▄▅▅▅▅▅▅▆▆▆▆▆▆▇▇▇▇▇███</td></tr><tr><td>valid_loss</td><td>▃▃▃▄▃▁▁▂▅▃▃▅▄▆▅▆▆▆▇▇▇████</td></tr><tr><td>valid_accuracy</td><td>▄▄▃▃▄█▄▇▃▂▆█▁▂▆▇▇▇█▅█▇▇▆▇</td></tr><tr><td>valid_auroc</td><td>▁▂▇▇██▇▆▇▄▆▄▃▃▄▄▄▄▁▅▃▅▄▅▅</td></tr></table><br/>"
      ],
      "text/plain": [
       "<IPython.core.display.HTML object>"
      ]
     },
     "metadata": {},
     "output_type": "display_data"
    },
    {
     "data": {
      "text/html": [
       "Synced 5 W&B file(s), 0 media file(s), 0 artifact file(s) and 0 other file(s)"
      ],
      "text/plain": [
       "<IPython.core.display.HTML object>"
      ]
     },
     "metadata": {},
     "output_type": "display_data"
    },
    {
     "data": {
      "text/html": [
       "\n",
       "                    <br/>Synced <strong style=\"color:#cdcd00\">train_vg-run_id=16798</strong>: <a href=\"https://wandb.ai/maya124/domino/runs/1rci45b2\" target=\"_blank\">https://wandb.ai/maya124/domino/runs/1rci45b2</a><br/>\n",
       "                "
      ],
      "text/plain": [
       "<IPython.core.display.HTML object>"
      ]
     },
     "metadata": {},
     "output_type": "display_data"
    },
    {
     "data": {
      "text/plain": [
       "Artifact(id=220732, run_id=16798, type=<class 'vision.Classifier'>)"
      ]
     },
     "execution_count": 74,
     "metadata": {},
     "output_type": "execute_result"
    }
   ],
   "source": [
    "import terra \n",
    "from vision import train\n",
    "from torchvision import transforms\n",
    "\n",
    "preprocessing = transforms.Compose([\n",
    "    transforms.Resize((224, 224)),\n",
    "    transforms.ToTensor(),\n",
    "    transforms.Normalize((0.485, 0.456, 0.406),\n",
    "                         (0.229, 0.224, 0.225))])\n",
    "\n",
    "\n",
    "dp[\"input\"] = dp[\"cxr_jpg_1024\"].to_lambda(preprocessing)\n",
    "\n",
    "@terra.Task\n",
    "def train_vg(dp, run_dir: str = None):\n",
    "\n",
    "    model = train(\n",
    "        config={\"pretrained\": True, 'transform': None, 'train_transform': None},\n",
    "        dp=dp,\n",
    "        input_column=\"input\",\n",
    "        max_epochs=5,\n",
    "        id_column=\"dicom_id\",\n",
    "        target_column=target,\n",
    "        ckpt_monitor=\"valid_auroc\",\n",
    "        batch_size=128, \n",
    "        run_dir=run_dir,\n",
    "        val_check_interval=10,\n",
    "        num_workers=6\n",
    "    )\n",
    "    return model\n",
    "\n",
    "train_vg(dp=dp)"
   ]
  },
  {
   "cell_type": "code",
   "execution_count": 79,
   "id": "fbc1917f-1a79-46f5-bb4f-0f8904fce035",
   "metadata": {},
   "outputs": [],
   "source": [
    "run_id = 16798\n",
    "dataset_dp = terra.inp(run_id)[\"dp\"].load()\n",
    "model = terra.get_artifacts(run_id, \"best_chkpt\")[\"model\"]"
   ]
  },
  {
   "cell_type": "markdown",
   "id": "8d4e0b30-b04c-4a28-8fed-ea933b1a1bce",
   "metadata": {},
   "source": [
    "### Score Model"
   ]
  },
  {
   "cell_type": "code",
   "execution_count": 80,
   "id": "0c91ab9f-2a61-43b8-9430-6f0f2dbe4f48",
   "metadata": {},
   "outputs": [
    {
     "data": {
      "application/vnd.jupyter.widget-view+json": {
       "model_id": "1543293b695c41d980d3361afac281b2",
       "version_major": 2,
       "version_minor": 0
      },
      "text/plain": [
       "HBox(children=(FloatProgress(value=0.0, max=16.0), HTML(value='')))"
      ]
     },
     "metadata": {},
     "output_type": "display_data"
    },
    {
     "name": "stdout",
     "output_type": "stream",
     "text": [
      "\n"
     ]
    }
   ],
   "source": [
    "from domino.vision import score\n",
    "score_dp = score(\n",
    "    model=model.load(), \n",
    "    dp=dataset_dp.lz[dataset_dp[\"split\"] == \"test\"], \n",
    "    input_column=\"input\",\n",
    "    batch_size=128\n",
    ")"
   ]
  },
  {
   "cell_type": "code",
   "execution_count": 81,
   "id": "996ee570-3196-4818-bb68-261bce03cfe1",
   "metadata": {},
   "outputs": [],
   "source": [
    "score_dp[\"prob\"] = score_dp[\"output\"].probabilities().data[:, -1]"
   ]
  },
  {
   "cell_type": "code",
   "execution_count": 82,
   "id": "f8d1230d-5474-4647-9019-29ba4f16a6dc",
   "metadata": {},
   "outputs": [
    {
     "data": {
      "text/html": [
       "<pre style=\"white-space:pre;overflow-x:auto;line-height:normal;font-family:Menlo,'DejaVu Sans Mono',consolas,'Courier New',monospace\">Overall AUROC: <span style=\"color: #008080; text-decoration-color: #008080; font-weight: bold\">0.8670940612828733</span>\n",
       "</pre>\n"
      ],
      "text/plain": [
       "Overall AUROC: \u001b[1;36m0.8670940612828733\u001b[0m\n"
      ]
     },
     "metadata": {},
     "output_type": "display_data"
    },
    {
     "data": {
      "text/html": [
       "<pre style=\"white-space:pre;overflow-x:auto;line-height:normal;font-family:Menlo,'DejaVu Sans Mono',consolas,'Courier New',monospace\">AUROC where correlation holds: <span style=\"color: #008080; text-decoration-color: #008080; font-weight: bold\">0.8847242451163475</span>\n",
       "</pre>\n"
      ],
      "text/plain": [
       "AUROC where correlation holds: \u001b[1;36m0.8847242451163475\u001b[0m\n"
      ]
     },
     "metadata": {},
     "output_type": "display_data"
    },
    {
     "data": {
      "text/html": [
       "<pre style=\"white-space:pre;overflow-x:auto;line-height:normal;font-family:Menlo,'DejaVu Sans Mono',consolas,'Courier New',monospace\">AUROC where correlation does not hold: <span style=\"color: #008080; text-decoration-color: #008080; font-weight: bold\">0.6535244922341696</span>\n",
       "</pre>\n"
      ],
      "text/plain": [
       "AUROC where correlation does not hold: \u001b[1;36m0.6535244922341696\u001b[0m\n"
      ]
     },
     "metadata": {},
     "output_type": "display_data"
    }
   ],
   "source": [
    "from sklearn.metrics import roc_auc_score\n",
    "print(\"Overall AUROC: {}\".format(\n",
    "    roc_auc_score(score_dp[target], score_dp[\"prob\"])\n",
    "))\n",
    "\n",
    "curr_dp = score_dp.lz[score_dp[target] == score_dp[correlate]]\n",
    "print(\"AUROC where correlation holds: {}\".format(\n",
    "    roc_auc_score(curr_dp[target], curr_dp[\"prob\"])\n",
    "))\n",
    "\n",
    "curr_dp = score_dp.lz[score_dp[target] != score_dp[correlate]]\n",
    "print(\"AUROC where correlation does not hold: {}\".format(\n",
    "    roc_auc_score(curr_dp[target], curr_dp[\"prob\"])\n",
    "))"
   ]
  },
  {
   "cell_type": "markdown",
   "id": "56dd43aa-d6fd-40e7-a130-2af854c93dcd",
   "metadata": {},
   "source": [
    "### Analyze with CLIP Embeddings"
   ]
  },
  {
   "cell_type": "code",
   "execution_count": 83,
   "id": "2d549a84-d8bf-414c-ade5-cf114876acfc",
   "metadata": {},
   "outputs": [
    {
     "name": "stdout",
     "output_type": "stream",
     "text": [
      "task: embed_images, run_id=16799\n"
     ]
    },
    {
     "data": {
      "application/vnd.jupyter.widget-view+json": {
       "model_id": "b9dca6e5581b43118d8406009cfd2549",
       "version_major": 2,
       "version_minor": 0
      },
      "text/plain": [
       "HBox(children=(FloatProgress(value=0.0, max=16.0), HTML(value='')))"
      ]
     },
     "metadata": {},
     "output_type": "display_data"
    },
    {
     "name": "stdout",
     "output_type": "stream",
     "text": [
      "\n"
     ]
    }
   ],
   "source": [
    "from emb.clip import embed_images\n",
    "score_dp = embed_images(dp=score_dp, img_column=\"cxr_jpg_1024\").load()"
   ]
  },
  {
   "cell_type": "code",
   "execution_count": 84,
   "id": "4170aa1c-7675-4c51-b7a0-98391d628798",
   "metadata": {},
   "outputs": [],
   "source": [
    "from emb.clip import embed_words, get_wiki_words\n",
    "#words_dp = get_wiki_words()\n",
    "#words_dp = embed_words(words_dp).load()\n",
    "words_dp = embed_words.out(6537).load()\n",
    "words_dp = words_dp.lz[:int(1e4)]"
   ]
  },
  {
   "cell_type": "code",
   "execution_count": 85,
   "id": "a8a211fc-1383-4d3f-999f-1dd3a288910a",
   "metadata": {
    "tags": []
   },
   "outputs": [
    {
     "data": {
      "text/html": [
       "<table border=\"1\" class=\"dataframe\">\n",
       "  <thead>\n",
       "    <tr style=\"text-align: right;\">\n",
       "      <th></th>\n",
       "      <th>cxr_jpg_1024 (ImageColumn)</th>\n",
       "      <th>prob (TensorColumn)</th>\n",
       "      <th>lung_group (PandasSeriesColumn)</th>\n",
       "      <th>cardio_group (PandasSeriesColumn)</th>\n",
       "    </tr>\n",
       "  </thead>\n",
       "  <tbody>\n",
       "    <tr>\n",
       "      <th>0</th>\n",
       "      <td><img src=\"data:image/jpeg;base64,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\"></td>\n",
       "      <td>tensor(0.2513)</td>\n",
       "      <td>True</td>\n",
       "      <td>True</td>\n",
       "    </tr>\n",
       "    <tr>\n",
       "      <th>1</th>\n",
       "      <td><img src=\"data:image/jpeg;base64,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\"></td>\n",
       "      <td>tensor(0.3711)</td>\n",
       "      <td>True</td>\n",
       "      <td>True</td>\n",
       "    </tr>\n",
       "    <tr>\n",
       "      <th>2</th>\n",
       "      <td><img src=\"data:image/jpeg;base64,/9j/4AAQSkZJRgABAQAAAQABAAD/2wBDAAgGBgcGBQgHBwcJCQgKDBQNDAsLDBkSEw8UHRofHh0aHBwgJC4nICIsIxwcKDcpLDAxNDQ0Hyc5PTgyPC4zNDL/2wBDAQkJCQwLDBgNDRgyIRwhMjIyMjIyMjIyMjIyMjIyMjIyMjIyMjIyMjIyMjIyMjIyMjIyMjIyMjIyMjIyMjIyMjL/wAARCABpAIADASIAAhEBAxEB/8QAHwAAAQUBAQEBAQEAAAAAAAAAAAECAwQFBgcICQoL/8QAtRAAAgEDAwIEAwUFBAQAAAF9AQIDAAQRBRIhMUEGE1FhByJxFDKBkaEII0KxwRVS0fAkM2JyggkKFhcYGRolJicoKSo0NTY3ODk6Q0RFRkdISUpTVFVWV1hZWmNkZWZnaGlqc3R1dnd4eXqDhIWGh4iJipKTlJWWl5iZmqKjpKWmp6ipqrKztLW2t7i5usLDxMXGx8jJytLT1NXW19jZ2uHi4+Tl5ufo6erx8vP09fb3+Pn6/8QAHwEAAwEBAQEBAQEBAQAAAAAAAAECAwQFBgcICQoL/8QAtREAAgECBAQDBAcFBAQAAQJ3AAECAxEEBSExBhJBUQdhcRMiMoEIFEKRobHBCSMzUvAVYnLRChYkNOEl8RcYGRomJygpKjU2Nzg5OkNERUZHSElKU1RVVldYWVpjZGVmZ2hpanN0dXZ3eHl6goOEhYaHiImKkpOUlZaXmJmaoqOkpaanqKmqsrO0tba3uLm6wsPExcbHyMnK0tPU1dbX2Nna4uPk5ebn6Onq8vP09fb3+Pn6/9oADAMBAAIRAxEAPwDxHS9LbUZsMX29yP8A69dIvgsKAyuXB7sMGtnwx4eijVWc/Me1eoWGg201n+8QK69xQB5FH4VtEUCRcN3IzimXXgp5o91kct6Hofxr164t7Q2xiit1IAwGYAk+9ZUFlNHKWQsMnjmgDx//AIRy+tpNk1u6nODxWhbRWun5aUlnXqF7V6RrOrW9hAYSqPKeGI7Vx081ncoxVYkb1Ixg0AbGna6GljVYwiZHXrXaXzK9tBMimVtpB2gnjHNeXaeGWcDzA2W4ya9JshPJpdv5W0ckcrQBFql3HZ6PAzZ+7wh65zXB32ri+LRPZtycZBrsPFUDQxIrfwpnJrzhr0w3LFpQcHkDgUAWYfB76nJujJiHVkfqK2rbw7Y6RCVhUvOeGasOLxPLHOm04wf4a7rSri31iIHhbgDJX+8PagCrpmkR3EwknbC4/jHStlfCkUkhaAr5RGdyHIq1a2scV2izA+TuBbHp3rT03ETTxK3ysu5T7jv+VAHnHiDQ4CrxoMD+93ry3ULJ7O6MZ9eDXvOtWWSVYc15f4k08fa0OOjAH86APR9FsgI0bFd5aIEs3cH7yHA965jRUzZxkDq5/pXVxD92UHRQR+YoAoiBeBtGKzteuYtJ0t5hgSN8qe3vW/HFll96898d6ipvXhblY/lVaAPOtb1SWdnA4HrXOrdlZfnJcemauaoGkclmwvpmscMEbIGcUAdjoN3bTShMYkPTI5r2jQLYtpluMtycjBrwLRLsx6nAWjOGbrX0t4cgRdItnHQpke2aAMfxZoi3VqZWlZcJgKB1rwjXoIdOleFgSxyVZQQDX0h4gdUsWYjgLXzd4p1BtU1VxFETFGSAR3PegDn4ZCkgZX5rsfDmsXENzGT/AAkYIriwis5z8vtWxptzJbSLt+daAPfUkS8tIrqPowwcdjU9ucPx/dP8qw/A9wLvTZ4snkBtp7Gt7iJwO5yDQBnaj84JPJU7T+VefeJYQLrp1dSP0r0CZi9zLH2bOPqK4fxKp3wv7hT+BoA9G8O2u+xgB6cn9a24yMS49ciqWgMqWEX+zCG/TNSNMI4WYnqKAOh0fT475Hd3ZSmANteH+OAsWt30KsXeOVkyfY4r3nwq261nP+0v8q8M8fxKniDUTGct58hJHb5jQB5he27I5aR857VXgkhjJ3wbvxxWt5c8jur/AHcE8im2cMLTBNjMzHA46n0oA1vDlpFeajFJ5ZUJyec19D+HxHLpaMuQNvTHSvI/CViI5JDNGFIwNo7V7Lo6wxabHsz6EUAZ/iFVOjXA2ZIRhivnbVdOe0mlmjj+Q/pX03qlstxaSqBztrwG/ZmuLqCaPAjcqR3NAHnrsHchhk+tW7JTFIGjOfakvPKF1Iqx4UMQOKlsbVmkDRtj3oA9X+HUpe+yRtJQhl9a6/UGEUuR2NcR4MnVNQt0HyuGGff1rsPE0n2diuOWYKPxoAz3l2yCX0bd+tcz4nhGWQfwSgj6Z/8A1VvzsBBn2rB1N/tTpjndCB/wIf8A6hQB2WgXWLGeNjzGgT+WKvXxAsH/AN2uctpzb3FyvaRwPyNbdw5ktMDnNAHb+CTu0hn9dv8AKvEPGdysPiLU1cZb7TJye3zGvStO8QSeG/DoZI0keRsqrk9q8n16R9S1G5u50CNNK0hC9Bk5oA5S4m82Qgc+wq3pdqpu0kk+VBz+NMkh+crC+PU1YsbaZ7iNm/i4VfWgDvvDDRPqQQPubgA44NetWaKNPUFCGB54rzjwhpSwlZZcFh0/CvUkMTWcflnjHIHrQAyWMPbuMdV6ivC/GuipZa3JdxRsVcYfB9e9e+Bdqkeori/EejQXpfP3sUAfOV9bwiZ/nKvuP41BC0sTjafxFdf4v8HTWt21zbgtkBio7/T3rkrZvKk2uvA60Adv4Yn8y5hOQrqwII7mvRfF5EltayjqzK1eY6Q6MyNEcEe2K9F1Kb7b4ft5T9+L5W+ooAxbhmNr17VhWsu5iGOTHcfoa2Z3H2XINczp8u69ukH8RLD8DQB0k9x5d1AxP37hh+ldQZAdO3DjAzXC61N5JtT/AHWL/rXUR3Ik0WQg9FoAra9qkcT2cbMPLSLp7n/9VcvcxzXwdoUZkHXaM4rP8ayyS6rDbw5LIFXaD1JAr0TwTYiCxQTJhzgsfU0AeZyWc0TkshCg+nWtHRG3Xok8vJTC/jXtNxp9vdqUeJGHuKqp4S00KStuFJ54oAq6LA2wDB3Hv7V3kMPkQCJuCByfU1ztnZC0XagyfU10Vud1sNxJYUAWVXKAe3FYV3EJJXyM84NdDDghSR/DXOXFyqu7bh1J5oA5HxJa7ogR0Awa8e1Ozh/tN4mTY55GDXtOtajbNGy7gHI6GvJtcjR7syhlwM5yeaAKtlmyYMT8o712+l6ml7pF1GD9wAkf5/CvNJtV2kocEjoexrY8HXjJeXMDElZ4mI+ooA27i6EWnFmP3QefpXNaPdf6dE5/ibB/Gna1qIFhPCD82SPzrK06XAQjqDQB1viR/wB8intH/MmtHQ7/AM7SCC2fkIP4cVgeJ5cXzDP8AxVDwvqJX7XAW4HI/GgDsrLRhqHime5dN23G0H6da9H07SzEignj0FYugW6mZZFH3lBJ9e1d1aRjaDjgUALb2oQZOOasGIMxCjipFUMfarUcYzmgCp9jzk7QPU1at4wIQVPtipihYYxxT0jCr9OlACpxgVgX1iZZpIoFj35zlhmt9eT901A0AWRmXALHJoA4Wbwzem43XC2jx5zgJzWLr3hey+zO7WyH0AUcmvT3jJyCDmsnU7FZ41RxtGQSRQB86av4UEkreTGYZV6Ds1VvDEb2+oSRygq6KV5r3PU9DgnUbMBlOSSK851rSRaazHKg2ncS+O/FAHmGtXBF5coe5BpNPm4FQa+f+JtN9ai09z56KOSTgCgDsvFQYt54HH3T/SuPsLxra+LA8ONp/Ou88Uf6i4/3m/ma84/5eF/3qAPpDwXdfaLWL1xXfwyKBjPFeb/Dz/j1j/3f6V6HD3+tAGrAyt3FW/NjjXPLHsB3rNg6Vaj/AOPmP/doAZDdXVxckKuwDsRWipz36daRPvH6UL1NACgjjmomIDHJ6URf6z8KR+rfWgBjMCSc1SmmXec9vWrZrPuO9AGff4Vcqcn2rhvE0C/ZnnwN4GK7m57Vx3iP/kHzfSgD5217/kLTfWm6Q4TU7csCRvHSpPEX/IXl+tM0L/kNWX/XZf50Af/Z\"></td>\n",
       "      <td>tensor(0.0214)</td>\n",
       "      <td>True</td>\n",
       "      <td>True</td>\n",
       "    </tr>\n",
       "    <tr>\n",
       "      <th>3</th>\n",
       "      <td><img src=\"data:image/jpeg;base64,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\"></td>\n",
       "      <td>tensor(0.0096)</td>\n",
       "      <td>True</td>\n",
       "      <td>True</td>\n",
       "    </tr>\n",
       "    <tr>\n",
       "      <th>4</th>\n",
       "      <td><img src=\"data:image/jpeg;base64,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\"></td>\n",
       "      <td>tensor(0.2553)</td>\n",
       "      <td>True</td>\n",
       "      <td>True</td>\n",
       "    </tr>\n",
       "    <tr>\n",
       "      <th>...</th>\n",
       "      <td>...</td>\n",
       "      <td>...</td>\n",
       "      <td>...</td>\n",
       "      <td>...</td>\n",
       "    </tr>\n",
       "    <tr>\n",
       "      <th>205</th>\n",
       "      <td><img src=\"data:image/jpeg;base64,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\"></td>\n",
       "      <td>tensor(0.3317)</td>\n",
       "      <td>True</td>\n",
       "      <td>True</td>\n",
       "    </tr>\n",
       "    <tr>\n",
       "      <th>206</th>\n",
       "      <td><img src=\"data:image/jpeg;base64,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\"></td>\n",
       "      <td>tensor(0.4511)</td>\n",
       "      <td>True</td>\n",
       "      <td>True</td>\n",
       "    </tr>\n",
       "    <tr>\n",
       "      <th>207</th>\n",
       "      <td><img src=\"data:image/jpeg;base64,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\"></td>\n",
       "      <td>tensor(0.4933)</td>\n",
       "      <td>True</td>\n",
       "      <td>True</td>\n",
       "    </tr>\n",
       "    <tr>\n",
       "      <th>208</th>\n",
       "      <td><img src=\"data:image/jpeg;base64,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\"></td>\n",
       "      <td>tensor(0.4843)</td>\n",
       "      <td>True</td>\n",
       "      <td>True</td>\n",
       "    </tr>\n",
       "    <tr>\n",
       "      <th>209</th>\n",
       "      <td><img src=\"data:image/jpeg;base64,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\"></td>\n",
       "      <td>tensor(0.0698)</td>\n",
       "      <td>True</td>\n",
       "      <td>False</td>\n",
       "    </tr>\n",
       "  </tbody>\n",
       "</table>"
      ],
      "text/plain": [
       "DataPanel(nrows: 210, ncols: 4)"
      ]
     },
     "execution_count": 85,
     "metadata": {},
     "output_type": "execute_result"
    }
   ],
   "source": [
    "mk.config.DisplayOptions.max_rows = 10\n",
    "error_dp = score_dp.lz[(score_dp[\"prob\"] > 0.5).numpy() != (score_dp[target] == 1)]\n",
    "error_dp = error_dp.lz[(error_dp[target] == 1)]\n",
    "error_dp[[\"cxr_jpg_1024\", \"prob\", target, correlate]]"
   ]
  },
  {
   "cell_type": "code",
   "execution_count": 86,
   "id": "2454c0ea-7acf-4108-a0ee-4bffde3af1f1",
   "metadata": {},
   "outputs": [
    {
     "data": {
      "text/html": [
       "<table border=\"1\" class=\"dataframe\">\n",
       "  <thead>\n",
       "    <tr style=\"text-align: right;\">\n",
       "      <th></th>\n",
       "      <th>word (PandasSeriesColumn)</th>\n",
       "      <th>frequency (PandasSeriesColumn)</th>\n",
       "      <th>index (PandasSeriesColumn)</th>\n",
       "      <th>tokens (LambdaColumn)</th>\n",
       "      <th>emb (NumpyArrayColumn)</th>\n",
       "      <th>score (NumpyArrayColumn)</th>\n",
       "    </tr>\n",
       "  </thead>\n",
       "  <tbody>\n",
       "    <tr>\n",
       "      <th>0</th>\n",
       "      <td>instrumentation</td>\n",
       "      <td>14720</td>\n",
       "      <td>9795</td>\n",
       "      <td>LambdaCell(fn=<lambda>)</td>\n",
       "      <td>np.ndarray(shape=(512,))</td>\n",
       "      <td>0.258545</td>\n",
       "    </tr>\n",
       "    <tr>\n",
       "      <th>1</th>\n",
       "      <td>programmes</td>\n",
       "      <td>47367</td>\n",
       "      <td>4136</td>\n",
       "      <td>LambdaCell(fn=<lambda>)</td>\n",
       "      <td>np.ndarray(shape=(512,))</td>\n",
       "      <td>0.215576</td>\n",
       "    </tr>\n",
       "    <tr>\n",
       "      <th>2</th>\n",
       "      <td>circuits</td>\n",
       "      <td>18950</td>\n",
       "      <td>8226</td>\n",
       "      <td>LambdaCell(fn=<lambda>)</td>\n",
       "      <td>np.ndarray(shape=(512,))</td>\n",
       "      <td>0.208740</td>\n",
       "    </tr>\n",
       "    <tr>\n",
       "      <th>3</th>\n",
       "      <td>patents</td>\n",
       "      <td>20319</td>\n",
       "      <td>7790</td>\n",
       "      <td>LambdaCell(fn=<lambda>)</td>\n",
       "      <td>np.ndarray(shape=(512,))</td>\n",
       "      <td>0.206299</td>\n",
       "    </tr>\n",
       "    <tr>\n",
       "      <th>4</th>\n",
       "      <td>electrons</td>\n",
       "      <td>16851</td>\n",
       "      <td>8909</td>\n",
       "      <td>LambdaCell(fn=<lambda>)</td>\n",
       "      <td>np.ndarray(shape=(512,))</td>\n",
       "      <td>0.203735</td>\n",
       "    </tr>\n",
       "    <tr>\n",
       "      <th>5</th>\n",
       "      <td>networks</td>\n",
       "      <td>77580</td>\n",
       "      <td>2743</td>\n",
       "      <td>LambdaCell(fn=<lambda>)</td>\n",
       "      <td>np.ndarray(shape=(512,))</td>\n",
       "      <td>0.202881</td>\n",
       "    </tr>\n",
       "    <tr>\n",
       "      <th>6</th>\n",
       "      <td>electrical</td>\n",
       "      <td>71316</td>\n",
       "      <td>2947</td>\n",
       "      <td>LambdaCell(fn=<lambda>)</td>\n",
       "      <td>np.ndarray(shape=(512,))</td>\n",
       "      <td>0.202148</td>\n",
       "    </tr>\n",
       "    <tr>\n",
       "      <th>7</th>\n",
       "      <td>airplay</td>\n",
       "      <td>18190</td>\n",
       "      <td>8451</td>\n",
       "      <td>LambdaCell(fn=<lambda>)</td>\n",
       "      <td>np.ndarray(shape=(512,))</td>\n",
       "      <td>0.200806</td>\n",
       "    </tr>\n",
       "    <tr>\n",
       "      <th>8</th>\n",
       "      <td>interface</td>\n",
       "      <td>42062</td>\n",
       "      <td>4564</td>\n",
       "      <td>LambdaCell(fn=<lambda>)</td>\n",
       "      <td>np.ndarray(shape=(512,))</td>\n",
       "      <td>0.192627</td>\n",
       "    </tr>\n",
       "    <tr>\n",
       "      <th>9</th>\n",
       "      <td>fixture</td>\n",
       "      <td>17172</td>\n",
       "      <td>8787</td>\n",
       "      <td>LambdaCell(fn=<lambda>)</td>\n",
       "      <td>np.ndarray(shape=(512,))</td>\n",
       "      <td>0.186157</td>\n",
       "    </tr>\n",
       "    <tr>\n",
       "      <th>10</th>\n",
       "      <td>gameplay</td>\n",
       "      <td>38580</td>\n",
       "      <td>4890</td>\n",
       "      <td>LambdaCell(fn=<lambda>)</td>\n",
       "      <td>np.ndarray(shape=(512,))</td>\n",
       "      <td>0.174805</td>\n",
       "    </tr>\n",
       "    <tr>\n",
       "      <th>11</th>\n",
       "      <td>controls</td>\n",
       "      <td>44114</td>\n",
       "      <td>4378</td>\n",
       "      <td>LambdaCell(fn=<lambda>)</td>\n",
       "      <td>np.ndarray(shape=(512,))</td>\n",
       "      <td>0.174561</td>\n",
       "    </tr>\n",
       "    <tr>\n",
       "      <th>12</th>\n",
       "      <td>wire</td>\n",
       "      <td>36704</td>\n",
       "      <td>5068</td>\n",
       "      <td>LambdaCell(fn=<lambda>)</td>\n",
       "      <td>np.ndarray(shape=(512,))</td>\n",
       "      <td>0.172974</td>\n",
       "    </tr>\n",
       "    <tr>\n",
       "      <th>13</th>\n",
       "      <td>meters</td>\n",
       "      <td>80914</td>\n",
       "      <td>2641</td>\n",
       "      <td>LambdaCell(fn=<lambda>)</td>\n",
       "      <td>np.ndarray(shape=(512,))</td>\n",
       "      <td>0.170532</td>\n",
       "    </tr>\n",
       "    <tr>\n",
       "      <th>14</th>\n",
       "      <td>transmission</td>\n",
       "      <td>65035</td>\n",
       "      <td>3178</td>\n",
       "      <td>LambdaCell(fn=<lambda>)</td>\n",
       "      <td>np.ndarray(shape=(512,))</td>\n",
       "      <td>0.165527</td>\n",
       "    </tr>\n",
       "    <tr>\n",
       "      <th>15</th>\n",
       "      <td>supernatural</td>\n",
       "      <td>18184</td>\n",
       "      <td>8455</td>\n",
       "      <td>LambdaCell(fn=<lambda>)</td>\n",
       "      <td>np.ndarray(shape=(512,))</td>\n",
       "      <td>0.165039</td>\n",
       "    </tr>\n",
       "    <tr>\n",
       "      <th>16</th>\n",
       "      <td>mathematics</td>\n",
       "      <td>86855</td>\n",
       "      <td>2467</td>\n",
       "      <td>LambdaCell(fn=<lambda>)</td>\n",
       "      <td>np.ndarray(shape=(512,))</td>\n",
       "      <td>0.163574</td>\n",
       "    </tr>\n",
       "    <tr>\n",
       "      <th>17</th>\n",
       "      <td>soundtrack</td>\n",
       "      <td>88910</td>\n",
       "      <td>2425</td>\n",
       "      <td>LambdaCell(fn=<lambda>)</td>\n",
       "      <td>np.ndarray(shape=(512,))</td>\n",
       "      <td>0.161743</td>\n",
       "    </tr>\n",
       "    <tr>\n",
       "      <th>18</th>\n",
       "      <td>electronics</td>\n",
       "      <td>38830</td>\n",
       "      <td>4864</td>\n",
       "      <td>LambdaCell(fn=<lambda>)</td>\n",
       "      <td>np.ndarray(shape=(512,))</td>\n",
       "      <td>0.160767</td>\n",
       "    </tr>\n",
       "    <tr>\n",
       "      <th>19</th>\n",
       "      <td>connected</td>\n",
       "      <td>132956</td>\n",
       "      <td>1666</td>\n",
       "      <td>LambdaCell(fn=<lambda>)</td>\n",
       "      <td>np.ndarray(shape=(512,))</td>\n",
       "      <td>0.160400</td>\n",
       "    </tr>\n",
       "  </tbody>\n",
       "</table>"
      ],
      "text/plain": [
       "DataPanel(nrows: 20, ncols: 6)"
      ]
     },
     "execution_count": 86,
     "metadata": {},
     "output_type": "execute_result"
    }
   ],
   "source": [
    "mk.config.DisplayOptions.max_rows = 40\n",
    "\n",
    "dp = score_dp\n",
    "prob_indices = (dp[\"prob\"] > 0.5).data.numpy().astype(bool)\n",
    "attr_emb = dp.lz[prob_indices][\"emb\"].data.mean(axis=0) #average embedding of predicted lung images\n",
    "ref_emb = dp.lz[dp[target] == 1][\"emb\"].data.mean(axis=0) #average embedding of true lung images\n",
    "\n",
    "#error_1_indices = ((dp[\"prob\"] > 0.5).data.numpy().astype(bool)) & ((dp[target] == 0).data.astype(bool))\n",
    "#error_1_emb =  dp.lz[error_1_indices][\"emb\"].data.mean(axis=0)\n",
    "\n",
    "#error_2_indices = ((dp[\"prob\"] < 0.5).data.numpy().astype(bool)) & ((dp[target] == 1).data.astype(bool))\n",
    "#error_2_emb =  dp.lz[error_2_indices][\"emb\"].data.mean(axis=0)\n",
    "\n",
    "scores = np.dot(words_dp[\"emb\"].data, attr_emb - ref_emb)\n",
    "words_dp[\"score\"] = scores\n",
    "words_dp.lz[(-scores).argsort()[:20]]"
   ]
  },
  {
   "cell_type": "markdown",
   "id": "2f3ddcae-cfad-408f-8930-6fc3c7870ceb",
   "metadata": {},
   "source": [
    "### Analyze with Multimodal Embeddings"
   ]
  },
  {
   "cell_type": "code",
   "execution_count": 152,
   "id": "ce26584a-b9ba-408c-a544-c1eb82c8337b",
   "metadata": {},
   "outputs": [
    {
     "data": {
      "text/html": [
       "<pre style=\"white-space:pre;overflow-x:auto;line-height:normal;font-family:Menlo,'DejaVu Sans Mono',consolas,'Courier New',monospace\"><span style=\"color: #008080; text-decoration-color: #008080; font-weight: bold\">377110</span>\n",
       "</pre>\n"
      ],
      "text/plain": [
       "\u001b[1;36m377110\u001b[0m\n"
      ]
     },
     "metadata": {},
     "output_type": "display_data"
    }
   ],
   "source": [
    "import pickle\n",
    "ckpt_dir = '/pd/maya/rx-multimodal/classifier/checkpoints/0919_clip_vit_findingsimpressions_full/'\n",
    "with open(os.path.join(ckpt_dir, 'all_img_vectors.pkl'), 'rb') as f:\n",
    "    keyToImgVector = pickle.load(f)\n",
    "print(len(keyToImgVector))\n"
   ]
  },
  {
   "cell_type": "code",
   "execution_count": 153,
   "id": "53e82e8a-21fc-414c-94df-27d530aec601",
   "metadata": {},
   "outputs": [
    {
     "data": {
      "text/html": [
       "<pre style=\"white-space:pre;overflow-x:auto;line-height:normal;font-family:Menlo,'DejaVu Sans Mono',consolas,'Courier New',monospace\"><span style=\"color: #008080; text-decoration-color: #008080; font-weight: bold\">89651</span>\n",
       "</pre>\n"
      ],
      "text/plain": [
       "\u001b[1;36m89651\u001b[0m\n"
      ]
     },
     "metadata": {},
     "output_type": "display_data"
    }
   ],
   "source": [
    "import pickle\n",
    "ckpt_dir = '/pd/maya/rx-multimodal/classifier/checkpoints/0919_clip_vit_findingsimpressions_full/'\n",
    "with open(os.path.join(ckpt_dir, 'all_rep_vectors.pkl'), 'rb') as f:\n",
    "    keyToRepVector = pickle.load(f)\n",
    "print(len(keyToRepVector))\n"
   ]
  },
  {
   "cell_type": "code",
   "execution_count": 154,
   "id": "bc6e85e3-5424-4f7c-a5c1-1fd0d0d29c22",
   "metadata": {},
   "outputs": [],
   "source": [
    "word_embs = []\n",
    "keys = []\n",
    "for k in keyToRepVector: \n",
    "    word_embs.append(keyToRepVector[k])\n",
    "    keys.append(k)\n",
    "\n",
    "words_dp=mk.DataPanel({'word_embs': word_embs, 'key': keys})"
   ]
  },
  {
   "cell_type": "code",
   "execution_count": 155,
   "id": "97764c38-6666-43cd-9e93-3eea35c7fa3f",
   "metadata": {},
   "outputs": [],
   "source": [
    "dicom_ids = list(score_dp['dicom_id'])\n",
    "img_vectors = []\n",
    "for d in dicom_ids:\n",
    "    img_vectors.append(keyToImgVector[d])\n",
    "score_dp['img_emb'] = img_vectors"
   ]
  },
  {
   "cell_type": "code",
   "execution_count": 156,
   "id": "92305ee5-7063-47c0-9dbf-dba1f5619d5c",
   "metadata": {},
   "outputs": [],
   "source": [
    "dp = score_dp\n",
    "prob_indices = (dp[\"prob\"] > 0.5).data.numpy().astype(bool)\n",
    "attr_emb = dp.lz[prob_indices][\"img_emb\"].data.mean(axis=0) #average embedding of predicted lung images\n",
    "ref_emb = dp.lz[dp[target] == 1][\"img_emb\"].data.mean(axis=0) #average embedding of true lung images\n",
    "\n",
    "\n",
    "#error_1_indices = ((dp[\"prob\"] > 0.5).data.numpy().astype(bool)) & ((dp[target] == 0).data.astype(bool))\n",
    "#error_1_emb =  dp.lz[list(error_1_indices)][\"img_emb\"].data.mean(axis=0)\n",
    "\n",
    "#error_2_indices = ((dp[\"prob\"] < 0.5).data.numpy().astype(bool)) & ((dp[target] == 1).data.astype(bool))\n",
    "#error_2_emb =  dp.lz[list(error_2_indices)][\"img_emb\"].data.mean(axis=0)"
   ]
  },
  {
   "cell_type": "code",
   "execution_count": 157,
   "id": "b0764373-55ca-4687-99b5-bc05f3427898",
   "metadata": {},
   "outputs": [
    {
     "data": {
      "text/html": [
       "<table border=\"1\" class=\"dataframe\">\n",
       "  <thead>\n",
       "    <tr style=\"text-align: right;\">\n",
       "      <th></th>\n",
       "      <th>word_embs (NumpyArrayColumn)</th>\n",
       "      <th>key (ListColumn)</th>\n",
       "      <th>index (PandasSeriesColumn)</th>\n",
       "      <th>score (NumpyArrayColumn)</th>\n",
       "    </tr>\n",
       "  </thead>\n",
       "  <tbody>\n",
       "    <tr>\n",
       "      <th>0</th>\n",
       "      <td>np.ndarray(shape=(256,))</td>\n",
       "      <td>('14829515', '52483463')</td>\n",
       "      <td>55376</td>\n",
       "      <td>0.261173</td>\n",
       "    </tr>\n",
       "    <tr>\n",
       "      <th>1</th>\n",
       "      <td>np.ndarray(shape=(256,))</td>\n",
       "      <td>('16335622', '55600761')</td>\n",
       "      <td>61020</td>\n",
       "      <td>0.260865</td>\n",
       "    </tr>\n",
       "    <tr>\n",
       "      <th>2</th>\n",
       "      <td>np.ndarray(shape=(256,))</td>\n",
       "      <td>('10160202', '58949523')</td>\n",
       "      <td>83980</td>\n",
       "      <td>0.260726</td>\n",
       "    </tr>\n",
       "    <tr>\n",
       "      <th>3</th>\n",
       "      <td>np.ndarray(shape=(256,))</td>\n",
       "      <td>('11532890', '52762182')</td>\n",
       "      <td>65862</td>\n",
       "      <td>0.260717</td>\n",
       "    </tr>\n",
       "    <tr>\n",
       "      <th>4</th>\n",
       "      <td>np.ndarray(shape=(256,))</td>\n",
       "      <td>('18732946', '52017313')</td>\n",
       "      <td>26827</td>\n",
       "      <td>0.260662</td>\n",
       "    </tr>\n",
       "    <tr>\n",
       "      <th>5</th>\n",
       "      <td>np.ndarray(shape=(256,))</td>\n",
       "      <td>('16522734', '54472900')</td>\n",
       "      <td>8312</td>\n",
       "      <td>0.260600</td>\n",
       "    </tr>\n",
       "    <tr>\n",
       "      <th>6</th>\n",
       "      <td>np.ndarray(shape=(256,))</td>\n",
       "      <td>('17172316', '56346768')</td>\n",
       "      <td>33246</td>\n",
       "      <td>0.260531</td>\n",
       "    </tr>\n",
       "    <tr>\n",
       "      <th>7</th>\n",
       "      <td>np.ndarray(shape=(256,))</td>\n",
       "      <td>('19538400', '59409378')</td>\n",
       "      <td>35288</td>\n",
       "      <td>0.260465</td>\n",
       "    </tr>\n",
       "    <tr>\n",
       "      <th>8</th>\n",
       "      <td>np.ndarray(shape=(256,))</td>\n",
       "      <td>('11388341', '59174844')</td>\n",
       "      <td>8461</td>\n",
       "      <td>0.260461</td>\n",
       "    </tr>\n",
       "    <tr>\n",
       "      <th>9</th>\n",
       "      <td>np.ndarray(shape=(256,))</td>\n",
       "      <td>('19538400', '59410325')</td>\n",
       "      <td>35593</td>\n",
       "      <td>0.260427</td>\n",
       "    </tr>\n",
       "    <tr>\n",
       "      <th>10</th>\n",
       "      <td>np.ndarray(shape=(256,))</td>\n",
       "      <td>('12460718', '51975419')</td>\n",
       "      <td>60356</td>\n",
       "      <td>0.260380</td>\n",
       "    </tr>\n",
       "    <tr>\n",
       "      <th>11</th>\n",
       "      <td>np.ndarray(shape=(256,))</td>\n",
       "      <td>('13528306', '52774238')</td>\n",
       "      <td>30620</td>\n",
       "      <td>0.260350</td>\n",
       "    </tr>\n",
       "    <tr>\n",
       "      <th>12</th>\n",
       "      <td>np.ndarray(shape=(256,))</td>\n",
       "      <td>('15690303', '59926449')</td>\n",
       "      <td>64979</td>\n",
       "      <td>0.260323</td>\n",
       "    </tr>\n",
       "    <tr>\n",
       "      <th>13</th>\n",
       "      <td>np.ndarray(shape=(256,))</td>\n",
       "      <td>('18426683', '57871877')</td>\n",
       "      <td>4831</td>\n",
       "      <td>0.260322</td>\n",
       "    </tr>\n",
       "    <tr>\n",
       "      <th>14</th>\n",
       "      <td>np.ndarray(shape=(256,))</td>\n",
       "      <td>('14189828', '51869794')</td>\n",
       "      <td>43759</td>\n",
       "      <td>0.260257</td>\n",
       "    </tr>\n",
       "    <tr>\n",
       "      <th>15</th>\n",
       "      <td>np.ndarray(shape=(256,))</td>\n",
       "      <td>('17172316', '56677881')</td>\n",
       "      <td>44611</td>\n",
       "      <td>0.260252</td>\n",
       "    </tr>\n",
       "    <tr>\n",
       "      <th>16</th>\n",
       "      <td>np.ndarray(shape=(256,))</td>\n",
       "      <td>('11697323', '57604575')</td>\n",
       "      <td>76647</td>\n",
       "      <td>0.260225</td>\n",
       "    </tr>\n",
       "    <tr>\n",
       "      <th>17</th>\n",
       "      <td>np.ndarray(shape=(256,))</td>\n",
       "      <td>('17165725', '50312727')</td>\n",
       "      <td>17054</td>\n",
       "      <td>0.260197</td>\n",
       "    </tr>\n",
       "    <tr>\n",
       "      <th>18</th>\n",
       "      <td>np.ndarray(shape=(256,))</td>\n",
       "      <td>('11119242', '53454319')</td>\n",
       "      <td>82840</td>\n",
       "      <td>0.260093</td>\n",
       "    </tr>\n",
       "    <tr>\n",
       "      <th>19</th>\n",
       "      <td>np.ndarray(shape=(256,))</td>\n",
       "      <td>('19381140', '58942026')</td>\n",
       "      <td>30975</td>\n",
       "      <td>0.260086</td>\n",
       "    </tr>\n",
       "  </tbody>\n",
       "</table>"
      ],
      "text/plain": [
       "DataPanel(nrows: 20, ncols: 4)"
      ]
     },
     "execution_count": 157,
     "metadata": {},
     "output_type": "execute_result"
    }
   ],
   "source": [
    "scores = np.dot(words_dp['word_embs'].data, attr_emb - ref_emb)\n",
    "words_dp[\"score\"] = scores\n",
    "words_dp.lz[(-scores).argsort()[:20]]"
   ]
  },
  {
   "cell_type": "code",
   "execution_count": 158,
   "id": "1e96eeab-9554-4da4-81d0-0179d92b6b95",
   "metadata": {},
   "outputs": [
    {
     "data": {
      "text/plain": [
       "[('14829515', '52483463'),\n",
       " ('16335622', '55600761'),\n",
       " ('10160202', '58949523'),\n",
       " ('11532890', '52762182'),\n",
       " ('18732946', '52017313'),\n",
       " ('16522734', '54472900'),\n",
       " ('17172316', '56346768'),\n",
       " ('19538400', '59409378'),\n",
       " ('11388341', '59174844'),\n",
       " ('19538400', '59410325'),\n",
       " ('12460718', '51975419'),\n",
       " ('13528306', '52774238'),\n",
       " ('15690303', '59926449'),\n",
       " ('18426683', '57871877'),\n",
       " ('14189828', '51869794'),\n",
       " ('17172316', '56677881'),\n",
       " ('11697323', '57604575'),\n",
       " ('17165725', '50312727'),\n",
       " ('11119242', '53454319'),\n",
       " ('19381140', '58942026')]"
      ]
     },
     "execution_count": 158,
     "metadata": {},
     "output_type": "execute_result"
    }
   ],
   "source": [
    "list(words_dp.lz[(-scores).argsort()[:20]]['key'])"
   ]
  },
  {
   "cell_type": "code",
   "execution_count": 159,
   "id": "5590c894-902b-4ba0-ade6-829c1bd3e6a6",
   "metadata": {},
   "outputs": [],
   "source": [
    "STOP_WORDS = set(\n",
    "    \"\"\"\n",
    "a about above across after afterwards again against all almost alone along\n",
    "already also although always am among amongst amount an and another any anyhow\n",
    "anyone anything anyway anywhere are around as at\n",
    "back be became because become becomes becoming been before beforehand behind\n",
    "being below beside besides between beyond both bottom but by\n",
    "call can cannot ca could\n",
    "did do does doing done down due during\n",
    "each eight either eleven else elsewhere empty enough even ever every\n",
    "everyone everything everywhere except\n",
    "few fifteen fifty first five for former formerly forty four from front full\n",
    "further\n",
    "get give go\n",
    "had has have he hence her here hereafter hereby herein hereupon hers herself\n",
    "him himself his how however hundred\n",
    "i if in indeed into is it its itself\n",
    "keep\n",
    "last latter latterly least less\n",
    "just\n",
    "made make many may me meanwhile might mine more moreover most mostly move much\n",
    "must my myself\n",
    "name namely neither never nevertheless next nine no nobody none noone nor not\n",
    "nothing now nowhere\n",
    "of off often on once one only onto or other others otherwise our ours ourselves\n",
    "out over own\n",
    "part per perhaps please put\n",
    "quite\n",
    "rather re really regarding\n",
    "same say see seem seemed seeming seems serious several she should show side\n",
    "since six sixty so some somehow someone something sometime sometimes somewhere\n",
    "still such\n",
    "take ten than that the their them themselves then thence there thereafter\n",
    "thereby therefore therein thereupon these they third this those though three\n",
    "through throughout thru thus to together too top toward towards twelve twenty\n",
    "two\n",
    "under until up unless upon us used using\n",
    "various very very via was we well were what whatever when whence whenever where\n",
    "whereafter whereas whereby wherein whereupon wherever whether which while\n",
    "whither who whoever whole whom whose why will with within without would\n",
    "yet you your yours yourself yourselves\n",
    "\"\"\".split()\n",
    ")\n",
    "\n",
    "MED_STOP_WORDS = ['chest', 'final', 'report', 'examination', 'examination:', 'indication', 'indication:', \\\n",
    "                  'technique', 'technique:', 'comparison', 'comparison:', 'findings', 'findings:', 'impression:', '___', '___.', '//']"
   ]
  },
  {
   "cell_type": "code",
   "execution_count": 26,
   "id": "9f8c93a2-5ec5-4b98-b556-7616773cfb22",
   "metadata": {},
   "outputs": [
    {
     "name": "stderr",
     "output_type": "stream",
     "text": [
      "Your CPU supports instructions that this binary was not compiled to use: SSE3 SSE4.1 SSE4.2 AVX AVX2\n",
      "For maximum performance, you can install NMSLIB from sources \n",
      "pip install --no-binary :all: nmslib\n"
     ]
    },
    {
     "name": "stdout",
     "output_type": "stream",
     "text": [
      "https://s3-us-west-2.amazonaws.com/ai2-s2-scispacy/data/linkers/2020-10-09/umls/tfidf_vectors_sparse.npz not found in cache, downloading to /tmp/tmpweqn5c9y\n",
      "Finished download, copying /tmp/tmpweqn5c9y to cache at /root/.scispacy/datasets/e9f7327283e43f0482f7c0c71b71dec278a58ccb3ffdd03c2c2350159e7ef146.f2a350ad19015b2591545f7feeed6a6d6d2fffcd635d868a5d7fc0dfc3cadfd8.tfidf_vectors_sparse.npz\n",
      "https://s3-us-west-2.amazonaws.com/ai2-s2-scispacy/data/linkers/2020-10-09/umls/nmslib_index.bin not found in cache, downloading to /tmp/tmp1fh843ys\n",
      "Finished download, copying /tmp/tmp1fh843ys to cache at /root/.scispacy/datasets/f48455d6c79262057cce66b4619123c2b558b21092d42fac97f47bb99a5b8f9f.dd70d3dffe7d90d7ac8914460e16a48375dab32485fb6313a34e6fbcaf53218b.nmslib_index.bin\n",
      "https://s3-us-west-2.amazonaws.com/ai2-s2-scispacy/data/linkers/2020-10-09/umls/tfidf_vectorizer.joblib not found in cache, downloading to /tmp/tmpet3pw1c2\n",
      "Finished download, copying /tmp/tmpet3pw1c2 to cache at /root/.scispacy/datasets/8c32f1e7ddf19ec695c321f68a71f06a191aec8efcf6b645b78fa6250d8d81d3.89019b4a62a096f33ea23677557a4cde66ebc8228f30afabac38e32f834020dc.tfidf_vectorizer.joblib\n"
     ]
    },
    {
     "name": "stderr",
     "output_type": "stream",
     "text": [
      "/home/common/envs/conda/envs/domino/lib/python3.8/site-packages/sklearn/base.py:310: UserWarning: Trying to unpickle estimator TfidfTransformer from version 0.20.3 when using version 0.24.2. This might lead to breaking code or invalid results. Use at your own risk.\n",
      "  warnings.warn(\n",
      "/home/common/envs/conda/envs/domino/lib/python3.8/site-packages/sklearn/base.py:310: UserWarning: Trying to unpickle estimator TfidfVectorizer from version 0.20.3 when using version 0.24.2. This might lead to breaking code or invalid results. Use at your own risk.\n",
      "  warnings.warn(\n"
     ]
    },
    {
     "name": "stdout",
     "output_type": "stream",
     "text": [
      "https://s3-us-west-2.amazonaws.com/ai2-s2-scispacy/data/linkers/2020-10-09/umls/concept_aliases.json not found in cache, downloading to /tmp/tmpd3nu06rj\n",
      "Finished download, copying /tmp/tmpd3nu06rj to cache at /root/.scispacy/datasets/1428ec15d3b1061731ea273c03699130b3d6b90948993e74bda66af605ff8e2a.aeb7a686c654df6bccb6c2c23d3eda3eb381daaefda4592b58158d0bee53b352.concept_aliases.json\n",
      "https://s3-us-west-2.amazonaws.com/ai2-s2-scispacy/data/kbs/2020-10-09/umls_2020_aa_cat0129.jsonl not found in cache, downloading to /tmp/tmphzus5ck5\n",
      "Finished download, copying /tmp/tmphzus5ck5 to cache at /root/.scispacy/datasets/4d7fb8fcae1035d1e0a47d9072b43d5a628057d35497fbfb2499b4b7b2dd4dd7.05ec7eef12f336d4666da85b7fa69b9401883a7dd4244473f7b88b413ccbba03.umls_2020_aa_cat0129.jsonl\n",
      "https://s3-us-west-2.amazonaws.com/ai2-s2-scispacy/data/umls_semantic_type_tree.tsv not found in cache, downloading to /tmp/tmp5c9oc1kd\n",
      "Finished download, copying /tmp/tmp5c9oc1kd to cache at /root/.scispacy/datasets/21a1012c532c3a431d60895c509f5b4d45b0f8966c4178b892190a302b21836f.330707f4efe774134872b9f77f0e3208c1d30f50800b3b39a6b8ec21d9adf1b7.umls_semantic_type_tree.tsv\n"
     ]
    },
    {
     "data": {
      "text/plain": [
       "<scispacy.linking.EntityLinker at 0x7f4174192100>"
      ]
     },
     "execution_count": 26,
     "metadata": {},
     "output_type": "execute_result"
    }
   ],
   "source": [
    "from collections import Counter\n",
    "import scispacy\n",
    "import spacy\n",
    "from scispacy.linking import EntityLinker\n",
    "\n",
    "nlp = spacy.load(\"en_core_sci_sm\")\n",
    "nlp.add_pipe(\"scispacy_linker\", config={\"resolve_abbreviations\": True, \"linker_name\": \"umls\"})"
   ]
  },
  {
   "cell_type": "code",
   "execution_count": 160,
   "id": "b372c0fc-b6af-496e-8b7b-b30c15c53bda",
   "metadata": {},
   "outputs": [
    {
     "ename": "IndexError",
     "evalue": "tuple index out of range",
     "output_type": "error",
     "traceback": [
      "\u001b[0;31m---------------------------------------------------------------------------\u001b[0m",
      "\u001b[0;31mIndexError\u001b[0m                                Traceback (most recent call last)",
      "\u001b[0;32m/tmp/ipykernel_504/453579221.py\u001b[0m in \u001b[0;36m<module>\u001b[0;34m\u001b[0m\n\u001b[1;32m     11\u001b[0m     \u001b[0;31m#print(doc)\u001b[0m\u001b[0;34m\u001b[0m\u001b[0;34m\u001b[0m\u001b[0;34m\u001b[0m\u001b[0m\n\u001b[1;32m     12\u001b[0m     \u001b[0;31m#print('---')\u001b[0m\u001b[0;34m\u001b[0m\u001b[0;34m\u001b[0m\u001b[0;34m\u001b[0m\u001b[0m\n\u001b[0;32m---> 13\u001b[0;31m     \u001b[0mprint\u001b[0m\u001b[0;34m(\u001b[0m\u001b[0mlist\u001b[0m\u001b[0;34m(\u001b[0m\u001b[0mdoc\u001b[0m\u001b[0;34m.\u001b[0m\u001b[0msents\u001b[0m\u001b[0;34m)\u001b[0m\u001b[0;34m[\u001b[0m\u001b[0mint\u001b[0m\u001b[0;34m(\u001b[0m\u001b[0mkey\u001b[0m\u001b[0;34m[\u001b[0m\u001b[0;36m2\u001b[0m\u001b[0;34m]\u001b[0m\u001b[0;34m)\u001b[0m\u001b[0;34m]\u001b[0m\u001b[0;34m)\u001b[0m\u001b[0;34m\u001b[0m\u001b[0;34m\u001b[0m\u001b[0m\n\u001b[0m\u001b[1;32m     14\u001b[0m \u001b[0;34m\u001b[0m\u001b[0m\n\u001b[1;32m     15\u001b[0m     \u001b[0mwords\u001b[0m \u001b[0;34m=\u001b[0m \u001b[0;34m[\u001b[0m\u001b[0;34m]\u001b[0m\u001b[0;34m\u001b[0m\u001b[0;34m\u001b[0m\u001b[0m\n",
      "\u001b[0;31mIndexError\u001b[0m: tuple index out of range"
     ]
    }
   ],
   "source": [
    "keys = words_dp.lz[(-scores).argsort()[:10]]['key']\n",
    "all_re_words = []\n",
    "for key in keys:\n",
    "    path = f'p{key[0][:2]}/p{key[0]}/s{key[1]}.txt'\n",
    "    report_path = os.path.join('/home/common/datasets/mimic/mimic-cxr-reports/files/', path)\n",
    "    report = ''\n",
    "    with open(report_path) as f:\n",
    "        for line in f.readlines():\n",
    "            report+=line.strip().lower()+' '\n",
    "    doc = nlp(report)\n",
    "    #print(doc)\n",
    "    #print('---')\n",
    "    print(list(doc.sents)[int(key[2])])\n",
    "\n",
    "    words = []\n",
    "    for word in report.split():\n",
    "        if(word not in STOP_WORDS and word not in MED_STOP_WORDS): words.append(word)\n",
    "    words = set(words)\n",
    "    all_re_words.extend(list(words))"
   ]
  },
  {
   "cell_type": "code",
   "execution_count": 161,
   "id": "0905ad2f-c839-4ea9-80fb-642a0e0e41ff",
   "metadata": {},
   "outputs": [
    {
     "data": {
      "text/html": [
       "<pre style=\"white-space:pre;overflow-x:auto;line-height:normal;font-family:Menlo,'DejaVu Sans Mono',consolas,'Courier New',monospace\"><span style=\"color: #008080; text-decoration-color: #008080; font-weight: bold\">227781</span>\n",
       "</pre>\n"
      ],
      "text/plain": [
       "\u001b[1;36m227781\u001b[0m\n"
      ]
     },
     "metadata": {},
     "output_type": "display_data"
    }
   ],
   "source": [
    "report_path = '/pd/maya/rx-multimodal/classifier/datasets/mimic_cxr_sectioned.csv'\n",
    "import csv\n",
    "all_reports = {}\n",
    "with open(report_path, newline='') as csvfile:\n",
    "    reader = csv.DictReader(csvfile)\n",
    "    for row in reader:\n",
    "        all_reports[row['study']] = {}\n",
    "        all_reports[row['study']]['findings'] = row['findings']\n",
    "        all_reports[row['study']]['impression'] = row['impression']\n",
    "print(len(all_reports))"
   ]
  },
  {
   "cell_type": "code",
   "execution_count": 162,
   "id": "76a64140-0f41-4a82-8a6f-019f5a5cedde",
   "metadata": {},
   "outputs": [
    {
     "data": {
      "text/html": [
       "<pre style=\"white-space:pre;overflow-x:auto;line-height:normal;font-family:Menlo,'DejaVu Sans Mono',consolas,'Courier New',monospace\">There are <span style=\"color: #008080; text-decoration-color: #008080; font-weight: bold\">2</span> left chest tubes.  Right PICC line tip is near cavoatrial\n",
       " junction.  Heart is enlarged.  Pulmonary edema has improved.  Stable left\n",
       " basilar consolidation.  Small left pleural effusion, stable.  No pneumothorax.\n",
       " Stable postoperative changes.\n",
       "</pre>\n"
      ],
      "text/plain": [
       "There are \u001b[1;36m2\u001b[0m left chest tubes.  Right PICC line tip is near cavoatrial\n",
       " junction.  Heart is enlarged.  Pulmonary edema has improved.  Stable left\n",
       " basilar consolidation.  Small left pleural effusion, stable.  No pneumothorax.\n",
       " Stable postoperative changes.\n"
      ]
     },
     "metadata": {},
     "output_type": "display_data"
    },
    {
     "data": {
      "text/html": [
       "<pre style=\"white-space:pre;overflow-x:auto;line-height:normal;font-family:Menlo,'DejaVu Sans Mono',consolas,'Courier New',monospace\">---\n",
       "</pre>\n"
      ],
      "text/plain": [
       "---\n"
      ]
     },
     "metadata": {},
     "output_type": "display_data"
    },
    {
     "data": {
      "text/html": [
       "<pre style=\"white-space:pre;overflow-x:auto;line-height:normal;font-family:Menlo,'DejaVu Sans Mono',consolas,'Courier New',monospace\">Compared with ___ just after midnight, the right IJ catheter has been\n",
       " removed. No pneumothorax is detected. Again seen is a left IJ catheter with\n",
       " tip at the expected confluence of the brachiocephalic vein and SVC.\n",
       " \n",
       " Otherwise, I doubt significant interval change. Again seen is cardiomegaly,\n",
       " pulmonary edema, bilateral effusions, and underlying collapse and/or\n",
       " consolidation. Right midzone lateral calcified granuloma again noted.\n",
       "</pre>\n"
      ],
      "text/plain": [
       "Compared with ___ just after midnight, the right IJ catheter has been\n",
       " removed. No pneumothorax is detected. Again seen is a left IJ catheter with\n",
       " tip at the expected confluence of the brachiocephalic vein and SVC.\n",
       " \n",
       " Otherwise, I doubt significant interval change. Again seen is cardiomegaly,\n",
       " pulmonary edema, bilateral effusions, and underlying collapse and/or\n",
       " consolidation. Right midzone lateral calcified granuloma again noted.\n"
      ]
     },
     "metadata": {},
     "output_type": "display_data"
    },
    {
     "data": {
      "text/html": [
       "<pre style=\"white-space:pre;overflow-x:auto;line-height:normal;font-family:Menlo,'DejaVu Sans Mono',consolas,'Courier New',monospace\">---\n",
       "</pre>\n"
      ],
      "text/plain": [
       "---\n"
      ]
     },
     "metadata": {},
     "output_type": "display_data"
    },
    {
     "data": {
      "text/html": [
       "<pre style=\"white-space:pre;overflow-x:auto;line-height:normal;font-family:Menlo,'DejaVu Sans Mono',consolas,'Courier New',monospace\">As compared to prior chest radiograph from ___, there has\n",
       " been interval placement of an ET and OG tube.  Endotracheal tube terminates\n",
       " <span style=\"color: #008080; text-decoration-color: #008080; font-weight: bold\">5.9</span> cm above the carina.  The orogastric tube is difficult to visualize,\n",
       " however the tip is likely in the proximal stomach.  There has been interval\n",
       " improvement of bilateral consolidations, likely related to resolving pulmonary\n",
       " edema.  There are small bilateral pleural effusions.  There is atelectasis at\n",
       " the left lung base. There is redemonstration of elevation of the left\n",
       " hemidiaphragm, which appears chronic in nature. Cardiomegaly is unchanged.\n",
       "</pre>\n"
      ],
      "text/plain": [
       "As compared to prior chest radiograph from ___, there has\n",
       " been interval placement of an ET and OG tube.  Endotracheal tube terminates\n",
       " \u001b[1;36m5.9\u001b[0m cm above the carina.  The orogastric tube is difficult to visualize,\n",
       " however the tip is likely in the proximal stomach.  There has been interval\n",
       " improvement of bilateral consolidations, likely related to resolving pulmonary\n",
       " edema.  There are small bilateral pleural effusions.  There is atelectasis at\n",
       " the left lung base. There is redemonstration of elevation of the left\n",
       " hemidiaphragm, which appears chronic in nature. Cardiomegaly is unchanged.\n"
      ]
     },
     "metadata": {},
     "output_type": "display_data"
    },
    {
     "data": {
      "text/html": [
       "<pre style=\"white-space:pre;overflow-x:auto;line-height:normal;font-family:Menlo,'DejaVu Sans Mono',consolas,'Courier New',monospace\">---\n",
       "</pre>\n"
      ],
      "text/plain": [
       "---\n"
      ]
     },
     "metadata": {},
     "output_type": "display_data"
    },
    {
     "data": {
      "text/html": [
       "<pre style=\"white-space:pre;overflow-x:auto;line-height:normal;font-family:Menlo,'DejaVu Sans Mono',consolas,'Courier New',monospace\">The endotracheal tube terminates <span style=\"color: #008080; text-decoration-color: #008080; font-weight: bold\">5.3</span> cm above the carinal. Two transesophageal\n",
       " catheters are present.  A right IJ catheter terminates at the mid to upper\n",
       " SVC. There has been interval removal of a left central venous catheter.\n",
       " Central pulmonary vascular congestion and mild pulmonary edema are unchanged\n",
       " since ___. Moderate right and small left pleural effusions have\n",
       " slightly enlarged.\n",
       "</pre>\n"
      ],
      "text/plain": [
       "The endotracheal tube terminates \u001b[1;36m5.3\u001b[0m cm above the carinal. Two transesophageal\n",
       " catheters are present.  A right IJ catheter terminates at the mid to upper\n",
       " SVC. There has been interval removal of a left central venous catheter.\n",
       " Central pulmonary vascular congestion and mild pulmonary edema are unchanged\n",
       " since ___. Moderate right and small left pleural effusions have\n",
       " slightly enlarged.\n"
      ]
     },
     "metadata": {},
     "output_type": "display_data"
    },
    {
     "data": {
      "text/html": [
       "<pre style=\"white-space:pre;overflow-x:auto;line-height:normal;font-family:Menlo,'DejaVu Sans Mono',consolas,'Courier New',monospace\">---\n",
       "</pre>\n"
      ],
      "text/plain": [
       "---\n"
      ]
     },
     "metadata": {},
     "output_type": "display_data"
    },
    {
     "data": {
      "text/html": [
       "<pre style=\"white-space:pre;overflow-x:auto;line-height:normal;font-family:Menlo,'DejaVu Sans Mono',consolas,'Courier New',monospace\">The tip of the endotracheal tube projects at the level of the clavicular\n",
       " heads, <span style=\"color: #008080; text-decoration-color: #008080; font-weight: bold\">6.7</span> cm from the carina and could be advanced.  The feeding tube extends\n",
       " into the stomach.  The tip of the right PICC line projects over the cavoatrial\n",
       " junction.\n",
       " \n",
       " Low bilateral lung volumes with unchanged pulmonary edema, and bilateral\n",
       " layering pleural effusions with subjacent atelectasis.  No pneumothorax\n",
       " identified.\n",
       " \n",
       " The size the cardiac silhouette is enlarged but unchanged.\n",
       "</pre>\n"
      ],
      "text/plain": [
       "The tip of the endotracheal tube projects at the level of the clavicular\n",
       " heads, \u001b[1;36m6.7\u001b[0m cm from the carina and could be advanced.  The feeding tube extends\n",
       " into the stomach.  The tip of the right PICC line projects over the cavoatrial\n",
       " junction.\n",
       " \n",
       " Low bilateral lung volumes with unchanged pulmonary edema, and bilateral\n",
       " layering pleural effusions with subjacent atelectasis.  No pneumothorax\n",
       " identified.\n",
       " \n",
       " The size the cardiac silhouette is enlarged but unchanged.\n"
      ]
     },
     "metadata": {},
     "output_type": "display_data"
    },
    {
     "data": {
      "text/html": [
       "<pre style=\"white-space:pre;overflow-x:auto;line-height:normal;font-family:Menlo,'DejaVu Sans Mono',consolas,'Courier New',monospace\">---\n",
       "</pre>\n"
      ],
      "text/plain": [
       "---\n"
      ]
     },
     "metadata": {},
     "output_type": "display_data"
    },
    {
     "data": {
      "text/html": [
       "<pre style=\"white-space:pre;overflow-x:auto;line-height:normal;font-family:Menlo,'DejaVu Sans Mono',consolas,'Courier New',monospace\">Rotated positioning.  Right-sided Port-A-Cath tip lies near the cavoatrial\n",
       " junction.  <span style=\"color: #008080; text-decoration-color: #008080; font-weight: bold\">2</span> separate tubes overlie the right lung base, similar to prior.\n",
       " \n",
       " The possibility of a small residual right apical pneumothorax cannot be\n",
       " excluded.  The prior study raise the possibility that there was fluid\n",
       " associated with the pleural space in this area.  Subcutaneous emphysema in the\n",
       " right supraclavicular fossae, extending into the right lower neck, is similar\n",
       " to the prior film.\n",
       " \n",
       " There is cardiomegaly, similar to prior.  The previous right cardiophrenic\n",
       " opacity has improved.  A small right pleural effusion  is now visible. \n",
       " Ppacity Retrocardiac opacity is again seen, slightly more pronounced.  Doubt\n",
       " CHF.\n",
       "</pre>\n"
      ],
      "text/plain": [
       "Rotated positioning.  Right-sided Port-A-Cath tip lies near the cavoatrial\n",
       " junction.  \u001b[1;36m2\u001b[0m separate tubes overlie the right lung base, similar to prior.\n",
       " \n",
       " The possibility of a small residual right apical pneumothorax cannot be\n",
       " excluded.  The prior study raise the possibility that there was fluid\n",
       " associated with the pleural space in this area.  Subcutaneous emphysema in the\n",
       " right supraclavicular fossae, extending into the right lower neck, is similar\n",
       " to the prior film.\n",
       " \n",
       " There is cardiomegaly, similar to prior.  The previous right cardiophrenic\n",
       " opacity has improved.  A small right pleural effusion  is now visible. \n",
       " Ppacity Retrocardiac opacity is again seen, slightly more pronounced.  Doubt\n",
       " CHF.\n"
      ]
     },
     "metadata": {},
     "output_type": "display_data"
    },
    {
     "data": {
      "text/html": [
       "<pre style=\"white-space:pre;overflow-x:auto;line-height:normal;font-family:Menlo,'DejaVu Sans Mono',consolas,'Courier New',monospace\">---\n",
       "</pre>\n"
      ],
      "text/plain": [
       "---\n"
      ]
     },
     "metadata": {},
     "output_type": "display_data"
    },
    {
     "data": {
      "text/html": [
       "<pre style=\"white-space:pre;overflow-x:auto;line-height:normal;font-family:Menlo,'DejaVu Sans Mono',consolas,'Courier New',monospace\">The support apparatus are unchanged and in standard position.  Bilateral\n",
       " pigtail catheters are again seen.\n",
       " There has been interval worsening of the interstitial pulmonary edema and\n",
       " layering pleural effusions.  The cardiomediastinal silhouette these compare\n",
       " above.  No pneumothorax.\n",
       "</pre>\n"
      ],
      "text/plain": [
       "The support apparatus are unchanged and in standard position.  Bilateral\n",
       " pigtail catheters are again seen.\n",
       " There has been interval worsening of the interstitial pulmonary edema and\n",
       " layering pleural effusions.  The cardiomediastinal silhouette these compare\n",
       " above.  No pneumothorax.\n"
      ]
     },
     "metadata": {},
     "output_type": "display_data"
    },
    {
     "data": {
      "text/html": [
       "<pre style=\"white-space:pre;overflow-x:auto;line-height:normal;font-family:Menlo,'DejaVu Sans Mono',consolas,'Courier New',monospace\">---\n",
       "</pre>\n"
      ],
      "text/plain": [
       "---\n"
      ]
     },
     "metadata": {},
     "output_type": "display_data"
    },
    {
     "data": {
      "text/html": [
       "<pre style=\"white-space:pre;overflow-x:auto;line-height:normal;font-family:Menlo,'DejaVu Sans Mono',consolas,'Courier New',monospace\">Right PICC line tip in the low SVC.  Enteric tube tip is in the mid stomach. \n",
       " There are bilateral pleural effusions, which have mildly increased since prior\n",
       " exam.  There is left lower lobe consolidation, which is stable.  Increased\n",
       " heart size, pulmonary vascularity.  There are bilateral central, basilar\n",
       " pulmonary opacities, favor edema, consider pneumonitis, less likely ARDS. \n",
       " Surgical clips in the upper abdomen.\n",
       "</pre>\n"
      ],
      "text/plain": [
       "Right PICC line tip in the low SVC.  Enteric tube tip is in the mid stomach. \n",
       " There are bilateral pleural effusions, which have mildly increased since prior\n",
       " exam.  There is left lower lobe consolidation, which is stable.  Increased\n",
       " heart size, pulmonary vascularity.  There are bilateral central, basilar\n",
       " pulmonary opacities, favor edema, consider pneumonitis, less likely ARDS. \n",
       " Surgical clips in the upper abdomen.\n"
      ]
     },
     "metadata": {},
     "output_type": "display_data"
    },
    {
     "data": {
      "text/html": [
       "<pre style=\"white-space:pre;overflow-x:auto;line-height:normal;font-family:Menlo,'DejaVu Sans Mono',consolas,'Courier New',monospace\">---\n",
       "</pre>\n"
      ],
      "text/plain": [
       "---\n"
      ]
     },
     "metadata": {},
     "output_type": "display_data"
    },
    {
     "data": {
      "text/html": [
       "<pre style=\"white-space:pre;overflow-x:auto;line-height:normal;font-family:Menlo,'DejaVu Sans Mono',consolas,'Courier New',monospace\">The tip of the endotracheal tube projects over the mid thoracic trachea.  A\n",
       " gastric tube extends below the level the diaphragms.  A left central venous\n",
       " catheter tip again projects over the lower right atrium.\n",
       " \n",
       " No significant interval change in the appearance of the lungs given\n",
       " differences in technique.  Persisting bilateral pleural effusions with\n",
       " overlying atelectasis and pulmonary edema.  The size of the cardiac silhouette\n",
       " is enlarged but unchanged.\n",
       "</pre>\n"
      ],
      "text/plain": [
       "The tip of the endotracheal tube projects over the mid thoracic trachea.  A\n",
       " gastric tube extends below the level the diaphragms.  A left central venous\n",
       " catheter tip again projects over the lower right atrium.\n",
       " \n",
       " No significant interval change in the appearance of the lungs given\n",
       " differences in technique.  Persisting bilateral pleural effusions with\n",
       " overlying atelectasis and pulmonary edema.  The size of the cardiac silhouette\n",
       " is enlarged but unchanged.\n"
      ]
     },
     "metadata": {},
     "output_type": "display_data"
    },
    {
     "data": {
      "text/html": [
       "<pre style=\"white-space:pre;overflow-x:auto;line-height:normal;font-family:Menlo,'DejaVu Sans Mono',consolas,'Courier New',monospace\">---\n",
       "</pre>\n"
      ],
      "text/plain": [
       "---\n"
      ]
     },
     "metadata": {},
     "output_type": "display_data"
    },
    {
     "data": {
      "text/html": [
       "<pre style=\"white-space:pre;overflow-x:auto;line-height:normal;font-family:Menlo,'DejaVu Sans Mono',consolas,'Courier New',monospace\">Feeding tube tip in the proximal stomach.  Right PICC line tip in the low SVC.\n",
       " Stable left lower lobe consolidation.  Increased heart size, pulmonary\n",
       " vascularity, similar.  Interstitial prominence, likely edema, improved.  Mild\n",
       " area of right midlung opacity has improved.  Decreased right basilar opacity. \n",
       " Decreased left and probably stable right pleural effusion.  Surgical clips\n",
       " upper abdomen.\n",
       "</pre>\n"
      ],
      "text/plain": [
       "Feeding tube tip in the proximal stomach.  Right PICC line tip in the low SVC.\n",
       " Stable left lower lobe consolidation.  Increased heart size, pulmonary\n",
       " vascularity, similar.  Interstitial prominence, likely edema, improved.  Mild\n",
       " area of right midlung opacity has improved.  Decreased right basilar opacity. \n",
       " Decreased left and probably stable right pleural effusion.  Surgical clips\n",
       " upper abdomen.\n"
      ]
     },
     "metadata": {},
     "output_type": "display_data"
    },
    {
     "data": {
      "text/html": [
       "<pre style=\"white-space:pre;overflow-x:auto;line-height:normal;font-family:Menlo,'DejaVu Sans Mono',consolas,'Courier New',monospace\">---\n",
       "</pre>\n"
      ],
      "text/plain": [
       "---\n"
      ]
     },
     "metadata": {},
     "output_type": "display_data"
    }
   ],
   "source": [
    "keys = words_dp.lz[(-scores).argsort()[:10]]['key']\n",
    "all_re_words = []\n",
    "for key in keys:\n",
    "    path = f's{key[1]}'\n",
    "    report = all_reports[path]['findings']\n",
    "    doc = nlp(report)\n",
    "    print(doc)\n",
    "    print('---')\n",
    "    #print(list(doc.sents)[int(key[2])])\n",
    "\n",
    "    words = []\n",
    "    for word in report.split():\n",
    "        if(word.lower() not in STOP_WORDS and word.lower() not in MED_STOP_WORDS): \n",
    "            if(word[-1]=='.'): word = word[:-1]\n",
    "            words.append(word.lower().strip())\n",
    "    #words = set(words)\n",
    "    all_re_words.extend(list(words))"
   ]
  },
  {
   "cell_type": "code",
   "execution_count": 124,
   "id": "b4e8e088-a1b2-464b-86bb-90e13501dc39",
   "metadata": {},
   "outputs": [
    {
     "data": {
      "text/plain": [
       "[('right', 18),\n",
       " ('left', 12),\n",
       " ('tip', 12),\n",
       " ('pulmonary', 11),\n",
       " ('pleural', 10),\n",
       " ('tube', 10),\n",
       " ('bilateral', 9),\n",
       " ('stable', 6),\n",
       " ('interval', 6),\n",
       " ('prior', 6),\n",
       " ('unchanged', 6),\n",
       " ('edema', 5),\n",
       " ('small', 5),\n",
       " ('pneumothorax', 5),\n",
       " ('catheter', 5),\n",
       " ('effusions', 5),\n",
       " ('picc', 4),\n",
       " ('line', 4),\n",
       " ('enlarged', 4),\n",
       " ('improved', 4),\n",
       " ('svc', 4),\n",
       " ('edema,', 4),\n",
       " ('endotracheal', 4),\n",
       " ('likely', 4),\n",
       " ('stomach', 4),\n",
       " ('projects', 4),\n",
       " ('similar', 4),\n",
       " ('lower', 4),\n",
       " ('opacity', 4),\n",
       " ('cavoatrial', 3),\n",
       " ('junction', 3),\n",
       " ('heart', 3),\n",
       " ('basilar', 3),\n",
       " ('consolidation', 3),\n",
       " ('ij', 3),\n",
       " ('seen', 3),\n",
       " ('terminates', 3),\n",
       " ('cm', 3),\n",
       " ('atelectasis', 3),\n",
       " ('lung', 3)]"
      ]
     },
     "execution_count": 124,
     "metadata": {},
     "output_type": "execute_result"
    }
   ],
   "source": [
    "Counter(all_re_words).most_common(40)"
   ]
  },
  {
   "cell_type": "markdown",
   "id": "540ce958-b326-4555-ae20-b5b8e23daf3d",
   "metadata": {},
   "source": [
    "### scratch (ignore following code)"
   ]
  },
  {
   "cell_type": "code",
   "execution_count": 104,
   "id": "93f4f9d5-1190-4f11-84e1-95b0fcdd997c",
   "metadata": {},
   "outputs": [],
   "source": [
    "attr_words = Counter(all_re_words)"
   ]
  },
  {
   "cell_type": "code",
   "execution_count": 109,
   "id": "0520c51e-bee5-46ca-a6fa-f1bc83192291",
   "metadata": {},
   "outputs": [],
   "source": [
    "ref_words = Counter(all_re_words)"
   ]
  },
  {
   "cell_type": "code",
   "execution_count": 119,
   "id": "95a45550-dea8-4457-b194-3a54669bdb78",
   "metadata": {},
   "outputs": [
    {
     "data": {
      "text/html": [
       "<pre style=\"white-space:pre;overflow-x:auto;line-height:normal;font-family:Menlo,'DejaVu Sans Mono',consolas,'Courier New',monospace\"><span style=\"font-weight: bold\">{</span>\n",
       "    <span style=\"color: #008000; text-decoration-color: #008000\">'left'</span>: <span style=\"color: #008080; text-decoration-color: #008080; font-weight: bold\">16</span>,\n",
       "    <span style=\"color: #008000; text-decoration-color: #008000\">'effusion.'</span>: <span style=\"color: #008080; text-decoration-color: #008080; font-weight: bold\">8</span>,\n",
       "    <span style=\"color: #008000; text-decoration-color: #008000\">'tube'</span>: <span style=\"color: #008080; text-decoration-color: #008080; font-weight: bold\">8</span>,\n",
       "    <span style=\"color: #008000; text-decoration-color: #008000\">'likely'</span>: <span style=\"color: #008080; text-decoration-color: #008080; font-weight: bold\">6</span>,\n",
       "    <span style=\"color: #008000; text-decoration-color: #008000\">'atelectasis'</span>: <span style=\"color: #008080; text-decoration-color: #008080; font-weight: bold\">5</span>,\n",
       "    <span style=\"color: #008000; text-decoration-color: #008000\">'1.'</span>: <span style=\"color: #008080; text-decoration-color: #008080; font-weight: bold\">5</span>,\n",
       "    <span style=\"color: #008000; text-decoration-color: #008000\">'2.'</span>: <span style=\"color: #008080; text-decoration-color: #008080; font-weight: bold\">5</span>,\n",
       "    <span style=\"color: #008000; text-decoration-color: #008000\">'tip'</span>: <span style=\"color: #008080; text-decoration-color: #008080; font-weight: bold\">5</span>,\n",
       "    <span style=\"color: #008000; text-decoration-color: #008000\">'chest.'</span>: <span style=\"color: #008080; text-decoration-color: #008080; font-weight: bold\">4</span>,\n",
       "    <span style=\"color: #008000; text-decoration-color: #008000\">'radiograph'</span>: <span style=\"color: #008080; text-decoration-color: #008080; font-weight: bold\">4</span>,\n",
       "    <span style=\"color: #008000; text-decoration-color: #008000\">'mild'</span>: <span style=\"color: #008080; text-decoration-color: #008080; font-weight: bold\">4</span>,\n",
       "    <span style=\"color: #008000; text-decoration-color: #008000\">'vascular'</span>: <span style=\"color: #008080; text-decoration-color: #008080; font-weight: bold\">4</span>,\n",
       "    <span style=\"color: #008000; text-decoration-color: #008000\">'new'</span>: <span style=\"color: #008080; text-decoration-color: #008080; font-weight: bold\">4</span>,\n",
       "    <span style=\"color: #008000; text-decoration-color: #008000\">'pneumonia'</span>: <span style=\"color: #008080; text-decoration-color: #008080; font-weight: bold\">4</span>,\n",
       "    <span style=\"color: #008000; text-decoration-color: #008000\">'position.'</span>: <span style=\"color: #008080; text-decoration-color: #008080; font-weight: bold\">4</span>,\n",
       "    <span style=\"color: #008000; text-decoration-color: #008000\">'elevation'</span>: <span style=\"color: #008080; text-decoration-color: #008080; font-weight: bold\">4</span>,\n",
       "    <span style=\"color: #008000; text-decoration-color: #008000\">'hemidiaphragm'</span>: <span style=\"color: #008080; text-decoration-color: #008080; font-weight: bold\">4</span>,\n",
       "    <span style=\"color: #008000; text-decoration-color: #008000\">'greater'</span>: <span style=\"color: #008080; text-decoration-color: #008080; font-weight: bold\">4</span>,\n",
       "    <span style=\"color: #008000; text-decoration-color: #008000\">'pleural'</span>: <span style=\"color: #008080; text-decoration-color: #008080; font-weight: bold\">3</span>,\n",
       "    <span style=\"color: #008000; text-decoration-color: #008000\">'post'</span>: <span style=\"color: #008080; text-decoration-color: #008080; font-weight: bold\">3</span>,\n",
       "    <span style=\"color: #008000; text-decoration-color: #008000\">'heart'</span>: <span style=\"color: #008080; text-decoration-color: #008080; font-weight: bold\">3</span>,\n",
       "    <span style=\"color: #008000; text-decoration-color: #008000\">'small'</span>: <span style=\"color: #008080; text-decoration-color: #008080; font-weight: bold\">3</span>,\n",
       "    <span style=\"color: #008000; text-decoration-color: #008000\">'basilar'</span>: <span style=\"color: #008080; text-decoration-color: #008080; font-weight: bold\">3</span>,\n",
       "    <span style=\"color: #008000; text-decoration-color: #008000\">'opacity,'</span>: <span style=\"color: #008080; text-decoration-color: #008080; font-weight: bold\">3</span>,\n",
       "    <span style=\"color: #008000; text-decoration-color: #008000\">'history:'</span>: <span style=\"color: #008080; text-decoration-color: #008080; font-weight: bold\">3</span>,\n",
       "    <span style=\"color: #008000; text-decoration-color: #008000\">'congestion'</span>: <span style=\"color: #008080; text-decoration-color: #008080; font-weight: bold\">3</span>,\n",
       "    <span style=\"color: #008000; text-decoration-color: #008000\">'hypoinflated'</span>: <span style=\"color: #008080; text-decoration-color: #008080; font-weight: bold\">3</span>,\n",
       "    <span style=\"color: #008000; text-decoration-color: #008000\">'lungs'</span>: <span style=\"color: #008080; text-decoration-color: #008080; font-weight: bold\">3</span>,\n",
       "    <span style=\"color: #008000; text-decoration-color: #008000\">'lines'</span>: <span style=\"color: #008080; text-decoration-color: #008080; font-weight: bold\">3</span>,\n",
       "    <span style=\"color: #008000; text-decoration-color: #008000\">'frontal'</span>: <span style=\"color: #008080; text-decoration-color: #008080; font-weight: bold\">3</span>,\n",
       "    <span style=\"color: #008000; text-decoration-color: #008000\">'enteric'</span>: <span style=\"color: #008080; text-decoration-color: #008080; font-weight: bold\">3</span>,\n",
       "    <span style=\"color: #008000; text-decoration-color: #008000\">'unremarkable.'</span>: <span style=\"color: #008080; text-decoration-color: #008080; font-weight: bold\">3</span>,\n",
       "    <span style=\"color: #008000; text-decoration-color: #008000\">'status'</span>: <span style=\"color: #008080; text-decoration-color: #008080; font-weight: bold\">3</span>,\n",
       "    <span style=\"color: #008000; text-decoration-color: #008000\">'picc'</span>: <span style=\"color: #008080; text-decoration-color: #008080; font-weight: bold\">3</span>,\n",
       "    <span style=\"color: #008000; text-decoration-color: #008000\">'focal'</span>: <span style=\"color: #008080; text-decoration-color: #008080; font-weight: bold\">3</span>,\n",
       "    <span style=\"color: #008000; text-decoration-color: #008000\">'hemidiaphragm.'</span>: <span style=\"color: #008080; text-decoration-color: #008080; font-weight: bold\">3</span>,\n",
       "    <span style=\"color: #008000; text-decoration-color: #008000\">'atrium.'</span>: <span style=\"color: #008080; text-decoration-color: #008080; font-weight: bold\">3</span>,\n",
       "    <span style=\"color: #008000; text-decoration-color: #008000\">'recent'</span>: <span style=\"color: #008080; text-decoration-color: #008080; font-weight: bold\">3</span>,\n",
       "    <span style=\"color: #008000; text-decoration-color: #008000\">'size,'</span>: <span style=\"color: #008080; text-decoration-color: #008080; font-weight: bold\">2</span>,\n",
       "    <span style=\"color: #008000; text-decoration-color: #008000\">'suggestion'</span>: <span style=\"color: #008080; text-decoration-color: #008080; font-weight: bold\">2</span>,\n",
       "    <span style=\"color: #008000; text-decoration-color: #008000\">'effusion,'</span>: <span style=\"color: #008080; text-decoration-color: #008080; font-weight: bold\">2</span>,\n",
       "    <span style=\"color: #008000; text-decoration-color: #008000\">'similar.'</span>: <span style=\"color: #008080; text-decoration-color: #008080; font-weight: bold\">2</span>,\n",
       "    <span style=\"color: #008000; text-decoration-color: #008000\">'mildly'</span>: <span style=\"color: #008080; text-decoration-color: #008080; font-weight: bold\">2</span>,\n",
       "    <span style=\"color: #008000; text-decoration-color: #008000\">'atelectasis,'</span>: <span style=\"color: #008080; text-decoration-color: #008080; font-weight: bold\">2</span>,\n",
       "    <span style=\"color: #008000; text-decoration-color: #008000\">'thoracic'</span>: <span style=\"color: #008080; text-decoration-color: #008080; font-weight: bold\">2</span>,\n",
       "    <span style=\"color: #008000; text-decoration-color: #008000\">'remains'</span>: <span style=\"color: #008080; text-decoration-color: #008080; font-weight: bold\">2</span>,\n",
       "    <span style=\"color: #008000; text-decoration-color: #008000\">'right,'</span>: <span style=\"color: #008080; text-decoration-color: #008080; font-weight: bold\">2</span>,\n",
       "    <span style=\"color: #008000; text-decoration-color: #008000\">'bibasilar'</span>: <span style=\"color: #008080; text-decoration-color: #008080; font-weight: bold\">2</span>,\n",
       "    <span style=\"color: #008000; text-decoration-color: #008000\">'lower'</span>: <span style=\"color: #008080; text-decoration-color: #008080; font-weight: bold\">2</span>,\n",
       "    <span style=\"color: #008000; text-decoration-color: #008000\">'lobe'</span>: <span style=\"color: #008080; text-decoration-color: #008080; font-weight: bold\">2</span>,\n",
       "    <span style=\"color: #008000; text-decoration-color: #008000\">'represents'</span>: <span style=\"color: #008080; text-decoration-color: #008080; font-weight: bold\">2</span>,\n",
       "    <span style=\"color: #008000; text-decoration-color: #008000\">'appropriate'</span>: <span style=\"color: #008080; text-decoration-color: #008080; font-weight: bold\">2</span>,\n",
       "    <span style=\"color: #008000; text-decoration-color: #008000\">'3.'</span>: <span style=\"color: #008080; text-decoration-color: #008080; font-weight: bold\">2</span>,\n",
       "    <span style=\"color: #008000; text-decoration-color: #008000\">'support'</span>: <span style=\"color: #008080; text-decoration-color: #008080; font-weight: bold\">2</span>,\n",
       "    <span style=\"color: #008000; text-decoration-color: #008000\">'tubes'</span>: <span style=\"color: #008080; text-decoration-color: #008080; font-weight: bold\">2</span>,\n",
       "    <span style=\"color: #008000; text-decoration-color: #008000\">'described'</span>: <span style=\"color: #008080; text-decoration-color: #008080; font-weight: bold\">2</span>,\n",
       "    <span style=\"color: #008000; text-decoration-color: #008000\">'above.'</span>: <span style=\"color: #008080; text-decoration-color: #008080; font-weight: bold\">2</span>,\n",
       "    <span style=\"color: #008000; text-decoration-color: #008000\">'___,'</span>: <span style=\"color: #008080; text-decoration-color: #008080; font-weight: bold\">2</span>,\n",
       "    <span style=\"color: #008000; text-decoration-color: #008000\">'coursing'</span>: <span style=\"color: #008080; text-decoration-color: #008080; font-weight: bold\">2</span>,\n",
       "    <span style=\"color: #008000; text-decoration-color: #008000\">'mid'</span>: <span style=\"color: #008080; text-decoration-color: #008080; font-weight: bold\">2</span>,\n",
       "    <span style=\"color: #008000; text-decoration-color: #008000\">'level'</span>: <span style=\"color: #008080; text-decoration-color: #008080; font-weight: bold\">2</span>,\n",
       "    <span style=\"color: #008000; text-decoration-color: #008000\">'perihilar'</span>: <span style=\"color: #008080; text-decoration-color: #008080; font-weight: bold\">2</span>,\n",
       "    <span style=\"color: #008000; text-decoration-color: #008000\">'given'</span>: <span style=\"color: #008080; text-decoration-color: #008080; font-weight: bold\">2</span>,\n",
       "    <span style=\"color: #008000; text-decoration-color: #008000\">'exaggerate'</span>: <span style=\"color: #008080; text-decoration-color: #008080; font-weight: bold\">2</span>,\n",
       "    <span style=\"color: #008000; text-decoration-color: #008000\">'altered'</span>: <span style=\"color: #008080; text-decoration-color: #008080; font-weight: bold\">2</span>,\n",
       "    <span style=\"color: #008000; text-decoration-color: #008000\">'mental'</span>: <span style=\"color: #008080; text-decoration-color: #008080; font-weight: bold\">2</span>,\n",
       "    <span style=\"color: #008000; text-decoration-color: #008000\">'ends'</span>: <span style=\"color: #008080; text-decoration-color: #008080; font-weight: bold\">2</span>,\n",
       "    <span style=\"color: #008000; text-decoration-color: #008000\">'stomach.'</span>: <span style=\"color: #008080; text-decoration-color: #008080; font-weight: bold\">2</span>,\n",
       "    <span style=\"color: #008000; text-decoration-color: #008000\">'svc.'</span>: <span style=\"color: #008080; text-decoration-color: #008080; font-weight: bold\">2</span>,\n",
       "    <span style=\"color: #008000; text-decoration-color: #008000\">'consolidation.'</span>: <span style=\"color: #008080; text-decoration-color: #008080; font-weight: bold\">2</span>,\n",
       "    <span style=\"color: #008000; text-decoration-color: #008000\">'placement.'</span>: <span style=\"color: #008080; text-decoration-color: #008080; font-weight: bold\">2</span>,\n",
       "    <span style=\"color: #008000; text-decoration-color: #008000\">'low'</span>: <span style=\"color: #008080; text-decoration-color: #008080; font-weight: bold\">2</span>,\n",
       "    <span style=\"color: #008000; text-decoration-color: #008000\">'appears'</span>: <span style=\"color: #008080; text-decoration-color: #008080; font-weight: bold\">2</span>,\n",
       "    <span style=\"color: #008000; text-decoration-color: #008000\">'significant'</span>: <span style=\"color: #008080; text-decoration-color: #008080; font-weight: bold\">2</span>,\n",
       "    <span style=\"color: #008000; text-decoration-color: #008000\">'volume'</span>: <span style=\"color: #008080; text-decoration-color: #008080; font-weight: bold\">2</span>,\n",
       "    <span style=\"color: #008000; text-decoration-color: #008000\">'loss'</span>: <span style=\"color: #008080; text-decoration-color: #008080; font-weight: bold\">2</span>,\n",
       "    <span style=\"color: #008000; text-decoration-color: #008000\">'addendum'</span>: <span style=\"color: #008080; text-decoration-color: #008080; font-weight: bold\">2</span>,\n",
       "    <span style=\"color: #008000; text-decoration-color: #008000\">'___-year-old'</span>: <span style=\"color: #008080; text-decoration-color: #008080; font-weight: bold\">2</span>,\n",
       "    <span style=\"color: #008000; text-decoration-color: #008000\">'combination'</span>: <span style=\"color: #008080; text-decoration-color: #008080; font-weight: bold\">2</span>,\n",
       "    <span style=\"color: #008000; text-decoration-color: #008000\">'exam.'</span>: <span style=\"color: #008080; text-decoration-color: #008080; font-weight: bold\">2</span>,\n",
       "    <span style=\"color: #008000; text-decoration-color: #008000\">'placement'</span>: <span style=\"color: #008080; text-decoration-color: #008080; font-weight: bold\">2</span>,\n",
       "    <span style=\"color: #008000; text-decoration-color: #008000\">'left,'</span>: <span style=\"color: #008080; text-decoration-color: #008080; font-weight: bold\">2</span>,\n",
       "    <span style=\"color: #008000; text-decoration-color: #008000\">'pneumoperitoneum,'</span>: <span style=\"color: #008080; text-decoration-color: #008080; font-weight: bold\">2</span>,\n",
       "    <span style=\"color: #008000; text-decoration-color: #008000\">'gastrostomy'</span>: <span style=\"color: #008080; text-decoration-color: #008080; font-weight: bold\">2</span>,\n",
       "    <span style=\"color: #008000; text-decoration-color: #008000\">'increased'</span>: <span style=\"color: #008080; text-decoration-color: #008080; font-weight: bold\">2</span>,\n",
       "    <span style=\"color: #008000; text-decoration-color: #008000\">'border'</span>: <span style=\"color: #008080; text-decoration-color: #008080; font-weight: bold\">2</span>,\n",
       "    <span style=\"color: #008000; text-decoration-color: #008000\">'lung,'</span>: <span style=\"color: #008080; text-decoration-color: #008080; font-weight: bold\">2</span>,\n",
       "    <span style=\"color: #008000; text-decoration-color: #008000\">'obscuration'</span>: <span style=\"color: #008080; text-decoration-color: #008080; font-weight: bold\">2</span>,\n",
       "    <span style=\"color: #008000; text-decoration-color: #008000\">'vs'</span>: <span style=\"color: #008080; text-decoration-color: #008080; font-weight: bold\">2</span>,\n",
       "    <span style=\"color: #008000; text-decoration-color: #008000\">'pcnl,'</span>: <span style=\"color: #008080; text-decoration-color: #008080; font-weight: bold\">1</span>,\n",
       "    <span style=\"color: #008000; text-decoration-color: #008000\">'second'</span>: <span style=\"color: #008080; text-decoration-color: #008080; font-weight: bold\">1</span>,\n",
       "    <span style=\"color: #008000; text-decoration-color: #008000\">'stage'</span>: <span style=\"color: #008080; text-decoration-color: #008080; font-weight: bold\">1</span>,\n",
       "    <span style=\"color: #008000; text-decoration-color: #008000\">'pcnl'</span>: <span style=\"color: #008080; text-decoration-color: #008080; font-weight: bold\">1</span>,\n",
       "    <span style=\"color: #008000; text-decoration-color: #008000\">'assess'</span>: <span style=\"color: #008080; text-decoration-color: #008080; font-weight: bold\">1</span>,\n",
       "    <span style=\"color: #008000; text-decoration-color: #008000\">'recurrent'</span>: <span style=\"color: #008080; text-decoration-color: #008080; font-weight: bold\">1</span>,\n",
       "    <span style=\"color: #008000; text-decoration-color: #008000\">'effusion;'</span>: <span style=\"color: #008080; text-decoration-color: #008080; font-weight: bold\">1</span>,\n",
       "    <span style=\"color: #008000; text-decoration-color: #008000\">'seat'</span>: <span style=\"color: #008080; text-decoration-color: #008080; font-weight: bold\">1</span>,\n",
       "    <span style=\"color: #008000; text-decoration-color: #008000\">'patient'</span>: <span style=\"color: #008080; text-decoration-color: #008080; font-weight: bold\">1</span>,\n",
       "    <span style=\"color: #008000; text-decoration-color: #008000\">'view'</span>: <span style=\"color: #008080; text-decoration-color: #008080; font-weight: bold\">1</span>,\n",
       "    <span style=\"color: #008000; text-decoration-color: #008000\">'shallow'</span>: <span style=\"color: #008080; text-decoration-color: #008080; font-weight: bold\">1</span>,\n",
       "    <span style=\"color: #008000; text-decoration-color: #008000\">'inspiration'</span>: <span style=\"color: #008080; text-decoration-color: #008080; font-weight: bold\">1</span>,\n",
       "    <span style=\"color: #008000; text-decoration-color: #008000\">'accentuates'</span>: <span style=\"color: #008080; text-decoration-color: #008080; font-weight: bold\">1</span>,\n",
       "    <span style=\"color: #008000; text-decoration-color: #008000\">'pulmonary'</span>: <span style=\"color: #008080; text-decoration-color: #008080; font-weight: bold\">1</span>,\n",
       "    <span style=\"color: #008000; text-decoration-color: #008000\">'vascularity.'</span>: <span style=\"color: #008080; text-decoration-color: #008080; font-weight: bold\">1</span>,\n",
       "    <span style=\"color: #008000; text-decoration-color: #008000\">'tube.'</span>: <span style=\"color: #008080; text-decoration-color: #008080; font-weight: bold\">1</span>,\n",
       "    <span style=\"color: #008000; text-decoration-color: #008000\">'worsened'</span>: <span style=\"color: #008080; text-decoration-color: #008080; font-weight: bold\">1</span>,\n",
       "    <span style=\"color: #008000; text-decoration-color: #008000\">'come'</span>: <span style=\"color: #008080; text-decoration-color: #008080; font-weight: bold\">1</span>,\n",
       "    <span style=\"color: #008000; text-decoration-color: #008000\">'additional'</span>: <span style=\"color: #008080; text-decoration-color: #008080; font-weight: bold\">1</span>,\n",
       "    <span style=\"color: #008000; text-decoration-color: #008000\">'tubing'</span>: <span style=\"color: #008080; text-decoration-color: #008080; font-weight: bold\">1</span>,\n",
       "    <span style=\"color: #008000; text-decoration-color: #008000\">'projected'</span>: <span style=\"color: #008080; text-decoration-color: #008080; font-weight: bold\">1</span>,\n",
       "    <span style=\"color: #008000; text-decoration-color: #008000\">'quadrant.'</span>: <span style=\"color: #008080; text-decoration-color: #008080; font-weight: bold\">1</span>,\n",
       "    <span style=\"color: #008000; text-decoration-color: #008000\">'worsened.'</span>: <span style=\"color: #008080; text-decoration-color: #008080; font-weight: bold\">1</span>,\n",
       "    <span style=\"color: #008000; text-decoration-color: #008000\">'silhouette'</span>: <span style=\"color: #008080; text-decoration-color: #008080; font-weight: bold\">1</span>,\n",
       "    <span style=\"color: #008000; text-decoration-color: #008000\">'size'</span>: <span style=\"color: #008080; text-decoration-color: #008080; font-weight: bold\">1</span>,\n",
       "    <span style=\"color: #008000; text-decoration-color: #008000\">'normal.'</span>: <span style=\"color: #008080; text-decoration-color: #008080; font-weight: bold\">1</span>,\n",
       "    <span style=\"color: #008000; text-decoration-color: #008000\">'contour'</span>: <span style=\"color: #008080; text-decoration-color: #008080; font-weight: bold\">1</span>,\n",
       "    <span style=\"color: #008000; text-decoration-color: #008000\">'atherosclerotic'</span>: <span style=\"color: #008080; text-decoration-color: #008080; font-weight: bold\">1</span>,\n",
       "    <span style=\"color: #008000; text-decoration-color: #008000\">'calcification'</span>: <span style=\"color: #008080; text-decoration-color: #008080; font-weight: bold\">1</span>,\n",
       "    <span style=\"color: #008000; text-decoration-color: #008000\">'noted'</span>: <span style=\"color: #008080; text-decoration-color: #008080; font-weight: bold\">1</span>,\n",
       "    <span style=\"color: #008000; text-decoration-color: #008000\">'aorta.'</span>: <span style=\"color: #008080; text-decoration-color: #008080; font-weight: bold\">1</span>,\n",
       "    <span style=\"color: #008000; text-decoration-color: #008000\">'position,'</span>: <span style=\"color: #008080; text-decoration-color: #008080; font-weight: bold\">1</span>,\n",
       "    <span style=\"color: #008000; text-decoration-color: #008000\">'pneumothorax'</span>: <span style=\"color: #008080; text-decoration-color: #008080; font-weight: bold\">1</span>,\n",
       "    <span style=\"color: #008000; text-decoration-color: #008000\">'demonstrated.'</span>: <span style=\"color: #008080; text-decoration-color: #008080; font-weight: bold\">1</span>,\n",
       "    <span style=\"color: #008000; text-decoration-color: #008000\">'streaky'</span>: <span style=\"color: #008080; text-decoration-color: #008080; font-weight: bold\">1</span>,\n",
       "    <span style=\"color: #008000; text-decoration-color: #008000\">'bases,'</span>: <span style=\"color: #008080; text-decoration-color: #008080; font-weight: bold\">1</span>,\n",
       "    <span style=\"color: #008000; text-decoration-color: #008000\">'pronounced'</span>: <span style=\"color: #008080; text-decoration-color: #008080; font-weight: bold\">1</span>,\n",
       "    <span style=\"color: #008000; text-decoration-color: #008000\">'reflect'</span>: <span style=\"color: #008080; text-decoration-color: #008080; font-weight: bold\">1</span>,\n",
       "    <span style=\"color: #008000; text-decoration-color: #008000\">'cephalization'</span>: <span style=\"color: #008080; text-decoration-color: #008080; font-weight: bold\">1</span>,\n",
       "    <span style=\"color: #008000; text-decoration-color: #008000\">'vasculature.'</span>: <span style=\"color: #008080; text-decoration-color: #008080; font-weight: bold\">1</span>,\n",
       "    <span style=\"color: #008000; text-decoration-color: #008000\">'congestion.'</span>: <span style=\"color: #008080; text-decoration-color: #008080; font-weight: bold\">1</span>,\n",
       "    <span style=\"color: #008000; text-decoration-color: #008000\">'1:31'</span>: <span style=\"color: #008080; text-decoration-color: #008080; font-weight: bold\">1</span>,\n",
       "    <span style=\"color: #008000; text-decoration-color: #008000\">'setting.'</span>: <span style=\"color: #008080; text-decoration-color: #008080; font-weight: bold\">1</span>,\n",
       "    <span style=\"color: #008000; text-decoration-color: #008000\">'______________________________________________________________________________'</span>: <span style=\"color: #008080; text-decoration-color: #008080; font-weight: bold\">1</span>,\n",
       "    <span style=\"color: #008000; text-decoration-color: #008000\">'___f'</span>: <span style=\"color: #008080; text-decoration-color: #008080; font-weight: bold\">1</span>,\n",
       "    <span style=\"color: #008000; text-decoration-color: #008000\">'intubation.'</span>: <span style=\"color: #008080; text-decoration-color: #008080; font-weight: bold\">1</span>,\n",
       "    <span style=\"color: #008000; text-decoration-color: #008000\">'supine'</span>: <span style=\"color: #008080; text-decoration-color: #008080; font-weight: bold\">1</span>,\n",
       "    <span style=\"color: #008000; text-decoration-color: #008000\">'radiograph.'</span>: <span style=\"color: #008080; text-decoration-color: #008080; font-weight: bold\">1</span>,\n",
       "    <span style=\"color: #008000; text-decoration-color: #008000\">'feeding'</span>: <span style=\"color: #008080; text-decoration-color: #008080; font-weight: bold\">1</span>,\n",
       "    <span style=\"color: #008000; text-decoration-color: #008000\">'field'</span>: <span style=\"color: #008080; text-decoration-color: #008080; font-weight: bold\">1</span>,\n",
       "    <span style=\"color: #008000; text-decoration-color: #008000\">'view.'</span>: <span style=\"color: #008080; text-decoration-color: #008080; font-weight: bold\">1</span>,\n",
       "    <span style=\"color: #008000; text-decoration-color: #008000\">'clavicles,'</span>: <span style=\"color: #008080; text-decoration-color: #008080; font-weight: bold\">1</span>,\n",
       "    <span style=\"color: #008000; text-decoration-color: #008000\">'1.9'</span>: <span style=\"color: #008080; text-decoration-color: #008080; font-weight: bold\">1</span>,\n",
       "    <span style=\"color: #008000; text-decoration-color: #008000\">'carina'</span>: <span style=\"color: #008080; text-decoration-color: #008080; font-weight: bold\">1</span>,\n",
       "    <span style=\"color: #008000; text-decoration-color: #008000\">'intact'</span>: <span style=\"color: #008080; text-decoration-color: #008080; font-weight: bold\">1</span>,\n",
       "    <span style=\"color: #008000; text-decoration-color: #008000\">'wires.'</span>: <span style=\"color: #008080; text-decoration-color: #008080; font-weight: bold\">1</span>,\n",
       "    <span style=\"color: #008000; text-decoration-color: #008000\">'interstitial'</span>: <span style=\"color: #008080; text-decoration-color: #008080; font-weight: bold\">1</span>,\n",
       "    <span style=\"color: #008000; text-decoration-color: #008000\">'cephalization.'</span>: <span style=\"color: #008080; text-decoration-color: #008080; font-weight: bold\">1</span>,\n",
       "    <span style=\"color: #008000; text-decoration-color: #008000\">'heterogeneous'</span>: <span style=\"color: #008080; text-decoration-color: #008080; font-weight: bold\">1</span>,\n",
       "    <span style=\"color: #008000; text-decoration-color: #008000\">'opacity.'</span>: <span style=\"color: #008080; text-decoration-color: #008080; font-weight: bold\">1</span>,\n",
       "    <span style=\"color: #008000; text-decoration-color: #008000\">'contour,'</span>: <span style=\"color: #008080; text-decoration-color: #008080; font-weight: bold\">1</span>,\n",
       "    <span style=\"color: #008000; text-decoration-color: #008000\">'hila'</span>: <span style=\"color: #008080; text-decoration-color: #008080; font-weight: bold\">1</span>,\n",
       "    <span style=\"color: #008000; text-decoration-color: #008000\">'probable'</span>: <span style=\"color: #008080; text-decoration-color: #008080; font-weight: bold\">1</span>,\n",
       "    <span style=\"color: #008000; text-decoration-color: #008000\">'cough.'</span>: <span style=\"color: #008080; text-decoration-color: #008080; font-weight: bold\">1</span>,\n",
       "    <span style=\"color: #008000; text-decoration-color: #008000\">'origin'</span>: <span style=\"color: #008080; text-decoration-color: #008080; font-weight: bold\">1</span>,\n",
       "    <span style=\"color: #008000; text-decoration-color: #008000\">'mare'</span>: <span style=\"color: #008080; text-decoration-color: #008080; font-weight: bold\">1</span>,\n",
       "    <span style=\"color: #008000; text-decoration-color: #008000\">'apex'</span>: <span style=\"color: #008080; text-decoration-color: #008080; font-weight: bold\">1</span>,\n",
       "    <span style=\"color: #008000; text-decoration-color: #008000\">'suggests'</span>: <span style=\"color: #008080; text-decoration-color: #008080; font-weight: bold\">1</span>,\n",
       "    <span style=\"color: #008000; text-decoration-color: #008000\">'subpulmonic'</span>: <span style=\"color: #008080; text-decoration-color: #008080; font-weight: bold\">1</span>,\n",
       "    <span style=\"color: #008000; text-decoration-color: #008000\">'increase'</span>: <span style=\"color: #008080; text-decoration-color: #008080; font-weight: bold\">1</span>,\n",
       "    <span style=\"color: #008000; text-decoration-color: #008000\">'epilepticus,'</span>: <span style=\"color: #008080; text-decoration-color: #008080; font-weight: bold\">1</span>,\n",
       "    <span style=\"color: #008000; text-decoration-color: #008000\">'intubated.'</span>: <span style=\"color: #008080; text-decoration-color: #008080; font-weight: bold\">1</span>,\n",
       "    <span style=\"color: #008000; text-decoration-color: #008000\">'volumes'</span>: <span style=\"color: #008080; text-decoration-color: #008080; font-weight: bold\">1</span>,\n",
       "    <span style=\"color: #008000; text-decoration-color: #008000\">'difficult'</span>: <span style=\"color: #008080; text-decoration-color: #008080; font-weight: bold\">1</span>,\n",
       "    <span style=\"color: #008000; text-decoration-color: #008000\">'reliably'</span>: <span style=\"color: #008080; text-decoration-color: #008080; font-weight: bold\">1</span>,\n",
       "    <span style=\"color: #008000; text-decoration-color: #008000\">'discern,'</span>: <span style=\"color: #008080; text-decoration-color: #008080; font-weight: bold\">1</span>,\n",
       "    <span style=\"color: #008000; text-decoration-color: #008000\">'probably'</span>: <span style=\"color: #008080; text-decoration-color: #008080; font-weight: bold\">1</span>,\n",
       "    <span style=\"color: #008000; text-decoration-color: #008000\">'hemi'</span>: <span style=\"color: #008080; text-decoration-color: #008080; font-weight: bold\">1</span>,\n",
       "    <span style=\"color: #008000; text-decoration-color: #008000\">'platelike'</span>: <span style=\"color: #008080; text-decoration-color: #008080; font-weight: bold\">1</span>,\n",
       "    <span style=\"color: #008000; text-decoration-color: #008000\">'lingular'</span>: <span style=\"color: #008080; text-decoration-color: #008080; font-weight: bold\">1</span>,\n",
       "    <span style=\"color: #008000; text-decoration-color: #008000\">'assess.'</span>: <span style=\"color: #008080; text-decoration-color: #008080; font-weight: bold\">1</span>,\n",
       "    <span style=\"color: #008000; text-decoration-color: #008000\">'looped'</span>: <span style=\"color: #008080; text-decoration-color: #008080; font-weight: bold\">1</span>,\n",
       "    <span style=\"color: #008000; text-decoration-color: #008000\">'right-sided'</span>: <span style=\"color: #008080; text-decoration-color: #008080; font-weight: bold\">1</span>,\n",
       "    <span style=\"color: #008000; text-decoration-color: #008000\">'positioning'</span>: <span style=\"color: #008080; text-decoration-color: #008080; font-weight: bold\">1</span>,\n",
       "    <span style=\"color: #008000; text-decoration-color: #008000\">'ett.'</span>: <span style=\"color: #008080; text-decoration-color: #008080; font-weight: bold\">1</span>,\n",
       "    <span style=\"color: #008000; text-decoration-color: #008000\">'volumes.'</span>: <span style=\"color: #008080; text-decoration-color: #008080; font-weight: bold\">1</span>,\n",
       "    <span style=\"color: #008000; text-decoration-color: #008000\">'thorax,'</span>: <span style=\"color: #008080; text-decoration-color: #008080; font-weight: bold\">1</span>,\n",
       "    <span style=\"color: #008000; text-decoration-color: #008000\">'collapse'</span>: <span style=\"color: #008080; text-decoration-color: #008080; font-weight: bold\">1</span>,\n",
       "    <span style=\"color: #008000; text-decoration-color: #008000\">'middle'</span>: <span style=\"color: #008080; text-decoration-color: #008080; font-weight: bold\">1</span>,\n",
       "    <span style=\"color: #008000; text-decoration-color: #008000\">'context,'</span>: <span style=\"color: #008080; text-decoration-color: #008080; font-weight: bold\">1</span>,\n",
       "    <span style=\"color: #008000; text-decoration-color: #008000\">'evaluation'</span>: <span style=\"color: #008080; text-decoration-color: #008080; font-weight: bold\">1</span>,\n",
       "    <span style=\"color: #008000; text-decoration-color: #008000\">'difficult.'</span>: <span style=\"color: #008080; text-decoration-color: #008080; font-weight: bold\">1</span>,\n",
       "    <span style=\"color: #008000; text-decoration-color: #008000\">'request'</span>: <span style=\"color: #008080; text-decoration-color: #008080; font-weight: bold\">1</span>,\n",
       "    <span style=\"color: #008000; text-decoration-color: #008000\">'attempt'</span>: <span style=\"color: #008080; text-decoration-color: #008080; font-weight: bold\">1</span>,\n",
       "    <span style=\"color: #008000; text-decoration-color: #008000\">'location'</span>: <span style=\"color: #008080; text-decoration-color: #008080; font-weight: bold\">1</span>,\n",
       "    <span style=\"color: #008000; text-decoration-color: #008000\">'catheter.'</span>: <span style=\"color: #008080; text-decoration-color: #008080; font-weight: bold\">1</span>,\n",
       "    <span style=\"color: #008000; text-decoration-color: #008000\">'review,'</span>: <span style=\"color: #008080; text-decoration-color: #008080; font-weight: bold\">1</span>,\n",
       "    <span style=\"color: #008000; text-decoration-color: #008000\">'catheter'</span>: <span style=\"color: #008080; text-decoration-color: #008080; font-weight: bold\">1</span>,\n",
       "    <span style=\"color: #008000; text-decoration-color: #008000\">'best'</span>: <span style=\"color: #008080; text-decoration-color: #008080; font-weight: bold\">1</span>,\n",
       "    <span style=\"color: #008000; text-decoration-color: #008000\">'view,'</span>: <span style=\"color: #008080; text-decoration-color: #008080; font-weight: bold\">1</span>,\n",
       "    <span style=\"color: #008000; text-decoration-color: #008000\">'confirmed'</span>: <span style=\"color: #008080; text-decoration-color: #008080; font-weight: bold\">1</span>,\n",
       "    <span style=\"color: #008000; text-decoration-color: #008000\">'female'</span>: <span style=\"color: #008080; text-decoration-color: #008080; font-weight: bold\">1</span>,\n",
       "    <span style=\"color: #008000; text-decoration-color: #008000\">'pain.'</span>: <span style=\"color: #008080; text-decoration-color: #008080; font-weight: bold\">1</span>,\n",
       "    <span style=\"color: #008000; text-decoration-color: #008000\">'prior,'</span>: <span style=\"color: #008080; text-decoration-color: #008080; font-weight: bold\">1</span>,\n",
       "    <span style=\"color: #008000; text-decoration-color: #008000\">'dense'</span>: <span style=\"color: #008080; text-decoration-color: #008080; font-weight: bold\">1</span>,\n",
       "    <span style=\"color: #008000; text-decoration-color: #008000\">'obscuring'</span>: <span style=\"color: #008080; text-decoration-color: #008080; font-weight: bold\">1</span>,\n",
       "    <span style=\"color: #008000; text-decoration-color: #008000\">'consolidation,'</span>: <span style=\"color: #008080; text-decoration-color: #008080; font-weight: bold\">1</span>,\n",
       "    <span style=\"color: #008000; text-decoration-color: #008000\">'hiatal'</span>: <span style=\"color: #008080; text-decoration-color: #008080; font-weight: bold\">1</span>,\n",
       "    <span style=\"color: #008000; text-decoration-color: #008000\">'hernia'</span>: <span style=\"color: #008080; text-decoration-color: #008080; font-weight: bold\">1</span>,\n",
       "    <span style=\"color: #008000; text-decoration-color: #008000\">'suspected.'</span>: <span style=\"color: #008080; text-decoration-color: #008080; font-weight: bold\">1</span>,\n",
       "    <span style=\"color: #008000; text-decoration-color: #008000\">'2'</span>: <span style=\"color: #008080; text-decoration-color: #008080; font-weight: bold\">1</span>,\n",
       "    <span style=\"color: #008000; text-decoration-color: #008000\">'separate'</span>: <span style=\"color: #008080; text-decoration-color: #008080; font-weight: bold\">1</span>,\n",
       "    <span style=\"color: #008000; text-decoration-color: #008000\">'subclavian'</span>: <span style=\"color: #008080; text-decoration-color: #008080; font-weight: bold\">1</span>,\n",
       "    <span style=\"color: #008000; text-decoration-color: #008000\">'identified'</span>: <span style=\"color: #008080; text-decoration-color: #008080; font-weight: bold\">1</span>,\n",
       "    <span style=\"color: #008000; text-decoration-color: #008000\">'larger'</span>: <span style=\"color: #008080; text-decoration-color: #008080; font-weight: bold\">1</span>,\n",
       "    <span style=\"color: #008000; text-decoration-color: #008000\">'terminating'</span>: <span style=\"color: #008080; text-decoration-color: #008080; font-weight: bold\">1</span>,\n",
       "    <span style=\"color: #008000; text-decoration-color: #008000\">'smaller'</span>: <span style=\"color: #008080; text-decoration-color: #008080; font-weight: bold\">1</span>,\n",
       "    <span style=\"color: #008000; text-decoration-color: #008000\">'clearly'</span>: <span style=\"color: #008080; text-decoration-color: #008080; font-weight: bold\">1</span>,\n",
       "    <span style=\"color: #008000; text-decoration-color: #008000\">'delineated'</span>: <span style=\"color: #008080; text-decoration-color: #008080; font-weight: bold\">1</span>,\n",
       "    <span style=\"color: #008000; text-decoration-color: #008000\">'current'</span>: <span style=\"color: #008080; text-decoration-color: #008080; font-weight: bold\">1</span>,\n",
       "    <span style=\"color: #008000; text-decoration-color: #008000\">'degenerative'</span>: <span style=\"color: #008080; text-decoration-color: #008080; font-weight: bold\">1</span>,\n",
       "    <span style=\"color: #008000; text-decoration-color: #008000\">'changes'</span>: <span style=\"color: #008080; text-decoration-color: #008080; font-weight: bold\">1</span>,\n",
       "    <span style=\"color: #008000; text-decoration-color: #008000\">'spine'</span>: <span style=\"color: #008080; text-decoration-color: #008080; font-weight: bold\">1</span>,\n",
       "    <span style=\"color: #008000; text-decoration-color: #008000\">'abnormality.'</span>: <span style=\"color: #008080; text-decoration-color: #008080; font-weight: bold\">1</span>,\n",
       "    <span style=\"color: #008000; text-decoration-color: #008000\">'previous'</span>: <span style=\"color: #008080; text-decoration-color: #008080; font-weight: bold\">1</span>,\n",
       "    <span style=\"color: #008000; text-decoration-color: #008000\">'exam'</span>: <span style=\"color: #008080; text-decoration-color: #008080; font-weight: bold\">1</span>,\n",
       "    <span style=\"color: #008000; text-decoration-color: #008000\">'male'</span>: <span style=\"color: #008080; text-decoration-color: #008080; font-weight: bold\">1</span>,\n",
       "    <span style=\"color: #008000; text-decoration-color: #008000\">'alcoholic'</span>: <span style=\"color: #008080; text-decoration-color: #008080; font-weight: bold\">1</span>,\n",
       "    <span style=\"color: #008000; text-decoration-color: #008000\">'pancreatitis,'</span>: <span style=\"color: #008080; text-decoration-color: #008080; font-weight: bold\">1</span>,\n",
       "    <span style=\"color: #008000; text-decoration-color: #008000\">'pseudocyst,'</span>: <span style=\"color: #008080; text-decoration-color: #008080; font-weight: bold\">1</span>,\n",
       "    <span style=\"color: #008000; text-decoration-color: #008000\">'biliary'</span>: <span style=\"color: #008080; text-decoration-color: #008080; font-weight: bold\">1</span>,\n",
       "    <span style=\"color: #008000; text-decoration-color: #008000\">'stricture'</span>: <span style=\"color: #008080; text-decoration-color: #008080; font-weight: bold\">1</span>,\n",
       "    <span style=\"color: #008000; text-decoration-color: #008000\">'stent'</span>: <span style=\"color: #008080; text-decoration-color: #008080; font-weight: bold\">1</span>,\n",
       "    <span style=\"color: #008000; text-decoration-color: #008000\">'liver'</span>: <span style=\"color: #008080; text-decoration-color: #008080; font-weight: bold\">1</span>,\n",
       "    <span style=\"color: #008000; text-decoration-color: #008000\">'abscess'</span>: <span style=\"color: #008080; text-decoration-color: #008080; font-weight: bold\">1</span>,\n",
       "    <span style=\"color: #008000; text-decoration-color: #008000\">'comparisons:'</span>: <span style=\"color: #008080; text-decoration-color: #008080; font-weight: bold\">1</span>,\n",
       "    <span style=\"color: #008000; text-decoration-color: #008000\">'multiple'</span>: <span style=\"color: #008080; text-decoration-color: #008080; font-weight: bold\">1</span>,\n",
       "    <span style=\"color: #008000; text-decoration-color: #008000\">'studies,'</span>: <span style=\"color: #008080; text-decoration-color: #008080; font-weight: bold\">1</span>,\n",
       "    <span style=\"color: #008000; text-decoration-color: #008000\">'recently'</span>: <span style=\"color: #008080; text-decoration-color: #008080; font-weight: bold\">1</span>,\n",
       "    <span style=\"color: #008000; text-decoration-color: #008000\">'retraction'</span>: <span style=\"color: #008080; text-decoration-color: #008080; font-weight: bold\">1</span>,\n",
       "    <span style=\"color: #008000; text-decoration-color: #008000\">'3.5'</span>: <span style=\"color: #008080; text-decoration-color: #008080; font-weight: bold\">1</span>,\n",
       "    <span style=\"color: #008000; text-decoration-color: #008000\">'cm.'</span>: <span style=\"color: #008080; text-decoration-color: #008080; font-weight: bold\">1</span>,\n",
       "    <span style=\"color: #008000; text-decoration-color: #008000\">'edema,'</span>: <span style=\"color: #008080; text-decoration-color: #008080; font-weight: bold\">1</span>,\n",
       "    <span style=\"color: #008000; text-decoration-color: #008000\">'pneumothroax.'</span>: <span style=\"color: #008080; text-decoration-color: #008080; font-weight: bold\">1</span>,\n",
       "    <span style=\"color: #008000; text-decoration-color: #008000\">'enlarged.'</span>: <span style=\"color: #008080; text-decoration-color: #008080; font-weight: bold\">1</span>,\n",
       "    <span style=\"color: #008000; text-decoration-color: #008000\">'imaged'</span>: <span style=\"color: #008080; text-decoration-color: #008080; font-weight: bold\">1</span>,\n",
       "    <span style=\"color: #008000; text-decoration-color: #008000\">'bones'</span>: <span style=\"color: #008080; text-decoration-color: #008080; font-weight: bold\">1</span>,\n",
       "    <span style=\"color: #008000; text-decoration-color: #008000\">'opacities,right'</span>: <span style=\"color: #008080; text-decoration-color: #008080; font-weight: bold\">1</span>,\n",
       "    <span style=\"color: #008000; text-decoration-color: #008000\">'respiratory'</span>: <span style=\"color: #008080; text-decoration-color: #008080; font-weight: bold\">1</span>,\n",
       "    <span style=\"color: #008000; text-decoration-color: #008000\">'distress.'</span>: <span style=\"color: #008080; text-decoration-color: #008080; font-weight: bold\">1</span>,\n",
       "    <span style=\"color: #008000; text-decoration-color: #008000\">'gastrostomy.'</span>: <span style=\"color: #008080; text-decoration-color: #008080; font-weight: bold\">1</span>,\n",
       "    <span style=\"color: #008000; text-decoration-color: #008000\">'presumably'</span>: <span style=\"color: #008080; text-decoration-color: #008080; font-weight: bold\">1</span>,\n",
       "    <span style=\"color: #008000; text-decoration-color: #008000\">'opacification'</span>: <span style=\"color: #008080; text-decoration-color: #008080; font-weight: bold\">1</span>,\n",
       "    <span style=\"color: #008000; text-decoration-color: #008000\">'opacification,'</span>: <span style=\"color: #008080; text-decoration-color: #008080; font-weight: bold\">1</span>,\n",
       "    <span style=\"color: #008000; text-decoration-color: #008000\">'related'</span>: <span style=\"color: #008080; text-decoration-color: #008080; font-weight: bold\">1</span>,\n",
       "    <span style=\"color: #008000; text-decoration-color: #008000\">'however,'</span>: <span style=\"color: #008080; text-decoration-color: #008080; font-weight: bold\">1</span>,\n",
       "    <span style=\"color: #008000; text-decoration-color: #008000\">'persistence'</span>: <span style=\"color: #008080; text-decoration-color: #008080; font-weight: bold\">1</span>,\n",
       "    <span style=\"color: #008000; text-decoration-color: #008000\">'raises'</span>: <span style=\"color: #008080; text-decoration-color: #008080; font-weight: bold\">1</span>,\n",
       "    <span style=\"color: #008000; text-decoration-color: #008000\">'question'</span>: <span style=\"color: #008080; text-decoration-color: #008080; font-weight: bold\">1</span>,\n",
       "    <span style=\"color: #008000; text-decoration-color: #008000\">'leak.'</span>: <span style=\"color: #008080; text-decoration-color: #008080; font-weight: bold\">1</span>,\n",
       "    <span style=\"color: #008000; text-decoration-color: #008000\">'(vascular'</span>: <span style=\"color: #008080; text-decoration-color: #008080; font-weight: bold\">1</span>,\n",
       "    <span style=\"color: #008000; text-decoration-color: #008000\">'surgery)'</span>: <span style=\"color: #008080; text-decoration-color: #008080; font-weight: bold\">1</span>,\n",
       "    <span style=\"color: #008000; text-decoration-color: #008000\">'phone'</span>: <span style=\"color: #008080; text-decoration-color: #008080; font-weight: bold\">1</span>,\n",
       "    <span style=\"color: #008000; text-decoration-color: #008000\">'12:19'</span>: <span style=\"color: #008080; text-decoration-color: #008080; font-weight: bold\">1</span>,\n",
       "    <span style=\"color: #008000; text-decoration-color: #008000\">'p.m.'</span>: <span style=\"color: #008080; text-decoration-color: #008080; font-weight: bold\">1</span>,\n",
       "    <span style=\"color: #008000; text-decoration-color: #008000\">'status,'</span>: <span style=\"color: #008080; text-decoration-color: #008080; font-weight: bold\">1</span>,\n",
       "    <span style=\"color: #008000; text-decoration-color: #008000\">'hypoxemia.'</span>: <span style=\"color: #008080; text-decoration-color: #008080; font-weight: bold\">1</span>,\n",
       "    <span style=\"color: #008000; text-decoration-color: #008000\">'copd/'</span>: <span style=\"color: #008080; text-decoration-color: #008080; font-weight: bold\">1</span>,\n",
       "    <span style=\"color: #008000; text-decoration-color: #008000\">'semi'</span>: <span style=\"color: #008080; text-decoration-color: #008080; font-weight: bold\">1</span>,\n",
       "    <span style=\"color: #008000; text-decoration-color: #008000\">'et'</span>: <span style=\"color: #008080; text-decoration-color: #008080; font-weight: bold\">1</span>,\n",
       "    <span style=\"color: #008000; text-decoration-color: #008000\">'approximately'</span>: <span style=\"color: #008080; text-decoration-color: #008080; font-weight: bold\">1</span>,\n",
       "    <span style=\"color: #008000; text-decoration-color: #008000\">'7'</span>: <span style=\"color: #008080; text-decoration-color: #008080; font-weight: bold\">1</span>,\n",
       "    <span style=\"color: #008000; text-decoration-color: #008000\">'hemithorax'</span>: <span style=\"color: #008080; text-decoration-color: #008080; font-weight: bold\">1</span>,\n",
       "    <span style=\"color: #008000; text-decoration-color: #008000\">'near'</span>: <span style=\"color: #008080; text-decoration-color: #008080; font-weight: bold\">1</span>,\n",
       "    <span style=\"color: #008000; text-decoration-color: #008000\">'midline,'</span>: <span style=\"color: #008080; text-decoration-color: #008080; font-weight: bold\">1</span>,\n",
       "    <span style=\"color: #008000; text-decoration-color: #008000\">'film.'</span>: <span style=\"color: #008080; text-decoration-color: #008080; font-weight: bold\">1</span>,\n",
       "    <span style=\"color: #008000; text-decoration-color: #008000\">'cardiomegaly'</span>: <span style=\"color: #008080; text-decoration-color: #008080; font-weight: bold\">1</span>,\n",
       "    <span style=\"color: #008000; text-decoration-color: #008000\">'structures,'</span>: <span style=\"color: #008080; text-decoration-color: #008080; font-weight: bold\">1</span>,\n",
       "    <span style=\"color: #008000; text-decoration-color: #008000\">'tortuosity'</span>: <span style=\"color: #008080; text-decoration-color: #008080; font-weight: bold\">1</span>,\n",
       "    <span style=\"color: #008000; text-decoration-color: #008000\">'aorta,'</span>: <span style=\"color: #008080; text-decoration-color: #008080; font-weight: bold\">1</span>,\n",
       "    <span style=\"color: #008000; text-decoration-color: #008000\">'new.'</span>: <span style=\"color: #008080; text-decoration-color: #008080; font-weight: bold\">1</span>,\n",
       "    <span style=\"color: #008000; text-decoration-color: #008000\">'note'</span>: <span style=\"color: #008080; text-decoration-color: #008080; font-weight: bold\">1</span>,\n",
       "    <span style=\"color: #008000; text-decoration-color: #008000\">'retrocardiac'</span>: <span style=\"color: #008080; text-decoration-color: #008080; font-weight: bold\">1</span>,\n",
       "    <span style=\"color: #008000; text-decoration-color: #008000\">'excluded.'</span>: <span style=\"color: #008080; text-decoration-color: #008080; font-weight: bold\">1</span>,\n",
       "    <span style=\"color: #008000; text-decoration-color: #008000\">'upright'</span>: <span style=\"color: #008080; text-decoration-color: #008080; font-weight: bold\">0</span>,\n",
       "    <span style=\"color: #008000; text-decoration-color: #008000\">'atelectasis.'</span>: <span style=\"color: #008080; text-decoration-color: #008080; font-weight: bold\">0</span>,\n",
       "    <span style=\"color: #008000; text-decoration-color: #008000\">'upper'</span>: <span style=\"color: #008080; text-decoration-color: #008080; font-weight: bold\">0</span>,\n",
       "    <span style=\"color: #008000; text-decoration-color: #008000\">'ct'</span>: <span style=\"color: #008080; text-decoration-color: #008080; font-weight: bold\">0</span>,\n",
       "    <span style=\"color: #008000; text-decoration-color: #008000\">'unchanged'</span>: <span style=\"color: #008080; text-decoration-color: #008080; font-weight: bold\">0</span>,\n",
       "    <span style=\"color: #008000; text-decoration-color: #008000\">'similar'</span>: <span style=\"color: #008080; text-decoration-color: #008080; font-weight: bold\">0</span>,\n",
       "    <span style=\"color: #008000; text-decoration-color: #008000\">'large'</span>: <span style=\"color: #008080; text-decoration-color: #008080; font-weight: bold\">0</span>,\n",
       "    <span style=\"color: #008000; text-decoration-color: #008000\">'place.'</span>: <span style=\"color: #008080; text-decoration-color: #008080; font-weight: bold\">0</span>,\n",
       "    <span style=\"color: #008000; text-decoration-color: #008000\">'wet'</span>: <span style=\"color: #008080; text-decoration-color: #008080; font-weight: bold\">0</span>,\n",
       "    <span style=\"color: #008000; text-decoration-color: #008000\">'read:'</span>: <span style=\"color: #008080; text-decoration-color: #008080; font-weight: bold\">0</span>,\n",
       "    <span style=\"color: #008000; text-decoration-color: #008000\">'trace'</span>: <span style=\"color: #008080; text-decoration-color: #008080; font-weight: bold\">0</span>,\n",
       "    <span style=\"color: #008000; text-decoration-color: #008000\">'excluded'</span>: <span style=\"color: #008080; text-decoration-color: #008080; font-weight: bold\">0</span>,\n",
       "    <span style=\"color: #008000; text-decoration-color: #008000\">'endotracheal'</span>: <span style=\"color: #008080; text-decoration-color: #008080; font-weight: bold\">0</span>,\n",
       "    <span style=\"color: #008000; text-decoration-color: #008000\">'seen'</span>: <span style=\"color: #008080; text-decoration-color: #008080; font-weight: bold\">0</span>,\n",
       "    <span style=\"color: #008000; text-decoration-color: #008000\">'line'</span>: <span style=\"color: #008080; text-decoration-color: #008080; font-weight: bold\">0</span>,\n",
       "    <span style=\"color: #008000; text-decoration-color: #008000\">'cm'</span>: <span style=\"color: #008080; text-decoration-color: #008080; font-weight: bold\">0</span>,\n",
       "    <span style=\"color: #008000; text-decoration-color: #008000\">'sternotomy'</span>: <span style=\"color: #008080; text-decoration-color: #008080; font-weight: bold\">0</span>,\n",
       "    <span style=\"color: #008000; text-decoration-color: #008000\">'prominence'</span>: <span style=\"color: #008080; text-decoration-color: #008080; font-weight: bold\">0</span>,\n",
       "    <span style=\"color: #008000; text-decoration-color: #008000\">'consistent'</span>: <span style=\"color: #008080; text-decoration-color: #008080; font-weight: bold\">0</span>,\n",
       "    <span style=\"color: #008000; text-decoration-color: #008000\">'crowding'</span>: <span style=\"color: #008080; text-decoration-color: #008080; font-weight: bold\">0</span>,\n",
       "    <span style=\"color: #008000; text-decoration-color: #008000\">'stable'</span>: <span style=\"color: #008080; text-decoration-color: #008080; font-weight: bold\">0</span>,\n",
       "    <span style=\"color: #008000; text-decoration-color: #008000\">'unchanged.'</span>: <span style=\"color: #008080; text-decoration-color: #008080; font-weight: bold\">0</span>,\n",
       "    <span style=\"color: #008000; text-decoration-color: #008000\">'lateral'</span>: <span style=\"color: #008080; text-decoration-color: #008080; font-weight: bold\">0</span>,\n",
       "    <span style=\"color: #008000; text-decoration-color: #008000\">'none.'</span>: <span style=\"color: #008080; text-decoration-color: #008080; font-weight: bold\">0</span>,\n",
       "    <span style=\"color: #008000; text-decoration-color: #008000\">'prominent'</span>: <span style=\"color: #008080; text-decoration-color: #008080; font-weight: bold\">0</span>,\n",
       "    <span style=\"color: #008000; text-decoration-color: #008000\">'top-normal.'</span>: <span style=\"color: #008080; text-decoration-color: #008080; font-weight: bold\">0</span>,\n",
       "    <span style=\"color: #008000; text-decoration-color: #008000\">'thorax.'</span>: <span style=\"color: #008080; text-decoration-color: #008080; font-weight: bold\">0</span>,\n",
       "    <span style=\"color: #008000; text-decoration-color: #008000\">'base'</span>: <span style=\"color: #008080; text-decoration-color: #008080; font-weight: bold\">0</span>,\n",
       "    <span style=\"color: #008000; text-decoration-color: #008000\">'distal'</span>: <span style=\"color: #008080; text-decoration-color: #008080; font-weight: bold\">0</span>,\n",
       "    <span style=\"color: #008000; text-decoration-color: #008000\">'views'</span>: <span style=\"color: #008080; text-decoration-color: #008080; font-weight: bold\">0</span>,\n",
       "    <span style=\"color: #008000; text-decoration-color: #008000\">'consolidation'</span>: <span style=\"color: #008080; text-decoration-color: #008080; font-weight: bold\">0</span>,\n",
       "    <span style=\"color: #008000; text-decoration-color: #008000\">'drain'</span>: <span style=\"color: #008080; text-decoration-color: #008080; font-weight: bold\">0</span>,\n",
       "    <span style=\"color: #008000; text-decoration-color: #008000\">'prior'</span>: <span style=\"color: #008080; text-decoration-color: #008080; font-weight: bold\">0</span>,\n",
       "    <span style=\"color: #008000; text-decoration-color: #008000\">'pa'</span>: <span style=\"color: #008080; text-decoration-color: #008080; font-weight: bold\">0</span>,\n",
       "    <span style=\"color: #008000; text-decoration-color: #008000\">'provided.'</span>: <span style=\"color: #008080; text-decoration-color: #008080; font-weight: bold\">0</span>,\n",
       "    <span style=\"color: #008000; text-decoration-color: #008000\">'cardiomediastinal'</span>: <span style=\"color: #008080; text-decoration-color: #008080; font-weight: bold\">0</span>,\n",
       "    <span style=\"color: #008000; text-decoration-color: #008000\">'abdomen'</span>: <span style=\"color: #008080; text-decoration-color: #008080; font-weight: bold\">0</span>,\n",
       "    <span style=\"color: #008000; text-decoration-color: #008000\">'intact.'</span>: <span style=\"color: #008080; text-decoration-color: #008080; font-weight: bold\">0</span>,\n",
       "    <span style=\"color: #008000; text-decoration-color: #008000\">'tracheostomy'</span>: <span style=\"color: #008080; text-decoration-color: #008080; font-weight: bold\">0</span>,\n",
       "    <span style=\"color: #008000; text-decoration-color: #008000\">'discussed'</span>: <span style=\"color: #008080; text-decoration-color: #008080; font-weight: bold\">0</span>,\n",
       "    <span style=\"color: #008000; text-decoration-color: #008000\">'dr.'</span>: <span style=\"color: #008080; text-decoration-color: #008080; font-weight: bold\">0</span>,\n",
       "    <span style=\"color: #008000; text-decoration-color: #008000\">'history'</span>: <span style=\"color: #008080; text-decoration-color: #008080; font-weight: bold\">0</span>,\n",
       "    <span style=\"color: #008000; text-decoration-color: #008000\">'infiltrate.'</span>: <span style=\"color: #008080; text-decoration-color: #008080; font-weight: bold\">0</span>,\n",
       "    <span style=\"color: #008000; text-decoration-color: #008000\">'overall'</span>: <span style=\"color: #008080; text-decoration-color: #008080; font-weight: bold\">0</span>,\n",
       "    <span style=\"color: #008000; text-decoration-color: #008000\">'aside'</span>: <span style=\"color: #008080; text-decoration-color: #008080; font-weight: bold\">0</span>,\n",
       "    <span style=\"color: #008000; text-decoration-color: #008000\">'effusions'</span>: <span style=\"color: #008080; text-decoration-color: #008080; font-weight: bold\">0</span>,\n",
       "    <span style=\"color: #008000; text-decoration-color: #008000\">'hemidiaphragm,'</span>: <span style=\"color: #008080; text-decoration-color: #008080; font-weight: bold\">0</span>,\n",
       "    <span style=\"color: #008000; text-decoration-color: #008000\">'chf,'</span>: <span style=\"color: #008080; text-decoration-color: #008080; font-weight: bold\">0</span>,\n",
       "    <span style=\"color: #008000; text-decoration-color: #008000\">'pna,'</span>: <span style=\"color: #008080; text-decoration-color: #008080; font-weight: bold\">0</span>,\n",
       "    <span style=\"color: #008000; text-decoration-color: #008000\">'lbs'</span>: <span style=\"color: #008080; text-decoration-color: #008080; font-weight: bold\">0</span>,\n",
       "    <span style=\"color: #008000; text-decoration-color: #008000\">'dry'</span>: <span style=\"color: #008080; text-decoration-color: #008080; font-weight: bold\">0</span>,\n",
       "    <span style=\"color: #008000; text-decoration-color: #008000\">'wt'</span>: <span style=\"color: #008080; text-decoration-color: #008080; font-weight: bold\">0</span>,\n",
       "    <span style=\"color: #008000; text-decoration-color: #008000\">'?volume'</span>: <span style=\"color: #008080; text-decoration-color: #008080; font-weight: bold\">0</span>,\n",
       "    <span style=\"color: #008000; text-decoration-color: #008000\">'overload'</span>: <span style=\"color: #008080; text-decoration-color: #008080; font-weight: bold\">0</span>,\n",
       "    <span style=\"color: #008000; text-decoration-color: #008000\">'results'</span>: <span style=\"color: #008080; text-decoration-color: #008080; font-weight: bold\">0</span>,\n",
       "    <span style=\"color: #008000; text-decoration-color: #008000\">'crowding.'</span>: <span style=\"color: #008080; text-decoration-color: #008080; font-weight: bold\">0</span>,\n",
       "    <span style=\"color: #008000; text-decoration-color: #008000\">'continued'</span>: <span style=\"color: #008080; text-decoration-color: #008080; font-weight: bold\">0</span>,\n",
       "    <span style=\"color: #008000; text-decoration-color: #008000\">'improvement'</span>: <span style=\"color: #008080; text-decoration-color: #008080; font-weight: bold\">0</span>,\n",
       "    <span style=\"color: #008000; text-decoration-color: #008000\">'pneumonia.'</span>: <span style=\"color: #008080; text-decoration-color: #008080; font-weight: bold\">0</span>,\n",
       "    <span style=\"color: #008000; text-decoration-color: #008000\">'represent'</span>: <span style=\"color: #008080; text-decoration-color: #008080; font-weight: bold\">0</span>,\n",
       "    <span style=\"color: #008000; text-decoration-color: #008000\">'considered'</span>: <span style=\"color: #008080; text-decoration-color: #008080; font-weight: bold\">0</span>,\n",
       "    <span style=\"color: #008000; text-decoration-color: #008000\">'granuloma'</span>: <span style=\"color: #008080; text-decoration-color: #008080; font-weight: bold\">0</span>,\n",
       "    <span style=\"color: #008000; text-decoration-color: #008000\">'possible'</span>: <span style=\"color: #008080; text-decoration-color: #008080; font-weight: bold\">-1</span>,\n",
       "    <span style=\"color: #008000; text-decoration-color: #008000\">'pneumothorax.'</span>: <span style=\"color: #008080; text-decoration-color: #008080; font-weight: bold\">-1</span>,\n",
       "    <span style=\"color: #008000; text-decoration-color: #008000\">'lung'</span>: <span style=\"color: #008080; text-decoration-color: #008080; font-weight: bold\">-1</span>,\n",
       "    <span style=\"color: #008000; text-decoration-color: #008000\">'clear.'</span>: <span style=\"color: #008080; text-decoration-color: #008080; font-weight: bold\">-1</span>,\n",
       "    <span style=\"color: #008000; text-decoration-color: #008000\">'ap'</span>: <span style=\"color: #008080; text-decoration-color: #008080; font-weight: bold\">-1</span>,\n",
       "    <span style=\"color: #008000; text-decoration-color: #008000\">'mediastinal'</span>: <span style=\"color: #008080; text-decoration-color: #008080; font-weight: bold\">-1</span>,\n",
       "    <span style=\"color: #008000; text-decoration-color: #008000\">'appearance'</span>: <span style=\"color: #008080; text-decoration-color: #008080; font-weight: bold\">-1</span>,\n",
       "    <span style=\"color: #008000; text-decoration-color: #008000\">'bilateral'</span>: <span style=\"color: #008080; text-decoration-color: #008080; font-weight: bold\">-1</span>,\n",
       "    <span style=\"color: #008000; text-decoration-color: #008000\">'adjacent'</span>: <span style=\"color: #008080; text-decoration-color: #008080; font-weight: bold\">-1</span>,\n",
       "    <span style=\"color: #008000; text-decoration-color: #008000\">'possibly'</span>: <span style=\"color: #008080; text-decoration-color: #008080; font-weight: bold\">-1</span>,\n",
       "    <span style=\"color: #008000; text-decoration-color: #008000\">'evaluate'</span>: <span style=\"color: #008080; text-decoration-color: #008080; font-weight: bold\">-1</span>,\n",
       "    <span style=\"color: #008000; text-decoration-color: #008000\">'acute'</span>: <span style=\"color: #008080; text-decoration-color: #008080; font-weight: bold\">-1</span>,\n",
       "    <span style=\"color: #008000; text-decoration-color: #008000\">'radiographs'</span>: <span style=\"color: #008080; text-decoration-color: #008080; font-weight: bold\">-1</span>,\n",
       "    <span style=\"color: #008000; text-decoration-color: #008000\">'terminates'</span>: <span style=\"color: #008080; text-decoration-color: #008080; font-weight: bold\">-1</span>,\n",
       "    <span style=\"color: #008000; text-decoration-color: #008000\">'recommend'</span>: <span style=\"color: #008080; text-decoration-color: #008080; font-weight: bold\">-1</span>,\n",
       "    <span style=\"color: #008000; text-decoration-color: #008000\">'opacities,'</span>: <span style=\"color: #008080; text-decoration-color: #008080; font-weight: bold\">-1</span>,\n",
       "    <span style=\"color: #008000; text-decoration-color: #008000\">'stable.'</span>: <span style=\"color: #008080; text-decoration-color: #008080; font-weight: bold\">-1</span>,\n",
       "    <span style=\"color: #008000; text-decoration-color: #008000\">'carina.'</span>: <span style=\"color: #008080; text-decoration-color: #008080; font-weight: bold\">-1</span>,\n",
       "    <span style=\"color: #008000; text-decoration-color: #008000\">'compared'</span>: <span style=\"color: #008080; text-decoration-color: #008080; font-weight: bold\">-1</span>,\n",
       "    <span style=\"color: #008000; text-decoration-color: #008000\">'hilar'</span>: <span style=\"color: #008080; text-decoration-color: #008080; font-weight: bold\">-1</span>,\n",
       "    <span style=\"color: #008000; text-decoration-color: #008000\">'contours'</span>: <span style=\"color: #008080; text-decoration-color: #008080; font-weight: bold\">-1</span>,\n",
       "    <span style=\"color: #008000; text-decoration-color: #008000\">'evidence'</span>: <span style=\"color: #008080; text-decoration-color: #008080; font-weight: bold\">-1</span>,\n",
       "    <span style=\"color: #008000; text-decoration-color: #008000\">'aspiration'</span>: <span style=\"color: #008080; text-decoration-color: #008080; font-weight: bold\">-1</span>,\n",
       "    <span style=\"color: #008000; text-decoration-color: #008000\">'worsening'</span>: <span style=\"color: #008080; text-decoration-color: #008080; font-weight: bold\">-1</span>,\n",
       "    <span style=\"color: #008000; text-decoration-color: #008000\">'x-ray.'</span>: <span style=\"color: #008080; text-decoration-color: #008080; font-weight: bold\">-1</span>,\n",
       "    <span style=\"color: #008000; text-decoration-color: #008000\">'demonstrates'</span>: <span style=\"color: #008080; text-decoration-color: #008080; font-weight: bold\">-1</span>,\n",
       "    <span style=\"color: #008000; text-decoration-color: #008000\">'bronchovascular'</span>: <span style=\"color: #008080; text-decoration-color: #008080; font-weight: bold\">-1</span>,\n",
       "    <span style=\"color: #008000; text-decoration-color: #008000\">'left-sided'</span>: <span style=\"color: #008080; text-decoration-color: #008080; font-weight: bold\">-1</span>,\n",
       "    <span style=\"color: #008000; text-decoration-color: #008000\">'overt'</span>: <span style=\"color: #008080; text-decoration-color: #008080; font-weight: bold\">-1</span>,\n",
       "    <span style=\"color: #008000; text-decoration-color: #008000\">'cardiac'</span>: <span style=\"color: #008080; text-decoration-color: #008080; font-weight: bold\">-2</span>,\n",
       "    <span style=\"color: #008000; text-decoration-color: #008000\">'opacities'</span>: <span style=\"color: #008080; text-decoration-color: #008080; font-weight: bold\">-2</span>,\n",
       "    <span style=\"color: #008000; text-decoration-color: #008000\">'clinical'</span>: <span style=\"color: #008080; text-decoration-color: #008080; font-weight: bold\">-2</span>,\n",
       "    <span style=\"color: #008000; text-decoration-color: #008000\">'moderate'</span>: <span style=\"color: #008080; text-decoration-color: #008080; font-weight: bold\">-2</span>,\n",
       "    <span style=\"color: #008000; text-decoration-color: #008000\">'man'</span>: <span style=\"color: #008080; text-decoration-color: #008080; font-weight: bold\">-2</span>,\n",
       "    <span style=\"color: #008000; text-decoration-color: #008000\">'dated'</span>: <span style=\"color: #008080; text-decoration-color: #008080; font-weight: bold\">-2</span>,\n",
       "    <span style=\"color: #008000; text-decoration-color: #008000\">'edema.'</span>: <span style=\"color: #008080; text-decoration-color: #008080; font-weight: bold\">-2</span>,\n",
       "    <span style=\"color: #008000; text-decoration-color: #008000\">'(portable'</span>: <span style=\"color: #008080; text-decoration-color: #008080; font-weight: bold\">-3</span>,\n",
       "    <span style=\"color: #008000; text-decoration-color: #008000\">'ap)'</span>: <span style=\"color: #008080; text-decoration-color: #008080; font-weight: bold\">-3</span>,\n",
       "    <span style=\"color: #008000; text-decoration-color: #008000\">'woman'</span>: <span style=\"color: #008080; text-decoration-color: #008080; font-weight: bold\">-3</span>,\n",
       "    <span style=\"color: #008000; text-decoration-color: #008000\">'single'</span>: <span style=\"color: #008080; text-decoration-color: #008080; font-weight: bold\">-3</span>,\n",
       "    <span style=\"color: #008000; text-decoration-color: #008000\">'right'</span>: <span style=\"color: #008080; text-decoration-color: #008080; font-weight: bold\">-3</span>,\n",
       "    <span style=\"color: #008000; text-decoration-color: #008000\">'opacity'</span>: <span style=\"color: #008080; text-decoration-color: #008080; font-weight: bold\">-3</span>,\n",
       "    <span style=\"color: #008000; text-decoration-color: #008000\">'s/p'</span>: <span style=\"color: #008080; text-decoration-color: #008080; font-weight: bold\">-4</span>,\n",
       "    <span style=\"color: #008000; text-decoration-color: #008000\">'portable'</span>: <span style=\"color: #008080; text-decoration-color: #008080; font-weight: bold\">-4</span>,\n",
       "    <span style=\"color: #008000; text-decoration-color: #008000\">'year'</span>: <span style=\"color: #008080; text-decoration-color: #008080; font-weight: bold\">-5</span>,\n",
       "    <span style=\"color: #008000; text-decoration-color: #008000\">'old'</span>: <span style=\"color: #008080; text-decoration-color: #008080; font-weight: bold\">-5</span>,\n",
       "    <span style=\"color: #008000; text-decoration-color: #008000\">'effusion'</span>: <span style=\"color: #008080; text-decoration-color: #008080; font-weight: bold\">-6</span>,\n",
       "    <span style=\"color: #008000; text-decoration-color: #008000\">'interval'</span>: <span style=\"color: #008080; text-decoration-color: #008080; font-weight: bold\">-9</span>\n",
       "<span style=\"font-weight: bold\">}</span>\n",
       "</pre>\n"
      ],
      "text/plain": [
       "\u001b[1m{\u001b[0m\n",
       "    \u001b[32m'left'\u001b[0m: \u001b[1;36m16\u001b[0m,\n",
       "    \u001b[32m'effusion.'\u001b[0m: \u001b[1;36m8\u001b[0m,\n",
       "    \u001b[32m'tube'\u001b[0m: \u001b[1;36m8\u001b[0m,\n",
       "    \u001b[32m'likely'\u001b[0m: \u001b[1;36m6\u001b[0m,\n",
       "    \u001b[32m'atelectasis'\u001b[0m: \u001b[1;36m5\u001b[0m,\n",
       "    \u001b[32m'1.'\u001b[0m: \u001b[1;36m5\u001b[0m,\n",
       "    \u001b[32m'2.'\u001b[0m: \u001b[1;36m5\u001b[0m,\n",
       "    \u001b[32m'tip'\u001b[0m: \u001b[1;36m5\u001b[0m,\n",
       "    \u001b[32m'chest.'\u001b[0m: \u001b[1;36m4\u001b[0m,\n",
       "    \u001b[32m'radiograph'\u001b[0m: \u001b[1;36m4\u001b[0m,\n",
       "    \u001b[32m'mild'\u001b[0m: \u001b[1;36m4\u001b[0m,\n",
       "    \u001b[32m'vascular'\u001b[0m: \u001b[1;36m4\u001b[0m,\n",
       "    \u001b[32m'new'\u001b[0m: \u001b[1;36m4\u001b[0m,\n",
       "    \u001b[32m'pneumonia'\u001b[0m: \u001b[1;36m4\u001b[0m,\n",
       "    \u001b[32m'position.'\u001b[0m: \u001b[1;36m4\u001b[0m,\n",
       "    \u001b[32m'elevation'\u001b[0m: \u001b[1;36m4\u001b[0m,\n",
       "    \u001b[32m'hemidiaphragm'\u001b[0m: \u001b[1;36m4\u001b[0m,\n",
       "    \u001b[32m'greater'\u001b[0m: \u001b[1;36m4\u001b[0m,\n",
       "    \u001b[32m'pleural'\u001b[0m: \u001b[1;36m3\u001b[0m,\n",
       "    \u001b[32m'post'\u001b[0m: \u001b[1;36m3\u001b[0m,\n",
       "    \u001b[32m'heart'\u001b[0m: \u001b[1;36m3\u001b[0m,\n",
       "    \u001b[32m'small'\u001b[0m: \u001b[1;36m3\u001b[0m,\n",
       "    \u001b[32m'basilar'\u001b[0m: \u001b[1;36m3\u001b[0m,\n",
       "    \u001b[32m'opacity,'\u001b[0m: \u001b[1;36m3\u001b[0m,\n",
       "    \u001b[32m'history:'\u001b[0m: \u001b[1;36m3\u001b[0m,\n",
       "    \u001b[32m'congestion'\u001b[0m: \u001b[1;36m3\u001b[0m,\n",
       "    \u001b[32m'hypoinflated'\u001b[0m: \u001b[1;36m3\u001b[0m,\n",
       "    \u001b[32m'lungs'\u001b[0m: \u001b[1;36m3\u001b[0m,\n",
       "    \u001b[32m'lines'\u001b[0m: \u001b[1;36m3\u001b[0m,\n",
       "    \u001b[32m'frontal'\u001b[0m: \u001b[1;36m3\u001b[0m,\n",
       "    \u001b[32m'enteric'\u001b[0m: \u001b[1;36m3\u001b[0m,\n",
       "    \u001b[32m'unremarkable.'\u001b[0m: \u001b[1;36m3\u001b[0m,\n",
       "    \u001b[32m'status'\u001b[0m: \u001b[1;36m3\u001b[0m,\n",
       "    \u001b[32m'picc'\u001b[0m: \u001b[1;36m3\u001b[0m,\n",
       "    \u001b[32m'focal'\u001b[0m: \u001b[1;36m3\u001b[0m,\n",
       "    \u001b[32m'hemidiaphragm.'\u001b[0m: \u001b[1;36m3\u001b[0m,\n",
       "    \u001b[32m'atrium.'\u001b[0m: \u001b[1;36m3\u001b[0m,\n",
       "    \u001b[32m'recent'\u001b[0m: \u001b[1;36m3\u001b[0m,\n",
       "    \u001b[32m'size,'\u001b[0m: \u001b[1;36m2\u001b[0m,\n",
       "    \u001b[32m'suggestion'\u001b[0m: \u001b[1;36m2\u001b[0m,\n",
       "    \u001b[32m'effusion,'\u001b[0m: \u001b[1;36m2\u001b[0m,\n",
       "    \u001b[32m'similar.'\u001b[0m: \u001b[1;36m2\u001b[0m,\n",
       "    \u001b[32m'mildly'\u001b[0m: \u001b[1;36m2\u001b[0m,\n",
       "    \u001b[32m'atelectasis,'\u001b[0m: \u001b[1;36m2\u001b[0m,\n",
       "    \u001b[32m'thoracic'\u001b[0m: \u001b[1;36m2\u001b[0m,\n",
       "    \u001b[32m'remains'\u001b[0m: \u001b[1;36m2\u001b[0m,\n",
       "    \u001b[32m'right,'\u001b[0m: \u001b[1;36m2\u001b[0m,\n",
       "    \u001b[32m'bibasilar'\u001b[0m: \u001b[1;36m2\u001b[0m,\n",
       "    \u001b[32m'lower'\u001b[0m: \u001b[1;36m2\u001b[0m,\n",
       "    \u001b[32m'lobe'\u001b[0m: \u001b[1;36m2\u001b[0m,\n",
       "    \u001b[32m'represents'\u001b[0m: \u001b[1;36m2\u001b[0m,\n",
       "    \u001b[32m'appropriate'\u001b[0m: \u001b[1;36m2\u001b[0m,\n",
       "    \u001b[32m'3.'\u001b[0m: \u001b[1;36m2\u001b[0m,\n",
       "    \u001b[32m'support'\u001b[0m: \u001b[1;36m2\u001b[0m,\n",
       "    \u001b[32m'tubes'\u001b[0m: \u001b[1;36m2\u001b[0m,\n",
       "    \u001b[32m'described'\u001b[0m: \u001b[1;36m2\u001b[0m,\n",
       "    \u001b[32m'above.'\u001b[0m: \u001b[1;36m2\u001b[0m,\n",
       "    \u001b[32m'___,'\u001b[0m: \u001b[1;36m2\u001b[0m,\n",
       "    \u001b[32m'coursing'\u001b[0m: \u001b[1;36m2\u001b[0m,\n",
       "    \u001b[32m'mid'\u001b[0m: \u001b[1;36m2\u001b[0m,\n",
       "    \u001b[32m'level'\u001b[0m: \u001b[1;36m2\u001b[0m,\n",
       "    \u001b[32m'perihilar'\u001b[0m: \u001b[1;36m2\u001b[0m,\n",
       "    \u001b[32m'given'\u001b[0m: \u001b[1;36m2\u001b[0m,\n",
       "    \u001b[32m'exaggerate'\u001b[0m: \u001b[1;36m2\u001b[0m,\n",
       "    \u001b[32m'altered'\u001b[0m: \u001b[1;36m2\u001b[0m,\n",
       "    \u001b[32m'mental'\u001b[0m: \u001b[1;36m2\u001b[0m,\n",
       "    \u001b[32m'ends'\u001b[0m: \u001b[1;36m2\u001b[0m,\n",
       "    \u001b[32m'stomach.'\u001b[0m: \u001b[1;36m2\u001b[0m,\n",
       "    \u001b[32m'svc.'\u001b[0m: \u001b[1;36m2\u001b[0m,\n",
       "    \u001b[32m'consolidation.'\u001b[0m: \u001b[1;36m2\u001b[0m,\n",
       "    \u001b[32m'placement.'\u001b[0m: \u001b[1;36m2\u001b[0m,\n",
       "    \u001b[32m'low'\u001b[0m: \u001b[1;36m2\u001b[0m,\n",
       "    \u001b[32m'appears'\u001b[0m: \u001b[1;36m2\u001b[0m,\n",
       "    \u001b[32m'significant'\u001b[0m: \u001b[1;36m2\u001b[0m,\n",
       "    \u001b[32m'volume'\u001b[0m: \u001b[1;36m2\u001b[0m,\n",
       "    \u001b[32m'loss'\u001b[0m: \u001b[1;36m2\u001b[0m,\n",
       "    \u001b[32m'addendum'\u001b[0m: \u001b[1;36m2\u001b[0m,\n",
       "    \u001b[32m'___-year-old'\u001b[0m: \u001b[1;36m2\u001b[0m,\n",
       "    \u001b[32m'combination'\u001b[0m: \u001b[1;36m2\u001b[0m,\n",
       "    \u001b[32m'exam.'\u001b[0m: \u001b[1;36m2\u001b[0m,\n",
       "    \u001b[32m'placement'\u001b[0m: \u001b[1;36m2\u001b[0m,\n",
       "    \u001b[32m'left,'\u001b[0m: \u001b[1;36m2\u001b[0m,\n",
       "    \u001b[32m'pneumoperitoneum,'\u001b[0m: \u001b[1;36m2\u001b[0m,\n",
       "    \u001b[32m'gastrostomy'\u001b[0m: \u001b[1;36m2\u001b[0m,\n",
       "    \u001b[32m'increased'\u001b[0m: \u001b[1;36m2\u001b[0m,\n",
       "    \u001b[32m'border'\u001b[0m: \u001b[1;36m2\u001b[0m,\n",
       "    \u001b[32m'lung,'\u001b[0m: \u001b[1;36m2\u001b[0m,\n",
       "    \u001b[32m'obscuration'\u001b[0m: \u001b[1;36m2\u001b[0m,\n",
       "    \u001b[32m'vs'\u001b[0m: \u001b[1;36m2\u001b[0m,\n",
       "    \u001b[32m'pcnl,'\u001b[0m: \u001b[1;36m1\u001b[0m,\n",
       "    \u001b[32m'second'\u001b[0m: \u001b[1;36m1\u001b[0m,\n",
       "    \u001b[32m'stage'\u001b[0m: \u001b[1;36m1\u001b[0m,\n",
       "    \u001b[32m'pcnl'\u001b[0m: \u001b[1;36m1\u001b[0m,\n",
       "    \u001b[32m'assess'\u001b[0m: \u001b[1;36m1\u001b[0m,\n",
       "    \u001b[32m'recurrent'\u001b[0m: \u001b[1;36m1\u001b[0m,\n",
       "    \u001b[32m'effusion;'\u001b[0m: \u001b[1;36m1\u001b[0m,\n",
       "    \u001b[32m'seat'\u001b[0m: \u001b[1;36m1\u001b[0m,\n",
       "    \u001b[32m'patient'\u001b[0m: \u001b[1;36m1\u001b[0m,\n",
       "    \u001b[32m'view'\u001b[0m: \u001b[1;36m1\u001b[0m,\n",
       "    \u001b[32m'shallow'\u001b[0m: \u001b[1;36m1\u001b[0m,\n",
       "    \u001b[32m'inspiration'\u001b[0m: \u001b[1;36m1\u001b[0m,\n",
       "    \u001b[32m'accentuates'\u001b[0m: \u001b[1;36m1\u001b[0m,\n",
       "    \u001b[32m'pulmonary'\u001b[0m: \u001b[1;36m1\u001b[0m,\n",
       "    \u001b[32m'vascularity.'\u001b[0m: \u001b[1;36m1\u001b[0m,\n",
       "    \u001b[32m'tube.'\u001b[0m: \u001b[1;36m1\u001b[0m,\n",
       "    \u001b[32m'worsened'\u001b[0m: \u001b[1;36m1\u001b[0m,\n",
       "    \u001b[32m'come'\u001b[0m: \u001b[1;36m1\u001b[0m,\n",
       "    \u001b[32m'additional'\u001b[0m: \u001b[1;36m1\u001b[0m,\n",
       "    \u001b[32m'tubing'\u001b[0m: \u001b[1;36m1\u001b[0m,\n",
       "    \u001b[32m'projected'\u001b[0m: \u001b[1;36m1\u001b[0m,\n",
       "    \u001b[32m'quadrant.'\u001b[0m: \u001b[1;36m1\u001b[0m,\n",
       "    \u001b[32m'worsened.'\u001b[0m: \u001b[1;36m1\u001b[0m,\n",
       "    \u001b[32m'silhouette'\u001b[0m: \u001b[1;36m1\u001b[0m,\n",
       "    \u001b[32m'size'\u001b[0m: \u001b[1;36m1\u001b[0m,\n",
       "    \u001b[32m'normal.'\u001b[0m: \u001b[1;36m1\u001b[0m,\n",
       "    \u001b[32m'contour'\u001b[0m: \u001b[1;36m1\u001b[0m,\n",
       "    \u001b[32m'atherosclerotic'\u001b[0m: \u001b[1;36m1\u001b[0m,\n",
       "    \u001b[32m'calcification'\u001b[0m: \u001b[1;36m1\u001b[0m,\n",
       "    \u001b[32m'noted'\u001b[0m: \u001b[1;36m1\u001b[0m,\n",
       "    \u001b[32m'aorta.'\u001b[0m: \u001b[1;36m1\u001b[0m,\n",
       "    \u001b[32m'position,'\u001b[0m: \u001b[1;36m1\u001b[0m,\n",
       "    \u001b[32m'pneumothorax'\u001b[0m: \u001b[1;36m1\u001b[0m,\n",
       "    \u001b[32m'demonstrated.'\u001b[0m: \u001b[1;36m1\u001b[0m,\n",
       "    \u001b[32m'streaky'\u001b[0m: \u001b[1;36m1\u001b[0m,\n",
       "    \u001b[32m'bases,'\u001b[0m: \u001b[1;36m1\u001b[0m,\n",
       "    \u001b[32m'pronounced'\u001b[0m: \u001b[1;36m1\u001b[0m,\n",
       "    \u001b[32m'reflect'\u001b[0m: \u001b[1;36m1\u001b[0m,\n",
       "    \u001b[32m'cephalization'\u001b[0m: \u001b[1;36m1\u001b[0m,\n",
       "    \u001b[32m'vasculature.'\u001b[0m: \u001b[1;36m1\u001b[0m,\n",
       "    \u001b[32m'congestion.'\u001b[0m: \u001b[1;36m1\u001b[0m,\n",
       "    \u001b[32m'1:31'\u001b[0m: \u001b[1;36m1\u001b[0m,\n",
       "    \u001b[32m'setting.'\u001b[0m: \u001b[1;36m1\u001b[0m,\n",
       "    \u001b[32m'______________________________________________________________________________'\u001b[0m: \u001b[1;36m1\u001b[0m,\n",
       "    \u001b[32m'___f'\u001b[0m: \u001b[1;36m1\u001b[0m,\n",
       "    \u001b[32m'intubation.'\u001b[0m: \u001b[1;36m1\u001b[0m,\n",
       "    \u001b[32m'supine'\u001b[0m: \u001b[1;36m1\u001b[0m,\n",
       "    \u001b[32m'radiograph.'\u001b[0m: \u001b[1;36m1\u001b[0m,\n",
       "    \u001b[32m'feeding'\u001b[0m: \u001b[1;36m1\u001b[0m,\n",
       "    \u001b[32m'field'\u001b[0m: \u001b[1;36m1\u001b[0m,\n",
       "    \u001b[32m'view.'\u001b[0m: \u001b[1;36m1\u001b[0m,\n",
       "    \u001b[32m'clavicles,'\u001b[0m: \u001b[1;36m1\u001b[0m,\n",
       "    \u001b[32m'1.9'\u001b[0m: \u001b[1;36m1\u001b[0m,\n",
       "    \u001b[32m'carina'\u001b[0m: \u001b[1;36m1\u001b[0m,\n",
       "    \u001b[32m'intact'\u001b[0m: \u001b[1;36m1\u001b[0m,\n",
       "    \u001b[32m'wires.'\u001b[0m: \u001b[1;36m1\u001b[0m,\n",
       "    \u001b[32m'interstitial'\u001b[0m: \u001b[1;36m1\u001b[0m,\n",
       "    \u001b[32m'cephalization.'\u001b[0m: \u001b[1;36m1\u001b[0m,\n",
       "    \u001b[32m'heterogeneous'\u001b[0m: \u001b[1;36m1\u001b[0m,\n",
       "    \u001b[32m'opacity.'\u001b[0m: \u001b[1;36m1\u001b[0m,\n",
       "    \u001b[32m'contour,'\u001b[0m: \u001b[1;36m1\u001b[0m,\n",
       "    \u001b[32m'hila'\u001b[0m: \u001b[1;36m1\u001b[0m,\n",
       "    \u001b[32m'probable'\u001b[0m: \u001b[1;36m1\u001b[0m,\n",
       "    \u001b[32m'cough.'\u001b[0m: \u001b[1;36m1\u001b[0m,\n",
       "    \u001b[32m'origin'\u001b[0m: \u001b[1;36m1\u001b[0m,\n",
       "    \u001b[32m'mare'\u001b[0m: \u001b[1;36m1\u001b[0m,\n",
       "    \u001b[32m'apex'\u001b[0m: \u001b[1;36m1\u001b[0m,\n",
       "    \u001b[32m'suggests'\u001b[0m: \u001b[1;36m1\u001b[0m,\n",
       "    \u001b[32m'subpulmonic'\u001b[0m: \u001b[1;36m1\u001b[0m,\n",
       "    \u001b[32m'increase'\u001b[0m: \u001b[1;36m1\u001b[0m,\n",
       "    \u001b[32m'epilepticus,'\u001b[0m: \u001b[1;36m1\u001b[0m,\n",
       "    \u001b[32m'intubated.'\u001b[0m: \u001b[1;36m1\u001b[0m,\n",
       "    \u001b[32m'volumes'\u001b[0m: \u001b[1;36m1\u001b[0m,\n",
       "    \u001b[32m'difficult'\u001b[0m: \u001b[1;36m1\u001b[0m,\n",
       "    \u001b[32m'reliably'\u001b[0m: \u001b[1;36m1\u001b[0m,\n",
       "    \u001b[32m'discern,'\u001b[0m: \u001b[1;36m1\u001b[0m,\n",
       "    \u001b[32m'probably'\u001b[0m: \u001b[1;36m1\u001b[0m,\n",
       "    \u001b[32m'hemi'\u001b[0m: \u001b[1;36m1\u001b[0m,\n",
       "    \u001b[32m'platelike'\u001b[0m: \u001b[1;36m1\u001b[0m,\n",
       "    \u001b[32m'lingular'\u001b[0m: \u001b[1;36m1\u001b[0m,\n",
       "    \u001b[32m'assess.'\u001b[0m: \u001b[1;36m1\u001b[0m,\n",
       "    \u001b[32m'looped'\u001b[0m: \u001b[1;36m1\u001b[0m,\n",
       "    \u001b[32m'right-sided'\u001b[0m: \u001b[1;36m1\u001b[0m,\n",
       "    \u001b[32m'positioning'\u001b[0m: \u001b[1;36m1\u001b[0m,\n",
       "    \u001b[32m'ett.'\u001b[0m: \u001b[1;36m1\u001b[0m,\n",
       "    \u001b[32m'volumes.'\u001b[0m: \u001b[1;36m1\u001b[0m,\n",
       "    \u001b[32m'thorax,'\u001b[0m: \u001b[1;36m1\u001b[0m,\n",
       "    \u001b[32m'collapse'\u001b[0m: \u001b[1;36m1\u001b[0m,\n",
       "    \u001b[32m'middle'\u001b[0m: \u001b[1;36m1\u001b[0m,\n",
       "    \u001b[32m'context,'\u001b[0m: \u001b[1;36m1\u001b[0m,\n",
       "    \u001b[32m'evaluation'\u001b[0m: \u001b[1;36m1\u001b[0m,\n",
       "    \u001b[32m'difficult.'\u001b[0m: \u001b[1;36m1\u001b[0m,\n",
       "    \u001b[32m'request'\u001b[0m: \u001b[1;36m1\u001b[0m,\n",
       "    \u001b[32m'attempt'\u001b[0m: \u001b[1;36m1\u001b[0m,\n",
       "    \u001b[32m'location'\u001b[0m: \u001b[1;36m1\u001b[0m,\n",
       "    \u001b[32m'catheter.'\u001b[0m: \u001b[1;36m1\u001b[0m,\n",
       "    \u001b[32m'review,'\u001b[0m: \u001b[1;36m1\u001b[0m,\n",
       "    \u001b[32m'catheter'\u001b[0m: \u001b[1;36m1\u001b[0m,\n",
       "    \u001b[32m'best'\u001b[0m: \u001b[1;36m1\u001b[0m,\n",
       "    \u001b[32m'view,'\u001b[0m: \u001b[1;36m1\u001b[0m,\n",
       "    \u001b[32m'confirmed'\u001b[0m: \u001b[1;36m1\u001b[0m,\n",
       "    \u001b[32m'female'\u001b[0m: \u001b[1;36m1\u001b[0m,\n",
       "    \u001b[32m'pain.'\u001b[0m: \u001b[1;36m1\u001b[0m,\n",
       "    \u001b[32m'prior,'\u001b[0m: \u001b[1;36m1\u001b[0m,\n",
       "    \u001b[32m'dense'\u001b[0m: \u001b[1;36m1\u001b[0m,\n",
       "    \u001b[32m'obscuring'\u001b[0m: \u001b[1;36m1\u001b[0m,\n",
       "    \u001b[32m'consolidation,'\u001b[0m: \u001b[1;36m1\u001b[0m,\n",
       "    \u001b[32m'hiatal'\u001b[0m: \u001b[1;36m1\u001b[0m,\n",
       "    \u001b[32m'hernia'\u001b[0m: \u001b[1;36m1\u001b[0m,\n",
       "    \u001b[32m'suspected.'\u001b[0m: \u001b[1;36m1\u001b[0m,\n",
       "    \u001b[32m'2'\u001b[0m: \u001b[1;36m1\u001b[0m,\n",
       "    \u001b[32m'separate'\u001b[0m: \u001b[1;36m1\u001b[0m,\n",
       "    \u001b[32m'subclavian'\u001b[0m: \u001b[1;36m1\u001b[0m,\n",
       "    \u001b[32m'identified'\u001b[0m: \u001b[1;36m1\u001b[0m,\n",
       "    \u001b[32m'larger'\u001b[0m: \u001b[1;36m1\u001b[0m,\n",
       "    \u001b[32m'terminating'\u001b[0m: \u001b[1;36m1\u001b[0m,\n",
       "    \u001b[32m'smaller'\u001b[0m: \u001b[1;36m1\u001b[0m,\n",
       "    \u001b[32m'clearly'\u001b[0m: \u001b[1;36m1\u001b[0m,\n",
       "    \u001b[32m'delineated'\u001b[0m: \u001b[1;36m1\u001b[0m,\n",
       "    \u001b[32m'current'\u001b[0m: \u001b[1;36m1\u001b[0m,\n",
       "    \u001b[32m'degenerative'\u001b[0m: \u001b[1;36m1\u001b[0m,\n",
       "    \u001b[32m'changes'\u001b[0m: \u001b[1;36m1\u001b[0m,\n",
       "    \u001b[32m'spine'\u001b[0m: \u001b[1;36m1\u001b[0m,\n",
       "    \u001b[32m'abnormality.'\u001b[0m: \u001b[1;36m1\u001b[0m,\n",
       "    \u001b[32m'previous'\u001b[0m: \u001b[1;36m1\u001b[0m,\n",
       "    \u001b[32m'exam'\u001b[0m: \u001b[1;36m1\u001b[0m,\n",
       "    \u001b[32m'male'\u001b[0m: \u001b[1;36m1\u001b[0m,\n",
       "    \u001b[32m'alcoholic'\u001b[0m: \u001b[1;36m1\u001b[0m,\n",
       "    \u001b[32m'pancreatitis,'\u001b[0m: \u001b[1;36m1\u001b[0m,\n",
       "    \u001b[32m'pseudocyst,'\u001b[0m: \u001b[1;36m1\u001b[0m,\n",
       "    \u001b[32m'biliary'\u001b[0m: \u001b[1;36m1\u001b[0m,\n",
       "    \u001b[32m'stricture'\u001b[0m: \u001b[1;36m1\u001b[0m,\n",
       "    \u001b[32m'stent'\u001b[0m: \u001b[1;36m1\u001b[0m,\n",
       "    \u001b[32m'liver'\u001b[0m: \u001b[1;36m1\u001b[0m,\n",
       "    \u001b[32m'abscess'\u001b[0m: \u001b[1;36m1\u001b[0m,\n",
       "    \u001b[32m'comparisons:'\u001b[0m: \u001b[1;36m1\u001b[0m,\n",
       "    \u001b[32m'multiple'\u001b[0m: \u001b[1;36m1\u001b[0m,\n",
       "    \u001b[32m'studies,'\u001b[0m: \u001b[1;36m1\u001b[0m,\n",
       "    \u001b[32m'recently'\u001b[0m: \u001b[1;36m1\u001b[0m,\n",
       "    \u001b[32m'retraction'\u001b[0m: \u001b[1;36m1\u001b[0m,\n",
       "    \u001b[32m'3.5'\u001b[0m: \u001b[1;36m1\u001b[0m,\n",
       "    \u001b[32m'cm.'\u001b[0m: \u001b[1;36m1\u001b[0m,\n",
       "    \u001b[32m'edema,'\u001b[0m: \u001b[1;36m1\u001b[0m,\n",
       "    \u001b[32m'pneumothroax.'\u001b[0m: \u001b[1;36m1\u001b[0m,\n",
       "    \u001b[32m'enlarged.'\u001b[0m: \u001b[1;36m1\u001b[0m,\n",
       "    \u001b[32m'imaged'\u001b[0m: \u001b[1;36m1\u001b[0m,\n",
       "    \u001b[32m'bones'\u001b[0m: \u001b[1;36m1\u001b[0m,\n",
       "    \u001b[32m'opacities,right'\u001b[0m: \u001b[1;36m1\u001b[0m,\n",
       "    \u001b[32m'respiratory'\u001b[0m: \u001b[1;36m1\u001b[0m,\n",
       "    \u001b[32m'distress.'\u001b[0m: \u001b[1;36m1\u001b[0m,\n",
       "    \u001b[32m'gastrostomy.'\u001b[0m: \u001b[1;36m1\u001b[0m,\n",
       "    \u001b[32m'presumably'\u001b[0m: \u001b[1;36m1\u001b[0m,\n",
       "    \u001b[32m'opacification'\u001b[0m: \u001b[1;36m1\u001b[0m,\n",
       "    \u001b[32m'opacification,'\u001b[0m: \u001b[1;36m1\u001b[0m,\n",
       "    \u001b[32m'related'\u001b[0m: \u001b[1;36m1\u001b[0m,\n",
       "    \u001b[32m'however,'\u001b[0m: \u001b[1;36m1\u001b[0m,\n",
       "    \u001b[32m'persistence'\u001b[0m: \u001b[1;36m1\u001b[0m,\n",
       "    \u001b[32m'raises'\u001b[0m: \u001b[1;36m1\u001b[0m,\n",
       "    \u001b[32m'question'\u001b[0m: \u001b[1;36m1\u001b[0m,\n",
       "    \u001b[32m'leak.'\u001b[0m: \u001b[1;36m1\u001b[0m,\n",
       "    \u001b[32m'\u001b[0m\u001b[32m(\u001b[0m\u001b[32mvascular'\u001b[0m: \u001b[1;36m1\u001b[0m,\n",
       "    \u001b[32m'surgery\u001b[0m\u001b[32m)\u001b[0m\u001b[32m'\u001b[0m: \u001b[1;36m1\u001b[0m,\n",
       "    \u001b[32m'phone'\u001b[0m: \u001b[1;36m1\u001b[0m,\n",
       "    \u001b[32m'12:19'\u001b[0m: \u001b[1;36m1\u001b[0m,\n",
       "    \u001b[32m'p.m.'\u001b[0m: \u001b[1;36m1\u001b[0m,\n",
       "    \u001b[32m'status,'\u001b[0m: \u001b[1;36m1\u001b[0m,\n",
       "    \u001b[32m'hypoxemia.'\u001b[0m: \u001b[1;36m1\u001b[0m,\n",
       "    \u001b[32m'copd/'\u001b[0m: \u001b[1;36m1\u001b[0m,\n",
       "    \u001b[32m'semi'\u001b[0m: \u001b[1;36m1\u001b[0m,\n",
       "    \u001b[32m'et'\u001b[0m: \u001b[1;36m1\u001b[0m,\n",
       "    \u001b[32m'approximately'\u001b[0m: \u001b[1;36m1\u001b[0m,\n",
       "    \u001b[32m'7'\u001b[0m: \u001b[1;36m1\u001b[0m,\n",
       "    \u001b[32m'hemithorax'\u001b[0m: \u001b[1;36m1\u001b[0m,\n",
       "    \u001b[32m'near'\u001b[0m: \u001b[1;36m1\u001b[0m,\n",
       "    \u001b[32m'midline,'\u001b[0m: \u001b[1;36m1\u001b[0m,\n",
       "    \u001b[32m'film.'\u001b[0m: \u001b[1;36m1\u001b[0m,\n",
       "    \u001b[32m'cardiomegaly'\u001b[0m: \u001b[1;36m1\u001b[0m,\n",
       "    \u001b[32m'structures,'\u001b[0m: \u001b[1;36m1\u001b[0m,\n",
       "    \u001b[32m'tortuosity'\u001b[0m: \u001b[1;36m1\u001b[0m,\n",
       "    \u001b[32m'aorta,'\u001b[0m: \u001b[1;36m1\u001b[0m,\n",
       "    \u001b[32m'new.'\u001b[0m: \u001b[1;36m1\u001b[0m,\n",
       "    \u001b[32m'note'\u001b[0m: \u001b[1;36m1\u001b[0m,\n",
       "    \u001b[32m'retrocardiac'\u001b[0m: \u001b[1;36m1\u001b[0m,\n",
       "    \u001b[32m'excluded.'\u001b[0m: \u001b[1;36m1\u001b[0m,\n",
       "    \u001b[32m'upright'\u001b[0m: \u001b[1;36m0\u001b[0m,\n",
       "    \u001b[32m'atelectasis.'\u001b[0m: \u001b[1;36m0\u001b[0m,\n",
       "    \u001b[32m'upper'\u001b[0m: \u001b[1;36m0\u001b[0m,\n",
       "    \u001b[32m'ct'\u001b[0m: \u001b[1;36m0\u001b[0m,\n",
       "    \u001b[32m'unchanged'\u001b[0m: \u001b[1;36m0\u001b[0m,\n",
       "    \u001b[32m'similar'\u001b[0m: \u001b[1;36m0\u001b[0m,\n",
       "    \u001b[32m'large'\u001b[0m: \u001b[1;36m0\u001b[0m,\n",
       "    \u001b[32m'place.'\u001b[0m: \u001b[1;36m0\u001b[0m,\n",
       "    \u001b[32m'wet'\u001b[0m: \u001b[1;36m0\u001b[0m,\n",
       "    \u001b[32m'read:'\u001b[0m: \u001b[1;36m0\u001b[0m,\n",
       "    \u001b[32m'trace'\u001b[0m: \u001b[1;36m0\u001b[0m,\n",
       "    \u001b[32m'excluded'\u001b[0m: \u001b[1;36m0\u001b[0m,\n",
       "    \u001b[32m'endotracheal'\u001b[0m: \u001b[1;36m0\u001b[0m,\n",
       "    \u001b[32m'seen'\u001b[0m: \u001b[1;36m0\u001b[0m,\n",
       "    \u001b[32m'line'\u001b[0m: \u001b[1;36m0\u001b[0m,\n",
       "    \u001b[32m'cm'\u001b[0m: \u001b[1;36m0\u001b[0m,\n",
       "    \u001b[32m'sternotomy'\u001b[0m: \u001b[1;36m0\u001b[0m,\n",
       "    \u001b[32m'prominence'\u001b[0m: \u001b[1;36m0\u001b[0m,\n",
       "    \u001b[32m'consistent'\u001b[0m: \u001b[1;36m0\u001b[0m,\n",
       "    \u001b[32m'crowding'\u001b[0m: \u001b[1;36m0\u001b[0m,\n",
       "    \u001b[32m'stable'\u001b[0m: \u001b[1;36m0\u001b[0m,\n",
       "    \u001b[32m'unchanged.'\u001b[0m: \u001b[1;36m0\u001b[0m,\n",
       "    \u001b[32m'lateral'\u001b[0m: \u001b[1;36m0\u001b[0m,\n",
       "    \u001b[32m'none.'\u001b[0m: \u001b[1;36m0\u001b[0m,\n",
       "    \u001b[32m'prominent'\u001b[0m: \u001b[1;36m0\u001b[0m,\n",
       "    \u001b[32m'top-normal.'\u001b[0m: \u001b[1;36m0\u001b[0m,\n",
       "    \u001b[32m'thorax.'\u001b[0m: \u001b[1;36m0\u001b[0m,\n",
       "    \u001b[32m'base'\u001b[0m: \u001b[1;36m0\u001b[0m,\n",
       "    \u001b[32m'distal'\u001b[0m: \u001b[1;36m0\u001b[0m,\n",
       "    \u001b[32m'views'\u001b[0m: \u001b[1;36m0\u001b[0m,\n",
       "    \u001b[32m'consolidation'\u001b[0m: \u001b[1;36m0\u001b[0m,\n",
       "    \u001b[32m'drain'\u001b[0m: \u001b[1;36m0\u001b[0m,\n",
       "    \u001b[32m'prior'\u001b[0m: \u001b[1;36m0\u001b[0m,\n",
       "    \u001b[32m'pa'\u001b[0m: \u001b[1;36m0\u001b[0m,\n",
       "    \u001b[32m'provided.'\u001b[0m: \u001b[1;36m0\u001b[0m,\n",
       "    \u001b[32m'cardiomediastinal'\u001b[0m: \u001b[1;36m0\u001b[0m,\n",
       "    \u001b[32m'abdomen'\u001b[0m: \u001b[1;36m0\u001b[0m,\n",
       "    \u001b[32m'intact.'\u001b[0m: \u001b[1;36m0\u001b[0m,\n",
       "    \u001b[32m'tracheostomy'\u001b[0m: \u001b[1;36m0\u001b[0m,\n",
       "    \u001b[32m'discussed'\u001b[0m: \u001b[1;36m0\u001b[0m,\n",
       "    \u001b[32m'dr.'\u001b[0m: \u001b[1;36m0\u001b[0m,\n",
       "    \u001b[32m'history'\u001b[0m: \u001b[1;36m0\u001b[0m,\n",
       "    \u001b[32m'infiltrate.'\u001b[0m: \u001b[1;36m0\u001b[0m,\n",
       "    \u001b[32m'overall'\u001b[0m: \u001b[1;36m0\u001b[0m,\n",
       "    \u001b[32m'aside'\u001b[0m: \u001b[1;36m0\u001b[0m,\n",
       "    \u001b[32m'effusions'\u001b[0m: \u001b[1;36m0\u001b[0m,\n",
       "    \u001b[32m'hemidiaphragm,'\u001b[0m: \u001b[1;36m0\u001b[0m,\n",
       "    \u001b[32m'chf,'\u001b[0m: \u001b[1;36m0\u001b[0m,\n",
       "    \u001b[32m'pna,'\u001b[0m: \u001b[1;36m0\u001b[0m,\n",
       "    \u001b[32m'lbs'\u001b[0m: \u001b[1;36m0\u001b[0m,\n",
       "    \u001b[32m'dry'\u001b[0m: \u001b[1;36m0\u001b[0m,\n",
       "    \u001b[32m'wt'\u001b[0m: \u001b[1;36m0\u001b[0m,\n",
       "    \u001b[32m'?volume'\u001b[0m: \u001b[1;36m0\u001b[0m,\n",
       "    \u001b[32m'overload'\u001b[0m: \u001b[1;36m0\u001b[0m,\n",
       "    \u001b[32m'results'\u001b[0m: \u001b[1;36m0\u001b[0m,\n",
       "    \u001b[32m'crowding.'\u001b[0m: \u001b[1;36m0\u001b[0m,\n",
       "    \u001b[32m'continued'\u001b[0m: \u001b[1;36m0\u001b[0m,\n",
       "    \u001b[32m'improvement'\u001b[0m: \u001b[1;36m0\u001b[0m,\n",
       "    \u001b[32m'pneumonia.'\u001b[0m: \u001b[1;36m0\u001b[0m,\n",
       "    \u001b[32m'represent'\u001b[0m: \u001b[1;36m0\u001b[0m,\n",
       "    \u001b[32m'considered'\u001b[0m: \u001b[1;36m0\u001b[0m,\n",
       "    \u001b[32m'granuloma'\u001b[0m: \u001b[1;36m0\u001b[0m,\n",
       "    \u001b[32m'possible'\u001b[0m: \u001b[1;36m-1\u001b[0m,\n",
       "    \u001b[32m'pneumothorax.'\u001b[0m: \u001b[1;36m-1\u001b[0m,\n",
       "    \u001b[32m'lung'\u001b[0m: \u001b[1;36m-1\u001b[0m,\n",
       "    \u001b[32m'clear.'\u001b[0m: \u001b[1;36m-1\u001b[0m,\n",
       "    \u001b[32m'ap'\u001b[0m: \u001b[1;36m-1\u001b[0m,\n",
       "    \u001b[32m'mediastinal'\u001b[0m: \u001b[1;36m-1\u001b[0m,\n",
       "    \u001b[32m'appearance'\u001b[0m: \u001b[1;36m-1\u001b[0m,\n",
       "    \u001b[32m'bilateral'\u001b[0m: \u001b[1;36m-1\u001b[0m,\n",
       "    \u001b[32m'adjacent'\u001b[0m: \u001b[1;36m-1\u001b[0m,\n",
       "    \u001b[32m'possibly'\u001b[0m: \u001b[1;36m-1\u001b[0m,\n",
       "    \u001b[32m'evaluate'\u001b[0m: \u001b[1;36m-1\u001b[0m,\n",
       "    \u001b[32m'acute'\u001b[0m: \u001b[1;36m-1\u001b[0m,\n",
       "    \u001b[32m'radiographs'\u001b[0m: \u001b[1;36m-1\u001b[0m,\n",
       "    \u001b[32m'terminates'\u001b[0m: \u001b[1;36m-1\u001b[0m,\n",
       "    \u001b[32m'recommend'\u001b[0m: \u001b[1;36m-1\u001b[0m,\n",
       "    \u001b[32m'opacities,'\u001b[0m: \u001b[1;36m-1\u001b[0m,\n",
       "    \u001b[32m'stable.'\u001b[0m: \u001b[1;36m-1\u001b[0m,\n",
       "    \u001b[32m'carina.'\u001b[0m: \u001b[1;36m-1\u001b[0m,\n",
       "    \u001b[32m'compared'\u001b[0m: \u001b[1;36m-1\u001b[0m,\n",
       "    \u001b[32m'hilar'\u001b[0m: \u001b[1;36m-1\u001b[0m,\n",
       "    \u001b[32m'contours'\u001b[0m: \u001b[1;36m-1\u001b[0m,\n",
       "    \u001b[32m'evidence'\u001b[0m: \u001b[1;36m-1\u001b[0m,\n",
       "    \u001b[32m'aspiration'\u001b[0m: \u001b[1;36m-1\u001b[0m,\n",
       "    \u001b[32m'worsening'\u001b[0m: \u001b[1;36m-1\u001b[0m,\n",
       "    \u001b[32m'x-ray.'\u001b[0m: \u001b[1;36m-1\u001b[0m,\n",
       "    \u001b[32m'demonstrates'\u001b[0m: \u001b[1;36m-1\u001b[0m,\n",
       "    \u001b[32m'bronchovascular'\u001b[0m: \u001b[1;36m-1\u001b[0m,\n",
       "    \u001b[32m'left-sided'\u001b[0m: \u001b[1;36m-1\u001b[0m,\n",
       "    \u001b[32m'overt'\u001b[0m: \u001b[1;36m-1\u001b[0m,\n",
       "    \u001b[32m'cardiac'\u001b[0m: \u001b[1;36m-2\u001b[0m,\n",
       "    \u001b[32m'opacities'\u001b[0m: \u001b[1;36m-2\u001b[0m,\n",
       "    \u001b[32m'clinical'\u001b[0m: \u001b[1;36m-2\u001b[0m,\n",
       "    \u001b[32m'moderate'\u001b[0m: \u001b[1;36m-2\u001b[0m,\n",
       "    \u001b[32m'man'\u001b[0m: \u001b[1;36m-2\u001b[0m,\n",
       "    \u001b[32m'dated'\u001b[0m: \u001b[1;36m-2\u001b[0m,\n",
       "    \u001b[32m'edema.'\u001b[0m: \u001b[1;36m-2\u001b[0m,\n",
       "    \u001b[32m'\u001b[0m\u001b[32m(\u001b[0m\u001b[32mportable'\u001b[0m: \u001b[1;36m-3\u001b[0m,\n",
       "    \u001b[32m'ap\u001b[0m\u001b[32m)\u001b[0m\u001b[32m'\u001b[0m: \u001b[1;36m-3\u001b[0m,\n",
       "    \u001b[32m'woman'\u001b[0m: \u001b[1;36m-3\u001b[0m,\n",
       "    \u001b[32m'single'\u001b[0m: \u001b[1;36m-3\u001b[0m,\n",
       "    \u001b[32m'right'\u001b[0m: \u001b[1;36m-3\u001b[0m,\n",
       "    \u001b[32m'opacity'\u001b[0m: \u001b[1;36m-3\u001b[0m,\n",
       "    \u001b[32m's/p'\u001b[0m: \u001b[1;36m-4\u001b[0m,\n",
       "    \u001b[32m'portable'\u001b[0m: \u001b[1;36m-4\u001b[0m,\n",
       "    \u001b[32m'year'\u001b[0m: \u001b[1;36m-5\u001b[0m,\n",
       "    \u001b[32m'old'\u001b[0m: \u001b[1;36m-5\u001b[0m,\n",
       "    \u001b[32m'effusion'\u001b[0m: \u001b[1;36m-6\u001b[0m,\n",
       "    \u001b[32m'interval'\u001b[0m: \u001b[1;36m-9\u001b[0m\n",
       "\u001b[1m}\u001b[0m\n"
      ]
     },
     "metadata": {},
     "output_type": "display_data"
    }
   ],
   "source": [
    "counts = {}\n",
    "for word in attr_words:\n",
    "    c = attr_words[word]\n",
    "    if(word in ref_words): c -= ref_words[word]\n",
    "    counts[word] = c\n",
    "print({k: v for k, v in sorted(counts.items(), key=lambda item: -item[1])})"
   ]
  },
  {
   "cell_type": "code",
   "execution_count": null,
   "id": "61fbf568-3840-4995-be02-8f558561b3d2",
   "metadata": {},
   "outputs": [],
   "source": [
    "keys = words_dp.lz[(-scores).argsort()[:10]]['key']\n",
    "all_re_words = []\n",
    "for key in keys:\n",
    "    path = f'p{key[0][:2]}/p{key[0]}/s{key[1]}.txt'\n",
    "    report_path = os.path.join('/home/common/datasets/mimic/mimic-cxr-reports/files/', path)\n",
    "    report = ''\n",
    "    with open(report_path) as f:\n",
    "        for line in f.readlines():\n",
    "            report+=line.strip().lower()+' '\n",
    "    doc = nlp(report)\n",
    "    #print(doc)\n",
    "    words = [str(x) for x in doc.ents]\n",
    "    #print(words)\n",
    "    linker = nlp.get_pipe(\"scispacy_linker\")\n",
    "    ent_names = []\n",
    "    for ent in doc.ents:\n",
    "        if(ent in STOP_WORDS or ent in MED_STOP_WORDS): continue\n",
    "        for umls_ent in ent._.kb_ents:\n",
    "            a = linker.kb.cui_to_entity[umls_ent[0]]\n",
    "            ent_names.append(a[1])\n",
    "            break\n",
    "    #print(ent_names)\n",
    "    for word in ent_names:\n",
    "        all_re_words.append(word)\n",
    "    #all_re_words.extend(list(words))"
   ]
  },
  {
   "cell_type": "code",
   "execution_count": 81,
   "id": "963ab3a0-9d5e-4654-a209-69a414217a93",
   "metadata": {},
   "outputs": [
    {
     "data": {
      "text/plain": [
       "[('Comparison', 17),\n",
       " ('effusion', 16),\n",
       " ('Pleural effusion disorder', 15),\n",
       " ('No status change', 14),\n",
       " ('findings aspects', 10),\n",
       " ('Indication of (contextual qualifier)', 9),\n",
       " ('Clinical Research', 9),\n",
       " ('Cardiomegaly', 9),\n",
       " ('Pneumothorax', 8),\n",
       " ('Lung consolidation', 8),\n",
       " ('impression (attitude)', 7),\n",
       " ('Pulmonary Edema', 7),\n",
       " ('Bilateral', 7),\n",
       " ('year', 6),\n",
       " ('Congestive heart failure', 6),\n",
       " ('Post', 5),\n",
       " ('Sternotomy (procedure)', 5),\n",
       " ('Stable status', 5),\n",
       " ('Edema', 5),\n",
       " ('KAT5 wt Allele', 5)]"
      ]
     },
     "execution_count": 81,
     "metadata": {},
     "output_type": "execute_result"
    }
   ],
   "source": [
    "Counter(all_re_words).most_common(20)"
   ]
  },
  {
   "cell_type": "code",
   "execution_count": null,
   "id": "05a91901-2832-4f49-86d2-b69e4d78f668",
   "metadata": {},
   "outputs": [],
   "source": []
  }
 ],
 "metadata": {
  "kernelspec": {
   "display_name": "Python 3 (ipykernel)",
   "language": "python",
   "name": "python3"
  },
  "language_info": {
   "codemirror_mode": {
    "name": "ipython",
    "version": 3
   },
   "file_extension": ".py",
   "mimetype": "text/x-python",
   "name": "python",
   "nbconvert_exporter": "python",
   "pygments_lexer": "ipython3",
   "version": "3.8.10"
  }
 },
 "nbformat": 4,
 "nbformat_minor": 5
}
