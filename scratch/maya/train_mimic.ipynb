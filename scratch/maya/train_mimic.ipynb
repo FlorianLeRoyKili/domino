{
 "cells": [
  {
   "cell_type": "code",
   "execution_count": 1,
   "id": "752a7cfd-cf8b-4a6d-ab45-764d5eb318f6",
   "metadata": {},
   "outputs": [],
   "source": [
    "%load_ext autoreload\n",
    "%autoreload 2"
   ]
  },
  {
   "cell_type": "code",
   "execution_count": 2,
   "id": "febb53a2-b31c-47f8-a115-578106ddb7df",
   "metadata": {},
   "outputs": [],
   "source": [
    "import os\n",
    "import terra\n",
    "import meerkat as mk\n",
    "from domino.data.visual_genome import read_vg, ATTRIBUTE_GROUPS\n",
    "import numpy as np\n",
    "import pandas as pd\n",
    "from rich import print\n",
    "import sys\n",
    "sys.path.insert(1,'/pd/maya/domino/domino')"
   ]
  },
  {
   "cell_type": "code",
   "execution_count": 3,
   "id": "e9d901db-7495-4645-b80e-a01a0cd52539",
   "metadata": {},
   "outputs": [],
   "source": [
    "#for p in sys.path:\n",
    "#    print(p)"
   ]
  },
  {
   "cell_type": "markdown",
   "id": "30cec2ac-310b-474e-a556-8ccd8bb8739f",
   "metadata": {},
   "source": [
    "## MIMIC Slice Experiments"
   ]
  },
  {
   "cell_type": "markdown",
   "id": "9a2708d6-56a6-4aa2-a9b2-cc76fc1a2303",
   "metadata": {},
   "source": [
    "### Generate Slices"
   ]
  },
  {
   "cell_type": "code",
   "execution_count": 4,
   "id": "c3213982-9c3f-4f44-b00a-edd79db6ec2e",
   "metadata": {},
   "outputs": [],
   "source": [
    "import slices.mimic"
   ]
  },
  {
   "cell_type": "code",
   "execution_count": 5,
   "id": "5017b3c3-d142-4275-ab45-e1b479b9b06a",
   "metadata": {},
   "outputs": [],
   "source": [
    "dataset_dir = '/pd/maya/mimic_dp_adjusted_diagnoses.mk'"
   ]
  },
  {
   "cell_type": "code",
   "execution_count": 6,
   "id": "38828f30-ba41-467e-b706-c7972fa5b709",
   "metadata": {},
   "outputs": [],
   "source": [
    "target = 'lung_group'\n",
    "correlate = 'support_devices'"
   ]
  },
  {
   "cell_type": "code",
   "execution_count": 7,
   "id": "4bf7cdac-8e8c-4a49-ac47-c1109fafbec8",
   "metadata": {},
   "outputs": [
    {
     "data": {
      "text/plain": [
       "(9997, 66)"
      ]
     },
     "execution_count": 7,
     "metadata": {},
     "output_type": "execute_result"
    }
   ],
   "source": [
    "dp = slices.mimic.build_correlation_slice(target, correlate, 0.8, 1e4, dataset_dir)\n",
    "dp.shape"
   ]
  },
  {
   "cell_type": "code",
   "execution_count": 8,
   "id": "d811ed99-3133-46cb-968a-0167b8d2f960",
   "metadata": {},
   "outputs": [
    {
     "data": {
      "text/html": [
       "<pre style=\"white-space:pre;overflow-x:auto;line-height:normal;font-family:Menlo,'DejaVu Sans Mono',consolas,'Courier New',monospace\">target: <span style=\"color: #808000; text-decoration-color: #808000\">lung_group</span>==<span style=\"color: #008080; text-decoration-color: #008080; font-weight: bold\">1</span>: <span style=\"color: #008080; text-decoration-color: #008080; font-weight: bold\">2228</span>\n",
       "</pre>\n"
      ],
      "text/plain": [
       "target: \u001b[33mlung_group\u001b[0m==\u001b[1;36m1\u001b[0m: \u001b[1;36m2228\u001b[0m\n"
      ]
     },
     "metadata": {},
     "output_type": "display_data"
    },
    {
     "data": {
      "text/html": [
       "<pre style=\"white-space:pre;overflow-x:auto;line-height:normal;font-family:Menlo,'DejaVu Sans Mono',consolas,'Courier New',monospace\">correlate: <span style=\"color: #808000; text-decoration-color: #808000\">support_devices</span>==<span style=\"color: #008080; text-decoration-color: #008080; font-weight: bold\">1</span>: <span style=\"color: #008080; text-decoration-color: #008080; font-weight: bold\">2228</span>\n",
       "</pre>\n"
      ],
      "text/plain": [
       "correlate: \u001b[33msupport_devices\u001b[0m==\u001b[1;36m1\u001b[0m: \u001b[1;36m2228\u001b[0m\n"
      ]
     },
     "metadata": {},
     "output_type": "display_data"
    },
    {
     "data": {
      "text/html": [
       "<pre style=\"white-space:pre;overflow-x:auto;line-height:normal;font-family:Menlo,'DejaVu Sans Mono',consolas,'Courier New',monospace\"><span style=\"color: #808000; text-decoration-color: #808000\">lung_group</span>==<span style=\"color: #008080; text-decoration-color: #008080; font-weight: bold\">1</span> and <span style=\"color: #808000; text-decoration-color: #808000\">support_devices</span>==<span style=\"color: #008080; text-decoration-color: #008080; font-weight: bold\">1</span>: <span style=\"color: #008080; text-decoration-color: #008080; font-weight: bold\">1882</span>\n",
       "</pre>\n"
      ],
      "text/plain": [
       "\u001b[33mlung_group\u001b[0m==\u001b[1;36m1\u001b[0m and \u001b[33msupport_devices\u001b[0m==\u001b[1;36m1\u001b[0m: \u001b[1;36m1882\u001b[0m\n"
      ]
     },
     "metadata": {},
     "output_type": "display_data"
    },
    {
     "data": {
      "text/html": [
       "<pre style=\"white-space:pre;overflow-x:auto;line-height:normal;font-family:Menlo,'DejaVu Sans Mono',consolas,'Courier New',monospace\"><span style=\"color: #808000; text-decoration-color: #808000\">lung_group</span>==<span style=\"color: #008080; text-decoration-color: #008080; font-weight: bold\">0</span> and <span style=\"color: #808000; text-decoration-color: #808000\">support_devices</span>==<span style=\"color: #008080; text-decoration-color: #008080; font-weight: bold\">0</span>: <span style=\"color: #008080; text-decoration-color: #008080; font-weight: bold\">7423</span>\n",
       "</pre>\n"
      ],
      "text/plain": [
       "\u001b[33mlung_group\u001b[0m==\u001b[1;36m0\u001b[0m and \u001b[33msupport_devices\u001b[0m==\u001b[1;36m0\u001b[0m: \u001b[1;36m7423\u001b[0m\n"
      ]
     },
     "metadata": {},
     "output_type": "display_data"
    },
    {
     "data": {
      "text/html": [
       "<pre style=\"white-space:pre;overflow-x:auto;line-height:normal;font-family:Menlo,'DejaVu Sans Mono',consolas,'Courier New',monospace\"><span style=\"color: #808000; text-decoration-color: #808000\">lung_group</span>==<span style=\"color: #008080; text-decoration-color: #008080; font-weight: bold\">1</span> and <span style=\"color: #808000; text-decoration-color: #808000\">support_devices</span>==<span style=\"color: #008080; text-decoration-color: #008080; font-weight: bold\">0</span>: <span style=\"color: #008080; text-decoration-color: #008080; font-weight: bold\">346</span>\n",
       "</pre>\n"
      ],
      "text/plain": [
       "\u001b[33mlung_group\u001b[0m==\u001b[1;36m1\u001b[0m and \u001b[33msupport_devices\u001b[0m==\u001b[1;36m0\u001b[0m: \u001b[1;36m346\u001b[0m\n"
      ]
     },
     "metadata": {},
     "output_type": "display_data"
    },
    {
     "data": {
      "text/html": [
       "<pre style=\"white-space:pre;overflow-x:auto;line-height:normal;font-family:Menlo,'DejaVu Sans Mono',consolas,'Courier New',monospace\"><span style=\"color: #808000; text-decoration-color: #808000\">lung_group</span>==<span style=\"color: #008080; text-decoration-color: #008080; font-weight: bold\">0</span> and <span style=\"color: #808000; text-decoration-color: #808000\">support_devices</span>==<span style=\"color: #008080; text-decoration-color: #008080; font-weight: bold\">1</span>: <span style=\"color: #008080; text-decoration-color: #008080; font-weight: bold\">346</span>\n",
       "</pre>\n"
      ],
      "text/plain": [
       "\u001b[33mlung_group\u001b[0m==\u001b[1;36m0\u001b[0m and \u001b[33msupport_devices\u001b[0m==\u001b[1;36m1\u001b[0m: \u001b[1;36m346\u001b[0m\n"
      ]
     },
     "metadata": {},
     "output_type": "display_data"
    }
   ],
   "source": [
    "print('target: ' + target + f'==1: {np.sum(dp[target]==1)}')\n",
    "print('correlate: ' + correlate + f'==1: {np.sum(dp[correlate]==1)}')\n",
    "print(f'{target}==1 and {correlate}==1: {np.sum((dp[correlate]==1) & (dp[target]==1))}')\n",
    "print(f'{target}==0 and {correlate}==0: {np.sum((dp[correlate]==0) & (dp[target]==0))}')\n",
    "print(f'{target}==1 and {correlate}==0: {np.sum((dp[correlate]==0) & (dp[target]==1))}')\n",
    "print(f'{target}==0 and {correlate}==1: {np.sum((dp[correlate]==1) & (dp[target]==0))}')"
   ]
  },
  {
   "cell_type": "code",
   "execution_count": 9,
   "id": "250fa524-1f1b-4e6c-8952-8a81afb2f029",
   "metadata": {},
   "outputs": [],
   "source": [
    "import utils"
   ]
  },
  {
   "cell_type": "code",
   "execution_count": 10,
   "id": "80ef7f1d-4d85-428a-a944-c5d210553908",
   "metadata": {},
   "outputs": [
    {
     "name": "stdout",
     "output_type": "stream",
     "text": [
      "task: split_dp, run_id=11619\n"
     ]
    }
   ],
   "source": [
    "splits = utils.split_dp(dp, split_on=\"dicom_id\")"
   ]
  },
  {
   "cell_type": "code",
   "execution_count": 11,
   "id": "60dcb7db-f13b-4ee8-92a7-b3b4bf1dc024",
   "metadata": {},
   "outputs": [
    {
     "data": {
      "text/html": [
       "<table border=\"1\" class=\"dataframe\">\n",
       "  <thead>\n",
       "    <tr style=\"text-align: right;\">\n",
       "      <th></th>\n",
       "      <th>dicom_id (PandasSeriesColumn)</th>\n",
       "      <th>study_id (PandasSeriesColumn)</th>\n",
       "      <th>subject_id (PandasSeriesColumn)</th>\n",
       "      <th>dicom_path (PandasSeriesColumn)</th>\n",
       "      <th>gender (PandasSeriesColumn)</th>\n",
       "      <th>anchor_age (PandasSeriesColumn)</th>\n",
       "      <th>anchor_year (PandasSeriesColumn)</th>\n",
       "      <th>anchor_year_group (PandasSeriesColumn)</th>\n",
       "      <th>dod (PandasSeriesColumn)</th>\n",
       "      <th>dicom (PandasSeriesColumn)</th>\n",
       "      <th>study_date (PandasSeriesColumn)</th>\n",
       "      <th>image_type (PandasSeriesColumn)</th>\n",
       "      <th>table_type (PandasSeriesColumn)</th>\n",
       "      <th>distance_source_to_detector (PandasSeriesColumn)</th>\n",
       "      <th>distance_source_to_patient (PandasSeriesColumn)</th>\n",
       "      <th>exposure (PandasSeriesColumn)</th>\n",
       "      <th>exposure_time (PandasSeriesColumn)</th>\n",
       "      <th>x_ray_tube_current (PandasSeriesColumn)</th>\n",
       "      <th>field_of_view_rotation (PandasSeriesColumn)</th>\n",
       "      <th>field_of_view_origin (PandasSeriesColumn)</th>\n",
       "      <th>field_of_view_horizontal_flip (PandasSeriesColumn)</th>\n",
       "      <th>view_position (PandasSeriesColumn)</th>\n",
       "      <th>patient_orientation (PandasSeriesColumn)</th>\n",
       "      <th>burned_in_annotation (PandasSeriesColumn)</th>\n",
       "      <th>requesting_service (PandasSeriesColumn)</th>\n",
       "      <th>detector_primary_angle (PandasSeriesColumn)</th>\n",
       "      <th>detector_element_physical_size (PandasSeriesColumn)</th>\n",
       "      <th>report_path (PandasSeriesColumn)</th>\n",
       "      <th>hadm_id (PandasSeriesColumn)</th>\n",
       "      <th>admittime (PandasSeriesColumn)</th>\n",
       "      <th>dischtime (PandasSeriesColumn)</th>\n",
       "      <th>deathtime (PandasSeriesColumn)</th>\n",
       "      <th>admission_type (PandasSeriesColumn)</th>\n",
       "      <th>admission_location (PandasSeriesColumn)</th>\n",
       "      <th>discharge_location (PandasSeriesColumn)</th>\n",
       "      <th>insurance (PandasSeriesColumn)</th>\n",
       "      <th>language (PandasSeriesColumn)</th>\n",
       "      <th>marital_status (PandasSeriesColumn)</th>\n",
       "      <th>ethnicity (PandasSeriesColumn)</th>\n",
       "      <th>edregtime (PandasSeriesColumn)</th>\n",
       "      <th>edouttime (PandasSeriesColumn)</th>\n",
       "      <th>hospital_expire_flag (PandasSeriesColumn)</th>\n",
       "      <th>index (PandasSeriesColumn)</th>\n",
       "      <th>jpg_path (PandasSeriesColumn)</th>\n",
       "      <th>cxr_jpg (GCSImageColumn)</th>\n",
       "      <th>cxr_dicom (GCSImageColumn)</th>\n",
       "      <th>cxr_jpg_1024 (ImageColumn)</th>\n",
       "      <th>atelectasis (PandasSeriesColumn)</th>\n",
       "      <th>cardiomegaly (PandasSeriesColumn)</th>\n",
       "      <th>consolidation (PandasSeriesColumn)</th>\n",
       "      <th>edema (PandasSeriesColumn)</th>\n",
       "      <th>enlarged_cardiomediastinum (PandasSeriesColumn)</th>\n",
       "      <th>fracture (PandasSeriesColumn)</th>\n",
       "      <th>lung_lesion (PandasSeriesColumn)</th>\n",
       "      <th>lung_opacity (PandasSeriesColumn)</th>\n",
       "      <th>no_finding (PandasSeriesColumn)</th>\n",
       "      <th>pleural_effusion (PandasSeriesColumn)</th>\n",
       "      <th>pleural_other (PandasSeriesColumn)</th>\n",
       "      <th>pneumonia (PandasSeriesColumn)</th>\n",
       "      <th>pneumothorax (PandasSeriesColumn)</th>\n",
       "      <th>support_devices (PandasSeriesColumn)</th>\n",
       "      <th>finding_group (PandasSeriesColumn)</th>\n",
       "      <th>lung_group (PandasSeriesColumn)</th>\n",
       "      <th>pleural_group (PandasSeriesColumn)</th>\n",
       "      <th>cardio_group (PandasSeriesColumn)</th>\n",
       "      <th>split (PandasSeriesColumn)</th>\n",
       "    </tr>\n",
       "  </thead>\n",
       "  <tbody>\n",
       "    <tr>\n",
       "      <th>0</th>\n",
       "      <td>9b46f451-37a628e4-177ad98b-67e92d76-182948b4</td>\n",
       "      <td>58716053</td>\n",
       "      <td>12112188</td>\n",
       "      <td>files/p12/p12112188/s58716053/9b46f451-37a628e4-177ad98b-67e92d76-182948b4.dcm</td>\n",
       "      <td>F</td>\n",
       "      <td>53.0</td>\n",
       "      <td>2123.0</td>\n",
       "      <td>2011 - 2013</td>\n",
       "      <td>None</td>\n",
       "      <td>9b46f451-37a628e4-177ad98b-67e92d76-182948b4</td>\n",
       "      <td>21231020.0</td>\n",
       "      <td>['DERIVED', 'PRIMARY']</td>\n",
       "      <td>None</td>\n",
       "      <td>NaN</td>\n",
       "      <td>NaN</td>\n",
       "      <td>NaN</td>\n",
       "      <td>NaN</td>\n",
       "      <td>NaN</td>\n",
       "      <td>NaN</td>\n",
       "      <td>None</td>\n",
       "      <td>None</td>\n",
       "      <td>AP</td>\n",
       "      <td>['L', 'F']</td>\n",
       "      <td>YES</td>\n",
       "      <td>EU</td>\n",
       "      <td>NaN</td>\n",
       "      <td>['139', '139']</td>\n",
       "      <td>files/p12/p12112188/s58716053.txt</td>\n",
       "      <td>23296004.0</td>\n",
       "      <td>2123-10-19 22:28:00</td>\n",
       "      <td>2123-10-20 16:46:00</td>\n",
       "      <td>NaT</td>\n",
       "      <td>EU OBSERVATION</td>\n",
       "      <td>EMERGENCY ROOM</td>\n",
       "      <td>None</td>\n",
       "      <td>Other</td>\n",
       "      <td>ENGLISH</td>\n",
       "      <td>SINGLE</td>\n",
       "      <td>HISPANIC/LATINO</td>\n",
       "      <td>2123-10-19 21:38:00</td>\n",
       "      <td>2123-10-20 16:46:00</td>\n",
       "      <td>0.0</td>\n",
       "      <td>47417</td>\n",
       "      <td>files/p12/p12112188/s58716053/9b46f451-37a628e4-177ad98b-67e92d76-182948b4.jpg</td>\n",
       "      <td>LambdaCell</td>\n",
       "      <td>LambdaCell</td>\n",
       "      <td><img src=\"data:image/jpeg;base64,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\"></td>\n",
       "      <td>0</td>\n",
       "      <td>0</td>\n",
       "      <td>0</td>\n",
       "      <td>0</td>\n",
       "      <td>0</td>\n",
       "      <td>0</td>\n",
       "      <td>0</td>\n",
       "      <td>0</td>\n",
       "      <td>1</td>\n",
       "      <td>0</td>\n",
       "      <td>0</td>\n",
       "      <td>0</td>\n",
       "      <td>0</td>\n",
       "      <td>0</td>\n",
       "      <td>False</td>\n",
       "      <td>False</td>\n",
       "      <td>False</td>\n",
       "      <td>False</td>\n",
       "      <td>train</td>\n",
       "    </tr>\n",
       "    <tr>\n",
       "      <th>1</th>\n",
       "      <td>768f9611-a3d9379a-0c0c5cd1-44066ab8-371a5d27</td>\n",
       "      <td>52407270</td>\n",
       "      <td>16435274</td>\n",
       "      <td>files/p16/p16435274/s52407270/768f9611-a3d9379a-0c0c5cd1-44066ab8-371a5d27.dcm</td>\n",
       "      <td>F</td>\n",
       "      <td>21.0</td>\n",
       "      <td>2126.0</td>\n",
       "      <td>2011 - 2013</td>\n",
       "      <td>None</td>\n",
       "      <td>768f9611-a3d9379a-0c0c5cd1-44066ab8-371a5d27</td>\n",
       "      <td>21260526.0</td>\n",
       "      <td>['DERIVED', 'PRIMARY']</td>\n",
       "      <td>FIXED</td>\n",
       "      <td>1830.0</td>\n",
       "      <td>NaN</td>\n",
       "      <td>2.0</td>\n",
       "      <td>17.0</td>\n",
       "      <td>125.0</td>\n",
       "      <td>NaN</td>\n",
       "      <td>None</td>\n",
       "      <td>None</td>\n",
       "      <td>PA</td>\n",
       "      <td>['R', 'F']</td>\n",
       "      <td>NO</td>\n",
       "      <td>EU</td>\n",
       "      <td>NaN</td>\n",
       "      <td>['0.139', '0.139']</td>\n",
       "      <td>files/p16/p16435274/s52407270.txt</td>\n",
       "      <td>NaN</td>\n",
       "      <td>NaT</td>\n",
       "      <td>NaT</td>\n",
       "      <td>NaT</td>\n",
       "      <td>None</td>\n",
       "      <td>None</td>\n",
       "      <td>None</td>\n",
       "      <td>None</td>\n",
       "      <td>None</td>\n",
       "      <td>None</td>\n",
       "      <td>None</td>\n",
       "      <td>NaT</td>\n",
       "      <td>NaT</td>\n",
       "      <td>NaN</td>\n",
       "      <td>128609</td>\n",
       "      <td>files/p16/p16435274/s52407270/768f9611-a3d9379a-0c0c5cd1-44066ab8-371a5d27.jpg</td>\n",
       "      <td>LambdaCell</td>\n",
       "      <td>LambdaCell</td>\n",
       "      <td><img src=\"data:image/jpeg;base64,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\"></td>\n",
       "      <td>0</td>\n",
       "      <td>0</td>\n",
       "      <td>0</td>\n",
       "      <td>0</td>\n",
       "      <td>0</td>\n",
       "      <td>0</td>\n",
       "      <td>0</td>\n",
       "      <td>0</td>\n",
       "      <td>0</td>\n",
       "      <td>0</td>\n",
       "      <td>0</td>\n",
       "      <td>0</td>\n",
       "      <td>0</td>\n",
       "      <td>0</td>\n",
       "      <td>False</td>\n",
       "      <td>False</td>\n",
       "      <td>False</td>\n",
       "      <td>False</td>\n",
       "      <td>test</td>\n",
       "    </tr>\n",
       "    <tr>\n",
       "      <th>2</th>\n",
       "      <td>4b8d0145-7eb86336-8977eea1-b78595b5-cda8065d</td>\n",
       "      <td>50890505</td>\n",
       "      <td>10737274</td>\n",
       "      <td>files/p10/p10737274/s50890505/4b8d0145-7eb86336-8977eea1-b78595b5-cda8065d.dcm</td>\n",
       "      <td>M</td>\n",
       "      <td>81.0</td>\n",
       "      <td>2141.0</td>\n",
       "      <td>2008 - 2010</td>\n",
       "      <td>None</td>\n",
       "      <td>4b8d0145-7eb86336-8977eea1-b78595b5-cda8065d</td>\n",
       "      <td>21470327.0</td>\n",
       "      <td>['DERIVED', 'PRIMARY']</td>\n",
       "      <td>TILTING</td>\n",
       "      <td>NaN</td>\n",
       "      <td>NaN</td>\n",
       "      <td>3.0</td>\n",
       "      <td>10.0</td>\n",
       "      <td>320.0</td>\n",
       "      <td>NaN</td>\n",
       "      <td>None</td>\n",
       "      <td>None</td>\n",
       "      <td>AP</td>\n",
       "      <td>['L', 'F']</td>\n",
       "      <td>YES</td>\n",
       "      <td>MED</td>\n",
       "      <td>NaN</td>\n",
       "      <td>['0.139', '0.139']</td>\n",
       "      <td>files/p10/p10737274/s50890505.txt</td>\n",
       "      <td>23439125.0</td>\n",
       "      <td>2147-03-24 18:40:00</td>\n",
       "      <td>2147-03-28 15:00:00</td>\n",
       "      <td>NaT</td>\n",
       "      <td>EW EMER.</td>\n",
       "      <td>EMERGENCY ROOM</td>\n",
       "      <td>SKILLED NURSING FACILITY</td>\n",
       "      <td>Medicare</td>\n",
       "      <td>?</td>\n",
       "      <td>WIDOWED</td>\n",
       "      <td>WHITE</td>\n",
       "      <td>2147-03-24 11:35:00</td>\n",
       "      <td>2147-03-24 20:51:00</td>\n",
       "      <td>0.0</td>\n",
       "      <td>178872</td>\n",
       "      <td>files/p10/p10737274/s50890505/4b8d0145-7eb86336-8977eea1-b78595b5-cda8065d.jpg</td>\n",
       "      <td>LambdaCell</td>\n",
       "      <td>LambdaCell</td>\n",
       "      <td><img src=\"data:image/jpeg;base64,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\"></td>\n",
       "      <td>0</td>\n",
       "      <td>1</td>\n",
       "      <td>0</td>\n",
       "      <td>0</td>\n",
       "      <td>0</td>\n",
       "      <td>0</td>\n",
       "      <td>0</td>\n",
       "      <td>0</td>\n",
       "      <td>0</td>\n",
       "      <td>0</td>\n",
       "      <td>0</td>\n",
       "      <td>0</td>\n",
       "      <td>0</td>\n",
       "      <td>0</td>\n",
       "      <td>True</td>\n",
       "      <td>False</td>\n",
       "      <td>False</td>\n",
       "      <td>True</td>\n",
       "      <td>train</td>\n",
       "    </tr>\n",
       "    <tr>\n",
       "      <th>3</th>\n",
       "      <td>970d4827-a4471dc5-9bee8b81-2621c088-efcd0177</td>\n",
       "      <td>54188747</td>\n",
       "      <td>10752010</td>\n",
       "      <td>files/p10/p10752010/s54188747/970d4827-a4471dc5-9bee8b81-2621c088-efcd0177.dcm</td>\n",
       "      <td>M</td>\n",
       "      <td>54.0</td>\n",
       "      <td>2136.0</td>\n",
       "      <td>2014 - 2016</td>\n",
       "      <td>None</td>\n",
       "      <td>970d4827-a4471dc5-9bee8b81-2621c088-efcd0177</td>\n",
       "      <td>21361203.0</td>\n",
       "      <td>['DERIVED', 'PRIMARY']</td>\n",
       "      <td>FIXED</td>\n",
       "      <td>1830.0</td>\n",
       "      <td>NaN</td>\n",
       "      <td>4.0</td>\n",
       "      <td>32.0</td>\n",
       "      <td>125.0</td>\n",
       "      <td>NaN</td>\n",
       "      <td>None</td>\n",
       "      <td>None</td>\n",
       "      <td>PA</td>\n",
       "      <td>['R', 'F']</td>\n",
       "      <td>NO</td>\n",
       "      <td>EU</td>\n",
       "      <td>NaN</td>\n",
       "      <td>['0.139', '0.139']</td>\n",
       "      <td>files/p10/p10752010/s54188747.txt</td>\n",
       "      <td>25468617.0</td>\n",
       "      <td>2136-12-03 21:42:00</td>\n",
       "      <td>2136-12-14 17:54:00</td>\n",
       "      <td>NaT</td>\n",
       "      <td>EW EMER.</td>\n",
       "      <td>EMERGENCY ROOM</td>\n",
       "      <td>HOME</td>\n",
       "      <td>Other</td>\n",
       "      <td>?</td>\n",
       "      <td>MARRIED</td>\n",
       "      <td>ASIAN</td>\n",
       "      <td>2136-12-03 15:32:00</td>\n",
       "      <td>2136-12-03 23:17:00</td>\n",
       "      <td>0.0</td>\n",
       "      <td>94442</td>\n",
       "      <td>files/p10/p10752010/s54188747/970d4827-a4471dc5-9bee8b81-2621c088-efcd0177.jpg</td>\n",
       "      <td>LambdaCell</td>\n",
       "      <td>LambdaCell</td>\n",
       "      <td><img src=\"data:image/jpeg;base64,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\"></td>\n",
       "      <td>0</td>\n",
       "      <td>0</td>\n",
       "      <td>0</td>\n",
       "      <td>0</td>\n",
       "      <td>0</td>\n",
       "      <td>0</td>\n",
       "      <td>0</td>\n",
       "      <td>0</td>\n",
       "      <td>1</td>\n",
       "      <td>0</td>\n",
       "      <td>0</td>\n",
       "      <td>0</td>\n",
       "      <td>0</td>\n",
       "      <td>0</td>\n",
       "      <td>False</td>\n",
       "      <td>False</td>\n",
       "      <td>False</td>\n",
       "      <td>False</td>\n",
       "      <td>test</td>\n",
       "    </tr>\n",
       "    <tr>\n",
       "      <th>4</th>\n",
       "      <td>5af70ad7-b37b6f51-bf20fdcb-d5efeead-cbbcac93</td>\n",
       "      <td>50597875</td>\n",
       "      <td>12190214</td>\n",
       "      <td>files/p12/p12190214/s50597875/5af70ad7-b37b6f51-bf20fdcb-d5efeead-cbbcac93.dcm</td>\n",
       "      <td>M</td>\n",
       "      <td>60.0</td>\n",
       "      <td>2190.0</td>\n",
       "      <td>2014 - 2016</td>\n",
       "      <td>None</td>\n",
       "      <td>5af70ad7-b37b6f51-bf20fdcb-d5efeead-cbbcac93</td>\n",
       "      <td>21900513.0</td>\n",
       "      <td>['DERIVED', 'PRIMARY']</td>\n",
       "      <td>TILTING</td>\n",
       "      <td>NaN</td>\n",
       "      <td>NaN</td>\n",
       "      <td>3.0</td>\n",
       "      <td>10.0</td>\n",
       "      <td>320.0</td>\n",
       "      <td>NaN</td>\n",
       "      <td>None</td>\n",
       "      <td>None</td>\n",
       "      <td>AP</td>\n",
       "      <td>['L', 'F']</td>\n",
       "      <td>YES</td>\n",
       "      <td>TSURG</td>\n",
       "      <td>NaN</td>\n",
       "      <td>['0.139', '0.139']</td>\n",
       "      <td>files/p12/p12190214/s50597875.txt</td>\n",
       "      <td>22849947.0</td>\n",
       "      <td>2190-05-12 08:30:00</td>\n",
       "      <td>2190-05-13 13:59:00</td>\n",
       "      <td>NaT</td>\n",
       "      <td>DIRECT OBSERVATION</td>\n",
       "      <td>PHYSICIAN REFERRAL</td>\n",
       "      <td>None</td>\n",
       "      <td>Other</td>\n",
       "      <td>ENGLISH</td>\n",
       "      <td>MARRIED</td>\n",
       "      <td>WHITE</td>\n",
       "      <td>NaT</td>\n",
       "      <td>NaT</td>\n",
       "      <td>0.0</td>\n",
       "      <td>191859</td>\n",
       "      <td>files/p12/p12190214/s50597875/5af70ad7-b37b6f51-bf20fdcb-d5efeead-cbbcac93.jpg</td>\n",
       "      <td>LambdaCell</td>\n",
       "      <td>LambdaCell</td>\n",
       "      <td><img src=\"data:image/jpeg;base64,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\"></td>\n",
       "      <td>0</td>\n",
       "      <td>0</td>\n",
       "      <td>0</td>\n",
       "      <td>1</td>\n",
       "      <td>0</td>\n",
       "      <td>0</td>\n",
       "      <td>0</td>\n",
       "      <td>0</td>\n",
       "      <td>0</td>\n",
       "      <td>0</td>\n",
       "      <td>0</td>\n",
       "      <td>0</td>\n",
       "      <td>0</td>\n",
       "      <td>1</td>\n",
       "      <td>True</td>\n",
       "      <td>True</td>\n",
       "      <td>False</td>\n",
       "      <td>False</td>\n",
       "      <td>test</td>\n",
       "    </tr>\n",
       "  </tbody>\n",
       "</table>"
      ],
      "text/plain": [
       "DataPanel(nrows: 5, ncols: 66)"
      ]
     },
     "execution_count": 11,
     "metadata": {},
     "output_type": "execute_result"
    }
   ],
   "source": [
    "splits = splits.load()\n",
    "dp['split'] = splits['split']\n",
    "dp.head()"
   ]
  },
  {
   "cell_type": "markdown",
   "id": "348100a8-610e-424b-ba75-a853e49f4fef",
   "metadata": {},
   "source": [
    "### Train Model"
   ]
  },
  {
   "cell_type": "code",
   "execution_count": 12,
   "id": "98b7f5e7-2280-46a0-b214-8c7aeca19833",
   "metadata": {},
   "outputs": [
    {
     "name": "stderr",
     "output_type": "stream",
     "text": [
      "/home/sabri/code/meerkat/meerkat/nn/__init__.py:7: ExperimentalWarning: The `meerkat.nn` module is experimental and has limited test coverage. Proceed with caution.\n",
      "  warnings.warn(\n"
     ]
    },
    {
     "name": "stdout",
     "output_type": "stream",
     "text": [
      "task: train_vg, run_id=11620\n"
     ]
    },
    {
     "name": "stderr",
     "output_type": "stream",
     "text": [
      "[2021-09-16 16:57:29,950][INFO][pytorch_lightning.utilities.seed:65] :: Global seed set to 123\n",
      "/home/common/envs/conda/envs/domino/lib/python3.8/site-packages/torchmetrics/utilities/prints.py:36: UserWarning: Metric `AUROC` will save all targets and predictions in buffer. For large datasets this may lead to large memory footprint.\n",
      "  warnings.warn(*args, **kwargs)\n",
      "/home/common/envs/conda/envs/domino/lib/python3.8/site-packages/pytorch_lightning/utilities/distributed.py:69: UserWarning: Checkpoint directory /home/sabri/terra/slice/tasks/__main__/train_vg/_runs/11620 exists and is not empty.\n",
      "  warnings.warn(*args, **kwargs)\n",
      "[2021-09-16 16:57:33,920][INFO][pytorch_lightning.utilities.distributed:73] :: GPU available: True, used: True\n",
      "[2021-09-16 16:57:33,921][INFO][pytorch_lightning.utilities.distributed:73] :: TPU available: False, using: 0 TPU cores\n",
      "[2021-09-16 16:57:33,942][INFO][pytorch_lightning.accelerators.gpu:63] :: LOCAL_RANK: 0 - CUDA_VISIBLE_DEVICES: [0]\n",
      "\u001b[34m\u001b[1mwandb\u001b[0m: Currently logged in as: \u001b[33mmaya124\u001b[0m (use `wandb login --relogin` to force relogin)\n",
      "\u001b[34m\u001b[1mwandb\u001b[0m: wandb version 0.12.2 is available!  To upgrade, please run:\n",
      "\u001b[34m\u001b[1mwandb\u001b[0m:  $ pip install wandb --upgrade\n"
     ]
    },
    {
     "data": {
      "text/html": [
       "\n",
       "                Tracking run with wandb version 0.11.0<br/>\n",
       "                Syncing run <strong style=\"color:#cdcd00\">train_vg-run_id=11620</strong> to <a href=\"https://wandb.ai\" target=\"_blank\">Weights & Biases</a> <a href=\"https://docs.wandb.com/integrations/jupyter.html\" target=\"_blank\">(Documentation)</a>.<br/>\n",
       "                Project page: <a href=\"https://wandb.ai/maya124/domino\" target=\"_blank\">https://wandb.ai/maya124/domino</a><br/>\n",
       "                Run page: <a href=\"https://wandb.ai/maya124/domino/runs/18xkwicy\" target=\"_blank\">https://wandb.ai/maya124/domino/runs/18xkwicy</a><br/>\n",
       "                Run data is saved locally in <code>/home/sabri/terra/slice/tasks/__main__/train_vg/_runs/11620/wandb/run-20210916_165734-18xkwicy</code><br/><br/>\n",
       "            "
      ],
      "text/plain": [
       "<IPython.core.display.HTML object>"
      ]
     },
     "metadata": {},
     "output_type": "display_data"
    },
    {
     "name": "stderr",
     "output_type": "stream",
     "text": [
      "[2021-09-16 16:57:40,737][INFO][pytorch_lightning.core.lightning:1496] :: \n",
      "  | Name        | Type       | Params\n",
      "-------------------------------------------\n",
      "0 | model       | ResNet     | 11.2 M\n",
      "1 | metrics     | ModuleDict | 0     \n",
      "2 | valid_preds | PredLogger | 0     \n",
      "-------------------------------------------\n",
      "11.2 M    Trainable params\n",
      "0         Non-trainable params\n",
      "11.2 M    Total params\n",
      "44.710    Total estimated model params size (MB)\n"
     ]
    },
    {
     "data": {
      "application/vnd.jupyter.widget-view+json": {
       "model_id": "",
       "version_major": 2,
       "version_minor": 0
      },
      "text/plain": [
       "HBox(children=(FloatProgress(value=1.0, bar_style='info', description='Validation sanity check', layout=Layout…"
      ]
     },
     "metadata": {},
     "output_type": "display_data"
    },
    {
     "name": "stderr",
     "output_type": "stream",
     "text": [
      "\n",
      "InvalidVersionSpec: Invalid version '.1.4.0': empty version component\n",
      "\n",
      "[2021-09-16 16:57:45,543][INFO][pytorch_lightning.utilities.seed:65] :: Global seed set to 123\n"
     ]
    },
    {
     "data": {
      "application/vnd.jupyter.widget-view+json": {
       "model_id": "565624c7a9b546d2ae93790ac7741210",
       "version_major": 2,
       "version_minor": 0
      },
      "text/plain": [
       "HBox(children=(FloatProgress(value=1.0, bar_style='info', description='Training', layout=Layout(flex='2'), max…"
      ]
     },
     "metadata": {},
     "output_type": "display_data"
    },
    {
     "data": {
      "application/vnd.jupyter.widget-view+json": {
       "model_id": "",
       "version_major": 2,
       "version_minor": 0
      },
      "text/plain": [
       "HBox(children=(FloatProgress(value=1.0, bar_style='info', description='Validating', layout=Layout(flex='2'), m…"
      ]
     },
     "metadata": {},
     "output_type": "display_data"
    },
    {
     "data": {
      "application/vnd.jupyter.widget-view+json": {
       "model_id": "",
       "version_major": 2,
       "version_minor": 0
      },
      "text/plain": [
       "HBox(children=(FloatProgress(value=1.0, bar_style='info', description='Validating', layout=Layout(flex='2'), m…"
      ]
     },
     "metadata": {},
     "output_type": "display_data"
    },
    {
     "data": {
      "application/vnd.jupyter.widget-view+json": {
       "model_id": "",
       "version_major": 2,
       "version_minor": 0
      },
      "text/plain": [
       "HBox(children=(FloatProgress(value=1.0, bar_style='info', description='Validating', layout=Layout(flex='2'), m…"
      ]
     },
     "metadata": {},
     "output_type": "display_data"
    },
    {
     "data": {
      "application/vnd.jupyter.widget-view+json": {
       "model_id": "",
       "version_major": 2,
       "version_minor": 0
      },
      "text/plain": [
       "HBox(children=(FloatProgress(value=1.0, bar_style='info', description='Validating', layout=Layout(flex='2'), m…"
      ]
     },
     "metadata": {},
     "output_type": "display_data"
    },
    {
     "data": {
      "application/vnd.jupyter.widget-view+json": {
       "model_id": "",
       "version_major": 2,
       "version_minor": 0
      },
      "text/plain": [
       "HBox(children=(FloatProgress(value=1.0, bar_style='info', description='Validating', layout=Layout(flex='2'), m…"
      ]
     },
     "metadata": {},
     "output_type": "display_data"
    },
    {
     "data": {
      "application/vnd.jupyter.widget-view+json": {
       "model_id": "",
       "version_major": 2,
       "version_minor": 0
      },
      "text/plain": [
       "HBox(children=(FloatProgress(value=1.0, bar_style='info', description='Validating', layout=Layout(flex='2'), m…"
      ]
     },
     "metadata": {},
     "output_type": "display_data"
    },
    {
     "data": {
      "application/vnd.jupyter.widget-view+json": {
       "model_id": "",
       "version_major": 2,
       "version_minor": 0
      },
      "text/plain": [
       "HBox(children=(FloatProgress(value=1.0, bar_style='info', description='Validating', layout=Layout(flex='2'), m…"
      ]
     },
     "metadata": {},
     "output_type": "display_data"
    },
    {
     "data": {
      "application/vnd.jupyter.widget-view+json": {
       "model_id": "",
       "version_major": 2,
       "version_minor": 0
      },
      "text/plain": [
       "HBox(children=(FloatProgress(value=1.0, bar_style='info', description='Validating', layout=Layout(flex='2'), m…"
      ]
     },
     "metadata": {},
     "output_type": "display_data"
    },
    {
     "data": {
      "application/vnd.jupyter.widget-view+json": {
       "model_id": "",
       "version_major": 2,
       "version_minor": 0
      },
      "text/plain": [
       "HBox(children=(FloatProgress(value=1.0, bar_style='info', description='Validating', layout=Layout(flex='2'), m…"
      ]
     },
     "metadata": {},
     "output_type": "display_data"
    },
    {
     "data": {
      "application/vnd.jupyter.widget-view+json": {
       "model_id": "",
       "version_major": 2,
       "version_minor": 0
      },
      "text/plain": [
       "HBox(children=(FloatProgress(value=1.0, bar_style='info', description='Validating', layout=Layout(flex='2'), m…"
      ]
     },
     "metadata": {},
     "output_type": "display_data"
    },
    {
     "data": {
      "application/vnd.jupyter.widget-view+json": {
       "model_id": "",
       "version_major": 2,
       "version_minor": 0
      },
      "text/plain": [
       "HBox(children=(FloatProgress(value=1.0, bar_style='info', description='Validating', layout=Layout(flex='2'), m…"
      ]
     },
     "metadata": {},
     "output_type": "display_data"
    },
    {
     "data": {
      "application/vnd.jupyter.widget-view+json": {
       "model_id": "",
       "version_major": 2,
       "version_minor": 0
      },
      "text/plain": [
       "HBox(children=(FloatProgress(value=1.0, bar_style='info', description='Validating', layout=Layout(flex='2'), m…"
      ]
     },
     "metadata": {},
     "output_type": "display_data"
    },
    {
     "data": {
      "application/vnd.jupyter.widget-view+json": {
       "model_id": "",
       "version_major": 2,
       "version_minor": 0
      },
      "text/plain": [
       "HBox(children=(FloatProgress(value=1.0, bar_style='info', description='Validating', layout=Layout(flex='2'), m…"
      ]
     },
     "metadata": {},
     "output_type": "display_data"
    },
    {
     "data": {
      "application/vnd.jupyter.widget-view+json": {
       "model_id": "",
       "version_major": 2,
       "version_minor": 0
      },
      "text/plain": [
       "HBox(children=(FloatProgress(value=1.0, bar_style='info', description='Validating', layout=Layout(flex='2'), m…"
      ]
     },
     "metadata": {},
     "output_type": "display_data"
    },
    {
     "data": {
      "application/vnd.jupyter.widget-view+json": {
       "model_id": "",
       "version_major": 2,
       "version_minor": 0
      },
      "text/plain": [
       "HBox(children=(FloatProgress(value=1.0, bar_style='info', description='Validating', layout=Layout(flex='2'), m…"
      ]
     },
     "metadata": {},
     "output_type": "display_data"
    },
    {
     "data": {
      "application/vnd.jupyter.widget-view+json": {
       "model_id": "",
       "version_major": 2,
       "version_minor": 0
      },
      "text/plain": [
       "HBox(children=(FloatProgress(value=1.0, bar_style='info', description='Validating', layout=Layout(flex='2'), m…"
      ]
     },
     "metadata": {},
     "output_type": "display_data"
    },
    {
     "data": {
      "application/vnd.jupyter.widget-view+json": {
       "model_id": "",
       "version_major": 2,
       "version_minor": 0
      },
      "text/plain": [
       "HBox(children=(FloatProgress(value=1.0, bar_style='info', description='Validating', layout=Layout(flex='2'), m…"
      ]
     },
     "metadata": {},
     "output_type": "display_data"
    },
    {
     "data": {
      "application/vnd.jupyter.widget-view+json": {
       "model_id": "",
       "version_major": 2,
       "version_minor": 0
      },
      "text/plain": [
       "HBox(children=(FloatProgress(value=1.0, bar_style='info', description='Validating', layout=Layout(flex='2'), m…"
      ]
     },
     "metadata": {},
     "output_type": "display_data"
    },
    {
     "data": {
      "application/vnd.jupyter.widget-view+json": {
       "model_id": "",
       "version_major": 2,
       "version_minor": 0
      },
      "text/plain": [
       "HBox(children=(FloatProgress(value=1.0, bar_style='info', description='Validating', layout=Layout(flex='2'), m…"
      ]
     },
     "metadata": {},
     "output_type": "display_data"
    },
    {
     "data": {
      "application/vnd.jupyter.widget-view+json": {
       "model_id": "",
       "version_major": 2,
       "version_minor": 0
      },
      "text/plain": [
       "HBox(children=(FloatProgress(value=1.0, bar_style='info', description='Validating', layout=Layout(flex='2'), m…"
      ]
     },
     "metadata": {},
     "output_type": "display_data"
    },
    {
     "data": {
      "application/vnd.jupyter.widget-view+json": {
       "model_id": "",
       "version_major": 2,
       "version_minor": 0
      },
      "text/plain": [
       "HBox(children=(FloatProgress(value=1.0, bar_style='info', description='Validating', layout=Layout(flex='2'), m…"
      ]
     },
     "metadata": {},
     "output_type": "display_data"
    },
    {
     "data": {
      "application/vnd.jupyter.widget-view+json": {
       "model_id": "",
       "version_major": 2,
       "version_minor": 0
      },
      "text/plain": [
       "HBox(children=(FloatProgress(value=1.0, bar_style='info', description='Validating', layout=Layout(flex='2'), m…"
      ]
     },
     "metadata": {},
     "output_type": "display_data"
    },
    {
     "data": {
      "application/vnd.jupyter.widget-view+json": {
       "model_id": "",
       "version_major": 2,
       "version_minor": 0
      },
      "text/plain": [
       "HBox(children=(FloatProgress(value=1.0, bar_style='info', description='Validating', layout=Layout(flex='2'), m…"
      ]
     },
     "metadata": {},
     "output_type": "display_data"
    },
    {
     "data": {
      "application/vnd.jupyter.widget-view+json": {
       "model_id": "",
       "version_major": 2,
       "version_minor": 0
      },
      "text/plain": [
       "HBox(children=(FloatProgress(value=1.0, bar_style='info', description='Validating', layout=Layout(flex='2'), m…"
      ]
     },
     "metadata": {},
     "output_type": "display_data"
    },
    {
     "data": {
      "application/vnd.jupyter.widget-view+json": {
       "model_id": "",
       "version_major": 2,
       "version_minor": 0
      },
      "text/plain": [
       "HBox(children=(FloatProgress(value=1.0, bar_style='info', description='Validating', layout=Layout(flex='2'), m…"
      ]
     },
     "metadata": {},
     "output_type": "display_data"
    },
    {
     "name": "stdout",
     "output_type": "stream",
     "text": [
      "\n"
     ]
    },
    {
     "data": {
      "text/html": [
       "<br/>Waiting for W&B process to finish, PID 26792<br/>Program ended successfully."
      ],
      "text/plain": [
       "<IPython.core.display.HTML object>"
      ]
     },
     "metadata": {},
     "output_type": "display_data"
    },
    {
     "data": {
      "application/vnd.jupyter.widget-view+json": {
       "model_id": "",
       "version_major": 2,
       "version_minor": 0
      },
      "text/plain": [
       "VBox(children=(Label(value=' 0.00MB of 0.00MB uploaded (0.00MB deduped)\\r'), FloatProgress(value=1.0, max=1.0)…"
      ]
     },
     "metadata": {},
     "output_type": "display_data"
    },
    {
     "data": {
      "text/html": [
       "Find user logs for this run at: <code>/home/sabri/terra/slice/tasks/__main__/train_vg/_runs/11620/wandb/run-20210916_165734-18xkwicy/logs/debug.log</code>"
      ],
      "text/plain": [
       "<IPython.core.display.HTML object>"
      ]
     },
     "metadata": {},
     "output_type": "display_data"
    },
    {
     "data": {
      "text/html": [
       "Find internal logs for this run at: <code>/home/sabri/terra/slice/tasks/__main__/train_vg/_runs/11620/wandb/run-20210916_165734-18xkwicy/logs/debug-internal.log</code>"
      ],
      "text/plain": [
       "<IPython.core.display.HTML object>"
      ]
     },
     "metadata": {},
     "output_type": "display_data"
    },
    {
     "data": {
      "text/html": [
       "<h3>Run summary:</h3><br/><style>\n",
       "    table.wandb td:nth-child(1) { padding: 0 10px; text-align: right }\n",
       "    </style><table class=\"wandb\">\n",
       "<tr><td>train_loss</td><td>0.00251</td></tr><tr><td>epoch</td><td>4</td></tr><tr><td>trainer/global_step</td><td>274</td></tr><tr><td>_runtime</td><td>253</td></tr><tr><td>_timestamp</td><td>1631811707</td></tr><tr><td>_step</td><td>299</td></tr><tr><td>valid_loss</td><td>0.6159</td></tr><tr><td>valid_accuracy</td><td>0.84415</td></tr><tr><td>valid_auroc</td><td>0.85169</td></tr></table>"
      ],
      "text/plain": [
       "<IPython.core.display.HTML object>"
      ]
     },
     "metadata": {},
     "output_type": "display_data"
    },
    {
     "data": {
      "text/html": [
       "<h3>Run history:</h3><br/><style>\n",
       "    table.wandb td:nth-child(1) { padding: 0 10px; text-align: right }\n",
       "    </style><table class=\"wandb\">\n",
       "<tr><td>train_loss</td><td>█▆▆▆▄▆▆▅▃▃▃▄▃▄▄▃▂▂▂▁▂▂▂▁▁▁▁▁▁▁▁▁▁▁▁▁▁▁▁▁</td></tr><tr><td>epoch</td><td>▁▁▁▁▁▁▁▁▃▃▃▃▃▃▃▃▅▅▅▅▅▅▅▅▆▆▆▆▆▆▆▆████████</td></tr><tr><td>trainer/global_step</td><td>▁▁▁▁▂▂▂▂▂▃▃▃▃▃▃▄▄▄▄▄▅▅▅▅▅▅▆▆▆▆▆▆▇▇▇▇▇███</td></tr><tr><td>_runtime</td><td>▁▁▁▂▂▂▂▂▃▃▃▃▃▃▄▄▄▄▄▄▅▅▅▅▅▆▆▆▆▆▆▇▇▇▇▇▇███</td></tr><tr><td>_timestamp</td><td>▁▁▁▂▂▂▂▂▃▃▃▃▃▃▄▄▄▄▄▄▅▅▅▅▅▆▆▆▆▆▆▇▇▇▇▇▇███</td></tr><tr><td>_step</td><td>▁▁▁▁▂▂▂▂▂▃▃▃▃▃▃▄▄▄▄▄▅▅▅▅▅▅▆▆▆▆▆▆▇▇▇▇▇███</td></tr><tr><td>valid_loss</td><td>▄▂▂▁▂▁▂▂▃▂▃▃▄▄▄▆▇▆▇▇▇████</td></tr><tr><td>valid_accuracy</td><td>▁▄▅▆▆▇▇▇▇▇▇▇█████████████</td></tr><tr><td>valid_auroc</td><td>▁▄▆▇▇▇███████████████████</td></tr></table><br/>"
      ],
      "text/plain": [
       "<IPython.core.display.HTML object>"
      ]
     },
     "metadata": {},
     "output_type": "display_data"
    },
    {
     "data": {
      "text/html": [
       "Synced 5 W&B file(s), 0 media file(s), 0 artifact file(s) and 0 other file(s)"
      ],
      "text/plain": [
       "<IPython.core.display.HTML object>"
      ]
     },
     "metadata": {},
     "output_type": "display_data"
    },
    {
     "data": {
      "text/html": [
       "\n",
       "                    <br/>Synced <strong style=\"color:#cdcd00\">train_vg-run_id=11620</strong>: <a href=\"https://wandb.ai/maya124/domino/runs/18xkwicy\" target=\"_blank\">https://wandb.ai/maya124/domino/runs/18xkwicy</a><br/>\n",
       "                "
      ],
      "text/plain": [
       "<IPython.core.display.HTML object>"
      ]
     },
     "metadata": {},
     "output_type": "display_data"
    },
    {
     "data": {
      "text/plain": [
       "{'__run_dir__': '/home/sabri/terra/slice/tasks/__main__/train_vg/_runs/11620', '__key__': '61d1418c6fcd4b989f5a4d82b0f59db2', '__type__': <class 'vision.Classifier'>, '__id__': 188448}"
      ]
     },
     "execution_count": 12,
     "metadata": {},
     "output_type": "execute_result"
    }
   ],
   "source": [
    "import terra \n",
    "from vision import train\n",
    "from torchvision import transforms\n",
    "\n",
    "preprocessing = transforms.Compose([\n",
    "    transforms.Resize((224, 224)),\n",
    "    transforms.ToTensor(),\n",
    "    transforms.Normalize((0.485, 0.456, 0.406),\n",
    "                         (0.229, 0.224, 0.225))])\n",
    "\n",
    "\n",
    "dp[\"input\"] = dp[\"cxr_jpg_1024\"].to_lambda(preprocessing)\n",
    "\n",
    "@terra.Task\n",
    "def train_vg(dp, run_dir: str = None):\n",
    "\n",
    "    model = train(\n",
    "        config={\"pretrained\": True, 'transform': None, 'train_transform': None},\n",
    "        dp=dp,\n",
    "        input_column=\"input\",\n",
    "        max_epochs=5,\n",
    "        id_column=\"dicom_id\",\n",
    "        target_column=target,\n",
    "        ckpt_monitor=\"valid_auroc\",\n",
    "        batch_size=128, \n",
    "        run_dir=run_dir,\n",
    "        val_check_interval=10,\n",
    "        num_workers=6\n",
    "    )\n",
    "    return model\n",
    "\n",
    "train_vg(dp=dp)"
   ]
  },
  {
   "cell_type": "code",
   "execution_count": 7,
   "id": "fbc1917f-1a79-46f5-bb4f-0f8904fce035",
   "metadata": {},
   "outputs": [
    {
     "name": "stderr",
     "output_type": "stream",
     "text": [
      "/home/sabri/code/meerkat/meerkat/nn/__init__.py:7: ExperimentalWarning: The `meerkat.nn` module is experimental and has limited test coverage. Proceed with caution.\n",
      "  warnings.warn(\n"
     ]
    }
   ],
   "source": [
    "run_id = 11620\n",
    "dataset_dp = terra.inp(run_id)[\"dp\"].load()\n",
    "model = terra.get_artifacts(run_id, \"best_chkpt\")[\"model\"]"
   ]
  },
  {
   "cell_type": "markdown",
   "id": "8d4e0b30-b04c-4a28-8fed-ea933b1a1bce",
   "metadata": {},
   "source": [
    "### Score Model"
   ]
  },
  {
   "cell_type": "code",
   "execution_count": 8,
   "id": "0c91ab9f-2a61-43b8-9430-6f0f2dbe4f48",
   "metadata": {},
   "outputs": [
    {
     "name": "stderr",
     "output_type": "stream",
     "text": [
      "/home/common/envs/conda/envs/domino/lib/python3.8/site-packages/torchmetrics/utilities/prints.py:36: UserWarning: Metric `AUROC` will save all targets and predictions in buffer. For large datasets this may lead to large memory footprint.\n",
      "  warnings.warn(*args, **kwargs)\n"
     ]
    },
    {
     "data": {
      "application/vnd.jupyter.widget-view+json": {
       "model_id": "b2d51a98d3574ea98826a15ce4824c61",
       "version_major": 2,
       "version_minor": 0
      },
      "text/plain": [
       "HBox(children=(FloatProgress(value=0.0, max=16.0), HTML(value='')))"
      ]
     },
     "metadata": {},
     "output_type": "display_data"
    },
    {
     "name": "stdout",
     "output_type": "stream",
     "text": [
      "\n"
     ]
    }
   ],
   "source": [
    "from domino.vision import score\n",
    "score_dp = score(\n",
    "    model=model.load(), \n",
    "    dp=dataset_dp.lz[dataset_dp[\"split\"] == \"test\"], \n",
    "    input_column=\"input\",\n",
    "    batch_size=128\n",
    ")"
   ]
  },
  {
   "cell_type": "code",
   "execution_count": 9,
   "id": "996ee570-3196-4818-bb68-261bce03cfe1",
   "metadata": {},
   "outputs": [],
   "source": [
    "score_dp[\"prob\"] = score_dp[\"output\"].probabilities().data[:, -1]"
   ]
  },
  {
   "cell_type": "code",
   "execution_count": 10,
   "id": "f8d1230d-5474-4647-9019-29ba4f16a6dc",
   "metadata": {},
   "outputs": [
    {
     "data": {
      "text/html": [
       "<pre style=\"white-space:pre;overflow-x:auto;line-height:normal;font-family:Menlo,'DejaVu Sans Mono',consolas,'Courier New',monospace\">Overall AUROC: <span style=\"color: #008080; text-decoration-color: #008080; font-weight: bold\">0.86695713836422</span>\n",
       "</pre>\n"
      ],
      "text/plain": [
       "Overall AUROC: \u001b[1;36m0.86695713836422\u001b[0m\n"
      ]
     },
     "metadata": {},
     "output_type": "display_data"
    },
    {
     "data": {
      "text/html": [
       "<pre style=\"white-space:pre;overflow-x:auto;line-height:normal;font-family:Menlo,'DejaVu Sans Mono',consolas,'Courier New',monospace\">AUROC where correlation holds: <span style=\"color: #008080; text-decoration-color: #008080; font-weight: bold\">0.900248376326855</span>\n",
       "</pre>\n"
      ],
      "text/plain": [
       "AUROC where correlation holds: \u001b[1;36m0.900248376326855\u001b[0m\n"
      ]
     },
     "metadata": {},
     "output_type": "display_data"
    },
    {
     "data": {
      "text/html": [
       "<pre style=\"white-space:pre;overflow-x:auto;line-height:normal;font-family:Menlo,'DejaVu Sans Mono',consolas,'Courier New',monospace\">AUROC where correlation does not hold: <span style=\"color: #008080; text-decoration-color: #008080; font-weight: bold\">0.3979508196721312</span>\n",
       "</pre>\n"
      ],
      "text/plain": [
       "AUROC where correlation does not hold: \u001b[1;36m0.3979508196721312\u001b[0m\n"
      ]
     },
     "metadata": {},
     "output_type": "display_data"
    }
   ],
   "source": [
    "from sklearn.metrics import roc_auc_score\n",
    "print(\"Overall AUROC: {}\".format(\n",
    "    roc_auc_score(score_dp[target], score_dp[\"prob\"])\n",
    "))\n",
    "\n",
    "curr_dp = score_dp.lz[score_dp[target] == score_dp[correlate]]\n",
    "print(\"AUROC where correlation holds: {}\".format(\n",
    "    roc_auc_score(curr_dp[target], curr_dp[\"prob\"])\n",
    "))\n",
    "\n",
    "curr_dp = score_dp.lz[score_dp[target] != score_dp[correlate]]\n",
    "print(\"AUROC where correlation does not hold: {}\".format(\n",
    "    roc_auc_score(curr_dp[target], curr_dp[\"prob\"])\n",
    "))"
   ]
  },
  {
   "cell_type": "markdown",
   "id": "56dd43aa-d6fd-40e7-a130-2af854c93dcd",
   "metadata": {},
   "source": [
    "### Analyze with CLIP Embeddings"
   ]
  },
  {
   "cell_type": "code",
   "execution_count": 11,
   "id": "2d549a84-d8bf-414c-ade5-cf114876acfc",
   "metadata": {},
   "outputs": [
    {
     "name": "stdout",
     "output_type": "stream",
     "text": [
      "task: embed_images, run_id=11805\n"
     ]
    },
    {
     "data": {
      "application/vnd.jupyter.widget-view+json": {
       "model_id": "8f3d7a1457c74cab87d2c61460a4dad9",
       "version_major": 2,
       "version_minor": 0
      },
      "text/plain": [
       "HBox(children=(FloatProgress(value=0.0, max=16.0), HTML(value='')))"
      ]
     },
     "metadata": {},
     "output_type": "display_data"
    },
    {
     "name": "stdout",
     "output_type": "stream",
     "text": [
      "\n"
     ]
    }
   ],
   "source": [
    "from emb.clip import embed_images\n",
    "score_dp = embed_images(dp=score_dp, img_column=\"cxr_jpg_1024\").load()"
   ]
  },
  {
   "cell_type": "code",
   "execution_count": 12,
   "id": "4170aa1c-7675-4c51-b7a0-98391d628798",
   "metadata": {},
   "outputs": [],
   "source": [
    "from emb.clip import embed_words, get_wiki_words\n",
    "#words_dp = get_wiki_words()\n",
    "#words_dp = embed_words(words_dp).load()\n",
    "words_dp = embed_words.out(6537).load()\n",
    "words_dp = words_dp.lz[:int(1e4)]"
   ]
  },
  {
   "cell_type": "code",
   "execution_count": 13,
   "id": "a8a211fc-1383-4d3f-999f-1dd3a288910a",
   "metadata": {
    "tags": []
   },
   "outputs": [
    {
     "data": {
      "text/html": [
       "<table border=\"1\" class=\"dataframe\">\n",
       "  <thead>\n",
       "    <tr style=\"text-align: right;\">\n",
       "      <th></th>\n",
       "      <th>cxr_jpg_1024 (ImageColumn)</th>\n",
       "      <th>prob (TensorColumn)</th>\n",
       "      <th>lung_group (PandasSeriesColumn)</th>\n",
       "      <th>support_devices (PandasSeriesColumn)</th>\n",
       "    </tr>\n",
       "  </thead>\n",
       "  <tbody>\n",
       "    <tr>\n",
       "      <th>0</th>\n",
       "      <td><img src=\"data:image/jpeg;base64,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\"></td>\n",
       "      <td>tensor(0.0048)</td>\n",
       "      <td>True</td>\n",
       "      <td>1.0</td>\n",
       "    </tr>\n",
       "    <tr>\n",
       "      <th>1</th>\n",
       "      <td><img src=\"data:image/jpeg;base64,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\"></td>\n",
       "      <td>tensor(0.0091)</td>\n",
       "      <td>True</td>\n",
       "      <td>0.0</td>\n",
       "    </tr>\n",
       "    <tr>\n",
       "      <th>2</th>\n",
       "      <td><img src=\"data:image/jpeg;base64,/9j/4AAQSkZJRgABAQAAAQABAAD/2wBDAAgGBgcGBQgHBwcJCQgKDBQNDAsLDBkSEw8UHRofHh0aHBwgJC4nICIsIxwcKDcpLDAxNDQ0Hyc5PTgyPC4zNDL/2wBDAQkJCQwLDBgNDRgyIRwhMjIyMjIyMjIyMjIyMjIyMjIyMjIyMjIyMjIyMjIyMjIyMjIyMjIyMjIyMjIyMjIyMjL/wAARCACAAGsDASIAAhEBAxEB/8QAHwAAAQUBAQEBAQEAAAAAAAAAAAECAwQFBgcICQoL/8QAtRAAAgEDAwIEAwUFBAQAAAF9AQIDAAQRBRIhMUEGE1FhByJxFDKBkaEII0KxwRVS0fAkM2JyggkKFhcYGRolJicoKSo0NTY3ODk6Q0RFRkdISUpTVFVWV1hZWmNkZWZnaGlqc3R1dnd4eXqDhIWGh4iJipKTlJWWl5iZmqKjpKWmp6ipqrKztLW2t7i5usLDxMXGx8jJytLT1NXW19jZ2uHi4+Tl5ufo6erx8vP09fb3+Pn6/8QAHwEAAwEBAQEBAQEBAQAAAAAAAAECAwQFBgcICQoL/8QAtREAAgECBAQDBAcFBAQAAQJ3AAECAxEEBSExBhJBUQdhcRMiMoEIFEKRobHBCSMzUvAVYnLRChYkNOEl8RcYGRomJygpKjU2Nzg5OkNERUZHSElKU1RVVldYWVpjZGVmZ2hpanN0dXZ3eHl6goOEhYaHiImKkpOUlZaXmJmaoqOkpaanqKmqsrO0tba3uLm6wsPExcbHyMnK0tPU1dbX2Nna4uPk5ebn6Onq8vP09fb3+Pn6/9oADAMBAAIRAxEAPwDw0aZcbsNGFPuRV7TfDV9quoW9jaIj3Fw4jjUyKoJPuTgV2dho2oxutzb2KTqwKqJEDKfXA9aWGw1qG9Gow25jlhlEwkEa7VYHIOOnUUAcLLpb208kEqESRsUYdQCDg8jrV2zgaBSMcHmuoa3eCQwXEWJFOGGOhqpMLVHOAC/oDwKAIbYYGSvNa1tL0G0Y681gy3EplKLkKPSr9pPvwrcEcZz1oA1d6MMhjuB9apXzbznAL+lNhYCRwTk1U1KQrkKeeuaAKNzbOwJER/KsiazJyfLP5Veimm3keYwX6GrkaxTcO+1z74zQBzb2jfwqfpVdoXXqpH4V182mQn5tx/Oqx0uNx+6mJP1/xoA5bkUYPpW09oUuxEshEquAG2DAbGQM/Sq8tjL5rbmhJzz8tAHpgmkggBUsCMKPmIzVcy3Z/wCXiYA9g5A/KtOWANGPQciqpQKCx6LQBlXs3koxdyZGGSScmuYe8HmHg1c1a8zK5ByfSsCWRpCDwMUAa8W+Y5Vju/TFaVvvDDKZC8k1z1sZ4riJlfAPIGTXW2MbugJxzQBLEg2M+OWrI1G4/fMqg/KMZNdI6hEwq9BXI6hNNHcOrRkAk4JoAoS3DxD5sgEelMhvNzjC/lVa4lmZism4gHABpIpEBxtx6mgDsrOQXMKlMFwOnrVmG2SdwpQRt6DoTWPpD7XjZWzg8iurNurfMB1oAzH0ZI5PMIGf7xHI/Gs6WybzG225Ydj611nlsyLuPXg571WmiPmtgUAbJG2Mr+VZGqS+RbkdCepraYbm9sVzWvOHzlsIvH1oA5DUJV52DOTyaxikjN0P4Vo3sx3YiQfU1RBYuGZuc8AdKALlnbSSTxkP04PtXcadEVAUHoK5vSLdZGMgOMHmuz0q2O4nrxQA548LnFc3qsLyMVCDB7+ldlLbkL04rn9TjCLkkKPcUAcFeeashV1IOemOtV4nAb5hWvfpIgJKqwPTFZq7oj88YB9KANrStu5XRsEGu6sj5sEbfga4CxdJGUA4bP0rvtJOYBGeoHNAF+ZdiAr17VmyM3mHKitUjIIPbpVCVP3poA1Jf3Vuz98VwepzYZi7Z9B6V3eqbvlgiGXIz9K5e88O+YzPJI+W6gCgDhbpnZsqOM/WnjTSuycDfE3HP8JrcuvD7Rgm3lbPow4qtYrdWl8lvcRN5LenQn1oA3NN08C3jAAXIyQPWus0u2KoTjrVSwsmaMEqMGuisLYqnTvQBXeE7elc9rFoxhkCjnHFdq8B29Kx9QtwYyMdaAPJJY7gb1mPJOAapFJ1bBAkwcYxmu41PRXkAEZ2c5b3qKDSVjGApHqMUAc1aqyMGkiYe+2uu0Gc+cik5Q8D2qWLTIyPmVfxrQt9LVfnTg0AaTJiqEy/vWrVjUvbgsPmHBrMnH75qAOha1DMZNvJ4qpNZ7ieK34Ydygn0pZLTPQUAclJpqkHC5NQjRY5D+8G72xXVmyOeBTlseRxQBjW1sYFVAD7Vu2lsVjAIp4tCSAAOK0oYcoOKAKbQnb0rLurYySYx0rpGhOOnFU5IcnOOaAOXm07eec1SezjjcAnPtXVTw7UPHNZclsHbpyO9AHP3VqowwGR2qXThKpORlCelaostyFWGRmp4bVUB4oAhEe1SPWsa4XFw/1roZFwcdsVhXQ/0l/rQB21qNwHpWgsAZeRVHTxujU1uQR7gKAKJtc9qctnk8CtZbcd6mEIA4FAGSLPC+9TxWwCjFXSgGcDJpocqMbRntxQBUkhIXoaovEM8VsjLKd6gCqUwCnGM0AY9xDkA44HeqUka/3a2polkjIT15qr9m28UAZoiz2qvcSrEuc4rQuVMY2D8ax7mFpCQ3QHpQAyOfzdwznHesS7b/Sn+tawj8jgDAxXO3s2LyQZ7/0oA9H05dsaCt+BgigdzWBpwwi/StaIknOaANNGA71PGQSBVJAVXOCd1XIomAyfwoAZIjGQhePerEcKugz94d8dakMY4bHJFPUnpQBUkhypUce9VHjO4A1tOm6PI61UaDH1oAy/su0kgcVWmgJY4FbLJiqs2SpAHPTNAHNXEO5jnk1TkjwDntXQyWuR0rNuocHkUAc3eZ2nPauNvT/pknPeu7vYeTnpXFXduTdyEjvQB6XpbPLEpC4PSt60t2ZgSv1FUtIhTy1AK4+tdLCihR86D/gQoAdFbAAHAyKmERLc09Ng/wCWi/8AfQqRXj/vp/30KAARjaBSGHg81KHj/wCeif8AfQp3mR/89E/76FAEIjIXOTxTAm8ZFWfMj/56J/30KaWi/vp/30KAKjW/PSontsjpV4tH/wA9E/76FRsUP/LRf++hQBly24RTxzWXc2ZYE4ro2SM/xp/30Kgljj2/fT8xQBwl/bkSbcds1yd5bL9rk47/ANK9IvrQFnclB2HIrkry2X7XJyvX19qAP//Z\"></td>\n",
       "      <td>tensor(0.0059)</td>\n",
       "      <td>True</td>\n",
       "      <td>1.0</td>\n",
       "    </tr>\n",
       "    <tr>\n",
       "      <th>3</th>\n",
       "      <td><img src=\"data:image/jpeg;base64,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\"></td>\n",
       "      <td>tensor(0.1704)</td>\n",
       "      <td>True</td>\n",
       "      <td>1.0</td>\n",
       "    </tr>\n",
       "    <tr>\n",
       "      <th>4</th>\n",
       "      <td><img src=\"data:image/jpeg;base64,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\"></td>\n",
       "      <td>tensor(0.0125)</td>\n",
       "      <td>True</td>\n",
       "      <td>1.0</td>\n",
       "    </tr>\n",
       "    <tr>\n",
       "      <th>...</th>\n",
       "      <td>...</td>\n",
       "      <td>...</td>\n",
       "      <td>...</td>\n",
       "      <td>...</td>\n",
       "    </tr>\n",
       "    <tr>\n",
       "      <th>172</th>\n",
       "      <td><img src=\"data:image/jpeg;base64,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\"></td>\n",
       "      <td>tensor(0.3862)</td>\n",
       "      <td>True</td>\n",
       "      <td>0.0</td>\n",
       "    </tr>\n",
       "    <tr>\n",
       "      <th>173</th>\n",
       "      <td><img src=\"data:image/jpeg;base64,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\"></td>\n",
       "      <td>tensor(0.3179)</td>\n",
       "      <td>True</td>\n",
       "      <td>1.0</td>\n",
       "    </tr>\n",
       "    <tr>\n",
       "      <th>174</th>\n",
       "      <td><img src=\"data:image/jpeg;base64,/9j/4AAQSkZJRgABAQAAAQABAAD/2wBDAAgGBgcGBQgHBwcJCQgKDBQNDAsLDBkSEw8UHRofHh0aHBwgJC4nICIsIxwcKDcpLDAxNDQ0Hyc5PTgyPC4zNDL/2wBDAQkJCQwLDBgNDRgyIRwhMjIyMjIyMjIyMjIyMjIyMjIyMjIyMjIyMjIyMjIyMjIyMjIyMjIyMjIyMjIyMjIyMjL/wAARCACAAGkDASIAAhEBAxEB/8QAHwAAAQUBAQEBAQEAAAAAAAAAAAECAwQFBgcICQoL/8QAtRAAAgEDAwIEAwUFBAQAAAF9AQIDAAQRBRIhMUEGE1FhByJxFDKBkaEII0KxwRVS0fAkM2JyggkKFhcYGRolJicoKSo0NTY3ODk6Q0RFRkdISUpTVFVWV1hZWmNkZWZnaGlqc3R1dnd4eXqDhIWGh4iJipKTlJWWl5iZmqKjpKWmp6ipqrKztLW2t7i5usLDxMXGx8jJytLT1NXW19jZ2uHi4+Tl5ufo6erx8vP09fb3+Pn6/8QAHwEAAwEBAQEBAQEBAQAAAAAAAAECAwQFBgcICQoL/8QAtREAAgECBAQDBAcFBAQAAQJ3AAECAxEEBSExBhJBUQdhcRMiMoEIFEKRobHBCSMzUvAVYnLRChYkNOEl8RcYGRomJygpKjU2Nzg5OkNERUZHSElKU1RVVldYWVpjZGVmZ2hpanN0dXZ3eHl6goOEhYaHiImKkpOUlZaXmJmaoqOkpaanqKmqsrO0tba3uLm6wsPExcbHyMnK0tPU1dbX2Nna4uPk5ebn6Onq8vP09fb3+Pn6/9oADAMBAAIRAxEAPwDwA0oXNWfskgcrt5BqWKxckZHFAF/w9aCaRmI6V694ThWISHH3Qpx+dec+H4FhkZT9a9L8POI5gCcK42n2oA7SMwrFFEoLNtz+GamRRC5D24EMiEHb1z9arx2gch0mZT3FaaxpmPexcAbfSgCDTC8lhMXLlkbClq5rxRGpjUYGe+PWutUxwBwO54A7Vy/iHockdc0AeTeI48Wkq45IxXDPasD0r0LWytxcFFOdp5781hPp5Yn5cUAco8LIcMpGRnmoytelvplndWG2SeB7cRLFBCVxJFJgZO4/8C746Vy02ixpMyRvvAOAfWgDm9lLsNdT/YsSQgtHk9STVj+xoP8Anh+lAG9PpUZaQeUMbjzVM6TGh4XNejppam6mWRBgscHFZ93b2tmzqFLvnkHoKAOLtrVElBXjHfFdbo1xEWALYX+VYdzGzykgYB7Cql7cNZxARttf19KAPXbfUYkiUFwfcd6tRapAw+Vjn/a7V4da+JZ4SB5jZB6g10dj4jJTc7E496APSHvmWYtkYJ6+lcj4s1U8orAZ6sKox6hJfTq0j4XrgVl+IjuGQSeMUAcnNqLJOduev51LFqIlwr8Z7isi6LCRh09MmoIJnDUAdXDCRKDnKN1961YtPt3YBflY9e4rH0u5EoWF+vY1v2yEOCOGU5oAbe6YVkVVGe9aX9kf9M61okhuoEc/KykBgR0z/Sul+xw+lADnWMTtJnPzE4A9DXKalCTl/wCJjkmurblJcngO4z+Nc/qA+THc0AcxJGAzMeiiuR1m4EhZicegrstQ/c2ch7twK891I4Zt3NAGcLnYxresLoyxKwzzXM+YofGOK2dNl2sFBOM5oA7jQ98szZGMDpWlf2SSWxDrnjimeGxG0fmHG7HIrXvwv2VsDkjtQB4vrNlJBcs4JKlvyqhGzI4ro/ExYEhU4POa5Yswbnj8KAN7T7pxMpx0Nd5bOssMVynQ8NXmFrdGMivQfDNytxCYCeSM4oA67TzlwnZxj8e1dZvf0rirSXyXAIO5T+tdl9uX0NAEJmBWYEj77cfjWNdgyEkdhipBcEyzjP8AGcfnT2QBR/tHpQByniU+TbIg+91rznUcu5ycGvQPF0wiuSp/u4xXnN67SSH0oArxQp5g4zz0rcsoVafdtwCOcVkQW7MygHnPrXTWNqFYMfu4xkDvQB1Xh4rjAByBmulliDIVI4OcVm+HraIQdDn1ro2gUgH8hQB5b4itQMqy8c1w19Cseznt69K9i1/TUkDuE7GvMNUsnhYhwSucqcUAYcRUNzXWeHLkRXSOrYxXJlcvwK09Pdo3Xa3NAHqznLxsON4yK3/Ml9BXLQzfaNHspv40+Vq6TzW/uigBkalr6UDpvNaUcPmXMa4wBk1W08Brudjz85/nWlcyLY6XdXh+8F2oPc0AeWeKZVnv52Jz8xA+lcXPG5YleldPqeZp2c9Sax5IVBy9AFXT4Sbge3Oa6vToGkjXJwO2KwLeSKM5C8E12WjojrHIyHYMDNAHZ+H7QRWablBYjrjNbPkqfT8qksIo2s4yg42irCxrklgQBQBgaha+YpGBjnqK4TUdFWcyqCCo6cV6fexrsdlbGDzmuPlt5DA8qkHJyMUAeWaloEtuWZQSvtWZAGhk+bt7V6fe2waMMRw3Uehri9Us1inJA+U9fagDpfDFwt3aTWZPzFQ6Z9a7DZN/zzP5V5nodwbK8ilQ/dYceor17+0bT++aAKelzDzpcn+M/wA6s+K5vK0iCHOAw3H3rlrLU/LvHG4AM/8AWtjXzLrt3Bb24IhhjCuTxz1oA88uW3OQgLH2GazJYLiVvlt5G98V69b+FLZY1GwAdwO/+NaUHhu3X7sSLjuRQB4fDZzs6o8TKAf4hiu10Rnjs0iZSBn8SfWvR4vDNi5/fRq/4Yp7eE7RYx9myrjpnkUASaNE32ZQwPKDqa0BGR8pC4z1qSytZIrZUkAztC4FTGHBIxigDH1GLdDMVGPkzkd65R4GFoUVSSewGa9AubPzISAQARgnNYGq61o+jRGM3EP2gcFEG4j64oA4iTT9SaM/6O231cYrmtU0e9BJeLA7Ec16DDrkN65aG7Q+zcfpVyS3FxbiQgFWoA8LuftGnyhmicJnqBxW9/bbf7f5121/otvKTvgAXocVY/4Q/TP7h/KgDjdHjeW5LnJO7vXq2mWyxBZXXJdRwRXDeGrINdIMdX5r06xteWABIBwKAJI4eegxVhIKsrEq9cZqZVB4AoArrF2qUR4HFWFiPpTxHjAoAhWInjPFIyop+Yk/QVaEeOcU5kIcbRxQBy3iXUvIsWigZkZRnI7k147qEMkzu+SSSTzX0TJGkkZWWKNwf7y5qhJpWkvy+mwE9/loA+e7RZUkAweO9eq6DbifQEYgjPT6966VtC0N+ukw8+gpJreC3hSC2hWKJOQq9s0AcrqNm2wDH41qfY29amvIwyAN0JHNa32SP3oA5Dw/4durbdM8ZBLHbleldMEuwAiRlVHtXQx3DksGRhhsfdqbzD6c/SgDEgtrl2UsMYq4kDxrk4LelX/MPofypdxBwUIP0oAz2+1M3yrgDtSLJdK2GhLZ9ulaYc4ztOPpTg5oApoZMnevA9qewkZVIHBq2CT2/SjJ9KAKCrI6t2wcDio1EjMytHjHetHcf7tJuP8AdP5UAZxhcdBmqV1b3BGVTNbu5v7tIZG/uH8qAOQurS6aH/VkjI4xWr5Uv/PM1sFpSPlhJ/CpNs39wUAf/9k=\"></td>\n",
       "      <td>tensor(0.0474)</td>\n",
       "      <td>True</td>\n",
       "      <td>0.0</td>\n",
       "    </tr>\n",
       "    <tr>\n",
       "      <th>175</th>\n",
       "      <td><img src=\"data:image/jpeg;base64,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\"></td>\n",
       "      <td>tensor(0.4293)</td>\n",
       "      <td>True</td>\n",
       "      <td>1.0</td>\n",
       "    </tr>\n",
       "    <tr>\n",
       "      <th>176</th>\n",
       "      <td><img src=\"data:image/jpeg;base64,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\"></td>\n",
       "      <td>tensor(0.0033)</td>\n",
       "      <td>True</td>\n",
       "      <td>0.0</td>\n",
       "    </tr>\n",
       "  </tbody>\n",
       "</table>"
      ],
      "text/plain": [
       "DataPanel(nrows: 177, ncols: 4)"
      ]
     },
     "execution_count": 13,
     "metadata": {},
     "output_type": "execute_result"
    }
   ],
   "source": [
    "mk.config.DisplayOptions.max_rows = 10\n",
    "error_dp = score_dp.lz[(score_dp[\"prob\"] > 0.5).numpy() != (score_dp[target] == 1)]\n",
    "error_dp = error_dp.lz[(error_dp[target] == 1)]\n",
    "error_dp[[\"cxr_jpg_1024\", \"prob\", target, correlate]]"
   ]
  },
  {
   "cell_type": "code",
   "execution_count": 14,
   "id": "2454c0ea-7acf-4108-a0ee-4bffde3af1f1",
   "metadata": {},
   "outputs": [
    {
     "data": {
      "text/html": [
       "<table border=\"1\" class=\"dataframe\">\n",
       "  <thead>\n",
       "    <tr style=\"text-align: right;\">\n",
       "      <th></th>\n",
       "      <th>word (PandasSeriesColumn)</th>\n",
       "      <th>frequency (PandasSeriesColumn)</th>\n",
       "      <th>index (PandasSeriesColumn)</th>\n",
       "      <th>tokens (LambdaColumn)</th>\n",
       "      <th>emb (NumpyArrayColumn)</th>\n",
       "      <th>score (NumpyArrayColumn)</th>\n",
       "    </tr>\n",
       "  </thead>\n",
       "  <tbody>\n",
       "    <tr>\n",
       "      <th>0</th>\n",
       "      <td>instrumentation</td>\n",
       "      <td>14720</td>\n",
       "      <td>9795</td>\n",
       "      <td>LambdaCell(fn=<lambda>)</td>\n",
       "      <td>np.ndarray(shape=(512,))</td>\n",
       "      <td>0.200928</td>\n",
       "    </tr>\n",
       "    <tr>\n",
       "      <th>1</th>\n",
       "      <td>controls</td>\n",
       "      <td>44114</td>\n",
       "      <td>4378</td>\n",
       "      <td>LambdaCell(fn=<lambda>)</td>\n",
       "      <td>np.ndarray(shape=(512,))</td>\n",
       "      <td>0.189331</td>\n",
       "    </tr>\n",
       "    <tr>\n",
       "      <th>2</th>\n",
       "      <td>connected</td>\n",
       "      <td>132956</td>\n",
       "      <td>1666</td>\n",
       "      <td>LambdaCell(fn=<lambda>)</td>\n",
       "      <td>np.ndarray(shape=(512,))</td>\n",
       "      <td>0.189331</td>\n",
       "    </tr>\n",
       "    <tr>\n",
       "      <th>3</th>\n",
       "      <td>antenna</td>\n",
       "      <td>19528</td>\n",
       "      <td>8033</td>\n",
       "      <td>LambdaCell(fn=<lambda>)</td>\n",
       "      <td>np.ndarray(shape=(512,))</td>\n",
       "      <td>0.182739</td>\n",
       "    </tr>\n",
       "    <tr>\n",
       "      <th>4</th>\n",
       "      <td>electronics</td>\n",
       "      <td>38830</td>\n",
       "      <td>4864</td>\n",
       "      <td>LambdaCell(fn=<lambda>)</td>\n",
       "      <td>np.ndarray(shape=(512,))</td>\n",
       "      <td>0.174072</td>\n",
       "    </tr>\n",
       "    <tr>\n",
       "      <th>5</th>\n",
       "      <td>electrical</td>\n",
       "      <td>71316</td>\n",
       "      <td>2947</td>\n",
       "      <td>LambdaCell(fn=<lambda>)</td>\n",
       "      <td>np.ndarray(shape=(512,))</td>\n",
       "      <td>0.169189</td>\n",
       "    </tr>\n",
       "    <tr>\n",
       "      <th>6</th>\n",
       "      <td>gameplay</td>\n",
       "      <td>38580</td>\n",
       "      <td>4890</td>\n",
       "      <td>LambdaCell(fn=<lambda>)</td>\n",
       "      <td>np.ndarray(shape=(512,))</td>\n",
       "      <td>0.167236</td>\n",
       "    </tr>\n",
       "    <tr>\n",
       "      <th>7</th>\n",
       "      <td>connections</td>\n",
       "      <td>56383</td>\n",
       "      <td>3570</td>\n",
       "      <td>LambdaCell(fn=<lambda>)</td>\n",
       "      <td>np.ndarray(shape=(512,))</td>\n",
       "      <td>0.165894</td>\n",
       "    </tr>\n",
       "    <tr>\n",
       "      <th>8</th>\n",
       "      <td>electrons</td>\n",
       "      <td>16851</td>\n",
       "      <td>8909</td>\n",
       "      <td>LambdaCell(fn=<lambda>)</td>\n",
       "      <td>np.ndarray(shape=(512,))</td>\n",
       "      <td>0.163574</td>\n",
       "    </tr>\n",
       "    <tr>\n",
       "      <th>9</th>\n",
       "      <td>constellation</td>\n",
       "      <td>16474</td>\n",
       "      <td>9052</td>\n",
       "      <td>LambdaCell(fn=<lambda>)</td>\n",
       "      <td>np.ndarray(shape=(512,))</td>\n",
       "      <td>0.162354</td>\n",
       "    </tr>\n",
       "    <tr>\n",
       "      <th>10</th>\n",
       "      <td>circuits</td>\n",
       "      <td>18950</td>\n",
       "      <td>8226</td>\n",
       "      <td>LambdaCell(fn=<lambda>)</td>\n",
       "      <td>np.ndarray(shape=(512,))</td>\n",
       "      <td>0.161987</td>\n",
       "    </tr>\n",
       "    <tr>\n",
       "      <th>11</th>\n",
       "      <td>connecting</td>\n",
       "      <td>55975</td>\n",
       "      <td>3591</td>\n",
       "      <td>LambdaCell(fn=<lambda>)</td>\n",
       "      <td>np.ndarray(shape=(512,))</td>\n",
       "      <td>0.154297</td>\n",
       "    </tr>\n",
       "    <tr>\n",
       "      <th>12</th>\n",
       "      <td>surveillance</td>\n",
       "      <td>27286</td>\n",
       "      <td>6287</td>\n",
       "      <td>LambdaCell(fn=<lambda>)</td>\n",
       "      <td>np.ndarray(shape=(512,))</td>\n",
       "      <td>0.153931</td>\n",
       "    </tr>\n",
       "    <tr>\n",
       "      <th>13</th>\n",
       "      <td>fixture</td>\n",
       "      <td>17172</td>\n",
       "      <td>8787</td>\n",
       "      <td>LambdaCell(fn=<lambda>)</td>\n",
       "      <td>np.ndarray(shape=(512,))</td>\n",
       "      <td>0.152222</td>\n",
       "    </tr>\n",
       "    <tr>\n",
       "      <th>14</th>\n",
       "      <td>conjunction</td>\n",
       "      <td>36505</td>\n",
       "      <td>5085</td>\n",
       "      <td>LambdaCell(fn=<lambda>)</td>\n",
       "      <td>np.ndarray(shape=(512,))</td>\n",
       "      <td>0.151733</td>\n",
       "    </tr>\n",
       "    <tr>\n",
       "      <th>15</th>\n",
       "      <td>connect</td>\n",
       "      <td>46974</td>\n",
       "      <td>4160</td>\n",
       "      <td>LambdaCell(fn=<lambda>)</td>\n",
       "      <td>np.ndarray(shape=(512,))</td>\n",
       "      <td>0.150757</td>\n",
       "    </tr>\n",
       "    <tr>\n",
       "      <th>16</th>\n",
       "      <td>electricity</td>\n",
       "      <td>60570</td>\n",
       "      <td>3370</td>\n",
       "      <td>LambdaCell(fn=<lambda>)</td>\n",
       "      <td>np.ndarray(shape=(512,))</td>\n",
       "      <td>0.150635</td>\n",
       "    </tr>\n",
       "    <tr>\n",
       "      <th>17</th>\n",
       "      <td>tracking</td>\n",
       "      <td>24413</td>\n",
       "      <td>6818</td>\n",
       "      <td>LambdaCell(fn=<lambda>)</td>\n",
       "      <td>np.ndarray(shape=(512,))</td>\n",
       "      <td>0.150269</td>\n",
       "    </tr>\n",
       "    <tr>\n",
       "      <th>18</th>\n",
       "      <td>orbital</td>\n",
       "      <td>18871</td>\n",
       "      <td>8257</td>\n",
       "      <td>LambdaCell(fn=<lambda>)</td>\n",
       "      <td>np.ndarray(shape=(512,))</td>\n",
       "      <td>0.150269</td>\n",
       "    </tr>\n",
       "    <tr>\n",
       "      <th>19</th>\n",
       "      <td>mechanism</td>\n",
       "      <td>58261</td>\n",
       "      <td>3470</td>\n",
       "      <td>LambdaCell(fn=<lambda>)</td>\n",
       "      <td>np.ndarray(shape=(512,))</td>\n",
       "      <td>0.148071</td>\n",
       "    </tr>\n",
       "  </tbody>\n",
       "</table>"
      ],
      "text/plain": [
       "DataPanel(nrows: 20, ncols: 6)"
      ]
     },
     "execution_count": 14,
     "metadata": {},
     "output_type": "execute_result"
    }
   ],
   "source": [
    "mk.config.DisplayOptions.max_rows = 40\n",
    "\n",
    "dp = score_dp\n",
    "prob_indices = (dp[\"prob\"] > 0.5).data.numpy().astype(bool)\n",
    "attr_emb = dp.lz[prob_indices][\"emb\"].data.mean(axis=0) #average embedding of predicted lung images\n",
    "ref_emb = dp.lz[dp[target] == 1][\"emb\"].data.mean(axis=0) #average embedding of true lung images\n",
    "\n",
    "#error_1_indices = ((dp[\"prob\"] > 0.5).data.numpy().astype(bool)) & ((dp[target] == 0).data.astype(bool))\n",
    "#error_1_emb =  dp.lz[error_1_indices][\"emb\"].data.mean(axis=0)\n",
    "\n",
    "#error_2_indices = ((dp[\"prob\"] < 0.5).data.numpy().astype(bool)) & ((dp[target] == 1).data.astype(bool))\n",
    "#error_2_emb =  dp.lz[error_2_indices][\"emb\"].data.mean(axis=0)\n",
    "\n",
    "scores = np.dot(words_dp[\"emb\"].data, attr_emb - ref_emb)\n",
    "words_dp[\"score\"] = scores\n",
    "words_dp.lz[(-scores).argsort()[:20]]"
   ]
  },
  {
   "cell_type": "markdown",
   "id": "2f3ddcae-cfad-408f-8930-6fc3c7870ceb",
   "metadata": {},
   "source": [
    "### Analyze with Multimodal Embeddings"
   ]
  },
  {
   "cell_type": "code",
   "execution_count": 15,
   "id": "ce26584a-b9ba-408c-a544-c1eb82c8337b",
   "metadata": {},
   "outputs": [
    {
     "data": {
      "text/html": [
       "<pre style=\"white-space:pre;overflow-x:auto;line-height:normal;font-family:Menlo,'DejaVu Sans Mono',consolas,'Courier New',monospace\"><span style=\"color: #008080; text-decoration-color: #008080; font-weight: bold\">377110</span>\n",
       "</pre>\n"
      ],
      "text/plain": [
       "\u001b[1;36m377110\u001b[0m\n"
      ]
     },
     "metadata": {},
     "output_type": "display_data"
    }
   ],
   "source": [
    "import pickle\n",
    "ckpt_dir = '/pd/maya/rx-multimodal/classifier/checkpoints/0905_clip_vit_chexbert_frozen_findingsimpressions/'\n",
    "with open(os.path.join(ckpt_dir, 'all_img_vectors.pkl'), 'rb') as f:\n",
    "    keyToImgVector = pickle.load(f)\n",
    "print(len(keyToImgVector))\n"
   ]
  },
  {
   "cell_type": "code",
   "execution_count": 16,
   "id": "53e82e8a-21fc-414c-94df-27d530aec601",
   "metadata": {},
   "outputs": [
    {
     "data": {
      "text/html": [
       "<pre style=\"white-space:pre;overflow-x:auto;line-height:normal;font-family:Menlo,'DejaVu Sans Mono',consolas,'Courier New',monospace\"><span style=\"color: #008080; text-decoration-color: #008080; font-weight: bold\">125417</span>\n",
       "</pre>\n"
      ],
      "text/plain": [
       "\u001b[1;36m125417\u001b[0m\n"
      ]
     },
     "metadata": {},
     "output_type": "display_data"
    }
   ],
   "source": [
    "import pickle\n",
    "ckpt_dir = '/pd/maya/rx-multimodal/classifier/checkpoints/0905_clip_vit_chexbert_frozen_findingsimpressions/'\n",
    "with open(os.path.join(ckpt_dir, 'all_rep_vectors.pkl'), 'rb') as f:\n",
    "    keyToRepVector = pickle.load(f)\n",
    "print(len(keyToRepVector))\n"
   ]
  },
  {
   "cell_type": "code",
   "execution_count": 17,
   "id": "bc6e85e3-5424-4f7c-a5c1-1fd0d0d29c22",
   "metadata": {},
   "outputs": [],
   "source": [
    "word_embs = []\n",
    "keys = []\n",
    "for k in keyToRepVector: \n",
    "    word_embs.append(keyToRepVector[k])\n",
    "    keys.append(k)\n",
    "\n",
    "words_dp=mk.DataPanel({'word_embs': word_embs, 'key': keys})"
   ]
  },
  {
   "cell_type": "code",
   "execution_count": 18,
   "id": "97764c38-6666-43cd-9e93-3eea35c7fa3f",
   "metadata": {},
   "outputs": [],
   "source": [
    "dicom_ids = list(score_dp['dicom_id'])\n",
    "img_vectors = []\n",
    "for d in dicom_ids:\n",
    "    img_vectors.append(keyToImgVector[d])\n",
    "score_dp['img_emb'] = img_vectors"
   ]
  },
  {
   "cell_type": "code",
   "execution_count": 19,
   "id": "92305ee5-7063-47c0-9dbf-dba1f5619d5c",
   "metadata": {},
   "outputs": [],
   "source": [
    "dp = score_dp\n",
    "prob_indices = (dp[\"prob\"] > 0.5).data.numpy().astype(bool)\n",
    "attr_emb = dp.lz[prob_indices][\"img_emb\"].data.mean(axis=0) #average embedding of predicted lung images\n",
    "ref_emb = dp.lz[dp[target] == 1][\"img_emb\"].data.mean(axis=0) #average embedding of true lung images\n",
    "\n",
    "\n",
    "#error_1_indices = ((dp[\"prob\"] > 0.5).data.numpy().astype(bool)) & ((dp[target] == 0).data.astype(bool))\n",
    "#error_1_emb =  dp.lz[list(error_1_indices)][\"img_emb\"].data.mean(axis=0)\n",
    "\n",
    "#error_2_indices = ((dp[\"prob\"] < 0.5).data.numpy().astype(bool)) & ((dp[target] == 1).data.astype(bool))\n",
    "#error_2_emb =  dp.lz[list(error_2_indices)][\"img_emb\"].data.mean(axis=0)"
   ]
  },
  {
   "cell_type": "code",
   "execution_count": 112,
   "id": "b0764373-55ca-4687-99b5-bc05f3427898",
   "metadata": {},
   "outputs": [
    {
     "data": {
      "text/html": [
       "<table border=\"1\" class=\"dataframe\">\n",
       "  <thead>\n",
       "    <tr style=\"text-align: right;\">\n",
       "      <th></th>\n",
       "      <th>word_embs (NumpyArrayColumn)</th>\n",
       "      <th>key (ListColumn)</th>\n",
       "      <th>index (PandasSeriesColumn)</th>\n",
       "      <th>score (NumpyArrayColumn)</th>\n",
       "    </tr>\n",
       "  </thead>\n",
       "  <tbody>\n",
       "    <tr>\n",
       "      <th>0</th>\n",
       "      <td>np.ndarray(shape=(256,))</td>\n",
       "      <td>('14886080', '58927318')</td>\n",
       "      <td>125280</td>\n",
       "      <td>0.088846</td>\n",
       "    </tr>\n",
       "    <tr>\n",
       "      <th>1</th>\n",
       "      <td>np.ndarray(shape=(256,))</td>\n",
       "      <td>('17033046', '59877196')</td>\n",
       "      <td>30789</td>\n",
       "      <td>0.088270</td>\n",
       "    </tr>\n",
       "    <tr>\n",
       "      <th>2</th>\n",
       "      <td>np.ndarray(shape=(256,))</td>\n",
       "      <td>('19139995', '56737267')</td>\n",
       "      <td>61549</td>\n",
       "      <td>0.088262</td>\n",
       "    </tr>\n",
       "    <tr>\n",
       "      <th>3</th>\n",
       "      <td>np.ndarray(shape=(256,))</td>\n",
       "      <td>('13259676', '52137169')</td>\n",
       "      <td>120141</td>\n",
       "      <td>0.088254</td>\n",
       "    </tr>\n",
       "    <tr>\n",
       "      <th>4</th>\n",
       "      <td>np.ndarray(shape=(256,))</td>\n",
       "      <td>('15696083', '50500087')</td>\n",
       "      <td>74326</td>\n",
       "      <td>0.088216</td>\n",
       "    </tr>\n",
       "    <tr>\n",
       "      <th>5</th>\n",
       "      <td>np.ndarray(shape=(256,))</td>\n",
       "      <td>('14490385', '55935665')</td>\n",
       "      <td>54824</td>\n",
       "      <td>0.088167</td>\n",
       "    </tr>\n",
       "    <tr>\n",
       "      <th>6</th>\n",
       "      <td>np.ndarray(shape=(256,))</td>\n",
       "      <td>('12394964', '51733106')</td>\n",
       "      <td>27309</td>\n",
       "      <td>0.088163</td>\n",
       "    </tr>\n",
       "    <tr>\n",
       "      <th>7</th>\n",
       "      <td>np.ndarray(shape=(256,))</td>\n",
       "      <td>('19732617', '53078866')</td>\n",
       "      <td>66138</td>\n",
       "      <td>0.088158</td>\n",
       "    </tr>\n",
       "    <tr>\n",
       "      <th>8</th>\n",
       "      <td>np.ndarray(shape=(256,))</td>\n",
       "      <td>('15733157', '50227161')</td>\n",
       "      <td>87028</td>\n",
       "      <td>0.088037</td>\n",
       "    </tr>\n",
       "    <tr>\n",
       "      <th>9</th>\n",
       "      <td>np.ndarray(shape=(256,))</td>\n",
       "      <td>('19259478', '50670850')</td>\n",
       "      <td>861</td>\n",
       "      <td>0.087946</td>\n",
       "    </tr>\n",
       "    <tr>\n",
       "      <th>10</th>\n",
       "      <td>np.ndarray(shape=(256,))</td>\n",
       "      <td>('19287958', '55465933')</td>\n",
       "      <td>114867</td>\n",
       "      <td>0.087936</td>\n",
       "    </tr>\n",
       "    <tr>\n",
       "      <th>11</th>\n",
       "      <td>np.ndarray(shape=(256,))</td>\n",
       "      <td>('19820806', '50182126')</td>\n",
       "      <td>117833</td>\n",
       "      <td>0.087875</td>\n",
       "    </tr>\n",
       "    <tr>\n",
       "      <th>12</th>\n",
       "      <td>np.ndarray(shape=(256,))</td>\n",
       "      <td>('12380407', '53007022')</td>\n",
       "      <td>51339</td>\n",
       "      <td>0.087813</td>\n",
       "    </tr>\n",
       "    <tr>\n",
       "      <th>13</th>\n",
       "      <td>np.ndarray(shape=(256,))</td>\n",
       "      <td>('18991843', '51731436')</td>\n",
       "      <td>62783</td>\n",
       "      <td>0.087795</td>\n",
       "    </tr>\n",
       "    <tr>\n",
       "      <th>14</th>\n",
       "      <td>np.ndarray(shape=(256,))</td>\n",
       "      <td>('19830694', '53731847')</td>\n",
       "      <td>108918</td>\n",
       "      <td>0.087778</td>\n",
       "    </tr>\n",
       "    <tr>\n",
       "      <th>15</th>\n",
       "      <td>np.ndarray(shape=(256,))</td>\n",
       "      <td>('15859508', '57580634')</td>\n",
       "      <td>16114</td>\n",
       "      <td>0.087773</td>\n",
       "    </tr>\n",
       "    <tr>\n",
       "      <th>16</th>\n",
       "      <td>np.ndarray(shape=(256,))</td>\n",
       "      <td>('15752761', '58889506')</td>\n",
       "      <td>75774</td>\n",
       "      <td>0.087769</td>\n",
       "    </tr>\n",
       "    <tr>\n",
       "      <th>17</th>\n",
       "      <td>np.ndarray(shape=(256,))</td>\n",
       "      <td>('17165725', '57594626')</td>\n",
       "      <td>122120</td>\n",
       "      <td>0.087762</td>\n",
       "    </tr>\n",
       "    <tr>\n",
       "      <th>18</th>\n",
       "      <td>np.ndarray(shape=(256,))</td>\n",
       "      <td>('19687661', '58737985')</td>\n",
       "      <td>110609</td>\n",
       "      <td>0.087758</td>\n",
       "    </tr>\n",
       "    <tr>\n",
       "      <th>19</th>\n",
       "      <td>np.ndarray(shape=(256,))</td>\n",
       "      <td>('11819377', '55102629')</td>\n",
       "      <td>26929</td>\n",
       "      <td>0.087740</td>\n",
       "    </tr>\n",
       "  </tbody>\n",
       "</table>"
      ],
      "text/plain": [
       "DataPanel(nrows: 20, ncols: 4)"
      ]
     },
     "execution_count": 112,
     "metadata": {},
     "output_type": "execute_result"
    }
   ],
   "source": [
    "scores = np.dot(words_dp['word_embs'].data, attr_emb - ref_emb)\n",
    "words_dp[\"score\"] = scores\n",
    "words_dp.lz[(-scores).argsort()[:20]]"
   ]
  },
  {
   "cell_type": "code",
   "execution_count": 113,
   "id": "5590c894-902b-4ba0-ade6-829c1bd3e6a6",
   "metadata": {},
   "outputs": [],
   "source": [
    "STOP_WORDS = set(\n",
    "    \"\"\"\n",
    "a about above across after afterwards again against all almost alone along\n",
    "already also although always am among amongst amount an and another any anyhow\n",
    "anyone anything anyway anywhere are around as at\n",
    "back be became because become becomes becoming been before beforehand behind\n",
    "being below beside besides between beyond both bottom but by\n",
    "call can cannot ca could\n",
    "did do does doing done down due during\n",
    "each eight either eleven else elsewhere empty enough even ever every\n",
    "everyone everything everywhere except\n",
    "few fifteen fifty first five for former formerly forty four from front full\n",
    "further\n",
    "get give go\n",
    "had has have he hence her here hereafter hereby herein hereupon hers herself\n",
    "him himself his how however hundred\n",
    "i if in indeed into is it its itself\n",
    "keep\n",
    "last latter latterly least less\n",
    "just\n",
    "made make many may me meanwhile might mine more moreover most mostly move much\n",
    "must my myself\n",
    "name namely neither never nevertheless next nine no nobody none noone nor not\n",
    "nothing now nowhere\n",
    "of off often on once one only onto or other others otherwise our ours ourselves\n",
    "out over own\n",
    "part per perhaps please put\n",
    "quite\n",
    "rather re really regarding\n",
    "same say see seem seemed seeming seems serious several she should show side\n",
    "since six sixty so some somehow someone something sometime sometimes somewhere\n",
    "still such\n",
    "take ten than that the their them themselves then thence there thereafter\n",
    "thereby therefore therein thereupon these they third this those though three\n",
    "through throughout thru thus to together too top toward towards twelve twenty\n",
    "two\n",
    "under until up unless upon us used using\n",
    "various very very via was we well were what whatever when whence whenever where\n",
    "whereafter whereas whereby wherein whereupon wherever whether which while\n",
    "whither who whoever whole whom whose why will with within without would\n",
    "yet you your yours yourself yourselves\n",
    "\"\"\".split()\n",
    ")\n",
    "\n",
    "MED_STOP_WORDS = ['chest', 'final', 'report', 'examination', 'examination:', 'indication', 'indication:', \\\n",
    "                  'technique', 'technique:', 'comparison', 'comparison:', 'findings', 'findings:', 'impression:', '___', '___.', '//']"
   ]
  },
  {
   "cell_type": "code",
   "execution_count": 85,
   "id": "9f8c93a2-5ec5-4b98-b556-7616773cfb22",
   "metadata": {},
   "outputs": [
    {
     "name": "stderr",
     "output_type": "stream",
     "text": [
      "/home/common/envs/conda/envs/domino/lib/python3.8/site-packages/sklearn/base.py:310: UserWarning: Trying to unpickle estimator TfidfTransformer from version 0.20.3 when using version 0.24.2. This might lead to breaking code or invalid results. Use at your own risk.\n",
      "  warnings.warn(\n",
      "/home/common/envs/conda/envs/domino/lib/python3.8/site-packages/sklearn/base.py:310: UserWarning: Trying to unpickle estimator TfidfVectorizer from version 0.20.3 when using version 0.24.2. This might lead to breaking code or invalid results. Use at your own risk.\n",
      "  warnings.warn(\n"
     ]
    },
    {
     "data": {
      "text/plain": [
       "<scispacy.linking.EntityLinker at 0x7f5e05cccc40>"
      ]
     },
     "execution_count": 85,
     "metadata": {},
     "output_type": "execute_result"
    }
   ],
   "source": [
    "from collections import Counter\n",
    "import scispacy\n",
    "import spacy\n",
    "from scispacy.linking import EntityLinker\n",
    "\n",
    "nlp = spacy.load(\"en_core_sci_sm\")\n",
    "nlp.add_pipe(\"scispacy_linker\", config={\"resolve_abbreviations\": True, \"linker_name\": \"umls\"})"
   ]
  },
  {
   "cell_type": "code",
   "execution_count": 120,
   "id": "b372c0fc-b6af-496e-8b7b-b30c15c53bda",
   "metadata": {},
   "outputs": [
    {
     "data": {
      "text/html": [
       "<pre style=\"white-space:pre;overflow-x:auto;line-height:normal;font-family:Menlo,'DejaVu Sans Mono',consolas,'Courier New',monospace\">final report examination:  chest <span style=\"font-weight: bold\">(</span>portable ap<span style=\"font-weight: bold\">)</span>  indication:  ___ year old man with effusion \n",
       "and pneumothorax s/p chest tube  <span style=\"color: #800080; text-decoration-color: #800080\">//</span> ___ for pneumo, effusion  technique:  portable ap chest \n",
       "radiograph.  comparison:  chest radiograph ___  findings:  support lines and tubes are \n",
       "unchanged in position when compared to the prior study.  there is a persistent airspace \n",
       "opacity in the right upper lobe, unchanged compared to the prior study.  the right apical \n",
       "pneumothorax is not definitely visualized on today's study.  certainly this has not \n",
       "significantly increased.  there is a small left pleural effusion, similar when compared to \n",
       "the prior study.  mild prominence of the pulmonary vasculature and mild cardiomegaly is \n",
       "consistent with mild congestive heart failure.  impression:  no significant interval change \n",
       "when compared to the prior study.  the previously seen right apical pneumothorax is not \n",
       "clearly visualized on today's study. \n",
       "</pre>\n"
      ],
      "text/plain": [
       "final report examination:  chest \u001b[1m(\u001b[0mportable ap\u001b[1m)\u001b[0m  indication:  ___ year old man with effusion \n",
       "and pneumothorax s/p chest tube  \u001b[35m/\u001b[0m\u001b[35m/\u001b[0m ___ for pneumo, effusion  technique:  portable ap chest \n",
       "radiograph.  comparison:  chest radiograph ___  findings:  support lines and tubes are \n",
       "unchanged in position when compared to the prior study.  there is a persistent airspace \n",
       "opacity in the right upper lobe, unchanged compared to the prior study.  the right apical \n",
       "pneumothorax is not definitely visualized on today's study.  certainly this has not \n",
       "significantly increased.  there is a small left pleural effusion, similar when compared to \n",
       "the prior study.  mild prominence of the pulmonary vasculature and mild cardiomegaly is \n",
       "consistent with mild congestive heart failure.  impression:  no significant interval change \n",
       "when compared to the prior study.  the previously seen right apical pneumothorax is not \n",
       "clearly visualized on today's study. \n"
      ]
     },
     "metadata": {},
     "output_type": "display_data"
    },
    {
     "data": {
      "text/html": [
       "<pre style=\"white-space:pre;overflow-x:auto;line-height:normal;font-family:Menlo,'DejaVu Sans Mono',consolas,'Courier New',monospace\">final report indication:  history of cabg, status post chest tube removal.  please evaluate \n",
       "for pneumothorax.  comparisons:  chest radiographs dated back to ___.  technique:  single ap \n",
       "portable radiograph of the chest.  findings:  the patient is status post midline sternotomy \n",
       "and cabg. mild cardiomegaly, slight increased compared to the prior exam from ___, and \n",
       "mediastinal widening are expected immediately post-operatively. right-sided swan-ganz \n",
       "catheter sheath terminates in the upper svc.  there has been slight interval increase in mild\n",
       "bilateral pulmonary edema and mild bibasilar atelectasis.  small bilateral pleural effusions \n",
       "are persistent. there may be a tiny left apical pneumothorax.  the visualized osseous \n",
       "structures are unremarkable.  impression:  <span style=\"color: #008080; text-decoration-color: #008080; font-weight: bold\">1</span>.  tiny left apical pneumothorax status post \n",
       "left-sided chest tube removal.  <span style=\"color: #008080; text-decoration-color: #008080; font-weight: bold\">2</span>.  slight interval increase in bilateral mild pulmonary \n",
       "edema.  <span style=\"color: #008080; text-decoration-color: #008080; font-weight: bold\">3</span>.  prominence of the cardiomediastinal contours, is expected immediately \n",
       "post-operatively.  ___ were d/w dr. ___ by dr. ___ by phone at <span style=\"color: #008080; text-decoration-color: #008080; font-weight: bold\">1</span>:___p on the day of the exam.\n",
       "</pre>\n"
      ],
      "text/plain": [
       "final report indication:  history of cabg, status post chest tube removal.  please evaluate \n",
       "for pneumothorax.  comparisons:  chest radiographs dated back to ___.  technique:  single ap \n",
       "portable radiograph of the chest.  findings:  the patient is status post midline sternotomy \n",
       "and cabg. mild cardiomegaly, slight increased compared to the prior exam from ___, and \n",
       "mediastinal widening are expected immediately post-operatively. right-sided swan-ganz \n",
       "catheter sheath terminates in the upper svc.  there has been slight interval increase in mild\n",
       "bilateral pulmonary edema and mild bibasilar atelectasis.  small bilateral pleural effusions \n",
       "are persistent. there may be a tiny left apical pneumothorax.  the visualized osseous \n",
       "structures are unremarkable.  impression:  \u001b[1;36m1\u001b[0m.  tiny left apical pneumothorax status post \n",
       "left-sided chest tube removal.  \u001b[1;36m2\u001b[0m.  slight interval increase in bilateral mild pulmonary \n",
       "edema.  \u001b[1;36m3\u001b[0m.  prominence of the cardiomediastinal contours, is expected immediately \n",
       "post-operatively.  ___ were d/w dr. ___ by dr. ___ by phone at \u001b[1;36m1\u001b[0m:___p on the day of the exam.\n"
      ]
     },
     "metadata": {},
     "output_type": "display_data"
    },
    {
     "data": {
      "text/html": [
       "<pre style=\"white-space:pre;overflow-x:auto;line-height:normal;font-family:Menlo,'DejaVu Sans Mono',consolas,'Courier New',monospace\">final report indication:  ___ year old woman s/p avr/mvr/asc aorta  <span style=\"color: #800080; text-decoration-color: #800080\">//</span> eval for effusion  \n",
       "technique:  chest pa and lateral  comparison:  ___  findings:  a right-sided picc line is \n",
       "seen in the mid svc, without pneumothorax.the patient has had prior sternotomy with aortic \n",
       "valve and mitral valves repair. the heart remains markedly enlarged.  the pulmonary vascular \n",
       "enlargement and fluid along the right minor fissure has improved.  the right-sided pleural \n",
       "effusion and basal atelectasis/consolidation is stable.  impression:  right-sided picc in \n",
       "good position, without pneumothorax.  interval improved interstitial edema.  marked \n",
       "cardiomegaly \n",
       "</pre>\n"
      ],
      "text/plain": [
       "final report indication:  ___ year old woman s/p avr/mvr/asc aorta  \u001b[35m/\u001b[0m\u001b[35m/\u001b[0m eval for effusion  \n",
       "technique:  chest pa and lateral  comparison:  ___  findings:  a right-sided picc line is \n",
       "seen in the mid svc, without pneumothorax.the patient has had prior sternotomy with aortic \n",
       "valve and mitral valves repair. the heart remains markedly enlarged.  the pulmonary vascular \n",
       "enlargement and fluid along the right minor fissure has improved.  the right-sided pleural \n",
       "effusion and basal atelectasis/consolidation is stable.  impression:  right-sided picc in \n",
       "good position, without pneumothorax.  interval improved interstitial edema.  marked \n",
       "cardiomegaly \n"
      ]
     },
     "metadata": {},
     "output_type": "display_data"
    },
    {
     "data": {
      "text/html": [
       "<pre style=\"white-space:pre;overflow-x:auto;line-height:normal;font-family:Menlo,'DejaVu Sans Mono',consolas,'Courier New',monospace\">final report history:  ___-year-old man with recent seizure and spiked fever, any \n",
       "intrathoracic process .  comparison:  exam is compared to chest x-ray of ___.  findings:  the\n",
       "ng tube is unchanged and in standard position.  the ventilation of the right lung base is \n",
       "improved with reduced pleural effusion.  persist the left base consolidation with small \n",
       "pleural effusion.  the pulmonary edema is reduced.  there is no pneumthorax  cardiomegaly is \n",
       "stable  impression:  improved right base ventilation with reduced pleural effusion. the \n",
       "consolidation at the left base with small pleural effusion is stable. \n",
       "</pre>\n"
      ],
      "text/plain": [
       "final report history:  ___-year-old man with recent seizure and spiked fever, any \n",
       "intrathoracic process .  comparison:  exam is compared to chest x-ray of ___.  findings:  the\n",
       "ng tube is unchanged and in standard position.  the ventilation of the right lung base is \n",
       "improved with reduced pleural effusion.  persist the left base consolidation with small \n",
       "pleural effusion.  the pulmonary edema is reduced.  there is no pneumthorax  cardiomegaly is \n",
       "stable  impression:  improved right base ventilation with reduced pleural effusion. the \n",
       "consolidation at the left base with small pleural effusion is stable. \n"
      ]
     },
     "metadata": {},
     "output_type": "display_data"
    },
    {
     "data": {
      "text/html": [
       "<pre style=\"white-space:pre;overflow-x:auto;line-height:normal;font-family:Menlo,'DejaVu Sans Mono',consolas,'Courier New',monospace\">final report examination:  chest <span style=\"font-weight: bold\">(</span>portable ap<span style=\"font-weight: bold\">)</span>  indication:  ___ year old man s/p aaa repair \n",
       "<span style=\"color: #800080; text-decoration-color: #800080\">//</span> pulm edema  comparison:  chest x-ray examination from ___ at <span style=\"color: #00ff00; text-decoration-color: #00ff00; font-weight: bold\">20:28</span>  findings:  again seen \n",
       "is a right ij sheath overlying the proximal svc.  an ng tube is present the tip likely \n",
       "overlies the gastric fundus.  inspiratory volumes are low.  the cardiac silhouette is \n",
       "enlarged, but unchanged sternotomy wires and mediastinal clips are noted there is engorgement\n",
       "of the central vascular sure, upper zone redistribution, diffuse vascular plethora and \n",
       "vascular blurring, and peribronchial cuffing consistent with chf and interstitial edema. \n",
       "again seen is increased retrocardiac opacity consistent with left lower lobe collapse and/or \n",
       "consolidation.  is also patchy opacity at the right lung base similar to the prior film.  \n",
       "there is a small to moderate left-sided effusion pleural effusion and a small right pleural \n",
       "effusion.  these are essentially unchanged, possibly slightly larger on the right.  \n",
       "impression:  chf with interstitial edema.  allowing for technical differences, this is \n",
       "similar, possibly minimally more pronounced, than on the prior study.  bilateral pleural \n",
       "effusions left-greater-than- right, with underlying collapse and/or consolidation.  the \n",
       "effusion on the right may be slightly larger. \n",
       "</pre>\n"
      ],
      "text/plain": [
       "final report examination:  chest \u001b[1m(\u001b[0mportable ap\u001b[1m)\u001b[0m  indication:  ___ year old man s/p aaa repair \n",
       "\u001b[35m/\u001b[0m\u001b[35m/\u001b[0m pulm edema  comparison:  chest x-ray examination from ___ at \u001b[1;92m20:28\u001b[0m  findings:  again seen \n",
       "is a right ij sheath overlying the proximal svc.  an ng tube is present the tip likely \n",
       "overlies the gastric fundus.  inspiratory volumes are low.  the cardiac silhouette is \n",
       "enlarged, but unchanged sternotomy wires and mediastinal clips are noted there is engorgement\n",
       "of the central vascular sure, upper zone redistribution, diffuse vascular plethora and \n",
       "vascular blurring, and peribronchial cuffing consistent with chf and interstitial edema. \n",
       "again seen is increased retrocardiac opacity consistent with left lower lobe collapse and/or \n",
       "consolidation.  is also patchy opacity at the right lung base similar to the prior film.  \n",
       "there is a small to moderate left-sided effusion pleural effusion and a small right pleural \n",
       "effusion.  these are essentially unchanged, possibly slightly larger on the right.  \n",
       "impression:  chf with interstitial edema.  allowing for technical differences, this is \n",
       "similar, possibly minimally more pronounced, than on the prior study.  bilateral pleural \n",
       "effusions left-greater-than- right, with underlying collapse and/or consolidation.  the \n",
       "effusion on the right may be slightly larger. \n"
      ]
     },
     "metadata": {},
     "output_type": "display_data"
    },
    {
     "data": {
      "text/html": [
       "<pre style=\"white-space:pre;overflow-x:auto;line-height:normal;font-family:Menlo,'DejaVu Sans Mono',consolas,'Courier New',monospace\">final report examination:  chest radiograph  indication:  ___ year old man with lung nodule \n",
       "sp superior segmentectomy on lt <span style=\"color: #800080; text-decoration-color: #800080\">//</span> ptx, effusion  technique:  portable ap chest radiograph  \n",
       "comparison:  prior chest radiograph from ___, ___, ___. ct chest without contrast from ___  \n",
       "findings:  since ___, a small left apical pneumothorax is unchanged with left chest tube in \n",
       "place.  mild pulmonary edema and hilar enlargement are improved. lung volumes remain low. \n",
       "mild cardiac enlargement persists. small bilateral pleural effusions are presumed.  \n",
       "impression:   <span style=\"color: #008080; text-decoration-color: #008080; font-weight: bold\">1</span>. stable left apical pneumothorax with improved mild pulmonary edema since \n",
       "___. \n",
       "</pre>\n"
      ],
      "text/plain": [
       "final report examination:  chest radiograph  indication:  ___ year old man with lung nodule \n",
       "sp superior segmentectomy on lt \u001b[35m/\u001b[0m\u001b[35m/\u001b[0m ptx, effusion  technique:  portable ap chest radiograph  \n",
       "comparison:  prior chest radiograph from ___, ___, ___. ct chest without contrast from ___  \n",
       "findings:  since ___, a small left apical pneumothorax is unchanged with left chest tube in \n",
       "place.  mild pulmonary edema and hilar enlargement are improved. lung volumes remain low. \n",
       "mild cardiac enlargement persists. small bilateral pleural effusions are presumed.  \n",
       "impression:   \u001b[1;36m1\u001b[0m. stable left apical pneumothorax with improved mild pulmonary edema since \n",
       "___. \n"
      ]
     },
     "metadata": {},
     "output_type": "display_data"
    },
    {
     "data": {
      "text/html": [
       "<pre style=\"white-space:pre;overflow-x:auto;line-height:normal;font-family:Menlo,'DejaVu Sans Mono',consolas,'Courier New',monospace\">final report examination:  chest <span style=\"font-weight: bold\">(</span>portable ap<span style=\"font-weight: bold\">)</span>  indication:  ___ with cad s/p stent in ___, \n",
       "hfpef, dm copd and chronic anemia with hypercarib resp failure ___ copd exacerbation and \n",
       "acute renal failure now with r lung effusion and re-intubated, on cpap now.  <span style=\"color: #800080; text-decoration-color: #800080\">//</span> ?interval  \n",
       "comparison:  chest x-ray from ___ at <span style=\"color: #00ff00; text-decoration-color: #00ff00; font-weight: bold\">2:37</span>  findings:  slightly rotated positioning.  an et \n",
       "tube is present, tip approximately <span style=\"color: #008080; text-decoration-color: #008080; font-weight: bold\">4.2</span> cm above the carina.  an ng tube is present, tip \n",
       "extends beneath diaphragm.  the sideport if present with lie above the ge junction.  \n",
       "cardiomegaly is unchanged.  there is evidence of chf, with upper zone redistribution, \n",
       "vascular plethora, interstitial edema and diffuse vascular blurring, unchanged.  there is \n",
       "prominent opacity in the right lower zone,  unchanged.  this likely represents a combination \n",
       "of a pleural effusion with underlying collapse and/or consolidation.  increased retrocardiac \n",
       "density is unchanged.  however, the left pleural sulcus is better seen, suggesting decrease \n",
       "in size of left pleural effusion.  impression:  ng tube tip lies beneath the diaphragm.  \n",
       "however, if there is a side-port, it may lie above the ge junction.  otherwise, essentially \n",
       "unchanged compared with ___ at <span style=\"color: #00ff00; text-decoration-color: #00ff00; font-weight: bold\">02:37</span>.  the left costophrenic sulcus is now better seen . \n",
       "cardiomegaly, chf and bibasilar opacities, are similar to the prior study. \n",
       "</pre>\n"
      ],
      "text/plain": [
       "final report examination:  chest \u001b[1m(\u001b[0mportable ap\u001b[1m)\u001b[0m  indication:  ___ with cad s/p stent in ___, \n",
       "hfpef, dm copd and chronic anemia with hypercarib resp failure ___ copd exacerbation and \n",
       "acute renal failure now with r lung effusion and re-intubated, on cpap now.  \u001b[35m/\u001b[0m\u001b[35m/\u001b[0m ?interval  \n",
       "comparison:  chest x-ray from ___ at \u001b[1;92m2:37\u001b[0m  findings:  slightly rotated positioning.  an et \n",
       "tube is present, tip approximately \u001b[1;36m4.2\u001b[0m cm above the carina.  an ng tube is present, tip \n",
       "extends beneath diaphragm.  the sideport if present with lie above the ge junction.  \n",
       "cardiomegaly is unchanged.  there is evidence of chf, with upper zone redistribution, \n",
       "vascular plethora, interstitial edema and diffuse vascular blurring, unchanged.  there is \n",
       "prominent opacity in the right lower zone,  unchanged.  this likely represents a combination \n",
       "of a pleural effusion with underlying collapse and/or consolidation.  increased retrocardiac \n",
       "density is unchanged.  however, the left pleural sulcus is better seen, suggesting decrease \n",
       "in size of left pleural effusion.  impression:  ng tube tip lies beneath the diaphragm.  \n",
       "however, if there is a side-port, it may lie above the ge junction.  otherwise, essentially \n",
       "unchanged compared with ___ at \u001b[1;92m02:37\u001b[0m.  the left costophrenic sulcus is now better seen . \n",
       "cardiomegaly, chf and bibasilar opacities, are similar to the prior study. \n"
      ]
     },
     "metadata": {},
     "output_type": "display_data"
    },
    {
     "data": {
      "text/html": [
       "<pre style=\"white-space:pre;overflow-x:auto;line-height:normal;font-family:Menlo,'DejaVu Sans Mono',consolas,'Courier New',monospace\">final report examination:  chest <span style=\"font-weight: bold\">(</span>portable ap<span style=\"font-weight: bold\">)</span>  indication:  ___ year old man s/p cabg/ avr \n",
       "with right pigtail in place  <span style=\"color: #800080; text-decoration-color: #800080\">//</span> eval for effusion      eval for effusion  comparison:  \n",
       "comparison to ___ at <span style=\"color: #00ff00; text-decoration-color: #00ff00; font-weight: bold\">07:41</span>  findings:  portable ap upright chest ___ at <span style=\"color: #00ff00; text-decoration-color: #00ff00; font-weight: bold\">07:45</span> is submitted.  \n",
       "impression:  feeding tube is seen coursing below the diaphragm. the left picc line continues \n",
       "to have its tip at the cavoatrial junction.  the mild pulmonary edema has improved. there are\n",
       "layering bilateral effusions with bibasilar consolidation suggestive of partial lower lobe \n",
       "atelectasis. the heart remains enlarged status post median sternotomy. stable mediastinal \n",
       "contours. no pneumothorax. \n",
       "</pre>\n"
      ],
      "text/plain": [
       "final report examination:  chest \u001b[1m(\u001b[0mportable ap\u001b[1m)\u001b[0m  indication:  ___ year old man s/p cabg/ avr \n",
       "with right pigtail in place  \u001b[35m/\u001b[0m\u001b[35m/\u001b[0m eval for effusion      eval for effusion  comparison:  \n",
       "comparison to ___ at \u001b[1;92m07:41\u001b[0m  findings:  portable ap upright chest ___ at \u001b[1;92m07:45\u001b[0m is submitted.  \n",
       "impression:  feeding tube is seen coursing below the diaphragm. the left picc line continues \n",
       "to have its tip at the cavoatrial junction.  the mild pulmonary edema has improved. there are\n",
       "layering bilateral effusions with bibasilar consolidation suggestive of partial lower lobe \n",
       "atelectasis. the heart remains enlarged status post median sternotomy. stable mediastinal \n",
       "contours. no pneumothorax. \n"
      ]
     },
     "metadata": {},
     "output_type": "display_data"
    },
    {
     "data": {
      "text/html": [
       "<pre style=\"white-space:pre;overflow-x:auto;line-height:normal;font-family:Menlo,'DejaVu Sans Mono',consolas,'Courier New',monospace\">final report examination:  chest <span style=\"font-weight: bold\">(</span>portable ap<span style=\"font-weight: bold\">)</span>  indication:  ___ year old woman s/p avr/mvr  \n",
       "<span style=\"color: #800080; text-decoration-color: #800080\">//</span> eval effusion  comparison:  chest x-ray from ___ at <span style=\"color: #00ff00; text-decoration-color: #00ff00; font-weight: bold\">10:08</span>  findings:  the et tube, ng \n",
       "tube, and swan-ganz catheter have been removed.  a right sided picc line is again seen, tip \n",
       "over distal svc, near cavoatrial junction.  no pneumothorax detected.  again seen are \n",
       "sternotomy wires, with moderately severe cardiomegaly, similar to the prior study.  there is \n",
       "vascular plethora and diffuse vascular blurring, consistent with chf.  this is probably \n",
       "similar in appearance.  there are small to moderate bilateral effusions with underlying \n",
       "collapse and/or consolidation.  compared to ___, the right effusion is probably larger, with \n",
       "a small amount of fluid now seen within the minor fissure.  again noted is a surgical clip \n",
       "overlying the right lung base -- this may or may not relate to the chest.  impression:   <span style=\"color: #008080; text-decoration-color: #008080; font-weight: bold\">1</span>. \n",
       "marked cardiomegaly, with chf and mild interstitial edema, probably unchanged. <span style=\"color: #008080; text-decoration-color: #008080; font-weight: bold\">2</span>. bilateral \n",
       "effusions, with underlying bibasilar collapse and/or consolidation.  the right effusion is \n",
       "larger compared with ___. <span style=\"color: #008080; text-decoration-color: #008080; font-weight: bold\">3</span>. lines and tubes as described. \n",
       "</pre>\n"
      ],
      "text/plain": [
       "final report examination:  chest \u001b[1m(\u001b[0mportable ap\u001b[1m)\u001b[0m  indication:  ___ year old woman s/p avr/mvr  \n",
       "\u001b[35m/\u001b[0m\u001b[35m/\u001b[0m eval effusion  comparison:  chest x-ray from ___ at \u001b[1;92m10:08\u001b[0m  findings:  the et tube, ng \n",
       "tube, and swan-ganz catheter have been removed.  a right sided picc line is again seen, tip \n",
       "over distal svc, near cavoatrial junction.  no pneumothorax detected.  again seen are \n",
       "sternotomy wires, with moderately severe cardiomegaly, similar to the prior study.  there is \n",
       "vascular plethora and diffuse vascular blurring, consistent with chf.  this is probably \n",
       "similar in appearance.  there are small to moderate bilateral effusions with underlying \n",
       "collapse and/or consolidation.  compared to ___, the right effusion is probably larger, with \n",
       "a small amount of fluid now seen within the minor fissure.  again noted is a surgical clip \n",
       "overlying the right lung base -- this may or may not relate to the chest.  impression:   \u001b[1;36m1\u001b[0m. \n",
       "marked cardiomegaly, with chf and mild interstitial edema, probably unchanged. \u001b[1;36m2\u001b[0m. bilateral \n",
       "effusions, with underlying bibasilar collapse and/or consolidation.  the right effusion is \n",
       "larger compared with ___. \u001b[1;36m3\u001b[0m. lines and tubes as described. \n"
      ]
     },
     "metadata": {},
     "output_type": "display_data"
    },
    {
     "data": {
      "text/html": [
       "<pre style=\"white-space:pre;overflow-x:auto;line-height:normal;font-family:Menlo,'DejaVu Sans Mono',consolas,'Courier New',monospace\">final report indication:  status post pleurx catheter placement.  evaluate right pleural \n",
       "effusion.  comparison:  ___.  technique:  portable frontal chest radiograph.  findings:  \n",
       "there has been interval placement of a right pleurx catheter with substantial improvement of \n",
       "the right effusion, now with small remnant fluid.  there is a likely small left pleural \n",
       "effusion.  there is mild pulmonary edema and vascular congestion relatively unchanged from \n",
       "prior exam.  enlarged cardiac silhouette and hilar contours are stable.  a left pectoral \n",
       "pacer is unchanged in position.  there is no pneumothorax.  impression:  right pleurx \n",
       "catheter in place with substantial improvement in right pleural effusion.  persistent small \n",
       "left effusion, and mild pulmonary edema and vascular congestion. \n",
       "</pre>\n"
      ],
      "text/plain": [
       "final report indication:  status post pleurx catheter placement.  evaluate right pleural \n",
       "effusion.  comparison:  ___.  technique:  portable frontal chest radiograph.  findings:  \n",
       "there has been interval placement of a right pleurx catheter with substantial improvement of \n",
       "the right effusion, now with small remnant fluid.  there is a likely small left pleural \n",
       "effusion.  there is mild pulmonary edema and vascular congestion relatively unchanged from \n",
       "prior exam.  enlarged cardiac silhouette and hilar contours are stable.  a left pectoral \n",
       "pacer is unchanged in position.  there is no pneumothorax.  impression:  right pleurx \n",
       "catheter in place with substantial improvement in right pleural effusion.  persistent small \n",
       "left effusion, and mild pulmonary edema and vascular congestion. \n"
      ]
     },
     "metadata": {},
     "output_type": "display_data"
    }
   ],
   "source": [
    "keys = words_dp.lz[(-scores).argsort()[:10]]['key']\n",
    "all_re_words = []\n",
    "for key in keys:\n",
    "    path = f'p{key[0][:2]}/p{key[0]}/s{key[1]}.txt'\n",
    "    report_path = os.path.join('/home/common/datasets/mimic/mimic-cxr-reports/files/', path)\n",
    "    report = ''\n",
    "    with open(report_path) as f:\n",
    "        for line in f.readlines():\n",
    "            report+=line.strip().lower()+' '\n",
    "    doc = nlp(report)\n",
    "    print(doc)\n",
    "\n",
    "    words = []\n",
    "    for word in report.split():\n",
    "        if(word not in STOP_WORDS and word not in MED_STOP_WORDS): words.append(word)\n",
    "    all_re_words.extend(list(words))"
   ]
  },
  {
   "cell_type": "code",
   "execution_count": 115,
   "id": "b4e8e088-a1b2-464b-86bb-90e13501dc39",
   "metadata": {},
   "outputs": [
    {
     "data": {
      "text/plain": [
       "[('right', 21),\n",
       " ('pleural', 17),\n",
       " ('effusion', 16),\n",
       " ('left', 16),\n",
       " ('mild', 14),\n",
       " ('small', 13),\n",
       " ('prior', 12),\n",
       " ('tube', 10),\n",
       " ('pulmonary', 10),\n",
       " ('vascular', 10),\n",
       " ('compared', 9),\n",
       " ('study.', 9),\n",
       " ('edema', 9),\n",
       " ('unchanged', 8),\n",
       " ('seen', 8),\n",
       " ('bilateral', 8),\n",
       " ('effusion.', 8),\n",
       " ('pneumothorax', 7),\n",
       " ('year', 6),\n",
       " ('old', 6)]"
      ]
     },
     "execution_count": 115,
     "metadata": {},
     "output_type": "execute_result"
    }
   ],
   "source": [
    "Counter(all_re_words).most_common(20)"
   ]
  },
  {
   "cell_type": "markdown",
   "id": "540ce958-b326-4555-ae20-b5b8e23daf3d",
   "metadata": {},
   "source": [
    "### scratch (ignore following code)"
   ]
  },
  {
   "cell_type": "code",
   "execution_count": 104,
   "id": "93f4f9d5-1190-4f11-84e1-95b0fcdd997c",
   "metadata": {},
   "outputs": [],
   "source": [
    "attr_words = Counter(all_re_words)"
   ]
  },
  {
   "cell_type": "code",
   "execution_count": 109,
   "id": "0520c51e-bee5-46ca-a6fa-f1bc83192291",
   "metadata": {},
   "outputs": [],
   "source": [
    "ref_words = Counter(all_re_words)"
   ]
  },
  {
   "cell_type": "code",
   "execution_count": 119,
   "id": "95a45550-dea8-4457-b194-3a54669bdb78",
   "metadata": {},
   "outputs": [
    {
     "data": {
      "text/html": [
       "<pre style=\"white-space:pre;overflow-x:auto;line-height:normal;font-family:Menlo,'DejaVu Sans Mono',consolas,'Courier New',monospace\"><span style=\"font-weight: bold\">{</span>\n",
       "    <span style=\"color: #008000; text-decoration-color: #008000\">'left'</span>: <span style=\"color: #008080; text-decoration-color: #008080; font-weight: bold\">16</span>,\n",
       "    <span style=\"color: #008000; text-decoration-color: #008000\">'effusion.'</span>: <span style=\"color: #008080; text-decoration-color: #008080; font-weight: bold\">8</span>,\n",
       "    <span style=\"color: #008000; text-decoration-color: #008000\">'tube'</span>: <span style=\"color: #008080; text-decoration-color: #008080; font-weight: bold\">8</span>,\n",
       "    <span style=\"color: #008000; text-decoration-color: #008000\">'likely'</span>: <span style=\"color: #008080; text-decoration-color: #008080; font-weight: bold\">6</span>,\n",
       "    <span style=\"color: #008000; text-decoration-color: #008000\">'atelectasis'</span>: <span style=\"color: #008080; text-decoration-color: #008080; font-weight: bold\">5</span>,\n",
       "    <span style=\"color: #008000; text-decoration-color: #008000\">'1.'</span>: <span style=\"color: #008080; text-decoration-color: #008080; font-weight: bold\">5</span>,\n",
       "    <span style=\"color: #008000; text-decoration-color: #008000\">'2.'</span>: <span style=\"color: #008080; text-decoration-color: #008080; font-weight: bold\">5</span>,\n",
       "    <span style=\"color: #008000; text-decoration-color: #008000\">'tip'</span>: <span style=\"color: #008080; text-decoration-color: #008080; font-weight: bold\">5</span>,\n",
       "    <span style=\"color: #008000; text-decoration-color: #008000\">'chest.'</span>: <span style=\"color: #008080; text-decoration-color: #008080; font-weight: bold\">4</span>,\n",
       "    <span style=\"color: #008000; text-decoration-color: #008000\">'radiograph'</span>: <span style=\"color: #008080; text-decoration-color: #008080; font-weight: bold\">4</span>,\n",
       "    <span style=\"color: #008000; text-decoration-color: #008000\">'mild'</span>: <span style=\"color: #008080; text-decoration-color: #008080; font-weight: bold\">4</span>,\n",
       "    <span style=\"color: #008000; text-decoration-color: #008000\">'vascular'</span>: <span style=\"color: #008080; text-decoration-color: #008080; font-weight: bold\">4</span>,\n",
       "    <span style=\"color: #008000; text-decoration-color: #008000\">'new'</span>: <span style=\"color: #008080; text-decoration-color: #008080; font-weight: bold\">4</span>,\n",
       "    <span style=\"color: #008000; text-decoration-color: #008000\">'pneumonia'</span>: <span style=\"color: #008080; text-decoration-color: #008080; font-weight: bold\">4</span>,\n",
       "    <span style=\"color: #008000; text-decoration-color: #008000\">'position.'</span>: <span style=\"color: #008080; text-decoration-color: #008080; font-weight: bold\">4</span>,\n",
       "    <span style=\"color: #008000; text-decoration-color: #008000\">'elevation'</span>: <span style=\"color: #008080; text-decoration-color: #008080; font-weight: bold\">4</span>,\n",
       "    <span style=\"color: #008000; text-decoration-color: #008000\">'hemidiaphragm'</span>: <span style=\"color: #008080; text-decoration-color: #008080; font-weight: bold\">4</span>,\n",
       "    <span style=\"color: #008000; text-decoration-color: #008000\">'greater'</span>: <span style=\"color: #008080; text-decoration-color: #008080; font-weight: bold\">4</span>,\n",
       "    <span style=\"color: #008000; text-decoration-color: #008000\">'pleural'</span>: <span style=\"color: #008080; text-decoration-color: #008080; font-weight: bold\">3</span>,\n",
       "    <span style=\"color: #008000; text-decoration-color: #008000\">'post'</span>: <span style=\"color: #008080; text-decoration-color: #008080; font-weight: bold\">3</span>,\n",
       "    <span style=\"color: #008000; text-decoration-color: #008000\">'heart'</span>: <span style=\"color: #008080; text-decoration-color: #008080; font-weight: bold\">3</span>,\n",
       "    <span style=\"color: #008000; text-decoration-color: #008000\">'small'</span>: <span style=\"color: #008080; text-decoration-color: #008080; font-weight: bold\">3</span>,\n",
       "    <span style=\"color: #008000; text-decoration-color: #008000\">'basilar'</span>: <span style=\"color: #008080; text-decoration-color: #008080; font-weight: bold\">3</span>,\n",
       "    <span style=\"color: #008000; text-decoration-color: #008000\">'opacity,'</span>: <span style=\"color: #008080; text-decoration-color: #008080; font-weight: bold\">3</span>,\n",
       "    <span style=\"color: #008000; text-decoration-color: #008000\">'history:'</span>: <span style=\"color: #008080; text-decoration-color: #008080; font-weight: bold\">3</span>,\n",
       "    <span style=\"color: #008000; text-decoration-color: #008000\">'congestion'</span>: <span style=\"color: #008080; text-decoration-color: #008080; font-weight: bold\">3</span>,\n",
       "    <span style=\"color: #008000; text-decoration-color: #008000\">'hypoinflated'</span>: <span style=\"color: #008080; text-decoration-color: #008080; font-weight: bold\">3</span>,\n",
       "    <span style=\"color: #008000; text-decoration-color: #008000\">'lungs'</span>: <span style=\"color: #008080; text-decoration-color: #008080; font-weight: bold\">3</span>,\n",
       "    <span style=\"color: #008000; text-decoration-color: #008000\">'lines'</span>: <span style=\"color: #008080; text-decoration-color: #008080; font-weight: bold\">3</span>,\n",
       "    <span style=\"color: #008000; text-decoration-color: #008000\">'frontal'</span>: <span style=\"color: #008080; text-decoration-color: #008080; font-weight: bold\">3</span>,\n",
       "    <span style=\"color: #008000; text-decoration-color: #008000\">'enteric'</span>: <span style=\"color: #008080; text-decoration-color: #008080; font-weight: bold\">3</span>,\n",
       "    <span style=\"color: #008000; text-decoration-color: #008000\">'unremarkable.'</span>: <span style=\"color: #008080; text-decoration-color: #008080; font-weight: bold\">3</span>,\n",
       "    <span style=\"color: #008000; text-decoration-color: #008000\">'status'</span>: <span style=\"color: #008080; text-decoration-color: #008080; font-weight: bold\">3</span>,\n",
       "    <span style=\"color: #008000; text-decoration-color: #008000\">'picc'</span>: <span style=\"color: #008080; text-decoration-color: #008080; font-weight: bold\">3</span>,\n",
       "    <span style=\"color: #008000; text-decoration-color: #008000\">'focal'</span>: <span style=\"color: #008080; text-decoration-color: #008080; font-weight: bold\">3</span>,\n",
       "    <span style=\"color: #008000; text-decoration-color: #008000\">'hemidiaphragm.'</span>: <span style=\"color: #008080; text-decoration-color: #008080; font-weight: bold\">3</span>,\n",
       "    <span style=\"color: #008000; text-decoration-color: #008000\">'atrium.'</span>: <span style=\"color: #008080; text-decoration-color: #008080; font-weight: bold\">3</span>,\n",
       "    <span style=\"color: #008000; text-decoration-color: #008000\">'recent'</span>: <span style=\"color: #008080; text-decoration-color: #008080; font-weight: bold\">3</span>,\n",
       "    <span style=\"color: #008000; text-decoration-color: #008000\">'size,'</span>: <span style=\"color: #008080; text-decoration-color: #008080; font-weight: bold\">2</span>,\n",
       "    <span style=\"color: #008000; text-decoration-color: #008000\">'suggestion'</span>: <span style=\"color: #008080; text-decoration-color: #008080; font-weight: bold\">2</span>,\n",
       "    <span style=\"color: #008000; text-decoration-color: #008000\">'effusion,'</span>: <span style=\"color: #008080; text-decoration-color: #008080; font-weight: bold\">2</span>,\n",
       "    <span style=\"color: #008000; text-decoration-color: #008000\">'similar.'</span>: <span style=\"color: #008080; text-decoration-color: #008080; font-weight: bold\">2</span>,\n",
       "    <span style=\"color: #008000; text-decoration-color: #008000\">'mildly'</span>: <span style=\"color: #008080; text-decoration-color: #008080; font-weight: bold\">2</span>,\n",
       "    <span style=\"color: #008000; text-decoration-color: #008000\">'atelectasis,'</span>: <span style=\"color: #008080; text-decoration-color: #008080; font-weight: bold\">2</span>,\n",
       "    <span style=\"color: #008000; text-decoration-color: #008000\">'thoracic'</span>: <span style=\"color: #008080; text-decoration-color: #008080; font-weight: bold\">2</span>,\n",
       "    <span style=\"color: #008000; text-decoration-color: #008000\">'remains'</span>: <span style=\"color: #008080; text-decoration-color: #008080; font-weight: bold\">2</span>,\n",
       "    <span style=\"color: #008000; text-decoration-color: #008000\">'right,'</span>: <span style=\"color: #008080; text-decoration-color: #008080; font-weight: bold\">2</span>,\n",
       "    <span style=\"color: #008000; text-decoration-color: #008000\">'bibasilar'</span>: <span style=\"color: #008080; text-decoration-color: #008080; font-weight: bold\">2</span>,\n",
       "    <span style=\"color: #008000; text-decoration-color: #008000\">'lower'</span>: <span style=\"color: #008080; text-decoration-color: #008080; font-weight: bold\">2</span>,\n",
       "    <span style=\"color: #008000; text-decoration-color: #008000\">'lobe'</span>: <span style=\"color: #008080; text-decoration-color: #008080; font-weight: bold\">2</span>,\n",
       "    <span style=\"color: #008000; text-decoration-color: #008000\">'represents'</span>: <span style=\"color: #008080; text-decoration-color: #008080; font-weight: bold\">2</span>,\n",
       "    <span style=\"color: #008000; text-decoration-color: #008000\">'appropriate'</span>: <span style=\"color: #008080; text-decoration-color: #008080; font-weight: bold\">2</span>,\n",
       "    <span style=\"color: #008000; text-decoration-color: #008000\">'3.'</span>: <span style=\"color: #008080; text-decoration-color: #008080; font-weight: bold\">2</span>,\n",
       "    <span style=\"color: #008000; text-decoration-color: #008000\">'support'</span>: <span style=\"color: #008080; text-decoration-color: #008080; font-weight: bold\">2</span>,\n",
       "    <span style=\"color: #008000; text-decoration-color: #008000\">'tubes'</span>: <span style=\"color: #008080; text-decoration-color: #008080; font-weight: bold\">2</span>,\n",
       "    <span style=\"color: #008000; text-decoration-color: #008000\">'described'</span>: <span style=\"color: #008080; text-decoration-color: #008080; font-weight: bold\">2</span>,\n",
       "    <span style=\"color: #008000; text-decoration-color: #008000\">'above.'</span>: <span style=\"color: #008080; text-decoration-color: #008080; font-weight: bold\">2</span>,\n",
       "    <span style=\"color: #008000; text-decoration-color: #008000\">'___,'</span>: <span style=\"color: #008080; text-decoration-color: #008080; font-weight: bold\">2</span>,\n",
       "    <span style=\"color: #008000; text-decoration-color: #008000\">'coursing'</span>: <span style=\"color: #008080; text-decoration-color: #008080; font-weight: bold\">2</span>,\n",
       "    <span style=\"color: #008000; text-decoration-color: #008000\">'mid'</span>: <span style=\"color: #008080; text-decoration-color: #008080; font-weight: bold\">2</span>,\n",
       "    <span style=\"color: #008000; text-decoration-color: #008000\">'level'</span>: <span style=\"color: #008080; text-decoration-color: #008080; font-weight: bold\">2</span>,\n",
       "    <span style=\"color: #008000; text-decoration-color: #008000\">'perihilar'</span>: <span style=\"color: #008080; text-decoration-color: #008080; font-weight: bold\">2</span>,\n",
       "    <span style=\"color: #008000; text-decoration-color: #008000\">'given'</span>: <span style=\"color: #008080; text-decoration-color: #008080; font-weight: bold\">2</span>,\n",
       "    <span style=\"color: #008000; text-decoration-color: #008000\">'exaggerate'</span>: <span style=\"color: #008080; text-decoration-color: #008080; font-weight: bold\">2</span>,\n",
       "    <span style=\"color: #008000; text-decoration-color: #008000\">'altered'</span>: <span style=\"color: #008080; text-decoration-color: #008080; font-weight: bold\">2</span>,\n",
       "    <span style=\"color: #008000; text-decoration-color: #008000\">'mental'</span>: <span style=\"color: #008080; text-decoration-color: #008080; font-weight: bold\">2</span>,\n",
       "    <span style=\"color: #008000; text-decoration-color: #008000\">'ends'</span>: <span style=\"color: #008080; text-decoration-color: #008080; font-weight: bold\">2</span>,\n",
       "    <span style=\"color: #008000; text-decoration-color: #008000\">'stomach.'</span>: <span style=\"color: #008080; text-decoration-color: #008080; font-weight: bold\">2</span>,\n",
       "    <span style=\"color: #008000; text-decoration-color: #008000\">'svc.'</span>: <span style=\"color: #008080; text-decoration-color: #008080; font-weight: bold\">2</span>,\n",
       "    <span style=\"color: #008000; text-decoration-color: #008000\">'consolidation.'</span>: <span style=\"color: #008080; text-decoration-color: #008080; font-weight: bold\">2</span>,\n",
       "    <span style=\"color: #008000; text-decoration-color: #008000\">'placement.'</span>: <span style=\"color: #008080; text-decoration-color: #008080; font-weight: bold\">2</span>,\n",
       "    <span style=\"color: #008000; text-decoration-color: #008000\">'low'</span>: <span style=\"color: #008080; text-decoration-color: #008080; font-weight: bold\">2</span>,\n",
       "    <span style=\"color: #008000; text-decoration-color: #008000\">'appears'</span>: <span style=\"color: #008080; text-decoration-color: #008080; font-weight: bold\">2</span>,\n",
       "    <span style=\"color: #008000; text-decoration-color: #008000\">'significant'</span>: <span style=\"color: #008080; text-decoration-color: #008080; font-weight: bold\">2</span>,\n",
       "    <span style=\"color: #008000; text-decoration-color: #008000\">'volume'</span>: <span style=\"color: #008080; text-decoration-color: #008080; font-weight: bold\">2</span>,\n",
       "    <span style=\"color: #008000; text-decoration-color: #008000\">'loss'</span>: <span style=\"color: #008080; text-decoration-color: #008080; font-weight: bold\">2</span>,\n",
       "    <span style=\"color: #008000; text-decoration-color: #008000\">'addendum'</span>: <span style=\"color: #008080; text-decoration-color: #008080; font-weight: bold\">2</span>,\n",
       "    <span style=\"color: #008000; text-decoration-color: #008000\">'___-year-old'</span>: <span style=\"color: #008080; text-decoration-color: #008080; font-weight: bold\">2</span>,\n",
       "    <span style=\"color: #008000; text-decoration-color: #008000\">'combination'</span>: <span style=\"color: #008080; text-decoration-color: #008080; font-weight: bold\">2</span>,\n",
       "    <span style=\"color: #008000; text-decoration-color: #008000\">'exam.'</span>: <span style=\"color: #008080; text-decoration-color: #008080; font-weight: bold\">2</span>,\n",
       "    <span style=\"color: #008000; text-decoration-color: #008000\">'placement'</span>: <span style=\"color: #008080; text-decoration-color: #008080; font-weight: bold\">2</span>,\n",
       "    <span style=\"color: #008000; text-decoration-color: #008000\">'left,'</span>: <span style=\"color: #008080; text-decoration-color: #008080; font-weight: bold\">2</span>,\n",
       "    <span style=\"color: #008000; text-decoration-color: #008000\">'pneumoperitoneum,'</span>: <span style=\"color: #008080; text-decoration-color: #008080; font-weight: bold\">2</span>,\n",
       "    <span style=\"color: #008000; text-decoration-color: #008000\">'gastrostomy'</span>: <span style=\"color: #008080; text-decoration-color: #008080; font-weight: bold\">2</span>,\n",
       "    <span style=\"color: #008000; text-decoration-color: #008000\">'increased'</span>: <span style=\"color: #008080; text-decoration-color: #008080; font-weight: bold\">2</span>,\n",
       "    <span style=\"color: #008000; text-decoration-color: #008000\">'border'</span>: <span style=\"color: #008080; text-decoration-color: #008080; font-weight: bold\">2</span>,\n",
       "    <span style=\"color: #008000; text-decoration-color: #008000\">'lung,'</span>: <span style=\"color: #008080; text-decoration-color: #008080; font-weight: bold\">2</span>,\n",
       "    <span style=\"color: #008000; text-decoration-color: #008000\">'obscuration'</span>: <span style=\"color: #008080; text-decoration-color: #008080; font-weight: bold\">2</span>,\n",
       "    <span style=\"color: #008000; text-decoration-color: #008000\">'vs'</span>: <span style=\"color: #008080; text-decoration-color: #008080; font-weight: bold\">2</span>,\n",
       "    <span style=\"color: #008000; text-decoration-color: #008000\">'pcnl,'</span>: <span style=\"color: #008080; text-decoration-color: #008080; font-weight: bold\">1</span>,\n",
       "    <span style=\"color: #008000; text-decoration-color: #008000\">'second'</span>: <span style=\"color: #008080; text-decoration-color: #008080; font-weight: bold\">1</span>,\n",
       "    <span style=\"color: #008000; text-decoration-color: #008000\">'stage'</span>: <span style=\"color: #008080; text-decoration-color: #008080; font-weight: bold\">1</span>,\n",
       "    <span style=\"color: #008000; text-decoration-color: #008000\">'pcnl'</span>: <span style=\"color: #008080; text-decoration-color: #008080; font-weight: bold\">1</span>,\n",
       "    <span style=\"color: #008000; text-decoration-color: #008000\">'assess'</span>: <span style=\"color: #008080; text-decoration-color: #008080; font-weight: bold\">1</span>,\n",
       "    <span style=\"color: #008000; text-decoration-color: #008000\">'recurrent'</span>: <span style=\"color: #008080; text-decoration-color: #008080; font-weight: bold\">1</span>,\n",
       "    <span style=\"color: #008000; text-decoration-color: #008000\">'effusion;'</span>: <span style=\"color: #008080; text-decoration-color: #008080; font-weight: bold\">1</span>,\n",
       "    <span style=\"color: #008000; text-decoration-color: #008000\">'seat'</span>: <span style=\"color: #008080; text-decoration-color: #008080; font-weight: bold\">1</span>,\n",
       "    <span style=\"color: #008000; text-decoration-color: #008000\">'patient'</span>: <span style=\"color: #008080; text-decoration-color: #008080; font-weight: bold\">1</span>,\n",
       "    <span style=\"color: #008000; text-decoration-color: #008000\">'view'</span>: <span style=\"color: #008080; text-decoration-color: #008080; font-weight: bold\">1</span>,\n",
       "    <span style=\"color: #008000; text-decoration-color: #008000\">'shallow'</span>: <span style=\"color: #008080; text-decoration-color: #008080; font-weight: bold\">1</span>,\n",
       "    <span style=\"color: #008000; text-decoration-color: #008000\">'inspiration'</span>: <span style=\"color: #008080; text-decoration-color: #008080; font-weight: bold\">1</span>,\n",
       "    <span style=\"color: #008000; text-decoration-color: #008000\">'accentuates'</span>: <span style=\"color: #008080; text-decoration-color: #008080; font-weight: bold\">1</span>,\n",
       "    <span style=\"color: #008000; text-decoration-color: #008000\">'pulmonary'</span>: <span style=\"color: #008080; text-decoration-color: #008080; font-weight: bold\">1</span>,\n",
       "    <span style=\"color: #008000; text-decoration-color: #008000\">'vascularity.'</span>: <span style=\"color: #008080; text-decoration-color: #008080; font-weight: bold\">1</span>,\n",
       "    <span style=\"color: #008000; text-decoration-color: #008000\">'tube.'</span>: <span style=\"color: #008080; text-decoration-color: #008080; font-weight: bold\">1</span>,\n",
       "    <span style=\"color: #008000; text-decoration-color: #008000\">'worsened'</span>: <span style=\"color: #008080; text-decoration-color: #008080; font-weight: bold\">1</span>,\n",
       "    <span style=\"color: #008000; text-decoration-color: #008000\">'come'</span>: <span style=\"color: #008080; text-decoration-color: #008080; font-weight: bold\">1</span>,\n",
       "    <span style=\"color: #008000; text-decoration-color: #008000\">'additional'</span>: <span style=\"color: #008080; text-decoration-color: #008080; font-weight: bold\">1</span>,\n",
       "    <span style=\"color: #008000; text-decoration-color: #008000\">'tubing'</span>: <span style=\"color: #008080; text-decoration-color: #008080; font-weight: bold\">1</span>,\n",
       "    <span style=\"color: #008000; text-decoration-color: #008000\">'projected'</span>: <span style=\"color: #008080; text-decoration-color: #008080; font-weight: bold\">1</span>,\n",
       "    <span style=\"color: #008000; text-decoration-color: #008000\">'quadrant.'</span>: <span style=\"color: #008080; text-decoration-color: #008080; font-weight: bold\">1</span>,\n",
       "    <span style=\"color: #008000; text-decoration-color: #008000\">'worsened.'</span>: <span style=\"color: #008080; text-decoration-color: #008080; font-weight: bold\">1</span>,\n",
       "    <span style=\"color: #008000; text-decoration-color: #008000\">'silhouette'</span>: <span style=\"color: #008080; text-decoration-color: #008080; font-weight: bold\">1</span>,\n",
       "    <span style=\"color: #008000; text-decoration-color: #008000\">'size'</span>: <span style=\"color: #008080; text-decoration-color: #008080; font-weight: bold\">1</span>,\n",
       "    <span style=\"color: #008000; text-decoration-color: #008000\">'normal.'</span>: <span style=\"color: #008080; text-decoration-color: #008080; font-weight: bold\">1</span>,\n",
       "    <span style=\"color: #008000; text-decoration-color: #008000\">'contour'</span>: <span style=\"color: #008080; text-decoration-color: #008080; font-weight: bold\">1</span>,\n",
       "    <span style=\"color: #008000; text-decoration-color: #008000\">'atherosclerotic'</span>: <span style=\"color: #008080; text-decoration-color: #008080; font-weight: bold\">1</span>,\n",
       "    <span style=\"color: #008000; text-decoration-color: #008000\">'calcification'</span>: <span style=\"color: #008080; text-decoration-color: #008080; font-weight: bold\">1</span>,\n",
       "    <span style=\"color: #008000; text-decoration-color: #008000\">'noted'</span>: <span style=\"color: #008080; text-decoration-color: #008080; font-weight: bold\">1</span>,\n",
       "    <span style=\"color: #008000; text-decoration-color: #008000\">'aorta.'</span>: <span style=\"color: #008080; text-decoration-color: #008080; font-weight: bold\">1</span>,\n",
       "    <span style=\"color: #008000; text-decoration-color: #008000\">'position,'</span>: <span style=\"color: #008080; text-decoration-color: #008080; font-weight: bold\">1</span>,\n",
       "    <span style=\"color: #008000; text-decoration-color: #008000\">'pneumothorax'</span>: <span style=\"color: #008080; text-decoration-color: #008080; font-weight: bold\">1</span>,\n",
       "    <span style=\"color: #008000; text-decoration-color: #008000\">'demonstrated.'</span>: <span style=\"color: #008080; text-decoration-color: #008080; font-weight: bold\">1</span>,\n",
       "    <span style=\"color: #008000; text-decoration-color: #008000\">'streaky'</span>: <span style=\"color: #008080; text-decoration-color: #008080; font-weight: bold\">1</span>,\n",
       "    <span style=\"color: #008000; text-decoration-color: #008000\">'bases,'</span>: <span style=\"color: #008080; text-decoration-color: #008080; font-weight: bold\">1</span>,\n",
       "    <span style=\"color: #008000; text-decoration-color: #008000\">'pronounced'</span>: <span style=\"color: #008080; text-decoration-color: #008080; font-weight: bold\">1</span>,\n",
       "    <span style=\"color: #008000; text-decoration-color: #008000\">'reflect'</span>: <span style=\"color: #008080; text-decoration-color: #008080; font-weight: bold\">1</span>,\n",
       "    <span style=\"color: #008000; text-decoration-color: #008000\">'cephalization'</span>: <span style=\"color: #008080; text-decoration-color: #008080; font-weight: bold\">1</span>,\n",
       "    <span style=\"color: #008000; text-decoration-color: #008000\">'vasculature.'</span>: <span style=\"color: #008080; text-decoration-color: #008080; font-weight: bold\">1</span>,\n",
       "    <span style=\"color: #008000; text-decoration-color: #008000\">'congestion.'</span>: <span style=\"color: #008080; text-decoration-color: #008080; font-weight: bold\">1</span>,\n",
       "    <span style=\"color: #008000; text-decoration-color: #008000\">'1:31'</span>: <span style=\"color: #008080; text-decoration-color: #008080; font-weight: bold\">1</span>,\n",
       "    <span style=\"color: #008000; text-decoration-color: #008000\">'setting.'</span>: <span style=\"color: #008080; text-decoration-color: #008080; font-weight: bold\">1</span>,\n",
       "    <span style=\"color: #008000; text-decoration-color: #008000\">'______________________________________________________________________________'</span>: <span style=\"color: #008080; text-decoration-color: #008080; font-weight: bold\">1</span>,\n",
       "    <span style=\"color: #008000; text-decoration-color: #008000\">'___f'</span>: <span style=\"color: #008080; text-decoration-color: #008080; font-weight: bold\">1</span>,\n",
       "    <span style=\"color: #008000; text-decoration-color: #008000\">'intubation.'</span>: <span style=\"color: #008080; text-decoration-color: #008080; font-weight: bold\">1</span>,\n",
       "    <span style=\"color: #008000; text-decoration-color: #008000\">'supine'</span>: <span style=\"color: #008080; text-decoration-color: #008080; font-weight: bold\">1</span>,\n",
       "    <span style=\"color: #008000; text-decoration-color: #008000\">'radiograph.'</span>: <span style=\"color: #008080; text-decoration-color: #008080; font-weight: bold\">1</span>,\n",
       "    <span style=\"color: #008000; text-decoration-color: #008000\">'feeding'</span>: <span style=\"color: #008080; text-decoration-color: #008080; font-weight: bold\">1</span>,\n",
       "    <span style=\"color: #008000; text-decoration-color: #008000\">'field'</span>: <span style=\"color: #008080; text-decoration-color: #008080; font-weight: bold\">1</span>,\n",
       "    <span style=\"color: #008000; text-decoration-color: #008000\">'view.'</span>: <span style=\"color: #008080; text-decoration-color: #008080; font-weight: bold\">1</span>,\n",
       "    <span style=\"color: #008000; text-decoration-color: #008000\">'clavicles,'</span>: <span style=\"color: #008080; text-decoration-color: #008080; font-weight: bold\">1</span>,\n",
       "    <span style=\"color: #008000; text-decoration-color: #008000\">'1.9'</span>: <span style=\"color: #008080; text-decoration-color: #008080; font-weight: bold\">1</span>,\n",
       "    <span style=\"color: #008000; text-decoration-color: #008000\">'carina'</span>: <span style=\"color: #008080; text-decoration-color: #008080; font-weight: bold\">1</span>,\n",
       "    <span style=\"color: #008000; text-decoration-color: #008000\">'intact'</span>: <span style=\"color: #008080; text-decoration-color: #008080; font-weight: bold\">1</span>,\n",
       "    <span style=\"color: #008000; text-decoration-color: #008000\">'wires.'</span>: <span style=\"color: #008080; text-decoration-color: #008080; font-weight: bold\">1</span>,\n",
       "    <span style=\"color: #008000; text-decoration-color: #008000\">'interstitial'</span>: <span style=\"color: #008080; text-decoration-color: #008080; font-weight: bold\">1</span>,\n",
       "    <span style=\"color: #008000; text-decoration-color: #008000\">'cephalization.'</span>: <span style=\"color: #008080; text-decoration-color: #008080; font-weight: bold\">1</span>,\n",
       "    <span style=\"color: #008000; text-decoration-color: #008000\">'heterogeneous'</span>: <span style=\"color: #008080; text-decoration-color: #008080; font-weight: bold\">1</span>,\n",
       "    <span style=\"color: #008000; text-decoration-color: #008000\">'opacity.'</span>: <span style=\"color: #008080; text-decoration-color: #008080; font-weight: bold\">1</span>,\n",
       "    <span style=\"color: #008000; text-decoration-color: #008000\">'contour,'</span>: <span style=\"color: #008080; text-decoration-color: #008080; font-weight: bold\">1</span>,\n",
       "    <span style=\"color: #008000; text-decoration-color: #008000\">'hila'</span>: <span style=\"color: #008080; text-decoration-color: #008080; font-weight: bold\">1</span>,\n",
       "    <span style=\"color: #008000; text-decoration-color: #008000\">'probable'</span>: <span style=\"color: #008080; text-decoration-color: #008080; font-weight: bold\">1</span>,\n",
       "    <span style=\"color: #008000; text-decoration-color: #008000\">'cough.'</span>: <span style=\"color: #008080; text-decoration-color: #008080; font-weight: bold\">1</span>,\n",
       "    <span style=\"color: #008000; text-decoration-color: #008000\">'origin'</span>: <span style=\"color: #008080; text-decoration-color: #008080; font-weight: bold\">1</span>,\n",
       "    <span style=\"color: #008000; text-decoration-color: #008000\">'mare'</span>: <span style=\"color: #008080; text-decoration-color: #008080; font-weight: bold\">1</span>,\n",
       "    <span style=\"color: #008000; text-decoration-color: #008000\">'apex'</span>: <span style=\"color: #008080; text-decoration-color: #008080; font-weight: bold\">1</span>,\n",
       "    <span style=\"color: #008000; text-decoration-color: #008000\">'suggests'</span>: <span style=\"color: #008080; text-decoration-color: #008080; font-weight: bold\">1</span>,\n",
       "    <span style=\"color: #008000; text-decoration-color: #008000\">'subpulmonic'</span>: <span style=\"color: #008080; text-decoration-color: #008080; font-weight: bold\">1</span>,\n",
       "    <span style=\"color: #008000; text-decoration-color: #008000\">'increase'</span>: <span style=\"color: #008080; text-decoration-color: #008080; font-weight: bold\">1</span>,\n",
       "    <span style=\"color: #008000; text-decoration-color: #008000\">'epilepticus,'</span>: <span style=\"color: #008080; text-decoration-color: #008080; font-weight: bold\">1</span>,\n",
       "    <span style=\"color: #008000; text-decoration-color: #008000\">'intubated.'</span>: <span style=\"color: #008080; text-decoration-color: #008080; font-weight: bold\">1</span>,\n",
       "    <span style=\"color: #008000; text-decoration-color: #008000\">'volumes'</span>: <span style=\"color: #008080; text-decoration-color: #008080; font-weight: bold\">1</span>,\n",
       "    <span style=\"color: #008000; text-decoration-color: #008000\">'difficult'</span>: <span style=\"color: #008080; text-decoration-color: #008080; font-weight: bold\">1</span>,\n",
       "    <span style=\"color: #008000; text-decoration-color: #008000\">'reliably'</span>: <span style=\"color: #008080; text-decoration-color: #008080; font-weight: bold\">1</span>,\n",
       "    <span style=\"color: #008000; text-decoration-color: #008000\">'discern,'</span>: <span style=\"color: #008080; text-decoration-color: #008080; font-weight: bold\">1</span>,\n",
       "    <span style=\"color: #008000; text-decoration-color: #008000\">'probably'</span>: <span style=\"color: #008080; text-decoration-color: #008080; font-weight: bold\">1</span>,\n",
       "    <span style=\"color: #008000; text-decoration-color: #008000\">'hemi'</span>: <span style=\"color: #008080; text-decoration-color: #008080; font-weight: bold\">1</span>,\n",
       "    <span style=\"color: #008000; text-decoration-color: #008000\">'platelike'</span>: <span style=\"color: #008080; text-decoration-color: #008080; font-weight: bold\">1</span>,\n",
       "    <span style=\"color: #008000; text-decoration-color: #008000\">'lingular'</span>: <span style=\"color: #008080; text-decoration-color: #008080; font-weight: bold\">1</span>,\n",
       "    <span style=\"color: #008000; text-decoration-color: #008000\">'assess.'</span>: <span style=\"color: #008080; text-decoration-color: #008080; font-weight: bold\">1</span>,\n",
       "    <span style=\"color: #008000; text-decoration-color: #008000\">'looped'</span>: <span style=\"color: #008080; text-decoration-color: #008080; font-weight: bold\">1</span>,\n",
       "    <span style=\"color: #008000; text-decoration-color: #008000\">'right-sided'</span>: <span style=\"color: #008080; text-decoration-color: #008080; font-weight: bold\">1</span>,\n",
       "    <span style=\"color: #008000; text-decoration-color: #008000\">'positioning'</span>: <span style=\"color: #008080; text-decoration-color: #008080; font-weight: bold\">1</span>,\n",
       "    <span style=\"color: #008000; text-decoration-color: #008000\">'ett.'</span>: <span style=\"color: #008080; text-decoration-color: #008080; font-weight: bold\">1</span>,\n",
       "    <span style=\"color: #008000; text-decoration-color: #008000\">'volumes.'</span>: <span style=\"color: #008080; text-decoration-color: #008080; font-weight: bold\">1</span>,\n",
       "    <span style=\"color: #008000; text-decoration-color: #008000\">'thorax,'</span>: <span style=\"color: #008080; text-decoration-color: #008080; font-weight: bold\">1</span>,\n",
       "    <span style=\"color: #008000; text-decoration-color: #008000\">'collapse'</span>: <span style=\"color: #008080; text-decoration-color: #008080; font-weight: bold\">1</span>,\n",
       "    <span style=\"color: #008000; text-decoration-color: #008000\">'middle'</span>: <span style=\"color: #008080; text-decoration-color: #008080; font-weight: bold\">1</span>,\n",
       "    <span style=\"color: #008000; text-decoration-color: #008000\">'context,'</span>: <span style=\"color: #008080; text-decoration-color: #008080; font-weight: bold\">1</span>,\n",
       "    <span style=\"color: #008000; text-decoration-color: #008000\">'evaluation'</span>: <span style=\"color: #008080; text-decoration-color: #008080; font-weight: bold\">1</span>,\n",
       "    <span style=\"color: #008000; text-decoration-color: #008000\">'difficult.'</span>: <span style=\"color: #008080; text-decoration-color: #008080; font-weight: bold\">1</span>,\n",
       "    <span style=\"color: #008000; text-decoration-color: #008000\">'request'</span>: <span style=\"color: #008080; text-decoration-color: #008080; font-weight: bold\">1</span>,\n",
       "    <span style=\"color: #008000; text-decoration-color: #008000\">'attempt'</span>: <span style=\"color: #008080; text-decoration-color: #008080; font-weight: bold\">1</span>,\n",
       "    <span style=\"color: #008000; text-decoration-color: #008000\">'location'</span>: <span style=\"color: #008080; text-decoration-color: #008080; font-weight: bold\">1</span>,\n",
       "    <span style=\"color: #008000; text-decoration-color: #008000\">'catheter.'</span>: <span style=\"color: #008080; text-decoration-color: #008080; font-weight: bold\">1</span>,\n",
       "    <span style=\"color: #008000; text-decoration-color: #008000\">'review,'</span>: <span style=\"color: #008080; text-decoration-color: #008080; font-weight: bold\">1</span>,\n",
       "    <span style=\"color: #008000; text-decoration-color: #008000\">'catheter'</span>: <span style=\"color: #008080; text-decoration-color: #008080; font-weight: bold\">1</span>,\n",
       "    <span style=\"color: #008000; text-decoration-color: #008000\">'best'</span>: <span style=\"color: #008080; text-decoration-color: #008080; font-weight: bold\">1</span>,\n",
       "    <span style=\"color: #008000; text-decoration-color: #008000\">'view,'</span>: <span style=\"color: #008080; text-decoration-color: #008080; font-weight: bold\">1</span>,\n",
       "    <span style=\"color: #008000; text-decoration-color: #008000\">'confirmed'</span>: <span style=\"color: #008080; text-decoration-color: #008080; font-weight: bold\">1</span>,\n",
       "    <span style=\"color: #008000; text-decoration-color: #008000\">'female'</span>: <span style=\"color: #008080; text-decoration-color: #008080; font-weight: bold\">1</span>,\n",
       "    <span style=\"color: #008000; text-decoration-color: #008000\">'pain.'</span>: <span style=\"color: #008080; text-decoration-color: #008080; font-weight: bold\">1</span>,\n",
       "    <span style=\"color: #008000; text-decoration-color: #008000\">'prior,'</span>: <span style=\"color: #008080; text-decoration-color: #008080; font-weight: bold\">1</span>,\n",
       "    <span style=\"color: #008000; text-decoration-color: #008000\">'dense'</span>: <span style=\"color: #008080; text-decoration-color: #008080; font-weight: bold\">1</span>,\n",
       "    <span style=\"color: #008000; text-decoration-color: #008000\">'obscuring'</span>: <span style=\"color: #008080; text-decoration-color: #008080; font-weight: bold\">1</span>,\n",
       "    <span style=\"color: #008000; text-decoration-color: #008000\">'consolidation,'</span>: <span style=\"color: #008080; text-decoration-color: #008080; font-weight: bold\">1</span>,\n",
       "    <span style=\"color: #008000; text-decoration-color: #008000\">'hiatal'</span>: <span style=\"color: #008080; text-decoration-color: #008080; font-weight: bold\">1</span>,\n",
       "    <span style=\"color: #008000; text-decoration-color: #008000\">'hernia'</span>: <span style=\"color: #008080; text-decoration-color: #008080; font-weight: bold\">1</span>,\n",
       "    <span style=\"color: #008000; text-decoration-color: #008000\">'suspected.'</span>: <span style=\"color: #008080; text-decoration-color: #008080; font-weight: bold\">1</span>,\n",
       "    <span style=\"color: #008000; text-decoration-color: #008000\">'2'</span>: <span style=\"color: #008080; text-decoration-color: #008080; font-weight: bold\">1</span>,\n",
       "    <span style=\"color: #008000; text-decoration-color: #008000\">'separate'</span>: <span style=\"color: #008080; text-decoration-color: #008080; font-weight: bold\">1</span>,\n",
       "    <span style=\"color: #008000; text-decoration-color: #008000\">'subclavian'</span>: <span style=\"color: #008080; text-decoration-color: #008080; font-weight: bold\">1</span>,\n",
       "    <span style=\"color: #008000; text-decoration-color: #008000\">'identified'</span>: <span style=\"color: #008080; text-decoration-color: #008080; font-weight: bold\">1</span>,\n",
       "    <span style=\"color: #008000; text-decoration-color: #008000\">'larger'</span>: <span style=\"color: #008080; text-decoration-color: #008080; font-weight: bold\">1</span>,\n",
       "    <span style=\"color: #008000; text-decoration-color: #008000\">'terminating'</span>: <span style=\"color: #008080; text-decoration-color: #008080; font-weight: bold\">1</span>,\n",
       "    <span style=\"color: #008000; text-decoration-color: #008000\">'smaller'</span>: <span style=\"color: #008080; text-decoration-color: #008080; font-weight: bold\">1</span>,\n",
       "    <span style=\"color: #008000; text-decoration-color: #008000\">'clearly'</span>: <span style=\"color: #008080; text-decoration-color: #008080; font-weight: bold\">1</span>,\n",
       "    <span style=\"color: #008000; text-decoration-color: #008000\">'delineated'</span>: <span style=\"color: #008080; text-decoration-color: #008080; font-weight: bold\">1</span>,\n",
       "    <span style=\"color: #008000; text-decoration-color: #008000\">'current'</span>: <span style=\"color: #008080; text-decoration-color: #008080; font-weight: bold\">1</span>,\n",
       "    <span style=\"color: #008000; text-decoration-color: #008000\">'degenerative'</span>: <span style=\"color: #008080; text-decoration-color: #008080; font-weight: bold\">1</span>,\n",
       "    <span style=\"color: #008000; text-decoration-color: #008000\">'changes'</span>: <span style=\"color: #008080; text-decoration-color: #008080; font-weight: bold\">1</span>,\n",
       "    <span style=\"color: #008000; text-decoration-color: #008000\">'spine'</span>: <span style=\"color: #008080; text-decoration-color: #008080; font-weight: bold\">1</span>,\n",
       "    <span style=\"color: #008000; text-decoration-color: #008000\">'abnormality.'</span>: <span style=\"color: #008080; text-decoration-color: #008080; font-weight: bold\">1</span>,\n",
       "    <span style=\"color: #008000; text-decoration-color: #008000\">'previous'</span>: <span style=\"color: #008080; text-decoration-color: #008080; font-weight: bold\">1</span>,\n",
       "    <span style=\"color: #008000; text-decoration-color: #008000\">'exam'</span>: <span style=\"color: #008080; text-decoration-color: #008080; font-weight: bold\">1</span>,\n",
       "    <span style=\"color: #008000; text-decoration-color: #008000\">'male'</span>: <span style=\"color: #008080; text-decoration-color: #008080; font-weight: bold\">1</span>,\n",
       "    <span style=\"color: #008000; text-decoration-color: #008000\">'alcoholic'</span>: <span style=\"color: #008080; text-decoration-color: #008080; font-weight: bold\">1</span>,\n",
       "    <span style=\"color: #008000; text-decoration-color: #008000\">'pancreatitis,'</span>: <span style=\"color: #008080; text-decoration-color: #008080; font-weight: bold\">1</span>,\n",
       "    <span style=\"color: #008000; text-decoration-color: #008000\">'pseudocyst,'</span>: <span style=\"color: #008080; text-decoration-color: #008080; font-weight: bold\">1</span>,\n",
       "    <span style=\"color: #008000; text-decoration-color: #008000\">'biliary'</span>: <span style=\"color: #008080; text-decoration-color: #008080; font-weight: bold\">1</span>,\n",
       "    <span style=\"color: #008000; text-decoration-color: #008000\">'stricture'</span>: <span style=\"color: #008080; text-decoration-color: #008080; font-weight: bold\">1</span>,\n",
       "    <span style=\"color: #008000; text-decoration-color: #008000\">'stent'</span>: <span style=\"color: #008080; text-decoration-color: #008080; font-weight: bold\">1</span>,\n",
       "    <span style=\"color: #008000; text-decoration-color: #008000\">'liver'</span>: <span style=\"color: #008080; text-decoration-color: #008080; font-weight: bold\">1</span>,\n",
       "    <span style=\"color: #008000; text-decoration-color: #008000\">'abscess'</span>: <span style=\"color: #008080; text-decoration-color: #008080; font-weight: bold\">1</span>,\n",
       "    <span style=\"color: #008000; text-decoration-color: #008000\">'comparisons:'</span>: <span style=\"color: #008080; text-decoration-color: #008080; font-weight: bold\">1</span>,\n",
       "    <span style=\"color: #008000; text-decoration-color: #008000\">'multiple'</span>: <span style=\"color: #008080; text-decoration-color: #008080; font-weight: bold\">1</span>,\n",
       "    <span style=\"color: #008000; text-decoration-color: #008000\">'studies,'</span>: <span style=\"color: #008080; text-decoration-color: #008080; font-weight: bold\">1</span>,\n",
       "    <span style=\"color: #008000; text-decoration-color: #008000\">'recently'</span>: <span style=\"color: #008080; text-decoration-color: #008080; font-weight: bold\">1</span>,\n",
       "    <span style=\"color: #008000; text-decoration-color: #008000\">'retraction'</span>: <span style=\"color: #008080; text-decoration-color: #008080; font-weight: bold\">1</span>,\n",
       "    <span style=\"color: #008000; text-decoration-color: #008000\">'3.5'</span>: <span style=\"color: #008080; text-decoration-color: #008080; font-weight: bold\">1</span>,\n",
       "    <span style=\"color: #008000; text-decoration-color: #008000\">'cm.'</span>: <span style=\"color: #008080; text-decoration-color: #008080; font-weight: bold\">1</span>,\n",
       "    <span style=\"color: #008000; text-decoration-color: #008000\">'edema,'</span>: <span style=\"color: #008080; text-decoration-color: #008080; font-weight: bold\">1</span>,\n",
       "    <span style=\"color: #008000; text-decoration-color: #008000\">'pneumothroax.'</span>: <span style=\"color: #008080; text-decoration-color: #008080; font-weight: bold\">1</span>,\n",
       "    <span style=\"color: #008000; text-decoration-color: #008000\">'enlarged.'</span>: <span style=\"color: #008080; text-decoration-color: #008080; font-weight: bold\">1</span>,\n",
       "    <span style=\"color: #008000; text-decoration-color: #008000\">'imaged'</span>: <span style=\"color: #008080; text-decoration-color: #008080; font-weight: bold\">1</span>,\n",
       "    <span style=\"color: #008000; text-decoration-color: #008000\">'bones'</span>: <span style=\"color: #008080; text-decoration-color: #008080; font-weight: bold\">1</span>,\n",
       "    <span style=\"color: #008000; text-decoration-color: #008000\">'opacities,right'</span>: <span style=\"color: #008080; text-decoration-color: #008080; font-weight: bold\">1</span>,\n",
       "    <span style=\"color: #008000; text-decoration-color: #008000\">'respiratory'</span>: <span style=\"color: #008080; text-decoration-color: #008080; font-weight: bold\">1</span>,\n",
       "    <span style=\"color: #008000; text-decoration-color: #008000\">'distress.'</span>: <span style=\"color: #008080; text-decoration-color: #008080; font-weight: bold\">1</span>,\n",
       "    <span style=\"color: #008000; text-decoration-color: #008000\">'gastrostomy.'</span>: <span style=\"color: #008080; text-decoration-color: #008080; font-weight: bold\">1</span>,\n",
       "    <span style=\"color: #008000; text-decoration-color: #008000\">'presumably'</span>: <span style=\"color: #008080; text-decoration-color: #008080; font-weight: bold\">1</span>,\n",
       "    <span style=\"color: #008000; text-decoration-color: #008000\">'opacification'</span>: <span style=\"color: #008080; text-decoration-color: #008080; font-weight: bold\">1</span>,\n",
       "    <span style=\"color: #008000; text-decoration-color: #008000\">'opacification,'</span>: <span style=\"color: #008080; text-decoration-color: #008080; font-weight: bold\">1</span>,\n",
       "    <span style=\"color: #008000; text-decoration-color: #008000\">'related'</span>: <span style=\"color: #008080; text-decoration-color: #008080; font-weight: bold\">1</span>,\n",
       "    <span style=\"color: #008000; text-decoration-color: #008000\">'however,'</span>: <span style=\"color: #008080; text-decoration-color: #008080; font-weight: bold\">1</span>,\n",
       "    <span style=\"color: #008000; text-decoration-color: #008000\">'persistence'</span>: <span style=\"color: #008080; text-decoration-color: #008080; font-weight: bold\">1</span>,\n",
       "    <span style=\"color: #008000; text-decoration-color: #008000\">'raises'</span>: <span style=\"color: #008080; text-decoration-color: #008080; font-weight: bold\">1</span>,\n",
       "    <span style=\"color: #008000; text-decoration-color: #008000\">'question'</span>: <span style=\"color: #008080; text-decoration-color: #008080; font-weight: bold\">1</span>,\n",
       "    <span style=\"color: #008000; text-decoration-color: #008000\">'leak.'</span>: <span style=\"color: #008080; text-decoration-color: #008080; font-weight: bold\">1</span>,\n",
       "    <span style=\"color: #008000; text-decoration-color: #008000\">'(vascular'</span>: <span style=\"color: #008080; text-decoration-color: #008080; font-weight: bold\">1</span>,\n",
       "    <span style=\"color: #008000; text-decoration-color: #008000\">'surgery)'</span>: <span style=\"color: #008080; text-decoration-color: #008080; font-weight: bold\">1</span>,\n",
       "    <span style=\"color: #008000; text-decoration-color: #008000\">'phone'</span>: <span style=\"color: #008080; text-decoration-color: #008080; font-weight: bold\">1</span>,\n",
       "    <span style=\"color: #008000; text-decoration-color: #008000\">'12:19'</span>: <span style=\"color: #008080; text-decoration-color: #008080; font-weight: bold\">1</span>,\n",
       "    <span style=\"color: #008000; text-decoration-color: #008000\">'p.m.'</span>: <span style=\"color: #008080; text-decoration-color: #008080; font-weight: bold\">1</span>,\n",
       "    <span style=\"color: #008000; text-decoration-color: #008000\">'status,'</span>: <span style=\"color: #008080; text-decoration-color: #008080; font-weight: bold\">1</span>,\n",
       "    <span style=\"color: #008000; text-decoration-color: #008000\">'hypoxemia.'</span>: <span style=\"color: #008080; text-decoration-color: #008080; font-weight: bold\">1</span>,\n",
       "    <span style=\"color: #008000; text-decoration-color: #008000\">'copd/'</span>: <span style=\"color: #008080; text-decoration-color: #008080; font-weight: bold\">1</span>,\n",
       "    <span style=\"color: #008000; text-decoration-color: #008000\">'semi'</span>: <span style=\"color: #008080; text-decoration-color: #008080; font-weight: bold\">1</span>,\n",
       "    <span style=\"color: #008000; text-decoration-color: #008000\">'et'</span>: <span style=\"color: #008080; text-decoration-color: #008080; font-weight: bold\">1</span>,\n",
       "    <span style=\"color: #008000; text-decoration-color: #008000\">'approximately'</span>: <span style=\"color: #008080; text-decoration-color: #008080; font-weight: bold\">1</span>,\n",
       "    <span style=\"color: #008000; text-decoration-color: #008000\">'7'</span>: <span style=\"color: #008080; text-decoration-color: #008080; font-weight: bold\">1</span>,\n",
       "    <span style=\"color: #008000; text-decoration-color: #008000\">'hemithorax'</span>: <span style=\"color: #008080; text-decoration-color: #008080; font-weight: bold\">1</span>,\n",
       "    <span style=\"color: #008000; text-decoration-color: #008000\">'near'</span>: <span style=\"color: #008080; text-decoration-color: #008080; font-weight: bold\">1</span>,\n",
       "    <span style=\"color: #008000; text-decoration-color: #008000\">'midline,'</span>: <span style=\"color: #008080; text-decoration-color: #008080; font-weight: bold\">1</span>,\n",
       "    <span style=\"color: #008000; text-decoration-color: #008000\">'film.'</span>: <span style=\"color: #008080; text-decoration-color: #008080; font-weight: bold\">1</span>,\n",
       "    <span style=\"color: #008000; text-decoration-color: #008000\">'cardiomegaly'</span>: <span style=\"color: #008080; text-decoration-color: #008080; font-weight: bold\">1</span>,\n",
       "    <span style=\"color: #008000; text-decoration-color: #008000\">'structures,'</span>: <span style=\"color: #008080; text-decoration-color: #008080; font-weight: bold\">1</span>,\n",
       "    <span style=\"color: #008000; text-decoration-color: #008000\">'tortuosity'</span>: <span style=\"color: #008080; text-decoration-color: #008080; font-weight: bold\">1</span>,\n",
       "    <span style=\"color: #008000; text-decoration-color: #008000\">'aorta,'</span>: <span style=\"color: #008080; text-decoration-color: #008080; font-weight: bold\">1</span>,\n",
       "    <span style=\"color: #008000; text-decoration-color: #008000\">'new.'</span>: <span style=\"color: #008080; text-decoration-color: #008080; font-weight: bold\">1</span>,\n",
       "    <span style=\"color: #008000; text-decoration-color: #008000\">'note'</span>: <span style=\"color: #008080; text-decoration-color: #008080; font-weight: bold\">1</span>,\n",
       "    <span style=\"color: #008000; text-decoration-color: #008000\">'retrocardiac'</span>: <span style=\"color: #008080; text-decoration-color: #008080; font-weight: bold\">1</span>,\n",
       "    <span style=\"color: #008000; text-decoration-color: #008000\">'excluded.'</span>: <span style=\"color: #008080; text-decoration-color: #008080; font-weight: bold\">1</span>,\n",
       "    <span style=\"color: #008000; text-decoration-color: #008000\">'upright'</span>: <span style=\"color: #008080; text-decoration-color: #008080; font-weight: bold\">0</span>,\n",
       "    <span style=\"color: #008000; text-decoration-color: #008000\">'atelectasis.'</span>: <span style=\"color: #008080; text-decoration-color: #008080; font-weight: bold\">0</span>,\n",
       "    <span style=\"color: #008000; text-decoration-color: #008000\">'upper'</span>: <span style=\"color: #008080; text-decoration-color: #008080; font-weight: bold\">0</span>,\n",
       "    <span style=\"color: #008000; text-decoration-color: #008000\">'ct'</span>: <span style=\"color: #008080; text-decoration-color: #008080; font-weight: bold\">0</span>,\n",
       "    <span style=\"color: #008000; text-decoration-color: #008000\">'unchanged'</span>: <span style=\"color: #008080; text-decoration-color: #008080; font-weight: bold\">0</span>,\n",
       "    <span style=\"color: #008000; text-decoration-color: #008000\">'similar'</span>: <span style=\"color: #008080; text-decoration-color: #008080; font-weight: bold\">0</span>,\n",
       "    <span style=\"color: #008000; text-decoration-color: #008000\">'large'</span>: <span style=\"color: #008080; text-decoration-color: #008080; font-weight: bold\">0</span>,\n",
       "    <span style=\"color: #008000; text-decoration-color: #008000\">'place.'</span>: <span style=\"color: #008080; text-decoration-color: #008080; font-weight: bold\">0</span>,\n",
       "    <span style=\"color: #008000; text-decoration-color: #008000\">'wet'</span>: <span style=\"color: #008080; text-decoration-color: #008080; font-weight: bold\">0</span>,\n",
       "    <span style=\"color: #008000; text-decoration-color: #008000\">'read:'</span>: <span style=\"color: #008080; text-decoration-color: #008080; font-weight: bold\">0</span>,\n",
       "    <span style=\"color: #008000; text-decoration-color: #008000\">'trace'</span>: <span style=\"color: #008080; text-decoration-color: #008080; font-weight: bold\">0</span>,\n",
       "    <span style=\"color: #008000; text-decoration-color: #008000\">'excluded'</span>: <span style=\"color: #008080; text-decoration-color: #008080; font-weight: bold\">0</span>,\n",
       "    <span style=\"color: #008000; text-decoration-color: #008000\">'endotracheal'</span>: <span style=\"color: #008080; text-decoration-color: #008080; font-weight: bold\">0</span>,\n",
       "    <span style=\"color: #008000; text-decoration-color: #008000\">'seen'</span>: <span style=\"color: #008080; text-decoration-color: #008080; font-weight: bold\">0</span>,\n",
       "    <span style=\"color: #008000; text-decoration-color: #008000\">'line'</span>: <span style=\"color: #008080; text-decoration-color: #008080; font-weight: bold\">0</span>,\n",
       "    <span style=\"color: #008000; text-decoration-color: #008000\">'cm'</span>: <span style=\"color: #008080; text-decoration-color: #008080; font-weight: bold\">0</span>,\n",
       "    <span style=\"color: #008000; text-decoration-color: #008000\">'sternotomy'</span>: <span style=\"color: #008080; text-decoration-color: #008080; font-weight: bold\">0</span>,\n",
       "    <span style=\"color: #008000; text-decoration-color: #008000\">'prominence'</span>: <span style=\"color: #008080; text-decoration-color: #008080; font-weight: bold\">0</span>,\n",
       "    <span style=\"color: #008000; text-decoration-color: #008000\">'consistent'</span>: <span style=\"color: #008080; text-decoration-color: #008080; font-weight: bold\">0</span>,\n",
       "    <span style=\"color: #008000; text-decoration-color: #008000\">'crowding'</span>: <span style=\"color: #008080; text-decoration-color: #008080; font-weight: bold\">0</span>,\n",
       "    <span style=\"color: #008000; text-decoration-color: #008000\">'stable'</span>: <span style=\"color: #008080; text-decoration-color: #008080; font-weight: bold\">0</span>,\n",
       "    <span style=\"color: #008000; text-decoration-color: #008000\">'unchanged.'</span>: <span style=\"color: #008080; text-decoration-color: #008080; font-weight: bold\">0</span>,\n",
       "    <span style=\"color: #008000; text-decoration-color: #008000\">'lateral'</span>: <span style=\"color: #008080; text-decoration-color: #008080; font-weight: bold\">0</span>,\n",
       "    <span style=\"color: #008000; text-decoration-color: #008000\">'none.'</span>: <span style=\"color: #008080; text-decoration-color: #008080; font-weight: bold\">0</span>,\n",
       "    <span style=\"color: #008000; text-decoration-color: #008000\">'prominent'</span>: <span style=\"color: #008080; text-decoration-color: #008080; font-weight: bold\">0</span>,\n",
       "    <span style=\"color: #008000; text-decoration-color: #008000\">'top-normal.'</span>: <span style=\"color: #008080; text-decoration-color: #008080; font-weight: bold\">0</span>,\n",
       "    <span style=\"color: #008000; text-decoration-color: #008000\">'thorax.'</span>: <span style=\"color: #008080; text-decoration-color: #008080; font-weight: bold\">0</span>,\n",
       "    <span style=\"color: #008000; text-decoration-color: #008000\">'base'</span>: <span style=\"color: #008080; text-decoration-color: #008080; font-weight: bold\">0</span>,\n",
       "    <span style=\"color: #008000; text-decoration-color: #008000\">'distal'</span>: <span style=\"color: #008080; text-decoration-color: #008080; font-weight: bold\">0</span>,\n",
       "    <span style=\"color: #008000; text-decoration-color: #008000\">'views'</span>: <span style=\"color: #008080; text-decoration-color: #008080; font-weight: bold\">0</span>,\n",
       "    <span style=\"color: #008000; text-decoration-color: #008000\">'consolidation'</span>: <span style=\"color: #008080; text-decoration-color: #008080; font-weight: bold\">0</span>,\n",
       "    <span style=\"color: #008000; text-decoration-color: #008000\">'drain'</span>: <span style=\"color: #008080; text-decoration-color: #008080; font-weight: bold\">0</span>,\n",
       "    <span style=\"color: #008000; text-decoration-color: #008000\">'prior'</span>: <span style=\"color: #008080; text-decoration-color: #008080; font-weight: bold\">0</span>,\n",
       "    <span style=\"color: #008000; text-decoration-color: #008000\">'pa'</span>: <span style=\"color: #008080; text-decoration-color: #008080; font-weight: bold\">0</span>,\n",
       "    <span style=\"color: #008000; text-decoration-color: #008000\">'provided.'</span>: <span style=\"color: #008080; text-decoration-color: #008080; font-weight: bold\">0</span>,\n",
       "    <span style=\"color: #008000; text-decoration-color: #008000\">'cardiomediastinal'</span>: <span style=\"color: #008080; text-decoration-color: #008080; font-weight: bold\">0</span>,\n",
       "    <span style=\"color: #008000; text-decoration-color: #008000\">'abdomen'</span>: <span style=\"color: #008080; text-decoration-color: #008080; font-weight: bold\">0</span>,\n",
       "    <span style=\"color: #008000; text-decoration-color: #008000\">'intact.'</span>: <span style=\"color: #008080; text-decoration-color: #008080; font-weight: bold\">0</span>,\n",
       "    <span style=\"color: #008000; text-decoration-color: #008000\">'tracheostomy'</span>: <span style=\"color: #008080; text-decoration-color: #008080; font-weight: bold\">0</span>,\n",
       "    <span style=\"color: #008000; text-decoration-color: #008000\">'discussed'</span>: <span style=\"color: #008080; text-decoration-color: #008080; font-weight: bold\">0</span>,\n",
       "    <span style=\"color: #008000; text-decoration-color: #008000\">'dr.'</span>: <span style=\"color: #008080; text-decoration-color: #008080; font-weight: bold\">0</span>,\n",
       "    <span style=\"color: #008000; text-decoration-color: #008000\">'history'</span>: <span style=\"color: #008080; text-decoration-color: #008080; font-weight: bold\">0</span>,\n",
       "    <span style=\"color: #008000; text-decoration-color: #008000\">'infiltrate.'</span>: <span style=\"color: #008080; text-decoration-color: #008080; font-weight: bold\">0</span>,\n",
       "    <span style=\"color: #008000; text-decoration-color: #008000\">'overall'</span>: <span style=\"color: #008080; text-decoration-color: #008080; font-weight: bold\">0</span>,\n",
       "    <span style=\"color: #008000; text-decoration-color: #008000\">'aside'</span>: <span style=\"color: #008080; text-decoration-color: #008080; font-weight: bold\">0</span>,\n",
       "    <span style=\"color: #008000; text-decoration-color: #008000\">'effusions'</span>: <span style=\"color: #008080; text-decoration-color: #008080; font-weight: bold\">0</span>,\n",
       "    <span style=\"color: #008000; text-decoration-color: #008000\">'hemidiaphragm,'</span>: <span style=\"color: #008080; text-decoration-color: #008080; font-weight: bold\">0</span>,\n",
       "    <span style=\"color: #008000; text-decoration-color: #008000\">'chf,'</span>: <span style=\"color: #008080; text-decoration-color: #008080; font-weight: bold\">0</span>,\n",
       "    <span style=\"color: #008000; text-decoration-color: #008000\">'pna,'</span>: <span style=\"color: #008080; text-decoration-color: #008080; font-weight: bold\">0</span>,\n",
       "    <span style=\"color: #008000; text-decoration-color: #008000\">'lbs'</span>: <span style=\"color: #008080; text-decoration-color: #008080; font-weight: bold\">0</span>,\n",
       "    <span style=\"color: #008000; text-decoration-color: #008000\">'dry'</span>: <span style=\"color: #008080; text-decoration-color: #008080; font-weight: bold\">0</span>,\n",
       "    <span style=\"color: #008000; text-decoration-color: #008000\">'wt'</span>: <span style=\"color: #008080; text-decoration-color: #008080; font-weight: bold\">0</span>,\n",
       "    <span style=\"color: #008000; text-decoration-color: #008000\">'?volume'</span>: <span style=\"color: #008080; text-decoration-color: #008080; font-weight: bold\">0</span>,\n",
       "    <span style=\"color: #008000; text-decoration-color: #008000\">'overload'</span>: <span style=\"color: #008080; text-decoration-color: #008080; font-weight: bold\">0</span>,\n",
       "    <span style=\"color: #008000; text-decoration-color: #008000\">'results'</span>: <span style=\"color: #008080; text-decoration-color: #008080; font-weight: bold\">0</span>,\n",
       "    <span style=\"color: #008000; text-decoration-color: #008000\">'crowding.'</span>: <span style=\"color: #008080; text-decoration-color: #008080; font-weight: bold\">0</span>,\n",
       "    <span style=\"color: #008000; text-decoration-color: #008000\">'continued'</span>: <span style=\"color: #008080; text-decoration-color: #008080; font-weight: bold\">0</span>,\n",
       "    <span style=\"color: #008000; text-decoration-color: #008000\">'improvement'</span>: <span style=\"color: #008080; text-decoration-color: #008080; font-weight: bold\">0</span>,\n",
       "    <span style=\"color: #008000; text-decoration-color: #008000\">'pneumonia.'</span>: <span style=\"color: #008080; text-decoration-color: #008080; font-weight: bold\">0</span>,\n",
       "    <span style=\"color: #008000; text-decoration-color: #008000\">'represent'</span>: <span style=\"color: #008080; text-decoration-color: #008080; font-weight: bold\">0</span>,\n",
       "    <span style=\"color: #008000; text-decoration-color: #008000\">'considered'</span>: <span style=\"color: #008080; text-decoration-color: #008080; font-weight: bold\">0</span>,\n",
       "    <span style=\"color: #008000; text-decoration-color: #008000\">'granuloma'</span>: <span style=\"color: #008080; text-decoration-color: #008080; font-weight: bold\">0</span>,\n",
       "    <span style=\"color: #008000; text-decoration-color: #008000\">'possible'</span>: <span style=\"color: #008080; text-decoration-color: #008080; font-weight: bold\">-1</span>,\n",
       "    <span style=\"color: #008000; text-decoration-color: #008000\">'pneumothorax.'</span>: <span style=\"color: #008080; text-decoration-color: #008080; font-weight: bold\">-1</span>,\n",
       "    <span style=\"color: #008000; text-decoration-color: #008000\">'lung'</span>: <span style=\"color: #008080; text-decoration-color: #008080; font-weight: bold\">-1</span>,\n",
       "    <span style=\"color: #008000; text-decoration-color: #008000\">'clear.'</span>: <span style=\"color: #008080; text-decoration-color: #008080; font-weight: bold\">-1</span>,\n",
       "    <span style=\"color: #008000; text-decoration-color: #008000\">'ap'</span>: <span style=\"color: #008080; text-decoration-color: #008080; font-weight: bold\">-1</span>,\n",
       "    <span style=\"color: #008000; text-decoration-color: #008000\">'mediastinal'</span>: <span style=\"color: #008080; text-decoration-color: #008080; font-weight: bold\">-1</span>,\n",
       "    <span style=\"color: #008000; text-decoration-color: #008000\">'appearance'</span>: <span style=\"color: #008080; text-decoration-color: #008080; font-weight: bold\">-1</span>,\n",
       "    <span style=\"color: #008000; text-decoration-color: #008000\">'bilateral'</span>: <span style=\"color: #008080; text-decoration-color: #008080; font-weight: bold\">-1</span>,\n",
       "    <span style=\"color: #008000; text-decoration-color: #008000\">'adjacent'</span>: <span style=\"color: #008080; text-decoration-color: #008080; font-weight: bold\">-1</span>,\n",
       "    <span style=\"color: #008000; text-decoration-color: #008000\">'possibly'</span>: <span style=\"color: #008080; text-decoration-color: #008080; font-weight: bold\">-1</span>,\n",
       "    <span style=\"color: #008000; text-decoration-color: #008000\">'evaluate'</span>: <span style=\"color: #008080; text-decoration-color: #008080; font-weight: bold\">-1</span>,\n",
       "    <span style=\"color: #008000; text-decoration-color: #008000\">'acute'</span>: <span style=\"color: #008080; text-decoration-color: #008080; font-weight: bold\">-1</span>,\n",
       "    <span style=\"color: #008000; text-decoration-color: #008000\">'radiographs'</span>: <span style=\"color: #008080; text-decoration-color: #008080; font-weight: bold\">-1</span>,\n",
       "    <span style=\"color: #008000; text-decoration-color: #008000\">'terminates'</span>: <span style=\"color: #008080; text-decoration-color: #008080; font-weight: bold\">-1</span>,\n",
       "    <span style=\"color: #008000; text-decoration-color: #008000\">'recommend'</span>: <span style=\"color: #008080; text-decoration-color: #008080; font-weight: bold\">-1</span>,\n",
       "    <span style=\"color: #008000; text-decoration-color: #008000\">'opacities,'</span>: <span style=\"color: #008080; text-decoration-color: #008080; font-weight: bold\">-1</span>,\n",
       "    <span style=\"color: #008000; text-decoration-color: #008000\">'stable.'</span>: <span style=\"color: #008080; text-decoration-color: #008080; font-weight: bold\">-1</span>,\n",
       "    <span style=\"color: #008000; text-decoration-color: #008000\">'carina.'</span>: <span style=\"color: #008080; text-decoration-color: #008080; font-weight: bold\">-1</span>,\n",
       "    <span style=\"color: #008000; text-decoration-color: #008000\">'compared'</span>: <span style=\"color: #008080; text-decoration-color: #008080; font-weight: bold\">-1</span>,\n",
       "    <span style=\"color: #008000; text-decoration-color: #008000\">'hilar'</span>: <span style=\"color: #008080; text-decoration-color: #008080; font-weight: bold\">-1</span>,\n",
       "    <span style=\"color: #008000; text-decoration-color: #008000\">'contours'</span>: <span style=\"color: #008080; text-decoration-color: #008080; font-weight: bold\">-1</span>,\n",
       "    <span style=\"color: #008000; text-decoration-color: #008000\">'evidence'</span>: <span style=\"color: #008080; text-decoration-color: #008080; font-weight: bold\">-1</span>,\n",
       "    <span style=\"color: #008000; text-decoration-color: #008000\">'aspiration'</span>: <span style=\"color: #008080; text-decoration-color: #008080; font-weight: bold\">-1</span>,\n",
       "    <span style=\"color: #008000; text-decoration-color: #008000\">'worsening'</span>: <span style=\"color: #008080; text-decoration-color: #008080; font-weight: bold\">-1</span>,\n",
       "    <span style=\"color: #008000; text-decoration-color: #008000\">'x-ray.'</span>: <span style=\"color: #008080; text-decoration-color: #008080; font-weight: bold\">-1</span>,\n",
       "    <span style=\"color: #008000; text-decoration-color: #008000\">'demonstrates'</span>: <span style=\"color: #008080; text-decoration-color: #008080; font-weight: bold\">-1</span>,\n",
       "    <span style=\"color: #008000; text-decoration-color: #008000\">'bronchovascular'</span>: <span style=\"color: #008080; text-decoration-color: #008080; font-weight: bold\">-1</span>,\n",
       "    <span style=\"color: #008000; text-decoration-color: #008000\">'left-sided'</span>: <span style=\"color: #008080; text-decoration-color: #008080; font-weight: bold\">-1</span>,\n",
       "    <span style=\"color: #008000; text-decoration-color: #008000\">'overt'</span>: <span style=\"color: #008080; text-decoration-color: #008080; font-weight: bold\">-1</span>,\n",
       "    <span style=\"color: #008000; text-decoration-color: #008000\">'cardiac'</span>: <span style=\"color: #008080; text-decoration-color: #008080; font-weight: bold\">-2</span>,\n",
       "    <span style=\"color: #008000; text-decoration-color: #008000\">'opacities'</span>: <span style=\"color: #008080; text-decoration-color: #008080; font-weight: bold\">-2</span>,\n",
       "    <span style=\"color: #008000; text-decoration-color: #008000\">'clinical'</span>: <span style=\"color: #008080; text-decoration-color: #008080; font-weight: bold\">-2</span>,\n",
       "    <span style=\"color: #008000; text-decoration-color: #008000\">'moderate'</span>: <span style=\"color: #008080; text-decoration-color: #008080; font-weight: bold\">-2</span>,\n",
       "    <span style=\"color: #008000; text-decoration-color: #008000\">'man'</span>: <span style=\"color: #008080; text-decoration-color: #008080; font-weight: bold\">-2</span>,\n",
       "    <span style=\"color: #008000; text-decoration-color: #008000\">'dated'</span>: <span style=\"color: #008080; text-decoration-color: #008080; font-weight: bold\">-2</span>,\n",
       "    <span style=\"color: #008000; text-decoration-color: #008000\">'edema.'</span>: <span style=\"color: #008080; text-decoration-color: #008080; font-weight: bold\">-2</span>,\n",
       "    <span style=\"color: #008000; text-decoration-color: #008000\">'(portable'</span>: <span style=\"color: #008080; text-decoration-color: #008080; font-weight: bold\">-3</span>,\n",
       "    <span style=\"color: #008000; text-decoration-color: #008000\">'ap)'</span>: <span style=\"color: #008080; text-decoration-color: #008080; font-weight: bold\">-3</span>,\n",
       "    <span style=\"color: #008000; text-decoration-color: #008000\">'woman'</span>: <span style=\"color: #008080; text-decoration-color: #008080; font-weight: bold\">-3</span>,\n",
       "    <span style=\"color: #008000; text-decoration-color: #008000\">'single'</span>: <span style=\"color: #008080; text-decoration-color: #008080; font-weight: bold\">-3</span>,\n",
       "    <span style=\"color: #008000; text-decoration-color: #008000\">'right'</span>: <span style=\"color: #008080; text-decoration-color: #008080; font-weight: bold\">-3</span>,\n",
       "    <span style=\"color: #008000; text-decoration-color: #008000\">'opacity'</span>: <span style=\"color: #008080; text-decoration-color: #008080; font-weight: bold\">-3</span>,\n",
       "    <span style=\"color: #008000; text-decoration-color: #008000\">'s/p'</span>: <span style=\"color: #008080; text-decoration-color: #008080; font-weight: bold\">-4</span>,\n",
       "    <span style=\"color: #008000; text-decoration-color: #008000\">'portable'</span>: <span style=\"color: #008080; text-decoration-color: #008080; font-weight: bold\">-4</span>,\n",
       "    <span style=\"color: #008000; text-decoration-color: #008000\">'year'</span>: <span style=\"color: #008080; text-decoration-color: #008080; font-weight: bold\">-5</span>,\n",
       "    <span style=\"color: #008000; text-decoration-color: #008000\">'old'</span>: <span style=\"color: #008080; text-decoration-color: #008080; font-weight: bold\">-5</span>,\n",
       "    <span style=\"color: #008000; text-decoration-color: #008000\">'effusion'</span>: <span style=\"color: #008080; text-decoration-color: #008080; font-weight: bold\">-6</span>,\n",
       "    <span style=\"color: #008000; text-decoration-color: #008000\">'interval'</span>: <span style=\"color: #008080; text-decoration-color: #008080; font-weight: bold\">-9</span>\n",
       "<span style=\"font-weight: bold\">}</span>\n",
       "</pre>\n"
      ],
      "text/plain": [
       "\u001b[1m{\u001b[0m\n",
       "    \u001b[32m'left'\u001b[0m: \u001b[1;36m16\u001b[0m,\n",
       "    \u001b[32m'effusion.'\u001b[0m: \u001b[1;36m8\u001b[0m,\n",
       "    \u001b[32m'tube'\u001b[0m: \u001b[1;36m8\u001b[0m,\n",
       "    \u001b[32m'likely'\u001b[0m: \u001b[1;36m6\u001b[0m,\n",
       "    \u001b[32m'atelectasis'\u001b[0m: \u001b[1;36m5\u001b[0m,\n",
       "    \u001b[32m'1.'\u001b[0m: \u001b[1;36m5\u001b[0m,\n",
       "    \u001b[32m'2.'\u001b[0m: \u001b[1;36m5\u001b[0m,\n",
       "    \u001b[32m'tip'\u001b[0m: \u001b[1;36m5\u001b[0m,\n",
       "    \u001b[32m'chest.'\u001b[0m: \u001b[1;36m4\u001b[0m,\n",
       "    \u001b[32m'radiograph'\u001b[0m: \u001b[1;36m4\u001b[0m,\n",
       "    \u001b[32m'mild'\u001b[0m: \u001b[1;36m4\u001b[0m,\n",
       "    \u001b[32m'vascular'\u001b[0m: \u001b[1;36m4\u001b[0m,\n",
       "    \u001b[32m'new'\u001b[0m: \u001b[1;36m4\u001b[0m,\n",
       "    \u001b[32m'pneumonia'\u001b[0m: \u001b[1;36m4\u001b[0m,\n",
       "    \u001b[32m'position.'\u001b[0m: \u001b[1;36m4\u001b[0m,\n",
       "    \u001b[32m'elevation'\u001b[0m: \u001b[1;36m4\u001b[0m,\n",
       "    \u001b[32m'hemidiaphragm'\u001b[0m: \u001b[1;36m4\u001b[0m,\n",
       "    \u001b[32m'greater'\u001b[0m: \u001b[1;36m4\u001b[0m,\n",
       "    \u001b[32m'pleural'\u001b[0m: \u001b[1;36m3\u001b[0m,\n",
       "    \u001b[32m'post'\u001b[0m: \u001b[1;36m3\u001b[0m,\n",
       "    \u001b[32m'heart'\u001b[0m: \u001b[1;36m3\u001b[0m,\n",
       "    \u001b[32m'small'\u001b[0m: \u001b[1;36m3\u001b[0m,\n",
       "    \u001b[32m'basilar'\u001b[0m: \u001b[1;36m3\u001b[0m,\n",
       "    \u001b[32m'opacity,'\u001b[0m: \u001b[1;36m3\u001b[0m,\n",
       "    \u001b[32m'history:'\u001b[0m: \u001b[1;36m3\u001b[0m,\n",
       "    \u001b[32m'congestion'\u001b[0m: \u001b[1;36m3\u001b[0m,\n",
       "    \u001b[32m'hypoinflated'\u001b[0m: \u001b[1;36m3\u001b[0m,\n",
       "    \u001b[32m'lungs'\u001b[0m: \u001b[1;36m3\u001b[0m,\n",
       "    \u001b[32m'lines'\u001b[0m: \u001b[1;36m3\u001b[0m,\n",
       "    \u001b[32m'frontal'\u001b[0m: \u001b[1;36m3\u001b[0m,\n",
       "    \u001b[32m'enteric'\u001b[0m: \u001b[1;36m3\u001b[0m,\n",
       "    \u001b[32m'unremarkable.'\u001b[0m: \u001b[1;36m3\u001b[0m,\n",
       "    \u001b[32m'status'\u001b[0m: \u001b[1;36m3\u001b[0m,\n",
       "    \u001b[32m'picc'\u001b[0m: \u001b[1;36m3\u001b[0m,\n",
       "    \u001b[32m'focal'\u001b[0m: \u001b[1;36m3\u001b[0m,\n",
       "    \u001b[32m'hemidiaphragm.'\u001b[0m: \u001b[1;36m3\u001b[0m,\n",
       "    \u001b[32m'atrium.'\u001b[0m: \u001b[1;36m3\u001b[0m,\n",
       "    \u001b[32m'recent'\u001b[0m: \u001b[1;36m3\u001b[0m,\n",
       "    \u001b[32m'size,'\u001b[0m: \u001b[1;36m2\u001b[0m,\n",
       "    \u001b[32m'suggestion'\u001b[0m: \u001b[1;36m2\u001b[0m,\n",
       "    \u001b[32m'effusion,'\u001b[0m: \u001b[1;36m2\u001b[0m,\n",
       "    \u001b[32m'similar.'\u001b[0m: \u001b[1;36m2\u001b[0m,\n",
       "    \u001b[32m'mildly'\u001b[0m: \u001b[1;36m2\u001b[0m,\n",
       "    \u001b[32m'atelectasis,'\u001b[0m: \u001b[1;36m2\u001b[0m,\n",
       "    \u001b[32m'thoracic'\u001b[0m: \u001b[1;36m2\u001b[0m,\n",
       "    \u001b[32m'remains'\u001b[0m: \u001b[1;36m2\u001b[0m,\n",
       "    \u001b[32m'right,'\u001b[0m: \u001b[1;36m2\u001b[0m,\n",
       "    \u001b[32m'bibasilar'\u001b[0m: \u001b[1;36m2\u001b[0m,\n",
       "    \u001b[32m'lower'\u001b[0m: \u001b[1;36m2\u001b[0m,\n",
       "    \u001b[32m'lobe'\u001b[0m: \u001b[1;36m2\u001b[0m,\n",
       "    \u001b[32m'represents'\u001b[0m: \u001b[1;36m2\u001b[0m,\n",
       "    \u001b[32m'appropriate'\u001b[0m: \u001b[1;36m2\u001b[0m,\n",
       "    \u001b[32m'3.'\u001b[0m: \u001b[1;36m2\u001b[0m,\n",
       "    \u001b[32m'support'\u001b[0m: \u001b[1;36m2\u001b[0m,\n",
       "    \u001b[32m'tubes'\u001b[0m: \u001b[1;36m2\u001b[0m,\n",
       "    \u001b[32m'described'\u001b[0m: \u001b[1;36m2\u001b[0m,\n",
       "    \u001b[32m'above.'\u001b[0m: \u001b[1;36m2\u001b[0m,\n",
       "    \u001b[32m'___,'\u001b[0m: \u001b[1;36m2\u001b[0m,\n",
       "    \u001b[32m'coursing'\u001b[0m: \u001b[1;36m2\u001b[0m,\n",
       "    \u001b[32m'mid'\u001b[0m: \u001b[1;36m2\u001b[0m,\n",
       "    \u001b[32m'level'\u001b[0m: \u001b[1;36m2\u001b[0m,\n",
       "    \u001b[32m'perihilar'\u001b[0m: \u001b[1;36m2\u001b[0m,\n",
       "    \u001b[32m'given'\u001b[0m: \u001b[1;36m2\u001b[0m,\n",
       "    \u001b[32m'exaggerate'\u001b[0m: \u001b[1;36m2\u001b[0m,\n",
       "    \u001b[32m'altered'\u001b[0m: \u001b[1;36m2\u001b[0m,\n",
       "    \u001b[32m'mental'\u001b[0m: \u001b[1;36m2\u001b[0m,\n",
       "    \u001b[32m'ends'\u001b[0m: \u001b[1;36m2\u001b[0m,\n",
       "    \u001b[32m'stomach.'\u001b[0m: \u001b[1;36m2\u001b[0m,\n",
       "    \u001b[32m'svc.'\u001b[0m: \u001b[1;36m2\u001b[0m,\n",
       "    \u001b[32m'consolidation.'\u001b[0m: \u001b[1;36m2\u001b[0m,\n",
       "    \u001b[32m'placement.'\u001b[0m: \u001b[1;36m2\u001b[0m,\n",
       "    \u001b[32m'low'\u001b[0m: \u001b[1;36m2\u001b[0m,\n",
       "    \u001b[32m'appears'\u001b[0m: \u001b[1;36m2\u001b[0m,\n",
       "    \u001b[32m'significant'\u001b[0m: \u001b[1;36m2\u001b[0m,\n",
       "    \u001b[32m'volume'\u001b[0m: \u001b[1;36m2\u001b[0m,\n",
       "    \u001b[32m'loss'\u001b[0m: \u001b[1;36m2\u001b[0m,\n",
       "    \u001b[32m'addendum'\u001b[0m: \u001b[1;36m2\u001b[0m,\n",
       "    \u001b[32m'___-year-old'\u001b[0m: \u001b[1;36m2\u001b[0m,\n",
       "    \u001b[32m'combination'\u001b[0m: \u001b[1;36m2\u001b[0m,\n",
       "    \u001b[32m'exam.'\u001b[0m: \u001b[1;36m2\u001b[0m,\n",
       "    \u001b[32m'placement'\u001b[0m: \u001b[1;36m2\u001b[0m,\n",
       "    \u001b[32m'left,'\u001b[0m: \u001b[1;36m2\u001b[0m,\n",
       "    \u001b[32m'pneumoperitoneum,'\u001b[0m: \u001b[1;36m2\u001b[0m,\n",
       "    \u001b[32m'gastrostomy'\u001b[0m: \u001b[1;36m2\u001b[0m,\n",
       "    \u001b[32m'increased'\u001b[0m: \u001b[1;36m2\u001b[0m,\n",
       "    \u001b[32m'border'\u001b[0m: \u001b[1;36m2\u001b[0m,\n",
       "    \u001b[32m'lung,'\u001b[0m: \u001b[1;36m2\u001b[0m,\n",
       "    \u001b[32m'obscuration'\u001b[0m: \u001b[1;36m2\u001b[0m,\n",
       "    \u001b[32m'vs'\u001b[0m: \u001b[1;36m2\u001b[0m,\n",
       "    \u001b[32m'pcnl,'\u001b[0m: \u001b[1;36m1\u001b[0m,\n",
       "    \u001b[32m'second'\u001b[0m: \u001b[1;36m1\u001b[0m,\n",
       "    \u001b[32m'stage'\u001b[0m: \u001b[1;36m1\u001b[0m,\n",
       "    \u001b[32m'pcnl'\u001b[0m: \u001b[1;36m1\u001b[0m,\n",
       "    \u001b[32m'assess'\u001b[0m: \u001b[1;36m1\u001b[0m,\n",
       "    \u001b[32m'recurrent'\u001b[0m: \u001b[1;36m1\u001b[0m,\n",
       "    \u001b[32m'effusion;'\u001b[0m: \u001b[1;36m1\u001b[0m,\n",
       "    \u001b[32m'seat'\u001b[0m: \u001b[1;36m1\u001b[0m,\n",
       "    \u001b[32m'patient'\u001b[0m: \u001b[1;36m1\u001b[0m,\n",
       "    \u001b[32m'view'\u001b[0m: \u001b[1;36m1\u001b[0m,\n",
       "    \u001b[32m'shallow'\u001b[0m: \u001b[1;36m1\u001b[0m,\n",
       "    \u001b[32m'inspiration'\u001b[0m: \u001b[1;36m1\u001b[0m,\n",
       "    \u001b[32m'accentuates'\u001b[0m: \u001b[1;36m1\u001b[0m,\n",
       "    \u001b[32m'pulmonary'\u001b[0m: \u001b[1;36m1\u001b[0m,\n",
       "    \u001b[32m'vascularity.'\u001b[0m: \u001b[1;36m1\u001b[0m,\n",
       "    \u001b[32m'tube.'\u001b[0m: \u001b[1;36m1\u001b[0m,\n",
       "    \u001b[32m'worsened'\u001b[0m: \u001b[1;36m1\u001b[0m,\n",
       "    \u001b[32m'come'\u001b[0m: \u001b[1;36m1\u001b[0m,\n",
       "    \u001b[32m'additional'\u001b[0m: \u001b[1;36m1\u001b[0m,\n",
       "    \u001b[32m'tubing'\u001b[0m: \u001b[1;36m1\u001b[0m,\n",
       "    \u001b[32m'projected'\u001b[0m: \u001b[1;36m1\u001b[0m,\n",
       "    \u001b[32m'quadrant.'\u001b[0m: \u001b[1;36m1\u001b[0m,\n",
       "    \u001b[32m'worsened.'\u001b[0m: \u001b[1;36m1\u001b[0m,\n",
       "    \u001b[32m'silhouette'\u001b[0m: \u001b[1;36m1\u001b[0m,\n",
       "    \u001b[32m'size'\u001b[0m: \u001b[1;36m1\u001b[0m,\n",
       "    \u001b[32m'normal.'\u001b[0m: \u001b[1;36m1\u001b[0m,\n",
       "    \u001b[32m'contour'\u001b[0m: \u001b[1;36m1\u001b[0m,\n",
       "    \u001b[32m'atherosclerotic'\u001b[0m: \u001b[1;36m1\u001b[0m,\n",
       "    \u001b[32m'calcification'\u001b[0m: \u001b[1;36m1\u001b[0m,\n",
       "    \u001b[32m'noted'\u001b[0m: \u001b[1;36m1\u001b[0m,\n",
       "    \u001b[32m'aorta.'\u001b[0m: \u001b[1;36m1\u001b[0m,\n",
       "    \u001b[32m'position,'\u001b[0m: \u001b[1;36m1\u001b[0m,\n",
       "    \u001b[32m'pneumothorax'\u001b[0m: \u001b[1;36m1\u001b[0m,\n",
       "    \u001b[32m'demonstrated.'\u001b[0m: \u001b[1;36m1\u001b[0m,\n",
       "    \u001b[32m'streaky'\u001b[0m: \u001b[1;36m1\u001b[0m,\n",
       "    \u001b[32m'bases,'\u001b[0m: \u001b[1;36m1\u001b[0m,\n",
       "    \u001b[32m'pronounced'\u001b[0m: \u001b[1;36m1\u001b[0m,\n",
       "    \u001b[32m'reflect'\u001b[0m: \u001b[1;36m1\u001b[0m,\n",
       "    \u001b[32m'cephalization'\u001b[0m: \u001b[1;36m1\u001b[0m,\n",
       "    \u001b[32m'vasculature.'\u001b[0m: \u001b[1;36m1\u001b[0m,\n",
       "    \u001b[32m'congestion.'\u001b[0m: \u001b[1;36m1\u001b[0m,\n",
       "    \u001b[32m'1:31'\u001b[0m: \u001b[1;36m1\u001b[0m,\n",
       "    \u001b[32m'setting.'\u001b[0m: \u001b[1;36m1\u001b[0m,\n",
       "    \u001b[32m'______________________________________________________________________________'\u001b[0m: \u001b[1;36m1\u001b[0m,\n",
       "    \u001b[32m'___f'\u001b[0m: \u001b[1;36m1\u001b[0m,\n",
       "    \u001b[32m'intubation.'\u001b[0m: \u001b[1;36m1\u001b[0m,\n",
       "    \u001b[32m'supine'\u001b[0m: \u001b[1;36m1\u001b[0m,\n",
       "    \u001b[32m'radiograph.'\u001b[0m: \u001b[1;36m1\u001b[0m,\n",
       "    \u001b[32m'feeding'\u001b[0m: \u001b[1;36m1\u001b[0m,\n",
       "    \u001b[32m'field'\u001b[0m: \u001b[1;36m1\u001b[0m,\n",
       "    \u001b[32m'view.'\u001b[0m: \u001b[1;36m1\u001b[0m,\n",
       "    \u001b[32m'clavicles,'\u001b[0m: \u001b[1;36m1\u001b[0m,\n",
       "    \u001b[32m'1.9'\u001b[0m: \u001b[1;36m1\u001b[0m,\n",
       "    \u001b[32m'carina'\u001b[0m: \u001b[1;36m1\u001b[0m,\n",
       "    \u001b[32m'intact'\u001b[0m: \u001b[1;36m1\u001b[0m,\n",
       "    \u001b[32m'wires.'\u001b[0m: \u001b[1;36m1\u001b[0m,\n",
       "    \u001b[32m'interstitial'\u001b[0m: \u001b[1;36m1\u001b[0m,\n",
       "    \u001b[32m'cephalization.'\u001b[0m: \u001b[1;36m1\u001b[0m,\n",
       "    \u001b[32m'heterogeneous'\u001b[0m: \u001b[1;36m1\u001b[0m,\n",
       "    \u001b[32m'opacity.'\u001b[0m: \u001b[1;36m1\u001b[0m,\n",
       "    \u001b[32m'contour,'\u001b[0m: \u001b[1;36m1\u001b[0m,\n",
       "    \u001b[32m'hila'\u001b[0m: \u001b[1;36m1\u001b[0m,\n",
       "    \u001b[32m'probable'\u001b[0m: \u001b[1;36m1\u001b[0m,\n",
       "    \u001b[32m'cough.'\u001b[0m: \u001b[1;36m1\u001b[0m,\n",
       "    \u001b[32m'origin'\u001b[0m: \u001b[1;36m1\u001b[0m,\n",
       "    \u001b[32m'mare'\u001b[0m: \u001b[1;36m1\u001b[0m,\n",
       "    \u001b[32m'apex'\u001b[0m: \u001b[1;36m1\u001b[0m,\n",
       "    \u001b[32m'suggests'\u001b[0m: \u001b[1;36m1\u001b[0m,\n",
       "    \u001b[32m'subpulmonic'\u001b[0m: \u001b[1;36m1\u001b[0m,\n",
       "    \u001b[32m'increase'\u001b[0m: \u001b[1;36m1\u001b[0m,\n",
       "    \u001b[32m'epilepticus,'\u001b[0m: \u001b[1;36m1\u001b[0m,\n",
       "    \u001b[32m'intubated.'\u001b[0m: \u001b[1;36m1\u001b[0m,\n",
       "    \u001b[32m'volumes'\u001b[0m: \u001b[1;36m1\u001b[0m,\n",
       "    \u001b[32m'difficult'\u001b[0m: \u001b[1;36m1\u001b[0m,\n",
       "    \u001b[32m'reliably'\u001b[0m: \u001b[1;36m1\u001b[0m,\n",
       "    \u001b[32m'discern,'\u001b[0m: \u001b[1;36m1\u001b[0m,\n",
       "    \u001b[32m'probably'\u001b[0m: \u001b[1;36m1\u001b[0m,\n",
       "    \u001b[32m'hemi'\u001b[0m: \u001b[1;36m1\u001b[0m,\n",
       "    \u001b[32m'platelike'\u001b[0m: \u001b[1;36m1\u001b[0m,\n",
       "    \u001b[32m'lingular'\u001b[0m: \u001b[1;36m1\u001b[0m,\n",
       "    \u001b[32m'assess.'\u001b[0m: \u001b[1;36m1\u001b[0m,\n",
       "    \u001b[32m'looped'\u001b[0m: \u001b[1;36m1\u001b[0m,\n",
       "    \u001b[32m'right-sided'\u001b[0m: \u001b[1;36m1\u001b[0m,\n",
       "    \u001b[32m'positioning'\u001b[0m: \u001b[1;36m1\u001b[0m,\n",
       "    \u001b[32m'ett.'\u001b[0m: \u001b[1;36m1\u001b[0m,\n",
       "    \u001b[32m'volumes.'\u001b[0m: \u001b[1;36m1\u001b[0m,\n",
       "    \u001b[32m'thorax,'\u001b[0m: \u001b[1;36m1\u001b[0m,\n",
       "    \u001b[32m'collapse'\u001b[0m: \u001b[1;36m1\u001b[0m,\n",
       "    \u001b[32m'middle'\u001b[0m: \u001b[1;36m1\u001b[0m,\n",
       "    \u001b[32m'context,'\u001b[0m: \u001b[1;36m1\u001b[0m,\n",
       "    \u001b[32m'evaluation'\u001b[0m: \u001b[1;36m1\u001b[0m,\n",
       "    \u001b[32m'difficult.'\u001b[0m: \u001b[1;36m1\u001b[0m,\n",
       "    \u001b[32m'request'\u001b[0m: \u001b[1;36m1\u001b[0m,\n",
       "    \u001b[32m'attempt'\u001b[0m: \u001b[1;36m1\u001b[0m,\n",
       "    \u001b[32m'location'\u001b[0m: \u001b[1;36m1\u001b[0m,\n",
       "    \u001b[32m'catheter.'\u001b[0m: \u001b[1;36m1\u001b[0m,\n",
       "    \u001b[32m'review,'\u001b[0m: \u001b[1;36m1\u001b[0m,\n",
       "    \u001b[32m'catheter'\u001b[0m: \u001b[1;36m1\u001b[0m,\n",
       "    \u001b[32m'best'\u001b[0m: \u001b[1;36m1\u001b[0m,\n",
       "    \u001b[32m'view,'\u001b[0m: \u001b[1;36m1\u001b[0m,\n",
       "    \u001b[32m'confirmed'\u001b[0m: \u001b[1;36m1\u001b[0m,\n",
       "    \u001b[32m'female'\u001b[0m: \u001b[1;36m1\u001b[0m,\n",
       "    \u001b[32m'pain.'\u001b[0m: \u001b[1;36m1\u001b[0m,\n",
       "    \u001b[32m'prior,'\u001b[0m: \u001b[1;36m1\u001b[0m,\n",
       "    \u001b[32m'dense'\u001b[0m: \u001b[1;36m1\u001b[0m,\n",
       "    \u001b[32m'obscuring'\u001b[0m: \u001b[1;36m1\u001b[0m,\n",
       "    \u001b[32m'consolidation,'\u001b[0m: \u001b[1;36m1\u001b[0m,\n",
       "    \u001b[32m'hiatal'\u001b[0m: \u001b[1;36m1\u001b[0m,\n",
       "    \u001b[32m'hernia'\u001b[0m: \u001b[1;36m1\u001b[0m,\n",
       "    \u001b[32m'suspected.'\u001b[0m: \u001b[1;36m1\u001b[0m,\n",
       "    \u001b[32m'2'\u001b[0m: \u001b[1;36m1\u001b[0m,\n",
       "    \u001b[32m'separate'\u001b[0m: \u001b[1;36m1\u001b[0m,\n",
       "    \u001b[32m'subclavian'\u001b[0m: \u001b[1;36m1\u001b[0m,\n",
       "    \u001b[32m'identified'\u001b[0m: \u001b[1;36m1\u001b[0m,\n",
       "    \u001b[32m'larger'\u001b[0m: \u001b[1;36m1\u001b[0m,\n",
       "    \u001b[32m'terminating'\u001b[0m: \u001b[1;36m1\u001b[0m,\n",
       "    \u001b[32m'smaller'\u001b[0m: \u001b[1;36m1\u001b[0m,\n",
       "    \u001b[32m'clearly'\u001b[0m: \u001b[1;36m1\u001b[0m,\n",
       "    \u001b[32m'delineated'\u001b[0m: \u001b[1;36m1\u001b[0m,\n",
       "    \u001b[32m'current'\u001b[0m: \u001b[1;36m1\u001b[0m,\n",
       "    \u001b[32m'degenerative'\u001b[0m: \u001b[1;36m1\u001b[0m,\n",
       "    \u001b[32m'changes'\u001b[0m: \u001b[1;36m1\u001b[0m,\n",
       "    \u001b[32m'spine'\u001b[0m: \u001b[1;36m1\u001b[0m,\n",
       "    \u001b[32m'abnormality.'\u001b[0m: \u001b[1;36m1\u001b[0m,\n",
       "    \u001b[32m'previous'\u001b[0m: \u001b[1;36m1\u001b[0m,\n",
       "    \u001b[32m'exam'\u001b[0m: \u001b[1;36m1\u001b[0m,\n",
       "    \u001b[32m'male'\u001b[0m: \u001b[1;36m1\u001b[0m,\n",
       "    \u001b[32m'alcoholic'\u001b[0m: \u001b[1;36m1\u001b[0m,\n",
       "    \u001b[32m'pancreatitis,'\u001b[0m: \u001b[1;36m1\u001b[0m,\n",
       "    \u001b[32m'pseudocyst,'\u001b[0m: \u001b[1;36m1\u001b[0m,\n",
       "    \u001b[32m'biliary'\u001b[0m: \u001b[1;36m1\u001b[0m,\n",
       "    \u001b[32m'stricture'\u001b[0m: \u001b[1;36m1\u001b[0m,\n",
       "    \u001b[32m'stent'\u001b[0m: \u001b[1;36m1\u001b[0m,\n",
       "    \u001b[32m'liver'\u001b[0m: \u001b[1;36m1\u001b[0m,\n",
       "    \u001b[32m'abscess'\u001b[0m: \u001b[1;36m1\u001b[0m,\n",
       "    \u001b[32m'comparisons:'\u001b[0m: \u001b[1;36m1\u001b[0m,\n",
       "    \u001b[32m'multiple'\u001b[0m: \u001b[1;36m1\u001b[0m,\n",
       "    \u001b[32m'studies,'\u001b[0m: \u001b[1;36m1\u001b[0m,\n",
       "    \u001b[32m'recently'\u001b[0m: \u001b[1;36m1\u001b[0m,\n",
       "    \u001b[32m'retraction'\u001b[0m: \u001b[1;36m1\u001b[0m,\n",
       "    \u001b[32m'3.5'\u001b[0m: \u001b[1;36m1\u001b[0m,\n",
       "    \u001b[32m'cm.'\u001b[0m: \u001b[1;36m1\u001b[0m,\n",
       "    \u001b[32m'edema,'\u001b[0m: \u001b[1;36m1\u001b[0m,\n",
       "    \u001b[32m'pneumothroax.'\u001b[0m: \u001b[1;36m1\u001b[0m,\n",
       "    \u001b[32m'enlarged.'\u001b[0m: \u001b[1;36m1\u001b[0m,\n",
       "    \u001b[32m'imaged'\u001b[0m: \u001b[1;36m1\u001b[0m,\n",
       "    \u001b[32m'bones'\u001b[0m: \u001b[1;36m1\u001b[0m,\n",
       "    \u001b[32m'opacities,right'\u001b[0m: \u001b[1;36m1\u001b[0m,\n",
       "    \u001b[32m'respiratory'\u001b[0m: \u001b[1;36m1\u001b[0m,\n",
       "    \u001b[32m'distress.'\u001b[0m: \u001b[1;36m1\u001b[0m,\n",
       "    \u001b[32m'gastrostomy.'\u001b[0m: \u001b[1;36m1\u001b[0m,\n",
       "    \u001b[32m'presumably'\u001b[0m: \u001b[1;36m1\u001b[0m,\n",
       "    \u001b[32m'opacification'\u001b[0m: \u001b[1;36m1\u001b[0m,\n",
       "    \u001b[32m'opacification,'\u001b[0m: \u001b[1;36m1\u001b[0m,\n",
       "    \u001b[32m'related'\u001b[0m: \u001b[1;36m1\u001b[0m,\n",
       "    \u001b[32m'however,'\u001b[0m: \u001b[1;36m1\u001b[0m,\n",
       "    \u001b[32m'persistence'\u001b[0m: \u001b[1;36m1\u001b[0m,\n",
       "    \u001b[32m'raises'\u001b[0m: \u001b[1;36m1\u001b[0m,\n",
       "    \u001b[32m'question'\u001b[0m: \u001b[1;36m1\u001b[0m,\n",
       "    \u001b[32m'leak.'\u001b[0m: \u001b[1;36m1\u001b[0m,\n",
       "    \u001b[32m'\u001b[0m\u001b[32m(\u001b[0m\u001b[32mvascular'\u001b[0m: \u001b[1;36m1\u001b[0m,\n",
       "    \u001b[32m'surgery\u001b[0m\u001b[32m)\u001b[0m\u001b[32m'\u001b[0m: \u001b[1;36m1\u001b[0m,\n",
       "    \u001b[32m'phone'\u001b[0m: \u001b[1;36m1\u001b[0m,\n",
       "    \u001b[32m'12:19'\u001b[0m: \u001b[1;36m1\u001b[0m,\n",
       "    \u001b[32m'p.m.'\u001b[0m: \u001b[1;36m1\u001b[0m,\n",
       "    \u001b[32m'status,'\u001b[0m: \u001b[1;36m1\u001b[0m,\n",
       "    \u001b[32m'hypoxemia.'\u001b[0m: \u001b[1;36m1\u001b[0m,\n",
       "    \u001b[32m'copd/'\u001b[0m: \u001b[1;36m1\u001b[0m,\n",
       "    \u001b[32m'semi'\u001b[0m: \u001b[1;36m1\u001b[0m,\n",
       "    \u001b[32m'et'\u001b[0m: \u001b[1;36m1\u001b[0m,\n",
       "    \u001b[32m'approximately'\u001b[0m: \u001b[1;36m1\u001b[0m,\n",
       "    \u001b[32m'7'\u001b[0m: \u001b[1;36m1\u001b[0m,\n",
       "    \u001b[32m'hemithorax'\u001b[0m: \u001b[1;36m1\u001b[0m,\n",
       "    \u001b[32m'near'\u001b[0m: \u001b[1;36m1\u001b[0m,\n",
       "    \u001b[32m'midline,'\u001b[0m: \u001b[1;36m1\u001b[0m,\n",
       "    \u001b[32m'film.'\u001b[0m: \u001b[1;36m1\u001b[0m,\n",
       "    \u001b[32m'cardiomegaly'\u001b[0m: \u001b[1;36m1\u001b[0m,\n",
       "    \u001b[32m'structures,'\u001b[0m: \u001b[1;36m1\u001b[0m,\n",
       "    \u001b[32m'tortuosity'\u001b[0m: \u001b[1;36m1\u001b[0m,\n",
       "    \u001b[32m'aorta,'\u001b[0m: \u001b[1;36m1\u001b[0m,\n",
       "    \u001b[32m'new.'\u001b[0m: \u001b[1;36m1\u001b[0m,\n",
       "    \u001b[32m'note'\u001b[0m: \u001b[1;36m1\u001b[0m,\n",
       "    \u001b[32m'retrocardiac'\u001b[0m: \u001b[1;36m1\u001b[0m,\n",
       "    \u001b[32m'excluded.'\u001b[0m: \u001b[1;36m1\u001b[0m,\n",
       "    \u001b[32m'upright'\u001b[0m: \u001b[1;36m0\u001b[0m,\n",
       "    \u001b[32m'atelectasis.'\u001b[0m: \u001b[1;36m0\u001b[0m,\n",
       "    \u001b[32m'upper'\u001b[0m: \u001b[1;36m0\u001b[0m,\n",
       "    \u001b[32m'ct'\u001b[0m: \u001b[1;36m0\u001b[0m,\n",
       "    \u001b[32m'unchanged'\u001b[0m: \u001b[1;36m0\u001b[0m,\n",
       "    \u001b[32m'similar'\u001b[0m: \u001b[1;36m0\u001b[0m,\n",
       "    \u001b[32m'large'\u001b[0m: \u001b[1;36m0\u001b[0m,\n",
       "    \u001b[32m'place.'\u001b[0m: \u001b[1;36m0\u001b[0m,\n",
       "    \u001b[32m'wet'\u001b[0m: \u001b[1;36m0\u001b[0m,\n",
       "    \u001b[32m'read:'\u001b[0m: \u001b[1;36m0\u001b[0m,\n",
       "    \u001b[32m'trace'\u001b[0m: \u001b[1;36m0\u001b[0m,\n",
       "    \u001b[32m'excluded'\u001b[0m: \u001b[1;36m0\u001b[0m,\n",
       "    \u001b[32m'endotracheal'\u001b[0m: \u001b[1;36m0\u001b[0m,\n",
       "    \u001b[32m'seen'\u001b[0m: \u001b[1;36m0\u001b[0m,\n",
       "    \u001b[32m'line'\u001b[0m: \u001b[1;36m0\u001b[0m,\n",
       "    \u001b[32m'cm'\u001b[0m: \u001b[1;36m0\u001b[0m,\n",
       "    \u001b[32m'sternotomy'\u001b[0m: \u001b[1;36m0\u001b[0m,\n",
       "    \u001b[32m'prominence'\u001b[0m: \u001b[1;36m0\u001b[0m,\n",
       "    \u001b[32m'consistent'\u001b[0m: \u001b[1;36m0\u001b[0m,\n",
       "    \u001b[32m'crowding'\u001b[0m: \u001b[1;36m0\u001b[0m,\n",
       "    \u001b[32m'stable'\u001b[0m: \u001b[1;36m0\u001b[0m,\n",
       "    \u001b[32m'unchanged.'\u001b[0m: \u001b[1;36m0\u001b[0m,\n",
       "    \u001b[32m'lateral'\u001b[0m: \u001b[1;36m0\u001b[0m,\n",
       "    \u001b[32m'none.'\u001b[0m: \u001b[1;36m0\u001b[0m,\n",
       "    \u001b[32m'prominent'\u001b[0m: \u001b[1;36m0\u001b[0m,\n",
       "    \u001b[32m'top-normal.'\u001b[0m: \u001b[1;36m0\u001b[0m,\n",
       "    \u001b[32m'thorax.'\u001b[0m: \u001b[1;36m0\u001b[0m,\n",
       "    \u001b[32m'base'\u001b[0m: \u001b[1;36m0\u001b[0m,\n",
       "    \u001b[32m'distal'\u001b[0m: \u001b[1;36m0\u001b[0m,\n",
       "    \u001b[32m'views'\u001b[0m: \u001b[1;36m0\u001b[0m,\n",
       "    \u001b[32m'consolidation'\u001b[0m: \u001b[1;36m0\u001b[0m,\n",
       "    \u001b[32m'drain'\u001b[0m: \u001b[1;36m0\u001b[0m,\n",
       "    \u001b[32m'prior'\u001b[0m: \u001b[1;36m0\u001b[0m,\n",
       "    \u001b[32m'pa'\u001b[0m: \u001b[1;36m0\u001b[0m,\n",
       "    \u001b[32m'provided.'\u001b[0m: \u001b[1;36m0\u001b[0m,\n",
       "    \u001b[32m'cardiomediastinal'\u001b[0m: \u001b[1;36m0\u001b[0m,\n",
       "    \u001b[32m'abdomen'\u001b[0m: \u001b[1;36m0\u001b[0m,\n",
       "    \u001b[32m'intact.'\u001b[0m: \u001b[1;36m0\u001b[0m,\n",
       "    \u001b[32m'tracheostomy'\u001b[0m: \u001b[1;36m0\u001b[0m,\n",
       "    \u001b[32m'discussed'\u001b[0m: \u001b[1;36m0\u001b[0m,\n",
       "    \u001b[32m'dr.'\u001b[0m: \u001b[1;36m0\u001b[0m,\n",
       "    \u001b[32m'history'\u001b[0m: \u001b[1;36m0\u001b[0m,\n",
       "    \u001b[32m'infiltrate.'\u001b[0m: \u001b[1;36m0\u001b[0m,\n",
       "    \u001b[32m'overall'\u001b[0m: \u001b[1;36m0\u001b[0m,\n",
       "    \u001b[32m'aside'\u001b[0m: \u001b[1;36m0\u001b[0m,\n",
       "    \u001b[32m'effusions'\u001b[0m: \u001b[1;36m0\u001b[0m,\n",
       "    \u001b[32m'hemidiaphragm,'\u001b[0m: \u001b[1;36m0\u001b[0m,\n",
       "    \u001b[32m'chf,'\u001b[0m: \u001b[1;36m0\u001b[0m,\n",
       "    \u001b[32m'pna,'\u001b[0m: \u001b[1;36m0\u001b[0m,\n",
       "    \u001b[32m'lbs'\u001b[0m: \u001b[1;36m0\u001b[0m,\n",
       "    \u001b[32m'dry'\u001b[0m: \u001b[1;36m0\u001b[0m,\n",
       "    \u001b[32m'wt'\u001b[0m: \u001b[1;36m0\u001b[0m,\n",
       "    \u001b[32m'?volume'\u001b[0m: \u001b[1;36m0\u001b[0m,\n",
       "    \u001b[32m'overload'\u001b[0m: \u001b[1;36m0\u001b[0m,\n",
       "    \u001b[32m'results'\u001b[0m: \u001b[1;36m0\u001b[0m,\n",
       "    \u001b[32m'crowding.'\u001b[0m: \u001b[1;36m0\u001b[0m,\n",
       "    \u001b[32m'continued'\u001b[0m: \u001b[1;36m0\u001b[0m,\n",
       "    \u001b[32m'improvement'\u001b[0m: \u001b[1;36m0\u001b[0m,\n",
       "    \u001b[32m'pneumonia.'\u001b[0m: \u001b[1;36m0\u001b[0m,\n",
       "    \u001b[32m'represent'\u001b[0m: \u001b[1;36m0\u001b[0m,\n",
       "    \u001b[32m'considered'\u001b[0m: \u001b[1;36m0\u001b[0m,\n",
       "    \u001b[32m'granuloma'\u001b[0m: \u001b[1;36m0\u001b[0m,\n",
       "    \u001b[32m'possible'\u001b[0m: \u001b[1;36m-1\u001b[0m,\n",
       "    \u001b[32m'pneumothorax.'\u001b[0m: \u001b[1;36m-1\u001b[0m,\n",
       "    \u001b[32m'lung'\u001b[0m: \u001b[1;36m-1\u001b[0m,\n",
       "    \u001b[32m'clear.'\u001b[0m: \u001b[1;36m-1\u001b[0m,\n",
       "    \u001b[32m'ap'\u001b[0m: \u001b[1;36m-1\u001b[0m,\n",
       "    \u001b[32m'mediastinal'\u001b[0m: \u001b[1;36m-1\u001b[0m,\n",
       "    \u001b[32m'appearance'\u001b[0m: \u001b[1;36m-1\u001b[0m,\n",
       "    \u001b[32m'bilateral'\u001b[0m: \u001b[1;36m-1\u001b[0m,\n",
       "    \u001b[32m'adjacent'\u001b[0m: \u001b[1;36m-1\u001b[0m,\n",
       "    \u001b[32m'possibly'\u001b[0m: \u001b[1;36m-1\u001b[0m,\n",
       "    \u001b[32m'evaluate'\u001b[0m: \u001b[1;36m-1\u001b[0m,\n",
       "    \u001b[32m'acute'\u001b[0m: \u001b[1;36m-1\u001b[0m,\n",
       "    \u001b[32m'radiographs'\u001b[0m: \u001b[1;36m-1\u001b[0m,\n",
       "    \u001b[32m'terminates'\u001b[0m: \u001b[1;36m-1\u001b[0m,\n",
       "    \u001b[32m'recommend'\u001b[0m: \u001b[1;36m-1\u001b[0m,\n",
       "    \u001b[32m'opacities,'\u001b[0m: \u001b[1;36m-1\u001b[0m,\n",
       "    \u001b[32m'stable.'\u001b[0m: \u001b[1;36m-1\u001b[0m,\n",
       "    \u001b[32m'carina.'\u001b[0m: \u001b[1;36m-1\u001b[0m,\n",
       "    \u001b[32m'compared'\u001b[0m: \u001b[1;36m-1\u001b[0m,\n",
       "    \u001b[32m'hilar'\u001b[0m: \u001b[1;36m-1\u001b[0m,\n",
       "    \u001b[32m'contours'\u001b[0m: \u001b[1;36m-1\u001b[0m,\n",
       "    \u001b[32m'evidence'\u001b[0m: \u001b[1;36m-1\u001b[0m,\n",
       "    \u001b[32m'aspiration'\u001b[0m: \u001b[1;36m-1\u001b[0m,\n",
       "    \u001b[32m'worsening'\u001b[0m: \u001b[1;36m-1\u001b[0m,\n",
       "    \u001b[32m'x-ray.'\u001b[0m: \u001b[1;36m-1\u001b[0m,\n",
       "    \u001b[32m'demonstrates'\u001b[0m: \u001b[1;36m-1\u001b[0m,\n",
       "    \u001b[32m'bronchovascular'\u001b[0m: \u001b[1;36m-1\u001b[0m,\n",
       "    \u001b[32m'left-sided'\u001b[0m: \u001b[1;36m-1\u001b[0m,\n",
       "    \u001b[32m'overt'\u001b[0m: \u001b[1;36m-1\u001b[0m,\n",
       "    \u001b[32m'cardiac'\u001b[0m: \u001b[1;36m-2\u001b[0m,\n",
       "    \u001b[32m'opacities'\u001b[0m: \u001b[1;36m-2\u001b[0m,\n",
       "    \u001b[32m'clinical'\u001b[0m: \u001b[1;36m-2\u001b[0m,\n",
       "    \u001b[32m'moderate'\u001b[0m: \u001b[1;36m-2\u001b[0m,\n",
       "    \u001b[32m'man'\u001b[0m: \u001b[1;36m-2\u001b[0m,\n",
       "    \u001b[32m'dated'\u001b[0m: \u001b[1;36m-2\u001b[0m,\n",
       "    \u001b[32m'edema.'\u001b[0m: \u001b[1;36m-2\u001b[0m,\n",
       "    \u001b[32m'\u001b[0m\u001b[32m(\u001b[0m\u001b[32mportable'\u001b[0m: \u001b[1;36m-3\u001b[0m,\n",
       "    \u001b[32m'ap\u001b[0m\u001b[32m)\u001b[0m\u001b[32m'\u001b[0m: \u001b[1;36m-3\u001b[0m,\n",
       "    \u001b[32m'woman'\u001b[0m: \u001b[1;36m-3\u001b[0m,\n",
       "    \u001b[32m'single'\u001b[0m: \u001b[1;36m-3\u001b[0m,\n",
       "    \u001b[32m'right'\u001b[0m: \u001b[1;36m-3\u001b[0m,\n",
       "    \u001b[32m'opacity'\u001b[0m: \u001b[1;36m-3\u001b[0m,\n",
       "    \u001b[32m's/p'\u001b[0m: \u001b[1;36m-4\u001b[0m,\n",
       "    \u001b[32m'portable'\u001b[0m: \u001b[1;36m-4\u001b[0m,\n",
       "    \u001b[32m'year'\u001b[0m: \u001b[1;36m-5\u001b[0m,\n",
       "    \u001b[32m'old'\u001b[0m: \u001b[1;36m-5\u001b[0m,\n",
       "    \u001b[32m'effusion'\u001b[0m: \u001b[1;36m-6\u001b[0m,\n",
       "    \u001b[32m'interval'\u001b[0m: \u001b[1;36m-9\u001b[0m\n",
       "\u001b[1m}\u001b[0m\n"
      ]
     },
     "metadata": {},
     "output_type": "display_data"
    }
   ],
   "source": [
    "counts = {}\n",
    "for word in attr_words:\n",
    "    c = attr_words[word]\n",
    "    if(word in ref_words): c -= ref_words[word]\n",
    "    counts[word] = c\n",
    "print({k: v for k, v in sorted(counts.items(), key=lambda item: -item[1])})"
   ]
  },
  {
   "cell_type": "code",
   "execution_count": null,
   "id": "61fbf568-3840-4995-be02-8f558561b3d2",
   "metadata": {},
   "outputs": [],
   "source": [
    "keys = words_dp.lz[(-scores).argsort()[:10]]['key']\n",
    "all_re_words = []\n",
    "for key in keys:\n",
    "    path = f'p{key[0][:2]}/p{key[0]}/s{key[1]}.txt'\n",
    "    report_path = os.path.join('/home/common/datasets/mimic/mimic-cxr-reports/files/', path)\n",
    "    report = ''\n",
    "    with open(report_path) as f:\n",
    "        for line in f.readlines():\n",
    "            report+=line.strip().lower()+' '\n",
    "    doc = nlp(report)\n",
    "    #print(doc)\n",
    "    words = [str(x) for x in doc.ents]\n",
    "    #print(words)\n",
    "    linker = nlp.get_pipe(\"scispacy_linker\")\n",
    "    ent_names = []\n",
    "    for ent in doc.ents:\n",
    "        if(ent in STOP_WORDS or ent in MED_STOP_WORDS): continue\n",
    "        for umls_ent in ent._.kb_ents:\n",
    "            a = linker.kb.cui_to_entity[umls_ent[0]]\n",
    "            ent_names.append(a[1])\n",
    "            break\n",
    "    #print(ent_names)\n",
    "    for word in ent_names:\n",
    "        all_re_words.append(word)\n",
    "    #all_re_words.extend(list(words))"
   ]
  },
  {
   "cell_type": "code",
   "execution_count": 81,
   "id": "963ab3a0-9d5e-4654-a209-69a414217a93",
   "metadata": {},
   "outputs": [
    {
     "data": {
      "text/plain": [
       "[('Comparison', 17),\n",
       " ('effusion', 16),\n",
       " ('Pleural effusion disorder', 15),\n",
       " ('No status change', 14),\n",
       " ('findings aspects', 10),\n",
       " ('Indication of (contextual qualifier)', 9),\n",
       " ('Clinical Research', 9),\n",
       " ('Cardiomegaly', 9),\n",
       " ('Pneumothorax', 8),\n",
       " ('Lung consolidation', 8),\n",
       " ('impression (attitude)', 7),\n",
       " ('Pulmonary Edema', 7),\n",
       " ('Bilateral', 7),\n",
       " ('year', 6),\n",
       " ('Congestive heart failure', 6),\n",
       " ('Post', 5),\n",
       " ('Sternotomy (procedure)', 5),\n",
       " ('Stable status', 5),\n",
       " ('Edema', 5),\n",
       " ('KAT5 wt Allele', 5)]"
      ]
     },
     "execution_count": 81,
     "metadata": {},
     "output_type": "execute_result"
    }
   ],
   "source": [
    "Counter(all_re_words).most_common(20)"
   ]
  },
  {
   "cell_type": "code",
   "execution_count": null,
   "id": "05a91901-2832-4f49-86d2-b69e4d78f668",
   "metadata": {},
   "outputs": [],
   "source": []
  }
 ],
 "metadata": {
  "kernelspec": {
   "display_name": "Python 3 (ipykernel)",
   "language": "python",
   "name": "python3"
  },
  "language_info": {
   "codemirror_mode": {
    "name": "ipython",
    "version": 3
   },
   "file_extension": ".py",
   "mimetype": "text/x-python",
   "name": "python",
   "nbconvert_exporter": "python",
   "pygments_lexer": "ipython3",
   "version": "3.8.10"
  }
 },
 "nbformat": 4,
 "nbformat_minor": 5
}
