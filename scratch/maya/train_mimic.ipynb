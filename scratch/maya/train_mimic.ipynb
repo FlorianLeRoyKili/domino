{
 "cells": [
  {
   "cell_type": "code",
   "execution_count": 2,
   "id": "752a7cfd-cf8b-4a6d-ab45-764d5eb318f6",
   "metadata": {},
   "outputs": [],
   "source": [
    "%load_ext autoreload\n",
    "%autoreload 2"
   ]
  },
  {
   "cell_type": "code",
   "execution_count": 131,
   "id": "febb53a2-b31c-47f8-a115-578106ddb7df",
   "metadata": {},
   "outputs": [],
   "source": [
    "import os\n",
    "import terra\n",
    "import meerkat as mk\n",
    "from domino.data.visual_genome import read_vg, ATTRIBUTE_GROUPS\n",
    "import numpy as np\n",
    "import pandas as pd\n",
    "from rich import print\n",
    "import sys\n",
    "sys.path.insert(1,'/pd/maya/domino/domino')"
   ]
  },
  {
   "cell_type": "code",
   "execution_count": 152,
   "id": "e9d901db-7495-4645-b80e-a01a0cd52539",
   "metadata": {},
   "outputs": [],
   "source": [
    "#for p in sys.path:\n",
    "#    print(p)"
   ]
  },
  {
   "cell_type": "markdown",
   "id": "30cec2ac-310b-474e-a556-8ccd8bb8739f",
   "metadata": {},
   "source": [
    "## MIMIC Slice Experiments"
   ]
  },
  {
   "cell_type": "markdown",
   "id": "9a2708d6-56a6-4aa2-a9b2-cc76fc1a2303",
   "metadata": {},
   "source": [
    "### Generate Slices"
   ]
  },
  {
   "cell_type": "code",
   "execution_count": 133,
   "id": "c3213982-9c3f-4f44-b00a-edd79db6ec2e",
   "metadata": {},
   "outputs": [],
   "source": [
    "import slices.mimic"
   ]
  },
  {
   "cell_type": "code",
   "execution_count": 134,
   "id": "5017b3c3-d142-4275-ab45-e1b479b9b06a",
   "metadata": {},
   "outputs": [],
   "source": [
    "dataset_dir = '/pd/maya/mimic_dp_adjusted_diagnoses.mk'"
   ]
  },
  {
   "cell_type": "code",
   "execution_count": 135,
   "id": "38828f30-ba41-467e-b706-c7972fa5b709",
   "metadata": {},
   "outputs": [],
   "source": [
    "target = 'lung_group'\n",
    "correlate = 'support_devices'"
   ]
  },
  {
   "cell_type": "code",
   "execution_count": 136,
   "id": "4bf7cdac-8e8c-4a49-ac47-c1109fafbec8",
   "metadata": {},
   "outputs": [
    {
     "data": {
      "text/plain": [
       "(9997, 66)"
      ]
     },
     "execution_count": 136,
     "metadata": {},
     "output_type": "execute_result"
    }
   ],
   "source": [
    "dp = slices.mimic.build_correlation_slice(target, correlate, 0.8, 1e4, dataset_dir)\n",
    "dp.shape"
   ]
  },
  {
   "cell_type": "code",
   "execution_count": 137,
   "id": "d811ed99-3133-46cb-968a-0167b8d2f960",
   "metadata": {},
   "outputs": [
    {
     "data": {
      "text/html": [
       "<pre style=\"white-space:pre;overflow-x:auto;line-height:normal;font-family:Menlo,'DejaVu Sans Mono',consolas,'Courier New',monospace\">target: <span style=\"color: #808000; text-decoration-color: #808000\">lung_group</span>==<span style=\"color: #008080; text-decoration-color: #008080; font-weight: bold\">1</span>: <span style=\"color: #008080; text-decoration-color: #008080; font-weight: bold\">2228</span>\n",
       "</pre>\n"
      ],
      "text/plain": [
       "target: \u001b[33mlung_group\u001b[0m==\u001b[1;36m1\u001b[0m: \u001b[1;36m2228\u001b[0m\n"
      ]
     },
     "metadata": {},
     "output_type": "display_data"
    },
    {
     "data": {
      "text/html": [
       "<pre style=\"white-space:pre;overflow-x:auto;line-height:normal;font-family:Menlo,'DejaVu Sans Mono',consolas,'Courier New',monospace\">correlate: <span style=\"color: #808000; text-decoration-color: #808000\">support_devices</span>==<span style=\"color: #008080; text-decoration-color: #008080; font-weight: bold\">1</span>: <span style=\"color: #008080; text-decoration-color: #008080; font-weight: bold\">2228</span>\n",
       "</pre>\n"
      ],
      "text/plain": [
       "correlate: \u001b[33msupport_devices\u001b[0m==\u001b[1;36m1\u001b[0m: \u001b[1;36m2228\u001b[0m\n"
      ]
     },
     "metadata": {},
     "output_type": "display_data"
    },
    {
     "data": {
      "text/html": [
       "<pre style=\"white-space:pre;overflow-x:auto;line-height:normal;font-family:Menlo,'DejaVu Sans Mono',consolas,'Courier New',monospace\"><span style=\"color: #808000; text-decoration-color: #808000\">lung_group</span>==<span style=\"color: #008080; text-decoration-color: #008080; font-weight: bold\">1</span> and <span style=\"color: #808000; text-decoration-color: #808000\">support_devices</span>==<span style=\"color: #008080; text-decoration-color: #008080; font-weight: bold\">1</span>: <span style=\"color: #008080; text-decoration-color: #008080; font-weight: bold\">1882</span>\n",
       "</pre>\n"
      ],
      "text/plain": [
       "\u001b[33mlung_group\u001b[0m==\u001b[1;36m1\u001b[0m and \u001b[33msupport_devices\u001b[0m==\u001b[1;36m1\u001b[0m: \u001b[1;36m1882\u001b[0m\n"
      ]
     },
     "metadata": {},
     "output_type": "display_data"
    },
    {
     "data": {
      "text/html": [
       "<pre style=\"white-space:pre;overflow-x:auto;line-height:normal;font-family:Menlo,'DejaVu Sans Mono',consolas,'Courier New',monospace\"><span style=\"color: #808000; text-decoration-color: #808000\">lung_group</span>==<span style=\"color: #008080; text-decoration-color: #008080; font-weight: bold\">0</span> and <span style=\"color: #808000; text-decoration-color: #808000\">support_devices</span>==<span style=\"color: #008080; text-decoration-color: #008080; font-weight: bold\">0</span>: <span style=\"color: #008080; text-decoration-color: #008080; font-weight: bold\">7423</span>\n",
       "</pre>\n"
      ],
      "text/plain": [
       "\u001b[33mlung_group\u001b[0m==\u001b[1;36m0\u001b[0m and \u001b[33msupport_devices\u001b[0m==\u001b[1;36m0\u001b[0m: \u001b[1;36m7423\u001b[0m\n"
      ]
     },
     "metadata": {},
     "output_type": "display_data"
    },
    {
     "data": {
      "text/html": [
       "<pre style=\"white-space:pre;overflow-x:auto;line-height:normal;font-family:Menlo,'DejaVu Sans Mono',consolas,'Courier New',monospace\"><span style=\"color: #808000; text-decoration-color: #808000\">lung_group</span>==<span style=\"color: #008080; text-decoration-color: #008080; font-weight: bold\">1</span> and <span style=\"color: #808000; text-decoration-color: #808000\">support_devices</span>==<span style=\"color: #008080; text-decoration-color: #008080; font-weight: bold\">0</span>: <span style=\"color: #008080; text-decoration-color: #008080; font-weight: bold\">346</span>\n",
       "</pre>\n"
      ],
      "text/plain": [
       "\u001b[33mlung_group\u001b[0m==\u001b[1;36m1\u001b[0m and \u001b[33msupport_devices\u001b[0m==\u001b[1;36m0\u001b[0m: \u001b[1;36m346\u001b[0m\n"
      ]
     },
     "metadata": {},
     "output_type": "display_data"
    },
    {
     "data": {
      "text/html": [
       "<pre style=\"white-space:pre;overflow-x:auto;line-height:normal;font-family:Menlo,'DejaVu Sans Mono',consolas,'Courier New',monospace\"><span style=\"color: #808000; text-decoration-color: #808000\">lung_group</span>==<span style=\"color: #008080; text-decoration-color: #008080; font-weight: bold\">0</span> and <span style=\"color: #808000; text-decoration-color: #808000\">support_devices</span>==<span style=\"color: #008080; text-decoration-color: #008080; font-weight: bold\">1</span>: <span style=\"color: #008080; text-decoration-color: #008080; font-weight: bold\">346</span>\n",
       "</pre>\n"
      ],
      "text/plain": [
       "\u001b[33mlung_group\u001b[0m==\u001b[1;36m0\u001b[0m and \u001b[33msupport_devices\u001b[0m==\u001b[1;36m1\u001b[0m: \u001b[1;36m346\u001b[0m\n"
      ]
     },
     "metadata": {},
     "output_type": "display_data"
    }
   ],
   "source": [
    "print('target: ' + target + f'==1: {np.sum(dp[target]==1)}')\n",
    "print('correlate: ' + correlate + f'==1: {np.sum(dp[correlate]==1)}')\n",
    "print(f'{target}==1 and {correlate}==1: {np.sum((dp[correlate]==1) & (dp[target]==1))}')\n",
    "print(f'{target}==0 and {correlate}==0: {np.sum((dp[correlate]==0) & (dp[target]==0))}')\n",
    "print(f'{target}==1 and {correlate}==0: {np.sum((dp[correlate]==0) & (dp[target]==1))}')\n",
    "print(f'{target}==0 and {correlate}==1: {np.sum((dp[correlate]==1) & (dp[target]==0))}')"
   ]
  },
  {
   "cell_type": "code",
   "execution_count": 138,
   "id": "250fa524-1f1b-4e6c-8952-8a81afb2f029",
   "metadata": {},
   "outputs": [],
   "source": [
    "import utils"
   ]
  },
  {
   "cell_type": "code",
   "execution_count": 139,
   "id": "80ef7f1d-4d85-428a-a944-c5d210553908",
   "metadata": {},
   "outputs": [
    {
     "name": "stdout",
     "output_type": "stream",
     "text": [
      "task: split_dp, run_id=6664\n"
     ]
    }
   ],
   "source": [
    "splits = utils.split_dp(dp, split_on=\"dicom_id\")"
   ]
  },
  {
   "cell_type": "code",
   "execution_count": 140,
   "id": "60dcb7db-f13b-4ee8-92a7-b3b4bf1dc024",
   "metadata": {},
   "outputs": [
    {
     "data": {
      "text/html": [
       "<table border=\"1\" class=\"dataframe\">\n",
       "  <thead>\n",
       "    <tr style=\"text-align: right;\">\n",
       "      <th></th>\n",
       "      <th>dicom_id (PandasSeriesColumn)</th>\n",
       "      <th>study_id (PandasSeriesColumn)</th>\n",
       "      <th>subject_id (PandasSeriesColumn)</th>\n",
       "      <th>dicom_path (PandasSeriesColumn)</th>\n",
       "      <th>gender (PandasSeriesColumn)</th>\n",
       "      <th>anchor_age (PandasSeriesColumn)</th>\n",
       "      <th>anchor_year (PandasSeriesColumn)</th>\n",
       "      <th>anchor_year_group (PandasSeriesColumn)</th>\n",
       "      <th>dod (PandasSeriesColumn)</th>\n",
       "      <th>dicom (PandasSeriesColumn)</th>\n",
       "      <th>study_date (PandasSeriesColumn)</th>\n",
       "      <th>image_type (PandasSeriesColumn)</th>\n",
       "      <th>table_type (PandasSeriesColumn)</th>\n",
       "      <th>distance_source_to_detector (PandasSeriesColumn)</th>\n",
       "      <th>distance_source_to_patient (PandasSeriesColumn)</th>\n",
       "      <th>exposure (PandasSeriesColumn)</th>\n",
       "      <th>exposure_time (PandasSeriesColumn)</th>\n",
       "      <th>x_ray_tube_current (PandasSeriesColumn)</th>\n",
       "      <th>field_of_view_rotation (PandasSeriesColumn)</th>\n",
       "      <th>field_of_view_origin (PandasSeriesColumn)</th>\n",
       "      <th>field_of_view_horizontal_flip (PandasSeriesColumn)</th>\n",
       "      <th>view_position (PandasSeriesColumn)</th>\n",
       "      <th>patient_orientation (PandasSeriesColumn)</th>\n",
       "      <th>burned_in_annotation (PandasSeriesColumn)</th>\n",
       "      <th>requesting_service (PandasSeriesColumn)</th>\n",
       "      <th>detector_primary_angle (PandasSeriesColumn)</th>\n",
       "      <th>detector_element_physical_size (PandasSeriesColumn)</th>\n",
       "      <th>report_path (PandasSeriesColumn)</th>\n",
       "      <th>hadm_id (PandasSeriesColumn)</th>\n",
       "      <th>admittime (PandasSeriesColumn)</th>\n",
       "      <th>dischtime (PandasSeriesColumn)</th>\n",
       "      <th>deathtime (PandasSeriesColumn)</th>\n",
       "      <th>admission_type (PandasSeriesColumn)</th>\n",
       "      <th>admission_location (PandasSeriesColumn)</th>\n",
       "      <th>discharge_location (PandasSeriesColumn)</th>\n",
       "      <th>insurance (PandasSeriesColumn)</th>\n",
       "      <th>language (PandasSeriesColumn)</th>\n",
       "      <th>marital_status (PandasSeriesColumn)</th>\n",
       "      <th>ethnicity (PandasSeriesColumn)</th>\n",
       "      <th>edregtime (PandasSeriesColumn)</th>\n",
       "      <th>edouttime (PandasSeriesColumn)</th>\n",
       "      <th>hospital_expire_flag (PandasSeriesColumn)</th>\n",
       "      <th>index (PandasSeriesColumn)</th>\n",
       "      <th>jpg_path (PandasSeriesColumn)</th>\n",
       "      <th>cxr_jpg (GCSImageColumn)</th>\n",
       "      <th>cxr_dicom (GCSImageColumn)</th>\n",
       "      <th>cxr_jpg_1024 (ImageColumn)</th>\n",
       "      <th>atelectasis (PandasSeriesColumn)</th>\n",
       "      <th>cardiomegaly (PandasSeriesColumn)</th>\n",
       "      <th>consolidation (PandasSeriesColumn)</th>\n",
       "      <th>edema (PandasSeriesColumn)</th>\n",
       "      <th>enlarged_cardiomediastinum (PandasSeriesColumn)</th>\n",
       "      <th>fracture (PandasSeriesColumn)</th>\n",
       "      <th>lung_lesion (PandasSeriesColumn)</th>\n",
       "      <th>lung_opacity (PandasSeriesColumn)</th>\n",
       "      <th>no_finding (PandasSeriesColumn)</th>\n",
       "      <th>pleural_effusion (PandasSeriesColumn)</th>\n",
       "      <th>pleural_other (PandasSeriesColumn)</th>\n",
       "      <th>pneumonia (PandasSeriesColumn)</th>\n",
       "      <th>pneumothorax (PandasSeriesColumn)</th>\n",
       "      <th>support_devices (PandasSeriesColumn)</th>\n",
       "      <th>finding_group (PandasSeriesColumn)</th>\n",
       "      <th>lung_group (PandasSeriesColumn)</th>\n",
       "      <th>pleural_group (PandasSeriesColumn)</th>\n",
       "      <th>cardio_group (PandasSeriesColumn)</th>\n",
       "      <th>split (PandasSeriesColumn)</th>\n",
       "    </tr>\n",
       "  </thead>\n",
       "  <tbody>\n",
       "    <tr>\n",
       "      <th>0</th>\n",
       "      <td>6c73c449-fd189870-9c0a6ef8-8a7199a7-f31f91c1</td>\n",
       "      <td>50270254</td>\n",
       "      <td>13860898</td>\n",
       "      <td>files/p13/p13860898/s50270254/6c73c449-fd189870-9c0a6ef8-8a7199a7-f31f91c1.dcm</td>\n",
       "      <td>F</td>\n",
       "      <td>39.0</td>\n",
       "      <td>2146.0</td>\n",
       "      <td>2008 - 2010</td>\n",
       "      <td>None</td>\n",
       "      <td>6c73c449-fd189870-9c0a6ef8-8a7199a7-f31f91c1</td>\n",
       "      <td>21521219.0</td>\n",
       "      <td>['ORIGINAL', 'PRIMARY']</td>\n",
       "      <td>None</td>\n",
       "      <td>1828.0</td>\n",
       "      <td>1779.0</td>\n",
       "      <td>4.0</td>\n",
       "      <td>13.0</td>\n",
       "      <td>320.0</td>\n",
       "      <td>0.0</td>\n",
       "      <td>['133', '0']</td>\n",
       "      <td>NO</td>\n",
       "      <td>PA</td>\n",
       "      <td>['L', 'F']</td>\n",
       "      <td>NO</td>\n",
       "      <td>MED</td>\n",
       "      <td>NaN</td>\n",
       "      <td>['0.200000', '0.200000']</td>\n",
       "      <td>files/p13/p13860898/s50270254.txt</td>\n",
       "      <td>21454248.0</td>\n",
       "      <td>2152-12-17 23:02:00</td>\n",
       "      <td>2152-12-22 16:30:00</td>\n",
       "      <td>NaT</td>\n",
       "      <td>EW EMER.</td>\n",
       "      <td>EMERGENCY ROOM</td>\n",
       "      <td>HOME</td>\n",
       "      <td>Other</td>\n",
       "      <td>ENGLISH</td>\n",
       "      <td>DIVORCED</td>\n",
       "      <td>BLACK/AFRICAN AMERICAN</td>\n",
       "      <td>2152-12-17 18:09:00</td>\n",
       "      <td>2152-12-18 01:54:00</td>\n",
       "      <td>0.0</td>\n",
       "      <td>205956</td>\n",
       "      <td>files/p13/p13860898/s50270254/6c73c449-fd189870-9c0a6ef8-8a7199a7-f31f91c1.jpg</td>\n",
       "      <td>LambdaCell</td>\n",
       "      <td>LambdaCell</td>\n",
       "      <td><img src=\"data:image/jpeg;base64,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\"></td>\n",
       "      <td>0</td>\n",
       "      <td>0</td>\n",
       "      <td>0</td>\n",
       "      <td>0</td>\n",
       "      <td>0</td>\n",
       "      <td>0</td>\n",
       "      <td>0</td>\n",
       "      <td>0</td>\n",
       "      <td>1</td>\n",
       "      <td>0</td>\n",
       "      <td>0</td>\n",
       "      <td>0</td>\n",
       "      <td>0</td>\n",
       "      <td>0</td>\n",
       "      <td>False</td>\n",
       "      <td>False</td>\n",
       "      <td>False</td>\n",
       "      <td>False</td>\n",
       "      <td>train</td>\n",
       "    </tr>\n",
       "    <tr>\n",
       "      <th>1</th>\n",
       "      <td>f2210b32-7f329881-b2e73148-a55a1daa-8145ad1c</td>\n",
       "      <td>53899167</td>\n",
       "      <td>12900275</td>\n",
       "      <td>files/p12/p12900275/s53899167/f2210b32-7f329881-b2e73148-a55a1daa-8145ad1c.dcm</td>\n",
       "      <td>M</td>\n",
       "      <td>57.0</td>\n",
       "      <td>2129.0</td>\n",
       "      <td>2014 - 2016</td>\n",
       "      <td>None</td>\n",
       "      <td>f2210b32-7f329881-b2e73148-a55a1daa-8145ad1c</td>\n",
       "      <td>21300417.0</td>\n",
       "      <td>['DERIVED', 'PRIMARY']</td>\n",
       "      <td>TILTING</td>\n",
       "      <td>NaN</td>\n",
       "      <td>NaN</td>\n",
       "      <td>4.0</td>\n",
       "      <td>13.0</td>\n",
       "      <td>320.0</td>\n",
       "      <td>NaN</td>\n",
       "      <td>None</td>\n",
       "      <td>None</td>\n",
       "      <td>AP</td>\n",
       "      <td>['L', 'F']</td>\n",
       "      <td>YES</td>\n",
       "      <td>SURG</td>\n",
       "      <td>NaN</td>\n",
       "      <td>['0.139', '0.139']</td>\n",
       "      <td>files/p12/p12900275/s53899167.txt</td>\n",
       "      <td>25394720.0</td>\n",
       "      <td>2130-04-17 11:03:00</td>\n",
       "      <td>2130-04-23 15:26:00</td>\n",
       "      <td>NaT</td>\n",
       "      <td>URGENT</td>\n",
       "      <td>TRANSFER FROM SKILLED NURSING FACILITY</td>\n",
       "      <td>CHRONIC/LONG TERM ACUTE CARE</td>\n",
       "      <td>Other</td>\n",
       "      <td>ENGLISH</td>\n",
       "      <td>DIVORCED</td>\n",
       "      <td>WHITE</td>\n",
       "      <td>NaT</td>\n",
       "      <td>NaT</td>\n",
       "      <td>0.0</td>\n",
       "      <td>197473</td>\n",
       "      <td>files/p12/p12900275/s53899167/f2210b32-7f329881-b2e73148-a55a1daa-8145ad1c.jpg</td>\n",
       "      <td>LambdaCell</td>\n",
       "      <td>LambdaCell</td>\n",
       "      <td><img src=\"data:image/jpeg;base64,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\"></td>\n",
       "      <td>0</td>\n",
       "      <td>0</td>\n",
       "      <td>0</td>\n",
       "      <td>0</td>\n",
       "      <td>0</td>\n",
       "      <td>0</td>\n",
       "      <td>0</td>\n",
       "      <td>0</td>\n",
       "      <td>1</td>\n",
       "      <td>0</td>\n",
       "      <td>0</td>\n",
       "      <td>0</td>\n",
       "      <td>0</td>\n",
       "      <td>1</td>\n",
       "      <td>True</td>\n",
       "      <td>False</td>\n",
       "      <td>False</td>\n",
       "      <td>False</td>\n",
       "      <td>train</td>\n",
       "    </tr>\n",
       "    <tr>\n",
       "      <th>2</th>\n",
       "      <td>7d5e7bab-1723c246-bf63bbf8-e207c40e-06cf4251</td>\n",
       "      <td>57512939</td>\n",
       "      <td>13706076</td>\n",
       "      <td>files/p13/p13706076/s57512939/7d5e7bab-1723c246-bf63bbf8-e207c40e-06cf4251.dcm</td>\n",
       "      <td>F</td>\n",
       "      <td>76.0</td>\n",
       "      <td>2157.0</td>\n",
       "      <td>2008 - 2010</td>\n",
       "      <td>None</td>\n",
       "      <td>7d5e7bab-1723c246-bf63bbf8-e207c40e-06cf4251</td>\n",
       "      <td>21601216.0</td>\n",
       "      <td>['DERIVED', 'PRIMARY', 'POST_PROCESSED', '', '', '', '', '', '100000']</td>\n",
       "      <td>None</td>\n",
       "      <td>NaN</td>\n",
       "      <td>NaN</td>\n",
       "      <td>NaN</td>\n",
       "      <td>NaN</td>\n",
       "      <td>NaN</td>\n",
       "      <td>NaN</td>\n",
       "      <td>None</td>\n",
       "      <td>None</td>\n",
       "      <td>None</td>\n",
       "      <td>None</td>\n",
       "      <td>NO</td>\n",
       "      <td>POP</td>\n",
       "      <td>NaN</td>\n",
       "      <td>None</td>\n",
       "      <td>files/p13/p13706076/s57512939.txt</td>\n",
       "      <td>NaN</td>\n",
       "      <td>NaT</td>\n",
       "      <td>NaT</td>\n",
       "      <td>NaT</td>\n",
       "      <td>None</td>\n",
       "      <td>None</td>\n",
       "      <td>None</td>\n",
       "      <td>None</td>\n",
       "      <td>None</td>\n",
       "      <td>None</td>\n",
       "      <td>None</td>\n",
       "      <td>NaT</td>\n",
       "      <td>NaT</td>\n",
       "      <td>NaN</td>\n",
       "      <td>55941</td>\n",
       "      <td>files/p13/p13706076/s57512939/7d5e7bab-1723c246-bf63bbf8-e207c40e-06cf4251.jpg</td>\n",
       "      <td>LambdaCell</td>\n",
       "      <td>LambdaCell</td>\n",
       "      <td><img src=\"data:image/jpeg;base64,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\"></td>\n",
       "      <td>0</td>\n",
       "      <td>0</td>\n",
       "      <td>0</td>\n",
       "      <td>0</td>\n",
       "      <td>0</td>\n",
       "      <td>0</td>\n",
       "      <td>0</td>\n",
       "      <td>0</td>\n",
       "      <td>1</td>\n",
       "      <td>0</td>\n",
       "      <td>0</td>\n",
       "      <td>0</td>\n",
       "      <td>0</td>\n",
       "      <td>0</td>\n",
       "      <td>False</td>\n",
       "      <td>False</td>\n",
       "      <td>False</td>\n",
       "      <td>False</td>\n",
       "      <td>train</td>\n",
       "    </tr>\n",
       "    <tr>\n",
       "      <th>3</th>\n",
       "      <td>99023e2c-8bed2a01-b6ffba06-0f1a46c7-75e68b31</td>\n",
       "      <td>52391227</td>\n",
       "      <td>10469621</td>\n",
       "      <td>files/p10/p10469621/s52391227/99023e2c-8bed2a01-b6ffba06-0f1a46c7-75e68b31.dcm</td>\n",
       "      <td>F</td>\n",
       "      <td>71.0</td>\n",
       "      <td>2189.0</td>\n",
       "      <td>2008 - 2010</td>\n",
       "      <td>2198-03-17</td>\n",
       "      <td>99023e2c-8bed2a01-b6ffba06-0f1a46c7-75e68b31</td>\n",
       "      <td>21930429.0</td>\n",
       "      <td>['DERIVED', 'PRIMARY']</td>\n",
       "      <td>TILTING</td>\n",
       "      <td>NaN</td>\n",
       "      <td>NaN</td>\n",
       "      <td>3.0</td>\n",
       "      <td>10.0</td>\n",
       "      <td>320.0</td>\n",
       "      <td>NaN</td>\n",
       "      <td>None</td>\n",
       "      <td>None</td>\n",
       "      <td>AP</td>\n",
       "      <td>['L', 'F']</td>\n",
       "      <td>YES</td>\n",
       "      <td>CSURG</td>\n",
       "      <td>NaN</td>\n",
       "      <td>['0.139', '0.139']</td>\n",
       "      <td>files/p10/p10469621/s52391227.txt</td>\n",
       "      <td>26804115.0</td>\n",
       "      <td>2193-04-19 16:56:00</td>\n",
       "      <td>2193-05-03 14:55:00</td>\n",
       "      <td>NaT</td>\n",
       "      <td>EW EMER.</td>\n",
       "      <td>EMERGENCY ROOM</td>\n",
       "      <td>HOME HEALTH CARE</td>\n",
       "      <td>Medicare</td>\n",
       "      <td>ENGLISH</td>\n",
       "      <td>MARRIED</td>\n",
       "      <td>WHITE</td>\n",
       "      <td>2193-04-19 12:00:00</td>\n",
       "      <td>2193-04-19 17:40:00</td>\n",
       "      <td>0.0</td>\n",
       "      <td>176634</td>\n",
       "      <td>files/p10/p10469621/s52391227/99023e2c-8bed2a01-b6ffba06-0f1a46c7-75e68b31.jpg</td>\n",
       "      <td>LambdaCell</td>\n",
       "      <td>LambdaCell</td>\n",
       "      <td><img src=\"data:image/jpeg;base64,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\"></td>\n",
       "      <td>1</td>\n",
       "      <td>0</td>\n",
       "      <td>0</td>\n",
       "      <td>0</td>\n",
       "      <td>0</td>\n",
       "      <td>0</td>\n",
       "      <td>0</td>\n",
       "      <td>0</td>\n",
       "      <td>0</td>\n",
       "      <td>0</td>\n",
       "      <td>0</td>\n",
       "      <td>0</td>\n",
       "      <td>0</td>\n",
       "      <td>1</td>\n",
       "      <td>True</td>\n",
       "      <td>True</td>\n",
       "      <td>False</td>\n",
       "      <td>False</td>\n",
       "      <td>test</td>\n",
       "    </tr>\n",
       "    <tr>\n",
       "      <th>4</th>\n",
       "      <td>90641150-57adb34c-2b4eeac4-b3810988-5b589a68</td>\n",
       "      <td>59618687</td>\n",
       "      <td>19119676</td>\n",
       "      <td>files/p19/p19119676/s59618687/90641150-57adb34c-2b4eeac4-b3810988-5b589a68.dcm</td>\n",
       "      <td>M</td>\n",
       "      <td>47.0</td>\n",
       "      <td>2182.0</td>\n",
       "      <td>2008 - 2010</td>\n",
       "      <td>None</td>\n",
       "      <td>90641150-57adb34c-2b4eeac4-b3810988-5b589a68</td>\n",
       "      <td>21860401.0</td>\n",
       "      <td>['DERIVED', 'PRIMARY']</td>\n",
       "      <td>FIXED</td>\n",
       "      <td>1829.0</td>\n",
       "      <td>NaN</td>\n",
       "      <td>22.0</td>\n",
       "      <td>54.0</td>\n",
       "      <td>400.0</td>\n",
       "      <td>NaN</td>\n",
       "      <td>None</td>\n",
       "      <td>None</td>\n",
       "      <td>LATERAL</td>\n",
       "      <td>['A', 'F']</td>\n",
       "      <td>NO</td>\n",
       "      <td>EU</td>\n",
       "      <td>NaN</td>\n",
       "      <td>['0.139', '0.139']</td>\n",
       "      <td>files/p19/p19119676/s59618687.txt</td>\n",
       "      <td>26187655.0</td>\n",
       "      <td>2186-04-01 15:59:00</td>\n",
       "      <td>2186-04-05 17:45:00</td>\n",
       "      <td>NaT</td>\n",
       "      <td>EW EMER.</td>\n",
       "      <td>EMERGENCY ROOM</td>\n",
       "      <td>HOME HEALTH CARE</td>\n",
       "      <td>Medicare</td>\n",
       "      <td>ENGLISH</td>\n",
       "      <td>SINGLE</td>\n",
       "      <td>WHITE</td>\n",
       "      <td>2186-04-01 11:36:00</td>\n",
       "      <td>2186-04-01 18:03:00</td>\n",
       "      <td>0.0</td>\n",
       "      <td>348609</td>\n",
       "      <td>files/p19/p19119676/s59618687/90641150-57adb34c-2b4eeac4-b3810988-5b589a68.jpg</td>\n",
       "      <td>LambdaCell</td>\n",
       "      <td>LambdaCell</td>\n",
       "      <td><img src=\"data:image/jpeg;base64,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\"></td>\n",
       "      <td>0</td>\n",
       "      <td>0</td>\n",
       "      <td>1</td>\n",
       "      <td>0</td>\n",
       "      <td>0</td>\n",
       "      <td>0</td>\n",
       "      <td>0</td>\n",
       "      <td>0</td>\n",
       "      <td>0</td>\n",
       "      <td>1</td>\n",
       "      <td>0</td>\n",
       "      <td>0</td>\n",
       "      <td>0</td>\n",
       "      <td>1</td>\n",
       "      <td>True</td>\n",
       "      <td>True</td>\n",
       "      <td>True</td>\n",
       "      <td>False</td>\n",
       "      <td>test</td>\n",
       "    </tr>\n",
       "  </tbody>\n",
       "</table>"
      ],
      "text/plain": [
       "DataPanel(nrows: 5, ncols: 66)"
      ]
     },
     "execution_count": 140,
     "metadata": {},
     "output_type": "execute_result"
    }
   ],
   "source": [
    "splits = splits.load()\n",
    "dp['split'] = splits['split']\n",
    "dp.head()"
   ]
  },
  {
   "cell_type": "markdown",
   "id": "348100a8-610e-424b-ba75-a853e49f4fef",
   "metadata": {},
   "source": [
    "### Train Model"
   ]
  },
  {
   "cell_type": "code",
   "execution_count": 13,
   "id": "98b7f5e7-2280-46a0-b214-8c7aeca19833",
   "metadata": {},
   "outputs": [
    {
     "name": "stderr",
     "output_type": "stream",
     "text": [
      "/home/sabri/code/meerkat/meerkat/nn/__init__.py:7: ExperimentalWarning: The `meerkat.nn` module is experimental and has limited test coverage. Proceed with caution.\n",
      "  warnings.warn(\n"
     ]
    },
    {
     "name": "stdout",
     "output_type": "stream",
     "text": [
      "task: train_vg, run_id=6186\n"
     ]
    },
    {
     "name": "stderr",
     "output_type": "stream",
     "text": [
      "[2021-09-14 20:45:31,454][INFO][pytorch_lightning.utilities.seed:65] :: Global seed set to 123\n",
      "/home/common/envs/conda/envs/domino/lib/python3.8/site-packages/torchmetrics/utilities/prints.py:36: UserWarning: Metric `AUROC` will save all targets and predictions in buffer. For large datasets this may lead to large memory footprint.\n",
      "  warnings.warn(*args, **kwargs)\n",
      "/home/common/envs/conda/envs/domino/lib/python3.8/site-packages/pytorch_lightning/utilities/distributed.py:69: UserWarning: Checkpoint directory /home/sabri/terra/slice/tasks/__main__/train_vg/_runs/6186 exists and is not empty.\n",
      "  warnings.warn(*args, **kwargs)\n",
      "[2021-09-14 20:45:35,289][INFO][pytorch_lightning.utilities.distributed:73] :: GPU available: True, used: True\n",
      "[2021-09-14 20:45:35,290][INFO][pytorch_lightning.utilities.distributed:73] :: TPU available: False, using: 0 TPU cores\n",
      "[2021-09-14 20:45:35,311][INFO][pytorch_lightning.accelerators.gpu:63] :: LOCAL_RANK: 0 - CUDA_VISIBLE_DEVICES: [0]\n",
      "\u001b[34m\u001b[1mwandb\u001b[0m: Currently logged in as: \u001b[33mmaya124\u001b[0m (use `wandb login --relogin` to force relogin)\n",
      "\u001b[34m\u001b[1mwandb\u001b[0m: wandb version 0.12.1 is available!  To upgrade, please run:\n",
      "\u001b[34m\u001b[1mwandb\u001b[0m:  $ pip install wandb --upgrade\n"
     ]
    },
    {
     "data": {
      "text/html": [
       "\n",
       "                Tracking run with wandb version 0.11.0<br/>\n",
       "                Syncing run <strong style=\"color:#cdcd00\">train_vg-run_id=6186</strong> to <a href=\"https://wandb.ai\" target=\"_blank\">Weights & Biases</a> <a href=\"https://docs.wandb.com/integrations/jupyter.html\" target=\"_blank\">(Documentation)</a>.<br/>\n",
       "                Project page: <a href=\"https://wandb.ai/maya124/domino\" target=\"_blank\">https://wandb.ai/maya124/domino</a><br/>\n",
       "                Run page: <a href=\"https://wandb.ai/maya124/domino/runs/1t1bdvpo\" target=\"_blank\">https://wandb.ai/maya124/domino/runs/1t1bdvpo</a><br/>\n",
       "                Run data is saved locally in <code>/home/sabri/terra/slice/tasks/__main__/train_vg/_runs/6186/wandb/run-20210914_204535-1t1bdvpo</code><br/><br/>\n",
       "            "
      ],
      "text/plain": [
       "<IPython.core.display.HTML object>"
      ]
     },
     "metadata": {},
     "output_type": "display_data"
    },
    {
     "name": "stderr",
     "output_type": "stream",
     "text": [
      "[2021-09-14 20:45:42,060][INFO][pytorch_lightning.core.lightning:1496] :: \n",
      "  | Name        | Type       | Params\n",
      "-------------------------------------------\n",
      "0 | model       | ResNet     | 11.2 M\n",
      "1 | metrics     | ModuleDict | 0     \n",
      "2 | valid_preds | PredLogger | 0     \n",
      "-------------------------------------------\n",
      "11.2 M    Trainable params\n",
      "0         Non-trainable params\n",
      "11.2 M    Total params\n",
      "44.710    Total estimated model params size (MB)\n"
     ]
    },
    {
     "data": {
      "application/vnd.jupyter.widget-view+json": {
       "model_id": "",
       "version_major": 2,
       "version_minor": 0
      },
      "text/plain": [
       "HBox(children=(FloatProgress(value=1.0, bar_style='info', description='Validation sanity check', layout=Layout…"
      ]
     },
     "metadata": {},
     "output_type": "display_data"
    },
    {
     "name": "stderr",
     "output_type": "stream",
     "text": [
      "\n",
      "InvalidVersionSpec: Invalid version '.1.4.0': empty version component\n",
      "\n",
      "[2021-09-14 20:45:46,477][INFO][pytorch_lightning.utilities.seed:65] :: Global seed set to 123\n"
     ]
    },
    {
     "data": {
      "application/vnd.jupyter.widget-view+json": {
       "model_id": "239a80ae713144d9bfc57edc32df24c7",
       "version_major": 2,
       "version_minor": 0
      },
      "text/plain": [
       "HBox(children=(FloatProgress(value=1.0, bar_style='info', description='Training', layout=Layout(flex='2'), max…"
      ]
     },
     "metadata": {},
     "output_type": "display_data"
    },
    {
     "data": {
      "application/vnd.jupyter.widget-view+json": {
       "model_id": "",
       "version_major": 2,
       "version_minor": 0
      },
      "text/plain": [
       "HBox(children=(FloatProgress(value=1.0, bar_style='info', description='Validating', layout=Layout(flex='2'), m…"
      ]
     },
     "metadata": {},
     "output_type": "display_data"
    },
    {
     "data": {
      "application/vnd.jupyter.widget-view+json": {
       "model_id": "",
       "version_major": 2,
       "version_minor": 0
      },
      "text/plain": [
       "HBox(children=(FloatProgress(value=1.0, bar_style='info', description='Validating', layout=Layout(flex='2'), m…"
      ]
     },
     "metadata": {},
     "output_type": "display_data"
    },
    {
     "data": {
      "application/vnd.jupyter.widget-view+json": {
       "model_id": "",
       "version_major": 2,
       "version_minor": 0
      },
      "text/plain": [
       "HBox(children=(FloatProgress(value=1.0, bar_style='info', description='Validating', layout=Layout(flex='2'), m…"
      ]
     },
     "metadata": {},
     "output_type": "display_data"
    },
    {
     "data": {
      "application/vnd.jupyter.widget-view+json": {
       "model_id": "",
       "version_major": 2,
       "version_minor": 0
      },
      "text/plain": [
       "HBox(children=(FloatProgress(value=1.0, bar_style='info', description='Validating', layout=Layout(flex='2'), m…"
      ]
     },
     "metadata": {},
     "output_type": "display_data"
    },
    {
     "data": {
      "application/vnd.jupyter.widget-view+json": {
       "model_id": "",
       "version_major": 2,
       "version_minor": 0
      },
      "text/plain": [
       "HBox(children=(FloatProgress(value=1.0, bar_style='info', description='Validating', layout=Layout(flex='2'), m…"
      ]
     },
     "metadata": {},
     "output_type": "display_data"
    },
    {
     "data": {
      "application/vnd.jupyter.widget-view+json": {
       "model_id": "",
       "version_major": 2,
       "version_minor": 0
      },
      "text/plain": [
       "HBox(children=(FloatProgress(value=1.0, bar_style='info', description='Validating', layout=Layout(flex='2'), m…"
      ]
     },
     "metadata": {},
     "output_type": "display_data"
    },
    {
     "data": {
      "application/vnd.jupyter.widget-view+json": {
       "model_id": "",
       "version_major": 2,
       "version_minor": 0
      },
      "text/plain": [
       "HBox(children=(FloatProgress(value=1.0, bar_style='info', description='Validating', layout=Layout(flex='2'), m…"
      ]
     },
     "metadata": {},
     "output_type": "display_data"
    },
    {
     "data": {
      "application/vnd.jupyter.widget-view+json": {
       "model_id": "",
       "version_major": 2,
       "version_minor": 0
      },
      "text/plain": [
       "HBox(children=(FloatProgress(value=1.0, bar_style='info', description='Validating', layout=Layout(flex='2'), m…"
      ]
     },
     "metadata": {},
     "output_type": "display_data"
    },
    {
     "data": {
      "application/vnd.jupyter.widget-view+json": {
       "model_id": "",
       "version_major": 2,
       "version_minor": 0
      },
      "text/plain": [
       "HBox(children=(FloatProgress(value=1.0, bar_style='info', description='Validating', layout=Layout(flex='2'), m…"
      ]
     },
     "metadata": {},
     "output_type": "display_data"
    },
    {
     "data": {
      "application/vnd.jupyter.widget-view+json": {
       "model_id": "",
       "version_major": 2,
       "version_minor": 0
      },
      "text/plain": [
       "HBox(children=(FloatProgress(value=1.0, bar_style='info', description='Validating', layout=Layout(flex='2'), m…"
      ]
     },
     "metadata": {},
     "output_type": "display_data"
    },
    {
     "data": {
      "application/vnd.jupyter.widget-view+json": {
       "model_id": "",
       "version_major": 2,
       "version_minor": 0
      },
      "text/plain": [
       "HBox(children=(FloatProgress(value=1.0, bar_style='info', description='Validating', layout=Layout(flex='2'), m…"
      ]
     },
     "metadata": {},
     "output_type": "display_data"
    },
    {
     "data": {
      "application/vnd.jupyter.widget-view+json": {
       "model_id": "",
       "version_major": 2,
       "version_minor": 0
      },
      "text/plain": [
       "HBox(children=(FloatProgress(value=1.0, bar_style='info', description='Validating', layout=Layout(flex='2'), m…"
      ]
     },
     "metadata": {},
     "output_type": "display_data"
    },
    {
     "data": {
      "application/vnd.jupyter.widget-view+json": {
       "model_id": "",
       "version_major": 2,
       "version_minor": 0
      },
      "text/plain": [
       "HBox(children=(FloatProgress(value=1.0, bar_style='info', description='Validating', layout=Layout(flex='2'), m…"
      ]
     },
     "metadata": {},
     "output_type": "display_data"
    },
    {
     "data": {
      "application/vnd.jupyter.widget-view+json": {
       "model_id": "",
       "version_major": 2,
       "version_minor": 0
      },
      "text/plain": [
       "HBox(children=(FloatProgress(value=1.0, bar_style='info', description='Validating', layout=Layout(flex='2'), m…"
      ]
     },
     "metadata": {},
     "output_type": "display_data"
    },
    {
     "data": {
      "application/vnd.jupyter.widget-view+json": {
       "model_id": "",
       "version_major": 2,
       "version_minor": 0
      },
      "text/plain": [
       "HBox(children=(FloatProgress(value=1.0, bar_style='info', description='Validating', layout=Layout(flex='2'), m…"
      ]
     },
     "metadata": {},
     "output_type": "display_data"
    },
    {
     "data": {
      "application/vnd.jupyter.widget-view+json": {
       "model_id": "",
       "version_major": 2,
       "version_minor": 0
      },
      "text/plain": [
       "HBox(children=(FloatProgress(value=1.0, bar_style='info', description='Validating', layout=Layout(flex='2'), m…"
      ]
     },
     "metadata": {},
     "output_type": "display_data"
    },
    {
     "data": {
      "application/vnd.jupyter.widget-view+json": {
       "model_id": "",
       "version_major": 2,
       "version_minor": 0
      },
      "text/plain": [
       "HBox(children=(FloatProgress(value=1.0, bar_style='info', description='Validating', layout=Layout(flex='2'), m…"
      ]
     },
     "metadata": {},
     "output_type": "display_data"
    },
    {
     "data": {
      "application/vnd.jupyter.widget-view+json": {
       "model_id": "",
       "version_major": 2,
       "version_minor": 0
      },
      "text/plain": [
       "HBox(children=(FloatProgress(value=1.0, bar_style='info', description='Validating', layout=Layout(flex='2'), m…"
      ]
     },
     "metadata": {},
     "output_type": "display_data"
    },
    {
     "data": {
      "application/vnd.jupyter.widget-view+json": {
       "model_id": "",
       "version_major": 2,
       "version_minor": 0
      },
      "text/plain": [
       "HBox(children=(FloatProgress(value=1.0, bar_style='info', description='Validating', layout=Layout(flex='2'), m…"
      ]
     },
     "metadata": {},
     "output_type": "display_data"
    },
    {
     "data": {
      "application/vnd.jupyter.widget-view+json": {
       "model_id": "",
       "version_major": 2,
       "version_minor": 0
      },
      "text/plain": [
       "HBox(children=(FloatProgress(value=1.0, bar_style='info', description='Validating', layout=Layout(flex='2'), m…"
      ]
     },
     "metadata": {},
     "output_type": "display_data"
    },
    {
     "data": {
      "application/vnd.jupyter.widget-view+json": {
       "model_id": "",
       "version_major": 2,
       "version_minor": 0
      },
      "text/plain": [
       "HBox(children=(FloatProgress(value=1.0, bar_style='info', description='Validating', layout=Layout(flex='2'), m…"
      ]
     },
     "metadata": {},
     "output_type": "display_data"
    },
    {
     "data": {
      "application/vnd.jupyter.widget-view+json": {
       "model_id": "",
       "version_major": 2,
       "version_minor": 0
      },
      "text/plain": [
       "HBox(children=(FloatProgress(value=1.0, bar_style='info', description='Validating', layout=Layout(flex='2'), m…"
      ]
     },
     "metadata": {},
     "output_type": "display_data"
    },
    {
     "data": {
      "application/vnd.jupyter.widget-view+json": {
       "model_id": "",
       "version_major": 2,
       "version_minor": 0
      },
      "text/plain": [
       "HBox(children=(FloatProgress(value=1.0, bar_style='info', description='Validating', layout=Layout(flex='2'), m…"
      ]
     },
     "metadata": {},
     "output_type": "display_data"
    },
    {
     "data": {
      "application/vnd.jupyter.widget-view+json": {
       "model_id": "",
       "version_major": 2,
       "version_minor": 0
      },
      "text/plain": [
       "HBox(children=(FloatProgress(value=1.0, bar_style='info', description='Validating', layout=Layout(flex='2'), m…"
      ]
     },
     "metadata": {},
     "output_type": "display_data"
    },
    {
     "data": {
      "application/vnd.jupyter.widget-view+json": {
       "model_id": "",
       "version_major": 2,
       "version_minor": 0
      },
      "text/plain": [
       "HBox(children=(FloatProgress(value=1.0, bar_style='info', description='Validating', layout=Layout(flex='2'), m…"
      ]
     },
     "metadata": {},
     "output_type": "display_data"
    },
    {
     "name": "stdout",
     "output_type": "stream",
     "text": [
      "\n"
     ]
    },
    {
     "data": {
      "text/html": [
       "<br/>Waiting for W&B process to finish, PID 6542<br/>Program ended successfully."
      ],
      "text/plain": [
       "<IPython.core.display.HTML object>"
      ]
     },
     "metadata": {},
     "output_type": "display_data"
    },
    {
     "data": {
      "application/vnd.jupyter.widget-view+json": {
       "model_id": "",
       "version_major": 2,
       "version_minor": 0
      },
      "text/plain": [
       "VBox(children=(Label(value=' 0.00MB of 0.00MB uploaded (0.00MB deduped)\\r'), FloatProgress(value=1.0, max=1.0)…"
      ]
     },
     "metadata": {},
     "output_type": "display_data"
    },
    {
     "data": {
      "text/html": [
       "Find user logs for this run at: <code>/home/sabri/terra/slice/tasks/__main__/train_vg/_runs/6186/wandb/run-20210914_204535-1t1bdvpo/logs/debug.log</code>"
      ],
      "text/plain": [
       "<IPython.core.display.HTML object>"
      ]
     },
     "metadata": {},
     "output_type": "display_data"
    },
    {
     "data": {
      "text/html": [
       "Find internal logs for this run at: <code>/home/sabri/terra/slice/tasks/__main__/train_vg/_runs/6186/wandb/run-20210914_204535-1t1bdvpo/logs/debug-internal.log</code>"
      ],
      "text/plain": [
       "<IPython.core.display.HTML object>"
      ]
     },
     "metadata": {},
     "output_type": "display_data"
    },
    {
     "data": {
      "text/html": [
       "<h3>Run summary:</h3><br/><style>\n",
       "    table.wandb td:nth-child(1) { padding: 0 10px; text-align: right }\n",
       "    </style><table class=\"wandb\">\n",
       "<tr><td>train_loss</td><td>0.02897</td></tr><tr><td>epoch</td><td>4</td></tr><tr><td>trainer/global_step</td><td>279</td></tr><tr><td>_runtime</td><td>242</td></tr><tr><td>_timestamp</td><td>1631652577</td></tr><tr><td>_step</td><td>304</td></tr><tr><td>valid_loss</td><td>0.53626</td></tr><tr><td>valid_accuracy</td><td>0.85157</td></tr><tr><td>valid_auroc</td><td>0.87293</td></tr></table>"
      ],
      "text/plain": [
       "<IPython.core.display.HTML object>"
      ]
     },
     "metadata": {},
     "output_type": "display_data"
    },
    {
     "data": {
      "text/html": [
       "<h3>Run history:</h3><br/><style>\n",
       "    table.wandb td:nth-child(1) { padding: 0 10px; text-align: right }\n",
       "    </style><table class=\"wandb\">\n",
       "<tr><td>train_loss</td><td>█▆▅▅▅▄▄▅▃▄▃▃▃▃▃▃▂▂▁▂▂▂▁▂▁▁▂▁▁▁▁▁▁▁▁▁▁▁▁▁</td></tr><tr><td>epoch</td><td>▁▁▁▁▁▁▁▁▃▃▃▃▃▃▃▃▅▅▅▅▅▅▅▅▆▆▆▆▆▆▆▆████████</td></tr><tr><td>trainer/global_step</td><td>▁▁▁▁▂▂▂▂▂▃▃▃▃▃▃▄▄▄▄▄▅▅▅▅▅▅▆▆▆▆▆▆▇▇▇▇▇███</td></tr><tr><td>_runtime</td><td>▁▁▁▂▂▂▂▂▂▃▃▃▃▃▃▄▄▄▄▄▅▅▅▅▅▆▆▆▆▆▆▇▇▇▇▇████</td></tr><tr><td>_timestamp</td><td>▁▁▁▂▂▂▂▂▂▃▃▃▃▃▃▄▄▄▄▄▅▅▅▅▅▆▆▆▆▆▆▇▇▇▇▇████</td></tr><tr><td>_step</td><td>▁▁▁▁▂▂▂▂▂▃▃▃▃▃▃▄▄▄▄▄▅▅▅▅▅▅▆▆▆▆▆▇▇▇▇▇▇███</td></tr><tr><td>valid_loss</td><td>▃▃▁▂▁▁▂▃▂▂▃▄▄▅▄▇▆▆▆▇▇█▇▇█</td></tr><tr><td>valid_accuracy</td><td>▁▅▅▆▆▇▇▇▇▇▇▇▇▇███████████</td></tr><tr><td>valid_auroc</td><td>▁▅▆▆▇▇███████████████████</td></tr></table><br/>"
      ],
      "text/plain": [
       "<IPython.core.display.HTML object>"
      ]
     },
     "metadata": {},
     "output_type": "display_data"
    },
    {
     "data": {
      "text/html": [
       "Synced 5 W&B file(s), 0 media file(s), 0 artifact file(s) and 0 other file(s)"
      ],
      "text/plain": [
       "<IPython.core.display.HTML object>"
      ]
     },
     "metadata": {},
     "output_type": "display_data"
    },
    {
     "data": {
      "text/html": [
       "\n",
       "                    <br/>Synced <strong style=\"color:#cdcd00\">train_vg-run_id=6186</strong>: <a href=\"https://wandb.ai/maya124/domino/runs/1t1bdvpo\" target=\"_blank\">https://wandb.ai/maya124/domino/runs/1t1bdvpo</a><br/>\n",
       "                "
      ],
      "text/plain": [
       "<IPython.core.display.HTML object>"
      ]
     },
     "metadata": {},
     "output_type": "display_data"
    },
    {
     "data": {
      "text/plain": [
       "<terra.io.Artifact at 0x7f3d5573c700>"
      ]
     },
     "execution_count": 13,
     "metadata": {},
     "output_type": "execute_result"
    }
   ],
   "source": [
    "import terra \n",
    "from vision import train\n",
    "from torchvision import transforms\n",
    "\n",
    "preprocessing = transforms.Compose([\n",
    "    transforms.Resize((224, 224)),\n",
    "    transforms.ToTensor(),\n",
    "    transforms.Normalize((0.485, 0.456, 0.406),\n",
    "                         (0.229, 0.224, 0.225))])\n",
    "\n",
    "\n",
    "dp[\"input\"] = dp[\"cxr_jpg_1024\"].to_lambda(preprocessing)\n",
    "\n",
    "@terra.Task\n",
    "def train_vg(dp, run_dir: str = None):\n",
    "\n",
    "    model = train(\n",
    "        config={\"pretrained\": True, 'transform': None, 'train_transform': None},\n",
    "        dp=dp,\n",
    "        input_column=\"input\",\n",
    "        max_epochs=5,\n",
    "        id_column=\"dicom_id\",\n",
    "        target_column=target,\n",
    "        ckpt_monitor=\"valid_auroc\",\n",
    "        batch_size=128, \n",
    "        run_dir=run_dir,\n",
    "        val_check_interval=10,\n",
    "        num_workers=6\n",
    "    )\n",
    "    return model\n",
    "\n",
    "train_vg(dp=dp)"
   ]
  },
  {
   "cell_type": "code",
   "execution_count": 90,
   "id": "fbc1917f-1a79-46f5-bb4f-0f8904fce035",
   "metadata": {},
   "outputs": [],
   "source": [
    "run_id = 6186\n",
    "dataset_dp = terra.inp(run_id)[\"dp\"].load()\n",
    "model = terra.get_artifacts(run_id, \"best_chkpt\")[\"model\"]"
   ]
  },
  {
   "cell_type": "markdown",
   "id": "8d4e0b30-b04c-4a28-8fed-ea933b1a1bce",
   "metadata": {},
   "source": [
    "### Score Model"
   ]
  },
  {
   "cell_type": "code",
   "execution_count": 91,
   "id": "0c91ab9f-2a61-43b8-9430-6f0f2dbe4f48",
   "metadata": {},
   "outputs": [
    {
     "name": "stderr",
     "output_type": "stream",
     "text": [
      "/home/common/envs/conda/envs/domino/lib/python3.8/site-packages/torchmetrics/utilities/prints.py:36: UserWarning: Metric `AUROC` will save all targets and predictions in buffer. For large datasets this may lead to large memory footprint.\n",
      "  warnings.warn(*args, **kwargs)\n"
     ]
    },
    {
     "data": {
      "application/vnd.jupyter.widget-view+json": {
       "model_id": "33c9c98a717e44a99e02de84b9847a7a",
       "version_major": 2,
       "version_minor": 0
      },
      "text/plain": [
       "HBox(children=(FloatProgress(value=0.0, max=16.0), HTML(value='')))"
      ]
     },
     "metadata": {},
     "output_type": "display_data"
    },
    {
     "name": "stdout",
     "output_type": "stream",
     "text": [
      "\n"
     ]
    }
   ],
   "source": [
    "from domino.vision import score\n",
    "score_dp = score(\n",
    "    model=model.load(), \n",
    "    dp=dataset_dp.lz[dataset_dp[\"split\"] == \"test\"], \n",
    "    input_column=\"input\",\n",
    "    batch_size=128\n",
    ")"
   ]
  },
  {
   "cell_type": "code",
   "execution_count": 92,
   "id": "996ee570-3196-4818-bb68-261bce03cfe1",
   "metadata": {},
   "outputs": [],
   "source": [
    "score_dp[\"prob\"] = score_dp[\"output\"].probabilities().data[:, -1]"
   ]
  },
  {
   "cell_type": "code",
   "execution_count": 142,
   "id": "f8d1230d-5474-4647-9019-29ba4f16a6dc",
   "metadata": {},
   "outputs": [
    {
     "data": {
      "text/html": [
       "<pre style=\"white-space:pre;overflow-x:auto;line-height:normal;font-family:Menlo,'DejaVu Sans Mono',consolas,'Courier New',monospace\">Overall AUROC: <span style=\"color: #008080; text-decoration-color: #008080; font-weight: bold\">0.8879109629109628</span>\n",
       "</pre>\n"
      ],
      "text/plain": [
       "Overall AUROC: \u001b[1;36m0.8879109629109628\u001b[0m\n"
      ]
     },
     "metadata": {},
     "output_type": "display_data"
    },
    {
     "data": {
      "text/html": [
       "<pre style=\"white-space:pre;overflow-x:auto;line-height:normal;font-family:Menlo,'DejaVu Sans Mono',consolas,'Courier New',monospace\">AUROC where correlation holds: <span style=\"color: #008080; text-decoration-color: #008080; font-weight: bold\">0.9359617133494805</span>\n",
       "</pre>\n"
      ],
      "text/plain": [
       "AUROC where correlation holds: \u001b[1;36m0.9359617133494805\u001b[0m\n"
      ]
     },
     "metadata": {},
     "output_type": "display_data"
    },
    {
     "data": {
      "text/html": [
       "<pre style=\"white-space:pre;overflow-x:auto;line-height:normal;font-family:Menlo,'DejaVu Sans Mono',consolas,'Courier New',monospace\">AUROC where correlation does not hold: <span style=\"color: #008080; text-decoration-color: #008080; font-weight: bold\">0.3712423796510406</span>\n",
       "</pre>\n"
      ],
      "text/plain": [
       "AUROC where correlation does not hold: \u001b[1;36m0.3712423796510406\u001b[0m\n"
      ]
     },
     "metadata": {},
     "output_type": "display_data"
    }
   ],
   "source": [
    "from sklearn.metrics import roc_auc_score\n",
    "print(\"Overall AUROC: {}\".format(\n",
    "    roc_auc_score(score_dp[target], score_dp[\"prob\"])\n",
    "))\n",
    "\n",
    "curr_dp = score_dp.lz[score_dp[target] == score_dp[correlate]]\n",
    "print(\"AUROC where correlation holds: {}\".format(\n",
    "    roc_auc_score(curr_dp[target], curr_dp[\"prob\"])\n",
    "))\n",
    "\n",
    "curr_dp = score_dp.lz[score_dp[target] != score_dp[correlate]]\n",
    "print(\"AUROC where correlation does not hold: {}\".format(\n",
    "    roc_auc_score(curr_dp[target], curr_dp[\"prob\"])\n",
    "))"
   ]
  },
  {
   "cell_type": "markdown",
   "id": "56dd43aa-d6fd-40e7-a130-2af854c93dcd",
   "metadata": {},
   "source": [
    "### Analyze with CLIP Embeddings"
   ]
  },
  {
   "cell_type": "code",
   "execution_count": 94,
   "id": "2d549a84-d8bf-414c-ade5-cf114876acfc",
   "metadata": {},
   "outputs": [
    {
     "name": "stdout",
     "output_type": "stream",
     "text": [
      "task: embed_images, run_id=6532\n"
     ]
    },
    {
     "data": {
      "application/vnd.jupyter.widget-view+json": {
       "model_id": "aa1837a8c10442dc9ca5551cc7549d4f",
       "version_major": 2,
       "version_minor": 0
      },
      "text/plain": [
       "HBox(children=(FloatProgress(value=0.0, max=16.0), HTML(value='')))"
      ]
     },
     "metadata": {},
     "output_type": "display_data"
    },
    {
     "name": "stdout",
     "output_type": "stream",
     "text": [
      "\n"
     ]
    }
   ],
   "source": [
    "from emb.clip import embed_images\n",
    "score_dp = embed_images(dp=score_dp, img_column=\"cxr_jpg_1024\").load()"
   ]
  },
  {
   "cell_type": "code",
   "execution_count": 95,
   "id": "4170aa1c-7675-4c51-b7a0-98391d628798",
   "metadata": {},
   "outputs": [
    {
     "name": "stdout",
     "output_type": "stream",
     "text": [
      "task: get_wiki_words, run_id=6535\n",
      "task: embed_words, run_id=6537\n"
     ]
    },
    {
     "data": {
      "application/vnd.jupyter.widget-view+json": {
       "model_id": "656d632627b449ac99f9efe2748fc530",
       "version_major": 2,
       "version_minor": 0
      },
      "text/plain": [
       "HBox(children=(FloatProgress(value=0.0, max=782.0), HTML(value='')))"
      ]
     },
     "metadata": {},
     "output_type": "display_data"
    },
    {
     "name": "stdout",
     "output_type": "stream",
     "text": [
      "\n"
     ]
    }
   ],
   "source": [
    "from emb.clip import embed_words, get_wiki_words\n",
    "words_dp = get_wiki_words()\n",
    "#words_dp = embed_words(words_dp).load()\n",
    "words_dp = embed_words.out(6537).load()\n",
    "#words_dp = words_dp.lz[:int(1e4)]"
   ]
  },
  {
   "cell_type": "code",
   "execution_count": 96,
   "id": "a8a211fc-1383-4d3f-999f-1dd3a288910a",
   "metadata": {
    "tags": []
   },
   "outputs": [
    {
     "data": {
      "text/html": [
       "<table border=\"1\" class=\"dataframe\">\n",
       "  <thead>\n",
       "    <tr style=\"text-align: right;\">\n",
       "      <th></th>\n",
       "      <th>cxr_jpg_1024 (ImageColumn)</th>\n",
       "      <th>prob (TensorColumn)</th>\n",
       "      <th>lung_group (PandasSeriesColumn)</th>\n",
       "      <th>support_devices (PandasSeriesColumn)</th>\n",
       "    </tr>\n",
       "  </thead>\n",
       "  <tbody>\n",
       "    <tr>\n",
       "      <th>0</th>\n",
       "      <td><img src=\"data:image/jpeg;base64,/9j/4AAQSkZJRgABAQAAAQABAAD/2wBDAAgGBgcGBQgHBwcJCQgKDBQNDAsLDBkSEw8UHRofHh0aHBwgJC4nICIsIxwcKDcpLDAxNDQ0Hyc5PTgyPC4zNDL/2wBDAQkJCQwLDBgNDRgyIRwhMjIyMjIyMjIyMjIyMjIyMjIyMjIyMjIyMjIyMjIyMjIyMjIyMjIyMjIyMjIyMjIyMjL/wAARCACAAGoDASIAAhEBAxEB/8QAHwAAAQUBAQEBAQEAAAAAAAAAAAECAwQFBgcICQoL/8QAtRAAAgEDAwIEAwUFBAQAAAF9AQIDAAQRBRIhMUEGE1FhByJxFDKBkaEII0KxwRVS0fAkM2JyggkKFhcYGRolJicoKSo0NTY3ODk6Q0RFRkdISUpTVFVWV1hZWmNkZWZnaGlqc3R1dnd4eXqDhIWGh4iJipKTlJWWl5iZmqKjpKWmp6ipqrKztLW2t7i5usLDxMXGx8jJytLT1NXW19jZ2uHi4+Tl5ufo6erx8vP09fb3+Pn6/8QAHwEAAwEBAQEBAQEBAQAAAAAAAAECAwQFBgcICQoL/8QAtREAAgECBAQDBAcFBAQAAQJ3AAECAxEEBSExBhJBUQdhcRMiMoEIFEKRobHBCSMzUvAVYnLRChYkNOEl8RcYGRomJygpKjU2Nzg5OkNERUZHSElKU1RVVldYWVpjZGVmZ2hpanN0dXZ3eHl6goOEhYaHiImKkpOUlZaXmJmaoqOkpaanqKmqsrO0tba3uLm6wsPExcbHyMnK0tPU1dbX2Nna4uPk5ebn6Onq8vP09fb3+Pn6/9oADAMBAAIRAxEAPwD5/ooooAKVTg0lKKALcMjAitvS7q5Eyxwk7mPGKwrcbmxXR6WRC4Kfe9aAPcPAbvFCDcFd5UD3r0u1nXaOBXjnhS92iPJ5r1CwuN0a80AdEjq3YflUg2/3R+VUYpRxVhZc0AT/AC/3R+VIdoH3R+VRCTnrRvzwDQA2aTbGSFGfpWV5mpH/AJZWR9ynX9a0pGCKcnrVYMcDgfnQB8L0UYpwUmgBAKkVKesePrUyR0ALDHitnTpPLcb+nrVKKMd6uRr6UAeieH71YwMDgd69D03xFEqBTgV4fpd5JbSgFjsP6V2en3Jk+ZTx2NAHsdrqkUqAh6ufb128GvMrbV3gAVt2B39K1Y9b3lVLY+lAHXrqYaYqCcCpor8nkdPSuHs9biBu5NzGNehNWptajjtre4VW+brwaAO2juVmBB/Wnhkx1rnNL1WK9mAQEORyK29hoA+JUjyAanWLHapreEeSjY6ipxHQBXWOrEUWT0qRIiT0q/Fb7UzigCt5R4A/GrsMZwOKdDbtjkcVpW1sDjIoAgjiGOQOfatOymltziMnAp6W6Ag46VP5exhtjYnrQBoRX8hXBjBz19hWjZTkShwCQynPcCsVZJGQq0bbuxxxV+C6mitsRRsGIIdcjn6UAS22qxixvNtoWBlAjbHFaH9rK+mbDbHKj73XmuYS4mgslhSErvYuR171MmqFbUnySO2e1AHZeGtUdtQQiNlz8uOwr0gM2BxXi3h/V2hvoZArBsgBeoya9dSScxqSpyQM0AfJlnAWtIjjqoq2lqT2qbTIidPtzjqgrWgtc9qAM62sC7cjitFbbD7dvFa9vY/IAo5Per8Olbm+8CaAMeGw+VTirsdkE+8preg0sqBuBIq7HpUT/e6e9AHPLbx9VDfnUyiJcZY4z0ArVuIbC06qzkemcVUW+0zdtaH8RQBTv5AiCRbfg85J61DFJM1q8iqqHGRlu3sKuX0sP2cS2zCZR/DnJX8K519RELOWYFmIxxxQA+9vx5CSIrggYJOKqXGoAWnKAn1wKR7hfOzc/wCrPovX6Vl3V1E8pAAAzjGMUAauj6gx1SBj8oDDGK9wh1SYwRkxtkqP5V4Dplwkd8jgHCc4HevZLfxG/wBmiwi42DHye1AHz3p+oSQwxKHOAoGK67Rr5bhvmAOOtedQuVIwa6bQLrFxtzyRQB6bbQrLEGQj3qcRtHLxxVHQJmkn25yG7V0v2P8Afq5QbTzQBPYhnwHGR61bubYEbVwBSlkgiL4wAOM8UsMha33yZwTxmgDMltFQHcMiqU2lWFwpDxgMejLwa6P7P9picwqGPp71WfTGiQNMQmaAPO9V0i502cNZzeZ3x0OKxr15JgJ3g8uZSNyY+8PWvRL6CN5CAPx71mT6Ot5HJ5gIAXgj1oA4CG7cyylsFOQFbnaDWezrI/AINb1/okdsHyWDnlSCCG/Cuee3KEkk8dDQBo6Vujm8zjC9jXqNtqtv9lh2qirsGBjpxXmukxI0b/aWKAjKnHUjtXVwQR/Z49s2V2DH5UAeNIpKg1t6LG0t5EoByTismJCQp7EV1XhMLHq8KyNkMwwO2aAPQtDsn09PPc/M33V/rXV6fexzkRzx7QP4gaxrtLhXZzDuVOm2qUOrQs3kbisn8WeNvtQB2khgdl2kFR/CwqYxNKoVQBz1NZVtCZrZRv3EjPWtawgmijLuTsUdGoAtW8QtYywIyetUNQV51yCciifU9rlWiIHqDVZtQQttO4E9sUAZ32N5JOc5zWvDpkSW+xxkuOau2tuoRZHHJGQDUkgDtkDOKAOJ13Q7eYbdi4HQdxXn13ZxQz+Q3DbsYr13UVBHIBA9RXC63ZxtciVYl+6eaAMO709IbeNkbIYDI966O3t7FbaIFeQgB59q5wSyXMiwxqSiYJzwBW7EY/JToflHOKAPHE3ER46YrZ0QuNQgC5zuFbvh/wAHz3+jrcrC7zSRholA4KnvWzo/w+8QwzySx6U+dvylmA/KgD1yzmin0ZLtdsmVG4defSuQvdOlu5y/lKC7c7BjNGmaZ4x0u4t0TTZDb9JFyCCK7m10yZpDJNbGNsdPegDndP0ZzcpskdMY6Eit3Vrie1t1jjIIPXIrYt7IQgsRzWVq7iRWQDntQByNxqU/m7TCG5xwea6LRUimtxJJGVPo471n2mm+ZPuMZJzXUpbrHCI1UAAUANKA85B+lRGMKDk0ogYOcEj6VFMso+8cj1A/pQBQvURo2yQxA43Vy95Gi28qDDNIv5Vt3d5BHOIZX5Y43Z6VzPia/wDsz+XCmCo2kkY/GgDkby7Nsty0Y5JwfbishbyQoCZG5HrUupyuunMz9ZG4z3rHSXCL9KAPePh1pS/8Ilo94GILWigjtXoNvEyiub+GssL/AA+0KPKAi0TOT9a7FfJ6CWP/AL6FACKhoZamDRY/1if99CjMX/PVP++hQBQnGFI71jSWrSyYxxXSslu3V4/++hUfl26n5Wj/AO+hQBkwWCwgHHNOZMdqvv5f/PRP++hUREZ53p/30KAKTpgcdfesy83heDg/XFbMixkY8xMf7wrNvYo2VF8xWUdcsOKAMC40zzVa7kXAQjexHauU1vyLyWSdshcAc9gK7LW7mX+zlihlRQpw3zDkV57rs4t9Nc5GX4HNAHDeILz7TckKNsUY2ov9ayA3yjmpL6UF25qmJBgc0Af/2Q==\"></td>\n",
       "      <td>tensor(0.2814)</td>\n",
       "      <td>True</td>\n",
       "      <td>1.0</td>\n",
       "    </tr>\n",
       "    <tr>\n",
       "      <th>1</th>\n",
       "      <td><img src=\"data:image/jpeg;base64,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\"></td>\n",
       "      <td>tensor(0.2941)</td>\n",
       "      <td>True</td>\n",
       "      <td>0.0</td>\n",
       "    </tr>\n",
       "    <tr>\n",
       "      <th>2</th>\n",
       "      <td><img src=\"data:image/jpeg;base64,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\"></td>\n",
       "      <td>tensor(0.0062)</td>\n",
       "      <td>True</td>\n",
       "      <td>1.0</td>\n",
       "    </tr>\n",
       "    <tr>\n",
       "      <th>3</th>\n",
       "      <td><img src=\"data:image/jpeg;base64,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\"></td>\n",
       "      <td>tensor(0.4823)</td>\n",
       "      <td>True</td>\n",
       "      <td>1.0</td>\n",
       "    </tr>\n",
       "    <tr>\n",
       "      <th>4</th>\n",
       "      <td><img src=\"data:image/jpeg;base64,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\"></td>\n",
       "      <td>tensor(0.0291)</td>\n",
       "      <td>True</td>\n",
       "      <td>1.0</td>\n",
       "    </tr>\n",
       "    <tr>\n",
       "      <th>...</th>\n",
       "      <td>...</td>\n",
       "      <td>...</td>\n",
       "      <td>...</td>\n",
       "      <td>...</td>\n",
       "    </tr>\n",
       "    <tr>\n",
       "      <th>145</th>\n",
       "      <td><img src=\"data:image/jpeg;base64,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\"></td>\n",
       "      <td>tensor(0.2721)</td>\n",
       "      <td>True</td>\n",
       "      <td>1.0</td>\n",
       "    </tr>\n",
       "    <tr>\n",
       "      <th>146</th>\n",
       "      <td><img src=\"data:image/jpeg;base64,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\"></td>\n",
       "      <td>tensor(0.0063)</td>\n",
       "      <td>True</td>\n",
       "      <td>1.0</td>\n",
       "    </tr>\n",
       "    <tr>\n",
       "      <th>147</th>\n",
       "      <td><img src=\"data:image/jpeg;base64,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\"></td>\n",
       "      <td>tensor(0.1066)</td>\n",
       "      <td>True</td>\n",
       "      <td>1.0</td>\n",
       "    </tr>\n",
       "    <tr>\n",
       "      <th>148</th>\n",
       "      <td><img src=\"data:image/jpeg;base64,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\"></td>\n",
       "      <td>tensor(0.0003)</td>\n",
       "      <td>True</td>\n",
       "      <td>0.0</td>\n",
       "    </tr>\n",
       "    <tr>\n",
       "      <th>149</th>\n",
       "      <td><img src=\"data:image/jpeg;base64,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\"></td>\n",
       "      <td>tensor(0.1855)</td>\n",
       "      <td>True</td>\n",
       "      <td>1.0</td>\n",
       "    </tr>\n",
       "  </tbody>\n",
       "</table>"
      ],
      "text/plain": [
       "DataPanel(nrows: 150, ncols: 4)"
      ]
     },
     "execution_count": 96,
     "metadata": {},
     "output_type": "execute_result"
    }
   ],
   "source": [
    "mk.config.DisplayOptions.max_rows = 10\n",
    "error_dp = score_dp.lz[(score_dp[\"prob\"] > 0.5).numpy() != (score_dp[target] == 1)]\n",
    "error_dp = error_dp.lz[(error_dp[target] == 1)]\n",
    "error_dp[[\"cxr_jpg_1024\", \"prob\", target, correlate]]"
   ]
  },
  {
   "cell_type": "code",
   "execution_count": 155,
   "id": "2454c0ea-7acf-4108-a0ee-4bffde3af1f1",
   "metadata": {},
   "outputs": [
    {
     "data": {
      "text/html": [
       "<table border=\"1\" class=\"dataframe\">\n",
       "  <thead>\n",
       "    <tr style=\"text-align: right;\">\n",
       "      <th></th>\n",
       "      <th>word (PandasSeriesColumn)</th>\n",
       "      <th>frequency (PandasSeriesColumn)</th>\n",
       "      <th>index (PandasSeriesColumn)</th>\n",
       "      <th>tokens (LambdaColumn)</th>\n",
       "      <th>emb (NumpyArrayColumn)</th>\n",
       "      <th>score (NumpyArrayColumn)</th>\n",
       "    </tr>\n",
       "  </thead>\n",
       "  <tbody>\n",
       "    <tr>\n",
       "      <th>0</th>\n",
       "      <td>prepositions</td>\n",
       "      <td>1488</td>\n",
       "      <td>42886</td>\n",
       "      <td>LambdaCell(fn=<lambda>)</td>\n",
       "      <td>np.ndarray(shape=(512,))</td>\n",
       "      <td>0.220337</td>\n",
       "    </tr>\n",
       "    <tr>\n",
       "      <th>1</th>\n",
       "      <td>fotball</td>\n",
       "      <td>590</td>\n",
       "      <td>77066</td>\n",
       "      <td>LambdaCell(fn=<lambda>)</td>\n",
       "      <td>np.ndarray(shape=(512,))</td>\n",
       "      <td>0.210571</td>\n",
       "    </tr>\n",
       "    <tr>\n",
       "      <th>2</th>\n",
       "      <td>carburetors</td>\n",
       "      <td>1199</td>\n",
       "      <td>48866</td>\n",
       "      <td>LambdaCell(fn=<lambda>)</td>\n",
       "      <td>np.ndarray(shape=(512,))</td>\n",
       "      <td>0.209961</td>\n",
       "    </tr>\n",
       "    <tr>\n",
       "      <th>3</th>\n",
       "      <td>intelligences</td>\n",
       "      <td>656</td>\n",
       "      <td>72036</td>\n",
       "      <td>LambdaCell(fn=<lambda>)</td>\n",
       "      <td>np.ndarray(shape=(512,))</td>\n",
       "      <td>0.189575</td>\n",
       "    </tr>\n",
       "    <tr>\n",
       "      <th>4</th>\n",
       "      <td>mobiles</td>\n",
       "      <td>935</td>\n",
       "      <td>57441</td>\n",
       "      <td>LambdaCell(fn=<lambda>)</td>\n",
       "      <td>np.ndarray(shape=(512,))</td>\n",
       "      <td>0.188843</td>\n",
       "    </tr>\n",
       "    <tr>\n",
       "      <th>5</th>\n",
       "      <td>homepage</td>\n",
       "      <td>1957</td>\n",
       "      <td>36054</td>\n",
       "      <td>LambdaCell(fn=<lambda>)</td>\n",
       "      <td>np.ndarray(shape=(512,))</td>\n",
       "      <td>0.184082</td>\n",
       "    </tr>\n",
       "    <tr>\n",
       "      <th>6</th>\n",
       "      <td>patents</td>\n",
       "      <td>20319</td>\n",
       "      <td>7790</td>\n",
       "      <td>LambdaCell(fn=<lambda>)</td>\n",
       "      <td>np.ndarray(shape=(512,))</td>\n",
       "      <td>0.180054</td>\n",
       "    </tr>\n",
       "    <tr>\n",
       "      <th>7</th>\n",
       "      <td>instrumentation</td>\n",
       "      <td>14720</td>\n",
       "      <td>9795</td>\n",
       "      <td>LambdaCell(fn=<lambda>)</td>\n",
       "      <td>np.ndarray(shape=(512,))</td>\n",
       "      <td>0.177979</td>\n",
       "    </tr>\n",
       "    <tr>\n",
       "      <th>8</th>\n",
       "      <td>spreads</td>\n",
       "      <td>6583</td>\n",
       "      <td>16630</td>\n",
       "      <td>LambdaCell(fn=<lambda>)</td>\n",
       "      <td>np.ndarray(shape=(512,))</td>\n",
       "      <td>0.177979</td>\n",
       "    </tr>\n",
       "    <tr>\n",
       "      <th>9</th>\n",
       "      <td>microcontrollers</td>\n",
       "      <td>866</td>\n",
       "      <td>60272</td>\n",
       "      <td>LambdaCell(fn=<lambda>)</td>\n",
       "      <td>np.ndarray(shape=(512,))</td>\n",
       "      <td>0.177124</td>\n",
       "    </tr>\n",
       "    <tr>\n",
       "      <th>10</th>\n",
       "      <td>programmes</td>\n",
       "      <td>47367</td>\n",
       "      <td>4136</td>\n",
       "      <td>LambdaCell(fn=<lambda>)</td>\n",
       "      <td>np.ndarray(shape=(512,))</td>\n",
       "      <td>0.176270</td>\n",
       "    </tr>\n",
       "    <tr>\n",
       "      <th>11</th>\n",
       "      <td>carburettors</td>\n",
       "      <td>783</td>\n",
       "      <td>64347</td>\n",
       "      <td>LambdaCell(fn=<lambda>)</td>\n",
       "      <td>np.ndarray(shape=(512,))</td>\n",
       "      <td>0.175659</td>\n",
       "    </tr>\n",
       "    <tr>\n",
       "      <th>12</th>\n",
       "      <td>interfaces</td>\n",
       "      <td>10362</td>\n",
       "      <td>12395</td>\n",
       "      <td>LambdaCell(fn=<lambda>)</td>\n",
       "      <td>np.ndarray(shape=(512,))</td>\n",
       "      <td>0.174927</td>\n",
       "    </tr>\n",
       "    <tr>\n",
       "      <th>13</th>\n",
       "      <td>substations</td>\n",
       "      <td>1410</td>\n",
       "      <td>44305</td>\n",
       "      <td>LambdaCell(fn=<lambda>)</td>\n",
       "      <td>np.ndarray(shape=(512,))</td>\n",
       "      <td>0.173462</td>\n",
       "    </tr>\n",
       "    <tr>\n",
       "      <th>14</th>\n",
       "      <td>electricians</td>\n",
       "      <td>718</td>\n",
       "      <td>67923</td>\n",
       "      <td>LambdaCell(fn=<lambda>)</td>\n",
       "      <td>np.ndarray(shape=(512,))</td>\n",
       "      <td>0.172729</td>\n",
       "    </tr>\n",
       "    <tr>\n",
       "      <th>15</th>\n",
       "      <td>necklaces</td>\n",
       "      <td>1543</td>\n",
       "      <td>41937</td>\n",
       "      <td>LambdaCell(fn=<lambda>)</td>\n",
       "      <td>np.ndarray(shape=(512,))</td>\n",
       "      <td>0.162598</td>\n",
       "    </tr>\n",
       "    <tr>\n",
       "      <th>16</th>\n",
       "      <td>transistors</td>\n",
       "      <td>3789</td>\n",
       "      <td>23793</td>\n",
       "      <td>LambdaCell(fn=<lambda>)</td>\n",
       "      <td>np.ndarray(shape=(512,))</td>\n",
       "      <td>0.160400</td>\n",
       "    </tr>\n",
       "    <tr>\n",
       "      <th>17</th>\n",
       "      <td>meccano</td>\n",
       "      <td>519</td>\n",
       "      <td>83638</td>\n",
       "      <td>LambdaCell(fn=<lambda>)</td>\n",
       "      <td>np.ndarray(shape=(512,))</td>\n",
       "      <td>0.160034</td>\n",
       "    </tr>\n",
       "    <tr>\n",
       "      <th>18</th>\n",
       "      <td>orchestrations</td>\n",
       "      <td>1436</td>\n",
       "      <td>43836</td>\n",
       "      <td>LambdaCell(fn=<lambda>)</td>\n",
       "      <td>np.ndarray(shape=(512,))</td>\n",
       "      <td>0.159790</td>\n",
       "    </tr>\n",
       "    <tr>\n",
       "      <th>19</th>\n",
       "      <td>allmovie</td>\n",
       "      <td>910</td>\n",
       "      <td>58449</td>\n",
       "      <td>LambdaCell(fn=<lambda>)</td>\n",
       "      <td>np.ndarray(shape=(512,))</td>\n",
       "      <td>0.158203</td>\n",
       "    </tr>\n",
       "  </tbody>\n",
       "</table>"
      ],
      "text/plain": [
       "DataPanel(nrows: 20, ncols: 6)"
      ]
     },
     "execution_count": 155,
     "metadata": {},
     "output_type": "execute_result"
    }
   ],
   "source": [
    "mk.config.DisplayOptions.max_rows = 40\n",
    "\n",
    "dp = score_dp\n",
    "prob_indices = (dp[\"prob\"] > 0.5).data.numpy().astype(bool)\n",
    "attr_emb = dp.lz[prob_indices][\"emb\"].data.mean(axis=0) #average embedding of predicted lung images\n",
    "ref_emb = dp.lz[dp[target] == 1][\"emb\"].data.mean(axis=0) #average embedding of true lung images\n",
    "\n",
    "#error_1_indices = ((dp[\"prob\"] > 0.5).data.numpy().astype(bool)) & ((dp[target] == 0).data.astype(bool))\n",
    "#error_1_emb =  dp.lz[error_1_indices][\"emb\"].data.mean(axis=0)\n",
    "\n",
    "#error_2_indices = ((dp[\"prob\"] < 0.5).data.numpy().astype(bool)) & ((dp[target] == 1).data.astype(bool))\n",
    "#error_2_emb =  dp.lz[error_2_indices][\"emb\"].data.mean(axis=0)\n",
    "\n",
    "scores = np.dot(words_dp[\"emb\"].data, attr_emb - ref_emb)\n",
    "words_dp[\"score\"] = scores\n",
    "words_dp.lz[(-scores).argsort()[:20]]"
   ]
  },
  {
   "cell_type": "markdown",
   "id": "2f3ddcae-cfad-408f-8930-6fc3c7870ceb",
   "metadata": {},
   "source": [
    "### Analyze with Multimodal Embeddings"
   ]
  },
  {
   "cell_type": "code",
   "execution_count": null,
   "id": "ce26584a-b9ba-408c-a544-c1eb82c8337b",
   "metadata": {},
   "outputs": [],
   "source": []
  }
 ],
 "metadata": {
  "kernelspec": {
   "display_name": "Python 3 (ipykernel)",
   "language": "python",
   "name": "python3"
  },
  "language_info": {
   "codemirror_mode": {
    "name": "ipython",
    "version": 3
   },
   "file_extension": ".py",
   "mimetype": "text/x-python",
   "name": "python",
   "nbconvert_exporter": "python",
   "pygments_lexer": "ipython3",
   "version": "3.8.10"
  }
 },
 "nbformat": 4,
 "nbformat_minor": 5
}
