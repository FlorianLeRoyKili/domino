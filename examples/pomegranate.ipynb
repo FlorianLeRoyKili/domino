{
 "cells": [
  {
   "cell_type": "code",
   "execution_count": 8,
   "metadata": {},
   "outputs": [],
   "source": [
    "import pomegranate as pg\n",
    "import numpy as np\n"
   ]
  },
  {
   "cell_type": "code",
   "execution_count": 4,
   "metadata": {},
   "outputs": [],
   "source": [
    "d1 = pg.MultivariateGaussianDistribution([1, 6, 3], [[1, 0, 0], [0, 1, 0], [0, 0, 1]])\n",
    "d2 = pg.MultivariateGaussianDistribution([2, 8, 4], [[1, 0, 0], [0, 1, 0], [0, 0, 2]])\n",
    "d3 = pg.MultivariateGaussianDistribution([0, 4, 8], [[2, 0, 0], [0, 3, 0], [0, 0, 1]])\n",
    "model = pg.GeneralMixtureModel([d1, d2, d3], weights=[0.25, 0.60, 0.15])"
   ]
  },
  {
   "cell_type": "code",
   "execution_count": 11,
   "metadata": {},
   "outputs": [],
   "source": [
    "\n",
    "d1 = pg.IndependentComponentsDistribution([\n",
    "        pg.DiscreteDistribution({0: 0.5,1: 0.5}),\n",
    "        pg.MultivariateGaussianDistribution([1, 6, 3], [[1, 0, 0], [0, 1, 0], [0, 0, 1]])\n",
    "    ]\n",
    ")"
   ]
  },
  {
   "cell_type": "code",
   "execution_count": 12,
   "metadata": {},
   "outputs": [
    {
     "data": {
      "text/plain": [
       "{\n",
       "    \"class\" : \"Distribution\",\n",
       "    \"name\" : \"IndependentComponentsDistribution\",\n",
       "    \"parameters\" : [\n",
       "        [\n",
       "            {\n",
       "                \"class\" : \"Distribution\",\n",
       "                \"dtype\" : \"int\",\n",
       "                \"name\" : \"DiscreteDistribution\",\n",
       "                \"parameters\" : [\n",
       "                    {\n",
       "                        \"0\" : 0.5,\n",
       "                        \"1\" : 0.5\n",
       "                    }\n",
       "                ],\n",
       "                \"frozen\" : false\n",
       "            },\n",
       "            {\n",
       "                \"class\" : \"Distribution\",\n",
       "                \"name\" : \"MultivariateGaussianDistribution\",\n",
       "                \"parameters\" : [\n",
       "                    [\n",
       "                        1.0,\n",
       "                        6.0,\n",
       "                        3.0\n",
       "                    ],\n",
       "                    [\n",
       "                        [\n",
       "                            1.0,\n",
       "                            0.0,\n",
       "                            0.0\n",
       "                        ],\n",
       "                        [\n",
       "                            0.0,\n",
       "                            1.0,\n",
       "                            0.0\n",
       "                        ],\n",
       "                        [\n",
       "                            0.0,\n",
       "                            0.0,\n",
       "                            1.0\n",
       "                        ]\n",
       "                    ]\n",
       "                ],\n",
       "                \"frozen\" : false\n",
       "            }\n",
       "        ],\n",
       "        [\n",
       "            1.0,\n",
       "            1.0\n",
       "        ]\n",
       "    ],\n",
       "    \"frozen\" : false\n",
       "}"
      ]
     },
     "execution_count": 12,
     "metadata": {},
     "output_type": "execute_result"
    }
   ],
   "source": [
    "d1"
   ]
  },
  {
   "cell_type": "code",
   "execution_count": null,
   "metadata": {},
   "outputs": [],
   "source": []
  }
 ],
 "metadata": {
  "interpreter": {
   "hash": "50ef13cad8ccfeb4ef2b36454caa21f062ba9ee1c4ad830fc43375273cb16c47"
  },
  "kernelspec": {
   "display_name": "Python 3.9.7 ('domino-public')",
   "language": "python",
   "name": "python3"
  },
  "language_info": {
   "codemirror_mode": {
    "name": "ipython",
    "version": 3
   },
   "file_extension": ".py",
   "mimetype": "text/x-python",
   "name": "python",
   "nbconvert_exporter": "python",
   "pygments_lexer": "ipython3",
   "version": "3.9.7"
  },
  "orig_nbformat": 4
 },
 "nbformat": 4,
 "nbformat_minor": 2
}
