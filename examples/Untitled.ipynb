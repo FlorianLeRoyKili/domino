{
 "cells": [
  {
   "cell_type": "code",
   "execution_count": 1,
   "id": "6d847da0-55cd-4a39-89cd-1987dc2bfa8e",
   "metadata": {},
   "outputs": [],
   "source": [
    "%load_ext autoreload\n",
    "%autoreload 2"
   ]
  },
  {
   "cell_type": "code",
   "execution_count": 66,
   "id": "c0d407c1-d66e-4ed8-b0db-dff846212f0c",
   "metadata": {},
   "outputs": [],
   "source": [
    "import meerkat as mk\n",
    "import pandas as pd\n",
    "import torch\n",
    "mk.config.DisplayOptions.max_rows = 100"
   ]
  },
  {
   "cell_type": "code",
   "execution_count": 3,
   "id": "e46ca3c7-7ad6-4181-9254-615a0dac8845",
   "metadata": {},
   "outputs": [],
   "source": [
    "dp = mk.datasets.get(\n",
    "    \"celeba\", \n",
    "    dataset_dir=\"/home/common/datasets/celeba\",\n",
    "    download=False\n",
    ")"
   ]
  },
  {
   "cell_type": "code",
   "execution_count": 4,
   "id": "048b2244-fb63-450c-8033-47c35011c090",
   "metadata": {},
   "outputs": [],
   "source": [
    "dp.data.reorder([\"image\"] + dp.columns[:-1])\n",
    "\n"
   ]
  },
  {
   "cell_type": "code",
   "execution_count": 5,
   "id": "a2529c4e-1e96-479b-9040-e96dcc0e11c7",
   "metadata": {},
   "outputs": [
    {
     "data": {
      "text/html": [
       "<table border=\"1\" class=\"dataframe\">\n",
       "  <thead>\n",
       "    <tr style=\"text-align: right;\">\n",
       "      <th></th>\n",
       "      <th>image (ImageColumn)</th>\n",
       "      <th>file (PandasSeriesColumn)</th>\n",
       "      <th>identity (PandasSeriesColumn)</th>\n",
       "      <th>5_o_clock_shadow (PandasSeriesColumn)</th>\n",
       "      <th>arched_eyebrows (PandasSeriesColumn)</th>\n",
       "      <th>attractive (PandasSeriesColumn)</th>\n",
       "      <th>bags_under_eyes (PandasSeriesColumn)</th>\n",
       "      <th>bald (PandasSeriesColumn)</th>\n",
       "      <th>bangs (PandasSeriesColumn)</th>\n",
       "      <th>big_lips (PandasSeriesColumn)</th>\n",
       "      <th>big_nose (PandasSeriesColumn)</th>\n",
       "      <th>black_hair (PandasSeriesColumn)</th>\n",
       "      <th>blond_hair (PandasSeriesColumn)</th>\n",
       "      <th>blurry (PandasSeriesColumn)</th>\n",
       "      <th>brown_hair (PandasSeriesColumn)</th>\n",
       "      <th>bushy_eyebrows (PandasSeriesColumn)</th>\n",
       "      <th>chubby (PandasSeriesColumn)</th>\n",
       "      <th>double_chin (PandasSeriesColumn)</th>\n",
       "      <th>eyeglasses (PandasSeriesColumn)</th>\n",
       "      <th>goatee (PandasSeriesColumn)</th>\n",
       "      <th>gray_hair (PandasSeriesColumn)</th>\n",
       "      <th>heavy_makeup (PandasSeriesColumn)</th>\n",
       "      <th>high_cheekbones (PandasSeriesColumn)</th>\n",
       "      <th>male (PandasSeriesColumn)</th>\n",
       "      <th>mouth_slightly_open (PandasSeriesColumn)</th>\n",
       "      <th>mustache (PandasSeriesColumn)</th>\n",
       "      <th>narrow_eyes (PandasSeriesColumn)</th>\n",
       "      <th>no_beard (PandasSeriesColumn)</th>\n",
       "      <th>oval_face (PandasSeriesColumn)</th>\n",
       "      <th>pale_skin (PandasSeriesColumn)</th>\n",
       "      <th>pointy_nose (PandasSeriesColumn)</th>\n",
       "      <th>receding_hairline (PandasSeriesColumn)</th>\n",
       "      <th>rosy_cheeks (PandasSeriesColumn)</th>\n",
       "      <th>sideburns (PandasSeriesColumn)</th>\n",
       "      <th>smiling (PandasSeriesColumn)</th>\n",
       "      <th>straight_hair (PandasSeriesColumn)</th>\n",
       "      <th>wavy_hair (PandasSeriesColumn)</th>\n",
       "      <th>wearing_earrings (PandasSeriesColumn)</th>\n",
       "      <th>wearing_hat (PandasSeriesColumn)</th>\n",
       "      <th>wearing_lipstick (PandasSeriesColumn)</th>\n",
       "      <th>wearing_necklace (PandasSeriesColumn)</th>\n",
       "      <th>wearing_necktie (PandasSeriesColumn)</th>\n",
       "      <th>young (PandasSeriesColumn)</th>\n",
       "      <th>img_path (PandasSeriesColumn)</th>\n",
       "      <th>image_id (PandasSeriesColumn)</th>\n",
       "      <th>split (PandasSeriesColumn)</th>\n",
       "    </tr>\n",
       "  </thead>\n",
       "  <tbody>\n",
       "    <tr>\n",
       "      <th>0</th>\n",
       "      <td><img src=\"data:image/jpeg;base64,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\"></td>\n",
       "      <td>000001.jpg</td>\n",
       "      <td>2880</td>\n",
       "      <td>0</td>\n",
       "      <td>1</td>\n",
       "      <td>1</td>\n",
       "      <td>0</td>\n",
       "      <td>0</td>\n",
       "      <td>0</td>\n",
       "      <td>0</td>\n",
       "      <td>0</td>\n",
       "      <td>0</td>\n",
       "      <td>0</td>\n",
       "      <td>0</td>\n",
       "      <td>1</td>\n",
       "      <td>0</td>\n",
       "      <td>0</td>\n",
       "      <td>0</td>\n",
       "      <td>0</td>\n",
       "      <td>0</td>\n",
       "      <td>0</td>\n",
       "      <td>1</td>\n",
       "      <td>1</td>\n",
       "      <td>0</td>\n",
       "      <td>1</td>\n",
       "      <td>0</td>\n",
       "      <td>0</td>\n",
       "      <td>1</td>\n",
       "      <td>0</td>\n",
       "      <td>0</td>\n",
       "      <td>1</td>\n",
       "      <td>0</td>\n",
       "      <td>0</td>\n",
       "      <td>0</td>\n",
       "      <td>1</td>\n",
       "      <td>1</td>\n",
       "      <td>0</td>\n",
       "      <td>1</td>\n",
       "      <td>0</td>\n",
       "      <td>1</td>\n",
       "      <td>0</td>\n",
       "      <td>0</td>\n",
       "      <td>1</td>\n",
       "      <td>img_align_celeba/000001.jpg</td>\n",
       "      <td>000001.jpg</td>\n",
       "      <td>train</td>\n",
       "    </tr>\n",
       "    <tr>\n",
       "      <th>1</th>\n",
       "      <td><img src=\"data:image/jpeg;base64,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\"></td>\n",
       "      <td>000002.jpg</td>\n",
       "      <td>2937</td>\n",
       "      <td>0</td>\n",
       "      <td>0</td>\n",
       "      <td>0</td>\n",
       "      <td>1</td>\n",
       "      <td>0</td>\n",
       "      <td>0</td>\n",
       "      <td>0</td>\n",
       "      <td>1</td>\n",
       "      <td>0</td>\n",
       "      <td>0</td>\n",
       "      <td>0</td>\n",
       "      <td>1</td>\n",
       "      <td>0</td>\n",
       "      <td>0</td>\n",
       "      <td>0</td>\n",
       "      <td>0</td>\n",
       "      <td>0</td>\n",
       "      <td>0</td>\n",
       "      <td>0</td>\n",
       "      <td>1</td>\n",
       "      <td>0</td>\n",
       "      <td>1</td>\n",
       "      <td>0</td>\n",
       "      <td>0</td>\n",
       "      <td>1</td>\n",
       "      <td>0</td>\n",
       "      <td>0</td>\n",
       "      <td>0</td>\n",
       "      <td>0</td>\n",
       "      <td>0</td>\n",
       "      <td>0</td>\n",
       "      <td>1</td>\n",
       "      <td>0</td>\n",
       "      <td>0</td>\n",
       "      <td>0</td>\n",
       "      <td>0</td>\n",
       "      <td>0</td>\n",
       "      <td>0</td>\n",
       "      <td>0</td>\n",
       "      <td>1</td>\n",
       "      <td>img_align_celeba/000002.jpg</td>\n",
       "      <td>000002.jpg</td>\n",
       "      <td>train</td>\n",
       "    </tr>\n",
       "    <tr>\n",
       "      <th>2</th>\n",
       "      <td><img src=\"data:image/jpeg;base64,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\"></td>\n",
       "      <td>000003.jpg</td>\n",
       "      <td>8692</td>\n",
       "      <td>0</td>\n",
       "      <td>0</td>\n",
       "      <td>0</td>\n",
       "      <td>0</td>\n",
       "      <td>0</td>\n",
       "      <td>0</td>\n",
       "      <td>1</td>\n",
       "      <td>0</td>\n",
       "      <td>0</td>\n",
       "      <td>0</td>\n",
       "      <td>1</td>\n",
       "      <td>0</td>\n",
       "      <td>0</td>\n",
       "      <td>0</td>\n",
       "      <td>0</td>\n",
       "      <td>0</td>\n",
       "      <td>0</td>\n",
       "      <td>0</td>\n",
       "      <td>0</td>\n",
       "      <td>0</td>\n",
       "      <td>1</td>\n",
       "      <td>0</td>\n",
       "      <td>0</td>\n",
       "      <td>1</td>\n",
       "      <td>1</td>\n",
       "      <td>0</td>\n",
       "      <td>0</td>\n",
       "      <td>1</td>\n",
       "      <td>0</td>\n",
       "      <td>0</td>\n",
       "      <td>0</td>\n",
       "      <td>0</td>\n",
       "      <td>0</td>\n",
       "      <td>1</td>\n",
       "      <td>0</td>\n",
       "      <td>0</td>\n",
       "      <td>0</td>\n",
       "      <td>0</td>\n",
       "      <td>0</td>\n",
       "      <td>1</td>\n",
       "      <td>img_align_celeba/000003.jpg</td>\n",
       "      <td>000003.jpg</td>\n",
       "      <td>train</td>\n",
       "    </tr>\n",
       "    <tr>\n",
       "      <th>3</th>\n",
       "      <td><img src=\"data:image/jpeg;base64,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\"></td>\n",
       "      <td>000004.jpg</td>\n",
       "      <td>5805</td>\n",
       "      <td>0</td>\n",
       "      <td>0</td>\n",
       "      <td>1</td>\n",
       "      <td>0</td>\n",
       "      <td>0</td>\n",
       "      <td>0</td>\n",
       "      <td>0</td>\n",
       "      <td>0</td>\n",
       "      <td>0</td>\n",
       "      <td>0</td>\n",
       "      <td>0</td>\n",
       "      <td>0</td>\n",
       "      <td>0</td>\n",
       "      <td>0</td>\n",
       "      <td>0</td>\n",
       "      <td>0</td>\n",
       "      <td>0</td>\n",
       "      <td>0</td>\n",
       "      <td>0</td>\n",
       "      <td>0</td>\n",
       "      <td>0</td>\n",
       "      <td>0</td>\n",
       "      <td>0</td>\n",
       "      <td>0</td>\n",
       "      <td>1</td>\n",
       "      <td>0</td>\n",
       "      <td>0</td>\n",
       "      <td>1</td>\n",
       "      <td>0</td>\n",
       "      <td>0</td>\n",
       "      <td>0</td>\n",
       "      <td>0</td>\n",
       "      <td>1</td>\n",
       "      <td>0</td>\n",
       "      <td>1</td>\n",
       "      <td>0</td>\n",
       "      <td>1</td>\n",
       "      <td>1</td>\n",
       "      <td>0</td>\n",
       "      <td>1</td>\n",
       "      <td>img_align_celeba/000004.jpg</td>\n",
       "      <td>000004.jpg</td>\n",
       "      <td>train</td>\n",
       "    </tr>\n",
       "    <tr>\n",
       "      <th>4</th>\n",
       "      <td><img src=\"data:image/jpeg;base64,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\"></td>\n",
       "      <td>000005.jpg</td>\n",
       "      <td>9295</td>\n",
       "      <td>0</td>\n",
       "      <td>1</td>\n",
       "      <td>1</td>\n",
       "      <td>0</td>\n",
       "      <td>0</td>\n",
       "      <td>0</td>\n",
       "      <td>1</td>\n",
       "      <td>0</td>\n",
       "      <td>0</td>\n",
       "      <td>0</td>\n",
       "      <td>0</td>\n",
       "      <td>0</td>\n",
       "      <td>0</td>\n",
       "      <td>0</td>\n",
       "      <td>0</td>\n",
       "      <td>0</td>\n",
       "      <td>0</td>\n",
       "      <td>0</td>\n",
       "      <td>1</td>\n",
       "      <td>0</td>\n",
       "      <td>0</td>\n",
       "      <td>0</td>\n",
       "      <td>0</td>\n",
       "      <td>1</td>\n",
       "      <td>1</td>\n",
       "      <td>0</td>\n",
       "      <td>0</td>\n",
       "      <td>1</td>\n",
       "      <td>0</td>\n",
       "      <td>0</td>\n",
       "      <td>0</td>\n",
       "      <td>0</td>\n",
       "      <td>0</td>\n",
       "      <td>0</td>\n",
       "      <td>0</td>\n",
       "      <td>0</td>\n",
       "      <td>1</td>\n",
       "      <td>0</td>\n",
       "      <td>0</td>\n",
       "      <td>1</td>\n",
       "      <td>img_align_celeba/000005.jpg</td>\n",
       "      <td>000005.jpg</td>\n",
       "      <td>train</td>\n",
       "    </tr>\n",
       "    <tr>\n",
       "      <th>...</th>\n",
       "      <td>...</td>\n",
       "      <td>...</td>\n",
       "      <td>...</td>\n",
       "      <td>...</td>\n",
       "      <td>...</td>\n",
       "      <td>...</td>\n",
       "      <td>...</td>\n",
       "      <td>...</td>\n",
       "      <td>...</td>\n",
       "      <td>...</td>\n",
       "      <td>...</td>\n",
       "      <td>...</td>\n",
       "      <td>...</td>\n",
       "      <td>...</td>\n",
       "      <td>...</td>\n",
       "      <td>...</td>\n",
       "      <td>...</td>\n",
       "      <td>...</td>\n",
       "      <td>...</td>\n",
       "      <td>...</td>\n",
       "      <td>...</td>\n",
       "      <td>...</td>\n",
       "      <td>...</td>\n",
       "      <td>...</td>\n",
       "      <td>...</td>\n",
       "      <td>...</td>\n",
       "      <td>...</td>\n",
       "      <td>...</td>\n",
       "      <td>...</td>\n",
       "      <td>...</td>\n",
       "      <td>...</td>\n",
       "      <td>...</td>\n",
       "      <td>...</td>\n",
       "      <td>...</td>\n",
       "      <td>...</td>\n",
       "      <td>...</td>\n",
       "      <td>...</td>\n",
       "      <td>...</td>\n",
       "      <td>...</td>\n",
       "      <td>...</td>\n",
       "      <td>...</td>\n",
       "      <td>...</td>\n",
       "      <td>...</td>\n",
       "      <td>...</td>\n",
       "      <td>...</td>\n",
       "      <td>...</td>\n",
       "    </tr>\n",
       "    <tr>\n",
       "      <th>15</th>\n",
       "      <td><img src=\"data:image/jpeg;base64,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\"></td>\n",
       "      <td>000016.jpg</td>\n",
       "      <td>4905</td>\n",
       "      <td>1</td>\n",
       "      <td>0</td>\n",
       "      <td>0</td>\n",
       "      <td>1</td>\n",
       "      <td>0</td>\n",
       "      <td>0</td>\n",
       "      <td>0</td>\n",
       "      <td>0</td>\n",
       "      <td>0</td>\n",
       "      <td>0</td>\n",
       "      <td>0</td>\n",
       "      <td>0</td>\n",
       "      <td>0</td>\n",
       "      <td>0</td>\n",
       "      <td>0</td>\n",
       "      <td>0</td>\n",
       "      <td>0</td>\n",
       "      <td>0</td>\n",
       "      <td>0</td>\n",
       "      <td>0</td>\n",
       "      <td>1</td>\n",
       "      <td>0</td>\n",
       "      <td>0</td>\n",
       "      <td>0</td>\n",
       "      <td>0</td>\n",
       "      <td>0</td>\n",
       "      <td>0</td>\n",
       "      <td>0</td>\n",
       "      <td>0</td>\n",
       "      <td>0</td>\n",
       "      <td>0</td>\n",
       "      <td>1</td>\n",
       "      <td>1</td>\n",
       "      <td>0</td>\n",
       "      <td>0</td>\n",
       "      <td>0</td>\n",
       "      <td>0</td>\n",
       "      <td>0</td>\n",
       "      <td>0</td>\n",
       "      <td>1</td>\n",
       "      <td>img_align_celeba/000016.jpg</td>\n",
       "      <td>000016.jpg</td>\n",
       "      <td>train</td>\n",
       "    </tr>\n",
       "    <tr>\n",
       "      <th>16</th>\n",
       "      <td><img src=\"data:image/jpeg;base64,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\"></td>\n",
       "      <td>000017.jpg</td>\n",
       "      <td>667</td>\n",
       "      <td>0</td>\n",
       "      <td>0</td>\n",
       "      <td>0</td>\n",
       "      <td>0</td>\n",
       "      <td>0</td>\n",
       "      <td>0</td>\n",
       "      <td>0</td>\n",
       "      <td>0</td>\n",
       "      <td>1</td>\n",
       "      <td>0</td>\n",
       "      <td>0</td>\n",
       "      <td>0</td>\n",
       "      <td>0</td>\n",
       "      <td>0</td>\n",
       "      <td>0</td>\n",
       "      <td>0</td>\n",
       "      <td>0</td>\n",
       "      <td>0</td>\n",
       "      <td>0</td>\n",
       "      <td>1</td>\n",
       "      <td>0</td>\n",
       "      <td>1</td>\n",
       "      <td>0</td>\n",
       "      <td>0</td>\n",
       "      <td>1</td>\n",
       "      <td>1</td>\n",
       "      <td>0</td>\n",
       "      <td>0</td>\n",
       "      <td>0</td>\n",
       "      <td>0</td>\n",
       "      <td>0</td>\n",
       "      <td>1</td>\n",
       "      <td>1</td>\n",
       "      <td>0</td>\n",
       "      <td>0</td>\n",
       "      <td>0</td>\n",
       "      <td>0</td>\n",
       "      <td>0</td>\n",
       "      <td>0</td>\n",
       "      <td>1</td>\n",
       "      <td>img_align_celeba/000017.jpg</td>\n",
       "      <td>000017.jpg</td>\n",
       "      <td>train</td>\n",
       "    </tr>\n",
       "    <tr>\n",
       "      <th>17</th>\n",
       "      <td><img src=\"data:image/jpeg;base64,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\"></td>\n",
       "      <td>000018.jpg</td>\n",
       "      <td>2464</td>\n",
       "      <td>0</td>\n",
       "      <td>1</td>\n",
       "      <td>0</td>\n",
       "      <td>0</td>\n",
       "      <td>0</td>\n",
       "      <td>0</td>\n",
       "      <td>0</td>\n",
       "      <td>1</td>\n",
       "      <td>0</td>\n",
       "      <td>1</td>\n",
       "      <td>0</td>\n",
       "      <td>0</td>\n",
       "      <td>0</td>\n",
       "      <td>0</td>\n",
       "      <td>0</td>\n",
       "      <td>0</td>\n",
       "      <td>0</td>\n",
       "      <td>0</td>\n",
       "      <td>1</td>\n",
       "      <td>1</td>\n",
       "      <td>0</td>\n",
       "      <td>1</td>\n",
       "      <td>0</td>\n",
       "      <td>1</td>\n",
       "      <td>1</td>\n",
       "      <td>0</td>\n",
       "      <td>0</td>\n",
       "      <td>1</td>\n",
       "      <td>0</td>\n",
       "      <td>1</td>\n",
       "      <td>0</td>\n",
       "      <td>1</td>\n",
       "      <td>0</td>\n",
       "      <td>1</td>\n",
       "      <td>1</td>\n",
       "      <td>0</td>\n",
       "      <td>1</td>\n",
       "      <td>1</td>\n",
       "      <td>0</td>\n",
       "      <td>0</td>\n",
       "      <td>img_align_celeba/000018.jpg</td>\n",
       "      <td>000018.jpg</td>\n",
       "      <td>train</td>\n",
       "    </tr>\n",
       "    <tr>\n",
       "      <th>18</th>\n",
       "      <td><img src=\"data:image/jpeg;base64,/9j/4AAQSkZJRgABAQAAAQABAAD/2wBDAAgGBgcGBQgHBwcJCQgKDBQNDAsLDBkSEw8UHRofHh0aHBwgJC4nICIsIxwcKDcpLDAxNDQ0Hyc5PTgyPC4zNDL/2wBDAQkJCQwLDBgNDRgyIRwhMjIyMjIyMjIyMjIyMjIyMjIyMjIyMjIyMjIyMjIyMjIyMjIyMjIyMjIyMjIyMjIyMjL/wAARCACAAGkDASIAAhEBAxEB/8QAHwAAAQUBAQEBAQEAAAAAAAAAAAECAwQFBgcICQoL/8QAtRAAAgEDAwIEAwUFBAQAAAF9AQIDAAQRBRIhMUEGE1FhByJxFDKBkaEII0KxwRVS0fAkM2JyggkKFhcYGRolJicoKSo0NTY3ODk6Q0RFRkdISUpTVFVWV1hZWmNkZWZnaGlqc3R1dnd4eXqDhIWGh4iJipKTlJWWl5iZmqKjpKWmp6ipqrKztLW2t7i5usLDxMXGx8jJytLT1NXW19jZ2uHi4+Tl5ufo6erx8vP09fb3+Pn6/8QAHwEAAwEBAQEBAQEBAQAAAAAAAAECAwQFBgcICQoL/8QAtREAAgECBAQDBAcFBAQAAQJ3AAECAxEEBSExBhJBUQdhcRMiMoEIFEKRobHBCSMzUvAVYnLRChYkNOEl8RcYGRomJygpKjU2Nzg5OkNERUZHSElKU1RVVldYWVpjZGVmZ2hpanN0dXZ3eHl6goOEhYaHiImKkpOUlZaXmJmaoqOkpaanqKmqsrO0tba3uLm6wsPExcbHyMnK0tPU1dbX2Nna4uPk5ebn6Onq8vP09fb3+Pn6/9oADAMBAAIRAxEAPwDb0uSfSblbkJuYetbdzr11ejdnb7CqLIBFsJ5NIIljXPeuBN23OjlLdrqssDbuc/zrVfxfMbfy40Afpk1zpkG2o0POapNrqKyJ5tQupZmnlcncema0rDxHNZEKx3L6VgvuOfSmGCUruArNtp3W4OJ38HiyDGZwQuO1c3r3ieae7D2busY/hJ4NY6Q3bJxE+31xwKbNYTIA0o2p6+9N1JtWZPKMvtYuruPyy7AdeKradq9zBdo/mMdh4yauiwjVNzH5qqxWI8xm6jtii+pVkejaH4la/QCZMHOM+tdMrBhwa808PRx2s3mSS4x0BrtrG/iYbi4y3bNdUJ6asyaNaimLKjnCuCafWt0SeVXAJTcOCKznmkPy5OavXp2IcHrWazFWBrz+p0kgcqOvNIkheQDNQeZvJ5xmtPRdOa5zPL8sEfVj39hTYGlY2IuI97nCD2q+qWVswA2K/qSKw7/VGmLWtm4jjTgkD7o/xqtaNHEcgl37sT39yaEirHS3d6FVI7eRDMx9c8d8077RcJGfMtI5U9VO4/WuPmmmkufP89i+SoAPIA9PWp01C/twZYp47hV5dGyrr+VMOU6CSOx1aCSO1ZY7lPvR9CPqOorAIktCUkGGU4INXLbU7bV5FWZWgvIxlZFGJE98jhlq/PZ/2rBJFJsXUoV3AgYEq9mFJicTBac7s5OaUXtwuNshGD61WeK4R9kiFWBxTGjnyMVEtFck37DxFc210uG3+orf/wCEwm/54ivPhI8ExbBzU/8AaJ9az9tOOiFyo0bhFkQHPAqtLEGiDZxg1WlumwuDTUud4wzY5rXnZTLNtYG5vEQHCnlj6CtrXL4WGmraWgwSAoI7H/P64ptgES1MvAUjLH2HOPxOK5++uJZ71x9+Regz/Ef8/pRe5cVcdZwGUmFDhF5kc8ZPpV6SSOBGjjIB24AxnFZN3qK6XDHaxDfO3AHv3JrX0i3aaIPNzkdKHKxoomDdRyRtGyyOjBeWHXOetXLWXznhW4ZRM3EdwnAkH91q1NWtFaPCgZxj61y7pJAGRCWQn7ucc+3oaOa4nE17uzktGS5t8psf04U/4f5710CXwlt7O/iXZLGWGB6gZZD+HIrn9G1f7XG0Fw4kKDZJkffQ8A/UdDV61SaxvriwDbhMvnwE9pYxnH4rQKxra1bJIqXVvyJQHC/4Vz/n7mwOMVvwstzoc0YJJt23IR/dYZFcrMzeZleM84pbmbVi9J5TJggE1U8iP0pVbjk07dH6ihoRSuWAG9apwyszfU8g1oeSQh6Va0rS1utRgiwCpcFue1OyaEa8kRt9Kgh/jkKpgemdx/pXLW9wI5Lu8kbIRsLnu54H8zXZ6rhtcs7deiRySbR9MCvONUdoRbW4P+tmZ29zk4rNbm8FoW9Ptmv9Tec8gHANeg2UCxwKB1xXC2Ul1pdn5iLaj3lkxmp7TxywkEVxZFf+mkLb1p8rtctvodleQB1wM5rmtQsduTjr1A71v294LmHzVOVxkVzGseJIY5Dbx2kk0ucZLbVH4mkk76FXSWphXFzNpOrwXqJuQN+8AHDqeDXe3QE2n2+o237yS3Kyqw6uAMj803D8q4O6OoTQb2NmFbkw7if1rtvBc/2rS59OlUCWBQVGf4eo/I5/OqbsQ9Vc2dGhikvb63iH7p4FeP3U52/piuRuowt3JGRtKsQVPaus8LAx6wEfgrA0Jz6o/H6EVleNdLa01F7mMYjm5OOx70JXV0YT0djDkxgYbpUf4VHBktt61b8s+lG25IxidpBroPCyq107D+DvWC7KFLZ4rpvDtubbRprluHlOR9BR0GtWKo+1+IbyUdIrcqp+prg5IEnntHYZ2Ow/HJFegaCN82ou3cqlcRdQvbTXKlf9TOT/AF/rWbOqFrk+p+EFvWS4SPzfk2lWJx9R6Gq9h4JaOSNgpi2n5sdW9jXaaZcCW3Rg3ykZrSM0QKqMZbitIzdrBJJO5HpGlrFabGHQEVyfiDwh9ruPOAJBU5X39a9DtDCycSL09ahlki3NGcHIp2tqQm3ozya08GmO4id90aocnBOW/wDrVt6RP/ZfjaGNf9S0BEn0JwK6PUgqg7egrldFkXUvEmoTghlh2wqfXAJ/mazlJt3NLWjY6+Iix8a+X0WQ7lP1A/wrf8R6YNS09kCgsR8ufX0rmL8v9s0y7Dfc/dNn07H+YrtY3+0W7RE4fGQff1rSlJao5qqejPIfsZtrsrz8pwQan/A10uvWRS93sgIcZUj17g/zrJ+zJ6NSkncgzbCykvJ44hkkkZGK72eBLezS2HHyEY9gP/r1JpWkw6aplYAynjA5xUepMQZpj1it/wBWP/1qUnoXBamPoIOb0f8APQ4T3I5FZ2sWatdXUwU7Ljy2/MEf0FSWjvHaWTRnDNMXyPQE/wCFakxi1GwNwg6bQyf3WDDI/X9ag1WjOY8P3LLC1qx+aJivPpXQB4WUiR0HqWOMVxEupw6d42vNOJ2k7WAPuBW1d6ZYahGJLmNpGA6BiM/lV27miaZbgs7NLghdSQ2xzvUzHIz6Vv8A2jT1tVS1nifHAIfJ/HvXDw6doiSKNl6rA48vzDiuis9J0u3iEsNjHE/Ynlh+NJ2Q5Iqa3evFbSHvg4rE8Axt5d3Mx5kmLj6Y4/lTfEt291crp1p80rnacdq2vDlp9nt5NgACuoUe3T+tTtEmTuaNzMWsZGPWNxtHuD/hmumtbweXDKD935SPSuRvZGaGWFf4nGf++f8A69a+js8qMpz0x+dZp2YpR927N3WYBJbNJgcfNiuVyn91vyrt7iIfY3WRdw24OOeMVyn2O1/57j8mrrkjkRvwjcyLgYHJxWJ4guNmk3rD70kqxj+VbMJEa4P3ipNcvqM0c/kRyH5Fmed/op/xrGUuhvFFWGUNetbJ0tkWM/XGT/Ojwzck6rf2jD5Wb5fqBTLKIx6/erwcKWY+/FQaLG66rHMuQZJ+OeoHWs5aGm6PN/ibBLafECa4QlS6RujD2AH9K6Pw34sjktVhvvllUcMejVY+LmnR3KabrFsA0Tloiw7H0/nXFWMWEGRXW7SgjOGjZ6xb+IdLX7xiH1xWP4j8e2dvC1vpuJrlhgbeie5NcBdKUPAJLHCgdzT7bTv9NS3AySQHb37/AIVKprdluXQ67wdYz3Mj6jcFjI52rnqxY4z7DANd5p9m0UZTbyRk/Ut/gKz/AArbRwadazqmEa6VVB9MECusvo1shcT4A2jK+5PQVhJNu/QXMloYbadvnmk28DJH16D+RrY0OzEIJbrnOP5VLp/ltbyMcHBAPucVatz5cTNgDdJhjSUdUxSlo0Xo3LdR14o+zJ/zxirDu9TmhmAjVsBtp9qj/tS//wCeCf8AfddcXdHO4j5JCFupcjCDYuO/PNcXqshWyihBHnXDqo/3Acn8z/Kum1SYWmkHLbQz4LfTqa4GSd9R1WSYHCxoQg9B0rlk9TpgtDotAY3UeqXx5EjMEPsOP5imxH7Nq8Nug/1UMhJ/2thJ/XFaPh2NYtNZNuMR5C+wJ/xrnZL37N4osy7fKdxmJ9GBB/n+lFruwXG280N74XudLvm2x3c/lwOwzsk25B/P+dcJGvkKUfhlJUj36V0niiKe0g0XTFUiQXMtwx+p2p+i5/GqJlWz1SW7ltTNA0zxlh/yzJ53fUV0Qjsib21KaWE9nLJeXSx7IIiyBZA2HPAzjvRp8Qj+wPuJR5Vyx9D3/WmWNvcTy3/lOzWzKkn7zlVUkggg/n+ArZsLZLrSlYKphRtkbhNqnb0wKqquVXREHdno/hi3DeHxDIAJIZcn2YGtfxGhuLGAr90Sq7+4H/18VyfhPVS9sbSTiUfIxz97jg/pXZCUNDGWwVQ7Wrnva6Ka1TMywJhuZoj92R8qewbqPzyfyrejizbyRNwx5/Gs66tPKeOVMmBvlOOwPT8jWjazFhslxvTjPqKcFrZim7q6OZ1m7axuRI6D5hjp+f8An3ql/bqf3X/74H+NafjO2aTRpJVyr27Ak/3lP+f0rzf7V/03P5V1QWhg2f/Z\"></td>\n",
       "      <td>000019.jpg</td>\n",
       "      <td>2929</td>\n",
       "      <td>0</td>\n",
       "      <td>1</td>\n",
       "      <td>1</td>\n",
       "      <td>0</td>\n",
       "      <td>0</td>\n",
       "      <td>0</td>\n",
       "      <td>0</td>\n",
       "      <td>0</td>\n",
       "      <td>0</td>\n",
       "      <td>1</td>\n",
       "      <td>0</td>\n",
       "      <td>0</td>\n",
       "      <td>0</td>\n",
       "      <td>0</td>\n",
       "      <td>0</td>\n",
       "      <td>0</td>\n",
       "      <td>0</td>\n",
       "      <td>0</td>\n",
       "      <td>1</td>\n",
       "      <td>0</td>\n",
       "      <td>0</td>\n",
       "      <td>0</td>\n",
       "      <td>0</td>\n",
       "      <td>0</td>\n",
       "      <td>1</td>\n",
       "      <td>1</td>\n",
       "      <td>1</td>\n",
       "      <td>0</td>\n",
       "      <td>0</td>\n",
       "      <td>0</td>\n",
       "      <td>0</td>\n",
       "      <td>0</td>\n",
       "      <td>0</td>\n",
       "      <td>1</td>\n",
       "      <td>0</td>\n",
       "      <td>0</td>\n",
       "      <td>1</td>\n",
       "      <td>1</td>\n",
       "      <td>0</td>\n",
       "      <td>1</td>\n",
       "      <td>img_align_celeba/000019.jpg</td>\n",
       "      <td>000019.jpg</td>\n",
       "      <td>train</td>\n",
       "    </tr>\n",
       "    <tr>\n",
       "      <th>19</th>\n",
       "      <td><img src=\"data:image/jpeg;base64,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\"></td>\n",
       "      <td>000020.jpg</td>\n",
       "      <td>2782</td>\n",
       "      <td>0</td>\n",
       "      <td>0</td>\n",
       "      <td>0</td>\n",
       "      <td>0</td>\n",
       "      <td>0</td>\n",
       "      <td>0</td>\n",
       "      <td>0</td>\n",
       "      <td>0</td>\n",
       "      <td>1</td>\n",
       "      <td>0</td>\n",
       "      <td>0</td>\n",
       "      <td>0</td>\n",
       "      <td>0</td>\n",
       "      <td>1</td>\n",
       "      <td>0</td>\n",
       "      <td>0</td>\n",
       "      <td>1</td>\n",
       "      <td>0</td>\n",
       "      <td>0</td>\n",
       "      <td>0</td>\n",
       "      <td>1</td>\n",
       "      <td>1</td>\n",
       "      <td>0</td>\n",
       "      <td>1</td>\n",
       "      <td>0</td>\n",
       "      <td>0</td>\n",
       "      <td>0</td>\n",
       "      <td>0</td>\n",
       "      <td>0</td>\n",
       "      <td>0</td>\n",
       "      <td>1</td>\n",
       "      <td>0</td>\n",
       "      <td>0</td>\n",
       "      <td>0</td>\n",
       "      <td>0</td>\n",
       "      <td>0</td>\n",
       "      <td>0</td>\n",
       "      <td>0</td>\n",
       "      <td>0</td>\n",
       "      <td>1</td>\n",
       "      <td>img_align_celeba/000020.jpg</td>\n",
       "      <td>000020.jpg</td>\n",
       "      <td>train</td>\n",
       "    </tr>\n",
       "  </tbody>\n",
       "</table>"
      ],
      "text/plain": [
       "DataPanel(nrows: 20, ncols: 46)"
      ]
     },
     "execution_count": 5,
     "metadata": {},
     "output_type": "execute_result"
    }
   ],
   "source": [
    "dp.head(20)"
   ]
  },
  {
   "cell_type": "code",
   "execution_count": 24,
   "id": "eee1055a-0096-4a78-a1af-05440c3599b6",
   "metadata": {},
   "outputs": [],
   "source": [
    "from domino.eval.utils import induce_correlation\n",
    "\n",
    "idxs = induce_correlation(\n",
    "    dp=dp,\n",
    "    corr=0.8,\n",
    "    n=30_000,\n",
    "    attr_a=\"eyeglasses\",\n",
    "    attr_b=\"wearing_necktie\"\n",
    ")\n",
    "corr_dp = dp.lz[idxs]"
   ]
  },
  {
   "cell_type": "code",
   "execution_count": 26,
   "id": "a6d82a0b-32e0-446b-8446-97ab05065b63",
   "metadata": {},
   "outputs": [],
   "source": [
    "from domino.eval.train import train"
   ]
  },
  {
   "cell_type": "code",
   "execution_count": 39,
   "id": "3aaf6f1b-93eb-4665-9872-db7d2ad61a82",
   "metadata": {},
   "outputs": [
    {
     "data": {
      "text/plain": [
       "train    24132\n",
       "test      2974\n",
       "valid     2891\n",
       "Name: col, dtype: int64"
      ]
     },
     "execution_count": 39,
     "metadata": {},
     "output_type": "execute_result"
    }
   ],
   "source": [
    "corr_dp[\"split\"] = [\"train\" if "
   ]
  },
  {
   "cell_type": "code",
   "execution_count": 67,
   "id": "66984f92-0959-4187-a311-a0da95ae0ba5",
   "metadata": {},
   "outputs": [],
   "source": [
    "corr_dp[\"split\"] = pd.Series(np.random.choice([\"train\", \"valid\"], len(corr_dp), p=[0.6, 0.4]))"
   ]
  },
  {
   "cell_type": "code",
   "execution_count": 116,
   "id": "fdfa788c-6afa-4457-80c2-8c84a03137ff",
   "metadata": {},
   "outputs": [
    {
     "name": "stderr",
     "output_type": "stream",
     "text": [
      "[2022-01-25 00:16:24,178][INFO][pytorch_lightning.utilities.seed:69] :: Global seed set to 123\n",
      "/home/common/envs/conda/envs/domino-release/lib/python3.8/site-packages/torchmetrics/utilities/prints.py:36: UserWarning: Metric `AUROC` will save all targets and predictions in buffer. For large datasets this may lead to large memory footprint.\n",
      "  warnings.warn(*args, **kwargs)\n",
      "[2022-01-25 00:16:24,365][INFO][pytorch_lightning.utilities.distributed:1570] :: GPU available: True, used: True\n",
      "[2022-01-25 00:16:24,366][INFO][pytorch_lightning.utilities.distributed:1573] :: TPU available: False, using: 0 TPU cores\n",
      "[2022-01-25 00:16:24,367][INFO][pytorch_lightning.utilities.distributed:1576] :: IPU available: False, using: 0 IPUs\n",
      "[2022-01-25 00:16:24,397][INFO][pytorch_lightning.accelerators.gpu:59] :: LOCAL_RANK: 0 - CUDA_VISIBLE_DEVICES: [0]\n",
      "[2022-01-25 00:16:24,528][INFO][pytorch_lightning.callbacks.model_summary:73] :: \n",
      "  | Name    | Type       | Params\n",
      "---------------------------------------\n",
      "0 | model   | ResNet     | 11.2 M\n",
      "1 | metrics | ModuleDict | 0     \n",
      "---------------------------------------\n",
      "11.2 M    Trainable params\n",
      "0         Non-trainable params\n",
      "11.2 M    Total params\n",
      "44.710    Total estimated model params size (MB)\n"
     ]
    },
    {
     "data": {
      "application/vnd.jupyter.widget-view+json": {
       "model_id": "",
       "version_major": 2,
       "version_minor": 0
      },
      "text/plain": [
       "Validation sanity check: 0it [00:00, ?it/s]"
      ]
     },
     "metadata": {},
     "output_type": "display_data"
    },
    {
     "name": "stderr",
     "output_type": "stream",
     "text": [
      "/home/common/envs/conda/envs/domino-release/lib/python3.8/site-packages/pytorch_lightning/trainer/data_loading.py:453: UserWarning: Your `val_dataloader` has `shuffle=True`,it is strongly recommended that you turn this off for val/test/predict dataloaders.\n",
      "  rank_zero_warn(\n",
      "[2022-01-25 00:16:26,174][INFO][pytorch_lightning.utilities.seed:69] :: Global seed set to 123\n"
     ]
    },
    {
     "data": {
      "application/vnd.jupyter.widget-view+json": {
       "model_id": "3c75d4aac975442f92cc792a210873ff",
       "version_major": 2,
       "version_minor": 0
      },
      "text/plain": [
       "Training: 0it [00:00, ?it/s]"
      ]
     },
     "metadata": {},
     "output_type": "display_data"
    },
    {
     "data": {
      "application/vnd.jupyter.widget-view+json": {
       "model_id": "",
       "version_major": 2,
       "version_minor": 0
      },
      "text/plain": [
       "Validating: 0it [00:00, ?it/s]"
      ]
     },
     "metadata": {},
     "output_type": "display_data"
    },
    {
     "data": {
      "application/vnd.jupyter.widget-view+json": {
       "model_id": "",
       "version_major": 2,
       "version_minor": 0
      },
      "text/plain": [
       "Validating: 0it [00:00, ?it/s]"
      ]
     },
     "metadata": {},
     "output_type": "display_data"
    },
    {
     "data": {
      "application/vnd.jupyter.widget-view+json": {
       "model_id": "",
       "version_major": 2,
       "version_minor": 0
      },
      "text/plain": [
       "Validating: 0it [00:00, ?it/s]"
      ]
     },
     "metadata": {},
     "output_type": "display_data"
    },
    {
     "data": {
      "application/vnd.jupyter.widget-view+json": {
       "model_id": "",
       "version_major": 2,
       "version_minor": 0
      },
      "text/plain": [
       "Validating: 0it [00:00, ?it/s]"
      ]
     },
     "metadata": {},
     "output_type": "display_data"
    },
    {
     "data": {
      "application/vnd.jupyter.widget-view+json": {
       "model_id": "",
       "version_major": 2,
       "version_minor": 0
      },
      "text/plain": [
       "Validating: 0it [00:00, ?it/s]"
      ]
     },
     "metadata": {},
     "output_type": "display_data"
    }
   ],
   "source": [
    "model = train(\n",
    "    dp=corr_dp,\n",
    "    input_column=\"image\",\n",
    "    target_column=\"wearing_necktie\",\n",
    "    config={\"pretrained\": False},\n",
    "    id_column=\"file\",\n",
    "    batch_size=128,\n",
    "    max_epochs=5\n",
    ")"
   ]
  },
  {
   "cell_type": "code",
   "execution_count": 139,
   "id": "dcf2d2ca-f8f2-4b96-a3f8-6803ce059d92",
   "metadata": {},
   "outputs": [
    {
     "data": {
      "application/vnd.jupyter.widget-view+json": {
       "model_id": "e92ed976f7f04bda82ebddf0c1f851a4",
       "version_major": 2,
       "version_minor": 0
      },
      "text/plain": [
       "  0%|          | 0/235 [00:00<?, ?it/s]"
      ]
     },
     "metadata": {},
     "output_type": "display_data"
    }
   ],
   "source": [
    "corr_dp[\"input\"] = corr_dp[\"image\"].to_lambda(model.config[\"transform\"])\n",
    "model.to(0)\n",
    "@torch.autograd.no_grad()\n",
    "def forward(batch):\n",
    "    return torch.softmax(model(batch.data.to(0)), dim=1).cpu().numpy()\n",
    "\n",
    "corr_dp[\"probs\"] = corr_dp[\"input\"].map(\n",
    "    forward, \n",
    "    is_batched_fn=True, \n",
    "    batch_size=128, \n",
    "    pbar=True,\n",
    "    num_workers=6\n",
    ")"
   ]
  },
  {
   "cell_type": "code",
   "execution_count": 140,
   "id": "db42e96d-d62a-488a-b9f6-952bed57dbbc",
   "metadata": {},
   "outputs": [],
   "source": [
    "valid_dp = corr_dp.lz[corr_dp[\"split\"] == \"valid\"]"
   ]
  },
  {
   "cell_type": "code",
   "execution_count": 141,
   "id": "065d1559-eab5-447d-9213-16678474e1fe",
   "metadata": {},
   "outputs": [
    {
     "data": {
      "text/plain": [
       "0.9540943544281387"
      ]
     },
     "execution_count": 141,
     "metadata": {},
     "output_type": "execute_result"
    }
   ],
   "source": [
    "from sklearn.metrics import roc_auc_score\n",
    "\n",
    "roc_auc_score(valid_dp[\"wearing_necktie\"].data, valid_dp[\"preds\"].data[:, 1])"
   ]
  },
  {
   "cell_type": "code",
   "execution_count": 153,
   "id": "13d4d014-4687-40e2-b6ca-4957bedad089",
   "metadata": {},
   "outputs": [
    {
     "name": "stdout",
     "output_type": "stream",
     "text": [
      "Overall Specificity:0.9912675549153763\n",
      "In-slice Specificity:0.5192307692307693\n"
     ]
    }
   ],
   "source": [
    "pos_dp = valid_dp.lz[valid_dp[\"wearing_necktie\"] != 1]\n",
    "print(f'Overall Specificity:{(pos_dp[\"probs\"][:, 0] > 0.5).mean()}')\n",
    "print(f'In-slice Specificity:{(pos_dp.lz[pos_dp[\"eyeglasses\"] == 1][\"probs\"][:, 1] > 0.5).mean()}')"
   ]
  },
  {
   "cell_type": "code",
   "execution_count": 79,
   "id": "eeca2acf-6cc1-45fd-9d92-c55511841001",
   "metadata": {},
   "outputs": [
    {
     "name": "stderr",
     "output_type": "stream",
     "text": [
      "[nltk_data] Downloading package words to /root/nltk_data...\n",
      "[nltk_data]   Package words is already up-to-date!\n",
      "Some weights of the model checkpoint at bert-base-uncased were not used when initializing BertForMaskedLM: ['cls.seq_relationship.bias', 'cls.seq_relationship.weight']\n",
      "- This IS expected if you are initializing BertForMaskedLM from the checkpoint of a model trained on another task or with another architecture (e.g. initializing a BertForSequenceClassification model from a BertForPreTraining model).\n",
      "- This IS NOT expected if you are initializing BertForMaskedLM from the checkpoint of a model that you expect to be exactly identical (initializing a BertForSequenceClassification model from a BertForSequenceClassification model).\n"
     ]
    },
    {
     "data": {
      "application/vnd.jupyter.widget-view+json": {
       "model_id": "d323d338a5114ef39355689542db454c",
       "version_major": 2,
       "version_minor": 0
      },
      "text/plain": [
       "  0%|          | 0/625 [00:00<?, ?it/s]"
      ]
     },
     "metadata": {},
     "output_type": "display_data"
    }
   ],
   "source": [
    "CELEBA_PHRASE_TEMPLATES = [\n",
    "    \"a photo of a person {} [MASK].\",\n",
    "    \"a photo of a person [MASK] {}.\",\n",
    "    \"a photo of a person [MASK] {} [MASK].\",\n",
    "    \"a photo of a person [MASK] [MASK] {}.\",\n",
    "    \"a photo of [MASK] {} person\",\n",
    "    \"[MASK] {} photo of a person\",\n",
    "]\n",
    "\n",
    "from domino.emb.clip import generate_phrases, get_wiki_words, embed_text\n",
    "\n",
    "words_dp = get_wiki_words(eng_only=True)\n",
    "\n",
    "text_dp = generate_phrases(\n",
    "    words_dp=words_dp[:10000],\n",
    "    templates=CELEBA_PHRASE_TEMPLATES\n",
    ")\n",
    "\n",
    "text_dp = embed_text(text_dp)"
   ]
  },
  {
   "cell_type": "code",
   "execution_count": 80,
   "id": "717785fc-06a3-49be-8320-470a48bd6102",
   "metadata": {},
   "outputs": [
    {
     "data": {
      "application/vnd.jupyter.widget-view+json": {
       "model_id": "091674d9be824845b0e1c4284e94584d",
       "version_major": 2,
       "version_minor": 0
      },
      "text/plain": [
       "  0%|          | 0/235 [00:00<?, ?it/s]"
      ]
     },
     "metadata": {},
     "output_type": "display_data"
    }
   ],
   "source": [
    "from domino.emb.clip import embed_text\n",
    "\n",
    "text_dp = embed_text(text_dp)"
   ]
  },
  {
   "cell_type": "code",
   "execution_count": 120,
   "id": "cdef7c66-be19-41c5-b56c-78c1ab21afd6",
   "metadata": {},
   "outputs": [
    {
     "data": {
      "application/vnd.jupyter.widget-view+json": {
       "model_id": "26f384092b2d493da391b3d06794d157",
       "version_major": 2,
       "version_minor": 0
      },
      "text/plain": [
       "  0%|          | 0/94 [00:00<?, ?it/s]"
      ]
     },
     "metadata": {},
     "output_type": "display_data"
    }
   ],
   "source": [
    "from domino.emb.clip import embed_images\n",
    "\n",
    "valid_dp = embed_images(valid_dp)"
   ]
  },
  {
   "cell_type": "code",
   "execution_count": 121,
   "id": "50e58c89-52cc-4e98-a3dd-ff0b2d301441",
   "metadata": {},
   "outputs": [],
   "source": [
    "valid_dp[\"target\"] = (valid_dp[\"wearing_necktie\"] == 1)"
   ]
  },
  {
   "cell_type": "code",
   "execution_count": 122,
   "id": "7351c966-d106-49b7-abc7-9fba85cee3b4",
   "metadata": {},
   "outputs": [],
   "source": [
    "valid_dp[\"probs\"] = torch.softmax(torch.tensor(valid_dp[\"preds\"].data), dim=-1)"
   ]
  },
  {
   "cell_type": "code",
   "execution_count": 125,
   "id": "3091ad50-8243-4cdc-a231-ca64d17f8127",
   "metadata": {},
   "outputs": [
    {
     "name": "stdout",
     "output_type": "stream",
     "text": [
      "18.7848715740029\n"
     ]
    },
    {
     "data": {
      "application/vnd.jupyter.widget-view+json": {
       "model_id": "fa03678f1f66411c9f8ff073129046fa",
       "version_major": 2,
       "version_minor": 0
      },
      "text/plain": [
       "  0%|          | 0/10 [00:00<?, ?it/s]"
      ]
     },
     "metadata": {},
     "output_type": "display_data"
    },
    {
     "name": "stderr",
     "output_type": "stream",
     "text": [
      "/pd/sabri/code/domino/domino/domino.py:481: ConvergenceWarning: Initialization 1 did not converge. Try different init parameters, or increase max_iter, tol or check for degenerate data.\n",
      "  warnings.warn(\n"
     ]
    }
   ],
   "source": [
    "from domino import DominoSDM\n",
    "\n",
    "\n",
    "domino = DominoSDM(\n",
    "    y_log_likelihood_weight=20,\n",
    "    y_hat_log_likelihood_weight=20,\n",
    "    n_mixture_components=30,\n",
    "    n_slices=10,\n",
    "    max_iter=10,\n",
    "    n_pca_components=128,\n",
    "    init_params=\"confusion\",\n",
    "    confusion_noise=3e-3\n",
    ")\n",
    "\n",
    "domino.fit(data=valid_dp, embeddings=\"emb\", targets=\"target\", pred_probs=\"probs\")\n",
    "valid_dp[\"domino_slices\"] = domino.transform(\n",
    "    data=valid_dp, embeddings=\"emb\", targets=\"target\", pred_probs=\"probs\"\n",
    ")"
   ]
  },
  {
   "cell_type": "code",
   "execution_count": 133,
   "id": "28895335-448c-494b-84ec-a7a3ed381b9b",
   "metadata": {},
   "outputs": [
    {
     "data": {
      "text/plain": [
       "1.0"
      ]
     },
     "execution_count": 133,
     "metadata": {},
     "output_type": "execute_result"
    }
   ],
   "source": [
    "slice_dp = valid_dp.lz[(-valid_dp[\"domino_slices\"].data[:, 5]).argsort()]\n",
    "slice_dp[\"target_slice\"] = ~slice_dp[\"wearing_necktie\"] & slice_dp[\"eyeglasses\"]\n",
    "slice_dp.lz[:10][\"target_slice\"].mean()"
   ]
  },
  {
   "cell_type": "code",
   "execution_count": 138,
   "id": "2ce1e03d-f4ff-4313-a5f7-542f35e8f155",
   "metadata": {},
   "outputs": [
    {
     "data": {
      "text/plain": [
       "0.8709677419354839"
      ]
     },
     "execution_count": 138,
     "metadata": {},
     "output_type": "execute_result"
    }
   ],
   "source": [
    "slice_dp = valid_dp.lz[valid_dp[\"domino_slices\"].data[:, 5] > 0.99]\n",
    "slice_dp[\"target_slice\"] = ~slice_dp[\"wearing_necktie\"] & slice_dp[\"eyeglasses\"]\n",
    "slice_dp[\"target_slice\"].mean()"
   ]
  },
  {
   "cell_type": "code",
   "execution_count": 126,
   "id": "3b928415-bd8b-421b-9a9d-62e31d905308",
   "metadata": {},
   "outputs": [
    {
     "data": {
      "application/vnd.jupyter.widget-view+json": {
       "model_id": "6ce449cdf2334b3ca74821cf6eda0fe2",
       "version_major": 2,
       "version_minor": 0
      },
      "text/plain": [
       "HBox(children=(HTML(value='<p><strong> Domino Slice Explorer </strong></p>'), Dropdown(description='Slice', in…"
      ]
     },
     "metadata": {},
     "output_type": "display_data"
    },
    {
     "data": {
      "application/vnd.jupyter.widget-view+json": {
       "model_id": "e753c61570114ed5b24bbc2d8bc1f5e8",
       "version_major": 2,
       "version_minor": 0
      },
      "text/plain": [
       "Output()"
      ]
     },
     "metadata": {},
     "output_type": "display_data"
    },
    {
     "data": {
      "application/vnd.jupyter.widget-view+json": {
       "model_id": "8e423c49efe64434acec5fa4db952797",
       "version_major": 2,
       "version_minor": 0
      },
      "text/plain": [
       "VBox(children=(HTML(value='<p> <strong> Natural language descriptions of the slice: </strong> </p>'), Output()…"
      ]
     },
     "metadata": {},
     "output_type": "display_data"
    },
    {
     "data": {
      "application/vnd.jupyter.widget-view+json": {
       "model_id": "5cc183fe55404f63ac7c197851a6328d",
       "version_major": 2,
       "version_minor": 0
      },
      "text/plain": [
       "VBox(children=(HTML(value='<p> <strong>  Examples in the slice, ranked by likelihood: </strong> </p>'), Output…"
      ]
     },
     "metadata": {},
     "output_type": "display_data"
    }
   ],
   "source": [
    "from domino import explore\n",
    "\n",
    "explore(\n",
    "    data=valid_dp,\n",
    "    embedding_column=\"emb\",\n",
    "    pred_prob_column=\"probs\",\n",
    "    target_column=\"target\",\n",
    "    slice_column=\"domino_slices\",\n",
    "    text=text_dp,\n",
    "    text_embeddings=\"emb\",\n",
    ")"
   ]
  },
  {
   "cell_type": "code",
   "execution_count": null,
   "id": "1ef1c597-fbce-4020-93b7-6cf565744b55",
   "metadata": {},
   "outputs": [],
   "source": []
  }
 ],
 "metadata": {
  "kernelspec": {
   "display_name": "Python 3 (ipykernel)",
   "language": "python",
   "name": "python3"
  },
  "language_info": {
   "codemirror_mode": {
    "name": "ipython",
    "version": 3
   },
   "file_extension": ".py",
   "mimetype": "text/x-python",
   "name": "python",
   "nbconvert_exporter": "python",
   "pygments_lexer": "ipython3",
   "version": "3.8.10"
  }
 },
 "nbformat": 4,
 "nbformat_minor": 5
}
