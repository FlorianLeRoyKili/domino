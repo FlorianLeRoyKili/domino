{
 "cells": [
  {
   "cell_type": "code",
   "execution_count": 1,
   "metadata": {},
   "outputs": [],
   "source": [
    "%load_ext autoreload\n",
    "%autoreload 2"
   ]
  },
  {
   "cell_type": "code",
   "execution_count": 4,
   "metadata": {},
   "outputs": [],
   "source": [
    "from domino.widgets import gui"
   ]
  },
  {
   "cell_type": "code",
   "execution_count": null,
   "metadata": {},
   "outputs": [],
   "source": []
  },
  {
   "cell_type": "code",
   "execution_count": 5,
   "metadata": {},
   "outputs": [],
   "source": [
    "import meerkat as mk\n",
    "import ipywidgets as widgets\n",
    "from domino import DominoSDM"
   ]
  },
  {
   "cell_type": "code",
   "execution_count": 6,
   "metadata": {},
   "outputs": [],
   "source": [
    "import os\n",
    "os.environ[\"DCBENCH_CONFIG\"] = \"/home/sabri/code/dcbench/dcbench-config.yaml\"\n",
    "\n",
    "import dcbench\n",
    "sd = dcbench.tasks[\"slice_discovery\"]"
   ]
  },
  {
   "cell_type": "code",
   "execution_count": 7,
   "metadata": {},
   "outputs": [],
   "source": [
    "problem = sd.problems[\"p_118919\"]"
   ]
  },
  {
   "cell_type": "code",
   "execution_count": 8,
   "metadata": {},
   "outputs": [
    {
     "name": "stderr",
     "output_type": "stream",
     "text": [
      "/pd/sabri/code/meerkat/meerkat/ml/__init__.py:7: ExperimentalWarning: The `meerkat.ml` module is experimental and has limited test coverage. Proceed with caution.\n",
      "  warnings.warn(\n"
     ]
    }
   ],
   "source": [
    "dp = mk.merge(problem[\"test_slices\"], problem[\"test_predictions\"], on=\"id\")\n",
    "dp = mk.merge(problem[\"base_dataset\"], dp, on=\"id\") \n",
    "dp = mk.merge(problem[\"clip\"], dp, on=\"id\") \n",
    "dp[\"image\"] = mk.ImageColumn.from_filepaths(dp[\"image\"].data)"
   ]
  },
  {
   "cell_type": "code",
   "execution_count": 9,
   "metadata": {},
   "outputs": [
    {
     "name": "stderr",
     "output_type": "stream",
     "text": [
      " 28%|█████████████████████████████████████████▋                                                                                                           | 28/100 [00:02<00:05, 13.06it/s]\n"
     ]
    }
   ],
   "source": [
    "domino = DominoSDM(config=DominoSDM.Config(weight_y_log_likelihood=10))\n",
    "\n",
    "domino.fit(data=dp, embeddings=\"emb\", targets=\"target\", pred_probs=\"probs\")\n",
    "dp[\"domino_slices\"] = domino.transform(\n",
    "    data=dp, embeddings=\"emb\", targets=\"target\", pred_probs=\"probs\"\n",
    ")"
   ]
  },
  {
   "cell_type": "code",
   "execution_count": 87,
   "metadata": {},
   "outputs": [
    {
     "data": {
      "application/vnd.jupyter.widget-view+json": {
       "model_id": "19e6773ca1dc416fafd467287c07d511",
       "version_major": 2,
       "version_minor": 0
      },
      "text/plain": [
       "HBox(children=(HTML(value='<p><strong> Domino Slice Explorer </strong></p>'), Dropdown(description='Slice', in…"
      ]
     },
     "metadata": {},
     "output_type": "display_data"
    },
    {
     "data": {
      "application/vnd.jupyter.widget-view+json": {
       "model_id": "2915b1a550714dd3893eb6368e992902",
       "version_major": 2,
       "version_minor": 0
      },
      "text/plain": [
       "FloatSlider(value=0.5, continuous_update=False, description='Slice Inclusion Threshold', max=1.0, readout_form…"
      ]
     },
     "metadata": {},
     "output_type": "display_data"
    },
    {
     "data": {
      "application/vnd.jupyter.widget-view+json": {
       "model_id": "1e402d6af6cc474bb561fb43eddb56a5",
       "version_major": 2,
       "version_minor": 0
      },
      "text/plain": [
       "Output()"
      ]
     },
     "metadata": {},
     "output_type": "display_data"
    },
    {
     "data": {
      "application/vnd.jupyter.widget-view+json": {
       "model_id": "f1c6660179a042318a514e9a5362420f",
       "version_major": 2,
       "version_minor": 0
      },
      "text/plain": [
       "HBox(children=(VBox(children=(HTML(value='<style>p{word-wrap: break-word}</style> <p>Select multiple columns w…"
      ]
     },
     "metadata": {},
     "output_type": "display_data"
    },
    {
     "data": {
      "application/vnd.jupyter.widget-view+json": {
       "model_id": "5039a5e84d8642939ba20e0c7747e45a",
       "version_major": 2,
       "version_minor": 0
      },
      "text/plain": [
       "Output()"
      ]
     },
     "metadata": {},
     "output_type": "display_data"
    }
   ],
   "source": [
    "gui(\n",
    "    data=dp,\n",
    "    embeddings=\"emb\",\n",
    "    pred_probs=\"probs\"\n",
    ") "
   ]
  },
  {
   "cell_type": "code",
   "execution_count": null,
   "metadata": {},
   "outputs": [],
   "source": []
  }
 ],
 "metadata": {
  "interpreter": {
   "hash": "980885779432fc764f62f5b941cb0edefada4ad44177b34cab2facfbd5fdbd62"
  },
  "kernelspec": {
   "display_name": "Python 3 (ipykernel)",
   "language": "python",
   "name": "python3"
  },
  "language_info": {
   "codemirror_mode": {
    "name": "ipython",
    "version": 3
   },
   "file_extension": ".py",
   "mimetype": "text/x-python",
   "name": "python",
   "nbconvert_exporter": "python",
   "pygments_lexer": "ipython3",
   "version": "3.8.10"
  }
 },
 "nbformat": 4,
 "nbformat_minor": 2
}
