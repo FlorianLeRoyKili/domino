{
 "cells": [
  {
   "cell_type": "code",
   "execution_count": 42,
   "metadata": {},
   "outputs": [
    {
     "name": "stdout",
     "output_type": "stream",
     "text": [
      "The autoreload extension is already loaded. To reload it, use:\n",
      "  %reload_ext autoreload\n"
     ]
    }
   ],
   "source": [
    "%load_ext autoreload\n",
    "%autoreload 2"
   ]
  },
  {
   "cell_type": "code",
   "execution_count": 43,
   "metadata": {},
   "outputs": [],
   "source": [
    "from domino.widgets import gui"
   ]
  },
  {
   "cell_type": "code",
   "execution_count": 44,
   "metadata": {},
   "outputs": [],
   "source": [
    "import meerkat as mk\n",
    "import ipywidgets as widgets\n",
    "from domino import DominoSDM"
   ]
  },
  {
   "cell_type": "code",
   "execution_count": 45,
   "metadata": {},
   "outputs": [],
   "source": [
    "import os\n",
    "os.environ[\"DCBENCH_CONFIG\"] = \"/home/sabri/code/dcbench/dcbench-config.yaml\"\n",
    "\n",
    "import dcbench\n",
    "sd = dcbench.tasks[\"slice_discovery\"]"
   ]
  },
  {
   "cell_type": "code",
   "execution_count": 46,
   "metadata": {},
   "outputs": [],
   "source": [
    "problem = sd.problems[\"p_118919\"]"
   ]
  },
  {
   "cell_type": "code",
   "execution_count": 47,
   "metadata": {},
   "outputs": [],
   "source": [
    "dp = mk.merge(problem[\"test_slices\"], problem[\"test_predictions\"], on=\"id\")\n",
    "dp = mk.merge(problem[\"base_dataset\"], dp, on=\"id\") \n",
    "dp = mk.merge(problem[\"clip\"], dp, on=\"id\") \n",
    "dp[\"image\"] = mk.ImageColumn.from_filepaths(dp[\"image\"].data)"
   ]
  },
  {
   "cell_type": "code",
   "execution_count": 48,
   "metadata": {},
   "outputs": [
    {
     "name": "stderr",
     "output_type": "stream",
     "text": [
      " 45%|████▌     | 45/100 [00:03<00:04, 12.40it/s]\n"
     ]
    }
   ],
   "source": [
    "domino = DominoSDM(config=DominoSDM.Config(weight_y_log_likelihood=10))\n",
    "\n",
    "domino.fit(data=dp, embeddings=\"emb\", targets=\"target\", pred_probs=\"probs\")\n",
    "dp[\"domino_slices\"] = domino.transform(\n",
    "    data=dp, embeddings=\"emb\", targets=\"target\", pred_probs=\"probs\"\n",
    ")"
   ]
  },
  {
   "cell_type": "code",
   "execution_count": 49,
   "metadata": {},
   "outputs": [
    {
     "data": {
      "application/vnd.jupyter.widget-view+json": {
       "model_id": "7271383c56214dbbbd8531ed52e2431d",
       "version_major": 2,
       "version_minor": 0
      },
      "text/plain": [
       "HBox(children=(HTML(value='<p><strong> Domino Slice Explorer </strong></p>'), Dropdown(description='Slice', in…"
      ]
     },
     "metadata": {},
     "output_type": "display_data"
    },
    {
     "data": {
      "application/vnd.jupyter.widget-view+json": {
       "model_id": "c658bad597c340f884e97ad113687b6f",
       "version_major": 2,
       "version_minor": 0
      },
      "text/plain": [
       "FloatSlider(value=0.5, continuous_update=False, description='Slice Inclusion Threshold', max=1.0, readout_form…"
      ]
     },
     "metadata": {},
     "output_type": "display_data"
    },
    {
     "data": {
      "application/vnd.jupyter.widget-view+json": {
       "model_id": "a2ea1197f8c04436bf5b6111db64d69b",
       "version_major": 2,
       "version_minor": 0
      },
      "text/plain": [
       "Output()"
      ]
     },
     "metadata": {},
     "output_type": "display_data"
    },
    {
     "data": {
      "application/vnd.jupyter.widget-view+json": {
       "model_id": "671f30fb650d45218ed2b8179873c213",
       "version_major": 2,
       "version_minor": 0
      },
      "text/plain": [
       "HBox(children=(VBox(children=(HTML(value='<style>p{word-wrap: break-word}</style> <p>Select multiple columns w…"
      ]
     },
     "metadata": {},
     "output_type": "display_data"
    },
    {
     "data": {
      "application/vnd.jupyter.widget-view+json": {
       "model_id": "929d9b75a3ee452d930cd6ea27b61221",
       "version_major": 2,
       "version_minor": 0
      },
      "text/plain": [
       "Output()"
      ]
     },
     "metadata": {},
     "output_type": "display_data"
    }
   ],
   "source": [
    "gui(\n",
    "    data=dp,\n",
    "    embeddings=\"emb\",\n",
    "    pred_probs=\"probs\"\n",
    ") "
   ]
  },
  {
   "cell_type": "code",
   "execution_count": null,
   "metadata": {},
   "outputs": [],
   "source": []
  }
 ],
 "metadata": {
  "interpreter": {
   "hash": "980885779432fc764f62f5b941cb0edefada4ad44177b34cab2facfbd5fdbd62"
  },
  "kernelspec": {
   "display_name": "Python 3 (ipykernel)",
   "language": "python",
   "name": "python3"
  },
  "language_info": {
   "codemirror_mode": {
    "name": "ipython",
    "version": 3
   },
   "file_extension": ".py",
   "mimetype": "text/x-python",
   "name": "python",
   "nbconvert_exporter": "python",
   "pygments_lexer": "ipython3",
   "version": "3.8.10"
  }
 },
 "nbformat": 4,
 "nbformat_minor": 2
}
